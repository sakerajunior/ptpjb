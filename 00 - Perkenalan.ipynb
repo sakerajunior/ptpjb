{
 "cells": [
  {
   "cell_type": "markdown",
   "metadata": {
    "slideshow": {
     "slide_type": "slide"
    }
   },
   "source": [
    "# <center><font color=\"blue\">00 - Perkenalan dan Jadwal Workshop</font>\n",
    "\n",
    "<center><img alt=\"\" src=\"images/cover_ptpjb_2021.png\"/></center> "
   ]
  },
  {
   "cell_type": "markdown",
   "metadata": {
    "slideshow": {
     "slide_type": "slide"
    }
   },
   "source": [
    "<img alt=\"\" src=\"images/bio_TS.png\" />"
   ]
  },
  {
   "cell_type": "markdown",
   "metadata": {
    "slideshow": {
     "slide_type": "slide"
    }
   },
   "source": [
    "<img alt=\"\" src=\"images/bio_sarini.png\" />"
   ]
  },
  {
   "cell_type": "code",
   "execution_count": null,
   "metadata": {
    "slideshow": {
     "slide_type": "slide"
    }
   },
   "outputs": [],
   "source": [
    "<img alt=\"\" src=\"images/bio_TS.png\" />"
   ]
  },
  {
   "cell_type": "code",
   "execution_count": null,
   "metadata": {
    "slideshow": {
     "slide_type": "slide"
    }
   },
   "outputs": [],
   "source": [
    "<img alt=\"\" src=\"images/bio_TS.png\" />"
   ]
  },
  {
   "cell_type": "markdown",
   "metadata": {},
   "source": [
    "<h3 id=\"Cakupan,-Asumsi,-dan-Batasan:\">Cakupan, Asumsi, dan Batasan:</h3>\n",
    "\n",
    "<ol>\n",
    "\t<li><strong>Teori (dasar, intuisi) 20% : Aplikasi 80%</strong>.</li>\n",
    "\t<li>Fokus ke <strong>Text Mining</strong><br />\n",
    "\tNLP dibahas sebagai fondasi dasar Text Mining.</li>\n",
    "\t<li>Bahasa: <strong>Inggris </strong>dan <strong>Indonesia</strong><br />\n",
    "\t(Bahasa lain memiliki tantangan teknis dan teori yang berbeda).</li>\n",
    "\t<li><strong>Pemula </strong>di NLP &amp;/ Text Mining dengan pengetahuan dasar Python (3.6)</li>\n",
    "\t<li><strong><u>Dasar </u>optimasi </strong>dan <strong>efisiensi </strong>model serta pemrograman.</li>\n",
    "</ol>"
   ]
  },
  {
   "cell_type": "markdown",
   "metadata": {},
   "source": [
    "<p><strong>Target Workshop:</strong></p>\n",
    "\n",
    "<ol>\n",
    "\t<li>Mengetahui dasar-dasar teori model-model di Text Mining.</li>\n",
    "\t<li>Mengetahui tahapan Text Preprocessing yang baik untuk setiap model Text Mining yang dibahas</li>\n",
    "\t<li>Mampu mengaplikasikan model-model Text Mining untuk menyelesaikan masalah seperti:<br />\n",
    "\tSegmentasi, Klasifikasi, Rekomendasi, Summary,&nbsp;Sentiment Analisis, dan Topic Modelling</li>\n",
    "\t<li>Mampu menganalisa akurasi model yang dibentuk dan menginterpretasi (serta visualisasi) hasilnya.</li>\n",
    "</ol>\n"
   ]
  },
  {
   "cell_type": "code",
   "execution_count": null,
   "metadata": {
    "slideshow": {
     "slide_type": "slide"
    }
   },
   "outputs": [],
   "source": [
    "<img alt=\"\" src=\"images/jadwal.png\" />\n",
    "\n",
    "Icebreaking"
   ]
  },
  {
   "cell_type": "code",
   "execution_count": null,
   "metadata": {},
   "outputs": [],
   "source": [
    "Instalasi software, Module, dan tools pendukung lainnya (Akun Posgres & streamlit)"
   ]
  },
  {
   "cell_type": "code",
   "execution_count": null,
   "metadata": {
    "slideshow": {
     "slide_type": "slide"
    }
   },
   "outputs": [],
   "source": [
    "Post Test, Implementasi, & Sertifikat"
   ]
  },
  {
   "cell_type": "markdown",
   "metadata": {
    "slideshow": {
     "slide_type": "slide"
    }
   },
   "source": [
    "<p><strong>Resources Tambahan</strong>:</p>\n",
    "\n",
    "<ol>\n",
    "\t<li>Di setiap slide/cell biasanya terdapat link pada istilah/konsep tertentu.</li>\n",
    "\t<li>Web/blog :&nbsp;<strong><a href=\"http://taufiksutanto.blogspot.co.id/\" target=\"_blank\">http://taufiksutanto.blogspot.com/</a>&nbsp;</strong>==&gt; Kelak akan berubah menjadi<strong> <a href=\"https://tau-data.id\" target=\"_blank\">https://tau-data.id</a></strong></li>\n",
    "\t<li>Daftar referensi berikut:</li>\n",
    "</ol>\n",
    "\n",
    "<p><strong>Daftar Pustaka:</strong></p>\n",
    "\n",
    "<ol>\n",
    "\t<li>Chopra, D., Joshi, N., &amp; Mathur, I. (2016).&nbsp;<em>Mastering Natural Language Processing with Python</em>. Packt Publishing Ltd.</li>\n",
    "\t<li>Siddhartha Chatterjee, Michal Krystyanczuk. (2017).Python Social Media Analytics. Packt Publishing Ltd.</li>\n",
    "\t<li>Farzindar, A., &amp; Inkpen, D. (2017). Natural language processing for social media.&nbsp;<em>Synthesis Lectures on Human Language Technologies</em>,&nbsp;<em>10</em>(2), 1-195.</li>\n",
    "\t<li>Kao, A., &amp; Poteet, S. R. (Eds.). (2007).&nbsp;<em>Natural language processing and text mining</em>. Springer Science &amp; Business Media.</li>\n",
    "\t<li>Perkins, J. (2014).&nbsp;<em>Python 3 Text Processing with NLTK 3 Cookbook</em>. Packt Publishing Ltd.</li>\n",
    "\t<li><a href=\"http://www.nltk.org/book/\">http://www.nltk.org/book/</a></li>\n",
    "</ol>\n",
    "\n",
    "Referensi eBook gratis: https://www.learndatasci.com/free-data-science-books/\n"
   ]
  },
  {
   "cell_type": "code",
   "execution_count": null,
   "metadata": {
    "slideshow": {
     "slide_type": "slide"
    }
   },
   "outputs": [],
   "source": []
  },
  {
   "cell_type": "code",
   "execution_count": null,
   "metadata": {
    "slideshow": {
     "slide_type": "slide"
    }
   },
   "outputs": [],
   "source": []
  },
  {
   "cell_type": "code",
   "execution_count": null,
   "metadata": {
    "slideshow": {
     "slide_type": "slide"
    }
   },
   "outputs": [],
   "source": []
  },
  {
   "cell_type": "code",
   "execution_count": null,
   "metadata": {},
   "outputs": [],
   "source": []
  }
 ],
 "metadata": {
  "celltoolbar": "Slideshow",
  "kernelspec": {
   "display_name": "Python 3",
   "language": "python",
   "name": "python3"
  },
  "language_info": {
   "codemirror_mode": {
    "name": "ipython",
    "version": 3
   },
   "file_extension": ".py",
   "mimetype": "text/x-python",
   "name": "python",
   "nbconvert_exporter": "python",
   "pygments_lexer": "ipython3",
   "version": "3.6.13"
  },
  "latex_envs": {
   "LaTeX_envs_menu_present": true,
   "autoclose": false,
   "autocomplete": true,
   "bibliofile": "biblio.bib",
   "cite_by": "apalike",
   "current_citInitial": 1,
   "eqLabelWithNumbers": true,
   "eqNumInitial": 1,
   "hotkeys": {
    "equation": "Ctrl-E",
    "itemize": "Ctrl-I"
   },
   "labels_anchors": false,
   "latex_user_defs": false,
   "report_style_numbering": false,
   "user_envs_cfg": false
  }
 },
 "nbformat": 4,
 "nbformat_minor": 4
}
