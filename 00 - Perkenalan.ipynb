{
 "cells": [
  {
   "cell_type": "markdown",
   "metadata": {
    "slideshow": {
     "slide_type": "slide"
    }
   },
   "source": [
    "# <center><font color=\"blue\">00 - Perkenalan dan Jadwal Workshop</font>\n",
    "\n",
    "<center><img alt=\"\" src=\"images/cover_ptpjb_2021.png\"/></center> "
   ]
  },
  {
   "cell_type": "markdown",
   "metadata": {
    "slideshow": {
     "slide_type": "slide"
    }
   },
   "source": [
    "<img alt=\"\" src=\"images/bio_TS.png\" />"
   ]
  },
  {
   "cell_type": "markdown",
   "metadata": {
    "slideshow": {
     "slide_type": "slide"
    }
   },
   "source": [
    "<img alt=\"\" src=\"images/bio_sarini.png\" />"
   ]
  },
  {
   "cell_type": "markdown",
   "metadata": {
    "slideshow": {
     "slide_type": "slide"
    }
   },
   "source": [
    "<img alt=\"\" src=\"images/bio_mafrur.png\" />"
   ]
  },
  {
   "cell_type": "markdown",
   "metadata": {
    "slideshow": {
     "slide_type": "slide"
    }
   },
   "source": [
    "<img alt=\"\" src=\"images/bio_asisten.png\" />"
   ]
  },
  {
   "cell_type": "markdown",
   "metadata": {
    "slideshow": {
     "slide_type": "slide"
    }
   },
   "source": [
    "# <center><font color=\"blue\">Cakupan, Asumsi, dan Batasan:</font>\n",
    "\n",
    "* Teori (dasar, intuisi) 20-30% : Aplikasi 70-80%\n",
    "* Pendahuluan Machine Learning untuk Data Terstruktur & Time Series\n",
    "* Basic Deployment\n",
    "* Dasar Math, Stat, & logika Pemrograman\n",
    "* Bahasa Pemrograman yang digunakan Python\n",
    "* Deployment via Flask & Streamlit\n",
    "* Database PostgreSQL"
   ]
  },
  {
   "cell_type": "markdown",
   "metadata": {
    "slideshow": {
     "slide_type": "slide"
    }
   },
   "source": [
    "# <center><font color=\"blue\">Target Workshop:</font>\n",
    "\n",
    "## <center>Memahami berbagai dasar machine learning untuk data terstruktur (tabular) secara komprehensif, mulai dari perencanaan hingga deployment.\n",
    "\n",
    "<img alt=\"\" src=\"images/sdlc-crispdm.png\" style=\"height: 400px\"/>"
   ]
  },
  {
   "cell_type": "markdown",
   "metadata": {
    "slideshow": {
     "slide_type": "slide"
    }
   },
   "source": [
    "<img alt=\"\" src=\"images/Silabus-Jadwal_Workshop_ML_PTPJB-Aug2021.png\" style=\"height: 500px\"/>\n",
    "\n",
    "## <center><font color=\"blue\"> Icebreaking & Doorprizes <br><center><font color=\"green\"> 01 Month Interval Implementation & 05 Days Supervision\n",
    "    \n",
    "## <center><font color=\"red\"> Implementation Deadline 03 Oktober 2021"
   ]
  },
  {
   "cell_type": "markdown",
   "metadata": {
    "slideshow": {
     "slide_type": "slide"
    }
   },
   "source": [
    "# <center><font color=\"blue\"> Instalasi\n",
    "\n",
    "### Python (Optional day 01-08)\n",
    "* Google Colab (Link Module) atau https://colab.research.google.com/  \n",
    "* Lokal Komputer: https://www.anaconda.com/products/individual \n",
    "* Module/Source code: https://github.com/taudata-Indonesia/ptpjb/\n",
    "\n",
    "### Database PostgreSQL (Day 08)\n",
    "* Daftar (gratis) : https://customer.elephantsql.com/signup\n",
    "* Install Lokal (optional): https://www.postgresql.org/download/\n",
    "\n",
    "### Deployment (Day 09)\n",
    "* register GitHub (gratis): https://github.com/join\n",
    "* Daftar (gratis - login with Google) - **Streamlit**: https://streamlit.io/#install\n",
    "* Flask: **conda install -c anaconda flask** - https://anaconda.org/anaconda/flask\n",
    "\n",
    "### Machine Learning Modules\n",
    "* Tersedia langsung di setiap awal module (automatis)\n",
    "    \n",
    "## <center><font color=\"green\"> Instalasi/Registrasi akan dilakukan bersama pada <br>hari Jum'at, 27 Agustus 2021 (sore hari)"
   ]
  },
  {
   "cell_type": "markdown",
   "metadata": {
    "slideshow": {
     "slide_type": "slide"
    }
   },
   "source": [
    "# <center><font color=\"blue\"> Post Test, Implementasi, & Sertifikat\n",
    "\n",
    "* Post Test akan dilakukan di pertemuan terakhir Kamis, 02 September 2021 pukul 16.00 hingga Jum'at 03 September 2021 pukul 17.00\n",
    "* Peserta diharapkan mengimplementasikan pengetahuan yang didapatkan saat workshop di divisi masing-masing maksimal 01 bulan setelah workshop (sebelum 03 Oktober 2021).\n",
    "* Peserta dapat meminta bantuan konsultasi kepada team tau-data Indonesia sebanyak 5X (lima hari kerja, max 6 jam/hari)\n",
    "* Sertifikat digital diberikan di akhir workshop"
   ]
  },
  {
   "cell_type": "markdown",
   "metadata": {
    "slideshow": {
     "slide_type": "slide"
    }
   },
   "source": [
    "# <center><font color=\"blue\"> Resources Tambahan\n",
    "\n",
    "* Di beberapa slide/cell akan terdapat link pada istilah/konsep tertentu ke referensi terkait.\n",
    "* Website https://tau-data.id\n",
    "    \n",
    "\n",
    "# <center><font color=\"blue\"> Daftar Pustaka:\n",
    "\n",
    "* Müller, A. C., Guido, S. (2016). Introduction to Machine Learning with Python: A Guide for Data Scientists. United States: O'Reilly Media.\n",
    "* Working Machines: An executive’s guide to AI and Intelligent Automation. (n.d.). (n.p.): WeAreBrain.\n",
    "* Bishop, C. M. (2006). Pattern recognition and machine learning. springer.\n",
    "* Yang, X. S. (2019). Introduction to Algorithms for Data Mining and Machine Learning. Academic Press.\n",
    "* Simovici, D. (2018). Mathematical Analysis for Machine Learning and Data Mining. World Scientific Publishing Co., Inc..\n",
    "* Zheng, A. (2015). Evaluating machine learning models: a beginner’s guide to key concepts and pitfalls.\n",
    "* Mitchell, T. M. (1997). Machine learning. 1997. Burr Ridge, IL: McGraw Hill, 45(37), 870-877.\n",
    "* The Ultimate Guide to Professional Database Programming with Python and PostgreSQL. (2019). (n.p.): SPARTA Publishing.\n",
    "* Grinberg, M. (2018). Flask Web Development: Developing Web Applications with Python. United States: O'Reilly Media.\n",
    "* Richards, T. (2021). Getting Started with Streamlit for Data Science: Create and Deploy Streamlit Web Applications from Scratch in Python. United Kingdom: Packt Publishing."
   ]
  },
  {
   "cell_type": "markdown",
   "metadata": {
    "slideshow": {
     "slide_type": "slide"
    }
   },
   "source": [
    "# <center><font color=\"blue\"> End of Module 00 - Perkenalan\n",
    "\n",
    "<hr />\n",
    "<img alt=\"\" src=\"images/meme-cartoon/meme-brace-yourself-workshop.jpg\" />"
   ]
  }
 ],
 "metadata": {
  "celltoolbar": "Slideshow",
  "kernelspec": {
   "display_name": "Python 3",
   "language": "python",
   "name": "python3"
  },
  "language_info": {
   "codemirror_mode": {
    "name": "ipython",
    "version": 3
   },
   "file_extension": ".py",
   "mimetype": "text/x-python",
   "name": "python",
   "nbconvert_exporter": "python",
   "pygments_lexer": "ipython3",
   "version": "3.6.13"
  },
  "latex_envs": {
   "LaTeX_envs_menu_present": true,
   "autoclose": false,
   "autocomplete": true,
   "bibliofile": "biblio.bib",
   "cite_by": "apalike",
   "current_citInitial": 1,
   "eqLabelWithNumbers": true,
   "eqNumInitial": 1,
   "hotkeys": {
    "equation": "Ctrl-E",
    "itemize": "Ctrl-I"
   },
   "labels_anchors": false,
   "latex_user_defs": false,
   "report_style_numbering": false,
   "user_envs_cfg": false
  }
 },
 "nbformat": 4,
 "nbformat_minor": 4
}
