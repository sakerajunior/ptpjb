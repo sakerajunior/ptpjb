{
 "cells": [
  {
   "cell_type": "markdown",
   "metadata": {
    "slideshow": {
     "slide_type": "slide"
    }
   },
   "source": [
    "# <center><font color=\"red\"> https://bit.ly/ptpjb-2021-01</font>\n",
    "# <center><font color=\"blue\">01 - Pendahuluan Machine learning & Canvas AI</font>\n",
    "\n",
    "<center><img alt=\"\" src=\"images/cover_ptpjb_2021.png\"/></center> \n",
    "\n",
    "## <center><font color=\"blue\">tau-data Indonesia</font><br>(C) Taufik Sutanto - 2021</center>\n",
    "<center><a href=\"https://tau-data.id\">https://tau-data.id</a> ~ <a href=\"mailto:taufik@tau-data.id\">taufik@tau-data.id</a></center>"
   ]
  },
  {
   "cell_type": "markdown",
   "metadata": {
    "slideshow": {
     "slide_type": "slide"
    }
   },
   "source": [
    "##### <center><font color=\"blue\">Outline Module 01: Pendahuluan Machine Learning & Canvas AI</font>\n",
    "\n",
    "* Machine Learning & AI pada industri Energy\n",
    "* Terminology seputar Machine learning\n",
    "* Metode di Machine learning\n",
    "* Teknologi terkait Machine Learning\n",
    "* Data Professional dalam suatu Institusi\n",
    "* Implementation RoadMap & Strategi    \n",
    "* **Canvas AI**\n",
    " - Canvas AI VS Business Canvas\n",
    " - AI Maturity Board\n",
    " - AI Scoreboard\n",
    " - AI/Ml Implementation Tips"
   ]
  },
  {
   "cell_type": "markdown",
   "metadata": {
    "slideshow": {
     "slide_type": "slide"
    }
   },
   "source": [
    "# <center><font color=\"blue\">Contoh Aplikasi ML/AI di bidang Energi: Studi Kasus India</font>\n",
    "\n",
    "<center><video controls src=\"videos/AI_India_Energy_720.mp4\" />\n",
    "\n",
    "* https://www.youtube.com/watch?v=qIZOhK2Ywz0"
   ]
  },
  {
   "cell_type": "markdown",
   "metadata": {
    "slideshow": {
     "slide_type": "slide"
    }
   },
   "source": [
    "# <center><font color=\"blue\">Realtime Energy Consumption & Demand Forecasting\n",
    "\n",
    "<center><img alt=\"\" src=\"images/realtime-energy-consumption-and-forecasting.jpg\"/></center>\n",
    "\n",
    "* Identifikasi secara realtime pencurian energi, faults, dan anomaly lain.\n",
    "* PT PJB dapat melakukan cross-validasi kebutuhan dan konsumsi untuk kemudian menentukan dimana sebaiknya sumber tenaga baru paling dibutuhkan."
   ]
  },
  {
   "cell_type": "markdown",
   "metadata": {
    "slideshow": {
     "slide_type": "slide"
    }
   },
   "source": [
    "# <center><font color=\"blue\">Optimal (Renewable) Energy Generation Location Prediction\n",
    "\n",
    "<center><img alt=\"\" src=\"images/renewable-energy-loc-prediction.jpg\"/></center>\n",
    "\n",
    "* Penentuan lokasi optimal pembangunan sumber daya energi baik *green energy* maupun *conventional power source*."
   ]
  },
  {
   "cell_type": "markdown",
   "metadata": {
    "slideshow": {
     "slide_type": "slide"
    }
   },
   "source": [
    "# <center><font color=\"blue\">Social Benchmarking & Energy Saving (Env. Friendly) Culture\n",
    "\n",
    "<center><img alt=\"\" src=\"images/energy-saving-culture.jpg\"/></center>\n",
    "\n",
    "* Clustering konsumer dan target yang akan berpotensi menghemat energi"
   ]
  },
  {
   "cell_type": "markdown",
   "metadata": {
    "slideshow": {
     "slide_type": "slide"
    }
   },
   "source": [
    "# <center><font color=\"blue\">Prediksi Kegagalan Komponen (Success Runs)\n",
    "\n",
    "<center><img alt=\"\" src=\"images/component_failure_predictions.jpg\"/></center>"
   ]
  },
  {
   "cell_type": "markdown",
   "metadata": {
    "slideshow": {
     "slide_type": "slide"
    }
   },
   "source": [
    "# <center><font color=\"blue\">Rekomendasi Alokasi Anggaran\n",
    "\n",
    "<center><img alt=\"\" src=\"images/rekomendasi_alokasi_anggaran.jpg\"/></center>"
   ]
  },
  {
   "cell_type": "markdown",
   "metadata": {
    "slideshow": {
     "slide_type": "slide"
    }
   },
   "source": [
    "# <center><font color=\"blue\">Social Media Analysis (Utilizations)\n",
    "\n",
    "<center><img alt=\"\" src=\"images/sma-energy.jpg\"/></center>"
   ]
  },
  {
   "cell_type": "markdown",
   "metadata": {
    "slideshow": {
     "slide_type": "slide"
    }
   },
   "source": [
    "# <center><font color=\"blue\">Human Resource Analytics\n",
    "\n",
    "<center><img alt=\"\" src=\"images/hrd-analytics.jpg\"/></center>\n",
    "    \n",
    "* Akan lebih jelas pentingnya HR Analytics untuk penerapan ML/AI di perusahaan ketika membahas Canvas AI."
   ]
  },
  {
   "cell_type": "markdown",
   "metadata": {
    "slideshow": {
     "slide_type": "slide"
    }
   },
   "source": [
    "# <center><font color=\"blue\"> Apakah perbedaan dengan system yang ada?\n",
    "\n",
    "* ICT saat ini\n",
    "* Dashboard/Business Intelligence\n",
    "* Database\n",
    "\n",
    "<center><img alt=\"\" src=\"images/conventional database and BI.png\"/></center>"
   ]
  },
  {
   "cell_type": "markdown",
   "metadata": {
    "slideshow": {
     "slide_type": "slide"
    }
   },
   "source": [
    "# <center><font color=\"blue\"> Perkembangan Data 01: Sumber Data (Velocity)\n",
    "\n",
    "<center><img alt=\"\" src=\"images/sumber_data_non-conventional_ICT.png\"/></center>"
   ]
  },
  {
   "cell_type": "markdown",
   "metadata": {
    "slideshow": {
     "slide_type": "slide"
    }
   },
   "source": [
    "# <center><font color=\"blue\"> Perkembangan Data 02: Tipe Data (Variety)\n",
    "\n",
    "<center><img alt=\"\" src=\"images/variety_unstructured_data_exponential_growth.png\"/></center>"
   ]
  },
  {
   "cell_type": "markdown",
   "metadata": {
    "slideshow": {
     "slide_type": "slide"
    }
   },
   "source": [
    "# <center><font color=\"blue\"> Perkembangan Data 03: The Big Data\n",
    "\n",
    "<center><img alt=\"\" src=\"images/data science dan big data.png\"/></center>\n",
    "    \n",
    "* https://tau-data.id/dsbd-01/"
   ]
  },
  {
   "cell_type": "markdown",
   "metadata": {
    "slideshow": {
     "slide_type": "slide"
    }
   },
   "source": [
    "# <center><font color=\"blue\"> Tantangan yang Timbul:\n",
    "\n",
    "* Menyimpan dan menganalisa Data Tidak Terstruktur dengan baik.\n",
    "    - Database relational tidak lagi optimal (e.g. MySQL/Oracle).\n",
    "    - Statistika hanya terdefinisi di data terstruktur dan biasanya fokus ke model \"inferentia\"/generalisasi.\n",
    "* Memperoleh informasi berharga dari data yang besar tersebut untuk pengambilan keputusan.\n",
    "    - Komputasi yang dibutuhkan biasanya besar (mahal) dan memakan waktu yang tidak sebentar.\n",
    "* Keputusan Automatis yang cepat (real-time)\n",
    "    - Keputusan harus diambil dalam hitungan detik untuk menghindari kerugian yang besar."
   ]
  },
  {
   "cell_type": "markdown",
   "metadata": {
    "slideshow": {
     "slide_type": "slide"
    }
   },
   "source": [
    "# <center><font color=\"blue\"> Data Science, Big Data, Machine Learning, dan AI\n",
    "    \n",
    "* **Statistic** [1 h, 1 d]\n",
    "* **Data Mining** [n h, 1-n d]\n",
    "* **Artificial Intelligence** [meniru kecerdasan manusia] \n",
    "* **Machine Learning** [1 task]\n",
    "* **Business Intelligence** [dashboard, aggregate, query, slice-dice]\n",
    "* **Business Analytics** [adv. models]\n",
    "\n",
    "<center><img alt=\"\" src=\"images/machine learning dan AI.png\"/></center>"
   ]
  },
  {
   "cell_type": "markdown",
   "metadata": {
    "slideshow": {
     "slide_type": "slide"
    }
   },
   "source": [
    "# <center><font color=\"green\"> Diskusi: *Analisa data apakah yang ada saat ini di masing-masing divisi bapak/Ibu?*"
   ]
  },
  {
   "cell_type": "markdown",
   "metadata": {
    "slideshow": {
     "slide_type": "slide"
    }
   },
   "source": [
    "# <center><font color=\"blue\"> Cabang Utama Machine Learning/AI\n",
    "    \n",
    "<center><img alt=\"\" src=\"images/types of machine learning.png\"/></center>\n",
    "    \n",
    "* https://techvidvan.com/tutorials/types-of-machine-learning/\n",
    "* https://dasha.ai/en-us/blog/self-supervised-machine-learning"
   ]
  },
  {
   "cell_type": "markdown",
   "metadata": {
    "slideshow": {
     "slide_type": "slide"
    }
   },
   "source": [
    "# <center><font color=\"blue\"> Prediction VS Forecasting \n",
    "    \n",
    "<center><img alt=\"\" src=\"images/forecasting_machine_learning.png\"/></center>\n",
    "    \n",
    "* https://www.jwa.or.jp/english/service/electric-power-demand-forecasting/"
   ]
  },
  {
   "cell_type": "markdown",
   "metadata": {
    "slideshow": {
     "slide_type": "slide"
    }
   },
   "source": [
    "# <center><font color=\"blue\"> Hybrid Solution\n",
    "    \n",
    "<center><img alt=\"\" src=\"images/forecasting-anomaly-detection-to-root-cause-analysis.png\"/></center>"
   ]
  },
  {
   "cell_type": "markdown",
   "metadata": {
    "slideshow": {
     "slide_type": "slide"
    }
   },
   "source": [
    "# <center><font color=\"blue\"> Machine Learning-AI Expected Outcomes\n",
    "    \n",
    "<center><img alt=\"\" src=\"images/Machine-Learning-AI-Expected-Outcomes.jpg\"/></center>"
   ]
  },
  {
   "cell_type": "markdown",
   "metadata": {
    "slideshow": {
     "slide_type": "slide"
    }
   },
   "source": [
    "# <center><font color=\"blue\"> Deep Learning dan Big Data\n",
    "    \n",
    "<center><img alt=\"\" src=\"images/deep learning dan big data.png\"/></center>"
   ]
  },
  {
   "cell_type": "markdown",
   "metadata": {
    "slideshow": {
     "slide_type": "slide"
    }
   },
   "source": [
    "# <center><font color=\"blue\"> Methodology di Ilmu Data\n",
    "    \n",
    "<center><img alt=\"\" src=\"images/methodology data science.png\"/></center>\n",
    "\n",
    "* https://tau-data.id/dsbd-03/\n",
    "* https://tau-data.id/dsbd-04/"
   ]
  },
  {
   "cell_type": "markdown",
   "metadata": {
    "slideshow": {
     "slide_type": "slide"
    }
   },
   "source": [
    "# <center><font color=\"blue\"> Data Professionals\n",
    "    \n",
    "<center><img alt=\"\" src=\"images/data-professions.png\"/></center>\n",
    "\n",
    "* https://tau-data.id/dsbd-02/"
   ]
  },
  {
   "cell_type": "markdown",
   "metadata": {
    "slideshow": {
     "slide_type": "slide"
    }
   },
   "source": [
    "# <center><font color=\"blue\"> Teknologi di Ilmu Data 01\n",
    "    \n",
    "<center><img alt=\"\" src=\"images/teknologi data.png\"/></center>\n",
    "\n",
    "* https://tau-data.id/dsbd-05/"
   ]
  },
  {
   "cell_type": "markdown",
   "metadata": {
    "slideshow": {
     "slide_type": "slide"
    }
   },
   "source": [
    "# <center><font color=\"blue\"> Teknologi di Ilmu Data 02\n",
    "    \n",
    "<center><img alt=\"\" src=\"images/2020-Data-and-AI-Landscape-Matt-Turck-at-FirstMark-v1.png\"/></center>\n",
    "\n",
    "* https://mattturck.com/data2020/"
   ]
  },
  {
   "cell_type": "markdown",
   "metadata": {
    "slideshow": {
     "slide_type": "slide"
    }
   },
   "source": [
    "# <center><font color=\"blue\"> Teknologi di Ilmu Data 03: Spesifik Domain\n",
    "    \n",
    "<center><img alt=\"\" src=\"images/big data science machine learning ai teknologi spesifik.png\"/></center>\n",
    "\n",
    "* https://tau-data.id/dsbd-06/"
   ]
  },
  {
   "cell_type": "markdown",
   "metadata": {
    "slideshow": {
     "slide_type": "slide"
    }
   },
   "source": [
    "# <center><font color=\"blue\"> Lifecycle Machine Learning Sederhana (Technical)\n",
    "    \n",
    "<center><img alt=\"\" src=\"images/simple_ml_lifecycle.png\"/></center>"
   ]
  },
  {
   "cell_type": "markdown",
   "metadata": {
    "slideshow": {
     "slide_type": "slide"
    }
   },
   "source": [
    "# <center><font color=\"blue\"> Contoh Arsitektur sederhana\n",
    "    \n",
    "<center><img alt=\"\" src=\"images/contoh arsitektur machine learning ai big data science.png\"/></center>\n",
    "    \n",
    "* Data Engineer bertugas menyiapkan arsitektur yang tepat dan optimal untuk suatu institusi."
   ]
  },
  {
   "cell_type": "markdown",
   "metadata": {
    "slideshow": {
     "slide_type": "slide"
    }
   },
   "source": [
    "# <center><font color=\"blue\"> Investasi Besar? Sifat horizontal Scalability Big Data\n",
    "    \n",
    "<center><img alt=\"\" src=\"images/vertical-horizontal scalability scaling.jpg\"/></center>\n",
    "    \n",
    "* Start Small, test, deploy, scale."
   ]
  },
  {
   "cell_type": "markdown",
   "metadata": {
    "slideshow": {
     "slide_type": "slide"
    }
   },
   "source": [
    "# <center><font color=\"blue\"> Implementasi Bertahap\n",
    "    \n",
    "<center><img alt=\"\" src=\"images/\n",
    "level_ai_data_science_implementations.jpg\"/></center>\n",
    "\n",
    "* Berangkat dari yang ada.\n",
    "* Tidak perlu merevolusi system"
   ]
  },
  {
   "cell_type": "markdown",
   "metadata": {
    "slideshow": {
     "slide_type": "slide"
    }
   },
   "source": [
    "# <center><font color=\"green\"> Diskusi: *Menurut Bapak/Ibu PJB saat ini berada pada level berapa? dan Apakah Bapak/Ibu memahami visi PJB di masa depan terkait data?*"
   ]
  },
  {
   "cell_type": "markdown",
   "metadata": {
    "slideshow": {
     "slide_type": "slide"
    }
   },
   "source": [
    "# <center><font color=\"Blue\">Membangun Strategi dan RoadMap Implementasi AI yang Efektif</font>\n",
    "\n",
    "## <font color=\"green\"> Hasil riset CapGemini Digital Transformation dari 1000 organisasi yang menerapkan AI pada bisnis mereka:\n",
    "\n",
    "### [1]. AI Leadership sebagai hal terpenting\n",
    "* 1/3 bisnis yg sukses menerapkan AI memiliki kepala khusus (dedicated) untuk menerapkan AI.\n",
    "* Perusahaan yang emiliki dedicated leader memiliki peluang sukses sekitar 20% lebih besar.\n",
    "\n",
    "<img src=\"images/hbr manager who use ai will replace who dont.jpg\" width = \"800\"/>"
   ]
  },
  {
   "cell_type": "markdown",
   "metadata": {
    "slideshow": {
     "slide_type": "slide"
    }
   },
   "source": [
    "# <center><font color=\"Blue\">Membangun Strategi dan RoadMap Implementasi AI yang Efektif</font>\n",
    "\n",
    "## <font color=\"green\"> Hasil riset CapGemini Digital Transformation dari 1000 organisasi yang menerapkan AI pada bisnis mereka:\n",
    "\n",
    "### [2]. Tata Kelola/Governance Structure\n",
    "* 37% repondent memiliki Tata kelola AI terpusat \n",
    "* Growth 18% complaints reduced by 19%\n",
    "    \n",
    "<center><img alt=\"\" src=\"images/data governance.png\"/></center>"
   ]
  },
  {
   "cell_type": "markdown",
   "metadata": {
    "slideshow": {
     "slide_type": "slide"
    }
   },
   "source": [
    "# <center><font color=\"Blue\">Membangun Strategi dan RoadMap Implementasi AI yang Efektif</font>\n",
    "\n",
    "## <font color=\"green\"> Hasil riset CapGemini Digital Transformation dari 1000 organisasi yang menerapkan AI pada bisnis mereka:\n",
    "\n",
    "### [3]. Trust dan Support dari Employee\n",
    "* 61% pegawai percaya mitos AI akan menggantikan pekerjaan mereka.\n",
    "* Komunikasi \"pimpinan AI\" ke seluruh komponen perusahaan menjadi sangat penting.\n",
    "    \n",
    "<center><img alt=\"\" src=\"images/vanaya digital transformation model.png\"/></center>"
   ]
  },
  {
   "cell_type": "markdown",
   "metadata": {
    "slideshow": {
     "slide_type": "slide"
    }
   },
   "source": [
    "# <center><font color=\"Blue\">Membangun Strategi dan RoadMap Implementasi AI yang Efektif</font>\n",
    "\n",
    "## <font color=\"green\"> Hasil riset CapGemini Digital Transformation dari 1000 organisasi yang menerapkan AI pada bisnis mereka:\n",
    "\n",
    "### [4]. Skillls Development untuk Team\n",
    "* Dari 1000 respondent 64% menyatakan bahwa kurangnya skill menjadi kendala terbesar implementasi AI.\n",
    "* Contoh tau-data dalam memberikan solusi terhadap masalah ini:\n",
    "    \n",
    "<center><img alt=\"\" src=\"images/tau data univeristy traveloka.png\"/></center>"
   ]
  },
  {
   "cell_type": "markdown",
   "metadata": {
    "slideshow": {
     "slide_type": "slide"
    }
   },
   "source": [
    "# <center><font color=\"blue\"> Data University Roadmap Kurikulum\n",
    "    \n",
    "<center><img alt=\"\" src=\"images/roadmap_kurikulum.png\"/></center>"
   ]
  },
  {
   "cell_type": "markdown",
   "metadata": {
    "slideshow": {
     "slide_type": "slide"
    }
   },
   "source": [
    "# <center><font color=\"Blue\">Membangun Strategi dan RoadMap Implementasi AI yang Efektif</font>\n",
    "\n",
    "## <font color=\"green\"> Hasil riset CapGemini Digital Transformation dari 1000 organisasi yang menerapkan AI pada bisnis mereka:\n",
    "\n",
    "### [5]. Experiment dan Scale\n",
    "* Inkubasi project di Lab R&D khusus untuk AI \n",
    "    - samsung Indonesia memiliki ini, bekerja sama dengan FMIPA UI juga\n",
    "* Bekerjasama dengan Startup terkait AI\n",
    "* Bekerjasama dengan perusahaan lain di bidang yg sama\n",
    "* **Software Development sebagai ujung tombak**\n",
    "    \n",
    "<center><img alt=\"\" src=\"images/tau-data-collaborations.jpg\"/></center>"
   ]
  },
  {
   "cell_type": "markdown",
   "metadata": {
    "slideshow": {
     "slide_type": "slide"
    }
   },
   "source": [
    "# <center><font color=\"Blue\">Membangun Strategi dan RoadMap Implementasi AI yang Efektif</font>\n",
    "\n",
    "## <font color=\"green\"> [6]. Data Ethics and Law*    \n",
    "    \n",
    "<center><img alt=\"\" src=\"images/Data Ethics and Law.png\"/></center>\n",
    "    \n",
    "* membutuhkan setidaknya satu orang (rekanan atau personil) yang ahli dalam bidang hukum terkait data.\n",
    "    \n",
    "[*] Penambahan dari tau-data Indonesia"
   ]
  },
  {
   "cell_type": "markdown",
   "metadata": {
    "slideshow": {
     "slide_type": "slide"
    }
   },
   "source": [
    "# <center><font color=\"blue\"> Implementation RoadMaps - simplified\n",
    "    \n",
    "<center><img alt=\"\" src=\"images/simplified machine learning implementation model.png\"/></center>\n",
    "    \n",
    "* Ada banyak macam roadmap/strategi, contoh lain:  Morteza Ghobakhloo, (2018) \"The future of manufacturing industry: a strategic roadmap toward Industry 4.0\", Journal of Manufacturing Technology Management, Vol. 29 Issue: 6, pp.910-936,"
   ]
  },
  {
   "cell_type": "markdown",
   "metadata": {
    "slideshow": {
     "slide_type": "slide"
    }
   },
   "source": [
    "# <center><font color=\"blue\"> AI Canvas Model\n",
    "    \n",
    "* Diantara pengembangan (riset) dan implementasi, team (terutama para pemimpin) akan membangun Strategy AI untuk bisnis yang tepat. \n",
    "\n",
    "### <center><font color=\"green\">Canvas AI adalah alat bantu yang baik untuk memulai mempertimbangkan antara kebutuhan dan solusi AI yang akan di implementasikan. Canvas AI meyakinkan Visi pada awal project adalah apa yang akan kita dapatkan setelah implemetasi dilakukan pada level produksi.\n",
    "    \n",
    "* Sebelum adanya canvas AI yang diperkenalkan oleh Louis Dorard, perusahaan menggunakan Business Model Canvas yang pertama kali dikenalkan oleh Alexander Osterwalder pada tahun 2008 untuk memberikan gambaran umum tentang perencanaan bisnis dan mampu meminimalisir kesalahan dan risiko saat eksekusi bisnis.\n",
    "    \n",
    "<center><img alt=\"\" src=\"images/bmc.png\"/></center>\n",
    "* image source: https://medium.com/@eirenedeborah/memetakan-model-bisnis-dengan-business-model-canvas-c842425bddb2"
   ]
  },
  {
   "cell_type": "markdown",
   "metadata": {
    "slideshow": {
     "slide_type": "slide"
    }
   },
   "source": [
    "# <center><font color=\"Blue\">Analogi ke Canvas AI</font>\n",
    "    \n",
    "## Machine Learning Canvas adalah kerangka untuk menggambarkan atau memvisualisasikan model AI dengan memikirkan bagaimana akan mendapatkan data, mengolah data, bagaimana kita menggunakan prediksi.\n",
    "    \n",
    "<img src=\"images/Contoh_canvas ai.png\" width = \"800\"/>\n",
    "    \n",
    "- https://medium.com/louis-dorard/from-data-to-ai-with-the-machine-learning-canvas-part-i-d171b867b047\n",
    "- https://medium.com/intuitionmachine/introducing-the-deep-learning-canvas-a2e80a998f11\n",
    "- https://towardsdatascience.com/introducing-the-ai-project-canvas-e88e29eb7024"
   ]
  },
  {
   "cell_type": "markdown",
   "metadata": {
    "slideshow": {
     "slide_type": "slide"
    }
   },
   "source": [
    "# <center><font color=\"Blue\">Perusahaan yang yang menggunakan Canvas AI</font>\n",
    "\n",
    "<img src=\"images/contoh perusahaan pengguna canvas AI.png\" width = \"800\"/>\n",
    "\n",
    "* https://www.ownml.co/machine-learning-canvas"
   ]
  },
  {
   "cell_type": "markdown",
   "metadata": {
    "slideshow": {
     "slide_type": "slide"
    }
   },
   "source": [
    "# <center><font color=\"blue\"> Kelebihan, Tantangan, & Tools Canvas AI\n",
    "\n",
    "## <font color=\"green\"> Kelebihan\n",
    "1. Mengidentifikasi permasalahan dengan jelas.\n",
    "2. Mengantisipasi biaya yang tidak diinginkan.\n",
    "3. Memperbaiki ide\n",
    "\n",
    "## <font color=\"green\">Kekurangan\n",
    "1. Membatasi pemikiran strategis dengan berfokus pada apa yang diinginkan customer, daripada mencoba hal lain yang bisa lebih menguntungkan\n",
    "\n",
    "## <font color=\"green\">Tools untuk membuat Canvas AI\n",
    "- Alat yang paling umum dan tersebar luas untuk mengembangkan dan memvisualisasikan model AI adalah Canvas AI dari Louis Dorard, Ph.D\n",
    "- Ms.Word\n",
    "- Visual Paradigm Online (VP Online) https://online.visual-paradigm.com/diagrams/templates/analysis-canvas/strategy-tools/machine-learning-canvas/\n",
    "- dan sebagainya"
   ]
  },
  {
   "cell_type": "markdown",
   "metadata": {
    "slideshow": {
     "slide_type": "slide"
    }
   },
   "source": [
    "# <center><font color=\"blue\"> Workshop Penyusunan Canvas AI (berkelompok berdasarkan divisi)\n",
    "\n",
    "* Ada berbagai macam AI canvas, kita akan menggunakan versi growthtribe Academy: https://resources.growthtribe.io/ai-canvas\n",
    "* Silahkan buka Link berikut: https://bit.ly/ai-canvas-template\n",
    "* bersama-sama kita akan menyusun Canvas AI secara bertahap pada setiap komponennya. Terutama pada bagian yang terpenting.\n",
    "* Akan ada penyesuaian untuk kebutuhan idustri energi seperti PT PJB\n",
    "    \n",
    "<center><img alt=\"\" src=\"images/ai canvas grothtribe template.png\"/></center>"
   ]
  },
  {
   "cell_type": "markdown",
   "metadata": {
    "slideshow": {
     "slide_type": "slide"
    }
   },
   "source": [
    "# <center><font color=\"blue\"> 01 - The Business (crucial Component)\n",
    "\n",
    "* Data Scientist/ML engineer tidak cukup, domain expert seperti para pejabat di institusi memiliki insights yang sangat penting.\n",
    "* misal mengelompokkan pelanggan atau penggunaan.\n",
    "* Yang perlu diingat, tidak semua tujuan butuh AI. \n",
    "    \n",
    "<center><img alt=\"\" src=\"images/ai-canvas-business.png\"/></center>"
   ]
  },
  {
   "cell_type": "markdown",
   "metadata": {
    "slideshow": {
     "slide_type": "slide"
    }
   },
   "source": [
    "# <center><font color=\"blue\"> 02 - The Business (crucial Component)\n",
    "\n",
    "* Project ML/AI membutuhkan investasi, waktu, & effort yang besar. Oleh karena itu sebaiknya project tersebut adalah prioritas yang penting/tinggi.\n",
    "* Jika bukan merupakan prioritas, maka dukungan pejabat atas institusi akan rendah. Hal ini akan menjadi resiko besar kesuksesan project.\n",
    "    \n",
    "<center><img alt=\"\" src=\"images/ai-canvas-project-priority.png\"/></center>"
   ]
  },
  {
   "cell_type": "markdown",
   "metadata": {
    "slideshow": {
     "slide_type": "slide"
    }
   },
   "source": [
    "# <center><font color=\"blue\"> 03 - Tantangan / Penghambat\n",
    "\n",
    "* Akses ke data\n",
    "* Database yang tidak centralized (tercecer)\n",
    "* Tidak ada anggaran\n",
    "* Pimpinan tidak mendukung\n",
    "* Para staff tidak menyukai rencana project AI.\n",
    "    \n",
    "<center><img alt=\"\" src=\"images/ai-canvas-possible-blockers.png\"/></center>"
   ]
  },
  {
   "cell_type": "markdown",
   "metadata": {
    "slideshow": {
     "slide_type": "slide"
    }
   },
   "source": [
    "# <center><font color=\"blue\"> 04 - Stakeholders\n",
    "\n",
    "* Siapa saja yang harus terlibat agar project AI ini dapat berjalan dengan baik?\n",
    "* Yakinkan yang tertulis disini tidak menjadi \"Blockers\".\n",
    "* Misal CTO, Mentri, Dirjen, Pejabat senior (sepuh), dsb.\n",
    "    \n",
    "<center><img alt=\"\" src=\"images/ai-canvas-stakeholders.png\"/></center>"
   ]
  },
  {
   "cell_type": "markdown",
   "metadata": {
    "slideshow": {
     "slide_type": "slide"
    }
   },
   "source": [
    "# <center><font color=\"blue\"> 05 - The Oil: **DATA** ~ Outcome\n",
    "\n",
    "* Jika prediksi, misal akurasi atau recall atau presisi.\n",
    "* Jika clustering misal silhouette atau \"growth\" from application.\n",
    "* Jika anomaly detection misal memenuhi 6 sigma,\n",
    "* Sentiment, churn, dsb.\n",
    "    \n",
    "<center><img alt=\"\" src=\"images/ai-canvas-data.png\"/></center>"
   ]
  },
  {
   "cell_type": "markdown",
   "metadata": {
    "slideshow": {
     "slide_type": "slide"
    }
   },
   "source": [
    "# <center><font color=\"blue\"> 06 - The Oil: **DATA** ~ Data yang Dibutuhkan\n",
    "\n",
    "* Sumber Data yang dibutuhkan untuk mendapatkan outcome yang diinginkan.\n",
    "* Bisa jadi sudah ada di database, tapi boleh juga \"belum\" ada.\n",
    "* Tuliskan data yang \"ideal\" (ini penting).\n",
    "    \n",
    "<center><img alt=\"\" src=\"images/ai-canvas-desired-data.png\"/></center>"
   ]
  },
  {
   "cell_type": "markdown",
   "metadata": {
    "slideshow": {
     "slide_type": "slide"
    }
   },
   "source": [
    "# <center><font color=\"blue\"> 07 - The Oil: **DATA** ~ Data yang tersedia\n",
    "## Critical Component\n",
    "    \n",
    "* Bisa jadi datanya baru tersedia sebagian atau bahkan belum ada sama sekali.\n",
    "* Bagaimana datanya disimpan dan dalam struktur/format data apa?\n",
    "* DBA/Data Engineer seharusnya bisa membantu hal ini.\n",
    "* Jika data dibutuhkan untuk diambil programmer perlu diajak diskusi.\n",
    "* Ketika mengisi kotak ini, yakinkan semua pihak yang disebut ada di kotak \"stakeholder\".\n",
    "    \n",
    "<center><img alt=\"\" src=\"images/ai-canvas-available-data.png\"/></center>"
   ]
  },
  {
   "cell_type": "markdown",
   "metadata": {
    "slideshow": {
     "slide_type": "slide"
    }
   },
   "source": [
    "# <center><font color=\"blue\"> 08 - Testing ~ Metric\n",
    "\n",
    "* Kita akan mempelajari berbagai metric evaluasi ini di module 11-12\n",
    "* Pada tahap ini silahkan isi jika mengetahui atau kosongkan untuk diisi di kemudian hari setelah pembahasan module 12. \n",
    "* metric yang digunakan bisa juga churn rate, efficiency, profit, KPI, dsb.\n",
    "    \n",
    "<center><img alt=\"\" src=\"images/ai-canvas-test-success-measures.png\"/></center>"
   ]
  },
  {
   "cell_type": "markdown",
   "metadata": {
    "slideshow": {
     "slide_type": "slide"
    }
   },
   "source": [
    "# <center><font color=\"blue\"> 09 - Algoritma yang akan digunakan\n",
    "\n",
    "* Akan kita pelajari sepanjang workshop.\n",
    "* Kotak ini dimodifikasi oleh tau-data, karena lebih cocok jika Title-nya adalah algoritma yang akan digunakan.\n",
    "* Itulah mengapa workshop ini 9 hari dan membahas berbagai macam model.\n",
    "* Pada tahap pengembangan awal disarankan mengetahui banyak hal dasar. Saat pengembangan tingkat lanjut baru dibutuhkan pengetahuan mendalam (T-shaped).\n",
    "* Pada tahap ini silahkan isi jika mengetahui atau kosongkan untuk diisi di kemudian hari setelah pembahasan module 14 (Deep Learning). "
   ]
  },
  {
   "cell_type": "markdown",
   "metadata": {
    "slideshow": {
     "slide_type": "slide"
    }
   },
   "source": [
    "# <center><font color=\"blue\"> 10 - Human Performance \n",
    "\n",
    "## <center><font color=\"green\"> Jika dilakukan secara manual (oleh staff) sejauh mana efektivitasnya? \n",
    "    \n",
    "* Keterangan ini akan menjadi baseline (metric) sebagai salah satu bentuk evaluasi lain selain metric diatas.\n",
    "* Akan jadi pembanding (misal) waktu, jumlah pekerja, efisiensi, dan-atau laba jika tidak menggunakan AI. Dapat digunakan sebagai cost-analysis.\n",
    "* Contoh:\n",
    "    - jalan tol (dulu) dijaga oleh kasir, sehingga lambat dan menimbulkan kemacetan.\n",
    "    - tanpa model kami harus selalu memonitor graph konsumsi energi untuk memnentukan terjadi anomaly pada energy demand/usage.\n",
    "    - tanpa model kami memperlakukan semua kustomer secara seragam. Atau tidak seragam, tapi pengelompokkan dilakukan secara manual dan subjektif."
   ]
  },
  {
   "cell_type": "markdown",
   "metadata": {
    "slideshow": {
     "slide_type": "slide"
    }
   },
   "source": [
    "# <center><font color=\"blue\"> 11 - Membuat Dari Awal atau Menggunakan Solusi Yang Telah Tersedia?\n",
    "    \n",
    "* Pengalaman di TNI dan Kemendesa\n",
    "* Pertanyaan yang membantu menentukan hal ini:\n",
    "    - Apakah termasuk core business?\n",
    "    - Apakah akan digunakan dalam jangka waktu panjang?\n",
    "    - Apakah jika buat sendiri butuh biaya dan waktu yang terlalu mahal dan lama.\n",
    "    - Apakah sangat sulit?\n",
    "    - Apakah datanya sangat private/confidential?\n",
    "    - Apakah ada ready-made solution/part of the solution yang tersedia dan open source? Misal Face detection dan gender prediction.\n",
    "* Pengalaman tau-data.\n",
    "* Contoh isi:\n",
    "    - Build from scratch. We have data and dataiku.\n",
    "    - Build from scratch using Dataiku, once the model is validated by team, we can apply and use it to predict the segment of new customers.\n",
    "    - Built from scratch in Orange. We only need to do this every so often and doesn’t need automation\n",
    "    \n",
    "<center><img alt=\"\" src=\"images/AI-as-a-service.png\"/></center>"
   ]
  },
  {
   "cell_type": "markdown",
   "metadata": {
    "slideshow": {
     "slide_type": "slide"
    }
   },
   "source": [
    "# Contoh Lain AI as a service\n",
    "\n",
    "* Di Indonesia ada Bahasa Kita sebagai provider NLP bahasa Indonesia.\n",
    "\n",
    "<center><img alt=\"\" src=\"images/Ai as a service 02.png\"/></center>"
   ]
  },
  {
   "cell_type": "markdown",
   "metadata": {
    "slideshow": {
     "slide_type": "slide"
    }
   },
   "source": [
    "# <center><font color=\"blue\"> 12 - Machine Learning Findings\n",
    "    \n",
    "* Apakah kita puas dengan performa AI-nya?\n",
    "* Apakah ada potensi bias baik dari algoritma maupun metric evaluasi?\n",
    "* Untuk mengisi ini perlu pengetahuan yang baik tentang metric evaluasi. Boleh dikosongkan untuk diisi kemudian setelah module 14.\n",
    "    \n",
    "<center><img alt=\"\" src=\"images/ai-canvas-machine learning findings.png\"/></center>"
   ]
  },
  {
   "cell_type": "markdown",
   "metadata": {
    "slideshow": {
     "slide_type": "slide"
    }
   },
   "source": [
    "# <center><font color=\"blue\"> 13 - Machine Learning Findings\n",
    "    \n",
    "* Apakah kita puas dengan performa AI-nya?\n",
    "* Apakah ada potensi bias baik dari algoritma maupun metric evaluasi?\n",
    "    - Precision, Recall, AUC/ROC, Sihlouette,... apakah jika metric-metric ini baik cukup memuaskan seluruh stakeholder?\n",
    "* Untuk mengisi ini perlu pengetahuan yang baik tentang metric evaluasi. Boleh dikosongkan untuk diisi kemudian setelah module 14.\n",
    "    \n",
    "<center><img alt=\"\" src=\"images/ai-canvas-machine learning findings.png\"/></center>"
   ]
  },
  {
   "cell_type": "markdown",
   "metadata": {
    "slideshow": {
     "slide_type": "slide"
    }
   },
   "source": [
    "# <center><font color=\"blue\"> 14 - by Products\n",
    "    \n",
    "* Ranahnya Data Analyst dan Data Scientist.\n",
    "* terkait dengan XAI (explainable AI).\n",
    "* Temuan dari hasil prediksi atau EDA yang berguna untuk eksperimen atau pengambilan keputusan.\n",
    "* Mempengaruhi penentuan model/algoritma. Misal apakah model yang interpretable seperti regresi/decision tree? atau yang penting akurasi tinggi seperti NN/DL?\n",
    "* Hati-hati XAI masih open-research (bukan buah AI yang siap dikonsumsi dalam level produksi)\n",
    "* Contoh isi:\n",
    "    - We discovered new segments in our users, such as the ones who need parental permission before purchasing.\n",
    "    - Ditemukan daerah-daerah dimana pencurian listrik terjadi.\n",
    "    - Ditemukan potensi penghematan dari produksi listrik.\n",
    "    \n",
    "<center><img alt=\"\" src=\"images/xai.png\"/></center>"
   ]
  },
  {
   "cell_type": "markdown",
   "metadata": {
    "slideshow": {
     "slide_type": "slide"
    }
   },
   "source": [
    "# <center><font color=\"blue\"> 15 - INTERVENTIONS TO TEST\n",
    "## Critical\n",
    "    \n",
    "* AI experiment bukan causality analysis (misal bukan seperti A/B testing), kita perlu melakukan eksperimen apakah ketika di deploy akan memberikan hasil/efek yang positif.\n",
    "* Buat sebuah experiment dunia nyata (campaign) berupa produk/service baru, lalu lihat efeknya.\n",
    "* hal ini berbeda dengan metric evaluasi di kotak sebelumnya. Di kotak ini diisi \"product jadi\" dari AI yang dibuat.\n",
    "* Contoh pengalaman diskusi dengan BliBli.\n",
    "* Contoh isi:\n",
    "   - Personalized offers, campaigns or landing pages tailored to each cluster"
   ]
  },
  {
   "cell_type": "markdown",
   "metadata": {
    "slideshow": {
     "slide_type": "slide"
    }
   },
   "source": [
    "# <center><font color=\"blue\"> 16 - EXPERIMENTAL FINDINGS\n",
    "\n",
    "* Temuan dari langkah sebelumnya.\n",
    "* Tidak harus diisi saat ini, tapi saat telah melakukan implementasi.\n",
    "* bisa diisi dengan insight dari Data Scientist di kotak 14.\n",
    "* Contoh isian:\n",
    "    -  Conversion improves if we target clusters with different messages (= kasus Blibli)\n",
    "    -  Ditemukan daerah-daerah dimana pencurian listrik terjadi.\n",
    "    - Ditemukan potensi penghematan dari produksi listrik."
   ]
  },
  {
   "cell_type": "markdown",
   "metadata": {
    "slideshow": {
     "slide_type": "slide"
    }
   },
   "source": [
    "# <center><font color=\"blue\"> 17 - Action ~ Automation\n",
    "## Critical\n",
    "* Apakah automatis sepenuhnya atau ada sebagian peran serta teknisi (manual).\n",
    "* Contoh kasus system fraud Detection dan OTP (bisa double layer automatic system).\n",
    "* Diskusi: Apakah chatbot a good idea?\n",
    "* Pengalaman tau-data menggunakan Zappier.\n",
    "* Contoh isi:\n",
    "    - Integrate the triggers from dataiku to zapier.\n",
    "    - Use automation to predict the cluster membership of new users after one full year of activity (to capture seasonality).\n",
    "    - Belum butuh automasi\n",
    "<center><img alt=\"\" src=\"images/Customer-service-chatbots.jpg\"/></center>"
   ]
  },
  {
   "cell_type": "markdown",
   "metadata": {
    "slideshow": {
     "slide_type": "slide"
    }
   },
   "source": [
    "# <center><font color=\"blue\"> 18 - Action ~ VISUALIZE & COMMUNICATE\n",
    "\n",
    "* Bagaimana menyajikan hasil AI ke stakeholders.\n",
    "* Apa bedanya dengan BI dan Dahsboard biasa?\n",
    "* Bisa dirancang sejak awal.\n",
    "* Contoh isian:\n",
    "    - Visualize the topics related to not converting and the new UX\n",
    "    - Line chart plotting the probability of churn as a function of number of tasks completed.\n",
    "    - Pivot table showing the churn rate per account type and user type.\n",
    "    - List of primary features related to churn.\n",
    "\n",
    "<center><img alt=\"\" src=\"images/rekomendasi_alokasi_anggaran.jpg\"/></center>"
   ]
  },
  {
   "cell_type": "markdown",
   "metadata": {
    "slideshow": {
     "slide_type": "slide"
    }
   },
   "source": [
    "# <center><font color=\"blue\"> 19 - Action ~ ADOPTION\n",
    "\n",
    "* meyakinkan sustainability dari sistem AI-nya.\n",
    "* termasuk steady improvements.\n",
    "* How to educate and train other internally? \n",
    "* How to keep the required internal skills level?\n",
    "* Bisa hire new personal atau melatih yang ada.\n",
    "* Contoh isian:\n",
    "    - Need to find team members to be trained on clustering in Dataiku and developers to carry out the automation steps.\n",
    "    - At least another person (developer or marketer) to know how to train and test the model in dataiku.\n",
    "One person to integrate with zapier.\n",
    "\n",
    "<center><img alt=\"\" src=\"images/tau data univeristy traveloka.png\"/></center>"
   ]
  },
  {
   "cell_type": "markdown",
   "metadata": {
    "slideshow": {
     "slide_type": "slide"
    }
   },
   "source": [
    "# <center><font color=\"blue\"> 20 - Action ~ Feedback\n",
    "\n",
    "* How to continuously improve it?\n",
    "* How to keep updated with the new potential solutions?\n",
    "* Contoh isian:\n",
    "    -  Turning qualitative feedback into quantitative insights should be used for more UX related research\n",
    "    -  Once the first cohort is affected by the changes, Estimate the new churn rate, evaluate the model and test new interventions.\n",
    "\n",
    "<center><img alt=\"\" src=\"images/Feedback-AI.jpg\"/></center>"
   ]
  },
  {
   "cell_type": "markdown",
   "metadata": {
    "slideshow": {
     "slide_type": "slide"
    }
   },
   "source": [
    "# <center><font color=\"blue\"> \"The\" AI Canvas\n",
    "\n",
    "<center><img alt=\"\" src=\"images/human centered AI canvas.png\"/></center>"
   ]
  },
  {
   "cell_type": "markdown",
   "metadata": {
    "slideshow": {
     "slide_type": "slide"
    }
   },
   "source": [
    "# <center><font color=\"blue\"> Akhir Modul 01 - Pengenalan Machine Learning dan Canvas AI\n",
    "\n",
    "<hr />\n",
    "<img alt=\"\" src=\"images/meme-cartoon/sup_unsup_reinforce_meme.png\" />"
   ]
  }
 ],
 "metadata": {
  "celltoolbar": "Slideshow",
  "kernelspec": {
   "display_name": "Python 3",
   "language": "python",
   "name": "python3"
  },
  "language_info": {
   "codemirror_mode": {
    "name": "ipython",
    "version": 3
   },
   "file_extension": ".py",
   "mimetype": "text/x-python",
   "name": "python",
   "nbconvert_exporter": "python",
   "pygments_lexer": "ipython3",
   "version": "3.6.13"
  },
  "latex_envs": {
   "LaTeX_envs_menu_present": true,
   "autoclose": false,
   "autocomplete": true,
   "bibliofile": "biblio.bib",
   "cite_by": "apalike",
   "current_citInitial": 1,
   "eqLabelWithNumbers": true,
   "eqNumInitial": 1,
   "hotkeys": {
    "equation": "Ctrl-E",
    "itemize": "Ctrl-I"
   },
   "labels_anchors": false,
   "latex_user_defs": false,
   "report_style_numbering": false,
   "user_envs_cfg": false
  }
 },
 "nbformat": 4,
 "nbformat_minor": 4
}
