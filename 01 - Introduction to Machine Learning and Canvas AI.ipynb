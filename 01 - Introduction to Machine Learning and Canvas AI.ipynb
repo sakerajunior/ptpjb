{
 "cells": [
  {
   "cell_type": "markdown",
   "metadata": {
    "slideshow": {
     "slide_type": "slide"
    }
   },
   "source": [
    "# <center><font color=\"red\"> https://bit.ly/ptpjb-2021-01</font>\n",
    "# <center><font color=\"blue\">01 - Pendahuluan Machine learning & Canvas AI</font>\n",
    "\n",
    "<center><img alt=\"\" src=\"images/cover_ptpjb_2021.png\"/></center> \n",
    "\n",
    "## <center><font color=\"blue\">tau-data Indonesia</font><br>(C) Taufik Sutanto - 2020</center>\n",
    "<center><a href=\"https://tau-data.id\">https://tau-data.id</a> ~ <a href=\"mailto:taufik@tau-data.id\">taufik@tau-data.id</a></center>"
   ]
  },
  {
   "cell_type": "markdown",
   "metadata": {
    "slideshow": {
     "slide_type": "slide"
    }
   },
   "source": [
<<<<<<< HEAD
    "##### <center><font color=\"blue\">Outline Module 01: Pendahuluan Machine Learning & Canvas AI</font>\n",
=======
    "# <center><font color=\"blue\">Outline Module 01</font>\n",
    "    \n",
    "## <center><font color=\"Green\">Pendahuluan Machine Learning</font>\n",
>>>>>>> parent of 97cc456 (hgjhjhb)
    "\n",
    "* Machine Learning & AI pada industri Energy\n",
    "* Terminology seputar Machine learning\n",
    "* Metode di Machine learning\n",
    "* Teknologi terkait Machine Learning\n",
    "* Data Professional dalam suatu Institusi\n",
<<<<<<< HEAD
    "* Implementation RoadMap & Strategi    \n",
    "* **Canvas AI**\n",
    " - Canvas AI VS Business Canvas\n",
    " - AI Maturity Board\n",
    " - AI Scoreboard\n",
    " - AI/Ml Implementation Tips"
   ]
  },
  {
   "cell_type": "code",
   "execution_count": null,
   "metadata": {
    "slideshow": {
     "slide_type": "slide"
    }
   },
<<<<<<< HEAD
   "source": [
    "# <center><font color=\"blue\">Contoh Aplikasi ML/AI di bidang Energi: Studi Kasus India</font>\n",
    "\n",
    "<center><video controls src=\"videos/AI_India_Energy.mp4\" />\n",
    "\n",
    "* https://www.youtube.com/watch?v=qIZOhK2Ywz0"
   ]
  },
  {
   "cell_type": "markdown",
=======
   "outputs": [],
   "source": []
  },
  {
   "cell_type": "code",
   "execution_count": null,
>>>>>>> parent of 42eab7c (Merge branch 'main' of https://github.com/taudata-indonesia/ptpjb into main)
   "metadata": {
    "slideshow": {
     "slide_type": "slide"
    }
   },
<<<<<<< HEAD
   "source": [
    "# <center><font color=\"blue\">Optimal (Renewable) Energy Generation Location Prediction\n",
    "\n",
    "<center><img alt=\"\" src=\"images/renewable-energy-loc-prediction.jpg\"/></center>\n",
    "\n",
    "* Identifikasi secara realtime pencurian energi, faults, dan anomaly lain.\n",
    "* PT PJB dapat melakukan cross-validasi kebutuhan dan konsumsi untuk kemudian menentukan dimana sebaiknya sumber tenaga baru paling dibutuhkan."
   ]
  },
  {
   "cell_type": "markdown",
   "metadata": {
    "slideshow": {
     "slide_type": "slide"
    }
   },
   "source": [
    "# <center><font color=\"blue\">Realtime Energy Consumption & Demand Forecasting\n",
    "\n",
    "<center><img alt=\"\" src=\"images/realtime-energy-consumption-and-forecasting.jpg\"/></center>\n",
    "\n",
    "* Identifikasi secara realtime pencurian energi, faults, dan anomaly lain.\n",
    "* PT PJB dapat melakukan cross-validasi kebutuhan dan konsumsi untuk kemudian menentukan dimana sebaiknya sumber tenaga baru paling dibutuhkan."
   ]
  },
  {
   "cell_type": "markdown",
=======
   "outputs": [],
   "source": []
  },
  {
   "cell_type": "code",
   "execution_count": null,
>>>>>>> parent of 42eab7c (Merge branch 'main' of https://github.com/taudata-indonesia/ptpjb into main)
   "metadata": {
    "slideshow": {
     "slide_type": "slide"
    }
   },
   "outputs": [],
   "source": []
  },
  {
   "cell_type": "markdown",
   "metadata": {
    "slideshow": {
     "slide_type": "slide"
    }
   },
   "source": [
    "# <center><font color=\"blue\">Prediksi Kegagalan Komponen (Success Runs)\n",
    "\n",
    "<center><img alt=\"\" src=\"images/component_failure_predictions.jpg\"/></center>"
   ]
  },
  {
   "cell_type": "markdown",
   "metadata": {
    "slideshow": {
     "slide_type": "slide"
    }
   },
   "source": [
    "# <center><font color=\"blue\">Rekomendasi Alokasi Anggaran\n",
    "\n",
    "<center><img alt=\"\" src=\"images/rekomendasi_alokasi_anggaran.jpg\"/></center>"
   ]
  },
  {
   "cell_type": "markdown",
   "metadata": {
    "slideshow": {
     "slide_type": "slide"
    }
   },
   "source": [
    "# <center><font color=\"blue\">Social Media Analysis (Utilizations)\n",
    "\n",
    "<center><img alt=\"\" src=\"images/sma-energy.jpg\"/></center>"
   ]
  },
  {
   "cell_type": "markdown",
   "metadata": {
    "slideshow": {
     "slide_type": "slide"
    }
   },
   "source": [
    "# <center><font color=\"blue\">Human Resource Analytics\n",
    "\n",
    "<center><img alt=\"\" src=\"images/hrd-analytics.jpg\"/></center>\n",
=======
>>>>>>> parent of 97cc456 (hgjhjhb)
    "    \n",
    "## <center><font color=\"Green\">Canvas AI</font>\n",
    "\n",
    "* Canvas AI VS Business Canvas\n",
    "* AI Maturity Board\n",
    "* AI Scoreboard\n",
    "* AI/Ml Implementation Tips"
   ]
  },
  {
   "cell_type": "code",
   "execution_count": null,
   "metadata": {
    "slideshow": {
     "slide_type": "slide"
    }
   },
   "outputs": [],
   "source": []
  },
  {
   "cell_type": "code",
   "execution_count": null,
   "metadata": {
    "slideshow": {
     "slide_type": "slide"
    }
   },
   "outputs": [],
   "source": []
  },
  {
   "cell_type": "code",
   "execution_count": null,
   "metadata": {
    "slideshow": {
     "slide_type": "slide"
    }
   },
   "outputs": [],
   "source": []
  },
  {
   "cell_type": "code",
   "execution_count": null,
   "metadata": {
    "slideshow": {
     "slide_type": "slide"
    }
   },
   "outputs": [],
   "source": []
  },
  {
   "cell_type": "code",
   "execution_count": null,
   "metadata": {
    "slideshow": {
     "slide_type": "slide"
    }
   },
   "outputs": [],
   "source": []
  },
  {
   "cell_type": "code",
   "execution_count": null,
   "metadata": {
    "slideshow": {
     "slide_type": "slide"
    }
   },
   "outputs": [],
   "source": []
  },
  {
   "cell_type": "code",
   "execution_count": null,
   "metadata": {
    "slideshow": {
     "slide_type": "slide"
    }
   },
   "outputs": [],
   "source": []
  },
  {
   "cell_type": "code",
   "execution_count": null,
   "metadata": {
    "slideshow": {
     "slide_type": "slide"
    }
   },
   "outputs": [],
   "source": []
  },
  {
   "cell_type": "code",
   "execution_count": null,
   "metadata": {
    "slideshow": {
     "slide_type": "slide"
    }
   },
   "outputs": [],
   "source": []
  },
  {
   "cell_type": "markdown",
   "metadata": {
    "slideshow": {
     "slide_type": "slide"
    }
   },
   "source": [
    "# <center><font color=\"Green\">Outline Pendahuluan Canvas AI</font>\n",
    "\n",
<<<<<<< HEAD
    "* Ada banyak macam roadmap/strategi.\n",
    "* Morteza Ghobakhloo, (2018) \"The future of manufacturing industry: a strategic roadmap toward\n",
    "Industry 4.0\", Journal of Manufacturing Technology Management, Vol. 29 Issue: 6, pp.910-936,"
   ]
  },
  {
   "cell_type": "markdown",
   "metadata": {
    "slideshow": {
     "slide_type": "slide"
    }
   },
   "source": [
    "# <center><font color=\"blue\"> Data Ethics and Law\n",
    "    \n",
    "<center><img alt=\"\" src=\"images/Data Ethics and Law.png\"/></center>"
   ]
  },
  {
   "cell_type": "markdown",
   "metadata": {
    "slideshow": {
     "slide_type": "slide"
    }
   },
   "source": [
    "# <center><font color=\"blue\"> Lifecycle Machine Learning Sederhana (Technical)\n",
    "    \n",
    "<center><img alt=\"\" src=\"images/simple_ml_lifecycle.png\"/></center>"
   ]
  },
  {
   "cell_type": "markdown",
   "metadata": {},
   "source": [
    "# <center><font color=\"blue\"> Contoh Arsitektur sederhana\n",
    "    \n",
    "<center><img alt=\"\" src=\"images/contoh arsitektur machine learning ai big data science.png\"/></center>\n",
    "    \n",
    "* Data Engineer bertugas menyiapkan arsitektur yang tepat dan optimal untuk suatu institusi."
   ]
  },
  {
   "cell_type": "markdown",
   "metadata": {
    "slideshow": {
     "slide_type": "slide"
    }
   },
   "source": [
    "# <center><font color=\"blue\"> Investasi Besar? Sifat horizontal Scalability Big Data\n",
    "    \n",
    "<center><img alt=\"\" src=\"images/vertical-horizontal scalability scaling.jpg\"/></center>\n",
    "    \n",
    "* Start Small, test, deploy, scale."
   ]
  },
  {
   "cell_type": "markdown",
   "metadata": {
    "slideshow": {
     "slide_type": "slide"
    }
   },
   "source": [
    "# <center><font color=\"Blue\">Membangun Strategi dan RoadMap Implementasi AI yang Efektif</font>\n",
    "\n",
    "## <font color=\"green\"> Hasil riset CapGemini Digital Transformation dari 1000 organisasi yang menerapkan AI pada bisnis mereka:\n",
    "\n",
    "### [1]. AI Leadership sebagai hal terpenting\n",
    "* 1/3 bisnis yg sukses menerapkan AI memiliki kepala khusus (dedicated) untuk menerapkan AI.\n",
    "* Perusahaan yang emiliki dedicated leader memiliki peluang sukses sekitar 20% lebih besar.\n",
    "\n",
    "<img src=\"images/hbr manager who use ai will replace who dont.jpg\" width = \"800\"/>"
   ]
  },
  {
   "cell_type": "markdown",
   "metadata": {
    "slideshow": {
     "slide_type": "slide"
    }
   },
   "source": [
    "# <center><font color=\"Blue\">Membangun Strategi dan RoadMap Implementasi AI yang Efektif</font>\n",
    "\n",
    "## <font color=\"green\"> Hasil riset CapGemini Digital Transformation dari 1000 organisasi yang menerapkan AI pada bisnis mereka:\n",
    "\n",
    "### [2]. Tata Kelola/Governance Structure\n",
    "* 37% repondent memiliki Tata kelola AI terpusat \n",
    "* Growth 18% complaints reduced by 19%\n",
    "    \n",
    "<center><img alt=\"\" src=\"images/data governance.png\"/></center>"
   ]
  },
  {
   "cell_type": "markdown",
   "metadata": {},
   "source": [
    "# <center><font color=\"Blue\">Membangun Strategi dan RoadMap Implementasi AI yang Efektif</font>\n",
    "\n",
    "## <font color=\"green\"> Hasil riset CapGemini Digital Transformation dari 1000 organisasi yang menerapkan AI pada bisnis mereka:\n",
    "\n",
    "### [3]. Trust dan Support dari Employee\n",
    "* 61% pegawai percaya mitos AI akan menggantikan pekerjaan mereka.\n",
    "* Komunikasi \"pimpinan AI\" ke seluruh komponen perusahaan menjadi sangat penting.\n",
    "    \n",
    "<center><img alt=\"\" src=\"images/vanaya digital transformation model.png\"/></center>"
   ]
  },
  {
   "cell_type": "markdown",
   "metadata": {},
   "source": [
    "# <center><font color=\"Blue\">Membangun Strategi dan RoadMap Implementasi AI yang Efektif</font>\n",
    "\n",
    "## <font color=\"green\"> Hasil riset CapGemini Digital Transformation dari 1000 organisasi yang menerapkan AI pada bisnis mereka:\n",
    "\n",
    "### [4]. Skillls Development untuk Team\n",
    "* Dari 1000 respondent 64% menyatakan bahwa kurangnya skill menjadi kendala terbesar implementasi AI.\n",
    "* Contoh tau-data dalam memberikan solusi terhadap masalah ini:\n",
    "    \n",
    "<center><img alt=\"\" src=\"images/tau data univeristy traveloka.png\"/></center>"
   ]
=======
    "* Canvas AI VS Business Canvas\n",
    "* AI Maturity Board\n",
    "* AI Scoreboard\n",
    "* AI/Ml Implementation Tips\n",
    "<img src=\"images/Contoh_canvas ai.png\" width = \"800\"/>"
   ]
  },
  {
   "cell_type": "code",
   "execution_count": null,
   "metadata": {
    "slideshow": {
     "slide_type": "slide"
    }
   },
   "outputs": [],
   "source": []
>>>>>>> parent of 97cc456 (hgjhjhb)
  },
  {
   "cell_type": "markdown",
   "metadata": {},
   "source": [
<<<<<<< HEAD
    "# <center><font color=\"blue\"> Data University Roadmap Kurikulum\n",
    "    \n",
    "<center><img alt=\"\" src=\"images/roadmap_kurikulum.png\"/></center>"
   ]
  },
  {
   "cell_type": "markdown",
   "metadata": {},
   "source": [
    "# <center><font color=\"Blue\">Membangun Strategi dan RoadMap Implementasi AI yang Efektif</font>\n",
    "\n",
    "## <font color=\"green\"> Hasil riset CapGemini Digital Transformation dari 1000 organisasi yang menerapkan AI pada bisnis mereka:\n",
    "\n",
    "### [5]. Experiment dan Scale\n",
    "* Lab HrD khusus utk AI\n",
    "* Bekerjasama dengan Startup terkait AI\n",
    "* Bekerjasama dengan perusahaan lain di bidang yg sama\n",
    "    \n",
    "<center><img alt=\"\" src=\"images/tau-data-collaborations.jpg\"/></center>"
   ]
  },
  {
=======
    "## Outline\n",
    "- Pendahuluan Canvas AI\n",
    "- Contoh Pemakaian Canvas AI"
   ]
  },
  {
>>>>>>> parent of 97cc456 (hgjhjhb)
   "cell_type": "markdown",
   "metadata": {
    "slideshow": {
     "slide_type": "slide"
    }
   },
   "source": [
    "# <center><font color=\"blue\"> Implementation RoadMaps - simplified\n",
    "    \n",
    "<center><img alt=\"\" src=\"images/simplified machine learning implementation model.png\"/></center>"
   ]
  },
  {
   "cell_type": "markdown",
   "metadata": {
    "slideshow": {
     "slide_type": "slide"
    }
   },
   "source": [
    "# <center><font color=\"Blue\">Business Model Canvas</font>\n",
    "\n",
    "## Sebelum adanya canvas AI yang diperkenalkan oleh Louis Dorard, perusahaan menggunakan Business Model Canvas yang pertama kali dikenalkan oleh Alexander Osterwalder pada tahun 2008 untuk memberikan gambaran umum tentang perencanaan bisnis dan mampu meminimalisir kesalahan dan risiko saat eksekusi bisnis.\n",
    "\n",
    "<img src=\"images/bmc.png\"/>\n",
    "\n",
    "* image source: https://medium.com/@eirenedeborah/memetakan-model-bisnis-dengan-business-model-canvas-c842425bddb2"
   ]
  },
  {
   "cell_type": "markdown",
   "metadata": {},
   "source": [
    "# <center><font color=\"Blue\">Contoh Lain Business Model Canvas</font>\n",
    "    \n",
    "<img src=\"images/business-model-canvas-template.jpg\" width = \"800\"/>"
   ]
  },
  {
   "cell_type": "markdown",
   "metadata": {
    "slideshow": {
     "slide_type": "slide"
    }
   },
   "source": [
    "# <center><font color=\"Blue\">Analogi ke Canvas AI</font>\n",
    "    \n",
    "## Machine Learning Canvas adalah kerangka untuk menggambarkan atau memvisualisasikan model AI dengan memikirkan bagaimana akan mendapatkan data, mengolah data, bagaimana kita menggunakan prediksi.\n",
    "    \n",
    "<img src=\"images/Contoh_canvas ai.png\" width = \"800\"/>\n",
    "    \n",
    "- https://medium.com/louis-dorard/from-data-to-ai-with-the-machine-learning-canvas-part-i-d171b867b047\n",
    "- https://medium.com/intuitionmachine/introducing-the-deep-learning-canvas-a2e80a998f11\n",
    "- https://towardsdatascience.com/introducing-the-ai-project-canvas-e88e29eb7024"
   ]
  },
  {
   "cell_type": "markdown",
   "metadata": {
    "slideshow": {
     "slide_type": "slide"
    }
   },
   "source": [
    "# <center><font color=\"Blue\">Perusahaan yang yang menggunakan Canvas AI</font>\n",
    "\n",
    "<img src=\"images/contoh perusahaan pengguna canvas AI.png\" width = \"800\"/>\n",
    "\n",
    "* https://www.ownml.co/machine-learning-canvas"
   ]
  },
  {
   "cell_type": "markdown",
   "metadata": {
    "slideshow": {
     "slide_type": "slide"
    }
   },
   "source": [
    "## Kelebihan\n",
    "1. Mengidentifikasi permasalahan dengan jelas.\n",
    "2. Mengantisipasi biaya yang tidak diinginkan.\n",
    "3. Memperbaiki ide\n",
    "\n",
    "## Kekurangan\n",
    "1. Membatasi pemikiran strategis dengan berfokus pada apa yang diinginkan customer, daripada mencoba hal lain yang bisa lebih menguntungkan\n",
    "\n",
    "## Tools untuk membuat Canvas AI\n",
    "- Alat yang paling umum dan tersebar luas untuk mengembangkan dan memvisualisasikan model AI adalah Canvas AI dari Louis Dorard, Ph.D\n",
    "- Ms.Word\n",
    "- Visual Paradigm Online (VP Online) https://online.visual-paradigm.com/diagrams/templates/analysis-canvas/strategy-tools/machine-learning-canvas/\n",
    "- dan sebagainya"
   ]
  },
  {
   "cell_type": "markdown",
   "metadata": {
    "slideshow": {
     "slide_type": "slide"
    }
   },
   "source": []
  },
  {
   "cell_type": "code",
   "execution_count": null,
   "metadata": {
    "slideshow": {
     "slide_type": "slide"
    }
   },
   "outputs": [],
   "source": []
  }
 ],
 "metadata": {
  "celltoolbar": "Slideshow",
  "kernelspec": {
   "display_name": "Python 3",
   "language": "python",
   "name": "python3"
  },
  "language_info": {
   "codemirror_mode": {
    "name": "ipython",
    "version": 3
   },
   "file_extension": ".py",
   "mimetype": "text/x-python",
   "name": "python",
   "nbconvert_exporter": "python",
   "pygments_lexer": "ipython3",
   "version": "3.6.13"
  },
  "latex_envs": {
   "LaTeX_envs_menu_present": true,
   "autoclose": false,
   "autocomplete": true,
   "bibliofile": "biblio.bib",
   "cite_by": "apalike",
   "current_citInitial": 1,
   "eqLabelWithNumbers": true,
   "eqNumInitial": 1,
   "hotkeys": {
    "equation": "Ctrl-E",
    "itemize": "Ctrl-I"
   },
   "labels_anchors": false,
   "latex_user_defs": false,
   "report_style_numbering": false,
   "user_envs_cfg": false
  }
 },
 "nbformat": 4,
 "nbformat_minor": 4
}
