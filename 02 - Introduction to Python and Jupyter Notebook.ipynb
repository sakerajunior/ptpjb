{
 "cells": [
  {
   "cell_type": "markdown",
   "metadata": {
    "slideshow": {
     "slide_type": "slide"
    }
   },
   "source": [
    "# <center><font color=\"green\"> https://bit.ly/ptpjb-2021-02</font><br><font color=\"blue\">02 - Pengenalan Python & Jupyter Notebook</font></center>\n",
    "\n",
    "<center><img alt=\"\" src=\"images/cover_ptpjb_2021.png\"/></center> \n",
    "\n",
    "## <center><font color=\"blue\">tau-data Indonesia</font><br>(C) Taufik Sutanto - 2021</center>\n",
    "<center><a href=\"https://tau-data.id\">https://tau-data.id</a> ~ <a href=\"mailto:taufik@tau-data.id\">taufik@tau-data.id</a></center>"
   ]
  },
  {
   "cell_type": "markdown",
   "metadata": {
    "slideshow": {
     "slide_type": "slide"
    }
   },
   "source": [
    "# <center><font color=\"blue\"> Outline\n",
    "\n",
    "- Pengenalan Python\n",
    "- Pengenalan Jupyter Notebook - Google Colaboratory\n",
    "- Basic Syntax\n",
    "- Struktur Data Dasar\n",
    "- Logika dan pengulangan\n",
    "- Fungsi\n",
    "- Modules\n",
    "\n",
    "<img src = \"images/pyhton_jupyter.png\" />"
   ]
  },
  {
   "cell_type": "markdown",
   "metadata": {
    "slideshow": {
     "slide_type": "slide"
    }
   },
   "source": [
    "# <center><font color=\"blue\"> Sejarah singkat & Aplikasi Python\n",
    "    \n",
    "<p>Python diperkenalkan di sekitar tahun 1980 oleh&nbsp;<strong>Guido van Rossum</strong>.</p>\n",
    "\n",
    "<p>Python memiliki system yang &quot;mirip&quot; seperti Java (multi platform dan memiliki kernel), namun lebih mudah (tanpa deklarasi variabel seperti matlab). Python juga ringan sehingga supported di IoT/SBC devices.</p>\n",
    "\n",
    "<p>Tidak seperti <strong>R</strong> atau PHP yang merupakan specific programming language, Python adalah Full Programming Language yang dapat diaplikasikan pada:</p>\n",
    "\n",
    "<ol>\n",
    "\t<li>Desktop Application (GUI/Service)</li>\n",
    "\t<li>Web Programming (Jango/Flask)</li>\n",
    "\t<li>Analisa Data (scikit, Pandas, gensim, etc)</li>\n",
    "\t<li>Mobile App Programming (android, ios)</li>\n",
    "\t<li>Big Data distributed Programming</li>\n",
    "\t<li>GPU Programming in Deep Learning, etc</li>\n",
    "</ol>\n",
    "<center><img alt=\"\" src=\"images/guido.png\" style=\"width: 400px;\" /></center>"
   ]
  },
  {
   "cell_type": "markdown",
   "metadata": {
    "slideshow": {
     "slide_type": "slide"
    }
   },
   "source": [
    "# <center><font color=\"blue\"> Filosofi (Zen of) Python ==> Pythonista\n",
    "\n",
    "<center><img alt=\"\" src=\"images/zen-of-python.png\" style=\"height: 500px;\" /></center>"
   ]
  },
  {
   "cell_type": "markdown",
   "metadata": {
    "slideshow": {
     "slide_type": "slide"
    }
   },
   "source": [
    "# <center><font color=\"blue\"> Python NameSpace\n",
    "\n",
    "**Namespace** adalah ruang yang digunakan oleh Python di memory untuk menyimpan koleksi symbolic names seperti nama-nama variable, fungsi, dan object lainnya yang di definisikan dalam code kita. Ada beberapa macam Namespace di Python, contoh dan jenisnya dapat dilihat pada Gambar.\n",
    "    \n",
    "<center><img alt=\"\" src=\"images/Python-NameSpace-263x300.png\" style=\"height: 300px;\" /></center>"
   ]
  },
  {
   "cell_type": "markdown",
   "metadata": {
    "slideshow": {
     "slide_type": "slide"
    }
   },
   "source": [
    "# <center><font color=\"blue\">  Mengapa Python? (Alasan Dasar)\n",
    "\n",
    "* Free - Open Source\n",
    "* Mudah dipelajari\n",
    "* Tidak \"berat\"\n",
    "* Multiplatform (Windows, Linux, Mac)\n",
    "* high Level Language\n",
    "\n",
    "<img alt=\"\" src=\"images/whyPython.jpg\" style=\"height: 300px;\" />"
   ]
  },
  {
   "cell_type": "markdown",
   "metadata": {
    "slideshow": {
     "slide_type": "slide"
    }
   },
   "source": [
    "# <center><font color=\"blue\"> Mengapa Python: Popularitas Python\n",
    "\n",
    "* Komunitas pengguna besar\n",
    "* Banyak digunakan Industri dan berbagai lembaga lain (misal KL/Pendidikan)\n",
    "* Permintaan tinggi\n",
    "\n",
    "<img alt=\"\" src=\"images/1_why_python.jpeg\"  style=\"height: 300px;\" />"
   ]
  },
  {
   "cell_type": "markdown",
   "metadata": {
    "slideshow": {
     "slide_type": "slide"
    }
   },
   "source": [
    "# <center><font color=\"blue\"> Mengapa Python: Dapat diaplikasikan di berbagai platform\n",
    "\n",
    "* Python GUI (**desktop application**): Kivy, Libavg, PyQT, PySimpleGUI, Pyforms, Tkinter, Wax, WxPython.\n",
    "* Python **Web**: Django, Flask\n",
    "* Python **Mobile App**: Kivy, BeeWare\n",
    "* Python for **IoT**: run on SBC (ARM-based)\n",
    "* **Game** Development: pygame, pykira, pyglet, PyOpenGL, etc.\n",
    "* Python in **cloud**: Google Colab, Kaggle\n",
    "\n",
    "<img alt=\"\" src=\"images/python-applications.png\"  style=\"height: 300px;\"/>"
   ]
  },
  {
   "cell_type": "markdown",
   "metadata": {
    "slideshow": {
     "slide_type": "slide"
    }
   },
   "source": [
    "# <center><font color=\"blue\"> Mengapa Python: Performa\n",
    "\n",
    "* Python adalah bahasa pemrograman interpreter, JIT, maupun Compiler sekaligus!\n",
    "* Module dapat ditulis dengan low level language seperti C dan fortran (contoh Numpy)\n",
    "* Dapat import module dari bahasa pemrograman lain (misal R dan Julia)\n",
    "* https://tau-data.id/python-showdown/\n",
    "\n",
    "<img alt=\"\" src=\"images/1_Python_VS_TheRest.png\"  style=\"height: 300px;\"/>"
   ]
  },
  {
   "cell_type": "markdown",
   "metadata": {
    "slideshow": {
     "slide_type": "slide"
    }
   },
   "source": [
    "# <center><font color=\"blue\"> Mengapa Python: Interpreter, JIT, dan Compiler\n",
    "\n",
    "* Interpreter (default)\n",
    "* JIT (just-In-Time Compiler): Numba\n",
    "* Python C-Compiler: Cython\n",
    "* https://tau-data.id/cython-semudah-python/\n",
    "\n",
    "<img alt=\"\" src=\"images/Cython_vs_Java.png\"  style=\"height: 300px;\"/>"
   ]
  },
  {
   "cell_type": "markdown",
   "metadata": {
    "slideshow": {
     "slide_type": "slide"
    }
   },
   "source": [
    "# <center><font color=\"blue\"> Beberapa kelemahan Python\n",
    "* Reference to Variabel (can be a good thing - older version)\n",
    "* Dependensi dan Versi Module\n",
    "* Dependensi Compiler C yang spesific dan terkadang tidak konsisten\n",
    "* Message Parsing (process locked) - di pemrograman paralel\n",
    "\n",
    "# <center><font color=\"blue\"> Python Distro\n",
    "* \"Vanilla\" Python: https://www.python.org/\n",
    "* Anaconda : https://www.anaconda.com/distribution/#download-section\n",
    "* WinPython: https://sourceforge.net/projects/winpython/files/ ==> **Recommended** for academics\n",
    "\n",
    "Catt: Kita akan menggunakan **Python 3.6** ... Why?\n",
    "<center><img alt=\"\" src=\"images/meme-cartoon/Python_Gil-223x300.jpg\" style=\"height: 300px;\" />"
   ]
  },
  {
   "cell_type": "markdown",
   "metadata": {
    "slideshow": {
     "slide_type": "slide"
    }
   },
   "source": [
    "# <center><font color=\"blue\"> Sekilas Jupyter Notebook\n",
    "\n",
    "* \"Notebook\" dalam hal ini adalah IDE yang interaktif: editor + output & fungsi lainnya.\n",
    "* Ada 3 macam Cell: Code, MarkDown, & Raw\n",
    "    * Code : <font color=\"green\">**escape+y**</font>  ==> Kita menulis program Python di cell code\n",
    "    * Markdown: <font color=\"green\">**escape+m**</font> ==> Mirip html, untuk menulis seperti format Ms Word.\n",
    "    * menjalankan cell dengan cara <font color=\"green\">**ctrl+Enter**</font>\n",
    "    * Menjalankan cell lalu membuat cell baru dibawahnya <font color=\"green\">**alt+Enter**</font>\n",
    "* Markdown:\n",
    "    - #, ##, dan ### Heading 1, 2, dan 3\n",
    "    - **, dan * bold dan italics\n",
    "    - 1,2,3 dan \"-\" di awal baris sebagai numbering dan list\n",
    "    - Bahkan dapat menggunakan perintah LaTex\n",
    "* Dapat digunakan untuk bahasa pemrograman lain: JUlia, PYThon, & R.\n",
    "\n",
    "<center><img alt=\"\" src=\"images/jupyter notebook interface introduction.png\" style=\"width: 600px;\" />"
   ]
  },
  {
   "cell_type": "markdown",
   "metadata": {
    "slideshow": {
     "slide_type": "slide"
    }
   },
   "source": [
    "# Heading 1\n",
    "\n",
    "## Heading 2 (sub-bab)\n",
    "\n",
    "* Bulet 1\n",
    "* item 2\n",
    "\n",
    "1. satu\n",
    "2. dua "
   ]
  },
  {
   "cell_type": "markdown",
   "metadata": {
    "slideshow": {
     "slide_type": "slide"
    }
   },
   "source": [
    "# <center><font color=\"blue\"> Google Colaboratory\n",
    "\n",
    "## https://colab.research.google.com\n",
    "\n",
    "* Free cloud computing (**Python 3.6**).\n",
    "* Cocok untuk komputer yang memiliki spesifikasi yang relatif minim dan atau OS yang digunakan Macintosh. \n",
    "* Fasilitas runtime **GPU & TPU** gratis selama 10 jam (penting untuk Deep Learning)\n",
    "* Dapat dipadukan dengan Google Drive (back-up&Sync): https://www.google.com/drive/download/backup-and-sync/\n",
    "\n",
    "<center><img alt=\"\" src=\"images/Google-Colaboratory-interface.png\" style=\"width: 600px;\" />"
   ]
  },
  {
   "cell_type": "markdown",
   "metadata": {
    "slideshow": {
     "slide_type": "slide"
    }
   },
   "source": [
    "# <center><font color=\"green\"> Diskusi: *Bilamana menggunakan IDE biasa (bukan notebook)*?"
   ]
  },
  {
   "cell_type": "markdown",
   "metadata": {
    "slideshow": {
     "slide_type": "slide"
    }
   },
   "source": [
    "<h1><font color=\"blue\">Referensi untuk belajar (mandiri) Python</font></h1>\n",
    "\n",
    "* Pengenalan yang komprehensif **tau-data Indonesia**: https://tau-data.id/adsp-01/ & https://tau-data.id/adsp-02/\n",
    "* Python basic: https://www.python-course.eu/python3_history_and_philosophy.php \n",
    "* Data Science Basic: https://scikit-learn.org/stable/tutorial/index.html\n",
    "* Advance Python: http://andy.terrel.us/blog/2012/09/27/starting-with-python/\n",
    "* Visualisasi di Python: https://matplotlib.org/gallery.html\n",
    "\n",
    "<center><img alt=\"\" src=\"images/tau-data_banner_large.jpg\" style=\"width: 600px;\" />"
   ]
  },
  {
   "cell_type": "markdown",
   "metadata": {
    "slideshow": {
     "slide_type": "slide"
    }
   },
   "source": [
    "# <center><font color=\"blue\"> Syntax Dasar Python\n",
    "\n",
    "Sesuai dengan filosofi dasarnya, Python termasuk salah satu bahasa pemrograman yang paling mudah dipelajari dan penulisan code-nya terstruktur dengan baik. Beberapa hal yang mendukung hal ini:\n",
    "\n",
    "* Tidak perlu mendeklarasikan variable sebelum pemakaian.\n",
    "* Tidak membutuhkan “;” di akhir setiap baris.\n",
    "* Tidak membutuhkan kurung kurawal {} di beberapa instruksinya.\n",
    "* Menggunakan indent (tab/spasi x4) yang membuat penulisan program tertata dengan rapih.\n",
    "    \n",
    "<center><img alt=\"\" src=\"images/python-syntax-2-.jpg\" style=\"width: 600px;\" />"
   ]
  },
  {
   "cell_type": "markdown",
   "metadata": {
    "slideshow": {
     "slide_type": "slide"
    }
   },
   "source": [
    "# <center><font color=\"blue\"> Struktur Data Dasar Python\n",
    "    \n",
    "Struktur Data yang sederhana (primitive) di Python meliputi:\n",
    "\n",
    "* Atomic: Boolean, integer, float, string.\n",
    "* Non-Atomic: Tuple, List, Set, Dictionary.\n",
    "    \n",
    "**Catatan**: \n",
    " - Semua variable di python adalah class/object yang memiliki property dan function\n",
    " - kita bisa akses semua property dan function ini via tombol \"tab\" atau perintah built-in \"dir(var)\"\n",
    "    \n",
    "<center><img alt=\"\" src=\"images/Python-data-structure.jpg\" style=\"width: 600px;\" />"
   ]
  },
  {
   "cell_type": "code",
   "execution_count": 3,
   "metadata": {
    "slideshow": {
     "slide_type": "slide"
    }
   },
   "outputs": [
    {
     "name": "stdout",
     "output_type": "stream",
     "text": [
      "C = True, A = 3\n"
     ]
    },
    {
     "data": {
      "text/plain": [
       "(2.5, 3)"
      ]
     },
     "execution_count": 3,
     "metadata": {},
     "output_type": "execute_result"
    }
   ],
   "source": [
    "# Demonstrasi Syntax dasar ~ Komentar satu baris ditandai dengan tanda hash # dan \n",
    "\"\"\"\n",
    "3 buah double quote untuk komentar lebih dari satu baris\n",
    "Seperti komentar ini.\n",
    "\"\"\"\n",
    "# python (seperti matlab) tidak memerlukan deklarasi variabel & boleh \"juggling variable\" ==> sangat tidak disarankan.\n",
    "A = 3 # integer\n",
    "B = 2.5 # float\n",
    "C = True # Boolean, False\n",
    "D = 'abcde hijk' # string, boleh \" atau '\n",
    "N = None # special atomic value di python, mirip NULL di database. Tapi beda dengan NaN\n",
    "\n",
    "print(\"C = {}, A = {}\".format(C, A)) \n",
    "# perintah print mengeluarkan output, menggunakan syntax \"format\" kita tidak perlu mengetahui tipe variabel C\n",
    "D # baris ini tidak akan muncul di output\n",
    "B, A # di jupyter notebook, baris terakhir setiap cell automatis di \"print\""
   ]
  },
  {
   "cell_type": "code",
   "execution_count": 4,
   "metadata": {
    "slideshow": {
     "slide_type": "slide"
    }
   },
   "outputs": [
    {
     "name": "stdout",
     "output_type": "stream",
     "text": [
      "<class 'int'>\n",
      "['__add__', '__class__', '__contains__', '__delattr__', '__dir__', '__doc__', '__eq__', '__format__', '__ge__', '__getattribute__', '__getitem__', '__getnewargs__', '__gt__', '__hash__', '__init__', '__init_subclass__', '__iter__', '__le__', '__len__', '__lt__', '__mod__', '__mul__', '__ne__', '__new__', '__reduce__', '__reduce_ex__', '__repr__', '__rmod__', '__rmul__', '__setattr__', '__sizeof__', '__str__', '__subclasshook__', 'capitalize', 'casefold', 'center', 'count', 'encode', 'endswith', 'expandtabs', 'find', 'format', 'format_map', 'index', 'isalnum', 'isalpha', 'isdecimal', 'isdigit', 'isidentifier', 'islower', 'isnumeric', 'isprintable', 'isspace', 'istitle', 'isupper', 'join', 'ljust', 'lower', 'lstrip', 'maketrans', 'partition', 'replace', 'rfind', 'rindex', 'rjust', 'rpartition', 'rsplit', 'rstrip', 'split', 'splitlines', 'startswith', 'strip', 'swapcase', 'title', 'translate', 'upper', 'zfill']\n"
     ]
    }
   ],
   "source": [
    "\"\"\"\n",
    " untuk mengetahui type variabel itu apa dengan menggunakan perintah \"type\"\n",
    " dir untuk mengetahui fungsi dan propertynya\n",
    " Kedua perintah ini sangat penting untuk Data Science/ML/AI ... Mengapa?\n",
    "\"\"\"\n",
    "print(type(A))\n",
    "print(dir(D)) # apa yg terjadi jika di baris ini tidak menggunakan perintah print?"
   ]
  },
  {
   "cell_type": "code",
   "execution_count": 5,
   "metadata": {},
   "outputs": [
    {
     "data": {
      "text/plain": [
       "<function str.capitalize>"
      ]
     },
     "execution_count": 5,
     "metadata": {},
     "output_type": "execute_result"
    }
   ],
   "source": [
    "D.capitalize"
   ]
  },
  {
   "cell_type": "markdown",
   "metadata": {
    "slideshow": {
     "slide_type": "slide"
    }
   },
   "source": [
    "# <center><font color=\"blue\"> Batasan Nilai Variable di Python (Penting untuk dipahami Data Scientists)\n",
    "    \n",
    "### <center><font color=\"red\"> Memahami bahwa floating point di komputer bukanlah bilangan real seperti di Matematika sangat penting bagi data scientists / AI Engineer.\n",
    "    \n",
    "<center><img alt=\"\" src=\"images/floating_point_numbers_.png\" style=\"height: 250px;\" />"
   ]
  },
  {
   "cell_type": "code",
   "execution_count": 6,
   "metadata": {
    "slideshow": {
     "slide_type": "slide"
    }
   },
   "outputs": [
    {
     "name": "stdout",
     "output_type": "stream",
     "text": [
      "Max Integer =  9223372036854775807\n",
      "Floating Point  information =  sys.float_info(max=1.7976931348623157e+308, max_exp=1024, max_10_exp=308, min=2.2250738585072014e-308, min_exp=-1021, min_10_exp=-307, dig=15, mant_dig=53, epsilon=2.220446049250313e-16, radix=2, rounds=1)\n"
     ]
    }
   ],
   "source": [
    "import sys\n",
    "print(\"Max Integer = \", sys.maxsize)\n",
    "print(\"Floating Point  information = \", sys.float_info)"
   ]
  },
  {
   "cell_type": "markdown",
   "metadata": {
    "slideshow": {
     "slide_type": "fragment"
    }
   },
   "source": [
    "<center><img alt=\"\" src=\"images/Float_Info.PNG\" style=\"height: 375px;\" />"
   ]
  },
  {
   "cell_type": "markdown",
   "metadata": {
    "slideshow": {
     "slide_type": "fragment"
    }
   },
   "source": [
    "# <center><font color=\"green\"> Diskusi: *Seberapa penting memahami epsilon, underflow dan overflow ini*?"
   ]
  },
  {
   "cell_type": "markdown",
   "metadata": {
    "slideshow": {
     "slide_type": "slide"
    }
   },
   "source": [
    "# <center><font color=\"blue\"> Juggling Variable\n",
    "\n",
    "* hati-hati dengan \"juggling variable\": sangat tidak disarankan di (big) data science maupun pemrograman secara umum\n",
    "* \"juggling variable\" adalah perubahan tipe variabel ditengah code\n",
    "* Tidak efisien (mengapa?)\n",
    "    \n",
    "<center><img alt=\"\" src=\"images/meme-cartoon/juggle-juggling.gif\" style=\"height: 200px;\" />"
   ]
  },
  {
   "cell_type": "code",
   "execution_count": 7,
   "metadata": {
    "scrolled": true,
    "slideshow": {
     "slide_type": "fragment"
    }
   },
   "outputs": [
    {
     "name": "stdout",
     "output_type": "stream",
     "text": [
      "<class 'int'> <class 'float'>\n"
     ]
    }
   ],
   "source": [
    "r = 6 \n",
    "print(type(r), type(r/2)) # Awalnya integer, tapi setelah dibagi 2 menjadi float (walau 6 dan 2 = integer)"
   ]
  },
  {
   "cell_type": "code",
   "execution_count": 8,
   "metadata": {
    "slideshow": {
     "slide_type": "fragment"
    }
   },
   "outputs": [
    {
     "name": "stdout",
     "output_type": "stream",
     "text": [
      "<class 'float'> <class 'float'>\n"
     ]
    }
   ],
   "source": [
    "# Solusi \"juggling variable\"\n",
    "r = 6.0  # ditulis dari awal sebagai float\n",
    "print(type(r), type(r/2))"
   ]
  },
  {
   "cell_type": "markdown",
   "metadata": {
    "slideshow": {
     "slide_type": "slide"
    }
   },
   "source": [
    "# <font color=\"blue\"> Review Boolean statements </font>\n",
    "\n",
    "<img src=\"images/meme-cartoon/4_meme_A.jpg\" style=\"height: 300px;\" />"
   ]
  },
  {
   "cell_type": "code",
   "execution_count": 9,
   "metadata": {
    "slideshow": {
     "slide_type": "fragment"
    }
   },
   "outputs": [
    {
     "name": "stdout",
     "output_type": "stream",
     "text": [
      "AND:  False , ATAU:  False\n",
      "OR:   True , ATAU:  True\n"
     ]
    }
   ],
   "source": [
    "# Boolean Statements in Python\n",
    "a = False \n",
    "b = True\n",
    "print(\"AND: \", a & b, \", ATAU: \",  a and b)\n",
    "print(\"OR:  \", a | b, \", ATAU: \",  a or b)"
   ]
  },
  {
   "cell_type": "markdown",
   "metadata": {
    "slideshow": {
     "slide_type": "slide"
    }
   },
   "source": [
    "# <center><font color=\"blue\"> Struktur Data Dasar Python Non-Atomic </font>\n",
    "\n",
    "<img src=\"images/tuple-list-set-dictionary-python.png\" style=\"height: 200px;\" />\n",
    "    \n",
    "* List dan Tuple di Python bukan Array ... Mengapa?\n",
    "* key di Dictionary adalah set\n",
    "* List dapat ditambahkan atau hapus lewat perintah **append** atau **remove**\n",
    "* **String di python adalah tuple**\n",
    "* Semua tipe variabel diatas adalah object dengan property dan fungsi yang berbeda\n",
    "* Operasi \"+\" concate 2 list (atau \"extend\")"
   ]
  },
  {
   "cell_type": "code",
   "execution_count": 10,
   "metadata": {
    "slideshow": {
     "slide_type": "fragment"
    }
   },
   "outputs": [
    {
     "name": "stdout",
     "output_type": "stream",
     "text": [
      "L=[1, 2, 3, 4], T=(1, 2, 3, 4), S={1, 2, 3, 4}, D={0: 'a', 1: 'b', 'c': 3, 'd': 4}\n"
     ]
    }
   ],
   "source": [
    "# \"Array\" dasar di Python bisa berupa List, Tuple, Set atau Dictionary\n",
    "L = [1, 2, 3, 4]  # List : Mutable - nilai bisa berubah index mulai dari 0\n",
    "T = (1, 2, 3, 4)  # Tuple ~ List tapi imutable\n",
    "S = {1, 2, 3, 4}  # Set ~ Tidak memiliki index\n",
    "D = {0:'a', 1:'b', 'c':3, 'd':4} # Dictionary ~ index flexible\n",
    "print(\"L={}, T={}, S={}, D={}\".format(L, T, S, D))"
   ]
  },
  {
   "cell_type": "code",
   "execution_count": 11,
   "metadata": {},
   "outputs": [
    {
     "data": {
      "text/plain": [
       "[2, 33, 7, 8, 6.7, 'string', True]"
      ]
     },
     "execution_count": 11,
     "metadata": {},
     "output_type": "execute_result"
    }
   ],
   "source": [
    "List = [2, 5, 7, 8, 6.7, 'string', True]\n",
    "List[1] = 33\n",
    "List"
   ]
  },
  {
   "cell_type": "code",
   "execution_count": 12,
   "metadata": {
    "slideshow": {
     "slide_type": "fragment"
    }
   },
   "outputs": [
    {
     "data": {
      "text/plain": [
       "[11, 33, 55, 66, 77]"
      ]
     },
     "execution_count": 12,
     "metadata": {},
     "output_type": "execute_result"
    }
   ],
   "source": [
    "[11,33,55] + [66, 77]"
   ]
  },
  {
   "cell_type": "markdown",
   "metadata": {
    "slideshow": {
     "slide_type": "slide"
    }
   },
   "source": [
    "# <center><font color=\"blue\"> Pointer to Reference </font>\n",
    "## <font color=\"red\"> Hati-hati dengan copy of reference (Pointer to Variabel) yg implisit di Python </font>"
   ]
  },
  {
   "cell_type": "code",
   "execution_count": 13,
   "metadata": {
    "slideshow": {
     "slide_type": "fragment"
    }
   },
   "outputs": [
    {
     "name": "stdout",
     "output_type": "stream",
     "text": [
      "A =  [99, 3, 4] B =  [99, 3, 4]\n"
     ]
    }
   ],
   "source": [
    "# Hati-hati dengan copy of reference (Pointer to Variabel) yg implisit di Python\n",
    "A =[2,3,4]\n",
    "B = A\n",
    "A[0] = 99 # Kita tidak melakukan apa-apa ke B\n",
    "print('A = ', A, 'B = ', B)"
   ]
  },
  {
   "cell_type": "code",
   "execution_count": 14,
   "metadata": {
    "slideshow": {
     "slide_type": "fragment"
    }
   },
   "outputs": [
    {
     "name": "stdout",
     "output_type": "stream",
     "text": [
      "A =  [2, 3, 4, 7] B =  [2, 3, 4]\n"
     ]
    }
   ],
   "source": [
    "A =[2,3,4]\n",
    "B = A.copy() # ini yang mirip dgn bahasa pemrograman lain B=A\n",
    "A.append(7)\n",
    "print('A = ', A, 'B = ', B)"
   ]
  },
  {
   "cell_type": "markdown",
   "metadata": {
    "slideshow": {
     "slide_type": "slide"
    }
   },
   "source": [
    "# <center><font color=\"blue\"> Slicing List/Tuple </font>\n",
    "<center><img src=\"images/taudata-python-slicing.png\" style=\"height: 300px;\" /></center>\n",
    "    \n",
    "* colon \":\" artinya hingga\n",
    "* **-1** artinya index terakhir"
   ]
  },
  {
   "cell_type": "code",
   "execution_count": 15,
   "metadata": {
    "slideshow": {
     "slide_type": "fragment"
    }
   },
   "outputs": [
    {
     "data": {
      "text/plain": [
       "[7, 6, 5, 4, 3]"
      ]
     },
     "execution_count": 15,
     "metadata": {},
     "output_type": "execute_result"
    }
   ],
   "source": [
    "L = [3, 4, 5, 6, 7]\n",
    "L = L[::-1]\n",
    "L"
   ]
  },
  {
   "cell_type": "markdown",
   "metadata": {
    "slideshow": {
     "slide_type": "slide"
    }
   },
   "source": [
    "# <center><font color=\"blue\"> String di Python\n",
    "\n",
    "* string di python bisa menggunakan ' atau \"\n",
    "* String adalah Tuple (immutable)\n",
    "* Fungsi paling berguna di Python String (gambar)\n",
    "    \n",
    "<center><img src=\"images/python-string-methods-functions.png\" style=\"height: 200px;\" />"
   ]
  },
  {
   "cell_type": "code",
   "execution_count": 16,
   "metadata": {
    "slideshow": {
     "slide_type": "fragment"
    }
   },
   "outputs": [
    {
     "name": "stdout",
     "output_type": "stream",
     "text": [
      "Hello World\n",
      "Hello World\n",
      "Hello 'World'\n",
      "Hello \"World\"\n"
     ]
    }
   ],
   "source": [
    "print('Hello World')\n",
    "print(\"Hello World\")\n",
    "print(\"Hello 'World'\")\n",
    "print(\"Hello \\\"World\\\"\")"
   ]
  },
  {
   "cell_type": "code",
   "execution_count": 17,
   "metadata": {},
   "outputs": [
    {
     "data": {
      "text/plain": [
       "'hai i'"
      ]
     },
     "execution_count": 17,
     "metadata": {},
     "output_type": "execute_result"
    }
   ],
   "source": [
    "S = \"hai ini sebuah string\"\n",
    "S[:5]"
   ]
  },
  {
   "cell_type": "code",
   "execution_count": 18,
   "metadata": {},
   "outputs": [
    {
     "data": {
      "text/plain": [
       "['__add__',\n",
       " '__class__',\n",
       " '__contains__',\n",
       " '__delattr__',\n",
       " '__dir__',\n",
       " '__doc__',\n",
       " '__eq__',\n",
       " '__format__',\n",
       " '__ge__',\n",
       " '__getattribute__',\n",
       " '__getitem__',\n",
       " '__getnewargs__',\n",
       " '__gt__',\n",
       " '__hash__',\n",
       " '__init__',\n",
       " '__init_subclass__',\n",
       " '__iter__',\n",
       " '__le__',\n",
       " '__len__',\n",
       " '__lt__',\n",
       " '__mod__',\n",
       " '__mul__',\n",
       " '__ne__',\n",
       " '__new__',\n",
       " '__reduce__',\n",
       " '__reduce_ex__',\n",
       " '__repr__',\n",
       " '__rmod__',\n",
       " '__rmul__',\n",
       " '__setattr__',\n",
       " '__sizeof__',\n",
       " '__str__',\n",
       " '__subclasshook__',\n",
       " 'capitalize',\n",
       " 'casefold',\n",
       " 'center',\n",
       " 'count',\n",
       " 'encode',\n",
       " 'endswith',\n",
       " 'expandtabs',\n",
       " 'find',\n",
       " 'format',\n",
       " 'format_map',\n",
       " 'index',\n",
       " 'isalnum',\n",
       " 'isalpha',\n",
       " 'isdecimal',\n",
       " 'isdigit',\n",
       " 'isidentifier',\n",
       " 'islower',\n",
       " 'isnumeric',\n",
       " 'isprintable',\n",
       " 'isspace',\n",
       " 'istitle',\n",
       " 'isupper',\n",
       " 'join',\n",
       " 'ljust',\n",
       " 'lower',\n",
       " 'lstrip',\n",
       " 'maketrans',\n",
       " 'partition',\n",
       " 'replace',\n",
       " 'rfind',\n",
       " 'rindex',\n",
       " 'rjust',\n",
       " 'rpartition',\n",
       " 'rsplit',\n",
       " 'rstrip',\n",
       " 'split',\n",
       " 'splitlines',\n",
       " 'startswith',\n",
       " 'strip',\n",
       " 'swapcase',\n",
       " 'title',\n",
       " 'translate',\n",
       " 'upper',\n",
       " 'zfill']"
      ]
     },
     "execution_count": 18,
     "metadata": {},
     "output_type": "execute_result"
    }
   ],
   "source": [
    "dir(S)"
   ]
  },
  {
   "cell_type": "code",
   "execution_count": 19,
   "metadata": {
    "slideshow": {
     "slide_type": "fragment"
    }
   },
   "outputs": [
    {
     "data": {
      "text/plain": [
       "'apa kabarsaudara hari ini'"
      ]
     },
     "execution_count": 19,
     "metadata": {},
     "output_type": "execute_result"
    }
   ],
   "source": [
    "S = \"       apa Kabar\\\n",
    "ANDA hari ini \"\n",
    "S = S.lower().replace(\"anda\", \"saudara\").strip()\n",
    "S"
   ]
  },
  {
   "cell_type": "markdown",
   "metadata": {},
   "source": [
    "<img alt=\"\" src=\"images/meme-cartoon/meme_AI_if_statements.png\" style=\"height: 300px\" />"
   ]
  },
  {
   "cell_type": "markdown",
   "metadata": {
    "slideshow": {
     "slide_type": "slide"
    }
   },
   "source": [
    "<h1 id=\"Pendahuluan-Logika-Percabangan-(Conditional-Statement)---IF-\"><font color=\"blue\">Pendahuluan Logika Percabangan (Conditional Statement) - IF </font></h1>\n",
    "\n",
    "<ul>\n",
    "\t<li>Bentuk (unit) paling dasar dari kecerdasan buatan atau pembelajaran komputer, dahulu disebut sebagai <em>explicit rules machine learning</em> (but of course it&#39;s not AI ... :)).</li>\n",
    "\t<li>Bentuk umumnya:<br />\n",
    "\t<strong>IF</strong> (<em>kondisi</em>) <strong>MAKA</strong> (<em>tindakan</em>)</li>\n",
    "\t<li>Syarat utamanya adalah &quot;kondisi/syarat&quot; harus bernilai Boolean (True/False), sedangkan tindakan bisa apa saja.</li>\n",
    "</ul>\n",
    "<img alt=\"\" src=\"images/4_Cond_Statement_as_ML0.png\" style=\"width: 800px ; height: 300px\" />"
   ]
  },
  {
   "cell_type": "markdown",
   "metadata": {
    "slideshow": {
     "slide_type": "slide"
    }
   },
   "source": [
    "<h1><font color=\"blue\">Telaah Komponen Percabangan - IF </font></h1>\n",
    "\n",
    "<p><font color=\"blue\"><img alt=\"\" src=\"images/4_IF_Components_.png\" style=\"width: 800px; height: 424px;\" /></font></p>"
   ]
  },
  {
   "cell_type": "markdown",
   "metadata": {
    "slideshow": {
     "slide_type": "slide"
    }
   },
   "source": [
    "# <center><font color=\"blue\"> Indenting di Python\n",
    "\n",
    "* Python menggunakan \"indenting\" dan bukan tanda kurung seperti banyak bahasa pemrograman lain\n",
    "* indent dinyatakan dengan 1x \"tab\" atau 4x \"spasi\" atau dari titik 2 (:) bisa langsung dienter\n",
    "* Hati-hati ketika python script di edit lintas platform (Windows, Mac, Linux)\n",
    "    \n",
    "<center><img alt=\"\" src=\"images/meme-cartoon/python indenting meme.jpg\" style=\"height: 300px;\" />"
   ]
  },
  {
   "cell_type": "code",
   "execution_count": 20,
   "metadata": {
    "slideshow": {
     "slide_type": "slide"
    }
   },
   "outputs": [
    {
     "name": "stdout",
     "output_type": "stream",
     "text": [
      "a=3\n",
      "a bil pos\n"
     ]
    }
   ],
   "source": [
    "a = int(input('a='))\n",
    "\n",
    "if a>0:\n",
    "    print('a bil pos')\n",
    "elif a==0:\n",
    "    print('a = 0')\n",
    "else:\n",
    "    print('a adalah bil negatif')"
   ]
  },
  {
   "cell_type": "markdown",
   "metadata": {
    "slideshow": {
     "slide_type": "slide"
    }
   },
   "source": [
    "# <center><font color=\"blue\"> Hati-hati Boolean Trap di Python\n",
    "\n",
    "## Python mirip dengan PHP dalam mendefinisikan boolean sebagai **True / False**: \n",
    "\n",
    "### variabel bernilai **False**:\n",
    "- Nol: numerical zero values (0, 0.0, 0.0+0.0j),\n",
    "- Boolean variable: \"False\"\n",
    "- String Kosong: '' ATAU \"\"\n",
    "- List, Tuple, Set, & Dictionary kosong: [], (), set(), ATAU {}  \n",
    "- Variabel bernilai \"None\".\n",
    "\n",
    "### Semua nilai lain dianggap sebagai True\n",
    "    \n",
    "<center><img alt=\"\" src=\"images/meme-cartoon/boolean trap cursed.png\" style=\"height: 200px;\" />"
   ]
  },
  {
   "cell_type": "code",
   "execution_count": 21,
   "metadata": {
    "slideshow": {
     "slide_type": "fragment"
    }
   },
   "outputs": [
    {
     "name": "stdout",
     "output_type": "stream",
     "text": [
      "x=1 di python bernilai benar\n"
     ]
    }
   ],
   "source": [
    "x = 1\n",
    "if x:\n",
    "    print('x={} di python bernilai benar'.format(x))\n",
    "else:\n",
    "    print('x={} di python bernilai salah'.format(x))"
   ]
  },
  {
   "cell_type": "markdown",
   "metadata": {
    "slideshow": {
     "slide_type": "slide"
    }
   },
   "source": [
    "## <font color=\"blue\"> Exceptions (Try-Except): One of the reason why Python is awesome!</font>\n",
    "\n",
    "* Secara umum sebuah program sebaiknya harus memiliki \"precaution\", just in case input yang tidak diinginkan masuk ke sistem dan mengakibatkan error.\n",
    "* Istilah formal untuk hal ini adalah \"Domain Constraint\".\n",
    "* Pada dasarnya hampir semua bahasa pemrograman (dan database) mampu melakukan domain constraint. Namun di Python dapat dilakukan dengan jauuuuhhh lebih sederhana (simple)"
   ]
  },
  {
   "cell_type": "code",
   "execution_count": 22,
   "metadata": {
    "slideshow": {
     "slide_type": "fragment"
    }
   },
   "outputs": [
    {
     "name": "stdout",
     "output_type": "stream",
     "text": [
      "masukkan sembarang angka = 3\n"
     ]
    },
    {
     "data": {
      "text/plain": [
       "3"
      ]
     },
     "execution_count": 22,
     "metadata": {},
     "output_type": "execute_result"
    }
   ],
   "source": [
    "N = int(input('masukkan sembarang angka = '))\n",
    "N"
   ]
  },
  {
   "cell_type": "code",
   "execution_count": 23,
   "metadata": {
    "slideshow": {
     "slide_type": "fragment"
    }
   },
   "outputs": [
    {
     "name": "stdout",
     "output_type": "stream",
     "text": [
      "Please input any integer N = 4\n",
      "Terima Kasih\n"
     ]
    }
   ],
   "source": [
    "# Contoh TRY - Except\n",
    "try:\n",
    "    n = int(input(\"Please input any integer N = \"))\n",
    "    print('Terima Kasih')\n",
    "except:\n",
    "    print('yang anda masukkan bukan angka')"
   ]
  },
  {
   "cell_type": "markdown",
   "metadata": {
    "slideshow": {
     "slide_type": "slide"
    }
   },
   "source": [
    "# Catch the Error! (Better usage of Try-Except)"
   ]
  },
  {
   "cell_type": "code",
   "execution_count": 24,
   "metadata": {
    "slideshow": {
     "slide_type": "fragment"
    }
   },
   "outputs": [
    {
     "name": "stdout",
     "output_type": "stream",
     "text": [
      "Please input any integer = 5\n",
      "Terima Kasih\n",
      "ini diluar try-except\n"
     ]
    }
   ],
   "source": [
    "try:\n",
    "    n = int(input(\"Please input any integer = \"))\n",
    "    print('Terima Kasih')\n",
    "except Exception as err_:\n",
    "    print('Error : ', err_)\n",
    "    \n",
    "print('ini diluar try-except')"
   ]
  },
  {
   "cell_type": "markdown",
   "metadata": {
    "slideshow": {
     "slide_type": "slide"
    }
   },
   "source": [
    "# <center><font color=\"blue\"> Loop in Python and why it looks like an algorithm :) </font>\n",
    "\n",
    "* But first, let's talk about \"**range function**\" in Python\n",
    "* \"range\" menghasilkan barisan immutable mulai dari \"start\" hingga \"end\" dengan tahapan = \"step\"\n",
    "\n",
    "<img alt=\"\" src=\"images/python_range.png\" style=\"height: 200px;\" />"
   ]
  },
  {
   "cell_type": "code",
   "execution_count": 25,
   "metadata": {
    "slideshow": {
     "slide_type": "fragment"
    }
   },
   "outputs": [
    {
     "data": {
      "text/plain": [
       "[5, 10, 15, 20]"
      ]
     },
     "execution_count": 25,
     "metadata": {},
     "output_type": "execute_result"
    }
   ],
   "source": [
    "# Range boleh menggunakan \"STEP\"\n",
    "# Bentuk umumnya range(START, END, STEP)\n",
    "list(range(5, 25, 5))"
   ]
  },
  {
   "cell_type": "code",
   "execution_count": 26,
   "metadata": {
    "slideshow": {
     "slide_type": "fragment"
    }
   },
   "outputs": [
    {
     "name": "stdout",
     "output_type": "stream",
     "text": [
      "3, 5, 7, "
     ]
    }
   ],
   "source": [
    "for i in range(3, 9, 2):\n",
    "    print(i, end=\", \")"
   ]
  },
  {
   "cell_type": "markdown",
   "metadata": {
    "slideshow": {
     "slide_type": "slide"
    }
   },
   "source": [
    "# <center> Contoh Kasus Loop\n",
    "<img alt=\"\" src=\"images/3_Looping_Components.png\" style=\"height: 150px;\" />"
   ]
  },
  {
   "cell_type": "code",
   "execution_count": 27,
   "metadata": {
    "slideshow": {
     "slide_type": "fragment"
    }
   },
   "outputs": [
    {
     "data": {
      "text/plain": [
       "5050.0"
      ]
     },
     "execution_count": 27,
     "metadata": {},
     "output_type": "execute_result"
    }
   ],
   "source": [
    "S = 0.0\n",
    "for i in range(1, 101):\n",
    "    S += i # S = S + i\n",
    "S # 1 + 2 + 3 + ... + 100"
   ]
  },
  {
   "cell_type": "code",
   "execution_count": 28,
   "metadata": {},
   "outputs": [
    {
     "data": {
      "text/plain": [
       "[5, 10, 15, 20]"
      ]
     },
     "execution_count": 28,
     "metadata": {},
     "output_type": "execute_result"
    }
   ],
   "source": [
    "list(range(5,25,5))"
   ]
  },
  {
   "cell_type": "code",
   "execution_count": 29,
   "metadata": {
    "slideshow": {
     "slide_type": "fragment"
    }
   },
   "outputs": [
    {
     "data": {
      "text/plain": [
       "5050"
      ]
     },
     "execution_count": 29,
     "metadata": {},
     "output_type": "execute_result"
    }
   ],
   "source": [
    "sum(range(1,101))"
   ]
  },
  {
   "cell_type": "markdown",
   "metadata": {
    "slideshow": {
     "slide_type": "slide"
    }
   },
   "source": [
    "# <center><font color=\"blue\"> index Loop di Python bisa dibuat implisit </font>\n",
    "\n",
    "* bisa juga dikeluarkan index loopnya jika dibutuhkan dengan perintah enumerate"
   ]
  },
  {
   "cell_type": "code",
   "execution_count": 30,
   "metadata": {
    "slideshow": {
     "slide_type": "fragment"
    }
   },
   "outputs": [
    {
     "name": "stdout",
     "output_type": "stream",
     "text": [
      "aceh, jawa barat, sumatera selatan, bali, madura, jawa tengah, "
     ]
    }
   ],
   "source": [
    "A = ['aceh', 'jawa barat', 'sumatera selatan', 'bali', 'madura', 'jawa tengah']\n",
    "for a in A:\n",
    "    print(a, end=', ')"
   ]
  },
  {
   "cell_type": "code",
   "execution_count": 31,
   "metadata": {
    "slideshow": {
     "slide_type": "fragment"
    }
   },
   "outputs": [
    {
     "ename": "NameError",
     "evalue": "name 'provinsi' is not defined",
     "output_type": "error",
     "traceback": [
      "\u001b[1;31m---------------------------------------------------------------------------\u001b[0m",
      "\u001b[1;31mNameError\u001b[0m                                 Traceback (most recent call last)",
      "\u001b[1;32m<ipython-input-31-a27b70e431e2>\u001b[0m in \u001b[0;36m<module>\u001b[1;34m\u001b[0m\n\u001b[1;32m----> 1\u001b[1;33m \u001b[1;32mfor\u001b[0m \u001b[0mi\u001b[0m\u001b[1;33m,\u001b[0m \u001b[0mprov\u001b[0m \u001b[1;32min\u001b[0m \u001b[0menumerate\u001b[0m\u001b[1;33m(\u001b[0m\u001b[0mprovinsi\u001b[0m\u001b[1;33m)\u001b[0m\u001b[1;33m:\u001b[0m\u001b[1;33m\u001b[0m\u001b[1;33m\u001b[0m\u001b[0m\n\u001b[0m\u001b[0;32m      2\u001b[0m     \u001b[0mprint\u001b[0m\u001b[1;33m(\u001b[0m\u001b[1;34m\"propinsi ke-{} = {}, \"\u001b[0m\u001b[1;33m.\u001b[0m\u001b[0mformat\u001b[0m\u001b[1;33m(\u001b[0m\u001b[0mi\u001b[0m\u001b[1;33m,\u001b[0m \u001b[0mprov\u001b[0m\u001b[1;33m)\u001b[0m\u001b[1;33m)\u001b[0m\u001b[1;33m\u001b[0m\u001b[1;33m\u001b[0m\u001b[0m\n",
      "\u001b[1;31mNameError\u001b[0m: name 'provinsi' is not defined"
     ]
    }
   ],
   "source": [
    "for i, prov in enumerate(provinsi): \n",
    "    print(\"propinsi ke-{} = {}, \".format(i, prov))"
   ]
  },
  {
   "cell_type": "markdown",
   "metadata": {
    "slideshow": {
     "slide_type": "slide"
    }
   },
   "source": [
    "<h1><font color=\"blue\">Kasus sederhana data science: Skewness dan Transformasi Data </font></h1>\n",
    "\n",
    "<img alt=\"\" src=\"images/3_data_transformation.png\" style=\"width: 769px; height: 404px;\" />\n"
   ]
  },
  {
   "cell_type": "code",
   "execution_count": null,
   "metadata": {
    "slideshow": {
     "slide_type": "fragment"
    }
   },
   "outputs": [],
   "source": [
    "# Contoh 1 bagaimana mentransform suatu data\n",
    "A = [99,89,80,50,25,12,11,10,9,8,7,6,5,4,3,2,1, -1]\n",
    "B = [] # inisialisasi dengan array (list) kosong\n",
    "for datum in A:\n",
    "    B.append(1/datum) # APPEND adalah perintah untuk menambahkan elemen ke suatu array (list)\n",
    "print(A)\n",
    "print(B)"
   ]
  },
  {
   "cell_type": "markdown",
   "metadata": {
    "slideshow": {
     "slide_type": "slide"
    }
   },
   "source": [
    "<h1><font color=\"blue\">Contoh Inverse Transformation : Cara 2 </font></h1>\n",
    "\n",
    "* Cara diatas memiliki kelemahan yang cukup serius ketika datanya besar. Apakah itu? \n",
    "* *Copy Memory*"
   ]
  },
  {
   "cell_type": "code",
   "execution_count": null,
   "metadata": {
    "slideshow": {
     "slide_type": "fragment"
    }
   },
   "outputs": [],
   "source": [
    "# Contoh 2 bagaimana mentransform suatu data\n",
    "# Kita akan menelaah lebih jauh di pertemuan setelah UTS\n",
    "A = [99,89,80,50,25,12,11,10,9,8,7,6,5,4,3,2,1]\n",
    "N = len(A)\n",
    "for i in range(N):\n",
    "    A[i] = 1/A[i] # ini disebut in-place processing. Jauh lebih hemat memory\n",
    "print(A)"
   ]
  },
  {
   "cell_type": "code",
   "execution_count": null,
   "metadata": {
    "slideshow": {
     "slide_type": "slide"
    }
   },
   "outputs": [],
   "source": [
    "# Contoh 3 bagaimana mentransform suatu data\n",
    "# Cara yg spesifik untuk Python (recommended)\n",
    "A = [99,89,80,50,25,12,11,10,9,8,7,6,5,4,3,2,1]\n",
    "for i, a in enumerate(A): # perintah ENUMERATE di Python akan menghasilkan variable \"index\" dari \"a\" \n",
    "    A[i] = 1/a # tetap in-place processing\n",
    "print(A)"
   ]
  },
  {
   "cell_type": "markdown",
   "metadata": {
    "slideshow": {
     "slide_type": "slide"
    }
   },
   "source": [
    "# <center><font color=\"blue\"> List Comprehension: Flat ... It's a Python thing</font>\n",
    "<img alt=\"\" src=\"images/meme-cartoon/2_meme_python easier than psudocode.jpg\" style=\"height: 200px;\" />"
   ]
  },
  {
   "cell_type": "code",
   "execution_count": null,
   "metadata": {
    "scrolled": true,
    "slideshow": {
     "slide_type": "slide"
    }
   },
   "outputs": [],
   "source": [
    "# Contoh 4 bagaimana mentransform suatu data\n",
    "# Cara yg spesifik untuk Python (Highly recommended)\n",
    "A = [99,89,80,50,25,12,11,10,9,8,7,6,5,4,3,2,1,-1]\n",
    "[1/a for a in A]"
   ]
  },
  {
   "cell_type": "markdown",
   "metadata": {
    "slideshow": {
     "slide_type": "slide"
    }
   },
   "source": [
    "# <center><font color=\"blue\"> Zip dalam Loop</font>\n",
    "* Sangat bermanfaat di data science saat hendak melakukan looping atas 2 atau lebih variabel\n",
    "\n",
    "<img alt=\"\" src=\"images/python_zip.png\" style=\"height: 200px;\" />"
   ]
  },
  {
   "cell_type": "code",
   "execution_count": null,
   "metadata": {
    "slideshow": {
     "slide_type": "fragment"
    }
   },
   "outputs": [],
   "source": [
    "customer = (\"rumah tangga\", \"industri\", \"bisnis\")\n",
    "daya = (900, 125000, 16000)\n",
    "lama_customer = (234, 456, 798)\n",
    "\n",
    "A = list(zip(customer, daya, lama_customer))\n",
    "daya[customer.index('rumah tangga')]"
   ]
  },
  {
   "cell_type": "markdown",
   "metadata": {
    "slideshow": {
     "slide_type": "slide"
    }
   },
   "source": [
    "# <center><font color=\"blue\">Pendahuluan Indefinite Loop - While </font>\n",
    "\n",
    "* While loop digunakan saat kita hendak melakukan perulangan/iterasi, namun tidak mengetahui secara pasti jumlah perulangannya.\n",
    "* Kondisi di perulangan = pencabangan IF, yaitu bernilai boolean\n",
    "* Kondisi di While biasa disebut Stopper\n",
    "* Stopper dapat diletakkan di awal atau akhir (Repeat-Until)\n",
    "* Di dalam &quot;loop body&quot; wajib memuat suatu mekanisme yang mengakibatkan suatu saat Stopper bernilai True.* Precautions sangat disarankan di While loop dengan memasukkan jumlah iterasi maksimum\n",
    "* Semua Looping **For** dapat digantikan dengan Looping **While**, namun hal tsb adalah BAD PRACTICE (why?)\n",
    "\n",
    "<img alt=\"\" src=\"images/5_while_loop_Schema.png\" style=\"width: 280px; height: 225px;\" />"
   ]
  },
  {
   "cell_type": "code",
   "execution_count": null,
   "metadata": {
    "slideshow": {
     "slide_type": "slide"
    }
   },
   "outputs": [],
   "source": [
    "# Contoh Looping While di Python\n",
    "n = 1\n",
    "epoch = 0\n",
    "max_iter = 17\n",
    "while n>0.001 and epoch<max_iter:\n",
    "    n = n/2\n",
    "    print(n, end = ', ')\n",
    "    epoch += 1"
   ]
  },
  {
   "cell_type": "markdown",
   "metadata": {
    "slideshow": {
     "slide_type": "slide"
    }
   },
   "source": [
    "# <center><font color=\"blue\">While untuk *Domain Constraints* & Pentingnya **Breake** While Loop\n",
    "\n",
    "* Di statistika/Data Science/ Database digunakan untuk mencegah noise di data.\n",
    "* Misal mencegah nilai lain selain Pria/Wanita di variabel \"Jenis Kelamin\"\n",
    "* While di Python juga bisa punya \"Else\" ... silahkan eksperimen untuk memahaminya.\n",
    "* Else di while menjadi penting misal pada saat mengaplikasikan Metode-metode di Statistik/Data Science yang tidak konvex/Tidak pasti konvergen: misal Neural network/Deep Learning.\n",
    "\n",
    "<img alt=\"\" src=\"images/5_While-Else.png\" style=\"height: 200px;\" />"
   ]
  },
  {
   "cell_type": "code",
   "execution_count": null,
   "metadata": {
    "slideshow": {
     "slide_type": "fragment"
    }
   },
   "outputs": [],
   "source": [
    "print(\"masukkan umur anda? (input 0 untuk cancel) = \", end=\" \")\n",
    "while True:\n",
    "    try:\n",
    "        umur = int(input(''))\n",
    "        break\n",
    "    except:\n",
    "        insert2log()\n",
    "        print('mohon masukkan umur berupa angka')"
   ]
  },
  {
   "cell_type": "markdown",
   "metadata": {
    "slideshow": {
     "slide_type": "slide"
    }
   },
   "source": [
    "# <center><font color=\"blue\">Fungsi di Python\n",
    "\n",
    "* Syntak fungsi di Python **def**\n",
    "* parameter berurut, kecuali ada default value\n",
    "* Arg dan Kwarg belum dibahas di pembahasan dasar fungsi\n",
    "* bentuk umum fungsi\n",
    "<img alt=\"\" src=\"images/7_fungsi_py.png\" style=\"height: 150px;\" />\n",
    "    "
   ]
  },
  {
   "cell_type": "code",
   "execution_count": 32,
   "metadata": {
    "slideshow": {
     "slide_type": "slide"
    }
   },
   "outputs": [
    {
     "name": "stdout",
     "output_type": "stream",
     "text": [
      "C=2, D=5, Nilai Pungsi(C,D)=16\n"
     ]
    }
   ],
   "source": [
    "def Pungsi(A,B):\n",
    "    \"\"\"\n",
    "    ini adalah contoh fungsi sederhana dengan dua parameter\n",
    "    input: A, B sembarang 2 bilangan (int/float)\n",
    "    output: A kuadrat tambah dua kali B tambah 2 (int/float)\n",
    "    \"\"\"\n",
    "    hasil = A**2 + 2*B + 2\n",
    "    return hasil # atau simply return A**2 + 2*B +2\n",
    "\n",
    "C, D = 2, 5\n",
    "print(\"C={}, D={}, Nilai Pungsi(C,D)={}\".format(C, D, Pungsi(C,D)))"
   ]
  },
  {
   "cell_type": "code",
   "execution_count": 33,
   "metadata": {
    "slideshow": {
     "slide_type": "fragment"
    }
   },
   "outputs": [
    {
     "name": "stdout",
     "output_type": "stream",
     "text": [
      "Help on function Pungsi in module __main__:\n",
      "\n",
      "Pungsi(A, B)\n",
      "    ini adalah contoh fungsi sederhana dengan dua parameter\n",
      "    input: A, B sembarang 2 bilangan (int/float)\n",
      "    output: A kuadrat tambah dua kali B tambah 2 (int/float)\n",
      "\n"
     ]
    }
   ],
   "source": [
    "# Kita bisa melakukan ini kalau kita membuat fungsi dengan \"estetika\" Python yang benar\n",
    "help(Pungsi)"
   ]
  },
  {
   "cell_type": "code",
   "execution_count": 34,
   "metadata": {
    "slideshow": {
     "slide_type": "slide"
    }
   },
   "outputs": [
    {
     "name": "stdout",
     "output_type": "stream",
     "text": [
      "12 8 8\n"
     ]
    }
   ],
   "source": [
    "# default Value sangat berguna di DS/ML\n",
    "def PP(A, B=5, C=0):\n",
    "    return A + B - C\n",
    "\n",
    "print(PP(7), PP(7, B=1), PP(7, C=2, B=3))"
   ]
  },
  {
   "cell_type": "code",
   "execution_count": 37,
   "metadata": {},
   "outputs": [
    {
     "data": {
      "text/plain": [
       "19"
      ]
     },
     "execution_count": 37,
     "metadata": {},
     "output_type": "execute_result"
    }
   ],
   "source": [
    "def ff(A, B, C, F=8, E=3):\n",
    "    return A+B+C+E+F\n",
    "\n",
    "ff(1, 2, 5)"
   ]
  },
  {
   "cell_type": "markdown",
   "metadata": {
    "slideshow": {
     "slide_type": "slide"
    }
   },
   "source": [
    "# <center><font color=\"blue\">Fungsi Lambda\n",
    "\n",
    "* Lambda adalah \"fungsi sementara\"/disposable\n",
    "* terkadang digunakan untuk argument/parameter di fungsi lain. \n",
    "\n",
    "<img alt=\"\" src=\"images/python_lambda_function.png\" style=\"height: 200px;\" />"
   ]
  },
  {
   "cell_type": "code",
   "execution_count": 39,
   "metadata": {
    "slideshow": {
     "slide_type": "fragment"
    }
   },
   "outputs": [
    {
     "data": {
      "text/plain": [
       "8"
      ]
     },
     "execution_count": 39,
     "metadata": {},
     "output_type": "execute_result"
    }
   ],
   "source": [
    "# Contoh sederhana\n",
    "F = lambda a, b, c : a**2 + 2*b + c\n",
    "F(1,2,3)"
   ]
  },
  {
   "cell_type": "code",
   "execution_count": 41,
   "metadata": {},
   "outputs": [
    {
     "data": {
      "text/plain": [
       "<function __main__.komposit.<locals>.<lambda>(n)>"
      ]
     },
     "execution_count": 41,
     "metadata": {},
     "output_type": "execute_result"
    }
   ],
   "source": [
    "def komposit(n):\n",
    "    return lambda n:2**n\n",
    "\n",
    "g = komposit(2)\n",
    "g"
   ]
  },
  {
   "cell_type": "code",
   "execution_count": 42,
   "metadata": {},
   "outputs": [
    {
     "data": {
      "text/plain": [
       "8"
      ]
     },
     "execution_count": 42,
     "metadata": {},
     "output_type": "execute_result"
    }
   ],
   "source": [
    "g(3)"
   ]
  },
  {
   "cell_type": "markdown",
   "metadata": {
    "slideshow": {
     "slide_type": "slide"
    }
   },
   "source": [
    "# <center><font color=\"blue\">Functional Programming (FP)\n",
    "\n",
    "* Lebih mirip ke definisi Fungsi di Matematika\n",
    "* Fungsi di Python adalah _first class values_ artinya input dan outputnya bisa berupa fungsi\n",
    "* Sehingga FP dapat dijelaskan dengan singkat sebagai: \"Using Functions as Values\" - Menggunakan fungsi sebagai data\n",
    "* Cocok untuk concurrency (eksekusi bersamaan/parallel) seperti big data atau distributed computing secara umum.\n",
    "    \n",
    "<img alt=\"\" src=\"images/meme-cartoon/homer_simpson_Functional_Prog_Meme.png\" style=\"height: 200px;\" />"
   ]
  },
  {
   "cell_type": "markdown",
   "metadata": {
    "slideshow": {
     "slide_type": "slide"
    }
   },
   "source": [
    "# <center><font color=\"blue\">Python Functional Programming Paradigm for Big Data\n",
    "\n",
    "<center><img alt=\"\" src=\"images/map-reduce-filter-functional-programming-python.png\" style=\"height: 400px;\" />"
   ]
  },
  {
   "cell_type": "code",
   "execution_count": 43,
   "metadata": {
    "slideshow": {
     "slide_type": "slide"
    }
   },
   "outputs": [
    {
     "data": {
      "text/plain": [
       "[5, 10, 17, 26, 37]"
      ]
     },
     "execution_count": 43,
     "metadata": {},
     "output_type": "execute_result"
    }
   ],
   "source": [
    "# MAP memetakan fungsi ke data R^n ==> R^n\n",
    "pungsi = lambda a : a**2 + 2*a + 2 \n",
    "data = [1, 2, 3, 4, 5]\n",
    "\n",
    "list( map(pungsi, data) )"
   ]
  },
  {
   "cell_type": "code",
   "execution_count": 53,
   "metadata": {
    "slideshow": {
     "slide_type": "fragment"
    }
   },
   "outputs": [
    {
     "data": {
      "text/plain": [
       "[5, 7]"
      ]
     },
     "execution_count": 53,
     "metadata": {},
     "output_type": "execute_result"
    }
   ],
   "source": [
    "# FILTER mereduksi data berdasarkan kriteria R^n ==> R^m, m<=n\n",
    "\n",
    "hasil_filtering = list( filter(lambda x: x%2!=0 and x>4, [2,5,3,8,7]) )\n",
    "hasil_filtering"
   ]
  },
  {
   "cell_type": "code",
   "execution_count": 58,
   "metadata": {
    "slideshow": {
     "slide_type": "slide"
    }
   },
   "outputs": [
    {
     "data": {
      "text/plain": [
       "50005000"
      ]
     },
     "execution_count": 58,
     "metadata": {},
     "output_type": "execute_result"
    }
   ],
   "source": [
    "# Reduce: F:R^n ==> R \n",
    "from functools import reduce\n",
    "\n",
    "data = list(range(1,10001))\n",
    "reduce(lambda a,b: a+b, data, 0) #tak perlu \"list\" karena skalar"
   ]
  },
  {
   "cell_type": "code",
   "execution_count": 61,
   "metadata": {},
   "outputs": [
    {
     "name": "stdout",
     "output_type": "stream",
     "text": [
      "3.36 ms ± 209 µs per loop (mean ± std. dev. of 7 runs, 100 loops each)\n"
     ]
    }
   ],
   "source": [
    "%%timeit\n",
    "reduce(lambda a,b: a+b, data, 0) #tak perlu \"list\" karena skalar"
   ]
  },
  {
   "cell_type": "code",
   "execution_count": 64,
   "metadata": {},
   "outputs": [
    {
     "data": {
      "text/plain": [
       "50005000"
      ]
     },
     "execution_count": 64,
     "metadata": {},
     "output_type": "execute_result"
    }
   ],
   "source": [
    "sum_ = 0\n",
    "N = len(data)\n",
    "for i in range(1,N+1):\n",
    "    sum_ = sum_ + i\n",
    "sum_"
   ]
  },
  {
   "cell_type": "markdown",
   "metadata": {
    "slideshow": {
     "slide_type": "fragment"
    }
   },
   "source": [
    "<img alt=\"\" src=\"images/7_reduce.png\" style=\"height: 200px;\" />"
   ]
  },
  {
   "cell_type": "markdown",
   "metadata": {
    "slideshow": {
     "slide_type": "slide"
    }
   },
   "source": [
    "# <center><font color=\"blue\">Pendahuluan Module di Python\n",
    "\n",
    "* Module di load dengan perintah **import**\n",
    "* Dapat juga load sebagian fungsi dari module dengan peintah **from**\n",
    "* Module yang di load dapat dirubah namanya dengan perintah **as**\n",
    "* Fungsi dan module yang di load di simpan di **namespace** python.\n",
    "* Kita dapat membuat kumpulan fungsi dalam file \".py\" lalu me-load-nya seperti module biasa\n",
    "* Di Python module tidak selalu ditulis dalam bahasa Python juga, contohnya Numpy ditulis dalam bahasa C & Fortan, atau Spacy/Gensim dalam C++, dsb. Hal ini salah satu penyebab performa Python on-par dengan bahasa pemrograman lain.\n",
    "\n",
    "<img alt=\"\" src=\"images/python_modules.png\" style=\"height: 300px;\" />"
   ]
  },
  {
   "cell_type": "markdown",
   "metadata": {
    "slideshow": {
     "slide_type": "slide"
    }
   },
   "source": [
    "# <center><font color=\"blue\">Instalasi Module di Python\n",
    "\n",
    "<ol>\n",
    "\t<li>Command Line: Conda/pip/easy_install<br />\n",
    "\tcontoh:<strong> pip install namaModul</strong><br />\n",
    "\tjika modul sudah ada, maka automatis tidak menginstall ulang.</li>\n",
    "\t<li>Jika ingin mengupdate modul:<br />\n",
    "\t<strong>pip install namaModul --upgrade<br />\n",
    "\tpip install namaModul&nbsp; --upgrade --no-deps&nbsp; </strong><em>(tanpa dependensi)</em></li>\n",
    "\t<li>Jika tidak memiliki akses administrator:<br />\n",
    "\t<strong>pip install -U namaModul</strong></li>\n",
    "\t<li>Dependensi biasanya automatis diinstall.</li>\n",
    "\t<li>Hati-hati nama modul tidak selalu dengan nama yang di import di code.<br />\n",
    "\tMisal :&nbsp;python-louvain ==&gt; Community</li>\n",
    "\t<li><strong>Check module dependency</strong> ==&gt;&nbsp;pip check</li>\n",
    "\t<li>Perintah <strong>conda </strong>yg bermanfaat:<br />\n",
    "\tconda clean -t, -p, -i, -l</li>\n",
    "\t<li><strong>Tambah repository</strong>:<br />\n",
    "\tconda config --add channels conda-forge&nbsp;</li>\n",
    "\t<li><strong>Install </strong>versi terkini <strong>dari git</strong>:<br />\n",
    "\tpip install git://github.com/networkx/networkx.git#egg=networkx</li>\n",
    "\t<li><strong>Install dari file</strong>:<br />\n",
    "\tpip install -r requirements.txt</li>\n",
    "\t<li><strong>Install dari code </strong>python:<br />\n",
    "\t<a href=\"http://taufiksutanto.blogspot.com/2018/01/menyiapkan-modul-python-untuk-suatu.html\" target=\"_blank\">http://taufiksutanto.blogspot.com/2018/01/menyiapkan-modul-python-untuk-suatu.html</a>&nbsp;</li>\n",
    "\t<li><strong>Dump </strong>current <strong>Modul </strong>list<br />\n",
    "\tpip freeze &gt; List_Modul.txt</li>\n",
    "\t<li>Langkah 12 bisa digunakan untuk <strong>update seluruh Modul</strong> (hati-hati!!!)<br />\n",
    "\tpip install -r List_Modul.txt --upgrade</li>\n",
    "\t<li><strong>Install dari source</strong>:<br />\n",
    "\tpython setup.py install</li>\n",
    "\t<li>Install dari <strong>Wheels</strong>:<br />\n",
    "\tpip install path/nama_Wheel_Modul.whl</li>\n",
    "</ol>\n"
   ]
  },
  {
   "cell_type": "code",
   "execution_count": 66,
   "metadata": {
    "slideshow": {
     "slide_type": "slide"
    }
   },
   "outputs": [
    {
     "data": {
      "text/plain": [
       "(1.0, 1.0, 1.0)"
      ]
     },
     "execution_count": 66,
     "metadata": {},
     "output_type": "execute_result"
    }
   ],
   "source": [
    "import numpy # Full import\n",
    "import numpy as ptpjb # Full import with alias\n",
    "from numpy import cos # Partial Import\n",
    "\n",
    "cos(0.0), ptpjb.cos(0.0), numpy.cos(0.0)"
   ]
  },
  {
   "cell_type": "markdown",
   "metadata": {
    "slideshow": {
     "slide_type": "slide"
    }
   },
   "source": [
    "# <center><font color=\"blue\"> TQDM awesome modul untuk loop\n",
    "\n",
    "* Sangat disarankan di data science terutama untuk proses yg kompleks atau data yang besar\n",
    "<img alt=\"\" src=\"images/tqdm-progress-bar-in-python.jpg\" style=\"height: 200px;\" />"
   ]
  },
  {
   "cell_type": "code",
   "execution_count": 67,
   "metadata": {
    "slideshow": {
     "slide_type": "fragment"
    }
   },
   "outputs": [
    {
     "name": "stderr",
     "output_type": "stream",
     "text": [
      "100%|██████████████████████████████████████████████████████████████████████████████████| 10/10 [00:10<00:00,  1.01s/it]\n"
     ]
    }
   ],
   "source": [
    "from tqdm import tqdm # juga berfungsi di terminal unix/command prompt\n",
    "from time import sleep\n",
    "\n",
    "for i in tqdm(range(10)):\n",
    "    sleep(1) # menunggu 1 detik"
   ]
  },
  {
   "cell_type": "markdown",
   "metadata": {
    "slideshow": {
     "slide_type": "slide"
    }
   },
   "source": [
    "# <center><font color=\"blue\"> Studi Kasus: Latihan\n",
    "\n",
    "<img alt=\"\" src=\"images/python_exercise.jpg\" style=\"height: 200px;\" />\n",
    "\n",
    "## Latihan Pilihan Tertutup (Quiz):\n",
    "* **Quiz** module 02 \"Pengenalan Python\": https://forms.gle/g2rdnk2nhr5S4Kz8A \n",
    "\n",
    "## Latihan Studi Kasus isian singkat:\n",
    "* Diberikan data seperti pada cell dibawah ini buatlah fungsi yang akan mengeluarkan output nama customer dan **persentase** usage/daya listrik bulanannya hanya pada kasus dimana usage-nya kurang dari setengah dari dayanya.\n",
    "    \n",
    "* misal pada kasus di bawah ini outpunya adalah <font color=\"green\"> [('A', '44%'), ('B', '38%'), ('E', '47%')]"
   ]
  },
  {
   "cell_type": "code",
   "execution_count": 72,
   "metadata": {
    "slideshow": {
     "slide_type": "slide"
    }
   },
   "outputs": [
    {
     "name": "stdout",
     "output_type": "stream",
     "text": [
      "['A', 'B', 'C', 'D', 'E', 'F', 'G', 'H', 'I', 'J']\n",
      "[450, 900, 1300, 4400, 900, 450, 900, 1300, 4400, 900]\n",
      "[200, 350, 700, 2500, 425, 450, 700, 1200, 3300, 890]\n"
     ]
    }
   ],
   "source": [
    "customer = \"A B C D E F G H I J\".split()\n",
    "daya = [450, 900, 1300, 4400, 900, 450, 900, 1300, 4400, 900]\n",
    "usage = [200, 350, 700, 2500, 425, 450, 700, 1200, 3300, 890] # dalam kwh\n",
    "print(customer)\n",
    "print(daya)\n",
    "print(usage)"
   ]
  },
  {
   "cell_type": "code",
   "execution_count": 74,
   "metadata": {
    "slideshow": {
     "slide_type": "slide"
    }
   },
   "outputs": [
    {
     "data": {
      "text/plain": [
       "[('A', '44%'), ('B', '38%'), ('E', '47%')]"
      ]
     },
     "execution_count": 74,
     "metadata": {},
     "output_type": "execute_result"
    }
   ],
   "source": [
    "# jawaban diberikan di cell ini\n",
    "def filterUnderUseCustomer(C,D,U):\n",
    "    hasil = []\n",
    "    for c, d, u in zip(C,D,U):\n",
    "        if u/d<0.5:\n",
    "            hasil.append((c, \"{}%\".format(int(100*(u/d)))))\n",
    "    return hasil\n",
    "\n",
    "filterUnderUseCustomer(customer, daya, usage)"
   ]
  },
  {
   "cell_type": "code",
   "execution_count": 75,
   "metadata": {},
   "outputs": [
    {
     "data": {
      "text/plain": [
       "[('A', '44%'), ('B', '38%'), ('E', '47%')]"
      ]
     },
     "execution_count": 75,
     "metadata": {},
     "output_type": "execute_result"
    }
   ],
   "source": [
    "[(c, \"{}%\".format(int(100*(u/d)))) for c,d,u in zip(customer, daya, usage) if u/d<0.5]"
   ]
  },
  {
   "cell_type": "markdown",
   "metadata": {
    "slideshow": {
     "slide_type": "slide"
    }
   },
   "source": [
    "# <center><font color=\"blue\"> Akhir Modul 02 - Pengenalan Python & Jupyter Notebook</font></center>\n",
    "\n",
    "<hr />\n",
    "<img alt=\"\" src=\"images/meme-cartoon/meme_4.png\" style=\"height: 300px;\"/>"
   ]
  }
 ],
 "metadata": {
  "celltoolbar": "Slideshow",
  "kernelspec": {
   "display_name": "Python 3",
   "language": "python",
   "name": "python3"
  },
  "language_info": {
   "codemirror_mode": {
    "name": "ipython",
    "version": 3
   },
   "file_extension": ".py",
   "mimetype": "text/x-python",
   "name": "python",
   "nbconvert_exporter": "python",
   "pygments_lexer": "ipython3",
   "version": "3.6.13"
  },
  "latex_envs": {
   "LaTeX_envs_menu_present": true,
   "autoclose": false,
   "autocomplete": true,
   "bibliofile": "biblio.bib",
   "cite_by": "apalike",
   "current_citInitial": 1,
   "eqLabelWithNumbers": true,
   "eqNumInitial": 1,
   "hotkeys": {
    "equation": "Ctrl-E",
    "itemize": "Ctrl-I"
   },
   "labels_anchors": false,
   "latex_user_defs": false,
   "report_style_numbering": false,
   "user_envs_cfg": false
  }
 },
 "nbformat": 4,
 "nbformat_minor": 2
}
