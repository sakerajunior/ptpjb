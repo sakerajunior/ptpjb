{
 "cells": [
  {
   "cell_type": "markdown",
   "metadata": {
    "slideshow": {
     "slide_type": "slide"
    }
   },
   "source": [
    "# <center><font color=\"red\"> https://bit.ly/ptpjb-2021-01</font>\n",
    "# <center><font color=\"blue\">02 - Pengenalan Python dan Jupyter Notebook</font>\n",
    "\n",
    "<center><img alt=\"\" src=\"images/cover_ptpjb_2021.png\"/></center> \n",
    "\n",
    "## <center><font color=\"blue\">tau-data Indonesia</font><br>(C) Taufik Sutanto - 2020</center>\n",
    "<center><a href=\"https://tau-data.id\">https://tau-data.id</a> ~ <a href=\"mailto:taufik@tau-data.id\">taufik@tau-data.id</a></center>"
   ]
  },
  {
   "cell_type": "markdown",
   "metadata": {
    "slideshow": {
     "slide_type": "slide"
    }
   },
   "source": [
    "# <center><font color=\"blue\"> Outline </font>\n",
    "\n",
    "- Pengenalan Jupyter Notebook - Google Colaboratory & Python\n",
    "- Basic Syntax Pyton: indent, print, input, ;\n",
    "- Tuple, List, Set, Dictionary\n",
    "- if, for, while, Try-Except\n",
    "- DateTime\n",
    "\n",
    "<img src = \"images/pyhton_jupyter.png\" />"
   ]
  },
  {
   "cell_type": "markdown",
   "metadata": {
    "slideshow": {
     "slide_type": "slide"
    }
   },
   "source": [
    "## Sejarah Python\n",
    "\n",
    "Python (versi 0.9) diperkenalkan pertama kali pada February 1991 oleh Guido van Rossum. Sedangkan Python versi 2.0 diperkenalkan pada October 2000 dan mendapat response positif dari komunitas developer. Python 2 cukup populer di berbagai Distro Linux dan website, dan baru saja mengakhiri “masa bakti”-nya di Juli 2020. Python 3 diperkenalkan mulai Desember 2008 dan hingga saat tulisan ini dibuat menjadi versi terkini Python. Gambar 3 mengilustrasikan sejarah python dari waktu ke waktu."
   ]
  },
  {
   "cell_type": "markdown",
   "metadata": {
    "slideshow": {
     "slide_type": "slide"
    }
   },
   "source": [
    "## Apakah Jupyter Notebook Hanya Untuk Python?\n",
    "Tidak. Walaupun Jupyter notebook ditulis dalam bahasa Python, namun kemampuan untuk mendukung suatu bahasa pemrograman di dalam notebook diimplementasikan secara modular dalam bentuk kernel. Saat ini ada lebih dari 130 kernel yang mendukung hampir 100 bahasa pemrograman misalnya:\n",
    "- C++\n",
    "- Java\n",
    "- Matlab\n",
    "- PHP\n",
    "- R\n",
    "- SQL\n",
    "\n",
    "Untuk daftar lengkapnya silakan lihat laman https://github.com/jupyter/jupyter/wiki/Jupyter-kernels"
   ]
  },
  {
   "cell_type": "markdown",
   "metadata": {
    "slideshow": {
     "slide_type": "slide"
    }
   },
   "source": [
    "### Syntax Python"
   ]
  },
  {
   "cell_type": "code",
   "execution_count": 1,
   "metadata": {
    "slideshow": {
     "slide_type": "slide"
    }
   },
   "outputs": [],
   "source": [
    "# ini membuat catatan satu baris"
   ]
  },
  {
   "cell_type": "code",
   "execution_count": 2,
   "metadata": {
    "slideshow": {
     "slide_type": "slide"
    }
   },
   "outputs": [
    {
     "data": {
      "text/plain": [
       "'\\nini untuk membuat catatan lebih dari satu baris\\n----\\n----\\n'"
      ]
     },
     "execution_count": 2,
     "metadata": {},
     "output_type": "execute_result"
    }
   ],
   "source": [
    "\"\"\"\n",
    "ini untuk membuat catatan lebih dari satu baris\n",
    "----\n",
    "----\n",
    "\"\"\""
   ]
  },
  {
   "cell_type": "code",
   "execution_count": 3,
   "metadata": {
    "slideshow": {
     "slide_type": "slide"
    }
   },
   "outputs": [
    {
     "data": {
      "text/plain": [
       "(3, 2.5)"
      ]
     },
     "execution_count": 3,
     "metadata": {},
     "output_type": "execute_result"
    }
   ],
   "source": [
    "# python (seperti matlab) tidak memerlukan deklarasi variabel\n",
    "A = 3\n",
    "B = 2.5\n",
    "A,B"
   ]
  },
  {
   "cell_type": "code",
   "execution_count": 4,
   "metadata": {
    "slideshow": {
     "slide_type": "slide"
    }
   },
   "outputs": [
    {
     "name": "stdout",
     "output_type": "stream",
     "text": [
      "3\n",
      "2.5\n"
     ]
    }
   ],
   "source": [
    "# print ini selalu diakhiri dengan ganti baris\n",
    "print(A)\n",
    "print(B)"
   ]
  },
  {
   "cell_type": "code",
   "execution_count": 5,
   "metadata": {
    "slideshow": {
     "slide_type": "slide"
    }
   },
   "outputs": [
    {
     "name": "stdout",
     "output_type": "stream",
     "text": [
      "3, 2.5\n"
     ]
    }
   ],
   "source": [
    "# bisa dengan menambahkan parameter dengan dipisahkan tanda koma atau 2 garis (--)\n",
    "print(A, end = ', ')\n",
    "print(B)"
   ]
  },
  {
   "cell_type": "code",
   "execution_count": 6,
   "metadata": {
    "slideshow": {
     "slide_type": "slide"
    }
   },
   "outputs": [
    {
     "data": {
      "text/plain": [
       "int"
      ]
     },
     "execution_count": 6,
     "metadata": {},
     "output_type": "execute_result"
    }
   ],
   "source": [
    "# untuk mengetahui type variabel itu apa dengan menggunakan perintah \"type\"\n",
    "\n",
    "type(A)"
   ]
  },
  {
   "cell_type": "code",
   "execution_count": 7,
   "metadata": {
    "slideshow": {
     "slide_type": "slide"
    }
   },
   "outputs": [
    {
     "data": {
      "text/plain": [
       "float"
      ]
     },
     "execution_count": 7,
     "metadata": {},
     "output_type": "execute_result"
    }
   ],
   "source": [
    "type(B)"
   ]
  },
  {
   "cell_type": "code",
   "execution_count": 8,
   "metadata": {
    "slideshow": {
     "slide_type": "slide"
    }
   },
   "outputs": [
    {
     "data": {
      "text/plain": [
       "bool"
      ]
     },
     "execution_count": 8,
     "metadata": {},
     "output_type": "execute_result"
    }
   ],
   "source": [
    "C = True\n",
    "type(C)"
   ]
  },
  {
   "cell_type": "code",
   "execution_count": 9,
   "metadata": {
    "slideshow": {
     "slide_type": "slide"
    }
   },
   "outputs": [
    {
     "name": "stdout",
     "output_type": "stream",
     "text": [
      "ini python\n",
      "ini betul\n",
      "ini sudah diluar if\n"
     ]
    }
   ],
   "source": [
    "# Python menggunakan \"indenting\" dan bukan tanda kurung seperti banyak bahasa pemrograman lain\n",
    "# indent dinyatakan dengan 1x \"tab\" atau 4x \"spasi\" atau dari titik 2 (:) bisa langsung dienter\n",
    "if (A>0): # karena A = 3 jadi betul 3>0 \n",
    "    print(\"ini python\")\n",
    "    print(\"ini betul\")\n",
    "print(\"ini sudah diluar if\")"
   ]
  },
  {
   "cell_type": "code",
   "execution_count": 10,
   "metadata": {
    "slideshow": {
     "slide_type": "slide"
    }
   },
   "outputs": [
    {
     "name": "stdout",
     "output_type": "stream",
     "text": [
      "ini sudah diluar if\n"
     ]
    }
   ],
   "source": [
    "if (A>10):\n",
    "    print(\"ini python\")\n",
    "    print(\"ini betul\")\n",
    "print(\"ini sudah diluar if\")"
   ]
  },
  {
   "cell_type": "code",
   "execution_count": 11,
   "metadata": {
    "slideshow": {
     "slide_type": "slide"
    }
   },
   "outputs": [
    {
     "name": "stdout",
     "output_type": "stream",
     "text": [
      "Hello World\n",
      "Hello World\n",
      "Hello 'World'\n",
      "Hello \"World\"\n"
     ]
    }
   ],
   "source": [
    "# string di python bisa menggunakan ' atau \"\n",
    "print('Hello World')\n",
    "print(\"Hello World\")\n",
    "print(\"Hello 'World'\")\n",
    "print(\"Hello \\\"World\\\"\")"
   ]
  },
  {
   "cell_type": "code",
   "execution_count": 12,
   "metadata": {
    "slideshow": {
     "slide_type": "slide"
    }
   },
   "outputs": [
    {
     "ename": "NameError",
     "evalue": "name 'cos' is not defined",
     "output_type": "error",
     "traceback": [
      "\u001b[1;31m---------------------------------------------------------------------------\u001b[0m",
      "\u001b[1;31mNameError\u001b[0m                                 Traceback (most recent call last)",
      "\u001b[1;32m<ipython-input-12-048337f7e44d>\u001b[0m in \u001b[0;36m<module>\u001b[1;34m\u001b[0m\n\u001b[0;32m      1\u001b[0m \u001b[1;31m# di python tidak mengenal sin, cos, misal:\u001b[0m\u001b[1;33m\u001b[0m\u001b[1;33m\u001b[0m\u001b[1;33m\u001b[0m\u001b[0m\n\u001b[1;32m----> 2\u001b[1;33m \u001b[0mcos\u001b[0m\u001b[1;33m(\u001b[0m\u001b[1;36m0\u001b[0m\u001b[1;33m)\u001b[0m\u001b[1;33m\u001b[0m\u001b[1;33m\u001b[0m\u001b[0m\n\u001b[0m",
      "\u001b[1;31mNameError\u001b[0m: name 'cos' is not defined"
     ]
    }
   ],
   "source": [
    "# di python tidak mengenal sin, cos, misal:\n",
    "cos(0)"
   ]
  },
  {
   "cell_type": "code",
   "execution_count": 13,
   "metadata": {
    "slideshow": {
     "slide_type": "slide"
    }
   },
   "outputs": [
    {
     "data": {
      "text/plain": [
       "1.0"
      ]
     },
     "execution_count": 13,
     "metadata": {},
     "output_type": "execute_result"
    }
   ],
   "source": [
    "import math\n",
    "\n",
    "math.cos(0)"
   ]
  },
  {
   "cell_type": "code",
   "execution_count": 14,
   "metadata": {
    "slideshow": {
     "slide_type": "slide"
    }
   },
   "outputs": [
    {
     "data": {
      "text/plain": [
       "1.0"
      ]
     },
     "execution_count": 14,
     "metadata": {},
     "output_type": "execute_result"
    }
   ],
   "source": [
    "import math as M\n",
    "\n",
    "M.cos(0)"
   ]
  },
  {
   "cell_type": "code",
   "execution_count": 15,
   "metadata": {
    "slideshow": {
     "slide_type": "slide"
    }
   },
   "outputs": [
    {
     "data": {
      "text/plain": [
       "1.0"
      ]
     },
     "execution_count": 15,
     "metadata": {},
     "output_type": "execute_result"
    }
   ],
   "source": [
    "# bisa juga dengan import hanya satu fungsi saja\n",
    "\n",
    "from math import cos\n",
    "\n",
    "cos(0)"
   ]
  },
  {
   "cell_type": "code",
   "execution_count": 16,
   "metadata": {
    "slideshow": {
     "slide_type": "slide"
    }
   },
   "outputs": [
    {
     "name": "stdout",
     "output_type": "stream",
     "text": [
      "<class 'int'>\n"
     ]
    },
    {
     "data": {
      "text/plain": [
       "(3.0, float)"
      ]
     },
     "execution_count": 16,
     "metadata": {},
     "output_type": "execute_result"
    }
   ],
   "source": [
    "\"\"\"\n",
    "hati-hati jangan \"juggling variable\" dalam bahasa pemrograman, karena tidak disarankan di data science\n",
    "\"juggling variable\" adalah perubahan variabel ditengah code\n",
    "\"juggling variable\" ini tidak efisien secara management memory nya\n",
    "\"\"\"\n",
    "r = 6\n",
    "print(type(r)) #ini awalnya integer\n",
    "r = r/2\n",
    "r, type(r) #tapi setelah dibagi 2 jadi float\n"
   ]
  },
  {
   "cell_type": "code",
   "execution_count": 17,
   "metadata": {
    "slideshow": {
     "slide_type": "slide"
    }
   },
   "outputs": [
    {
     "name": "stdout",
     "output_type": "stream",
     "text": [
      "<class 'float'>\n"
     ]
    },
    {
     "data": {
      "text/plain": [
       "(3.0, float)"
      ]
     },
     "execution_count": 17,
     "metadata": {},
     "output_type": "execute_result"
    }
   ],
   "source": [
    "# bagaimana cara agar tidak \"juggling variable\"\n",
    "r = 6.0  # ditulis dari awal float\n",
    "print(type(r))\n",
    "r = r/2\n",
    "r, type(r)"
   ]
  },
  {
   "cell_type": "code",
   "execution_count": 18,
   "metadata": {
    "slideshow": {
     "slide_type": "slide"
    }
   },
   "outputs": [
    {
     "data": {
      "text/plain": [
       "1"
      ]
     },
     "execution_count": 18,
     "metadata": {},
     "output_type": "execute_result"
    }
   ],
   "source": [
    "# \"Array\" dasar di Python bisa berupa List, Tuple, Set atau Dictionary\n",
    "\n",
    "#List\n",
    "L = [1,5,7,2]\n",
    "L[0] # index nya dari 0"
   ]
  },
  {
   "cell_type": "code",
   "execution_count": 19,
   "metadata": {
    "slideshow": {
     "slide_type": "slide"
    }
   },
   "outputs": [
    {
     "data": {
      "text/plain": [
       "2"
      ]
     },
     "execution_count": 19,
     "metadata": {},
     "output_type": "execute_result"
    }
   ],
   "source": [
    "L[-1] # element terakhir"
   ]
  },
  {
   "cell_type": "code",
   "execution_count": 20,
   "metadata": {
    "slideshow": {
     "slide_type": "slide"
    }
   },
   "outputs": [
    {
     "data": {
      "text/plain": [
       "[1, 5]"
      ]
     },
     "execution_count": 20,
     "metadata": {},
     "output_type": "execute_result"
    }
   ],
   "source": [
    "#bisa dengan memotong suatu list\n",
    "L[:2]"
   ]
  },
  {
   "cell_type": "code",
   "execution_count": 21,
   "metadata": {
    "slideshow": {
     "slide_type": "slide"
    }
   },
   "outputs": [
    {
     "data": {
      "text/plain": [
       "[7, 2]"
      ]
     },
     "execution_count": 21,
     "metadata": {},
     "output_type": "execute_result"
    }
   ],
   "source": [
    "# memotong list diambil dari 2 elemen terakhir\n",
    "L[-2:]"
   ]
  },
  {
   "cell_type": "code",
   "execution_count": 22,
   "metadata": {
    "slideshow": {
     "slide_type": "slide"
    }
   },
   "outputs": [
    {
     "data": {
      "text/plain": [
       "[5, 7]"
      ]
     },
     "execution_count": 22,
     "metadata": {},
     "output_type": "execute_result"
    }
   ],
   "source": [
    "# memotong list mulai dari index ke 1 sampai elemen ke 3\n",
    "L[1:3]"
   ]
  },
  {
   "cell_type": "code",
   "execution_count": 23,
   "metadata": {
    "slideshow": {
     "slide_type": "slide"
    }
   },
   "outputs": [
    {
     "data": {
      "text/plain": [
       "[21, 5, 7, 2]"
      ]
     },
     "execution_count": 23,
     "metadata": {},
     "output_type": "execute_result"
    }
   ],
   "source": [
    "# di list juga bisa merubah nilai\n",
    "L[0] = 21\n",
    "L"
   ]
  },
  {
   "cell_type": "code",
   "execution_count": 24,
   "metadata": {
    "slideshow": {
     "slide_type": "slide"
    }
   },
   "outputs": [
    {
     "data": {
      "text/plain": [
       "74"
      ]
     },
     "execution_count": 24,
     "metadata": {},
     "output_type": "execute_result"
    }
   ],
   "source": [
    "# Tuple\n",
    "\n",
    "T = (20, 45, 74)\n",
    "T[-1] # indexing di python tetep pake kurung siku"
   ]
  },
  {
   "cell_type": "code",
   "execution_count": 25,
   "metadata": {
    "slideshow": {
     "slide_type": "slide"
    }
   },
   "outputs": [
    {
     "data": {
      "text/plain": [
       "(20, 45, 74)"
      ]
     },
     "execution_count": 25,
     "metadata": {},
     "output_type": "execute_result"
    }
   ],
   "source": [
    "T[:3]"
   ]
  },
  {
   "cell_type": "code",
   "execution_count": 26,
   "metadata": {
    "slideshow": {
     "slide_type": "slide"
    }
   },
   "outputs": [
    {
     "ename": "TypeError",
     "evalue": "'tuple' object does not support item assignment",
     "output_type": "error",
     "traceback": [
      "\u001b[1;31m---------------------------------------------------------------------------\u001b[0m",
      "\u001b[1;31mTypeError\u001b[0m                                 Traceback (most recent call last)",
      "\u001b[1;32m<ipython-input-26-d3726b7bf571>\u001b[0m in \u001b[0;36m<module>\u001b[1;34m\u001b[0m\n\u001b[0;32m      6\u001b[0m \u001b[0msedangkan\u001b[0m \u001b[0mlist\u001b[0m \u001b[0muntuk\u001b[0m \u001b[0mnilainya\u001b[0m \u001b[0mada\u001b[0m \u001b[0mkemungkinan\u001b[0m \u001b[0mberubah\u001b[0m\u001b[1;33m\u001b[0m\u001b[1;33m\u001b[0m\u001b[0m\n\u001b[0;32m      7\u001b[0m \"\"\"\n\u001b[1;32m----> 8\u001b[1;33m \u001b[0mT\u001b[0m\u001b[1;33m[\u001b[0m\u001b[1;36m0\u001b[0m\u001b[1;33m]\u001b[0m \u001b[1;33m=\u001b[0m \u001b[1;36m100\u001b[0m\u001b[1;33m\u001b[0m\u001b[1;33m\u001b[0m\u001b[0m\n\u001b[0m",
      "\u001b[1;31mTypeError\u001b[0m: 'tuple' object does not support item assignment"
     ]
    }
   ],
   "source": [
    "\"\"\"\n",
    "bedanya tuple dengan list apa?\n",
    "tuple ini imutable (nilainya tidak bisa diubah) atau nilai nya konstan\n",
    "tuple ini lebih cepat dan menggunakan memory juga lebih sedikit\n",
    "tuple biasanya digunakan untuk nilai konstan, untuk nilai yang tidak berubah \n",
    "sedangkan list untuk nilainya ada kemungkinan berubah\n",
    "\"\"\"\n",
    "T[0] = 100"
   ]
  },
  {
   "cell_type": "code",
   "execution_count": 27,
   "metadata": {
    "slideshow": {
     "slide_type": "slide"
    }
   },
   "outputs": [
    {
     "data": {
      "text/plain": [
       "[30, 49, 63]"
      ]
     },
     "execution_count": 27,
     "metadata": {},
     "output_type": "execute_result"
    }
   ],
   "source": [
    "L = [49,30,63]\n",
    "T = (20, 45, 74)\n",
    "L.sort() #mengurutkan nilai terkecil ke terbesar\n",
    "L"
   ]
  },
  {
   "cell_type": "code",
   "execution_count": 28,
   "metadata": {
    "slideshow": {
     "slide_type": "slide"
    }
   },
   "outputs": [
    {
     "ename": "AttributeError",
     "evalue": "'tuple' object has no attribute 'sort'",
     "output_type": "error",
     "traceback": [
      "\u001b[1;31m---------------------------------------------------------------------------\u001b[0m",
      "\u001b[1;31mAttributeError\u001b[0m                            Traceback (most recent call last)",
      "\u001b[1;32m<ipython-input-28-4d4e44e3a84b>\u001b[0m in \u001b[0;36m<module>\u001b[1;34m\u001b[0m\n\u001b[0;32m      1\u001b[0m \u001b[1;31m#kita coba di tuple akan error\u001b[0m\u001b[1;33m\u001b[0m\u001b[1;33m\u001b[0m\u001b[1;33m\u001b[0m\u001b[0m\n\u001b[1;32m----> 2\u001b[1;33m \u001b[0mT\u001b[0m\u001b[1;33m.\u001b[0m\u001b[0msort\u001b[0m\u001b[1;33m(\u001b[0m\u001b[1;33m)\u001b[0m\u001b[1;33m\u001b[0m\u001b[1;33m\u001b[0m\u001b[0m\n\u001b[0m\u001b[0;32m      3\u001b[0m \u001b[0mT\u001b[0m\u001b[1;33m\u001b[0m\u001b[1;33m\u001b[0m\u001b[0m\n",
      "\u001b[1;31mAttributeError\u001b[0m: 'tuple' object has no attribute 'sort'"
     ]
    }
   ],
   "source": [
    "#kita coba di tuple akan error\n",
    "T.sort()\n",
    "T"
   ]
  },
  {
   "cell_type": "code",
   "execution_count": 29,
   "metadata": {
    "slideshow": {
     "slide_type": "slide"
    }
   },
   "outputs": [
    {
     "data": {
      "text/plain": [
       "[1.5, True, 2, (10, 5), 'hello']"
      ]
     },
     "execution_count": 29,
     "metadata": {},
     "output_type": "execute_result"
    }
   ],
   "source": [
    "#list mirip seperti array tapi bukan array, list ini bisa diisi apa saja\n",
    "L = [1.5, True, 2, (10,5), \"hello\"]\n",
    "L"
   ]
  },
  {
   "cell_type": "code",
   "execution_count": 30,
   "metadata": {
    "slideshow": {
     "slide_type": "slide"
    }
   },
   "outputs": [
    {
     "data": {
      "text/plain": [
       "[1, 10, 7, 15, 33]"
      ]
     },
     "execution_count": 30,
     "metadata": {},
     "output_type": "execute_result"
    }
   ],
   "source": [
    "\"\"\"\n",
    "array di bahasa pemrograman jika ditetapkan panjangnya 30 maka akan selalu 30\n",
    "tapi kalau list bisa ditambahkan misal\n",
    "\n",
    "\"\"\"\n",
    "L = [1, 10, 7, 15]\n",
    "L.append(33)\n",
    "L"
   ]
  },
  {
   "cell_type": "code",
   "execution_count": 31,
   "metadata": {
    "slideshow": {
     "slide_type": "slide"
    }
   },
   "outputs": [
    {
     "data": {
      "text/plain": [
       "[1, 10, 7, 15, 33, 23, 44, 55, 60]"
      ]
     },
     "execution_count": 31,
     "metadata": {},
     "output_type": "execute_result"
    }
   ],
   "source": [
    "# di extend dengan list lain\n",
    "L.extend([23, 44, 55, 60])\n",
    "L"
   ]
  },
  {
   "cell_type": "code",
   "execution_count": 32,
   "metadata": {
    "slideshow": {
     "slide_type": "slide"
    }
   },
   "outputs": [
    {
     "data": {
      "text/plain": [
       "[1, 10, 7, 15, 3, 4, 5]"
      ]
     },
     "execution_count": 32,
     "metadata": {},
     "output_type": "execute_result"
    }
   ],
   "source": [
    "G = [1, 10, 7, 15]\n",
    "H = [3, 4, 5]\n",
    "G + H #list tidak menjalankan operasi sebagaimana operasi vektor tapi sebagai operasi extend nya"
   ]
  },
  {
   "cell_type": "code",
   "execution_count": 33,
   "metadata": {
    "slideshow": {
     "slide_type": "slide"
    }
   },
   "outputs": [
    {
     "data": {
      "text/plain": [
       "[1, 10, 7]"
      ]
     },
     "execution_count": 33,
     "metadata": {},
     "output_type": "execute_result"
    }
   ],
   "source": [
    "# untuk membuang element terakhir\n",
    "L = [1, 10, 7, 15]\n",
    "L.pop()\n",
    "L"
   ]
  },
  {
   "cell_type": "code",
   "execution_count": 34,
   "metadata": {
    "slideshow": {
     "slide_type": "slide"
    }
   },
   "outputs": [
    {
     "ename": "NameError",
     "evalue": "name 'L' is not defined",
     "output_type": "error",
     "traceback": [
      "\u001b[1;31m---------------------------------------------------------------------------\u001b[0m",
      "\u001b[1;31mNameError\u001b[0m                                 Traceback (most recent call last)",
      "\u001b[1;32m<ipython-input-34-9bb4e7196aa9>\u001b[0m in \u001b[0;36m<module>\u001b[1;34m\u001b[0m\n\u001b[0;32m      3\u001b[0m \u001b[0mL\u001b[0m \u001b[1;33m=\u001b[0m \u001b[1;33m[\u001b[0m\u001b[1;36m1\u001b[0m\u001b[1;33m,\u001b[0m \u001b[1;36m10\u001b[0m\u001b[1;33m,\u001b[0m \u001b[1;36m7\u001b[0m\u001b[1;33m,\u001b[0m \u001b[1;36m15\u001b[0m\u001b[1;33m]\u001b[0m\u001b[1;33m\u001b[0m\u001b[1;33m\u001b[0m\u001b[0m\n\u001b[0;32m      4\u001b[0m \u001b[1;32mdel\u001b[0m \u001b[0mL\u001b[0m \u001b[1;31m#ini akan error karena L sudah dihapus dari memory\u001b[0m\u001b[1;33m\u001b[0m\u001b[1;33m\u001b[0m\u001b[0m\n\u001b[1;32m----> 5\u001b[1;33m \u001b[0mL\u001b[0m\u001b[1;33m\u001b[0m\u001b[1;33m\u001b[0m\u001b[0m\n\u001b[0m",
      "\u001b[1;31mNameError\u001b[0m: name 'L' is not defined"
     ]
    }
   ],
   "source": [
    "# menghapus suatu variabel\n",
    "\n",
    "L = [1, 10, 7, 15]\n",
    "del L #ini akan error karena L sudah dihapus dari memory\n",
    "L"
   ]
  },
  {
   "cell_type": "code",
   "execution_count": 35,
   "metadata": {
    "slideshow": {
     "slide_type": "slide"
    }
   },
   "outputs": [
    {
     "data": {
      "text/plain": [
       "[1, 7, 15]"
      ]
     },
     "execution_count": 35,
     "metadata": {},
     "output_type": "execute_result"
    }
   ],
   "source": [
    "L = [1, 10, 7, 15]\n",
    "del L[1]\n",
    "L"
   ]
  },
  {
   "cell_type": "code",
   "execution_count": 36,
   "metadata": {
    "slideshow": {
     "slide_type": "slide"
    }
   },
   "outputs": [
    {
     "data": {
      "text/plain": [
       "{3, 6, 17, 21}"
      ]
     },
     "execution_count": 36,
     "metadata": {},
     "output_type": "execute_result"
    }
   ],
   "source": [
    "# Set (himpunan)\n",
    "\n",
    "H = {3, 6, 17, 21}\n",
    "H"
   ]
  },
  {
   "cell_type": "code",
   "execution_count": 37,
   "metadata": {
    "slideshow": {
     "slide_type": "slide"
    }
   },
   "outputs": [
    {
     "data": {
      "text/plain": [
       "{3, 6, 17, 21}"
      ]
     },
     "execution_count": 37,
     "metadata": {},
     "output_type": "execute_result"
    }
   ],
   "source": [
    "\"\"\"\n",
    "apa bedanya dengan list dan tuple?\n",
    "kalau di set (himpunan) yang nilainya sama dihitung satu aja\n",
    "\"\"\"\n",
    "\n",
    "H = {3, 6, 3, 17, 21, 3}\n",
    "H"
   ]
  },
  {
   "cell_type": "code",
   "execution_count": 38,
   "metadata": {
    "slideshow": {
     "slide_type": "slide"
    }
   },
   "outputs": [
    {
     "ename": "TypeError",
     "evalue": "'set' object is not subscriptable",
     "output_type": "error",
     "traceback": [
      "\u001b[1;31m---------------------------------------------------------------------------\u001b[0m",
      "\u001b[1;31mTypeError\u001b[0m                                 Traceback (most recent call last)",
      "\u001b[1;32m<ipython-input-38-9eea717bd299>\u001b[0m in \u001b[0;36m<module>\u001b[1;34m\u001b[0m\n\u001b[0;32m      1\u001b[0m \u001b[1;31m# di set (himpunan) tidak memiliki index\u001b[0m\u001b[1;33m\u001b[0m\u001b[1;33m\u001b[0m\u001b[1;33m\u001b[0m\u001b[0m\n\u001b[0;32m      2\u001b[0m \u001b[1;33m\u001b[0m\u001b[0m\n\u001b[1;32m----> 3\u001b[1;33m \u001b[0mH\u001b[0m\u001b[1;33m[\u001b[0m\u001b[1;36m0\u001b[0m\u001b[1;33m]\u001b[0m\u001b[1;33m\u001b[0m\u001b[1;33m\u001b[0m\u001b[0m\n\u001b[0m",
      "\u001b[1;31mTypeError\u001b[0m: 'set' object is not subscriptable"
     ]
    }
   ],
   "source": [
    "# di set (himpunan) tidak memiliki index\n",
    "\n",
    "H[0]"
   ]
  },
  {
   "cell_type": "code",
   "execution_count": 39,
   "metadata": {
    "slideshow": {
     "slide_type": "slide"
    }
   },
   "outputs": [
    {
     "data": {
      "text/plain": [
       "False"
      ]
     },
     "execution_count": 39,
     "metadata": {},
     "output_type": "execute_result"
    }
   ],
   "source": [
    "# di himpunan biasanya digunakan untuk mengecek apakah suatu nilai ada di himpunan atau tidak\n",
    "\n",
    "filter_ = {3, 6, 3, 17, 21, 3}\n",
    "\n",
    "7 in filter_"
   ]
  },
  {
   "cell_type": "code",
   "execution_count": 40,
   "metadata": {
    "slideshow": {
     "slide_type": "slide"
    }
   },
   "outputs": [
    {
     "data": {
      "text/plain": [
       "{3, 6, 8, 17, 21, 40}"
      ]
     },
     "execution_count": 40,
     "metadata": {},
     "output_type": "execute_result"
    }
   ],
   "source": [
    "# di set bisa menambahkan elemen dengan perintah add\n",
    "H = {3, 6, 40, 3, 17, 21, 3}\n",
    "H.add(8)\n",
    "H"
   ]
  },
  {
   "cell_type": "code",
   "execution_count": 41,
   "metadata": {
    "slideshow": {
     "slide_type": "slide"
    }
   },
   "outputs": [
    {
     "name": "stdout",
     "output_type": "stream",
     "text": [
      "<class 'set'>\n"
     ]
    },
    {
     "data": {
      "text/plain": [
       "dict"
      ]
     },
     "execution_count": 41,
     "metadata": {},
     "output_type": "execute_result"
    }
   ],
   "source": [
    "H = {22, 33}\n",
    "print(type(H))\n",
    "G = {} # hati-hati hasil G ini dictionary\n",
    "type(G)"
   ]
  },
  {
   "cell_type": "code",
   "execution_count": 42,
   "metadata": {
    "slideshow": {
     "slide_type": "slide"
    }
   },
   "outputs": [
    {
     "data": {
      "text/plain": [
       "{'a': 1, 'e': 5, 'b': 2}"
      ]
     },
     "execution_count": 42,
     "metadata": {},
     "output_type": "execute_result"
    }
   ],
   "source": [
    "# Dictionary di Python\n",
    "# mirip seperti list tapi index nya terserah kita\n",
    "\n",
    "D = {'a':1, 'e':5, 'b':2}\n",
    "D"
   ]
  },
  {
   "cell_type": "code",
   "execution_count": 43,
   "metadata": {
    "slideshow": {
     "slide_type": "slide"
    }
   },
   "outputs": [
    {
     "data": {
      "text/plain": [
       "2"
      ]
     },
     "execution_count": 43,
     "metadata": {},
     "output_type": "execute_result"
    }
   ],
   "source": [
    "\"\"\"\n",
    "dictionary seperti list yang isinya 1, 5, 2\n",
    "kalau di list tadi index nya 0, 1, 2, dst\n",
    "kalau di dictionary index nya bebas terserah kita\n",
    "\n",
    "'a', 'e', 'b' disebut key\n",
    "1, 2, 3 disebut values\n",
    "\"\"\"\n",
    "D = {'a':1, 'e':5, 'b':2}\n",
    "D['b']"
   ]
  },
  {
   "cell_type": "code",
   "execution_count": 44,
   "metadata": {
    "slideshow": {
     "slide_type": "slide"
    }
   },
   "outputs": [
    {
     "ename": "KeyError",
     "evalue": "'c'",
     "output_type": "error",
     "traceback": [
      "\u001b[1;31m---------------------------------------------------------------------------\u001b[0m",
      "\u001b[1;31mKeyError\u001b[0m                                  Traceback (most recent call last)",
      "\u001b[1;32m<ipython-input-44-d40ac0156346>\u001b[0m in \u001b[0;36m<module>\u001b[1;34m\u001b[0m\n\u001b[0;32m      1\u001b[0m \u001b[1;31m# tapi hati-hati kalau memanggil sesuatu yang tidak ada di himpunan key nya, maka akan error\u001b[0m\u001b[1;33m\u001b[0m\u001b[1;33m\u001b[0m\u001b[1;33m\u001b[0m\u001b[0m\n\u001b[0;32m      2\u001b[0m \u001b[1;33m\u001b[0m\u001b[0m\n\u001b[1;32m----> 3\u001b[1;33m \u001b[0mD\u001b[0m\u001b[1;33m[\u001b[0m\u001b[1;34m'c'\u001b[0m\u001b[1;33m]\u001b[0m\u001b[1;33m\u001b[0m\u001b[1;33m\u001b[0m\u001b[0m\n\u001b[0m",
      "\u001b[1;31mKeyError\u001b[0m: 'c'"
     ]
    }
   ],
   "source": [
    "# tapi hati-hati kalau memanggil sesuatu yang tidak ada di himpunan key nya, maka akan error\n",
    "\n",
    "D['c']"
   ]
  },
  {
   "cell_type": "markdown",
   "metadata": {
    "slideshow": {
     "slide_type": "slide"
    }
   },
   "source": [
    "## Pendahuluan Logika Percabangan (Conditional Statement) - IF ELSE\n",
    "\n",
    "- Bentuk umumnya: IF (kondisi) MAKA (tindakan)\n",
    "- Syarat utamanya adalah \"kondisi/syarat\" harus bernilai Boolean (True/False). sedangkan tindakan bisa apa saja"
   ]
  },
  {
   "cell_type": "code",
   "execution_count": 46,
   "metadata": {
    "slideshow": {
     "slide_type": "slide"
    }
   },
   "outputs": [
    {
     "name": "stdout",
     "output_type": "stream",
     "text": [
      "Masukkan nilai x = -3\n",
      "x negatif\n"
     ]
    }
   ],
   "source": [
    "x = input('Masukkan nilai x = ') # hati-hati input di python selalu di definisikan sebagai string/character\n",
    "if int(x)<0:\n",
    "    print('x negatif')\n",
    "else:\n",
    "    print('x bukan negatif')"
   ]
  },
  {
   "cell_type": "code",
   "execution_count": 47,
   "metadata": {
    "slideshow": {
     "slide_type": "slide"
    }
   },
   "outputs": [
    {
     "name": "stdout",
     "output_type": "stream",
     "text": [
      "x = 12\n"
     ]
    },
    {
     "data": {
      "text/plain": [
       "'12'"
      ]
     },
     "execution_count": 47,
     "metadata": {},
     "output_type": "execute_result"
    }
   ],
   "source": [
    "#input di python selalu di definisikan sebagai string/character, misal\n",
    "a = input('x = ')\n",
    "a # nanti ada kutip satunya"
   ]
  },
  {
   "cell_type": "code",
   "execution_count": 48,
   "metadata": {
    "slideshow": {
     "slide_type": "slide"
    }
   },
   "outputs": [
    {
     "data": {
      "text/plain": [
       "str"
      ]
     },
     "execution_count": 48,
     "metadata": {},
     "output_type": "execute_result"
    }
   ],
   "source": [
    "type(a)"
   ]
  },
  {
   "cell_type": "code",
   "execution_count": 49,
   "metadata": {
    "slideshow": {
     "slide_type": "slide"
    }
   },
   "outputs": [
    {
     "name": "stdout",
     "output_type": "stream",
     "text": [
      "x = 12\n"
     ]
    },
    {
     "data": {
      "text/plain": [
       "12"
      ]
     },
     "execution_count": 49,
     "metadata": {},
     "output_type": "execute_result"
    }
   ],
   "source": [
    "# di python kalau ingin mengkonversi suatu variabel tinggal disebut saja, misal ingin diubah ke integer\n",
    "a = int(input('x = '))\n",
    "a"
   ]
  },
  {
   "cell_type": "code",
   "execution_count": 50,
   "metadata": {
    "slideshow": {
     "slide_type": "slide"
    }
   },
   "outputs": [
    {
     "name": "stdout",
     "output_type": "stream",
     "text": [
      "x = -2\n",
      "a bilangan negatif\n"
     ]
    }
   ],
   "source": [
    "a = int(input('x = '))\n",
    "\n",
    "if a>0:\n",
    "    print('a bilangan positif')\n",
    "elif a==0:\n",
    "    print('a = 0')\n",
    "else:\n",
    "    print('a bilangan negatif')"
   ]
  },
  {
   "cell_type": "code",
   "execution_count": 51,
   "metadata": {
    "slideshow": {
     "slide_type": "slide"
    }
   },
   "outputs": [
    {
     "name": "stdout",
     "output_type": "stream",
     "text": [
      "x = 15\n",
      "a bilangan positif\n"
     ]
    }
   ],
   "source": [
    "# tapi jika a nya kita input dengan huruf, maka akan error\n",
    "a = int(input('x = '))\n",
    "\n",
    "if a>0:\n",
    "    print('a bilangan positif')\n",
    "elif a==0:\n",
    "    print('a = 0')\n",
    "else:\n",
    "    print('a bilangan negatif')"
   ]
  },
  {
   "cell_type": "code",
   "execution_count": 52,
   "metadata": {
    "slideshow": {
     "slide_type": "slide"
    }
   },
   "outputs": [
    {
     "data": {
      "text/plain": [
       "False"
      ]
     },
     "execution_count": 52,
     "metadata": {},
     "output_type": "execute_result"
    }
   ],
   "source": [
    "A = True\n",
    "B = False\n",
    "\n",
    "not A # not ini adalah negasi"
   ]
  },
  {
   "cell_type": "code",
   "execution_count": 53,
   "metadata": {
    "slideshow": {
     "slide_type": "slide"
    }
   },
   "outputs": [
    {
     "data": {
      "text/plain": [
       "False"
      ]
     },
     "execution_count": 53,
     "metadata": {},
     "output_type": "execute_result"
    }
   ],
   "source": [
    "A and B"
   ]
  },
  {
   "cell_type": "code",
   "execution_count": 54,
   "metadata": {
    "slideshow": {
     "slide_type": "slide"
    }
   },
   "outputs": [
    {
     "data": {
      "text/plain": [
       "True"
      ]
     },
     "execution_count": 54,
     "metadata": {},
     "output_type": "execute_result"
    }
   ],
   "source": [
    "A and not B"
   ]
  },
  {
   "cell_type": "code",
   "execution_count": 55,
   "metadata": {
    "slideshow": {
     "slide_type": "slide"
    }
   },
   "outputs": [
    {
     "data": {
      "text/plain": [
       "False"
      ]
     },
     "execution_count": 55,
     "metadata": {},
     "output_type": "execute_result"
    }
   ],
   "source": [
    "# and juga bisa ditulis dengan simbol (&)\n",
    "A & B"
   ]
  },
  {
   "cell_type": "code",
   "execution_count": 56,
   "metadata": {
    "slideshow": {
     "slide_type": "slide"
    }
   },
   "outputs": [
    {
     "data": {
      "text/plain": [
       "True"
      ]
     },
     "execution_count": 56,
     "metadata": {},
     "output_type": "execute_result"
    }
   ],
   "source": [
    "A or B"
   ]
  },
  {
   "cell_type": "code",
   "execution_count": 57,
   "metadata": {
    "slideshow": {
     "slide_type": "slide"
    }
   },
   "outputs": [
    {
     "data": {
      "text/plain": [
       "True"
      ]
     },
     "execution_count": 57,
     "metadata": {},
     "output_type": "execute_result"
    }
   ],
   "source": [
    "# or juga bisa ditulis dengan simbol (|)\n",
    "A | B"
   ]
  },
  {
   "cell_type": "code",
   "execution_count": 58,
   "metadata": {},
   "outputs": [
    {
     "data": {
      "text/plain": [
       "(True, True)"
      ]
     },
     "execution_count": 58,
     "metadata": {},
     "output_type": "execute_result"
    }
   ],
   "source": [
    "# di python juga ada simbol tanda seru (!) yang menyatakan tidak\n",
    "# jadi kalau di logika matematika ditulisnya simbol (==), kalau (=) pedefinisian suatu variabel\n",
    "\n",
    "2!=3, 4/2==2"
   ]
  },
  {
   "cell_type": "markdown",
   "metadata": {},
   "source": [
    "## Hati-hati Boolean Trap di Python"
   ]
  },
  {
   "cell_type": "code",
   "execution_count": 59,
   "metadata": {},
   "outputs": [
    {
     "name": "stdout",
     "output_type": "stream",
     "text": [
      "Benar\n"
     ]
    }
   ],
   "source": [
    "a = True\n",
    "if a:\n",
    "    print('Benar')\n",
    "else:\n",
    "    print('Salah')"
   ]
  },
  {
   "cell_type": "code",
   "execution_count": 60,
   "metadata": {},
   "outputs": [
    {
     "name": "stdout",
     "output_type": "stream",
     "text": [
      "Salah\n"
     ]
    }
   ],
   "source": [
    "a = False\n",
    "if a:\n",
    "    print('Benar')\n",
    "else:\n",
    "    print('Salah')"
   ]
  },
  {
   "cell_type": "code",
   "execution_count": 61,
   "metadata": {},
   "outputs": [
    {
     "name": "stdout",
     "output_type": "stream",
     "text": [
      "Benar\n"
     ]
    }
   ],
   "source": [
    "a = 1\n",
    "if a:\n",
    "    print('Benar')\n",
    "else:\n",
    "    print('Salah')"
   ]
  },
  {
   "cell_type": "code",
   "execution_count": 62,
   "metadata": {},
   "outputs": [
    {
     "name": "stdout",
     "output_type": "stream",
     "text": [
      "Salah\n"
     ]
    }
   ],
   "source": [
    "a = 0\n",
    "if a:\n",
    "    print('Benar')\n",
    "else:\n",
    "    print('Salah')"
   ]
  },
  {
   "cell_type": "markdown",
   "metadata": {},
   "source": [
    "## Exceptions (Try-Except)\n",
    "\n",
    "- begitu mudah digunakan di python\n",
    "- ini penting kalau error nya tidak ketangkep kemudian sistem nya down dan tidak bisa dipakai"
   ]
  },
  {
   "cell_type": "code",
   "execution_count": 64,
   "metadata": {},
   "outputs": [
    {
     "name": "stdout",
     "output_type": "stream",
     "text": [
      "Masukkan angka = x\n",
      "yang anda masukkan bukan angka\n"
     ]
    }
   ],
   "source": [
    "try:\n",
    "    n = int(input(\"Masukkan angka = \"))\n",
    "    print('Terima Kasih')\n",
    "except:\n",
    "    print('yang anda masukkan bukan angka')"
   ]
  },
  {
   "cell_type": "code",
   "execution_count": 65,
   "metadata": {},
   "outputs": [
    {
     "name": "stdout",
     "output_type": "stream",
     "text": [
      "Masukkan angka = rst\n",
      "Error :  invalid literal for int() with base 10: 'rst'\n"
     ]
    }
   ],
   "source": [
    "# Catch the Error\n",
    "try:\n",
    "    n = int(input(\"Masukkan angka = \"))\n",
    "    print('Terima Kasih')\n",
    "except Exception as err_:\n",
    "    print('Error : ', err_)"
   ]
  },
  {
   "cell_type": "code",
   "execution_count": 66,
   "metadata": {},
   "outputs": [
    {
     "name": "stdout",
     "output_type": "stream",
     "text": [
      "Masukkan angka = rst\n"
     ]
    },
    {
     "ename": "ValueError",
     "evalue": "invalid literal for int() with base 10: 'rst'",
     "output_type": "error",
     "traceback": [
      "\u001b[1;31m---------------------------------------------------------------------------\u001b[0m",
      "\u001b[1;31mValueError\u001b[0m                                Traceback (most recent call last)",
      "\u001b[1;32m<ipython-input-66-ba6d8cf21315>\u001b[0m in \u001b[0;36m<module>\u001b[1;34m\u001b[0m\n\u001b[0;32m      2\u001b[0m \u001b[1;31m#membuat kesalahan (error) dengan tidak memasukkan angka print terima kasihnya tidak dijalankan maka programnya akan berhenti\u001b[0m\u001b[1;33m\u001b[0m\u001b[1;33m\u001b[0m\u001b[1;33m\u001b[0m\u001b[0m\n\u001b[0;32m      3\u001b[0m \u001b[1;33m\u001b[0m\u001b[0m\n\u001b[1;32m----> 4\u001b[1;33m \u001b[0mn\u001b[0m \u001b[1;33m=\u001b[0m \u001b[0mint\u001b[0m\u001b[1;33m(\u001b[0m\u001b[0minput\u001b[0m\u001b[1;33m(\u001b[0m\u001b[1;34m\"Masukkan angka = \"\u001b[0m\u001b[1;33m)\u001b[0m\u001b[1;33m)\u001b[0m\u001b[1;33m\u001b[0m\u001b[1;33m\u001b[0m\u001b[0m\n\u001b[0m\u001b[0;32m      5\u001b[0m \u001b[0mprint\u001b[0m\u001b[1;33m(\u001b[0m\u001b[1;34m'Terima Kasih'\u001b[0m\u001b[1;33m)\u001b[0m\u001b[1;33m\u001b[0m\u001b[1;33m\u001b[0m\u001b[0m\n",
      "\u001b[1;31mValueError\u001b[0m: invalid literal for int() with base 10: 'rst'"
     ]
    }
   ],
   "source": [
    "# misal tidak memakai try-except\n",
    "#membuat kesalahan (error) dengan tidak memasukkan angka print terima kasihnya tidak dijalankan maka programnya akan berhenti\n",
    "\n",
    "n = int(input(\"Masukkan angka = \"))\n",
    "print('Terima Kasih')"
   ]
  },
  {
   "cell_type": "code",
   "execution_count": 67,
   "metadata": {},
   "outputs": [
    {
     "name": "stdout",
     "output_type": "stream",
     "text": [
      "Masukkan angka = rst\n",
      "Error :  invalid literal for int() with base 10: 'rst'\n",
      "ini diluar try-except\n"
     ]
    }
   ],
   "source": [
    "try:\n",
    "    n = int(input(\"Masukkan angka = \"))\n",
    "    print('Terima Kasih')\n",
    "except Exception as err_:\n",
    "    print('Error : ', err_)\n",
    "\n",
    "print('ini diluar try-except')"
   ]
  },
  {
   "cell_type": "markdown",
   "metadata": {},
   "source": [
    "## Loop di Python"
   ]
  },
  {
   "cell_type": "code",
   "execution_count": 68,
   "metadata": {},
   "outputs": [
    {
     "data": {
      "text/plain": [
       "range(0, 5)"
      ]
     },
     "execution_count": 68,
     "metadata": {},
     "output_type": "execute_result"
    }
   ],
   "source": [
    "# tidak ada outputnya (hanya range 0 sampai 5)\n",
    "range(5)"
   ]
  },
  {
   "cell_type": "code",
   "execution_count": 69,
   "metadata": {},
   "outputs": [
    {
     "data": {
      "text/plain": [
       "[0, 1, 2, 3, 4]"
      ]
     },
     "execution_count": 69,
     "metadata": {},
     "output_type": "execute_result"
    }
   ],
   "source": [
    "# kalau ingin tau isi bilangannya\n",
    "list(range(5))"
   ]
  },
  {
   "cell_type": "code",
   "execution_count": 70,
   "metadata": {},
   "outputs": [
    {
     "name": "stdout",
     "output_type": "stream",
     "text": [
      "0\n",
      "1\n",
      "2\n",
      "3\n",
      "4\n"
     ]
    }
   ],
   "source": [
    "# bisa di outputkan satu-satu\n",
    "\n",
    "for i in range(5):\n",
    "    print(i)"
   ]
  },
  {
   "cell_type": "code",
   "execution_count": 71,
   "metadata": {},
   "outputs": [
    {
     "name": "stdout",
     "output_type": "stream",
     "text": [
      "0 1 2 3 4 "
     ]
    }
   ],
   "source": [
    "# kalau tidak ingin jadi baris\n",
    "for i in range(5):\n",
    "    print(i, end=' ')"
   ]
  },
  {
   "cell_type": "code",
   "execution_count": 72,
   "metadata": {},
   "outputs": [
    {
     "data": {
      "text/plain": [
       "[2, 4, 6, 8]"
      ]
     },
     "execution_count": 72,
     "metadata": {},
     "output_type": "execute_result"
    }
   ],
   "source": [
    "# range boleh menggunakan \"STEP\"\n",
    "# Bentuk umumnya range(START, END, STEP)\n",
    "list(range(2,10,2))"
   ]
  },
  {
   "cell_type": "code",
   "execution_count": 73,
   "metadata": {},
   "outputs": [
    {
     "data": {
      "text/plain": [
       "45"
      ]
     },
     "execution_count": 73,
     "metadata": {},
     "output_type": "execute_result"
    }
   ],
   "source": [
    "# Sehingga loop diatas di python adalah\n",
    "SUM = 0\n",
    "for i in range(1,10):\n",
    "    SUM = SUM + i\n",
    "SUM"
   ]
  },
  {
   "cell_type": "code",
   "execution_count": 74,
   "metadata": {},
   "outputs": [
    {
     "data": {
      "text/plain": [
       "45"
      ]
     },
     "execution_count": 74,
     "metadata": {},
     "output_type": "execute_result"
    }
   ],
   "source": [
    "#bisa juga seperti ini\n",
    "SUM = 0\n",
    "for i in range(1,10):\n",
    "    SUM += i\n",
    "SUM"
   ]
  },
  {
   "cell_type": "code",
   "execution_count": 79,
   "metadata": {},
   "outputs": [
    {
     "data": {
      "text/plain": [
       "45"
      ]
     },
     "execution_count": 79,
     "metadata": {},
     "output_type": "execute_result"
    }
   ],
   "source": [
    "# bisa juga dengan\n",
    "sum(range(1,10))"
   ]
  },
  {
   "cell_type": "code",
   "execution_count": 80,
   "metadata": {},
   "outputs": [
    {
     "name": "stdout",
     "output_type": "stream",
     "text": [
      "anggur\n",
      "durian\n",
      "apel\n",
      "sawo\n"
     ]
    }
   ],
   "source": [
    "# di python loop boleh dari suatu list/array\n",
    "buah = ['anggur', 'durian', 'apel', 'sawo']\n",
    "\n",
    "for a in buah:\n",
    "    print(a)"
   ]
  },
  {
   "cell_type": "markdown",
   "metadata": {},
   "source": [
    "misal kita mengolah data tidak terstruktur (data media social) misal 10000 user, berarti\n",
    "for user in data -->lalu setiap user nya mau kita apain misalkan di gambar dalam sebuah graf atau sebagainya.\n",
    "jadi di python indexnya tidak dibutuhkan"
   ]
  },
  {
   "cell_type": "code",
   "execution_count": 81,
   "metadata": {},
   "outputs": [
    {
     "name": "stdout",
     "output_type": "stream",
     "text": [
      "0 anggur\n",
      "1 durian\n",
      "2 apel\n",
      "3 sawo\n"
     ]
    }
   ],
   "source": [
    "# kalau butuh indeksnya bagaimana?\n",
    "buah = ['anggur', 'durian', 'apel', 'sawo']\n",
    "\n",
    "for i, a in enumerate(buah):\n",
    "    print(i,a)"
   ]
  },
  {
   "cell_type": "code",
   "execution_count": 83,
   "metadata": {},
   "outputs": [
    {
     "name": "stdout",
     "output_type": "stream",
     "text": [
      "[99, 89, 79, 69, 59, 49, 40, 30, 20, 10, -1]\n",
      "[0.010101010101010102, 0.011235955056179775, 0.012658227848101266, 0.014492753623188406, 0.01694915254237288, 0.02040816326530612, 0.025, 0.03333333333333333, 0.05, 0.1, -1.0]\n"
     ]
    }
   ],
   "source": [
    "# bagaimana mentranform suatu data\n",
    "A = [99,89,79,69,59,49,40,30,20,10, -1]\n",
    "B = [] # inisialisasi engan array (list) kosong\n",
    "for datum in A:\n",
    "    B.append(1/datum)\n",
    "print(A)\n",
    "print(B)"
   ]
  },
  {
   "cell_type": "code",
   "execution_count": 85,
   "metadata": {},
   "outputs": [
    {
     "name": "stdout",
     "output_type": "stream",
     "text": [
      "[0.010101010101010102, 0.011235955056179775, 0.012658227848101266, 0.014492753623188406, 0.01694915254237288, 0.02040816326530612, 0.025, 0.03333333333333333, 0.05, 0.1, -1.0]\n"
     ]
    }
   ],
   "source": [
    "#cara ke-2 lumayan baik\n",
    "A = [99,89,79,69,59,49,40,30,20,10, -1]\n",
    "N = len(A)\n",
    "for i in range(N):\n",
    "    A[i] = 1/A[i]\n",
    "print(A)"
   ]
  },
  {
   "cell_type": "code",
   "execution_count": 86,
   "metadata": {},
   "outputs": [
    {
     "name": "stdout",
     "output_type": "stream",
     "text": [
      "[0.010101010101010102, 0.011235955056179775, 0.012658227848101266, 0.014492753623188406, 0.01694915254237288, 0.02040816326530612, 0.025, 0.03333333333333333, 0.05, 0.1, -1.0]\n"
     ]
    }
   ],
   "source": [
    "#cara yang bagus\n",
    "A = [99,89,79,69,59,49,40,30,20,10, -1]\n",
    "for i, a in enumerate(A):\n",
    "    A[i] = 1/a\n",
    "print(A)"
   ]
  },
  {
   "cell_type": "code",
   "execution_count": 87,
   "metadata": {},
   "outputs": [
    {
     "name": "stdout",
     "output_type": "stream",
     "text": [
      "[0.010101010101010102, 0.011235955056179775, 0.012658227848101266, 0.014492753623188406, 0.01694915254237288, 0.02040816326530612, 0.025, 0.03333333333333333, 0.05, 0.1, -1.0]\n"
     ]
    }
   ],
   "source": [
    "#bisa juga\n",
    "A = [99,89,79,69,59,49,40,30,20,10, -1]\n",
    "A = [1/x for x in A]\n",
    "\n",
    "print(A)"
   ]
  },
  {
   "cell_type": "markdown",
   "metadata": {},
   "source": [
    "## Loop - While\n",
    "\n",
    "- while loop digunakan untuk mengulang-ulang sesuatu (tapi tidak begitu tau mengulangnya berapa kali), kalau \"for\" tau mengulangnya berapa kali\n"
   ]
  },
  {
   "cell_type": "code",
   "execution_count": 88,
   "metadata": {},
   "outputs": [
    {
     "name": "stdout",
     "output_type": "stream",
     "text": [
      "7, 6, 5, 4, 3, 2, 1, "
     ]
    }
   ],
   "source": [
    "# contoh sederhana\n",
    "n = 7\n",
    "while n > 0:\n",
    "    print(n, end = ', ')\n",
    "    n = n-1"
   ]
  },
  {
   "cell_type": "markdown",
   "metadata": {},
   "source": [
    "- for di bahasa pemrograman apapun lebih cepat daripada while\n",
    "- while ini lambat karena ada pengecekan stopper nya (kapan dia berhenti)"
   ]
  },
  {
   "cell_type": "markdown",
   "metadata": {},
   "source": [
    "## Bentuk Umum Print Function\n",
    "- print(value1, value2, value3, ..., sep=' ', end='\\n', file=sys.stdout, flush=False)\n",
    "- value = any Python data type\n",
    "- Reference: https://docs.python.org/3/library/functions.html#print"
   ]
  },
  {
   "cell_type": "code",
   "execution_count": 90,
   "metadata": {},
   "outputs": [
    {
     "name": "stdout",
     "output_type": "stream",
     "text": [
      "Banyaknya kategori = 7\n",
      " dengan akurasi = 89.235\tData = 'klasifikasi Kanker'\n"
     ]
    }
   ],
   "source": [
    "# OLD Python method\n",
    "nK = 7\n",
    "aK = 89.234532\n",
    "dt = 'klasifikasi Kanker'\n",
    "print(\"Banyaknya kategori = %d\\n dengan akurasi = %.3f\\tData = '%s'\" %(nK,aK,dt))\n",
    "\n",
    "# \\n ==> ganti baris .... \\t = Tabulasi\n",
    "# hati-hati sebelum \"%(\" hanya spasi (bukan koma atau titik)\n",
    "# %d = digit = integer\n",
    "# %f = float ... .XYZf ===> banyak digit di belakang koma = xyz\n",
    "# %s = string "
   ]
  },
  {
   "cell_type": "code",
   "execution_count": 91,
   "metadata": {},
   "outputs": [
    {
     "name": "stdout",
     "output_type": "stream",
     "text": [
      "Banyaknya kategori = 7\n",
      " dengan akurasi = 89.234532\tData = 'klasifikasi Kanker'\n"
     ]
    }
   ],
   "source": [
    "# Syntax python terbaru\n",
    "nK = 7\n",
    "aK = 89.234532\n",
    "dt = 'klasifikasi Kanker'\n",
    "print(\"Banyaknya kategori = {}\\n dengan akurasi = {}\\tData = '{}'\".format(nK,aK,dt))\n",
    "# perintah \".format()\" pemisahnya titik"
   ]
  },
  {
   "cell_type": "code",
   "execution_count": 92,
   "metadata": {},
   "outputs": [
    {
     "name": "stdout",
     "output_type": "stream",
     "text": [
      "Banyaknya kategori = 7\n",
      " dengan akurasi = 89.23\n",
      "Data = 'klasifikasi Kanker'\n"
     ]
    }
   ],
   "source": [
    "# Cara memformat Floating point dengan syntax baru ini\n",
    "print(\"Banyaknya kategori = {}\\n dengan akurasi = {:.2f}\\nData = '{}'\".format(nK,aK,dt))\n",
    "# Hati-hati agak beda dengan syntax lama untuk float ... sekarang ada tanda \":\""
   ]
  },
  {
   "cell_type": "code",
   "execution_count": 93,
   "metadata": {},
   "outputs": [
    {
     "name": "stdout",
     "output_type": "stream",
     "text": [
      "c=xyz lalu a=3, kemudian b=4.5\n"
     ]
    }
   ],
   "source": [
    "# Bisa Juga tidak terurut\n",
    "a, b, c = 3, 4.5, 'xyz' # new way of initialization\n",
    "print('c={2} lalu a={0}, kemudian b={1}'.format(a,b,c))"
   ]
  },
  {
   "cell_type": "code",
   "execution_count": 94,
   "metadata": {},
   "outputs": [
    {
     "name": "stdout",
     "output_type": "stream",
     "text": [
      "3:4.5:xyz\n"
     ]
    }
   ],
   "source": [
    "#bisa juga dengan (:)\n",
    "# Di Python print function kita juga bisa menspesifikasi bagaimana antar variabel dipisahkan\n",
    "print(a,b,c,sep=':')"
   ]
  },
  {
   "cell_type": "markdown",
   "metadata": {},
   "source": [
    "## Print to File in Python"
   ]
  },
  {
   "cell_type": "code",
   "execution_count": 95,
   "metadata": {},
   "outputs": [],
   "source": [
    "f = open(\"Output_Python.txt\",\"w\") # W = write new file, a='append existing file, new file if file does not exist'\n",
    "print(\"ini output pertama\", file=f)\n",
    "f.close() # kalau tidak di close, maka bagaikan file Doc yg sedang dibuka microsoft word\n",
    "# lihat di folder \"notebook\" akan ada file baru dengan nama file yg ditetapkan diatas\n",
    "# Perhatikan perintah ini tidak mengeluarkan output langsung di notebook/terminal (silenced)"
   ]
  },
  {
   "cell_type": "code",
   "execution_count": 96,
   "metadata": {},
   "outputs": [],
   "source": [
    "f = open(\"Output_Python.txt\",\"w\") # W = write new file, a='append existing file, new file if file does not exist'\n",
    "print(\"ini output pertama lagi karena opennya pakai 'w'\", file=f)\n",
    "f.close() "
   ]
  },
  {
   "cell_type": "code",
   "execution_count": 97,
   "metadata": {},
   "outputs": [],
   "source": [
    "f = open(\"Output_Python.txt\",\"a\") # W = write new file, a='append existing file, new file if file does not exist'\n",
    "print(\"ini baru output kedua karena opennya pakai 'a'\", file=f)\n",
    "f.close() \n",
    "# Jangan lupa utk mengingat \"print\" by default akan ganti baris, sehingga di akhir setiap print tidak perlu penambahan \"\\n\""
   ]
  },
  {
   "cell_type": "markdown",
   "metadata": {},
   "source": [
    "Bagaimana cara menulis file CSV?\n",
    "- CSV sebenarnya hanya file teks yg dipisahkan dengan koma\n",
    "- TAPI hindari menulis ke file CSV dengan cara print diatas\n",
    "kenapa?"
   ]
  },
  {
   "cell_type": "code",
   "execution_count": 98,
   "metadata": {},
   "outputs": [
    {
     "name": "stdout",
     "output_type": "stream",
     "text": [
      "2, 3, 4, 5, 6\n"
     ]
    }
   ],
   "source": [
    "A = [2,3,4,5,6]\n",
    "print(str(A)[1:-1])"
   ]
  },
  {
   "cell_type": "code",
   "execution_count": 99,
   "metadata": {},
   "outputs": [],
   "source": [
    "Data = [ (2,56), (1,32), (5,40), (1,37), (4,40) ]\n",
    "\n",
    "f = open(\"Output_Python.csv\",\"w\") \n",
    "print('Jumlah Anak, Umur', file=f)\n",
    "for d in Data:\n",
    "    print(str(d)[1:-1], file=f)\n",
    "f.close() "
   ]
  },
  {
   "cell_type": "code",
   "execution_count": 101,
   "metadata": {},
   "outputs": [],
   "source": [
    "Data = [ ('@udin32','keren banget konsernya cuy!'), ('@kiraAlways','dia bilang \"sa bodo\", gitu katanya!'), ('@rina23','capek deeehhh...')]\n",
    "\n",
    "f = open(\"Output_Python.csv\",\"w\") \n",
    "print('username, Tweet', file=f)\n",
    "for d in Data:\n",
    "    print(str(d)[1:-1], file=f)\n",
    "f.close() "
   ]
  },
  {
   "cell_type": "markdown",
   "metadata": {},
   "source": [
    "#### Solusi"
   ]
  },
  {
   "cell_type": "code",
   "execution_count": 102,
   "metadata": {},
   "outputs": [
    {
     "name": "stdout",
     "output_type": "stream",
     "text": [
      "Collecting csv\n"
     ]
    },
    {
     "name": "stderr",
     "output_type": "stream",
     "text": [
      "  Could not find a version that satisfies the requirement csv (from versions: )\n",
      "No matching distribution found for csv\n"
     ]
    }
   ],
   "source": [
    "!pip install csv"
   ]
  },
  {
   "cell_type": "code",
   "execution_count": 103,
   "metadata": {},
   "outputs": [],
   "source": [
    "import csv\n",
    "\n",
    "f = open(\"Output_Python.csv\",\"w\", newline='') # encoding='utf-8'\n",
    "f.write('Username, Tweet\\n')\n",
    "writer = csv.writer(f)\n",
    "for d in Data:\n",
    "    writer.writerow(d)\n",
    "f.close()"
   ]
  },
  {
   "cell_type": "markdown",
   "metadata": {},
   "source": [
    "## Pointer to Reference"
   ]
  },
  {
   "cell_type": "code",
   "execution_count": 104,
   "metadata": {},
   "outputs": [
    {
     "name": "stdout",
     "output_type": "stream",
     "text": [
      "A =  [2, 3, 4, 7]\n",
      "B =  [2, 3, 4, 7]\n"
     ]
    }
   ],
   "source": [
    "# Hati-hati dengan copy of reference (Pointer to Variabel) yg implisit di Python\n",
    "A =[2,3,4]\n",
    "B = A\n",
    "A.append(7) # Kita tidak melakukan apa-apa ke B\n",
    "print('A = ', A)\n",
    "print('B = ', B)"
   ]
  },
  {
   "cell_type": "code",
   "execution_count": 105,
   "metadata": {},
   "outputs": [
    {
     "name": "stdout",
     "output_type": "stream",
     "text": [
      "A =  [2, 3, 4, 7]\n",
      "B =  [2, 3, 4]\n"
     ]
    }
   ],
   "source": [
    "A =[2,3,4]\n",
    "B = A.copy() # ini yang mirip dgn bahasa pemrograman lain B=A\n",
    "A.append(7)\n",
    "print('A = ', A)\n",
    "print('B = ', B)"
   ]
  },
  {
   "cell_type": "markdown",
   "metadata": {},
   "source": [
    "## Zipping Lists dalam data science"
   ]
  },
  {
   "cell_type": "code",
   "execution_count": 107,
   "metadata": {},
   "outputs": [
    {
     "name": "stdout",
     "output_type": "stream",
     "text": [
      "Minggu Libur\n",
      "Senin Kerja\n",
      "Jumat Kerja tapi ingin Libur\n"
     ]
    }
   ],
   "source": [
    "A = ['Minggu','Senin','Jumat']\n",
    "B = ['Libur', 'Kerja', 'Kerja tapi ingin Libur']\n",
    "\n",
    "for a,b in zip(A,B):\n",
    "    print('{} {}'.format(a,b))"
   ]
  },
  {
   "cell_type": "code",
   "execution_count": 108,
   "metadata": {},
   "outputs": [
    {
     "name": "stdout",
     "output_type": "stream",
     "text": [
      "Minggu Libur\n",
      "Senin Kerja\n",
      "Jumat Kerja tapi ingin Libur\n"
     ]
    }
   ],
   "source": [
    "# misalkan A nya ditambahkan 1 elemen, dan B nya tetap 3 elemen\n",
    "A = ['Minggu','Senin','Jumat', 'Selasa']\n",
    "B = ['Libur', 'Kerja', 'Kerja tapi ingin Libur']\n",
    "\n",
    "for a,b in zip(A,B):\n",
    "    print('{} {}'.format(a,b))"
   ]
  },
  {
   "cell_type": "markdown",
   "metadata": {},
   "source": [
    "## DS sering memuat data dengan informasi waktu\n",
    "Media Sosial, log, artikel website, sensor, etc"
   ]
  },
  {
   "cell_type": "code",
   "execution_count": 109,
   "metadata": {},
   "outputs": [
    {
     "name": "stdout",
     "output_type": "stream",
     "text": [
      "1 6 True\n"
     ]
    }
   ],
   "source": [
    "# Variabel Date-Time\n",
    "from datetime import datetime\n",
    "# %a %b %d %l %m %M %z %Y https://www.foragoodstrftime.com/\n",
    "d1 = datetime.strptime('Jun 1 2005  1:33PM', '%b %d %Y %I:%M%p')\n",
    "d2 = datetime.strptime('Jun 1 2004  1:33PM', '%b %d %Y %I:%M%p')\n",
    "print(d1.day, d2.month, d1>d2)"
   ]
  },
  {
   "cell_type": "code",
   "execution_count": 110,
   "metadata": {},
   "outputs": [
    {
     "data": {
      "text/plain": [
       "datetime.datetime(2021, 4, 28, 13, 33)"
      ]
     },
     "execution_count": 110,
     "metadata": {},
     "output_type": "execute_result"
    }
   ],
   "source": [
    "# Rubah Teks ke DateTime Format \n",
    "from datetime import datetime\n",
    "# %a %b %d %l %m %M %z %Y https://www.foragoodstrftime.com/\n",
    "d1 = datetime.strptime('Apr 28 2021  1:33PM', '%b %d %Y %I:%M%p')\n",
    "d2 = datetime.strptime('Jun 1 2004  1:33PM', '%b %d %Y %I:%M%p')\n",
    "d1"
   ]
  },
  {
   "cell_type": "code",
   "execution_count": 111,
   "metadata": {},
   "outputs": [
    {
     "data": {
      "text/plain": [
       "(33, 13, 2, 28, 4, 2021)"
      ]
     },
     "execution_count": 111,
     "metadata": {},
     "output_type": "execute_result"
    }
   ],
   "source": [
    "# weekday 0=Senin, 1=Selasa, 2=Rabu, ... dst\n",
    "d1.minute, d1.hour, d1.weekday(), d1.day, d1.month, d1.year"
   ]
  },
  {
   "cell_type": "code",
   "execution_count": 112,
   "metadata": {},
   "outputs": [
    {
     "data": {
      "text/plain": [
       "'Rabu'"
      ]
     },
     "execution_count": 112,
     "metadata": {},
     "output_type": "execute_result"
    }
   ],
   "source": [
    "hari_ = {0:\"Senin\", 1:\"Selasa\", 2:\"Rabu\", 3:\"Kamis\", 4:\"Jumat\", 5:\"Sabtu\", 6:\"Minggu\"}\n",
    "hari_[d1.weekday()]"
   ]
  },
  {
   "cell_type": "code",
   "execution_count": 113,
   "metadata": {},
   "outputs": [
    {
     "data": {
      "text/plain": [
       "'Wednesday'"
      ]
     },
     "execution_count": 113,
     "metadata": {},
     "output_type": "execute_result"
    }
   ],
   "source": [
    "# Cara lain (Menggunakan module tambahan)\n",
    "import calendar\n",
    "\n",
    "calendar.day_name[d1.weekday()]\n"
   ]
  },
  {
   "cell_type": "markdown",
   "metadata": {},
   "source": [
    "### Hari/Saat ini?"
   ]
  },
  {
   "cell_type": "code",
   "execution_count": 114,
   "metadata": {},
   "outputs": [
    {
     "data": {
      "text/plain": [
       "'2021-08-07 ~ 02:06:00'"
      ]
     },
     "execution_count": 114,
     "metadata": {},
     "output_type": "execute_result"
    }
   ],
   "source": [
    "datetime.today().strftime('%Y-%m-%d ~ %H:%M:%S')"
   ]
  },
  {
   "cell_type": "markdown",
   "metadata": {},
   "source": [
    "### Operasi pada variabel datetime"
   ]
  },
  {
   "cell_type": "code",
   "execution_count": 115,
   "metadata": {},
   "outputs": [
    {
     "data": {
      "text/plain": [
       "(False, True, False, False)"
      ]
     },
     "execution_count": 115,
     "metadata": {},
     "output_type": "execute_result"
    }
   ],
   "source": [
    "# Mana yang lebih dahulu\n",
    "d1 = datetime.strptime('Apr 28 2021  1:33PM', '%b %d %Y %I:%M%p')\n",
    "d2 = datetime.strptime('Apr 27 2021  1:33PM', '%b %d %Y %I:%M%p')\n",
    "\n",
    "d1<d2, d1>d2, d1==d2, d1<=d2"
   ]
  },
  {
   "cell_type": "code",
   "execution_count": 116,
   "metadata": {},
   "outputs": [
    {
     "name": "stdout",
     "output_type": "stream",
     "text": [
      "2021-04-28 13:33:00\n",
      "2021-07-01 22:06:10.100088\n"
     ]
    }
   ],
   "source": [
    "# Menjumlahkan waktu: Contoh kasus Google Map/Ojol\n",
    "import datetime as dm # ==> hati-hati disini!!!...\n",
    "\n",
    "d3 = d1 + dm.timedelta( days=1, seconds=10, microseconds=88, milliseconds=100, minutes=33, hours=8, weeks=9 ) # days, seconds, then other fields.\n",
    "print(d1)\n",
    "print(d3)"
   ]
  },
  {
   "cell_type": "markdown",
   "metadata": {},
   "source": [
    "### Konsekuensi dari DateTime ==> Sekarang kita bisa mengurutkan dengan benar"
   ]
  },
  {
   "cell_type": "code",
   "execution_count": 117,
   "metadata": {},
   "outputs": [
    {
     "name": "stdout",
     "output_type": "stream",
     "text": [
      "[datetime.datetime(2021, 7, 1, 22, 6, 10, 100088), datetime.datetime(2021, 4, 27, 13, 33), datetime.datetime(2021, 4, 28, 13, 33)]\n",
      "[datetime.datetime(2021, 4, 27, 13, 33), datetime.datetime(2021, 4, 28, 13, 33), datetime.datetime(2021, 7, 1, 22, 6, 10, 100088)]\n"
     ]
    }
   ],
   "source": [
    "Waktu = [d3, d2, d1]\n",
    "print(Waktu)\n",
    "Waktu.sort() # Hati-hati ini \"inplace\"\n",
    "print(Waktu)"
   ]
  },
  {
   "cell_type": "markdown",
   "metadata": {},
   "source": [
    "### Datetime di Pandas"
   ]
  },
  {
   "cell_type": "code",
   "execution_count": 119,
   "metadata": {},
   "outputs": [
    {
     "name": "stdout",
     "output_type": "stream",
     "text": [
      "(3019, 7)\n"
     ]
    },
    {
     "data": {
      "text/html": [
       "<div>\n",
       "<style scoped>\n",
       "    .dataframe tbody tr th:only-of-type {\n",
       "        vertical-align: middle;\n",
       "    }\n",
       "\n",
       "    .dataframe tbody tr th {\n",
       "        vertical-align: top;\n",
       "    }\n",
       "\n",
       "    .dataframe thead th {\n",
       "        text-align: right;\n",
       "    }\n",
       "</style>\n",
       "<table border=\"1\" class=\"dataframe\">\n",
       "  <thead>\n",
       "    <tr style=\"text-align: right;\">\n",
       "      <th></th>\n",
       "      <th>Date</th>\n",
       "      <th>Open</th>\n",
       "      <th>High</th>\n",
       "      <th>Low</th>\n",
       "      <th>Close</th>\n",
       "      <th>Volume</th>\n",
       "      <th>Name</th>\n",
       "    </tr>\n",
       "  </thead>\n",
       "  <tbody>\n",
       "    <tr>\n",
       "      <th>0</th>\n",
       "      <td>1/3/2006</td>\n",
       "      <td>39.69</td>\n",
       "      <td>41.22</td>\n",
       "      <td>38.79</td>\n",
       "      <td>40.91</td>\n",
       "      <td>24232729</td>\n",
       "      <td>AABA</td>\n",
       "    </tr>\n",
       "    <tr>\n",
       "      <th>1</th>\n",
       "      <td>1/4/2006</td>\n",
       "      <td>41.22</td>\n",
       "      <td>41.90</td>\n",
       "      <td>40.77</td>\n",
       "      <td>40.97</td>\n",
       "      <td>20553479</td>\n",
       "      <td>AABA</td>\n",
       "    </tr>\n",
       "    <tr>\n",
       "      <th>2</th>\n",
       "      <td>1/5/2006</td>\n",
       "      <td>40.93</td>\n",
       "      <td>41.73</td>\n",
       "      <td>40.85</td>\n",
       "      <td>41.53</td>\n",
       "      <td>12829610</td>\n",
       "      <td>AABA</td>\n",
       "    </tr>\n",
       "    <tr>\n",
       "      <th>3</th>\n",
       "      <td>1/6/2006</td>\n",
       "      <td>42.88</td>\n",
       "      <td>43.57</td>\n",
       "      <td>42.80</td>\n",
       "      <td>43.21</td>\n",
       "      <td>29422828</td>\n",
       "      <td>AABA</td>\n",
       "    </tr>\n",
       "    <tr>\n",
       "      <th>4</th>\n",
       "      <td>1/9/2006</td>\n",
       "      <td>43.10</td>\n",
       "      <td>43.66</td>\n",
       "      <td>42.82</td>\n",
       "      <td>43.42</td>\n",
       "      <td>16268338</td>\n",
       "      <td>AABA</td>\n",
       "    </tr>\n",
       "  </tbody>\n",
       "</table>\n",
       "</div>"
      ],
      "text/plain": [
       "       Date   Open   High    Low  Close    Volume  Name\n",
       "0  1/3/2006  39.69  41.22  38.79  40.91  24232729  AABA\n",
       "1  1/4/2006  41.22  41.90  40.77  40.97  20553479  AABA\n",
       "2  1/5/2006  40.93  41.73  40.85  41.53  12829610  AABA\n",
       "3  1/6/2006  42.88  43.57  42.80  43.21  29422828  AABA\n",
       "4  1/9/2006  43.10  43.66  42.82  43.42  16268338  AABA"
      ]
     },
     "execution_count": 119,
     "metadata": {},
     "output_type": "execute_result"
    }
   ],
   "source": [
    "import pandas as pd\n",
    "\n",
    "fileData = 'data/stock_data.csv'\n",
    "df = pd.read_csv(fileData, error_bad_lines=False, low_memory = False)\n",
    "print(df.shape)\n",
    "df.head()"
   ]
  },
  {
   "cell_type": "code",
   "execution_count": 120,
   "metadata": {},
   "outputs": [
    {
     "name": "stdout",
     "output_type": "stream",
     "text": [
      "<class 'pandas.core.frame.DataFrame'>\n",
      "RangeIndex: 3019 entries, 0 to 3018\n",
      "Data columns (total 7 columns):\n",
      "Date      3019 non-null object\n",
      "Open      3019 non-null float64\n",
      "High      3019 non-null float64\n",
      "Low       3019 non-null float64\n",
      "Close     3019 non-null float64\n",
      "Volume    3019 non-null int64\n",
      "Name      3019 non-null object\n",
      "dtypes: float64(4), int64(1), object(2)\n",
      "memory usage: 165.2+ KB\n"
     ]
    }
   ],
   "source": [
    "# Penting untuk cek Tipe Data Dataframe\n",
    "# Perhatikan disini tipe data \"Date\" masih berupa string!!!....\n",
    "df.info()"
   ]
  },
  {
   "cell_type": "code",
   "execution_count": 121,
   "metadata": {},
   "outputs": [
    {
     "name": "stdout",
     "output_type": "stream",
     "text": [
      "<class 'pandas.core.frame.DataFrame'>\n",
      "DatetimeIndex: 3019 entries, 2006-01-03 to 2017-12-29\n",
      "Data columns (total 6 columns):\n",
      "Open      3019 non-null float64\n",
      "High      3019 non-null float64\n",
      "Low       3019 non-null float64\n",
      "Close     3019 non-null float64\n",
      "Volume    3019 non-null int64\n",
      "Name      3019 non-null object\n",
      "dtypes: float64(4), int64(1), object(1)\n",
      "memory usage: 165.1+ KB\n"
     ]
    }
   ],
   "source": [
    "# Perhatikan sekarang \"Date\" tidak lagi berupa variable, tapi merupakan index bagi dataframenya\n",
    "df = pd.read_csv(fileData, parse_dates=True, index_col = \"Date\", error_bad_lines=False, low_memory = False)\n",
    "df.info()"
   ]
  },
  {
   "cell_type": "code",
   "execution_count": 122,
   "metadata": {},
   "outputs": [
    {
     "data": {
      "text/html": [
       "<div>\n",
       "<style scoped>\n",
       "    .dataframe tbody tr th:only-of-type {\n",
       "        vertical-align: middle;\n",
       "    }\n",
       "\n",
       "    .dataframe tbody tr th {\n",
       "        vertical-align: top;\n",
       "    }\n",
       "\n",
       "    .dataframe thead th {\n",
       "        text-align: right;\n",
       "    }\n",
       "</style>\n",
       "<table border=\"1\" class=\"dataframe\">\n",
       "  <thead>\n",
       "    <tr style=\"text-align: right;\">\n",
       "      <th></th>\n",
       "      <th>Open</th>\n",
       "      <th>High</th>\n",
       "      <th>Low</th>\n",
       "      <th>Close</th>\n",
       "      <th>Volume</th>\n",
       "      <th>Name</th>\n",
       "    </tr>\n",
       "    <tr>\n",
       "      <th>Date</th>\n",
       "      <th></th>\n",
       "      <th></th>\n",
       "      <th></th>\n",
       "      <th></th>\n",
       "      <th></th>\n",
       "      <th></th>\n",
       "    </tr>\n",
       "  </thead>\n",
       "  <tbody>\n",
       "    <tr>\n",
       "      <th>2006-01-03</th>\n",
       "      <td>39.69</td>\n",
       "      <td>41.22</td>\n",
       "      <td>38.79</td>\n",
       "      <td>40.91</td>\n",
       "      <td>24232729</td>\n",
       "      <td>AABA</td>\n",
       "    </tr>\n",
       "    <tr>\n",
       "      <th>2006-01-04</th>\n",
       "      <td>41.22</td>\n",
       "      <td>41.90</td>\n",
       "      <td>40.77</td>\n",
       "      <td>40.97</td>\n",
       "      <td>20553479</td>\n",
       "      <td>AABA</td>\n",
       "    </tr>\n",
       "    <tr>\n",
       "      <th>2006-01-05</th>\n",
       "      <td>40.93</td>\n",
       "      <td>41.73</td>\n",
       "      <td>40.85</td>\n",
       "      <td>41.53</td>\n",
       "      <td>12829610</td>\n",
       "      <td>AABA</td>\n",
       "    </tr>\n",
       "    <tr>\n",
       "      <th>2006-01-06</th>\n",
       "      <td>42.88</td>\n",
       "      <td>43.57</td>\n",
       "      <td>42.80</td>\n",
       "      <td>43.21</td>\n",
       "      <td>29422828</td>\n",
       "      <td>AABA</td>\n",
       "    </tr>\n",
       "    <tr>\n",
       "      <th>2006-01-09</th>\n",
       "      <td>43.10</td>\n",
       "      <td>43.66</td>\n",
       "      <td>42.82</td>\n",
       "      <td>43.42</td>\n",
       "      <td>16268338</td>\n",
       "      <td>AABA</td>\n",
       "    </tr>\n",
       "  </tbody>\n",
       "</table>\n",
       "</div>"
      ],
      "text/plain": [
       "             Open   High    Low  Close    Volume  Name\n",
       "Date                                                  \n",
       "2006-01-03  39.69  41.22  38.79  40.91  24232729  AABA\n",
       "2006-01-04  41.22  41.90  40.77  40.97  20553479  AABA\n",
       "2006-01-05  40.93  41.73  40.85  41.53  12829610  AABA\n",
       "2006-01-06  42.88  43.57  42.80  43.21  29422828  AABA\n",
       "2006-01-09  43.10  43.66  42.82  43.42  16268338  AABA"
      ]
     },
     "execution_count": 122,
     "metadata": {},
     "output_type": "execute_result"
    }
   ],
   "source": [
    "df.head()"
   ]
  },
  {
   "cell_type": "code",
   "execution_count": 123,
   "metadata": {},
   "outputs": [
    {
     "data": {
      "text/html": [
       "<div>\n",
       "<style scoped>\n",
       "    .dataframe tbody tr th:only-of-type {\n",
       "        vertical-align: middle;\n",
       "    }\n",
       "\n",
       "    .dataframe tbody tr th {\n",
       "        vertical-align: top;\n",
       "    }\n",
       "\n",
       "    .dataframe thead th {\n",
       "        text-align: right;\n",
       "    }\n",
       "</style>\n",
       "<table border=\"1\" class=\"dataframe\">\n",
       "  <thead>\n",
       "    <tr style=\"text-align: right;\">\n",
       "      <th></th>\n",
       "      <th>Open</th>\n",
       "      <th>High</th>\n",
       "      <th>Low</th>\n",
       "      <th>Close</th>\n",
       "      <th>Volume</th>\n",
       "      <th>Name</th>\n",
       "    </tr>\n",
       "    <tr>\n",
       "      <th>Date</th>\n",
       "      <th></th>\n",
       "      <th></th>\n",
       "      <th></th>\n",
       "      <th></th>\n",
       "      <th></th>\n",
       "      <th></th>\n",
       "    </tr>\n",
       "  </thead>\n",
       "  <tbody>\n",
       "    <tr>\n",
       "      <th>2009-01-02</th>\n",
       "      <td>12.17</td>\n",
       "      <td>12.85</td>\n",
       "      <td>12.12</td>\n",
       "      <td>12.85</td>\n",
       "      <td>10213787</td>\n",
       "      <td>AABA</td>\n",
       "    </tr>\n",
       "    <tr>\n",
       "      <th>2009-01-05</th>\n",
       "      <td>12.72</td>\n",
       "      <td>13.01</td>\n",
       "      <td>12.39</td>\n",
       "      <td>12.86</td>\n",
       "      <td>12029058</td>\n",
       "      <td>AABA</td>\n",
       "    </tr>\n",
       "    <tr>\n",
       "      <th>2009-01-06</th>\n",
       "      <td>12.96</td>\n",
       "      <td>13.24</td>\n",
       "      <td>12.88</td>\n",
       "      <td>13.00</td>\n",
       "      <td>10173926</td>\n",
       "      <td>AABA</td>\n",
       "    </tr>\n",
       "    <tr>\n",
       "      <th>2009-01-07</th>\n",
       "      <td>12.71</td>\n",
       "      <td>13.16</td>\n",
       "      <td>12.45</td>\n",
       "      <td>12.71</td>\n",
       "      <td>25302285</td>\n",
       "      <td>AABA</td>\n",
       "    </tr>\n",
       "    <tr>\n",
       "      <th>2009-01-08</th>\n",
       "      <td>12.37</td>\n",
       "      <td>13.07</td>\n",
       "      <td>12.31</td>\n",
       "      <td>13.07</td>\n",
       "      <td>14348008</td>\n",
       "      <td>AABA</td>\n",
       "    </tr>\n",
       "  </tbody>\n",
       "</table>\n",
       "</div>"
      ],
      "text/plain": [
       "             Open   High    Low  Close    Volume  Name\n",
       "Date                                                  \n",
       "2009-01-02  12.17  12.85  12.12  12.85  10213787  AABA\n",
       "2009-01-05  12.72  13.01  12.39  12.86  12029058  AABA\n",
       "2009-01-06  12.96  13.24  12.88  13.00  10173926  AABA\n",
       "2009-01-07  12.71  13.16  12.45  12.71  25302285  AABA\n",
       "2009-01-08  12.37  13.07  12.31  13.07  14348008  AABA"
      ]
     },
     "execution_count": 123,
     "metadata": {},
     "output_type": "execute_result"
    }
   ],
   "source": [
    "# Karena kita gunakan waktu sebagai index, maka kita bisa mudah dalam melakukan \"slice\" ke data\n",
    "\n",
    "df.loc['2009'].head()"
   ]
  },
  {
   "cell_type": "markdown",
   "metadata": {},
   "source": [
    "# Beberapa Tips Implementasi Python:\n",
    "\n",
    "* Tidak harus pakai versi terkini\n",
    "* Environment/Container is a great idea\n",
    "* Make it work, and then make it fast (Numba/parallel/Cython)\n",
    "* "
   ]
  },
  {
   "cell_type": "markdown",
   "metadata": {},
   "source": [
    "# <center><font color=\"blue\"> End of Module 02 - Pengenalan Python dan Jupyter Notebook\n",
    "\n",
    "<hr />\n",
    "<img alt=\"\" src=\"images/meme-brace-yourself-workshop.jpg\" />"
   ]
  }
 ],
 "metadata": {
  "celltoolbar": "Slideshow",
  "kernelspec": {
   "display_name": "Python 3",
   "language": "python",
   "name": "python3"
  },
  "language_info": {
   "codemirror_mode": {
    "name": "ipython",
    "version": 3
   },
   "file_extension": ".py",
   "mimetype": "text/x-python",
   "name": "python",
   "nbconvert_exporter": "python",
   "pygments_lexer": "ipython3",
   "version": "3.6.13"
  },
  "latex_envs": {
   "LaTeX_envs_menu_present": true,
   "autoclose": false,
   "autocomplete": true,
   "bibliofile": "biblio.bib",
   "cite_by": "apalike",
   "current_citInitial": 1,
   "eqLabelWithNumbers": true,
   "eqNumInitial": 1,
   "hotkeys": {
    "equation": "Ctrl-E",
    "itemize": "Ctrl-I"
   },
   "labels_anchors": false,
   "latex_user_defs": false,
   "report_style_numbering": false,
   "user_envs_cfg": false
  }
 },
 "nbformat": 4,
 "nbformat_minor": 2
}
