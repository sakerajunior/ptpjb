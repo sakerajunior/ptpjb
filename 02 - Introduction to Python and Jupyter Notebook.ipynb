{
 "cells": [
  {
   "cell_type": "markdown",
   "metadata": {
    "slideshow": {
     "slide_type": "slide"
    }
   },
   "source": [
    "# <center><font color=\"green\"> https://bit.ly/ptpjb-2021-02</font>\n",
    "# <center><font color=\"blue\">02 - Pengenalan Python & Jupyter Notebook</font>\n",
    "\n",
    "<center><img alt=\"\" src=\"images/cover_ptpjb_2021.png\"/></center> \n",
    "\n",
    "## <center><font color=\"blue\">tau-data Indonesia</font><br>(C) Taufik Sutanto - 2021</center>\n",
    "<center><a href=\"https://tau-data.id\">https://tau-data.id</a> ~ <a href=\"mailto:taufik@tau-data.id\">taufik@tau-data.id</a></center>"
   ]
  },
  {
   "cell_type": "markdown",
   "metadata": {
    "slideshow": {
     "slide_type": "slide"
    }
   },
   "source": [
    "# <center><font color=\"blue\"> Outline\n",
    "\n",
    "- Pengenalan Python\n",
    "- Pengenalan Jupyter Notebook - Google Colaboratory\n",
    "- Basic Syntax\n",
    "- Struktur Data Dasar\n",
    "- Logika dan pengulangan\n",
    "- Fungsi\n",
    "- Modules\n",
    "\n",
    "<img src = \"images/pyhton_jupyter.png\" />"
   ]
  },
  {
   "cell_type": "markdown",
   "metadata": {
    "slideshow": {
     "slide_type": "slide"
    }
   },
   "source": [
    "# <center><font color=\"blue\"> Sejarah singkat & Aplikasi Python\n",
    "    \n",
    "<p>Python diperkenalkan di sekitar tahun 1980 oleh&nbsp;<strong>Guido van Rossum</strong>.</p>\n",
    "\n",
    "<p>Python memiliki system yang &quot;mirip&quot; seperti Java (multi platform dan memiliki kernel), namun lebih mudah (tanpa deklarasi variabel seperti matlab). Python juga ringan sehingga supported di IoT/SBC devices.</p>\n",
    "\n",
    "<p>Tidak seperti <strong>R</strong> atau PHP yang merupakan specific programming language, Python adalah Full Programming Language yang dapat diaplikasikan pada:</p>\n",
    "\n",
    "<ol>\n",
    "\t<li>Desktop Application (GUI/Service)</li>\n",
    "\t<li>Web Programming (Jango/Flask)</li>\n",
    "\t<li>Analisa Data (scikit, Pandas, gensim, etc)</li>\n",
    "\t<li>Mobile App Programming (android, ios)</li>\n",
    "\t<li>Big Data distributed Programming</li>\n",
    "\t<li>GPU Programming in Deep Learning, etc</li>\n",
    "</ol>\n",
    "<center><img alt=\"\" src=\"images/guido.png\" style=\"width: 400px;\" /></center>"
   ]
  },
  {
   "cell_type": "markdown",
   "metadata": {
    "slideshow": {
     "slide_type": "slide"
    }
   },
   "source": [
    "# <center><font color=\"blue\"> Filosofi (Zen of) Python ==> Pythonista\n",
    "\n",
    "<center><img alt=\"\" src=\"images/zen-of-python.png\" style=\"height: 600px;\" /></center>"
   ]
  },
  {
   "cell_type": "markdown",
   "metadata": {
    "slideshow": {
     "slide_type": "slide"
    }
   },
   "source": [
    "# <center><font color=\"blue\">Mengapa Python?</font>\n",
    "\n",
    "* Free (Open source)\n",
    "* Paling populer saat ini, sehingga community support baik\n",
    "* Portable - Multi Platform\n",
    "* “Fast” https://tau-data.id/python-showdown/\n",
    "* Library/Module yang lengkap (termasuk Matematika, Statistika, Data Science/Machine Learning, Big Data, etc)\n",
    "* Interpreter, JIT, dan Compiler sekaligus.\n",
    "* Procedural, OOP, dan functional programming (Big Data) sekaligus.\n",
    "\n",
    "<p><img alt=\"\" src=\"images/1_why_python.png\" style=\"width: 600px;\" /></p>"
   ]
  },
  {
   "cell_type": "markdown",
   "metadata": {
    "slideshow": {
     "slide_type": "slide"
    }
   },
   "source": [
    "# <center><font color=\"blue\">Apakah Python Lambat?</font>\n",
    "\n",
    "* https://tau-data.id/python-showdown/ \n",
    "* https://tau-data.id/cython-semudah-python/\n",
    "\n",
    "<center><img alt=\"\" src=\"images/1_Python_VS_TheRest_.png\" style=\"width: 900px;\" />"
   ]
  },
  {
   "cell_type": "markdown",
   "metadata": {
    "slideshow": {
     "slide_type": "slide"
    }
   },
   "source": [
    "# <center><font color=\"blue\"> Beberapa kelemahan Python\n",
    "* Reference to Variabel (can be a good thing - older version)\n",
    "* Dependensi dan Versi Module\n",
    "* Dependensi Compiler C yang spesific dan terkadang tidak konsisten\n",
    "* Message Parsing (process locked) - di pemrograman paralel\n",
    "\n",
    "# <center><font color=\"blue\"> Python Distro\n",
    "* \"Vanilla\" Python: https://www.python.org/\n",
    "* Anaconda : https://www.anaconda.com/distribution/#download-section\n",
    "* WinPython: https://sourceforge.net/projects/winpython/files/ ==> **Recommended** for academics\n",
    "\n",
    "Catt: Kita akan menggunakan **Python 3.6** ... Why?\n",
    "<center><img alt=\"\" src=\"images/meme-cartoon/Python_Gil-223x300.jpg\" style=\"height: 300px;\" />"
   ]
  },
  {
   "cell_type": "markdown",
   "metadata": {
    "slideshow": {
     "slide_type": "slide"
    }
   },
   "source": [
    "# <center><font color=\"blue\"> Sekilas Jupyter Notebook\n",
    "\n",
    "* \"Notebook\" dalam hal ini adalah IDE yang interaktif: editor + output & fungsi lainnya.\n",
    "* Ada 3 macam Cell: Code, MarkDown, & Raw\n",
    "    * Code : <font color=\"green\">**escape+y**</font>  ==> Kita menulis program Python di cell code\n",
    "    * Markdown: <font color=\"green\">**escape+m**</font> ==> Mirip html, untuk menulis seperti format Ms Word.\n",
    "    * menjalankan cell dengan cara <font color=\"green\">**ctrl+Enter**</font>\n",
    "    * Menjalankan cell lalu membuat cell baru dibawahnya <font color=\"green\">**alt+Enter**</font>\n",
    "* Markdown:\n",
    "    - #, ##, dan ### Heading 1, 2, dan 3\n",
    "    - **, dan * bold dan italics\n",
    "    - 1,2,3 dan \"-\" di awal baris sebagai numbering dan list\n",
    "    - Bahkan dapat menggunakan perintah LaTex\n",
    "* Dapat digunakan untuk bahasa pemrograman lain: JUlia, PYThon, & R.\n",
    "\n",
    "<center><img alt=\"\" src=\"images/jupyter notebook interface introduction.png\" style=\"width: 600px;\" />"
   ]
  },
  {
   "cell_type": "code",
   "execution_count": null,
   "metadata": {
    "slideshow": {
     "slide_type": "slide"
    }
   },
   "outputs": [],
   "source": [
    "# Demonstrasi Markdown"
   ]
  },
  {
   "cell_type": "markdown",
   "metadata": {
    "slideshow": {
     "slide_type": "slide"
    }
   },
   "source": [
    "# <center><font color=\"blue\"> Google Colaboratory\n",
    "\n",
    "## https://colab.research.google.com\n",
    "\n",
    "* Free cloud computing (**Python 3.6**).\n",
    "* Cocok untuk komputer yang memiliki spesifikasi yang relatif minim dan atau OS yang digunakan Macintosh. \n",
    "* Fasilitas runtime **GPU & TPU** gratis selama 10 jam (penting untuk Deep Learning)\n",
    "* Dapat dipadukan dengan Google Drive (back-up&Sync): https://www.google.com/drive/download/backup-and-sync/\n",
    "\n",
    "<center><img alt=\"\" src=\"images/Google-Colaboratory-interface.png\" style=\"width: 600px;\" />"
   ]
  },
  {
   "cell_type": "markdown",
   "metadata": {
    "slideshow": {
     "slide_type": "slide"
    }
   },
   "source": [
    "# <center><font color=\"green\"> Diskusi: *Bilamana menggunakan IDE biasa (bukan notebook)*?"
   ]
  },
  {
   "cell_type": "markdown",
   "metadata": {
    "slideshow": {
     "slide_type": "slide"
    }
   },
   "source": [
    "<h1><font color=\"blue\">Referensi untuk belajar (mandiri) Python</font></h1>\n",
    "\n",
    "* Pengenalan yang komprehensif **tau-data Indonesia**: https://tau-data.id/adsp-01/ & https://tau-data.id/adsp-02/\n",
    "* Python basic: https://www.python-course.eu/python3_history_and_philosophy.php \n",
    "* Data Science Basic: https://scikit-learn.org/stable/tutorial/index.html\n",
    "* Advance Python: http://andy.terrel.us/blog/2012/09/27/starting-with-python/\n",
    "* Visualisasi di Python: https://matplotlib.org/gallery.html\n",
    "\n",
    "<center><img alt=\"\" src=\"images/tau-data_banner_large.jpg\" style=\"width: 600px;\" />"
   ]
  },
  {
   "cell_type": "markdown",
   "metadata": {
    "slideshow": {
     "slide_type": "slide"
    }
   },
   "source": [
    "# <center><font color=\"blue\"> Syntax Dasar Python\n",
    "\n",
    "Sesuai dengan filosofi dasarnya, Python termasuk salah satu bahasa pemrograman yang paling mudah dipelajari dan penulisan code-nya terstruktur dengan baik. Beberapa hal yang mendukung hal ini:\n",
    "\n",
    "* Tidak perlu mendeklarasikan variable sebelum pemakaian.\n",
    "* Tidak membutuhkan “;” di akhir setiap baris.\n",
    "* Tidak membutuhkan kurung kurawal {} di beberapa instruksinya.\n",
    "* Menggunakan indent (tab/spasi x4) yang membuat penulisan program tertata dengan rapih.\n",
    "    \n",
    "<center><img alt=\"\" src=\"images/python-syntax-2-.jpg\" style=\"width: 600px;\" />"
   ]
  },
  {
   "cell_type": "markdown",
   "metadata": {
    "slideshow": {
     "slide_type": "slide"
    }
   },
   "source": [
    "# <center><font color=\"blue\"> Struktur Data Dasar Python\n",
    "    \n",
    "Struktur Data yang sederhana (primitive) di Python meliputi:\n",
    "\n",
    "* Atomic: Boolean, integer, float, string.\n",
    "* Non-Atomic: Tuple, List, Set, Dictionary.\n",
    "    \n",
    "**Catatan**: \n",
    " - Semua variable di python adalah class/object yang memiliki property dan function\n",
    " - kita bisa akses semua property dan function ini via tombol \"tab\" atau perintah built-in \"dir(var)\"\n",
    "    \n",
    "<center><img alt=\"\" src=\"images/Python-data-structure.jpg\" style=\"width: 600px;\" />"
   ]
  },
  {
   "cell_type": "code",
   "execution_count": 2,
   "metadata": {
    "slideshow": {
     "slide_type": "slide"
    }
   },
   "outputs": [
    {
     "name": "stdout",
     "output_type": "stream",
     "text": [
      "C = True, A = 3\n"
     ]
    },
    {
     "data": {
      "text/plain": [
       "(2.5, 3)"
      ]
     },
     "execution_count": 2,
     "metadata": {},
     "output_type": "execute_result"
    }
   ],
   "source": [
    "# Demonstrasi Syntax dasar ~ Komentar satu baris ditandai dengan tanda hash # dan \n",
    "\"\"\"\n",
    "3 buah double quote untuk komentar lebih dari satu baris\n",
    "Seperti komentar ini\n",
    "\"\"\"\n",
    "# python (seperti matlab) tidak memerlukan deklarasi variabel & boleh \"juggling variable\" ==> sangat tidak disarankan.\n",
    "A = 3 # integer\n",
    "B = 2.5 # float\n",
    "C = True # Boolean\n",
    "D = \"String\" # string\n",
    "N = None # special atomic value di python, mirip NULL di database. Tapi beda dengan NaN\n",
    "\n",
    "print(\"C = {}, A = {}\".format(C, A)) \n",
    "# perintah print mengeluarkan output, menggunakan syntax \"format\" kita tidak perlu mengetahui tipe variabel C\n",
    "D # baris ini tidak akan muncul di output\n",
    "B, A # di jupyter notebook, baris terakhir setiap cell automatis di \"print\""
   ]
  },
  {
   "cell_type": "code",
   "execution_count": 4,
   "metadata": {
    "slideshow": {
     "slide_type": "slide"
    }
   },
   "outputs": [
    {
     "name": "stdout",
     "output_type": "stream",
     "text": [
      "<class 'int'>\n",
      "['__add__', '__class__', '__contains__', '__delattr__', '__dir__', '__doc__', '__eq__', '__format__', '__ge__', '__getattribute__', '__getitem__', '__getnewargs__', '__gt__', '__hash__', '__init__', '__init_subclass__', '__iter__', '__le__', '__len__', '__lt__', '__mod__', '__mul__', '__ne__', '__new__', '__reduce__', '__reduce_ex__', '__repr__', '__rmod__', '__rmul__', '__setattr__', '__sizeof__', '__str__', '__subclasshook__', 'capitalize', 'casefold', 'center', 'count', 'encode', 'endswith', 'expandtabs', 'find', 'format', 'format_map', 'index', 'isalnum', 'isalpha', 'isdecimal', 'isdigit', 'isidentifier', 'islower', 'isnumeric', 'isprintable', 'isspace', 'istitle', 'isupper', 'join', 'ljust', 'lower', 'lstrip', 'maketrans', 'partition', 'replace', 'rfind', 'rindex', 'rjust', 'rpartition', 'rsplit', 'rstrip', 'split', 'splitlines', 'startswith', 'strip', 'swapcase', 'title', 'translate', 'upper', 'zfill']\n"
     ]
    }
   ],
   "source": [
    "\"\"\"\n",
    " untuk mengetahui type variabel itu apa dengan menggunakan perintah \"type\"\n",
    " dir untuk mengetahui fungsi dan propertynya\n",
    " Kedua perintah ini sangat penting untuk Data Science/ML/AI ... Mengapa?\n",
    "\"\"\"\n",
    "print(type(A))\n",
    "print(dir(D)) # apa yg terjadi jika di baris ini tidak menggunakan perintah print?"
   ]
  },
  {
   "cell_type": "markdown",
   "metadata": {
    "slideshow": {
     "slide_type": "slide"
    }
   },
   "source": [
    "# <center><font color=\"blue\"> Batasan Nilai Variable di Python (Penting untuk dipahami Data Scientists)\n",
    "    \n",
    "### <center><font color=\"red\"> Memahami bahwa floating point di komputer bukanlah bilangan real seperti di Matematika sangat penting bagi data scientists / AI Engineer.\n",
    "    \n",
    "<center><img alt=\"\" src=\"images/floating_point_numbers_.png\" style=\"height: 250px;\" />"
   ]
  },
  {
   "cell_type": "code",
   "execution_count": 3,
   "metadata": {
    "slideshow": {
     "slide_type": "slide"
    }
   },
   "outputs": [
    {
     "name": "stdout",
     "output_type": "stream",
     "text": [
      "Max Integer =  9223372036854775807\n",
      "Floating Point  information =  sys.float_info(max=1.7976931348623157e+308, max_exp=1024, max_10_exp=308, min=2.2250738585072014e-308, min_exp=-1021, min_10_exp=-307, dig=15, mant_dig=53, epsilon=2.220446049250313e-16, radix=2, rounds=1)\n"
     ]
    }
   ],
   "source": [
    "import sys\n",
    "print(\"Max Integer = \", sys.maxsize)\n",
    "print(\"Floating Point  information = \", sys.float_info)"
   ]
  },
  {
   "cell_type": "markdown",
   "metadata": {
    "slideshow": {
     "slide_type": "fragment"
    }
   },
   "source": [
    "<center><img alt=\"\" src=\"images/Float_Info.PNG\" style=\"height: 375px;\" />"
   ]
  },
  {
   "cell_type": "markdown",
   "metadata": {
    "slideshow": {
     "slide_type": "fragment"
    }
   },
   "source": [
    "# <center><font color=\"green\"> Diskusi: *Seberapa penting memahami epsilon, underflow dan overflow ini*?"
   ]
  },
  {
   "cell_type": "markdown",
   "metadata": {
    "slideshow": {
     "slide_type": "slide"
    }
   },
   "source": [
    "# <center><font color=\"blue\"> Juggling Variable\n",
    "\n",
    "* hati-hati dengan \"juggling variable\": sangat tidak disarankan di (big) data science maupun pemrograman secara umum\n",
    "* \"juggling variable\" adalah perubahan tipe variabel ditengah code\n",
    "* Tidak efisien (mengapa?)\n",
    "    \n",
    "<center><img alt=\"\" src=\"images/meme-cartoon/juggle-juggling.gif\" style=\"height: 200px;\" />"
   ]
  },
  {
   "cell_type": "code",
   "execution_count": 8,
   "metadata": {
    "slideshow": {
     "slide_type": "fragment"
    }
   },
   "outputs": [
    {
     "name": "stdout",
     "output_type": "stream",
     "text": [
      "<class 'int'> <class 'float'>\n"
     ]
    }
   ],
   "source": [
    "r = 6 \n",
    "print(type(r), type(r/2)) # Awalnya integer, tapi setelah dibagi 2 menjadi float (walau 6 dan 2 = integer)"
   ]
  },
  {
   "cell_type": "code",
   "execution_count": 6,
   "metadata": {
    "slideshow": {
     "slide_type": "fragment"
    }
   },
   "outputs": [
    {
     "name": "stdout",
     "output_type": "stream",
     "text": [
      "<class 'float'> <class 'float'>\n"
     ]
    }
   ],
   "source": [
    "# Solusi \"juggling variable\"\n",
    "r = 6.0  # ditulis dari awal sebagai float\n",
    "print(type(r), type(r/2))"
   ]
  },
  {
   "cell_type": "markdown",
   "metadata": {
    "slideshow": {
     "slide_type": "slide"
    }
   },
   "source": [
    "# <font color=\"blue\"> Review Boolean statements </font>\n",
    "\n",
    "<img src=\"images/meme-cartoon/4_meme_A.jpg\" style=\"height: 300px;\" />"
   ]
  },
  {
   "cell_type": "code",
   "execution_count": 21,
   "metadata": {
    "slideshow": {
     "slide_type": "fragment"
    }
   },
   "outputs": [
    {
     "name": "stdout",
     "output_type": "stream",
     "text": [
      "AND:  False , ATAU:  False\n",
      "OR:   True , ATAU:  True\n"
     ]
    }
   ],
   "source": [
    "# Boolean Statements in Python\n",
    "a = False \n",
    "b = True\n",
    "print(\"AND: \", a & b, \", ATAU: \",  a and b)\n",
    "print(\"OR:  \", a | b, \", ATAU: \",  a or b)"
   ]
  },
  {
   "cell_type": "markdown",
   "metadata": {
    "slideshow": {
     "slide_type": "slide"
    }
   },
   "source": [
    "# <center><font color=\"blue\"> Struktur Data Dasar Python Non-Atomic </font>\n",
    "\n",
    "<img src=\"images/tuple-list-set-dictionary-python.png\" style=\"height: 200px;\" />\n",
    "    \n",
    "* List dan Tuple di Python bukan Array ... Mengapa?\n",
    "* key di Dictionary adalah set\n",
    "* List dapat ditambahkan atau hapus lewat perintah **append** atau **remove**\n",
    "* **String di python adalah tuple**\n",
    "* Semua tipe variabel diatas adalah object dengan property dan fungsi yang berbeda\n",
    "* Operasi \"+\" concate 2 list (atau \"extend\")"
   ]
  },
  {
   "cell_type": "code",
   "execution_count": 14,
   "metadata": {
    "slideshow": {
     "slide_type": "fragment"
    }
   },
   "outputs": [
    {
     "name": "stdout",
     "output_type": "stream",
     "text": [
      "L=[1, 2, 3, 4], T=(1, 2, 3, 4), S={1, 2, 3, 4}, D={0: 'a', 1: 'b', 'c': 3, 'd': 4}\n"
     ]
    }
   ],
   "source": [
    "# \"Array\" dasar di Python bisa berupa List, Tuple, Set atau Dictionary\n",
    "L = [1, 2, 3, 4]  # List : Mutable - nilai bisa berubah index mulai dari 0\n",
    "T = (1, 2, 3, 4)  # Tuple ~ List tapi imutable\n",
    "S = {1, 2, 3, 4}  # Set ~ Tidak memiliki index\n",
    "D = {0:'a', 1:'b', 'c':3, 'd':4} # Dictionary ~ index flexible\n",
    "print(\"L={}, T={}, S={}, D={}\".format(L, T, S, D))"
   ]
  },
  {
   "cell_type": "code",
   "execution_count": 17,
   "metadata": {
    "slideshow": {
     "slide_type": "fragment"
    }
   },
   "outputs": [
    {
     "data": {
      "text/plain": [
       "[11, 33, 55, 66, 77]"
      ]
     },
     "execution_count": 17,
     "metadata": {},
     "output_type": "execute_result"
    }
   ],
   "source": [
    "[11,33,55] + [66, 77]"
   ]
  },
  {
   "cell_type": "markdown",
   "metadata": {
    "slideshow": {
     "slide_type": "slide"
    }
   },
   "source": [
    "# <center><font color=\"blue\"> Slicing List/Tuple </font>\n",
    "<center><img src=\"images/taudata-python-slicing.png\" style=\"height: 300px;\" /></center>\n",
    "    \n",
    "* colon \":\" artinya hingga\n",
    "* **-1** artinya index terakhir"
   ]
  },
  {
   "cell_type": "code",
   "execution_count": 13,
   "metadata": {
    "slideshow": {
     "slide_type": "fragment"
    }
   },
   "outputs": [
    {
     "data": {
      "text/plain": [
       "[5, 6, 7]"
      ]
     },
     "execution_count": 13,
     "metadata": {},
     "output_type": "execute_result"
    }
   ],
   "source": [
    "L = [3, 4, 5, 6, 7]\n",
    "L[-3:]"
   ]
  },
  {
   "cell_type": "markdown",
   "metadata": {
    "slideshow": {
     "slide_type": "slide"
    }
   },
   "source": [
    "# <center><font color=\"blue\"> String di Python\n",
    "\n",
    "* string di python bisa menggunakan ' atau \"\n",
    "* String adalah Tuple (immutable)\n",
    "* Fungsi paling berguna di Python String (gambar)\n",
    "    \n",
    "<center><img src=\"images/python-string-methods-functions.png\" style=\"height: 200px;\" />"
   ]
  },
  {
   "cell_type": "code",
   "execution_count": 18,
   "metadata": {
    "slideshow": {
     "slide_type": "fragment"
    }
   },
   "outputs": [
    {
     "name": "stdout",
     "output_type": "stream",
     "text": [
      "Hello World\n",
      "Hello World\n",
      "Hello 'World'\n",
      "Hello \"World\"\n"
     ]
    }
   ],
   "source": [
    "print('Hello World')\n",
    "print(\"Hello World\")\n",
    "print(\"Hello 'World'\")\n",
    "print(\"Hello \\\"World\\\"\")"
   ]
  },
  {
   "cell_type": "code",
   "execution_count": 22,
   "metadata": {
    "slideshow": {
     "slide_type": "fragment"
    }
   },
   "outputs": [
    {
     "data": {
      "text/plain": [
       "'apa kabar saudara hari ini'"
      ]
     },
     "execution_count": 22,
     "metadata": {},
     "output_type": "execute_result"
    }
   ],
   "source": [
    "S = \"       apa Kabar ANDA hari ini \"\n",
    "S.lower().replace(\"anda\", \"saudara\").strip()"
   ]
  },
  {
   "cell_type": "markdown",
   "metadata": {
    "slideshow": {
     "slide_type": "slide"
    }
   },
   "source": [
    "<h1 id=\"Pendahuluan-Logika-Percabangan-(Conditional-Statement)---IF-\"><font color=\"blue\">Pendahuluan Logika Percabangan (Conditional Statement) - IF </font></h1>\n",
    "\n",
    "<ul>\n",
    "\t<li>Bentuk (unit) paling dasar dari kecerdasan buatan atau pembelajaran komputer, dahulu disebut sebagai <em>explicit rules machine learning</em> (but of course it&#39;s not AI ... :)).</li>\n",
    "\t<li>Bentuk umumnya:<br />\n",
    "\t<strong>IF</strong> (<em>kondisi</em>) <strong>MAKA</strong> (<em>tindakan</em>)</li>\n",
    "\t<li>Syarat utamanya adalah &quot;kondisi/syarat&quot; harus bernilai Boolean (True/False), sedangkan tindakan bisa apa saja.</li>\n",
    "</ul>\n",
    "<p><img alt=\"\" src=\"images/4_Cond_Statement_as_ML0.png\" style=\"width: 800px ; height: 300px\" /></p>\n"
   ]
  },
  {
   "cell_type": "markdown",
   "metadata": {
    "slideshow": {
     "slide_type": "slide"
    }
   },
   "source": [
    "<h1><font color=\"blue\">Telaah Komponen Percabangan - IF </font></h1>\n",
    "\n",
    "<p><font color=\"blue\"><img alt=\"\" src=\"images/4_IF_Components_.png\" style=\"width: 800px; height: 424px;\" /></font></p>"
   ]
  },
  {
   "cell_type": "markdown",
   "metadata": {
    "slideshow": {
     "slide_type": "slide"
    }
   },
   "source": [
    "# <center><font color=\"blue\"> Indenting di Python\n",
    "\n",
    "* Python menggunakan \"indenting\" dan bukan tanda kurung seperti banyak bahasa pemrograman lain\n",
    "* indent dinyatakan dengan 1x \"tab\" atau 4x \"spasi\" atau dari titik 2 (:) bisa langsung dienter\n",
    "* Hati-hati ketika python script di edit lintas platform (Windows, Mac, Linux)\n",
    "    \n",
    "<center><img alt=\"\" src=\"images/meme-cartoon/python indenting meme.jpg\" style=\"height: 300px;\" />"
   ]
  },
  {
   "cell_type": "code",
   "execution_count": 87,
   "metadata": {
    "slideshow": {
     "slide_type": "slide"
    }
   },
   "outputs": [
    {
     "name": "stdout",
     "output_type": "stream",
     "text": [
      "a=-3\n",
      "a adalah bil negatif\n"
     ]
    }
   ],
   "source": [
    "a = int(input('a='))\n",
    "\n",
    "if a>0:\n",
    "    print('a bil pos')\n",
    "elif a==0:\n",
    "    print('a = 0')\n",
    "else:\n",
    "    print('a adalah bil negatif')"
   ]
  },
  {
   "cell_type": "markdown",
   "metadata": {
    "slideshow": {
     "slide_type": "slide"
    }
   },
   "source": [
    "# <center><font color=\"blue\"> Hati-hati Boolean Trap di Python\n",
    "\n",
    "## Python mirip dengan PHP dalam mendefinisikan boolean sebagai **True / False**: \n",
    "\n",
    "### variabel bernilai **False**:\n",
    "- Nol: numerical zero values (0, 0.0, 0.0+0.0j),\n",
    "- Boolean variable: \"False\"\n",
    "- String Kosong: '' ATAU \"\"\n",
    "- List, Tuple, Set, & Dictionary kosong: [], (), set(), ATAU {}  \n",
    "- Variabel bernilai \"None\".\n",
    "\n",
    "### Semua nilai lain dianggap sebagai True\n",
    "    \n",
    "<center><img alt=\"\" src=\"images/meme-cartoon/boolean trap cursed.png\" style=\"height: 200px;\" />"
   ]
  },
  {
   "cell_type": "code",
   "execution_count": 23,
   "metadata": {
    "slideshow": {
     "slide_type": "fragment"
    }
   },
   "outputs": [
    {
     "name": "stdout",
     "output_type": "stream",
     "text": [
      "x=0 di python bernilai salah\n"
     ]
    }
   ],
   "source": [
    "x = 0\n",
    "if x:\n",
    "    print('x={} di python bernilai benar'.format(x))\n",
    "else:\n",
    "    print('x={} di python bernilai salah'.format(x))"
   ]
  },
  {
   "cell_type": "markdown",
   "metadata": {
    "slideshow": {
     "slide_type": "slide"
    }
   },
   "source": [
    "## <font color=\"blue\"> Exceptions (Try-Except): One of the reason why Python is awesome!</font>\n",
    "\n",
    "* Secara umum sebuah program sebaiknya harus memiliki \"precaution\", just in case input yang tidak diinginkan masuk ke sistem dan mengakibatkan error.\n",
    "* Istilah formal untuk hal ini adalah \"Domain Constraint\".\n",
    "* Pada dasarnya hampir semua bahasa pemrograman (dan database) mampu melakukan domain constraint. Namun di Python dapat dilakukan dengan jauuuuhhh lebih sederhana (simple)"
   ]
  },
  {
   "cell_type": "code",
   "execution_count": null,
   "metadata": {
    "slideshow": {
     "slide_type": "fragment"
    }
   },
   "outputs": [],
   "source": [
    "N = int(input('masukkan sembarang angka'))\n",
    "N"
   ]
  },
  {
   "cell_type": "code",
   "execution_count": 4,
   "metadata": {
    "slideshow": {
     "slide_type": "fragment"
    }
   },
   "outputs": [
    {
     "name": "stdout",
     "output_type": "stream",
     "text": [
      "Please input any integer N = = asdfhsdv.AK\n",
      "yang anda masukkan bukan angka\n"
     ]
    }
   ],
   "source": [
    "# Contoh TRY - Except\n",
    "try:\n",
    "    n = int(input(\"Please input any integer N = \"))\n",
    "    print('Terima Kasih')\n",
    "except:\n",
    "    print('yang anda masukkan bukan angka')"
   ]
  },
  {
   "cell_type": "markdown",
   "metadata": {
    "slideshow": {
     "slide_type": "slide"
    }
   },
   "source": [
    "# Catch the Error! (Better usage of Try-Except)"
   ]
  },
  {
   "cell_type": "code",
   "execution_count": 6,
   "metadata": {
    "slideshow": {
     "slide_type": "fragment"
    }
   },
   "outputs": [
    {
     "name": "stdout",
     "output_type": "stream",
     "text": [
      "Please input any integer = .,.,133sdf\n",
      "Error :  invalid literal for int() with base 10: '.,.,133sdf'\n",
      "ini diluar try-except\n"
     ]
    }
   ],
   "source": [
    "try:\n",
    "    n = int(input(\"Please input any integer = \"))\n",
    "    print('Terima Kasih')\n",
    "except Exception as err_:\n",
    "    print('Error : ', err_)\n",
    "    \n",
    "print('ini diluar try-except')"
   ]
  },
  {
   "cell_type": "markdown",
   "metadata": {
    "slideshow": {
     "slide_type": "slide"
    }
   },
   "source": [
    "# <center><font color=\"blue\"> Loop in Python and why it looks like an algorithm :) </font>\n",
    "\n",
    "* But first, let's talk about \"**range function**\" in Python\n",
    "* \"range\" menghasilkan barisan immutable mulai dari \"start\" hingga \"end\" dengan tahapan = \"step\"\n",
    "\n",
    "<img alt=\"\" src=\"images/python_range.png\" style=\"height: 200px;\" />"
   ]
  },
  {
   "cell_type": "code",
   "execution_count": 10,
   "metadata": {
    "slideshow": {
     "slide_type": "fragment"
    }
   },
   "outputs": [
    {
     "data": {
      "text/plain": [
       "[2, 7, 12, 17]"
      ]
     },
     "execution_count": 10,
     "metadata": {},
     "output_type": "execute_result"
    }
   ],
   "source": [
    "# Range boleh menggunakan \"STEP\"\n",
    "# Bentuk umumnya range(START, END, STEP)\n",
    "list(range(2, 20, 5))"
   ]
  },
  {
   "cell_type": "code",
   "execution_count": 24,
   "metadata": {
    "slideshow": {
     "slide_type": "fragment"
    }
   },
   "outputs": [
    {
     "name": "stdout",
     "output_type": "stream",
     "text": [
      "hi, hi, hi, hi, hi, hi, hi, "
     ]
    }
   ],
   "source": [
    "for i in range(7):\n",
    "    print('hi', end=\", \")"
   ]
  },
  {
   "cell_type": "markdown",
   "metadata": {
    "slideshow": {
     "slide_type": "slide"
    }
   },
   "source": [
    "# <center> Contoh Kasus Loop\n",
    "<img alt=\"\" src=\"images/3_Looping_Components.png\" style=\"height: 150px;\" />"
   ]
  },
  {
   "cell_type": "code",
   "execution_count": 16,
   "metadata": {
    "slideshow": {
     "slide_type": "fragment"
    }
   },
   "outputs": [
    {
     "data": {
      "text/plain": [
       "5050.0"
      ]
     },
     "execution_count": 16,
     "metadata": {},
     "output_type": "execute_result"
    }
   ],
   "source": [
    "S = 0.0\n",
    "for i in range(1,101):\n",
    "    S += i # S = S + i\n",
    "S"
   ]
  },
  {
   "cell_type": "code",
   "execution_count": 17,
   "metadata": {
    "slideshow": {
     "slide_type": "fragment"
    }
   },
   "outputs": [
    {
     "data": {
      "text/plain": [
       "5050"
      ]
     },
     "execution_count": 17,
     "metadata": {},
     "output_type": "execute_result"
    }
   ],
   "source": [
    "sum(range(1,101))"
   ]
  },
  {
   "cell_type": "markdown",
   "metadata": {
    "slideshow": {
     "slide_type": "slide"
    }
   },
   "source": [
    "# <center><font color=\"blue\"> index Loop di Python bisa dibuat implisit </font>\n",
    "\n",
    "* bisa juga dikeluarkan index loopnya jika dibutuhkan dengan perintah enumerate"
   ]
  },
  {
   "cell_type": "code",
   "execution_count": 25,
   "metadata": {
    "slideshow": {
     "slide_type": "fragment"
    }
   },
   "outputs": [
    {
     "name": "stdout",
     "output_type": "stream",
     "text": [
      "aceh, jawa barat, sumatera selatan, bali, madura, jawa tengah, "
     ]
    }
   ],
   "source": [
    "provinsi = ['aceh', 'jawa barat', 'sumatera selatan', 'bali', 'madura', 'jawa tengah']\n",
    "for prov in provinsi:\n",
    "    print(prov, end=', ')"
   ]
  },
  {
   "cell_type": "code",
   "execution_count": 30,
   "metadata": {
    "slideshow": {
     "slide_type": "fragment"
    }
   },
   "outputs": [
    {
     "name": "stdout",
     "output_type": "stream",
     "text": [
      "propinsi ke-0 = aceh, \n",
      "propinsi ke-1 = jawa barat, \n",
      "propinsi ke-2 = sumatera selatan, \n",
      "propinsi ke-3 = bali, \n",
      "propinsi ke-4 = madura, \n",
      "propinsi ke-5 = jawa tengah, \n"
     ]
    }
   ],
   "source": [
    "for i, prov in enumerate(provinsi): \n",
    "    print(\"propinsi ke-{} = {}, \".format(i, prov))"
   ]
  },
  {
   "cell_type": "markdown",
   "metadata": {
    "slideshow": {
     "slide_type": "slide"
    }
   },
   "source": [
    "<h1><font color=\"blue\">Kasus sederhana data science: Skewness dan Transformasi Data </font></h1>\n",
    "\n",
    "<img alt=\"\" src=\"images/3_data_transformation.png\" style=\"width: 769px; height: 404px;\" />\n"
   ]
  },
  {
   "cell_type": "code",
   "execution_count": 23,
   "metadata": {
    "slideshow": {
     "slide_type": "fragment"
    }
   },
   "outputs": [
    {
     "name": "stdout",
     "output_type": "stream",
     "text": [
      "[99, 89, 80, 50, 25, 12, 11, 10, 9, 8, 7, 6, 5, 4, 3, 2, 1, -1]\n",
      "[0.010101010101010102, 0.011235955056179775, 0.0125, 0.02, 0.04, 0.08333333333333333, 0.09090909090909091, 0.1, 0.1111111111111111, 0.125, 0.14285714285714285, 0.16666666666666666, 0.2, 0.25, 0.3333333333333333, 0.5, 1.0, -1.0]\n"
     ]
    }
   ],
   "source": [
    "# Contoh 1 bagaimana mentransform suatu data\n",
    "A = [99,89,80,50,25,12,11,10,9,8,7,6,5,4,3,2,1, -1]\n",
    "B = [] # inisialisasi dengan array (list) kosong\n",
    "for datum in A:\n",
    "    B.append(1/datum) # APPEND adalah perintah untuk menambahkan elemen ke suatu array (list)\n",
    "print(A)\n",
    "print(B)"
   ]
  },
  {
   "cell_type": "markdown",
   "metadata": {
    "slideshow": {
     "slide_type": "slide"
    }
   },
   "source": [
    "<h1><font color=\"blue\">Contoh Inverse Transformation : Cara 2 </font></h1>\n",
    "\n",
    "* Cara diatas memiliki kelemahan yang cukup serius ketika datanya besar. Apakah itu? \n",
    "* *Copy Memory*"
   ]
  },
  {
   "cell_type": "code",
   "execution_count": 24,
   "metadata": {
    "slideshow": {
     "slide_type": "fragment"
    }
   },
   "outputs": [
    {
     "name": "stdout",
     "output_type": "stream",
     "text": [
      "[0.010101010101010102, 0.011235955056179775, 0.0125, 0.02, 0.04, 0.08333333333333333, 0.09090909090909091, 0.1, 0.1111111111111111, 0.125, 0.14285714285714285, 0.16666666666666666, 0.2, 0.25, 0.3333333333333333, 0.5, 1.0]\n"
     ]
    }
   ],
   "source": [
    "# Contoh 2 bagaimana mentransform suatu data\n",
    "# Kita akan menelaah lebih jauh di pertemuan setelah UTS\n",
    "A = [99,89,80,50,25,12,11,10,9,8,7,6,5,4,3,2,1]\n",
    "N = len(A)\n",
    "for i in range(N):\n",
    "    A[i] = 1/A[i] # ini disebut in-place processing. Jauh lebih hemat memory\n",
    "print(A)"
   ]
  },
  {
   "cell_type": "code",
   "execution_count": 170,
   "metadata": {
    "slideshow": {
     "slide_type": "slide"
    }
   },
   "outputs": [
    {
     "name": "stdout",
     "output_type": "stream",
     "text": [
      "[0.010101010101010102, 0.011235955056179775, 0.0125, 0.02, 0.04, 0.08333333333333333, 0.09090909090909091, 0.1, 0.1111111111111111, 0.125, 0.14285714285714285, 0.16666666666666666, 0.2, 0.25, 0.3333333333333333, 0.5, 1.0]\n"
     ]
    }
   ],
   "source": [
    "# Contoh 3 bagaimana mentransform suatu data\n",
    "# Cara yg spesifik untuk Python (recommended)\n",
    "A = [99,89,80,50,25,12,11,10,9,8,7,6,5,4,3,2,1]\n",
    "for i, a in enumerate(A): # perintah ENUMERATE di Python akan menghasilkan variable \"index\" dari \"a\" \n",
    "    A[i] = 1/a # tetap in-place processing\n",
    "print(A)"
   ]
  },
  {
   "cell_type": "markdown",
   "metadata": {
    "slideshow": {
     "slide_type": "slide"
    }
   },
   "source": [
    "# <center><font color=\"blue\"> List Comprehension: Flat ... It's a Python thing</font>\n",
    "<img alt=\"\" src=\"images/meme-cartoon/2_meme_python easier than psudocode.jpg\" style=\"height: 200px;\" />"
   ]
  },
  {
   "cell_type": "code",
   "execution_count": 33,
   "metadata": {
    "scrolled": true,
    "slideshow": {
     "slide_type": "slide"
    }
   },
   "outputs": [
    {
     "name": "stdout",
     "output_type": "stream",
     "text": [
      "[0.010101010101010102, 0.011235955056179775, 0.0125, 0.02, 0.04, 0.08333333333333333, 0.09090909090909091, 0.1, 0.1111111111111111, 0.125, 0.14285714285714285, 0.16666666666666666, 0.2, 0.25, 0.3333333333333333, 0.5, 1.0, -1.0]\n"
     ]
    }
   ],
   "source": [
    "# Contoh 4 bagaimana mentransform suatu data\n",
    "# Cara yg spesifik untuk Python (Highly recommended)\n",
    "A = [99,89,80,50,25,12,11,10,9,8,7,6,5,4,3,2,1,-1]\n",
    "\n",
    "print([1/x for x in A])  # List comprehesion secara umum lebih cepat dan sederhana"
   ]
  },
  {
   "cell_type": "markdown",
   "metadata": {
    "slideshow": {
     "slide_type": "slide"
    }
   },
   "source": [
    "# <center><font color=\"blue\"> Zip dalam Loop</font>\n",
    "* Sangat bermanfaat di data science saat hendak melakukan looping atas 2 atau lebih variabel\n",
    "\n",
    "<img alt=\"\" src=\"images/python_zip.png\" style=\"height: 200px;\" />"
   ]
  },
  {
   "cell_type": "code",
   "execution_count": 43,
   "metadata": {
    "slideshow": {
     "slide_type": "fragment"
    }
   },
   "outputs": [
    {
     "name": "stdout",
     "output_type": "stream",
     "text": [
      "rumah tangga 900\n",
      "industri 125000\n",
      "bisnis 16000\n"
     ]
    }
   ],
   "source": [
    "customer = (\"rumah tangga\", \"industri\", \"bisnis\")\n",
    "daya = (900, 125000, 16000)\n",
    "\n",
    "for k, d in zip(customer, daya):\n",
    "    print(k, d)"
   ]
  },
  {
   "cell_type": "markdown",
   "metadata": {
    "slideshow": {
     "slide_type": "slide"
    }
   },
   "source": [
    "# <center><font color=\"blue\">Pendahuluan Indefinite Loop - While </font>\n",
    "\n",
    "* While loop digunakan saat kita hendak melakukan perulangan/iterasi, namun tidak mengetahui secara pasti jumlah perulangannya.\n",
    "* Kondisi di perulangan = pencabangan IF, yaitu bernilai boolean\n",
    "* Kondisi di While biasa disebut Stopper\n",
    "* Stopper dapat diletakkan di awal atau akhir (Repeat-Until)\n",
    "* Di dalam &quot;loop body&quot; wajib memuat suatu mekanisme yang mengakibatkan suatu saat Stopper bernilai True.* Precautions sangat disarankan di While loop dengan memasukkan jumlah iterasi maksimum\n",
    "* Semua Looping **For** dapat digantikan dengan Looping **While**, namun hal tsb adalah BAD PRACTICE (why?)\n",
    "\n",
    "<img alt=\"\" src=\"images/5_while_loop_Schema.png\" style=\"width: 280px; height: 225px;\" />"
   ]
  },
  {
   "cell_type": "code",
   "execution_count": 32,
   "metadata": {
    "slideshow": {
     "slide_type": "slide"
    }
   },
   "outputs": [
    {
     "name": "stdout",
     "output_type": "stream",
     "text": [
      "0.5, 0.25, 0.125, 0.0625, 0.03125, 0.015625, 0.0078125, 0.00390625, 0.001953125, 0.0009765625, "
     ]
    }
   ],
   "source": [
    "# Contoh Looping While di Python\n",
    "n = 1\n",
    "epoch = 0\n",
    "max_iter = 17\n",
    "while n>0.001 and epoch<max_iter:\n",
    "    n = n/2\n",
    "    print(n, end = ', ')\n",
    "    epoch += 1"
   ]
  },
  {
   "cell_type": "markdown",
   "metadata": {
    "slideshow": {
     "slide_type": "slide"
    }
   },
   "source": [
    "# <center><font color=\"blue\">While untuk *Domain Constraints* & Pentingnya **Breake** While Loop\n",
    "\n",
    "* Di statistika/Data Science/ Database digunakan untuk mencegah noise di data.\n",
    "* Misal mencegah nilai lain selain Pria/Wanita di variabel \"Jenis Kelamin\"\n",
    "* While di Python juga bisa punya \"Else\" ... silahkan eksperimen untuk memahaminya.\n",
    "* Else di while menjadi penting misal pada saat mengaplikasikan Metode-metode di Statistik/Data Science yang tidak konvex/Tidak pasti konvergen: misal Neural network/Deep Learning.\n",
    "\n",
    "<img alt=\"\" src=\"images/5_While-Else.png\" style=\"height: 200px;\" />"
   ]
  },
  {
   "cell_type": "code",
   "execution_count": 39,
   "metadata": {
    "slideshow": {
     "slide_type": "fragment"
    }
   },
   "outputs": [
    {
     "name": "stdout",
     "output_type": "stream",
     "text": [
      "Apakah jenis kelamin anda? (input 0 untuk cancel) =  0\n",
      "Kami mengerti informasi ini bagi sebagian orang adalah private/confidential.\n"
     ]
    }
   ],
   "source": [
    "gender = {'pria', 'wanita'} # set!!!...\n",
    "sex = ''\n",
    "print(\"Apakah jenis kelamin anda? (input 0 untuk cancel) = \", end=\" \")\n",
    "while sex not in gender:\n",
    "    sex = input('')\n",
    "    if sex==\"0\":\n",
    "        print('Kami mengerti informasi ini bagi sebagian orang adalah private/confidential.')\n",
    "        break\n",
    "else:\n",
    "    print('Terima Kasih telah memberitahu kami informasi ini')"
   ]
  },
  {
   "cell_type": "markdown",
   "metadata": {
    "slideshow": {
     "slide_type": "slide"
    }
   },
   "source": [
    "# <center><font color=\"blue\">Fungsi di Python\n",
    "\n",
    "* Syntak fungsi di Python **def**\n",
    "* parameter berurut, kecuali ada default value\n",
    "* Arg dan Kwarg belum dibahas di pembahasan dasar fungsi\n",
    "* bentuk umum fungsi\n",
    "<img alt=\"\" src=\"images/7_fungsi_py.png\" style=\"height: 150px;\" />\n",
    "    "
   ]
  },
  {
   "cell_type": "code",
   "execution_count": 51,
   "metadata": {
    "slideshow": {
     "slide_type": "slide"
    }
   },
   "outputs": [
    {
     "name": "stdout",
     "output_type": "stream",
     "text": [
      "C=2, D=5, Nilai Pungsi(C,D)=16\n"
     ]
    }
   ],
   "source": [
    "def Pungsi(A,B):\n",
    "    \"\"\"\n",
    "    ini adalah contoh fungsi sederhana dengan dua parameter\n",
    "    input: A, B sembarang 2 bilangan (int/float)\n",
    "    output: A kuadrat tambah dua kali B tambah 2 (int/float)\n",
    "    \"\"\"\n",
    "    hasil = A**2 + 2*B + 2\n",
    "    return hasil # atau simply return A**2 + 2*B +2\n",
    "\n",
    "C, D = 2, 5\n",
    "print(\"C={}, D={}, Nilai Pungsi(C,D)={}\".format(C, D, Pungsi(C,D)))"
   ]
  },
  {
   "cell_type": "code",
   "execution_count": 52,
   "metadata": {
    "slideshow": {
     "slide_type": "fragment"
    }
   },
   "outputs": [
    {
     "name": "stdout",
     "output_type": "stream",
     "text": [
      "Help on function jumlah in module __main__:\n",
      "\n",
      "jumlah(A, B)\n",
      "    ini adalah contoh fungsi sederhana penjumlahan 2 bilangan\n",
      "    input: a,b sembarang 2 bilangan (int/float)\n",
      "    output: a+b\n",
      "\n"
     ]
    }
   ],
   "source": [
    "# Kita bisa melakukan ini kalau kita membuat fungsi dengan \"estetika\" Python yang benar\n",
    "help(jumlah)"
   ]
  },
  {
   "cell_type": "code",
   "execution_count": 55,
   "metadata": {
    "slideshow": {
     "slide_type": "slide"
    }
   },
   "outputs": [
    {
     "name": "stdout",
     "output_type": "stream",
     "text": [
      "12 8 8\n"
     ]
    }
   ],
   "source": [
    "# default Value sangat berguna di DS/ML\n",
    "def PP(A, B=5, C=0):\n",
    "    return A + B - C\n",
    "\n",
    "print(PP(7), PP(7, B=1), PP(7, C=2, B=3))"
   ]
  },
  {
   "cell_type": "markdown",
   "metadata": {
    "slideshow": {
     "slide_type": "slide"
    }
   },
   "source": [
    "# <center><font color=\"blue\">Fungsi Lambda\n",
    "\n",
    "* Lambda adalah \"fungsi sementara\"/disposable\n",
    "* terkadang digunakan untuk argument/parameter di fungsi lain. \n",
    "\n",
    "<img alt=\"\" src=\"images/python_lambda_function.png\" style=\"height: 200px;\" />"
   ]
  },
  {
   "cell_type": "code",
   "execution_count": 56,
   "metadata": {
    "slideshow": {
     "slide_type": "fragment"
    }
   },
   "outputs": [
    {
     "data": {
      "text/plain": [
       "8"
      ]
     },
     "execution_count": 56,
     "metadata": {},
     "output_type": "execute_result"
    }
   ],
   "source": [
    "# Contoh sederhana\n",
    "F = lambda a, b, c : a**2 + 2*b + c\n",
    "F(1,2,3)"
   ]
  },
  {
   "cell_type": "markdown",
   "metadata": {
    "slideshow": {
     "slide_type": "slide"
    }
   },
   "source": [
    "# <center><font color=\"blue\">Functional Programming (FP)\n",
    "\n",
    "* Lebih mirip ke definisi Fungsi di Matematika\n",
    "* Fungsi di Python adalah _first class values_ artinya input dan outputnya bisa berupa fungsi\n",
    "* Sehingga FP dapat dijelaskan dengan singkat sebagai: \"Using Functions as Values\" - Menggunakan fungsi sebagai data\n",
    "* Cocok untuk concurrency (eksekusi bersamaan/parallel) seperti big data atau distributed computing secara umum.\n",
    "    \n",
    "<img alt=\"\" src=\"images/meme-cartoon/homer_simpson_Functional_Prog_Meme.png\" style=\"height: 200px;\" />"
   ]
  },
  {
   "cell_type": "markdown",
   "metadata": {
    "slideshow": {
     "slide_type": "slide"
    }
   },
   "source": [
    "# <center><font color=\"blue\">Python Functional Programming Paradigm for Big Data\n",
    "\n",
    "<center><img alt=\"\" src=\"images/map-reduce-filter-functional-programming-python.png\" style=\"height: 400px;\" />"
   ]
  },
  {
   "cell_type": "code",
   "execution_count": 58,
   "metadata": {
    "slideshow": {
     "slide_type": "slide"
    }
   },
   "outputs": [
    {
     "data": {
      "text/plain": [
       "[5, 10, 17, 26, 37]"
      ]
     },
     "execution_count": 58,
     "metadata": {},
     "output_type": "execute_result"
    }
   ],
   "source": [
    "# MAP memetakan fungsi ke data R^n ==> R^n\n",
    "pungsi = lambda a : a**2 + 2*a + 2 \n",
    "data = [1, 2, 3, 4, 5]\n",
    "\n",
    "list( map(pungsi, data) )"
   ]
  },
  {
   "cell_type": "code",
   "execution_count": 61,
   "metadata": {
    "slideshow": {
     "slide_type": "fragment"
    }
   },
   "outputs": [
    {
     "data": {
      "text/plain": [
       "[5, 3, 7]"
      ]
     },
     "execution_count": 61,
     "metadata": {},
     "output_type": "execute_result"
    }
   ],
   "source": [
    "# FILTER mereduksi data berdasarkan kriteria R^n ==> R^m, m<=n\n",
    "\n",
    "list( filter(lambda x: x%2!=0, [2,5,3,8,7]) )"
   ]
  },
  {
   "cell_type": "code",
   "execution_count": 65,
   "metadata": {
    "slideshow": {
     "slide_type": "slide"
    }
   },
   "outputs": [
    {
     "data": {
      "text/plain": [
       "10"
      ]
     },
     "execution_count": 65,
     "metadata": {},
     "output_type": "execute_result"
    }
   ],
   "source": [
    "# Reduce: F:R^n ==> R \n",
    "from functools import reduce\n",
    "\n",
    "reduce(lambda a,b: a+b, [1,2,3,4], 0) #tak perlu \"list\" karena skalar"
   ]
  },
  {
   "cell_type": "markdown",
   "metadata": {
    "slideshow": {
     "slide_type": "fragment"
    }
   },
   "source": [
    "<img alt=\"\" src=\"images/7_reduce.png\" style=\"height: 200px;\" />"
   ]
  },
  {
   "cell_type": "markdown",
   "metadata": {
    "slideshow": {
     "slide_type": "slide"
    }
   },
   "source": [
    "# <center><font color=\"blue\">Pendahuluan Module di Python\n",
    "\n",
    "* Module di load dengan perintah **import**\n",
    "* Dapat juga load sebagian fungsi dari module dengan peintah **from**\n",
    "* Module yang di load dapat dirubah namanya dengan perintah **as**\n",
    "* Fungsi dan module yang di load di simpan di **namespace** python.\n",
    "* Kita dapat membuat kumpulan fungsi dalam file \".py\" lalu me-load-nya seperti module biasa\n",
    "\n",
    "<img alt=\"\" src=\"images/python_modules.png\" style=\"height: 300px;\" />"
   ]
  },
  {
   "cell_type": "code",
   "execution_count": 42,
   "metadata": {
    "slideshow": {
     "slide_type": "slide"
    }
   },
   "outputs": [
    {
     "data": {
      "text/plain": [
       "(1.0, 1.0, 1.0)"
      ]
     },
     "execution_count": 42,
     "metadata": {},
     "output_type": "execute_result"
    }
   ],
   "source": [
    "import numpy # Full import\n",
    "import numpy as np # Full import with alias\n",
    "from numpy import cos # Partial Import\n",
    "\n",
    "cos(0.0), np.cos(0.0), numpy.cos(0.0)"
   ]
  },
  {
   "cell_type": "markdown",
   "metadata": {
    "slideshow": {
     "slide_type": "slide"
    }
   },
   "source": [
    "# TQDM awesome modul untuk loop\n",
    "\n",
    "* Sangat disarankan di data science terutama untuk proses yg kompleks atau data yang besar\n",
    "<img alt=\"\" src=\"images/tqdm-progress-bar-in-python.jpg\" style=\"height: 200px;\" />"
   ]
  },
  {
   "cell_type": "code",
   "execution_count": null,
   "metadata": {
    "slideshow": {
     "slide_type": "fragment"
    }
   },
   "outputs": [],
   "source": [
    "from tqdm import tqdm # juga berfungsi di terminal unix/command prompt\n",
    "from time import sleep\n",
    "\n",
    "for i in tqdm(range(10)):\n",
    "    sleep(1) # menunggu 1 detik"
   ]
  },
  {
   "cell_type": "markdown",
   "metadata": {},
   "source": [
    "# <center><font color=\"blue\"> Akhir Modul 02 - Pengenalan Python & Jupyter Notebook\n",
    "\n",
    "<hr />\n",
    "<img alt=\"\" src=\"images/meme-cartoon/meme_4.png\" />"
   ]
  }
 ],
 "metadata": {
  "celltoolbar": "Slideshow",
  "kernelspec": {
   "display_name": "Python 3",
   "language": "python",
   "name": "python3"
  },
  "language_info": {
   "codemirror_mode": {
    "name": "ipython",
    "version": 3
   },
   "file_extension": ".py",
   "mimetype": "text/x-python",
   "name": "python",
   "nbconvert_exporter": "python",
   "pygments_lexer": "ipython3",
   "version": "3.6.13"
  },
  "latex_envs": {
   "LaTeX_envs_menu_present": true,
   "autoclose": false,
   "autocomplete": true,
   "bibliofile": "biblio.bib",
   "cite_by": "apalike",
   "current_citInitial": 1,
   "eqLabelWithNumbers": true,
   "eqNumInitial": 1,
   "hotkeys": {
    "equation": "Ctrl-E",
    "itemize": "Ctrl-I"
   },
   "labels_anchors": false,
   "latex_user_defs": false,
   "report_style_numbering": false,
   "user_envs_cfg": false
  }
 },
 "nbformat": 4,
 "nbformat_minor": 2
}
