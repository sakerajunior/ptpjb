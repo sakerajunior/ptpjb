{
 "cells": [
  {
   "cell_type": "markdown",
   "metadata": {
    "slideshow": {
     "slide_type": "slide"
    }
   },
   "source": [
    "# <center><font color=\"green\"> https://bit.ly/ptpjb-2021-03</font><br><font color=\"blue\">03 - Exploratory Data Analysis (EDA) ~ Preprocessing</font></center>\n",
    "\n",
    "<center><img alt=\"\" src=\"images/cover_ptpjb_2021.png\"/></center> \n",
    "\n",
    "## <center><font color=\"blue\">tau-data Indonesia</font><br>(C) Taufik Sutanto - 2021</center>\n",
    "<center><a href=\"https://tau-data.id\">https://tau-data.id</a> ~ <a href=\"mailto:taufik@tau-data.id\">taufik@tau-data.id</a></center>"
   ]
  },
  {
   "cell_type": "markdown",
   "metadata": {
    "slideshow": {
     "slide_type": "slide"
    }
   },
   "source": [
    "# <center><font color=\"blue\"> Outline Exploratory Data Analysis (EDA) ~ Preprocessing</font></center>\n",
    "\n",
    "* Pendahuluan Exploratory Data Analysis (EDA)\n",
    "* Business & Data Understanding\n",
    "* Penjelasan umum Data Preprocessing\n",
    "* Loading/Import Data\n",
    "    * Dictionary or List to Pandas Dataframe\n",
    "    * Import CSV dan Excel to Dataframe\n",
    "    * Show data (head, tail, sample, transpose)\n",
    "    * Data Types & Information\n",
    "* Basic (Descriptive) Statistics & Why it is so important\n",
    "* Preprocessing data\n",
    " * Drop Row & Columns\n",
    " * Detecting & Dealing with Noise\n",
    " * Detecting & Dealing with 1D outliers\n",
    " * Detecting & Dealing with Duplicates\n",
    "* Missing Values\n",
    " * Missing Values Detection & treatments\n",
    " * Missing at Random (MaR)\n",
    " * Basic Imputation\n",
    "* Dealing with Categorical Data\n",
    " * Dummy Variables/One-hot-Encoding\n",
    "* Writing Preprocessed Data\n",
    "* Dealing with Time Data\n",
    "    * With DateTime module\n",
    "    * With Pandas"
   ]
  },
  {
   "cell_type": "markdown",
   "metadata": {
    "slideshow": {
     "slide_type": "slide"
    }
   },
   "source": [
    "# <center><font color=\"blue\">  Pendahuluan EDA</font></center>\n",
    "\n",
    "* EDA bagaikan jiwa bagi semua proses analisa data. Kemampuan untuk melakukan EDA dengan baik adalah syarat dasar utama bagi seluruh profesi yang terkait dengan pengolahan data, baik itu business intelligence, data analyst, data scientist, AI Engineer, dan sebagainya. \n",
    "* EDA juga menjadi tahapan awal dari kebanyakan proses analisa data dan menjadi suatu tahapan yang amat menentukan seberapa baik analisa data maupun pemodelan selanjutnya akan dihasilkan (prediksi/forecasting).\n",
    "* Komponen EDA meliputi preprocessing, perhitungan berbagai nilai statistik dasar, visualisasi, penyusunan hipotesis (dugaan awal), pemeriksaan asumsi, hingga story-telling dan reporting. Di dalamnya juga termasuk proses penanganan missing values, outlier, reduksi dimensi, pengelompokkan, transformasi dan distribusi data.\n",
    "* Tools: Python (Pandas), R, S-Plus, etc\n",
    "    \n",
    "<center><img alt=\"\" src=\"images/edamethods.png\" style=\"height: 300px;\" /></center>"
   ]
  },
  {
   "cell_type": "markdown",
   "metadata": {
    "slideshow": {
     "slide_type": "slide"
    }
   },
   "source": [
    "# <center><font color=\"blue\">  Tahap Pertama dan Terpenting EDA adalah \"Business & Data Understanding\"</font></center>\n",
    "\n",
    "### <font color=\"green\"> Dilakukan sebelum Data Preprocessing/Preparation.</font>\n",
    "    \n",
    "* Apa tujuan Machine Learning/AI kita?\n",
    "* Data apa yang tersedia?\n",
    "* Seberapa banyak (dan lama) data tersedia?\n",
    "* Ada yang memiliki label? (Variabel Target)\n",
    "* Apakah data ini relevan? Atau bisa dibuat relevan?\n",
    "* Bagaimana dengan kualitas data ini?\n",
    "* Ada data tambahan (eksternal)?\n",
    "* Siapa yang memahami tentang data ini dengan baik di perusahaan?\n",
    "    \n",
    "<center><img alt=\"\" src=\"images/crisp-dm.jpg\" style=\"height: 300px;\" /></center>"
   ]
  },
  {
   "cell_type": "markdown",
   "metadata": {
    "slideshow": {
     "slide_type": "slide"
    }
   },
   "source": [
    "# <center><font color=\"blue\">Data Terstruktur & Tidak Terstruktur</font></center>\n",
    "\n",
    "<center><img alt=\"\" src=\"images/tipeData_2.png\" style=\"height: 400px;\"/></center>"
   ]
  },
  {
   "cell_type": "markdown",
   "metadata": {
    "slideshow": {
     "slide_type": "slide"
    }
   },
   "source": [
    "# <center><font color=\"blue\">Data Terstruktur & Tidak Terstruktur</font></center>\n",
    "\n",
    "<center><img alt=\"\" src=\"images/Tipe_Data_Stevens.png\" style=\"height: 350px;\"/></center>"
   ]
  },
  {
   "cell_type": "markdown",
   "metadata": {
    "slideshow": {
     "slide_type": "slide"
    }
   },
   "source": [
    "# <center><font color=\"blue\">  Data(set) </font></center>\n",
    "\n",
    "* Koleksi entitas/objek data dan atributnya\n",
    "* Atribut adalah sifat atau karkteristik dari objek\n",
    "* Contoh pada objek manusia: umur, berat badan, tinggi badan, jenis kelamin, dsb.\n",
    "* Setiap atribut memiliki beberapa kemungkinan \"state\", sebagai contoh: pria/wanita.\n",
    "* koleksi atribut mendefinisikan suatu objek.\n",
    "    \n",
    "<center><img alt=\"\" src=\"images/Dataset.png\" style=\"height: 300px;\" /></center>"
   ]
  },
  {
   "cell_type": "markdown",
   "metadata": {
    "slideshow": {
     "slide_type": "slide"
    }
   },
   "source": [
    "# <center><font color=\"blue\">  Variabel target (dependent) dan prediktor (independent)</font></center>\n",
    "\n",
    "<img alt=\"\" src=\"images/Dependent-Independent.png\" style=\"height: 300px;\" />\n",
    "    \n",
    "* **<u>Interdependence Methods</u>** (Unsupervised Learning): Model-model Machine Learning/statistika dimana tidak ada dugaan suatu variable dipengaruhi/memengaruhi variabel yang lain (tidak ada konsep target/prediktor).<br />\n",
    "\tContoh: Analisis cluster (pengelompokan),&nbsp;principal component analysis&nbsp;(PCA)*.\n",
    "* **<u>Dependence Methods</u>** (Supervised Learning): Model-model Machine Learning/Statistika dimana sebagian variabel diduga memengaruhi/dipengaruhi variabel yang lain.<br />\n",
    "\tContoh: Regresi, klasifikasi&nbsp;(SVM/Decision Tree/neural network).\n",
    "* Namun demikian akhir-akhir ini terdapat cukup banyak penelitian dimana domain permasalahannya terletak di antara keduanya (<u><a href=\"https://en.wikipedia.org/wiki/Semi-supervised_learning\" target=\"_blank\">Semi-</a></u><u><a href=\"https://en.wikipedia.org/wiki/Semi-supervised_learning\" target=\"_blank\">Supervised</a></u><u><a href=\"https://en.wikipedia.org/wiki/Semi-supervised_learning\" target=\"_blank\"> </a></u><u><a href=\"https://en.wikipedia.org/wiki/Semi-supervised_learning\" target=\"_blank\">Learning</a></u>."
   ]
  },
  {
   "cell_type": "markdown",
   "metadata": {
    "slideshow": {
     "slide_type": "slide"
    }
   },
   "source": [
    "# <center><font color=\"blue\">  Data Cleaning, Cleansing, Munging, Wrangling?</font></center>\n",
    "\n",
    "<img alt=\"\" src=\"images/data cleaning ceansing wrangling munging preprocessing preparation _.png\" style=\"height: 300px;\" />\n",
    "    \n",
    "* Cleaning dan cleansing sebenarnya menurut standar formal berbeda: https://indica.nl/blog/2021/3/16/what-is-the-difference-between-data-cleansing-and-data-cleaning namun dalam keseharian bisa digunakan satu-sama-lain (hati-hati kalau dalam kontrak bisnis formal).\n",
    "* Banyaknya istilahnya \"membingungkan\", biasanya lebih \"aman\"/umum menggunakan terminology **data preprocessing**"
   ]
  },
  {
   "cell_type": "markdown",
   "metadata": {
    "slideshow": {
     "slide_type": "slide"
    }
   },
   "source": [
    "# <center><font color=\"blue\"> Mengapa perlu preprocessing?</font></center>\n",
    "## <font color=\"green\"> Garbage in-Garbage out</font>\n",
    "\n",
    "* Data di dunia nyata biasanya tidak sebersih/indah data di buku akademik.\n",
    "  - Noise: Misal gaji bernilai negatif\n",
    "  - Ouliers: Misal seseorang dengan penghasilan >500 juta/bulan.\n",
    "  - Duplikasi: Banyak di media sosial\n",
    "  - Encodings, dsb: Banyak di Big Data, karena masalah bagaimana data disimpan/join.\n",
    "* Tidak lengkap: hanya agregat, kurang variabel penting, dsb.\n",
    "* Analisa pada data yang tidak di preprocess biasanya menghasilkan insight yang tidak/kurang tepat atau model yang tidak memiliki performa yang baik.\n",
    "    \n",
    "<img alt=\"\" src=\"images/data_preprocessing_01.png\" style=\"height: 300px;\" />"
   ]
  },
  {
   "cell_type": "markdown",
   "metadata": {
    "slideshow": {
     "slide_type": "slide"
    }
   },
   "source": [
    "<img alt=\"\" src=\"images/data_preprocessing_02.jpg\" style=\"height: 600px;\" />"
   ]
  },
  {
   "cell_type": "code",
   "execution_count": null,
   "metadata": {
    "slideshow": {
     "slide_type": "slide"
    }
   },
   "outputs": [],
   "source": [
    "# Importing Some Python Modules\n",
    "import warnings; warnings.simplefilter('ignore')\n",
    "import pandas as pd"
   ]
  },
  {
   "cell_type": "markdown",
   "metadata": {
    "slideshow": {
     "slide_type": "slide"
    }
   },
   "source": [
    "# <center><font color=\"blue\"> Pandas Dataframe</font></center>\n",
    "\n",
    "<center><img alt=\"\" src=\"images/pandas_dataframe_structure.jpg\" style=\"height: 350px;\" /></center>\n",
    "\n",
    "* Pandas Dataframe dapat dibentuk dari **Dictionary** atau **List/Tuples**"
   ]
  },
  {
   "cell_type": "code",
   "execution_count": null,
   "metadata": {
    "slideshow": {
     "slide_type": "slide"
    }
   },
   "outputs": [],
   "source": [
    "# Dataframe dari Dictionary\n",
    "D = {'Name' : ['Ankit', 'Aishwarya', 'Shaurya', 'Shivangi'],\n",
    "    'Age' : [23, 21, 22, 21],\n",
    "    'University' : ['BHU', 'JNU', 'DU', 'BHU']} \n",
    "df = pd.DataFrame(D)\n",
    "N, P = df.shape # Ukuran Data\n",
    "print('baris = ', N, ', Kolom = ', P)\n",
    "print(\"Tipe Variabe df = \", type(df))\n",
    "df"
   ]
  },
  {
   "cell_type": "code",
   "execution_count": null,
   "metadata": {
    "slideshow": {
     "slide_type": "slide"
    }
   },
   "outputs": [],
   "source": [
    "# Dataframe dari List\n",
    "Name = ['Ankit', 'Aishwarya', 'Shaurya', 'Shivangi']\n",
    "Age = [23, 21, 22, 21]\n",
    "University = ['BHU', 'JNU', 'DU', 'BHU'] \n",
    "df = pd.DataFrame(zip(Name, Age, University), columns=['Name', 'Age', 'University'])\n",
    "# atau ubah ke dictionary \n",
    "# D = {'name': Name, 'Age': Age, 'University': University} \n",
    "# lalu gunakan cara sebelumnya\n",
    "N, P = df.shape # Ukuran Data\n",
    "print('baris = ', N, ', Kolom = ', P)\n",
    "print(\"Tipe Variabe df = \", type(df))\n",
    "df"
   ]
  },
  {
   "cell_type": "code",
   "execution_count": null,
   "metadata": {
    "ExecuteTime": {
     "end_time": "2019-09-30T01:08:34.825452Z",
     "start_time": "2019-09-30T01:08:34.820463Z"
    },
    "slideshow": {
     "slide_type": "slide"
    }
   },
   "outputs": [],
   "source": [
    "# # Slicing index bekerja seperti List, tapi harus hati-hati.\n",
    "print(df.index)\n",
    "df[:3] "
   ]
  },
  {
   "cell_type": "markdown",
   "metadata": {
    "slideshow": {
     "slide_type": "slide"
    }
   },
   "source": [
    "# <center><font color=\"blue\"> OK, Let's Start!: Import-Loading Data</font></center>\n",
    "\n",
    "<center><img alt=\"\" src=\"images/meme-cartoon/Reading-and-Writing-Data-With-Pandas.jpg\" style=\"height: 300px;\" /></center>"
   ]
  },
  {
   "cell_type": "markdown",
   "metadata": {
    "slideshow": {
     "slide_type": "slide"
    }
   },
   "source": [
    "# <center><font color=\"blue\"> Studi Kasus</font></center>\n",
    "\n",
    "* Sumber Data: http://byebuyhome.com/\n",
    "* Objective: menemukan harga rumah yang berada di bawah pasaran untuk melakukan investasi.\n",
    "* Variable:\n",
    " - **Dist_Taxi** – distance to nearest taxi stand from the property\n",
    " - **Dist_Market** – distance to nearest grocery market from the property\n",
    " - **Dist_Hospital** – distance to nearest hospital from the property\n",
    " - **Carpet** – carpet area of the property in square feet\n",
    " - **Builtup** – built-up area of the property in square feet\n",
    " - **Parking** – type of car parking available with the property\n",
    " - **City_Category** – categorization of the city based on the size\n",
    " - **Rainfall** – annual rainfall in the area where property is located\n",
    " - **House_Price** – price at which the property was sold\n",
    "\n",
    "<img alt=\"\" src=\"images/property-investment-analysis.jpg\" style=\"height: 250px;\" />"
   ]
  },
  {
   "cell_type": "markdown",
   "metadata": {
    "slideshow": {
     "slide_type": "slide"
    }
   },
   "source": [
    "# <center><font color=\"blue\"> Import-Loading Data CSV / Excel Data via Pandas</font></center>\n",
    "\n",
    "<img alt=\"\" src=\"images/pandas load csv excel.png\" style=\"height: 150px;\" />\n",
    "\n",
    "* Importing CSV file  https://pandas.pydata.org/pandas-docs/stable/reference/api/pandas.read_csv.html\n",
    "* Importing Excel file  https://pandas.pydata.org/docs/reference/api/pandas.read_excel.html\n",
    "* Encodings https://docs.python.org/3/library/codecs.html#standard-encodings"
   ]
  },
  {
   "cell_type": "code",
   "execution_count": null,
   "metadata": {
    "ExecuteTime": {
     "end_time": "2019-09-30T01:08:32.120040Z",
     "start_time": "2019-09-30T01:08:32.110066Z"
    },
    "slideshow": {
     "slide_type": "fragment"
    }
   },
   "outputs": [],
   "source": [
    "file_ = 'data/price.csv'\n",
    "try: # Running Locally, yakinkan \"file_\" berada di folder \"data\"\n",
    "    price = pd.read_csv(file_, error_bad_lines=False, low_memory = False, encoding='utf8')\n",
    "except: # Running in Google Colab\n",
    "    !mkdir data\n",
    "    !wget -P data/ https://raw.githubusercontent.com/taudata-indonesia/eLearning/master/data/price.csv\n",
    "    price = pd.read_csv(file_, error_bad_lines=False, low_memory = False, encoding='utf8')\n",
    "    \n",
    "N, P = price.shape # Ukuran Data\n",
    "print('baris = ', N, ', Kolom (jumlah variabel) = ', P)\n",
    "print(\"Tipe Variabe df = \", type(price))\n",
    "price"
   ]
  },
  {
   "cell_type": "markdown",
   "metadata": {
    "slideshow": {
     "slide_type": "slide"
    }
   },
   "source": [
    "# <center><font color=\"blue\"> Bagaimana dengan File Excel?</font></center>\n",
    "## <font color=\"green\"> Karena deprecated support, maka harus install module \"openpyxl\" terlebih dahulu</font>\n",
    "\n",
    "* Importing Excel file  https://pandas.pydata.org/docs/reference/api/pandas.read_excel.html\n",
    "* openpyxl https://openpyxl.readthedocs.io/en/stable/\n",
    "<center><img alt=\"\" src=\"images/meme-cartoon/openpyxl.jpg\" style=\"height: 300px;\" /></center>"
   ]
  },
  {
   "cell_type": "code",
   "execution_count": null,
   "metadata": {
    "slideshow": {
     "slide_type": "fragment"
    }
   },
   "outputs": [],
   "source": [
    "# Ingat module 02, jika anda menjalankan Jupyter notebook ini secara lokal, maka perlu penyesuaian\n",
    "!pip install openpyxl"
   ]
  },
  {
   "cell_type": "code",
   "execution_count": null,
   "metadata": {
    "slideshow": {
     "slide_type": "slide"
    }
   },
   "outputs": [],
   "source": [
    "file_ = 'data/price.xlsx'\n",
    "try: # Running Locally \n",
    "    xl = pd.ExcelFile(file_, engine = 'openpyxl')\n",
    "except: # Running in Google Colab\n",
    "    !mkdir data\n",
    "    !wget -P data/ https://raw.githubusercontent.com/taudata-indonesia/eLearning/master/{file_}\n",
    "    xl = pd.ExcelFile(file_, engine = 'openpyxl')\n",
    "\n",
    "sheets_ = xl.sheet_names\n",
    "print(sheets_)\n",
    "price = xl.parse(sheets_[0], header=0) #biasakan tidak menulis nama sheet secara langsung\n",
    "\n",
    "N, P = price.shape # Ukuran Data\n",
    "print('baris = ', N, ', Kolom (jumlah variabel) = ', P)\n",
    "print(\"Tipe Variabe df = \", type(price))\n",
    "price"
   ]
  },
  {
   "cell_type": "markdown",
   "metadata": {
    "slideshow": {
     "slide_type": "slide"
    }
   },
   "source": [
    "# <center><font color=\"blue\"> Prefer XLS atau CSV di Data Science/Machine Learning/AI</font></center><br><font color=\"green\">Mengapa?</font>\n",
    "\n",
    "<center><img alt=\"\" src=\"images/excel_error.png\" style=\"height: 300px;\" /></center>"
   ]
  },
  {
   "cell_type": "code",
   "execution_count": null,
   "metadata": {
    "ExecuteTime": {
     "end_time": "2019-09-30T01:01:49.230415Z",
     "start_time": "2019-09-30T01:01:49.208497Z"
    },
    "slideshow": {
     "slide_type": "slide"
    }
   },
   "outputs": [],
   "source": [
    "# \"Mengintip\" beberapa data pertamanya\n",
    "price.head(7)"
   ]
  },
  {
   "cell_type": "code",
   "execution_count": null,
   "metadata": {
    "slideshow": {
     "slide_type": "slide"
    }
   },
   "outputs": [],
   "source": [
    "# Tips ... Gunakan Transpose untuk High-Dimensional Data (data dengan banyak kolom/variabel)\n",
    "price.head().transpose()"
   ]
  },
  {
   "cell_type": "code",
   "execution_count": null,
   "metadata": {
    "ExecuteTime": {
     "end_time": "2019-09-30T01:01:49.252357Z",
     "start_time": "2019-09-30T01:01:49.232409Z"
    },
    "slideshow": {
     "slide_type": "slide"
    }
   },
   "outputs": [],
   "source": [
    "# \"Mengintip\" beberapa data akhirnya\n",
    "price.tail(4)"
   ]
  },
  {
   "cell_type": "code",
   "execution_count": null,
   "metadata": {
    "ExecuteTime": {
     "end_time": "2019-09-30T01:01:49.273357Z",
     "start_time": "2019-09-30T01:01:49.254351Z"
    },
    "slideshow": {
     "slide_type": "slide"
    }
   },
   "outputs": [],
   "source": [
    "# chosen at random\n",
    "price.sample(10)"
   ]
  },
  {
   "cell_type": "markdown",
   "metadata": {
    "slideshow": {
     "slide_type": "slide"
    }
   },
   "source": [
    "# <center><font color=\"blue\">Perintah \".sample\" bisa untuk sampling yang akan digunakan sebagai training data di machine Learning</font></center>\n",
    "\n",
    "## <font color=\"green\">Akan tetapi ada kelemahannya ... apakah?</font>"
   ]
  },
  {
   "cell_type": "code",
   "execution_count": null,
   "metadata": {
    "slideshow": {
     "slide_type": "fragment"
    }
   },
   "outputs": [],
   "source": [
    "df_train = price.sample(15)\n",
    "df_train.head(10) # perhatikan kolom \"index-nya\""
   ]
  },
  {
   "cell_type": "markdown",
   "metadata": {
    "slideshow": {
     "slide_type": "slide"
    }
   },
   "source": [
    "# <center><font color=\"blue\"> \"loc\" VS \"iloc\" in Pandas Dataframe</font></center>\n",
    "\n",
    "<center><img alt=\"\" src=\"images/dataframe loc iloc.png\" style=\"height: 350px;\" /></center>"
   ]
  },
  {
   "cell_type": "code",
   "execution_count": null,
   "metadata": {
    "slideshow": {
     "slide_type": "slide"
    }
   },
   "outputs": [],
   "source": [
    "# Ganti \"N\" dengan index pertama di df_train\n",
    "N = 199\n",
    "try:\n",
    "    df_train.loc[N] \n",
    "except:\n",
    "    print(\"Yakinkan nilai N adalah index pertama di df_train\")"
   ]
  },
  {
   "cell_type": "code",
   "execution_count": null,
   "metadata": {
    "slideshow": {
     "slide_type": "slide"
    }
   },
   "outputs": [],
   "source": [
    "df_train.iloc[0]#['Parking']"
   ]
  },
  {
   "cell_type": "code",
   "execution_count": null,
   "metadata": {
    "slideshow": {
     "slide_type": "slide"
    }
   },
   "outputs": [],
   "source": [
    "# Sehingga bisa digunakan untuk menentukan Test Data dari dataframe\n",
    "df_test = price.loc[set(price.index) - set(df_train.index)]\n",
    "print(df_test.shape)\n",
    "df_test.head()"
   ]
  },
  {
   "cell_type": "markdown",
   "metadata": {
    "slideshow": {
     "slide_type": "slide"
    }
   },
   "source": [
    "# <center><font color=\"blue\"> Iterating on dataframe (Sangat Penting)</font></center>\n",
    "### <font color=\"green\"> Banyak yang tidak menyarankan, tapi banyak situasi di dunia nyata yang memaksa kita melakukan hal ini.</font>\n",
    "\n",
    "<center><img alt=\"\" src=\"images/pandas iteration.png\" style=\"height: 350px;\" /></center>\n",
    "    \n",
    "* https://www.dataindependent.com/pandas/pandas-iterate-over-rows/"
   ]
  },
  {
   "cell_type": "code",
   "execution_count": null,
   "metadata": {
    "slideshow": {
     "slide_type": "slide"
    }
   },
   "outputs": [],
   "source": [
    "# Kita juga meng-iterasikan sebuah dataframe (jika diperlukan)\n",
    "for i, d in price.iterrows():\n",
    "    print(i, d.House_Price, end=\", \")\n",
    "    if i>2:\n",
    "        break\n",
    "d"
   ]
  },
  {
   "cell_type": "code",
   "execution_count": null,
   "metadata": {
    "slideshow": {
     "slide_type": "slide"
    }
   },
   "outputs": [],
   "source": [
    "# Apply menggunakan \"cython\" sehingga lebih cepat\n",
    "price['harga_jual'] = price['House_Price'].apply(lambda x: x + 250000)\n",
    "# akan ada kolom baru di dataframe \"price\"\n",
    "price.head(3)"
   ]
  },
  {
   "cell_type": "markdown",
   "metadata": {
    "slideshow": {
     "slide_type": "slide"
    }
   },
   "source": [
    "# <center><font color=\"blue\"> Removing variable(s) & Fixing Variable Type(s)</font></center>\n",
    "\n",
    "<center><img alt=\"\" src=\"images/pandas-dataframe-drop.png\" style=\"height: 350px;\" /></center>"
   ]
  },
  {
   "cell_type": "code",
   "execution_count": null,
   "metadata": {
    "slideshow": {
     "slide_type": "slide"
    }
   },
   "outputs": [],
   "source": [
    "# perhatikan perintahnya tidak menggunakan tanda \"()\" ==> Properties \n",
    "price.columns"
   ]
  },
  {
   "cell_type": "code",
   "execution_count": null,
   "metadata": {
    "ExecuteTime": {
     "end_time": "2019-09-30T01:09:54.493202Z",
     "start_time": "2019-09-30T01:09:54.484458Z"
    },
    "slideshow": {
     "slide_type": "fragment"
    }
   },
   "outputs": [],
   "source": [
    "# Drop kolom pertama karena tidak berguna (hanya \"observation\" ~ index)\n",
    "try: # Good practice untuk selalu gunakan Try-Except saat melakukan \"drop\" ... mengapa?\n",
    "    price.drop([\"Observation\", \"harga_jual\"], axis=1, inplace=True) # Parameter \"inplace=True\" penting saat datanya besar.\n",
    "except Exception as err_:\n",
    "    print(err_)\n",
    "    \n",
    "print(price.columns)\n",
    "price.head(3)"
   ]
  },
  {
   "cell_type": "code",
   "execution_count": null,
   "metadata": {
    "slideshow": {
     "slide_type": "slide"
    }
   },
   "outputs": [],
   "source": [
    "# Contoh hapus baris ke-1 dan ke-3\n",
    "price.drop(price.index[[0,2]]) # sengaja tidak menggunakan \"inplace=True\" ... perhatikan hasil cell setelah ini"
   ]
  },
  {
   "cell_type": "code",
   "execution_count": null,
   "metadata": {
    "slideshow": {
     "slide_type": "slide"
    }
   },
   "outputs": [],
   "source": [
    "price.head(4) # Apa yang terjadi?"
   ]
  },
  {
   "cell_type": "code",
   "execution_count": null,
   "metadata": {
    "slideshow": {
     "slide_type": "slide"
    }
   },
   "outputs": [],
   "source": [
    "# di machine learning/AI/Data Science memahami Struktur Data adalah kunci penting untuk memahaminya\n",
    "print( \"type = \", type(price.index[[0,2]]),  \"\\nvalue = \",price.index[[0,2]]) \n",
    "# drop by int \"index\" kalau rows & nama column+axis=1 jika drop kolom"
   ]
  },
  {
   "cell_type": "code",
   "execution_count": null,
   "metadata": {
    "slideshow": {
     "slide_type": "slide"
    }
   },
   "outputs": [],
   "source": [
    "# delete Rows dengan kondisi\n",
    "price.drop(price[(price.House_Price > 6500000) & (price.House_Price < 9000000)].index, inplace=True)\n",
    "# untuk mengingatnya, bayangkan saja \"parameter\" dari drop adalah int index seperti di penjelasan cell sebelumnya\n",
    "print(price.shape)\n",
    "price.head(7)"
   ]
  },
  {
   "cell_type": "markdown",
   "metadata": {
    "slideshow": {
     "slide_type": "slide"
    }
   },
   "source": [
    "# <center><font color=\"blue\"> Mengoreksi Tipe variabel: \"dtype\" & \"info\"</font></center>\n",
    "\n",
    "### <font color=\"green\"> Salah satu kunci penting dalam memahami ML/AI/Data Science baik Teori maupun aplikasinya adalah \"Struktur Data\"</font>\n",
    "    \n",
    "<center><img alt=\"\" src=\"images/pandas_dtypes.png\" style=\"height: 350px;\" /></center>"
   ]
  },
  {
   "cell_type": "code",
   "execution_count": null,
   "metadata": {
    "ExecuteTime": {
     "end_time": "2019-09-30T01:09:45.067396Z",
     "start_time": "2019-09-30T01:09:45.058420Z"
    },
    "slideshow": {
     "slide_type": "fragment"
    }
   },
   "outputs": [],
   "source": [
    "# tipe data di setiap kolom\n",
    "# Wajib di periksa apakah tipe datanya sudah tepat?\n",
    "# Perhatikan df sebagaimana semua variable di Python diperlakukan seperti object\n",
    "price.info()"
   ]
  },
  {
   "cell_type": "code",
   "execution_count": null,
   "metadata": {
    "slideshow": {
     "slide_type": "slide"
    }
   },
   "outputs": [],
   "source": [
    "price.dtypes # less information, tapi perhatikan struktur datanya (more useful). "
   ]
  },
  {
   "cell_type": "code",
   "execution_count": null,
   "metadata": {
    "ExecuteTime": {
     "end_time": "2019-09-30T01:10:08.390322Z",
     "start_time": "2019-09-30T01:10:08.380136Z"
    },
    "slideshow": {
     "slide_type": "slide"
    }
   },
   "outputs": [],
   "source": [
    "# dataframe types: https://pbpython.com/pandas_dtypes.html\n",
    "price['Parking'] = price['Parking'].astype('category')\n",
    "price['City_Category'] = price['City_Category'].astype('category')\n",
    "price.dtypes"
   ]
  },
  {
   "cell_type": "markdown",
   "metadata": {
    "slideshow": {
     "slide_type": "slide"
    }
   },
   "source": [
    "# <center><font color=\"blue\"> Variable Type Selection</font></center>\n",
    "### <font color=\"green\"> Slicing data berdasarkan Tipe sangat penting, karena visualisasi atau algoritma tertentu hanya untuk suatu tipe data tertentu juga.</font>\n",
    "    \n",
    "<center><img alt=\"\" src=\"images/pandas subsetting.png\" style=\"height: 250px;\" /></center>"
   ]
  },
  {
   "cell_type": "code",
   "execution_count": null,
   "metadata": {
    "ExecuteTime": {
     "end_time": "2019-09-30T01:01:49.539624Z",
     "start_time": "2019-09-30T01:01:49.524628Z"
    },
    "slideshow": {
     "slide_type": "slide"
    }
   },
   "outputs": [],
   "source": [
    "# Jika yang dibutuhkan memang hanya nama kolom, maka kita bisa melakukan hal ini untuk menghemat penggunaan memory\n",
    "numVar = price.select_dtypes(include = ['float64', 'int64']).columns\n",
    "\n",
    "numVar.to_list()"
   ]
  },
  {
   "cell_type": "code",
   "execution_count": null,
   "metadata": {
    "ExecuteTime": {
     "end_time": "2019-09-30T01:12:35.600749Z",
     "start_time": "2019-09-30T01:12:35.580328Z"
    },
    "slideshow": {
     "slide_type": "slide"
    }
   },
   "outputs": [],
   "source": [
    "# Memilih hanya variable dengan tipe tertentu\n",
    "numVar = price.select_dtypes(include = ['float64', 'int64'])\n",
    "numVar.head() # Perhatikan numVar adalah variable df baru! (hati-hati di data yang besar)"
   ]
  },
  {
   "cell_type": "code",
   "execution_count": null,
   "metadata": {
    "slideshow": {
     "slide_type": "slide"
    }
   },
   "outputs": [],
   "source": [
    "# Memilih hanya variable dengan tipe tertentu\n",
    "catVar = price.select_dtypes(include = ['category'])\n",
    "catVar.head(3)"
   ]
  },
  {
   "cell_type": "code",
   "execution_count": null,
   "metadata": {
    "slideshow": {
     "slide_type": "fragment"
    }
   },
   "outputs": [],
   "source": [
    "# get all unique values of a variable/column\n",
    "for col in catVar.columns:\n",
    "    print(col,': ', set(price[col].unique()))"
   ]
  },
  {
   "cell_type": "markdown",
   "metadata": {
    "slideshow": {
     "slide_type": "slide"
    }
   },
   "source": [
    "# <center><font color=\"blue\"> Memilih variabel-variabel di data secara manual</font></center>"
   ]
  },
  {
   "cell_type": "code",
   "execution_count": null,
   "metadata": {
    "ExecuteTime": {
     "end_time": "2019-09-30T01:01:49.488723Z",
     "start_time": "2019-09-30T01:01:49.473213Z"
    },
    "slideshow": {
     "slide_type": "fragment"
    }
   },
   "outputs": [],
   "source": [
    "# Choosing some columns manually\n",
    "X = price[['House_Price','Dist_Market']] # perhatikan ada 2 tanda kurung siku \"[[]]\"\n",
    "X.head(3)"
   ]
  },
  {
   "cell_type": "code",
   "execution_count": null,
   "metadata": {},
   "outputs": [],
   "source": [
    "# Slicing DataFrame - Just like query in SQL\n",
    "price[price[\"City_Category\"] == \"CAT B\"].drop(\"City_Category\", axis=1).head()"
   ]
  },
  {
   "cell_type": "code",
   "execution_count": null,
   "metadata": {
    "slideshow": {
     "slide_type": "slide"
    }
   },
   "outputs": [],
   "source": [
    "# Slicing DataFrame - Just like query in SQL\n",
    "price[price[\"Parking\"].isin([\"Open\",\"Covered\"])].head()"
   ]
  },
  {
   "cell_type": "markdown",
   "metadata": {
    "slideshow": {
     "slide_type": "slide"
    }
   },
   "source": [
    "<img alt=\"\" src=\"images/XII_desc_Stat.jpg\" style=\"height: 350px;\"/>\n",
    "\n",
    "### image source: http://writer.lk/portfolio-item/statistics/"
   ]
  },
  {
   "cell_type": "markdown",
   "metadata": {
    "slideshow": {
     "slide_type": "slide"
    }
   },
   "source": [
    "<center><img alt=\"\" src=\"images/central_Tendency.png\" style=\"height: 350px;\"/>"
   ]
  },
  {
   "cell_type": "markdown",
   "metadata": {
    "slideshow": {
     "slide_type": "slide"
    }
   },
   "source": [
    "# <center><font color=\"blue\"> Central Tendency is not enough</font></center>\n",
    "\n",
    "* Source: https://www.youtube.com/PeristiwaAlamAneh\n",
    "<center><video controls src=\"videos/The_Need_for_Data_Disperity_.MP4\" style=\"height: 400px;\"/></center>"
   ]
  },
  {
   "cell_type": "markdown",
   "metadata": {
    "slideshow": {
     "slide_type": "slide"
    }
   },
   "source": [
    "# <center><font color=\"blue\"> Keragaman Data</font></center>\n",
    "\n",
    "<img alt=\"\" src=\"images/Data_Dispersions.png\" style=\"height: 400px;\"/>"
   ]
  },
  {
   "cell_type": "code",
   "execution_count": null,
   "metadata": {
    "slideshow": {
     "slide_type": "slide"
    }
   },
   "outputs": [],
   "source": [
    "# Statistika Sederhana dari data \"Numerik\"-nya\n",
    "price.describe() # Ada variabel yang tidak ada?"
   ]
  },
  {
   "cell_type": "code",
   "execution_count": null,
   "metadata": {
    "ExecuteTime": {
     "end_time": "2019-09-30T01:10:41.657165Z",
     "start_time": "2019-09-30T01:10:41.616276Z"
    },
    "slideshow": {
     "slide_type": "slide"
    }
   },
   "outputs": [],
   "source": [
    "price.describe(include='all')"
   ]
  },
  {
   "cell_type": "markdown",
   "metadata": {
    "slideshow": {
     "slide_type": "slide"
    }
   },
   "source": [
    "# <center><font color=\"blue\"> Beberapa Catatan Statistika Deskriptif</font></center>\n",
    "\n",
    "* Modus tidak selalu ada\n",
    "* Kapan saat yang lebih tepat menggunakan Mean atau Median (outlier-wise)\n",
    "* Min/max dapat digunakan untuk mendeteksi Noise/Outlier\n",
    "* Perbedaan noise dan outlier hanya dapat dilakukan lewat domain/business knowledge.\n",
    "* Banyak literatur yang menyatakan outlier sebagai noise (outlier adalah subset/contoh noise).\n",
    "* Outlier/noise harus \"ditangani\" saat preprocessing.\n",
    "    \n",
    "<center><img alt=\"\" src=\"images/outlier vs noise.jpg\" style=\"height: 400px;\"/></center>"
   ]
  },
  {
   "cell_type": "markdown",
   "metadata": {
    "slideshow": {
     "slide_type": "slide"
    }
   },
   "source": [
    "# <center><font color=\"blue\"> Noisy (Big) Data</font></center>\n",
    "\n",
    "## <font color=\"green\"> Noise dapat terjadi karena:</font>\n",
    "  - Kesalahan instrumen pengukuran: Misal di alat IoT pada saat cuaca buruk/baterai yang lemah.\n",
    "  - Kesalahan input/entry\n",
    "  - Transmisi yang tidak sempurna\n",
    "  - inkonsistensi penamaan, dsb\n",
    "\n",
    "<img alt=\"\" src=\"images/noisy data.png\" style=\"height: 250px;\"/>"
   ]
  },
  {
   "cell_type": "markdown",
   "metadata": {
    "slideshow": {
     "slide_type": "slide"
    }
   },
   "source": [
    "# <center><font color=\"blue\"> Distribusi nilai pada setiap variabel kategorik</font></center>\n",
    "### <font color=\"green\"> Di module setelah ini kita akan menelaah lebih jauh lewat visualisasi</font>\n",
    "\n",
    "* Pada tahap ini tujuan melihat distribusi variabel kategorik adalah bagian dari preprocessing/data cleaning, yaitu memeriksa apakah ada noise di variabel kategorik (biasanya typo).\n",
    "* Jika variabel kategorik-nya adalah variabel target dan terjadi perbedaan proporsi yang mencolok maka tahap ini juga bermanfaat untuk mempersiapkan pemodelan imbalance learning pada tahap selanjutnya.\n",
    "* Dapat dilakukan via fungsi \"**value_counts**\" di Pandas atau Fungsi \"**Counter**\" di module Collections."
   ]
  },
  {
   "cell_type": "code",
   "execution_count": null,
   "metadata": {
    "ExecuteTime": {
     "end_time": "2019-09-30T01:01:49.521637Z",
     "start_time": "2019-09-30T01:01:49.512438Z"
    },
    "slideshow": {
     "slide_type": "slide"
    }
   },
   "outputs": [],
   "source": [
    "price['Parking'].value_counts()"
   ]
  },
  {
   "cell_type": "code",
   "execution_count": null,
   "metadata": {
    "slideshow": {
     "slide_type": "slide"
    }
   },
   "outputs": [],
   "source": [
    "from collections import Counter\n",
    "\n",
    "# Again: struktur data penting. Module Counter memberikan output dictionary yang biasanya lebih useful\n",
    "Counter(price['Parking'])"
   ]
  },
  {
   "cell_type": "markdown",
   "metadata": {
    "slideshow": {
     "slide_type": "slide"
    }
   },
   "source": [
    "# <center><font color=\"blue\"> Apa itu Outliers (pencilan)?</font></center>\n",
    "\n",
    "* Data yang memiliki karakteristik secara signifikan berbeda dengan kebanyakan data lainnya menurut suatu kriteria tertentu yang ditetapkan.\n",
    "* Datanya seringnya valid hanya seolah-olah berasal dari suatu mekanisme berbeda.\n",
    "* Bergantung konteks terkadang Outlier = Anomaly (interchangably), tapi ada beberapa literatur yang membedakan.\n",
    "\n",
    "<img alt=\"\" src=\"images/outlier definition.png\" style=\"height: 350px;\"/>"
   ]
  },
  {
   "cell_type": "markdown",
   "metadata": {
    "slideshow": {
     "slide_type": "slide"
    }
   },
   "source": [
    "<img alt=\"\" src=\"images/anomaly vs outlier.jpg\" style=\"height: 350px;\"/>\n",
    "    \n",
    "* https://www.senseon.io/blog/cyber-threats-evading-signatures-outlier-anomaly-or-both\n",
    "* Secara statistika: jika data diasumsikan berasal dari suatu distribusi outlier adalah data-data yang memiliki probability kecil.\n",
    "* Sedangkan anomaly: seolah-olah datanya berasal dari distribusi yang berbeda.\n",
    "* https://www.slideshare.net/ShantanuDeosthale/outlier-analysis-and-anomaly-detection"
   ]
  },
  {
   "cell_type": "markdown",
   "metadata": {
    "slideshow": {
     "slide_type": "slide"
    }
   },
   "source": [
    "# <center><font color=\"green\"> Diskusi: Contoh Anomali yang bukan outlier & Contoh Outlier yang bukan Anomali?</font></center>"
   ]
  },
  {
   "cell_type": "markdown",
   "metadata": {
    "slideshow": {
     "slide_type": "slide"
    }
   },
   "source": [
    "# <center><font color=\"blue\"> Outliers Sering Terjadi di Big Data</font></center>\n",
    "## <font color=\"green\"> Di dunia nyata data jarang berdistribusi Normal</font>\n",
    "\n",
    "<img alt=\"\" src=\"images/outliers_socMed.jpg\" style=\"height: 350px;\"/>"
   ]
  },
  {
   "cell_type": "markdown",
   "metadata": {
    "slideshow": {
     "slide_type": "slide"
    }
   },
   "source": [
    "# <center><font color=\"blue\"> Outlier(s) effect on model's performace</font></center>\n",
    "## <font color=\"green\">lalu apa yang sebaiknya dilakukan ke outliers?</font>\n",
    "\n",
    "<img alt=\"\" src=\"images/outlier_effect.png\" style=\"height: 300px;\"/>\n",
    "* https://medium.com/analytics-vidhya/effect-of-outliers-on-neural-networks-performance-ca1d9185dce9"
   ]
  },
  {
   "cell_type": "markdown",
   "metadata": {
    "slideshow": {
     "slide_type": "slide"
    }
   },
   "source": [
    "# <center><font color=\"blue\"> Berbagai Macam Algoritma untuk Mendeteksi Anomaly</font></center>\n",
    "\n",
    "### <font color=\"green\"> Kita akan membahas anomaly detection lebih detail di Module yang lain.</font>\n",
    "* Di Module ini hanya dibahas outlier detection untuk satu variable: Melalui Confident Interval dan BoxPlot (interquantile range).\n",
    "<img alt=\"\" src=\"images/anomaly_detection_methods.jpg\" style=\"height: 300px;\"/>\n",
    "* https://www.mdpi.com/2226-4310/6/11/117/htm"
   ]
  },
  {
   "cell_type": "markdown",
   "metadata": {
    "slideshow": {
     "slide_type": "slide"
    }
   },
   "source": [
    "# <center><font color=\"blue\">Asumsi kenormalan, Selang Kepercayaan, & Outlier</font></center>\n",
    "\n",
    "<img alt=\"\" src=\"images/XII_normal_CI.png\" style=\"height: 250px;\" />\n",
    "\n",
    "* Misal Selang Kepercayaan 95% = $\\bar{x}-2\\sigma\\leq X \\leq \\bar{x}+2\\sigma$ diluar selang ini dianggap sebagai outlier.\n",
    "* Misal Selang Kepercayaan 99% = $\\bar{x}-3\\sigma\\leq X \\leq \\bar{x}+3\\sigma$ diluar selang ini dianggap sebagai outlier.\n",
    "* Pakai yang mana di dunia nyata?"
   ]
  },
  {
   "cell_type": "code",
   "execution_count": null,
   "metadata": {
    "ExecuteTime": {
     "end_time": "2019-09-30T01:01:51.080385Z",
     "start_time": "2019-09-30T01:01:50.489391Z"
    },
    "slideshow": {
     "slide_type": "slide"
    }
   },
   "outputs": [],
   "source": [
    "# Distributions, kita mulai dengan import module untuk visualisasi\n",
    "import matplotlib.pyplot as plt, seaborn as sns\n",
    "plt.style.use('bmh'); sns.set() #style visualisasi\n",
    "\n",
    "p = sns.distplot(price['House_Price'], kde=True, rug=True)\n",
    "#Dari plot nampak adanya outlier dengan cukup jelas."
   ]
  },
  {
   "cell_type": "code",
   "execution_count": null,
   "metadata": {
    "ExecuteTime": {
     "end_time": "2019-09-30T01:26:35.471859Z",
     "start_time": "2019-09-30T01:26:35.465294Z"
    },
    "slideshow": {
     "slide_type": "slide"
    }
   },
   "outputs": [],
   "source": [
    "# Misal dengan asumsi data berdistribusi normal & menggunakan 95% confidence interval di sekitar variabel \"harga\"\n",
    "normal_data = abs(price.House_Price - price.House_Price.mean())<=(2*price.House_Price.std()) # mu-2s<x<mu+2s\n",
    "print(normal_data.shape, type(normal_data), set(normal_data))\n",
    "Counter(normal_data)"
   ]
  },
  {
   "cell_type": "code",
   "execution_count": null,
   "metadata": {
    "scrolled": false,
    "slideshow": {
     "slide_type": "slide"
    }
   },
   "outputs": [],
   "source": [
    "price2 = price[normal_data] # Data tanpa outlier harga\n",
    "print(price2.shape, price.shape)\n",
    "# Perhatikan disini sengaja data yang telah di remove outliernya \n",
    "# disimpan dalam variabel baru \"Price2\"\n",
    "# Jika datanya besar hati-hati melakukan hal ini"
   ]
  },
  {
   "cell_type": "code",
   "execution_count": null,
   "metadata": {
    "ExecuteTime": {
     "end_time": "2019-09-30T01:01:51.627698Z",
     "start_time": "2019-09-30T01:01:51.143217Z"
    },
    "slideshow": {
     "slide_type": "slide"
    }
   },
   "outputs": [],
   "source": [
    "# Distributions\n",
    "p = sns.distplot(price2['House_Price'], kde=True, rug=True)"
   ]
  },
  {
   "cell_type": "markdown",
   "metadata": {
    "slideshow": {
     "slide_type": "slide"
    }
   },
   "source": [
    "# <center><font color=\"blue\">Boxplot & Outlier</font></center>\n",
    "\n",
    "<img alt=\"\" src=\"images/outlier_boxplot.png\" style=\"height: 250px;\" />\n",
    "\n",
    "* Tidak ada asumsi distribusi (normal)\n",
    "* Lower Extreme kurang dari: $Q_1 - 1.5(Q_3-Q_1)$  Upper Extreme lebih dari: $Q_3 + 1.5(Q_3-Q_1)$"
   ]
  },
  {
   "cell_type": "code",
   "execution_count": null,
   "metadata": {
    "slideshow": {
     "slide_type": "slide"
    }
   },
   "outputs": [],
   "source": [
    "# Jika ada outlier grafiknya menjadi tidak jelas (data = price, bukan price2)\n",
    "# Insight yang di dapat akan salah atau bahkan tidak mendapat insight sama sekali\n",
    "p = sns.boxplot(x=\"House_Price\", data=price)"
   ]
  },
  {
   "cell_type": "code",
   "execution_count": null,
   "metadata": {
    "scrolled": true,
    "slideshow": {
     "slide_type": "slide"
    }
   },
   "outputs": [],
   "source": [
    "Q1 = price['House_Price'].quantile(0.25)\n",
    "Q3 = price['House_Price'].quantile(0.75)\n",
    "IQR = Q3 - Q1 #IQR is interquartile range. \n",
    "print(\"Q1={}, Q3={}, IQR={}\".format(Q1, Q3, IQR))\n",
    "\n",
    "#outliers_bawah = (price['House_Price'] < (Q1 - 1.5 *IQR)) # Outlier bawah\n",
    "#outliers_atas = (price['House_Price'] > (Q3 + 1.5 *IQR)) # Outlier atas\n",
    "#rumah_murah = price.loc[outliers_bawah]\n",
    "#rumah_kemahalan = price.loc[outliers_atas]\n",
    "\n",
    "no_outlier = (price['House_Price'] >= Q1 - 1.5 * IQR) & (price['House_Price'] <= Q3 + 1.5 *IQR)\n",
    "price3 = price[no_outlier]\n",
    "print(price3.shape)\n",
    "price3.head()"
   ]
  },
  {
   "cell_type": "markdown",
   "metadata": {
    "slideshow": {
     "slide_type": "slide"
    }
   },
   "source": [
    "# <center><font color=\"green\"> Diskusi: Bilamana menggunakan CI dan bilamana menggunakan BoxPlot?</font></center>"
   ]
  },
  {
   "cell_type": "markdown",
   "metadata": {
    "slideshow": {
     "slide_type": "slide"
    }
   },
   "source": [
    "# <center><font color=\"blue\">Removing Duplicate Data</font></center>\n",
    "\n",
    "<img alt=\"\" src=\"images/XII_Duplicate-Data.png\" style=\"height: 200px;\" />\n",
    "\n",
    "* Banyak di temukan di sistem Big Data.\n",
    "* mempengaruhi model dan analisa yang berdasarkan frekuensi.\n",
    "* Terkadang kita sengaja membuat duplikasi (misal pada kasus imbalanced learning).\n",
    "\n",
    "image source: http://www.dagdoo.org/excel-learning/power-query/"
   ]
  },
  {
   "cell_type": "code",
   "execution_count": null,
   "metadata": {
    "slideshow": {
     "slide_type": "slide"
    }
   },
   "outputs": [],
   "source": [
    "# mengecek apakah ada duplikat data sangatlah mudah menggunakan Pandas\n",
    "# Bayangkan jika menggunakan Excel.\n",
    "print(price.shape)\n",
    "print(\"jumlah data yang duplikat\", price.duplicated().sum()) \n",
    "price[price.duplicated() == True]\n",
    "# Perhatikan kalau sebelumnya kita tidak \"Drop\" var observasi, \n",
    "# maka kita tidak akan mendapatkan duplikasi dengan cara ini.\n",
    "# Apakah 4 duplikat termasuk \"original data\""
   ]
  },
  {
   "cell_type": "code",
   "execution_count": null,
   "metadata": {
    "slideshow": {
     "slide_type": "slide"
    }
   },
   "outputs": [],
   "source": [
    "# Kita juga bisa mencari duplikat hanya berdasarkan kolom-kolom tertentu saja\n",
    "price[price.duplicated(subset=['City_Category', \"House_Price\"])].head()"
   ]
  },
  {
   "cell_type": "code",
   "execution_count": null,
   "metadata": {
    "slideshow": {
     "slide_type": "slide"
    }
   },
   "outputs": [],
   "source": [
    "#menghapus entri yang memiliki data duplikat \n",
    "price.drop_duplicates(keep=\"first\", inplace=True)\n",
    "print(price.duplicated().sum()) # no more duplicates\n",
    "print(price.shape) # re-check by printing data size"
   ]
  },
  {
   "cell_type": "markdown",
   "metadata": {
    "slideshow": {
     "slide_type": "slide"
    }
   },
   "source": [
    "# <center><font color=\"blue\">Missing Values</font></center>\n",
    "    \n",
    "Salah satu proses dalam data preprocessing adalah mengidentifikasi dan menangani *missing value*, apa itu *missing value*? *Missing value* adalah istilah untuk data yang hilang\n",
    "\n",
    "<img alt=\"\" src=\"images/dt_excel.png\" style=\"height: 200px;\" />\n",
    "\n",
    "## <font color=\"green\">Penyebab Missing Value</font>\n",
    "*   Error pada *data entry*, baik itu *human error*, kesalahan pada sistem, atau hardware/software fault.\n",
    "*   Pada data survey/kuesioner, bisa disebabkan oleh responden yang lupa mengisi pertanyaan, pertanyaan yang sulit dimengerti, ataupun pertanyaan enggan diisi karena merupakan pertanyaan yang sensitif\n",
    "* permasalahan yang dihadapi pada data di dunia nyata adalah, terkadang penandaan untuk mengatakan bahwa data tersebut *missing* sangat beragam, bisa ditulis ‘?’ (tanda tanya), bisa ditulis ‘-‘ (strip), bisa suatu bilangan yang sangat besar atau sangat kecil (misal 99 atau -999), di kosongkan, NaN, dsb.\n",
    "### <font color=\"green\">Langkah pertama penanganan MV adalah dengan melakukan EDA, terutama mengetahui berapa banyak proporsi data yang Missing.</font>"
   ]
  },
  {
   "cell_type": "markdown",
   "metadata": {
    "slideshow": {
     "slide_type": "slide"
    }
   },
   "source": [
    "# <center><font color=\"blue\"> Tipe Missing Value</font></center>\n",
    "<font color=\"green\">Langkah kedua penanganan MV adalah meneliti bagaimana MV terdistribusi (tipe MV).</font>\n",
    "<img alt=\"\" src=\"images/Missing value analysis mva.jpeg\" style=\"height: 200px;\" />\n",
    "\n",
    "* **MCAR**: Data hilang secara acak, dan tidak berkaitan dengan variabel/mekanisme apapun.\n",
    "    - **Contoh**: Beberapa peserta workshop tidak hadir karena alasan masing-masing dan mereka tidak saling berkomunikasi.\n",
    "\n",
    "* **MAR**: Terdapat hubungan sistematis antara kecenderungan data yang missing dan yang tidak missing, \"tapi tidak dengan (harapan nilai) missing value itu sendiri\". \n",
    "    - **Contoh**: Karena akhir tahun & banyak deadline, sehingga banyak karyawan yang memilih mengerjakan laporan ketimbang ikut workshop.\n",
    "\n",
    "* **MNAR**: Terdapat hubungan sistematis antara kecenderungan data yang missing dan yang tidak missing, dan juga dengan (harapan nilai) missing value itu sendiri.\n",
    "    - **Contoh**: Siswa yang memiliki orang tua dengan penghasilan dibawah rata-rata akan lebih sungkan mengisi form yang menanyakan penghasilan orang tua. Apalagi kalau jawabannya harus berupa angka eksak (bukan pilihan berupa interval). Pada siatuasi ini tidak hanya data berpotensi missing, tapi juga berpotensi untuk menurunkan kualitas data (siswa berbohong).\n",
    "* **Statistic Test**: Terdapat uji statistik untuk MNAR, namun bahasan ini diluar scope workshop (pendahuluan). Namun MNAR juga dapat diketahui dari domain/business knowledge. https://towardsdatascience.com/statistical-test-for-mcar-in-python-9fb617a76eac\n",
    "    \n",
    "### <font color=\"green\">Langkah ketiga adalah menangani MV.</font>"
   ]
  },
  {
   "cell_type": "markdown",
   "metadata": {
    "slideshow": {
     "slide_type": "slide"
    }
   },
   "source": [
    "# <center><font color=\"blue\"> Missing Values Treatment 01: Deletion</font></center>\n",
    "\n",
    "* Jika data yang missing sedikit \"dan\" tidak terlalu berharga, biasanya relatif aman untuk tidak mengikutsertakan data tersebut dalam proses pengolahan data selanjutnya.\n",
    "* Jika suatu variabel memiliki terlalu banyak missing value, secara umum juga aman untuk tidak mengikutsertakan data tersebut dalam proses pengolahan data selanjutnya.\n",
    "* Terdapat beberapa cara dalam menghapus data:\n",
    "    - **Listwise Deletion**: menghapus baris/record yang mempunyai satu atau lebih *missing* di suatu variabelnya.\n",
    "\n",
    "<img alt=\"\" src=\"images/mv_all.png\" style=\"height: 150px;\"/>\n",
    "\n",
    "    - **Pairwise Deletion**: menghapus *missing value* dengan memperhatikan variabel-variabel yang ingin digunakan. misal kita ingin mencari korelasi antara **variabel A** dan **variabel B**, maka kita hanya perlu menghapus baris yang bersesuaian tersebut.\n",
    "\n",
    "<img alt=\"\" src=\"images/mv_part.png\" style=\"height: 150px;\"/>"
   ]
  },
  {
   "cell_type": "markdown",
   "metadata": {
    "slideshow": {
     "slide_type": "slide"
    }
   },
   "source": [
    "# <center><font color=\"blue\"> Missing Values Treatment 02: Mengabaikan missing value</font></center>\n",
    "\n",
    "* Beberapa algoritma machine learning atau metode analisis lainnya memiliki kemampuan internal model/algoritma untuk  menangani missing value, contohnya adalah decision tree, k-Nearest Neighbors (k-NN), Neural network yang dapat mengimputasi sendiri missing value pada data.\n",
    "\n",
    "* Ataupun jika ada beberapa kolom yang tidak memberikan informasi apa apa, kita dapat membiarkan missing value ada di kolom tersebut karena kolom tersebut pun tidak memberikan informasi yang signifikan, contohnya adalah nomor tiket pada data penerbangan, kita tidak perlu sulit-sulit memikirkan bagaimana cara mengimputasi kolom tersebut. Cukup drop kolom tersebut."
   ]
  },
  {
   "cell_type": "markdown",
   "metadata": {
    "slideshow": {
     "slide_type": "slide"
    }
   },
   "source": [
    "# <center><font color=\"blue\"> Missing Values Treatment 03: Imputasi</font></center>\n",
    "\n",
    "<img alt=\"\" src=\"images/mv_flowchart.png\" style=\"height: 400px;\" />\n",
    "* Selain yang ada di gambar masih banyak teknik lain, termasuk menggunakan model/algoritma untuk melakukan prediksi pada kolom yang tidak memiliki nilai (missing).\n",
    "    \n",
    "Sumber gambar : https://towardsdatascience.com/how-to-handle-missing-data-8646b18db0d4    "
   ]
  },
  {
   "cell_type": "markdown",
   "metadata": {
    "slideshow": {
     "slide_type": "slide"
    }
   },
   "source": [
    "# <center><font color=\"blue\"> Pandas & Missing Value Treatments</font></center>\n",
    "\n",
    "* MVA sangat dalam, pada module ini hanya akan dibahas teknik sederhana.\n",
    "* tidak ada metode yang terbaik dalam menghandle missing value, biasanya \"case-by-case\".\n",
    "* Di Module ini kita akan menggunakan beberapa fungsi di Pandas untuk menangani missing values.\n",
    "* https://pandas.pydata.org/pandas-docs/stable/user_guide/missing_data.html\n",
    "* Nilai-nilai berikut dianggap missing oleh Pandas. Apa konsekuensinya?\n",
    "    \n",
    "<img alt=\"\" src=\"images/pd_nulls.png\" style=\"height: 150px;\"/>"
   ]
  },
  {
   "cell_type": "code",
   "execution_count": null,
   "metadata": {
    "ExecuteTime": {
     "end_time": "2019-09-30T01:47:26.285880Z",
     "start_time": "2019-09-30T01:47:26.278337Z"
    },
    "slideshow": {
     "slide_type": "fragment"
    }
   },
   "outputs": [],
   "source": [
    "# General Look at the Missing Values\n",
    "print(price2.isnull().sum())"
   ]
  },
  {
   "cell_type": "code",
   "execution_count": null,
   "metadata": {
    "slideshow": {
     "slide_type": "slide"
    }
   },
   "outputs": [],
   "source": [
    "(price2.isnull().sum()/len(price2)*100).to_frame('persentase missing')"
   ]
  },
  {
   "cell_type": "markdown",
   "metadata": {
    "slideshow": {
     "slide_type": "slide"
    }
   },
   "source": [
    "# <center><font color=\"blue\"> Gambaran yang Lebih baik tentang MV <br>(terutama di Big Data)</font></center>"
   ]
  },
  {
   "cell_type": "code",
   "execution_count": null,
   "metadata": {
    "slideshow": {
     "slide_type": "fragment"
    }
   },
   "outputs": [],
   "source": [
    "sns.heatmap(price2.isnull(), cbar=False)\n",
    "plt.title('Heatmap Missing Value')\n",
    "plt.show()"
   ]
  },
  {
   "cell_type": "code",
   "execution_count": null,
   "metadata": {
    "ExecuteTime": {
     "end_time": "2019-09-30T01:47:04.499900Z",
     "start_time": "2019-09-30T01:47:04.469605Z"
    },
    "slideshow": {
     "slide_type": "slide"
    }
   },
   "outputs": [],
   "source": [
    "# Simplest solution, if the MV is not a lot\n",
    "# drop rows with missing values : Ada berbagai cara\n",
    "X = price.dropna() # jika ada MV minimal satu di salah satu kolom, maka baris di hapus\n",
    "price2.dropna(how='all') # jika ada MV di semua kolom, maka baris di hapus\n",
    "price2.dropna(thresh=2) # jika ada MV minimal di salah 2 kolom, maka baris di hapus\n",
    "price2.dropna(subset=['Dist_Hospital'])[:7] # jika ada MV minimal satu di salah kolom Dist_Hospital\n",
    "# inplace=True if really really sure\n",
    "price2.dropna(inplace=True)"
   ]
  },
  {
   "cell_type": "code",
   "execution_count": null,
   "metadata": {
    "scrolled": true,
    "slideshow": {
     "slide_type": "fragment"
    }
   },
   "outputs": [],
   "source": [
    "# memeriksa apakah Missing value-nya sudah tidak ada.\n",
    "print(price2.isnull().sum())"
   ]
  },
  {
   "cell_type": "markdown",
   "metadata": {
    "slideshow": {
     "slide_type": "slide"
    }
   },
   "source": [
    "# <center><font color=\"blue\"> Teknik Imputasi Dasar Missing Values</font></center>"
   ]
  },
  {
   "cell_type": "code",
   "execution_count": null,
   "metadata": {
    "slideshow": {
     "slide_type": "fragment"
    }
   },
   "outputs": [],
   "source": [
    "# Sebagai ilustrasi Kita akan menggunakan variabel \"Price\" (bukan Price2)\n",
    "print(price.isnull().sum())"
   ]
  },
  {
   "cell_type": "code",
   "execution_count": null,
   "metadata": {
    "slideshow": {
     "slide_type": "slide"
    }
   },
   "outputs": [],
   "source": [
    "# Misal di imputasi dengan rata-rata\n",
    "price[\"Dist_Taxi\"].fillna(price[\"Dist_Taxi\"].mean(), inplace = True)\n",
    "print(price.isnull().sum())"
   ]
  },
  {
   "cell_type": "code",
   "execution_count": null,
   "metadata": {
    "slideshow": {
     "slide_type": "slide"
    }
   },
   "outputs": [],
   "source": [
    "# Misal MV di var kategori di imputasi dengan modus\n",
    "price['Dist_Taxi'].fillna(price['Dist_Taxi'].mode()[0], inplace=True)\n",
    "print(price.isnull().sum()) \n",
    "# tapi di contoh data ini di var kategori tidak ada MV"
   ]
  },
  {
   "cell_type": "markdown",
   "metadata": {
    "slideshow": {
     "slide_type": "slide"
    }
   },
   "source": [
    "# <center><font color=\"green\"> Diskusi/Latihan: Bagaimana cara imputasi MV numerik dengan Median?</font></center>"
   ]
  },
  {
   "cell_type": "markdown",
   "metadata": {
    "slideshow": {
     "slide_type": "slide"
    }
   },
   "source": [
    "# <center><font color=\"blue\"> Dasar Wrangling Variabel Kategorik</font></center>\n",
    "<center><img alt=\"\" src=\"images/label-one hot encoding.png\" style=\"height: 300px;\"/></center>"
   ]
  },
  {
   "cell_type": "markdown",
   "metadata": {
    "slideshow": {
     "slide_type": "slide"
    }
   },
   "source": [
    "# Label Encoder (Lebih bermanfaat untuk database/IS)"
   ]
  },
  {
   "cell_type": "code",
   "execution_count": null,
   "metadata": {
    "slideshow": {
     "slide_type": "fragment"
    }
   },
   "outputs": [],
   "source": [
    "from sklearn.preprocessing import LabelEncoder\n",
    "\n",
    "price['Parking_encoded'] = LabelEncoder().fit_transform(price['Parking'])\n",
    "price[['Parking', 'Parking_encoded']].head(7)"
   ]
  },
  {
   "cell_type": "markdown",
   "metadata": {
    "slideshow": {
     "slide_type": "slide"
    }
   },
   "source": [
    "# One-Hot-Encoding"
   ]
  },
  {
   "cell_type": "code",
   "execution_count": null,
   "metadata": {
    "ExecuteTime": {
     "end_time": "2019-09-30T01:16:09.012894Z",
     "start_time": "2019-09-30T01:16:08.995362Z"
    },
    "slideshow": {
     "slide_type": "fragment"
    }
   },
   "outputs": [],
   "source": [
    "df = pd.get_dummies(price['Parking'], prefix='Park')\n",
    "df.head()"
   ]
  },
  {
   "cell_type": "code",
   "execution_count": null,
   "metadata": {
    "slideshow": {
     "slide_type": "slide"
    }
   },
   "outputs": [],
   "source": [
    "price[['Parking']].head()"
   ]
  },
  {
   "cell_type": "markdown",
   "metadata": {
    "slideshow": {
     "slide_type": "slide"
    }
   },
   "source": [
    "# Menggabungkan dengan data awal (concat)"
   ]
  },
  {
   "cell_type": "code",
   "execution_count": null,
   "metadata": {
    "slideshow": {
     "slide_type": "fragment"
    }
   },
   "outputs": [],
   "source": [
    "df2 = pd.concat([price, df], axis = 1)\n",
    "df2.head().transpose() \n",
    "# gunakan transpose pada data berdimensi tinggi"
   ]
  },
  {
   "cell_type": "markdown",
   "metadata": {
    "slideshow": {
     "slide_type": "slide"
    }
   },
   "source": [
    "# Saving (preprocessed) Data"
   ]
  },
  {
   "cell_type": "code",
   "execution_count": null,
   "metadata": {
    "ExecuteTime": {
     "end_time": "2019-09-30T01:02:14.552127Z",
     "start_time": "2019-09-30T01:02:14.509242Z"
    },
    "slideshow": {
     "slide_type": "fragment"
    }
   },
   "outputs": [],
   "source": [
    "# Saving the preprocessed Data for future use/analysis\n",
    "price2.to_csv(\"data/price_PreProcessed.csv\", encoding='utf8', index=False)"
   ]
  },
  {
   "cell_type": "markdown",
   "metadata": {
    "slideshow": {
     "slide_type": "slide"
    }
   },
   "source": [
    "# <center><font color=\"blue\"> Data di ML/AI sering memuat data dengan informasi waktu</font></center>\n",
    "\n",
    "* Data sensor di database, Media Sosial, log, artikel website, sensor, dsb.\n",
    "* Sayangnya penulisan informasi waktu tidak seragam.\n",
    "\n",
    "<center><img alt=\"\" src=\"images/dateTime_Formats.png\" style=\"height: 300px;\"/></center>"
   ]
  },
  {
   "cell_type": "markdown",
   "metadata": {
    "slideshow": {
     "slide_type": "slide"
    }
   },
   "source": [
    "# <center><font color=\"blue\"> DateTime Universal Codes</font></center>\n",
    "\n",
    "<center><img alt=\"\" src=\"images/dateTime_Formats_Codes.png\" style=\"height: 400px;\"/></center>\n",
    "\n",
    "Very Good Reference: https://www.foragoodstrftime.com/"
   ]
  },
  {
   "cell_type": "code",
   "execution_count": null,
   "metadata": {
    "slideshow": {
     "slide_type": "fragment"
    }
   },
   "outputs": [],
   "source": [
    "# Variabel Date-Time\n",
    "from datetime import datetime\n",
    "# %a %b %d %l %m %M %z %Y https://www.foragoodstrftime.com/\n",
    "d1 = datetime.strptime('Jun 1 2005  1:33PM', '%b %d %Y %I:%M%p')\n",
    "d2 = datetime.strptime('Jun 1 2004  1:33PM', '%b %d %Y %I:%M%p')\n",
    "print(d1.day, d2.month, d1>d2)"
   ]
  },
  {
   "cell_type": "code",
   "execution_count": null,
   "metadata": {
    "slideshow": {
     "slide_type": "slide"
    }
   },
   "outputs": [],
   "source": [
    "# Rubah Teks ke DateTime Format \n",
    "from datetime import datetime\n",
    "# %a %b %d %l %m %M %z %Y https://www.foragoodstrftime.com/\n",
    "d1 = datetime.strptime('Apr 28 2021  1:33PM', '%b %d %Y %I:%M%p')\n",
    "d2 = datetime.strptime('Jun 1 2004  1:33PM', '%b %d %Y %I:%M%p')\n",
    "d1"
   ]
  },
  {
   "cell_type": "code",
   "execution_count": null,
   "metadata": {
    "slideshow": {
     "slide_type": "slide"
    }
   },
   "outputs": [],
   "source": [
    "# weekday 0=Senin, 1=Selasa, 2=Rabu, ... dst\n",
    "d1.minute, d1.hour, d1.weekday(), d1.day, d1.month, d1.year"
   ]
  },
  {
   "cell_type": "code",
   "execution_count": null,
   "metadata": {
    "slideshow": {
     "slide_type": "slide"
    }
   },
   "outputs": [],
   "source": [
    "hari_ = {0:\"Senin\", 1:\"Selasa\", 2:\"Rabu\", 3:\"Kamis\", 4:\"Jumat\", 5:\"Sabtu\", 6:\"Minggu\"}\n",
    "hari_[d1.weekday()]"
   ]
  },
  {
   "cell_type": "markdown",
   "metadata": {
    "slideshow": {
     "slide_type": "slide"
    }
   },
   "source": [
    "### Hari/Saat ini?"
   ]
  },
  {
   "cell_type": "code",
   "execution_count": null,
   "metadata": {
    "slideshow": {
     "slide_type": "fragment"
    }
   },
   "outputs": [],
   "source": [
    "datetime.today().strftime('%Y-%m-%d ~ %H:%M:%S')"
   ]
  },
  {
   "cell_type": "markdown",
   "metadata": {
    "slideshow": {
     "slide_type": "slide"
    }
   },
   "source": [
    "### Operasi pada variabel datetime"
   ]
  },
  {
   "cell_type": "code",
   "execution_count": null,
   "metadata": {
    "slideshow": {
     "slide_type": "slide"
    }
   },
   "outputs": [],
   "source": [
    "# Mana yang lebih dahulu\n",
    "d1 = datetime.strptime('Apr 28 2021  1:33PM', '%b %d %Y %I:%M%p')\n",
    "d2 = datetime.strptime('Apr 27 2021  1:33PM', '%b %d %Y %I:%M%p')\n",
    "\n",
    "d1<d2, d1>d2, d1==d2, d1<=d2"
   ]
  },
  {
   "cell_type": "code",
   "execution_count": null,
   "metadata": {
    "slideshow": {
     "slide_type": "slide"
    }
   },
   "outputs": [],
   "source": [
    "# Menjumlahkan waktu: Contoh kasus Google Map/Ojol\n",
    "import datetime as dm # ==> hati-hati disini!!!...import lagi\n",
    "\n",
    "d3 = d1 + dm.timedelta( days=1, seconds=10, microseconds=88, milliseconds=100, minutes=33, hours=8, weeks=9 ) \n",
    "# days, seconds, then other fields.\n",
    "print(d1)\n",
    "print(d3)"
   ]
  },
  {
   "cell_type": "markdown",
   "metadata": {
    "slideshow": {
     "slide_type": "slide"
    }
   },
   "source": [
    "### Konsekuensi dari DateTime ==> Sekarang kita bisa mengurutkan dengan benar"
   ]
  },
  {
   "cell_type": "code",
   "execution_count": null,
   "metadata": {
    "slideshow": {
     "slide_type": "slide"
    }
   },
   "outputs": [],
   "source": [
    "Waktu = [d3, d2, d1]\n",
    "print(Waktu)\n",
    "Waktu.sort() # Hati-hati di Python (base) ini automatis \"inplace\"\n",
    "print(Waktu)"
   ]
  },
  {
   "cell_type": "markdown",
   "metadata": {
    "slideshow": {
     "slide_type": "slide"
    }
   },
   "source": [
    "### Datetime di Pandas\n",
    "\n",
    "* Akan dibahas lebih detail di module selanjutnya."
   ]
  },
  {
   "cell_type": "code",
   "execution_count": null,
   "metadata": {
    "slideshow": {
     "slide_type": "fragment"
    }
   },
   "outputs": [],
   "source": [
    "file_ = 'data/stock_data.csv'\n",
    "\n",
    "try: # Running Locally, yakinkan \"file_\" berada di folder \"data\"\n",
    "    df = pd.read_csv(file_, error_bad_lines=False, low_memory = False, encoding='utf8')\n",
    "except: # Running in Google Colab\n",
    "    !mkdir data\n",
    "    !wget -P data/ https://raw.githubusercontent.com/taudata-indonesia/eLearning/master/data/stock_data.csv\n",
    "    df = pd.read_csv(file_, error_bad_lines=False, low_memory = False, encoding='utf8')\n",
    "\n",
    "print(df.shape)\n",
    "df.head()"
   ]
  },
  {
   "cell_type": "code",
   "execution_count": null,
   "metadata": {
    "slideshow": {
     "slide_type": "slide"
    }
   },
   "outputs": [],
   "source": [
    "# Penting untuk cek Tipe Data Dataframe\n",
    "# Perhatikan disini tipe data \"Date\" masih berupa string!!!....\n",
    "df.info()"
   ]
  },
  {
   "cell_type": "code",
   "execution_count": null,
   "metadata": {
    "slideshow": {
     "slide_type": "slide"
    }
   },
   "outputs": [],
   "source": [
    "# Perhatikan sekarang \"Date\" tidak lagi berupa variable, tapi merupakan index bagi dataframenya\n",
    "df = pd.read_csv(file_, parse_dates=True, index_col = \"Date\", error_bad_lines=False, low_memory = False)\n",
    "df.info()"
   ]
  },
  {
   "cell_type": "code",
   "execution_count": null,
   "metadata": {
    "slideshow": {
     "slide_type": "slide"
    }
   },
   "outputs": [],
   "source": [
    "df.head()"
   ]
  },
  {
   "cell_type": "code",
   "execution_count": null,
   "metadata": {
    "slideshow": {
     "slide_type": "slide"
    }
   },
   "outputs": [],
   "source": [
    "# Karena kita gunakan waktu sebagai index, maka kita bisa mudah dalam melakukan \"slice\" ke data\n",
    "df.loc['2009'].head()"
   ]
  },
  {
   "cell_type": "code",
   "execution_count": null,
   "metadata": {},
   "outputs": [],
   "source": [
    "# Summary dari Preprocessing yang kita lakukan di Module 03\n",
    "\n",
    "file_ = 'data/price.csv'\n",
    "try: # Running Locally, yakinkan \"file_\" berada di folder \"data\"\n",
    "    price = pd.read_csv(file_, error_bad_lines=False, low_memory = False, encoding='utf8')\n",
    "except: # Running in Google Colab\n",
    "    !mkdir data\n",
    "    !wget -P data/ https://raw.githubusercontent.com/taudata-indonesia/eLearning/master/data/price.csv\n",
    "    price = pd.read_csv(file_, error_bad_lines=False, low_memory = False, encoding='utf8')\n",
    "    \n",
    "price.drop(\"Observation\", axis=1, inplace=True)\n",
    "price.drop_duplicates(inplace=True)\n",
    "price['Parking'] = price['Parking'].astype('category')\n",
    "price['City_Category'] = price['City_Category'].astype('category')\n",
    "price = price[np.abs(price.House_Price - price.House_Price.mean())<=(2*price.House_Price.std())]\n",
    "price.dropna(how='all', inplace=True)\n",
    "\n",
    "N, P = price.shape # Ukuran Data\n",
    "print('baris = ', N, ', Kolom (jumlah variabel) = ', P)\n",
    "print(\"Tipe Variabe df = \", type(price))\n",
    "price.head()"
   ]
  },
  {
   "cell_type": "markdown",
   "metadata": {},
   "source": [
    "# <center><font color=\"blue\"> Akhir Modul 03 - Exploratory Data Analysis ~ Preprocessing</font></center>\n",
    "\n",
    "<hr />\n",
    "<img alt=\"\" src=\"images/meme-cartoon/6_ML_Class.jpg\" style=\"height: 400px;\"/>"
   ]
  }
 ],
 "metadata": {
  "celltoolbar": "Slideshow",
  "kernelspec": {
   "display_name": "Python 3",
   "language": "python",
   "name": "python3"
  },
  "language_info": {
   "codemirror_mode": {
    "name": "ipython",
    "version": 3
   },
   "file_extension": ".py",
   "mimetype": "text/x-python",
   "name": "python",
   "nbconvert_exporter": "python",
   "pygments_lexer": "ipython3",
   "version": "3.6.13"
  },
  "latex_envs": {
   "LaTeX_envs_menu_present": true,
   "autoclose": false,
   "autocomplete": true,
   "bibliofile": "biblio.bib",
   "cite_by": "apalike",
   "current_citInitial": 1,
   "eqLabelWithNumbers": true,
   "eqNumInitial": 1,
   "hotkeys": {
    "equation": "Ctrl-E",
    "itemize": "Ctrl-I"
   },
   "labels_anchors": false,
   "latex_user_defs": false,
   "report_style_numbering": false,
   "user_envs_cfg": false
  }
 },
 "nbformat": 4,
 "nbformat_minor": 4
}
