{
 "cells": [
  {
   "cell_type": "markdown",
   "metadata": {
    "slideshow": {
     "slide_type": "slide"
    }
   },
   "source": [
    "# <center><font color=\"green\"> https://bit.ly/ptpjb-2021-03</font><br><font color=\"blue\">03 - Exploratory Data Analysis (EDA) ~ Preprocessing</font></center>\n",
    "\n",
    "<center><img alt=\"\" src=\"images/cover_ptpjb_2021.png\"/></center> \n",
    "\n",
    "## <center><font color=\"blue\">tau-data Indonesia</font><br>(C) Taufik Sutanto - 2021</center>\n",
    "<center><a href=\"https://tau-data.id\">https://tau-data.id</a> ~ <a href=\"mailto:taufik@tau-data.id\">taufik@tau-data.id</a></center>"
   ]
  },
  {
   "cell_type": "markdown",
   "metadata": {
    "slideshow": {
     "slide_type": "slide"
    }
   },
   "source": [
    "# <center><font color=\"blue\"> Outline Exploratory Data Analysis (EDA) ~ Preprocessing</font></center>\n",
    "\n",
    "* Pendahuluan Exploratory Data Analysis (EDA)\n",
    "* Business & Data Understanding\n",
    "* Penjelasan umum Data Preprocessing\n",
    "* Loading/Import Data\n",
    "    * Dictionary or List to Pandas Dataframe\n",
    "    * Import CSV dan Excel to Dataframe\n",
    "    * Show data (head, tail, sample, transpose)\n",
    "    * Data Types & Information\n",
    "* Basic (Descriptive) Statistics & Why it is so important\n",
    "* Preprocessing data\n",
    " * Drop Row & Columns\n",
    " * Detecting & Dealing with Noise\n",
    " * Detecting & Dealing with 1D outliers\n",
    " * Detecting & Dealing with Duplicates\n",
    "* Missing Values\n",
    " * Missing Values Detection & treatments\n",
    " * Missing at Random (MaR)\n",
    " * Basic Imputation\n",
    "* Dealing with Categorical Data\n",
    " * Dummy Variables/One-hot-Encoding\n",
    "* Writing Preprocessed Data\n",
    "* Dealing with Time Data\n",
    "    * With DateTime module\n",
    "    * With Pandas"
   ]
  },
  {
   "cell_type": "markdown",
   "metadata": {
    "slideshow": {
     "slide_type": "slide"
    }
   },
   "source": [
    "# <center><font color=\"blue\">  Pendahuluan EDA</font></center>\n",
    "\n",
    "* EDA bagaikan jiwa bagi semua proses analisa data. Kemampuan untuk melakukan EDA dengan baik adalah syarat dasar utama bagi seluruh profesi yang terkait dengan pengolahan data, baik itu business intelligence, data analyst, data scientist, AI Engineer, dan sebagainya. \n",
    "* EDA juga menjadi tahapan awal dari kebanyakan proses analisa data dan menjadi suatu tahapan yang amat menentukan seberapa baik analisa data maupun pemodelan selanjutnya akan dihasilkan (prediksi/forecasting).\n",
    "* Komponen EDA meliputi preprocessing, perhitungan berbagai nilai statistik dasar, visualisasi, penyusunan hipotesis (dugaan awal), pemeriksaan asumsi, hingga story-telling dan reporting. Di dalamnya juga termasuk proses penanganan missing values, outlier, reduksi dimensi, pengelompokkan, transformasi dan distribusi data.\n",
    "* Tools: Python (Pandas), R, S-Plus, etc\n",
    "    \n",
    "<center><img alt=\"\" src=\"images/edamethods.png\" style=\"height: 300px;\" /></center>"
   ]
  },
  {
   "cell_type": "markdown",
   "metadata": {
    "slideshow": {
     "slide_type": "slide"
    }
   },
   "source": [
    "# <center><font color=\"blue\">  Tahap Pertama dan Terpenting EDA adalah \"Business & Data Understanding\"</font></center>\n",
    "\n",
    "### <font color=\"green\"> Dilakukan sebelum Data Preprocessing/Preparation.</font>\n",
    "    \n",
    "* Apa tujuan Machine Learning/AI kita?\n",
    "* Data apa yang tersedia?\n",
    "* Seberapa banyak (dan lama) data tersedia?\n",
    "* Ada yang memiliki label? (Variabel Target)\n",
    "* Apakah data ini relevan? Atau bisa dibuat relevan?\n",
    "* Bagaimana dengan kualitas data ini?\n",
    "* Ada data tambahan (eksternal)?\n",
    "* Siapa yang memahami tentang data ini dengan baik di perusahaan?\n",
    "    \n",
    "<center><img alt=\"\" src=\"images/crisp-dm.jpg\" style=\"height: 300px;\" /></center>"
   ]
  },
  {
   "cell_type": "markdown",
   "metadata": {
    "slideshow": {
     "slide_type": "slide"
    }
   },
   "source": [
    "# <center><font color=\"blue\">Data Terstruktur & Tidak Terstruktur</font></center>\n",
    "\n",
    "<center><img alt=\"\" src=\"images/tipeData_2.png\" style=\"height: 400px;\"/></center>"
   ]
  },
  {
   "cell_type": "markdown",
   "metadata": {
    "slideshow": {
     "slide_type": "slide"
    }
   },
   "source": [
    "# <center><font color=\"blue\">Data Terstruktur & Tidak Terstruktur</font></center>\n",
    "\n",
    "<center><img alt=\"\" src=\"images/Tipe_Data_Stevens.png\" style=\"height: 350px;\"/></center>"
   ]
  },
  {
   "cell_type": "markdown",
   "metadata": {
    "slideshow": {
     "slide_type": "slide"
    }
   },
   "source": [
    "# <center><font color=\"blue\">  Data(set) </font></center>\n",
    "\n",
    "* Koleksi entitas/objek data dan atributnya\n",
    "* Atribut adalah sifat atau karkteristik dari objek\n",
    "* Contoh pada objek manusia: umur, berat badan, tinggi badan, jenis kelamin, dsb.\n",
    "* Setiap atribut memiliki beberapa kemungkinan \"state\", sebagai contoh: pria/wanita.\n",
    "* koleksi atribut mendefinisikan suatu objek.\n",
    "    \n",
    "<center><img alt=\"\" src=\"images/Dataset.png\" style=\"height: 300px;\" /></center>"
   ]
  },
  {
   "cell_type": "markdown",
   "metadata": {
    "slideshow": {
     "slide_type": "slide"
    }
   },
   "source": [
    "# <center><font color=\"blue\">  Variabel target (dependent) dan prediktor (independent)</font></center>\n",
    "\n",
    "<img alt=\"\" src=\"images/Dependent-Independent.png\" style=\"height: 300px;\" />\n",
    "    \n",
    "* **<u>Interdependence Methods</u>** (Unsupervised Learning): Model-model Machine Learning/statistika dimana tidak ada dugaan suatu variable dipengaruhi/memengaruhi variabel yang lain (tidak ada konsep target/prediktor).<br />\n",
    "\tContoh: Analisis cluster (pengelompokan),&nbsp;principal component analysis&nbsp;(PCA)*.\n",
    "* **<u>Dependence Methods</u>** (Supervised Learning): Model-model Machine Learning/Statistika dimana sebagian variabel diduga memengaruhi/dipengaruhi variabel yang lain.<br />\n",
    "\tContoh: Regresi, klasifikasi&nbsp;(SVM/Decision Tree/neural network).\n",
    "* Namun demikian akhir-akhir ini terdapat cukup banyak penelitian dimana domain permasalahannya terletak di antara keduanya (<u><a href=\"https://en.wikipedia.org/wiki/Semi-supervised_learning\" target=\"_blank\">Semi-</a></u><u><a href=\"https://en.wikipedia.org/wiki/Semi-supervised_learning\" target=\"_blank\">Supervised</a></u><u><a href=\"https://en.wikipedia.org/wiki/Semi-supervised_learning\" target=\"_blank\"> </a></u><u><a href=\"https://en.wikipedia.org/wiki/Semi-supervised_learning\" target=\"_blank\">Learning</a></u>."
   ]
  },
  {
   "cell_type": "markdown",
   "metadata": {
    "slideshow": {
     "slide_type": "slide"
    }
   },
   "source": [
    "# <center><font color=\"blue\">  Data Cleaning, Cleansing, Munging, Wrangling?</font></center>\n",
    "\n",
    "<img alt=\"\" src=\"images/data cleaning ceansing wrangling munging preprocessing preparation _.png\" style=\"height: 300px;\" />\n",
    "    \n",
    "* Cleaning dan cleansing sebenarnya menurut standar formal berbeda: https://indica.nl/blog/2021/3/16/what-is-the-difference-between-data-cleansing-and-data-cleaning namun dalam keseharian bisa digunakan satu-sama-lain (hati-hati kalau dalam kontrak bisnis formal).\n",
    "* Banyaknya istilahnya \"membingungkan\", biasanya lebih \"aman\"/umum menggunakan terminology **data preprocessing**"
   ]
  },
  {
   "cell_type": "markdown",
   "metadata": {
    "slideshow": {
     "slide_type": "slide"
    }
   },
   "source": [
    "# <center><font color=\"blue\"> Mengapa perlu preprocessing?</font></center>\n",
    "## <font color=\"green\"> Garbage in-Garbage out</font>\n",
    "\n",
    "* Data di dunia nyata biasanya tidak sebersih/indah data di buku akademik.\n",
    "  - Noise: Misal gaji bernilai negatif\n",
    "  - Ouliers: Misal seseorang dengan penghasilan >500 juta/bulan.\n",
    "  - Duplikasi: Banyak di media sosial\n",
    "  - Encodings, dsb: Banyak di Big Data, karena masalah bagaimana data disimpan/join.\n",
    "* Tidak lengkap: hanya agregat, kurang variabel penting, dsb.\n",
    "* Analisa pada data yang tidak di preprocess biasanya menghasilkan insight yang tidak/kurang tepat atau model yang tidak memiliki performa yang baik.\n",
    "    \n",
    "<img alt=\"\" src=\"images/data_preprocessing_01.png\" style=\"height: 300px;\" />"
   ]
  },
  {
   "cell_type": "markdown",
   "metadata": {
    "slideshow": {
     "slide_type": "slide"
    }
   },
   "source": [
    "<img alt=\"\" src=\"images/data_preprocessing_02.jpg\" style=\"height: 600px;\" />"
   ]
  },
  {
   "cell_type": "code",
   "execution_count": 1,
   "metadata": {
    "slideshow": {
     "slide_type": "slide"
    }
   },
   "outputs": [],
   "source": [
    "# Importing Some Python Modules\n",
    "import warnings; warnings.simplefilter('ignore')\n",
    "import pandas as pd"
   ]
  },
  {
   "cell_type": "markdown",
   "metadata": {
    "slideshow": {
     "slide_type": "slide"
    }
   },
   "source": [
    "# <center><font color=\"blue\"> Pandas Dataframe</font></center>\n",
    "\n",
    "<center><img alt=\"\" src=\"images/pandas_dataframe_structure.jpg\" style=\"height: 350px;\" /></center>\n",
    "\n",
    "* Pandas Dataframe dapat dibentuk dari **Dictionary** atau **List/Tuples**"
   ]
  },
  {
   "cell_type": "code",
   "execution_count": 8,
   "metadata": {
    "slideshow": {
     "slide_type": "slide"
    }
   },
   "outputs": [
    {
     "data": {
      "text/html": [
       "<div>\n",
       "<style scoped>\n",
       "    .dataframe tbody tr th:only-of-type {\n",
       "        vertical-align: middle;\n",
       "    }\n",
       "\n",
       "    .dataframe tbody tr th {\n",
       "        vertical-align: top;\n",
       "    }\n",
       "\n",
       "    .dataframe thead th {\n",
       "        text-align: right;\n",
       "    }\n",
       "</style>\n",
       "<table border=\"1\" class=\"dataframe\">\n",
       "  <thead>\n",
       "    <tr style=\"text-align: right;\">\n",
       "      <th></th>\n",
       "      <th>Name</th>\n",
       "      <th>Age</th>\n",
       "      <th>University</th>\n",
       "    </tr>\n",
       "  </thead>\n",
       "  <tbody>\n",
       "    <tr>\n",
       "      <th>0</th>\n",
       "      <td>Ankit</td>\n",
       "      <td>23</td>\n",
       "      <td>BHU</td>\n",
       "    </tr>\n",
       "    <tr>\n",
       "      <th>1</th>\n",
       "      <td>Aishwarya</td>\n",
       "      <td>21</td>\n",
       "      <td>JNU</td>\n",
       "    </tr>\n",
       "    <tr>\n",
       "      <th>2</th>\n",
       "      <td>Shaurya</td>\n",
       "      <td>22</td>\n",
       "      <td>DU</td>\n",
       "    </tr>\n",
       "    <tr>\n",
       "      <th>3</th>\n",
       "      <td>Shivangi</td>\n",
       "      <td>21</td>\n",
       "      <td>BHU</td>\n",
       "    </tr>\n",
       "  </tbody>\n",
       "</table>\n",
       "</div>"
      ],
      "text/plain": [
       "        Name  Age University\n",
       "0      Ankit   23        BHU\n",
       "1  Aishwarya   21        JNU\n",
       "2    Shaurya   22         DU\n",
       "3   Shivangi   21        BHU"
      ]
     },
     "execution_count": 8,
     "metadata": {},
     "output_type": "execute_result"
    }
   ],
   "source": [
    "# Dataframe dari Dictionary\n",
    "D = {'Name' : ['Ankit', 'Aishwarya', 'Shaurya', 'Shivangi'],\n",
    "    'Age' : [23, 21, 22, 21],\n",
    "    'University' : ['BHU', 'JNU', 'DU', 'BHU']} \n",
    "df = pd.DataFrame(D)\n",
    "df"
   ]
  },
  {
   "cell_type": "code",
   "execution_count": 9,
   "metadata": {
    "slideshow": {
     "slide_type": "slide"
    }
   },
   "outputs": [
    {
     "data": {
      "text/html": [
       "<div>\n",
       "<style scoped>\n",
       "    .dataframe tbody tr th:only-of-type {\n",
       "        vertical-align: middle;\n",
       "    }\n",
       "\n",
       "    .dataframe tbody tr th {\n",
       "        vertical-align: top;\n",
       "    }\n",
       "\n",
       "    .dataframe thead th {\n",
       "        text-align: right;\n",
       "    }\n",
       "</style>\n",
       "<table border=\"1\" class=\"dataframe\">\n",
       "  <thead>\n",
       "    <tr style=\"text-align: right;\">\n",
       "      <th></th>\n",
       "      <th>Name</th>\n",
       "      <th>Age</th>\n",
       "      <th>University</th>\n",
       "    </tr>\n",
       "  </thead>\n",
       "  <tbody>\n",
       "    <tr>\n",
       "      <th>0</th>\n",
       "      <td>Ankit</td>\n",
       "      <td>23</td>\n",
       "      <td>BHU</td>\n",
       "    </tr>\n",
       "    <tr>\n",
       "      <th>1</th>\n",
       "      <td>Aishwarya</td>\n",
       "      <td>21</td>\n",
       "      <td>JNU</td>\n",
       "    </tr>\n",
       "    <tr>\n",
       "      <th>2</th>\n",
       "      <td>Shaurya</td>\n",
       "      <td>22</td>\n",
       "      <td>DU</td>\n",
       "    </tr>\n",
       "    <tr>\n",
       "      <th>3</th>\n",
       "      <td>Shivangi</td>\n",
       "      <td>21</td>\n",
       "      <td>BHU</td>\n",
       "    </tr>\n",
       "  </tbody>\n",
       "</table>\n",
       "</div>"
      ],
      "text/plain": [
       "        Name  Age University\n",
       "0      Ankit   23        BHU\n",
       "1  Aishwarya   21        JNU\n",
       "2    Shaurya   22         DU\n",
       "3   Shivangi   21        BHU"
      ]
     },
     "execution_count": 9,
     "metadata": {},
     "output_type": "execute_result"
    }
   ],
   "source": [
    "# Dataframe dari List\n",
    "Name = ['Ankit', 'Aishwarya', 'Shaurya', 'Shivangi']\n",
    "Age = [23, 21, 22, 21]\n",
    "University = ['BHU', 'JNU', 'DU', 'BHU'] \n",
    "df = pd.DataFrame(zip(Name, Age, University), columns=['Name', 'Age', 'University'])\n",
    "df"
   ]
  },
  {
   "cell_type": "code",
   "execution_count": 17,
   "metadata": {
    "ExecuteTime": {
     "end_time": "2019-09-30T01:08:34.825452Z",
     "start_time": "2019-09-30T01:08:34.820463Z"
    },
    "slideshow": {
     "slide_type": "slide"
    }
   },
   "outputs": [
    {
     "name": "stdout",
     "output_type": "stream",
     "text": [
      "RangeIndex(start=0, stop=4, step=1)\n"
     ]
    },
    {
     "data": {
      "text/html": [
       "<div>\n",
       "<style scoped>\n",
       "    .dataframe tbody tr th:only-of-type {\n",
       "        vertical-align: middle;\n",
       "    }\n",
       "\n",
       "    .dataframe tbody tr th {\n",
       "        vertical-align: top;\n",
       "    }\n",
       "\n",
       "    .dataframe thead th {\n",
       "        text-align: right;\n",
       "    }\n",
       "</style>\n",
       "<table border=\"1\" class=\"dataframe\">\n",
       "  <thead>\n",
       "    <tr style=\"text-align: right;\">\n",
       "      <th></th>\n",
       "      <th>Name</th>\n",
       "      <th>Age</th>\n",
       "      <th>University</th>\n",
       "    </tr>\n",
       "  </thead>\n",
       "  <tbody>\n",
       "    <tr>\n",
       "      <th>1</th>\n",
       "      <td>Aishwarya</td>\n",
       "      <td>21</td>\n",
       "      <td>JNU</td>\n",
       "    </tr>\n",
       "    <tr>\n",
       "      <th>2</th>\n",
       "      <td>Shaurya</td>\n",
       "      <td>22</td>\n",
       "      <td>DU</td>\n",
       "    </tr>\n",
       "  </tbody>\n",
       "</table>\n",
       "</div>"
      ],
      "text/plain": [
       "        Name  Age University\n",
       "1  Aishwarya   21        JNU\n",
       "2    Shaurya   22         DU"
      ]
     },
     "execution_count": 17,
     "metadata": {},
     "output_type": "execute_result"
    }
   ],
   "source": [
    "# # Slicing index bekerja seperti List, tapi harus hati-hati.\n",
    "print(df.index)\n",
    "df[1:3] "
   ]
  },
  {
   "cell_type": "markdown",
   "metadata": {
    "slideshow": {
     "slide_type": "slide"
    }
   },
   "source": [
    "# <center><font color=\"blue\"> OK, Let's Start!: Import-Loading Data</font></center>\n",
    "\n",
    "<center><img alt=\"\" src=\"images/meme-cartoon/Reading-and-Writing-Data-With-Pandas.jpg\" style=\"height: 300px;\" /></center>"
   ]
  },
  {
   "cell_type": "markdown",
   "metadata": {
    "slideshow": {
     "slide_type": "slide"
    }
   },
   "source": [
    "# <center><font color=\"blue\"> Studi Kasus</font></center>\n",
    "\n",
    "* Sumber Data: http://byebuyhome.com/\n",
    "* Objective: menemukan harga rumah yang berada di bawah pasaran untuk melakukan investasi.\n",
    "* Variable:\n",
    " - **Dist_Taxi** – distance to nearest taxi stand from the property\n",
    " - **Dist_Market** – distance to nearest grocery market from the property\n",
    " - **Dist_Hospital** – distance to nearest hospital from the property\n",
    " - **Carpet** – carpet area of the property in square feet\n",
    " - **Builtup** – built-up area of the property in square feet\n",
    " - **Parking** – type of car parking available with the property\n",
    " - **City_Category** – categorization of the city based on the size\n",
    " - **Rainfall** – annual rainfall in the area where property is located\n",
    " - **House_Price** – price at which the property was sold\n",
    "\n",
    "<img alt=\"\" src=\"images/property-investment-analysis.jpg\" style=\"height: 250px;\" />"
   ]
  },
  {
   "cell_type": "markdown",
   "metadata": {
    "slideshow": {
     "slide_type": "slide"
    }
   },
   "source": [
    "# <center><font color=\"blue\"> Import-Loading Data CSV / Excel Data via Pandas</font></center>\n",
    "\n",
    "<img alt=\"\" src=\"images/pandas load csv excel.png\" style=\"height: 150px;\" />\n",
    "\n",
    "* Importing CSV file  https://pandas.pydata.org/pandas-docs/stable/reference/api/pandas.read_csv.html\n",
    "* Importing Excel file  https://pandas.pydata.org/docs/reference/api/pandas.read_excel.html\n",
    "* Encodings https://docs.python.org/3/library/codecs.html#standard-encodings"
   ]
  },
  {
   "cell_type": "code",
   "execution_count": 81,
   "metadata": {
    "ExecuteTime": {
     "end_time": "2019-09-30T01:08:32.120040Z",
     "start_time": "2019-09-30T01:08:32.110066Z"
    },
    "slideshow": {
     "slide_type": "fragment"
    }
   },
   "outputs": [
    {
     "name": "stdout",
     "output_type": "stream",
     "text": [
      "baris =  936 , Kolom (jumlah variabel) =  10\n",
      "Tipe Variabe df =  <class 'pandas.core.frame.DataFrame'>\n"
     ]
    },
    {
     "data": {
      "text/html": [
       "<div>\n",
       "<style scoped>\n",
       "    .dataframe tbody tr th:only-of-type {\n",
       "        vertical-align: middle;\n",
       "    }\n",
       "\n",
       "    .dataframe tbody tr th {\n",
       "        vertical-align: top;\n",
       "    }\n",
       "\n",
       "    .dataframe thead th {\n",
       "        text-align: right;\n",
       "    }\n",
       "</style>\n",
       "<table border=\"1\" class=\"dataframe\">\n",
       "  <thead>\n",
       "    <tr style=\"text-align: right;\">\n",
       "      <th></th>\n",
       "      <th>Observation</th>\n",
       "      <th>Dist_Taxi</th>\n",
       "      <th>Dist_Market</th>\n",
       "      <th>Dist_Hospital</th>\n",
       "      <th>Carpet</th>\n",
       "      <th>Builtup</th>\n",
       "      <th>Parking</th>\n",
       "      <th>City_Category</th>\n",
       "      <th>Rainfall</th>\n",
       "      <th>House_Price</th>\n",
       "    </tr>\n",
       "  </thead>\n",
       "  <tbody>\n",
       "    <tr>\n",
       "      <th>0</th>\n",
       "      <td>1</td>\n",
       "      <td>9796.0</td>\n",
       "      <td>5250.0</td>\n",
       "      <td>10703.0</td>\n",
       "      <td>1659.0</td>\n",
       "      <td>1961.0</td>\n",
       "      <td>Open</td>\n",
       "      <td>CAT B</td>\n",
       "      <td>530</td>\n",
       "      <td>6649000</td>\n",
       "    </tr>\n",
       "    <tr>\n",
       "      <th>1</th>\n",
       "      <td>2</td>\n",
       "      <td>8294.0</td>\n",
       "      <td>8186.0</td>\n",
       "      <td>12694.0</td>\n",
       "      <td>1461.0</td>\n",
       "      <td>1752.0</td>\n",
       "      <td>Not Provided</td>\n",
       "      <td>CAT B</td>\n",
       "      <td>210</td>\n",
       "      <td>3982000</td>\n",
       "    </tr>\n",
       "    <tr>\n",
       "      <th>2</th>\n",
       "      <td>3</td>\n",
       "      <td>11001.0</td>\n",
       "      <td>14399.0</td>\n",
       "      <td>16991.0</td>\n",
       "      <td>1340.0</td>\n",
       "      <td>1609.0</td>\n",
       "      <td>Not Provided</td>\n",
       "      <td>CAT A</td>\n",
       "      <td>720</td>\n",
       "      <td>5401000</td>\n",
       "    </tr>\n",
       "    <tr>\n",
       "      <th>3</th>\n",
       "      <td>4</td>\n",
       "      <td>8301.0</td>\n",
       "      <td>11188.0</td>\n",
       "      <td>12289.0</td>\n",
       "      <td>1451.0</td>\n",
       "      <td>1748.0</td>\n",
       "      <td>Covered</td>\n",
       "      <td>CAT B</td>\n",
       "      <td>620</td>\n",
       "      <td>5373000</td>\n",
       "    </tr>\n",
       "    <tr>\n",
       "      <th>4</th>\n",
       "      <td>5</td>\n",
       "      <td>10510.0</td>\n",
       "      <td>12629.0</td>\n",
       "      <td>13921.0</td>\n",
       "      <td>1770.0</td>\n",
       "      <td>2111.0</td>\n",
       "      <td>Not Provided</td>\n",
       "      <td>CAT B</td>\n",
       "      <td>450</td>\n",
       "      <td>4662000</td>\n",
       "    </tr>\n",
       "    <tr>\n",
       "      <th>...</th>\n",
       "      <td>...</td>\n",
       "      <td>...</td>\n",
       "      <td>...</td>\n",
       "      <td>...</td>\n",
       "      <td>...</td>\n",
       "      <td>...</td>\n",
       "      <td>...</td>\n",
       "      <td>...</td>\n",
       "      <td>...</td>\n",
       "      <td>...</td>\n",
       "    </tr>\n",
       "    <tr>\n",
       "      <th>931</th>\n",
       "      <td>932</td>\n",
       "      <td>9297.0</td>\n",
       "      <td>12537.0</td>\n",
       "      <td>14418.0</td>\n",
       "      <td>1174.0</td>\n",
       "      <td>1429.0</td>\n",
       "      <td>Covered</td>\n",
       "      <td>CAT C</td>\n",
       "      <td>1110</td>\n",
       "      <td>5434000</td>\n",
       "    </tr>\n",
       "    <tr>\n",
       "      <th>932</th>\n",
       "      <td>933</td>\n",
       "      <td>10915.0</td>\n",
       "      <td>17486.0</td>\n",
       "      <td>15964.0</td>\n",
       "      <td>1549.0</td>\n",
       "      <td>1851.0</td>\n",
       "      <td>Not Provided</td>\n",
       "      <td>CAT C</td>\n",
       "      <td>1220</td>\n",
       "      <td>7062000</td>\n",
       "    </tr>\n",
       "    <tr>\n",
       "      <th>933</th>\n",
       "      <td>934</td>\n",
       "      <td>9205.0</td>\n",
       "      <td>10418.0</td>\n",
       "      <td>14496.0</td>\n",
       "      <td>1118.0</td>\n",
       "      <td>1337.0</td>\n",
       "      <td>Open</td>\n",
       "      <td>CAT A</td>\n",
       "      <td>560</td>\n",
       "      <td>7227000</td>\n",
       "    </tr>\n",
       "    <tr>\n",
       "      <th>934</th>\n",
       "      <td>935</td>\n",
       "      <td>10915.0</td>\n",
       "      <td>17486.0</td>\n",
       "      <td>15964.0</td>\n",
       "      <td>1549.0</td>\n",
       "      <td>1851.0</td>\n",
       "      <td>Not Provided</td>\n",
       "      <td>CAT C</td>\n",
       "      <td>1220</td>\n",
       "      <td>7062000</td>\n",
       "    </tr>\n",
       "    <tr>\n",
       "      <th>935</th>\n",
       "      <td>936</td>\n",
       "      <td>10915.0</td>\n",
       "      <td>17486.0</td>\n",
       "      <td>15964.0</td>\n",
       "      <td>1549.0</td>\n",
       "      <td>1851.0</td>\n",
       "      <td>Not Provided</td>\n",
       "      <td>CAT C</td>\n",
       "      <td>1220</td>\n",
       "      <td>7062000</td>\n",
       "    </tr>\n",
       "  </tbody>\n",
       "</table>\n",
       "<p>936 rows × 10 columns</p>\n",
       "</div>"
      ],
      "text/plain": [
       "     Observation  Dist_Taxi  Dist_Market  Dist_Hospital  Carpet  Builtup  \\\n",
       "0              1     9796.0       5250.0        10703.0  1659.0   1961.0   \n",
       "1              2     8294.0       8186.0        12694.0  1461.0   1752.0   \n",
       "2              3    11001.0      14399.0        16991.0  1340.0   1609.0   \n",
       "3              4     8301.0      11188.0        12289.0  1451.0   1748.0   \n",
       "4              5    10510.0      12629.0        13921.0  1770.0   2111.0   \n",
       "..           ...        ...          ...            ...     ...      ...   \n",
       "931          932     9297.0      12537.0        14418.0  1174.0   1429.0   \n",
       "932          933    10915.0      17486.0        15964.0  1549.0   1851.0   \n",
       "933          934     9205.0      10418.0        14496.0  1118.0   1337.0   \n",
       "934          935    10915.0      17486.0        15964.0  1549.0   1851.0   \n",
       "935          936    10915.0      17486.0        15964.0  1549.0   1851.0   \n",
       "\n",
       "          Parking City_Category  Rainfall  House_Price  \n",
       "0            Open         CAT B       530      6649000  \n",
       "1    Not Provided         CAT B       210      3982000  \n",
       "2    Not Provided         CAT A       720      5401000  \n",
       "3         Covered         CAT B       620      5373000  \n",
       "4    Not Provided         CAT B       450      4662000  \n",
       "..            ...           ...       ...          ...  \n",
       "931       Covered         CAT C      1110      5434000  \n",
       "932  Not Provided         CAT C      1220      7062000  \n",
       "933          Open         CAT A       560      7227000  \n",
       "934  Not Provided         CAT C      1220      7062000  \n",
       "935  Not Provided         CAT C      1220      7062000  \n",
       "\n",
       "[936 rows x 10 columns]"
      ]
     },
     "execution_count": 81,
     "metadata": {},
     "output_type": "execute_result"
    }
   ],
   "source": [
    "file_ = 'data/price.csv'\n",
    "try: # Running Locally, yakinkan \"file_\" berada di folder \"data\"\n",
    "    price = pd.read_csv(file_, error_bad_lines=False, low_memory = False, encoding='utf8')\n",
    "except: # Running in Google Colab\n",
    "    !mkdir data\n",
    "    !wget -P data/ https://raw.githubusercontent.com/taudata-indonesia/eLearning/master/data/price.csv\n",
    "    price = pd.read_csv(file_, error_bad_lines=False, low_memory = False, encoding='utf8')\n",
    "    \n",
    "N, P = price.shape # Ukuran Data\n",
    "print('baris = ', N, ', Kolom (jumlah variabel) = ', P)\n",
    "print(\"Tipe Variabe df = \", type(price))\n",
    "price"
   ]
  },
  {
   "cell_type": "markdown",
   "metadata": {
    "slideshow": {
     "slide_type": "slide"
    }
   },
   "source": [
    "# <center><font color=\"blue\"> Bagaimana dengan File Excel?</font></center>\n",
    "## <font color=\"green\"> Karena deprecated support, maka harus install module \"openpyxl\" terlebih dahulu</font>\n",
    "\n",
    "* Importing Excel file  https://pandas.pydata.org/docs/reference/api/pandas.read_excel.html\n",
    "* openpyxl https://openpyxl.readthedocs.io/en/stable/\n",
    "<center><img alt=\"\" src=\"images/meme-cartoon/openpyxl.jpg\" style=\"height: 300px;\" /></center>"
   ]
  },
  {
   "cell_type": "code",
   "execution_count": null,
   "metadata": {
    "slideshow": {
     "slide_type": "fragment"
    }
   },
   "outputs": [],
   "source": [
    "# Ingat module 02, jika anda menjalankan Jupyter notebook ini secara lokal, maka perlu penyesuaian\n",
    "!pip install openpyxl"
   ]
  },
  {
   "cell_type": "code",
   "execution_count": 19,
   "metadata": {
    "slideshow": {
     "slide_type": "slide"
    }
   },
   "outputs": [
    {
     "name": "stdout",
     "output_type": "stream",
     "text": [
      "['price1', 'price2']\n",
      "baris =  936 , Kolom (jumlah variabel) =  10\n",
      "Tipe Variabe df =  <class 'pandas.core.frame.DataFrame'>\n"
     ]
    },
    {
     "data": {
      "text/html": [
       "<div>\n",
       "<style scoped>\n",
       "    .dataframe tbody tr th:only-of-type {\n",
       "        vertical-align: middle;\n",
       "    }\n",
       "\n",
       "    .dataframe tbody tr th {\n",
       "        vertical-align: top;\n",
       "    }\n",
       "\n",
       "    .dataframe thead th {\n",
       "        text-align: right;\n",
       "    }\n",
       "</style>\n",
       "<table border=\"1\" class=\"dataframe\">\n",
       "  <thead>\n",
       "    <tr style=\"text-align: right;\">\n",
       "      <th></th>\n",
       "      <th>Observation</th>\n",
       "      <th>Dist_Taxi</th>\n",
       "      <th>Dist_Market</th>\n",
       "      <th>Dist_Hospital</th>\n",
       "      <th>Carpet</th>\n",
       "      <th>Builtup</th>\n",
       "      <th>Parking</th>\n",
       "      <th>City_Category</th>\n",
       "      <th>Rainfall</th>\n",
       "      <th>House_Price</th>\n",
       "    </tr>\n",
       "  </thead>\n",
       "  <tbody>\n",
       "    <tr>\n",
       "      <th>0</th>\n",
       "      <td>1</td>\n",
       "      <td>9796.0</td>\n",
       "      <td>5250.0</td>\n",
       "      <td>10703.0</td>\n",
       "      <td>1659.0</td>\n",
       "      <td>1961.0</td>\n",
       "      <td>Open</td>\n",
       "      <td>CAT B</td>\n",
       "      <td>530</td>\n",
       "      <td>6649000</td>\n",
       "    </tr>\n",
       "    <tr>\n",
       "      <th>1</th>\n",
       "      <td>2</td>\n",
       "      <td>8294.0</td>\n",
       "      <td>8186.0</td>\n",
       "      <td>12694.0</td>\n",
       "      <td>1461.0</td>\n",
       "      <td>1752.0</td>\n",
       "      <td>Not Provided</td>\n",
       "      <td>CAT B</td>\n",
       "      <td>210</td>\n",
       "      <td>3982000</td>\n",
       "    </tr>\n",
       "    <tr>\n",
       "      <th>2</th>\n",
       "      <td>3</td>\n",
       "      <td>11001.0</td>\n",
       "      <td>14399.0</td>\n",
       "      <td>16991.0</td>\n",
       "      <td>1340.0</td>\n",
       "      <td>1609.0</td>\n",
       "      <td>Not Provided</td>\n",
       "      <td>CAT A</td>\n",
       "      <td>720</td>\n",
       "      <td>5401000</td>\n",
       "    </tr>\n",
       "    <tr>\n",
       "      <th>3</th>\n",
       "      <td>4</td>\n",
       "      <td>8301.0</td>\n",
       "      <td>11188.0</td>\n",
       "      <td>12289.0</td>\n",
       "      <td>1451.0</td>\n",
       "      <td>1748.0</td>\n",
       "      <td>Covered</td>\n",
       "      <td>CAT B</td>\n",
       "      <td>620</td>\n",
       "      <td>5373000</td>\n",
       "    </tr>\n",
       "    <tr>\n",
       "      <th>4</th>\n",
       "      <td>5</td>\n",
       "      <td>10510.0</td>\n",
       "      <td>12629.0</td>\n",
       "      <td>13921.0</td>\n",
       "      <td>1770.0</td>\n",
       "      <td>2111.0</td>\n",
       "      <td>Not Provided</td>\n",
       "      <td>CAT B</td>\n",
       "      <td>450</td>\n",
       "      <td>4662000</td>\n",
       "    </tr>\n",
       "    <tr>\n",
       "      <th>...</th>\n",
       "      <td>...</td>\n",
       "      <td>...</td>\n",
       "      <td>...</td>\n",
       "      <td>...</td>\n",
       "      <td>...</td>\n",
       "      <td>...</td>\n",
       "      <td>...</td>\n",
       "      <td>...</td>\n",
       "      <td>...</td>\n",
       "      <td>...</td>\n",
       "    </tr>\n",
       "    <tr>\n",
       "      <th>931</th>\n",
       "      <td>932</td>\n",
       "      <td>9297.0</td>\n",
       "      <td>12537.0</td>\n",
       "      <td>14418.0</td>\n",
       "      <td>1174.0</td>\n",
       "      <td>1429.0</td>\n",
       "      <td>Covered</td>\n",
       "      <td>CAT C</td>\n",
       "      <td>1110</td>\n",
       "      <td>5434000</td>\n",
       "    </tr>\n",
       "    <tr>\n",
       "      <th>932</th>\n",
       "      <td>933</td>\n",
       "      <td>10915.0</td>\n",
       "      <td>17486.0</td>\n",
       "      <td>15964.0</td>\n",
       "      <td>1549.0</td>\n",
       "      <td>1851.0</td>\n",
       "      <td>Not Provided</td>\n",
       "      <td>CAT C</td>\n",
       "      <td>1220</td>\n",
       "      <td>7062000</td>\n",
       "    </tr>\n",
       "    <tr>\n",
       "      <th>933</th>\n",
       "      <td>934</td>\n",
       "      <td>9205.0</td>\n",
       "      <td>10418.0</td>\n",
       "      <td>14496.0</td>\n",
       "      <td>1118.0</td>\n",
       "      <td>1337.0</td>\n",
       "      <td>Open</td>\n",
       "      <td>CAT A</td>\n",
       "      <td>560</td>\n",
       "      <td>7227000</td>\n",
       "    </tr>\n",
       "    <tr>\n",
       "      <th>934</th>\n",
       "      <td>935</td>\n",
       "      <td>10915.0</td>\n",
       "      <td>17486.0</td>\n",
       "      <td>15964.0</td>\n",
       "      <td>1549.0</td>\n",
       "      <td>1851.0</td>\n",
       "      <td>Not Provided</td>\n",
       "      <td>CAT C</td>\n",
       "      <td>1220</td>\n",
       "      <td>7062000</td>\n",
       "    </tr>\n",
       "    <tr>\n",
       "      <th>935</th>\n",
       "      <td>936</td>\n",
       "      <td>10915.0</td>\n",
       "      <td>17486.0</td>\n",
       "      <td>15964.0</td>\n",
       "      <td>1549.0</td>\n",
       "      <td>1851.0</td>\n",
       "      <td>Not Provided</td>\n",
       "      <td>CAT C</td>\n",
       "      <td>1220</td>\n",
       "      <td>7062000</td>\n",
       "    </tr>\n",
       "  </tbody>\n",
       "</table>\n",
       "<p>936 rows × 10 columns</p>\n",
       "</div>"
      ],
      "text/plain": [
       "     Observation  Dist_Taxi  Dist_Market  Dist_Hospital  Carpet  Builtup  \\\n",
       "0              1     9796.0       5250.0        10703.0  1659.0   1961.0   \n",
       "1              2     8294.0       8186.0        12694.0  1461.0   1752.0   \n",
       "2              3    11001.0      14399.0        16991.0  1340.0   1609.0   \n",
       "3              4     8301.0      11188.0        12289.0  1451.0   1748.0   \n",
       "4              5    10510.0      12629.0        13921.0  1770.0   2111.0   \n",
       "..           ...        ...          ...            ...     ...      ...   \n",
       "931          932     9297.0      12537.0        14418.0  1174.0   1429.0   \n",
       "932          933    10915.0      17486.0        15964.0  1549.0   1851.0   \n",
       "933          934     9205.0      10418.0        14496.0  1118.0   1337.0   \n",
       "934          935    10915.0      17486.0        15964.0  1549.0   1851.0   \n",
       "935          936    10915.0      17486.0        15964.0  1549.0   1851.0   \n",
       "\n",
       "          Parking City_Category  Rainfall  House_Price  \n",
       "0            Open         CAT B       530      6649000  \n",
       "1    Not Provided         CAT B       210      3982000  \n",
       "2    Not Provided         CAT A       720      5401000  \n",
       "3         Covered         CAT B       620      5373000  \n",
       "4    Not Provided         CAT B       450      4662000  \n",
       "..            ...           ...       ...          ...  \n",
       "931       Covered         CAT C      1110      5434000  \n",
       "932  Not Provided         CAT C      1220      7062000  \n",
       "933          Open         CAT A       560      7227000  \n",
       "934  Not Provided         CAT C      1220      7062000  \n",
       "935  Not Provided         CAT C      1220      7062000  \n",
       "\n",
       "[936 rows x 10 columns]"
      ]
     },
     "execution_count": 19,
     "metadata": {},
     "output_type": "execute_result"
    }
   ],
   "source": [
    "file_ = 'data/price.xlsx'\n",
    "try: # Running Locally \n",
    "    xl = pd.ExcelFile(file_, engine = 'openpyxl')\n",
    "except: # Running in Google Colab\n",
    "    !mkdir data\n",
    "    !wget -P data/ https://raw.githubusercontent.com/taudata-indonesia/eLearning/master/{file_}\n",
    "    xl = pd.ExcelFile(file_, engine = 'openpyxl')\n",
    "\n",
    "sheets_ = xl.sheet_names\n",
    "print(sheets_)\n",
    "price = xl.parse(sheets_[0], header=0) #biasakan tidak menulis nama sheet secara langsung\n",
    "\n",
    "N, P = price.shape # Ukuran Data\n",
    "print('baris = ', N, ', Kolom (jumlah variabel) = ', P)\n",
    "print(\"Tipe Variabe df = \", type(price))\n",
    "price"
   ]
  },
  {
   "cell_type": "markdown",
   "metadata": {
    "slideshow": {
     "slide_type": "slide"
    }
   },
   "source": [
    "# <center><font color=\"blue\"> Prefer XLS atau CSV di Data Science/Machine Learning/AI</font></center><br><font color=\"green\">Mengapa?</font>\n",
    "\n",
    "<center><img alt=\"\" src=\"images/excel_error.png\" style=\"height: 300px;\" /></center>"
   ]
  },
  {
   "cell_type": "code",
   "execution_count": 20,
   "metadata": {
    "ExecuteTime": {
     "end_time": "2019-09-30T01:01:49.230415Z",
     "start_time": "2019-09-30T01:01:49.208497Z"
    },
    "slideshow": {
     "slide_type": "slide"
    }
   },
   "outputs": [
    {
     "data": {
      "text/html": [
       "<div>\n",
       "<style scoped>\n",
       "    .dataframe tbody tr th:only-of-type {\n",
       "        vertical-align: middle;\n",
       "    }\n",
       "\n",
       "    .dataframe tbody tr th {\n",
       "        vertical-align: top;\n",
       "    }\n",
       "\n",
       "    .dataframe thead th {\n",
       "        text-align: right;\n",
       "    }\n",
       "</style>\n",
       "<table border=\"1\" class=\"dataframe\">\n",
       "  <thead>\n",
       "    <tr style=\"text-align: right;\">\n",
       "      <th></th>\n",
       "      <th>Observation</th>\n",
       "      <th>Dist_Taxi</th>\n",
       "      <th>Dist_Market</th>\n",
       "      <th>Dist_Hospital</th>\n",
       "      <th>Carpet</th>\n",
       "      <th>Builtup</th>\n",
       "      <th>Parking</th>\n",
       "      <th>City_Category</th>\n",
       "      <th>Rainfall</th>\n",
       "      <th>House_Price</th>\n",
       "    </tr>\n",
       "  </thead>\n",
       "  <tbody>\n",
       "    <tr>\n",
       "      <th>0</th>\n",
       "      <td>1</td>\n",
       "      <td>9796.0</td>\n",
       "      <td>5250.0</td>\n",
       "      <td>10703.0</td>\n",
       "      <td>1659.0</td>\n",
       "      <td>1961.0</td>\n",
       "      <td>Open</td>\n",
       "      <td>CAT B</td>\n",
       "      <td>530</td>\n",
       "      <td>6649000</td>\n",
       "    </tr>\n",
       "    <tr>\n",
       "      <th>1</th>\n",
       "      <td>2</td>\n",
       "      <td>8294.0</td>\n",
       "      <td>8186.0</td>\n",
       "      <td>12694.0</td>\n",
       "      <td>1461.0</td>\n",
       "      <td>1752.0</td>\n",
       "      <td>Not Provided</td>\n",
       "      <td>CAT B</td>\n",
       "      <td>210</td>\n",
       "      <td>3982000</td>\n",
       "    </tr>\n",
       "    <tr>\n",
       "      <th>2</th>\n",
       "      <td>3</td>\n",
       "      <td>11001.0</td>\n",
       "      <td>14399.0</td>\n",
       "      <td>16991.0</td>\n",
       "      <td>1340.0</td>\n",
       "      <td>1609.0</td>\n",
       "      <td>Not Provided</td>\n",
       "      <td>CAT A</td>\n",
       "      <td>720</td>\n",
       "      <td>5401000</td>\n",
       "    </tr>\n",
       "    <tr>\n",
       "      <th>3</th>\n",
       "      <td>4</td>\n",
       "      <td>8301.0</td>\n",
       "      <td>11188.0</td>\n",
       "      <td>12289.0</td>\n",
       "      <td>1451.0</td>\n",
       "      <td>1748.0</td>\n",
       "      <td>Covered</td>\n",
       "      <td>CAT B</td>\n",
       "      <td>620</td>\n",
       "      <td>5373000</td>\n",
       "    </tr>\n",
       "    <tr>\n",
       "      <th>4</th>\n",
       "      <td>5</td>\n",
       "      <td>10510.0</td>\n",
       "      <td>12629.0</td>\n",
       "      <td>13921.0</td>\n",
       "      <td>1770.0</td>\n",
       "      <td>2111.0</td>\n",
       "      <td>Not Provided</td>\n",
       "      <td>CAT B</td>\n",
       "      <td>450</td>\n",
       "      <td>4662000</td>\n",
       "    </tr>\n",
       "    <tr>\n",
       "      <th>5</th>\n",
       "      <td>6</td>\n",
       "      <td>6665.0</td>\n",
       "      <td>5142.0</td>\n",
       "      <td>9972.0</td>\n",
       "      <td>1442.0</td>\n",
       "      <td>1733.0</td>\n",
       "      <td>Open</td>\n",
       "      <td>CAT B</td>\n",
       "      <td>760</td>\n",
       "      <td>4526000</td>\n",
       "    </tr>\n",
       "    <tr>\n",
       "      <th>6</th>\n",
       "      <td>7</td>\n",
       "      <td>13153.0</td>\n",
       "      <td>11869.0</td>\n",
       "      <td>17811.0</td>\n",
       "      <td>1542.0</td>\n",
       "      <td>1858.0</td>\n",
       "      <td>No Parking</td>\n",
       "      <td>CAT A</td>\n",
       "      <td>1030</td>\n",
       "      <td>7224000</td>\n",
       "    </tr>\n",
       "  </tbody>\n",
       "</table>\n",
       "</div>"
      ],
      "text/plain": [
       "   Observation  Dist_Taxi  Dist_Market  Dist_Hospital  Carpet  Builtup  \\\n",
       "0            1     9796.0       5250.0        10703.0  1659.0   1961.0   \n",
       "1            2     8294.0       8186.0        12694.0  1461.0   1752.0   \n",
       "2            3    11001.0      14399.0        16991.0  1340.0   1609.0   \n",
       "3            4     8301.0      11188.0        12289.0  1451.0   1748.0   \n",
       "4            5    10510.0      12629.0        13921.0  1770.0   2111.0   \n",
       "5            6     6665.0       5142.0         9972.0  1442.0   1733.0   \n",
       "6            7    13153.0      11869.0        17811.0  1542.0   1858.0   \n",
       "\n",
       "        Parking City_Category  Rainfall  House_Price  \n",
       "0          Open         CAT B       530      6649000  \n",
       "1  Not Provided         CAT B       210      3982000  \n",
       "2  Not Provided         CAT A       720      5401000  \n",
       "3       Covered         CAT B       620      5373000  \n",
       "4  Not Provided         CAT B       450      4662000  \n",
       "5          Open         CAT B       760      4526000  \n",
       "6    No Parking         CAT A      1030      7224000  "
      ]
     },
     "execution_count": 20,
     "metadata": {},
     "output_type": "execute_result"
    }
   ],
   "source": [
    "# \"Mengintip\" beberapa data pertamanya\n",
    "price.head(7)"
   ]
  },
  {
   "cell_type": "code",
   "execution_count": 24,
   "metadata": {
    "slideshow": {
     "slide_type": "slide"
    }
   },
   "outputs": [
    {
     "data": {
      "text/html": [
       "<div>\n",
       "<style scoped>\n",
       "    .dataframe tbody tr th:only-of-type {\n",
       "        vertical-align: middle;\n",
       "    }\n",
       "\n",
       "    .dataframe tbody tr th {\n",
       "        vertical-align: top;\n",
       "    }\n",
       "\n",
       "    .dataframe thead th {\n",
       "        text-align: right;\n",
       "    }\n",
       "</style>\n",
       "<table border=\"1\" class=\"dataframe\">\n",
       "  <thead>\n",
       "    <tr style=\"text-align: right;\">\n",
       "      <th></th>\n",
       "      <th>0</th>\n",
       "      <th>1</th>\n",
       "      <th>2</th>\n",
       "      <th>3</th>\n",
       "      <th>4</th>\n",
       "    </tr>\n",
       "  </thead>\n",
       "  <tbody>\n",
       "    <tr>\n",
       "      <th>Observation</th>\n",
       "      <td>1</td>\n",
       "      <td>2</td>\n",
       "      <td>3</td>\n",
       "      <td>4</td>\n",
       "      <td>5</td>\n",
       "    </tr>\n",
       "    <tr>\n",
       "      <th>Dist_Taxi</th>\n",
       "      <td>9796</td>\n",
       "      <td>8294</td>\n",
       "      <td>11001</td>\n",
       "      <td>8301</td>\n",
       "      <td>10510</td>\n",
       "    </tr>\n",
       "    <tr>\n",
       "      <th>Dist_Market</th>\n",
       "      <td>5250</td>\n",
       "      <td>8186</td>\n",
       "      <td>14399</td>\n",
       "      <td>11188</td>\n",
       "      <td>12629</td>\n",
       "    </tr>\n",
       "    <tr>\n",
       "      <th>Dist_Hospital</th>\n",
       "      <td>10703</td>\n",
       "      <td>12694</td>\n",
       "      <td>16991</td>\n",
       "      <td>12289</td>\n",
       "      <td>13921</td>\n",
       "    </tr>\n",
       "    <tr>\n",
       "      <th>Carpet</th>\n",
       "      <td>1659</td>\n",
       "      <td>1461</td>\n",
       "      <td>1340</td>\n",
       "      <td>1451</td>\n",
       "      <td>1770</td>\n",
       "    </tr>\n",
       "    <tr>\n",
       "      <th>Builtup</th>\n",
       "      <td>1961</td>\n",
       "      <td>1752</td>\n",
       "      <td>1609</td>\n",
       "      <td>1748</td>\n",
       "      <td>2111</td>\n",
       "    </tr>\n",
       "    <tr>\n",
       "      <th>Parking</th>\n",
       "      <td>Open</td>\n",
       "      <td>Not Provided</td>\n",
       "      <td>Not Provided</td>\n",
       "      <td>Covered</td>\n",
       "      <td>Not Provided</td>\n",
       "    </tr>\n",
       "    <tr>\n",
       "      <th>City_Category</th>\n",
       "      <td>CAT B</td>\n",
       "      <td>CAT B</td>\n",
       "      <td>CAT A</td>\n",
       "      <td>CAT B</td>\n",
       "      <td>CAT B</td>\n",
       "    </tr>\n",
       "    <tr>\n",
       "      <th>Rainfall</th>\n",
       "      <td>530</td>\n",
       "      <td>210</td>\n",
       "      <td>720</td>\n",
       "      <td>620</td>\n",
       "      <td>450</td>\n",
       "    </tr>\n",
       "    <tr>\n",
       "      <th>House_Price</th>\n",
       "      <td>6649000</td>\n",
       "      <td>3982000</td>\n",
       "      <td>5401000</td>\n",
       "      <td>5373000</td>\n",
       "      <td>4662000</td>\n",
       "    </tr>\n",
       "  </tbody>\n",
       "</table>\n",
       "</div>"
      ],
      "text/plain": [
       "                     0             1             2        3             4\n",
       "Observation          1             2             3        4             5\n",
       "Dist_Taxi         9796          8294         11001     8301         10510\n",
       "Dist_Market       5250          8186         14399    11188         12629\n",
       "Dist_Hospital    10703         12694         16991    12289         13921\n",
       "Carpet            1659          1461          1340     1451          1770\n",
       "Builtup           1961          1752          1609     1748          2111\n",
       "Parking           Open  Not Provided  Not Provided  Covered  Not Provided\n",
       "City_Category    CAT B         CAT B         CAT A    CAT B         CAT B\n",
       "Rainfall           530           210           720      620           450\n",
       "House_Price    6649000       3982000       5401000  5373000       4662000"
      ]
     },
     "execution_count": 24,
     "metadata": {},
     "output_type": "execute_result"
    }
   ],
   "source": [
    "# Tips ... Gunakan Transpose untuk High-Dimensional Data (data dengan banyak kolom/variabel)\n",
    "price.head().transpose()"
   ]
  },
  {
   "cell_type": "code",
   "execution_count": 23,
   "metadata": {
    "ExecuteTime": {
     "end_time": "2019-09-30T01:01:49.252357Z",
     "start_time": "2019-09-30T01:01:49.232409Z"
    },
    "slideshow": {
     "slide_type": "slide"
    }
   },
   "outputs": [
    {
     "data": {
      "text/html": [
       "<div>\n",
       "<style scoped>\n",
       "    .dataframe tbody tr th:only-of-type {\n",
       "        vertical-align: middle;\n",
       "    }\n",
       "\n",
       "    .dataframe tbody tr th {\n",
       "        vertical-align: top;\n",
       "    }\n",
       "\n",
       "    .dataframe thead th {\n",
       "        text-align: right;\n",
       "    }\n",
       "</style>\n",
       "<table border=\"1\" class=\"dataframe\">\n",
       "  <thead>\n",
       "    <tr style=\"text-align: right;\">\n",
       "      <th></th>\n",
       "      <th>Observation</th>\n",
       "      <th>Dist_Taxi</th>\n",
       "      <th>Dist_Market</th>\n",
       "      <th>Dist_Hospital</th>\n",
       "      <th>Carpet</th>\n",
       "      <th>Builtup</th>\n",
       "      <th>Parking</th>\n",
       "      <th>City_Category</th>\n",
       "      <th>Rainfall</th>\n",
       "      <th>House_Price</th>\n",
       "    </tr>\n",
       "  </thead>\n",
       "  <tbody>\n",
       "    <tr>\n",
       "      <th>929</th>\n",
       "      <td>930</td>\n",
       "      <td>7423.0</td>\n",
       "      <td>11708.0</td>\n",
       "      <td>13220.0</td>\n",
       "      <td>1200.0</td>\n",
       "      <td>1436.0</td>\n",
       "      <td>Open</td>\n",
       "      <td>CAT A</td>\n",
       "      <td>1060</td>\n",
       "      <td>7644000</td>\n",
       "    </tr>\n",
       "    <tr>\n",
       "      <th>930</th>\n",
       "      <td>931</td>\n",
       "      <td>15082.0</td>\n",
       "      <td>14700.0</td>\n",
       "      <td>19617.0</td>\n",
       "      <td>1299.0</td>\n",
       "      <td>1560.0</td>\n",
       "      <td>Open</td>\n",
       "      <td>CAT B</td>\n",
       "      <td>770</td>\n",
       "      <td>9661000</td>\n",
       "    </tr>\n",
       "    <tr>\n",
       "      <th>931</th>\n",
       "      <td>932</td>\n",
       "      <td>9297.0</td>\n",
       "      <td>12537.0</td>\n",
       "      <td>14418.0</td>\n",
       "      <td>1174.0</td>\n",
       "      <td>1429.0</td>\n",
       "      <td>Covered</td>\n",
       "      <td>CAT C</td>\n",
       "      <td>1110</td>\n",
       "      <td>5434000</td>\n",
       "    </tr>\n",
       "    <tr>\n",
       "      <th>932</th>\n",
       "      <td>933</td>\n",
       "      <td>10915.0</td>\n",
       "      <td>17486.0</td>\n",
       "      <td>15964.0</td>\n",
       "      <td>1549.0</td>\n",
       "      <td>1851.0</td>\n",
       "      <td>Not Provided</td>\n",
       "      <td>CAT C</td>\n",
       "      <td>1220</td>\n",
       "      <td>7062000</td>\n",
       "    </tr>\n",
       "    <tr>\n",
       "      <th>933</th>\n",
       "      <td>934</td>\n",
       "      <td>9205.0</td>\n",
       "      <td>10418.0</td>\n",
       "      <td>14496.0</td>\n",
       "      <td>1118.0</td>\n",
       "      <td>1337.0</td>\n",
       "      <td>Open</td>\n",
       "      <td>CAT A</td>\n",
       "      <td>560</td>\n",
       "      <td>7227000</td>\n",
       "    </tr>\n",
       "    <tr>\n",
       "      <th>934</th>\n",
       "      <td>935</td>\n",
       "      <td>10915.0</td>\n",
       "      <td>17486.0</td>\n",
       "      <td>15964.0</td>\n",
       "      <td>1549.0</td>\n",
       "      <td>1851.0</td>\n",
       "      <td>Not Provided</td>\n",
       "      <td>CAT C</td>\n",
       "      <td>1220</td>\n",
       "      <td>7062000</td>\n",
       "    </tr>\n",
       "    <tr>\n",
       "      <th>935</th>\n",
       "      <td>936</td>\n",
       "      <td>10915.0</td>\n",
       "      <td>17486.0</td>\n",
       "      <td>15964.0</td>\n",
       "      <td>1549.0</td>\n",
       "      <td>1851.0</td>\n",
       "      <td>Not Provided</td>\n",
       "      <td>CAT C</td>\n",
       "      <td>1220</td>\n",
       "      <td>7062000</td>\n",
       "    </tr>\n",
       "  </tbody>\n",
       "</table>\n",
       "</div>"
      ],
      "text/plain": [
       "     Observation  Dist_Taxi  Dist_Market  Dist_Hospital  Carpet  Builtup  \\\n",
       "929          930     7423.0      11708.0        13220.0  1200.0   1436.0   \n",
       "930          931    15082.0      14700.0        19617.0  1299.0   1560.0   \n",
       "931          932     9297.0      12537.0        14418.0  1174.0   1429.0   \n",
       "932          933    10915.0      17486.0        15964.0  1549.0   1851.0   \n",
       "933          934     9205.0      10418.0        14496.0  1118.0   1337.0   \n",
       "934          935    10915.0      17486.0        15964.0  1549.0   1851.0   \n",
       "935          936    10915.0      17486.0        15964.0  1549.0   1851.0   \n",
       "\n",
       "          Parking City_Category  Rainfall  House_Price  \n",
       "929          Open         CAT A      1060      7644000  \n",
       "930          Open         CAT B       770      9661000  \n",
       "931       Covered         CAT C      1110      5434000  \n",
       "932  Not Provided         CAT C      1220      7062000  \n",
       "933          Open         CAT A       560      7227000  \n",
       "934  Not Provided         CAT C      1220      7062000  \n",
       "935  Not Provided         CAT C      1220      7062000  "
      ]
     },
     "execution_count": 23,
     "metadata": {},
     "output_type": "execute_result"
    }
   ],
   "source": [
    "# \"Mengintip\" beberapa data akhirnya\n",
    "price.tail(7)"
   ]
  },
  {
   "cell_type": "code",
   "execution_count": 25,
   "metadata": {
    "ExecuteTime": {
     "end_time": "2019-09-30T01:01:49.273357Z",
     "start_time": "2019-09-30T01:01:49.254351Z"
    },
    "slideshow": {
     "slide_type": "slide"
    }
   },
   "outputs": [
    {
     "data": {
      "text/html": [
       "<div>\n",
       "<style scoped>\n",
       "    .dataframe tbody tr th:only-of-type {\n",
       "        vertical-align: middle;\n",
       "    }\n",
       "\n",
       "    .dataframe tbody tr th {\n",
       "        vertical-align: top;\n",
       "    }\n",
       "\n",
       "    .dataframe thead th {\n",
       "        text-align: right;\n",
       "    }\n",
       "</style>\n",
       "<table border=\"1\" class=\"dataframe\">\n",
       "  <thead>\n",
       "    <tr style=\"text-align: right;\">\n",
       "      <th></th>\n",
       "      <th>Observation</th>\n",
       "      <th>Dist_Taxi</th>\n",
       "      <th>Dist_Market</th>\n",
       "      <th>Dist_Hospital</th>\n",
       "      <th>Carpet</th>\n",
       "      <th>Builtup</th>\n",
       "      <th>Parking</th>\n",
       "      <th>City_Category</th>\n",
       "      <th>Rainfall</th>\n",
       "      <th>House_Price</th>\n",
       "    </tr>\n",
       "  </thead>\n",
       "  <tbody>\n",
       "    <tr>\n",
       "      <th>163</th>\n",
       "      <td>164</td>\n",
       "      <td>11678.0</td>\n",
       "      <td>14658.0</td>\n",
       "      <td>14417.0</td>\n",
       "      <td>1393.0</td>\n",
       "      <td>1663.0</td>\n",
       "      <td>Open</td>\n",
       "      <td>CAT C</td>\n",
       "      <td>670</td>\n",
       "      <td>3732000</td>\n",
       "    </tr>\n",
       "    <tr>\n",
       "      <th>231</th>\n",
       "      <td>232</td>\n",
       "      <td>10238.0</td>\n",
       "      <td>9621.0</td>\n",
       "      <td>12102.0</td>\n",
       "      <td>1442.0</td>\n",
       "      <td>1742.0</td>\n",
       "      <td>Open</td>\n",
       "      <td>CAT A</td>\n",
       "      <td>310</td>\n",
       "      <td>6280000</td>\n",
       "    </tr>\n",
       "    <tr>\n",
       "      <th>82</th>\n",
       "      <td>83</td>\n",
       "      <td>11676.0</td>\n",
       "      <td>14735.0</td>\n",
       "      <td>15825.0</td>\n",
       "      <td>1250.0</td>\n",
       "      <td>1475.0</td>\n",
       "      <td>Open</td>\n",
       "      <td>CAT B</td>\n",
       "      <td>1390</td>\n",
       "      <td>6556000</td>\n",
       "    </tr>\n",
       "    <tr>\n",
       "      <th>479</th>\n",
       "      <td>480</td>\n",
       "      <td>NaN</td>\n",
       "      <td>NaN</td>\n",
       "      <td>11839.0</td>\n",
       "      <td>1516.0</td>\n",
       "      <td>1792.0</td>\n",
       "      <td>Not Provided</td>\n",
       "      <td>CAT B</td>\n",
       "      <td>790</td>\n",
       "      <td>4431000</td>\n",
       "    </tr>\n",
       "    <tr>\n",
       "      <th>318</th>\n",
       "      <td>319</td>\n",
       "      <td>9851.0</td>\n",
       "      <td>13410.0</td>\n",
       "      <td>16916.0</td>\n",
       "      <td>1092.0</td>\n",
       "      <td>1314.0</td>\n",
       "      <td>Open</td>\n",
       "      <td>CAT A</td>\n",
       "      <td>600</td>\n",
       "      <td>7653000</td>\n",
       "    </tr>\n",
       "    <tr>\n",
       "      <th>356</th>\n",
       "      <td>357</td>\n",
       "      <td>8256.0</td>\n",
       "      <td>16042.0</td>\n",
       "      <td>16071.0</td>\n",
       "      <td>1678.0</td>\n",
       "      <td>1999.0</td>\n",
       "      <td>Not Provided</td>\n",
       "      <td>CAT C</td>\n",
       "      <td>740</td>\n",
       "      <td>4665000</td>\n",
       "    </tr>\n",
       "    <tr>\n",
       "      <th>305</th>\n",
       "      <td>306</td>\n",
       "      <td>9242.0</td>\n",
       "      <td>13331.0</td>\n",
       "      <td>13748.0</td>\n",
       "      <td>1644.0</td>\n",
       "      <td>2003.0</td>\n",
       "      <td>No Parking</td>\n",
       "      <td>CAT C</td>\n",
       "      <td>-110</td>\n",
       "      <td>3275000</td>\n",
       "    </tr>\n",
       "    <tr>\n",
       "      <th>199</th>\n",
       "      <td>200</td>\n",
       "      <td>8704.0</td>\n",
       "      <td>13572.0</td>\n",
       "      <td>12349.0</td>\n",
       "      <td>1666.0</td>\n",
       "      <td>2000.0</td>\n",
       "      <td>Open</td>\n",
       "      <td>CAT C</td>\n",
       "      <td>480</td>\n",
       "      <td>3973000</td>\n",
       "    </tr>\n",
       "    <tr>\n",
       "      <th>900</th>\n",
       "      <td>901</td>\n",
       "      <td>8475.0</td>\n",
       "      <td>8742.0</td>\n",
       "      <td>12781.0</td>\n",
       "      <td>780.0</td>\n",
       "      <td>951.0</td>\n",
       "      <td>Covered</td>\n",
       "      <td>CAT C</td>\n",
       "      <td>790</td>\n",
       "      <td>2560000</td>\n",
       "    </tr>\n",
       "    <tr>\n",
       "      <th>852</th>\n",
       "      <td>853</td>\n",
       "      <td>4494.0</td>\n",
       "      <td>9538.0</td>\n",
       "      <td>10227.0</td>\n",
       "      <td>1822.0</td>\n",
       "      <td>2160.0</td>\n",
       "      <td>Open</td>\n",
       "      <td>CAT B</td>\n",
       "      <td>860</td>\n",
       "      <td>4972000</td>\n",
       "    </tr>\n",
       "  </tbody>\n",
       "</table>\n",
       "</div>"
      ],
      "text/plain": [
       "     Observation  Dist_Taxi  Dist_Market  Dist_Hospital  Carpet  Builtup  \\\n",
       "163          164    11678.0      14658.0        14417.0  1393.0   1663.0   \n",
       "231          232    10238.0       9621.0        12102.0  1442.0   1742.0   \n",
       "82            83    11676.0      14735.0        15825.0  1250.0   1475.0   \n",
       "479          480        NaN          NaN        11839.0  1516.0   1792.0   \n",
       "318          319     9851.0      13410.0        16916.0  1092.0   1314.0   \n",
       "356          357     8256.0      16042.0        16071.0  1678.0   1999.0   \n",
       "305          306     9242.0      13331.0        13748.0  1644.0   2003.0   \n",
       "199          200     8704.0      13572.0        12349.0  1666.0   2000.0   \n",
       "900          901     8475.0       8742.0        12781.0   780.0    951.0   \n",
       "852          853     4494.0       9538.0        10227.0  1822.0   2160.0   \n",
       "\n",
       "          Parking City_Category  Rainfall  House_Price  \n",
       "163          Open         CAT C       670      3732000  \n",
       "231          Open         CAT A       310      6280000  \n",
       "82           Open         CAT B      1390      6556000  \n",
       "479  Not Provided         CAT B       790      4431000  \n",
       "318          Open         CAT A       600      7653000  \n",
       "356  Not Provided         CAT C       740      4665000  \n",
       "305    No Parking         CAT C      -110      3275000  \n",
       "199          Open         CAT C       480      3973000  \n",
       "900       Covered         CAT C       790      2560000  \n",
       "852          Open         CAT B       860      4972000  "
      ]
     },
     "execution_count": 25,
     "metadata": {},
     "output_type": "execute_result"
    }
   ],
   "source": [
    "# chosen at random\n",
    "price.sample(10)"
   ]
  },
  {
   "cell_type": "markdown",
   "metadata": {
    "slideshow": {
     "slide_type": "slide"
    }
   },
   "source": [
    "# <center><font color=\"blue\">Perintah \".sample\" bisa untuk sampling yang akan digunakan sebagai training data di machine Learning</font></center>\n",
    "\n",
    "## <font color=\"green\">Akan tetapi ada kelemahannya ... apakah?</font>"
   ]
  },
  {
   "cell_type": "code",
   "execution_count": 32,
   "metadata": {
    "slideshow": {
     "slide_type": "fragment"
    }
   },
   "outputs": [
    {
     "data": {
      "text/html": [
       "<div>\n",
       "<style scoped>\n",
       "    .dataframe tbody tr th:only-of-type {\n",
       "        vertical-align: middle;\n",
       "    }\n",
       "\n",
       "    .dataframe tbody tr th {\n",
       "        vertical-align: top;\n",
       "    }\n",
       "\n",
       "    .dataframe thead th {\n",
       "        text-align: right;\n",
       "    }\n",
       "</style>\n",
       "<table border=\"1\" class=\"dataframe\">\n",
       "  <thead>\n",
       "    <tr style=\"text-align: right;\">\n",
       "      <th></th>\n",
       "      <th>Observation</th>\n",
       "      <th>Dist_Taxi</th>\n",
       "      <th>Dist_Market</th>\n",
       "      <th>Dist_Hospital</th>\n",
       "      <th>Carpet</th>\n",
       "      <th>Builtup</th>\n",
       "      <th>Parking</th>\n",
       "      <th>City_Category</th>\n",
       "      <th>Rainfall</th>\n",
       "      <th>House_Price</th>\n",
       "    </tr>\n",
       "  </thead>\n",
       "  <tbody>\n",
       "    <tr>\n",
       "      <th>833</th>\n",
       "      <td>834</td>\n",
       "      <td>8441.0</td>\n",
       "      <td>10093.0</td>\n",
       "      <td>13715.0</td>\n",
       "      <td>1436.0</td>\n",
       "      <td>1715.0</td>\n",
       "      <td>Open</td>\n",
       "      <td>CAT B</td>\n",
       "      <td>1030</td>\n",
       "      <td>4818000</td>\n",
       "    </tr>\n",
       "    <tr>\n",
       "      <th>162</th>\n",
       "      <td>163</td>\n",
       "      <td>10967.0</td>\n",
       "      <td>12140.0</td>\n",
       "      <td>14999.0</td>\n",
       "      <td>1649.0</td>\n",
       "      <td>1963.0</td>\n",
       "      <td>Not Provided</td>\n",
       "      <td>CAT C</td>\n",
       "      <td>490</td>\n",
       "      <td>2741000</td>\n",
       "    </tr>\n",
       "    <tr>\n",
       "      <th>786</th>\n",
       "      <td>787</td>\n",
       "      <td>12794.0</td>\n",
       "      <td>11457.0</td>\n",
       "      <td>16229.0</td>\n",
       "      <td>1385.0</td>\n",
       "      <td>1643.0</td>\n",
       "      <td>No Parking</td>\n",
       "      <td>CAT C</td>\n",
       "      <td>740</td>\n",
       "      <td>7094000</td>\n",
       "    </tr>\n",
       "    <tr>\n",
       "      <th>351</th>\n",
       "      <td>352</td>\n",
       "      <td>9107.0</td>\n",
       "      <td>9300.0</td>\n",
       "      <td>17103.0</td>\n",
       "      <td>1320.0</td>\n",
       "      <td>1583.0</td>\n",
       "      <td>Not Provided</td>\n",
       "      <td>CAT B</td>\n",
       "      <td>540</td>\n",
       "      <td>4372000</td>\n",
       "    </tr>\n",
       "    <tr>\n",
       "      <th>494</th>\n",
       "      <td>495</td>\n",
       "      <td>9590.0</td>\n",
       "      <td>10173.0</td>\n",
       "      <td>13574.0</td>\n",
       "      <td>1611.0</td>\n",
       "      <td>1919.0</td>\n",
       "      <td>Covered</td>\n",
       "      <td>CAT A</td>\n",
       "      <td>960</td>\n",
       "      <td>7124000</td>\n",
       "    </tr>\n",
       "    <tr>\n",
       "      <th>404</th>\n",
       "      <td>405</td>\n",
       "      <td>6860.0</td>\n",
       "      <td>12712.0</td>\n",
       "      <td>12638.0</td>\n",
       "      <td>1491.0</td>\n",
       "      <td>1800.0</td>\n",
       "      <td>Not Provided</td>\n",
       "      <td>CAT A</td>\n",
       "      <td>980</td>\n",
       "      <td>7562000</td>\n",
       "    </tr>\n",
       "    <tr>\n",
       "      <th>83</th>\n",
       "      <td>84</td>\n",
       "      <td>11703.0</td>\n",
       "      <td>12778.0</td>\n",
       "      <td>16910.0</td>\n",
       "      <td>1598.0</td>\n",
       "      <td>NaN</td>\n",
       "      <td>Covered</td>\n",
       "      <td>CAT A</td>\n",
       "      <td>530</td>\n",
       "      <td>8116000</td>\n",
       "    </tr>\n",
       "    <tr>\n",
       "      <th>763</th>\n",
       "      <td>764</td>\n",
       "      <td>8274.0</td>\n",
       "      <td>11673.0</td>\n",
       "      <td>13345.0</td>\n",
       "      <td>1641.0</td>\n",
       "      <td>1999.0</td>\n",
       "      <td>Covered</td>\n",
       "      <td>CAT B</td>\n",
       "      <td>950</td>\n",
       "      <td>9300000</td>\n",
       "    </tr>\n",
       "    <tr>\n",
       "      <th>296</th>\n",
       "      <td>297</td>\n",
       "      <td>10517.0</td>\n",
       "      <td>9839.0</td>\n",
       "      <td>13059.0</td>\n",
       "      <td>1390.0</td>\n",
       "      <td>1646.0</td>\n",
       "      <td>Open</td>\n",
       "      <td>CAT B</td>\n",
       "      <td>800</td>\n",
       "      <td>4684000</td>\n",
       "    </tr>\n",
       "    <tr>\n",
       "      <th>393</th>\n",
       "      <td>394</td>\n",
       "      <td>3132.0</td>\n",
       "      <td>8369.0</td>\n",
       "      <td>8805.0</td>\n",
       "      <td>1391.0</td>\n",
       "      <td>1683.0</td>\n",
       "      <td>Open</td>\n",
       "      <td>CAT B</td>\n",
       "      <td>890</td>\n",
       "      <td>6839000</td>\n",
       "    </tr>\n",
       "  </tbody>\n",
       "</table>\n",
       "</div>"
      ],
      "text/plain": [
       "     Observation  Dist_Taxi  Dist_Market  Dist_Hospital  Carpet  Builtup  \\\n",
       "833          834     8441.0      10093.0        13715.0  1436.0   1715.0   \n",
       "162          163    10967.0      12140.0        14999.0  1649.0   1963.0   \n",
       "786          787    12794.0      11457.0        16229.0  1385.0   1643.0   \n",
       "351          352     9107.0       9300.0        17103.0  1320.0   1583.0   \n",
       "494          495     9590.0      10173.0        13574.0  1611.0   1919.0   \n",
       "404          405     6860.0      12712.0        12638.0  1491.0   1800.0   \n",
       "83            84    11703.0      12778.0        16910.0  1598.0      NaN   \n",
       "763          764     8274.0      11673.0        13345.0  1641.0   1999.0   \n",
       "296          297    10517.0       9839.0        13059.0  1390.0   1646.0   \n",
       "393          394     3132.0       8369.0         8805.0  1391.0   1683.0   \n",
       "\n",
       "          Parking City_Category  Rainfall  House_Price  \n",
       "833          Open         CAT B      1030      4818000  \n",
       "162  Not Provided         CAT C       490      2741000  \n",
       "786    No Parking         CAT C       740      7094000  \n",
       "351  Not Provided         CAT B       540      4372000  \n",
       "494       Covered         CAT A       960      7124000  \n",
       "404  Not Provided         CAT A       980      7562000  \n",
       "83        Covered         CAT A       530      8116000  \n",
       "763       Covered         CAT B       950      9300000  \n",
       "296          Open         CAT B       800      4684000  \n",
       "393          Open         CAT B       890      6839000  "
      ]
     },
     "execution_count": 32,
     "metadata": {},
     "output_type": "execute_result"
    }
   ],
   "source": [
    "df_train = price.sample(500)\n",
    "df_train.head(10) # perhatikan kolom \"index-nya\""
   ]
  },
  {
   "cell_type": "markdown",
   "metadata": {
    "slideshow": {
     "slide_type": "slide"
    }
   },
   "source": [
    "# <center><font color=\"blue\"> \"loc\" VS \"iloc\" in Pandas Dataframe</font></center>\n",
    "\n",
    "<center><img alt=\"\" src=\"images/dataframe loc iloc.png\" style=\"height: 350px;\" /></center>"
   ]
  },
  {
   "cell_type": "code",
   "execution_count": 30,
   "metadata": {
    "slideshow": {
     "slide_type": "slide"
    }
   },
   "outputs": [
    {
     "name": "stdout",
     "output_type": "stream",
     "text": [
      "Observation          205\n",
      "Dist_Taxi          10890\n",
      "Dist_Market        13235\n",
      "Dist_Hospital      13935\n",
      "Carpet              1652\n",
      "Builtup             1982\n",
      "Parking          Covered\n",
      "City_Category      CAT C\n",
      "Rainfall             690\n",
      "House_Price      5246000\n",
      "Name: 204, dtype: object\n"
     ]
    }
   ],
   "source": [
    "# Ganti \"N\" dengan index pertama di df_train\n",
    "N = 204\n",
    "try:\n",
    "    print(df_train.loc[N]) \n",
    "except:\n",
    "    print(\"Yakinkan nilai N adalah index pertama di df_train\")"
   ]
  },
  {
   "cell_type": "code",
   "execution_count": 31,
   "metadata": {
    "slideshow": {
     "slide_type": "slide"
    }
   },
   "outputs": [
    {
     "data": {
      "text/plain": [
       "Observation          205\n",
       "Dist_Taxi          10890\n",
       "Dist_Market        13235\n",
       "Dist_Hospital      13935\n",
       "Carpet              1652\n",
       "Builtup             1982\n",
       "Parking          Covered\n",
       "City_Category      CAT C\n",
       "Rainfall             690\n",
       "House_Price      5246000\n",
       "Name: 204, dtype: object"
      ]
     },
     "execution_count": 31,
     "metadata": {},
     "output_type": "execute_result"
    }
   ],
   "source": [
    "df_train.iloc[0]#['Parking']"
   ]
  },
  {
   "cell_type": "code",
   "execution_count": 33,
   "metadata": {
    "slideshow": {
     "slide_type": "slide"
    }
   },
   "outputs": [
    {
     "name": "stdout",
     "output_type": "stream",
     "text": [
      "(436, 10)\n"
     ]
    },
    {
     "data": {
      "text/html": [
       "<div>\n",
       "<style scoped>\n",
       "    .dataframe tbody tr th:only-of-type {\n",
       "        vertical-align: middle;\n",
       "    }\n",
       "\n",
       "    .dataframe tbody tr th {\n",
       "        vertical-align: top;\n",
       "    }\n",
       "\n",
       "    .dataframe thead th {\n",
       "        text-align: right;\n",
       "    }\n",
       "</style>\n",
       "<table border=\"1\" class=\"dataframe\">\n",
       "  <thead>\n",
       "    <tr style=\"text-align: right;\">\n",
       "      <th></th>\n",
       "      <th>Observation</th>\n",
       "      <th>Dist_Taxi</th>\n",
       "      <th>Dist_Market</th>\n",
       "      <th>Dist_Hospital</th>\n",
       "      <th>Carpet</th>\n",
       "      <th>Builtup</th>\n",
       "      <th>Parking</th>\n",
       "      <th>City_Category</th>\n",
       "      <th>Rainfall</th>\n",
       "      <th>House_Price</th>\n",
       "    </tr>\n",
       "  </thead>\n",
       "  <tbody>\n",
       "    <tr>\n",
       "      <th>0</th>\n",
       "      <td>1</td>\n",
       "      <td>9796.0</td>\n",
       "      <td>5250.0</td>\n",
       "      <td>10703.0</td>\n",
       "      <td>1659.0</td>\n",
       "      <td>1961.0</td>\n",
       "      <td>Open</td>\n",
       "      <td>CAT B</td>\n",
       "      <td>530</td>\n",
       "      <td>6649000</td>\n",
       "    </tr>\n",
       "    <tr>\n",
       "      <th>1</th>\n",
       "      <td>2</td>\n",
       "      <td>8294.0</td>\n",
       "      <td>8186.0</td>\n",
       "      <td>12694.0</td>\n",
       "      <td>1461.0</td>\n",
       "      <td>1752.0</td>\n",
       "      <td>Not Provided</td>\n",
       "      <td>CAT B</td>\n",
       "      <td>210</td>\n",
       "      <td>3982000</td>\n",
       "    </tr>\n",
       "    <tr>\n",
       "      <th>2</th>\n",
       "      <td>3</td>\n",
       "      <td>11001.0</td>\n",
       "      <td>14399.0</td>\n",
       "      <td>16991.0</td>\n",
       "      <td>1340.0</td>\n",
       "      <td>1609.0</td>\n",
       "      <td>Not Provided</td>\n",
       "      <td>CAT A</td>\n",
       "      <td>720</td>\n",
       "      <td>5401000</td>\n",
       "    </tr>\n",
       "    <tr>\n",
       "      <th>5</th>\n",
       "      <td>6</td>\n",
       "      <td>6665.0</td>\n",
       "      <td>5142.0</td>\n",
       "      <td>9972.0</td>\n",
       "      <td>1442.0</td>\n",
       "      <td>1733.0</td>\n",
       "      <td>Open</td>\n",
       "      <td>CAT B</td>\n",
       "      <td>760</td>\n",
       "      <td>4526000</td>\n",
       "    </tr>\n",
       "    <tr>\n",
       "      <th>8</th>\n",
       "      <td>9</td>\n",
       "      <td>7495.0</td>\n",
       "      <td>11589.0</td>\n",
       "      <td>13370.0</td>\n",
       "      <td>1090.0</td>\n",
       "      <td>1321.0</td>\n",
       "      <td>Not Provided</td>\n",
       "      <td>CAT B</td>\n",
       "      <td>680</td>\n",
       "      <td>4631000</td>\n",
       "    </tr>\n",
       "  </tbody>\n",
       "</table>\n",
       "</div>"
      ],
      "text/plain": [
       "   Observation  Dist_Taxi  Dist_Market  Dist_Hospital  Carpet  Builtup  \\\n",
       "0            1     9796.0       5250.0        10703.0  1659.0   1961.0   \n",
       "1            2     8294.0       8186.0        12694.0  1461.0   1752.0   \n",
       "2            3    11001.0      14399.0        16991.0  1340.0   1609.0   \n",
       "5            6     6665.0       5142.0         9972.0  1442.0   1733.0   \n",
       "8            9     7495.0      11589.0        13370.0  1090.0   1321.0   \n",
       "\n",
       "        Parking City_Category  Rainfall  House_Price  \n",
       "0          Open         CAT B       530      6649000  \n",
       "1  Not Provided         CAT B       210      3982000  \n",
       "2  Not Provided         CAT A       720      5401000  \n",
       "5          Open         CAT B       760      4526000  \n",
       "8  Not Provided         CAT B       680      4631000  "
      ]
     },
     "execution_count": 33,
     "metadata": {},
     "output_type": "execute_result"
    }
   ],
   "source": [
    "# Sehingga bisa digunakan untuk menentukan Test Data dari dataframe\n",
    "df_test = price.loc[set(price.index) - set(df_train.index)]\n",
    "print(df_test.shape)\n",
    "df_test.head()"
   ]
  },
  {
   "cell_type": "markdown",
   "metadata": {
    "slideshow": {
     "slide_type": "slide"
    }
   },
   "source": [
    "# <center><font color=\"blue\"> Iterating on dataframe (Sangat Penting)</font></center>\n",
    "### <font color=\"green\"> Banyak yang tidak menyarankan, tapi banyak situasi di dunia nyata yang memaksa kita melakukan hal ini.</font>\n",
    "\n",
    "<center><img alt=\"\" src=\"images/pandas iteration.png\" style=\"height: 350px;\" /></center>\n",
    "    \n",
    "* https://www.dataindependent.com/pandas/pandas-iterate-over-rows/"
   ]
  },
  {
   "cell_type": "code",
   "execution_count": 40,
   "metadata": {
    "slideshow": {
     "slide_type": "slide"
    }
   },
   "outputs": [
    {
     "data": {
      "text/html": [
       "<div>\n",
       "<style scoped>\n",
       "    .dataframe tbody tr th:only-of-type {\n",
       "        vertical-align: middle;\n",
       "    }\n",
       "\n",
       "    .dataframe tbody tr th {\n",
       "        vertical-align: top;\n",
       "    }\n",
       "\n",
       "    .dataframe thead th {\n",
       "        text-align: right;\n",
       "    }\n",
       "</style>\n",
       "<table border=\"1\" class=\"dataframe\">\n",
       "  <thead>\n",
       "    <tr style=\"text-align: right;\">\n",
       "      <th></th>\n",
       "      <th>0</th>\n",
       "      <th>1</th>\n",
       "      <th>2</th>\n",
       "      <th>3</th>\n",
       "      <th>4</th>\n",
       "    </tr>\n",
       "  </thead>\n",
       "  <tbody>\n",
       "    <tr>\n",
       "      <th>Observation</th>\n",
       "      <td>1</td>\n",
       "      <td>2</td>\n",
       "      <td>3</td>\n",
       "      <td>4</td>\n",
       "      <td>5</td>\n",
       "    </tr>\n",
       "    <tr>\n",
       "      <th>Dist_Taxi</th>\n",
       "      <td>9796</td>\n",
       "      <td>8294</td>\n",
       "      <td>11001</td>\n",
       "      <td>8301</td>\n",
       "      <td>10510</td>\n",
       "    </tr>\n",
       "    <tr>\n",
       "      <th>Dist_Market</th>\n",
       "      <td>5250</td>\n",
       "      <td>8186</td>\n",
       "      <td>14399</td>\n",
       "      <td>11188</td>\n",
       "      <td>12629</td>\n",
       "    </tr>\n",
       "    <tr>\n",
       "      <th>Dist_Hospital</th>\n",
       "      <td>10703</td>\n",
       "      <td>12694</td>\n",
       "      <td>16991</td>\n",
       "      <td>12289</td>\n",
       "      <td>13921</td>\n",
       "    </tr>\n",
       "    <tr>\n",
       "      <th>Carpet</th>\n",
       "      <td>1659</td>\n",
       "      <td>1461</td>\n",
       "      <td>1340</td>\n",
       "      <td>1451</td>\n",
       "      <td>1770</td>\n",
       "    </tr>\n",
       "    <tr>\n",
       "      <th>Builtup</th>\n",
       "      <td>1961</td>\n",
       "      <td>1752</td>\n",
       "      <td>1609</td>\n",
       "      <td>1748</td>\n",
       "      <td>2111</td>\n",
       "    </tr>\n",
       "    <tr>\n",
       "      <th>Parking</th>\n",
       "      <td>Open</td>\n",
       "      <td>Not Provided</td>\n",
       "      <td>Not Provided</td>\n",
       "      <td>Covered</td>\n",
       "      <td>Not Provided</td>\n",
       "    </tr>\n",
       "    <tr>\n",
       "      <th>City_Category</th>\n",
       "      <td>CAT B</td>\n",
       "      <td>CAT B</td>\n",
       "      <td>CAT A</td>\n",
       "      <td>CAT B</td>\n",
       "      <td>CAT B</td>\n",
       "    </tr>\n",
       "    <tr>\n",
       "      <th>Rainfall</th>\n",
       "      <td>530</td>\n",
       "      <td>210</td>\n",
       "      <td>720</td>\n",
       "      <td>620</td>\n",
       "      <td>450</td>\n",
       "    </tr>\n",
       "    <tr>\n",
       "      <th>House_Price</th>\n",
       "      <td>6649000</td>\n",
       "      <td>3982000</td>\n",
       "      <td>5401000</td>\n",
       "      <td>5373000</td>\n",
       "      <td>4662000</td>\n",
       "    </tr>\n",
       "    <tr>\n",
       "      <th>harga_jual</th>\n",
       "      <td>6649025</td>\n",
       "      <td>3982025</td>\n",
       "      <td>5401025</td>\n",
       "      <td>5373025</td>\n",
       "      <td>4662025</td>\n",
       "    </tr>\n",
       "    <tr>\n",
       "      <th>total_jarak</th>\n",
       "      <td>25749</td>\n",
       "      <td>29174</td>\n",
       "      <td>42391</td>\n",
       "      <td>31778</td>\n",
       "      <td>37060</td>\n",
       "    </tr>\n",
       "  </tbody>\n",
       "</table>\n",
       "</div>"
      ],
      "text/plain": [
       "                     0             1             2        3             4\n",
       "Observation          1             2             3        4             5\n",
       "Dist_Taxi         9796          8294         11001     8301         10510\n",
       "Dist_Market       5250          8186         14399    11188         12629\n",
       "Dist_Hospital    10703         12694         16991    12289         13921\n",
       "Carpet            1659          1461          1340     1451          1770\n",
       "Builtup           1961          1752          1609     1748          2111\n",
       "Parking           Open  Not Provided  Not Provided  Covered  Not Provided\n",
       "City_Category    CAT B         CAT B         CAT A    CAT B         CAT B\n",
       "Rainfall           530           210           720      620           450\n",
       "House_Price    6649000       3982000       5401000  5373000       4662000\n",
       "harga_jual     6649025       3982025       5401025  5373025       4662025\n",
       "total_jarak      25749         29174         42391    31778         37060"
      ]
     },
     "execution_count": 40,
     "metadata": {},
     "output_type": "execute_result"
    }
   ],
   "source": [
    "# Kita juga meng-iterasikan sebuah dataframe (jika diperlukan)\n",
    "price['total_jarak'] = [0]*price.shape[0]\n",
    "for i, d in price.iterrows():\n",
    "    price['total_jarak'].loc[i] = d.Dist_Taxi + d.Dist_Market + d.Dist_Hospital\n",
    "\n",
    "price.head().transpose()"
   ]
  },
  {
   "cell_type": "code",
   "execution_count": 43,
   "metadata": {
    "slideshow": {
     "slide_type": "slide"
    }
   },
   "outputs": [
    {
     "data": {
      "text/html": [
       "<div>\n",
       "<style scoped>\n",
       "    .dataframe tbody tr th:only-of-type {\n",
       "        vertical-align: middle;\n",
       "    }\n",
       "\n",
       "    .dataframe tbody tr th {\n",
       "        vertical-align: top;\n",
       "    }\n",
       "\n",
       "    .dataframe thead th {\n",
       "        text-align: right;\n",
       "    }\n",
       "</style>\n",
       "<table border=\"1\" class=\"dataframe\">\n",
       "  <thead>\n",
       "    <tr style=\"text-align: right;\">\n",
       "      <th></th>\n",
       "      <th>Observation</th>\n",
       "      <th>Dist_Taxi</th>\n",
       "      <th>Dist_Market</th>\n",
       "      <th>Dist_Hospital</th>\n",
       "      <th>Carpet</th>\n",
       "      <th>Builtup</th>\n",
       "      <th>Parking</th>\n",
       "      <th>City_Category</th>\n",
       "      <th>Rainfall</th>\n",
       "      <th>House_Price</th>\n",
       "      <th>harga_jual</th>\n",
       "      <th>total_jarak</th>\n",
       "    </tr>\n",
       "  </thead>\n",
       "  <tbody>\n",
       "    <tr>\n",
       "      <th>0</th>\n",
       "      <td>1</td>\n",
       "      <td>9796.0</td>\n",
       "      <td>5250.0</td>\n",
       "      <td>10703.0</td>\n",
       "      <td>1659.0</td>\n",
       "      <td>1961.0</td>\n",
       "      <td>Open</td>\n",
       "      <td>CAT B</td>\n",
       "      <td>530</td>\n",
       "      <td>6649000</td>\n",
       "      <td>6899000</td>\n",
       "      <td>25749.0</td>\n",
       "    </tr>\n",
       "    <tr>\n",
       "      <th>1</th>\n",
       "      <td>2</td>\n",
       "      <td>8294.0</td>\n",
       "      <td>8186.0</td>\n",
       "      <td>12694.0</td>\n",
       "      <td>1461.0</td>\n",
       "      <td>1752.0</td>\n",
       "      <td>Not Provided</td>\n",
       "      <td>CAT B</td>\n",
       "      <td>210</td>\n",
       "      <td>3982000</td>\n",
       "      <td>4232000</td>\n",
       "      <td>29174.0</td>\n",
       "    </tr>\n",
       "    <tr>\n",
       "      <th>2</th>\n",
       "      <td>3</td>\n",
       "      <td>11001.0</td>\n",
       "      <td>14399.0</td>\n",
       "      <td>16991.0</td>\n",
       "      <td>1340.0</td>\n",
       "      <td>1609.0</td>\n",
       "      <td>Not Provided</td>\n",
       "      <td>CAT A</td>\n",
       "      <td>720</td>\n",
       "      <td>5401000</td>\n",
       "      <td>5651000</td>\n",
       "      <td>42391.0</td>\n",
       "    </tr>\n",
       "  </tbody>\n",
       "</table>\n",
       "</div>"
      ],
      "text/plain": [
       "   Observation  Dist_Taxi  Dist_Market  Dist_Hospital  Carpet  Builtup  \\\n",
       "0            1     9796.0       5250.0        10703.0  1659.0   1961.0   \n",
       "1            2     8294.0       8186.0        12694.0  1461.0   1752.0   \n",
       "2            3    11001.0      14399.0        16991.0  1340.0   1609.0   \n",
       "\n",
       "        Parking City_Category  Rainfall  House_Price  harga_jual  total_jarak  \n",
       "0          Open         CAT B       530      6649000     6899000      25749.0  \n",
       "1  Not Provided         CAT B       210      3982000     4232000      29174.0  \n",
       "2  Not Provided         CAT A       720      5401000     5651000      42391.0  "
      ]
     },
     "execution_count": 43,
     "metadata": {},
     "output_type": "execute_result"
    }
   ],
   "source": [
    "# Apply menggunakan \"cython\" sehingga lebih cepat\n",
    "price['harga_jual'] = price['House_Price'].apply(lambda x: x + 250000)\n",
    "# akan ada kolom baru di dataframe \"price\"\n",
    "price.head(3)"
   ]
  },
  {
   "cell_type": "markdown",
   "metadata": {
    "slideshow": {
     "slide_type": "slide"
    }
   },
   "source": [
    "# <center><font color=\"blue\"> Removing variable(s) & Fixing Variable Type(s)</font></center>\n",
    "\n",
    "<center><img alt=\"\" src=\"images/pandas-dataframe-drop.png\" style=\"height: 350px;\" /></center>"
   ]
  },
  {
   "cell_type": "code",
   "execution_count": 44,
   "metadata": {
    "slideshow": {
     "slide_type": "slide"
    }
   },
   "outputs": [
    {
     "data": {
      "text/plain": [
       "Index(['Observation', 'Dist_Taxi', 'Dist_Market', 'Dist_Hospital', 'Carpet',\n",
       "       'Builtup', 'Parking', 'City_Category', 'Rainfall', 'House_Price',\n",
       "       'harga_jual', 'total_jarak'],\n",
       "      dtype='object')"
      ]
     },
     "execution_count": 44,
     "metadata": {},
     "output_type": "execute_result"
    }
   ],
   "source": [
    "# perhatikan perintahnya tidak menggunakan tanda \"()\" ==> Properties \n",
    "price.columns"
   ]
  },
  {
   "cell_type": "code",
   "execution_count": 87,
   "metadata": {
    "ExecuteTime": {
     "end_time": "2019-09-30T01:09:54.493202Z",
     "start_time": "2019-09-30T01:09:54.484458Z"
    },
    "slideshow": {
     "slide_type": "fragment"
    }
   },
   "outputs": [
    {
     "name": "stdout",
     "output_type": "stream",
     "text": [
      "Index(['Dist_Taxi', 'Dist_Market', 'Dist_Hospital', 'Carpet', 'Builtup',\n",
      "       'Parking', 'City_Category', 'Rainfall', 'House_Price'],\n",
      "      dtype='object')\n"
     ]
    },
    {
     "data": {
      "text/html": [
       "<div>\n",
       "<style scoped>\n",
       "    .dataframe tbody tr th:only-of-type {\n",
       "        vertical-align: middle;\n",
       "    }\n",
       "\n",
       "    .dataframe tbody tr th {\n",
       "        vertical-align: top;\n",
       "    }\n",
       "\n",
       "    .dataframe thead th {\n",
       "        text-align: right;\n",
       "    }\n",
       "</style>\n",
       "<table border=\"1\" class=\"dataframe\">\n",
       "  <thead>\n",
       "    <tr style=\"text-align: right;\">\n",
       "      <th></th>\n",
       "      <th>Dist_Taxi</th>\n",
       "      <th>Dist_Market</th>\n",
       "      <th>Dist_Hospital</th>\n",
       "      <th>Carpet</th>\n",
       "      <th>Builtup</th>\n",
       "      <th>Parking</th>\n",
       "      <th>City_Category</th>\n",
       "      <th>Rainfall</th>\n",
       "      <th>House_Price</th>\n",
       "    </tr>\n",
       "  </thead>\n",
       "  <tbody>\n",
       "    <tr>\n",
       "      <th>0</th>\n",
       "      <td>9796.0</td>\n",
       "      <td>5250.0</td>\n",
       "      <td>10703.0</td>\n",
       "      <td>1659.0</td>\n",
       "      <td>1961.0</td>\n",
       "      <td>Open</td>\n",
       "      <td>CAT B</td>\n",
       "      <td>530</td>\n",
       "      <td>6649000</td>\n",
       "    </tr>\n",
       "    <tr>\n",
       "      <th>1</th>\n",
       "      <td>8294.0</td>\n",
       "      <td>8186.0</td>\n",
       "      <td>12694.0</td>\n",
       "      <td>1461.0</td>\n",
       "      <td>1752.0</td>\n",
       "      <td>Not Provided</td>\n",
       "      <td>CAT B</td>\n",
       "      <td>210</td>\n",
       "      <td>3982000</td>\n",
       "    </tr>\n",
       "    <tr>\n",
       "      <th>2</th>\n",
       "      <td>11001.0</td>\n",
       "      <td>14399.0</td>\n",
       "      <td>16991.0</td>\n",
       "      <td>1340.0</td>\n",
       "      <td>1609.0</td>\n",
       "      <td>Not Provided</td>\n",
       "      <td>CAT A</td>\n",
       "      <td>720</td>\n",
       "      <td>5401000</td>\n",
       "    </tr>\n",
       "  </tbody>\n",
       "</table>\n",
       "</div>"
      ],
      "text/plain": [
       "   Dist_Taxi  Dist_Market  Dist_Hospital  Carpet  Builtup       Parking  \\\n",
       "0     9796.0       5250.0        10703.0  1659.0   1961.0          Open   \n",
       "1     8294.0       8186.0        12694.0  1461.0   1752.0  Not Provided   \n",
       "2    11001.0      14399.0        16991.0  1340.0   1609.0  Not Provided   \n",
       "\n",
       "  City_Category  Rainfall  House_Price  \n",
       "0         CAT B       530      6649000  \n",
       "1         CAT B       210      3982000  \n",
       "2         CAT A       720      5401000  "
      ]
     },
     "execution_count": 87,
     "metadata": {},
     "output_type": "execute_result"
    }
   ],
   "source": [
    "# Drop kolom pertama karena tidak berguna (hanya \"observation\" ~ index)\n",
    "try: # Good practice untuk selalu gunakan Try-Except saat melakukan \"drop\" ... mengapa?\n",
    "    price.drop([\"Observation\"], axis=1, inplace=True) # Parameter \"inplace=True\" penting saat datanya besar.\n",
    "except Exception as err_:\n",
    "    print(err_)\n",
    "    \n",
    "print(price.columns)\n",
    "price.head(3)"
   ]
  },
  {
   "cell_type": "code",
   "execution_count": 49,
   "metadata": {
    "slideshow": {
     "slide_type": "slide"
    }
   },
   "outputs": [],
   "source": [
    "# Contoh hapus baris ke-1 dan ke-3\n",
    "price.drop(price.index[[0,2]], inplace=True) # sengaja tidak menggunakan \"inplace=True\" ... perhatikan hasil cell setelah ini"
   ]
  },
  {
   "cell_type": "code",
   "execution_count": 50,
   "metadata": {
    "slideshow": {
     "slide_type": "slide"
    }
   },
   "outputs": [
    {
     "data": {
      "text/html": [
       "<div>\n",
       "<style scoped>\n",
       "    .dataframe tbody tr th:only-of-type {\n",
       "        vertical-align: middle;\n",
       "    }\n",
       "\n",
       "    .dataframe tbody tr th {\n",
       "        vertical-align: top;\n",
       "    }\n",
       "\n",
       "    .dataframe thead th {\n",
       "        text-align: right;\n",
       "    }\n",
       "</style>\n",
       "<table border=\"1\" class=\"dataframe\">\n",
       "  <thead>\n",
       "    <tr style=\"text-align: right;\">\n",
       "      <th></th>\n",
       "      <th>Dist_Taxi</th>\n",
       "      <th>Dist_Market</th>\n",
       "      <th>Dist_Hospital</th>\n",
       "      <th>Carpet</th>\n",
       "      <th>Builtup</th>\n",
       "      <th>Parking</th>\n",
       "      <th>City_Category</th>\n",
       "      <th>Rainfall</th>\n",
       "      <th>House_Price</th>\n",
       "    </tr>\n",
       "  </thead>\n",
       "  <tbody>\n",
       "    <tr>\n",
       "      <th>1</th>\n",
       "      <td>8294.0</td>\n",
       "      <td>8186.0</td>\n",
       "      <td>12694.0</td>\n",
       "      <td>1461.0</td>\n",
       "      <td>1752.0</td>\n",
       "      <td>Not Provided</td>\n",
       "      <td>CAT B</td>\n",
       "      <td>210</td>\n",
       "      <td>3982000</td>\n",
       "    </tr>\n",
       "    <tr>\n",
       "      <th>3</th>\n",
       "      <td>8301.0</td>\n",
       "      <td>11188.0</td>\n",
       "      <td>12289.0</td>\n",
       "      <td>1451.0</td>\n",
       "      <td>1748.0</td>\n",
       "      <td>Covered</td>\n",
       "      <td>CAT B</td>\n",
       "      <td>620</td>\n",
       "      <td>5373000</td>\n",
       "    </tr>\n",
       "    <tr>\n",
       "      <th>4</th>\n",
       "      <td>10510.0</td>\n",
       "      <td>12629.0</td>\n",
       "      <td>13921.0</td>\n",
       "      <td>1770.0</td>\n",
       "      <td>2111.0</td>\n",
       "      <td>Not Provided</td>\n",
       "      <td>CAT B</td>\n",
       "      <td>450</td>\n",
       "      <td>4662000</td>\n",
       "    </tr>\n",
       "    <tr>\n",
       "      <th>5</th>\n",
       "      <td>6665.0</td>\n",
       "      <td>5142.0</td>\n",
       "      <td>9972.0</td>\n",
       "      <td>1442.0</td>\n",
       "      <td>1733.0</td>\n",
       "      <td>Open</td>\n",
       "      <td>CAT B</td>\n",
       "      <td>760</td>\n",
       "      <td>4526000</td>\n",
       "    </tr>\n",
       "  </tbody>\n",
       "</table>\n",
       "</div>"
      ],
      "text/plain": [
       "   Dist_Taxi  Dist_Market  Dist_Hospital  Carpet  Builtup       Parking  \\\n",
       "1     8294.0       8186.0        12694.0  1461.0   1752.0  Not Provided   \n",
       "3     8301.0      11188.0        12289.0  1451.0   1748.0       Covered   \n",
       "4    10510.0      12629.0        13921.0  1770.0   2111.0  Not Provided   \n",
       "5     6665.0       5142.0         9972.0  1442.0   1733.0          Open   \n",
       "\n",
       "  City_Category  Rainfall  House_Price  \n",
       "1         CAT B       210      3982000  \n",
       "3         CAT B       620      5373000  \n",
       "4         CAT B       450      4662000  \n",
       "5         CAT B       760      4526000  "
      ]
     },
     "execution_count": 50,
     "metadata": {},
     "output_type": "execute_result"
    }
   ],
   "source": [
    "price.head(4) # Apa yang terjadi?"
   ]
  },
  {
   "cell_type": "code",
   "execution_count": 51,
   "metadata": {
    "slideshow": {
     "slide_type": "slide"
    }
   },
   "outputs": [
    {
     "name": "stdout",
     "output_type": "stream",
     "text": [
      "type =  <class 'pandas.core.indexes.numeric.Int64Index'> \n",
      "value =  Int64Index([1, 4], dtype='int64')\n"
     ]
    }
   ],
   "source": [
    "# di machine learning/AI/Data Science memahami Struktur Data adalah kunci penting untuk memahaminya\n",
    "print( \"type = \", type(price.index[[0,2]]),  \"\\nvalue = \",price.index[[0,2]]) \n",
    "# drop by int \"index\" kalau rows & nama column+axis=1 jika drop kolom"
   ]
  },
  {
   "cell_type": "code",
   "execution_count": 52,
   "metadata": {
    "slideshow": {
     "slide_type": "slide"
    }
   },
   "outputs": [
    {
     "name": "stdout",
     "output_type": "stream",
     "text": [
      "(610, 9)\n"
     ]
    },
    {
     "data": {
      "text/html": [
       "<div>\n",
       "<style scoped>\n",
       "    .dataframe tbody tr th:only-of-type {\n",
       "        vertical-align: middle;\n",
       "    }\n",
       "\n",
       "    .dataframe tbody tr th {\n",
       "        vertical-align: top;\n",
       "    }\n",
       "\n",
       "    .dataframe thead th {\n",
       "        text-align: right;\n",
       "    }\n",
       "</style>\n",
       "<table border=\"1\" class=\"dataframe\">\n",
       "  <thead>\n",
       "    <tr style=\"text-align: right;\">\n",
       "      <th></th>\n",
       "      <th>Dist_Taxi</th>\n",
       "      <th>Dist_Market</th>\n",
       "      <th>Dist_Hospital</th>\n",
       "      <th>Carpet</th>\n",
       "      <th>Builtup</th>\n",
       "      <th>Parking</th>\n",
       "      <th>City_Category</th>\n",
       "      <th>Rainfall</th>\n",
       "      <th>House_Price</th>\n",
       "    </tr>\n",
       "  </thead>\n",
       "  <tbody>\n",
       "    <tr>\n",
       "      <th>1</th>\n",
       "      <td>8294.0</td>\n",
       "      <td>8186.0</td>\n",
       "      <td>12694.0</td>\n",
       "      <td>1461.0</td>\n",
       "      <td>1752.0</td>\n",
       "      <td>Not Provided</td>\n",
       "      <td>CAT B</td>\n",
       "      <td>210</td>\n",
       "      <td>3982000</td>\n",
       "    </tr>\n",
       "    <tr>\n",
       "      <th>3</th>\n",
       "      <td>8301.0</td>\n",
       "      <td>11188.0</td>\n",
       "      <td>12289.0</td>\n",
       "      <td>1451.0</td>\n",
       "      <td>1748.0</td>\n",
       "      <td>Covered</td>\n",
       "      <td>CAT B</td>\n",
       "      <td>620</td>\n",
       "      <td>5373000</td>\n",
       "    </tr>\n",
       "    <tr>\n",
       "      <th>4</th>\n",
       "      <td>10510.0</td>\n",
       "      <td>12629.0</td>\n",
       "      <td>13921.0</td>\n",
       "      <td>1770.0</td>\n",
       "      <td>2111.0</td>\n",
       "      <td>Not Provided</td>\n",
       "      <td>CAT B</td>\n",
       "      <td>450</td>\n",
       "      <td>4662000</td>\n",
       "    </tr>\n",
       "    <tr>\n",
       "      <th>5</th>\n",
       "      <td>6665.0</td>\n",
       "      <td>5142.0</td>\n",
       "      <td>9972.0</td>\n",
       "      <td>1442.0</td>\n",
       "      <td>1733.0</td>\n",
       "      <td>Open</td>\n",
       "      <td>CAT B</td>\n",
       "      <td>760</td>\n",
       "      <td>4526000</td>\n",
       "    </tr>\n",
       "    <tr>\n",
       "      <th>7</th>\n",
       "      <td>5882.0</td>\n",
       "      <td>9948.0</td>\n",
       "      <td>13315.0</td>\n",
       "      <td>1261.0</td>\n",
       "      <td>1507.0</td>\n",
       "      <td>Open</td>\n",
       "      <td>CAT C</td>\n",
       "      <td>1020</td>\n",
       "      <td>3772000</td>\n",
       "    </tr>\n",
       "    <tr>\n",
       "      <th>8</th>\n",
       "      <td>7495.0</td>\n",
       "      <td>11589.0</td>\n",
       "      <td>13370.0</td>\n",
       "      <td>1090.0</td>\n",
       "      <td>1321.0</td>\n",
       "      <td>Not Provided</td>\n",
       "      <td>CAT B</td>\n",
       "      <td>680</td>\n",
       "      <td>4631000</td>\n",
       "    </tr>\n",
       "    <tr>\n",
       "      <th>9</th>\n",
       "      <td>8233.0</td>\n",
       "      <td>7067.0</td>\n",
       "      <td>11400.0</td>\n",
       "      <td>1030.0</td>\n",
       "      <td>1235.0</td>\n",
       "      <td>Open</td>\n",
       "      <td>CAT C</td>\n",
       "      <td>1130</td>\n",
       "      <td>4415000</td>\n",
       "    </tr>\n",
       "  </tbody>\n",
       "</table>\n",
       "</div>"
      ],
      "text/plain": [
       "   Dist_Taxi  Dist_Market  Dist_Hospital  Carpet  Builtup       Parking  \\\n",
       "1     8294.0       8186.0        12694.0  1461.0   1752.0  Not Provided   \n",
       "3     8301.0      11188.0        12289.0  1451.0   1748.0       Covered   \n",
       "4    10510.0      12629.0        13921.0  1770.0   2111.0  Not Provided   \n",
       "5     6665.0       5142.0         9972.0  1442.0   1733.0          Open   \n",
       "7     5882.0       9948.0        13315.0  1261.0   1507.0          Open   \n",
       "8     7495.0      11589.0        13370.0  1090.0   1321.0  Not Provided   \n",
       "9     8233.0       7067.0        11400.0  1030.0   1235.0          Open   \n",
       "\n",
       "  City_Category  Rainfall  House_Price  \n",
       "1         CAT B       210      3982000  \n",
       "3         CAT B       620      5373000  \n",
       "4         CAT B       450      4662000  \n",
       "5         CAT B       760      4526000  \n",
       "7         CAT C      1020      3772000  \n",
       "8         CAT B       680      4631000  \n",
       "9         CAT C      1130      4415000  "
      ]
     },
     "execution_count": 52,
     "metadata": {},
     "output_type": "execute_result"
    }
   ],
   "source": [
    "# delete Rows dengan kondisi\n",
    "price.drop(price[(price.House_Price > 6500000) & (price.House_Price < 9000000)].index, inplace=True)\n",
    "# untuk mengingatnya, bayangkan saja \"parameter\" dari drop adalah int index seperti di penjelasan cell sebelumnya\n",
    "print(price.shape)\n",
    "price.head(7)"
   ]
  },
  {
   "cell_type": "markdown",
   "metadata": {
    "slideshow": {
     "slide_type": "slide"
    }
   },
   "source": [
    "# <center><font color=\"blue\"> Mengoreksi Tipe variabel: \"dtype\" & \"info\"</font></center>\n",
    "\n",
    "### <font color=\"green\"> Salah satu kunci penting dalam memahami ML/AI/Data Science baik Teori maupun aplikasinya adalah \"Struktur Data\"</font>\n",
    "    \n",
    "<center><img alt=\"\" src=\"images/pandas_dtypes.png\" style=\"height: 350px;\" /></center>"
   ]
  },
  {
   "cell_type": "code",
   "execution_count": 53,
   "metadata": {
    "ExecuteTime": {
     "end_time": "2019-09-30T01:09:45.067396Z",
     "start_time": "2019-09-30T01:09:45.058420Z"
    },
    "slideshow": {
     "slide_type": "fragment"
    }
   },
   "outputs": [
    {
     "name": "stdout",
     "output_type": "stream",
     "text": [
      "<class 'pandas.core.frame.DataFrame'>\n",
      "Int64Index: 610 entries, 1 to 931\n",
      "Data columns (total 9 columns):\n",
      " #   Column         Non-Null Count  Dtype  \n",
      "---  ------         --------------  -----  \n",
      " 0   Dist_Taxi      603 non-null    float64\n",
      " 1   Dist_Market    603 non-null    float64\n",
      " 2   Dist_Hospital  609 non-null    float64\n",
      " 3   Carpet         604 non-null    float64\n",
      " 4   Builtup        599 non-null    float64\n",
      " 5   Parking        610 non-null    object \n",
      " 6   City_Category  610 non-null    object \n",
      " 7   Rainfall       610 non-null    int64  \n",
      " 8   House_Price    610 non-null    int64  \n",
      "dtypes: float64(5), int64(2), object(2)\n",
      "memory usage: 47.7+ KB\n"
     ]
    }
   ],
   "source": [
    "# tipe data di setiap kolom\n",
    "# Wajib di periksa apakah tipe datanya sudah tepat?\n",
    "# Perhatikan df sebagaimana semua variable di Python diperlakukan seperti object\n",
    "price.info()"
   ]
  },
  {
   "cell_type": "code",
   "execution_count": 54,
   "metadata": {
    "slideshow": {
     "slide_type": "slide"
    }
   },
   "outputs": [
    {
     "data": {
      "text/plain": [
       "Dist_Taxi        float64\n",
       "Dist_Market      float64\n",
       "Dist_Hospital    float64\n",
       "Carpet           float64\n",
       "Builtup          float64\n",
       "Parking           object\n",
       "City_Category     object\n",
       "Rainfall           int64\n",
       "House_Price        int64\n",
       "dtype: object"
      ]
     },
     "execution_count": 54,
     "metadata": {},
     "output_type": "execute_result"
    }
   ],
   "source": [
    "price.dtypes # less information, tapi perhatikan struktur datanya (more useful). "
   ]
  },
  {
   "cell_type": "code",
   "execution_count": 55,
   "metadata": {
    "ExecuteTime": {
     "end_time": "2019-09-30T01:10:08.390322Z",
     "start_time": "2019-09-30T01:10:08.380136Z"
    },
    "slideshow": {
     "slide_type": "slide"
    }
   },
   "outputs": [
    {
     "data": {
      "text/plain": [
       "Dist_Taxi         float64\n",
       "Dist_Market       float64\n",
       "Dist_Hospital     float64\n",
       "Carpet            float64\n",
       "Builtup           float64\n",
       "Parking          category\n",
       "City_Category    category\n",
       "Rainfall            int64\n",
       "House_Price         int64\n",
       "dtype: object"
      ]
     },
     "execution_count": 55,
     "metadata": {},
     "output_type": "execute_result"
    }
   ],
   "source": [
    "# dataframe types: https://pbpython.com/pandas_dtypes.html\n",
    "price['Parking'] = price['Parking'].astype('category')\n",
    "price['City_Category'] = price['City_Category'].astype('category')\n",
    "price.dtypes"
   ]
  },
  {
   "cell_type": "markdown",
   "metadata": {
    "slideshow": {
     "slide_type": "slide"
    }
   },
   "source": [
    "# <center><font color=\"blue\"> Variable Type Selection</font></center>\n",
    "### <font color=\"green\"> Slicing data berdasarkan Tipe sangat penting, karena visualisasi atau algoritma tertentu hanya untuk suatu tipe data tertentu juga.</font>\n",
    "    \n",
    "<center><img alt=\"\" src=\"images/pandas subsetting.png\" style=\"height: 250px;\" /></center>"
   ]
  },
  {
   "cell_type": "code",
   "execution_count": 56,
   "metadata": {
    "ExecuteTime": {
     "end_time": "2019-09-30T01:01:49.539624Z",
     "start_time": "2019-09-30T01:01:49.524628Z"
    },
    "slideshow": {
     "slide_type": "slide"
    }
   },
   "outputs": [
    {
     "data": {
      "text/plain": [
       "['Dist_Taxi',\n",
       " 'Dist_Market',\n",
       " 'Dist_Hospital',\n",
       " 'Carpet',\n",
       " 'Builtup',\n",
       " 'Rainfall',\n",
       " 'House_Price']"
      ]
     },
     "execution_count": 56,
     "metadata": {},
     "output_type": "execute_result"
    }
   ],
   "source": [
    "# Jika yang dibutuhkan memang hanya nama kolom, maka kita bisa melakukan hal ini untuk menghemat penggunaan memory\n",
    "numVar = price.select_dtypes(include = ['float64', 'int64']).columns\n",
    "\n",
    "numVar.to_list()"
   ]
  },
  {
   "cell_type": "code",
   "execution_count": 57,
   "metadata": {
    "ExecuteTime": {
     "end_time": "2019-09-30T01:12:35.600749Z",
     "start_time": "2019-09-30T01:12:35.580328Z"
    },
    "slideshow": {
     "slide_type": "slide"
    }
   },
   "outputs": [
    {
     "data": {
      "text/html": [
       "<div>\n",
       "<style scoped>\n",
       "    .dataframe tbody tr th:only-of-type {\n",
       "        vertical-align: middle;\n",
       "    }\n",
       "\n",
       "    .dataframe tbody tr th {\n",
       "        vertical-align: top;\n",
       "    }\n",
       "\n",
       "    .dataframe thead th {\n",
       "        text-align: right;\n",
       "    }\n",
       "</style>\n",
       "<table border=\"1\" class=\"dataframe\">\n",
       "  <thead>\n",
       "    <tr style=\"text-align: right;\">\n",
       "      <th></th>\n",
       "      <th>Dist_Taxi</th>\n",
       "      <th>Dist_Market</th>\n",
       "      <th>Dist_Hospital</th>\n",
       "      <th>Carpet</th>\n",
       "      <th>Builtup</th>\n",
       "      <th>Rainfall</th>\n",
       "      <th>House_Price</th>\n",
       "    </tr>\n",
       "  </thead>\n",
       "  <tbody>\n",
       "    <tr>\n",
       "      <th>1</th>\n",
       "      <td>8294.0</td>\n",
       "      <td>8186.0</td>\n",
       "      <td>12694.0</td>\n",
       "      <td>1461.0</td>\n",
       "      <td>1752.0</td>\n",
       "      <td>210</td>\n",
       "      <td>3982000</td>\n",
       "    </tr>\n",
       "    <tr>\n",
       "      <th>3</th>\n",
       "      <td>8301.0</td>\n",
       "      <td>11188.0</td>\n",
       "      <td>12289.0</td>\n",
       "      <td>1451.0</td>\n",
       "      <td>1748.0</td>\n",
       "      <td>620</td>\n",
       "      <td>5373000</td>\n",
       "    </tr>\n",
       "    <tr>\n",
       "      <th>4</th>\n",
       "      <td>10510.0</td>\n",
       "      <td>12629.0</td>\n",
       "      <td>13921.0</td>\n",
       "      <td>1770.0</td>\n",
       "      <td>2111.0</td>\n",
       "      <td>450</td>\n",
       "      <td>4662000</td>\n",
       "    </tr>\n",
       "    <tr>\n",
       "      <th>5</th>\n",
       "      <td>6665.0</td>\n",
       "      <td>5142.0</td>\n",
       "      <td>9972.0</td>\n",
       "      <td>1442.0</td>\n",
       "      <td>1733.0</td>\n",
       "      <td>760</td>\n",
       "      <td>4526000</td>\n",
       "    </tr>\n",
       "    <tr>\n",
       "      <th>7</th>\n",
       "      <td>5882.0</td>\n",
       "      <td>9948.0</td>\n",
       "      <td>13315.0</td>\n",
       "      <td>1261.0</td>\n",
       "      <td>1507.0</td>\n",
       "      <td>1020</td>\n",
       "      <td>3772000</td>\n",
       "    </tr>\n",
       "  </tbody>\n",
       "</table>\n",
       "</div>"
      ],
      "text/plain": [
       "   Dist_Taxi  Dist_Market  Dist_Hospital  Carpet  Builtup  Rainfall  \\\n",
       "1     8294.0       8186.0        12694.0  1461.0   1752.0       210   \n",
       "3     8301.0      11188.0        12289.0  1451.0   1748.0       620   \n",
       "4    10510.0      12629.0        13921.0  1770.0   2111.0       450   \n",
       "5     6665.0       5142.0         9972.0  1442.0   1733.0       760   \n",
       "7     5882.0       9948.0        13315.0  1261.0   1507.0      1020   \n",
       "\n",
       "   House_Price  \n",
       "1      3982000  \n",
       "3      5373000  \n",
       "4      4662000  \n",
       "5      4526000  \n",
       "7      3772000  "
      ]
     },
     "execution_count": 57,
     "metadata": {},
     "output_type": "execute_result"
    }
   ],
   "source": [
    "# Memilih hanya variable dengan tipe tertentu\n",
    "numVar = price.select_dtypes(include = ['float64', 'int64'])\n",
    "numVar.head() # Perhatikan numVar adalah variable df baru! (hati-hati di data yang besar)"
   ]
  },
  {
   "cell_type": "code",
   "execution_count": 58,
   "metadata": {
    "slideshow": {
     "slide_type": "slide"
    }
   },
   "outputs": [
    {
     "data": {
      "text/html": [
       "<div>\n",
       "<style scoped>\n",
       "    .dataframe tbody tr th:only-of-type {\n",
       "        vertical-align: middle;\n",
       "    }\n",
       "\n",
       "    .dataframe tbody tr th {\n",
       "        vertical-align: top;\n",
       "    }\n",
       "\n",
       "    .dataframe thead th {\n",
       "        text-align: right;\n",
       "    }\n",
       "</style>\n",
       "<table border=\"1\" class=\"dataframe\">\n",
       "  <thead>\n",
       "    <tr style=\"text-align: right;\">\n",
       "      <th></th>\n",
       "      <th>Parking</th>\n",
       "      <th>City_Category</th>\n",
       "    </tr>\n",
       "  </thead>\n",
       "  <tbody>\n",
       "    <tr>\n",
       "      <th>1</th>\n",
       "      <td>Not Provided</td>\n",
       "      <td>CAT B</td>\n",
       "    </tr>\n",
       "    <tr>\n",
       "      <th>3</th>\n",
       "      <td>Covered</td>\n",
       "      <td>CAT B</td>\n",
       "    </tr>\n",
       "    <tr>\n",
       "      <th>4</th>\n",
       "      <td>Not Provided</td>\n",
       "      <td>CAT B</td>\n",
       "    </tr>\n",
       "  </tbody>\n",
       "</table>\n",
       "</div>"
      ],
      "text/plain": [
       "        Parking City_Category\n",
       "1  Not Provided         CAT B\n",
       "3       Covered         CAT B\n",
       "4  Not Provided         CAT B"
      ]
     },
     "execution_count": 58,
     "metadata": {},
     "output_type": "execute_result"
    }
   ],
   "source": [
    "# Memilih hanya variable dengan tipe tertentu\n",
    "catVar = price.select_dtypes(include = ['category'])\n",
    "catVar.head(3)"
   ]
  },
  {
   "cell_type": "code",
   "execution_count": 62,
   "metadata": {
    "slideshow": {
     "slide_type": "fragment"
    }
   },
   "outputs": [
    {
     "name": "stdout",
     "output_type": "stream",
     "text": [
      "Parking :  {'Covered', 'No Parking', 'Not Provided', 'Open'}\n",
      "City_Category :  {'CAT C', 'CAT A', 'CAT B'}\n"
     ]
    }
   ],
   "source": [
    "# get all unique values of a variable/column\n",
    "for col in catVar.columns:\n",
    "    print(col,': ', set(price[col].unique()))"
   ]
  },
  {
   "cell_type": "markdown",
   "metadata": {
    "slideshow": {
     "slide_type": "slide"
    }
   },
   "source": [
    "# <center><font color=\"blue\"> Memilih variabel-variabel di data secara manual</font></center>"
   ]
  },
  {
   "cell_type": "code",
   "execution_count": 63,
   "metadata": {
    "ExecuteTime": {
     "end_time": "2019-09-30T01:01:49.488723Z",
     "start_time": "2019-09-30T01:01:49.473213Z"
    },
    "slideshow": {
     "slide_type": "fragment"
    }
   },
   "outputs": [
    {
     "data": {
      "text/html": [
       "<div>\n",
       "<style scoped>\n",
       "    .dataframe tbody tr th:only-of-type {\n",
       "        vertical-align: middle;\n",
       "    }\n",
       "\n",
       "    .dataframe tbody tr th {\n",
       "        vertical-align: top;\n",
       "    }\n",
       "\n",
       "    .dataframe thead th {\n",
       "        text-align: right;\n",
       "    }\n",
       "</style>\n",
       "<table border=\"1\" class=\"dataframe\">\n",
       "  <thead>\n",
       "    <tr style=\"text-align: right;\">\n",
       "      <th></th>\n",
       "      <th>House_Price</th>\n",
       "      <th>Dist_Market</th>\n",
       "    </tr>\n",
       "  </thead>\n",
       "  <tbody>\n",
       "    <tr>\n",
       "      <th>1</th>\n",
       "      <td>3982000</td>\n",
       "      <td>8186.0</td>\n",
       "    </tr>\n",
       "    <tr>\n",
       "      <th>3</th>\n",
       "      <td>5373000</td>\n",
       "      <td>11188.0</td>\n",
       "    </tr>\n",
       "    <tr>\n",
       "      <th>4</th>\n",
       "      <td>4662000</td>\n",
       "      <td>12629.0</td>\n",
       "    </tr>\n",
       "  </tbody>\n",
       "</table>\n",
       "</div>"
      ],
      "text/plain": [
       "   House_Price  Dist_Market\n",
       "1      3982000       8186.0\n",
       "3      5373000      11188.0\n",
       "4      4662000      12629.0"
      ]
     },
     "execution_count": 63,
     "metadata": {},
     "output_type": "execute_result"
    }
   ],
   "source": [
    "# Choosing some columns manually\n",
    "X = price[['House_Price','Dist_Market']] # perhatikan ada 2 tanda kurung siku \"[[]]\"\n",
    "X.head(3)"
   ]
  },
  {
   "cell_type": "code",
   "execution_count": 66,
   "metadata": {},
   "outputs": [
    {
     "data": {
      "text/html": [
       "<div>\n",
       "<style scoped>\n",
       "    .dataframe tbody tr th:only-of-type {\n",
       "        vertical-align: middle;\n",
       "    }\n",
       "\n",
       "    .dataframe tbody tr th {\n",
       "        vertical-align: top;\n",
       "    }\n",
       "\n",
       "    .dataframe thead th {\n",
       "        text-align: right;\n",
       "    }\n",
       "</style>\n",
       "<table border=\"1\" class=\"dataframe\">\n",
       "  <thead>\n",
       "    <tr style=\"text-align: right;\">\n",
       "      <th></th>\n",
       "      <th>Dist_Taxi</th>\n",
       "      <th>Dist_Market</th>\n",
       "      <th>Dist_Hospital</th>\n",
       "      <th>Carpet</th>\n",
       "      <th>Builtup</th>\n",
       "      <th>Parking</th>\n",
       "      <th>Rainfall</th>\n",
       "      <th>House_Price</th>\n",
       "    </tr>\n",
       "  </thead>\n",
       "  <tbody>\n",
       "    <tr>\n",
       "      <th>1</th>\n",
       "      <td>8294.0</td>\n",
       "      <td>8186.0</td>\n",
       "      <td>12694.0</td>\n",
       "      <td>1461.0</td>\n",
       "      <td>1752.0</td>\n",
       "      <td>Not Provided</td>\n",
       "      <td>210</td>\n",
       "      <td>3982000</td>\n",
       "    </tr>\n",
       "    <tr>\n",
       "      <th>3</th>\n",
       "      <td>8301.0</td>\n",
       "      <td>11188.0</td>\n",
       "      <td>12289.0</td>\n",
       "      <td>1451.0</td>\n",
       "      <td>1748.0</td>\n",
       "      <td>Covered</td>\n",
       "      <td>620</td>\n",
       "      <td>5373000</td>\n",
       "    </tr>\n",
       "    <tr>\n",
       "      <th>4</th>\n",
       "      <td>10510.0</td>\n",
       "      <td>12629.0</td>\n",
       "      <td>13921.0</td>\n",
       "      <td>1770.0</td>\n",
       "      <td>2111.0</td>\n",
       "      <td>Not Provided</td>\n",
       "      <td>450</td>\n",
       "      <td>4662000</td>\n",
       "    </tr>\n",
       "    <tr>\n",
       "      <th>5</th>\n",
       "      <td>6665.0</td>\n",
       "      <td>5142.0</td>\n",
       "      <td>9972.0</td>\n",
       "      <td>1442.0</td>\n",
       "      <td>1733.0</td>\n",
       "      <td>Open</td>\n",
       "      <td>760</td>\n",
       "      <td>4526000</td>\n",
       "    </tr>\n",
       "    <tr>\n",
       "      <th>8</th>\n",
       "      <td>7495.0</td>\n",
       "      <td>11589.0</td>\n",
       "      <td>13370.0</td>\n",
       "      <td>1090.0</td>\n",
       "      <td>1321.0</td>\n",
       "      <td>Not Provided</td>\n",
       "      <td>680</td>\n",
       "      <td>4631000</td>\n",
       "    </tr>\n",
       "  </tbody>\n",
       "</table>\n",
       "</div>"
      ],
      "text/plain": [
       "   Dist_Taxi  Dist_Market  Dist_Hospital  Carpet  Builtup       Parking  \\\n",
       "1     8294.0       8186.0        12694.0  1461.0   1752.0  Not Provided   \n",
       "3     8301.0      11188.0        12289.0  1451.0   1748.0       Covered   \n",
       "4    10510.0      12629.0        13921.0  1770.0   2111.0  Not Provided   \n",
       "5     6665.0       5142.0         9972.0  1442.0   1733.0          Open   \n",
       "8     7495.0      11589.0        13370.0  1090.0   1321.0  Not Provided   \n",
       "\n",
       "   Rainfall  House_Price  \n",
       "1       210      3982000  \n",
       "3       620      5373000  \n",
       "4       450      4662000  \n",
       "5       760      4526000  \n",
       "8       680      4631000  "
      ]
     },
     "execution_count": 66,
     "metadata": {},
     "output_type": "execute_result"
    }
   ],
   "source": [
    "# Slicing DataFrame - Just like query in SQL\n",
    "price[price[\"City_Category\"] == \"CAT B\"].drop(\"City_Category\", axis=1).head()"
   ]
  },
  {
   "cell_type": "code",
   "execution_count": 69,
   "metadata": {
    "slideshow": {
     "slide_type": "slide"
    }
   },
   "outputs": [
    {
     "data": {
      "text/html": [
       "<div>\n",
       "<style scoped>\n",
       "    .dataframe tbody tr th:only-of-type {\n",
       "        vertical-align: middle;\n",
       "    }\n",
       "\n",
       "    .dataframe tbody tr th {\n",
       "        vertical-align: top;\n",
       "    }\n",
       "\n",
       "    .dataframe thead th {\n",
       "        text-align: right;\n",
       "    }\n",
       "</style>\n",
       "<table border=\"1\" class=\"dataframe\">\n",
       "  <thead>\n",
       "    <tr style=\"text-align: right;\">\n",
       "      <th></th>\n",
       "      <th>Dist_Taxi</th>\n",
       "      <th>Dist_Market</th>\n",
       "      <th>Dist_Hospital</th>\n",
       "      <th>Carpet</th>\n",
       "      <th>Builtup</th>\n",
       "      <th>Parking</th>\n",
       "      <th>Rainfall</th>\n",
       "      <th>House_Price</th>\n",
       "    </tr>\n",
       "  </thead>\n",
       "  <tbody>\n",
       "    <tr>\n",
       "      <th>3</th>\n",
       "      <td>8301.0</td>\n",
       "      <td>11188.0</td>\n",
       "      <td>12289.0</td>\n",
       "      <td>1451.0</td>\n",
       "      <td>1748.0</td>\n",
       "      <td>Covered</td>\n",
       "      <td>620</td>\n",
       "      <td>5373000</td>\n",
       "    </tr>\n",
       "    <tr>\n",
       "      <th>5</th>\n",
       "      <td>6665.0</td>\n",
       "      <td>5142.0</td>\n",
       "      <td>9972.0</td>\n",
       "      <td>1442.0</td>\n",
       "      <td>1733.0</td>\n",
       "      <td>Open</td>\n",
       "      <td>760</td>\n",
       "      <td>4526000</td>\n",
       "    </tr>\n",
       "    <tr>\n",
       "      <th>12</th>\n",
       "      <td>7693.0</td>\n",
       "      <td>9130.0</td>\n",
       "      <td>14684.0</td>\n",
       "      <td>1746.0</td>\n",
       "      <td>2064.0</td>\n",
       "      <td>Open</td>\n",
       "      <td>1050</td>\n",
       "      <td>6047000</td>\n",
       "    </tr>\n",
       "    <tr>\n",
       "      <th>13</th>\n",
       "      <td>5236.0</td>\n",
       "      <td>10853.0</td>\n",
       "      <td>13054.0</td>\n",
       "      <td>1615.0</td>\n",
       "      <td>1931.0</td>\n",
       "      <td>Covered</td>\n",
       "      <td>1160</td>\n",
       "      <td>5913000</td>\n",
       "    </tr>\n",
       "    <tr>\n",
       "      <th>17</th>\n",
       "      <td>6698.0</td>\n",
       "      <td>11519.0</td>\n",
       "      <td>13441.0</td>\n",
       "      <td>1703.0</td>\n",
       "      <td>2045.0</td>\n",
       "      <td>Covered</td>\n",
       "      <td>670</td>\n",
       "      <td>3817000</td>\n",
       "    </tr>\n",
       "  </tbody>\n",
       "</table>\n",
       "</div>"
      ],
      "text/plain": [
       "    Dist_Taxi  Dist_Market  Dist_Hospital  Carpet  Builtup  Parking  Rainfall  \\\n",
       "3      8301.0      11188.0        12289.0  1451.0   1748.0  Covered       620   \n",
       "5      6665.0       5142.0         9972.0  1442.0   1733.0     Open       760   \n",
       "12     7693.0       9130.0        14684.0  1746.0   2064.0     Open      1050   \n",
       "13     5236.0      10853.0        13054.0  1615.0   1931.0  Covered      1160   \n",
       "17     6698.0      11519.0        13441.0  1703.0   2045.0  Covered       670   \n",
       "\n",
       "    House_Price  \n",
       "3       5373000  \n",
       "5       4526000  \n",
       "12      6047000  \n",
       "13      5913000  \n",
       "17      3817000  "
      ]
     },
     "execution_count": 69,
     "metadata": {},
     "output_type": "execute_result"
    }
   ],
   "source": [
    "# Slicing DataFrame - Just like query in SQL\n",
    "X = price[price[\"Parking\"].isin([\"Open\",\"Covered\"])]\n",
    "X = X[X[\"City_Category\"] == \"CAT B\"].drop(\"City_Category\", axis=1)\n",
    "X.head()"
   ]
  },
  {
   "cell_type": "markdown",
   "metadata": {
    "slideshow": {
     "slide_type": "slide"
    }
   },
   "source": [
    "<img alt=\"\" src=\"images/XII_desc_Stat.jpg\" style=\"height: 350px;\"/>\n",
    "\n",
    "### image source: http://writer.lk/portfolio-item/statistics/"
   ]
  },
  {
   "cell_type": "markdown",
   "metadata": {
    "slideshow": {
     "slide_type": "slide"
    }
   },
   "source": [
    "<center><img alt=\"\" src=\"images/central_Tendency.png\" style=\"height: 350px;\"/>"
   ]
  },
  {
   "cell_type": "markdown",
   "metadata": {
    "slideshow": {
     "slide_type": "slide"
    }
   },
   "source": [
    "# <center><font color=\"blue\"> Central Tendency is not enough</font></center>\n",
    "\n",
    "* Source: https://www.youtube.com/PeristiwaAlamAneh\n",
    "<center><video controls src=\"videos/The_Need_for_Data_Disperity_.MP4\" style=\"height: 400px;\"/></center>"
   ]
  },
  {
   "cell_type": "markdown",
   "metadata": {
    "slideshow": {
     "slide_type": "slide"
    }
   },
   "source": [
    "# <center><font color=\"blue\"> Keragaman Data</font></center>\n",
    "\n",
    "<img alt=\"\" src=\"images/Data_Dispersions.png\" style=\"height: 400px;\"/>"
   ]
  },
  {
   "cell_type": "code",
   "execution_count": 70,
   "metadata": {
    "slideshow": {
     "slide_type": "slide"
    }
   },
   "outputs": [
    {
     "data": {
      "text/html": [
       "<div>\n",
       "<style scoped>\n",
       "    .dataframe tbody tr th:only-of-type {\n",
       "        vertical-align: middle;\n",
       "    }\n",
       "\n",
       "    .dataframe tbody tr th {\n",
       "        vertical-align: top;\n",
       "    }\n",
       "\n",
       "    .dataframe thead th {\n",
       "        text-align: right;\n",
       "    }\n",
       "</style>\n",
       "<table border=\"1\" class=\"dataframe\">\n",
       "  <thead>\n",
       "    <tr style=\"text-align: right;\">\n",
       "      <th></th>\n",
       "      <th>Dist_Taxi</th>\n",
       "      <th>Dist_Market</th>\n",
       "      <th>Dist_Hospital</th>\n",
       "      <th>Carpet</th>\n",
       "      <th>Builtup</th>\n",
       "      <th>Rainfall</th>\n",
       "      <th>House_Price</th>\n",
       "    </tr>\n",
       "  </thead>\n",
       "  <tbody>\n",
       "    <tr>\n",
       "      <th>count</th>\n",
       "      <td>603.000000</td>\n",
       "      <td>603.000000</td>\n",
       "      <td>609.000000</td>\n",
       "      <td>604.000000</td>\n",
       "      <td>599.000000</td>\n",
       "      <td>610.000000</td>\n",
       "      <td>6.100000e+02</td>\n",
       "    </tr>\n",
       "    <tr>\n",
       "      <th>mean</th>\n",
       "      <td>8071.605307</td>\n",
       "      <td>10870.878939</td>\n",
       "      <td>12897.663383</td>\n",
       "      <td>1512.407285</td>\n",
       "      <td>1785.781302</td>\n",
       "      <td>787.344262</td>\n",
       "      <td>5.334915e+06</td>\n",
       "    </tr>\n",
       "    <tr>\n",
       "      <th>std</th>\n",
       "      <td>2474.453885</td>\n",
       "      <td>2507.214891</td>\n",
       "      <td>2484.964506</td>\n",
       "      <td>960.968041</td>\n",
       "      <td>535.027553</td>\n",
       "      <td>267.319903</td>\n",
       "      <td>6.060567e+06</td>\n",
       "    </tr>\n",
       "    <tr>\n",
       "      <th>min</th>\n",
       "      <td>146.000000</td>\n",
       "      <td>1666.000000</td>\n",
       "      <td>3227.000000</td>\n",
       "      <td>775.000000</td>\n",
       "      <td>932.000000</td>\n",
       "      <td>-110.000000</td>\n",
       "      <td>3.000000e+04</td>\n",
       "    </tr>\n",
       "    <tr>\n",
       "      <th>25%</th>\n",
       "      <td>6377.500000</td>\n",
       "      <td>9147.500000</td>\n",
       "      <td>11198.000000</td>\n",
       "      <td>1309.000000</td>\n",
       "      <td>1571.500000</td>\n",
       "      <td>600.000000</td>\n",
       "      <td>4.157750e+06</td>\n",
       "    </tr>\n",
       "    <tr>\n",
       "      <th>50%</th>\n",
       "      <td>8117.000000</td>\n",
       "      <td>10946.000000</td>\n",
       "      <td>13083.000000</td>\n",
       "      <td>1475.000000</td>\n",
       "      <td>1770.000000</td>\n",
       "      <td>780.000000</td>\n",
       "      <td>5.013000e+06</td>\n",
       "    </tr>\n",
       "    <tr>\n",
       "      <th>75%</th>\n",
       "      <td>9705.500000</td>\n",
       "      <td>12611.000000</td>\n",
       "      <td>14566.000000</td>\n",
       "      <td>1642.500000</td>\n",
       "      <td>1965.500000</td>\n",
       "      <td>970.000000</td>\n",
       "      <td>5.838750e+06</td>\n",
       "    </tr>\n",
       "    <tr>\n",
       "      <th>max</th>\n",
       "      <td>20662.000000</td>\n",
       "      <td>20945.000000</td>\n",
       "      <td>23294.000000</td>\n",
       "      <td>24300.000000</td>\n",
       "      <td>12730.000000</td>\n",
       "      <td>1530.000000</td>\n",
       "      <td>1.500000e+08</td>\n",
       "    </tr>\n",
       "  </tbody>\n",
       "</table>\n",
       "</div>"
      ],
      "text/plain": [
       "          Dist_Taxi   Dist_Market  Dist_Hospital        Carpet       Builtup  \\\n",
       "count    603.000000    603.000000     609.000000    604.000000    599.000000   \n",
       "mean    8071.605307  10870.878939   12897.663383   1512.407285   1785.781302   \n",
       "std     2474.453885   2507.214891    2484.964506    960.968041    535.027553   \n",
       "min      146.000000   1666.000000    3227.000000    775.000000    932.000000   \n",
       "25%     6377.500000   9147.500000   11198.000000   1309.000000   1571.500000   \n",
       "50%     8117.000000  10946.000000   13083.000000   1475.000000   1770.000000   \n",
       "75%     9705.500000  12611.000000   14566.000000   1642.500000   1965.500000   \n",
       "max    20662.000000  20945.000000   23294.000000  24300.000000  12730.000000   \n",
       "\n",
       "          Rainfall   House_Price  \n",
       "count   610.000000  6.100000e+02  \n",
       "mean    787.344262  5.334915e+06  \n",
       "std     267.319903  6.060567e+06  \n",
       "min    -110.000000  3.000000e+04  \n",
       "25%     600.000000  4.157750e+06  \n",
       "50%     780.000000  5.013000e+06  \n",
       "75%     970.000000  5.838750e+06  \n",
       "max    1530.000000  1.500000e+08  "
      ]
     },
     "execution_count": 70,
     "metadata": {},
     "output_type": "execute_result"
    }
   ],
   "source": [
    "# Statistika Sederhana dari data \"Numerik\"-nya\n",
    "price.describe() # Ada variabel yang tidak ada?"
   ]
  },
  {
   "cell_type": "code",
   "execution_count": 71,
   "metadata": {
    "ExecuteTime": {
     "end_time": "2019-09-30T01:10:41.657165Z",
     "start_time": "2019-09-30T01:10:41.616276Z"
    },
    "slideshow": {
     "slide_type": "slide"
    }
   },
   "outputs": [
    {
     "data": {
      "text/html": [
       "<div>\n",
       "<style scoped>\n",
       "    .dataframe tbody tr th:only-of-type {\n",
       "        vertical-align: middle;\n",
       "    }\n",
       "\n",
       "    .dataframe tbody tr th {\n",
       "        vertical-align: top;\n",
       "    }\n",
       "\n",
       "    .dataframe thead th {\n",
       "        text-align: right;\n",
       "    }\n",
       "</style>\n",
       "<table border=\"1\" class=\"dataframe\">\n",
       "  <thead>\n",
       "    <tr style=\"text-align: right;\">\n",
       "      <th></th>\n",
       "      <th>Dist_Taxi</th>\n",
       "      <th>Dist_Market</th>\n",
       "      <th>Dist_Hospital</th>\n",
       "      <th>Carpet</th>\n",
       "      <th>Builtup</th>\n",
       "      <th>Parking</th>\n",
       "      <th>City_Category</th>\n",
       "      <th>Rainfall</th>\n",
       "      <th>House_Price</th>\n",
       "    </tr>\n",
       "  </thead>\n",
       "  <tbody>\n",
       "    <tr>\n",
       "      <th>count</th>\n",
       "      <td>603.000000</td>\n",
       "      <td>603.000000</td>\n",
       "      <td>609.000000</td>\n",
       "      <td>604.000000</td>\n",
       "      <td>599.000000</td>\n",
       "      <td>610</td>\n",
       "      <td>610</td>\n",
       "      <td>610.000000</td>\n",
       "      <td>6.100000e+02</td>\n",
       "    </tr>\n",
       "    <tr>\n",
       "      <th>unique</th>\n",
       "      <td>NaN</td>\n",
       "      <td>NaN</td>\n",
       "      <td>NaN</td>\n",
       "      <td>NaN</td>\n",
       "      <td>NaN</td>\n",
       "      <td>4</td>\n",
       "      <td>3</td>\n",
       "      <td>NaN</td>\n",
       "      <td>NaN</td>\n",
       "    </tr>\n",
       "    <tr>\n",
       "      <th>top</th>\n",
       "      <td>NaN</td>\n",
       "      <td>NaN</td>\n",
       "      <td>NaN</td>\n",
       "      <td>NaN</td>\n",
       "      <td>NaN</td>\n",
       "      <td>Open</td>\n",
       "      <td>CAT B</td>\n",
       "      <td>NaN</td>\n",
       "      <td>NaN</td>\n",
       "    </tr>\n",
       "    <tr>\n",
       "      <th>freq</th>\n",
       "      <td>NaN</td>\n",
       "      <td>NaN</td>\n",
       "      <td>NaN</td>\n",
       "      <td>NaN</td>\n",
       "      <td>NaN</td>\n",
       "      <td>244</td>\n",
       "      <td>285</td>\n",
       "      <td>NaN</td>\n",
       "      <td>NaN</td>\n",
       "    </tr>\n",
       "    <tr>\n",
       "      <th>mean</th>\n",
       "      <td>8071.605307</td>\n",
       "      <td>10870.878939</td>\n",
       "      <td>12897.663383</td>\n",
       "      <td>1512.407285</td>\n",
       "      <td>1785.781302</td>\n",
       "      <td>NaN</td>\n",
       "      <td>NaN</td>\n",
       "      <td>787.344262</td>\n",
       "      <td>5.334915e+06</td>\n",
       "    </tr>\n",
       "    <tr>\n",
       "      <th>std</th>\n",
       "      <td>2474.453885</td>\n",
       "      <td>2507.214891</td>\n",
       "      <td>2484.964506</td>\n",
       "      <td>960.968041</td>\n",
       "      <td>535.027553</td>\n",
       "      <td>NaN</td>\n",
       "      <td>NaN</td>\n",
       "      <td>267.319903</td>\n",
       "      <td>6.060567e+06</td>\n",
       "    </tr>\n",
       "    <tr>\n",
       "      <th>min</th>\n",
       "      <td>146.000000</td>\n",
       "      <td>1666.000000</td>\n",
       "      <td>3227.000000</td>\n",
       "      <td>775.000000</td>\n",
       "      <td>932.000000</td>\n",
       "      <td>NaN</td>\n",
       "      <td>NaN</td>\n",
       "      <td>-110.000000</td>\n",
       "      <td>3.000000e+04</td>\n",
       "    </tr>\n",
       "    <tr>\n",
       "      <th>25%</th>\n",
       "      <td>6377.500000</td>\n",
       "      <td>9147.500000</td>\n",
       "      <td>11198.000000</td>\n",
       "      <td>1309.000000</td>\n",
       "      <td>1571.500000</td>\n",
       "      <td>NaN</td>\n",
       "      <td>NaN</td>\n",
       "      <td>600.000000</td>\n",
       "      <td>4.157750e+06</td>\n",
       "    </tr>\n",
       "    <tr>\n",
       "      <th>50%</th>\n",
       "      <td>8117.000000</td>\n",
       "      <td>10946.000000</td>\n",
       "      <td>13083.000000</td>\n",
       "      <td>1475.000000</td>\n",
       "      <td>1770.000000</td>\n",
       "      <td>NaN</td>\n",
       "      <td>NaN</td>\n",
       "      <td>780.000000</td>\n",
       "      <td>5.013000e+06</td>\n",
       "    </tr>\n",
       "    <tr>\n",
       "      <th>75%</th>\n",
       "      <td>9705.500000</td>\n",
       "      <td>12611.000000</td>\n",
       "      <td>14566.000000</td>\n",
       "      <td>1642.500000</td>\n",
       "      <td>1965.500000</td>\n",
       "      <td>NaN</td>\n",
       "      <td>NaN</td>\n",
       "      <td>970.000000</td>\n",
       "      <td>5.838750e+06</td>\n",
       "    </tr>\n",
       "    <tr>\n",
       "      <th>max</th>\n",
       "      <td>20662.000000</td>\n",
       "      <td>20945.000000</td>\n",
       "      <td>23294.000000</td>\n",
       "      <td>24300.000000</td>\n",
       "      <td>12730.000000</td>\n",
       "      <td>NaN</td>\n",
       "      <td>NaN</td>\n",
       "      <td>1530.000000</td>\n",
       "      <td>1.500000e+08</td>\n",
       "    </tr>\n",
       "  </tbody>\n",
       "</table>\n",
       "</div>"
      ],
      "text/plain": [
       "           Dist_Taxi   Dist_Market  Dist_Hospital        Carpet       Builtup  \\\n",
       "count     603.000000    603.000000     609.000000    604.000000    599.000000   \n",
       "unique           NaN           NaN            NaN           NaN           NaN   \n",
       "top              NaN           NaN            NaN           NaN           NaN   \n",
       "freq             NaN           NaN            NaN           NaN           NaN   \n",
       "mean     8071.605307  10870.878939   12897.663383   1512.407285   1785.781302   \n",
       "std      2474.453885   2507.214891    2484.964506    960.968041    535.027553   \n",
       "min       146.000000   1666.000000    3227.000000    775.000000    932.000000   \n",
       "25%      6377.500000   9147.500000   11198.000000   1309.000000   1571.500000   \n",
       "50%      8117.000000  10946.000000   13083.000000   1475.000000   1770.000000   \n",
       "75%      9705.500000  12611.000000   14566.000000   1642.500000   1965.500000   \n",
       "max     20662.000000  20945.000000   23294.000000  24300.000000  12730.000000   \n",
       "\n",
       "       Parking City_Category     Rainfall   House_Price  \n",
       "count      610           610   610.000000  6.100000e+02  \n",
       "unique       4             3          NaN           NaN  \n",
       "top       Open         CAT B          NaN           NaN  \n",
       "freq       244           285          NaN           NaN  \n",
       "mean       NaN           NaN   787.344262  5.334915e+06  \n",
       "std        NaN           NaN   267.319903  6.060567e+06  \n",
       "min        NaN           NaN  -110.000000  3.000000e+04  \n",
       "25%        NaN           NaN   600.000000  4.157750e+06  \n",
       "50%        NaN           NaN   780.000000  5.013000e+06  \n",
       "75%        NaN           NaN   970.000000  5.838750e+06  \n",
       "max        NaN           NaN  1530.000000  1.500000e+08  "
      ]
     },
     "execution_count": 71,
     "metadata": {},
     "output_type": "execute_result"
    }
   ],
   "source": [
    "price.describe(include='all')"
   ]
  },
  {
   "cell_type": "markdown",
   "metadata": {
    "slideshow": {
     "slide_type": "slide"
    }
   },
   "source": [
    "# <center><font color=\"blue\"> Beberapa Catatan Statistika Deskriptif</font></center>\n",
    "\n",
    "* Modus tidak selalu ada\n",
    "* Kapan saat yang lebih tepat menggunakan Mean atau Median (outlier-wise)\n",
    "* Min/max dapat digunakan untuk mendeteksi Noise/Outlier\n",
    "* Perbedaan noise dan outlier hanya dapat dilakukan lewat domain/business knowledge.\n",
    "* Banyak literatur yang menyatakan outlier sebagai noise (outlier adalah subset/contoh noise).\n",
    "* Outlier/noise harus \"ditangani\" saat preprocessing.\n",
    "    \n",
    "<center><img alt=\"\" src=\"images/outlier vs noise.jpg\" style=\"height: 400px;\"/></center>"
   ]
  },
  {
   "cell_type": "markdown",
   "metadata": {
    "slideshow": {
     "slide_type": "slide"
    }
   },
   "source": [
    "# <center><font color=\"blue\"> Noisy (Big) Data</font></center>\n",
    "\n",
    "## <font color=\"green\"> Noise dapat terjadi karena:</font>\n",
    "  - Kesalahan instrumen pengukuran: Misal di alat IoT pada saat cuaca buruk/baterai yang lemah.\n",
    "  - Kesalahan input/entry\n",
    "  - Transmisi yang tidak sempurna\n",
    "  - inkonsistensi penamaan, dsb\n",
    "\n",
    "<img alt=\"\" src=\"images/noisy data.png\" style=\"height: 250px;\"/>"
   ]
  },
  {
   "cell_type": "markdown",
   "metadata": {
    "slideshow": {
     "slide_type": "slide"
    }
   },
   "source": [
    "# <center><font color=\"blue\"> Distribusi nilai pada setiap variabel kategorik</font></center>\n",
    "### <font color=\"green\"> Di module setelah ini kita akan menelaah lebih jauh lewat visualisasi</font>\n",
    "\n",
    "* Pada tahap ini tujuan melihat distribusi variabel kategorik adalah bagian dari preprocessing/data cleaning, yaitu memeriksa apakah ada noise di variabel kategorik (biasanya typo).\n",
    "* Jika variabel kategorik-nya adalah variabel target dan terjadi perbedaan proporsi yang mencolok maka tahap ini juga bermanfaat untuk mempersiapkan pemodelan imbalance learning pada tahap selanjutnya.\n",
    "* Dapat dilakukan via fungsi \"**value_counts**\" di Pandas atau Fungsi \"**Counter**\" di module Collections."
   ]
  },
  {
   "cell_type": "code",
   "execution_count": 72,
   "metadata": {
    "ExecuteTime": {
     "end_time": "2019-09-30T01:01:49.521637Z",
     "start_time": "2019-09-30T01:01:49.512438Z"
    },
    "slideshow": {
     "slide_type": "slide"
    }
   },
   "outputs": [
    {
     "data": {
      "text/plain": [
       "Open            244\n",
       "Not Provided    152\n",
       "Covered         114\n",
       "No Parking      100\n",
       "Name: Parking, dtype: int64"
      ]
     },
     "execution_count": 72,
     "metadata": {},
     "output_type": "execute_result"
    }
   ],
   "source": [
    "price['Parking'].value_counts()"
   ]
  },
  {
   "cell_type": "code",
   "execution_count": 73,
   "metadata": {
    "slideshow": {
     "slide_type": "slide"
    }
   },
   "outputs": [
    {
     "data": {
      "text/plain": [
       "Counter({'Not Provided': 152, 'Covered': 114, 'Open': 244, 'No Parking': 100})"
      ]
     },
     "execution_count": 73,
     "metadata": {},
     "output_type": "execute_result"
    }
   ],
   "source": [
    "from collections import Counter\n",
    "\n",
    "# Again: struktur data penting. Module Counter memberikan output dictionary yang biasanya lebih useful\n",
    "Counter(price['Parking'])"
   ]
  },
  {
   "cell_type": "markdown",
   "metadata": {
    "slideshow": {
     "slide_type": "slide"
    }
   },
   "source": [
    "# <center><font color=\"blue\"> Apa itu Outliers (pencilan)?</font></center>\n",
    "\n",
    "* Data yang memiliki karakteristik secara signifikan berbeda dengan kebanyakan data lainnya menurut suatu kriteria tertentu yang ditetapkan.\n",
    "* Datanya seringnya valid hanya seolah-olah berasal dari suatu mekanisme berbeda.\n",
    "* Bergantung konteks terkadang Outlier = Anomaly (interchangably), tapi ada beberapa literatur yang membedakan.\n",
    "\n",
    "<img alt=\"\" src=\"images/outlier definition.png\" style=\"height: 350px;\"/>"
   ]
  },
  {
   "cell_type": "markdown",
   "metadata": {
    "slideshow": {
     "slide_type": "slide"
    }
   },
   "source": [
    "<img alt=\"\" src=\"images/anomaly vs outlier.jpg\" style=\"height: 350px;\"/>\n",
    "    \n",
    "* https://www.senseon.io/blog/cyber-threats-evading-signatures-outlier-anomaly-or-both\n",
    "* Secara statistika: jika data diasumsikan berasal dari suatu distribusi outlier adalah data-data yang memiliki probability kecil.\n",
    "* Sedangkan anomaly: seolah-olah datanya berasal dari distribusi yang berbeda.\n",
    "* https://www.slideshare.net/ShantanuDeosthale/outlier-analysis-and-anomaly-detection"
   ]
  },
  {
   "cell_type": "markdown",
   "metadata": {
    "slideshow": {
     "slide_type": "slide"
    }
   },
   "source": [
    "# <center><font color=\"green\"> Diskusi: Contoh Anomali yang bukan outlier & Contoh Outlier yang bukan Anomali?</font></center>"
   ]
  },
  {
   "cell_type": "markdown",
   "metadata": {
    "slideshow": {
     "slide_type": "slide"
    }
   },
   "source": [
    "# <center><font color=\"blue\"> Outliers Sering Terjadi di Big Data</font></center>\n",
    "## <font color=\"green\"> Di dunia nyata data jarang berdistribusi Normal</font>\n",
    "\n",
    "<img alt=\"\" src=\"images/outliers_socMed.jpg\" style=\"height: 350px;\"/>"
   ]
  },
  {
   "cell_type": "markdown",
   "metadata": {
    "slideshow": {
     "slide_type": "slide"
    }
   },
   "source": [
    "# <center><font color=\"blue\"> Outlier(s) effect on model's performace</font></center>\n",
    "## <font color=\"green\">lalu apa yang sebaiknya dilakukan ke outliers?</font>\n",
    "\n",
    "<img alt=\"\" src=\"images/outlier_effect.png\" style=\"height: 300px;\"/>\n",
    "* https://medium.com/analytics-vidhya/effect-of-outliers-on-neural-networks-performance-ca1d9185dce9"
   ]
  },
  {
   "cell_type": "markdown",
   "metadata": {
    "slideshow": {
     "slide_type": "slide"
    }
   },
   "source": [
    "# <center><font color=\"blue\"> Berbagai Macam Algoritma untuk Mendeteksi Anomaly</font></center>\n",
    "\n",
    "### <font color=\"green\"> Kita akan membahas anomaly detection lebih detail di Module yang lain.</font>\n",
    "* Di Module ini hanya dibahas outlier detection untuk satu variable: Melalui Confident Interval dan BoxPlot (interquantile range).\n",
    "<img alt=\"\" src=\"images/anomaly_detection_methods.jpg\" style=\"height: 300px;\"/>\n",
    "* https://www.mdpi.com/2226-4310/6/11/117/htm"
   ]
  },
  {
   "cell_type": "markdown",
   "metadata": {
    "slideshow": {
     "slide_type": "slide"
    }
   },
   "source": [
    "# <center><font color=\"blue\">Asumsi kenormalan, Selang Kepercayaan, & Outlier</font></center>\n",
    "\n",
    "<img alt=\"\" src=\"images/XII_normal_CI.png\" style=\"height: 250px;\" />\n",
    "\n",
    "* Misal Selang Kepercayaan 95% = $\\bar{x}-2\\sigma\\leq X \\leq \\bar{x}+2\\sigma$ diluar selang ini dianggap sebagai outlier.\n",
    "* Misal Selang Kepercayaan 99% = $\\bar{x}-3\\sigma\\leq X \\leq \\bar{x}+3\\sigma$ diluar selang ini dianggap sebagai outlier.\n",
    "* Pakai yang mana di dunia nyata?"
   ]
  },
  {
   "cell_type": "code",
   "execution_count": 74,
   "metadata": {
    "ExecuteTime": {
     "end_time": "2019-09-30T01:01:51.080385Z",
     "start_time": "2019-09-30T01:01:50.489391Z"
    },
    "slideshow": {
     "slide_type": "slide"
    }
   },
   "outputs": [
    {
     "data": {
      "image/png": "[encoded data removed]",
      "text/plain": [
       "<Figure size 432x288 with 1 Axes>"
      ]
     },
     "metadata": {},
     "output_type": "display_data"
    }
   ],
   "source": [
    "# Distributions, kita mulai dengan import module untuk visualisasi\n",
    "import matplotlib.pyplot as plt, seaborn as sns\n",
    "plt.style.use('bmh'); sns.set() #style visualisasi\n",
    "\n",
    "p = sns.distplot(price['House_Price'], kde=True, rug=True)\n",
    "#Dari plot nampak adanya outlier dengan cukup jelas."
   ]
  },
  {
   "cell_type": "code",
   "execution_count": 83,
   "metadata": {
    "ExecuteTime": {
     "end_time": "2019-09-30T01:26:35.471859Z",
     "start_time": "2019-09-30T01:26:35.465294Z"
    },
    "slideshow": {
     "slide_type": "slide"
    }
   },
   "outputs": [
    {
     "name": "stdout",
     "output_type": "stream",
     "text": [
      "(936,) <class 'pandas.core.series.Series'> {False, True}\n"
     ]
    },
    {
     "data": {
      "text/plain": [
       "Counter({True: 935, False: 1})"
      ]
     },
     "execution_count": 83,
     "metadata": {},
     "output_type": "execute_result"
    }
   ],
   "source": [
    "# Misal dengan asumsi data berdistribusi normal & menggunakan 95% confidence interval di sekitar variabel \"harga\"\n",
    "normal_data = abs(price.House_Price - price.House_Price.mean())<=(2*price.House_Price.std()) # mu-2s<x<mu+2s\n",
    "print(normal_data.shape, type(normal_data), set(normal_data))\n",
    "Counter(normal_data)"
   ]
  },
  {
   "cell_type": "code",
   "execution_count": 84,
   "metadata": {
    "scrolled": false,
    "slideshow": {
     "slide_type": "slide"
    }
   },
   "outputs": [
    {
     "name": "stdout",
     "output_type": "stream",
     "text": [
      "(935, 10) (936, 10)\n"
     ]
    }
   ],
   "source": [
    "price2 = price[normal_data] # Data tanpa outlier harga\n",
    "print(price2.shape, price.shape)\n",
    "# Perhatikan disini sengaja data yang telah di remove outliernya \n",
    "# disimpan dalam variabel baru \"Price2\"\n",
    "# Jika datanya besar hati-hati melakukan hal ini"
   ]
  },
  {
   "cell_type": "code",
   "execution_count": 104,
   "metadata": {
    "ExecuteTime": {
     "end_time": "2019-09-30T01:01:51.627698Z",
     "start_time": "2019-09-30T01:01:51.143217Z"
    },
    "slideshow": {
     "slide_type": "slide"
    }
   },
   "outputs": [
    {
     "data": {
      "image/png": "[encoded data removed]",
      "text/plain": [
       "<Figure size 432x288 with 1 Axes>"
      ]
     },
     "metadata": {},
     "output_type": "display_data"
    }
   ],
   "source": [
    "# Distributions\n",
    "p = sns.distplot(price2['House_Price'], kde=True, rug=True)"
   ]
  },
  {
   "cell_type": "markdown",
   "metadata": {
    "slideshow": {
     "slide_type": "slide"
    }
   },
   "source": [
    "# <center><font color=\"blue\">Boxplot & Outlier</font></center>\n",
    "\n",
    "<img alt=\"\" src=\"images/outlier_boxplot.png\" style=\"height: 250px;\" />\n",
    "\n",
    "* Tidak ada asumsi distribusi (normal)\n",
    "* Lower Extreme kurang dari: $Q_1 - 1.5(Q_3-Q_1)$  Upper Extreme lebih dari: $Q_3 + 1.5(Q_3-Q_1)$"
   ]
  },
  {
   "cell_type": "code",
   "execution_count": 102,
   "metadata": {
    "slideshow": {
     "slide_type": "slide"
    }
   },
   "outputs": [
    {
     "data": {
      "image/png": "[encoded data removed]",
      "text/plain": [
       "<Figure size 432x288 with 1 Axes>"
      ]
     },
     "metadata": {},
     "output_type": "display_data"
    }
   ],
   "source": [
    "# Jika ada outlier grafiknya menjadi tidak jelas (data = price, bukan price2)\n",
    "# Insight yang di dapat akan salah atau bahkan tidak mendapat insight sama sekali\n",
    "p = sns.boxplot(x=\"House_Price\", data=price)"
   ]
  },
  {
   "cell_type": "code",
   "execution_count": 103,
   "metadata": {
    "scrolled": true,
    "slideshow": {
     "slide_type": "slide"
    }
   },
   "outputs": [
    {
     "name": "stdout",
     "output_type": "stream",
     "text": [
      "Q1=4658000.0, Q3=7187250.0, IQR=2529250.0\n",
      "(929, 9)\n"
     ]
    },
    {
     "data": {
      "text/html": [
       "<div>\n",
       "<style scoped>\n",
       "    .dataframe tbody tr th:only-of-type {\n",
       "        vertical-align: middle;\n",
       "    }\n",
       "\n",
       "    .dataframe tbody tr th {\n",
       "        vertical-align: top;\n",
       "    }\n",
       "\n",
       "    .dataframe thead th {\n",
       "        text-align: right;\n",
       "    }\n",
       "</style>\n",
       "<table border=\"1\" class=\"dataframe\">\n",
       "  <thead>\n",
       "    <tr style=\"text-align: right;\">\n",
       "      <th></th>\n",
       "      <th>Dist_Taxi</th>\n",
       "      <th>Dist_Market</th>\n",
       "      <th>Dist_Hospital</th>\n",
       "      <th>Carpet</th>\n",
       "      <th>Builtup</th>\n",
       "      <th>Parking</th>\n",
       "      <th>City_Category</th>\n",
       "      <th>Rainfall</th>\n",
       "      <th>House_Price</th>\n",
       "    </tr>\n",
       "  </thead>\n",
       "  <tbody>\n",
       "    <tr>\n",
       "      <th>0</th>\n",
       "      <td>9796.0</td>\n",
       "      <td>5250.0</td>\n",
       "      <td>10703.0</td>\n",
       "      <td>1659.0</td>\n",
       "      <td>1961.0</td>\n",
       "      <td>Open</td>\n",
       "      <td>CAT B</td>\n",
       "      <td>530</td>\n",
       "      <td>6649000</td>\n",
       "    </tr>\n",
       "    <tr>\n",
       "      <th>1</th>\n",
       "      <td>8294.0</td>\n",
       "      <td>8186.0</td>\n",
       "      <td>12694.0</td>\n",
       "      <td>1461.0</td>\n",
       "      <td>1752.0</td>\n",
       "      <td>Not Provided</td>\n",
       "      <td>CAT B</td>\n",
       "      <td>210</td>\n",
       "      <td>3982000</td>\n",
       "    </tr>\n",
       "    <tr>\n",
       "      <th>2</th>\n",
       "      <td>11001.0</td>\n",
       "      <td>14399.0</td>\n",
       "      <td>16991.0</td>\n",
       "      <td>1340.0</td>\n",
       "      <td>1609.0</td>\n",
       "      <td>Not Provided</td>\n",
       "      <td>CAT A</td>\n",
       "      <td>720</td>\n",
       "      <td>5401000</td>\n",
       "    </tr>\n",
       "    <tr>\n",
       "      <th>3</th>\n",
       "      <td>8301.0</td>\n",
       "      <td>11188.0</td>\n",
       "      <td>12289.0</td>\n",
       "      <td>1451.0</td>\n",
       "      <td>1748.0</td>\n",
       "      <td>Covered</td>\n",
       "      <td>CAT B</td>\n",
       "      <td>620</td>\n",
       "      <td>5373000</td>\n",
       "    </tr>\n",
       "    <tr>\n",
       "      <th>4</th>\n",
       "      <td>10510.0</td>\n",
       "      <td>12629.0</td>\n",
       "      <td>13921.0</td>\n",
       "      <td>1770.0</td>\n",
       "      <td>2111.0</td>\n",
       "      <td>Not Provided</td>\n",
       "      <td>CAT B</td>\n",
       "      <td>450</td>\n",
       "      <td>4662000</td>\n",
       "    </tr>\n",
       "  </tbody>\n",
       "</table>\n",
       "</div>"
      ],
      "text/plain": [
       "   Dist_Taxi  Dist_Market  Dist_Hospital  Carpet  Builtup       Parking  \\\n",
       "0     9796.0       5250.0        10703.0  1659.0   1961.0          Open   \n",
       "1     8294.0       8186.0        12694.0  1461.0   1752.0  Not Provided   \n",
       "2    11001.0      14399.0        16991.0  1340.0   1609.0  Not Provided   \n",
       "3     8301.0      11188.0        12289.0  1451.0   1748.0       Covered   \n",
       "4    10510.0      12629.0        13921.0  1770.0   2111.0  Not Provided   \n",
       "\n",
       "  City_Category  Rainfall  House_Price  \n",
       "0         CAT B       530      6649000  \n",
       "1         CAT B       210      3982000  \n",
       "2         CAT A       720      5401000  \n",
       "3         CAT B       620      5373000  \n",
       "4         CAT B       450      4662000  "
      ]
     },
     "execution_count": 103,
     "metadata": {},
     "output_type": "execute_result"
    }
   ],
   "source": [
    "Q1 = price['House_Price'].quantile(0.25)\n",
    "Q2 = price['House_Price'].quantile(0.50)\n",
    "Q3 = price['House_Price'].quantile(0.75)\n",
    "IQR = Q3 - Q1 #IQR is interquartile range. \n",
    "print(\"Q1={}, Q3={}, IQR={}\".format(Q1, Q3, IQR))\n",
    "\n",
    "#outliers_bawah = (price['House_Price'] < (Q1 - 1.5 *IQR)) # Outlier bawah\n",
    "#outliers_atas = (price['House_Price'] > (Q3 + 1.5 *IQR)) # Outlier atas\n",
    "#rumah_murah = price.loc[outliers_bawah]\n",
    "#rumah_kemahalan = price.loc[outliers_atas]\n",
    "\n",
    "no_outlier = (price['House_Price'] >= Q1 - 1.5 * IQR) & (price['House_Price'] <= Q3 + 1.5 *IQR)\n",
    "price3 = price[no_outlier]\n",
    "print(price3.shape)\n",
    "price3.head()"
   ]
  },
  {
   "cell_type": "markdown",
   "metadata": {
    "slideshow": {
     "slide_type": "slide"
    }
   },
   "source": [
    "# <center><font color=\"green\"> Diskusi: Bilamana menggunakan CI dan bilamana menggunakan BoxPlot?</font></center>"
   ]
  },
  {
   "cell_type": "markdown",
   "metadata": {
    "slideshow": {
     "slide_type": "slide"
    }
   },
   "source": [
    "# <center><font color=\"blue\">Removing Duplicate Data</font></center>\n",
    "\n",
    "<img alt=\"\" src=\"images/XII_Duplicate-Data.png\" style=\"height: 200px;\" />\n",
    "\n",
    "* Banyak di temukan di sistem Big Data.\n",
    "* mempengaruhi model dan analisa yang berdasarkan frekuensi.\n",
    "* Terkadang kita sengaja membuat duplikasi (misal pada kasus imbalanced learning).\n",
    "\n",
    "image source: http://www.dagdoo.org/excel-learning/power-query/"
   ]
  },
  {
   "cell_type": "code",
   "execution_count": 88,
   "metadata": {},
   "outputs": [
    {
     "data": {
      "text/html": [
       "<div>\n",
       "<style scoped>\n",
       "    .dataframe tbody tr th:only-of-type {\n",
       "        vertical-align: middle;\n",
       "    }\n",
       "\n",
       "    .dataframe tbody tr th {\n",
       "        vertical-align: top;\n",
       "    }\n",
       "\n",
       "    .dataframe thead th {\n",
       "        text-align: right;\n",
       "    }\n",
       "</style>\n",
       "<table border=\"1\" class=\"dataframe\">\n",
       "  <thead>\n",
       "    <tr style=\"text-align: right;\">\n",
       "      <th></th>\n",
       "      <th>Dist_Taxi</th>\n",
       "      <th>Dist_Market</th>\n",
       "      <th>Dist_Hospital</th>\n",
       "      <th>Carpet</th>\n",
       "      <th>Builtup</th>\n",
       "      <th>Parking</th>\n",
       "      <th>City_Category</th>\n",
       "      <th>Rainfall</th>\n",
       "      <th>House_Price</th>\n",
       "    </tr>\n",
       "  </thead>\n",
       "  <tbody>\n",
       "    <tr>\n",
       "      <th>0</th>\n",
       "      <td>9796.0</td>\n",
       "      <td>5250.0</td>\n",
       "      <td>10703.0</td>\n",
       "      <td>1659.0</td>\n",
       "      <td>1961.0</td>\n",
       "      <td>Open</td>\n",
       "      <td>CAT B</td>\n",
       "      <td>530</td>\n",
       "      <td>6649000</td>\n",
       "    </tr>\n",
       "    <tr>\n",
       "      <th>1</th>\n",
       "      <td>8294.0</td>\n",
       "      <td>8186.0</td>\n",
       "      <td>12694.0</td>\n",
       "      <td>1461.0</td>\n",
       "      <td>1752.0</td>\n",
       "      <td>Not Provided</td>\n",
       "      <td>CAT B</td>\n",
       "      <td>210</td>\n",
       "      <td>3982000</td>\n",
       "    </tr>\n",
       "    <tr>\n",
       "      <th>2</th>\n",
       "      <td>11001.0</td>\n",
       "      <td>14399.0</td>\n",
       "      <td>16991.0</td>\n",
       "      <td>1340.0</td>\n",
       "      <td>1609.0</td>\n",
       "      <td>Not Provided</td>\n",
       "      <td>CAT A</td>\n",
       "      <td>720</td>\n",
       "      <td>5401000</td>\n",
       "    </tr>\n",
       "    <tr>\n",
       "      <th>3</th>\n",
       "      <td>8301.0</td>\n",
       "      <td>11188.0</td>\n",
       "      <td>12289.0</td>\n",
       "      <td>1451.0</td>\n",
       "      <td>1748.0</td>\n",
       "      <td>Covered</td>\n",
       "      <td>CAT B</td>\n",
       "      <td>620</td>\n",
       "      <td>5373000</td>\n",
       "    </tr>\n",
       "    <tr>\n",
       "      <th>4</th>\n",
       "      <td>10510.0</td>\n",
       "      <td>12629.0</td>\n",
       "      <td>13921.0</td>\n",
       "      <td>1770.0</td>\n",
       "      <td>2111.0</td>\n",
       "      <td>Not Provided</td>\n",
       "      <td>CAT B</td>\n",
       "      <td>450</td>\n",
       "      <td>4662000</td>\n",
       "    </tr>\n",
       "  </tbody>\n",
       "</table>\n",
       "</div>"
      ],
      "text/plain": [
       "   Dist_Taxi  Dist_Market  Dist_Hospital  Carpet  Builtup       Parking  \\\n",
       "0     9796.0       5250.0        10703.0  1659.0   1961.0          Open   \n",
       "1     8294.0       8186.0        12694.0  1461.0   1752.0  Not Provided   \n",
       "2    11001.0      14399.0        16991.0  1340.0   1609.0  Not Provided   \n",
       "3     8301.0      11188.0        12289.0  1451.0   1748.0       Covered   \n",
       "4    10510.0      12629.0        13921.0  1770.0   2111.0  Not Provided   \n",
       "\n",
       "  City_Category  Rainfall  House_Price  \n",
       "0         CAT B       530      6649000  \n",
       "1         CAT B       210      3982000  \n",
       "2         CAT A       720      5401000  \n",
       "3         CAT B       620      5373000  \n",
       "4         CAT B       450      4662000  "
      ]
     },
     "execution_count": 88,
     "metadata": {},
     "output_type": "execute_result"
    }
   ],
   "source": [
    "price.head()"
   ]
  },
  {
   "cell_type": "code",
   "execution_count": 89,
   "metadata": {
    "slideshow": {
     "slide_type": "slide"
    }
   },
   "outputs": [
    {
     "name": "stdout",
     "output_type": "stream",
     "text": [
      "(936, 9)\n",
      "jumlah data yang duplikat 4\n"
     ]
    },
    {
     "data": {
      "text/html": [
       "<div>\n",
       "<style scoped>\n",
       "    .dataframe tbody tr th:only-of-type {\n",
       "        vertical-align: middle;\n",
       "    }\n",
       "\n",
       "    .dataframe tbody tr th {\n",
       "        vertical-align: top;\n",
       "    }\n",
       "\n",
       "    .dataframe thead th {\n",
       "        text-align: right;\n",
       "    }\n",
       "</style>\n",
       "<table border=\"1\" class=\"dataframe\">\n",
       "  <thead>\n",
       "    <tr style=\"text-align: right;\">\n",
       "      <th></th>\n",
       "      <th>Dist_Taxi</th>\n",
       "      <th>Dist_Market</th>\n",
       "      <th>Dist_Hospital</th>\n",
       "      <th>Carpet</th>\n",
       "      <th>Builtup</th>\n",
       "      <th>Parking</th>\n",
       "      <th>City_Category</th>\n",
       "      <th>Rainfall</th>\n",
       "      <th>House_Price</th>\n",
       "    </tr>\n",
       "  </thead>\n",
       "  <tbody>\n",
       "    <tr>\n",
       "      <th>932</th>\n",
       "      <td>10915.0</td>\n",
       "      <td>17486.0</td>\n",
       "      <td>15964.0</td>\n",
       "      <td>1549.0</td>\n",
       "      <td>1851.0</td>\n",
       "      <td>Not Provided</td>\n",
       "      <td>CAT C</td>\n",
       "      <td>1220</td>\n",
       "      <td>7062000</td>\n",
       "    </tr>\n",
       "    <tr>\n",
       "      <th>933</th>\n",
       "      <td>9205.0</td>\n",
       "      <td>10418.0</td>\n",
       "      <td>14496.0</td>\n",
       "      <td>1118.0</td>\n",
       "      <td>1337.0</td>\n",
       "      <td>Open</td>\n",
       "      <td>CAT A</td>\n",
       "      <td>560</td>\n",
       "      <td>7227000</td>\n",
       "    </tr>\n",
       "    <tr>\n",
       "      <th>934</th>\n",
       "      <td>10915.0</td>\n",
       "      <td>17486.0</td>\n",
       "      <td>15964.0</td>\n",
       "      <td>1549.0</td>\n",
       "      <td>1851.0</td>\n",
       "      <td>Not Provided</td>\n",
       "      <td>CAT C</td>\n",
       "      <td>1220</td>\n",
       "      <td>7062000</td>\n",
       "    </tr>\n",
       "    <tr>\n",
       "      <th>935</th>\n",
       "      <td>10915.0</td>\n",
       "      <td>17486.0</td>\n",
       "      <td>15964.0</td>\n",
       "      <td>1549.0</td>\n",
       "      <td>1851.0</td>\n",
       "      <td>Not Provided</td>\n",
       "      <td>CAT C</td>\n",
       "      <td>1220</td>\n",
       "      <td>7062000</td>\n",
       "    </tr>\n",
       "  </tbody>\n",
       "</table>\n",
       "</div>"
      ],
      "text/plain": [
       "     Dist_Taxi  Dist_Market  Dist_Hospital  Carpet  Builtup       Parking  \\\n",
       "932    10915.0      17486.0        15964.0  1549.0   1851.0  Not Provided   \n",
       "933     9205.0      10418.0        14496.0  1118.0   1337.0          Open   \n",
       "934    10915.0      17486.0        15964.0  1549.0   1851.0  Not Provided   \n",
       "935    10915.0      17486.0        15964.0  1549.0   1851.0  Not Provided   \n",
       "\n",
       "    City_Category  Rainfall  House_Price  \n",
       "932         CAT C      1220      7062000  \n",
       "933         CAT A       560      7227000  \n",
       "934         CAT C      1220      7062000  \n",
       "935         CAT C      1220      7062000  "
      ]
     },
     "execution_count": 89,
     "metadata": {},
     "output_type": "execute_result"
    }
   ],
   "source": [
    "# mengecek apakah ada duplikat data sangatlah mudah menggunakan Pandas\n",
    "# Bayangkan jika menggunakan Excel.\n",
    "print(price.shape)\n",
    "print(\"jumlah data yang duplikat\", price.duplicated().sum()) \n",
    "price[price.duplicated() == True]\n",
    "# Perhatikan kalau sebelumnya kita tidak \"Drop\" var observasi, \n",
    "# maka kita tidak akan mendapatkan duplikasi dengan cara ini.\n",
    "# Apakah 4 duplikat termasuk \"original data\""
   ]
  },
  {
   "cell_type": "code",
   "execution_count": 90,
   "metadata": {
    "slideshow": {
     "slide_type": "slide"
    }
   },
   "outputs": [
    {
     "data": {
      "text/html": [
       "<div>\n",
       "<style scoped>\n",
       "    .dataframe tbody tr th:only-of-type {\n",
       "        vertical-align: middle;\n",
       "    }\n",
       "\n",
       "    .dataframe tbody tr th {\n",
       "        vertical-align: top;\n",
       "    }\n",
       "\n",
       "    .dataframe thead th {\n",
       "        text-align: right;\n",
       "    }\n",
       "</style>\n",
       "<table border=\"1\" class=\"dataframe\">\n",
       "  <thead>\n",
       "    <tr style=\"text-align: right;\">\n",
       "      <th></th>\n",
       "      <th>Dist_Taxi</th>\n",
       "      <th>Dist_Market</th>\n",
       "      <th>Dist_Hospital</th>\n",
       "      <th>Carpet</th>\n",
       "      <th>Builtup</th>\n",
       "      <th>Parking</th>\n",
       "      <th>City_Category</th>\n",
       "      <th>Rainfall</th>\n",
       "      <th>House_Price</th>\n",
       "    </tr>\n",
       "  </thead>\n",
       "  <tbody>\n",
       "    <tr>\n",
       "      <th>199</th>\n",
       "      <td>8704.0</td>\n",
       "      <td>13572.0</td>\n",
       "      <td>12349.0</td>\n",
       "      <td>1666.0</td>\n",
       "      <td>2000.0</td>\n",
       "      <td>Open</td>\n",
       "      <td>CAT C</td>\n",
       "      <td>480</td>\n",
       "      <td>3973000</td>\n",
       "    </tr>\n",
       "    <tr>\n",
       "      <th>244</th>\n",
       "      <td>10612.0</td>\n",
       "      <td>8229.0</td>\n",
       "      <td>15696.0</td>\n",
       "      <td>1366.0</td>\n",
       "      <td>1649.0</td>\n",
       "      <td>Not Provided</td>\n",
       "      <td>CAT B</td>\n",
       "      <td>940</td>\n",
       "      <td>5278000</td>\n",
       "    </tr>\n",
       "    <tr>\n",
       "      <th>254</th>\n",
       "      <td>10006.0</td>\n",
       "      <td>10003.0</td>\n",
       "      <td>14751.0</td>\n",
       "      <td>1557.0</td>\n",
       "      <td>1861.0</td>\n",
       "      <td>No Parking</td>\n",
       "      <td>CAT A</td>\n",
       "      <td>370</td>\n",
       "      <td>6994000</td>\n",
       "    </tr>\n",
       "    <tr>\n",
       "      <th>318</th>\n",
       "      <td>9851.0</td>\n",
       "      <td>13410.0</td>\n",
       "      <td>16916.0</td>\n",
       "      <td>1092.0</td>\n",
       "      <td>1314.0</td>\n",
       "      <td>Open</td>\n",
       "      <td>CAT A</td>\n",
       "      <td>600</td>\n",
       "      <td>7653000</td>\n",
       "    </tr>\n",
       "    <tr>\n",
       "      <th>392</th>\n",
       "      <td>5944.0</td>\n",
       "      <td>7143.0</td>\n",
       "      <td>12384.0</td>\n",
       "      <td>1940.0</td>\n",
       "      <td>2343.0</td>\n",
       "      <td>Covered</td>\n",
       "      <td>CAT A</td>\n",
       "      <td>1130</td>\n",
       "      <td>8469000</td>\n",
       "    </tr>\n",
       "  </tbody>\n",
       "</table>\n",
       "</div>"
      ],
      "text/plain": [
       "     Dist_Taxi  Dist_Market  Dist_Hospital  Carpet  Builtup       Parking  \\\n",
       "199     8704.0      13572.0        12349.0  1666.0   2000.0          Open   \n",
       "244    10612.0       8229.0        15696.0  1366.0   1649.0  Not Provided   \n",
       "254    10006.0      10003.0        14751.0  1557.0   1861.0    No Parking   \n",
       "318     9851.0      13410.0        16916.0  1092.0   1314.0          Open   \n",
       "392     5944.0       7143.0        12384.0  1940.0   2343.0       Covered   \n",
       "\n",
       "    City_Category  Rainfall  House_Price  \n",
       "199         CAT C       480      3973000  \n",
       "244         CAT B       940      5278000  \n",
       "254         CAT A       370      6994000  \n",
       "318         CAT A       600      7653000  \n",
       "392         CAT A      1130      8469000  "
      ]
     },
     "execution_count": 90,
     "metadata": {},
     "output_type": "execute_result"
    }
   ],
   "source": [
    "# Kita juga bisa mencari duplikat hanya berdasarkan kolom-kolom tertentu saja\n",
    "price[price.duplicated(subset=['City_Category', \"House_Price\"])].head()"
   ]
  },
  {
   "cell_type": "code",
   "execution_count": 91,
   "metadata": {
    "slideshow": {
     "slide_type": "slide"
    }
   },
   "outputs": [
    {
     "name": "stdout",
     "output_type": "stream",
     "text": [
      "0\n",
      "(932, 9)\n"
     ]
    }
   ],
   "source": [
    "#menghapus entri yang memiliki data duplikat \n",
    "price.drop_duplicates(keep=\"first\", inplace=True)\n",
    "print(price.duplicated().sum()) # no more duplicates\n",
    "print(price.shape) # re-check by printing data size"
   ]
  },
  {
   "cell_type": "markdown",
   "metadata": {
    "slideshow": {
     "slide_type": "slide"
    }
   },
   "source": [
    "# <center><font color=\"blue\">Missing Values</font></center>\n",
    "    \n",
    "Salah satu proses dalam data preprocessing adalah mengidentifikasi dan menangani *missing value*, apa itu *missing value*? *Missing value* adalah istilah untuk data yang hilang\n",
    "\n",
    "<img alt=\"\" src=\"images/dt_excel.png\" style=\"height: 200px;\" />\n",
    "\n",
    "## <font color=\"green\">Penyebab Missing Value</font>\n",
    "*   Error pada *data entry*, baik itu *human error*, kesalahan pada sistem, atau hardware/software fault.\n",
    "*   Pada data survey/kuesioner, bisa disebabkan oleh responden yang lupa mengisi pertanyaan, pertanyaan yang sulit dimengerti, ataupun pertanyaan enggan diisi karena merupakan pertanyaan yang sensitif\n",
    "* permasalahan yang dihadapi pada data di dunia nyata adalah, terkadang penandaan untuk mengatakan bahwa data tersebut *missing* sangat beragam, bisa ditulis ‘?’ (tanda tanya), bisa ditulis ‘-‘ (strip), bisa suatu bilangan yang sangat besar atau sangat kecil (misal 99 atau -999), di kosongkan, NaN, dsb.\n",
    "### <font color=\"green\">Langkah pertama penanganan MV adalah dengan melakukan EDA, terutama mengetahui berapa banyak proporsi data yang Missing.</font>"
   ]
  },
  {
   "cell_type": "markdown",
   "metadata": {
    "slideshow": {
     "slide_type": "slide"
    }
   },
   "source": [
    "# <center><font color=\"blue\"> Tipe Missing Value</font></center>\n",
    "<font color=\"green\">Langkah kedua penanganan MV adalah meneliti bagaimana MV terdistribusi (tipe MV).</font>\n",
    "<img alt=\"\" src=\"images/Missing value analysis mva.jpeg\" style=\"height: 200px;\" />\n",
    "\n",
    "* **MCAR**: Data hilang secara acak, dan tidak berkaitan dengan variabel/mekanisme apapun.\n",
    "    - **Contoh**: Beberapa peserta workshop tidak hadir karena alasan masing-masing dan mereka tidak saling berkomunikasi.\n",
    "\n",
    "* **MAR**: Terdapat hubungan sistematis antara kecenderungan data yang missing dan yang tidak missing, \"tapi tidak dengan (harapan nilai) missing value itu sendiri\". \n",
    "    - **Contoh**: Karena akhir tahun & banyak deadline, sehingga banyak karyawan yang memilih mengerjakan laporan ketimbang ikut workshop.\n",
    "\n",
    "* **MNAR**: Terdapat hubungan sistematis antara kecenderungan data yang missing dan yang tidak missing, dan juga dengan (harapan nilai) missing value itu sendiri.\n",
    "    - **Contoh**: Siswa yang memiliki orang tua dengan penghasilan dibawah rata-rata akan lebih sungkan mengisi form yang menanyakan penghasilan orang tua. Apalagi kalau jawabannya harus berupa angka eksak (bukan pilihan berupa interval). Pada siatuasi ini tidak hanya data berpotensi missing, tapi juga berpotensi untuk menurunkan kualitas data (siswa berbohong).\n",
    "* **Statistic Test**: Terdapat uji statistik untuk MNAR, namun bahasan ini diluar scope workshop (pendahuluan). Namun MNAR juga dapat diketahui dari domain/business knowledge. https://towardsdatascience.com/statistical-test-for-mcar-in-python-9fb617a76eac\n",
    "    \n",
    "### <font color=\"green\">Langkah ketiga adalah menangani MV.</font>"
   ]
  },
  {
   "cell_type": "markdown",
   "metadata": {
    "slideshow": {
     "slide_type": "slide"
    }
   },
   "source": [
    "# <center><font color=\"blue\"> Missing Values Treatment 01: Deletion</font></center>\n",
    "\n",
    "* Jika data yang missing sedikit \"dan\" tidak terlalu berharga, biasanya relatif aman untuk tidak mengikutsertakan data tersebut dalam proses pengolahan data selanjutnya.\n",
    "* Jika suatu variabel memiliki terlalu banyak missing value, secara umum juga aman untuk tidak mengikutsertakan data tersebut dalam proses pengolahan data selanjutnya.\n",
    "* Terdapat beberapa cara dalam menghapus data:\n",
    "    - **Listwise Deletion**: menghapus baris/record yang mempunyai satu atau lebih *missing* di suatu variabelnya.\n",
    "\n",
    "<img alt=\"\" src=\"images/mv_all.png\" style=\"height: 150px;\"/>\n",
    "\n",
    "    - **Pairwise Deletion**: menghapus *missing value* dengan memperhatikan variabel-variabel yang ingin digunakan. misal kita ingin mencari korelasi antara **variabel A** dan **variabel B**, maka kita hanya perlu menghapus baris yang bersesuaian tersebut.\n",
    "\n",
    "<img alt=\"\" src=\"images/mv_part.png\" style=\"height: 150px;\"/>"
   ]
  },
  {
   "cell_type": "markdown",
   "metadata": {
    "slideshow": {
     "slide_type": "slide"
    }
   },
   "source": [
    "# <center><font color=\"blue\"> Missing Values Treatment 02: Mengabaikan missing value</font></center>\n",
    "\n",
    "* Beberapa algoritma machine learning atau metode analisis lainnya memiliki kemampuan internal model/algoritma untuk  menangani missing value, contohnya adalah decision tree, k-Nearest Neighbors (k-NN), Neural network yang dapat mengimputasi sendiri missing value pada data.\n",
    "\n",
    "* Ataupun jika ada beberapa kolom yang tidak memberikan informasi apa apa, kita dapat membiarkan missing value ada di kolom tersebut karena kolom tersebut pun tidak memberikan informasi yang signifikan, contohnya adalah nomor tiket pada data penerbangan, kita tidak perlu sulit-sulit memikirkan bagaimana cara mengimputasi kolom tersebut. Cukup drop kolom tersebut."
   ]
  },
  {
   "cell_type": "markdown",
   "metadata": {
    "slideshow": {
     "slide_type": "slide"
    }
   },
   "source": [
    "# <center><font color=\"blue\"> Missing Values Treatment 03: Imputasi</font></center>\n",
    "\n",
    "<img alt=\"\" src=\"images/mv_flowchart.png\" style=\"height: 400px;\" />\n",
    "* Selain yang ada di gambar masih banyak teknik lain, termasuk menggunakan model/algoritma untuk melakukan prediksi pada kolom yang tidak memiliki nilai (missing).\n",
    "    \n",
    "Sumber gambar : https://towardsdatascience.com/how-to-handle-missing-data-8646b18db0d4    "
   ]
  },
  {
   "cell_type": "markdown",
   "metadata": {
    "slideshow": {
     "slide_type": "slide"
    }
   },
   "source": [
    "# <center><font color=\"blue\"> Pandas & Missing Value Treatments</font></center>\n",
    "\n",
    "* MVA sangat dalam, pada module ini hanya akan dibahas teknik sederhana.\n",
    "* tidak ada metode yang terbaik dalam menghandle missing value, biasanya \"case-by-case\".\n",
    "* Di Module ini kita akan menggunakan beberapa fungsi di Pandas untuk menangani missing values.\n",
    "* https://pandas.pydata.org/pandas-docs/stable/user_guide/missing_data.html\n",
    "* Nilai-nilai berikut dianggap missing oleh Pandas. Apa konsekuensinya?\n",
    "    \n",
    "<img alt=\"\" src=\"images/pd_nulls.png\" style=\"height: 150px;\"/>"
   ]
  },
  {
   "cell_type": "code",
   "execution_count": 92,
   "metadata": {
    "ExecuteTime": {
     "end_time": "2019-09-30T01:47:26.285880Z",
     "start_time": "2019-09-30T01:47:26.278337Z"
    },
    "slideshow": {
     "slide_type": "fragment"
    }
   },
   "outputs": [
    {
     "name": "stdout",
     "output_type": "stream",
     "text": [
      "Observation       0\n",
      "Dist_Taxi        13\n",
      "Dist_Market      13\n",
      "Dist_Hospital     1\n",
      "Carpet            8\n",
      "Builtup          15\n",
      "Parking           0\n",
      "City_Category     0\n",
      "Rainfall          0\n",
      "House_Price       0\n",
      "dtype: int64\n"
     ]
    }
   ],
   "source": [
    "# General Look at the Missing Values\n",
    "print(price2.isnull().sum())"
   ]
  },
  {
   "cell_type": "code",
   "execution_count": 93,
   "metadata": {
    "slideshow": {
     "slide_type": "slide"
    }
   },
   "outputs": [
    {
     "data": {
      "text/html": [
       "<div>\n",
       "<style scoped>\n",
       "    .dataframe tbody tr th:only-of-type {\n",
       "        vertical-align: middle;\n",
       "    }\n",
       "\n",
       "    .dataframe tbody tr th {\n",
       "        vertical-align: top;\n",
       "    }\n",
       "\n",
       "    .dataframe thead th {\n",
       "        text-align: right;\n",
       "    }\n",
       "</style>\n",
       "<table border=\"1\" class=\"dataframe\">\n",
       "  <thead>\n",
       "    <tr style=\"text-align: right;\">\n",
       "      <th></th>\n",
       "      <th>persentase missing</th>\n",
       "    </tr>\n",
       "  </thead>\n",
       "  <tbody>\n",
       "    <tr>\n",
       "      <th>Observation</th>\n",
       "      <td>0.000000</td>\n",
       "    </tr>\n",
       "    <tr>\n",
       "      <th>Dist_Taxi</th>\n",
       "      <td>1.390374</td>\n",
       "    </tr>\n",
       "    <tr>\n",
       "      <th>Dist_Market</th>\n",
       "      <td>1.390374</td>\n",
       "    </tr>\n",
       "    <tr>\n",
       "      <th>Dist_Hospital</th>\n",
       "      <td>0.106952</td>\n",
       "    </tr>\n",
       "    <tr>\n",
       "      <th>Carpet</th>\n",
       "      <td>0.855615</td>\n",
       "    </tr>\n",
       "    <tr>\n",
       "      <th>Builtup</th>\n",
       "      <td>1.604278</td>\n",
       "    </tr>\n",
       "    <tr>\n",
       "      <th>Parking</th>\n",
       "      <td>0.000000</td>\n",
       "    </tr>\n",
       "    <tr>\n",
       "      <th>City_Category</th>\n",
       "      <td>0.000000</td>\n",
       "    </tr>\n",
       "    <tr>\n",
       "      <th>Rainfall</th>\n",
       "      <td>0.000000</td>\n",
       "    </tr>\n",
       "    <tr>\n",
       "      <th>House_Price</th>\n",
       "      <td>0.000000</td>\n",
       "    </tr>\n",
       "  </tbody>\n",
       "</table>\n",
       "</div>"
      ],
      "text/plain": [
       "               persentase missing\n",
       "Observation              0.000000\n",
       "Dist_Taxi                1.390374\n",
       "Dist_Market              1.390374\n",
       "Dist_Hospital            0.106952\n",
       "Carpet                   0.855615\n",
       "Builtup                  1.604278\n",
       "Parking                  0.000000\n",
       "City_Category            0.000000\n",
       "Rainfall                 0.000000\n",
       "House_Price              0.000000"
      ]
     },
     "execution_count": 93,
     "metadata": {},
     "output_type": "execute_result"
    }
   ],
   "source": [
    "(price2.isnull().sum()/len(price2)*100).to_frame('persentase missing')"
   ]
  },
  {
   "cell_type": "markdown",
   "metadata": {
    "slideshow": {
     "slide_type": "slide"
    }
   },
   "source": [
    "# <center><font color=\"blue\"> Gambaran yang Lebih baik tentang MV <br>(terutama di Big Data)</font></center>"
   ]
  },
  {
   "cell_type": "code",
   "execution_count": 94,
   "metadata": {
    "slideshow": {
     "slide_type": "fragment"
    }
   },
   "outputs": [
    {
     "data": {
      "image/png": "[encoded data removed]",
      "text/plain": [
       "<Figure size 432x288 with 1 Axes>"
      ]
     },
     "metadata": {},
     "output_type": "display_data"
    }
   ],
   "source": [
    "sns.heatmap(price2.isnull(), cbar=False)\n",
    "plt.title('Heatmap Missing Value')\n",
    "plt.show()"
   ]
  },
  {
   "cell_type": "code",
   "execution_count": 95,
   "metadata": {
    "ExecuteTime": {
     "end_time": "2019-09-30T01:47:04.499900Z",
     "start_time": "2019-09-30T01:47:04.469605Z"
    },
    "slideshow": {
     "slide_type": "slide"
    }
   },
   "outputs": [],
   "source": [
    "# Simplest solution, if the MV is not a lot\n",
    "# drop rows with missing values : Ada berbagai cara\n",
    "X = price.dropna() # jika ada MV minimal satu di salah satu kolom, maka baris di hapus\n",
    "price2.dropna(how='all') # jika ada MV di semua kolom, maka baris di hapus\n",
    "price2.dropna(thresh=2) # jika ada MV minimal di salah 2 kolom, maka baris di hapus\n",
    "price2.dropna(subset=['Dist_Hospital'])[:7] # jika ada MV minimal satu di salah kolom Dist_Hospital\n",
    "# inplace=True if really really sure\n",
    "price2.dropna(inplace=True)"
   ]
  },
  {
   "cell_type": "code",
   "execution_count": 97,
   "metadata": {
    "scrolled": true,
    "slideshow": {
     "slide_type": "fragment"
    }
   },
   "outputs": [
    {
     "name": "stdout",
     "output_type": "stream",
     "text": [
      "Observation      0\n",
      "Dist_Taxi        0\n",
      "Dist_Market      0\n",
      "Dist_Hospital    0\n",
      "Carpet           0\n",
      "Builtup          0\n",
      "Parking          0\n",
      "City_Category    0\n",
      "Rainfall         0\n",
      "House_Price      0\n",
      "dtype: int64\n"
     ]
    }
   ],
   "source": [
    "# memeriksa apakah Missing value-nya sudah tidak ada.\n",
    "print(price2.isnull().sum())"
   ]
  },
  {
   "cell_type": "code",
   "execution_count": 98,
   "metadata": {},
   "outputs": [
    {
     "data": {
      "text/plain": [
       "nan"
      ]
     },
     "execution_count": 98,
     "metadata": {},
     "output_type": "execute_result"
    }
   ],
   "source": [
    "import numpy as np\n",
    "\n",
    "np.nan"
   ]
  },
  {
   "cell_type": "markdown",
   "metadata": {
    "slideshow": {
     "slide_type": "slide"
    }
   },
   "source": [
    "# <center><font color=\"blue\"> Teknik Imputasi Dasar Missing Values</font></center>"
   ]
  },
  {
   "cell_type": "code",
   "execution_count": 99,
   "metadata": {
    "slideshow": {
     "slide_type": "fragment"
    }
   },
   "outputs": [
    {
     "name": "stdout",
     "output_type": "stream",
     "text": [
      "Dist_Taxi        13\n",
      "Dist_Market      13\n",
      "Dist_Hospital     1\n",
      "Carpet            8\n",
      "Builtup          15\n",
      "Parking           0\n",
      "City_Category     0\n",
      "Rainfall          0\n",
      "House_Price       0\n",
      "dtype: int64\n"
     ]
    }
   ],
   "source": [
    "# Sebagai ilustrasi Kita akan menggunakan variabel \"Price\" (bukan Price2)\n",
    "print(price.isnull().sum())"
   ]
  },
  {
   "cell_type": "code",
   "execution_count": 100,
   "metadata": {
    "slideshow": {
     "slide_type": "slide"
    }
   },
   "outputs": [
    {
     "name": "stdout",
     "output_type": "stream",
     "text": [
      "Dist_Taxi         0\n",
      "Dist_Market      13\n",
      "Dist_Hospital     1\n",
      "Carpet            8\n",
      "Builtup          15\n",
      "Parking           0\n",
      "City_Category     0\n",
      "Rainfall          0\n",
      "House_Price       0\n",
      "dtype: int64\n"
     ]
    }
   ],
   "source": [
    "# Misal di imputasi dengan rata-rata\n",
    "price[\"Dist_Taxi\"].fillna(price[\"Dist_Taxi\"].mean(), inplace = True)\n",
    "print(price.isnull().sum())"
   ]
  },
  {
   "cell_type": "code",
   "execution_count": 101,
   "metadata": {
    "slideshow": {
     "slide_type": "slide"
    }
   },
   "outputs": [
    {
     "name": "stdout",
     "output_type": "stream",
     "text": [
      "Dist_Taxi         0\n",
      "Dist_Market      13\n",
      "Dist_Hospital     1\n",
      "Carpet            8\n",
      "Builtup          15\n",
      "Parking           0\n",
      "City_Category     0\n",
      "Rainfall          0\n",
      "House_Price       0\n",
      "dtype: int64\n"
     ]
    }
   ],
   "source": [
    "# Misal MV di var kategori di imputasi dengan modus\n",
    "price['Parking'].fillna(price['Parking'].mode()[0], inplace=True)\n",
    "print(price.isnull().sum()) \n",
    "# tapi di contoh data ini di var kategori tidak ada MV"
   ]
  },
  {
   "cell_type": "markdown",
   "metadata": {
    "slideshow": {
     "slide_type": "slide"
    }
   },
   "source": [
    "# <center><font color=\"green\"> Diskusi/Latihan: Bagaimana cara imputasi MV numerik dengan Median?</font></center>"
   ]
  },
  {
   "cell_type": "markdown",
   "metadata": {
    "slideshow": {
     "slide_type": "slide"
    }
   },
   "source": [
    "# <center><font color=\"blue\"> Dasar Wrangling Variabel Kategorik</font></center>\n",
    "<center><img alt=\"\" src=\"images/label-one hot encoding.png\" style=\"height: 300px;\"/></center>"
   ]
  },
  {
   "cell_type": "markdown",
   "metadata": {
    "slideshow": {
     "slide_type": "slide"
    }
   },
   "source": [
    "# Label Encoder (Lebih bermanfaat untuk database/IS)"
   ]
  },
  {
   "cell_type": "code",
   "execution_count": 105,
   "metadata": {
    "slideshow": {
     "slide_type": "fragment"
    }
   },
   "outputs": [
    {
     "data": {
      "text/html": [
       "<div>\n",
       "<style scoped>\n",
       "    .dataframe tbody tr th:only-of-type {\n",
       "        vertical-align: middle;\n",
       "    }\n",
       "\n",
       "    .dataframe tbody tr th {\n",
       "        vertical-align: top;\n",
       "    }\n",
       "\n",
       "    .dataframe thead th {\n",
       "        text-align: right;\n",
       "    }\n",
       "</style>\n",
       "<table border=\"1\" class=\"dataframe\">\n",
       "  <thead>\n",
       "    <tr style=\"text-align: right;\">\n",
       "      <th></th>\n",
       "      <th>Parking</th>\n",
       "      <th>Parking_encoded</th>\n",
       "    </tr>\n",
       "  </thead>\n",
       "  <tbody>\n",
       "    <tr>\n",
       "      <th>0</th>\n",
       "      <td>Open</td>\n",
       "      <td>3</td>\n",
       "    </tr>\n",
       "    <tr>\n",
       "      <th>1</th>\n",
       "      <td>Not Provided</td>\n",
       "      <td>2</td>\n",
       "    </tr>\n",
       "    <tr>\n",
       "      <th>2</th>\n",
       "      <td>Not Provided</td>\n",
       "      <td>2</td>\n",
       "    </tr>\n",
       "    <tr>\n",
       "      <th>3</th>\n",
       "      <td>Covered</td>\n",
       "      <td>0</td>\n",
       "    </tr>\n",
       "    <tr>\n",
       "      <th>4</th>\n",
       "      <td>Not Provided</td>\n",
       "      <td>2</td>\n",
       "    </tr>\n",
       "    <tr>\n",
       "      <th>5</th>\n",
       "      <td>Open</td>\n",
       "      <td>3</td>\n",
       "    </tr>\n",
       "    <tr>\n",
       "      <th>6</th>\n",
       "      <td>No Parking</td>\n",
       "      <td>1</td>\n",
       "    </tr>\n",
       "  </tbody>\n",
       "</table>\n",
       "</div>"
      ],
      "text/plain": [
       "        Parking  Parking_encoded\n",
       "0          Open                3\n",
       "1  Not Provided                2\n",
       "2  Not Provided                2\n",
       "3       Covered                0\n",
       "4  Not Provided                2\n",
       "5          Open                3\n",
       "6    No Parking                1"
      ]
     },
     "execution_count": 105,
     "metadata": {},
     "output_type": "execute_result"
    }
   ],
   "source": [
    "from sklearn.preprocessing import LabelEncoder\n",
    "\n",
    "price['Parking_encoded'] = LabelEncoder().fit_transform(price['Parking'])\n",
    "price[['Parking', 'Parking_encoded']].head(7)"
   ]
  },
  {
   "cell_type": "markdown",
   "metadata": {
    "slideshow": {
     "slide_type": "slide"
    }
   },
   "source": [
    "# One-Hot-Encoding"
   ]
  },
  {
   "cell_type": "code",
   "execution_count": 106,
   "metadata": {
    "ExecuteTime": {
     "end_time": "2019-09-30T01:16:09.012894Z",
     "start_time": "2019-09-30T01:16:08.995362Z"
    },
    "slideshow": {
     "slide_type": "fragment"
    }
   },
   "outputs": [
    {
     "data": {
      "text/html": [
       "<div>\n",
       "<style scoped>\n",
       "    .dataframe tbody tr th:only-of-type {\n",
       "        vertical-align: middle;\n",
       "    }\n",
       "\n",
       "    .dataframe tbody tr th {\n",
       "        vertical-align: top;\n",
       "    }\n",
       "\n",
       "    .dataframe thead th {\n",
       "        text-align: right;\n",
       "    }\n",
       "</style>\n",
       "<table border=\"1\" class=\"dataframe\">\n",
       "  <thead>\n",
       "    <tr style=\"text-align: right;\">\n",
       "      <th></th>\n",
       "      <th>Park_Covered</th>\n",
       "      <th>Park_No Parking</th>\n",
       "      <th>Park_Not Provided</th>\n",
       "      <th>Park_Open</th>\n",
       "    </tr>\n",
       "  </thead>\n",
       "  <tbody>\n",
       "    <tr>\n",
       "      <th>0</th>\n",
       "      <td>0</td>\n",
       "      <td>0</td>\n",
       "      <td>0</td>\n",
       "      <td>1</td>\n",
       "    </tr>\n",
       "    <tr>\n",
       "      <th>1</th>\n",
       "      <td>0</td>\n",
       "      <td>0</td>\n",
       "      <td>1</td>\n",
       "      <td>0</td>\n",
       "    </tr>\n",
       "    <tr>\n",
       "      <th>2</th>\n",
       "      <td>0</td>\n",
       "      <td>0</td>\n",
       "      <td>1</td>\n",
       "      <td>0</td>\n",
       "    </tr>\n",
       "    <tr>\n",
       "      <th>3</th>\n",
       "      <td>1</td>\n",
       "      <td>0</td>\n",
       "      <td>0</td>\n",
       "      <td>0</td>\n",
       "    </tr>\n",
       "    <tr>\n",
       "      <th>4</th>\n",
       "      <td>0</td>\n",
       "      <td>0</td>\n",
       "      <td>1</td>\n",
       "      <td>0</td>\n",
       "    </tr>\n",
       "  </tbody>\n",
       "</table>\n",
       "</div>"
      ],
      "text/plain": [
       "   Park_Covered  Park_No Parking  Park_Not Provided  Park_Open\n",
       "0             0                0                  0          1\n",
       "1             0                0                  1          0\n",
       "2             0                0                  1          0\n",
       "3             1                0                  0          0\n",
       "4             0                0                  1          0"
      ]
     },
     "execution_count": 106,
     "metadata": {},
     "output_type": "execute_result"
    }
   ],
   "source": [
    "df = pd.get_dummies(price['Parking'], prefix='Park')\n",
    "df.head()"
   ]
  },
  {
   "cell_type": "code",
   "execution_count": 107,
   "metadata": {
    "slideshow": {
     "slide_type": "slide"
    }
   },
   "outputs": [
    {
     "data": {
      "text/html": [
       "<div>\n",
       "<style scoped>\n",
       "    .dataframe tbody tr th:only-of-type {\n",
       "        vertical-align: middle;\n",
       "    }\n",
       "\n",
       "    .dataframe tbody tr th {\n",
       "        vertical-align: top;\n",
       "    }\n",
       "\n",
       "    .dataframe thead th {\n",
       "        text-align: right;\n",
       "    }\n",
       "</style>\n",
       "<table border=\"1\" class=\"dataframe\">\n",
       "  <thead>\n",
       "    <tr style=\"text-align: right;\">\n",
       "      <th></th>\n",
       "      <th>Parking</th>\n",
       "    </tr>\n",
       "  </thead>\n",
       "  <tbody>\n",
       "    <tr>\n",
       "      <th>0</th>\n",
       "      <td>Open</td>\n",
       "    </tr>\n",
       "    <tr>\n",
       "      <th>1</th>\n",
       "      <td>Not Provided</td>\n",
       "    </tr>\n",
       "    <tr>\n",
       "      <th>2</th>\n",
       "      <td>Not Provided</td>\n",
       "    </tr>\n",
       "    <tr>\n",
       "      <th>3</th>\n",
       "      <td>Covered</td>\n",
       "    </tr>\n",
       "    <tr>\n",
       "      <th>4</th>\n",
       "      <td>Not Provided</td>\n",
       "    </tr>\n",
       "  </tbody>\n",
       "</table>\n",
       "</div>"
      ],
      "text/plain": [
       "        Parking\n",
       "0          Open\n",
       "1  Not Provided\n",
       "2  Not Provided\n",
       "3       Covered\n",
       "4  Not Provided"
      ]
     },
     "execution_count": 107,
     "metadata": {},
     "output_type": "execute_result"
    }
   ],
   "source": [
    "price[['Parking']].head()"
   ]
  },
  {
   "cell_type": "markdown",
   "metadata": {
    "slideshow": {
     "slide_type": "slide"
    }
   },
   "source": [
    "# Menggabungkan dengan data awal (concat)"
   ]
  },
  {
   "cell_type": "code",
   "execution_count": 108,
   "metadata": {
    "slideshow": {
     "slide_type": "fragment"
    }
   },
   "outputs": [
    {
     "data": {
      "text/html": [
       "<div>\n",
       "<style scoped>\n",
       "    .dataframe tbody tr th:only-of-type {\n",
       "        vertical-align: middle;\n",
       "    }\n",
       "\n",
       "    .dataframe tbody tr th {\n",
       "        vertical-align: top;\n",
       "    }\n",
       "\n",
       "    .dataframe thead th {\n",
       "        text-align: right;\n",
       "    }\n",
       "</style>\n",
       "<table border=\"1\" class=\"dataframe\">\n",
       "  <thead>\n",
       "    <tr style=\"text-align: right;\">\n",
       "      <th></th>\n",
       "      <th>0</th>\n",
       "      <th>1</th>\n",
       "      <th>2</th>\n",
       "      <th>3</th>\n",
       "      <th>4</th>\n",
       "    </tr>\n",
       "  </thead>\n",
       "  <tbody>\n",
       "    <tr>\n",
       "      <th>Dist_Taxi</th>\n",
       "      <td>9796</td>\n",
       "      <td>8294</td>\n",
       "      <td>11001</td>\n",
       "      <td>8301</td>\n",
       "      <td>10510</td>\n",
       "    </tr>\n",
       "    <tr>\n",
       "      <th>Dist_Market</th>\n",
       "      <td>5250</td>\n",
       "      <td>8186</td>\n",
       "      <td>14399</td>\n",
       "      <td>11188</td>\n",
       "      <td>12629</td>\n",
       "    </tr>\n",
       "    <tr>\n",
       "      <th>Dist_Hospital</th>\n",
       "      <td>10703</td>\n",
       "      <td>12694</td>\n",
       "      <td>16991</td>\n",
       "      <td>12289</td>\n",
       "      <td>13921</td>\n",
       "    </tr>\n",
       "    <tr>\n",
       "      <th>Carpet</th>\n",
       "      <td>1659</td>\n",
       "      <td>1461</td>\n",
       "      <td>1340</td>\n",
       "      <td>1451</td>\n",
       "      <td>1770</td>\n",
       "    </tr>\n",
       "    <tr>\n",
       "      <th>Builtup</th>\n",
       "      <td>1961</td>\n",
       "      <td>1752</td>\n",
       "      <td>1609</td>\n",
       "      <td>1748</td>\n",
       "      <td>2111</td>\n",
       "    </tr>\n",
       "    <tr>\n",
       "      <th>Parking</th>\n",
       "      <td>Open</td>\n",
       "      <td>Not Provided</td>\n",
       "      <td>Not Provided</td>\n",
       "      <td>Covered</td>\n",
       "      <td>Not Provided</td>\n",
       "    </tr>\n",
       "    <tr>\n",
       "      <th>City_Category</th>\n",
       "      <td>CAT B</td>\n",
       "      <td>CAT B</td>\n",
       "      <td>CAT A</td>\n",
       "      <td>CAT B</td>\n",
       "      <td>CAT B</td>\n",
       "    </tr>\n",
       "    <tr>\n",
       "      <th>Rainfall</th>\n",
       "      <td>530</td>\n",
       "      <td>210</td>\n",
       "      <td>720</td>\n",
       "      <td>620</td>\n",
       "      <td>450</td>\n",
       "    </tr>\n",
       "    <tr>\n",
       "      <th>House_Price</th>\n",
       "      <td>6649000</td>\n",
       "      <td>3982000</td>\n",
       "      <td>5401000</td>\n",
       "      <td>5373000</td>\n",
       "      <td>4662000</td>\n",
       "    </tr>\n",
       "    <tr>\n",
       "      <th>Parking_encoded</th>\n",
       "      <td>3</td>\n",
       "      <td>2</td>\n",
       "      <td>2</td>\n",
       "      <td>0</td>\n",
       "      <td>2</td>\n",
       "    </tr>\n",
       "    <tr>\n",
       "      <th>Park_Covered</th>\n",
       "      <td>0</td>\n",
       "      <td>0</td>\n",
       "      <td>0</td>\n",
       "      <td>1</td>\n",
       "      <td>0</td>\n",
       "    </tr>\n",
       "    <tr>\n",
       "      <th>Park_No Parking</th>\n",
       "      <td>0</td>\n",
       "      <td>0</td>\n",
       "      <td>0</td>\n",
       "      <td>0</td>\n",
       "      <td>0</td>\n",
       "    </tr>\n",
       "    <tr>\n",
       "      <th>Park_Not Provided</th>\n",
       "      <td>0</td>\n",
       "      <td>1</td>\n",
       "      <td>1</td>\n",
       "      <td>0</td>\n",
       "      <td>1</td>\n",
       "    </tr>\n",
       "    <tr>\n",
       "      <th>Park_Open</th>\n",
       "      <td>1</td>\n",
       "      <td>0</td>\n",
       "      <td>0</td>\n",
       "      <td>0</td>\n",
       "      <td>0</td>\n",
       "    </tr>\n",
       "  </tbody>\n",
       "</table>\n",
       "</div>"
      ],
      "text/plain": [
       "                         0             1             2        3             4\n",
       "Dist_Taxi             9796          8294         11001     8301         10510\n",
       "Dist_Market           5250          8186         14399    11188         12629\n",
       "Dist_Hospital        10703         12694         16991    12289         13921\n",
       "Carpet                1659          1461          1340     1451          1770\n",
       "Builtup               1961          1752          1609     1748          2111\n",
       "Parking               Open  Not Provided  Not Provided  Covered  Not Provided\n",
       "City_Category        CAT B         CAT B         CAT A    CAT B         CAT B\n",
       "Rainfall               530           210           720      620           450\n",
       "House_Price        6649000       3982000       5401000  5373000       4662000\n",
       "Parking_encoded          3             2             2        0             2\n",
       "Park_Covered             0             0             0        1             0\n",
       "Park_No Parking          0             0             0        0             0\n",
       "Park_Not Provided        0             1             1        0             1\n",
       "Park_Open                1             0             0        0             0"
      ]
     },
     "execution_count": 108,
     "metadata": {},
     "output_type": "execute_result"
    }
   ],
   "source": [
    "df2 = pd.concat([price, df], axis = 1)\n",
    "df2.head().transpose() \n",
    "# gunakan transpose pada data berdimensi tinggi"
   ]
  },
  {
   "cell_type": "markdown",
   "metadata": {
    "slideshow": {
     "slide_type": "slide"
    }
   },
   "source": [
    "# Saving (preprocessed) Data"
   ]
  },
  {
   "cell_type": "code",
   "execution_count": null,
   "metadata": {
    "ExecuteTime": {
     "end_time": "2019-09-30T01:02:14.552127Z",
     "start_time": "2019-09-30T01:02:14.509242Z"
    },
    "slideshow": {
     "slide_type": "fragment"
    }
   },
   "outputs": [],
   "source": [
    "# Saving the preprocessed Data for future use/analysis\n",
    "price2.to_csv(\"data/price_PreProcessed.csv\", encoding='utf8', index=False)"
   ]
  },
  {
   "cell_type": "markdown",
   "metadata": {
    "slideshow": {
     "slide_type": "slide"
    }
   },
   "source": [
    "# <center><font color=\"blue\"> Data di ML/AI sering memuat data dengan informasi waktu</font></center>\n",
    "\n",
    "* Data sensor di database, Media Sosial, log, artikel website, sensor, dsb.\n",
    "* Sayangnya penulisan informasi waktu tidak seragam.\n",
    "\n",
    "<center><img alt=\"\" src=\"images/dateTime_Formats.png\" style=\"height: 300px;\"/></center>"
   ]
  },
  {
   "cell_type": "markdown",
   "metadata": {
    "slideshow": {
     "slide_type": "slide"
    }
   },
   "source": [
    "# <center><font color=\"blue\"> DateTime Universal Codes</font></center>\n",
    "\n",
    "<center><img alt=\"\" src=\"images/dateTime_Formats_Codes.png\" style=\"height: 400px;\"/></center>\n",
    "\n",
    "Very Good Reference: https://www.foragoodstrftime.com/"
   ]
  },
  {
   "cell_type": "code",
   "execution_count": null,
   "metadata": {
    "slideshow": {
     "slide_type": "fragment"
    }
   },
   "outputs": [],
   "source": [
    "# Variabel Date-Time\n",
    "from datetime import datetime\n",
    "# %a %b %d %l %m %M %z %Y https://www.foragoodstrftime.com/\n",
    "d1 = datetime.strptime('Jun 1 2005  1:33PM', '%b %d %Y %I:%M%p')\n",
    "d2 = datetime.strptime('Jun 1 2004  1:33PM', '%b %d %Y %I:%M%p')\n",
    "print(d1.day, d2.month, d1>d2)"
   ]
  },
  {
   "cell_type": "code",
   "execution_count": null,
   "metadata": {
    "slideshow": {
     "slide_type": "slide"
    }
   },
   "outputs": [],
   "source": [
    "# Rubah Teks ke DateTime Format \n",
    "from datetime import datetime\n",
    "# %a %b %d %l %m %M %z %Y https://www.foragoodstrftime.com/\n",
    "d1 = datetime.strptime('Apr 28 2021  1:33PM', '%b %d %Y %I:%M%p')\n",
    "d2 = datetime.strptime('Jun 1 2004  1:33PM', '%b %d %Y %I:%M%p')\n",
    "d1"
   ]
  },
  {
   "cell_type": "code",
   "execution_count": null,
   "metadata": {
    "slideshow": {
     "slide_type": "slide"
    }
   },
   "outputs": [],
   "source": [
    "# weekday 0=Senin, 1=Selasa, 2=Rabu, ... dst\n",
    "d1.minute, d1.hour, d1.weekday(), d1.day, d1.month, d1.year"
   ]
  },
  {
   "cell_type": "code",
   "execution_count": null,
   "metadata": {
    "slideshow": {
     "slide_type": "slide"
    }
   },
   "outputs": [],
   "source": [
    "hari_ = {0:\"Senin\", 1:\"Selasa\", 2:\"Rabu\", 3:\"Kamis\", 4:\"Jumat\", 5:\"Sabtu\", 6:\"Minggu\"}\n",
    "hari_[d1.weekday()]"
   ]
  },
  {
   "cell_type": "markdown",
   "metadata": {
    "slideshow": {
     "slide_type": "slide"
    }
   },
   "source": [
    "### Hari/Saat ini?"
   ]
  },
  {
   "cell_type": "code",
   "execution_count": null,
   "metadata": {
    "slideshow": {
     "slide_type": "fragment"
    }
   },
   "outputs": [],
   "source": [
    "datetime.today().strftime('%Y-%m-%d ~ %H:%M:%S')"
   ]
  },
  {
   "cell_type": "markdown",
   "metadata": {
    "slideshow": {
     "slide_type": "slide"
    }
   },
   "source": [
    "### Operasi pada variabel datetime"
   ]
  },
  {
   "cell_type": "code",
   "execution_count": null,
   "metadata": {
    "slideshow": {
     "slide_type": "slide"
    }
   },
   "outputs": [],
   "source": [
    "# Mana yang lebih dahulu\n",
    "d1 = datetime.strptime('Apr 28 2021  1:33PM', '%b %d %Y %I:%M%p')\n",
    "d2 = datetime.strptime('Apr 27 2021  1:33PM', '%b %d %Y %I:%M%p')\n",
    "\n",
    "d1<d2, d1>d2, d1==d2, d1<=d2"
   ]
  },
  {
   "cell_type": "code",
   "execution_count": null,
   "metadata": {
    "slideshow": {
     "slide_type": "slide"
    }
   },
   "outputs": [],
   "source": [
    "# Menjumlahkan waktu: Contoh kasus Google Map/Ojol\n",
    "import datetime as dm # ==> hati-hati disini!!!...import lagi\n",
    "\n",
    "d3 = d1 + dm.timedelta( days=1, seconds=10, microseconds=88, milliseconds=100, minutes=33, hours=8, weeks=9 ) \n",
    "# days, seconds, then other fields.\n",
    "print(d1)\n",
    "print(d3)"
   ]
  },
  {
   "cell_type": "markdown",
   "metadata": {
    "slideshow": {
     "slide_type": "slide"
    }
   },
   "source": [
    "### Konsekuensi dari DateTime ==> Sekarang kita bisa mengurutkan dengan benar"
   ]
  },
  {
   "cell_type": "code",
   "execution_count": null,
   "metadata": {
    "slideshow": {
     "slide_type": "slide"
    }
   },
   "outputs": [],
   "source": [
    "Waktu = [d3, d2, d1]\n",
    "print(Waktu)\n",
    "Waktu.sort() # Hati-hati di Python (base) ini automatis \"inplace\"\n",
    "print(Waktu)"
   ]
  },
  {
   "cell_type": "markdown",
   "metadata": {
    "slideshow": {
     "slide_type": "slide"
    }
   },
   "source": [
    "### Datetime di Pandas\n",
    "\n",
    "* Akan dibahas lebih detail di module selanjutnya."
   ]
  },
  {
   "cell_type": "code",
   "execution_count": null,
   "metadata": {
    "slideshow": {
     "slide_type": "fragment"
    }
   },
   "outputs": [],
   "source": [
    "file_ = 'data/stock_data.csv'\n",
    "\n",
    "try: # Running Locally, yakinkan \"file_\" berada di folder \"data\"\n",
    "    df = pd.read_csv(file_, error_bad_lines=False, low_memory = False, encoding='utf8')\n",
    "except: # Running in Google Colab\n",
    "    !mkdir data\n",
    "    !wget -P data/ https://raw.githubusercontent.com/taudata-indonesia/eLearning/master/data/stock_data.csv\n",
    "    df = pd.read_csv(file_, error_bad_lines=False, low_memory = False, encoding='utf8')\n",
    "\n",
    "print(df.shape)\n",
    "df.head()"
   ]
  },
  {
   "cell_type": "code",
   "execution_count": null,
   "metadata": {
    "slideshow": {
     "slide_type": "slide"
    }
   },
   "outputs": [],
   "source": [
    "# Penting untuk cek Tipe Data Dataframe\n",
    "# Perhatikan disini tipe data \"Date\" masih berupa string!!!....\n",
    "df.info()"
   ]
  },
  {
   "cell_type": "code",
   "execution_count": null,
   "metadata": {
    "slideshow": {
     "slide_type": "slide"
    }
   },
   "outputs": [],
   "source": [
    "# Perhatikan sekarang \"Date\" tidak lagi berupa variable, tapi merupakan index bagi dataframenya\n",
    "df = pd.read_csv(file_, parse_dates=True, index_col = \"Date\", error_bad_lines=False, low_memory = False)\n",
    "df.info()"
   ]
  },
  {
   "cell_type": "code",
   "execution_count": null,
   "metadata": {
    "slideshow": {
     "slide_type": "slide"
    }
   },
   "outputs": [],
   "source": [
    "df.head()"
   ]
  },
  {
   "cell_type": "code",
   "execution_count": null,
   "metadata": {
    "slideshow": {
     "slide_type": "slide"
    }
   },
   "outputs": [],
   "source": [
    "# Karena kita gunakan waktu sebagai index, maka kita bisa mudah dalam melakukan \"slice\" ke data\n",
    "df.loc['2009'].head()"
   ]
  },
  {
   "cell_type": "code",
   "execution_count": null,
   "metadata": {},
   "outputs": [],
   "source": [
    "# Summary dari Preprocessing yang kita lakukan di Module 03\n",
    "import numpy as np\n",
    "\n",
    "file_ = 'data/price.csv'\n",
    "try: # Running Locally, yakinkan \"file_\" berada di folder \"data\"\n",
    "    price = pd.read_csv(file_, error_bad_lines=False, low_memory = False, encoding='utf8')\n",
    "except: # Running in Google Colab\n",
    "    !mkdir data\n",
    "    !wget -P data/ https://raw.githubusercontent.com/taudata-indonesia/eLearning/master/data/price.csv\n",
    "    price = pd.read_csv(file_, error_bad_lines=False, low_memory = False, encoding='utf8')\n",
    "    \n",
    "price.drop(\"Observation\", axis=1, inplace=True)\n",
    "price.drop_duplicates(inplace=True)\n",
    "price['Parking'] = price['Parking'].astype('category')\n",
    "price['City_Category'] = price['City_Category'].astype('category')\n",
    "price = price[np.abs(price.House_Price - price.House_Price.mean())<=(2*price.House_Price.std())]\n",
    "price.dropna(how='all', inplace=True)\n",
    "\n",
    "N, P = price.shape # Ukuran Data\n",
    "print('baris = ', N, ', Kolom (jumlah variabel) = ', P)\n",
    "print(\"Tipe Variabe df = \", type(price))\n",
    "price.head()"
   ]
  },
  {
   "cell_type": "markdown",
   "metadata": {},
   "source": [
    "# <center><font color=\"blue\"> Akhir Modul 03 - Exploratory Data Analysis ~ Preprocessing</font></center>\n",
    "\n",
    "<hr />\n",
    "<img alt=\"\" src=\"images/meme-cartoon/6_ML_Class.jpg\" style=\"height: 400px;\"/>"
   ]
  }
 ],
 "metadata": {
  "celltoolbar": "Slideshow",
  "kernelspec": {
   "display_name": "Python 3",
   "language": "python",
   "name": "python3"
  },
  "language_info": {
   "codemirror_mode": {
    "name": "ipython",
    "version": 3
   },
   "file_extension": ".py",
   "mimetype": "text/x-python",
   "name": "python",
   "nbconvert_exporter": "python",
   "pygments_lexer": "ipython3",
   "version": "3.6.13"
  },
  "latex_envs": {
   "LaTeX_envs_menu_present": true,
   "autoclose": false,
   "autocomplete": true,
   "bibliofile": "biblio.bib",
   "cite_by": "apalike",
   "current_citInitial": 1,
   "eqLabelWithNumbers": true,
   "eqNumInitial": 1,
   "hotkeys": {
    "equation": "Ctrl-E",
    "itemize": "Ctrl-I"
   },
   "labels_anchors": false,
   "latex_user_defs": false,
   "report_style_numbering": false,
   "user_envs_cfg": false
  }
 },
 "nbformat": 4,
 "nbformat_minor": 4
}
