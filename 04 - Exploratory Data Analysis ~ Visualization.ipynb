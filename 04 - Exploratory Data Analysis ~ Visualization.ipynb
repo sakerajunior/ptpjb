{
 "cells": [
  {
   "cell_type": "markdown",
   "metadata": {
    "slideshow": {
     "slide_type": "slide"
    }
   },
   "source": [
    "# <center><font color=\"green\"> https://bit.ly/ptpjb-2021-04</font><br><font color=\"blue\">04 - Exploratory Data Analysis ~ Visualization</font></center>\n",
    "\n",
    "<center><img alt=\"\" src=\"images/cover_ptpjb_2021.png\"/></center> \n",
    "\n",
    "## <center><font color=\"blue\">tau-data Indonesia</font><br>(C) Taufik Sutanto - 2021</center>\n",
    "<center><a href=\"https://tau-data.id\">https://tau-data.id</a> ~ <a href=\"mailto:taufik@tau-data.id\">taufik@tau-data.id</a></center>"
   ]
  },
  {
   "cell_type": "markdown",
   "metadata": {
    "slideshow": {
     "slide_type": "slide"
    }
   },
   "source": [
    "# <center><font color=\"blue\"> Outline Exploratory Data Analysis (EDA) ~ Visualisasi</font></center>\n",
    "\n",
    "* Pendahuluan Visualisasi\n",
    "* Visualisasi Data Kategorik, Numerik, dan Kombinasinya.\n",
    "* Visualisasi Time Series\n",
    "* Visualisasi Spatial\n",
    "* Study kasus energy buildings usage"
   ]
  },
  {
   "cell_type": "markdown",
   "metadata": {
    "slideshow": {
     "slide_type": "slide"
    }
   },
   "source": [
    "# <center><font color=\"blue\">  Pendahuluan Visualisasi </font></center>\n",
    "<center><img alt=\"\" src=\"images/Purpose_Visualize_Data.jpg\" style=\"height: 300px;\" /></center>\n",
    "\n",
    "* Setelah melakukan data preprocessing, maka visualisasi dapat digunakan untuk:\n",
    " - Mengetahui apakah perlu preprocessing lebih lanjut.\n",
    " - Mendapatkan informasi/insight dasar dari data.\n",
    " - Mendapatkan hipotesis/dugaan untuk diuji dengan model di tahap berikutnya.\n",
    " - Kelak visualisasi juga digunakan untuk melakukan pelaporan performa/hasil prediksi model.\n",
    "* Contoh (dasar/generik) tujuan visualisasi: monitor system, tracking (IKU/statistics), tell stories, show outliers/trends, support argumen, atau sekedar overview data (e.g. Kibana)."
   ]
  },
  {
   "cell_type": "markdown",
   "metadata": {
    "slideshow": {
     "slide_type": "slide"
    }
   },
   "source": [
    "<img alt=\"\" src=\"images/XII_EDA_ML.png\" style=\"height: 200px;\" />"
   ]
  },
  {
   "cell_type": "code",
   "execution_count": null,
   "metadata": {},
   "outputs": [],
   "source": [
    "!pip install statsmodels folium chart_studio plotly\n",
    "# dalam module ini kita membutuhkan beberapa module tambahan"
   ]
  },
  {
   "cell_type": "code",
   "execution_count": null,
   "metadata": {
    "ExecuteTime": {
     "end_time": "2019-09-30T01:01:49.141679Z",
     "start_time": "2019-09-30T01:01:44.041912Z"
    },
    "slideshow": {
     "slide_type": "slide"
    }
   },
   "outputs": [],
   "source": [
    "import warnings; warnings.simplefilter('ignore')\n",
    "import pandas as pd, matplotlib.pyplot as plt, seaborn as sns, numpy as np\n",
    "import matplotlib.cm as cm\n",
    "import calendar, folium\n",
    "from folium.plugins import HeatMap\n",
    "from collections import Counter\n",
    "from statsmodels.graphics.mosaicplot import mosaic\n",
    "plt.style.use('bmh'); sns.set()"
   ]
  },
  {
   "cell_type": "code",
   "execution_count": null,
   "metadata": {
    "ExecuteTime": {
     "end_time": "2019-09-30T01:08:32.120040Z",
     "start_time": "2019-09-30T01:08:32.110066Z"
    },
    "slideshow": {
     "slide_type": "slide"
    }
   },
   "outputs": [],
   "source": [
    "# Importing CSV data  https://pandas.pydata.org/pandas-docs/stable/reference/api/pandas.read_csv.html\n",
    "try:\n",
    "    # Running Locally \n",
    "    price = pd.read_csv('data/price.csv')\n",
    "except:\n",
    "    # Running in Google Colab\n",
    "    !mkdir data\n",
    "    !wget -P data/ https://raw.githubusercontent.com/taudata-indonesia/eLearning/master/data/price.csv\n",
    "    price = pd.read_csv('data/price.csv')"
   ]
  },
  {
   "cell_type": "code",
   "execution_count": null,
   "metadata": {
    "ExecuteTime": {
     "end_time": "2019-09-30T01:09:54.493202Z",
     "start_time": "2019-09-30T01:09:54.484458Z"
    },
    "slideshow": {
     "slide_type": "slide"
    }
   },
   "outputs": [],
   "source": [
    "# Dari Module sebelumnya - Bisa juga Load PreProcessed Data\n",
    "price.drop(\"Observation\", axis=1, inplace=True)\n",
    "price.drop_duplicates(inplace=True)\n",
    "price['Parking'] = price['Parking'].astype('category')\n",
    "price['City_Category'] = price['City_Category'].astype('category')\n",
    "price2 = price[np.abs(price.House_Price - price.House_Price.mean())<=(2*price.House_Price.std())]\n",
    "price2.info()"
   ]
  },
  {
   "cell_type": "markdown",
   "metadata": {
    "slideshow": {
     "slide_type": "slide"
    }
   },
   "source": [
    "## Apakah ada kecenderungan perbedaan harga rumah akibat dari tipe tempat parkir?"
   ]
  },
  {
   "cell_type": "code",
   "execution_count": null,
   "metadata": {
    "ExecuteTime": {
     "end_time": "2019-09-30T01:01:50.484583Z",
     "start_time": "2019-09-30T01:01:50.098828Z"
    },
    "slideshow": {
     "slide_type": "fragment"
    }
   },
   "outputs": [],
   "source": [
    "p= sns.catplot(x=\"Parking\", y=\"House_Price\", data=price2)\n",
    "# Apa yang bisa dilihat dari hasil ini?"
   ]
  },
  {
   "cell_type": "markdown",
   "metadata": {
    "slideshow": {
     "slide_type": "slide"
    }
   },
   "source": [
    "# Tambah dimensi di Visualisasi untuk melihat insight yang lebih jelas/baik "
   ]
  },
  {
   "cell_type": "code",
   "execution_count": null,
   "metadata": {
    "ExecuteTime": {
     "end_time": "2019-09-30T01:01:53.025889Z",
     "start_time": "2019-09-30T01:01:52.038530Z"
    },
    "slideshow": {
     "slide_type": "fragment"
    }
   },
   "outputs": [],
   "source": [
    "# Bisa juga plot dengan informasi dari 3 variabel sekaligus\n",
    "# (untuk melihat kemungkinan faktor interaksi)\n",
    "p= sns.catplot(x=\"Parking\", y=\"House_Price\", hue=\"City_Category\", kind=\"swarm\", data=price2)"
   ]
  },
  {
   "cell_type": "markdown",
   "metadata": {
    "slideshow": {
     "slide_type": "fragment"
    }
   },
   "source": [
    "# Ada informasi apakah dari hasil diatas?"
   ]
  },
  {
   "cell_type": "markdown",
   "metadata": {
    "slideshow": {
     "slide_type": "slide"
    }
   },
   "source": [
    "# <center><font color=\"blue\">1D Visualization: Bar Chart / Count Plot</font></center>\n",
    "<center><img alt=\"\" src=\"images/barchart.png\" style=\"height: 300px;\" /></center>\n",
    "\n",
    "Image Source: https://datavizcatalogue.com/methods/bar_chart.html"
   ]
  },
  {
   "cell_type": "markdown",
   "metadata": {
    "slideshow": {
     "slide_type": "slide"
    }
   },
   "source": [
    "# <center><font color=\"blue\">Hati-hati: Bar Chart VS Histogram </font></center>\n",
    "<center><img alt=\"\" src=\"images/barchart_vs_histogram.png\" style=\"height: 300px;\" /></center>\n",
    "\n",
    "image Source: https://www.mathsisfun.com/data/bar-graphs.html"
   ]
  },
  {
   "cell_type": "code",
   "execution_count": null,
   "metadata": {
    "ExecuteTime": {
     "end_time": "2019-09-30T01:01:49.840255Z",
     "start_time": "2019-09-30T01:01:49.557540Z"
    },
    "scrolled": false,
    "slideshow": {
     "slide_type": "slide"
    }
   },
   "outputs": [],
   "source": [
    "plt.figure(figsize=(8,6)) # https://matplotlib.org/api/_as_gen/matplotlib.pyplot.figure.html#matplotlib.pyplot.figure\n",
    "p = sns.countplot(x=\"City_Category\", hue=\"Parking\", data=price2)"
   ]
  },
  {
   "cell_type": "markdown",
   "metadata": {
    "slideshow": {
     "slide_type": "slide"
    }
   },
   "source": [
    "# Horizontal? Why?"
   ]
  },
  {
   "cell_type": "code",
   "execution_count": null,
   "metadata": {
    "ExecuteTime": {
     "end_time": "2019-10-04T01:54:10.005884Z",
     "start_time": "2019-10-04T01:54:09.808226Z"
    },
    "scrolled": true,
    "slideshow": {
     "slide_type": "fragment"
    }
   },
   "outputs": [],
   "source": [
    "ax = sns.countplot(y = 'Parking', hue = 'City_Category', palette = 'muted', data=price2)"
   ]
  },
  {
   "cell_type": "code",
   "execution_count": null,
   "metadata": {
    "scrolled": false,
    "slideshow": {
     "slide_type": "slide"
    }
   },
   "outputs": [],
   "source": [
    "# Demo \"SubPlot\" tapi menggunakan data berbeda karena data price hanya punya 2 var kategori.\n",
    "\n",
    "tips=sns.load_dataset('tips') # Data built-in dari Module Seaborn ... akan dijelaskan lebih lanjut di bawah.\n",
    "categorical = tips.select_dtypes(include = ['category']).columns\n",
    "\n",
    "fig, ax = plt.subplots(2, 2, figsize=(12, 6))\n",
    "for variable, subplot in zip(categorical, ax.flatten()):\n",
    "    sns.countplot(tips[variable], ax=subplot)"
   ]
  },
  {
   "cell_type": "markdown",
   "metadata": {
    "slideshow": {
     "slide_type": "slide"
    }
   },
   "source": [
    "# Adding labels? ... Hhhmmm..."
   ]
  },
  {
   "cell_type": "code",
   "execution_count": null,
   "metadata": {
    "ExecuteTime": {
     "end_time": "2019-10-04T01:49:38.340686Z",
     "start_time": "2019-10-04T01:49:38.324336Z"
    },
    "slideshow": {
     "slide_type": "fragment"
    }
   },
   "outputs": [],
   "source": [
    "X = price2[price2[\"Parking\"].isin([\"Open\",\"Covered\"])]\n",
    "X = X[X[\"House_Price\"]<7000000]\n",
    "X.groupby([\"Parking\", \"City_Category\"]).size().unstack()"
   ]
  },
  {
   "cell_type": "code",
   "execution_count": null,
   "metadata": {
    "ExecuteTime": {
     "end_time": "2019-10-04T01:44:49.830442Z",
     "start_time": "2019-10-04T01:44:49.820166Z"
    },
    "slideshow": {
     "slide_type": "slide"
    }
   },
   "outputs": [],
   "source": [
    "def groupedbarplot(df, width=0.8, annotate=\"values\", ax=None, **kw):\n",
    "    ax = ax or plt.gca()\n",
    "    n = len(df.columns)\n",
    "    w = 1./n\n",
    "    pos = (np.linspace(w/2., 1-w/2., n)-0.5)*width\n",
    "    w *= width\n",
    "    bars = []\n",
    "    for col, x in zip(df.columns, pos):\n",
    "        bars.append(ax.bar(np.arange(len(df))+x, df[col].values, width=w, **kw))\n",
    "        for val, xi in zip(df[col].values, np.arange(len(df))+x):\n",
    "            if annotate:\n",
    "                txt = val if annotate == \"values\" else col\n",
    "                ax.annotate(txt, xy=(xi, val), xytext=(0,2), \n",
    "                            textcoords=\"offset points\",\n",
    "                            ha=\"center\", va=\"bottom\")\n",
    "    ax.set_xticks(np.arange(len(df)))\n",
    "    ax.set_xticklabels(df.index)\n",
    "    return bars"
   ]
  },
  {
   "cell_type": "code",
   "execution_count": null,
   "metadata": {
    "ExecuteTime": {
     "end_time": "2019-10-04T01:47:54.957266Z",
     "start_time": "2019-10-04T01:47:54.649531Z"
    },
    "slideshow": {
     "slide_type": "slide"
    }
   },
   "outputs": [],
   "source": [
    "counts = price2.groupby([\"Parking\", \"City_Category\"]).size().unstack()\n",
    "plt.figure(figsize=(12,8))\n",
    "groupedbarplot(counts)\n",
    "plt.show()"
   ]
  },
  {
   "cell_type": "markdown",
   "metadata": {
    "slideshow": {
     "slide_type": "slide"
    }
   },
   "source": [
    "# Stacked/Segmented Chart"
   ]
  },
  {
   "cell_type": "code",
   "execution_count": null,
   "metadata": {
    "ExecuteTime": {
     "end_time": "2019-10-03T21:06:45.238692Z",
     "start_time": "2019-10-03T21:06:45.038359Z"
    },
    "slideshow": {
     "slide_type": "fragment"
    }
   },
   "outputs": [],
   "source": [
    "CT = pd.crosstab(index=price2[\"City_Category\"], columns=price2[\"Parking\"])\n",
    "p = CT.plot(kind=\"bar\", figsize=(8,8), stacked=True)"
   ]
  },
  {
   "cell_type": "code",
   "execution_count": null,
   "metadata": {
    "ExecuteTime": {
     "end_time": "2019-09-30T01:01:49.914253Z",
     "start_time": "2019-09-30T01:01:49.841841Z"
    },
    "slideshow": {
     "slide_type": "slide"
    }
   },
   "outputs": [],
   "source": [
    "# ini dilakukan jika kita ingin menyimpan plotnya ke dalam suatu file\n",
    "p.figure.savefig('barChart.png')\n",
    "# lihat di folder ipynb-nya akan muncul file baru."
   ]
  },
  {
   "cell_type": "markdown",
   "metadata": {
    "slideshow": {
     "slide_type": "slide"
    }
   },
   "source": [
    "# Mosaic Plot for multiple categorical data analysis"
   ]
  },
  {
   "cell_type": "code",
   "execution_count": null,
   "metadata": {
    "ExecuteTime": {
     "end_time": "2019-10-04T02:15:06.890000Z",
     "start_time": "2019-10-04T02:15:06.528822Z"
    },
    "scrolled": true,
    "slideshow": {
     "slide_type": "fragment"
    }
   },
   "outputs": [],
   "source": [
    "p = mosaic(tips, ['sex','smoker','time'])"
   ]
  },
  {
   "cell_type": "markdown",
   "metadata": {
    "slideshow": {
     "slide_type": "slide"
    }
   },
   "source": [
    "# <center><font color=\"blue\">Pie Chart</font></center>\n",
    "<center><img alt=\"\" src=\"images/piechart.png\" style=\"height: 400px;\" /></center>\n",
    "\n",
    "Image Source: https://datavizcatalogue.com/methods/pie_chart.html"
   ]
  },
  {
   "cell_type": "code",
   "execution_count": null,
   "metadata": {
    "ExecuteTime": {
     "end_time": "2019-09-30T01:01:50.095770Z",
     "start_time": "2019-09-30T01:01:49.918243Z"
    },
    "scrolled": false,
    "slideshow": {
     "slide_type": "slide"
    }
   },
   "outputs": [],
   "source": [
    "# PieChart\n",
    "plot = price2.City_Category.value_counts().plot(kind='pie')"
   ]
  },
  {
   "cell_type": "markdown",
   "metadata": {
    "slideshow": {
     "slide_type": "slide"
    }
   },
   "source": [
    "# Show Values?"
   ]
  },
  {
   "cell_type": "code",
   "execution_count": null,
   "metadata": {
    "ExecuteTime": {
     "end_time": "2019-10-04T02:18:13.733951Z",
     "start_time": "2019-10-04T02:18:13.644644Z"
    },
    "slideshow": {
     "slide_type": "fragment"
    }
   },
   "outputs": [],
   "source": [
    "data = price2['Parking']\n",
    "\n",
    "proporsion = Counter(data)\n",
    "values = [float(v) for v in proporsion.values()]\n",
    "colors = ['r', 'g', 'b', 'y']\n",
    "labels = proporsion.keys()\n",
    "explode = (0.1, 0, 0, 0)\n",
    "plt.pie(values, colors=colors, labels= values, explode=explode, shadow=True)\n",
    "plt.title('Proporsi Tipe Parkir')\n",
    "plt.legend(labels, loc='best')\n",
    "plt.show()"
   ]
  },
  {
   "cell_type": "markdown",
   "metadata": {
    "slideshow": {
     "slide_type": "slide"
    }
   },
   "source": [
    "# <center><font color=\"blue\">Box Plot</font></center>\n",
    "\n",
    "<center><img alt=\"\" src=\"images/boxplot.png\" style=\"height: 350px;\" /></center>\n",
    "\n",
    "* Lower Extreme: $Q_1 - 1.5(Q_3-Q_1)$  Upper Extreme $Q_3 + 1.5(Q_3-Q_1)$\n",
    "* Source: https://datavizcatalogue.com/methods/box_plot.html & https://lsc.deployopex.com/box-plot-with-jmp/"
   ]
  },
  {
   "cell_type": "code",
   "execution_count": null,
   "metadata": {
    "ExecuteTime": {
     "end_time": "2019-09-30T01:02:15.333037Z",
     "start_time": "2019-09-30T01:02:14.981977Z"
    },
    "slideshow": {
     "slide_type": "slide"
    }
   },
   "outputs": [],
   "source": [
    "# Jika ada outlier grafiknya menjadi tidak jelas (data = price, bukan price2)\n",
    "p = sns.boxplot(x=\"House_Price\", y=\"Parking\", data=price)"
   ]
  },
  {
   "cell_type": "code",
   "execution_count": null,
   "metadata": {
    "ExecuteTime": {
     "end_time": "2019-09-30T01:02:14.978985Z",
     "start_time": "2019-09-30T01:02:14.622937Z"
    },
    "slideshow": {
     "slide_type": "slide"
    }
   },
   "outputs": [],
   "source": [
    "# BoxPlots\n",
    "p = sns.boxplot(x=\"House_Price\", y=\"Parking\", data=price2)\n",
    "# Apa makna pola yang terlihat di data oleh BoxPlot ini?"
   ]
  },
  {
   "cell_type": "markdown",
   "metadata": {
    "slideshow": {
     "slide_type": "slide"
    }
   },
   "source": [
    "# Bagaimana mendapatkan data-data outliernya?\n",
    "\n",
    "* Hati-hati beda iloc dan loc di Dataframe.\n",
    "* Hati-hati Rumus Outlier Boxplot di SeaBorn!!!..."
   ]
  },
  {
   "cell_type": "code",
   "execution_count": null,
   "metadata": {
    "slideshow": {
     "slide_type": "fragment"
    }
   },
   "outputs": [],
   "source": [
    "Q1 = price2['House_Price'].quantile(0.25)\n",
    "Q3 = price2['House_Price'].quantile(0.75)\n",
    "IQR = Q3 - Q1 #IQR is interquartile range. \n",
    "print(\"Q1={}, Q3={}, IQR={}\".format(Q1, Q3, IQR))\n",
    "\n",
    "outliers_ = (price2['House_Price'] < (Q1 - 1.5 *IQR)) # Outlier bawah\n",
    "rumah_potensial = price2.loc[outliers_]\n",
    "rumah_potensial"
   ]
  },
  {
   "cell_type": "markdown",
   "metadata": {
    "slideshow": {
     "slide_type": "slide"
    }
   },
   "source": [
    "# Boxplot dapat juga dipisahkan berdasarkan suatu kategori"
   ]
  },
  {
   "cell_type": "code",
   "execution_count": null,
   "metadata": {
    "ExecuteTime": {
     "end_time": "2019-09-30T01:02:16.002248Z",
     "start_time": "2019-09-30T01:02:15.337026Z"
    },
    "slideshow": {
     "slide_type": "fragment"
    }
   },
   "outputs": [],
   "source": [
    "p = sns.catplot(x=\"Parking\", y=\"House_Price\", hue=\"City_Category\", kind=\"box\", data=price2)"
   ]
  },
  {
   "cell_type": "markdown",
   "metadata": {
    "slideshow": {
     "slide_type": "fragment"
    }
   },
   "source": [
    "* Ada dugaan/interpretasi (baru) apakah dari boxPlot diatas?\n",
    "* Apakah kelemahan (PitFalls) Box Plot?"
   ]
  },
  {
   "cell_type": "markdown",
   "metadata": {
    "slideshow": {
     "slide_type": "slide"
    }
   },
   "source": [
    "# Swarn Plot & Violin Plot\n",
    "\n",
    "### Menangani kelemahan BoxPlot."
   ]
  },
  {
   "cell_type": "code",
   "execution_count": null,
   "metadata": {
    "ExecuteTime": {
     "end_time": "2019-10-04T02:12:06.032044Z",
     "start_time": "2019-10-04T02:12:05.579796Z"
    },
    "slideshow": {
     "slide_type": "fragment"
    }
   },
   "outputs": [],
   "source": [
    "p= sns.catplot(x=\"day\", y=\"total_bill\", hue=\"sex\", kind=\"swarm\", data=tips)"
   ]
  },
  {
   "cell_type": "code",
   "execution_count": null,
   "metadata": {
    "ExecuteTime": {
     "end_time": "2019-10-03T21:13:17.713455Z",
     "start_time": "2019-10-03T21:13:17.562854Z"
    },
    "slideshow": {
     "slide_type": "slide"
    }
   },
   "outputs": [],
   "source": [
    "p = sns.violinplot(x=\"day\", y=\"total_bill\", data=tips,palette='rainbow')"
   ]
  },
  {
   "cell_type": "markdown",
   "metadata": {
    "slideshow": {
     "slide_type": "slide"
    }
   },
   "source": [
    "# <center><font color=\"blue\">histogram</font></center>\n",
    "\n",
    "<center><img alt=\"\" src=\"images/histogram.png\" style=\"height: 300px;\" /></center>\n",
    "\n",
    "image source: https://datavizcatalogue.com/methods/histogram.html"
   ]
  },
  {
   "cell_type": "code",
   "execution_count": null,
   "metadata": {
    "slideshow": {
     "slide_type": "slide"
    }
   },
   "outputs": [],
   "source": [
    "numerical = price2.select_dtypes(include = ['int64','float64']).columns\n",
    "\n",
    "price2[numerical].hist(figsize=(15, 6), layout=(2, 4));"
   ]
  },
  {
   "cell_type": "markdown",
   "metadata": {
    "slideshow": {
     "slide_type": "slide"
    }
   },
   "source": [
    "# <center><font color=\"blue\">Scatter Plot</font></center>\n",
    "\n",
    "<center><img alt=\"\" src=\"images/scatter_plot.png\" style=\"height: 350px;\" /></center>\n",
    "\n",
    "image source: https://datavizcatalogue.com/methods/scatterplot.html"
   ]
  },
  {
   "cell_type": "code",
   "execution_count": null,
   "metadata": {
    "slideshow": {
     "slide_type": "slide"
    }
   },
   "outputs": [],
   "source": [
    "p = sns.scatterplot(x=price2['House_Price'], y=price2['Dist_Market'], hue = price2['Parking'])"
   ]
  },
  {
   "cell_type": "markdown",
   "metadata": {
    "slideshow": {
     "slide_type": "slide"
    }
   },
   "source": [
    "# Bigger picture?"
   ]
  },
  {
   "cell_type": "code",
   "execution_count": null,
   "metadata": {
    "slideshow": {
     "slide_type": "fragment"
    }
   },
   "outputs": [],
   "source": [
    "fig, ax = plt.subplots(1, 1, figsize=(12,8))\n",
    "\n",
    "p = sns.scatterplot(x=price2['House_Price'], y=price2['Dist_Market'], hue = price2['Parking'], ax=ax)"
   ]
  },
  {
   "cell_type": "markdown",
   "metadata": {
    "slideshow": {
     "slide_type": "slide"
    }
   },
   "source": [
    "# Joined"
   ]
  },
  {
   "cell_type": "code",
   "execution_count": null,
   "metadata": {
    "slideshow": {
     "slide_type": "fragment"
    }
   },
   "outputs": [],
   "source": [
    "p = sns.jointplot(x=price2['House_Price'], y=price2['Rainfall'], hue = price2['Parking'])"
   ]
  },
  {
   "cell_type": "markdown",
   "metadata": {
    "slideshow": {
     "slide_type": "slide"
    }
   },
   "source": [
    "# Conditional Plot"
   ]
  },
  {
   "cell_type": "code",
   "execution_count": null,
   "metadata": {
    "slideshow": {
     "slide_type": "fragment"
    }
   },
   "outputs": [],
   "source": [
    "cond_plot = sns.FacetGrid(data=price2, col='Parking', hue='City_Category')#, hue_order=[\"Yes\", \"No\"]\n",
    "p = cond_plot.map(sns.scatterplot, 'Dist_Hospital', 'House_Price').add_legend()"
   ]
  },
  {
   "cell_type": "markdown",
   "metadata": {
    "slideshow": {
     "slide_type": "slide"
    }
   },
   "source": [
    "# Pairwise Plot"
   ]
  },
  {
   "cell_type": "code",
   "execution_count": null,
   "metadata": {
    "slideshow": {
     "slide_type": "fragment"
    }
   },
   "outputs": [],
   "source": [
    "# Coba kita perhatikan sebagiannya saja dulu dan coba kelompokkan berdasarkan \"Parking\"\n",
    "p = sns.pairplot(price2[['House_Price','Builtup','Dist_Hospital','Parking']], hue=\"Parking\")\n",
    "# Ada pola menarik?"
   ]
  },
  {
   "cell_type": "markdown",
   "metadata": {
    "slideshow": {
     "slide_type": "slide"
    }
   },
   "source": [
    "# 3D Visualization: 3D Scatter Plot\n",
    "\n",
    "https://pythonprogramming.net/matplotlib-3d-scatterplot-tutorial/"
   ]
  },
  {
   "cell_type": "code",
   "execution_count": null,
   "metadata": {
    "slideshow": {
     "slide_type": "slide"
    }
   },
   "outputs": [],
   "source": [
    "fig = plt.figure(figsize=(12, 10))\n",
    "ax = fig.add_subplot(111, projection='3d')\n",
    "x = price2['House_Price']\n",
    "y = price2['Dist_Hospital']\n",
    "z = price2['Rainfall']\n",
    "warna = cm.rainbow(np.linspace(0, 1, len(y)))\n",
    "\n",
    "ax.scatter(x, y, z, s=50, c=warna, marker='o')\n",
    "ax.set_xlabel('Harga')\n",
    "ax.set_ylabel('Jarak ke RS')\n",
    "ax.set_zlabel('Curah Hujan')\n",
    "plt.show()"
   ]
  },
  {
   "cell_type": "markdown",
   "metadata": {
    "slideshow": {
     "slide_type": "slide"
    }
   },
   "source": [
    "# 3D Visualization:  3D Bar Plots\n",
    "\n",
    "Bar plots are used quite frequently in data visualisation projects since they’re able to convey information, usually some type of comparison, in a simple and intuitive way. The beauty of 3D bar plots is that they maintain the simplicity of 2D bar plots while extending their capacity to represent comparative information.\n",
    "\n",
    "https://towardsdatascience.com/an-easy-introduction-to-3d-plotting-with-matplotlib-801561999725"
   ]
  },
  {
   "cell_type": "code",
   "execution_count": null,
   "metadata": {
    "slideshow": {
     "slide_type": "fragment"
    }
   },
   "outputs": [],
   "source": [
    "import random\n",
    "\n",
    "fig = plt.figure(figsize=(12, 10))\n",
    "ax = plt.axes(projection=\"3d\")\n",
    "\n",
    "num_bars = 15\n",
    "x_pos = random.sample(range(20), num_bars)\n",
    "y_pos = random.sample(range(20), num_bars)\n",
    "z_pos = [0] * num_bars\n",
    "\n",
    "x_size = np.ones(num_bars)\n",
    "y_size = np.ones(num_bars)\n",
    "z_size = random.sample(range(20), num_bars)\n",
    "\n",
    "ax.bar3d(x_pos, y_pos, z_pos, x_size, y_size, z_size, color='aqua')\n",
    "plt.show()"
   ]
  },
  {
   "cell_type": "markdown",
   "metadata": {
    "slideshow": {
     "slide_type": "slide"
    }
   },
   "source": [
    "# Checking Correlations"
   ]
  },
  {
   "cell_type": "code",
   "execution_count": null,
   "metadata": {
    "ExecuteTime": {
     "end_time": "2019-09-30T01:02:16.029174Z",
     "start_time": "2019-09-30T01:02:16.005239Z"
    },
    "scrolled": true,
    "slideshow": {
     "slide_type": "fragment"
    }
   },
   "outputs": [],
   "source": [
    "price2.corr()"
   ]
  },
  {
   "cell_type": "code",
   "execution_count": null,
   "metadata": {
    "ExecuteTime": {
     "end_time": "2019-09-30T01:02:16.555765Z",
     "start_time": "2019-09-30T01:02:16.035160Z"
    },
    "scrolled": false,
    "slideshow": {
     "slide_type": "slide"
    }
   },
   "outputs": [],
   "source": [
    "# HeatMap untuk menyelidiki korelasi\n",
    "corr2 = price2.corr() # We already examined SalePrice correlations\n",
    "plt.figure(figsize=(12, 10))\n",
    "sns.heatmap(corr2[(corr2 >= 0.5) | (corr2 <= -0.4)], \n",
    "            cmap='viridis', vmax=1.0, vmin=-1.0, linewidths=0.1,\n",
    "            annot=True, annot_kws={\"size\": 14}, square=True);"
   ]
  },
  {
   "cell_type": "markdown",
   "metadata": {
    "slideshow": {
     "slide_type": "slide"
    }
   },
   "source": [
    "# Time Series Plot"
   ]
  },
  {
   "cell_type": "markdown",
   "metadata": {
    "slideshow": {
     "slide_type": "slide"
    }
   },
   "source": [
    "# Datetime di Pandas\n",
    "\n",
    "## References:\n",
    "\n",
    "* https://towardsdatascience.com/a-complete-guide-to-time-series-data-visualization-in-python-da0ddd2cfb01\n",
    "* https://machinelearningmastery.com/time-series-data-visualization-with-python/\n",
    "* https://datascienceanywhere.medium.com/visualizing-time-series-data-in-python-e49fa5d10ea\n",
    "* Dataset: https://github.com/rashida048/Datasets/blob/master/stock_data.csv"
   ]
  },
  {
   "cell_type": "code",
   "execution_count": null,
   "metadata": {
    "slideshow": {
     "slide_type": "fragment"
    }
   },
   "outputs": [],
   "source": [
    "file_ = 'data/stock_data.csv'\n",
    "\n",
    "try: # Running Locally, yakinkan \"file_\" berada di folder \"data\"\n",
    "    df = pd.read_csv(file_, error_bad_lines=False, low_memory = False, encoding='utf8')\n",
    "except: # Running in Google Colab\n",
    "    !mkdir data\n",
    "    !wget -P data/ https://raw.githubusercontent.com/taudata-indonesia/eLearning/master/data/stock_data.csv\n",
    "    df = pd.read_csv(file_, error_bad_lines=False, low_memory = False, encoding='utf8')\n",
    "\n",
    "print(df.shape)\n",
    "df.head()"
   ]
  },
  {
   "cell_type": "code",
   "execution_count": null,
   "metadata": {
    "slideshow": {
     "slide_type": "slide"
    }
   },
   "outputs": [],
   "source": [
    "# Penting untuk cek Tipe Data Dataframe\n",
    "# Perhatikan disini tipe data \"Date\" masih berupa string!!!....\n",
    "df.info()"
   ]
  },
  {
   "cell_type": "code",
   "execution_count": null,
   "metadata": {
    "scrolled": true,
    "slideshow": {
     "slide_type": "slide"
    }
   },
   "outputs": [],
   "source": [
    "# Perhatikan sekarang \"Date\" tidak lagi berupa variable, tapi merupakan index bagi dataframenya\n",
    "file_ = 'data/stock_data.csv'\n",
    "\n",
    "try: # Running Locally, yakinkan \"file_\" berada di folder \"data\"\n",
    "    df = pd.read_csv(file_, parse_dates=True, index_col = \"Date\", error_bad_lines=False, low_memory = False, encoding='utf8')\n",
    "except: # Running in Google Colab\n",
    "    !mkdir data\n",
    "    !wget -P data/ https://raw.githubusercontent.com/taudata-indonesia/eLearning/master/data/stock_data.csv\n",
    "    df = pd.read_csv(file_, parse_dates=True, index_col = \"Date\", error_bad_lines=False, low_memory = False, encoding='utf8')\n",
    "\n",
    "print(df.shape)\n",
    "df.head()"
   ]
  },
  {
   "cell_type": "code",
   "execution_count": null,
   "metadata": {},
   "outputs": [],
   "source": [
    "set(df[\"Name\"])"
   ]
  },
  {
   "cell_type": "code",
   "execution_count": null,
   "metadata": {
    "slideshow": {
     "slide_type": "slide"
    }
   },
   "outputs": [],
   "source": [
    "# Basic Plot Menggunakan fungsi di Pandas\n",
    "df.sort_index(inplace=True) # Harus diyakinkan dulu data terurut waktu\n",
    "p = df['Volume'].plot(figsize=(10,6))"
   ]
  },
  {
   "cell_type": "markdown",
   "metadata": {
    "slideshow": {
     "slide_type": "slide"
    }
   },
   "source": [
    "# Hue : Menambahkan informasi hari"
   ]
  },
  {
   "cell_type": "code",
   "execution_count": null,
   "metadata": {
    "slideshow": {
     "slide_type": "slide"
    }
   },
   "outputs": [],
   "source": [
    "# Bisa menggunakan Fungsi \"Map\": silahkan dicoba sebagai latihan\n",
    "hari_ = {0:\"Senin\", 1:\"Selasa\", 2:\"Rabu\", 3:\"Kamis\", 4:\"Jumat\", 5:\"Sabtu\", 6:\"Minggu\"}\n",
    "\n",
    "df['weekdays'] = ['']*df.shape[0]\n",
    "for i,d in df.iterrows():\n",
    "    df.loc[i,'weekdays'] =  hari_[i.weekday()] # Perhatikan disini menggunakan i dan bukan d.Date karena waktu=index\n",
    "df.head()"
   ]
  },
  {
   "cell_type": "code",
   "execution_count": null,
   "metadata": {
    "slideshow": {
     "slide_type": "slide"
    }
   },
   "outputs": [],
   "source": [
    "plt.figure(figsize=(15,6))\n",
    "sns.lineplot(x='Date', y='Volume', data=df, hue='weekdays', palette='Set1')\n",
    "plt.show()\n",
    "# We have our first insight!!!..."
   ]
  },
  {
   "cell_type": "markdown",
   "metadata": {
    "slideshow": {
     "slide_type": "slide"
    }
   },
   "source": [
    "# SubPlot"
   ]
  },
  {
   "cell_type": "code",
   "execution_count": null,
   "metadata": {
    "slideshow": {
     "slide_type": "fragment"
    }
   },
   "outputs": [],
   "source": [
    "p = df.plot(subplots=True, figsize=(10,12))"
   ]
  },
  {
   "cell_type": "markdown",
   "metadata": {
    "slideshow": {
     "slide_type": "slide"
    }
   },
   "source": [
    "# Seasonality\n",
    "\n",
    "* Resampling berdasarkan bulan (month)\n",
    "* Filter tahun >2016"
   ]
  },
  {
   "cell_type": "code",
   "execution_count": null,
   "metadata": {
    "slideshow": {
     "slide_type": "fragment"
    }
   },
   "outputs": [],
   "source": [
    "# Reduce\n",
    "df_month = df.resample(\"M\").mean() # dirata-ratakan perbulan. hati-hati hanya bisa jika \"waktu\" adalah index\n",
    "df_month.head()\n",
    "# Perhatikan Date mulai 2006"
   ]
  },
  {
   "cell_type": "code",
   "execution_count": null,
   "metadata": {
    "slideshow": {
     "slide_type": "slide"
    }
   },
   "outputs": [],
   "source": [
    "import matplotlib.dates as mdates # Need this additional function\n",
    "\n",
    "fig, ax = plt.subplots(figsize=(10, 6))\n",
    "\n",
    "ax.xaxis.set_major_formatter(mdates.DateFormatter('%Y-%m')) # Supaya label lebih jelas\n",
    "ax.bar(df_month['2016':].index, df_month.loc['2016':, \"Volume\"], width=25, align='center')\n",
    "\n",
    "plt.show()"
   ]
  },
  {
   "cell_type": "markdown",
   "metadata": {
    "slideshow": {
     "slide_type": "slide"
    }
   },
   "source": [
    "# Seaborn & Seasonality\n",
    "\n",
    "* Butuh Kolom baru \"Month\""
   ]
  },
  {
   "cell_type": "code",
   "execution_count": null,
   "metadata": {
    "slideshow": {
     "slide_type": "slide"
    }
   },
   "outputs": [],
   "source": [
    "# Latihan: ganti dengan \"map\" function\n",
    "df['Month'] = ['']*df.shape[0]\n",
    "for i,d in df.iterrows():\n",
    "    df.loc[i,'Month'] =  i.month # Perhatikan disini menggunakan i dan bukan d.Date karena waktu=index\n",
    "    \n",
    "df.head()"
   ]
  },
  {
   "cell_type": "code",
   "execution_count": null,
   "metadata": {
    "slideshow": {
     "slide_type": "slide"
    }
   },
   "outputs": [],
   "source": [
    "#start, end = '2016-01', '2016-12'\n",
    "fig, axes = plt.subplots(4, 1, figsize=(10, 16), sharex=True)\n",
    "\n",
    "for name, ax in zip(['Open', 'Close', 'High', 'Low'], axes):\n",
    "    sns.boxplot(data = df, x='Month', y=name, ax=ax)\n",
    "    ax.set_ylabel(\"\")\n",
    "    ax.set_title(name)\n",
    "    if ax != axes[-1]:\n",
    "        ax.set_xlabel('')"
   ]
  },
  {
   "cell_type": "markdown",
   "metadata": {
    "slideshow": {
     "slide_type": "slide"
    }
   },
   "source": [
    "# Line Plot Revisited with resampling"
   ]
  },
  {
   "cell_type": "code",
   "execution_count": null,
   "metadata": {
    "slideshow": {
     "slide_type": "fragment"
    }
   },
   "outputs": [],
   "source": [
    "p = df_month['Volume'].plot(figsize=(8, 6))"
   ]
  },
  {
   "cell_type": "markdown",
   "metadata": {
    "slideshow": {
     "slide_type": "slide"
    }
   },
   "source": [
    "# Resampling bisa juga berdasarkan minggu (dan contrasted with daily)\n",
    "\n",
    "* Perhatikan Business understanding dengan baik."
   ]
  },
  {
   "cell_type": "code",
   "execution_count": null,
   "metadata": {
    "slideshow": {
     "slide_type": "fragment"
    }
   },
   "outputs": [],
   "source": [
    "df_week = df.resample(\"W\").mean()\n",
    "start, end = '2015-01', '2015-08'\n",
    "\n",
    "fig, ax = plt.subplots(figsize=(16, 8))\n",
    "\n",
    "ax.plot(df.loc[start:end, 'Volume'], marker='.', linestyle='-', linewidth = 0.5, label='Daily', color='black')\n",
    "ax.plot(df_week.loc[start:end, 'Volume'], marker='o', markersize=8, linestyle='-', label='Weekly', color='coral')\n",
    "\n",
    "ax.set_ylabel(\"Open\")\n",
    "ax.legend()\n",
    "plt.show()"
   ]
  },
  {
   "cell_type": "markdown",
   "metadata": {
    "slideshow": {
     "slide_type": "slide"
    }
   },
   "source": [
    "# Rolling?\n",
    "\n",
    "<img alt=\"\" src=\"images/rolling_MA_pandas.png\"  style=\"height: 200px;\"/>\n",
    "\n",
    "* moving average, also called a rolling or running average is used to analyze the time-series data by calculating averages of different subsets of the complete dataset. Since it involves taking the average of the dataset over time, it is also called a moving mean (MM) or rolling mean.\n",
    "* https://www.datacamp.com/community/tutorials/moving-averages-in-pandas\n",
    "* https://pandas.pydata.org/docs/reference/api/pandas.DataFrame.rolling.html\n",
    "* https://medium.com/@alexander.mueller/rolling-aggregations-on-time-series-data-with-pandas-80dee5893f9"
   ]
  },
  {
   "cell_type": "code",
   "execution_count": null,
   "metadata": {
    "slideshow": {
     "slide_type": "slide"
    }
   },
   "outputs": [],
   "source": [
    "# Contoh sederhana\n",
    "df2 = pd.DataFrame({'B': [0, 1, 2, 3, 4]})\n",
    "print(df2)\n",
    "df2.rolling(3).mean()"
   ]
  },
  {
   "cell_type": "code",
   "execution_count": null,
   "metadata": {
    "slideshow": {
     "slide_type": "slide"
    }
   },
   "outputs": [],
   "source": [
    "df_7d_rolling = df.rolling(window=7, center=False).mean() # Perhatikan centre = true !!!... \n",
    "df_7d_rolling.head(10)"
   ]
  },
  {
   "cell_type": "code",
   "execution_count": null,
   "metadata": {
    "slideshow": {
     "slide_type": "slide"
    }
   },
   "outputs": [],
   "source": [
    "start, end = '2016-06', '2017-05'\n",
    "fig, ax = plt.subplots(figsize=(16, 8))\n",
    "\n",
    "ax.plot(df.loc[start:end, 'Volume'], marker='.', linestyle='-', linewidth=0.5, label='Daily')\n",
    "ax.plot(df_week.loc[start:end, 'Volume'], marker='o', markersize=5, linestyle='-', label = 'Weekly mean volume')\n",
    "ax.plot(df_7d_rolling.loc[start:end, 'Volume'], marker='.', linestyle='-', label='7d Rolling Average')\n",
    "\n",
    "ax.set_ylabel('Stock Volume')\n",
    "ax.legend()\n",
    "plt.show()"
   ]
  },
  {
   "cell_type": "markdown",
   "metadata": {
    "slideshow": {
     "slide_type": "slide"
    }
   },
   "source": [
    "# Memvisualisasikan Perubahan (Rasio dengan 1 hari sebelumnya)\n",
    "\n",
    "* Menggunakan fungsi \"Shift\": The shift function shifts the data before or after the specified amount of time.\n",
    "* https://pandas.pydata.org/docs/reference/api/pandas.Series.shift.html\n",
    "* Fungsi Div (membagi), dalam hal ini dengan shift.\n",
    "* https://pandas.pydata.org/docs/reference/api/pandas.DataFrame.div.html\n",
    "* https://www.geeksforgeeks.org/python-pandas-dataframe-shift/"
   ]
  },
  {
   "cell_type": "code",
   "execution_count": null,
   "metadata": {
    "slideshow": {
     "slide_type": "slide"
    }
   },
   "outputs": [],
   "source": [
    "df.head()"
   ]
  },
  {
   "cell_type": "code",
   "execution_count": null,
   "metadata": {
    "slideshow": {
     "slide_type": "slide"
    }
   },
   "outputs": [],
   "source": [
    "df.Close.shift().head()"
   ]
  },
  {
   "cell_type": "code",
   "execution_count": null,
   "metadata": {
    "slideshow": {
     "slide_type": "slide"
    }
   },
   "outputs": [],
   "source": [
    "df['Change'] = df.Close.div(df.Close.shift())\n",
    "p = df['Change'].plot(figsize=(20, 8), fontsize = 16)"
   ]
  },
  {
   "cell_type": "code",
   "execution_count": null,
   "metadata": {
    "slideshow": {
     "slide_type": "slide"
    }
   },
   "outputs": [],
   "source": [
    "df.head() # perhatikan di kolom \"Change\""
   ]
  },
  {
   "cell_type": "code",
   "execution_count": null,
   "metadata": {
    "slideshow": {
     "slide_type": "slide"
    }
   },
   "outputs": [],
   "source": [
    "# Zoom to a year\n",
    "p = df.loc['2008']['Change'].plot(figsize=(10, 6))"
   ]
  },
  {
   "cell_type": "markdown",
   "metadata": {
    "slideshow": {
     "slide_type": "slide"
    }
   },
   "source": [
    "# Percent_Change\n",
    "\n",
    "* Percentage change between the current and a prior element.\n",
    "* https://pandas.pydata.org/docs/reference/api/pandas.DataFrame.pct_change.html"
   ]
  },
  {
   "cell_type": "code",
   "execution_count": null,
   "metadata": {
    "slideshow": {
     "slide_type": "slide"
    }
   },
   "outputs": [],
   "source": [
    "df_month.loc[:, 'pct_change'] = df.Close.pct_change()*100\n",
    "\n",
    "df_month.head()"
   ]
  },
  {
   "cell_type": "code",
   "execution_count": null,
   "metadata": {
    "slideshow": {
     "slide_type": "slide"
    }
   },
   "outputs": [],
   "source": [
    "fig, ax = plt.subplots(figsize=(16, 8))\n",
    "df_month['pct_change' ].plot(kind='bar', color='coral', ax=ax)\n",
    "\n",
    "ax.xaxis.set_major_locator(mdates.WeekdayLocator())\n",
    "ax.xaxis.set_major_formatter(mdates.DateFormatter('%b %d'))\n",
    "plt.xticks(rotation=45)\n",
    "ax.legend()\n",
    "\n",
    "plt.show()"
   ]
  },
  {
   "cell_type": "markdown",
   "metadata": {
    "slideshow": {
     "slide_type": "slide"
    }
   },
   "source": [
    "# Expanding Window: Akumulasi Data\n",
    "\n",
    "* Bayangkan seperti jumlah total kasus Covid, tapi lebih fleksible karena bisa juga menggunakan rata-rata atau simpangan baku.\n",
    "* https://pandas.pydata.org/docs/reference/api/pandas.DataFrame.expanding.html"
   ]
  },
  {
   "cell_type": "code",
   "execution_count": null,
   "metadata": {
    "slideshow": {
     "slide_type": "slide"
    }
   },
   "outputs": [],
   "source": [
    "fig, ax = plt.subplots(figsize=(16, 8))\n",
    "\n",
    "ax = df.High.plot(label='High')\n",
    "ax = df.High.expanding().mean().plot(label='High expanding mean')\n",
    "ax = df.High.expanding().std().plot(label='High expanding std')\n",
    "\n",
    "ax.legend(); plt.show()"
   ]
  },
  {
   "cell_type": "markdown",
   "metadata": {
    "slideshow": {
     "slide_type": "slide"
    }
   },
   "source": [
    "# Heat Map\n",
    "\n",
    "* Jauh lebih mudah untuk mendapatkan insight\n",
    "* Butuh untuk menyesuaikan \"Struktur Data\"-nya.\n",
    "* Butuh tambahan kolom \"Year\n",
    "* https://pandas.pydata.org/pandas-docs/stable/reference/api/pandas.pivot_table.html\n",
    "* https://seaborn.pydata.org/generated/seaborn.heatmap.html"
   ]
  },
  {
   "cell_type": "code",
   "execution_count": null,
   "metadata": {
    "slideshow": {
     "slide_type": "slide"
    }
   },
   "outputs": [],
   "source": [
    "# Latihan: ganti dengan \"map\" function\n",
    "df['Year'] = ['']*df.shape[0]\n",
    "for i,d in df.iterrows():\n",
    "    df.loc[i,'Year'] =  i.year # Perhatikan disini menggunakan i dan bukan d.Date karena waktu=index\n",
    "    \n",
    "df.head()"
   ]
  },
  {
   "cell_type": "code",
   "execution_count": null,
   "metadata": {
    "slideshow": {
     "slide_type": "slide"
    }
   },
   "outputs": [],
   "source": [
    "all_month_year_df = pd.pivot_table(df, values=\"Open\",\n",
    "                                   index=[\"Month\"],\n",
    "                                   columns=[\"Year\"],\n",
    "                                   fill_value=0,\n",
    "                                   margins=True)\n",
    "named_index = [[calendar.month_abbr[i] if isinstance(i, int) else i for i in list(all_month_year_df.index)]] # name months\n",
    "all_month_year_df = all_month_year_df.set_index(named_index)\n",
    "all_month_year_df.head()"
   ]
  },
  {
   "cell_type": "code",
   "execution_count": null,
   "metadata": {
    "slideshow": {
     "slide_type": "slide"
    }
   },
   "outputs": [],
   "source": [
    "fig, ax = plt.subplots(figsize=(12, 12))\n",
    "\n",
    "sns.heatmap(all_month_year_df, cmap='RdYlGn_r', robust=True, fmt='.2f', \n",
    "                 annot=True, linewidths=.5, annot_kws={'size':11}, \n",
    "                 cbar_kws={'shrink':.8, 'label':'Open'}, ax=ax)                       \n",
    "    \n",
    "ax.set_yticklabels(ax.get_yticklabels(), rotation=0, fontsize=10)\n",
    "ax.set_xticklabels(ax.get_xticklabels(), rotation=0, fontsize=10)\n",
    "plt.title('Average Opening', fontdict={'fontsize':18},    pad=14);\n",
    "\n",
    "plt.show()"
   ]
  },
  {
   "cell_type": "markdown",
   "metadata": {
    "slideshow": {
     "slide_type": "slide"
    }
   },
   "source": [
    "# Spatial Visualization"
   ]
  },
  {
   "cell_type": "code",
   "execution_count": null,
   "metadata": {
    "slideshow": {
     "slide_type": "fragment"
    }
   },
   "outputs": [],
   "source": [
    "def generateBaseMap(default_location=[-0.789275, 113.921], default_zoom_start=5):\n",
    "    base_map = folium.Map(location=default_location, control_scale=True, zoom_start=default_zoom_start)\n",
    "    return base_map"
   ]
  },
  {
   "cell_type": "code",
   "execution_count": null,
   "metadata": {
    "slideshow": {
     "slide_type": "fragment"
    }
   },
   "outputs": [],
   "source": [
    "# Load Data\n",
    "try:\n",
    "    # Running Locally, yakinkan module folium sudah terinstall\n",
    "    df_loc = pd.read_csv('data/df_loc.csv')\n",
    "except:\n",
    "    # Running in Google Colab, yakinkan folder \"data\" sudah ada\n",
    "    !wget -P data/ https://raw.githubusercontent.com/taudata-indonesia/eLearning/master/data/df_loc.csv\n",
    "    df_loc = pd.read_csv('data/df_loc.csv')\n",
    "    \n",
    "df_loc.head()"
   ]
  },
  {
   "cell_type": "code",
   "execution_count": null,
   "metadata": {
    "scrolled": false,
    "slideshow": {
     "slide_type": "slide"
    }
   },
   "outputs": [],
   "source": [
    "base_map = generateBaseMap()\n",
    "HeatMap(data=df_loc[['lat', 'lon', 'count']].groupby(['lat', 'lon']).sum().reset_index().values.tolist(), radius=8, max_zoom=13).add_to(base_map)\n",
    "base_map"
   ]
  },
  {
   "cell_type": "markdown",
   "metadata": {
    "slideshow": {
     "slide_type": "slide"
    }
   },
   "source": [
    "# Hati-hati Chrome terbaru suka bermasalah dengan Folium jika datanya cukup besar"
   ]
  },
  {
   "cell_type": "markdown",
   "metadata": {
    "slideshow": {
     "slide_type": "slide"
    }
   },
   "source": [
    "# <center><font color=\"blue\"> Studi Kasus (Latihan): Penggunaan Energi Gedung</font></center>\n",
    "\n",
    "<img alt=\"\" src=\"images/Ashrae-Energy-Prediction.jpg\" style=\"height: 200px;\" />\n",
    "\n",
    "<font color=\"green\"> Deskripsi</font>\n",
    "\n",
    "* Studi Kasus kali ini berasal dari Permasalahan Prediksi Penggunaan Energi Gedung dari PT Ashrae - American Society of Heating, Refrigerating and Air-Conditioning Engineers https://www.ashrae.org/about\n",
    "* Sebagai latihan studi kasus EDA kita hanya akan menggunakan sebagian dari data yang ada.\n",
    "* Data lengkap dan keterangan: https://www.kaggle.com/c/ashrae-energy-prediction/data\n",
    "* Data berupa 3 buah file CSV: Informasi Tentang Gedung, Penggunaan Energi Gedung, dan Cuaca.\n",
    "* Permasalahan utama dari kasus ini sebenarnya adalah forecasting/peramalan penggunaan energi. Akan tetapi di module 03 dan 04 ini kita hanya akan melakukan EDA pada data yang ada.\n",
    "* Hasil EDA ini kelak akan kita gunakan untuk melakukan analisis lebih lanjut.\n",
    "\n",
    "<font color=\"green\"> Metadata</font>\n",
    "\n",
    "* Variabel di Data Gedung \"**gd**\":\n",
    "    - site_id & building_id: id lokasi dan gedung\n",
    "    - primary_use: Peruntukan Gedung\n",
    "    - square_feet: Luas bangunan gedung\n",
    "    - year_built: Tahun pembuatan gedung\n",
    "    - floor_count: Banyaknya lantai yang ada di gedung.\n",
    "* Variabel di Data Energy Gedung \"**en**\" (selain building_id):\n",
    "    - meter\t: Jenis meter reading penggunaan energy gedung.\n",
    "    - timestamp\t: Waktu saat pengukuran (per-jam)\n",
    "    - meter_reading: Penggunaan energy.\n",
    "* Variabel di Data Cuaca \"**cu**\" (selain site_id & timestamp):\n",
    "    - air_temperature: suhu udara\n",
    "    - cloud_coverage: ukuran berawan\t\n",
    "    - dew_temperature: suhu dew (menbun?)\n",
    "    - precip_depth_1_hr: precipitation (banyaknya air dari langit, karena sebab apapun)\n",
    "    - sea_level_pressure: Tekanan permukaan laut.\t\n",
    "    - wind_direction & wind_speed: arah dan kecepatan angin"
   ]
  },
  {
   "cell_type": "markdown",
   "metadata": {
    "slideshow": {
     "slide_type": "slide"
    }
   },
   "source": [
    "# <center><font color=\"blue\"> Task</font></center>\n",
    "\n",
    "* Silahkan lakukan EDA dengan melakukan beberapa ha berikut:\n",
    "    - Preprocessing data apa saja yang perlu dilakukan?\n",
    "    - Gunakan statistika deskriptif & visualisasi untuk menghasilkan berbagai informasi/insight dari data yang ada.\n",
    "* Loading data diatas diberikan di cell dibawah ini."
   ]
  },
  {
   "cell_type": "code",
   "execution_count": null,
   "metadata": {
    "slideshow": {
     "slide_type": "slide"
    }
   },
   "outputs": [],
   "source": [
    "file_00 = 'data/ashrae-energy_building_metadata.csv'\n",
    "file_01 = 'data/ashrae-energy_train_sample.csv'\n",
    "file_02 = 'data/ashrae-energy_weather_test.csv'\n",
    "try: # Running Locally, yakinkan \"file_\" berada di folder \"data\"\n",
    "    gd = pd.read_csv(file_00, error_bad_lines=False, low_memory = False, encoding='utf8') #gedung\n",
    "    en = pd.read_csv(file_01, error_bad_lines=False, low_memory = False, encoding='utf8') #energy\n",
    "    cu = pd.read_csv(file_02, error_bad_lines=False, low_memory = False, encoding='utf8') #cuaca\n",
    "except: # Running in Google Colab\n",
    "    !mkdir data\n",
    "    !wget -P data/ https://raw.githubusercontent.com/taudata-indonesia/ptpjb/master/data/ashrae-energy_building_metadata.csv\n",
    "    !wget -P data/ https://raw.githubusercontent.com/taudata-indonesia/ptpjb/master/data/ashrae-energy_train_sample.csv\n",
    "    !wget -P data/ https://raw.githubusercontent.com/taudata-indonesia/ptpjb/master/data/ashrae-energy_weather_test.csv\n",
    "    gd = pd.read_csv(file_00, error_bad_lines=False, low_memory = False, encoding='utf8') #gedung\n",
    "    en = pd.read_csv(file_01, error_bad_lines=False, low_memory = False, encoding='utf8') #energy\n",
    "    cu = pd.read_csv(file_02, error_bad_lines=False, low_memory = False, encoding='utf8') #cuaca\n",
    "\n",
    "print(\"Ukuran Data Gedung={}, Data Train={}, Data Weather={}\".format(gd.shape, en.shape, cu.shape))\n",
    "gd.head()"
   ]
  },
  {
   "cell_type": "code",
   "execution_count": null,
   "metadata": {
    "slideshow": {
     "slide_type": "slide"
    }
   },
   "outputs": [],
   "source": [
    "cu.head()"
   ]
  },
  {
   "cell_type": "code",
   "execution_count": null,
   "metadata": {
    "slideshow": {
     "slide_type": "slide"
    }
   },
   "outputs": [],
   "source": [
    "en.head()"
   ]
  },
  {
   "cell_type": "code",
   "execution_count": null,
   "metadata": {
    "slideshow": {
     "slide_type": "slide"
    }
   },
   "outputs": [],
   "source": [
    "# jawaban diberikan mulai dari cell ini, silahkan buat cell baru sesuai kebutuhan (alt+Enter)\n",
    "\n"
   ]
  },
  {
   "cell_type": "markdown",
   "metadata": {
    "slideshow": {
     "slide_type": "slide"
    }
   },
   "source": [
    "# <center><font color=\"blue\"> Akhir Modul 04 - Exploratory Data Analysis ~ Visualization\n",
    "\n",
    "<hr />\n",
    "<img alt=\"\" src=\"images/meme-cartoon/meme visualization.jpg\" style=\"height: 400px;\"/>"
   ]
  }
 ],
 "metadata": {
  "celltoolbar": "Slideshow",
  "kernelspec": {
   "display_name": "Python 3 (ipykernel)",
   "language": "python",
   "name": "python3"
  },
  "language_info": {
   "codemirror_mode": {
    "name": "ipython",
    "version": 3
   },
   "file_extension": ".py",
   "mimetype": "text/x-python",
   "name": "python",
   "nbconvert_exporter": "python",
   "pygments_lexer": "ipython3",
   "version": "3.7.11"
  },
  "latex_envs": {
   "LaTeX_envs_menu_present": true,
   "autoclose": false,
   "autocomplete": true,
   "bibliofile": "biblio.bib",
   "cite_by": "apalike",
   "current_citInitial": 1,
   "eqLabelWithNumbers": true,
   "eqNumInitial": 1,
   "hotkeys": {
    "equation": "Ctrl-E",
    "itemize": "Ctrl-I"
   },
   "labels_anchors": false,
   "latex_user_defs": false,
   "report_style_numbering": false,
   "user_envs_cfg": false
  }
 },
 "nbformat": 4,
 "nbformat_minor": 4
}
