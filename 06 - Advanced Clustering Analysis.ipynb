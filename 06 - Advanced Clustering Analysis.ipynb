{
 "cells": [
  {
   "cell_type": "markdown",
   "metadata": {
    "slideshow": {
     "slide_type": "slide"
    }
   },
   "source": [
    "# <center><font color=\"green\"> https://bit.ly/ptpjb-2021-06</font><br><font color=\"blue\">06 - Advanced Clustering Analysis</font></center>\n",
    "\n",
    "<center><img alt=\"\" src=\"images/cover_ptpjb_2021.png\"/></center> \n",
    "\n",
    "## <center><font color=\"blue\">tau-data Indonesia</font><br>(C) Taufik Sutanto - 2021</center>\n",
    "<center><a href=\"https://tau-data.id\">https://tau-data.id</a> ~ <a href=\"mailto:taufik@tau-data.id\">taufik@tau-data.id</a></center>"
   ]
  },
  {
   "cell_type": "markdown",
   "metadata": {
    "slideshow": {
     "slide_type": "slide"
    }
   },
   "source": [
    "# <center><font color=\"blue\"> Outline - Advanced Clustering Analysis</font></center>\n",
    "\n",
    "* Review Singkat Pendahuluan Clustering ANalysis\n",
    "* k-Medoid\n",
    "* Hierarchical CLustering\n",
    "* DBSCAN for multivariate Outlier Detection\n",
    "* Isolation Forest for Anomaly Detection\n",
    "* Closing Remark Clustering\n",
    "\n",
    "<img alt=\"\" src=\"images/meme-cartoon/meme one does not learn clustering in one day.jpg\" style=\"height: 200px;\"/>"
   ]
  },
  {
   "cell_type": "markdown",
   "metadata": {
    "slideshow": {
     "slide_type": "slide"
    }
   },
   "source": [
    "# <center><font color=\"blue\">Review singkat Clustering Analysis</font></center>\n",
    "\n",
    "<img src=\"images/clustering_research_mindmap_taudataID.png\" style=\"height: 400px\" />"
   ]
  },
  {
   "cell_type": "code",
   "execution_count": null,
   "metadata": {},
   "outputs": [],
   "source": [
    "!mkdir data\n",
    "!pip install scikit-learn-extra"
   ]
  },
  {
   "cell_type": "code",
   "execution_count": null,
   "metadata": {},
   "outputs": [],
   "source": [
    "# Importing Modules untuk Notebook ini\n",
    "import warnings; warnings.simplefilter('ignore')\n",
    "import numpy as np, matplotlib.pyplot as plt, pandas as pd, seaborn as sns\n",
    "from sklearn import cluster\n",
    "from scipy.spatial import distance\n",
    "from scipy.cluster.hierarchy import dendrogram, linkage\n",
    "import scipy.spatial.distance\n",
    "from sklearn_extra.cluster import KMedoids\n",
    "from sklearn.ensemble import IsolationForest\n",
    "\n",
    "sns.set(style=\"ticks\", color_codes=True)\n",
    "random_state = 99"
   ]
  },
  {
   "cell_type": "markdown",
   "metadata": {},
   "source": [
    "# <center><font color=\"blue\">Load data dari module (hasil clustering) sebelumnya</font></center>\n",
    "\n",
    "<img src=\"images/meme-cartoon/meme stay healthy and continue.jpg\" style=\"height: 400px\" />"
   ]
  },
  {
   "cell_type": "code",
   "execution_count": null,
   "metadata": {},
   "outputs": [],
   "source": [
    "# Loading the clustering Data from the previous module\n",
    "file_ = 'data/df_Module-05.csv'\n",
    "try: # Running Locally, yakinkan \"file_\" berada di folder \"data\"\n",
    "    df = pd.read_csv(file_, error_bad_lines=False, low_memory = False, encoding='utf8')\n",
    "except: # Running in Google Colab\n",
    "    !mkdir data\n",
    "    !wget -P data/ https://raw.githubusercontent.com/taudata-indonesia/ptpjb/master/{file_}\n",
    "    df = pd.read_csv(file_, error_bad_lines=False, low_memory = False, encoding='utf8')\n",
    "\n",
    "X = df[['sepal_length','sepal_width','petal_length','petal_width']]\n",
    "C = df['species']#.values\n",
    "df.head()"
   ]
  },
  {
   "cell_type": "markdown",
   "metadata": {
    "slideshow": {
     "slide_type": "slide"
    }
   },
   "source": [
    "# Kelemahan Kedua: Hasil yang tidak <font color=\"blue\">Robust\n",
    "\n",
    "## Studi Kasus <font color=\"blue\">K-Medoid\n",
    "\n",
    "* Pentingnya memahami \"konsep\" statistika/matematika dasar.\n",
    "\n",
    "<img src='images/kmeans-vs-kmedoids.png'  style=\"height: 300px\"/>\n",
    "\n",
    "* Sumber Gambar: https://www.researchgate.net/figure/The-graphical-representation-of-the-difference-between-the-k-means-and-k-medoids_fig1_342871651"
   ]
  },
  {
   "cell_type": "markdown",
   "metadata": {
    "slideshow": {
     "slide_type": "slide"
    }
   },
   "source": [
    "# Fenomena terkenal di \" <font color=\"blue\">How to Lie with Statistics \"\n",
    "\n",
    "<img src='images/mean_vs_median.png' style=\"height: 300px\"/>\n",
    "\n",
    "* Average menurut kamus Oxford: https://www.lexico.com/en/definition/average\n",
    "\n",
    "## Dari Mean ke Median (Medoid)"
   ]
  },
  {
   "cell_type": "code",
   "execution_count": null,
   "metadata": {
    "slideshow": {
     "slide_type": "slide"
    }
   },
   "outputs": [],
   "source": [
    "# Toy-data ==> ini perlu di riset\n",
    "A = np.array([[2, 0], [1, 2], [2, 2], [7, 2], [6, 1], [7, 0], [10,10]])\n",
    "fig, ax = plt.subplots()\n",
    "ax.scatter(A[:,0], A[:,1])\n",
    "plt.show()"
   ]
  },
  {
   "cell_type": "code",
   "execution_count": null,
   "metadata": {
    "slideshow": {
     "slide_type": "slide"
    }
   },
   "outputs": [],
   "source": [
    "# Solusi k-Means\n",
    "km = cluster.KMeans(n_clusters=2, init='k-means++').fit(A)\n",
    "C_km = km.predict(A)\n",
    "centroid_km = km.cluster_centers_\n",
    "\n",
    "# Solusi k-Medoid: https://scikit-learn-extra.readthedocs.io/en/stable/generated/sklearn_extra.cluster.KMedoids.html\n",
    "kmedoids = KMedoids(n_clusters=2).fit(A)\n",
    "C_med = kmedoids.predict(A)\n",
    "centroid_med = kmedoids.cluster_centers_\n",
    "\"Done\""
   ]
  },
  {
   "cell_type": "code",
   "execution_count": null,
   "metadata": {
    "slideshow": {
     "slide_type": "slide"
    }
   },
   "outputs": [],
   "source": [
    "# Plot Solusi k-Means\n",
    "fig, ax = plt.subplots()\n",
    "ax.scatter(A[:,0], A[:,1], c=C_km, s=100) # s= size\n",
    "ax.scatter(centroid_km[:,0], centroid_km[:,1], c=\"red\", s=30) # Centroid k-Means \"Red\"\n",
    "plt.show()\n",
    "C_km"
   ]
  },
  {
   "cell_type": "code",
   "execution_count": null,
   "metadata": {
    "slideshow": {
     "slide_type": "slide"
    }
   },
   "outputs": [],
   "source": [
    "# Plot Solusi k-Medoid\n",
    "fig, ax = plt.subplots()\n",
    "ax.scatter(A[:,0], A[:,1], c=C_med, s=100)\n",
    "ax.scatter(centroid_med[:,0], centroid_med[:,1], c=\"green\", s=30) # Centroid k-Medoid \"Green\"\n",
    "plt.show() \n",
    "# Di Contoh ini terlihat pentingnya Outlier detection!"
   ]
  },
  {
   "cell_type": "markdown",
   "metadata": {
    "slideshow": {
     "slide_type": "slide"
    }
   },
   "source": [
    "# <font color=\"blue\">Diskusi</font>: Apakah berarti k-Medoid lebih baik dari k-Means?"
   ]
  },
  {
   "cell_type": "code",
   "execution_count": null,
   "metadata": {},
   "outputs": [],
   "source": [
    "kmedoids = KMedoids(n_clusters=3).fit(X)\n",
    "C_medoid = kmedoids.predict(X)\n",
    "sns.countplot(C_medoid)\n",
    "C_medoid[:10]"
   ]
  },
  {
   "cell_type": "code",
   "execution_count": null,
   "metadata": {},
   "outputs": [],
   "source": [
    "df['k-medoid'] = C_medoid\n",
    "# Saving the Clustering results for future use/analysis\n",
    "df.to_csv(\"data/df_Module-06.csv\", encoding='utf8', index=False)\n",
    "# Plot the clustering result\n",
    "g = sns.pairplot(df[['sepal_length','sepal_width','petal_length','petal_width','k-medoid']], \\\n",
    "                 hue=\"k-medoid\", diag_kind=\"hist\", palette=\"tab10\")"
   ]
  },
  {
   "cell_type": "markdown",
   "metadata": {
    "slideshow": {
     "slide_type": "slide"
    }
   },
   "source": [
    "# <center><font color=\"blue\">Hierarchical Clustering (Agglomerative)</font></center>\n",
    "\n",
    "<img alt=\"\" src=\"images/5_hierarchical.gif\" style=\"height: 300px\"/>\n",
    "\n",
    "* image source: https://www.kdnuggets.com/2019/09/hierarchical-clustering.html\n",
    "* Clustering Optimal = Garis terpanjang https://www.sciencedirect.com/topics/computer-science/agglomerative-algorithm"
   ]
  },
  {
   "cell_type": "markdown",
   "metadata": {
    "slideshow": {
     "slide_type": "slide"
    }
   },
   "source": [
    "# <center><font color=\"blue\">Hierarchical Clustering Linkages</font></center>\n",
    "\n",
    "<img alt=\"\" src=\"images/5_linkages.png\" style=\"height: 400px\"/>"
   ]
  },
  {
   "cell_type": "markdown",
   "metadata": {
    "slideshow": {
     "slide_type": "slide"
    }
   },
   "source": [
    "# <center><font color=\"blue\">Hierarchical Clustering Applications</font></center>\n",
    "\n",
    "<img alt=\"\" src=\"images/5_Hierarchical_Text_Clustering_in_Genes_penyakit.jpg\" style=\"height: 400px\"/>\n",
    "\n",
    "image Source: https://www.sciencedirect.com/science/article/pii/S1532046416000307"
   ]
  },
  {
   "cell_type": "markdown",
   "metadata": {
    "scrolled": false,
    "slideshow": {
     "slide_type": "slide"
    }
   },
   "source": [
    "# <center><font color=\"blue\">Hierarchical Clustering Linkages Effects</font></center>\n",
    "\n",
    "<img alt=\"\" src=\"images/hierarchical clustering linkages.png\" style=\"height: 400px\"/>\n",
    "\n",
    "* single linkage is fast, and can perform well on non-globular data, but it performs poorly in the presence of noise.\n",
    "* average and complete linkage perform well on cleanly separated globular clusters, but have mixed results otherwise.\n",
    "* Ward is the most effective method for noisy data.\n",
    "* http://scikit-learn.org/stable/auto_examples/cluster/plot_linkage_comparison.html#sphx-glr-auto-examples-cluster-plot-linkage-comparison-py"
   ]
  },
  {
   "cell_type": "markdown",
   "metadata": {
    "slideshow": {
     "slide_type": "slide"
    }
   },
   "source": [
    "# <center><font color=\"blue\">Hierarchical Clustering: Agglomerative vs Divisive</font></center>\n",
    "\n",
    "<img alt=\"\" src=\"images/hierarchical-clustering-agnes-diana.png\"  style=\"height: 300px\"/>\n",
    "\n",
    "image source: https://www.datanovia.com/en/lessons/agglomerative-hierarchical-clustering/"
   ]
  },
  {
   "cell_type": "markdown",
   "metadata": {
    "slideshow": {
     "slide_type": "slide"
    }
   },
   "source": [
    "# <center><font color=\"blue\">Hierarchical Clustering: Pro-Contra Penggunaan</font></center>\n",
    "\n",
    "## <font color=\"green\">Pro</font>\n",
    "* No assumption of a particular number of clusters (i.e. k-means)\n",
    "* May correspond to meaningful taxonomies\n",
    "\n",
    "## <font color=\"green\">Cons</font>\n",
    "* Once a decision is made to combine two clusters, it can’t be undone\n",
    "* Too slow for large data sets, O(𝑛2 log(𝑛))"
   ]
  },
  {
   "cell_type": "markdown",
   "metadata": {
    "slideshow": {
     "slide_type": "slide"
    }
   },
   "source": [
    "# <center><font color=\"blue\">Evaluasi Hierarchical Clustering?</font></center>\n",
    "\n",
    "* Silhoutte Coefficient, Dunn index, or Davies–Bouldin index\n",
    "* Domain knowledge - interpretability\n",
    "* External Evaluation\n",
    "\n",
    "Read more here: https://www.ims.uni-stuttgart.de/document/team/schulte/theses/phd/algorithm.pdf"
   ]
  },
  {
   "cell_type": "code",
   "execution_count": null,
   "metadata": {
    "slideshow": {
     "slide_type": "slide"
    }
   },
   "outputs": [],
   "source": [
    "# Hierarchical http://scikit-learn.org/stable/modules/generated/sklearn.cluster.AgglomerativeClustering.html#sklearn.cluster.AgglomerativeClustering\n",
    "hierarchical = cluster.AgglomerativeClustering(n_clusters=3, linkage='average', affinity = 'euclidean')\n",
    "hierarchical.fit(X) # Lambat .... dan menggunakan banyak memori O(N^2 log(N))\n",
    "C_h = hierarchical.labels_.astype(np.int)\n",
    "\n",
    "sns.countplot(C_h)\n",
    "C_h[:10]"
   ]
  },
  {
   "cell_type": "code",
   "execution_count": null,
   "metadata": {},
   "outputs": [],
   "source": [
    "df['Hierarchical'] = C_h\n",
    "# Saving the Clustering results for future use/analysis\n",
    "df.to_csv(\"data/df_Module-06.csv\", encoding='utf8', index=False)\n",
    "# Plot the clustering result\n",
    "g = sns.pairplot(df[['sepal_length','sepal_width','petal_length','petal_width','Hierarchical']], \\\n",
    "                 hue=\"Hierarchical\", diag_kind=\"hist\", palette=\"tab10\")"
   ]
  },
  {
   "cell_type": "code",
   "execution_count": null,
   "metadata": {
    "slideshow": {
     "slide_type": "slide"
    }
   },
   "outputs": [],
   "source": [
    "# Dendogram Example\n",
    "# http://seaborn.pydata.org/generated/seaborn.clustermap.html\n",
    "g = sns.clustermap(X, method=\"average\", metric=\"euclidean\")"
   ]
  },
  {
   "cell_type": "code",
   "execution_count": null,
   "metadata": {
    "slideshow": {
     "slide_type": "slide"
    }
   },
   "outputs": [],
   "source": [
    "# Ilustrasi Jika Data tidak terlalu banyak\n",
    "N = 30 # sampel 30 record\n",
    "S = X.sample(N)\n",
    "Nama = [\"Bunga-\"+str(i) for i in range(N)]\n",
    "M = scipy.spatial.distance.pdist(S, 'euclidean')\n",
    "print(S.shape, M.shape)\n",
    "S.head()"
   ]
  },
  {
   "cell_type": "code",
   "execution_count": null,
   "metadata": {
    "slideshow": {
     "slide_type": "slide"
    }
   },
   "outputs": [],
   "source": [
    "plt.figure(figsize=(12, 16))\n",
    "dists = scipy.spatial.distance.squareform(M)\n",
    "Z = linkage(dists, \"average\")\n",
    "dendrogram(Z, labels=Nama, leaf_font_size=12, orientation='right')\n",
    "plt.title(\"Clustering Sampel Bunga Iris\")\n",
    "plt.show()"
   ]
  },
  {
   "cell_type": "markdown",
   "metadata": {
    "slideshow": {
     "slide_type": "slide"
    }
   },
   "source": [
    "# <center><font color=\"blue\">DBSCAN for Multivariate Outlier Detection</font></center>\n",
    "\n",
    "<img alt=\"\" src=\"images/5_DBSCAN.gif\"  style=\"height: 400px\"/>\n",
    "\n",
    "* Karena algoritma (cara kerjanya) ini maka DBSCAN sering digunakan untuk (multivariate) outlier detection."
   ]
  },
  {
   "cell_type": "markdown",
   "metadata": {
    "slideshow": {
     "slide_type": "slide"
    }
   },
   "source": [
    "<img alt=\"\" src=\"images/IV_DBSCAN.gif\"  style=\"height: 400px\"/>"
   ]
  },
  {
   "cell_type": "code",
   "execution_count": null,
   "metadata": {
    "slideshow": {
     "slide_type": "slide"
    }
   },
   "outputs": [],
   "source": [
    "# DBSCAN http://scikit-learn.org/stable/modules/generated/sklearn.cluster.DBSCAN.html\n",
    "# tidak membutuhkan input parameter k!!!... sangat bermanfaat untuk clustering data yang besar\n",
    "dbscan = cluster.DBSCAN(eps=0.625, min_samples=5, metric='euclidean')\n",
    "dbscan.fit(X)\n",
    "C_db = dbscan.labels_.astype(np.int)\n",
    "sns.countplot(C_db)\n",
    "C_db[:10]\n",
    "# apa makna cluster label -1?"
   ]
  },
  {
   "cell_type": "code",
   "execution_count": null,
   "metadata": {
    "slideshow": {
     "slide_type": "fragment"
    }
   },
   "outputs": [],
   "source": [
    "# Banyaknya outlier terdeteksi\n",
    "sum([1 for i in C_db if i==-1])"
   ]
  },
  {
   "cell_type": "code",
   "execution_count": null,
   "metadata": {
    "slideshow": {
     "slide_type": "slide"
    }
   },
   "outputs": [],
   "source": [
    "df['Dbscan'] = C_db\n",
    "# Saving the Clustering results for future use/analysis\n",
    "df.to_csv(\"data/df_Module-06.csv\", encoding='utf8', index=False)\n",
    "# Plot the clustering result\n",
    "g = sns.pairplot(df[['sepal_length','sepal_width','petal_length','petal_width','Dbscan']], \\\n",
    "                 hue=\"Dbscan\", diag_kind=\"hist\", palette=\"tab10\")"
   ]
  },
  {
   "cell_type": "markdown",
   "metadata": {
    "slideshow": {
     "slide_type": "slide"
    }
   },
   "source": [
    "# <center><font color=\"blue\">Evaluasi DBSCAN?</font></center>\n",
    "\n",
    "* Application-based ==> Outlier Detection\n",
    "* internal validation indice called DBCV by Moulavi et al. Paper is available here: https://epubs.siam.org/doi/pdf/10.1137/1.9781611973440.96 \n",
    "* Python package: https://github.com/christopherjenness/DBCV\n",
    "\n",
    "<img alt=\"\" src=\"images/dbcv.png\" />"
   ]
  },
  {
   "cell_type": "markdown",
   "metadata": {
    "slideshow": {
     "slide_type": "slide"
    }
   },
   "source": [
    "# <center><font color=\"blue\">Review Clustering</font></center>\n",
    "\n",
    "<img alt=\"\" src=\"images/5_clustering_benchmarks.png\" style=\"height:400px\" />"
   ]
  },
  {
   "cell_type": "markdown",
   "metadata": {
    "slideshow": {
     "slide_type": "slide"
    }
   },
   "source": [
    "# <center><font color=\"blue\">Clustering General Guideline</font></center>\n",
    "\n",
    "<img alt=\"\" src=\"images/5_Cluster_yg_mana.png\" style=\"height:400px; width:694px\" />"
   ]
  },
  {
   "cell_type": "markdown",
   "metadata": {
    "slideshow": {
     "slide_type": "slide"
    }
   },
   "source": [
    "# <center><font color=\"blue\">Representasi Cluster</font></center>\n",
    "\n",
    "<img src='images/Representasi_Cluster.PNG'  style=\"height: 400px\"/>\n",
    "* Sutanto, Taufik., & Nayak, R. (2018). Fine-grained document clustering via ranking and its application to social media analytics. Social Network Analysis and Mining, 8(1), 1-19."
   ]
  },
  {
   "cell_type": "markdown",
   "metadata": {},
   "source": [
    "# <center><font color=\"blue\">Catatan Clustering untuk Insight di Big Data</font></center>\n",
    "\n",
    "<img src='images/fcar.png'  style=\"height: 400px\"/>"
   ]
  },
  {
   "cell_type": "markdown",
   "metadata": {
    "slideshow": {
     "slide_type": "slide"
    }
   },
   "source": [
    "# <center><font color=\"blue\"> Studi Kasus (Latihan): Penggunaan Energi Gedung</font></center>\n",
    "\n",
    "<img alt=\"\" src=\"images/Ashrae-Energy-Prediction.jpg\" style=\"height: 200px;\" />\n",
    "\n",
    "<font color=\"green\"> Deskripsi</font>\n",
    "\n",
    "* Studi Kasus kali ini berasal dari Permasalahan Prediksi Penggunaan Energi Gedung dari PT Ashrae - American Society of Heating, Refrigerating and Air-Conditioning Engineers https://www.ashrae.org/about\n",
    "* Sebagai latihan studi kasus EDA kita hanya akan menggunakan sebagian dari data yang ada.\n",
    "* Data lengkap dan keterangan: https://www.kaggle.com/c/ashrae-energy-prediction/data\n",
    "* Data berupa 3 buah file CSV: Informasi Tentang Gedung, Penggunaan Energi Gedung, dan Cuaca.\n",
    "* Permasalahan utama dari kasus ini sebenarnya adalah forecasting/peramalan penggunaan energi. Akan tetapi di module 03 dan 04 ini kita hanya akan melakukan EDA pada data yang ada.\n",
    "* Hasil EDA ini kelak akan kita gunakan untuk melakukan analisis lebih lanjut.\n",
    "\n",
    "<font color=\"green\"> Metadata</font>\n",
    "\n",
    "* Variabel di Data Gedung \"**gd**\":\n",
    "    - site_id & building_id: id lokasi dan gedung\n",
    "    - primary_use: Peruntukan Gedung\n",
    "    - square_feet: Luas bangunan gedung\n",
    "    - year_built: Tahun pembuatan gedung\n",
    "    - floor_count: Banyaknya lantai yang ada di gedung.\n",
    "* Variabel di Data Energy Gedung \"**en**\" (selain building_id):\n",
    "    - meter\t: Jenis meter reading penggunaan energy gedung.\n",
    "    - timestamp\t: Waktu saat pengukuran (per-jam)\n",
    "    - meter_reading: Penggunaan energy.\n",
    "* Variabel di Data Cuaca \"**cu**\" (selain site_id & timestamp):\n",
    "    - air_temperature: suhu udara\n",
    "    - cloud_coverage: ukuran berawan\t\n",
    "    - dew_temperature: suhu dew (menbun?)\n",
    "    - precip_depth_1_hr: precipitation (banyaknya air dari langit, karena sebab apapun)\n",
    "    - sea_level_pressure: Tekanan permukaan laut.\t\n",
    "    - wind_direction & wind_speed: arah dan kecepatan angin"
   ]
  },
  {
   "cell_type": "markdown",
   "metadata": {
    "slideshow": {
     "slide_type": "slide"
    }
   },
   "source": [
    "# <center><font color=\"blue\"> Task</font></center>\n",
    "\n",
    "* **Task** pada studi kasus ini **berbeda** dengan sebelumnya, yaitu:\n",
    " - Lakukan pengelompokkan berdasarkan objek id_ gedung, sehingga kita mendapatkan ada \"k\" tipe penggunaan energy. \\\n",
    " - Pemilihan algoritma clustering-nya adalah bagian dari latihan ini.\n",
    " - Lakukan outlier detection menggunakan variabel penggunaan energi dan cuaca untuk mendapatkan penggunaan energi oleh suatu gedung yang berbeda dari kebanyakan gedung lainnya.\n",
    "* Petunjuk pengerjaan:\n",
    " - Lakukan aggregate data terlebih dahulu. Bentuk tabelnya sehingga kita memiliki tabel dengan informasi di setiap baris memuat id_ gedung, penggunaan energi (rata-rata), dan kolom-kolom di tabel cuaca (rata-rata)."
   ]
  },
  {
   "cell_type": "code",
   "execution_count": null,
   "metadata": {
    "slideshow": {
     "slide_type": "slide"
    }
   },
   "outputs": [],
   "source": [
    "file_00 = 'data/ashrae-energy_building_metadata.csv'\n",
    "file_01 = 'data/ashrae-energy_train_sample.csv'\n",
    "file_02 = 'data/ashrae-energy_weather_test.csv'\n",
    "try: # Running Locally, yakinkan \"file_\" berada di folder \"data\"\n",
    "    gd = pd.read_csv(file_00, error_bad_lines=False, low_memory = False, encoding='utf8') #gedung\n",
    "    en = pd.read_csv(file_01, error_bad_lines=False, low_memory = False, encoding='utf8') #energy\n",
    "    cu = pd.read_csv(file_02, error_bad_lines=False, low_memory = False, encoding='utf8') #cuaca\n",
    "except: # Running in Google Colab\n",
    "    !mkdir data\n",
    "    !wget -P data/ https://raw.githubusercontent.com/taudata-indonesia/ptpjb/master/data/ashrae-energy_building_metadata.csv\n",
    "    !wget -P data/ https://raw.githubusercontent.com/taudata-indonesia/ptpjb/master/data/ashrae-energy_train_sample.csv\n",
    "    !wget -P data/ https://raw.githubusercontent.com/taudata-indonesia/ptpjb/master/data/ashrae-energy_weather_test.csv\n",
    "    gd = pd.read_csv(file_00, error_bad_lines=False, low_memory = False, encoding='utf8') #gedung\n",
    "    en = pd.read_csv(file_01, error_bad_lines=False, low_memory = False, encoding='utf8') #energy\n",
    "    cu = pd.read_csv(file_02, error_bad_lines=False, low_memory = False, encoding='utf8') #cuaca\n",
    "\n",
    "print(\"Ukuran Data Gedung={}, Data Train={}, Data Weather={}\".format(gd.shape, en.shape, cu.shape))\n",
    "gd.head()"
   ]
  },
  {
   "cell_type": "code",
   "execution_count": null,
   "metadata": {},
   "outputs": [],
   "source": [
    "gd[\"primary_use\"].value_counts()"
   ]
  },
  {
   "cell_type": "code",
   "execution_count": null,
   "metadata": {},
   "outputs": [],
   "source": [
    "gd.describe(include=\"all\")"
   ]
  },
  {
   "cell_type": "code",
   "execution_count": null,
   "metadata": {},
   "outputs": [],
   "source": [
    "gd[\"building_id\"].value_counts()"
   ]
  },
  {
   "cell_type": "code",
   "execution_count": null,
   "metadata": {
    "slideshow": {
     "slide_type": "slide"
    }
   },
   "outputs": [],
   "source": [
    "cu.head()"
   ]
  },
  {
   "cell_type": "code",
   "execution_count": null,
   "metadata": {},
   "outputs": [],
   "source": [
    "cu.describe(include=\"all\")"
   ]
  },
  {
   "cell_type": "code",
   "execution_count": null,
   "metadata": {
    "slideshow": {
     "slide_type": "slide"
    }
   },
   "outputs": [],
   "source": [
    "en.head()"
   ]
  },
  {
   "cell_type": "code",
   "execution_count": null,
   "metadata": {},
   "outputs": [],
   "source": [
    "en.describe(include=\"all\")"
   ]
  },
  {
   "cell_type": "code",
   "execution_count": null,
   "metadata": {
    "slideshow": {
     "slide_type": "slide"
    }
   },
   "outputs": [],
   "source": [
    "# jawaban diberikan mulai dari cell ini, silahkan buat cell baru sesuai kebutuhan (alt+Enter)\n",
    "\n"
   ]
  },
  {
   "cell_type": "code",
   "execution_count": null,
   "metadata": {},
   "outputs": [],
   "source": []
  },
  {
   "cell_type": "markdown",
   "metadata": {},
   "source": [
    "# <center><font color=\"blue\"> Akhir Modul 06 - Advanced Clustering Analysis</font></center>\n",
    "\n",
    "<hr />\n",
    "<img alt=\"\" src=\"images/meme-cartoon/meme clustering.jpg\" style=\"height: 300px;\"/>"
   ]
  }
 ],
 "metadata": {
  "celltoolbar": "Slideshow",
  "kernelspec": {
   "display_name": "Python 3",
   "language": "python",
   "name": "python3"
  },
  "language_info": {
   "codemirror_mode": {
    "name": "ipython",
    "version": 3
   },
   "file_extension": ".py",
   "mimetype": "text/x-python",
   "name": "python",
   "nbconvert_exporter": "python",
   "pygments_lexer": "ipython3",
   "version": "3.6.13"
  },
  "latex_envs": {
   "LaTeX_envs_menu_present": true,
   "autoclose": false,
   "autocomplete": true,
   "bibliofile": "biblio.bib",
   "cite_by": "apalike",
   "current_citInitial": 1,
   "eqLabelWithNumbers": true,
   "eqNumInitial": 1,
   "hotkeys": {
    "equation": "Ctrl-E",
    "itemize": "Ctrl-I"
   },
   "labels_anchors": false,
   "latex_user_defs": false,
   "report_style_numbering": false,
   "user_envs_cfg": false
  }
 },
 "nbformat": 4,
 "nbformat_minor": 4
}
