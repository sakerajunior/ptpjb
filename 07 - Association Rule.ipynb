{
 "cells": [
  {
   "cell_type": "markdown",
   "metadata": {
    "slideshow": {
     "slide_type": "slide"
    }
   },
   "source": [
    "# <center><font color=\"green\"> https://bit.ly/ptpjb-2021-07</font><br><font color=\"blue\">07 - Association Rule/Market basket Analysis</font></center>\n",
    "\n",
    "<center><img alt=\"\" src=\"images/cover_ptpjb_2021.png\"/></center> \n",
    "\n",
    "## <center><font color=\"blue\">tau-data Indonesia</font><br>(C) Taufik Sutanto - 2021</center>\n",
    "<center><a href=\"https://tau-data.id\">https://tau-data.id</a> ~ <a href=\"mailto:taufik@tau-data.id\">taufik@tau-data.id</a></center>"
   ]
  },
  {
   "cell_type": "markdown",
   "metadata": {
    "slideshow": {
     "slide_type": "slide"
    }
   },
   "source": [
    "# <center><font color=\"blue\"> Outline Module 07: Association Rule/MBA</font></center>\n",
    "\n",
    "* Pendahuluan AR sebagai Model Rekomendasi\n",
    "* Items dan Item Set (Contoh)\n",
    "* Definisi formal AR metrics\n",
    "* Tantangan di AR\n",
    "* All Item Set (AIS) Algorithm\n",
    "* Apriori Algorithm\n",
    "\n",
    "<img alt=\"\" src=\"images/meme-cartoon/cartoon association rule emak belanja rekomendasi.JPG\" style=\"height: 300px;\"/>"
   ]
  },
  {
   "cell_type": "markdown",
   "metadata": {
    "slideshow": {
     "slide_type": "slide"
    }
   },
   "source": [
    "# <center><font color=\"blue\">Mengapa Association Rules ~ Market Basket Analysis Penting?</font></center>\n",
    "\n",
    "<img alt=\"\" src=\"images/ecommerce.jpg\" style=\"height: 200px;\"/>\n",
    "\n",
    "Di zaman industri 4.0 kita sering melihat industri marketplace yang berkembang di indonesia, baik marketplace yang customer-customer, bisnis-customer, bisnis-bisnis. Industri ini industri besar yang sangat berpengaruh dalam kehidupan masyarakat, baik online maupun ofline.\n",
    "\n",
    "1. Model rekomendasi seperti association rule (Market Basket data analysis) bisa digunakan untuk meningkatkan penjualan misalnya cross-marketing (untuk menjual lebih banyak barang), catalog design, sale campaign analysis (untuk marketing)\n",
    "2. Association rule bisa juga digunakan untuk Web log analysis, DNA sequence analysis, etc. Karena data nya berbentuk sekuensial.\n",
    "\n",
    "Image Source: \n",
    "- https://www.liputan6.com/tekno/read/2586238/pasar-online-indonesia-kian-tumbuh-ecommerce-berjaya\n",
    "- https://ginbusiness.wordpress.com/2016/02/27/jenis-e-commerce-di-indonesia/"
   ]
  },
  {
   "cell_type": "markdown",
   "metadata": {},
   "source": [
    "# <center><font color=\"blue\">Model Rekomendasi</font></center>\n",
    "\n",
    "<img alt=\"\" src=\"images/10_Rec.png\" style=\"height:400px; width:351px\" />\n",
    "\n",
    "Image Source: Noor Ifada, Trunojoyo University"
   ]
  },
  {
   "cell_type": "markdown",
   "metadata": {},
   "source": [
    "# <center><font color=\"blue\">Jenis Model Rekomendasi</font></center>\n",
    "\n",
    "<img alt=\"\" src=\"images/10_Rec_3.png\" style=\"height:300px; width:490px\" />\n",
    "\n",
    "Image Source: \n",
    "https://www.themarketingtechnologist.co/building-a-recommendation-engine-for-geek-setting-up-the-prerequisites-13/"
   ]
  },
  {
   "cell_type": "markdown",
   "metadata": {},
   "source": [
    "# <center><font color=\"blue\">Association Rules (AR) dalam satu paragraph</font></center>\n",
    "\n",
    "AR berusaha menemukan semua himpunan <strong>ITEM </strong>(<strong>ITEMSETS</strong>) yang memiliki <strong>SUPPORT </strong>lebih besar dari <strong>MINIMUM SUPPORT</strong>, kemudian menggunakan itemsets yang signifikan untuk menghasilkan <strong>RULES </strong>yang memiliki <strong>CONFIDENCE </strong>lebih besar dari suatu <strong>MINIMUM CONFIDENCE</strong>. Rules ini akan dinilai berharga (signifikan) berdasarkan nilai <strong>LIFT</strong>-nya. Aplikasi paling populer AR adalah <strong>Market Basket Analysis</strong> (MBA)."
   ]
  },
  {
   "cell_type": "markdown",
   "metadata": {},
   "source": [
    "# <center><font color=\"blue\">Items dan Itemsets</font></center>\n",
    "\n",
    "<ul>\n",
    "\t<li>Data AR berbentuk &quot;transaksi&quot;: himpunan itemsets yang masing-masing elemen himpunannya adalah items</li>\n",
    "\t<li>Items: Bread, Milk, Coke, dll</li>\n",
    "\t<li>Itemset: {Bread, Milk}</li>\n",
    "\t<li>Contoh transaksi pada suatu hari di sebuah toko:</li>\n",
    "</ul>\n",
    "\n",
    "<table>\n",
    "\t<thead>\n",
    "\t\t<tr>\n",
    "\t\t\t<th>TID</th>\n",
    "\t\t\t<th>Items</th>\n",
    "\t\t</tr>\n",
    "\t</thead>\n",
    "\t<tbody>\n",
    "\t\t<tr>\n",
    "\t\t\t<td>1</td>\n",
    "\t\t\t<td>Bread, Milk</td>\n",
    "\t\t</tr>\n",
    "\t\t<tr>\n",
    "\t\t\t<td>2</td>\n",
    "\t\t\t<td>Bread, Diaper, Beer, Eggs</td>\n",
    "\t\t</tr>\n",
    "\t\t<tr>\n",
    "\t\t\t<td>3</td>\n",
    "\t\t\t<td>Milk, Diaper, Beer, Coke</td>\n",
    "\t\t</tr>\n",
    "\t\t<tr>\n",
    "\t\t\t<td>4</td>\n",
    "\t\t\t<td>Bread, Milk, Diaper, Beer</td>\n",
    "\t\t</tr>\n",
    "\t\t<tr>\n",
    "\t\t\t<td>4</td>\n",
    "\t\t\t<td>Bread, Milk, Diaper, Coke</td>\n",
    "\t\t</tr>\n",
    "\t</tbody>\n",
    "</table>\n"
   ]
  },
  {
   "cell_type": "markdown",
   "metadata": {},
   "source": [
    "# <center><font color=\"blue\">Example Rule: Barbie® ==> Candy</font></center>\n",
    "\n",
    "<img alt=\"\" src=\"images/mba_knowledge_decisions.png\" style=\"height: 200px;\" />\n",
    "\n",
    "Rules are used in many marketing decisions such as:\n",
    "* Put them closer together in the store.\n",
    "* Put them far apart in the store.\n",
    "* Package candy bars with the dolls.\n",
    "* Package Barbie + candy + poorly selling item.\n",
    "* Raise the price on one, lower it on the other.\n",
    "* Barbie accessories for proofs of purchase.\n",
    "* Do not advertise candy and Barbie together.\n",
    "* Offer candies in the shape of a Barbie Doll."
   ]
  },
  {
   "cell_type": "markdown",
   "metadata": {},
   "source": [
    "# <center><font color=\"blue\">Secara Formal (Ringkasan Teori AR)</font></center>\n",
    "\n",
    "<ul>\n",
    "<li><strong>Item </strong>adalah elemen himpunan dari data, contoh:&nbsp;<span class=\"MathJax_Preview\" style=\"color: inherit;\"><span id=\"MJXp-Span-991\" class=\"MJXp-math\"><span id=\"MJXp-Span-993\" class=\"MJXp-mtext\">Milk</span><span id=\"MJXp-Span-994\" class=\"MJXp-mo\" style=\"margin-left: 0em; margin-right: 0.222em;\">,</span><span id=\"MJXp-Span-995\" class=\"MJXp-mtext\">Bread</span><span id=\"MJXp-Span-996\" class=\"MJXp-mo\" style=\"margin-left: 0em; margin-right: 0.222em;\">,</span><span id=\"MJXp-Span-997\" class=\"MJXp-mtext\">Eggs</span></span></span></li>\n",
    "<li><strong>Itemset </strong>adalah kemungkinan subset yang dibentuk dari item, contoh:&nbsp; <span class=\"MathJax_Preview\" style=\"color: inherit;\"><span id=\"MJXp-Span-991\" class=\"MJXp-math\"><span id=\"MJXp-Span-992\" class=\"MJXp-mo\" style=\"margin-left: 0em; margin-right: 0em;\">{</span><span id=\"MJXp-Span-993\" class=\"MJXp-mtext\">Milk</span><span id=\"MJXp-Span-994\" class=\"MJXp-mo\" style=\"margin-left: 0em; margin-right: 0.222em;\">,</span><span id=\"MJXp-Span-995\" class=\"MJXp-mtext\">Bread</span><span id=\"MJXp-Span-996\" class=\"MJXp-mo\" style=\"margin-left: 0em; margin-right: 0.222em;\">,</span><span id=\"MJXp-Span-997\" class=\"MJXp-mtext\">Eggs</span><span id=\"MJXp-Span-998\" class=\"MJXp-mo\" style=\"margin-left: 0em; margin-right: 0em;\">} atau {Milk, Eggs}</span></span></span>.</li>\n",
    "<li>Frekuensi kemunculan item atau itemset dalam data disebut <strong>Support</strong>:</li>\n",
    "<li>Jika support &gt; dari suatu nilai ambang (threshold) maka itemset tersebut disebut&nbsp;<strong><em>frequent itemset</em></strong>.</li>\n",
    "<li>Sebuah <strong>Rule </strong>berbentuk&nbsp;<span class=\"MathJax_Preview\" style=\"color: inherit;\"><span id=\"MJXp-Span-1033\" class=\"MJXp-math\"><span id=\"MJXp-Span-1034\" class=\"MJXp-mi MJXp-italic\">X</span><span id=\"MJXp-Span-1035\" class=\"MJXp-mo\" style=\"margin-left: 0.333em; margin-right: 0.333em;\">&rArr;</span><span id=\"MJXp-Span-1036\" class=\"MJXp-mi MJXp-italic\">Y</span></span></span> dimana&nbsp;<span class=\"MathJax_Preview\" style=\"color: inherit;\"><span id=\"MJXp-Span-1037\" class=\"MJXp-math\"><span id=\"MJXp-Span-1038\" class=\"MJXp-mi MJXp-italic\">X</span></span></span>&nbsp;(Antecedent) dan&nbsp;<span class=\"MathJax_Preview\" style=\"color: inherit;\"><span id=\"MJXp-Span-1039\" class=\"MJXp-math\"><span id=\"MJXp-Span-1040\" class=\"MJXp-mi MJXp-italic\">Y</span></span></span>&nbsp;(Consequent) adalah&nbsp;itemsets. Contoh:</li>\n",
    "<li><span class=\"MathJax_Preview\" style=\"color: inherit;\"><span id=\"MJXp-Span-1041\" class=\"MJXp-math MJXp-display\"><span id=\"MJXp-Span-1042\" class=\"MJXp-mo\" style=\"margin-left: 0em; margin-right: 0em;\">{</span><span id=\"MJXp-Span-1043\" class=\"MJXp-mtext\">Milk</span><span id=\"MJXp-Span-1044\" class=\"MJXp-mo\" style=\"margin-left: 0em; margin-right: 0.222em;\">,</span><span id=\"MJXp-Span-1045\" class=\"MJXp-mtext\">Diaper</span><span id=\"MJXp-Span-1046\" class=\"MJXp-mo\" style=\"margin-left: 0em; margin-right: 0em;\">}</span><span id=\"MJXp-Span-1047\" class=\"MJXp-mo\" style=\"margin-left: 0.333em; margin-right: 0.333em;\">&rArr;</span><span id=\"MJXp-Span-1048\" class=\"MJXp-mo\" style=\"margin-left: 0em; margin-right: 0em;\">{</span><span id=\"MJXp-Span-1049\" class=\"MJXp-mtext\">Beer</span><span id=\"MJXp-Span-1050\" class=\"MJXp-mo\" style=\"margin-left: 0em; margin-right: 0em;\">}</span></span></span></li>\n",
    "<li>S<em>upport</em> dari sebuah rule adalah banyaknya transaksi yang memuat X dan Y.</li>\n",
    "<li><span class=\"MathJax_Preview\" style=\"color: inherit;\"><span id=\"MJXp-Span-1055\" class=\"MJXp-math MJXp-display\"><span id=\"MJXp-Span-1056\" class=\"MJXp-mi MJXp-italic\">s</span><span id=\"MJXp-Span-1057\" class=\"MJXp-mo\" style=\"margin-left: 0em; margin-right: 0em;\">(</span><span id=\"MJXp-Span-1058\" class=\"MJXp-mi MJXp-italic\">X</span><span id=\"MJXp-Span-1059\" class=\"MJXp-mo\" style=\"margin-left: 0.333em; margin-right: 0.333em;\">&rArr;</span><span id=\"MJXp-Span-1060\" class=\"MJXp-mi MJXp-italic\">Y</span><span id=\"MJXp-Span-1061\" class=\"MJXp-mo\" style=\"margin-left: 0em; margin-right: 0em;\">)</span><span id=\"MJXp-Span-1062\" class=\"MJXp-mo\" style=\"margin-left: 0.333em; margin-right: 0.333em;\">=</span><span id=\"MJXp-Span-1063\" class=\"MJXp-mi MJXp-italic\">s</span><span id=\"MJXp-Span-1064\" class=\"MJXp-mo\" style=\"margin-left: 0em; margin-right: 0em;\">(</span><span id=\"MJXp-Span-1065\" class=\"MJXp-mi MJXp-italic\">X</span><span id=\"MJXp-Span-1066\" class=\"MJXp-mo\" style=\"margin-left: 0.267em; margin-right: 0.267em;\">&cup;</span><span id=\"MJXp-Span-1067\" class=\"MJXp-mi MJXp-italic\">Y</span><span id=\"MJXp-Span-1068\" class=\"MJXp-mo\" style=\"margin-left: 0em; margin-right: 0em;\">)</span></span></span></li>\n",
    "<li>Dalam association rule mining, kita ingin mencari Rules yang memiliki&nbsp;&nbsp;<em>support</em> and <em>confidence </em>yang signifikan.&nbsp;</li>\n",
    "<li>Nilai <em>expected confidence tak bersyarat&nbsp;</em>di AR disebut juga sebagai \"lift:\"</li>\n",
    "<li>Lift&lt;1 dianggap \"negatif\" (less than expected)<br />Lift = 1 : netral</li>\n",
    "<li>[\"lift\"] S. Brin, R. Motwani, J. D. Ullman, and S. Tsur. Dynamic itemset counting and implication rules for market basket data</li>\n",
    "</ul>"
   ]
  },
  {
   "cell_type": "markdown",
   "metadata": {
    "slideshow": {
     "slide_type": "slide"
    }
   },
   "source": [
    "# <center><font color=\"blue\">Rule, Support, Confidence, Lift by Example</font></center>\n",
    "\n",
    "<img alt=\"\" src=\"images/Rule_Lift_Support_Confidence.png\" style=\"width: 300px ; height: 181px\" />\n",
    "\n",
    "<img alt=\"\" src=\"images/Rule_Lift_Support_Confidence_example.png\" style=\"width: 300px; height: 222px;\" />\n",
    "\n",
    "Image Source: http://www.saedsayad.com/association_rules.htm"
   ]
  },
  {
   "cell_type": "markdown",
   "metadata": {},
   "source": [
    "<img alt=\"\" src=\"images/interesting_rules.png\" style=\"width: 600px; height: 280px;\" />"
   ]
  },
  {
   "cell_type": "markdown",
   "metadata": {},
   "source": [
    "# <center><font color=\"blue\">Algoritma Apriori</font></center>\n",
    "\n",
    "<ol>\n",
    "\t<li><font face=\"Calibri\">Candidate itemsets are generated using only the large itemsets of the previous pass without considering the transactions in the database.</font></li>\n",
    "\t<li><font face=\"Calibri\">The large itemset of the previous pass is joined with itself to generate all itemsets whose size is higher by 1.</font></li>\n",
    "\t<li><font face=\"Calibri\">Each generated itemset that has a subset which is not large is deleted. The remaining itemsets are the candidate ones.</font></li>\n",
    "</ol>\n",
    "\n",
    "<img alt=\"\" src=\"images/Apriori_Alg.png\" style=\"width: 600px; height: 379px;\" />\n",
    "\n",
    "* Image Source: http://www.saedsayad.com/association_rules.htm\n",
    "* Algoritma Lain: AIS, SETM Algorithm, AprioriTid Algorithm, AprioriHybrid Algorithm, dsb."
   ]
  },
  {
   "cell_type": "markdown",
   "metadata": {},
   "source": [
    "# <center><font color=\"blue\">Diskusi & Referensi:</font></center>\n",
    "\n",
    "## <font color=\"green\">Diskusi:</font>\n",
    "\n",
    "* Bagaimana jika item terlalu banyak macamnya ==> Bagaimana menanganinya?\n",
    "\n",
    "## <font color=\"green\">Referensi:</font>\n",
    "<dl>\n",
    "\t<dt>[1]: J. Han, J. Pei, Y. Yin, R. Mao.</dt>\n",
    "\t<dd>Mining Frequent Patterns without Candidate Generation: A Frequent-Pattern Tree Approach. 2004.<a href=\"https://www.cs.sfu.ca/~jpei/publications/dami03_fpgrowth.pdf\">https://www.cs.sfu.ca/~jpei/publications/dami03_fpgrowth.pdf</a></dd>\n",
    "\t<dt>[2]: R. Agrawal, C. Aggarwal, V. Prasad.</dt>\n",
    "\t<dd>Depth first generation of long patterns. 2000.&nbsp;<a href=\"http://www.cs.tau.ac.il/~fiat/dmsem03/Depth%20First%20Generation%20of%20Long%20Patterns%20-%202000.pdf\">http://www.cs.tau.ac.il/~fiat/dmsem03/Depth%20First%20Generation%20of%20Long%20Patterns%20-%202000.pdf</a></dd>\n",
    "\t<dt>[3]: R. Agrawal, et al.</dt>\n",
    "\t<dd>Fast Discovery of Association Rules. 1996.&nbsp;<a href=\"http://cs-people.bu.edu/evimaria/cs565/advances.pdf\">http://cs-people.bu.edu/evimaria/cs565/advances.pdf</a></dd>\n",
    "</dl>"
   ]
  },
  {
   "cell_type": "markdown",
   "metadata": {
    "slideshow": {
     "slide_type": "slide"
    }
   },
   "source": [
    "# <center><font color=\"blue\">Aplikasi Association Rules ~ Market Basket Analysis di Python</font></center>\n",
    "\n",
    "<img alt=\"\" src=\"images/ecommerce.jpg\" style=\"height: 200px;\"/>\n",
    "\n",
    "* Bisa juga melalui GUI Python-Orange (lebih mudah)."
   ]
  },
  {
   "cell_type": "code",
   "execution_count": null,
   "metadata": {
    "slideshow": {
     "slide_type": "subslide"
    }
   },
   "outputs": [],
   "source": [
    "!pip install pycaret mlxtend"
   ]
  },
  {
   "cell_type": "code",
   "execution_count": null,
   "metadata": {
    "slideshow": {
     "slide_type": "slide"
    }
   },
   "outputs": [],
   "source": [
    "import warnings; warnings.simplefilter('ignore')\n",
    "import pandas as pd, matplotlib.pyplot as plt, seaborn as sns\n",
    "from itertools import combinations\n",
    "from collections import Counter\n",
    "from mlxtend.frequent_patterns import apriori\n",
    "from mlxtend.frequent_patterns import association_rules\n",
    "from pycaret.arules import *\n",
    "\n",
    "%matplotlib inline\n",
    "plt.style.use('bmh'); sns.set()"
   ]
  },
  {
   "cell_type": "code",
   "execution_count": null,
   "metadata": {
    "slideshow": {
     "slide_type": "slide"
    }
   },
   "outputs": [],
   "source": [
    "# In Python\n",
    "T = [\n",
    " ('Bread', 'Milk'),\n",
    " ('Beer', 'Bread', 'Diaper', 'Eggs', 'Milk', 'Bread', 'Milk', 'Milk'),\n",
    " ('Beer', 'Coke', 'Diaper', 'Milk'),\n",
    " ('Beer', 'Bread', 'Diaper', 'Milk'),\n",
    " ('Bread', 'Coke', 'Diaper', 'Milk', 'Diaper'),\n",
    "]\n",
    "T"
   ]
  },
  {
   "cell_type": "code",
   "execution_count": null,
   "metadata": {
    "slideshow": {
     "slide_type": "slide"
    }
   },
   "outputs": [],
   "source": [
    "# Calculating item sets\n",
    "# Nostalgia Matematika Diskrit :)\n",
    "def subsets(S, k):\n",
    "    return [set(s) for s in combinations(S, k)]\n",
    "\n",
    "subsets({1, 2, 3, 7, 8}, 3)"
   ]
  },
  {
   "cell_type": "code",
   "execution_count": null,
   "metadata": {
    "slideshow": {
     "slide_type": "slide"
    }
   },
   "outputs": [],
   "source": [
    "# Calculating support\n",
    "Counter(T[1])"
   ]
  },
  {
   "cell_type": "code",
   "execution_count": null,
   "metadata": {
    "slideshow": {
     "slide_type": "slide"
    }
   },
   "outputs": [],
   "source": [
    "# Pertama-tama load Data\n",
    "file_ = 'data/Online_Retail.csv'\n",
    "try: # Running Locally, yakinkan \"file_\" berada di folder \"data\"\n",
    "    df = pd.read_csv(file_, error_bad_lines=False, low_memory = False, encoding='utf8')\n",
    "except: # Running in Google Colab\n",
    "    !mkdir data\n",
    "    !wget -P data/ https://raw.githubusercontent.com/taudata-indonesia/eLearning/master/{file_}\n",
    "    df = pd.read_csv(file_, error_bad_lines=False, low_memory = False, encoding='utf8')\n",
    "    \n",
    "N, P = df.shape # Ukuran Data\n",
    "print('baris = ', N, ', Kolom (jumlah variabel) = ', P)\n",
    "print(\"Tipe Variabe df = \", type(df))\n",
    "df.head()"
   ]
  },
  {
   "cell_type": "code",
   "execution_count": null,
   "metadata": {
    "slideshow": {
     "slide_type": "slide"
    }
   },
   "outputs": [],
   "source": [
    "# Preprocessing\n",
    "df['Description'] = df['Description'].str.lower().str.strip() # remove spasi & lowercase\n",
    "df.dropna(axis=0, subset=['InvoiceNo'], inplace=True) # delete rows with no invoice no\n",
    "df['InvoiceNo'] = df['InvoiceNo'].astype('str') # Change data type\n",
    "df = df[~df['InvoiceNo'].str.contains('c')] # remove invoice with C in it (domain Knowledge)\n",
    "df.head()"
   ]
  },
  {
   "cell_type": "code",
   "execution_count": null,
   "metadata": {
    "slideshow": {
     "slide_type": "slide"
    }
   },
   "outputs": [],
   "source": [
    "filter_ = {'pls', 'plas'}\n",
    "for f in filter_:\n",
    "    df = df[~df['InvoiceNo'].str.contains(f)] # filtering invoice"
   ]
  },
  {
   "cell_type": "code",
   "execution_count": null,
   "metadata": {
    "slideshow": {
     "slide_type": "slide"
    }
   },
   "outputs": [],
   "source": [
    "print(set(df['Country']))"
   ]
  },
  {
   "cell_type": "code",
   "execution_count": null,
   "metadata": {
    "slideshow": {
     "slide_type": "slide"
    }
   },
   "outputs": [],
   "source": [
    "# Filter lebih lanjut hanya memilih transaksi di Australia\n",
    "basket = df[df['Country'] ==\"Australia\"]\n",
    "basket.head()"
   ]
  },
  {
   "cell_type": "code",
   "execution_count": null,
   "metadata": {
    "slideshow": {
     "slide_type": "slide"
    }
   },
   "outputs": [],
   "source": [
    "# Group the transaction\n",
    "basket = basket.groupby(['InvoiceNo', 'Description'])['Quantity']\n",
    "basket.head()"
   ]
  },
  {
   "cell_type": "code",
   "execution_count": null,
   "metadata": {
    "slideshow": {
     "slide_type": "slide"
    }
   },
   "outputs": [],
   "source": [
    "# Jumlahkan, unstack, Null=0, index baris menggunakan Nomer Invoice\n",
    "basket = basket.sum().unstack().reset_index().fillna(0).set_index('InvoiceNo')\n",
    "basket.head()"
   ]
  },
  {
   "cell_type": "code",
   "execution_count": null,
   "metadata": {
    "slideshow": {
     "slide_type": "slide"
    }
   },
   "outputs": [],
   "source": [
    "def encode_units(x):\n",
    "    if x <= 0:\n",
    "        return 0\n",
    "    if x >= 1:\n",
    "        return 1\n",
    "\n",
    "basket_sets = basket.applymap(encode_units) # one-hot encoding\n",
    "basket_sets.head()"
   ]
  },
  {
   "cell_type": "markdown",
   "metadata": {
    "slideshow": {
     "slide_type": "slide"
    }
   },
   "source": [
    "## Understanding the Data Structure"
   ]
  },
  {
   "cell_type": "code",
   "execution_count": null,
   "metadata": {
    "slideshow": {
     "slide_type": "slide"
    }
   },
   "outputs": [],
   "source": [
    "basket_sets.columns"
   ]
  },
  {
   "cell_type": "code",
   "execution_count": null,
   "metadata": {
    "slideshow": {
     "slide_type": "slide"
    }
   },
   "outputs": [],
   "source": [
    "basket_sets.index"
   ]
  },
  {
   "cell_type": "code",
   "execution_count": null,
   "metadata": {
    "slideshow": {
     "slide_type": "slide"
    }
   },
   "outputs": [],
   "source": [
    "basket_sets.iloc[0]"
   ]
  },
  {
   "cell_type": "code",
   "execution_count": null,
   "metadata": {
    "slideshow": {
     "slide_type": "slide"
    }
   },
   "outputs": [],
   "source": [
    "basket_sets.iloc[0].sum()"
   ]
  },
  {
   "cell_type": "code",
   "execution_count": null,
   "metadata": {
    "slideshow": {
     "slide_type": "slide"
    }
   },
   "outputs": [],
   "source": [
    "frequent_itemsets = apriori(basket_sets, min_support=0.07, use_colnames=True)\n",
    "frequent_itemsets.sort_values(by='support', ascending=False, na_position='last', inplace = True)\n",
    "frequent_itemsets"
   ]
  },
  {
   "cell_type": "code",
   "execution_count": null,
   "metadata": {
    "slideshow": {
     "slide_type": "slide"
    }
   },
   "outputs": [],
   "source": [
    "rules = association_rules(frequent_itemsets, metric=\"lift\", min_threshold=1)\n",
    "rules.sort_values(by='lift', ascending=False, na_position='last', inplace = True)\n",
    "rules.head(5)"
   ]
  },
  {
   "cell_type": "code",
   "execution_count": null,
   "metadata": {
    "slideshow": {
     "slide_type": "slide"
    }
   },
   "outputs": [],
   "source": [
    "# Filtering\n",
    "rules[ (rules['lift'] >= 6) & (rules['confidence'] >= 0.8) ]"
   ]
  },
  {
   "cell_type": "markdown",
   "metadata": {
    "slideshow": {
     "slide_type": "slide"
    }
   },
   "source": [
    "# <center><font color=\"blue\"> Akhir Modul 07 - Association Rule</font></center>\n",
    "\n",
    "<hr />\n",
    "<img alt=\"\" src=\"images/meme-cartoon/10_recommendation_joke.jpg\" style=\"height: 300px;\"/>"
   ]
  }
 ],
 "metadata": {
  "celltoolbar": "Slideshow",
  "kernelspec": {
   "display_name": "Python 3",
   "language": "python",
   "name": "python3"
  },
  "language_info": {
   "codemirror_mode": {
    "name": "ipython",
    "version": 3
   },
   "file_extension": ".py",
   "mimetype": "text/x-python",
   "name": "python",
   "nbconvert_exporter": "python",
   "pygments_lexer": "ipython3",
   "version": "3.6.13"
  },
  "latex_envs": {
   "LaTeX_envs_menu_present": true,
   "autoclose": false,
   "autocomplete": true,
   "bibliofile": "biblio.bib",
   "cite_by": "apalike",
   "current_citInitial": 1,
   "eqLabelWithNumbers": true,
   "eqNumInitial": 1,
   "hotkeys": {
    "equation": "Ctrl-E",
    "itemize": "Ctrl-I"
   },
   "labels_anchors": false,
   "latex_user_defs": false,
   "report_style_numbering": false,
   "user_envs_cfg": false
  }
 },
 "nbformat": 4,
 "nbformat_minor": 4
}
