{
 "cells": [
  {
   "cell_type": "markdown",
   "metadata": {
    "slideshow": {
     "slide_type": "slide"
    }
   },
   "source": [
    "# <center><font color=\"green\"> https://bit.ly/ptpjb-2021-08</font><br><font color=\"blue\">08 - Regression Analysis</font></center>\n",
    "\n",
    "<center><img alt=\"\" src=\"images/cover_ptpjb_2021.png\"/></center> \n",
    "\n",
    "## <center><font color=\"blue\">tau-data Indonesia</font><br>(C) Taufik Sutanto - 2021</center>\n",
    "<center><a href=\"https://tau-data.id\">https://tau-data.id</a> ~ <a href=\"mailto:taufik@tau-data.id\">taufik@tau-data.id</a></center>"
   ]
  },
  {
   "cell_type": "markdown",
   "metadata": {
    "slideshow": {
     "slide_type": "slide"
    }
   },
   "source": [
    "# <center><font color=\"blue\"> Outline - Regression Analysis</font></center>\n",
    "\n",
    "* Pengantar ke Predictive Modelling\n",
    "* Korelasi\n",
    "* Regresi\n",
    "* Evaluasi dan Interpretasi Model Regresi\n",
    "* Regresi Logistik\n",
    "* Evaluasi dan Interpretasi Model Klasifikasi"
   ]
  },
  {
   "cell_type": "markdown",
   "metadata": {
    "slideshow": {
     "slide_type": "slide"
    }
   },
   "source": [
    "# <center><font color=\"blue\">Pendahuluan Model Regresi</font></center>\n",
    "\n",
    "* Digunakan saat variabel tak bebas (**Dependent variable** - Y) bertipe **numerik** (float/real) dan variabel bebasnya bisa numerik dan-atau kategorik\n",
    "\n",
    "<img alt=\"\" src=\"images/Supervised_Methods.png\" style=\"height: 350px;\"/>"
   ]
  },
  {
   "cell_type": "markdown",
   "metadata": {
    "slideshow": {
     "slide_type": "slide"
    }
   },
   "source": [
    "# <center><font color=\"blue\">Berawal dari Pusat data dan Variansi</font></center>\n",
    "\n",
    "<p style=\"text-align:center;font-size:24px\">$\\bar{x}=\\sum_{i=1}^{N}{x_i}$ dan $s^2=\\frac{\\sum_{i=1}^{N}{(x_i-\\bar{x})}}{N-1}$ </p>\n",
    "\n",
    "* Perhatikan makna rumus/formula variansi, lalu bandingkan dengan formula \"covariansi\" berikut:"
   ]
  },
  {
   "cell_type": "markdown",
   "metadata": {
    "slideshow": {
     "slide_type": "slide"
    }
   },
   "source": [
    "# <center><font color=\"blue\">Variance ke Covariance: Menghitung Hubungan Linear antara 2 variabel</font></center>\n",
    "\n",
    "- How? Bagaimana cara kerjanya? (Statistical Thinking)\n",
    "- Konsepnya: \"Co-Vary\" sama-sama bervariansi menjauh dari rata-rata.\n",
    "- Gunakan \"reverse\" thinking untuk memahaminya.\n",
    "- Penggunaan: cov(x,y) = 2 VS cov(x,y) = -2 VS Cov(x,y) = 0\n",
    "- Covariance = 3000? Apa artinya?\n",
    "\n",
    "<img src=\"images/covariance.png\" style=\"height: 75px;\"/>"
   ]
  },
  {
   "cell_type": "markdown",
   "metadata": {
    "slideshow": {
     "slide_type": "slide"
    }
   },
   "source": [
    "# <center><font color=\"blue\">Covariance ke korelasi: Statistical Thinking</font></center>\n",
    "\n",
    "- Korelasi sebenarnya adalah Covariance dibagi dengan masing-masing standar deviasinya.\n",
    "- Apa maksud/maknanya?\n",
    "- Covariance punya makna geometric .... ia adalah Cosine!... \n",
    "https://en.wikipedia.org/wiki/Pearson_correlation_coefficient#Geometric_interpretation\n",
    "\n",
    "<img src=\"images/korelasi_pearson_formulae.png\" style=\"height: 100px;\"/>"
   ]
  },
  {
   "cell_type": "markdown",
   "metadata": {
    "slideshow": {
     "slide_type": "slide"
    }
   },
   "source": [
    "# <center><font color=\"blue\">Nilai koefisien korelasi (Linear) \"Pearson\"</font></center>\n",
    "\n",
    "- Nilai dari koefisien korelasi Pearson adalah dari -1 hingga +1\n",
    "\n",
    "<img src=\"images/korelasi_pearson_01.png\" width =\"400\"/>\n",
    "\n",
    "### Hati-hati\n",
    "\n",
    "- Koefisien korelasi = 0 bukan berarti tidak ada hubungan antara kedua variable. Yang benar adalah: tidak ada hubungan LINIER, tapi bisa jadi ada hubungan dalam bentuk lain; misal: kuadratik, atau fungsi lain selain linier, seperti pada contoh di atas."
   ]
  },
  {
   "cell_type": "markdown",
   "metadata": {
    "slideshow": {
     "slide_type": "slide"
    }
   },
   "source": [
    "# <center><font color=\"blue\">Korelasi dan Sebab-Akibat</font></center>\n",
    "\n",
    "<img src=\"images/meme-cartoon/corr_causation_meme.jpg\"  width =\"400\"/>\n",
    "\n",
    "* Semua orang yang minum air putih mati"
   ]
  },
  {
   "cell_type": "markdown",
   "metadata": {
    "slideshow": {
     "slide_type": "slide"
    }
   },
   "source": [
    "# <center><font color=\"blue\">Penilaian Kualitatif terhadap nilai korelasi seperti ini? ... Really? Why? Why not?</font></center>\n",
    "\n",
    "<img src=\"images/Corr_interpretation.png\" width =\"400\"/>\n",
    "\n",
    "- image Source: https://spencermath.weebly.com/home/interpreting-the-correlation-coefficient\n",
    "- Cases (social, medicine, etc)\n",
    "- Objective, prediction vs insights"
   ]
  },
  {
   "cell_type": "markdown",
   "metadata": {
    "slideshow": {
     "slide_type": "slide"
    }
   },
   "source": [
    "# <center><font color=\"blue\">Contoh kasus sederhana</font></center>\n",
    "\n",
    "<img src=\"images/contoh_korelasi.png\" width =\"400\"/>"
   ]
  },
  {
   "cell_type": "code",
   "execution_count": 1,
   "metadata": {
    "slideshow": {
     "slide_type": "slide"
    }
   },
   "outputs": [
    {
     "data": {
      "text/plain": [
       "'Done'"
      ]
     },
     "execution_count": 1,
     "metadata": {},
     "output_type": "execute_result"
    }
   ],
   "source": [
    "import warnings; warnings.simplefilter('ignore')\n",
    "import pandas as pd, seaborn as sns, matplotlib.pyplot as plt, numpy as np\n",
    "import statsmodels.formula.api as smf\n",
    "from statsmodels.formula.api import ols\n",
    "import statsmodels.api as sm, scipy.stats as stats\n",
    "import statsmodels.api as sm\n",
    "from statsmodels.formula.api import ols\n",
    "import statsmodels.formula.api as smf\n",
    "from sklearn.datasets import load_boston\n",
    "from sklearn.preprocessing import MinMaxScaler\n",
    "plt.style.use('bmh'); sns.set()\n",
    "\"Done\""
   ]
  },
  {
   "cell_type": "code",
   "execution_count": null,
   "metadata": {
    "slideshow": {
     "slide_type": "slide"
    }
   },
   "outputs": [],
   "source": [
    "data = {'usia':[40, 45, 50, 53, 60, 65, 69, 71], 'tekanan_darah':[126, 124, 135, 138, 142, 139, 140, 151]}\n",
    "df = pd.DataFrame.from_dict(data)\n",
    "df.head(8)"
   ]
  },
  {
   "cell_type": "code",
   "execution_count": null,
   "metadata": {
    "slideshow": {
     "slide_type": "slide"
    }
   },
   "outputs": [],
   "source": [
    "# Korelasi dan Scatter Plot untuk melihat datanya\n",
    "print('Covariance = ', np.cov(df.usia, df.tekanan_darah, ddof=0)[0][1])\n",
    "print('Correlations = ', np.corrcoef(df.usia, df.tekanan_darah))\n",
    "plt.scatter(df.usia, df.tekanan_darah)\n",
    "plt.show()"
   ]
  },
  {
   "cell_type": "code",
   "execution_count": null,
   "metadata": {
    "slideshow": {
     "slide_type": "slide"
    }
   },
   "outputs": [],
   "source": [
    "# Better\n",
    "print(df.corr())\n",
    "sns.heatmap(df.corr(),cmap='viridis', vmax=1.0, vmin=-1.0, linewidths=0.1,annot=True, annot_kws={\"size\": 16}, square=True)\n",
    "p = sns.pairplot(df)"
   ]
  },
  {
   "cell_type": "markdown",
   "metadata": {
    "slideshow": {
     "slide_type": "slide"
    }
   },
   "source": [
    "# <center><font color=\"blue\">Interpretasi</font></center>\n",
    "\n",
    "- Nilai ~0.95 menunjukkan bahwa ada korelasi linier positif yang kuat antara usia dan tekanan darah. Ada kecenderungan bahwa usia tinggi berkaitan dengan tekanan darah yang kebih tinggi dibandingkan usia rendah.\n",
    "- **WARNING**\n",
    "- **Korelasi tidak sama (meng-implikasikan) dengan sebab akibat**. Perhatikan interpretasi di atas. Tidak dinyatakan bahwa jika usia tinggi maka tekanan darah rendah, hanya suatu tren atau kecenderungan. Mungkin saja usia dengan bertambahnya usia maka tekanan darah meningkat, tapi mungkin juga tekanan darah tinggi bukan karena usia, tapi faktor lain yang tidak teramati pada data.\n",
    "\n",
    "- Contoh lain penelitian di Machine learning (kecantikan dan confidence/Panjang Jari dan IQ)\n",
    "\n",
    "## WARNING\n",
    "- Korelasi tidak sama dengan sebab akibat. Perhatikan interpretasi di atas. Tidak dinyatakan bahwa jika usia tinggi maka tekanan darah rendah, hanya suatu tren atau kecenderungan. Mungkin saja usia dengan bertambahnya usia maka tekanan darah meningkat, tapi mungkin juga tekanan darah tinggi bukan karena usia, tapi faktor lain yang tidak teramati pada data.\n",
    "\n",
    "- Sampai sini kita memahami kalau keduanya berhubungan, tapi seperti apa hubungannya kita masih belum bisa ketahui (lewat korelasi). Itulah Mengapa kita perlu Model Regresi."
   ]
  },
  {
   "cell_type": "markdown",
   "metadata": {
    "slideshow": {
     "slide_type": "slide"
    }
   },
   "source": [
    "# <center><font color=\"blue\">Regresi Linier Sederhana</font></center>\n",
    "\n",
    "<img src=\"images/Reg_sederhana_01.png\" width =\"600\"/>"
   ]
  },
  {
   "cell_type": "markdown",
   "metadata": {
    "slideshow": {
     "slide_type": "slide"
    }
   },
   "source": [
    "# <center><font color=\"blue\">Korelasi ke Regresi</font></center>\n",
    "\n",
    "<img src=\"images/reg_eq.png\" width =\"600\"/>"
   ]
  },
  {
   "cell_type": "markdown",
   "metadata": {
    "slideshow": {
     "slide_type": "slide"
    }
   },
   "source": [
    "# <center><font color=\"blue\">Bagaimana menghitung parameter Regresi yang Optimal?</font></center>\n",
    "\n",
    "* Kenapa rumusnya seperti ini?\n",
    "* Pentingnya memahami \"Loss Function\"\n",
    "\n",
    "<img src=\"images/regression.png\" width =\"600\"/>"
   ]
  },
  {
   "cell_type": "markdown",
   "metadata": {
    "slideshow": {
     "slide_type": "slide"
    }
   },
   "source": [
    "# <center><font color=\"blue\">Evaluasi Error (Mean Squared Error)</font></center>\n",
    "\n",
    "<img src=\"images/mse_regresi.png\" width =\"400\"/>\n",
    "\n",
    "- Hati-hati,... perhatikan rumusnya dengan baik .... ia tidak robust terhadap outlier\n",
    "- $\\hat{y}=β_0+β_1x_1+...+β_nx_p$\n",
    "- MSE = total jarak/selisih antara prediksi dan nilai dari data (sesungguhnya)\n",
    "- RMSE = $\\sqrt{MSE}$ ... why?\n",
    "- Evaluasi penting ketika kita ingin melakukan prediksi"
   ]
  },
  {
   "cell_type": "markdown",
   "metadata": {
    "slideshow": {
     "slide_type": "slide"
    }
   },
   "source": [
    "# <center><font color=\"blue\">Bahas sebentar pentingnya memahami \"Loss Function\"</font></center>\n",
    "\n",
    "- Persamaan/Model Linier adalah dasar terpenting di Statistika, Data Science, Machine Learning, dan Deep Learning (*).\n",
    "- Banyak model di (*) sebenarnya adalah fungsi linier, bahkan di masalah klasifikasi.\n",
    "- Yang membedakan adalah \"pemodelan/optimasi masalah/Loss Functionnya\"\n",
    "\n",
    "<img src=\"images/linear_functions_machine_learning.png\" width =\"800\"/>\n"
   ]
  },
  {
   "cell_type": "code",
   "execution_count": null,
   "metadata": {
    "id": "GZNq6ScOzXyL",
    "outputId": "e56c2c54-fa3b-4570-e20b-f9f8028ddb60",
    "slideshow": {
     "slide_type": "slide"
    }
   },
   "outputs": [],
   "source": [
    "# Fitting model Regresi Sederhana\n",
    "lm = smf.ols(\"tekanan_darah ~ usia\", data=df[['tekanan_darah','usia']]).fit()\n",
    "lm.summary()\n",
    "# 1. F-Stat. \n",
    "#.2. Uji Koef model\n",
    "#.3. R^2\n",
    "#.4. Interpretasi Model\n",
    "#.5. Durbin-Watson ==> Time Series?"
   ]
  },
  {
   "cell_type": "code",
   "execution_count": null,
   "metadata": {
    "id": "n8Vcu2w_zXyM",
    "outputId": "a5a9b056-e7e3-441c-9ada-38d01452809d",
    "slideshow": {
     "slide_type": "slide"
    }
   },
   "outputs": [],
   "source": [
    "# Plot the Data\n",
    "p = sns.regplot(df.usia, df.tekanan_darah)"
   ]
  },
  {
   "cell_type": "markdown",
   "metadata": {
    "slideshow": {
     "slide_type": "slide"
    }
   },
   "source": [
    "# <center><font color=\"blue\">Evaluasi $R^2$: Model VS Tidak Pakai Model?</font></center>\n",
    "\n",
    "<img src=\"images/R_Square.png\" width =\"500\"/>\n",
    "\n",
    "- **$SSR=SST-SSE=\\sum{(y_i-\\bar{y}_i)^2}-\\sum{(y_i-\\hat{y}_i)^2}$**\n"
   ]
  },
  {
   "cell_type": "markdown",
   "metadata": {
    "slideshow": {
     "slide_type": "slide"
    }
   },
   "source": [
    "# <center><font color=\"blue\">Adjusted R-Squared? Why?</font></center>\n",
    "\n",
    "<img src=\"images/Adjusted_R_Squared.png\" width =\"400\"/>"
   ]
  },
  {
   "cell_type": "markdown",
   "metadata": {
    "slideshow": {
     "slide_type": "slide"
    }
   },
   "source": [
    "# <center><font color=\"blue\">Pengaruh Variabel Tak Bebas ke Model</font></center>\n",
    "\n",
    "<img src=\"images/sig_var_di_Regresi.png\" width =\"500\"/>"
   ]
  },
  {
   "cell_type": "markdown",
   "metadata": {
    "slideshow": {
     "slide_type": "slide"
    }
   },
   "source": [
    "# <center><font color=\"blue\">All Models Are Wrong</font></center>\n",
    "\n",
    "<img src=\"images/08. George Box.png\"  width =\"500\"/>\n",
    "\n",
    "* Perfect/true-best model tidak ada, bahkan seringnya tidak diperlukan"
   ]
  },
  {
   "cell_type": "markdown",
   "metadata": {
    "slideshow": {
     "slide_type": "slide"
    }
   },
   "source": [
    "# <center><font color=\"blue\">Induktif Bias Sebagai Dasar Penting untuk Mengerti model Data Science dan Machine Learning</font></center>\n",
    "\n",
    "<img src=\"images/inductive_biases.png\" width =\"500\"/>\n",
    "\n",
    "image source: https://sgfin.github.io/2020/06/22/Induction-Intro/"
   ]
  },
  {
   "cell_type": "markdown",
   "metadata": {
    "slideshow": {
     "slide_type": "slide"
    }
   },
   "source": [
    "<img src=\"images/reg_types.png\" width =\"600\"/>\n",
    "\n",
    "* image source: https://www.slideshare.net/mahakvijay3/basics-of-regression-analysis"
   ]
  },
  {
   "cell_type": "markdown",
   "metadata": {
    "slideshow": {
     "slide_type": "slide"
    }
   },
   "source": [
    "# <center><font color=\"blue\">Regresi Non-Linier</font></center>\n",
    "\n",
    "* Why?\n",
    "* Kapan tidak disarankan menambah kompleksitas model?\n",
    "* Regression for insights VS regression for prediction.\n",
    "* Masih linear terhadap parameter\n",
    "\n",
    "<img src=\"images/linearisasi_regresi.png\" width =\"500\"/>\n",
    "\n",
    "* image source: https://sites.google.com/site/apphysics1online/appendices/2-data-analysis/graph-linearization"
   ]
  },
  {
   "cell_type": "code",
   "execution_count": null,
   "metadata": {
    "id": "IaZtCiOWzXyN",
    "outputId": "fd79c483-a4b1-4644-db22-d286cea50db0",
    "slideshow": {
     "slide_type": "slide"
    }
   },
   "outputs": [],
   "source": [
    "# Loading Data Sampel dari Modul\n",
    "dta = sm.datasets.get_rdataset(\"Guerry\", \"HistData\", cache=True)\n",
    "df = dta.data[['Lottery', 'Literacy', 'Wealth', 'Region']].dropna()\n",
    "df.head(), df.shape, set(df['Region'])"
   ]
  },
  {
   "cell_type": "code",
   "execution_count": null,
   "metadata": {
    "id": "ty_OQCVFzXyP",
    "outputId": "2a7923e0-bdc5-4550-b42e-bc3817bb90d5",
    "slideshow": {
     "slide_type": "slide"
    }
   },
   "outputs": [],
   "source": [
    "# Set \"Region\" sebagai variabel Kategorik\n",
    "res = ols(formula='Lottery ~ Literacy + Wealth + C(Region)', data=df).fit()\n",
    "print(res.params)\n",
    "print(res.summary())"
   ]
  },
  {
   "cell_type": "code",
   "execution_count": null,
   "metadata": {
    "id": "s79ot1_TzXyS",
    "outputId": "bc5af985-533d-4897-afca-23a4f65c31a1",
    "slideshow": {
     "slide_type": "slide"
    }
   },
   "outputs": [],
   "source": [
    "# Non Linear transformation\n",
    "res = smf.ols(formula='Lottery ~ np.log(Literacy) + Wealth -1', data=df).fit()\n",
    "print(res.summary())"
   ]
  },
  {
   "cell_type": "markdown",
   "metadata": {
    "slideshow": {
     "slide_type": "slide"
    }
   },
   "source": [
    "# <center><font color=\"blue\">Studi Kasus (Boston House Pricing) - Another Property Case Study</font></center>\n",
    "\n",
    "* Source: https://scikit-learn.org/stable/modules/generated/sklearn.datasets.load_boston.html\n",
    "\n",
    "<img src=\"images/boston_housing.jpg\" width =\"400\"/>"
   ]
  },
  {
   "cell_type": "code",
   "execution_count": null,
   "metadata": {
    "id": "z5UUL37JzXyT",
    "outputId": "b017384a-e9ab-4289-c098-a0ad51ff5c83",
    "slideshow": {
     "slide_type": "slide"
    }
   },
   "outputs": [],
   "source": [
    "# Loading Data\n",
    "boston = load_boston()\n",
    "# Convert ke Pandas Dataframe\n",
    "bos = pd.DataFrame(boston.data)\n",
    "bos.columns = boston.feature_names\n",
    "bos['PRICE'] = boston.target\n",
    "bos.head()"
   ]
  },
  {
   "cell_type": "code",
   "execution_count": null,
   "metadata": {
    "id": "wEJ_t-9OzXyU",
    "outputId": "a8d78188-4a51-4261-a968-32ead83a51a7",
    "slideshow": {
     "slide_type": "slide"
    }
   },
   "outputs": [],
   "source": [
    "# Deskripsi Data\n",
    "print(boston.DESCR)"
   ]
  },
  {
   "cell_type": "code",
   "execution_count": null,
   "metadata": {
    "id": "ukGkPtOzzXyU",
    "outputId": "e2119d00-0333-44a2-c584-95c885ceb05e",
    "slideshow": {
     "slide_type": "slide"
    }
   },
   "outputs": [],
   "source": [
    "bos.describe(include='all')"
   ]
  },
  {
   "cell_type": "code",
   "execution_count": null,
   "metadata": {
    "id": "rt8hESOKzXyV",
    "outputId": "10407b2e-696a-47e1-9022-b3fe5b16d043",
    "slideshow": {
     "slide_type": "slide"
    }
   },
   "outputs": [],
   "source": [
    "p = sns.pairplot(bos)"
   ]
  },
  {
   "cell_type": "markdown",
   "metadata": {
    "id": "FHP0kp-IzXyW",
    "slideshow": {
     "slide_type": "slide"
    }
   },
   "source": [
    "# <center><font color=\"blue\">Checking Correlations between Predictors</font></center>"
   ]
  },
  {
   "cell_type": "code",
   "execution_count": null,
   "metadata": {
    "id": "PvM3nELKzXyW",
    "outputId": "274cf982-38ff-4021-b935-959d024d30b6",
    "slideshow": {
     "slide_type": "slide"
    }
   },
   "outputs": [],
   "source": [
    "# HeatMap untuk menyelidiki korelasi\n",
    "corr2 = bos.corr() # We already examined SalePrice correlations\n",
    "plt.figure(figsize=(12, 10))\n",
    "\n",
    "sns.heatmap(corr2[(corr2 >= 0.5) | (corr2 <= -0.4)], \n",
    "            cmap='viridis', vmax=1.0, vmin=-1.0, linewidths=0.1,\n",
    "            annot=True, annot_kws={\"size\": 8}, square=True);"
   ]
  },
  {
   "cell_type": "code",
   "execution_count": null,
   "metadata": {
    "id": "--H_PEYizXyW",
    "outputId": "01107e89-4516-4fbe-f297-9ad36ead8045",
    "slideshow": {
     "slide_type": "slide"
    }
   },
   "outputs": [],
   "source": [
    "m = ols('PRICE ~ RM + PTRATIO + LSTAT ', bos).fit()\n",
    "print(m.summary())\n",
    "# Jangan lupa analisa dan interpretasi hasilnya"
   ]
  },
  {
   "cell_type": "markdown",
   "metadata": {
    "slideshow": {
     "slide_type": "slide"
    }
   },
   "source": [
    "# <center><font color=\"blue\">Variable Selection: Stepwise di Analisis Regresi</font></center>\n",
    "\n",
    "<table><tr>\n",
    "<td> <img src=\"images/forward-stepwise-algorithm.png\" width =\"300\"/> </td>\n",
    "<td> <img src=\"images/Stepwise.jpg\" width =\"300\"/> </td>\n",
    "</tr></table>\n",
    "\n",
    "* image source: https://quantifyinghealth.com/stepwise-selection/\n",
    "* image source: https://en.wikipedia.org/wiki/Stepwise_regression\n",
    "* Cautions: https://towardsdatascience.com/stopping-stepwise-why-stepwise-selection-is-bad-and-what-you-should-use-instead-90818b3f52df"
   ]
  },
  {
   "cell_type": "code",
   "execution_count": null,
   "metadata": {
    "id": "b_vZxTPqzXyX",
    "slideshow": {
     "slide_type": "slide"
    }
   },
   "outputs": [],
   "source": [
    "def forward_selected(data, response):\n",
    "    \"\"\"Linear model designed by forward selection.\n",
    "    https://planspace.org/20150423-forward_selection_with_statsmodels/\n",
    "    Parameters:\n",
    "    -----------\n",
    "    data : pandas DataFrame with all possible predictors and response\n",
    "\n",
    "    response: string, name of response column in data\n",
    "\n",
    "    Returns:\n",
    "    --------\n",
    "    model: an \"optimal\" fitted statsmodels linear model\n",
    "           with an intercept\n",
    "           selected by forward selection\n",
    "           evaluated by adjusted R-squared\n",
    "    \"\"\"\n",
    "    remaining = set(data.columns)\n",
    "    remaining.remove(response)\n",
    "    selected = []\n",
    "    current_score, best_new_score = 0.0, 0.0\n",
    "    while remaining and current_score == best_new_score:\n",
    "        scores_with_candidates = []\n",
    "        for candidate in remaining:\n",
    "            formula = \"{} ~ {} + 1\".format(response,\n",
    "                                           ' + '.join(selected + [candidate]))\n",
    "            score = smf.ols(formula, data).fit().rsquared_adj\n",
    "            scores_with_candidates.append((score, candidate))\n",
    "        scores_with_candidates.sort()\n",
    "        best_new_score, best_candidate = scores_with_candidates.pop()\n",
    "        if current_score < best_new_score:\n",
    "            remaining.remove(best_candidate)\n",
    "            selected.append(best_candidate)\n",
    "            current_score = best_new_score\n",
    "    formula = \"{} ~ {} + 1\".format(response, ' + '.join(selected))\n",
    "    model = smf.ols(formula, data).fit()\n",
    "    return model"
   ]
  },
  {
   "cell_type": "code",
   "execution_count": null,
   "metadata": {
    "id": "5ZxLwe_czXyX",
    "outputId": "3e03e580-d0ce-488d-c285-2284d33fe0cf",
    "slideshow": {
     "slide_type": "slide"
    }
   },
   "outputs": [],
   "source": [
    "model = forward_selected(bos, 'PRICE')\n",
    "print(model.model.formula)\n",
    "print(model.rsquared_adj)"
   ]
  },
  {
   "cell_type": "code",
   "execution_count": null,
   "metadata": {
    "id": "OnBXtTS_zXyY",
    "outputId": "5db07afa-9f09-4f66-fb99-34ddde953791",
    "slideshow": {
     "slide_type": "slide"
    }
   },
   "outputs": [],
   "source": [
    "# Interpretasi koefisien?\n",
    "print(model.summary())"
   ]
  },
  {
   "cell_type": "markdown",
   "metadata": {
    "slideshow": {
     "slide_type": "slide"
    }
   },
   "source": [
    "# <center><font color=\"blue\">Data Scaling \"for Insights\"</font></center>\n",
    "\n",
    "<table><tr>\n",
    "<td> <img src=\"images/08_scaling_1.png\" width =\"300\"/> </td>\n",
    "<td> <img src=\"images/08_scaling_2.png\" width =\"300\"/> </td>\n",
    "<td> <img src=\"images/08_scaling_3.png\" width =\"300\"/> </td>\n",
    "</tr></table>\n",
    "\n",
    "* Pentingnya \"scaling\" di Regresi (atau clustering) untuk mencari insight dari data\n",
    "* image source: https://medium.com/greyatom/why-how-and-when-to-scale-your-features-4b30ab09db5e"
   ]
  },
  {
   "cell_type": "code",
   "execution_count": null,
   "metadata": {
    "id": "DQwZ1JsdzXyY",
    "outputId": "f9d42ba7-a7fb-4cf1-f0b5-58a5506b2d36",
    "slideshow": {
     "slide_type": "slide"
    }
   },
   "outputs": [],
   "source": [
    "scaler = MinMaxScaler()\n",
    "bos[['TAX', 'AGE', 'B']] = scaler.fit_transform(bos[['TAX', 'AGE', 'B']])\n",
    "bos.head()\n",
    "# Continue to Modelling"
   ]
  },
  {
   "cell_type": "markdown",
   "metadata": {
    "id": "jmT_vusbzXyZ",
    "slideshow": {
     "slide_type": "subslide"
    }
   },
   "source": [
    "# <center><font color=\"blue\">Pitfalls: Regresi Interpolation \"bukan\" Extrapolation (Forecasting/Peramalan)</font></center>\n",
    "\n",
    "<img src=\"images/regression_interpolation_extrapolation.png\" width =\"300\"/>\n",
    "\n",
    "* image source: https://www.datasciencecentral.com/forum/topics/what-are-the-differences-between-prediction-extrapolation-and"
   ]
  },
  {
   "cell_type": "markdown",
   "metadata": {
    "slideshow": {
     "slide_type": "slide"
    }
   },
   "source": [
    "# <center><font color=\"blue\"> Akhir Modul 08 - Regression Analysis</font></center>\n",
    "\n",
    "<hr />\n",
    "<img src=\"images/meme-cartoon/meme_04_regression.png\" style=\"height: 300px;\"/>\n"
   ]
  }
 ],
 "metadata": {
  "celltoolbar": "Slideshow",
  "kernelspec": {
   "display_name": "Python 3",
   "language": "python",
   "name": "python3"
  },
  "language_info": {
   "codemirror_mode": {
    "name": "ipython",
    "version": 3
   },
   "file_extension": ".py",
   "mimetype": "text/x-python",
   "name": "python",
   "nbconvert_exporter": "python",
   "pygments_lexer": "ipython3",
   "version": "3.6.13"
  },
  "latex_envs": {
   "LaTeX_envs_menu_present": true,
   "autoclose": false,
   "autocomplete": true,
   "bibliofile": "biblio.bib",
   "cite_by": "apalike",
   "current_citInitial": 1,
   "eqLabelWithNumbers": true,
   "eqNumInitial": 1,
   "hotkeys": {
    "equation": "Ctrl-E",
    "itemize": "Ctrl-I"
   },
   "labels_anchors": false,
   "latex_user_defs": false,
   "report_style_numbering": false,
   "user_envs_cfg": false
  }
 },
 "nbformat": 4,
 "nbformat_minor": 4
}
