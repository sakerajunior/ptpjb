{
 "cells": [
  {
   "cell_type": "markdown",
   "metadata": {
    "slideshow": {
     "slide_type": "slide"
    }
   },
   "source": [
    "# <center><font color=\"green\"> https://bit.ly/ptpjb-2021-09</font></center>\n",
    "[![Open In Colab](https://colab.research.google.com/assets/colab-badge.svg)](https://bit.ly/ptpjb-2021-09)"
   ]
  },
  {
   "cell_type": "markdown",
   "metadata": {
    "slideshow": {
     "slide_type": "slide"
    }
   },
   "source": [
    "# <center><font color=\"blue\">09 - Time Series Analysis - (S)Arima</font></center>\n",
    "\n",
    "<center><img alt=\"\" src=\"images/cover_ptpjb_2021.png\"/></center> \n",
    "\n",
    "## <center><font color=\"blue\">tau-data Indonesia</font><br>(C) Taufik Sutanto - 2021</center>\n",
    "<center><a href=\"https://tau-data.id\">https://tau-data.id</a> ~ <a href=\"mailto:taufik@tau-data.id\">taufik@tau-data.id</a></center>"
   ]
  },
  {
   "cell_type": "markdown",
   "metadata": {
    "slideshow": {
     "slide_type": "slide"
    }
   },
   "source": [
    "# <center><font color=\"blue\"> 09 - Time Series Analysis - (S)Arima</font></center>\n",
    "\n",
    "* Pendahuluan Time Series Analysis\n",
    "* Stasioneritas & Autokorelasi Arima\n",
    "* Parameter & Spesifikasi Model Arima\n",
    "* Sarima - Seasonality\n",
    "* Studi kasus Arima & Sarima\n",
    "\n",
    "<img src=\"images/time series.png\" style=\"height: 200px;\"/>\n",
    "\n",
    "image source: https://medium.com/@paradistia/analisis-runtun-waktu-peramalan-fuzzy-time-series-cheng-menggunakan-microsoft-excel-b33a192013bb"
   ]
  },
  {
   "cell_type": "markdown",
   "metadata": {
    "slideshow": {
     "slide_type": "slide"
    }
   },
   "source": [
    "# <center><font color=\"blue\">Data Bergantung Waktu</font></center>\n",
    "\n",
    "* Beberapa data tertentu bergantung terhadap waktu, sebut saja pergerakan nilai mata uang (kurs)/harga saham, suhu/temperature udara di suatu daerah tertentu, atau data logs suatu website. \n",
    "* Saat nilai data di masa depan lebih banyak (dominan) hanya dipengaruhi dari nilai-nilainya di masa lalu, maka model-model runtun waktu univariate(satu peubah/variabel) seperti ARIMA (Autoregressive Integrated Moving Average) dapat digunakan. \n",
    "* Namun bila satu atau beberapa peubah yang bergantung waktu dipengaruhi juga oleh variable lain selain nilai-nilainya di masa lalu, maka model runtun waktu peubah ganda (multivariate) seperti VaR (Vector autoRegression) dapat digunakan. \n",
    "\n",
    "<img src=\"images/Time_Series_Data.png\" style=\"height: 300px;\"/>"
   ]
  },
  {
   "cell_type": "markdown",
   "metadata": {
    "slideshow": {
     "slide_type": "slide"
    }
   },
   "source": [
    "# <center><font color=\"blue\">Komponen Data Time Series</font></center>\n",
    "\n",
    "Pola dari data time series dapat dibagi menjadi komponen-komponen berikut:\n",
    "1. **Base atau Level**. Data time series yang diobservasi.\n",
    "2. **Trend**. Kemiringan meningkat atau menurun yang terlihat di Time Series.\n",
    "3. **Seasonality**. Pola unik yang terlihat di suatu interval waktu karena faktor musiman. Hal ini bisa karena suatu bulan di setiap tahunnya, suatu hari di setiap bulannya, atau bahkan suatu jam di dalam satu hari.\n",
    "4. **Residual atau Noise atau Error**. Variasi dari data yang tidak dapat dijelaskan.\n",
    "\n",
    "* Sebagai catatan, tidak semua data Time Series memiliki seluruh komponen diatas. Time Series akan selalu memiliki Base, rata-rata memiliki Residual, dan Trend dan Seasonality biasanya tidak harus ada.\n",
    "\n",
    "<img src=\"images/time series decomposition trend seasonal.jpeg\" style=\"height: 350px;\"/>"
   ]
  },
  {
   "cell_type": "markdown",
   "metadata": {
    "slideshow": {
     "slide_type": "slide"
    }
   },
   "source": [
    "# <center><font color=\"blue\">ARIMA (Autoregressive Integrated Moving Average)</font></center>\n",
    "\n",
    "Model ARIMA merupakan model statistik untuk menganalisis dan meramalkan data time series.\n",
    "\n",
    "ARIMA adalah singkatan dari *AutoRegressive Integrated Moving Average* yang merupakan gabungan dari AutoRegressive dan Moving Average yang lebih sederhana dan menambahkan Integrated.\n",
    "- **AR** : Autoregression. Adalah model yang menggunakan hubungan ketergantungan antara data saat ini dengan beberapa data di masa lalu.\n",
    "- **I** : Integrated. Adalah penggunaan diferensiasi pada data observasi untuk membuatnya menjadi stasioner.\n",
    "- **MA** : Moving Average. Adalah model yang menggunakan hubungan ketergantungan antara data saat ini dengan error dari hasil forecasting di masa lalu\n",
    "\n",
    "<img src=\"images/arima_flowchart.jpg\" style=\"height: 250px;\"/>"
   ]
  },
  {
   "cell_type": "markdown",
   "metadata": {
    "slideshow": {
     "slide_type": "slide"
    }
   },
   "source": [
    "# <center><font color=\"blue\">Stasionaritas</font></center>\n",
    "\n",
    "Data time series yang stasioner adalah data yang sifatnya tidak bergantung pada waktu. Oleh karena itu, deret waktu dengan tren, atau dengan musim, tidak stasioner. Metode ARIMA mengasumsikan bahwa data time series bersifat stasioner.\n",
    "\n",
    "<img src=\"images/arima-time-series-stationarity.png\" style=\"height: 350px;\"/>"
   ]
  },
  {
   "cell_type": "markdown",
   "metadata": {},
   "source": [
    "# <center><font color=\"blue\">Contoh Kasus yang Tidak Stasioner</font></center>\n",
    "\n",
    "* Y_t=GDP saat waktu t.\n",
    "* y_t=log(Y_t) bukan proses yang stasioner\n",
    "* y_t−y_(t−1) biasanya sudah merupakan proses yang stasioner\n",
    "\n",
    "* S_t=harga suatu portofolio.\n",
    "* s_t=log(S_t) biasanya bukan proses yang stasioner.\n",
    "* Log return, r_t=s_t−s_(t−1) biasanya sudah merupakan proses yang stasioner."
   ]
  },
  {
   "cell_type": "markdown",
   "metadata": {
    "slideshow": {
     "slide_type": "slide"
    }
   },
   "source": [
    "# <center><font color=\"blue\">Parameter p, d, q di ARIMA</font></center>\n",
    "\n",
    "Masing-masing komponen ini secara eksplisit ditentukan dalam model sebagai parameter **p, d, dan q**. biasanya model arima dinotasikan **ARIMA(p,d,q)**. masing-masing paramater tersebut didefinisikan sebagai berikut:\n",
    "- p: orde untuk proses autoregressive (AR).\n",
    "- d: orde yang menyatakan banyaknya proses diferensiasi yang dilakukan pada data time series yang tidak stasioner.\n",
    "- q: orde yang menyatakan proses moving average (MA).\n",
    "\n",
    "<img src=\"images/Arima_Model.png\" style=\"height: 250px;\"/>"
   ]
  },
  {
   "cell_type": "markdown",
   "metadata": {
    "slideshow": {
     "slide_type": "slide"
    }
   },
   "source": [
    "# <center><font color=\"blue\">Spesifikasi Model: ACF - PACF</font></center>\n",
    "\n",
    "<img src=\"images/time series formula acf pacf.png\" style=\"height: 200px;\"/>\n",
    "<img src=\"images/acf-pacf-arima-graph.png\" style=\"height: 250px;\"/>"
   ]
  },
  {
   "cell_type": "markdown",
   "metadata": {
    "slideshow": {
     "slide_type": "slide"
    }
   },
   "source": [
    "# <center><font color=\"blue\">Parameter p & q</font></center>\n",
    "\n",
    "* Menentukan p dan q berdasarkan pola ACF dan PACF\n",
    "\n",
    "<img src=\"images/pola ACF PACF.jpg\"  style=\"height: 300px;\"/>"
   ]
  },
  {
   "cell_type": "markdown",
   "metadata": {
    "slideshow": {
     "slide_type": "slide"
    }
   },
   "source": [
    "# <center><font color=\"blue\">Pemilihan Model Berdasarkan Pola ACF dan PACF</font></center>\n",
    "\n",
    "<img src=\"images/pola-acf-pacf.png\" style=\"height: 250px;\"/>"
   ]
  },
  {
   "cell_type": "markdown",
   "metadata": {
    "slideshow": {
     "slide_type": "slide"
    }
   },
   "source": [
    "# <center><font color=\"blue\">Pemilihan Model Berdasarkan Pola ACF dan PACF</font></center>\n",
    "\n",
    "<img src=\"images/Diagnostic_model_arima.png\" style=\"height: 400px;\"/>"
   ]
  },
  {
   "cell_type": "markdown",
   "metadata": {
    "slideshow": {
     "slide_type": "slide"
    }
   },
   "source": [
    "# <center><font color=\"blue\">Variasi Arima</font></center>\n",
    "\n",
    "ARIMA memiliki beberapa variasi di antaranya adalah:\n",
    "\n",
    "- **ARIMA**: ARIMA dasar yang tidak dapat digunakan pada data musiman\n",
    "- **Seasonal ARIMA (SARIMA)**: digunakan untuk meramalkan data berpola musiman\n",
    "- **Seasonal ARIMA with eXogenous (SARIMAX)**:  digunakan untuk meramalkan data berpola musiman dengan beberapa variabel independen yang mempengaruhinya.\n",
    "\n",
    "<img src=\"images/sarima.png\" style=\"height: 100px;\"/><img src=\"images/sarima_equation.png\" style=\"height: 200px;\"/>"
   ]
  },
  {
   "cell_type": "markdown",
   "metadata": {
    "slideshow": {
     "slide_type": "slide"
    }
   },
   "source": [
    "# <center><font color=\"blue\">Time Series Analysis in Python</font></center>\n",
    "\n",
    "* Contoh kasus **Arima**: Data Penumpang Pesawat https://www.kaggle.com/rakannimer/air-passengers\n",
    "* Contoh kasus **Sarima**: Produksi Energy Listrik & gas  https://fred.stlouisfed.org/series/IPG2211A2N\n",
    "\n",
    "<img src=\"images/arima in python.jpg\" style=\"height: 200px;\"/>"
   ]
  },
  {
   "cell_type": "code",
   "execution_count": null,
   "metadata": {
    "slideshow": {
     "slide_type": "slide"
    }
   },
   "outputs": [],
   "source": [
    "!pip install --upgrade pmdarima chart_studio plotly statsmodels cufflinks\n",
    "# menginstall module yang dibutuhkan"
   ]
  },
  {
   "cell_type": "code",
   "execution_count": null,
   "metadata": {
    "slideshow": {
     "slide_type": "slide"
    }
   },
   "outputs": [],
   "source": [
    "import warnings; warnings.filterwarnings(\"ignore\")\n",
    "import numpy as np, pandas as pd, pmdarima\n",
    "import matplotlib.pyplot as plt, seaborn as sns\n",
    "from plotly.offline import download_plotlyjs, init_notebook_mode, plot, iplot, plot_mpl\n",
    "import plotly.graph_objects as go\n",
    "import cufflinks as cf; cf.go_offline(); init_notebook_mode(connected=True)\n",
    "from statsmodels.tsa.stattools import adfuller\n",
    "from statsmodels.graphics.tsaplots import plot_acf,plot_pacf\n",
    "from pmdarima.arima.utils import ndiffs\n",
    "from pmdarima.arima import auto_arima\n",
    "from statsmodels.tsa.arima_model import ARIMA \n",
    "from statsmodels.tsa.seasonal import seasonal_decompose\n",
    "from statsmodels.tsa.statespace.sarimax import SARIMAX\n",
    "\n",
    "sns.set(style=\"ticks\", color_codes=True)\n",
    "random_state = 99\n",
    "\"Done\""
   ]
  },
  {
   "cell_type": "markdown",
   "metadata": {
    "slideshow": {
     "slide_type": "slide"
    }
   },
   "source": [
    "# <center><font color=\"blue\"> Contoh Kasus Data Penumpang Pesawat </font></center>\n",
    "\n",
    "* Permasalahan: Prediksi jumlah penumpang maskapai pada suatu waktu tertentu.\n",
    "\n",
    "  Data terdiri dari pengamatan selama 144 bulan, diukur sejak Januari 1949 hingga Desember 1960 (12 tahun).\n",
    "\n",
    "* Sumber Data https://www.kaggle.com/rakannimer/air-passengers\n",
    "* Kernel: https://towardsdatascience.com/machine-learning-part-19-time-series-and-autoregressive-integrated-moving-average-model-arima-c1005347b0d7\n",
    "\n",
    "<img src=\"images/ilustrasi_arima_passenger_prediction.jpg\" style=\"height: 250px;\"/>"
   ]
  },
  {
   "cell_type": "code",
   "execution_count": null,
   "metadata": {
    "slideshow": {
     "slide_type": "slide"
    }
   },
   "outputs": [],
   "source": [
    "# Loading Data menggunakan waktu sebagai index sebagaimana yang sudah di contohkan di module sebelumnya.\n",
    "\n",
    "file_ = \"data/AirPassengers_09.csv\"\n",
    "try: # Running Locally, yakinkan \"file_\" berada di folder \"data\"\n",
    "    df = pd.read_csv(file_, parse_dates=True, index_col = \"Month\", error_bad_lines=False, low_memory = False, encoding='utf8')\n",
    "except: # Running in Google Colab\n",
    "    !mkdir data\n",
    "    !wget -P data/ https://raw.githubusercontent.com/taudata-indonesia/ptpjb/master/{file_}\n",
    "    df = pd.read_csv(file_, parse_dates=True, index_col = \"Month\", error_bad_lines=False, low_memory = False, encoding='utf8')\n",
    "\n",
    "N, P = df.shape # Ukuran Data\n",
    "print('baris = ', N, ', Kolom (jumlah variabel) = ', P)\n",
    "print(df.info())\n",
    "df.head()"
   ]
  },
  {
   "cell_type": "code",
   "execution_count": null,
   "metadata": {
    "slideshow": {
     "slide_type": "slide"
    }
   },
   "outputs": [],
   "source": [
    "df.describe(include=\"all\"), min(df.index), max(df.index)"
   ]
  },
  {
   "cell_type": "markdown",
   "metadata": {
    "slideshow": {
     "slide_type": "slide"
    }
   },
   "source": [
    "# <center><font color=\"blue\"> Visualisasi Data </font></center>"
   ]
  },
  {
   "cell_type": "code",
   "execution_count": null,
   "metadata": {
    "slideshow": {
     "slide_type": "slide"
    }
   },
   "outputs": [],
   "source": [
    "p = df.iplot(title=\"Penumpang Pesawat 1949~1960\")\n",
    "# Nampak jelas adanya Trend"
   ]
  },
  {
   "cell_type": "markdown",
   "metadata": {
    "slideshow": {
     "slide_type": "slide"
    }
   },
   "source": [
    "# <center><font color=\"blue\">Stationarity</font></center>\n",
    "\n",
    "* Pastikan bahwa runtun waktu bersifat stasioner sebelum melakukan pemodelan. Dua cara pemeriksaan asumsi stasioner adalah:\n",
    "\n",
    "\n",
    "   * **Rolling Statistics**: Buat grafik rolling mean dan standar deviasi. Runtun waktu dikatakan stasioner jika mean dan dan standar deviasi konstan terhadap waktu. Sudah dibahas di Module 04 (Visualisasi).\n",
    "\n",
    "   * **Augmented Dickey-Fuller Test**:  Runtun waktu dikatakan stasioner jika p-value kecil dan nilai kritis pada taraf signifikansi 1%, 5%, 10% dekat dengan nilai statistik ADF."
   ]
  },
  {
   "cell_type": "code",
   "execution_count": null,
   "metadata": {
    "slideshow": {
     "slide_type": "slide"
    }
   },
   "outputs": [],
   "source": [
    "rolling_mean = df.rolling(window = 12).mean()\n",
    "rolling_std = df.rolling(window = 12).std()\n",
    "plt.plot(df, color = 'blue', label = 'Original')\n",
    "plt.plot(rolling_mean, color = 'red', label = 'Rolling Mean')\n",
    "plt.plot(rolling_std, color = 'black', label = 'Rolling Std')\n",
    "plt.legend(loc = 'best')\n",
    "plt.title('Rolling Mean & Rolling Standard Deviation')\n",
    "plt.show()"
   ]
  },
  {
   "cell_type": "markdown",
   "metadata": {
    "slideshow": {
     "slide_type": "slide"
    }
   },
   "source": [
    "# <center><font color=\"blue\">Rolling Mean & Standard Deviation</font></center>\n",
    "\n",
    "* Visual: Rolling mean dan rolling standard deviation meningkat seiring berjalannya waktu--> runtun tidak stasioner\n",
    "* Uji statistik formal"
   ]
  },
  {
   "cell_type": "code",
   "execution_count": null,
   "metadata": {
    "slideshow": {
     "slide_type": "slide"
    }
   },
   "outputs": [],
   "source": [
    "result = adfuller(df['Passengers'])\n",
    "print('ADF Statistic: {}'.format(result[0]))\n",
    "print('p-value: {}'.format(result[1]))\n",
    "print('Critical Values:')\n",
    "for key, value in result[4].items():\n",
    "    print('\\t{}: {}'.format(key, value))"
   ]
  },
  {
   "cell_type": "markdown",
   "metadata": {
    "slideshow": {
     "slide_type": "slide"
    }
   },
   "source": [
    "# <center><font color=\"blue\">ADF Statistic</font></center>\n",
    "\n",
    "* Statistik ADF berbeda jauh dengan nilai kritis; p-value > threshold (0.05) --> runtun waktu tidak stasioner.\n",
    "\n",
    "* Gunakan transformasi log untuk mengurangi tingkat ketidakstasioneran.\n"
   ]
  },
  {
   "cell_type": "code",
   "execution_count": null,
   "metadata": {},
   "outputs": [],
   "source": [
    "df_log = np.log(df)\n",
    "plt.plot(df_log)"
   ]
  },
  {
   "cell_type": "markdown",
   "metadata": {},
   "source": [
    "# <center><font color=\"blue\">Transformasi & Koreksi mean</font></center>\n",
    "\n",
    "* Lakukan transformasi untuk mendapatkan runtun yang stasioner.\n",
    "* misal dengan koreksi mean."
   ]
  },
  {
   "cell_type": "code",
   "execution_count": null,
   "metadata": {
    "slideshow": {
     "slide_type": "slide"
    }
   },
   "outputs": [],
   "source": [
    "def get_stationarity(timeseries, judul, tipe=1, dt=None):\n",
    "    if tipe==1:\n",
    "        original = plt.plot(timeseries, color='blue', label='Original')\n",
    "        rolling_mean = timeseries.rolling(window=12).mean()\n",
    "        rolling_std = timeseries.rolling(window=12).std()\n",
    "        mean = plt.plot(rolling_mean, color='red', label='Rolling Mean')\n",
    "        std = plt.plot(rolling_std, color='black', label='Rolling Std')\n",
    "    else: #tipe !=1 & dt != None\n",
    "        original = plt.plot(timeseries, color='blue', label='Difference')\n",
    "        diff = plt.plot(dt, color='black', label='Original')\n",
    "    plt.legend(loc='best')\n",
    "    plt.title(judul)\n",
    "    plt.show(block=False)\n",
    "    result = adfuller(timeseries['Passengers'])\n",
    "    print('ADF Statistic: {}'.format(result[0]))\n",
    "    print('p-value: {}'.format(result[1]))\n",
    "    print('Critical Values:')\n",
    "    for key, value in result[4].items():\n",
    "        print('\\t{}: {}'.format(key, value))"
   ]
  },
  {
   "cell_type": "code",
   "execution_count": null,
   "metadata": {
    "scrolled": false,
    "slideshow": {
     "slide_type": "slide"
    }
   },
   "outputs": [],
   "source": [
    "df_log = np.log(df)\n",
    "rolling_mean = df_log.rolling(window=12).mean()\n",
    "df_log_minus_mean = df_log - rolling_mean\n",
    "df_log_minus_mean.dropna(inplace=True)\n",
    "get_stationarity(df_log_minus_mean, \"Rolling Mean & Standar Deviation\")"
   ]
  },
  {
   "cell_type": "markdown",
   "metadata": {
    "slideshow": {
     "slide_type": "slide"
    }
   },
   "source": [
    "# <center><font color=\"blue\"> Differencing </font></center>\n",
    "\n",
    "* The ARIMA (aka Box-Jenkins) model adalah \"perluasan\" dari ARMA model, data runtun waktu di-differencing terlebih dahulu untuk mendapatkan runtun yang stasioner, kemudian dimodelkan dengan ARMA.  \n",
    "* Contoh: \n",
    "\n",
    " * First-order differencing, $z_i = y_i-y_{i-1}$. \n",
    " * Second-order differencing, $z_i = (y_i-y_{i-1})-(y_{i-1}-y_{i-2})$, dan seterusnya.\n",
    "\n",
    "<img src=\"images/arima-differencing.png\" style=\"height: 250px;\"/>"
   ]
  },
  {
   "cell_type": "code",
   "execution_count": null,
   "metadata": {
    "slideshow": {
     "slide_type": "slide"
    }
   },
   "outputs": [],
   "source": [
    "df_log_shift = df_log - df_log.shift()\n",
    "df_log_shift.dropna(inplace=True)\n",
    "get_stationarity(df_log_shift, \"Differencing\", tipe=2, dt=df_log)"
   ]
  },
  {
   "cell_type": "markdown",
   "metadata": {},
   "source": [
    "# <center><font color=\"blue\">Hasil Pengamatan</font></center>\n",
    "\n",
    "* Runtun sudah stasioner; dapat dilakukan pemodelan.\n",
    "* Periksa ACF dan PACF terlebih dahulu."
   ]
  },
  {
   "cell_type": "code",
   "execution_count": null,
   "metadata": {
    "scrolled": true
   },
   "outputs": [],
   "source": [
    "# Jika data tidak statsioner lakukan diferensiasi (y_t - y_t-1)\n",
    "#diff = df['Passengers'].diff().dropna()\n",
    "fig, (ax1, ax2) = plt.subplots(1, 2, figsize=(16, 4))\n",
    "plot_pacf(df_log_shift, ax=ax1)\n",
    "plot_acf(df_log_shift, ax=ax2)\n",
    "plt.show()"
   ]
  },
  {
   "cell_type": "markdown",
   "metadata": {},
   "source": [
    "# <center><font color=\"blue\">Dapat mengajukan beberapa pilihan model</font></center>\n",
    "\n",
    "* ARIMA(2,1,2)\n",
    "* ARIMA(3,1,2)\n",
    "* ARIMA(3,1,4)\n",
    "* ARIMA(4,1,4)\n",
    "\n",
    "Pertimbangkan trade-off antara akurasi dan kompleksitas model."
   ]
  },
  {
   "cell_type": "code",
   "execution_count": null,
   "metadata": {
    "slideshow": {
     "slide_type": "slide"
    }
   },
   "outputs": [],
   "source": [
    "decomposition = seasonal_decompose(df_log) \n",
    "model = ARIMA(df_log, order=(3,1,2))\n",
    "results = model.fit(disp=-1)\n",
    "plt.plot(df_log_shift)\n",
    "plt.plot(results.fittedvalues, color='red')\n",
    "plt.show()"
   ]
  },
  {
   "cell_type": "markdown",
   "metadata": {
    "slideshow": {
     "slide_type": "slide"
    }
   },
   "source": [
    "# <center><font color=\"blue\">Bandingkan hasil peramalan model dengan data sesungguhnya</font></center>"
   ]
  },
  {
   "cell_type": "code",
   "execution_count": null,
   "metadata": {
    "scrolled": true,
    "slideshow": {
     "slide_type": "slide"
    }
   },
   "outputs": [],
   "source": [
    "predictions_ARIMA_diff = pd.Series(results.fittedvalues, copy=True)\n",
    "predictions_ARIMA_diff_cumsum = predictions_ARIMA_diff.cumsum()\n",
    "predictions_ARIMA_log = pd.Series(df_log['Passengers'].iloc[0], index=df_log.index)\n",
    "predictions_ARIMA_log = predictions_ARIMA_log.add(predictions_ARIMA_diff_cumsum, fill_value=0)\n",
    "predictions_ARIMA = np.exp(predictions_ARIMA_log)\n",
    "plt.plot(df)\n",
    "plt.plot(predictions_ARIMA)\n",
    "plt.show()"
   ]
  },
  {
   "cell_type": "code",
   "execution_count": null,
   "metadata": {
    "slideshow": {
     "slide_type": "slide"
    }
   },
   "outputs": [],
   "source": [
    "\"\"\"\n",
    "Forecast jumlah penumpang untuk 10 tahun (10 x 12 bulan) ke depan, \n",
    "ukuran data (12x12) + (12 x 10) = 264\n",
    "\"\"\"\n",
    "results.plot_predict(1,264)\n",
    "plt.show()"
   ]
  },
  {
   "cell_type": "code",
   "execution_count": null,
   "metadata": {
    "slideshow": {
     "slide_type": "slide"
    }
   },
   "outputs": [],
   "source": [
    "results.summary()"
   ]
  },
  {
   "cell_type": "code",
   "execution_count": null,
   "metadata": {},
   "outputs": [],
   "source": [
    "stepwise_model = auto_arima(df, start_p=1, start_q=1,\n",
    "                           max_p=3, max_q=3, m=12,\n",
    "                           start_P=0, seasonal=False,\n",
    "                           d=1, D=1, trace=True,\n",
    "                           error_action='ignore',  \n",
    "                           suppress_warnings=True, \n",
    "                           stepwise=True)\n",
    "print(stepwise_model.aic())"
   ]
  },
  {
   "cell_type": "markdown",
   "metadata": {
    "slideshow": {
     "slide_type": "slide"
    }
   },
   "source": [
    "# <center><font color=\"blue\"> Contoh Kasus SARIMA: Data NAICS </font></center>\n",
    "\n",
    "* Permasalahan: Data bulanan produksi **Listrik dan Gas** sebuah perusahaan di Amerika Serikat dari tahun 1985-2018.\n",
    "* Sumber Data https://fred.stlouisfed.org/series/IPG2211A2N\n",
    "* Contoh kasus menggunakan **Auto Arima** untuk memudahkan pemodelan time Series di Python.\n",
    "\n",
    "<img src=\"images/data-naics-time-series-energy.png\" style=\"height: 250px;\"/>"
   ]
  },
  {
   "cell_type": "code",
   "execution_count": null,
   "metadata": {
    "slideshow": {
     "slide_type": "slide"
    }
   },
   "outputs": [],
   "source": [
    "# Loading Data menggunakan waktu sebagai index sebagaimana yang sudah di contohkan di module sebelumnya.\n",
    "\n",
    "file_ = \"data/IPG2211A2N.csv\"\n",
    "try: # Running Locally, yakinkan \"file_\" berada di folder \"data\"\n",
    "    df = pd.read_csv(file_, parse_dates=True, index_col = \"DATE\", error_bad_lines=False, low_memory = False, encoding='utf8')\n",
    "except: # Running in Google Colab\n",
    "    !mkdir data\n",
    "    !wget -P data/ https://raw.githubusercontent.com/taudata-indonesia/ptpjb/master/{file_}\n",
    "    df = pd.read_csv(file_, parse_dates=True, index_col = \"DATE\", error_bad_lines=False, low_memory = False, encoding='utf8')\n",
    "\n",
    "df.columns = ['Energy-Production'] # Rename Kolom\n",
    "N, P = df.shape # Ukuran Data\n",
    "print('baris = ', N, ', Kolom (jumlah variabel) = ', P)\n",
    "print(df.info())\n",
    "df.head()"
   ]
  },
  {
   "cell_type": "markdown",
   "metadata": {
    "slideshow": {
     "slide_type": "slide"
    }
   },
   "source": [
    "# <center><font color=\"blue\"> Visualisasi Data </font></center>"
   ]
  },
  {
   "cell_type": "code",
   "execution_count": null,
   "metadata": {
    "slideshow": {
     "slide_type": "fragment"
    }
   },
   "outputs": [],
   "source": [
    "p = df.iplot(title=\"Energy Production Jan 1985--Jan 2018\")"
   ]
  },
  {
   "cell_type": "markdown",
   "metadata": {
    "slideshow": {
     "slide_type": "slide"
    }
   },
   "source": [
    "# <center><font color=\"blue\"> Dekomposisi Karena Adanya Trend </font></center>\n",
    "\n",
    "* Terlihat nampak ada Trend naik.\n",
    "* Dekomposisi runtun waktu adalah sebuah proses statistik untuk mendekomposisi (deconstruct) sebuah data runtun  \n"
   ]
  },
  {
   "cell_type": "code",
   "execution_count": null,
   "metadata": {
    "slideshow": {
     "slide_type": "slide"
    }
   },
   "outputs": [],
   "source": [
    "result = seasonal_decompose(df, model=\"multiplicative\")\n",
    "fig = result.plot()"
   ]
  },
  {
   "cell_type": "markdown",
   "metadata": {
    "slideshow": {
     "slide_type": "slide"
    }
   },
   "source": [
    "# <center><font color=\"blue\">Trend and seasonality</font></center>\n",
    "\n",
    "* Ada trend naik.\n",
    "* Ada seasonal\n",
    "* Ada irregular komponen"
   ]
  },
  {
   "cell_type": "markdown",
   "metadata": {
    "slideshow": {
     "slide_type": "slide"
    }
   },
   "source": [
    "# <center><font color=\"blue\">Performing the Seasonal ARIMA</font></center>\n",
    "\n",
    "* Karena ada seasoal trend, ajukan model SARIMA, dengan (p,d,q) untuk komponen ARIMA, dan (P,D,Q) untuk komponen seasonal.\n",
    "* Penentuan p,d,q,P,D,Q berdasarkan ACF dan PACF; dapat diajukan beberapa model.\n",
    "* Penentuan model terbaik berdasarkan AIC.\n"
   ]
  },
  {
   "cell_type": "code",
   "execution_count": null,
   "metadata": {
    "slideshow": {
     "slide_type": "slide"
    }
   },
   "outputs": [],
   "source": [
    "stepwise_model = auto_arima(df, start_p=1, start_q=1,\n",
    "                           max_p=3, max_q=3, m=12,\n",
    "                           start_P=0, seasonal=True,\n",
    "                           d=1, D=1, trace=True,\n",
    "                           error_action='ignore',  \n",
    "                           suppress_warnings=True, \n",
    "                           stepwise=True)\n",
    "print(stepwise_model.aic())"
   ]
  },
  {
   "cell_type": "markdown",
   "metadata": {
    "slideshow": {
     "slide_type": "slide"
    }
   },
   "source": [
    "# <center><font color=\"blue\">Train Test Split</font></center>\n",
    "\n",
    "* Dilakukan untuk menilai kelayakan model.\n",
    "* Train data: sebagian (besar) data awal; pada contoh data tahun 1985-2015\n",
    "* Test data: sebagian (kecil) data akhir.\n",
    "\n"
   ]
  },
  {
   "cell_type": "code",
   "execution_count": null,
   "metadata": {
    "slideshow": {
     "slide_type": "slide"
    }
   },
   "outputs": [],
   "source": [
    "train = df.loc['1985-01-01':'2016-12-01']\n",
    "test = df.loc['2017-01-01':]"
   ]
  },
  {
   "cell_type": "markdown",
   "metadata": {
    "slideshow": {
     "slide_type": "slide"
    }
   },
   "source": [
    "# <center><font color=\"blue\">Train the Model</font></center>\n",
    "\n",
    "* Train model dengan menggunakan .fit pada model stepwise dan menerapkannya pada data training."
   ]
  },
  {
   "cell_type": "code",
   "execution_count": null,
   "metadata": {
    "slideshow": {
     "slide_type": "slide"
    }
   },
   "outputs": [],
   "source": [
    "stepwise_model.fit(train)"
   ]
  },
  {
   "cell_type": "code",
   "execution_count": null,
   "metadata": {
    "slideshow": {
     "slide_type": "slide"
    }
   },
   "outputs": [],
   "source": [
    "stepwise_model.summary()"
   ]
  },
  {
   "cell_type": "markdown",
   "metadata": {
    "slideshow": {
     "slide_type": "slide"
    }
   },
   "source": [
    "# <center><font color=\"blue\">Evaluasi</font></center>\n",
    "\n",
    "* Lakukan forecast pada data test, periode 1 Januari 2015 hingga1 Januari 2018."
   ]
  },
  {
   "cell_type": "code",
   "execution_count": null,
   "metadata": {
    "slideshow": {
     "slide_type": "slide"
    }
   },
   "outputs": [],
   "source": [
    "future_forecast = stepwise_model.predict(n_periods=55)\n",
    "# This returns an array of predictions:\n",
    "print(future_forecast)"
   ]
  },
  {
   "cell_type": "markdown",
   "metadata": {
    "slideshow": {
     "slide_type": "slide"
    }
   },
   "source": [
    "# <center><font color=\"blue\">Visualisasikan Prediksi</font></center>"
   ]
  },
  {
   "cell_type": "code",
   "execution_count": null,
   "metadata": {
    "slideshow": {
     "slide_type": "slide"
    }
   },
   "outputs": [],
   "source": [
    "future_forecast = pd.DataFrame(future_forecast,index = test.index,columns=['Prediction'])\n",
    "pd.concat([test,future_forecast],axis=1).iplot()"
   ]
  },
  {
   "cell_type": "markdown",
   "metadata": {
    "slideshow": {
     "slide_type": "slide"
    }
   },
   "source": [
    "# <center><font color=\"blue\">Membandingkan dengan Seluruh Data</font></center>"
   ]
  },
  {
   "cell_type": "code",
   "execution_count": null,
   "metadata": {
    "slideshow": {
     "slide_type": "slide"
    }
   },
   "outputs": [],
   "source": [
    "pd.concat([df,future_forecast],axis=1).iplot()"
   ]
  },
  {
   "cell_type": "markdown",
   "metadata": {
    "slideshow": {
     "slide_type": "slide"
    }
   },
   "source": [
    "# <center><font color=\"blue\"> Akhir Modul 09 - Time Series Analysis - (S)Arima</font></center>\n",
    "\n",
    "<hr />\n",
    "<img alt=\"\" src=\"images/meme-cartoon/TimeSeries_MeMe.jpg\" style=\"height: 300px;\"/>"
   ]
  }
 ],
 "metadata": {
  "celltoolbar": "Slideshow",
  "kernelspec": {
   "display_name": "Python 3 (ipykernel)",
   "language": "python",
   "name": "python3"
  },
  "language_info": {
   "codemirror_mode": {
    "name": "ipython",
    "version": 3
   },
   "file_extension": ".py",
   "mimetype": "text/x-python",
   "name": "python",
   "nbconvert_exporter": "python",
   "pygments_lexer": "ipython3",
   "version": "3.7.11"
  },
  "latex_envs": {
   "LaTeX_envs_menu_present": true,
   "autoclose": false,
   "autocomplete": true,
   "bibliofile": "biblio.bib",
   "cite_by": "apalike",
   "current_citInitial": 1,
   "eqLabelWithNumbers": true,
   "eqNumInitial": 1,
   "hotkeys": {
    "equation": "Ctrl-E",
    "itemize": "Ctrl-I"
   },
   "labels_anchors": false,
   "latex_user_defs": false,
   "report_style_numbering": false,
   "user_envs_cfg": false
  }
 },
 "nbformat": 4,
 "nbformat_minor": 4
}
