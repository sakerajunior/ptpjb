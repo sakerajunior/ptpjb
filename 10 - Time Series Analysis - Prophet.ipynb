{
 "cells": [
  {
   "cell_type": "markdown",
   "id": "ec941233",
   "metadata": {
    "slideshow": {
     "slide_type": "slide"
    }
   },
   "source": [
    "# <center><font color=\"red\"> https://bit.ly/ptpjb-2021-10</font>\n",
    "# <center><font color=\"blue\">10 - Time Series Analysis - Prophet</font>\n",
    "\n",
    "<center><img alt=\"\" src=\"images/cover_ptpjb_2021.png\"/></center> \n",
    "\n",
    "## <center><font color=\"blue\">tau-data Indonesia</font><br>(C) Taufik Sutanto - 2021</center>\n",
    "<center><a href=\"https://tau-data.id\">https://tau-data.id</a> ~ <a href=\"mailto:taufik@tau-data.id\">taufik@tau-data.id</a></center>"
   ]
  },
  {
   "cell_type": "markdown",
   "id": "72f62b97",
   "metadata": {
    "slideshow": {
     "slide_type": "slide"
    }
   },
   "source": [
    "# <center><font color=\"blue\"> Analisis Data Time Series menggunakan Facebook Prophet"
   ]
  },
  {
   "cell_type": "markdown",
   "id": "6dffaf2f",
   "metadata": {
    "slideshow": {
     "slide_type": "slide"
    }
   },
   "source": [
    "Data time series adalah data yang sering kita temui di kehidupan sehari-hari, contoh data time\n",
    "series adalah:\n",
    "1. Data saham, crypto, commodities.\n",
    "2. Data sensor dari berbagai macam devices termasuk speeding camera.\n",
    "3. Data penjualan, e-commerce, dan sebagainya.\n",
    "Apa yang sering dilakukan pada data time series?\n",
    "Jawaban paling umum adalah forecasting/prediksi. Misalnya, harga saham, jumlah penjualan\n",
    "barang, dan sebagainya.\n",
    "Algoritma yang umum dipakai untuk forecasting data time series:\n",
    "1. ARIMA\n",
    "2. ARCH\n",
    "3. Regressive models\n",
    "4. Neural networks LSTM"
   ]
  },
  {
   "cell_type": "markdown",
   "id": "0b60d91a",
   "metadata": {
    "slideshow": {
     "slide_type": "slide"
    }
   },
   "source": [
    "Apa itu Facebook Prophet?\n",
    "Di kembangkan oleh Facebook Research, pada awalnya algoritma ini dibuat untuk\n",
    "menghasilkan prediksi dengan kualitas tinggi untuk business forecast.\n",
    "Apa yang membuat Fb Prophet special?\n",
    "1. Seasonal effects caused by human behavior: mingguan, bulanan, siklus tahunan, hari\n",
    "libur, dips dan peak.\n",
    "2. Pergantian trends karena adanya produk baru atau karena adanya market event.\n",
    "3. Outliers\n",
    "Fb prophet ditujukan untuk general users, jadi walaupun bukan data analyst, untuk\n",
    "menggunakan algoritma ini cukup mudah karena didesain mudah untuk orang umum.\n",
    "Official publication/paper bisa diakses disini\n",
    "https://peerj.com/preprints/3190/"
   ]
  },
  {
   "cell_type": "markdown",
   "id": "c6262845",
   "metadata": {
    "slideshow": {
     "slide_type": "slide"
    }
   },
   "source": [
    "Papernya not peer-reviewed dengan judul “Forecasting at Scale”, authors: Sean J Taylor dan\n",
    "Benjamin Letham (Peneliti dari Facebook), terbit tahun September 2017."
   ]
  },
  {
   "cell_type": "markdown",
   "id": "ccdf0c64",
   "metadata": {
    "slideshow": {
     "slide_type": "slide"
    }
   },
   "source": [
    "<img src = \"images/prophet.jpg\">\n",
    "\n",
    "Gambar ini, saya ambil dari paper Forecasting at Scale (paper Fb prophet). Penulis\n",
    "membandingkan performa dari Fb Prophet dibandingkan dengan beberapa time series\n",
    "forecasting methods seperti arima dan ets. Penulis menggunakan matrix MAPE (Mean Absolute\n",
    "Percentage Error) untuk membandingkan performa Fb prophet dengan algoritma yang lain.\n",
    "Beberapa algorithma yang dibandingkan dengan Fb prophet:\n",
    "1. Naive: memprediksi future values hanya berdasarkan data terakhir\n",
    "2. SNaive (seasonal naive), seperti Naive, tetapi seasonal (pakai data hari senin yang lalu)\n",
    "untuk memprediksi data senin pekan ini.\n",
    "3. Mean: menggunakan rata-rata data sebagai prediksi\n",
    "4. ARIMA: menggunakan arima (autoregressive integrated moving average)\n",
    "5. ETS: exponential smoothing, focus di seasonal."
   ]
  },
  {
   "cell_type": "markdown",
   "id": "4fca5891",
   "metadata": {
    "slideshow": {
     "slide_type": "slide"
    }
   },
   "source": [
    "<img src = \"images/prophet2.jpg\">"
   ]
  },
  {
   "cell_type": "markdown",
   "id": "631076c8",
   "metadata": {
    "slideshow": {
     "slide_type": "slide"
    }
   },
   "source": [
    "Learning resources:\n",
    "Semua resources ada di: https://github.com/rischanlab/fbprophet\n",
    "Modul belajar fbprophet: learn_fb_prophet.pdf\n",
    "Belajar Facebook Prophet dengan Medium dataset, jupyter notebook ada di Github atau\n",
    "langsung bisa diakses di Kaggle saya.\n",
    "https://www.kaggle.com/rischan/analysis-medium-dataset-facebook-prophet-final?scriptVersionI\n",
    "d=72930023\n",
    "Tambahan belajar dengan data saham di Indonesia: Kaggle (public data & notebook)\n",
    "https://www.kaggle.com/rischan/indonesia-popular-stocks/code\n",
    "Bila masih memungkinan dan ada waktu bisa dilanjutkan dengan Analisis Air passengers\n",
    "dengan Fb Prophet."
   ]
  },
  {
   "cell_type": "markdown",
   "id": "7fe52505",
   "metadata": {
    "_uuid": "980ad6ccf8671b45897bb37798ef31ad043ca58f",
    "papermill": {
     "duration": 0.047477,
     "end_time": "2021-08-24T14:01:42.114917",
     "exception": false,
     "start_time": "2021-08-24T14:01:42.067440",
     "status": "completed"
    },
    "slideshow": {
     "slide_type": "slide"
    },
    "tags": []
   },
   "source": [
    "# <center><font color=\"blue\">Practice with Facebook Prophet\n",
    "### Installation in Python\n",
    "\n",
    "\n",
    "In Python you can install Prophet using PyPI:\n",
    "```\n",
    "$ pip install fbprophet\n",
    "```\n"
   ]
  },
  {
   "cell_type": "code",
   "execution_count": null,
   "id": "afa49b80",
   "metadata": {},
   "outputs": [],
   "source": [
    "!pip install fbprophet"
   ]
  },
  {
   "cell_type": "code",
   "execution_count": 1,
   "id": "a4ab52aa",
   "metadata": {
    "_uuid": "ae20e66c0f75c5459f88531bc4a41f8b59b81a25",
    "execution": {
     "iopub.execute_input": "2021-08-24T14:01:42.216552Z",
     "iopub.status.busy": "2021-08-24T14:01:42.214727Z",
     "iopub.status.idle": "2021-08-24T14:01:44.553744Z",
     "shell.execute_reply": "2021-08-24T14:01:44.554263Z",
     "shell.execute_reply.started": "2021-08-24T14:00:47.527530Z"
    },
    "papermill": {
     "duration": 2.390269,
     "end_time": "2021-08-24T14:01:44.554602",
     "exception": false,
     "start_time": "2021-08-24T14:01:42.164333",
     "status": "completed"
    },
    "slideshow": {
     "slide_type": "slide"
    },
    "tags": []
   },
   "outputs": [],
   "source": [
    "import warnings; warnings.filterwarnings('ignore')\n",
    "\n",
    "import numpy as np\n",
    "import pandas as pd\n",
    "from scipy import stats\n",
    "import statsmodels.api as sm\n",
    "import matplotlib.pyplot as plt\n",
    "\n",
    "# sharper plots\n",
    "%config InlineBackend.figure_format = 'retina'\n",
    "%matplotlib inline"
   ]
  },
  {
   "cell_type": "code",
   "execution_count": 2,
   "id": "63bfb714",
   "metadata": {
    "_uuid": "f3987c00479aa9e0cca538bd29c8a8e4e99ddb32",
    "execution": {
     "iopub.execute_input": "2021-08-24T14:01:44.651189Z",
     "iopub.status.busy": "2021-08-24T14:01:44.650414Z",
     "iopub.status.idle": "2021-08-24T14:01:45.002531Z",
     "shell.execute_reply": "2021-08-24T14:01:45.001260Z",
     "shell.execute_reply.started": "2021-08-24T14:00:47.558477Z"
    },
    "papermill": {
     "duration": 0.401878,
     "end_time": "2021-08-24T14:01:45.002708",
     "exception": false,
     "start_time": "2021-08-24T14:01:44.600830",
     "status": "completed"
    },
    "slideshow": {
     "slide_type": "slide"
    },
    "tags": []
   },
   "outputs": [],
   "source": [
    "df = pd.read_csv('../input/mediumpostfbprophet/medium_posts.csv')"
   ]
  },
  {
   "cell_type": "code",
   "execution_count": 3,
   "id": "ba3ffb87",
   "metadata": {
    "execution": {
     "iopub.execute_input": "2021-08-24T14:01:45.108078Z",
     "iopub.status.busy": "2021-08-24T14:01:45.107141Z",
     "iopub.status.idle": "2021-08-24T14:01:45.127298Z",
     "shell.execute_reply": "2021-08-24T14:01:45.126747Z",
     "shell.execute_reply.started": "2021-08-24T14:00:47.791926Z"
    },
    "papermill": {
     "duration": 0.079644,
     "end_time": "2021-08-24T14:01:45.127477",
     "exception": false,
     "start_time": "2021-08-24T14:01:45.047833",
     "status": "completed"
    },
    "slideshow": {
     "slide_type": "slide"
    },
    "tags": []
   },
   "outputs": [
    {
     "data": {
      "text/html": [
       "<div>\n",
       "<style scoped>\n",
       "    .dataframe tbody tr th:only-of-type {\n",
       "        vertical-align: middle;\n",
       "    }\n",
       "\n",
       "    .dataframe tbody tr th {\n",
       "        vertical-align: top;\n",
       "    }\n",
       "\n",
       "    .dataframe thead th {\n",
       "        text-align: right;\n",
       "    }\n",
       "</style>\n",
       "<table border=\"1\" class=\"dataframe\">\n",
       "  <thead>\n",
       "    <tr style=\"text-align: right;\">\n",
       "      <th></th>\n",
       "      <th>published</th>\n",
       "      <th>domain</th>\n",
       "      <th>url</th>\n",
       "    </tr>\n",
       "  </thead>\n",
       "  <tbody>\n",
       "    <tr>\n",
       "      <th>0</th>\n",
       "      <td>2012-08-13 22:54:53.510Z</td>\n",
       "      <td>medium.com</td>\n",
       "      <td>https://medium.com/policy/medium-terms-of-serv...</td>\n",
       "    </tr>\n",
       "    <tr>\n",
       "      <th>1</th>\n",
       "      <td>2012-08-13 22:57:17.248Z</td>\n",
       "      <td>medium.com</td>\n",
       "      <td>https://medium.com/policy/medium-privacy-polic...</td>\n",
       "    </tr>\n",
       "    <tr>\n",
       "      <th>2</th>\n",
       "      <td>2016-11-04 23:40:43.364Z</td>\n",
       "      <td>medium.com</td>\n",
       "      <td>https://medium.com/@Medium/personalize-your-me...</td>\n",
       "    </tr>\n",
       "    <tr>\n",
       "      <th>3</th>\n",
       "      <td>2016-12-24 18:21:13.427Z</td>\n",
       "      <td>medium.com</td>\n",
       "      <td>https://medium.com/holiday-poems/xmas-morning-...</td>\n",
       "    </tr>\n",
       "    <tr>\n",
       "      <th>4</th>\n",
       "      <td>2015-09-22 21:37:48.207Z</td>\n",
       "      <td>blog.medium.com</td>\n",
       "      <td>https://blog.medium.com/taking-a-side-on-net-n...</td>\n",
       "    </tr>\n",
       "  </tbody>\n",
       "</table>\n",
       "</div>"
      ],
      "text/plain": [
       "                  published           domain  \\\n",
       "0  2012-08-13 22:54:53.510Z       medium.com   \n",
       "1  2012-08-13 22:57:17.248Z       medium.com   \n",
       "2  2016-11-04 23:40:43.364Z       medium.com   \n",
       "3  2016-12-24 18:21:13.427Z       medium.com   \n",
       "4  2015-09-22 21:37:48.207Z  blog.medium.com   \n",
       "\n",
       "                                                 url  \n",
       "0  https://medium.com/policy/medium-terms-of-serv...  \n",
       "1  https://medium.com/policy/medium-privacy-polic...  \n",
       "2  https://medium.com/@Medium/personalize-your-me...  \n",
       "3  https://medium.com/holiday-poems/xmas-morning-...  \n",
       "4  https://blog.medium.com/taking-a-side-on-net-n...  "
      ]
     },
     "execution_count": 3,
     "metadata": {},
     "output_type": "execute_result"
    }
   ],
   "source": [
    "df.head()"
   ]
  },
  {
   "cell_type": "markdown",
   "id": "3eaa1b32",
   "metadata": {
    "_uuid": "1de5bc19bfb8a9346910d7905cdc72db70d62a53",
    "papermill": {
     "duration": 0.04555,
     "end_time": "2021-08-24T14:01:45.219479",
     "exception": false,
     "start_time": "2021-08-24T14:01:45.173929",
     "status": "completed"
    },
    "slideshow": {
     "slide_type": "slide"
    },
    "tags": []
   },
   "source": [
    "Data yang kita butuhkan hanya published date dan url, duplicate dan na juga perlu di drop"
   ]
  },
  {
   "cell_type": "code",
   "execution_count": 4,
   "id": "f0013b1c",
   "metadata": {
    "_uuid": "16a86f9a6944446d495ec5f47704c2a0478b5fb0",
    "execution": {
     "iopub.execute_input": "2021-08-24T14:01:45.346730Z",
     "iopub.status.busy": "2021-08-24T14:01:45.345578Z",
     "iopub.status.idle": "2021-08-24T14:01:45.459909Z",
     "shell.execute_reply": "2021-08-24T14:01:45.459156Z",
     "shell.execute_reply.started": "2021-08-24T14:00:47.809461Z"
    },
    "papermill": {
     "duration": 0.192985,
     "end_time": "2021-08-24T14:01:45.460063",
     "exception": false,
     "start_time": "2021-08-24T14:01:45.267078",
     "status": "completed"
    },
    "slideshow": {
     "slide_type": "slide"
    },
    "tags": []
   },
   "outputs": [],
   "source": [
    "df = df[['published', 'url']].dropna().drop_duplicates()"
   ]
  },
  {
   "cell_type": "markdown",
   "id": "d60f743c",
   "metadata": {
    "_uuid": "771cdb7020457e497f581aa6a42e7106625a93a7",
    "papermill": {
     "duration": 0.046425,
     "end_time": "2021-08-24T14:01:45.553248",
     "exception": false,
     "start_time": "2021-08-24T14:01:45.506823",
     "status": "completed"
    },
    "slideshow": {
     "slide_type": "slide"
    },
    "tags": []
   },
   "source": [
    "Published data masih dalam format string, jadi harus di convert ke tipe date terlebih dahulu"
   ]
  },
  {
   "cell_type": "code",
   "execution_count": 5,
   "id": "2074b22e",
   "metadata": {
    "_uuid": "c483cc50d636d11701b2d8dee0c786fc4d144b12",
    "execution": {
     "iopub.execute_input": "2021-08-24T14:01:45.660794Z",
     "iopub.status.busy": "2021-08-24T14:01:45.655509Z",
     "iopub.status.idle": "2021-08-24T14:01:45.722729Z",
     "shell.execute_reply": "2021-08-24T14:01:45.722109Z",
     "shell.execute_reply.started": "2021-08-24T14:00:47.933236Z"
    },
    "papermill": {
     "duration": 0.123557,
     "end_time": "2021-08-24T14:01:45.722894",
     "exception": false,
     "start_time": "2021-08-24T14:01:45.599337",
     "status": "completed"
    },
    "slideshow": {
     "slide_type": "slide"
    },
    "tags": []
   },
   "outputs": [],
   "source": [
    "df['published'] = pd.to_datetime(df['published'])"
   ]
  },
  {
   "cell_type": "markdown",
   "id": "f056f703",
   "metadata": {
    "_uuid": "9b2ce888af440d33ad69211bcaf120abae5e4095",
    "papermill": {
     "duration": 0.045658,
     "end_time": "2021-08-24T14:01:45.815550",
     "exception": false,
     "start_time": "2021-08-24T14:01:45.769892",
     "status": "completed"
    },
    "slideshow": {
     "slide_type": "slide"
    },
    "tags": []
   },
   "source": [
    "Check data, sort by published date"
   ]
  },
  {
   "cell_type": "code",
   "execution_count": 6,
   "id": "56f8dcdf",
   "metadata": {
    "_uuid": "d9e0315daa7bdec0fca1c37c8aaae059563d334d",
    "execution": {
     "iopub.execute_input": "2021-08-24T14:01:45.912853Z",
     "iopub.status.busy": "2021-08-24T14:01:45.912153Z",
     "iopub.status.idle": "2021-08-24T14:01:45.944640Z",
     "shell.execute_reply": "2021-08-24T14:01:45.944063Z",
     "shell.execute_reply.started": "2021-08-24T14:00:48.010171Z"
    },
    "papermill": {
     "duration": 0.082823,
     "end_time": "2021-08-24T14:01:45.944803",
     "exception": false,
     "start_time": "2021-08-24T14:01:45.861980",
     "status": "completed"
    },
    "slideshow": {
     "slide_type": "slide"
    },
    "tags": []
   },
   "outputs": [
    {
     "data": {
      "text/html": [
       "<div>\n",
       "<style scoped>\n",
       "    .dataframe tbody tr th:only-of-type {\n",
       "        vertical-align: middle;\n",
       "    }\n",
       "\n",
       "    .dataframe tbody tr th {\n",
       "        vertical-align: top;\n",
       "    }\n",
       "\n",
       "    .dataframe thead th {\n",
       "        text-align: right;\n",
       "    }\n",
       "</style>\n",
       "<table border=\"1\" class=\"dataframe\">\n",
       "  <thead>\n",
       "    <tr style=\"text-align: right;\">\n",
       "      <th></th>\n",
       "      <th>published</th>\n",
       "      <th>url</th>\n",
       "    </tr>\n",
       "  </thead>\n",
       "  <tbody>\n",
       "    <tr>\n",
       "      <th>50931</th>\n",
       "      <td>1970-01-01 00:00:00.001000+00:00</td>\n",
       "      <td>https://medium.com/iiot</td>\n",
       "    </tr>\n",
       "    <tr>\n",
       "      <th>40243</th>\n",
       "      <td>1970-01-01 00:00:00.001000+00:00</td>\n",
       "      <td>https://medium.com/@ikaella/melon-rebranding-b...</td>\n",
       "    </tr>\n",
       "    <tr>\n",
       "      <th>37395</th>\n",
       "      <td>1970-01-18 05:11:46.500000+00:00</td>\n",
       "      <td>http://www.novosti.rs/%D0%B2%D0%B5%D1%81%D1%82...</td>\n",
       "    </tr>\n",
       "  </tbody>\n",
       "</table>\n",
       "</div>"
      ],
      "text/plain": [
       "                             published  \\\n",
       "50931 1970-01-01 00:00:00.001000+00:00   \n",
       "40243 1970-01-01 00:00:00.001000+00:00   \n",
       "37395 1970-01-18 05:11:46.500000+00:00   \n",
       "\n",
       "                                                     url  \n",
       "50931                            https://medium.com/iiot  \n",
       "40243  https://medium.com/@ikaella/melon-rebranding-b...  \n",
       "37395  http://www.novosti.rs/%D0%B2%D0%B5%D1%81%D1%82...  "
      ]
     },
     "execution_count": 6,
     "metadata": {},
     "output_type": "execute_result"
    }
   ],
   "source": [
    "df.sort_values(by=['published']).head(n=3)"
   ]
  },
  {
   "cell_type": "markdown",
   "id": "154e562c",
   "metadata": {
    "_uuid": "4994d2f362bbd6419772afd5b3692c610f1c1d8b",
    "papermill": {
     "duration": 0.047612,
     "end_time": "2021-08-24T14:01:46.039418",
     "exception": false,
     "start_time": "2021-08-24T14:01:45.991806",
     "status": "completed"
    },
    "slideshow": {
     "slide_type": "slide"
    },
    "tags": []
   },
   "source": [
    "Medium itu rilis tanggal August 15, 2012. Kalau dilihat dari data yang kita dapatkan diatas, sepertinya itu ada beberapa dummy data. Jadi kita pastikan saja data yang kita ambil mulai dari 15 Agustus 2021 sampai 26 July 2017"
   ]
  },
  {
   "cell_type": "code",
   "execution_count": 7,
   "id": "26dd08ed",
   "metadata": {
    "_uuid": "8b89bad8dfe09a01693b1757f4e1305e2db503f2",
    "execution": {
     "iopub.execute_input": "2021-08-24T14:01:46.137693Z",
     "iopub.status.busy": "2021-08-24T14:01:46.137007Z",
     "iopub.status.idle": "2021-08-24T14:01:46.178455Z",
     "shell.execute_reply": "2021-08-24T14:01:46.177336Z",
     "shell.execute_reply.started": "2021-08-24T14:00:48.043662Z"
    },
    "papermill": {
     "duration": 0.093031,
     "end_time": "2021-08-24T14:01:46.178618",
     "exception": false,
     "start_time": "2021-08-24T14:01:46.085587",
     "status": "completed"
    },
    "slideshow": {
     "slide_type": "slide"
    },
    "tags": []
   },
   "outputs": [
    {
     "data": {
      "text/html": [
       "<div>\n",
       "<style scoped>\n",
       "    .dataframe tbody tr th:only-of-type {\n",
       "        vertical-align: middle;\n",
       "    }\n",
       "\n",
       "    .dataframe tbody tr th {\n",
       "        vertical-align: top;\n",
       "    }\n",
       "\n",
       "    .dataframe thead th {\n",
       "        text-align: right;\n",
       "    }\n",
       "</style>\n",
       "<table border=\"1\" class=\"dataframe\">\n",
       "  <thead>\n",
       "    <tr style=\"text-align: right;\">\n",
       "      <th></th>\n",
       "      <th>published</th>\n",
       "      <th>url</th>\n",
       "    </tr>\n",
       "  </thead>\n",
       "  <tbody>\n",
       "    <tr>\n",
       "      <th>24630</th>\n",
       "      <td>2012-08-15 00:25:03.373000+00:00</td>\n",
       "      <td>https://medium.com/launch-day/jean-attempts-to...</td>\n",
       "    </tr>\n",
       "    <tr>\n",
       "      <th>24631</th>\n",
       "      <td>2012-08-15 00:25:29.419000+00:00</td>\n",
       "      <td>https://medium.com/launch-day/dan-and-kristin-...</td>\n",
       "    </tr>\n",
       "    <tr>\n",
       "      <th>17811</th>\n",
       "      <td>2012-08-15 00:34:59.502000+00:00</td>\n",
       "      <td>https://medium.com/i-m-h-o/the-world-is-social...</td>\n",
       "    </tr>\n",
       "  </tbody>\n",
       "</table>\n",
       "</div>"
      ],
      "text/plain": [
       "                             published  \\\n",
       "24630 2012-08-15 00:25:03.373000+00:00   \n",
       "24631 2012-08-15 00:25:29.419000+00:00   \n",
       "17811 2012-08-15 00:34:59.502000+00:00   \n",
       "\n",
       "                                                     url  \n",
       "24630  https://medium.com/launch-day/jean-attempts-to...  \n",
       "24631  https://medium.com/launch-day/dan-and-kristin-...  \n",
       "17811  https://medium.com/i-m-h-o/the-world-is-social...  "
      ]
     },
     "execution_count": 7,
     "metadata": {},
     "output_type": "execute_result"
    }
   ],
   "source": [
    "df = df[(df['published'] > '2012-08-15') & (df['published'] < '2017-06-26')].sort_values(by=['published'])\n",
    "df.head(n=3)"
   ]
  },
  {
   "cell_type": "code",
   "execution_count": 8,
   "id": "b93cd0f8",
   "metadata": {
    "_uuid": "176c8e99183a3f28f11aee79628e463987b16c6e",
    "execution": {
     "iopub.execute_input": "2021-08-24T14:01:46.284478Z",
     "iopub.status.busy": "2021-08-24T14:01:46.283769Z",
     "iopub.status.idle": "2021-08-24T14:01:46.286604Z",
     "shell.execute_reply": "2021-08-24T14:01:46.287071Z",
     "shell.execute_reply.started": "2021-08-24T14:00:48.089867Z"
    },
    "papermill": {
     "duration": 0.061445,
     "end_time": "2021-08-24T14:01:46.287256",
     "exception": false,
     "start_time": "2021-08-24T14:01:46.225811",
     "status": "completed"
    },
    "slideshow": {
     "slide_type": "slide"
    },
    "tags": []
   },
   "outputs": [
    {
     "data": {
      "text/html": [
       "<div>\n",
       "<style scoped>\n",
       "    .dataframe tbody tr th:only-of-type {\n",
       "        vertical-align: middle;\n",
       "    }\n",
       "\n",
       "    .dataframe tbody tr th {\n",
       "        vertical-align: top;\n",
       "    }\n",
       "\n",
       "    .dataframe thead th {\n",
       "        text-align: right;\n",
       "    }\n",
       "</style>\n",
       "<table border=\"1\" class=\"dataframe\">\n",
       "  <thead>\n",
       "    <tr style=\"text-align: right;\">\n",
       "      <th></th>\n",
       "      <th>published</th>\n",
       "      <th>url</th>\n",
       "    </tr>\n",
       "  </thead>\n",
       "  <tbody>\n",
       "    <tr>\n",
       "      <th>62122</th>\n",
       "      <td>2017-06-25 23:36:01.171000+00:00</td>\n",
       "      <td>https://medium.com/push-the-pace/the-official-...</td>\n",
       "    </tr>\n",
       "    <tr>\n",
       "      <th>72471</th>\n",
       "      <td>2017-06-25 23:41:48.295000+00:00</td>\n",
       "      <td>https://medium.com/parti-xyz-developers/%EA%B4...</td>\n",
       "    </tr>\n",
       "    <tr>\n",
       "      <th>83283</th>\n",
       "      <td>2017-06-25 23:51:43+00:00</td>\n",
       "      <td>http://www.johanr.com/blog/people-support-dreams</td>\n",
       "    </tr>\n",
       "  </tbody>\n",
       "</table>\n",
       "</div>"
      ],
      "text/plain": [
       "                             published  \\\n",
       "62122 2017-06-25 23:36:01.171000+00:00   \n",
       "72471 2017-06-25 23:41:48.295000+00:00   \n",
       "83283        2017-06-25 23:51:43+00:00   \n",
       "\n",
       "                                                     url  \n",
       "62122  https://medium.com/push-the-pace/the-official-...  \n",
       "72471  https://medium.com/parti-xyz-developers/%EA%B4...  \n",
       "83283   http://www.johanr.com/blog/people-support-dreams  "
      ]
     },
     "execution_count": 8,
     "metadata": {},
     "output_type": "execute_result"
    }
   ],
   "source": [
    "df.tail(n=3)"
   ]
  },
  {
   "cell_type": "markdown",
   "id": "09d95c63",
   "metadata": {
    "_uuid": "c62261b848d69281dba39a14c6b473f0bfe603fc",
    "papermill": {
     "duration": 0.047329,
     "end_time": "2021-08-24T14:01:46.381467",
     "exception": false,
     "start_time": "2021-08-24T14:01:46.334138",
     "status": "completed"
    },
    "slideshow": {
     "slide_type": "slide"
    },
    "tags": []
   },
   "source": [
    "Kali ini kita ingin memprediksi jumlah postingan di medium, sehingga data yang kita punya harus kita aggregasikan dengan menggunakan count() berdasarkan published date"
   ]
  },
  {
   "cell_type": "code",
   "execution_count": 9,
   "id": "c1029796",
   "metadata": {
    "_uuid": "b676670adcc8124cbca7aaa1aa81d85ea68ce090",
    "execution": {
     "iopub.execute_input": "2021-08-24T14:01:46.478533Z",
     "iopub.status.busy": "2021-08-24T14:01:46.477803Z",
     "iopub.status.idle": "2021-08-24T14:01:46.522882Z",
     "shell.execute_reply": "2021-08-24T14:01:46.521118Z",
     "shell.execute_reply.started": "2021-08-24T14:00:48.103293Z"
    },
    "papermill": {
     "duration": 0.094758,
     "end_time": "2021-08-24T14:01:46.523058",
     "exception": false,
     "start_time": "2021-08-24T14:01:46.428300",
     "status": "completed"
    },
    "slideshow": {
     "slide_type": "slide"
    },
    "tags": []
   },
   "outputs": [],
   "source": [
    "aggr_df = df.groupby('published')[['url']].count()\n",
    "aggr_df.columns = ['posts']"
   ]
  },
  {
   "cell_type": "markdown",
   "id": "d54bbbca",
   "metadata": {
    "_uuid": "8d8d1a8bd7ac54a9bf18fc1dd6fdce171a50fdfb",
    "papermill": {
     "duration": 0.047829,
     "end_time": "2021-08-24T14:01:46.619979",
     "exception": false,
     "start_time": "2021-08-24T14:01:46.572150",
     "status": "completed"
    },
    "slideshow": {
     "slide_type": "slide"
    },
    "tags": []
   },
   "source": [
    "Data yang dihasilkan dari proses aggregasi ini bukan jumlah post per hari, mari kita check"
   ]
  },
  {
   "cell_type": "code",
   "execution_count": 10,
   "id": "98316f5a",
   "metadata": {
    "_uuid": "b4c472b778bcedc4d831b83e54f053cc942293ec",
    "execution": {
     "iopub.execute_input": "2021-08-24T14:01:46.728439Z",
     "iopub.status.busy": "2021-08-24T14:01:46.727531Z",
     "iopub.status.idle": "2021-08-24T14:01:46.732613Z",
     "shell.execute_reply": "2021-08-24T14:01:46.731924Z",
     "shell.execute_reply.started": "2021-08-24T14:00:48.153720Z"
    },
    "papermill": {
     "duration": 0.064967,
     "end_time": "2021-08-24T14:01:46.732765",
     "exception": false,
     "start_time": "2021-08-24T14:01:46.667798",
     "status": "completed"
    },
    "slideshow": {
     "slide_type": "slide"
    },
    "tags": []
   },
   "outputs": [
    {
     "data": {
      "text/html": [
       "<div>\n",
       "<style scoped>\n",
       "    .dataframe tbody tr th:only-of-type {\n",
       "        vertical-align: middle;\n",
       "    }\n",
       "\n",
       "    .dataframe tbody tr th {\n",
       "        vertical-align: top;\n",
       "    }\n",
       "\n",
       "    .dataframe thead th {\n",
       "        text-align: right;\n",
       "    }\n",
       "</style>\n",
       "<table border=\"1\" class=\"dataframe\">\n",
       "  <thead>\n",
       "    <tr style=\"text-align: right;\">\n",
       "      <th></th>\n",
       "      <th>posts</th>\n",
       "    </tr>\n",
       "    <tr>\n",
       "      <th>published</th>\n",
       "      <th></th>\n",
       "    </tr>\n",
       "  </thead>\n",
       "  <tbody>\n",
       "    <tr>\n",
       "      <th>2012-08-15 00:25:03.373000+00:00</th>\n",
       "      <td>1</td>\n",
       "    </tr>\n",
       "    <tr>\n",
       "      <th>2012-08-15 00:25:29.419000+00:00</th>\n",
       "      <td>1</td>\n",
       "    </tr>\n",
       "    <tr>\n",
       "      <th>2012-08-15 00:34:59.502000+00:00</th>\n",
       "      <td>1</td>\n",
       "    </tr>\n",
       "  </tbody>\n",
       "</table>\n",
       "</div>"
      ],
      "text/plain": [
       "                                  posts\n",
       "published                              \n",
       "2012-08-15 00:25:03.373000+00:00      1\n",
       "2012-08-15 00:25:29.419000+00:00      1\n",
       "2012-08-15 00:34:59.502000+00:00      1"
      ]
     },
     "execution_count": 10,
     "metadata": {},
     "output_type": "execute_result"
    }
   ],
   "source": [
    "aggr_df.head(n=3)"
   ]
  },
  {
   "cell_type": "markdown",
   "id": "2085170f",
   "metadata": {
    "_uuid": "b99962819e95c247a1440213c4023ca21b5ef9d2",
    "papermill": {
     "duration": 0.046841,
     "end_time": "2021-08-24T14:01:46.827708",
     "exception": false,
     "start_time": "2021-08-24T14:01:46.780867",
     "status": "completed"
    },
    "slideshow": {
     "slide_type": "slide"
    },
    "tags": []
   },
   "source": [
    "Nah agar datanya bisa jumlah post per day, kita bisa memanfaatkan fitur dari pandas, untuk resample bins sehingga kita bisa mendapatkan data jumlah post perday"
   ]
  },
  {
   "cell_type": "code",
   "execution_count": 11,
   "id": "7eb44322",
   "metadata": {
    "_uuid": "0d5489f6508ea3fe5ad6438c2de34df9946f162b",
    "execution": {
     "iopub.execute_input": "2021-08-24T14:01:46.928626Z",
     "iopub.status.busy": "2021-08-24T14:01:46.927640Z",
     "iopub.status.idle": "2021-08-24T14:01:47.094236Z",
     "shell.execute_reply": "2021-08-24T14:01:47.093589Z",
     "shell.execute_reply.started": "2021-08-24T14:00:48.165577Z"
    },
    "papermill": {
     "duration": 0.218867,
     "end_time": "2021-08-24T14:01:47.094396",
     "exception": false,
     "start_time": "2021-08-24T14:01:46.875529",
     "status": "completed"
    },
    "slideshow": {
     "slide_type": "slide"
    },
    "tags": []
   },
   "outputs": [
    {
     "data": {
      "text/html": [
       "<div>\n",
       "<style scoped>\n",
       "    .dataframe tbody tr th:only-of-type {\n",
       "        vertical-align: middle;\n",
       "    }\n",
       "\n",
       "    .dataframe tbody tr th {\n",
       "        vertical-align: top;\n",
       "    }\n",
       "\n",
       "    .dataframe thead th {\n",
       "        text-align: right;\n",
       "    }\n",
       "</style>\n",
       "<table border=\"1\" class=\"dataframe\">\n",
       "  <thead>\n",
       "    <tr style=\"text-align: right;\">\n",
       "      <th></th>\n",
       "      <th>posts</th>\n",
       "    </tr>\n",
       "    <tr>\n",
       "      <th>published</th>\n",
       "      <th></th>\n",
       "    </tr>\n",
       "  </thead>\n",
       "  <tbody>\n",
       "    <tr>\n",
       "      <th>2012-08-15 00:00:00+00:00</th>\n",
       "      <td>16</td>\n",
       "    </tr>\n",
       "    <tr>\n",
       "      <th>2012-08-16 00:00:00+00:00</th>\n",
       "      <td>11</td>\n",
       "    </tr>\n",
       "    <tr>\n",
       "      <th>2012-08-17 00:00:00+00:00</th>\n",
       "      <td>4</td>\n",
       "    </tr>\n",
       "  </tbody>\n",
       "</table>\n",
       "</div>"
      ],
      "text/plain": [
       "                           posts\n",
       "published                       \n",
       "2012-08-15 00:00:00+00:00     16\n",
       "2012-08-16 00:00:00+00:00     11\n",
       "2012-08-17 00:00:00+00:00      4"
      ]
     },
     "execution_count": 11,
     "metadata": {},
     "output_type": "execute_result"
    }
   ],
   "source": [
    "daily_df = aggr_df.resample('D').apply(sum)\n",
    "daily_df.head(n=3)"
   ]
  },
  {
   "cell_type": "markdown",
   "id": "ad7f2d32",
   "metadata": {
    "papermill": {
     "duration": 0.048857,
     "end_time": "2021-08-24T14:01:47.192609",
     "exception": false,
     "start_time": "2021-08-24T14:01:47.143752",
     "status": "completed"
    },
    "slideshow": {
     "slide_type": "slide"
    },
    "tags": []
   },
   "source": [
    "# Coba plotting data"
   ]
  },
  {
   "cell_type": "code",
   "execution_count": 12,
   "id": "3733c655",
   "metadata": {
    "_uuid": "b107063f4937cfd79ac3c5c01b24890bf9d7fad2",
    "execution": {
     "iopub.execute_input": "2021-08-24T14:01:47.293014Z",
     "iopub.status.busy": "2021-08-24T14:01:47.292144Z",
     "iopub.status.idle": "2021-08-24T14:01:47.362306Z",
     "shell.execute_reply": "2021-08-24T14:01:47.361699Z",
     "shell.execute_reply.started": "2021-08-24T14:00:48.343917Z"
    },
    "papermill": {
     "duration": 0.122337,
     "end_time": "2021-08-24T14:01:47.362473",
     "exception": false,
     "start_time": "2021-08-24T14:01:47.240136",
     "status": "completed"
    },
    "slideshow": {
     "slide_type": "slide"
    },
    "tags": []
   },
   "outputs": [
    {
     "data": {
      "text/html": [
       "        <script type=\"text/javascript\">\n",
       "        window.PlotlyConfig = {MathJaxConfig: 'local'};\n",
       "        if (window.MathJax) {MathJax.Hub.Config({SVG: {font: \"STIX-Web\"}});}\n",
       "        if (typeof require !== 'undefined') {\n",
       "        require.undef(\"plotly\");\n",
       "        requirejs.config({\n",
       "            paths: {\n",
       "                'plotly': ['https://cdn.plot.ly/plotly-2.2.0.min']\n",
       "            }\n",
       "        });\n",
       "        require(['plotly'], function(Plotly) {\n",
       "            window._Plotly = Plotly;\n",
       "        });\n",
       "        }\n",
       "        </script>\n",
       "        "
      ]
     },
     "metadata": {},
     "output_type": "display_data"
    }
   ],
   "source": [
    "from plotly.offline import init_notebook_mode, iplot\n",
    "from plotly import graph_objs as go\n",
    "\n",
    "# Initialize plotly\n",
    "init_notebook_mode(connected=True)"
   ]
  },
  {
   "cell_type": "code",
   "execution_count": 13,
   "id": "721ef7b0",
   "metadata": {
    "_uuid": "33a287a1f6865b17c5338453f8aa5149cdc45f64",
    "execution": {
     "iopub.execute_input": "2021-08-24T14:01:47.467286Z",
     "iopub.status.busy": "2021-08-24T14:01:47.466316Z",
     "iopub.status.idle": "2021-08-24T14:01:47.470077Z",
     "shell.execute_reply": "2021-08-24T14:01:47.469550Z",
     "shell.execute_reply.started": "2021-08-24T14:00:48.351127Z"
    },
    "papermill": {
     "duration": 0.059191,
     "end_time": "2021-08-24T14:01:47.470240",
     "exception": false,
     "start_time": "2021-08-24T14:01:47.411049",
     "status": "completed"
    },
    "slideshow": {
     "slide_type": "slide"
    },
    "tags": []
   },
   "outputs": [],
   "source": [
    "def plotly_df(df, title=''):\n",
    "    \"\"\"Visualize all the dataframe columns as line plots.\"\"\"\n",
    "    common_kw = dict(x=df.index, mode='lines')\n",
    "    data = [go.Scatter(y=df[c], name=c, **common_kw) for c in df.columns]\n",
    "    layout = dict(title=title)\n",
    "    fig = dict(data=data, layout=layout)\n",
    "    iplot(fig, show_link=False)"
   ]
  },
  {
   "cell_type": "code",
   "execution_count": 14,
   "id": "dfe2764f",
   "metadata": {
    "_uuid": "43d02e991d274a2f2fd813a0ccf53c6bdbec339a",
    "execution": {
     "iopub.execute_input": "2021-08-24T14:01:47.574331Z",
     "iopub.status.busy": "2021-08-24T14:01:47.573649Z",
     "iopub.status.idle": "2021-08-24T14:01:49.105407Z",
     "shell.execute_reply": "2021-08-24T14:01:49.105932Z",
     "shell.execute_reply.started": "2021-08-24T14:00:48.367382Z"
    },
    "papermill": {
     "duration": 1.587046,
     "end_time": "2021-08-24T14:01:49.106111",
     "exception": false,
     "start_time": "2021-08-24T14:01:47.519065",
     "status": "completed"
    },
    "slideshow": {
     "slide_type": "slide"
    },
    "tags": []
   },
   "outputs": [
    {
     "data": {
      "application/vnd.plotly.v1+json": {
       "config": {
        "linkText": "Export to plot.ly",
        "plotlyServerURL": "https://plot.ly",
        "showLink": false
       },
       "data": [
        {
         "mode": "lines",
         "name": "posts",
         "type": "scatter",
         "x": [
          "2012-08-15T00:00:00+00:00",
          "2012-08-16T00:00:00+00:00",
          "2012-08-17T00:00:00+00:00",
          "2012-08-18T00:00:00+00:00",
          "2012-08-19T00:00:00+00:00",
          "2012-08-20T00:00:00+00:00",
          "2012-08-21T00:00:00+00:00",
          "2012-08-22T00:00:00+00:00",
          "2012-08-23T00:00:00+00:00",
          "2012-08-24T00:00:00+00:00",
          "2012-08-25T00:00:00+00:00",
          "2012-08-26T00:00:00+00:00",
          "2012-08-27T00:00:00+00:00",
          "2012-08-28T00:00:00+00:00",
          "2012-08-29T00:00:00+00:00",
          "2012-08-30T00:00:00+00:00",
          "2012-08-31T00:00:00+00:00",
          "2012-09-01T00:00:00+00:00",
          "2012-09-02T00:00:00+00:00",
          "2012-09-03T00:00:00+00:00",
          "2012-09-04T00:00:00+00:00",
          "2012-09-05T00:00:00+00:00",
          "2012-09-06T00:00:00+00:00",
          "2012-09-07T00:00:00+00:00",
          "2012-09-08T00:00:00+00:00",
          "2012-09-09T00:00:00+00:00",
          "2012-09-10T00:00:00+00:00",
          "2012-09-11T00:00:00+00:00",
          "2012-09-12T00:00:00+00:00",
          "2012-09-13T00:00:00+00:00",
          "2012-09-14T00:00:00+00:00",
          "2012-09-15T00:00:00+00:00",
          "2012-09-16T00:00:00+00:00",
          "2012-09-17T00:00:00+00:00",
          "2012-09-18T00:00:00+00:00",
          "2012-09-19T00:00:00+00:00",
          "2012-09-20T00:00:00+00:00",
          "2012-09-21T00:00:00+00:00",
          "2012-09-22T00:00:00+00:00",
          "2012-09-23T00:00:00+00:00",
          "2012-09-24T00:00:00+00:00",
          "2012-09-25T00:00:00+00:00",
          "2012-09-26T00:00:00+00:00",
          "2012-09-27T00:00:00+00:00",
          "2012-09-28T00:00:00+00:00",
          "2012-09-29T00:00:00+00:00",
          "2012-09-30T00:00:00+00:00",
          "2012-10-01T00:00:00+00:00",
          "2012-10-02T00:00:00+00:00",
          "2012-10-03T00:00:00+00:00",
          "2012-10-04T00:00:00+00:00",
          "2012-10-05T00:00:00+00:00",
          "2012-10-06T00:00:00+00:00",
          "2012-10-07T00:00:00+00:00",
          "2012-10-08T00:00:00+00:00",
          "2012-10-09T00:00:00+00:00",
          "2012-10-10T00:00:00+00:00",
          "2012-10-11T00:00:00+00:00",
          "2012-10-12T00:00:00+00:00",
          "2012-10-13T00:00:00+00:00",
          "2012-10-14T00:00:00+00:00",
          "2012-10-15T00:00:00+00:00",
          "2012-10-16T00:00:00+00:00",
          "2012-10-17T00:00:00+00:00",
          "2012-10-18T00:00:00+00:00",
          "2012-10-19T00:00:00+00:00",
          "2012-10-20T00:00:00+00:00",
          "2012-10-21T00:00:00+00:00",
          "2012-10-22T00:00:00+00:00",
          "2012-10-23T00:00:00+00:00",
          "2012-10-24T00:00:00+00:00",
          "2012-10-25T00:00:00+00:00",
          "2012-10-26T00:00:00+00:00",
          "2012-10-27T00:00:00+00:00",
          "2012-10-28T00:00:00+00:00",
          "2012-10-29T00:00:00+00:00",
          "2012-10-30T00:00:00+00:00",
          "2012-10-31T00:00:00+00:00",
          "2012-11-01T00:00:00+00:00",
          "2012-11-02T00:00:00+00:00",
          "2012-11-03T00:00:00+00:00",
          "2012-11-04T00:00:00+00:00",
          "2012-11-05T00:00:00+00:00",
          "2012-11-06T00:00:00+00:00",
          "2012-11-07T00:00:00+00:00",
          "2012-11-08T00:00:00+00:00",
          "2012-11-09T00:00:00+00:00",
          "2012-11-10T00:00:00+00:00",
          "2012-11-11T00:00:00+00:00",
          "2012-11-12T00:00:00+00:00",
          "2012-11-13T00:00:00+00:00",
          "2012-11-14T00:00:00+00:00",
          "2012-11-15T00:00:00+00:00",
          "2012-11-16T00:00:00+00:00",
          "2012-11-17T00:00:00+00:00",
          "2012-11-18T00:00:00+00:00",
          "2012-11-19T00:00:00+00:00",
          "2012-11-20T00:00:00+00:00",
          "2012-11-21T00:00:00+00:00",
          "2012-11-22T00:00:00+00:00",
          "2012-11-23T00:00:00+00:00",
          "2012-11-24T00:00:00+00:00",
          "2012-11-25T00:00:00+00:00",
          "2012-11-26T00:00:00+00:00",
          "2012-11-27T00:00:00+00:00",
          "2012-11-28T00:00:00+00:00",
          "2012-11-29T00:00:00+00:00",
          "2012-11-30T00:00:00+00:00",
          "2012-12-01T00:00:00+00:00",
          "2012-12-02T00:00:00+00:00",
          "2012-12-03T00:00:00+00:00",
          "2012-12-04T00:00:00+00:00",
          "2012-12-05T00:00:00+00:00",
          "2012-12-06T00:00:00+00:00",
          "2012-12-07T00:00:00+00:00",
          "2012-12-08T00:00:00+00:00",
          "2012-12-09T00:00:00+00:00",
          "2012-12-10T00:00:00+00:00",
          "2012-12-11T00:00:00+00:00",
          "2012-12-12T00:00:00+00:00",
          "2012-12-13T00:00:00+00:00",
          "2012-12-14T00:00:00+00:00",
          "2012-12-15T00:00:00+00:00",
          "2012-12-16T00:00:00+00:00",
          "2012-12-17T00:00:00+00:00",
          "2012-12-18T00:00:00+00:00",
          "2012-12-19T00:00:00+00:00",
          "2012-12-20T00:00:00+00:00",
          "2012-12-21T00:00:00+00:00",
          "2012-12-22T00:00:00+00:00",
          "2012-12-23T00:00:00+00:00",
          "2012-12-24T00:00:00+00:00",
          "2012-12-25T00:00:00+00:00",
          "2012-12-26T00:00:00+00:00",
          "2012-12-27T00:00:00+00:00",
          "2012-12-28T00:00:00+00:00",
          "2012-12-29T00:00:00+00:00",
          "2012-12-30T00:00:00+00:00",
          "2012-12-31T00:00:00+00:00",
          "2013-01-01T00:00:00+00:00",
          "2013-01-02T00:00:00+00:00",
          "2013-01-03T00:00:00+00:00",
          "2013-01-04T00:00:00+00:00",
          "2013-01-05T00:00:00+00:00",
          "2013-01-06T00:00:00+00:00",
          "2013-01-07T00:00:00+00:00",
          "2013-01-08T00:00:00+00:00",
          "2013-01-09T00:00:00+00:00",
          "2013-01-10T00:00:00+00:00",
          "2013-01-11T00:00:00+00:00",
          "2013-01-12T00:00:00+00:00",
          "2013-01-13T00:00:00+00:00",
          "2013-01-14T00:00:00+00:00",
          "2013-01-15T00:00:00+00:00",
          "2013-01-16T00:00:00+00:00",
          "2013-01-17T00:00:00+00:00",
          "2013-01-18T00:00:00+00:00",
          "2013-01-19T00:00:00+00:00",
          "2013-01-20T00:00:00+00:00",
          "2013-01-21T00:00:00+00:00",
          "2013-01-22T00:00:00+00:00",
          "2013-01-23T00:00:00+00:00",
          "2013-01-24T00:00:00+00:00",
          "2013-01-25T00:00:00+00:00",
          "2013-01-26T00:00:00+00:00",
          "2013-01-27T00:00:00+00:00",
          "2013-01-28T00:00:00+00:00",
          "2013-01-29T00:00:00+00:00",
          "2013-01-30T00:00:00+00:00",
          "2013-01-31T00:00:00+00:00",
          "2013-02-01T00:00:00+00:00",
          "2013-02-02T00:00:00+00:00",
          "2013-02-03T00:00:00+00:00",
          "2013-02-04T00:00:00+00:00",
          "2013-02-05T00:00:00+00:00",
          "2013-02-06T00:00:00+00:00",
          "2013-02-07T00:00:00+00:00",
          "2013-02-08T00:00:00+00:00",
          "2013-02-09T00:00:00+00:00",
          "2013-02-10T00:00:00+00:00",
          "2013-02-11T00:00:00+00:00",
          "2013-02-12T00:00:00+00:00",
          "2013-02-13T00:00:00+00:00",
          "2013-02-14T00:00:00+00:00",
          "2013-02-15T00:00:00+00:00",
          "2013-02-16T00:00:00+00:00",
          "2013-02-17T00:00:00+00:00",
          "2013-02-18T00:00:00+00:00",
          "2013-02-19T00:00:00+00:00",
          "2013-02-20T00:00:00+00:00",
          "2013-02-21T00:00:00+00:00",
          "2013-02-22T00:00:00+00:00",
          "2013-02-23T00:00:00+00:00",
          "2013-02-24T00:00:00+00:00",
          "2013-02-25T00:00:00+00:00",
          "2013-02-26T00:00:00+00:00",
          "2013-02-27T00:00:00+00:00",
          "2013-02-28T00:00:00+00:00",
          "2013-03-01T00:00:00+00:00",
          "2013-03-02T00:00:00+00:00",
          "2013-03-03T00:00:00+00:00",
          "2013-03-04T00:00:00+00:00",
          "2013-03-05T00:00:00+00:00",
          "2013-03-06T00:00:00+00:00",
          "2013-03-07T00:00:00+00:00",
          "2013-03-08T00:00:00+00:00",
          "2013-03-09T00:00:00+00:00",
          "2013-03-10T00:00:00+00:00",
          "2013-03-11T00:00:00+00:00",
          "2013-03-12T00:00:00+00:00",
          "2013-03-13T00:00:00+00:00",
          "2013-03-14T00:00:00+00:00",
          "2013-03-15T00:00:00+00:00",
          "2013-03-16T00:00:00+00:00",
          "2013-03-17T00:00:00+00:00",
          "2013-03-18T00:00:00+00:00",
          "2013-03-19T00:00:00+00:00",
          "2013-03-20T00:00:00+00:00",
          "2013-03-21T00:00:00+00:00",
          "2013-03-22T00:00:00+00:00",
          "2013-03-23T00:00:00+00:00",
          "2013-03-24T00:00:00+00:00",
          "2013-03-25T00:00:00+00:00",
          "2013-03-26T00:00:00+00:00",
          "2013-03-27T00:00:00+00:00",
          "2013-03-28T00:00:00+00:00",
          "2013-03-29T00:00:00+00:00",
          "2013-03-30T00:00:00+00:00",
          "2013-03-31T00:00:00+00:00",
          "2013-04-01T00:00:00+00:00",
          "2013-04-02T00:00:00+00:00",
          "2013-04-03T00:00:00+00:00",
          "2013-04-04T00:00:00+00:00",
          "2013-04-05T00:00:00+00:00",
          "2013-04-06T00:00:00+00:00",
          "2013-04-07T00:00:00+00:00",
          "2013-04-08T00:00:00+00:00",
          "2013-04-09T00:00:00+00:00",
          "2013-04-10T00:00:00+00:00",
          "2013-04-11T00:00:00+00:00",
          "2013-04-12T00:00:00+00:00",
          "2013-04-13T00:00:00+00:00",
          "2013-04-14T00:00:00+00:00",
          "2013-04-15T00:00:00+00:00",
          "2013-04-16T00:00:00+00:00",
          "2013-04-17T00:00:00+00:00",
          "2013-04-18T00:00:00+00:00",
          "2013-04-19T00:00:00+00:00",
          "2013-04-20T00:00:00+00:00",
          "2013-04-21T00:00:00+00:00",
          "2013-04-22T00:00:00+00:00",
          "2013-04-23T00:00:00+00:00",
          "2013-04-24T00:00:00+00:00",
          "2013-04-25T00:00:00+00:00",
          "2013-04-26T00:00:00+00:00",
          "2013-04-27T00:00:00+00:00",
          "2013-04-28T00:00:00+00:00",
          "2013-04-29T00:00:00+00:00",
          "2013-04-30T00:00:00+00:00",
          "2013-05-01T00:00:00+00:00",
          "2013-05-02T00:00:00+00:00",
          "2013-05-03T00:00:00+00:00",
          "2013-05-04T00:00:00+00:00",
          "2013-05-05T00:00:00+00:00",
          "2013-05-06T00:00:00+00:00",
          "2013-05-07T00:00:00+00:00",
          "2013-05-08T00:00:00+00:00",
          "2013-05-09T00:00:00+00:00",
          "2013-05-10T00:00:00+00:00",
          "2013-05-11T00:00:00+00:00",
          "2013-05-12T00:00:00+00:00",
          "2013-05-13T00:00:00+00:00",
          "2013-05-14T00:00:00+00:00",
          "2013-05-15T00:00:00+00:00",
          "2013-05-16T00:00:00+00:00",
          "2013-05-17T00:00:00+00:00",
          "2013-05-18T00:00:00+00:00",
          "2013-05-19T00:00:00+00:00",
          "2013-05-20T00:00:00+00:00",
          "2013-05-21T00:00:00+00:00",
          "2013-05-22T00:00:00+00:00",
          "2013-05-23T00:00:00+00:00",
          "2013-05-24T00:00:00+00:00",
          "2013-05-25T00:00:00+00:00",
          "2013-05-26T00:00:00+00:00",
          "2013-05-27T00:00:00+00:00",
          "2013-05-28T00:00:00+00:00",
          "2013-05-29T00:00:00+00:00",
          "2013-05-30T00:00:00+00:00",
          "2013-05-31T00:00:00+00:00",
          "2013-06-01T00:00:00+00:00",
          "2013-06-02T00:00:00+00:00",
          "2013-06-03T00:00:00+00:00",
          "2013-06-04T00:00:00+00:00",
          "2013-06-05T00:00:00+00:00",
          "2013-06-06T00:00:00+00:00",
          "2013-06-07T00:00:00+00:00",
          "2013-06-08T00:00:00+00:00",
          "2013-06-09T00:00:00+00:00",
          "2013-06-10T00:00:00+00:00",
          "2013-06-11T00:00:00+00:00",
          "2013-06-12T00:00:00+00:00",
          "2013-06-13T00:00:00+00:00",
          "2013-06-14T00:00:00+00:00",
          "2013-06-15T00:00:00+00:00",
          "2013-06-16T00:00:00+00:00",
          "2013-06-17T00:00:00+00:00",
          "2013-06-18T00:00:00+00:00",
          "2013-06-19T00:00:00+00:00",
          "2013-06-20T00:00:00+00:00",
          "2013-06-21T00:00:00+00:00",
          "2013-06-22T00:00:00+00:00",
          "2013-06-23T00:00:00+00:00",
          "2013-06-24T00:00:00+00:00",
          "2013-06-25T00:00:00+00:00",
          "2013-06-26T00:00:00+00:00",
          "2013-06-27T00:00:00+00:00",
          "2013-06-28T00:00:00+00:00",
          "2013-06-29T00:00:00+00:00",
          "2013-06-30T00:00:00+00:00",
          "2013-07-01T00:00:00+00:00",
          "2013-07-02T00:00:00+00:00",
          "2013-07-03T00:00:00+00:00",
          "2013-07-04T00:00:00+00:00",
          "2013-07-05T00:00:00+00:00",
          "2013-07-06T00:00:00+00:00",
          "2013-07-07T00:00:00+00:00",
          "2013-07-08T00:00:00+00:00",
          "2013-07-09T00:00:00+00:00",
          "2013-07-10T00:00:00+00:00",
          "2013-07-11T00:00:00+00:00",
          "2013-07-12T00:00:00+00:00",
          "2013-07-13T00:00:00+00:00",
          "2013-07-14T00:00:00+00:00",
          "2013-07-15T00:00:00+00:00",
          "2013-07-16T00:00:00+00:00",
          "2013-07-17T00:00:00+00:00",
          "2013-07-18T00:00:00+00:00",
          "2013-07-19T00:00:00+00:00",
          "2013-07-20T00:00:00+00:00",
          "2013-07-21T00:00:00+00:00",
          "2013-07-22T00:00:00+00:00",
          "2013-07-23T00:00:00+00:00",
          "2013-07-24T00:00:00+00:00",
          "2013-07-25T00:00:00+00:00",
          "2013-07-26T00:00:00+00:00",
          "2013-07-27T00:00:00+00:00",
          "2013-07-28T00:00:00+00:00",
          "2013-07-29T00:00:00+00:00",
          "2013-07-30T00:00:00+00:00",
          "2013-07-31T00:00:00+00:00",
          "2013-08-01T00:00:00+00:00",
          "2013-08-02T00:00:00+00:00",
          "2013-08-03T00:00:00+00:00",
          "2013-08-04T00:00:00+00:00",
          "2013-08-05T00:00:00+00:00",
          "2013-08-06T00:00:00+00:00",
          "2013-08-07T00:00:00+00:00",
          "2013-08-08T00:00:00+00:00",
          "2013-08-09T00:00:00+00:00",
          "2013-08-10T00:00:00+00:00",
          "2013-08-11T00:00:00+00:00",
          "2013-08-12T00:00:00+00:00",
          "2013-08-13T00:00:00+00:00",
          "2013-08-14T00:00:00+00:00",
          "2013-08-15T00:00:00+00:00",
          "2013-08-16T00:00:00+00:00",
          "2013-08-17T00:00:00+00:00",
          "2013-08-18T00:00:00+00:00",
          "2013-08-19T00:00:00+00:00",
          "2013-08-20T00:00:00+00:00",
          "2013-08-21T00:00:00+00:00",
          "2013-08-22T00:00:00+00:00",
          "2013-08-23T00:00:00+00:00",
          "2013-08-24T00:00:00+00:00",
          "2013-08-25T00:00:00+00:00",
          "2013-08-26T00:00:00+00:00",
          "2013-08-27T00:00:00+00:00",
          "2013-08-28T00:00:00+00:00",
          "2013-08-29T00:00:00+00:00",
          "2013-08-30T00:00:00+00:00",
          "2013-08-31T00:00:00+00:00",
          "2013-09-01T00:00:00+00:00",
          "2013-09-02T00:00:00+00:00",
          "2013-09-03T00:00:00+00:00",
          "2013-09-04T00:00:00+00:00",
          "2013-09-05T00:00:00+00:00",
          "2013-09-06T00:00:00+00:00",
          "2013-09-07T00:00:00+00:00",
          "2013-09-08T00:00:00+00:00",
          "2013-09-09T00:00:00+00:00",
          "2013-09-10T00:00:00+00:00",
          "2013-09-11T00:00:00+00:00",
          "2013-09-12T00:00:00+00:00",
          "2013-09-13T00:00:00+00:00",
          "2013-09-14T00:00:00+00:00",
          "2013-09-15T00:00:00+00:00",
          "2013-09-16T00:00:00+00:00",
          "2013-09-17T00:00:00+00:00",
          "2013-09-18T00:00:00+00:00",
          "2013-09-19T00:00:00+00:00",
          "2013-09-20T00:00:00+00:00",
          "2013-09-21T00:00:00+00:00",
          "2013-09-22T00:00:00+00:00",
          "2013-09-23T00:00:00+00:00",
          "2013-09-24T00:00:00+00:00",
          "2013-09-25T00:00:00+00:00",
          "2013-09-26T00:00:00+00:00",
          "2013-09-27T00:00:00+00:00",
          "2013-09-28T00:00:00+00:00",
          "2013-09-29T00:00:00+00:00",
          "2013-09-30T00:00:00+00:00",
          "2013-10-01T00:00:00+00:00",
          "2013-10-02T00:00:00+00:00",
          "2013-10-03T00:00:00+00:00",
          "2013-10-04T00:00:00+00:00",
          "2013-10-05T00:00:00+00:00",
          "2013-10-06T00:00:00+00:00",
          "2013-10-07T00:00:00+00:00",
          "2013-10-08T00:00:00+00:00",
          "2013-10-09T00:00:00+00:00",
          "2013-10-10T00:00:00+00:00",
          "2013-10-11T00:00:00+00:00",
          "2013-10-12T00:00:00+00:00",
          "2013-10-13T00:00:00+00:00",
          "2013-10-14T00:00:00+00:00",
          "2013-10-15T00:00:00+00:00",
          "2013-10-16T00:00:00+00:00",
          "2013-10-17T00:00:00+00:00",
          "2013-10-18T00:00:00+00:00",
          "2013-10-19T00:00:00+00:00",
          "2013-10-20T00:00:00+00:00",
          "2013-10-21T00:00:00+00:00",
          "2013-10-22T00:00:00+00:00",
          "2013-10-23T00:00:00+00:00",
          "2013-10-24T00:00:00+00:00",
          "2013-10-25T00:00:00+00:00",
          "2013-10-26T00:00:00+00:00",
          "2013-10-27T00:00:00+00:00",
          "2013-10-28T00:00:00+00:00",
          "2013-10-29T00:00:00+00:00",
          "2013-10-30T00:00:00+00:00",
          "2013-10-31T00:00:00+00:00",
          "2013-11-01T00:00:00+00:00",
          "2013-11-02T00:00:00+00:00",
          "2013-11-03T00:00:00+00:00",
          "2013-11-04T00:00:00+00:00",
          "2013-11-05T00:00:00+00:00",
          "2013-11-06T00:00:00+00:00",
          "2013-11-07T00:00:00+00:00",
          "2013-11-08T00:00:00+00:00",
          "2013-11-09T00:00:00+00:00",
          "2013-11-10T00:00:00+00:00",
          "2013-11-11T00:00:00+00:00",
          "2013-11-12T00:00:00+00:00",
          "2013-11-13T00:00:00+00:00",
          "2013-11-14T00:00:00+00:00",
          "2013-11-15T00:00:00+00:00",
          "2013-11-16T00:00:00+00:00",
          "2013-11-17T00:00:00+00:00",
          "2013-11-18T00:00:00+00:00",
          "2013-11-19T00:00:00+00:00",
          "2013-11-20T00:00:00+00:00",
          "2013-11-21T00:00:00+00:00",
          "2013-11-22T00:00:00+00:00",
          "2013-11-23T00:00:00+00:00",
          "2013-11-24T00:00:00+00:00",
          "2013-11-25T00:00:00+00:00",
          "2013-11-26T00:00:00+00:00",
          "2013-11-27T00:00:00+00:00",
          "2013-11-28T00:00:00+00:00",
          "2013-11-29T00:00:00+00:00",
          "2013-11-30T00:00:00+00:00",
          "2013-12-01T00:00:00+00:00",
          "2013-12-02T00:00:00+00:00",
          "2013-12-03T00:00:00+00:00",
          "2013-12-04T00:00:00+00:00",
          "2013-12-05T00:00:00+00:00",
          "2013-12-06T00:00:00+00:00",
          "2013-12-07T00:00:00+00:00",
          "2013-12-08T00:00:00+00:00",
          "2013-12-09T00:00:00+00:00",
          "2013-12-10T00:00:00+00:00",
          "2013-12-11T00:00:00+00:00",
          "2013-12-12T00:00:00+00:00",
          "2013-12-13T00:00:00+00:00",
          "2013-12-14T00:00:00+00:00",
          "2013-12-15T00:00:00+00:00",
          "2013-12-16T00:00:00+00:00",
          "2013-12-17T00:00:00+00:00",
          "2013-12-18T00:00:00+00:00",
          "2013-12-19T00:00:00+00:00",
          "2013-12-20T00:00:00+00:00",
          "2013-12-21T00:00:00+00:00",
          "2013-12-22T00:00:00+00:00",
          "2013-12-23T00:00:00+00:00",
          "2013-12-24T00:00:00+00:00",
          "2013-12-25T00:00:00+00:00",
          "2013-12-26T00:00:00+00:00",
          "2013-12-27T00:00:00+00:00",
          "2013-12-28T00:00:00+00:00",
          "2013-12-29T00:00:00+00:00",
          "2013-12-30T00:00:00+00:00",
          "2013-12-31T00:00:00+00:00",
          "2014-01-01T00:00:00+00:00",
          "2014-01-02T00:00:00+00:00",
          "2014-01-03T00:00:00+00:00",
          "2014-01-04T00:00:00+00:00",
          "2014-01-05T00:00:00+00:00",
          "2014-01-06T00:00:00+00:00",
          "2014-01-07T00:00:00+00:00",
          "2014-01-08T00:00:00+00:00",
          "2014-01-09T00:00:00+00:00",
          "2014-01-10T00:00:00+00:00",
          "2014-01-11T00:00:00+00:00",
          "2014-01-12T00:00:00+00:00",
          "2014-01-13T00:00:00+00:00",
          "2014-01-14T00:00:00+00:00",
          "2014-01-15T00:00:00+00:00",
          "2014-01-16T00:00:00+00:00",
          "2014-01-17T00:00:00+00:00",
          "2014-01-18T00:00:00+00:00",
          "2014-01-19T00:00:00+00:00",
          "2014-01-20T00:00:00+00:00",
          "2014-01-21T00:00:00+00:00",
          "2014-01-22T00:00:00+00:00",
          "2014-01-23T00:00:00+00:00",
          "2014-01-24T00:00:00+00:00",
          "2014-01-25T00:00:00+00:00",
          "2014-01-26T00:00:00+00:00",
          "2014-01-27T00:00:00+00:00",
          "2014-01-28T00:00:00+00:00",
          "2014-01-29T00:00:00+00:00",
          "2014-01-30T00:00:00+00:00",
          "2014-01-31T00:00:00+00:00",
          "2014-02-01T00:00:00+00:00",
          "2014-02-02T00:00:00+00:00",
          "2014-02-03T00:00:00+00:00",
          "2014-02-04T00:00:00+00:00",
          "2014-02-05T00:00:00+00:00",
          "2014-02-06T00:00:00+00:00",
          "2014-02-07T00:00:00+00:00",
          "2014-02-08T00:00:00+00:00",
          "2014-02-09T00:00:00+00:00",
          "2014-02-10T00:00:00+00:00",
          "2014-02-11T00:00:00+00:00",
          "2014-02-12T00:00:00+00:00",
          "2014-02-13T00:00:00+00:00",
          "2014-02-14T00:00:00+00:00",
          "2014-02-15T00:00:00+00:00",
          "2014-02-16T00:00:00+00:00",
          "2014-02-17T00:00:00+00:00",
          "2014-02-18T00:00:00+00:00",
          "2014-02-19T00:00:00+00:00",
          "2014-02-20T00:00:00+00:00",
          "2014-02-21T00:00:00+00:00",
          "2014-02-22T00:00:00+00:00",
          "2014-02-23T00:00:00+00:00",
          "2014-02-24T00:00:00+00:00",
          "2014-02-25T00:00:00+00:00",
          "2014-02-26T00:00:00+00:00",
          "2014-02-27T00:00:00+00:00",
          "2014-02-28T00:00:00+00:00",
          "2014-03-01T00:00:00+00:00",
          "2014-03-02T00:00:00+00:00",
          "2014-03-03T00:00:00+00:00",
          "2014-03-04T00:00:00+00:00",
          "2014-03-05T00:00:00+00:00",
          "2014-03-06T00:00:00+00:00",
          "2014-03-07T00:00:00+00:00",
          "2014-03-08T00:00:00+00:00",
          "2014-03-09T00:00:00+00:00",
          "2014-03-10T00:00:00+00:00",
          "2014-03-11T00:00:00+00:00",
          "2014-03-12T00:00:00+00:00",
          "2014-03-13T00:00:00+00:00",
          "2014-03-14T00:00:00+00:00",
          "2014-03-15T00:00:00+00:00",
          "2014-03-16T00:00:00+00:00",
          "2014-03-17T00:00:00+00:00",
          "2014-03-18T00:00:00+00:00",
          "2014-03-19T00:00:00+00:00",
          "2014-03-20T00:00:00+00:00",
          "2014-03-21T00:00:00+00:00",
          "2014-03-22T00:00:00+00:00",
          "2014-03-23T00:00:00+00:00",
          "2014-03-24T00:00:00+00:00",
          "2014-03-25T00:00:00+00:00",
          "2014-03-26T00:00:00+00:00",
          "2014-03-27T00:00:00+00:00",
          "2014-03-28T00:00:00+00:00",
          "2014-03-29T00:00:00+00:00",
          "2014-03-30T00:00:00+00:00",
          "2014-03-31T00:00:00+00:00",
          "2014-04-01T00:00:00+00:00",
          "2014-04-02T00:00:00+00:00",
          "2014-04-03T00:00:00+00:00",
          "2014-04-04T00:00:00+00:00",
          "2014-04-05T00:00:00+00:00",
          "2014-04-06T00:00:00+00:00",
          "2014-04-07T00:00:00+00:00",
          "2014-04-08T00:00:00+00:00",
          "2014-04-09T00:00:00+00:00",
          "2014-04-10T00:00:00+00:00",
          "2014-04-11T00:00:00+00:00",
          "2014-04-12T00:00:00+00:00",
          "2014-04-13T00:00:00+00:00",
          "2014-04-14T00:00:00+00:00",
          "2014-04-15T00:00:00+00:00",
          "2014-04-16T00:00:00+00:00",
          "2014-04-17T00:00:00+00:00",
          "2014-04-18T00:00:00+00:00",
          "2014-04-19T00:00:00+00:00",
          "2014-04-20T00:00:00+00:00",
          "2014-04-21T00:00:00+00:00",
          "2014-04-22T00:00:00+00:00",
          "2014-04-23T00:00:00+00:00",
          "2014-04-24T00:00:00+00:00",
          "2014-04-25T00:00:00+00:00",
          "2014-04-26T00:00:00+00:00",
          "2014-04-27T00:00:00+00:00",
          "2014-04-28T00:00:00+00:00",
          "2014-04-29T00:00:00+00:00",
          "2014-04-30T00:00:00+00:00",
          "2014-05-01T00:00:00+00:00",
          "2014-05-02T00:00:00+00:00",
          "2014-05-03T00:00:00+00:00",
          "2014-05-04T00:00:00+00:00",
          "2014-05-05T00:00:00+00:00",
          "2014-05-06T00:00:00+00:00",
          "2014-05-07T00:00:00+00:00",
          "2014-05-08T00:00:00+00:00",
          "2014-05-09T00:00:00+00:00",
          "2014-05-10T00:00:00+00:00",
          "2014-05-11T00:00:00+00:00",
          "2014-05-12T00:00:00+00:00",
          "2014-05-13T00:00:00+00:00",
          "2014-05-14T00:00:00+00:00",
          "2014-05-15T00:00:00+00:00",
          "2014-05-16T00:00:00+00:00",
          "2014-05-17T00:00:00+00:00",
          "2014-05-18T00:00:00+00:00",
          "2014-05-19T00:00:00+00:00",
          "2014-05-20T00:00:00+00:00",
          "2014-05-21T00:00:00+00:00",
          "2014-05-22T00:00:00+00:00",
          "2014-05-23T00:00:00+00:00",
          "2014-05-24T00:00:00+00:00",
          "2014-05-25T00:00:00+00:00",
          "2014-05-26T00:00:00+00:00",
          "2014-05-27T00:00:00+00:00",
          "2014-05-28T00:00:00+00:00",
          "2014-05-29T00:00:00+00:00",
          "2014-05-30T00:00:00+00:00",
          "2014-05-31T00:00:00+00:00",
          "2014-06-01T00:00:00+00:00",
          "2014-06-02T00:00:00+00:00",
          "2014-06-03T00:00:00+00:00",
          "2014-06-04T00:00:00+00:00",
          "2014-06-05T00:00:00+00:00",
          "2014-06-06T00:00:00+00:00",
          "2014-06-07T00:00:00+00:00",
          "2014-06-08T00:00:00+00:00",
          "2014-06-09T00:00:00+00:00",
          "2014-06-10T00:00:00+00:00",
          "2014-06-11T00:00:00+00:00",
          "2014-06-12T00:00:00+00:00",
          "2014-06-13T00:00:00+00:00",
          "2014-06-14T00:00:00+00:00",
          "2014-06-15T00:00:00+00:00",
          "2014-06-16T00:00:00+00:00",
          "2014-06-17T00:00:00+00:00",
          "2014-06-18T00:00:00+00:00",
          "2014-06-19T00:00:00+00:00",
          "2014-06-20T00:00:00+00:00",
          "2014-06-21T00:00:00+00:00",
          "2014-06-22T00:00:00+00:00",
          "2014-06-23T00:00:00+00:00",
          "2014-06-24T00:00:00+00:00",
          "2014-06-25T00:00:00+00:00",
          "2014-06-26T00:00:00+00:00",
          "2014-06-27T00:00:00+00:00",
          "2014-06-28T00:00:00+00:00",
          "2014-06-29T00:00:00+00:00",
          "2014-06-30T00:00:00+00:00",
          "2014-07-01T00:00:00+00:00",
          "2014-07-02T00:00:00+00:00",
          "2014-07-03T00:00:00+00:00",
          "2014-07-04T00:00:00+00:00",
          "2014-07-05T00:00:00+00:00",
          "2014-07-06T00:00:00+00:00",
          "2014-07-07T00:00:00+00:00",
          "2014-07-08T00:00:00+00:00",
          "2014-07-09T00:00:00+00:00",
          "2014-07-10T00:00:00+00:00",
          "2014-07-11T00:00:00+00:00",
          "2014-07-12T00:00:00+00:00",
          "2014-07-13T00:00:00+00:00",
          "2014-07-14T00:00:00+00:00",
          "2014-07-15T00:00:00+00:00",
          "2014-07-16T00:00:00+00:00",
          "2014-07-17T00:00:00+00:00",
          "2014-07-18T00:00:00+00:00",
          "2014-07-19T00:00:00+00:00",
          "2014-07-20T00:00:00+00:00",
          "2014-07-21T00:00:00+00:00",
          "2014-07-22T00:00:00+00:00",
          "2014-07-23T00:00:00+00:00",
          "2014-07-24T00:00:00+00:00",
          "2014-07-25T00:00:00+00:00",
          "2014-07-26T00:00:00+00:00",
          "2014-07-27T00:00:00+00:00",
          "2014-07-28T00:00:00+00:00",
          "2014-07-29T00:00:00+00:00",
          "2014-07-30T00:00:00+00:00",
          "2014-07-31T00:00:00+00:00",
          "2014-08-01T00:00:00+00:00",
          "2014-08-02T00:00:00+00:00",
          "2014-08-03T00:00:00+00:00",
          "2014-08-04T00:00:00+00:00",
          "2014-08-05T00:00:00+00:00",
          "2014-08-06T00:00:00+00:00",
          "2014-08-07T00:00:00+00:00",
          "2014-08-08T00:00:00+00:00",
          "2014-08-09T00:00:00+00:00",
          "2014-08-10T00:00:00+00:00",
          "2014-08-11T00:00:00+00:00",
          "2014-08-12T00:00:00+00:00",
          "2014-08-13T00:00:00+00:00",
          "2014-08-14T00:00:00+00:00",
          "2014-08-15T00:00:00+00:00",
          "2014-08-16T00:00:00+00:00",
          "2014-08-17T00:00:00+00:00",
          "2014-08-18T00:00:00+00:00",
          "2014-08-19T00:00:00+00:00",
          "2014-08-20T00:00:00+00:00",
          "2014-08-21T00:00:00+00:00",
          "2014-08-22T00:00:00+00:00",
          "2014-08-23T00:00:00+00:00",
          "2014-08-24T00:00:00+00:00",
          "2014-08-25T00:00:00+00:00",
          "2014-08-26T00:00:00+00:00",
          "2014-08-27T00:00:00+00:00",
          "2014-08-28T00:00:00+00:00",
          "2014-08-29T00:00:00+00:00",
          "2014-08-30T00:00:00+00:00",
          "2014-08-31T00:00:00+00:00",
          "2014-09-01T00:00:00+00:00",
          "2014-09-02T00:00:00+00:00",
          "2014-09-03T00:00:00+00:00",
          "2014-09-04T00:00:00+00:00",
          "2014-09-05T00:00:00+00:00",
          "2014-09-06T00:00:00+00:00",
          "2014-09-07T00:00:00+00:00",
          "2014-09-08T00:00:00+00:00",
          "2014-09-09T00:00:00+00:00",
          "2014-09-10T00:00:00+00:00",
          "2014-09-11T00:00:00+00:00",
          "2014-09-12T00:00:00+00:00",
          "2014-09-13T00:00:00+00:00",
          "2014-09-14T00:00:00+00:00",
          "2014-09-15T00:00:00+00:00",
          "2014-09-16T00:00:00+00:00",
          "2014-09-17T00:00:00+00:00",
          "2014-09-18T00:00:00+00:00",
          "2014-09-19T00:00:00+00:00",
          "2014-09-20T00:00:00+00:00",
          "2014-09-21T00:00:00+00:00",
          "2014-09-22T00:00:00+00:00",
          "2014-09-23T00:00:00+00:00",
          "2014-09-24T00:00:00+00:00",
          "2014-09-25T00:00:00+00:00",
          "2014-09-26T00:00:00+00:00",
          "2014-09-27T00:00:00+00:00",
          "2014-09-28T00:00:00+00:00",
          "2014-09-29T00:00:00+00:00",
          "2014-09-30T00:00:00+00:00",
          "2014-10-01T00:00:00+00:00",
          "2014-10-02T00:00:00+00:00",
          "2014-10-03T00:00:00+00:00",
          "2014-10-04T00:00:00+00:00",
          "2014-10-05T00:00:00+00:00",
          "2014-10-06T00:00:00+00:00",
          "2014-10-07T00:00:00+00:00",
          "2014-10-08T00:00:00+00:00",
          "2014-10-09T00:00:00+00:00",
          "2014-10-10T00:00:00+00:00",
          "2014-10-11T00:00:00+00:00",
          "2014-10-12T00:00:00+00:00",
          "2014-10-13T00:00:00+00:00",
          "2014-10-14T00:00:00+00:00",
          "2014-10-15T00:00:00+00:00",
          "2014-10-16T00:00:00+00:00",
          "2014-10-17T00:00:00+00:00",
          "2014-10-18T00:00:00+00:00",
          "2014-10-19T00:00:00+00:00",
          "2014-10-20T00:00:00+00:00",
          "2014-10-21T00:00:00+00:00",
          "2014-10-22T00:00:00+00:00",
          "2014-10-23T00:00:00+00:00",
          "2014-10-24T00:00:00+00:00",
          "2014-10-25T00:00:00+00:00",
          "2014-10-26T00:00:00+00:00",
          "2014-10-27T00:00:00+00:00",
          "2014-10-28T00:00:00+00:00",
          "2014-10-29T00:00:00+00:00",
          "2014-10-30T00:00:00+00:00",
          "2014-10-31T00:00:00+00:00",
          "2014-11-01T00:00:00+00:00",
          "2014-11-02T00:00:00+00:00",
          "2014-11-03T00:00:00+00:00",
          "2014-11-04T00:00:00+00:00",
          "2014-11-05T00:00:00+00:00",
          "2014-11-06T00:00:00+00:00",
          "2014-11-07T00:00:00+00:00",
          "2014-11-08T00:00:00+00:00",
          "2014-11-09T00:00:00+00:00",
          "2014-11-10T00:00:00+00:00",
          "2014-11-11T00:00:00+00:00",
          "2014-11-12T00:00:00+00:00",
          "2014-11-13T00:00:00+00:00",
          "2014-11-14T00:00:00+00:00",
          "2014-11-15T00:00:00+00:00",
          "2014-11-16T00:00:00+00:00",
          "2014-11-17T00:00:00+00:00",
          "2014-11-18T00:00:00+00:00",
          "2014-11-19T00:00:00+00:00",
          "2014-11-20T00:00:00+00:00",
          "2014-11-21T00:00:00+00:00",
          "2014-11-22T00:00:00+00:00",
          "2014-11-23T00:00:00+00:00",
          "2014-11-24T00:00:00+00:00",
          "2014-11-25T00:00:00+00:00",
          "2014-11-26T00:00:00+00:00",
          "2014-11-27T00:00:00+00:00",
          "2014-11-28T00:00:00+00:00",
          "2014-11-29T00:00:00+00:00",
          "2014-11-30T00:00:00+00:00",
          "2014-12-01T00:00:00+00:00",
          "2014-12-02T00:00:00+00:00",
          "2014-12-03T00:00:00+00:00",
          "2014-12-04T00:00:00+00:00",
          "2014-12-05T00:00:00+00:00",
          "2014-12-06T00:00:00+00:00",
          "2014-12-07T00:00:00+00:00",
          "2014-12-08T00:00:00+00:00",
          "2014-12-09T00:00:00+00:00",
          "2014-12-10T00:00:00+00:00",
          "2014-12-11T00:00:00+00:00",
          "2014-12-12T00:00:00+00:00",
          "2014-12-13T00:00:00+00:00",
          "2014-12-14T00:00:00+00:00",
          "2014-12-15T00:00:00+00:00",
          "2014-12-16T00:00:00+00:00",
          "2014-12-17T00:00:00+00:00",
          "2014-12-18T00:00:00+00:00",
          "2014-12-19T00:00:00+00:00",
          "2014-12-20T00:00:00+00:00",
          "2014-12-21T00:00:00+00:00",
          "2014-12-22T00:00:00+00:00",
          "2014-12-23T00:00:00+00:00",
          "2014-12-24T00:00:00+00:00",
          "2014-12-25T00:00:00+00:00",
          "2014-12-26T00:00:00+00:00",
          "2014-12-27T00:00:00+00:00",
          "2014-12-28T00:00:00+00:00",
          "2014-12-29T00:00:00+00:00",
          "2014-12-30T00:00:00+00:00",
          "2014-12-31T00:00:00+00:00",
          "2015-01-01T00:00:00+00:00",
          "2015-01-02T00:00:00+00:00",
          "2015-01-03T00:00:00+00:00",
          "2015-01-04T00:00:00+00:00",
          "2015-01-05T00:00:00+00:00",
          "2015-01-06T00:00:00+00:00",
          "2015-01-07T00:00:00+00:00",
          "2015-01-08T00:00:00+00:00",
          "2015-01-09T00:00:00+00:00",
          "2015-01-10T00:00:00+00:00",
          "2015-01-11T00:00:00+00:00",
          "2015-01-12T00:00:00+00:00",
          "2015-01-13T00:00:00+00:00",
          "2015-01-14T00:00:00+00:00",
          "2015-01-15T00:00:00+00:00",
          "2015-01-16T00:00:00+00:00",
          "2015-01-17T00:00:00+00:00",
          "2015-01-18T00:00:00+00:00",
          "2015-01-19T00:00:00+00:00",
          "2015-01-20T00:00:00+00:00",
          "2015-01-21T00:00:00+00:00",
          "2015-01-22T00:00:00+00:00",
          "2015-01-23T00:00:00+00:00",
          "2015-01-24T00:00:00+00:00",
          "2015-01-25T00:00:00+00:00",
          "2015-01-26T00:00:00+00:00",
          "2015-01-27T00:00:00+00:00",
          "2015-01-28T00:00:00+00:00",
          "2015-01-29T00:00:00+00:00",
          "2015-01-30T00:00:00+00:00",
          "2015-01-31T00:00:00+00:00",
          "2015-02-01T00:00:00+00:00",
          "2015-02-02T00:00:00+00:00",
          "2015-02-03T00:00:00+00:00",
          "2015-02-04T00:00:00+00:00",
          "2015-02-05T00:00:00+00:00",
          "2015-02-06T00:00:00+00:00",
          "2015-02-07T00:00:00+00:00",
          "2015-02-08T00:00:00+00:00",
          "2015-02-09T00:00:00+00:00",
          "2015-02-10T00:00:00+00:00",
          "2015-02-11T00:00:00+00:00",
          "2015-02-12T00:00:00+00:00",
          "2015-02-13T00:00:00+00:00",
          "2015-02-14T00:00:00+00:00",
          "2015-02-15T00:00:00+00:00",
          "2015-02-16T00:00:00+00:00",
          "2015-02-17T00:00:00+00:00",
          "2015-02-18T00:00:00+00:00",
          "2015-02-19T00:00:00+00:00",
          "2015-02-20T00:00:00+00:00",
          "2015-02-21T00:00:00+00:00",
          "2015-02-22T00:00:00+00:00",
          "2015-02-23T00:00:00+00:00",
          "2015-02-24T00:00:00+00:00",
          "2015-02-25T00:00:00+00:00",
          "2015-02-26T00:00:00+00:00",
          "2015-02-27T00:00:00+00:00",
          "2015-02-28T00:00:00+00:00",
          "2015-03-01T00:00:00+00:00",
          "2015-03-02T00:00:00+00:00",
          "2015-03-03T00:00:00+00:00",
          "2015-03-04T00:00:00+00:00",
          "2015-03-05T00:00:00+00:00",
          "2015-03-06T00:00:00+00:00",
          "2015-03-07T00:00:00+00:00",
          "2015-03-08T00:00:00+00:00",
          "2015-03-09T00:00:00+00:00",
          "2015-03-10T00:00:00+00:00",
          "2015-03-11T00:00:00+00:00",
          "2015-03-12T00:00:00+00:00",
          "2015-03-13T00:00:00+00:00",
          "2015-03-14T00:00:00+00:00",
          "2015-03-15T00:00:00+00:00",
          "2015-03-16T00:00:00+00:00",
          "2015-03-17T00:00:00+00:00",
          "2015-03-18T00:00:00+00:00",
          "2015-03-19T00:00:00+00:00",
          "2015-03-20T00:00:00+00:00",
          "2015-03-21T00:00:00+00:00",
          "2015-03-22T00:00:00+00:00",
          "2015-03-23T00:00:00+00:00",
          "2015-03-24T00:00:00+00:00",
          "2015-03-25T00:00:00+00:00",
          "2015-03-26T00:00:00+00:00",
          "2015-03-27T00:00:00+00:00",
          "2015-03-28T00:00:00+00:00",
          "2015-03-29T00:00:00+00:00",
          "2015-03-30T00:00:00+00:00",
          "2015-03-31T00:00:00+00:00",
          "2015-04-01T00:00:00+00:00",
          "2015-04-02T00:00:00+00:00",
          "2015-04-03T00:00:00+00:00",
          "2015-04-04T00:00:00+00:00",
          "2015-04-05T00:00:00+00:00",
          "2015-04-06T00:00:00+00:00",
          "2015-04-07T00:00:00+00:00",
          "2015-04-08T00:00:00+00:00",
          "2015-04-09T00:00:00+00:00",
          "2015-04-10T00:00:00+00:00",
          "2015-04-11T00:00:00+00:00",
          "2015-04-12T00:00:00+00:00",
          "2015-04-13T00:00:00+00:00",
          "2015-04-14T00:00:00+00:00",
          "2015-04-15T00:00:00+00:00",
          "2015-04-16T00:00:00+00:00",
          "2015-04-17T00:00:00+00:00",
          "2015-04-18T00:00:00+00:00",
          "2015-04-19T00:00:00+00:00",
          "2015-04-20T00:00:00+00:00",
          "2015-04-21T00:00:00+00:00",
          "2015-04-22T00:00:00+00:00",
          "2015-04-23T00:00:00+00:00",
          "2015-04-24T00:00:00+00:00",
          "2015-04-25T00:00:00+00:00",
          "2015-04-26T00:00:00+00:00",
          "2015-04-27T00:00:00+00:00",
          "2015-04-28T00:00:00+00:00",
          "2015-04-29T00:00:00+00:00",
          "2015-04-30T00:00:00+00:00",
          "2015-05-01T00:00:00+00:00",
          "2015-05-02T00:00:00+00:00",
          "2015-05-03T00:00:00+00:00",
          "2015-05-04T00:00:00+00:00",
          "2015-05-05T00:00:00+00:00",
          "2015-05-06T00:00:00+00:00",
          "2015-05-07T00:00:00+00:00",
          "2015-05-08T00:00:00+00:00",
          "2015-05-09T00:00:00+00:00",
          "2015-05-10T00:00:00+00:00",
          "2015-05-11T00:00:00+00:00",
          "2015-05-12T00:00:00+00:00",
          "2015-05-13T00:00:00+00:00",
          "2015-05-14T00:00:00+00:00",
          "2015-05-15T00:00:00+00:00",
          "2015-05-16T00:00:00+00:00",
          "2015-05-17T00:00:00+00:00",
          "2015-05-18T00:00:00+00:00",
          "2015-05-19T00:00:00+00:00",
          "2015-05-20T00:00:00+00:00",
          "2015-05-21T00:00:00+00:00",
          "2015-05-22T00:00:00+00:00",
          "2015-05-23T00:00:00+00:00",
          "2015-05-24T00:00:00+00:00",
          "2015-05-25T00:00:00+00:00",
          "2015-05-26T00:00:00+00:00",
          "2015-05-27T00:00:00+00:00",
          "2015-05-28T00:00:00+00:00",
          "2015-05-29T00:00:00+00:00",
          "2015-05-30T00:00:00+00:00",
          "2015-05-31T00:00:00+00:00",
          "2015-06-01T00:00:00+00:00",
          "2015-06-02T00:00:00+00:00",
          "2015-06-03T00:00:00+00:00",
          "2015-06-04T00:00:00+00:00",
          "2015-06-05T00:00:00+00:00",
          "2015-06-06T00:00:00+00:00",
          "2015-06-07T00:00:00+00:00",
          "2015-06-08T00:00:00+00:00",
          "2015-06-09T00:00:00+00:00",
          "2015-06-10T00:00:00+00:00",
          "2015-06-11T00:00:00+00:00",
          "2015-06-12T00:00:00+00:00",
          "2015-06-13T00:00:00+00:00",
          "2015-06-14T00:00:00+00:00",
          "2015-06-15T00:00:00+00:00",
          "2015-06-16T00:00:00+00:00",
          "2015-06-17T00:00:00+00:00",
          "2015-06-18T00:00:00+00:00",
          "2015-06-19T00:00:00+00:00",
          "2015-06-20T00:00:00+00:00",
          "2015-06-21T00:00:00+00:00",
          "2015-06-22T00:00:00+00:00",
          "2015-06-23T00:00:00+00:00",
          "2015-06-24T00:00:00+00:00",
          "2015-06-25T00:00:00+00:00",
          "2015-06-26T00:00:00+00:00",
          "2015-06-27T00:00:00+00:00",
          "2015-06-28T00:00:00+00:00",
          "2015-06-29T00:00:00+00:00",
          "2015-06-30T00:00:00+00:00",
          "2015-07-01T00:00:00+00:00",
          "2015-07-02T00:00:00+00:00",
          "2015-07-03T00:00:00+00:00",
          "2015-07-04T00:00:00+00:00",
          "2015-07-05T00:00:00+00:00",
          "2015-07-06T00:00:00+00:00",
          "2015-07-07T00:00:00+00:00",
          "2015-07-08T00:00:00+00:00",
          "2015-07-09T00:00:00+00:00",
          "2015-07-10T00:00:00+00:00",
          "2015-07-11T00:00:00+00:00",
          "2015-07-12T00:00:00+00:00",
          "2015-07-13T00:00:00+00:00",
          "2015-07-14T00:00:00+00:00",
          "2015-07-15T00:00:00+00:00",
          "2015-07-16T00:00:00+00:00",
          "2015-07-17T00:00:00+00:00",
          "2015-07-18T00:00:00+00:00",
          "2015-07-19T00:00:00+00:00",
          "2015-07-20T00:00:00+00:00",
          "2015-07-21T00:00:00+00:00",
          "2015-07-22T00:00:00+00:00",
          "2015-07-23T00:00:00+00:00",
          "2015-07-24T00:00:00+00:00",
          "2015-07-25T00:00:00+00:00",
          "2015-07-26T00:00:00+00:00",
          "2015-07-27T00:00:00+00:00",
          "2015-07-28T00:00:00+00:00",
          "2015-07-29T00:00:00+00:00",
          "2015-07-30T00:00:00+00:00",
          "2015-07-31T00:00:00+00:00",
          "2015-08-01T00:00:00+00:00",
          "2015-08-02T00:00:00+00:00",
          "2015-08-03T00:00:00+00:00",
          "2015-08-04T00:00:00+00:00",
          "2015-08-05T00:00:00+00:00",
          "2015-08-06T00:00:00+00:00",
          "2015-08-07T00:00:00+00:00",
          "2015-08-08T00:00:00+00:00",
          "2015-08-09T00:00:00+00:00",
          "2015-08-10T00:00:00+00:00",
          "2015-08-11T00:00:00+00:00",
          "2015-08-12T00:00:00+00:00",
          "2015-08-13T00:00:00+00:00",
          "2015-08-14T00:00:00+00:00",
          "2015-08-15T00:00:00+00:00",
          "2015-08-16T00:00:00+00:00",
          "2015-08-17T00:00:00+00:00",
          "2015-08-18T00:00:00+00:00",
          "2015-08-19T00:00:00+00:00",
          "2015-08-20T00:00:00+00:00",
          "2015-08-21T00:00:00+00:00",
          "2015-08-22T00:00:00+00:00",
          "2015-08-23T00:00:00+00:00",
          "2015-08-24T00:00:00+00:00",
          "2015-08-25T00:00:00+00:00",
          "2015-08-26T00:00:00+00:00",
          "2015-08-27T00:00:00+00:00",
          "2015-08-28T00:00:00+00:00",
          "2015-08-29T00:00:00+00:00",
          "2015-08-30T00:00:00+00:00",
          "2015-08-31T00:00:00+00:00",
          "2015-09-01T00:00:00+00:00",
          "2015-09-02T00:00:00+00:00",
          "2015-09-03T00:00:00+00:00",
          "2015-09-04T00:00:00+00:00",
          "2015-09-05T00:00:00+00:00",
          "2015-09-06T00:00:00+00:00",
          "2015-09-07T00:00:00+00:00",
          "2015-09-08T00:00:00+00:00",
          "2015-09-09T00:00:00+00:00",
          "2015-09-10T00:00:00+00:00",
          "2015-09-11T00:00:00+00:00",
          "2015-09-12T00:00:00+00:00",
          "2015-09-13T00:00:00+00:00",
          "2015-09-14T00:00:00+00:00",
          "2015-09-15T00:00:00+00:00",
          "2015-09-16T00:00:00+00:00",
          "2015-09-17T00:00:00+00:00",
          "2015-09-18T00:00:00+00:00",
          "2015-09-19T00:00:00+00:00",
          "2015-09-20T00:00:00+00:00",
          "2015-09-21T00:00:00+00:00",
          "2015-09-22T00:00:00+00:00",
          "2015-09-23T00:00:00+00:00",
          "2015-09-24T00:00:00+00:00",
          "2015-09-25T00:00:00+00:00",
          "2015-09-26T00:00:00+00:00",
          "2015-09-27T00:00:00+00:00",
          "2015-09-28T00:00:00+00:00",
          "2015-09-29T00:00:00+00:00",
          "2015-09-30T00:00:00+00:00",
          "2015-10-01T00:00:00+00:00",
          "2015-10-02T00:00:00+00:00",
          "2015-10-03T00:00:00+00:00",
          "2015-10-04T00:00:00+00:00",
          "2015-10-05T00:00:00+00:00",
          "2015-10-06T00:00:00+00:00",
          "2015-10-07T00:00:00+00:00",
          "2015-10-08T00:00:00+00:00",
          "2015-10-09T00:00:00+00:00",
          "2015-10-10T00:00:00+00:00",
          "2015-10-11T00:00:00+00:00",
          "2015-10-12T00:00:00+00:00",
          "2015-10-13T00:00:00+00:00",
          "2015-10-14T00:00:00+00:00",
          "2015-10-15T00:00:00+00:00",
          "2015-10-16T00:00:00+00:00",
          "2015-10-17T00:00:00+00:00",
          "2015-10-18T00:00:00+00:00",
          "2015-10-19T00:00:00+00:00",
          "2015-10-20T00:00:00+00:00",
          "2015-10-21T00:00:00+00:00",
          "2015-10-22T00:00:00+00:00",
          "2015-10-23T00:00:00+00:00",
          "2015-10-24T00:00:00+00:00",
          "2015-10-25T00:00:00+00:00",
          "2015-10-26T00:00:00+00:00",
          "2015-10-27T00:00:00+00:00",
          "2015-10-28T00:00:00+00:00",
          "2015-10-29T00:00:00+00:00",
          "2015-10-30T00:00:00+00:00",
          "2015-10-31T00:00:00+00:00",
          "2015-11-01T00:00:00+00:00",
          "2015-11-02T00:00:00+00:00",
          "2015-11-03T00:00:00+00:00",
          "2015-11-04T00:00:00+00:00",
          "2015-11-05T00:00:00+00:00",
          "2015-11-06T00:00:00+00:00",
          "2015-11-07T00:00:00+00:00",
          "2015-11-08T00:00:00+00:00",
          "2015-11-09T00:00:00+00:00",
          "2015-11-10T00:00:00+00:00",
          "2015-11-11T00:00:00+00:00",
          "2015-11-12T00:00:00+00:00",
          "2015-11-13T00:00:00+00:00",
          "2015-11-14T00:00:00+00:00",
          "2015-11-15T00:00:00+00:00",
          "2015-11-16T00:00:00+00:00",
          "2015-11-17T00:00:00+00:00",
          "2015-11-18T00:00:00+00:00",
          "2015-11-19T00:00:00+00:00",
          "2015-11-20T00:00:00+00:00",
          "2015-11-21T00:00:00+00:00",
          "2015-11-22T00:00:00+00:00",
          "2015-11-23T00:00:00+00:00",
          "2015-11-24T00:00:00+00:00",
          "2015-11-25T00:00:00+00:00",
          "2015-11-26T00:00:00+00:00",
          "2015-11-27T00:00:00+00:00",
          "2015-11-28T00:00:00+00:00",
          "2015-11-29T00:00:00+00:00",
          "2015-11-30T00:00:00+00:00",
          "2015-12-01T00:00:00+00:00",
          "2015-12-02T00:00:00+00:00",
          "2015-12-03T00:00:00+00:00",
          "2015-12-04T00:00:00+00:00",
          "2015-12-05T00:00:00+00:00",
          "2015-12-06T00:00:00+00:00",
          "2015-12-07T00:00:00+00:00",
          "2015-12-08T00:00:00+00:00",
          "2015-12-09T00:00:00+00:00",
          "2015-12-10T00:00:00+00:00",
          "2015-12-11T00:00:00+00:00",
          "2015-12-12T00:00:00+00:00",
          "2015-12-13T00:00:00+00:00",
          "2015-12-14T00:00:00+00:00",
          "2015-12-15T00:00:00+00:00",
          "2015-12-16T00:00:00+00:00",
          "2015-12-17T00:00:00+00:00",
          "2015-12-18T00:00:00+00:00",
          "2015-12-19T00:00:00+00:00",
          "2015-12-20T00:00:00+00:00",
          "2015-12-21T00:00:00+00:00",
          "2015-12-22T00:00:00+00:00",
          "2015-12-23T00:00:00+00:00",
          "2015-12-24T00:00:00+00:00",
          "2015-12-25T00:00:00+00:00",
          "2015-12-26T00:00:00+00:00",
          "2015-12-27T00:00:00+00:00",
          "2015-12-28T00:00:00+00:00",
          "2015-12-29T00:00:00+00:00",
          "2015-12-30T00:00:00+00:00",
          "2015-12-31T00:00:00+00:00",
          "2016-01-01T00:00:00+00:00",
          "2016-01-02T00:00:00+00:00",
          "2016-01-03T00:00:00+00:00",
          "2016-01-04T00:00:00+00:00",
          "2016-01-05T00:00:00+00:00",
          "2016-01-06T00:00:00+00:00",
          "2016-01-07T00:00:00+00:00",
          "2016-01-08T00:00:00+00:00",
          "2016-01-09T00:00:00+00:00",
          "2016-01-10T00:00:00+00:00",
          "2016-01-11T00:00:00+00:00",
          "2016-01-12T00:00:00+00:00",
          "2016-01-13T00:00:00+00:00",
          "2016-01-14T00:00:00+00:00",
          "2016-01-15T00:00:00+00:00",
          "2016-01-16T00:00:00+00:00",
          "2016-01-17T00:00:00+00:00",
          "2016-01-18T00:00:00+00:00",
          "2016-01-19T00:00:00+00:00",
          "2016-01-20T00:00:00+00:00",
          "2016-01-21T00:00:00+00:00",
          "2016-01-22T00:00:00+00:00",
          "2016-01-23T00:00:00+00:00",
          "2016-01-24T00:00:00+00:00",
          "2016-01-25T00:00:00+00:00",
          "2016-01-26T00:00:00+00:00",
          "2016-01-27T00:00:00+00:00",
          "2016-01-28T00:00:00+00:00",
          "2016-01-29T00:00:00+00:00",
          "2016-01-30T00:00:00+00:00",
          "2016-01-31T00:00:00+00:00",
          "2016-02-01T00:00:00+00:00",
          "2016-02-02T00:00:00+00:00",
          "2016-02-03T00:00:00+00:00",
          "2016-02-04T00:00:00+00:00",
          "2016-02-05T00:00:00+00:00",
          "2016-02-06T00:00:00+00:00",
          "2016-02-07T00:00:00+00:00",
          "2016-02-08T00:00:00+00:00",
          "2016-02-09T00:00:00+00:00",
          "2016-02-10T00:00:00+00:00",
          "2016-02-11T00:00:00+00:00",
          "2016-02-12T00:00:00+00:00",
          "2016-02-13T00:00:00+00:00",
          "2016-02-14T00:00:00+00:00",
          "2016-02-15T00:00:00+00:00",
          "2016-02-16T00:00:00+00:00",
          "2016-02-17T00:00:00+00:00",
          "2016-02-18T00:00:00+00:00",
          "2016-02-19T00:00:00+00:00",
          "2016-02-20T00:00:00+00:00",
          "2016-02-21T00:00:00+00:00",
          "2016-02-22T00:00:00+00:00",
          "2016-02-23T00:00:00+00:00",
          "2016-02-24T00:00:00+00:00",
          "2016-02-25T00:00:00+00:00",
          "2016-02-26T00:00:00+00:00",
          "2016-02-27T00:00:00+00:00",
          "2016-02-28T00:00:00+00:00",
          "2016-02-29T00:00:00+00:00",
          "2016-03-01T00:00:00+00:00",
          "2016-03-02T00:00:00+00:00",
          "2016-03-03T00:00:00+00:00",
          "2016-03-04T00:00:00+00:00",
          "2016-03-05T00:00:00+00:00",
          "2016-03-06T00:00:00+00:00",
          "2016-03-07T00:00:00+00:00",
          "2016-03-08T00:00:00+00:00",
          "2016-03-09T00:00:00+00:00",
          "2016-03-10T00:00:00+00:00",
          "2016-03-11T00:00:00+00:00",
          "2016-03-12T00:00:00+00:00",
          "2016-03-13T00:00:00+00:00",
          "2016-03-14T00:00:00+00:00",
          "2016-03-15T00:00:00+00:00",
          "2016-03-16T00:00:00+00:00",
          "2016-03-17T00:00:00+00:00",
          "2016-03-18T00:00:00+00:00",
          "2016-03-19T00:00:00+00:00",
          "2016-03-20T00:00:00+00:00",
          "2016-03-21T00:00:00+00:00",
          "2016-03-22T00:00:00+00:00",
          "2016-03-23T00:00:00+00:00",
          "2016-03-24T00:00:00+00:00",
          "2016-03-25T00:00:00+00:00",
          "2016-03-26T00:00:00+00:00",
          "2016-03-27T00:00:00+00:00",
          "2016-03-28T00:00:00+00:00",
          "2016-03-29T00:00:00+00:00",
          "2016-03-30T00:00:00+00:00",
          "2016-03-31T00:00:00+00:00",
          "2016-04-01T00:00:00+00:00",
          "2016-04-02T00:00:00+00:00",
          "2016-04-03T00:00:00+00:00",
          "2016-04-04T00:00:00+00:00",
          "2016-04-05T00:00:00+00:00",
          "2016-04-06T00:00:00+00:00",
          "2016-04-07T00:00:00+00:00",
          "2016-04-08T00:00:00+00:00",
          "2016-04-09T00:00:00+00:00",
          "2016-04-10T00:00:00+00:00",
          "2016-04-11T00:00:00+00:00",
          "2016-04-12T00:00:00+00:00",
          "2016-04-13T00:00:00+00:00",
          "2016-04-14T00:00:00+00:00",
          "2016-04-15T00:00:00+00:00",
          "2016-04-16T00:00:00+00:00",
          "2016-04-17T00:00:00+00:00",
          "2016-04-18T00:00:00+00:00",
          "2016-04-19T00:00:00+00:00",
          "2016-04-20T00:00:00+00:00",
          "2016-04-21T00:00:00+00:00",
          "2016-04-22T00:00:00+00:00",
          "2016-04-23T00:00:00+00:00",
          "2016-04-24T00:00:00+00:00",
          "2016-04-25T00:00:00+00:00",
          "2016-04-26T00:00:00+00:00",
          "2016-04-27T00:00:00+00:00",
          "2016-04-28T00:00:00+00:00",
          "2016-04-29T00:00:00+00:00",
          "2016-04-30T00:00:00+00:00",
          "2016-05-01T00:00:00+00:00",
          "2016-05-02T00:00:00+00:00",
          "2016-05-03T00:00:00+00:00",
          "2016-05-04T00:00:00+00:00",
          "2016-05-05T00:00:00+00:00",
          "2016-05-06T00:00:00+00:00",
          "2016-05-07T00:00:00+00:00",
          "2016-05-08T00:00:00+00:00",
          "2016-05-09T00:00:00+00:00",
          "2016-05-10T00:00:00+00:00",
          "2016-05-11T00:00:00+00:00",
          "2016-05-12T00:00:00+00:00",
          "2016-05-13T00:00:00+00:00",
          "2016-05-14T00:00:00+00:00",
          "2016-05-15T00:00:00+00:00",
          "2016-05-16T00:00:00+00:00",
          "2016-05-17T00:00:00+00:00",
          "2016-05-18T00:00:00+00:00",
          "2016-05-19T00:00:00+00:00",
          "2016-05-20T00:00:00+00:00",
          "2016-05-21T00:00:00+00:00",
          "2016-05-22T00:00:00+00:00",
          "2016-05-23T00:00:00+00:00",
          "2016-05-24T00:00:00+00:00",
          "2016-05-25T00:00:00+00:00",
          "2016-05-26T00:00:00+00:00",
          "2016-05-27T00:00:00+00:00",
          "2016-05-28T00:00:00+00:00",
          "2016-05-29T00:00:00+00:00",
          "2016-05-30T00:00:00+00:00",
          "2016-05-31T00:00:00+00:00",
          "2016-06-01T00:00:00+00:00",
          "2016-06-02T00:00:00+00:00",
          "2016-06-03T00:00:00+00:00",
          "2016-06-04T00:00:00+00:00",
          "2016-06-05T00:00:00+00:00",
          "2016-06-06T00:00:00+00:00",
          "2016-06-07T00:00:00+00:00",
          "2016-06-08T00:00:00+00:00",
          "2016-06-09T00:00:00+00:00",
          "2016-06-10T00:00:00+00:00",
          "2016-06-11T00:00:00+00:00",
          "2016-06-12T00:00:00+00:00",
          "2016-06-13T00:00:00+00:00",
          "2016-06-14T00:00:00+00:00",
          "2016-06-15T00:00:00+00:00",
          "2016-06-16T00:00:00+00:00",
          "2016-06-17T00:00:00+00:00",
          "2016-06-18T00:00:00+00:00",
          "2016-06-19T00:00:00+00:00",
          "2016-06-20T00:00:00+00:00",
          "2016-06-21T00:00:00+00:00",
          "2016-06-22T00:00:00+00:00",
          "2016-06-23T00:00:00+00:00",
          "2016-06-24T00:00:00+00:00",
          "2016-06-25T00:00:00+00:00",
          "2016-06-26T00:00:00+00:00",
          "2016-06-27T00:00:00+00:00",
          "2016-06-28T00:00:00+00:00",
          "2016-06-29T00:00:00+00:00",
          "2016-06-30T00:00:00+00:00",
          "2016-07-01T00:00:00+00:00",
          "2016-07-02T00:00:00+00:00",
          "2016-07-03T00:00:00+00:00",
          "2016-07-04T00:00:00+00:00",
          "2016-07-05T00:00:00+00:00",
          "2016-07-06T00:00:00+00:00",
          "2016-07-07T00:00:00+00:00",
          "2016-07-08T00:00:00+00:00",
          "2016-07-09T00:00:00+00:00",
          "2016-07-10T00:00:00+00:00",
          "2016-07-11T00:00:00+00:00",
          "2016-07-12T00:00:00+00:00",
          "2016-07-13T00:00:00+00:00",
          "2016-07-14T00:00:00+00:00",
          "2016-07-15T00:00:00+00:00",
          "2016-07-16T00:00:00+00:00",
          "2016-07-17T00:00:00+00:00",
          "2016-07-18T00:00:00+00:00",
          "2016-07-19T00:00:00+00:00",
          "2016-07-20T00:00:00+00:00",
          "2016-07-21T00:00:00+00:00",
          "2016-07-22T00:00:00+00:00",
          "2016-07-23T00:00:00+00:00",
          "2016-07-24T00:00:00+00:00",
          "2016-07-25T00:00:00+00:00",
          "2016-07-26T00:00:00+00:00",
          "2016-07-27T00:00:00+00:00",
          "2016-07-28T00:00:00+00:00",
          "2016-07-29T00:00:00+00:00",
          "2016-07-30T00:00:00+00:00",
          "2016-07-31T00:00:00+00:00",
          "2016-08-01T00:00:00+00:00",
          "2016-08-02T00:00:00+00:00",
          "2016-08-03T00:00:00+00:00",
          "2016-08-04T00:00:00+00:00",
          "2016-08-05T00:00:00+00:00",
          "2016-08-06T00:00:00+00:00",
          "2016-08-07T00:00:00+00:00",
          "2016-08-08T00:00:00+00:00",
          "2016-08-09T00:00:00+00:00",
          "2016-08-10T00:00:00+00:00",
          "2016-08-11T00:00:00+00:00",
          "2016-08-12T00:00:00+00:00",
          "2016-08-13T00:00:00+00:00",
          "2016-08-14T00:00:00+00:00",
          "2016-08-15T00:00:00+00:00",
          "2016-08-16T00:00:00+00:00",
          "2016-08-17T00:00:00+00:00",
          "2016-08-18T00:00:00+00:00",
          "2016-08-19T00:00:00+00:00",
          "2016-08-20T00:00:00+00:00",
          "2016-08-21T00:00:00+00:00",
          "2016-08-22T00:00:00+00:00",
          "2016-08-23T00:00:00+00:00",
          "2016-08-24T00:00:00+00:00",
          "2016-08-25T00:00:00+00:00",
          "2016-08-26T00:00:00+00:00",
          "2016-08-27T00:00:00+00:00",
          "2016-08-28T00:00:00+00:00",
          "2016-08-29T00:00:00+00:00",
          "2016-08-30T00:00:00+00:00",
          "2016-08-31T00:00:00+00:00",
          "2016-09-01T00:00:00+00:00",
          "2016-09-02T00:00:00+00:00",
          "2016-09-03T00:00:00+00:00",
          "2016-09-04T00:00:00+00:00",
          "2016-09-05T00:00:00+00:00",
          "2016-09-06T00:00:00+00:00",
          "2016-09-07T00:00:00+00:00",
          "2016-09-08T00:00:00+00:00",
          "2016-09-09T00:00:00+00:00",
          "2016-09-10T00:00:00+00:00",
          "2016-09-11T00:00:00+00:00",
          "2016-09-12T00:00:00+00:00",
          "2016-09-13T00:00:00+00:00",
          "2016-09-14T00:00:00+00:00",
          "2016-09-15T00:00:00+00:00",
          "2016-09-16T00:00:00+00:00",
          "2016-09-17T00:00:00+00:00",
          "2016-09-18T00:00:00+00:00",
          "2016-09-19T00:00:00+00:00",
          "2016-09-20T00:00:00+00:00",
          "2016-09-21T00:00:00+00:00",
          "2016-09-22T00:00:00+00:00",
          "2016-09-23T00:00:00+00:00",
          "2016-09-24T00:00:00+00:00",
          "2016-09-25T00:00:00+00:00",
          "2016-09-26T00:00:00+00:00",
          "2016-09-27T00:00:00+00:00",
          "2016-09-28T00:00:00+00:00",
          "2016-09-29T00:00:00+00:00",
          "2016-09-30T00:00:00+00:00",
          "2016-10-01T00:00:00+00:00",
          "2016-10-02T00:00:00+00:00",
          "2016-10-03T00:00:00+00:00",
          "2016-10-04T00:00:00+00:00",
          "2016-10-05T00:00:00+00:00",
          "2016-10-06T00:00:00+00:00",
          "2016-10-07T00:00:00+00:00",
          "2016-10-08T00:00:00+00:00",
          "2016-10-09T00:00:00+00:00",
          "2016-10-10T00:00:00+00:00",
          "2016-10-11T00:00:00+00:00",
          "2016-10-12T00:00:00+00:00",
          "2016-10-13T00:00:00+00:00",
          "2016-10-14T00:00:00+00:00",
          "2016-10-15T00:00:00+00:00",
          "2016-10-16T00:00:00+00:00",
          "2016-10-17T00:00:00+00:00",
          "2016-10-18T00:00:00+00:00",
          "2016-10-19T00:00:00+00:00",
          "2016-10-20T00:00:00+00:00",
          "2016-10-21T00:00:00+00:00",
          "2016-10-22T00:00:00+00:00",
          "2016-10-23T00:00:00+00:00",
          "2016-10-24T00:00:00+00:00",
          "2016-10-25T00:00:00+00:00",
          "2016-10-26T00:00:00+00:00",
          "2016-10-27T00:00:00+00:00",
          "2016-10-28T00:00:00+00:00",
          "2016-10-29T00:00:00+00:00",
          "2016-10-30T00:00:00+00:00",
          "2016-10-31T00:00:00+00:00",
          "2016-11-01T00:00:00+00:00",
          "2016-11-02T00:00:00+00:00",
          "2016-11-03T00:00:00+00:00",
          "2016-11-04T00:00:00+00:00",
          "2016-11-05T00:00:00+00:00",
          "2016-11-06T00:00:00+00:00",
          "2016-11-07T00:00:00+00:00",
          "2016-11-08T00:00:00+00:00",
          "2016-11-09T00:00:00+00:00",
          "2016-11-10T00:00:00+00:00",
          "2016-11-11T00:00:00+00:00",
          "2016-11-12T00:00:00+00:00",
          "2016-11-13T00:00:00+00:00",
          "2016-11-14T00:00:00+00:00",
          "2016-11-15T00:00:00+00:00",
          "2016-11-16T00:00:00+00:00",
          "2016-11-17T00:00:00+00:00",
          "2016-11-18T00:00:00+00:00",
          "2016-11-19T00:00:00+00:00",
          "2016-11-20T00:00:00+00:00",
          "2016-11-21T00:00:00+00:00",
          "2016-11-22T00:00:00+00:00",
          "2016-11-23T00:00:00+00:00",
          "2016-11-24T00:00:00+00:00",
          "2016-11-25T00:00:00+00:00",
          "2016-11-26T00:00:00+00:00",
          "2016-11-27T00:00:00+00:00",
          "2016-11-28T00:00:00+00:00",
          "2016-11-29T00:00:00+00:00",
          "2016-11-30T00:00:00+00:00",
          "2016-12-01T00:00:00+00:00",
          "2016-12-02T00:00:00+00:00",
          "2016-12-03T00:00:00+00:00",
          "2016-12-04T00:00:00+00:00",
          "2016-12-05T00:00:00+00:00",
          "2016-12-06T00:00:00+00:00",
          "2016-12-07T00:00:00+00:00",
          "2016-12-08T00:00:00+00:00",
          "2016-12-09T00:00:00+00:00",
          "2016-12-10T00:00:00+00:00",
          "2016-12-11T00:00:00+00:00",
          "2016-12-12T00:00:00+00:00",
          "2016-12-13T00:00:00+00:00",
          "2016-12-14T00:00:00+00:00",
          "2016-12-15T00:00:00+00:00",
          "2016-12-16T00:00:00+00:00",
          "2016-12-17T00:00:00+00:00",
          "2016-12-18T00:00:00+00:00",
          "2016-12-19T00:00:00+00:00",
          "2016-12-20T00:00:00+00:00",
          "2016-12-21T00:00:00+00:00",
          "2016-12-22T00:00:00+00:00",
          "2016-12-23T00:00:00+00:00",
          "2016-12-24T00:00:00+00:00",
          "2016-12-25T00:00:00+00:00",
          "2016-12-26T00:00:00+00:00",
          "2016-12-27T00:00:00+00:00",
          "2016-12-28T00:00:00+00:00",
          "2016-12-29T00:00:00+00:00",
          "2016-12-30T00:00:00+00:00",
          "2016-12-31T00:00:00+00:00",
          "2017-01-01T00:00:00+00:00",
          "2017-01-02T00:00:00+00:00",
          "2017-01-03T00:00:00+00:00",
          "2017-01-04T00:00:00+00:00",
          "2017-01-05T00:00:00+00:00",
          "2017-01-06T00:00:00+00:00",
          "2017-01-07T00:00:00+00:00",
          "2017-01-08T00:00:00+00:00",
          "2017-01-09T00:00:00+00:00",
          "2017-01-10T00:00:00+00:00",
          "2017-01-11T00:00:00+00:00",
          "2017-01-12T00:00:00+00:00",
          "2017-01-13T00:00:00+00:00",
          "2017-01-14T00:00:00+00:00",
          "2017-01-15T00:00:00+00:00",
          "2017-01-16T00:00:00+00:00",
          "2017-01-17T00:00:00+00:00",
          "2017-01-18T00:00:00+00:00",
          "2017-01-19T00:00:00+00:00",
          "2017-01-20T00:00:00+00:00",
          "2017-01-21T00:00:00+00:00",
          "2017-01-22T00:00:00+00:00",
          "2017-01-23T00:00:00+00:00",
          "2017-01-24T00:00:00+00:00",
          "2017-01-25T00:00:00+00:00",
          "2017-01-26T00:00:00+00:00",
          "2017-01-27T00:00:00+00:00",
          "2017-01-28T00:00:00+00:00",
          "2017-01-29T00:00:00+00:00",
          "2017-01-30T00:00:00+00:00",
          "2017-01-31T00:00:00+00:00",
          "2017-02-01T00:00:00+00:00",
          "2017-02-02T00:00:00+00:00",
          "2017-02-03T00:00:00+00:00",
          "2017-02-04T00:00:00+00:00",
          "2017-02-05T00:00:00+00:00",
          "2017-02-06T00:00:00+00:00",
          "2017-02-07T00:00:00+00:00",
          "2017-02-08T00:00:00+00:00",
          "2017-02-09T00:00:00+00:00",
          "2017-02-10T00:00:00+00:00",
          "2017-02-11T00:00:00+00:00",
          "2017-02-12T00:00:00+00:00",
          "2017-02-13T00:00:00+00:00",
          "2017-02-14T00:00:00+00:00",
          "2017-02-15T00:00:00+00:00",
          "2017-02-16T00:00:00+00:00",
          "2017-02-17T00:00:00+00:00",
          "2017-02-18T00:00:00+00:00",
          "2017-02-19T00:00:00+00:00",
          "2017-02-20T00:00:00+00:00",
          "2017-02-21T00:00:00+00:00",
          "2017-02-22T00:00:00+00:00",
          "2017-02-23T00:00:00+00:00",
          "2017-02-24T00:00:00+00:00",
          "2017-02-25T00:00:00+00:00",
          "2017-02-26T00:00:00+00:00",
          "2017-02-27T00:00:00+00:00",
          "2017-02-28T00:00:00+00:00",
          "2017-03-01T00:00:00+00:00",
          "2017-03-02T00:00:00+00:00",
          "2017-03-03T00:00:00+00:00",
          "2017-03-04T00:00:00+00:00",
          "2017-03-05T00:00:00+00:00",
          "2017-03-06T00:00:00+00:00",
          "2017-03-07T00:00:00+00:00",
          "2017-03-08T00:00:00+00:00",
          "2017-03-09T00:00:00+00:00",
          "2017-03-10T00:00:00+00:00",
          "2017-03-11T00:00:00+00:00",
          "2017-03-12T00:00:00+00:00",
          "2017-03-13T00:00:00+00:00",
          "2017-03-14T00:00:00+00:00",
          "2017-03-15T00:00:00+00:00",
          "2017-03-16T00:00:00+00:00",
          "2017-03-17T00:00:00+00:00",
          "2017-03-18T00:00:00+00:00",
          "2017-03-19T00:00:00+00:00",
          "2017-03-20T00:00:00+00:00",
          "2017-03-21T00:00:00+00:00",
          "2017-03-22T00:00:00+00:00",
          "2017-03-23T00:00:00+00:00",
          "2017-03-24T00:00:00+00:00",
          "2017-03-25T00:00:00+00:00",
          "2017-03-26T00:00:00+00:00",
          "2017-03-27T00:00:00+00:00",
          "2017-03-28T00:00:00+00:00",
          "2017-03-29T00:00:00+00:00",
          "2017-03-30T00:00:00+00:00",
          "2017-03-31T00:00:00+00:00",
          "2017-04-01T00:00:00+00:00",
          "2017-04-02T00:00:00+00:00",
          "2017-04-03T00:00:00+00:00",
          "2017-04-04T00:00:00+00:00",
          "2017-04-05T00:00:00+00:00",
          "2017-04-06T00:00:00+00:00",
          "2017-04-07T00:00:00+00:00",
          "2017-04-08T00:00:00+00:00",
          "2017-04-09T00:00:00+00:00",
          "2017-04-10T00:00:00+00:00",
          "2017-04-11T00:00:00+00:00",
          "2017-04-12T00:00:00+00:00",
          "2017-04-13T00:00:00+00:00",
          "2017-04-14T00:00:00+00:00",
          "2017-04-15T00:00:00+00:00",
          "2017-04-16T00:00:00+00:00",
          "2017-04-17T00:00:00+00:00",
          "2017-04-18T00:00:00+00:00",
          "2017-04-19T00:00:00+00:00",
          "2017-04-20T00:00:00+00:00",
          "2017-04-21T00:00:00+00:00",
          "2017-04-22T00:00:00+00:00",
          "2017-04-23T00:00:00+00:00",
          "2017-04-24T00:00:00+00:00",
          "2017-04-25T00:00:00+00:00",
          "2017-04-26T00:00:00+00:00",
          "2017-04-27T00:00:00+00:00",
          "2017-04-28T00:00:00+00:00",
          "2017-04-29T00:00:00+00:00",
          "2017-04-30T00:00:00+00:00",
          "2017-05-01T00:00:00+00:00",
          "2017-05-02T00:00:00+00:00",
          "2017-05-03T00:00:00+00:00",
          "2017-05-04T00:00:00+00:00",
          "2017-05-05T00:00:00+00:00",
          "2017-05-06T00:00:00+00:00",
          "2017-05-07T00:00:00+00:00",
          "2017-05-08T00:00:00+00:00",
          "2017-05-09T00:00:00+00:00",
          "2017-05-10T00:00:00+00:00",
          "2017-05-11T00:00:00+00:00",
          "2017-05-12T00:00:00+00:00",
          "2017-05-13T00:00:00+00:00",
          "2017-05-14T00:00:00+00:00",
          "2017-05-15T00:00:00+00:00",
          "2017-05-16T00:00:00+00:00",
          "2017-05-17T00:00:00+00:00",
          "2017-05-18T00:00:00+00:00",
          "2017-05-19T00:00:00+00:00",
          "2017-05-20T00:00:00+00:00",
          "2017-05-21T00:00:00+00:00",
          "2017-05-22T00:00:00+00:00",
          "2017-05-23T00:00:00+00:00",
          "2017-05-24T00:00:00+00:00",
          "2017-05-25T00:00:00+00:00",
          "2017-05-26T00:00:00+00:00",
          "2017-05-27T00:00:00+00:00",
          "2017-05-28T00:00:00+00:00",
          "2017-05-29T00:00:00+00:00",
          "2017-05-30T00:00:00+00:00",
          "2017-05-31T00:00:00+00:00",
          "2017-06-01T00:00:00+00:00",
          "2017-06-02T00:00:00+00:00",
          "2017-06-03T00:00:00+00:00",
          "2017-06-04T00:00:00+00:00",
          "2017-06-05T00:00:00+00:00",
          "2017-06-06T00:00:00+00:00",
          "2017-06-07T00:00:00+00:00",
          "2017-06-08T00:00:00+00:00",
          "2017-06-09T00:00:00+00:00",
          "2017-06-10T00:00:00+00:00",
          "2017-06-11T00:00:00+00:00",
          "2017-06-12T00:00:00+00:00",
          "2017-06-13T00:00:00+00:00",
          "2017-06-14T00:00:00+00:00",
          "2017-06-15T00:00:00+00:00",
          "2017-06-16T00:00:00+00:00",
          "2017-06-17T00:00:00+00:00",
          "2017-06-18T00:00:00+00:00",
          "2017-06-19T00:00:00+00:00",
          "2017-06-20T00:00:00+00:00",
          "2017-06-21T00:00:00+00:00",
          "2017-06-22T00:00:00+00:00",
          "2017-06-23T00:00:00+00:00",
          "2017-06-24T00:00:00+00:00",
          "2017-06-25T00:00:00+00:00"
         ],
         "y": [
          16,
          11,
          4,
          2,
          1,
          0,
          2,
          1,
          1,
          0,
          0,
          0,
          0,
          0,
          1,
          0,
          0,
          0,
          0,
          1,
          1,
          0,
          0,
          1,
          0,
          0,
          0,
          3,
          1,
          0,
          0,
          0,
          0,
          0,
          0,
          0,
          1,
          0,
          1,
          0,
          0,
          1,
          0,
          0,
          0,
          0,
          0,
          0,
          1,
          0,
          0,
          0,
          0,
          0,
          1,
          0,
          1,
          1,
          0,
          0,
          0,
          2,
          0,
          1,
          0,
          0,
          0,
          0,
          1,
          0,
          0,
          0,
          2,
          0,
          0,
          0,
          0,
          2,
          0,
          1,
          0,
          0,
          0,
          1,
          0,
          0,
          0,
          1,
          0,
          1,
          3,
          1,
          7,
          3,
          1,
          1,
          1,
          2,
          2,
          0,
          0,
          0,
          1,
          0,
          1,
          1,
          0,
          1,
          0,
          2,
          1,
          1,
          1,
          2,
          0,
          0,
          0,
          1,
          0,
          1,
          2,
          1,
          0,
          0,
          1,
          0,
          0,
          0,
          1,
          0,
          0,
          0,
          0,
          0,
          1,
          0,
          1,
          1,
          0,
          1,
          1,
          0,
          0,
          1,
          3,
          3,
          0,
          0,
          0,
          0,
          1,
          1,
          0,
          4,
          0,
          0,
          1,
          0,
          0,
          0,
          1,
          2,
          0,
          0,
          1,
          0,
          2,
          0,
          1,
          2,
          4,
          0,
          0,
          1,
          0,
          0,
          0,
          1,
          2,
          1,
          3,
          3,
          0,
          0,
          1,
          1,
          0,
          1,
          1,
          1,
          1,
          1,
          1,
          2,
          1,
          1,
          3,
          1,
          1,
          2,
          0,
          1,
          0,
          2,
          0,
          0,
          0,
          1,
          1,
          2,
          3,
          2,
          0,
          1,
          0,
          1,
          1,
          1,
          2,
          2,
          2,
          1,
          2,
          0,
          3,
          4,
          2,
          1,
          1,
          1,
          0,
          1,
          1,
          6,
          0,
          1,
          2,
          3,
          3,
          3,
          3,
          1,
          2,
          0,
          4,
          4,
          3,
          3,
          4,
          0,
          3,
          2,
          2,
          2,
          4,
          3,
          0,
          5,
          4,
          2,
          3,
          5,
          4,
          1,
          7,
          4,
          5,
          1,
          4,
          2,
          1,
          3,
          7,
          2,
          3,
          1,
          2,
          1,
          6,
          7,
          2,
          3,
          1,
          2,
          2,
          3,
          8,
          5,
          3,
          5,
          1,
          3,
          3,
          2,
          4,
          7,
          6,
          2,
          3,
          8,
          4,
          7,
          7,
          3,
          8,
          3,
          6,
          5,
          4,
          6,
          4,
          4,
          6,
          3,
          4,
          9,
          2,
          4,
          3,
          2,
          4,
          7,
          8,
          4,
          3,
          2,
          4,
          8,
          1,
          3,
          2,
          4,
          2,
          0,
          9,
          5,
          6,
          5,
          6,
          2,
          1,
          7,
          7,
          6,
          0,
          2,
          2,
          1,
          4,
          4,
          8,
          3,
          5,
          3,
          3,
          2,
          6,
          3,
          7,
          3,
          2,
          3,
          7,
          11,
          2,
          6,
          5,
          2,
          1,
          11,
          7,
          7,
          5,
          7,
          1,
          4,
          6,
          5,
          5,
          7,
          5,
          1,
          3,
          2,
          5,
          6,
          3,
          5,
          3,
          3,
          6,
          9,
          7,
          4,
          2,
          1,
          4,
          4,
          8,
          7,
          9,
          4,
          3,
          2,
          4,
          4,
          4,
          11,
          7,
          6,
          2,
          5,
          6,
          11,
          4,
          2,
          2,
          2,
          4,
          10,
          5,
          3,
          5,
          3,
          1,
          6,
          4,
          6,
          5,
          6,
          5,
          3,
          9,
          7,
          11,
          3,
          7,
          7,
          2,
          10,
          6,
          5,
          11,
          1,
          3,
          3,
          3,
          7,
          10,
          8,
          1,
          7,
          3,
          8,
          7,
          3,
          14,
          4,
          3,
          2,
          7,
          11,
          8,
          12,
          8,
          3,
          7,
          6,
          9,
          9,
          1,
          3,
          2,
          4,
          5,
          6,
          12,
          5,
          8,
          3,
          1,
          7,
          7,
          7,
          9,
          3,
          2,
          7,
          4,
          9,
          12,
          2,
          3,
          3,
          2,
          5,
          1,
          3,
          1,
          1,
          4,
          7,
          4,
          6,
          6,
          5,
          7,
          5,
          7,
          12,
          5,
          8,
          10,
          11,
          2,
          4,
          8,
          7,
          7,
          7,
          10,
          1,
          5,
          9,
          8,
          10,
          5,
          5,
          7,
          3,
          11,
          7,
          10,
          12,
          16,
          4,
          2,
          10,
          5,
          9,
          12,
          4,
          4,
          4,
          15,
          9,
          12,
          10,
          6,
          0,
          4,
          9,
          14,
          9,
          5,
          5,
          6,
          4,
          9,
          6,
          6,
          3,
          2,
          6,
          7,
          4,
          12,
          8,
          9,
          11,
          4,
          5,
          8,
          8,
          4,
          5,
          8,
          5,
          0,
          8,
          13,
          13,
          20,
          10,
          3,
          4,
          9,
          5,
          12,
          7,
          5,
          10,
          9,
          8,
          5,
          10,
          8,
          3,
          4,
          4,
          11,
          11,
          8,
          14,
          11,
          4,
          2,
          10,
          4,
          9,
          8,
          5,
          4,
          6,
          3,
          8,
          9,
          9,
          12,
          9,
          4,
          16,
          17,
          9,
          3,
          6,
          6,
          5,
          11,
          13,
          3,
          7,
          4,
          7,
          9,
          6,
          11,
          14,
          12,
          7,
          5,
          3,
          12,
          12,
          13,
          6,
          7,
          5,
          2,
          8,
          8,
          18,
          16,
          8,
          3,
          7,
          10,
          7,
          11,
          12,
          7,
          7,
          3,
          13,
          6,
          9,
          8,
          8,
          5,
          5,
          11,
          9,
          6,
          10,
          7,
          5,
          5,
          12,
          10,
          11,
          11,
          7,
          3,
          3,
          13,
          11,
          5,
          14,
          5,
          6,
          4,
          11,
          14,
          7,
          5,
          4,
          9,
          5,
          6,
          9,
          8,
          9,
          9,
          5,
          7,
          8,
          7,
          8,
          8,
          11,
          2,
          7,
          9,
          11,
          8,
          7,
          8,
          5,
          4,
          11,
          9,
          10,
          8,
          9,
          3,
          7,
          10,
          8,
          15,
          14,
          11,
          2,
          5,
          12,
          13,
          9,
          12,
          10,
          2,
          4,
          14,
          8,
          8,
          13,
          10,
          7,
          5,
          10,
          13,
          14,
          11,
          5,
          1,
          4,
          10,
          7,
          13,
          16,
          6,
          5,
          2,
          9,
          8,
          15,
          9,
          6,
          3,
          6,
          11,
          12,
          14,
          15,
          9,
          5,
          7,
          16,
          12,
          17,
          9,
          11,
          3,
          7,
          13,
          14,
          19,
          10,
          8,
          6,
          8,
          16,
          16,
          15,
          12,
          18,
          10,
          6,
          22,
          18,
          11,
          19,
          12,
          6,
          9,
          11,
          18,
          21,
          18,
          16,
          9,
          4,
          20,
          12,
          16,
          8,
          14,
          13,
          2,
          18,
          16,
          13,
          8,
          18,
          4,
          7,
          10,
          7,
          12,
          17,
          12,
          9,
          4,
          20,
          19,
          6,
          9,
          9,
          9,
          9,
          12,
          18,
          11,
          13,
          15,
          8,
          11,
          12,
          20,
          10,
          16,
          16,
          5,
          7,
          16,
          22,
          16,
          15,
          15,
          8,
          5,
          15,
          19,
          14,
          6,
          9,
          4,
          7,
          27,
          22,
          23,
          8,
          11,
          11,
          8,
          27,
          17,
          26,
          23,
          17,
          6,
          12,
          24,
          15,
          25,
          19,
          20,
          13,
          12,
          18,
          28,
          33,
          22,
          13,
          6,
          12,
          21,
          27,
          22,
          15,
          20,
          5,
          10,
          17,
          23,
          23,
          14,
          24,
          10,
          7,
          25,
          33,
          27,
          22,
          14,
          11,
          6,
          18,
          26,
          13,
          19,
          15,
          7,
          9,
          38,
          35,
          36,
          15,
          28,
          10,
          11,
          25,
          20,
          25,
          25,
          25,
          13,
          11,
          28,
          22,
          30,
          16,
          22,
          17,
          16,
          23,
          19,
          35,
          27,
          26,
          13,
          9,
          26,
          16,
          26,
          31,
          18,
          4,
          11,
          41,
          33,
          23,
          24,
          18,
          13,
          7,
          33,
          32,
          23,
          17,
          22,
          13,
          7,
          25,
          22,
          28,
          27,
          12,
          6,
          11,
          26,
          29,
          25,
          14,
          18,
          10,
          10,
          30,
          37,
          24,
          34,
          22,
          13,
          9,
          19,
          21,
          39,
          28,
          27,
          12,
          16,
          37,
          28,
          27,
          26,
          32,
          12,
          8,
          31,
          32,
          31,
          34,
          29,
          12,
          10,
          23,
          28,
          26,
          32,
          35,
          11,
          14,
          30,
          34,
          30,
          34,
          26,
          17,
          21,
          27,
          30,
          34,
          31,
          32,
          10,
          27,
          34,
          23,
          27,
          27,
          24,
          22,
          23,
          41,
          26,
          35,
          38,
          29,
          16,
          14,
          27,
          40,
          43,
          31,
          20,
          13,
          15,
          38,
          31,
          33,
          35,
          24,
          22,
          13,
          46,
          39,
          29,
          42,
          37,
          17,
          19,
          36,
          35,
          27,
          32,
          22,
          21,
          15,
          40,
          27,
          32,
          43,
          35,
          18,
          17,
          37,
          39,
          35,
          43,
          23,
          17,
          20,
          33,
          64,
          48,
          39,
          41,
          17,
          26,
          54,
          45,
          44,
          46,
          44,
          27,
          20,
          39,
          35,
          41,
          42,
          33,
          24,
          36,
          37,
          48,
          50,
          45,
          49,
          24,
          17,
          41,
          62,
          47,
          48,
          37,
          24,
          22,
          35,
          37,
          55,
          47,
          40,
          20,
          25,
          41,
          65,
          50,
          54,
          39,
          18,
          18,
          40,
          47,
          62,
          64,
          38,
          26,
          31,
          50,
          61,
          74,
          89,
          61,
          34,
          47,
          76,
          69,
          71,
          60,
          52,
          38,
          29,
          60,
          81,
          73,
          68,
          64,
          35,
          40,
          81,
          72,
          74,
          70,
          53,
          33,
          36,
          62,
          70,
          74,
          72,
          75,
          33,
          45,
          79,
          81,
          74,
          56,
          56,
          33,
          30,
          59,
          73,
          58,
          62,
          47,
          19,
          33,
          57,
          59,
          51,
          35,
          35,
          29,
          31,
          60,
          54,
          61,
          57,
          51,
          29,
          38,
          85,
          69,
          63,
          66,
          52,
          29,
          43,
          55,
          70,
          60,
          58,
          60,
          39,
          37,
          69,
          60,
          45,
          39,
          17,
          26,
          28,
          53,
          52,
          56,
          78,
          42,
          44,
          58,
          94,
          82,
          83,
          90,
          51,
          39,
          53,
          78,
          94,
          79,
          82,
          87,
          46,
          45,
          62,
          65,
          90,
          64,
          88,
          37,
          51,
          76,
          85,
          76,
          69,
          88,
          52,
          54,
          83,
          107,
          89,
          79,
          105,
          37,
          54,
          81,
          98,
          105,
          80,
          84,
          47,
          61,
          93,
          87,
          90,
          80,
          79,
          64,
          61,
          98,
          105,
          101,
          126,
          89,
          56,
          55,
          103,
          108,
          96,
          117,
          87,
          49,
          50,
          89,
          103,
          96,
          108,
          102,
          53,
          51,
          94,
          106,
          95,
          84,
          86,
          46,
          55,
          112,
          116,
          104,
          89,
          74,
          53,
          47,
          87,
          100,
          86,
          116,
          65,
          48,
          53,
          89,
          106,
          100,
          77,
          86,
          43,
          62,
          96,
          98,
          93,
          106,
          91,
          41,
          45,
          101,
          90,
          81,
          92,
          86,
          34,
          51,
          92,
          90,
          104,
          101,
          87,
          38,
          48,
          73,
          100,
          103,
          98,
          75,
          39,
          50,
          89,
          104,
          99,
          106,
          69,
          35,
          49,
          99,
          78,
          104,
          89,
          89,
          46,
          54,
          79,
          91,
          87,
          81,
          84,
          39,
          44,
          78,
          87,
          96,
          99,
          91,
          46,
          67,
          103,
          99,
          112,
          109,
          82,
          50,
          48,
          98,
          95,
          122,
          124,
          105,
          55,
          70,
          116,
          104,
          110,
          99,
          105,
          55,
          74,
          101,
          100,
          114,
          116,
          109,
          54,
          60,
          81,
          102,
          125,
          122,
          106,
          47,
          77,
          105,
          132,
          122,
          125,
          111,
          51,
          55,
          111,
          109,
          104,
          92,
          105,
          60,
          69,
          140,
          118,
          121,
          111,
          108,
          78,
          61,
          140,
          106,
          106,
          133,
          112,
          55,
          60,
          107,
          107,
          92,
          110,
          96,
          71,
          70,
          117,
          129,
          129,
          112,
          97,
          56,
          50,
          123,
          126,
          124,
          103,
          92,
          64,
          66,
          130,
          117,
          117,
          112,
          96,
          66,
          58,
          91,
          121,
          100,
          111,
          111,
          66,
          64,
          139,
          118,
          125,
          123,
          116,
          70,
          73,
          133,
          122,
          150,
          106,
          108,
          53,
          81,
          129,
          142,
          130,
          109,
          120,
          87,
          71,
          134,
          129,
          143,
          139,
          110,
          67,
          78,
          143,
          147,
          133,
          122,
          144,
          68,
          91,
          142,
          143,
          138,
          139,
          132,
          73,
          78,
          152,
          138,
          158,
          131,
          142,
          60,
          81,
          150,
          124,
          131,
          146,
          141,
          67,
          97,
          158,
          160,
          198,
          198,
          147,
          99,
          95,
          156,
          197,
          186,
          171,
          144,
          74,
          74,
          160,
          158,
          177,
          97,
          112,
          83,
          92,
          126,
          165,
          156,
          136,
          148,
          82,
          73,
          164,
          180,
          192,
          145,
          164,
          79,
          85,
          174,
          168,
          164,
          147,
          125,
          78,
          91,
          167,
          182,
          175,
          150,
          113,
          69,
          52,
          109,
          140,
          166,
          149,
          148,
          124,
          114,
          146,
          174,
          190,
          176,
          149,
          124,
          114,
          186,
          197,
          187,
          187,
          180,
          99,
          112,
          181,
          171,
          172,
          172,
          181,
          97,
          153,
          206,
          194,
          195,
          171,
          162,
          123,
          131,
          199,
          203,
          206,
          232,
          190,
          125,
          163,
          195,
          201,
          197,
          220,
          205,
          111,
          100,
          193,
          207,
          188,
          192,
          190,
          139,
          117,
          194,
          224,
          205,
          189,
          196,
          121,
          111,
          225,
          187,
          219,
          231,
          218,
          112,
          119,
          224,
          205,
          219,
          229,
          206,
          124,
          136,
          201,
          227,
          241,
          225,
          189,
          123,
          99,
          205,
          247,
          246,
          228,
          208,
          135,
          129,
          230,
          225,
          238,
          257,
          207,
          125,
          142,
          259,
          221,
          203,
          274,
          221,
          140,
          149,
          238,
          258,
          239,
          250,
          204,
          137,
          143,
          233,
          264,
          278,
          274,
          259,
          178,
          168,
          296,
          306,
          270,
          277,
          262,
          187,
          148,
          305,
          332,
          286,
          284,
          264,
          133,
          136,
          267,
          262,
          264,
          267,
          281,
          205,
          180,
          341,
          345,
          367,
          336,
          301,
          156,
          194,
          341,
          388,
          375,
          298,
          269,
          157,
          172,
          297,
          365,
          407,
          392,
          328,
          170,
          194,
          340,
          348,
          323,
          347,
          291,
          165,
          193,
          349,
          358,
          344,
          336,
          345,
          188,
          243,
          408,
          417,
          422,
          441,
          421,
          277,
          253
         ]
        }
       ],
       "layout": {
        "template": {
         "data": {
          "bar": [
           {
            "error_x": {
             "color": "#2a3f5f"
            },
            "error_y": {
             "color": "#2a3f5f"
            },
            "marker": {
             "line": {
              "color": "#E5ECF6",
              "width": 0.5
             },
             "pattern": {
              "fillmode": "overlay",
              "size": 10,
              "solidity": 0.2
             }
            },
            "type": "bar"
           }
          ],
          "barpolar": [
           {
            "marker": {
             "line": {
              "color": "#E5ECF6",
              "width": 0.5
             },
             "pattern": {
              "fillmode": "overlay",
              "size": 10,
              "solidity": 0.2
             }
            },
            "type": "barpolar"
           }
          ],
          "carpet": [
           {
            "aaxis": {
             "endlinecolor": "#2a3f5f",
             "gridcolor": "white",
             "linecolor": "white",
             "minorgridcolor": "white",
             "startlinecolor": "#2a3f5f"
            },
            "baxis": {
             "endlinecolor": "#2a3f5f",
             "gridcolor": "white",
             "linecolor": "white",
             "minorgridcolor": "white",
             "startlinecolor": "#2a3f5f"
            },
            "type": "carpet"
           }
          ],
          "choropleth": [
           {
            "colorbar": {
             "outlinewidth": 0,
             "ticks": ""
            },
            "type": "choropleth"
           }
          ],
          "contour": [
           {
            "colorbar": {
             "outlinewidth": 0,
             "ticks": ""
            },
            "colorscale": [
             [
              0,
              "#0d0887"
             ],
             [
              0.1111111111111111,
              "#46039f"
             ],
             [
              0.2222222222222222,
              "#7201a8"
             ],
             [
              0.3333333333333333,
              "#9c179e"
             ],
             [
              0.4444444444444444,
              "#bd3786"
             ],
             [
              0.5555555555555556,
              "#d8576b"
             ],
             [
              0.6666666666666666,
              "#ed7953"
             ],
             [
              0.7777777777777778,
              "#fb9f3a"
             ],
             [
              0.8888888888888888,
              "#fdca26"
             ],
             [
              1,
              "#f0f921"
             ]
            ],
            "type": "contour"
           }
          ],
          "contourcarpet": [
           {
            "colorbar": {
             "outlinewidth": 0,
             "ticks": ""
            },
            "type": "contourcarpet"
           }
          ],
          "heatmap": [
           {
            "colorbar": {
             "outlinewidth": 0,
             "ticks": ""
            },
            "colorscale": [
             [
              0,
              "#0d0887"
             ],
             [
              0.1111111111111111,
              "#46039f"
             ],
             [
              0.2222222222222222,
              "#7201a8"
             ],
             [
              0.3333333333333333,
              "#9c179e"
             ],
             [
              0.4444444444444444,
              "#bd3786"
             ],
             [
              0.5555555555555556,
              "#d8576b"
             ],
             [
              0.6666666666666666,
              "#ed7953"
             ],
             [
              0.7777777777777778,
              "#fb9f3a"
             ],
             [
              0.8888888888888888,
              "#fdca26"
             ],
             [
              1,
              "#f0f921"
             ]
            ],
            "type": "heatmap"
           }
          ],
          "heatmapgl": [
           {
            "colorbar": {
             "outlinewidth": 0,
             "ticks": ""
            },
            "colorscale": [
             [
              0,
              "#0d0887"
             ],
             [
              0.1111111111111111,
              "#46039f"
             ],
             [
              0.2222222222222222,
              "#7201a8"
             ],
             [
              0.3333333333333333,
              "#9c179e"
             ],
             [
              0.4444444444444444,
              "#bd3786"
             ],
             [
              0.5555555555555556,
              "#d8576b"
             ],
             [
              0.6666666666666666,
              "#ed7953"
             ],
             [
              0.7777777777777778,
              "#fb9f3a"
             ],
             [
              0.8888888888888888,
              "#fdca26"
             ],
             [
              1,
              "#f0f921"
             ]
            ],
            "type": "heatmapgl"
           }
          ],
          "histogram": [
           {
            "marker": {
             "pattern": {
              "fillmode": "overlay",
              "size": 10,
              "solidity": 0.2
             }
            },
            "type": "histogram"
           }
          ],
          "histogram2d": [
           {
            "colorbar": {
             "outlinewidth": 0,
             "ticks": ""
            },
            "colorscale": [
             [
              0,
              "#0d0887"
             ],
             [
              0.1111111111111111,
              "#46039f"
             ],
             [
              0.2222222222222222,
              "#7201a8"
             ],
             [
              0.3333333333333333,
              "#9c179e"
             ],
             [
              0.4444444444444444,
              "#bd3786"
             ],
             [
              0.5555555555555556,
              "#d8576b"
             ],
             [
              0.6666666666666666,
              "#ed7953"
             ],
             [
              0.7777777777777778,
              "#fb9f3a"
             ],
             [
              0.8888888888888888,
              "#fdca26"
             ],
             [
              1,
              "#f0f921"
             ]
            ],
            "type": "histogram2d"
           }
          ],
          "histogram2dcontour": [
           {
            "colorbar": {
             "outlinewidth": 0,
             "ticks": ""
            },
            "colorscale": [
             [
              0,
              "#0d0887"
             ],
             [
              0.1111111111111111,
              "#46039f"
             ],
             [
              0.2222222222222222,
              "#7201a8"
             ],
             [
              0.3333333333333333,
              "#9c179e"
             ],
             [
              0.4444444444444444,
              "#bd3786"
             ],
             [
              0.5555555555555556,
              "#d8576b"
             ],
             [
              0.6666666666666666,
              "#ed7953"
             ],
             [
              0.7777777777777778,
              "#fb9f3a"
             ],
             [
              0.8888888888888888,
              "#fdca26"
             ],
             [
              1,
              "#f0f921"
             ]
            ],
            "type": "histogram2dcontour"
           }
          ],
          "mesh3d": [
           {
            "colorbar": {
             "outlinewidth": 0,
             "ticks": ""
            },
            "type": "mesh3d"
           }
          ],
          "parcoords": [
           {
            "line": {
             "colorbar": {
              "outlinewidth": 0,
              "ticks": ""
             }
            },
            "type": "parcoords"
           }
          ],
          "pie": [
           {
            "automargin": true,
            "type": "pie"
           }
          ],
          "scatter": [
           {
            "marker": {
             "colorbar": {
              "outlinewidth": 0,
              "ticks": ""
             }
            },
            "type": "scatter"
           }
          ],
          "scatter3d": [
           {
            "line": {
             "colorbar": {
              "outlinewidth": 0,
              "ticks": ""
             }
            },
            "marker": {
             "colorbar": {
              "outlinewidth": 0,
              "ticks": ""
             }
            },
            "type": "scatter3d"
           }
          ],
          "scattercarpet": [
           {
            "marker": {
             "colorbar": {
              "outlinewidth": 0,
              "ticks": ""
             }
            },
            "type": "scattercarpet"
           }
          ],
          "scattergeo": [
           {
            "marker": {
             "colorbar": {
              "outlinewidth": 0,
              "ticks": ""
             }
            },
            "type": "scattergeo"
           }
          ],
          "scattergl": [
           {
            "marker": {
             "colorbar": {
              "outlinewidth": 0,
              "ticks": ""
             }
            },
            "type": "scattergl"
           }
          ],
          "scattermapbox": [
           {
            "marker": {
             "colorbar": {
              "outlinewidth": 0,
              "ticks": ""
             }
            },
            "type": "scattermapbox"
           }
          ],
          "scatterpolar": [
           {
            "marker": {
             "colorbar": {
              "outlinewidth": 0,
              "ticks": ""
             }
            },
            "type": "scatterpolar"
           }
          ],
          "scatterpolargl": [
           {
            "marker": {
             "colorbar": {
              "outlinewidth": 0,
              "ticks": ""
             }
            },
            "type": "scatterpolargl"
           }
          ],
          "scatterternary": [
           {
            "marker": {
             "colorbar": {
              "outlinewidth": 0,
              "ticks": ""
             }
            },
            "type": "scatterternary"
           }
          ],
          "surface": [
           {
            "colorbar": {
             "outlinewidth": 0,
             "ticks": ""
            },
            "colorscale": [
             [
              0,
              "#0d0887"
             ],
             [
              0.1111111111111111,
              "#46039f"
             ],
             [
              0.2222222222222222,
              "#7201a8"
             ],
             [
              0.3333333333333333,
              "#9c179e"
             ],
             [
              0.4444444444444444,
              "#bd3786"
             ],
             [
              0.5555555555555556,
              "#d8576b"
             ],
             [
              0.6666666666666666,
              "#ed7953"
             ],
             [
              0.7777777777777778,
              "#fb9f3a"
             ],
             [
              0.8888888888888888,
              "#fdca26"
             ],
             [
              1,
              "#f0f921"
             ]
            ],
            "type": "surface"
           }
          ],
          "table": [
           {
            "cells": {
             "fill": {
              "color": "#EBF0F8"
             },
             "line": {
              "color": "white"
             }
            },
            "header": {
             "fill": {
              "color": "#C8D4E3"
             },
             "line": {
              "color": "white"
             }
            },
            "type": "table"
           }
          ]
         },
         "layout": {
          "annotationdefaults": {
           "arrowcolor": "#2a3f5f",
           "arrowhead": 0,
           "arrowwidth": 1
          },
          "autotypenumbers": "strict",
          "coloraxis": {
           "colorbar": {
            "outlinewidth": 0,
            "ticks": ""
           }
          },
          "colorscale": {
           "diverging": [
            [
             0,
             "#8e0152"
            ],
            [
             0.1,
             "#c51b7d"
            ],
            [
             0.2,
             "#de77ae"
            ],
            [
             0.3,
             "#f1b6da"
            ],
            [
             0.4,
             "#fde0ef"
            ],
            [
             0.5,
             "#f7f7f7"
            ],
            [
             0.6,
             "#e6f5d0"
            ],
            [
             0.7,
             "#b8e186"
            ],
            [
             0.8,
             "#7fbc41"
            ],
            [
             0.9,
             "#4d9221"
            ],
            [
             1,
             "#276419"
            ]
           ],
           "sequential": [
            [
             0,
             "#0d0887"
            ],
            [
             0.1111111111111111,
             "#46039f"
            ],
            [
             0.2222222222222222,
             "#7201a8"
            ],
            [
             0.3333333333333333,
             "#9c179e"
            ],
            [
             0.4444444444444444,
             "#bd3786"
            ],
            [
             0.5555555555555556,
             "#d8576b"
            ],
            [
             0.6666666666666666,
             "#ed7953"
            ],
            [
             0.7777777777777778,
             "#fb9f3a"
            ],
            [
             0.8888888888888888,
             "#fdca26"
            ],
            [
             1,
             "#f0f921"
            ]
           ],
           "sequentialminus": [
            [
             0,
             "#0d0887"
            ],
            [
             0.1111111111111111,
             "#46039f"
            ],
            [
             0.2222222222222222,
             "#7201a8"
            ],
            [
             0.3333333333333333,
             "#9c179e"
            ],
            [
             0.4444444444444444,
             "#bd3786"
            ],
            [
             0.5555555555555556,
             "#d8576b"
            ],
            [
             0.6666666666666666,
             "#ed7953"
            ],
            [
             0.7777777777777778,
             "#fb9f3a"
            ],
            [
             0.8888888888888888,
             "#fdca26"
            ],
            [
             1,
             "#f0f921"
            ]
           ]
          },
          "colorway": [
           "#636efa",
           "#EF553B",
           "#00cc96",
           "#ab63fa",
           "#FFA15A",
           "#19d3f3",
           "#FF6692",
           "#B6E880",
           "#FF97FF",
           "#FECB52"
          ],
          "font": {
           "color": "#2a3f5f"
          },
          "geo": {
           "bgcolor": "white",
           "lakecolor": "white",
           "landcolor": "#E5ECF6",
           "showlakes": true,
           "showland": true,
           "subunitcolor": "white"
          },
          "hoverlabel": {
           "align": "left"
          },
          "hovermode": "closest",
          "mapbox": {
           "style": "light"
          },
          "paper_bgcolor": "white",
          "plot_bgcolor": "#E5ECF6",
          "polar": {
           "angularaxis": {
            "gridcolor": "white",
            "linecolor": "white",
            "ticks": ""
           },
           "bgcolor": "#E5ECF6",
           "radialaxis": {
            "gridcolor": "white",
            "linecolor": "white",
            "ticks": ""
           }
          },
          "scene": {
           "xaxis": {
            "backgroundcolor": "#E5ECF6",
            "gridcolor": "white",
            "gridwidth": 2,
            "linecolor": "white",
            "showbackground": true,
            "ticks": "",
            "zerolinecolor": "white"
           },
           "yaxis": {
            "backgroundcolor": "#E5ECF6",
            "gridcolor": "white",
            "gridwidth": 2,
            "linecolor": "white",
            "showbackground": true,
            "ticks": "",
            "zerolinecolor": "white"
           },
           "zaxis": {
            "backgroundcolor": "#E5ECF6",
            "gridcolor": "white",
            "gridwidth": 2,
            "linecolor": "white",
            "showbackground": true,
            "ticks": "",
            "zerolinecolor": "white"
           }
          },
          "shapedefaults": {
           "line": {
            "color": "#2a3f5f"
           }
          },
          "ternary": {
           "aaxis": {
            "gridcolor": "white",
            "linecolor": "white",
            "ticks": ""
           },
           "baxis": {
            "gridcolor": "white",
            "linecolor": "white",
            "ticks": ""
           },
           "bgcolor": "#E5ECF6",
           "caxis": {
            "gridcolor": "white",
            "linecolor": "white",
            "ticks": ""
           }
          },
          "title": {
           "x": 0.05
          },
          "xaxis": {
           "automargin": true,
           "gridcolor": "white",
           "linecolor": "white",
           "ticks": "",
           "title": {
            "standoff": 15
           },
           "zerolinecolor": "white",
           "zerolinewidth": 2
          },
          "yaxis": {
           "automargin": true,
           "gridcolor": "white",
           "linecolor": "white",
           "ticks": "",
           "title": {
            "standoff": 15
           },
           "zerolinecolor": "white",
           "zerolinewidth": 2
          }
         }
        },
        "title": {
         "text": "Posts on Medium (daily)"
        }
       }
      },
      "text/html": [
       "<div>                            <div id=\"ed245ef4-eb7d-4049-9c51-6f67cd608863\" class=\"plotly-graph-div\" style=\"height:525px; width:100%;\"></div>            <script type=\"text/javascript\">                require([\"plotly\"], function(Plotly) {                    window.PLOTLYENV=window.PLOTLYENV || {};                                    if (document.getElementById(\"ed245ef4-eb7d-4049-9c51-6f67cd608863\")) {                    Plotly.newPlot(                        \"ed245ef4-eb7d-4049-9c51-6f67cd608863\",                        [{\"mode\":\"lines\",\"name\":\"posts\",\"type\":\"scatter\",\"x\":[\"2012-08-15T00:00:00+00:00\",\"2012-08-16T00:00:00+00:00\",\"2012-08-17T00:00:00+00:00\",\"2012-08-18T00:00:00+00:00\",\"2012-08-19T00:00:00+00:00\",\"2012-08-20T00:00:00+00:00\",\"2012-08-21T00:00:00+00:00\",\"2012-08-22T00:00:00+00:00\",\"2012-08-23T00:00:00+00:00\",\"2012-08-24T00:00:00+00:00\",\"2012-08-25T00:00:00+00:00\",\"2012-08-26T00:00:00+00:00\",\"2012-08-27T00:00:00+00:00\",\"2012-08-28T00:00:00+00:00\",\"2012-08-29T00:00:00+00:00\",\"2012-08-30T00:00:00+00:00\",\"2012-08-31T00:00:00+00:00\",\"2012-09-01T00:00:00+00:00\",\"2012-09-02T00:00:00+00:00\",\"2012-09-03T00:00:00+00:00\",\"2012-09-04T00:00:00+00:00\",\"2012-09-05T00:00:00+00:00\",\"2012-09-06T00:00:00+00:00\",\"2012-09-07T00:00:00+00:00\",\"2012-09-08T00:00:00+00:00\",\"2012-09-09T00:00:00+00:00\",\"2012-09-10T00:00:00+00:00\",\"2012-09-11T00:00:00+00:00\",\"2012-09-12T00:00:00+00:00\",\"2012-09-13T00:00:00+00:00\",\"2012-09-14T00:00:00+00:00\",\"2012-09-15T00:00:00+00:00\",\"2012-09-16T00:00:00+00:00\",\"2012-09-17T00:00:00+00:00\",\"2012-09-18T00:00:00+00:00\",\"2012-09-19T00:00:00+00:00\",\"2012-09-20T00:00:00+00:00\",\"2012-09-21T00:00:00+00:00\",\"2012-09-22T00:00:00+00:00\",\"2012-09-23T00:00:00+00:00\",\"2012-09-24T00:00:00+00:00\",\"2012-09-25T00:00:00+00:00\",\"2012-09-26T00:00:00+00:00\",\"2012-09-27T00:00:00+00:00\",\"2012-09-28T00:00:00+00:00\",\"2012-09-29T00:00:00+00:00\",\"2012-09-30T00:00:00+00:00\",\"2012-10-01T00:00:00+00:00\",\"2012-10-02T00:00:00+00:00\",\"2012-10-03T00:00:00+00:00\",\"2012-10-04T00:00:00+00:00\",\"2012-10-05T00:00:00+00:00\",\"2012-10-06T00:00:00+00:00\",\"2012-10-07T00:00:00+00:00\",\"2012-10-08T00:00:00+00:00\",\"2012-10-09T00:00:00+00:00\",\"2012-10-10T00:00:00+00:00\",\"2012-10-11T00:00:00+00:00\",\"2012-10-12T00:00:00+00:00\",\"2012-10-13T00:00:00+00:00\",\"2012-10-14T00:00:00+00:00\",\"2012-10-15T00:00:00+00:00\",\"2012-10-16T00:00:00+00:00\",\"2012-10-17T00:00:00+00:00\",\"2012-10-18T00:00:00+00:00\",\"2012-10-19T00:00:00+00:00\",\"2012-10-20T00:00:00+00:00\",\"2012-10-21T00:00:00+00:00\",\"2012-10-22T00:00:00+00:00\",\"2012-10-23T00:00:00+00:00\",\"2012-10-24T00:00:00+00:00\",\"2012-10-25T00:00:00+00:00\",\"2012-10-26T00:00:00+00:00\",\"2012-10-27T00:00:00+00:00\",\"2012-10-28T00:00:00+00:00\",\"2012-10-29T00:00:00+00:00\",\"2012-10-30T00:00:00+00:00\",\"2012-10-31T00:00:00+00:00\",\"2012-11-01T00:00:00+00:00\",\"2012-11-02T00:00:00+00:00\",\"2012-11-03T00:00:00+00:00\",\"2012-11-04T00:00:00+00:00\",\"2012-11-05T00:00:00+00:00\",\"2012-11-06T00:00:00+00:00\",\"2012-11-07T00:00:00+00:00\",\"2012-11-08T00:00:00+00:00\",\"2012-11-09T00:00:00+00:00\",\"2012-11-10T00:00:00+00:00\",\"2012-11-11T00:00:00+00:00\",\"2012-11-12T00:00:00+00:00\",\"2012-11-13T00:00:00+00:00\",\"2012-11-14T00:00:00+00:00\",\"2012-11-15T00:00:00+00:00\",\"2012-11-16T00:00:00+00:00\",\"2012-11-17T00:00:00+00:00\",\"2012-11-18T00:00:00+00:00\",\"2012-11-19T00:00:00+00:00\",\"2012-11-20T00:00:00+00:00\",\"2012-11-21T00:00:00+00:00\",\"2012-11-22T00:00:00+00:00\",\"2012-11-23T00:00:00+00:00\",\"2012-11-24T00:00:00+00:00\",\"2012-11-25T00:00:00+00:00\",\"2012-11-26T00:00:00+00:00\",\"2012-11-27T00:00:00+00:00\",\"2012-11-28T00:00:00+00:00\",\"2012-11-29T00:00:00+00:00\",\"2012-11-30T00:00:00+00:00\",\"2012-12-01T00:00:00+00:00\",\"2012-12-02T00:00:00+00:00\",\"2012-12-03T00:00:00+00:00\",\"2012-12-04T00:00:00+00:00\",\"2012-12-05T00:00:00+00:00\",\"2012-12-06T00:00:00+00:00\",\"2012-12-07T00:00:00+00:00\",\"2012-12-08T00:00:00+00:00\",\"2012-12-09T00:00:00+00:00\",\"2012-12-10T00:00:00+00:00\",\"2012-12-11T00:00:00+00:00\",\"2012-12-12T00:00:00+00:00\",\"2012-12-13T00:00:00+00:00\",\"2012-12-14T00:00:00+00:00\",\"2012-12-15T00:00:00+00:00\",\"2012-12-16T00:00:00+00:00\",\"2012-12-17T00:00:00+00:00\",\"2012-12-18T00:00:00+00:00\",\"2012-12-19T00:00:00+00:00\",\"2012-12-20T00:00:00+00:00\",\"2012-12-21T00:00:00+00:00\",\"2012-12-22T00:00:00+00:00\",\"2012-12-23T00:00:00+00:00\",\"2012-12-24T00:00:00+00:00\",\"2012-12-25T00:00:00+00:00\",\"2012-12-26T00:00:00+00:00\",\"2012-12-27T00:00:00+00:00\",\"2012-12-28T00:00:00+00:00\",\"2012-12-29T00:00:00+00:00\",\"2012-12-30T00:00:00+00:00\",\"2012-12-31T00:00:00+00:00\",\"2013-01-01T00:00:00+00:00\",\"2013-01-02T00:00:00+00:00\",\"2013-01-03T00:00:00+00:00\",\"2013-01-04T00:00:00+00:00\",\"2013-01-05T00:00:00+00:00\",\"2013-01-06T00:00:00+00:00\",\"2013-01-07T00:00:00+00:00\",\"2013-01-08T00:00:00+00:00\",\"2013-01-09T00:00:00+00:00\",\"2013-01-10T00:00:00+00:00\",\"2013-01-11T00:00:00+00:00\",\"2013-01-12T00:00:00+00:00\",\"2013-01-13T00:00:00+00:00\",\"2013-01-14T00:00:00+00:00\",\"2013-01-15T00:00:00+00:00\",\"2013-01-16T00:00:00+00:00\",\"2013-01-17T00:00:00+00:00\",\"2013-01-18T00:00:00+00:00\",\"2013-01-19T00:00:00+00:00\",\"2013-01-20T00:00:00+00:00\",\"2013-01-21T00:00:00+00:00\",\"2013-01-22T00:00:00+00:00\",\"2013-01-23T00:00:00+00:00\",\"2013-01-24T00:00:00+00:00\",\"2013-01-25T00:00:00+00:00\",\"2013-01-26T00:00:00+00:00\",\"2013-01-27T00:00:00+00:00\",\"2013-01-28T00:00:00+00:00\",\"2013-01-29T00:00:00+00:00\",\"2013-01-30T00:00:00+00:00\",\"2013-01-31T00:00:00+00:00\",\"2013-02-01T00:00:00+00:00\",\"2013-02-02T00:00:00+00:00\",\"2013-02-03T00:00:00+00:00\",\"2013-02-04T00:00:00+00:00\",\"2013-02-05T00:00:00+00:00\",\"2013-02-06T00:00:00+00:00\",\"2013-02-07T00:00:00+00:00\",\"2013-02-08T00:00:00+00:00\",\"2013-02-09T00:00:00+00:00\",\"2013-02-10T00:00:00+00:00\",\"2013-02-11T00:00:00+00:00\",\"2013-02-12T00:00:00+00:00\",\"2013-02-13T00:00:00+00:00\",\"2013-02-14T00:00:00+00:00\",\"2013-02-15T00:00:00+00:00\",\"2013-02-16T00:00:00+00:00\",\"2013-02-17T00:00:00+00:00\",\"2013-02-18T00:00:00+00:00\",\"2013-02-19T00:00:00+00:00\",\"2013-02-20T00:00:00+00:00\",\"2013-02-21T00:00:00+00:00\",\"2013-02-22T00:00:00+00:00\",\"2013-02-23T00:00:00+00:00\",\"2013-02-24T00:00:00+00:00\",\"2013-02-25T00:00:00+00:00\",\"2013-02-26T00:00:00+00:00\",\"2013-02-27T00:00:00+00:00\",\"2013-02-28T00:00:00+00:00\",\"2013-03-01T00:00:00+00:00\",\"2013-03-02T00:00:00+00:00\",\"2013-03-03T00:00:00+00:00\",\"2013-03-04T00:00:00+00:00\",\"2013-03-05T00:00:00+00:00\",\"2013-03-06T00:00:00+00:00\",\"2013-03-07T00:00:00+00:00\",\"2013-03-08T00:00:00+00:00\",\"2013-03-09T00:00:00+00:00\",\"2013-03-10T00:00:00+00:00\",\"2013-03-11T00:00:00+00:00\",\"2013-03-12T00:00:00+00:00\",\"2013-03-13T00:00:00+00:00\",\"2013-03-14T00:00:00+00:00\",\"2013-03-15T00:00:00+00:00\",\"2013-03-16T00:00:00+00:00\",\"2013-03-17T00:00:00+00:00\",\"2013-03-18T00:00:00+00:00\",\"2013-03-19T00:00:00+00:00\",\"2013-03-20T00:00:00+00:00\",\"2013-03-21T00:00:00+00:00\",\"2013-03-22T00:00:00+00:00\",\"2013-03-23T00:00:00+00:00\",\"2013-03-24T00:00:00+00:00\",\"2013-03-25T00:00:00+00:00\",\"2013-03-26T00:00:00+00:00\",\"2013-03-27T00:00:00+00:00\",\"2013-03-28T00:00:00+00:00\",\"2013-03-29T00:00:00+00:00\",\"2013-03-30T00:00:00+00:00\",\"2013-03-31T00:00:00+00:00\",\"2013-04-01T00:00:00+00:00\",\"2013-04-02T00:00:00+00:00\",\"2013-04-03T00:00:00+00:00\",\"2013-04-04T00:00:00+00:00\",\"2013-04-05T00:00:00+00:00\",\"2013-04-06T00:00:00+00:00\",\"2013-04-07T00:00:00+00:00\",\"2013-04-08T00:00:00+00:00\",\"2013-04-09T00:00:00+00:00\",\"2013-04-10T00:00:00+00:00\",\"2013-04-11T00:00:00+00:00\",\"2013-04-12T00:00:00+00:00\",\"2013-04-13T00:00:00+00:00\",\"2013-04-14T00:00:00+00:00\",\"2013-04-15T00:00:00+00:00\",\"2013-04-16T00:00:00+00:00\",\"2013-04-17T00:00:00+00:00\",\"2013-04-18T00:00:00+00:00\",\"2013-04-19T00:00:00+00:00\",\"2013-04-20T00:00:00+00:00\",\"2013-04-21T00:00:00+00:00\",\"2013-04-22T00:00:00+00:00\",\"2013-04-23T00:00:00+00:00\",\"2013-04-24T00:00:00+00:00\",\"2013-04-25T00:00:00+00:00\",\"2013-04-26T00:00:00+00:00\",\"2013-04-27T00:00:00+00:00\",\"2013-04-28T00:00:00+00:00\",\"2013-04-29T00:00:00+00:00\",\"2013-04-30T00:00:00+00:00\",\"2013-05-01T00:00:00+00:00\",\"2013-05-02T00:00:00+00:00\",\"2013-05-03T00:00:00+00:00\",\"2013-05-04T00:00:00+00:00\",\"2013-05-05T00:00:00+00:00\",\"2013-05-06T00:00:00+00:00\",\"2013-05-07T00:00:00+00:00\",\"2013-05-08T00:00:00+00:00\",\"2013-05-09T00:00:00+00:00\",\"2013-05-10T00:00:00+00:00\",\"2013-05-11T00:00:00+00:00\",\"2013-05-12T00:00:00+00:00\",\"2013-05-13T00:00:00+00:00\",\"2013-05-14T00:00:00+00:00\",\"2013-05-15T00:00:00+00:00\",\"2013-05-16T00:00:00+00:00\",\"2013-05-17T00:00:00+00:00\",\"2013-05-18T00:00:00+00:00\",\"2013-05-19T00:00:00+00:00\",\"2013-05-20T00:00:00+00:00\",\"2013-05-21T00:00:00+00:00\",\"2013-05-22T00:00:00+00:00\",\"2013-05-23T00:00:00+00:00\",\"2013-05-24T00:00:00+00:00\",\"2013-05-25T00:00:00+00:00\",\"2013-05-26T00:00:00+00:00\",\"2013-05-27T00:00:00+00:00\",\"2013-05-28T00:00:00+00:00\",\"2013-05-29T00:00:00+00:00\",\"2013-05-30T00:00:00+00:00\",\"2013-05-31T00:00:00+00:00\",\"2013-06-01T00:00:00+00:00\",\"2013-06-02T00:00:00+00:00\",\"2013-06-03T00:00:00+00:00\",\"2013-06-04T00:00:00+00:00\",\"2013-06-05T00:00:00+00:00\",\"2013-06-06T00:00:00+00:00\",\"2013-06-07T00:00:00+00:00\",\"2013-06-08T00:00:00+00:00\",\"2013-06-09T00:00:00+00:00\",\"2013-06-10T00:00:00+00:00\",\"2013-06-11T00:00:00+00:00\",\"2013-06-12T00:00:00+00:00\",\"2013-06-13T00:00:00+00:00\",\"2013-06-14T00:00:00+00:00\",\"2013-06-15T00:00:00+00:00\",\"2013-06-16T00:00:00+00:00\",\"2013-06-17T00:00:00+00:00\",\"2013-06-18T00:00:00+00:00\",\"2013-06-19T00:00:00+00:00\",\"2013-06-20T00:00:00+00:00\",\"2013-06-21T00:00:00+00:00\",\"2013-06-22T00:00:00+00:00\",\"2013-06-23T00:00:00+00:00\",\"2013-06-24T00:00:00+00:00\",\"2013-06-25T00:00:00+00:00\",\"2013-06-26T00:00:00+00:00\",\"2013-06-27T00:00:00+00:00\",\"2013-06-28T00:00:00+00:00\",\"2013-06-29T00:00:00+00:00\",\"2013-06-30T00:00:00+00:00\",\"2013-07-01T00:00:00+00:00\",\"2013-07-02T00:00:00+00:00\",\"2013-07-03T00:00:00+00:00\",\"2013-07-04T00:00:00+00:00\",\"2013-07-05T00:00:00+00:00\",\"2013-07-06T00:00:00+00:00\",\"2013-07-07T00:00:00+00:00\",\"2013-07-08T00:00:00+00:00\",\"2013-07-09T00:00:00+00:00\",\"2013-07-10T00:00:00+00:00\",\"2013-07-11T00:00:00+00:00\",\"2013-07-12T00:00:00+00:00\",\"2013-07-13T00:00:00+00:00\",\"2013-07-14T00:00:00+00:00\",\"2013-07-15T00:00:00+00:00\",\"2013-07-16T00:00:00+00:00\",\"2013-07-17T00:00:00+00:00\",\"2013-07-18T00:00:00+00:00\",\"2013-07-19T00:00:00+00:00\",\"2013-07-20T00:00:00+00:00\",\"2013-07-21T00:00:00+00:00\",\"2013-07-22T00:00:00+00:00\",\"2013-07-23T00:00:00+00:00\",\"2013-07-24T00:00:00+00:00\",\"2013-07-25T00:00:00+00:00\",\"2013-07-26T00:00:00+00:00\",\"2013-07-27T00:00:00+00:00\",\"2013-07-28T00:00:00+00:00\",\"2013-07-29T00:00:00+00:00\",\"2013-07-30T00:00:00+00:00\",\"2013-07-31T00:00:00+00:00\",\"2013-08-01T00:00:00+00:00\",\"2013-08-02T00:00:00+00:00\",\"2013-08-03T00:00:00+00:00\",\"2013-08-04T00:00:00+00:00\",\"2013-08-05T00:00:00+00:00\",\"2013-08-06T00:00:00+00:00\",\"2013-08-07T00:00:00+00:00\",\"2013-08-08T00:00:00+00:00\",\"2013-08-09T00:00:00+00:00\",\"2013-08-10T00:00:00+00:00\",\"2013-08-11T00:00:00+00:00\",\"2013-08-12T00:00:00+00:00\",\"2013-08-13T00:00:00+00:00\",\"2013-08-14T00:00:00+00:00\",\"2013-08-15T00:00:00+00:00\",\"2013-08-16T00:00:00+00:00\",\"2013-08-17T00:00:00+00:00\",\"2013-08-18T00:00:00+00:00\",\"2013-08-19T00:00:00+00:00\",\"2013-08-20T00:00:00+00:00\",\"2013-08-21T00:00:00+00:00\",\"2013-08-22T00:00:00+00:00\",\"2013-08-23T00:00:00+00:00\",\"2013-08-24T00:00:00+00:00\",\"2013-08-25T00:00:00+00:00\",\"2013-08-26T00:00:00+00:00\",\"2013-08-27T00:00:00+00:00\",\"2013-08-28T00:00:00+00:00\",\"2013-08-29T00:00:00+00:00\",\"2013-08-30T00:00:00+00:00\",\"2013-08-31T00:00:00+00:00\",\"2013-09-01T00:00:00+00:00\",\"2013-09-02T00:00:00+00:00\",\"2013-09-03T00:00:00+00:00\",\"2013-09-04T00:00:00+00:00\",\"2013-09-05T00:00:00+00:00\",\"2013-09-06T00:00:00+00:00\",\"2013-09-07T00:00:00+00:00\",\"2013-09-08T00:00:00+00:00\",\"2013-09-09T00:00:00+00:00\",\"2013-09-10T00:00:00+00:00\",\"2013-09-11T00:00:00+00:00\",\"2013-09-12T00:00:00+00:00\",\"2013-09-13T00:00:00+00:00\",\"2013-09-14T00:00:00+00:00\",\"2013-09-15T00:00:00+00:00\",\"2013-09-16T00:00:00+00:00\",\"2013-09-17T00:00:00+00:00\",\"2013-09-18T00:00:00+00:00\",\"2013-09-19T00:00:00+00:00\",\"2013-09-20T00:00:00+00:00\",\"2013-09-21T00:00:00+00:00\",\"2013-09-22T00:00:00+00:00\",\"2013-09-23T00:00:00+00:00\",\"2013-09-24T00:00:00+00:00\",\"2013-09-25T00:00:00+00:00\",\"2013-09-26T00:00:00+00:00\",\"2013-09-27T00:00:00+00:00\",\"2013-09-28T00:00:00+00:00\",\"2013-09-29T00:00:00+00:00\",\"2013-09-30T00:00:00+00:00\",\"2013-10-01T00:00:00+00:00\",\"2013-10-02T00:00:00+00:00\",\"2013-10-03T00:00:00+00:00\",\"2013-10-04T00:00:00+00:00\",\"2013-10-05T00:00:00+00:00\",\"2013-10-06T00:00:00+00:00\",\"2013-10-07T00:00:00+00:00\",\"2013-10-08T00:00:00+00:00\",\"2013-10-09T00:00:00+00:00\",\"2013-10-10T00:00:00+00:00\",\"2013-10-11T00:00:00+00:00\",\"2013-10-12T00:00:00+00:00\",\"2013-10-13T00:00:00+00:00\",\"2013-10-14T00:00:00+00:00\",\"2013-10-15T00:00:00+00:00\",\"2013-10-16T00:00:00+00:00\",\"2013-10-17T00:00:00+00:00\",\"2013-10-18T00:00:00+00:00\",\"2013-10-19T00:00:00+00:00\",\"2013-10-20T00:00:00+00:00\",\"2013-10-21T00:00:00+00:00\",\"2013-10-22T00:00:00+00:00\",\"2013-10-23T00:00:00+00:00\",\"2013-10-24T00:00:00+00:00\",\"2013-10-25T00:00:00+00:00\",\"2013-10-26T00:00:00+00:00\",\"2013-10-27T00:00:00+00:00\",\"2013-10-28T00:00:00+00:00\",\"2013-10-29T00:00:00+00:00\",\"2013-10-30T00:00:00+00:00\",\"2013-10-31T00:00:00+00:00\",\"2013-11-01T00:00:00+00:00\",\"2013-11-02T00:00:00+00:00\",\"2013-11-03T00:00:00+00:00\",\"2013-11-04T00:00:00+00:00\",\"2013-11-05T00:00:00+00:00\",\"2013-11-06T00:00:00+00:00\",\"2013-11-07T00:00:00+00:00\",\"2013-11-08T00:00:00+00:00\",\"2013-11-09T00:00:00+00:00\",\"2013-11-10T00:00:00+00:00\",\"2013-11-11T00:00:00+00:00\",\"2013-11-12T00:00:00+00:00\",\"2013-11-13T00:00:00+00:00\",\"2013-11-14T00:00:00+00:00\",\"2013-11-15T00:00:00+00:00\",\"2013-11-16T00:00:00+00:00\",\"2013-11-17T00:00:00+00:00\",\"2013-11-18T00:00:00+00:00\",\"2013-11-19T00:00:00+00:00\",\"2013-11-20T00:00:00+00:00\",\"2013-11-21T00:00:00+00:00\",\"2013-11-22T00:00:00+00:00\",\"2013-11-23T00:00:00+00:00\",\"2013-11-24T00:00:00+00:00\",\"2013-11-25T00:00:00+00:00\",\"2013-11-26T00:00:00+00:00\",\"2013-11-27T00:00:00+00:00\",\"2013-11-28T00:00:00+00:00\",\"2013-11-29T00:00:00+00:00\",\"2013-11-30T00:00:00+00:00\",\"2013-12-01T00:00:00+00:00\",\"2013-12-02T00:00:00+00:00\",\"2013-12-03T00:00:00+00:00\",\"2013-12-04T00:00:00+00:00\",\"2013-12-05T00:00:00+00:00\",\"2013-12-06T00:00:00+00:00\",\"2013-12-07T00:00:00+00:00\",\"2013-12-08T00:00:00+00:00\",\"2013-12-09T00:00:00+00:00\",\"2013-12-10T00:00:00+00:00\",\"2013-12-11T00:00:00+00:00\",\"2013-12-12T00:00:00+00:00\",\"2013-12-13T00:00:00+00:00\",\"2013-12-14T00:00:00+00:00\",\"2013-12-15T00:00:00+00:00\",\"2013-12-16T00:00:00+00:00\",\"2013-12-17T00:00:00+00:00\",\"2013-12-18T00:00:00+00:00\",\"2013-12-19T00:00:00+00:00\",\"2013-12-20T00:00:00+00:00\",\"2013-12-21T00:00:00+00:00\",\"2013-12-22T00:00:00+00:00\",\"2013-12-23T00:00:00+00:00\",\"2013-12-24T00:00:00+00:00\",\"2013-12-25T00:00:00+00:00\",\"2013-12-26T00:00:00+00:00\",\"2013-12-27T00:00:00+00:00\",\"2013-12-28T00:00:00+00:00\",\"2013-12-29T00:00:00+00:00\",\"2013-12-30T00:00:00+00:00\",\"2013-12-31T00:00:00+00:00\",\"2014-01-01T00:00:00+00:00\",\"2014-01-02T00:00:00+00:00\",\"2014-01-03T00:00:00+00:00\",\"2014-01-04T00:00:00+00:00\",\"2014-01-05T00:00:00+00:00\",\"2014-01-06T00:00:00+00:00\",\"2014-01-07T00:00:00+00:00\",\"2014-01-08T00:00:00+00:00\",\"2014-01-09T00:00:00+00:00\",\"2014-01-10T00:00:00+00:00\",\"2014-01-11T00:00:00+00:00\",\"2014-01-12T00:00:00+00:00\",\"2014-01-13T00:00:00+00:00\",\"2014-01-14T00:00:00+00:00\",\"2014-01-15T00:00:00+00:00\",\"2014-01-16T00:00:00+00:00\",\"2014-01-17T00:00:00+00:00\",\"2014-01-18T00:00:00+00:00\",\"2014-01-19T00:00:00+00:00\",\"2014-01-20T00:00:00+00:00\",\"2014-01-21T00:00:00+00:00\",\"2014-01-22T00:00:00+00:00\",\"2014-01-23T00:00:00+00:00\",\"2014-01-24T00:00:00+00:00\",\"2014-01-25T00:00:00+00:00\",\"2014-01-26T00:00:00+00:00\",\"2014-01-27T00:00:00+00:00\",\"2014-01-28T00:00:00+00:00\",\"2014-01-29T00:00:00+00:00\",\"2014-01-30T00:00:00+00:00\",\"2014-01-31T00:00:00+00:00\",\"2014-02-01T00:00:00+00:00\",\"2014-02-02T00:00:00+00:00\",\"2014-02-03T00:00:00+00:00\",\"2014-02-04T00:00:00+00:00\",\"2014-02-05T00:00:00+00:00\",\"2014-02-06T00:00:00+00:00\",\"2014-02-07T00:00:00+00:00\",\"2014-02-08T00:00:00+00:00\",\"2014-02-09T00:00:00+00:00\",\"2014-02-10T00:00:00+00:00\",\"2014-02-11T00:00:00+00:00\",\"2014-02-12T00:00:00+00:00\",\"2014-02-13T00:00:00+00:00\",\"2014-02-14T00:00:00+00:00\",\"2014-02-15T00:00:00+00:00\",\"2014-02-16T00:00:00+00:00\",\"2014-02-17T00:00:00+00:00\",\"2014-02-18T00:00:00+00:00\",\"2014-02-19T00:00:00+00:00\",\"2014-02-20T00:00:00+00:00\",\"2014-02-21T00:00:00+00:00\",\"2014-02-22T00:00:00+00:00\",\"2014-02-23T00:00:00+00:00\",\"2014-02-24T00:00:00+00:00\",\"2014-02-25T00:00:00+00:00\",\"2014-02-26T00:00:00+00:00\",\"2014-02-27T00:00:00+00:00\",\"2014-02-28T00:00:00+00:00\",\"2014-03-01T00:00:00+00:00\",\"2014-03-02T00:00:00+00:00\",\"2014-03-03T00:00:00+00:00\",\"2014-03-04T00:00:00+00:00\",\"2014-03-05T00:00:00+00:00\",\"2014-03-06T00:00:00+00:00\",\"2014-03-07T00:00:00+00:00\",\"2014-03-08T00:00:00+00:00\",\"2014-03-09T00:00:00+00:00\",\"2014-03-10T00:00:00+00:00\",\"2014-03-11T00:00:00+00:00\",\"2014-03-12T00:00:00+00:00\",\"2014-03-13T00:00:00+00:00\",\"2014-03-14T00:00:00+00:00\",\"2014-03-15T00:00:00+00:00\",\"2014-03-16T00:00:00+00:00\",\"2014-03-17T00:00:00+00:00\",\"2014-03-18T00:00:00+00:00\",\"2014-03-19T00:00:00+00:00\",\"2014-03-20T00:00:00+00:00\",\"2014-03-21T00:00:00+00:00\",\"2014-03-22T00:00:00+00:00\",\"2014-03-23T00:00:00+00:00\",\"2014-03-24T00:00:00+00:00\",\"2014-03-25T00:00:00+00:00\",\"2014-03-26T00:00:00+00:00\",\"2014-03-27T00:00:00+00:00\",\"2014-03-28T00:00:00+00:00\",\"2014-03-29T00:00:00+00:00\",\"2014-03-30T00:00:00+00:00\",\"2014-03-31T00:00:00+00:00\",\"2014-04-01T00:00:00+00:00\",\"2014-04-02T00:00:00+00:00\",\"2014-04-03T00:00:00+00:00\",\"2014-04-04T00:00:00+00:00\",\"2014-04-05T00:00:00+00:00\",\"2014-04-06T00:00:00+00:00\",\"2014-04-07T00:00:00+00:00\",\"2014-04-08T00:00:00+00:00\",\"2014-04-09T00:00:00+00:00\",\"2014-04-10T00:00:00+00:00\",\"2014-04-11T00:00:00+00:00\",\"2014-04-12T00:00:00+00:00\",\"2014-04-13T00:00:00+00:00\",\"2014-04-14T00:00:00+00:00\",\"2014-04-15T00:00:00+00:00\",\"2014-04-16T00:00:00+00:00\",\"2014-04-17T00:00:00+00:00\",\"2014-04-18T00:00:00+00:00\",\"2014-04-19T00:00:00+00:00\",\"2014-04-20T00:00:00+00:00\",\"2014-04-21T00:00:00+00:00\",\"2014-04-22T00:00:00+00:00\",\"2014-04-23T00:00:00+00:00\",\"2014-04-24T00:00:00+00:00\",\"2014-04-25T00:00:00+00:00\",\"2014-04-26T00:00:00+00:00\",\"2014-04-27T00:00:00+00:00\",\"2014-04-28T00:00:00+00:00\",\"2014-04-29T00:00:00+00:00\",\"2014-04-30T00:00:00+00:00\",\"2014-05-01T00:00:00+00:00\",\"2014-05-02T00:00:00+00:00\",\"2014-05-03T00:00:00+00:00\",\"2014-05-04T00:00:00+00:00\",\"2014-05-05T00:00:00+00:00\",\"2014-05-06T00:00:00+00:00\",\"2014-05-07T00:00:00+00:00\",\"2014-05-08T00:00:00+00:00\",\"2014-05-09T00:00:00+00:00\",\"2014-05-10T00:00:00+00:00\",\"2014-05-11T00:00:00+00:00\",\"2014-05-12T00:00:00+00:00\",\"2014-05-13T00:00:00+00:00\",\"2014-05-14T00:00:00+00:00\",\"2014-05-15T00:00:00+00:00\",\"2014-05-16T00:00:00+00:00\",\"2014-05-17T00:00:00+00:00\",\"2014-05-18T00:00:00+00:00\",\"2014-05-19T00:00:00+00:00\",\"2014-05-20T00:00:00+00:00\",\"2014-05-21T00:00:00+00:00\",\"2014-05-22T00:00:00+00:00\",\"2014-05-23T00:00:00+00:00\",\"2014-05-24T00:00:00+00:00\",\"2014-05-25T00:00:00+00:00\",\"2014-05-26T00:00:00+00:00\",\"2014-05-27T00:00:00+00:00\",\"2014-05-28T00:00:00+00:00\",\"2014-05-29T00:00:00+00:00\",\"2014-05-30T00:00:00+00:00\",\"2014-05-31T00:00:00+00:00\",\"2014-06-01T00:00:00+00:00\",\"2014-06-02T00:00:00+00:00\",\"2014-06-03T00:00:00+00:00\",\"2014-06-04T00:00:00+00:00\",\"2014-06-05T00:00:00+00:00\",\"2014-06-06T00:00:00+00:00\",\"2014-06-07T00:00:00+00:00\",\"2014-06-08T00:00:00+00:00\",\"2014-06-09T00:00:00+00:00\",\"2014-06-10T00:00:00+00:00\",\"2014-06-11T00:00:00+00:00\",\"2014-06-12T00:00:00+00:00\",\"2014-06-13T00:00:00+00:00\",\"2014-06-14T00:00:00+00:00\",\"2014-06-15T00:00:00+00:00\",\"2014-06-16T00:00:00+00:00\",\"2014-06-17T00:00:00+00:00\",\"2014-06-18T00:00:00+00:00\",\"2014-06-19T00:00:00+00:00\",\"2014-06-20T00:00:00+00:00\",\"2014-06-21T00:00:00+00:00\",\"2014-06-22T00:00:00+00:00\",\"2014-06-23T00:00:00+00:00\",\"2014-06-24T00:00:00+00:00\",\"2014-06-25T00:00:00+00:00\",\"2014-06-26T00:00:00+00:00\",\"2014-06-27T00:00:00+00:00\",\"2014-06-28T00:00:00+00:00\",\"2014-06-29T00:00:00+00:00\",\"2014-06-30T00:00:00+00:00\",\"2014-07-01T00:00:00+00:00\",\"2014-07-02T00:00:00+00:00\",\"2014-07-03T00:00:00+00:00\",\"2014-07-04T00:00:00+00:00\",\"2014-07-05T00:00:00+00:00\",\"2014-07-06T00:00:00+00:00\",\"2014-07-07T00:00:00+00:00\",\"2014-07-08T00:00:00+00:00\",\"2014-07-09T00:00:00+00:00\",\"2014-07-10T00:00:00+00:00\",\"2014-07-11T00:00:00+00:00\",\"2014-07-12T00:00:00+00:00\",\"2014-07-13T00:00:00+00:00\",\"2014-07-14T00:00:00+00:00\",\"2014-07-15T00:00:00+00:00\",\"2014-07-16T00:00:00+00:00\",\"2014-07-17T00:00:00+00:00\",\"2014-07-18T00:00:00+00:00\",\"2014-07-19T00:00:00+00:00\",\"2014-07-20T00:00:00+00:00\",\"2014-07-21T00:00:00+00:00\",\"2014-07-22T00:00:00+00:00\",\"2014-07-23T00:00:00+00:00\",\"2014-07-24T00:00:00+00:00\",\"2014-07-25T00:00:00+00:00\",\"2014-07-26T00:00:00+00:00\",\"2014-07-27T00:00:00+00:00\",\"2014-07-28T00:00:00+00:00\",\"2014-07-29T00:00:00+00:00\",\"2014-07-30T00:00:00+00:00\",\"2014-07-31T00:00:00+00:00\",\"2014-08-01T00:00:00+00:00\",\"2014-08-02T00:00:00+00:00\",\"2014-08-03T00:00:00+00:00\",\"2014-08-04T00:00:00+00:00\",\"2014-08-05T00:00:00+00:00\",\"2014-08-06T00:00:00+00:00\",\"2014-08-07T00:00:00+00:00\",\"2014-08-08T00:00:00+00:00\",\"2014-08-09T00:00:00+00:00\",\"2014-08-10T00:00:00+00:00\",\"2014-08-11T00:00:00+00:00\",\"2014-08-12T00:00:00+00:00\",\"2014-08-13T00:00:00+00:00\",\"2014-08-14T00:00:00+00:00\",\"2014-08-15T00:00:00+00:00\",\"2014-08-16T00:00:00+00:00\",\"2014-08-17T00:00:00+00:00\",\"2014-08-18T00:00:00+00:00\",\"2014-08-19T00:00:00+00:00\",\"2014-08-20T00:00:00+00:00\",\"2014-08-21T00:00:00+00:00\",\"2014-08-22T00:00:00+00:00\",\"2014-08-23T00:00:00+00:00\",\"2014-08-24T00:00:00+00:00\",\"2014-08-25T00:00:00+00:00\",\"2014-08-26T00:00:00+00:00\",\"2014-08-27T00:00:00+00:00\",\"2014-08-28T00:00:00+00:00\",\"2014-08-29T00:00:00+00:00\",\"2014-08-30T00:00:00+00:00\",\"2014-08-31T00:00:00+00:00\",\"2014-09-01T00:00:00+00:00\",\"2014-09-02T00:00:00+00:00\",\"2014-09-03T00:00:00+00:00\",\"2014-09-04T00:00:00+00:00\",\"2014-09-05T00:00:00+00:00\",\"2014-09-06T00:00:00+00:00\",\"2014-09-07T00:00:00+00:00\",\"2014-09-08T00:00:00+00:00\",\"2014-09-09T00:00:00+00:00\",\"2014-09-10T00:00:00+00:00\",\"2014-09-11T00:00:00+00:00\",\"2014-09-12T00:00:00+00:00\",\"2014-09-13T00:00:00+00:00\",\"2014-09-14T00:00:00+00:00\",\"2014-09-15T00:00:00+00:00\",\"2014-09-16T00:00:00+00:00\",\"2014-09-17T00:00:00+00:00\",\"2014-09-18T00:00:00+00:00\",\"2014-09-19T00:00:00+00:00\",\"2014-09-20T00:00:00+00:00\",\"2014-09-21T00:00:00+00:00\",\"2014-09-22T00:00:00+00:00\",\"2014-09-23T00:00:00+00:00\",\"2014-09-24T00:00:00+00:00\",\"2014-09-25T00:00:00+00:00\",\"2014-09-26T00:00:00+00:00\",\"2014-09-27T00:00:00+00:00\",\"2014-09-28T00:00:00+00:00\",\"2014-09-29T00:00:00+00:00\",\"2014-09-30T00:00:00+00:00\",\"2014-10-01T00:00:00+00:00\",\"2014-10-02T00:00:00+00:00\",\"2014-10-03T00:00:00+00:00\",\"2014-10-04T00:00:00+00:00\",\"2014-10-05T00:00:00+00:00\",\"2014-10-06T00:00:00+00:00\",\"2014-10-07T00:00:00+00:00\",\"2014-10-08T00:00:00+00:00\",\"2014-10-09T00:00:00+00:00\",\"2014-10-10T00:00:00+00:00\",\"2014-10-11T00:00:00+00:00\",\"2014-10-12T00:00:00+00:00\",\"2014-10-13T00:00:00+00:00\",\"2014-10-14T00:00:00+00:00\",\"2014-10-15T00:00:00+00:00\",\"2014-10-16T00:00:00+00:00\",\"2014-10-17T00:00:00+00:00\",\"2014-10-18T00:00:00+00:00\",\"2014-10-19T00:00:00+00:00\",\"2014-10-20T00:00:00+00:00\",\"2014-10-21T00:00:00+00:00\",\"2014-10-22T00:00:00+00:00\",\"2014-10-23T00:00:00+00:00\",\"2014-10-24T00:00:00+00:00\",\"2014-10-25T00:00:00+00:00\",\"2014-10-26T00:00:00+00:00\",\"2014-10-27T00:00:00+00:00\",\"2014-10-28T00:00:00+00:00\",\"2014-10-29T00:00:00+00:00\",\"2014-10-30T00:00:00+00:00\",\"2014-10-31T00:00:00+00:00\",\"2014-11-01T00:00:00+00:00\",\"2014-11-02T00:00:00+00:00\",\"2014-11-03T00:00:00+00:00\",\"2014-11-04T00:00:00+00:00\",\"2014-11-05T00:00:00+00:00\",\"2014-11-06T00:00:00+00:00\",\"2014-11-07T00:00:00+00:00\",\"2014-11-08T00:00:00+00:00\",\"2014-11-09T00:00:00+00:00\",\"2014-11-10T00:00:00+00:00\",\"2014-11-11T00:00:00+00:00\",\"2014-11-12T00:00:00+00:00\",\"2014-11-13T00:00:00+00:00\",\"2014-11-14T00:00:00+00:00\",\"2014-11-15T00:00:00+00:00\",\"2014-11-16T00:00:00+00:00\",\"2014-11-17T00:00:00+00:00\",\"2014-11-18T00:00:00+00:00\",\"2014-11-19T00:00:00+00:00\",\"2014-11-20T00:00:00+00:00\",\"2014-11-21T00:00:00+00:00\",\"2014-11-22T00:00:00+00:00\",\"2014-11-23T00:00:00+00:00\",\"2014-11-24T00:00:00+00:00\",\"2014-11-25T00:00:00+00:00\",\"2014-11-26T00:00:00+00:00\",\"2014-11-27T00:00:00+00:00\",\"2014-11-28T00:00:00+00:00\",\"2014-11-29T00:00:00+00:00\",\"2014-11-30T00:00:00+00:00\",\"2014-12-01T00:00:00+00:00\",\"2014-12-02T00:00:00+00:00\",\"2014-12-03T00:00:00+00:00\",\"2014-12-04T00:00:00+00:00\",\"2014-12-05T00:00:00+00:00\",\"2014-12-06T00:00:00+00:00\",\"2014-12-07T00:00:00+00:00\",\"2014-12-08T00:00:00+00:00\",\"2014-12-09T00:00:00+00:00\",\"2014-12-10T00:00:00+00:00\",\"2014-12-11T00:00:00+00:00\",\"2014-12-12T00:00:00+00:00\",\"2014-12-13T00:00:00+00:00\",\"2014-12-14T00:00:00+00:00\",\"2014-12-15T00:00:00+00:00\",\"2014-12-16T00:00:00+00:00\",\"2014-12-17T00:00:00+00:00\",\"2014-12-18T00:00:00+00:00\",\"2014-12-19T00:00:00+00:00\",\"2014-12-20T00:00:00+00:00\",\"2014-12-21T00:00:00+00:00\",\"2014-12-22T00:00:00+00:00\",\"2014-12-23T00:00:00+00:00\",\"2014-12-24T00:00:00+00:00\",\"2014-12-25T00:00:00+00:00\",\"2014-12-26T00:00:00+00:00\",\"2014-12-27T00:00:00+00:00\",\"2014-12-28T00:00:00+00:00\",\"2014-12-29T00:00:00+00:00\",\"2014-12-30T00:00:00+00:00\",\"2014-12-31T00:00:00+00:00\",\"2015-01-01T00:00:00+00:00\",\"2015-01-02T00:00:00+00:00\",\"2015-01-03T00:00:00+00:00\",\"2015-01-04T00:00:00+00:00\",\"2015-01-05T00:00:00+00:00\",\"2015-01-06T00:00:00+00:00\",\"2015-01-07T00:00:00+00:00\",\"2015-01-08T00:00:00+00:00\",\"2015-01-09T00:00:00+00:00\",\"2015-01-10T00:00:00+00:00\",\"2015-01-11T00:00:00+00:00\",\"2015-01-12T00:00:00+00:00\",\"2015-01-13T00:00:00+00:00\",\"2015-01-14T00:00:00+00:00\",\"2015-01-15T00:00:00+00:00\",\"2015-01-16T00:00:00+00:00\",\"2015-01-17T00:00:00+00:00\",\"2015-01-18T00:00:00+00:00\",\"2015-01-19T00:00:00+00:00\",\"2015-01-20T00:00:00+00:00\",\"2015-01-21T00:00:00+00:00\",\"2015-01-22T00:00:00+00:00\",\"2015-01-23T00:00:00+00:00\",\"2015-01-24T00:00:00+00:00\",\"2015-01-25T00:00:00+00:00\",\"2015-01-26T00:00:00+00:00\",\"2015-01-27T00:00:00+00:00\",\"2015-01-28T00:00:00+00:00\",\"2015-01-29T00:00:00+00:00\",\"2015-01-30T00:00:00+00:00\",\"2015-01-31T00:00:00+00:00\",\"2015-02-01T00:00:00+00:00\",\"2015-02-02T00:00:00+00:00\",\"2015-02-03T00:00:00+00:00\",\"2015-02-04T00:00:00+00:00\",\"2015-02-05T00:00:00+00:00\",\"2015-02-06T00:00:00+00:00\",\"2015-02-07T00:00:00+00:00\",\"2015-02-08T00:00:00+00:00\",\"2015-02-09T00:00:00+00:00\",\"2015-02-10T00:00:00+00:00\",\"2015-02-11T00:00:00+00:00\",\"2015-02-12T00:00:00+00:00\",\"2015-02-13T00:00:00+00:00\",\"2015-02-14T00:00:00+00:00\",\"2015-02-15T00:00:00+00:00\",\"2015-02-16T00:00:00+00:00\",\"2015-02-17T00:00:00+00:00\",\"2015-02-18T00:00:00+00:00\",\"2015-02-19T00:00:00+00:00\",\"2015-02-20T00:00:00+00:00\",\"2015-02-21T00:00:00+00:00\",\"2015-02-22T00:00:00+00:00\",\"2015-02-23T00:00:00+00:00\",\"2015-02-24T00:00:00+00:00\",\"2015-02-25T00:00:00+00:00\",\"2015-02-26T00:00:00+00:00\",\"2015-02-27T00:00:00+00:00\",\"2015-02-28T00:00:00+00:00\",\"2015-03-01T00:00:00+00:00\",\"2015-03-02T00:00:00+00:00\",\"2015-03-03T00:00:00+00:00\",\"2015-03-04T00:00:00+00:00\",\"2015-03-05T00:00:00+00:00\",\"2015-03-06T00:00:00+00:00\",\"2015-03-07T00:00:00+00:00\",\"2015-03-08T00:00:00+00:00\",\"2015-03-09T00:00:00+00:00\",\"2015-03-10T00:00:00+00:00\",\"2015-03-11T00:00:00+00:00\",\"2015-03-12T00:00:00+00:00\",\"2015-03-13T00:00:00+00:00\",\"2015-03-14T00:00:00+00:00\",\"2015-03-15T00:00:00+00:00\",\"2015-03-16T00:00:00+00:00\",\"2015-03-17T00:00:00+00:00\",\"2015-03-18T00:00:00+00:00\",\"2015-03-19T00:00:00+00:00\",\"2015-03-20T00:00:00+00:00\",\"2015-03-21T00:00:00+00:00\",\"2015-03-22T00:00:00+00:00\",\"2015-03-23T00:00:00+00:00\",\"2015-03-24T00:00:00+00:00\",\"2015-03-25T00:00:00+00:00\",\"2015-03-26T00:00:00+00:00\",\"2015-03-27T00:00:00+00:00\",\"2015-03-28T00:00:00+00:00\",\"2015-03-29T00:00:00+00:00\",\"2015-03-30T00:00:00+00:00\",\"2015-03-31T00:00:00+00:00\",\"2015-04-01T00:00:00+00:00\",\"2015-04-02T00:00:00+00:00\",\"2015-04-03T00:00:00+00:00\",\"2015-04-04T00:00:00+00:00\",\"2015-04-05T00:00:00+00:00\",\"2015-04-06T00:00:00+00:00\",\"2015-04-07T00:00:00+00:00\",\"2015-04-08T00:00:00+00:00\",\"2015-04-09T00:00:00+00:00\",\"2015-04-10T00:00:00+00:00\",\"2015-04-11T00:00:00+00:00\",\"2015-04-12T00:00:00+00:00\",\"2015-04-13T00:00:00+00:00\",\"2015-04-14T00:00:00+00:00\",\"2015-04-15T00:00:00+00:00\",\"2015-04-16T00:00:00+00:00\",\"2015-04-17T00:00:00+00:00\",\"2015-04-18T00:00:00+00:00\",\"2015-04-19T00:00:00+00:00\",\"2015-04-20T00:00:00+00:00\",\"2015-04-21T00:00:00+00:00\",\"2015-04-22T00:00:00+00:00\",\"2015-04-23T00:00:00+00:00\",\"2015-04-24T00:00:00+00:00\",\"2015-04-25T00:00:00+00:00\",\"2015-04-26T00:00:00+00:00\",\"2015-04-27T00:00:00+00:00\",\"2015-04-28T00:00:00+00:00\",\"2015-04-29T00:00:00+00:00\",\"2015-04-30T00:00:00+00:00\",\"2015-05-01T00:00:00+00:00\",\"2015-05-02T00:00:00+00:00\",\"2015-05-03T00:00:00+00:00\",\"2015-05-04T00:00:00+00:00\",\"2015-05-05T00:00:00+00:00\",\"2015-05-06T00:00:00+00:00\",\"2015-05-07T00:00:00+00:00\",\"2015-05-08T00:00:00+00:00\",\"2015-05-09T00:00:00+00:00\",\"2015-05-10T00:00:00+00:00\",\"2015-05-11T00:00:00+00:00\",\"2015-05-12T00:00:00+00:00\",\"2015-05-13T00:00:00+00:00\",\"2015-05-14T00:00:00+00:00\",\"2015-05-15T00:00:00+00:00\",\"2015-05-16T00:00:00+00:00\",\"2015-05-17T00:00:00+00:00\",\"2015-05-18T00:00:00+00:00\",\"2015-05-19T00:00:00+00:00\",\"2015-05-20T00:00:00+00:00\",\"2015-05-21T00:00:00+00:00\",\"2015-05-22T00:00:00+00:00\",\"2015-05-23T00:00:00+00:00\",\"2015-05-24T00:00:00+00:00\",\"2015-05-25T00:00:00+00:00\",\"2015-05-26T00:00:00+00:00\",\"2015-05-27T00:00:00+00:00\",\"2015-05-28T00:00:00+00:00\",\"2015-05-29T00:00:00+00:00\",\"2015-05-30T00:00:00+00:00\",\"2015-05-31T00:00:00+00:00\",\"2015-06-01T00:00:00+00:00\",\"2015-06-02T00:00:00+00:00\",\"2015-06-03T00:00:00+00:00\",\"2015-06-04T00:00:00+00:00\",\"2015-06-05T00:00:00+00:00\",\"2015-06-06T00:00:00+00:00\",\"2015-06-07T00:00:00+00:00\",\"2015-06-08T00:00:00+00:00\",\"2015-06-09T00:00:00+00:00\",\"2015-06-10T00:00:00+00:00\",\"2015-06-11T00:00:00+00:00\",\"2015-06-12T00:00:00+00:00\",\"2015-06-13T00:00:00+00:00\",\"2015-06-14T00:00:00+00:00\",\"2015-06-15T00:00:00+00:00\",\"2015-06-16T00:00:00+00:00\",\"2015-06-17T00:00:00+00:00\",\"2015-06-18T00:00:00+00:00\",\"2015-06-19T00:00:00+00:00\",\"2015-06-20T00:00:00+00:00\",\"2015-06-21T00:00:00+00:00\",\"2015-06-22T00:00:00+00:00\",\"2015-06-23T00:00:00+00:00\",\"2015-06-24T00:00:00+00:00\",\"2015-06-25T00:00:00+00:00\",\"2015-06-26T00:00:00+00:00\",\"2015-06-27T00:00:00+00:00\",\"2015-06-28T00:00:00+00:00\",\"2015-06-29T00:00:00+00:00\",\"2015-06-30T00:00:00+00:00\",\"2015-07-01T00:00:00+00:00\",\"2015-07-02T00:00:00+00:00\",\"2015-07-03T00:00:00+00:00\",\"2015-07-04T00:00:00+00:00\",\"2015-07-05T00:00:00+00:00\",\"2015-07-06T00:00:00+00:00\",\"2015-07-07T00:00:00+00:00\",\"2015-07-08T00:00:00+00:00\",\"2015-07-09T00:00:00+00:00\",\"2015-07-10T00:00:00+00:00\",\"2015-07-11T00:00:00+00:00\",\"2015-07-12T00:00:00+00:00\",\"2015-07-13T00:00:00+00:00\",\"2015-07-14T00:00:00+00:00\",\"2015-07-15T00:00:00+00:00\",\"2015-07-16T00:00:00+00:00\",\"2015-07-17T00:00:00+00:00\",\"2015-07-18T00:00:00+00:00\",\"2015-07-19T00:00:00+00:00\",\"2015-07-20T00:00:00+00:00\",\"2015-07-21T00:00:00+00:00\",\"2015-07-22T00:00:00+00:00\",\"2015-07-23T00:00:00+00:00\",\"2015-07-24T00:00:00+00:00\",\"2015-07-25T00:00:00+00:00\",\"2015-07-26T00:00:00+00:00\",\"2015-07-27T00:00:00+00:00\",\"2015-07-28T00:00:00+00:00\",\"2015-07-29T00:00:00+00:00\",\"2015-07-30T00:00:00+00:00\",\"2015-07-31T00:00:00+00:00\",\"2015-08-01T00:00:00+00:00\",\"2015-08-02T00:00:00+00:00\",\"2015-08-03T00:00:00+00:00\",\"2015-08-04T00:00:00+00:00\",\"2015-08-05T00:00:00+00:00\",\"2015-08-06T00:00:00+00:00\",\"2015-08-07T00:00:00+00:00\",\"2015-08-08T00:00:00+00:00\",\"2015-08-09T00:00:00+00:00\",\"2015-08-10T00:00:00+00:00\",\"2015-08-11T00:00:00+00:00\",\"2015-08-12T00:00:00+00:00\",\"2015-08-13T00:00:00+00:00\",\"2015-08-14T00:00:00+00:00\",\"2015-08-15T00:00:00+00:00\",\"2015-08-16T00:00:00+00:00\",\"2015-08-17T00:00:00+00:00\",\"2015-08-18T00:00:00+00:00\",\"2015-08-19T00:00:00+00:00\",\"2015-08-20T00:00:00+00:00\",\"2015-08-21T00:00:00+00:00\",\"2015-08-22T00:00:00+00:00\",\"2015-08-23T00:00:00+00:00\",\"2015-08-24T00:00:00+00:00\",\"2015-08-25T00:00:00+00:00\",\"2015-08-26T00:00:00+00:00\",\"2015-08-27T00:00:00+00:00\",\"2015-08-28T00:00:00+00:00\",\"2015-08-29T00:00:00+00:00\",\"2015-08-30T00:00:00+00:00\",\"2015-08-31T00:00:00+00:00\",\"2015-09-01T00:00:00+00:00\",\"2015-09-02T00:00:00+00:00\",\"2015-09-03T00:00:00+00:00\",\"2015-09-04T00:00:00+00:00\",\"2015-09-05T00:00:00+00:00\",\"2015-09-06T00:00:00+00:00\",\"2015-09-07T00:00:00+00:00\",\"2015-09-08T00:00:00+00:00\",\"2015-09-09T00:00:00+00:00\",\"2015-09-10T00:00:00+00:00\",\"2015-09-11T00:00:00+00:00\",\"2015-09-12T00:00:00+00:00\",\"2015-09-13T00:00:00+00:00\",\"2015-09-14T00:00:00+00:00\",\"2015-09-15T00:00:00+00:00\",\"2015-09-16T00:00:00+00:00\",\"2015-09-17T00:00:00+00:00\",\"2015-09-18T00:00:00+00:00\",\"2015-09-19T00:00:00+00:00\",\"2015-09-20T00:00:00+00:00\",\"2015-09-21T00:00:00+00:00\",\"2015-09-22T00:00:00+00:00\",\"2015-09-23T00:00:00+00:00\",\"2015-09-24T00:00:00+00:00\",\"2015-09-25T00:00:00+00:00\",\"2015-09-26T00:00:00+00:00\",\"2015-09-27T00:00:00+00:00\",\"2015-09-28T00:00:00+00:00\",\"2015-09-29T00:00:00+00:00\",\"2015-09-30T00:00:00+00:00\",\"2015-10-01T00:00:00+00:00\",\"2015-10-02T00:00:00+00:00\",\"2015-10-03T00:00:00+00:00\",\"2015-10-04T00:00:00+00:00\",\"2015-10-05T00:00:00+00:00\",\"2015-10-06T00:00:00+00:00\",\"2015-10-07T00:00:00+00:00\",\"2015-10-08T00:00:00+00:00\",\"2015-10-09T00:00:00+00:00\",\"2015-10-10T00:00:00+00:00\",\"2015-10-11T00:00:00+00:00\",\"2015-10-12T00:00:00+00:00\",\"2015-10-13T00:00:00+00:00\",\"2015-10-14T00:00:00+00:00\",\"2015-10-15T00:00:00+00:00\",\"2015-10-16T00:00:00+00:00\",\"2015-10-17T00:00:00+00:00\",\"2015-10-18T00:00:00+00:00\",\"2015-10-19T00:00:00+00:00\",\"2015-10-20T00:00:00+00:00\",\"2015-10-21T00:00:00+00:00\",\"2015-10-22T00:00:00+00:00\",\"2015-10-23T00:00:00+00:00\",\"2015-10-24T00:00:00+00:00\",\"2015-10-25T00:00:00+00:00\",\"2015-10-26T00:00:00+00:00\",\"2015-10-27T00:00:00+00:00\",\"2015-10-28T00:00:00+00:00\",\"2015-10-29T00:00:00+00:00\",\"2015-10-30T00:00:00+00:00\",\"2015-10-31T00:00:00+00:00\",\"2015-11-01T00:00:00+00:00\",\"2015-11-02T00:00:00+00:00\",\"2015-11-03T00:00:00+00:00\",\"2015-11-04T00:00:00+00:00\",\"2015-11-05T00:00:00+00:00\",\"2015-11-06T00:00:00+00:00\",\"2015-11-07T00:00:00+00:00\",\"2015-11-08T00:00:00+00:00\",\"2015-11-09T00:00:00+00:00\",\"2015-11-10T00:00:00+00:00\",\"2015-11-11T00:00:00+00:00\",\"2015-11-12T00:00:00+00:00\",\"2015-11-13T00:00:00+00:00\",\"2015-11-14T00:00:00+00:00\",\"2015-11-15T00:00:00+00:00\",\"2015-11-16T00:00:00+00:00\",\"2015-11-17T00:00:00+00:00\",\"2015-11-18T00:00:00+00:00\",\"2015-11-19T00:00:00+00:00\",\"2015-11-20T00:00:00+00:00\",\"2015-11-21T00:00:00+00:00\",\"2015-11-22T00:00:00+00:00\",\"2015-11-23T00:00:00+00:00\",\"2015-11-24T00:00:00+00:00\",\"2015-11-25T00:00:00+00:00\",\"2015-11-26T00:00:00+00:00\",\"2015-11-27T00:00:00+00:00\",\"2015-11-28T00:00:00+00:00\",\"2015-11-29T00:00:00+00:00\",\"2015-11-30T00:00:00+00:00\",\"2015-12-01T00:00:00+00:00\",\"2015-12-02T00:00:00+00:00\",\"2015-12-03T00:00:00+00:00\",\"2015-12-04T00:00:00+00:00\",\"2015-12-05T00:00:00+00:00\",\"2015-12-06T00:00:00+00:00\",\"2015-12-07T00:00:00+00:00\",\"2015-12-08T00:00:00+00:00\",\"2015-12-09T00:00:00+00:00\",\"2015-12-10T00:00:00+00:00\",\"2015-12-11T00:00:00+00:00\",\"2015-12-12T00:00:00+00:00\",\"2015-12-13T00:00:00+00:00\",\"2015-12-14T00:00:00+00:00\",\"2015-12-15T00:00:00+00:00\",\"2015-12-16T00:00:00+00:00\",\"2015-12-17T00:00:00+00:00\",\"2015-12-18T00:00:00+00:00\",\"2015-12-19T00:00:00+00:00\",\"2015-12-20T00:00:00+00:00\",\"2015-12-21T00:00:00+00:00\",\"2015-12-22T00:00:00+00:00\",\"2015-12-23T00:00:00+00:00\",\"2015-12-24T00:00:00+00:00\",\"2015-12-25T00:00:00+00:00\",\"2015-12-26T00:00:00+00:00\",\"2015-12-27T00:00:00+00:00\",\"2015-12-28T00:00:00+00:00\",\"2015-12-29T00:00:00+00:00\",\"2015-12-30T00:00:00+00:00\",\"2015-12-31T00:00:00+00:00\",\"2016-01-01T00:00:00+00:00\",\"2016-01-02T00:00:00+00:00\",\"2016-01-03T00:00:00+00:00\",\"2016-01-04T00:00:00+00:00\",\"2016-01-05T00:00:00+00:00\",\"2016-01-06T00:00:00+00:00\",\"2016-01-07T00:00:00+00:00\",\"2016-01-08T00:00:00+00:00\",\"2016-01-09T00:00:00+00:00\",\"2016-01-10T00:00:00+00:00\",\"2016-01-11T00:00:00+00:00\",\"2016-01-12T00:00:00+00:00\",\"2016-01-13T00:00:00+00:00\",\"2016-01-14T00:00:00+00:00\",\"2016-01-15T00:00:00+00:00\",\"2016-01-16T00:00:00+00:00\",\"2016-01-17T00:00:00+00:00\",\"2016-01-18T00:00:00+00:00\",\"2016-01-19T00:00:00+00:00\",\"2016-01-20T00:00:00+00:00\",\"2016-01-21T00:00:00+00:00\",\"2016-01-22T00:00:00+00:00\",\"2016-01-23T00:00:00+00:00\",\"2016-01-24T00:00:00+00:00\",\"2016-01-25T00:00:00+00:00\",\"2016-01-26T00:00:00+00:00\",\"2016-01-27T00:00:00+00:00\",\"2016-01-28T00:00:00+00:00\",\"2016-01-29T00:00:00+00:00\",\"2016-01-30T00:00:00+00:00\",\"2016-01-31T00:00:00+00:00\",\"2016-02-01T00:00:00+00:00\",\"2016-02-02T00:00:00+00:00\",\"2016-02-03T00:00:00+00:00\",\"2016-02-04T00:00:00+00:00\",\"2016-02-05T00:00:00+00:00\",\"2016-02-06T00:00:00+00:00\",\"2016-02-07T00:00:00+00:00\",\"2016-02-08T00:00:00+00:00\",\"2016-02-09T00:00:00+00:00\",\"2016-02-10T00:00:00+00:00\",\"2016-02-11T00:00:00+00:00\",\"2016-02-12T00:00:00+00:00\",\"2016-02-13T00:00:00+00:00\",\"2016-02-14T00:00:00+00:00\",\"2016-02-15T00:00:00+00:00\",\"2016-02-16T00:00:00+00:00\",\"2016-02-17T00:00:00+00:00\",\"2016-02-18T00:00:00+00:00\",\"2016-02-19T00:00:00+00:00\",\"2016-02-20T00:00:00+00:00\",\"2016-02-21T00:00:00+00:00\",\"2016-02-22T00:00:00+00:00\",\"2016-02-23T00:00:00+00:00\",\"2016-02-24T00:00:00+00:00\",\"2016-02-25T00:00:00+00:00\",\"2016-02-26T00:00:00+00:00\",\"2016-02-27T00:00:00+00:00\",\"2016-02-28T00:00:00+00:00\",\"2016-02-29T00:00:00+00:00\",\"2016-03-01T00:00:00+00:00\",\"2016-03-02T00:00:00+00:00\",\"2016-03-03T00:00:00+00:00\",\"2016-03-04T00:00:00+00:00\",\"2016-03-05T00:00:00+00:00\",\"2016-03-06T00:00:00+00:00\",\"2016-03-07T00:00:00+00:00\",\"2016-03-08T00:00:00+00:00\",\"2016-03-09T00:00:00+00:00\",\"2016-03-10T00:00:00+00:00\",\"2016-03-11T00:00:00+00:00\",\"2016-03-12T00:00:00+00:00\",\"2016-03-13T00:00:00+00:00\",\"2016-03-14T00:00:00+00:00\",\"2016-03-15T00:00:00+00:00\",\"2016-03-16T00:00:00+00:00\",\"2016-03-17T00:00:00+00:00\",\"2016-03-18T00:00:00+00:00\",\"2016-03-19T00:00:00+00:00\",\"2016-03-20T00:00:00+00:00\",\"2016-03-21T00:00:00+00:00\",\"2016-03-22T00:00:00+00:00\",\"2016-03-23T00:00:00+00:00\",\"2016-03-24T00:00:00+00:00\",\"2016-03-25T00:00:00+00:00\",\"2016-03-26T00:00:00+00:00\",\"2016-03-27T00:00:00+00:00\",\"2016-03-28T00:00:00+00:00\",\"2016-03-29T00:00:00+00:00\",\"2016-03-30T00:00:00+00:00\",\"2016-03-31T00:00:00+00:00\",\"2016-04-01T00:00:00+00:00\",\"2016-04-02T00:00:00+00:00\",\"2016-04-03T00:00:00+00:00\",\"2016-04-04T00:00:00+00:00\",\"2016-04-05T00:00:00+00:00\",\"2016-04-06T00:00:00+00:00\",\"2016-04-07T00:00:00+00:00\",\"2016-04-08T00:00:00+00:00\",\"2016-04-09T00:00:00+00:00\",\"2016-04-10T00:00:00+00:00\",\"2016-04-11T00:00:00+00:00\",\"2016-04-12T00:00:00+00:00\",\"2016-04-13T00:00:00+00:00\",\"2016-04-14T00:00:00+00:00\",\"2016-04-15T00:00:00+00:00\",\"2016-04-16T00:00:00+00:00\",\"2016-04-17T00:00:00+00:00\",\"2016-04-18T00:00:00+00:00\",\"2016-04-19T00:00:00+00:00\",\"2016-04-20T00:00:00+00:00\",\"2016-04-21T00:00:00+00:00\",\"2016-04-22T00:00:00+00:00\",\"2016-04-23T00:00:00+00:00\",\"2016-04-24T00:00:00+00:00\",\"2016-04-25T00:00:00+00:00\",\"2016-04-26T00:00:00+00:00\",\"2016-04-27T00:00:00+00:00\",\"2016-04-28T00:00:00+00:00\",\"2016-04-29T00:00:00+00:00\",\"2016-04-30T00:00:00+00:00\",\"2016-05-01T00:00:00+00:00\",\"2016-05-02T00:00:00+00:00\",\"2016-05-03T00:00:00+00:00\",\"2016-05-04T00:00:00+00:00\",\"2016-05-05T00:00:00+00:00\",\"2016-05-06T00:00:00+00:00\",\"2016-05-07T00:00:00+00:00\",\"2016-05-08T00:00:00+00:00\",\"2016-05-09T00:00:00+00:00\",\"2016-05-10T00:00:00+00:00\",\"2016-05-11T00:00:00+00:00\",\"2016-05-12T00:00:00+00:00\",\"2016-05-13T00:00:00+00:00\",\"2016-05-14T00:00:00+00:00\",\"2016-05-15T00:00:00+00:00\",\"2016-05-16T00:00:00+00:00\",\"2016-05-17T00:00:00+00:00\",\"2016-05-18T00:00:00+00:00\",\"2016-05-19T00:00:00+00:00\",\"2016-05-20T00:00:00+00:00\",\"2016-05-21T00:00:00+00:00\",\"2016-05-22T00:00:00+00:00\",\"2016-05-23T00:00:00+00:00\",\"2016-05-24T00:00:00+00:00\",\"2016-05-25T00:00:00+00:00\",\"2016-05-26T00:00:00+00:00\",\"2016-05-27T00:00:00+00:00\",\"2016-05-28T00:00:00+00:00\",\"2016-05-29T00:00:00+00:00\",\"2016-05-30T00:00:00+00:00\",\"2016-05-31T00:00:00+00:00\",\"2016-06-01T00:00:00+00:00\",\"2016-06-02T00:00:00+00:00\",\"2016-06-03T00:00:00+00:00\",\"2016-06-04T00:00:00+00:00\",\"2016-06-05T00:00:00+00:00\",\"2016-06-06T00:00:00+00:00\",\"2016-06-07T00:00:00+00:00\",\"2016-06-08T00:00:00+00:00\",\"2016-06-09T00:00:00+00:00\",\"2016-06-10T00:00:00+00:00\",\"2016-06-11T00:00:00+00:00\",\"2016-06-12T00:00:00+00:00\",\"2016-06-13T00:00:00+00:00\",\"2016-06-14T00:00:00+00:00\",\"2016-06-15T00:00:00+00:00\",\"2016-06-16T00:00:00+00:00\",\"2016-06-17T00:00:00+00:00\",\"2016-06-18T00:00:00+00:00\",\"2016-06-19T00:00:00+00:00\",\"2016-06-20T00:00:00+00:00\",\"2016-06-21T00:00:00+00:00\",\"2016-06-22T00:00:00+00:00\",\"2016-06-23T00:00:00+00:00\",\"2016-06-24T00:00:00+00:00\",\"2016-06-25T00:00:00+00:00\",\"2016-06-26T00:00:00+00:00\",\"2016-06-27T00:00:00+00:00\",\"2016-06-28T00:00:00+00:00\",\"2016-06-29T00:00:00+00:00\",\"2016-06-30T00:00:00+00:00\",\"2016-07-01T00:00:00+00:00\",\"2016-07-02T00:00:00+00:00\",\"2016-07-03T00:00:00+00:00\",\"2016-07-04T00:00:00+00:00\",\"2016-07-05T00:00:00+00:00\",\"2016-07-06T00:00:00+00:00\",\"2016-07-07T00:00:00+00:00\",\"2016-07-08T00:00:00+00:00\",\"2016-07-09T00:00:00+00:00\",\"2016-07-10T00:00:00+00:00\",\"2016-07-11T00:00:00+00:00\",\"2016-07-12T00:00:00+00:00\",\"2016-07-13T00:00:00+00:00\",\"2016-07-14T00:00:00+00:00\",\"2016-07-15T00:00:00+00:00\",\"2016-07-16T00:00:00+00:00\",\"2016-07-17T00:00:00+00:00\",\"2016-07-18T00:00:00+00:00\",\"2016-07-19T00:00:00+00:00\",\"2016-07-20T00:00:00+00:00\",\"2016-07-21T00:00:00+00:00\",\"2016-07-22T00:00:00+00:00\",\"2016-07-23T00:00:00+00:00\",\"2016-07-24T00:00:00+00:00\",\"2016-07-25T00:00:00+00:00\",\"2016-07-26T00:00:00+00:00\",\"2016-07-27T00:00:00+00:00\",\"2016-07-28T00:00:00+00:00\",\"2016-07-29T00:00:00+00:00\",\"2016-07-30T00:00:00+00:00\",\"2016-07-31T00:00:00+00:00\",\"2016-08-01T00:00:00+00:00\",\"2016-08-02T00:00:00+00:00\",\"2016-08-03T00:00:00+00:00\",\"2016-08-04T00:00:00+00:00\",\"2016-08-05T00:00:00+00:00\",\"2016-08-06T00:00:00+00:00\",\"2016-08-07T00:00:00+00:00\",\"2016-08-08T00:00:00+00:00\",\"2016-08-09T00:00:00+00:00\",\"2016-08-10T00:00:00+00:00\",\"2016-08-11T00:00:00+00:00\",\"2016-08-12T00:00:00+00:00\",\"2016-08-13T00:00:00+00:00\",\"2016-08-14T00:00:00+00:00\",\"2016-08-15T00:00:00+00:00\",\"2016-08-16T00:00:00+00:00\",\"2016-08-17T00:00:00+00:00\",\"2016-08-18T00:00:00+00:00\",\"2016-08-19T00:00:00+00:00\",\"2016-08-20T00:00:00+00:00\",\"2016-08-21T00:00:00+00:00\",\"2016-08-22T00:00:00+00:00\",\"2016-08-23T00:00:00+00:00\",\"2016-08-24T00:00:00+00:00\",\"2016-08-25T00:00:00+00:00\",\"2016-08-26T00:00:00+00:00\",\"2016-08-27T00:00:00+00:00\",\"2016-08-28T00:00:00+00:00\",\"2016-08-29T00:00:00+00:00\",\"2016-08-30T00:00:00+00:00\",\"2016-08-31T00:00:00+00:00\",\"2016-09-01T00:00:00+00:00\",\"2016-09-02T00:00:00+00:00\",\"2016-09-03T00:00:00+00:00\",\"2016-09-04T00:00:00+00:00\",\"2016-09-05T00:00:00+00:00\",\"2016-09-06T00:00:00+00:00\",\"2016-09-07T00:00:00+00:00\",\"2016-09-08T00:00:00+00:00\",\"2016-09-09T00:00:00+00:00\",\"2016-09-10T00:00:00+00:00\",\"2016-09-11T00:00:00+00:00\",\"2016-09-12T00:00:00+00:00\",\"2016-09-13T00:00:00+00:00\",\"2016-09-14T00:00:00+00:00\",\"2016-09-15T00:00:00+00:00\",\"2016-09-16T00:00:00+00:00\",\"2016-09-17T00:00:00+00:00\",\"2016-09-18T00:00:00+00:00\",\"2016-09-19T00:00:00+00:00\",\"2016-09-20T00:00:00+00:00\",\"2016-09-21T00:00:00+00:00\",\"2016-09-22T00:00:00+00:00\",\"2016-09-23T00:00:00+00:00\",\"2016-09-24T00:00:00+00:00\",\"2016-09-25T00:00:00+00:00\",\"2016-09-26T00:00:00+00:00\",\"2016-09-27T00:00:00+00:00\",\"2016-09-28T00:00:00+00:00\",\"2016-09-29T00:00:00+00:00\",\"2016-09-30T00:00:00+00:00\",\"2016-10-01T00:00:00+00:00\",\"2016-10-02T00:00:00+00:00\",\"2016-10-03T00:00:00+00:00\",\"2016-10-04T00:00:00+00:00\",\"2016-10-05T00:00:00+00:00\",\"2016-10-06T00:00:00+00:00\",\"2016-10-07T00:00:00+00:00\",\"2016-10-08T00:00:00+00:00\",\"2016-10-09T00:00:00+00:00\",\"2016-10-10T00:00:00+00:00\",\"2016-10-11T00:00:00+00:00\",\"2016-10-12T00:00:00+00:00\",\"2016-10-13T00:00:00+00:00\",\"2016-10-14T00:00:00+00:00\",\"2016-10-15T00:00:00+00:00\",\"2016-10-16T00:00:00+00:00\",\"2016-10-17T00:00:00+00:00\",\"2016-10-18T00:00:00+00:00\",\"2016-10-19T00:00:00+00:00\",\"2016-10-20T00:00:00+00:00\",\"2016-10-21T00:00:00+00:00\",\"2016-10-22T00:00:00+00:00\",\"2016-10-23T00:00:00+00:00\",\"2016-10-24T00:00:00+00:00\",\"2016-10-25T00:00:00+00:00\",\"2016-10-26T00:00:00+00:00\",\"2016-10-27T00:00:00+00:00\",\"2016-10-28T00:00:00+00:00\",\"2016-10-29T00:00:00+00:00\",\"2016-10-30T00:00:00+00:00\",\"2016-10-31T00:00:00+00:00\",\"2016-11-01T00:00:00+00:00\",\"2016-11-02T00:00:00+00:00\",\"2016-11-03T00:00:00+00:00\",\"2016-11-04T00:00:00+00:00\",\"2016-11-05T00:00:00+00:00\",\"2016-11-06T00:00:00+00:00\",\"2016-11-07T00:00:00+00:00\",\"2016-11-08T00:00:00+00:00\",\"2016-11-09T00:00:00+00:00\",\"2016-11-10T00:00:00+00:00\",\"2016-11-11T00:00:00+00:00\",\"2016-11-12T00:00:00+00:00\",\"2016-11-13T00:00:00+00:00\",\"2016-11-14T00:00:00+00:00\",\"2016-11-15T00:00:00+00:00\",\"2016-11-16T00:00:00+00:00\",\"2016-11-17T00:00:00+00:00\",\"2016-11-18T00:00:00+00:00\",\"2016-11-19T00:00:00+00:00\",\"2016-11-20T00:00:00+00:00\",\"2016-11-21T00:00:00+00:00\",\"2016-11-22T00:00:00+00:00\",\"2016-11-23T00:00:00+00:00\",\"2016-11-24T00:00:00+00:00\",\"2016-11-25T00:00:00+00:00\",\"2016-11-26T00:00:00+00:00\",\"2016-11-27T00:00:00+00:00\",\"2016-11-28T00:00:00+00:00\",\"2016-11-29T00:00:00+00:00\",\"2016-11-30T00:00:00+00:00\",\"2016-12-01T00:00:00+00:00\",\"2016-12-02T00:00:00+00:00\",\"2016-12-03T00:00:00+00:00\",\"2016-12-04T00:00:00+00:00\",\"2016-12-05T00:00:00+00:00\",\"2016-12-06T00:00:00+00:00\",\"2016-12-07T00:00:00+00:00\",\"2016-12-08T00:00:00+00:00\",\"2016-12-09T00:00:00+00:00\",\"2016-12-10T00:00:00+00:00\",\"2016-12-11T00:00:00+00:00\",\"2016-12-12T00:00:00+00:00\",\"2016-12-13T00:00:00+00:00\",\"2016-12-14T00:00:00+00:00\",\"2016-12-15T00:00:00+00:00\",\"2016-12-16T00:00:00+00:00\",\"2016-12-17T00:00:00+00:00\",\"2016-12-18T00:00:00+00:00\",\"2016-12-19T00:00:00+00:00\",\"2016-12-20T00:00:00+00:00\",\"2016-12-21T00:00:00+00:00\",\"2016-12-22T00:00:00+00:00\",\"2016-12-23T00:00:00+00:00\",\"2016-12-24T00:00:00+00:00\",\"2016-12-25T00:00:00+00:00\",\"2016-12-26T00:00:00+00:00\",\"2016-12-27T00:00:00+00:00\",\"2016-12-28T00:00:00+00:00\",\"2016-12-29T00:00:00+00:00\",\"2016-12-30T00:00:00+00:00\",\"2016-12-31T00:00:00+00:00\",\"2017-01-01T00:00:00+00:00\",\"2017-01-02T00:00:00+00:00\",\"2017-01-03T00:00:00+00:00\",\"2017-01-04T00:00:00+00:00\",\"2017-01-05T00:00:00+00:00\",\"2017-01-06T00:00:00+00:00\",\"2017-01-07T00:00:00+00:00\",\"2017-01-08T00:00:00+00:00\",\"2017-01-09T00:00:00+00:00\",\"2017-01-10T00:00:00+00:00\",\"2017-01-11T00:00:00+00:00\",\"2017-01-12T00:00:00+00:00\",\"2017-01-13T00:00:00+00:00\",\"2017-01-14T00:00:00+00:00\",\"2017-01-15T00:00:00+00:00\",\"2017-01-16T00:00:00+00:00\",\"2017-01-17T00:00:00+00:00\",\"2017-01-18T00:00:00+00:00\",\"2017-01-19T00:00:00+00:00\",\"2017-01-20T00:00:00+00:00\",\"2017-01-21T00:00:00+00:00\",\"2017-01-22T00:00:00+00:00\",\"2017-01-23T00:00:00+00:00\",\"2017-01-24T00:00:00+00:00\",\"2017-01-25T00:00:00+00:00\",\"2017-01-26T00:00:00+00:00\",\"2017-01-27T00:00:00+00:00\",\"2017-01-28T00:00:00+00:00\",\"2017-01-29T00:00:00+00:00\",\"2017-01-30T00:00:00+00:00\",\"2017-01-31T00:00:00+00:00\",\"2017-02-01T00:00:00+00:00\",\"2017-02-02T00:00:00+00:00\",\"2017-02-03T00:00:00+00:00\",\"2017-02-04T00:00:00+00:00\",\"2017-02-05T00:00:00+00:00\",\"2017-02-06T00:00:00+00:00\",\"2017-02-07T00:00:00+00:00\",\"2017-02-08T00:00:00+00:00\",\"2017-02-09T00:00:00+00:00\",\"2017-02-10T00:00:00+00:00\",\"2017-02-11T00:00:00+00:00\",\"2017-02-12T00:00:00+00:00\",\"2017-02-13T00:00:00+00:00\",\"2017-02-14T00:00:00+00:00\",\"2017-02-15T00:00:00+00:00\",\"2017-02-16T00:00:00+00:00\",\"2017-02-17T00:00:00+00:00\",\"2017-02-18T00:00:00+00:00\",\"2017-02-19T00:00:00+00:00\",\"2017-02-20T00:00:00+00:00\",\"2017-02-21T00:00:00+00:00\",\"2017-02-22T00:00:00+00:00\",\"2017-02-23T00:00:00+00:00\",\"2017-02-24T00:00:00+00:00\",\"2017-02-25T00:00:00+00:00\",\"2017-02-26T00:00:00+00:00\",\"2017-02-27T00:00:00+00:00\",\"2017-02-28T00:00:00+00:00\",\"2017-03-01T00:00:00+00:00\",\"2017-03-02T00:00:00+00:00\",\"2017-03-03T00:00:00+00:00\",\"2017-03-04T00:00:00+00:00\",\"2017-03-05T00:00:00+00:00\",\"2017-03-06T00:00:00+00:00\",\"2017-03-07T00:00:00+00:00\",\"2017-03-08T00:00:00+00:00\",\"2017-03-09T00:00:00+00:00\",\"2017-03-10T00:00:00+00:00\",\"2017-03-11T00:00:00+00:00\",\"2017-03-12T00:00:00+00:00\",\"2017-03-13T00:00:00+00:00\",\"2017-03-14T00:00:00+00:00\",\"2017-03-15T00:00:00+00:00\",\"2017-03-16T00:00:00+00:00\",\"2017-03-17T00:00:00+00:00\",\"2017-03-18T00:00:00+00:00\",\"2017-03-19T00:00:00+00:00\",\"2017-03-20T00:00:00+00:00\",\"2017-03-21T00:00:00+00:00\",\"2017-03-22T00:00:00+00:00\",\"2017-03-23T00:00:00+00:00\",\"2017-03-24T00:00:00+00:00\",\"2017-03-25T00:00:00+00:00\",\"2017-03-26T00:00:00+00:00\",\"2017-03-27T00:00:00+00:00\",\"2017-03-28T00:00:00+00:00\",\"2017-03-29T00:00:00+00:00\",\"2017-03-30T00:00:00+00:00\",\"2017-03-31T00:00:00+00:00\",\"2017-04-01T00:00:00+00:00\",\"2017-04-02T00:00:00+00:00\",\"2017-04-03T00:00:00+00:00\",\"2017-04-04T00:00:00+00:00\",\"2017-04-05T00:00:00+00:00\",\"2017-04-06T00:00:00+00:00\",\"2017-04-07T00:00:00+00:00\",\"2017-04-08T00:00:00+00:00\",\"2017-04-09T00:00:00+00:00\",\"2017-04-10T00:00:00+00:00\",\"2017-04-11T00:00:00+00:00\",\"2017-04-12T00:00:00+00:00\",\"2017-04-13T00:00:00+00:00\",\"2017-04-14T00:00:00+00:00\",\"2017-04-15T00:00:00+00:00\",\"2017-04-16T00:00:00+00:00\",\"2017-04-17T00:00:00+00:00\",\"2017-04-18T00:00:00+00:00\",\"2017-04-19T00:00:00+00:00\",\"2017-04-20T00:00:00+00:00\",\"2017-04-21T00:00:00+00:00\",\"2017-04-22T00:00:00+00:00\",\"2017-04-23T00:00:00+00:00\",\"2017-04-24T00:00:00+00:00\",\"2017-04-25T00:00:00+00:00\",\"2017-04-26T00:00:00+00:00\",\"2017-04-27T00:00:00+00:00\",\"2017-04-28T00:00:00+00:00\",\"2017-04-29T00:00:00+00:00\",\"2017-04-30T00:00:00+00:00\",\"2017-05-01T00:00:00+00:00\",\"2017-05-02T00:00:00+00:00\",\"2017-05-03T00:00:00+00:00\",\"2017-05-04T00:00:00+00:00\",\"2017-05-05T00:00:00+00:00\",\"2017-05-06T00:00:00+00:00\",\"2017-05-07T00:00:00+00:00\",\"2017-05-08T00:00:00+00:00\",\"2017-05-09T00:00:00+00:00\",\"2017-05-10T00:00:00+00:00\",\"2017-05-11T00:00:00+00:00\",\"2017-05-12T00:00:00+00:00\",\"2017-05-13T00:00:00+00:00\",\"2017-05-14T00:00:00+00:00\",\"2017-05-15T00:00:00+00:00\",\"2017-05-16T00:00:00+00:00\",\"2017-05-17T00:00:00+00:00\",\"2017-05-18T00:00:00+00:00\",\"2017-05-19T00:00:00+00:00\",\"2017-05-20T00:00:00+00:00\",\"2017-05-21T00:00:00+00:00\",\"2017-05-22T00:00:00+00:00\",\"2017-05-23T00:00:00+00:00\",\"2017-05-24T00:00:00+00:00\",\"2017-05-25T00:00:00+00:00\",\"2017-05-26T00:00:00+00:00\",\"2017-05-27T00:00:00+00:00\",\"2017-05-28T00:00:00+00:00\",\"2017-05-29T00:00:00+00:00\",\"2017-05-30T00:00:00+00:00\",\"2017-05-31T00:00:00+00:00\",\"2017-06-01T00:00:00+00:00\",\"2017-06-02T00:00:00+00:00\",\"2017-06-03T00:00:00+00:00\",\"2017-06-04T00:00:00+00:00\",\"2017-06-05T00:00:00+00:00\",\"2017-06-06T00:00:00+00:00\",\"2017-06-07T00:00:00+00:00\",\"2017-06-08T00:00:00+00:00\",\"2017-06-09T00:00:00+00:00\",\"2017-06-10T00:00:00+00:00\",\"2017-06-11T00:00:00+00:00\",\"2017-06-12T00:00:00+00:00\",\"2017-06-13T00:00:00+00:00\",\"2017-06-14T00:00:00+00:00\",\"2017-06-15T00:00:00+00:00\",\"2017-06-16T00:00:00+00:00\",\"2017-06-17T00:00:00+00:00\",\"2017-06-18T00:00:00+00:00\",\"2017-06-19T00:00:00+00:00\",\"2017-06-20T00:00:00+00:00\",\"2017-06-21T00:00:00+00:00\",\"2017-06-22T00:00:00+00:00\",\"2017-06-23T00:00:00+00:00\",\"2017-06-24T00:00:00+00:00\",\"2017-06-25T00:00:00+00:00\"],\"y\":[16,11,4,2,1,0,2,1,1,0,0,0,0,0,1,0,0,0,0,1,1,0,0,1,0,0,0,3,1,0,0,0,0,0,0,0,1,0,1,0,0,1,0,0,0,0,0,0,1,0,0,0,0,0,1,0,1,1,0,0,0,2,0,1,0,0,0,0,1,0,0,0,2,0,0,0,0,2,0,1,0,0,0,1,0,0,0,1,0,1,3,1,7,3,1,1,1,2,2,0,0,0,1,0,1,1,0,1,0,2,1,1,1,2,0,0,0,1,0,1,2,1,0,0,1,0,0,0,1,0,0,0,0,0,1,0,1,1,0,1,1,0,0,1,3,3,0,0,0,0,1,1,0,4,0,0,1,0,0,0,1,2,0,0,1,0,2,0,1,2,4,0,0,1,0,0,0,1,2,1,3,3,0,0,1,1,0,1,1,1,1,1,1,2,1,1,3,1,1,2,0,1,0,2,0,0,0,1,1,2,3,2,0,1,0,1,1,1,2,2,2,1,2,0,3,4,2,1,1,1,0,1,1,6,0,1,2,3,3,3,3,1,2,0,4,4,3,3,4,0,3,2,2,2,4,3,0,5,4,2,3,5,4,1,7,4,5,1,4,2,1,3,7,2,3,1,2,1,6,7,2,3,1,2,2,3,8,5,3,5,1,3,3,2,4,7,6,2,3,8,4,7,7,3,8,3,6,5,4,6,4,4,6,3,4,9,2,4,3,2,4,7,8,4,3,2,4,8,1,3,2,4,2,0,9,5,6,5,6,2,1,7,7,6,0,2,2,1,4,4,8,3,5,3,3,2,6,3,7,3,2,3,7,11,2,6,5,2,1,11,7,7,5,7,1,4,6,5,5,7,5,1,3,2,5,6,3,5,3,3,6,9,7,4,2,1,4,4,8,7,9,4,3,2,4,4,4,11,7,6,2,5,6,11,4,2,2,2,4,10,5,3,5,3,1,6,4,6,5,6,5,3,9,7,11,3,7,7,2,10,6,5,11,1,3,3,3,7,10,8,1,7,3,8,7,3,14,4,3,2,7,11,8,12,8,3,7,6,9,9,1,3,2,4,5,6,12,5,8,3,1,7,7,7,9,3,2,7,4,9,12,2,3,3,2,5,1,3,1,1,4,7,4,6,6,5,7,5,7,12,5,8,10,11,2,4,8,7,7,7,10,1,5,9,8,10,5,5,7,3,11,7,10,12,16,4,2,10,5,9,12,4,4,4,15,9,12,10,6,0,4,9,14,9,5,5,6,4,9,6,6,3,2,6,7,4,12,8,9,11,4,5,8,8,4,5,8,5,0,8,13,13,20,10,3,4,9,5,12,7,5,10,9,8,5,10,8,3,4,4,11,11,8,14,11,4,2,10,4,9,8,5,4,6,3,8,9,9,12,9,4,16,17,9,3,6,6,5,11,13,3,7,4,7,9,6,11,14,12,7,5,3,12,12,13,6,7,5,2,8,8,18,16,8,3,7,10,7,11,12,7,7,3,13,6,9,8,8,5,5,11,9,6,10,7,5,5,12,10,11,11,7,3,3,13,11,5,14,5,6,4,11,14,7,5,4,9,5,6,9,8,9,9,5,7,8,7,8,8,11,2,7,9,11,8,7,8,5,4,11,9,10,8,9,3,7,10,8,15,14,11,2,5,12,13,9,12,10,2,4,14,8,8,13,10,7,5,10,13,14,11,5,1,4,10,7,13,16,6,5,2,9,8,15,9,6,3,6,11,12,14,15,9,5,7,16,12,17,9,11,3,7,13,14,19,10,8,6,8,16,16,15,12,18,10,6,22,18,11,19,12,6,9,11,18,21,18,16,9,4,20,12,16,8,14,13,2,18,16,13,8,18,4,7,10,7,12,17,12,9,4,20,19,6,9,9,9,9,12,18,11,13,15,8,11,12,20,10,16,16,5,7,16,22,16,15,15,8,5,15,19,14,6,9,4,7,27,22,23,8,11,11,8,27,17,26,23,17,6,12,24,15,25,19,20,13,12,18,28,33,22,13,6,12,21,27,22,15,20,5,10,17,23,23,14,24,10,7,25,33,27,22,14,11,6,18,26,13,19,15,7,9,38,35,36,15,28,10,11,25,20,25,25,25,13,11,28,22,30,16,22,17,16,23,19,35,27,26,13,9,26,16,26,31,18,4,11,41,33,23,24,18,13,7,33,32,23,17,22,13,7,25,22,28,27,12,6,11,26,29,25,14,18,10,10,30,37,24,34,22,13,9,19,21,39,28,27,12,16,37,28,27,26,32,12,8,31,32,31,34,29,12,10,23,28,26,32,35,11,14,30,34,30,34,26,17,21,27,30,34,31,32,10,27,34,23,27,27,24,22,23,41,26,35,38,29,16,14,27,40,43,31,20,13,15,38,31,33,35,24,22,13,46,39,29,42,37,17,19,36,35,27,32,22,21,15,40,27,32,43,35,18,17,37,39,35,43,23,17,20,33,64,48,39,41,17,26,54,45,44,46,44,27,20,39,35,41,42,33,24,36,37,48,50,45,49,24,17,41,62,47,48,37,24,22,35,37,55,47,40,20,25,41,65,50,54,39,18,18,40,47,62,64,38,26,31,50,61,74,89,61,34,47,76,69,71,60,52,38,29,60,81,73,68,64,35,40,81,72,74,70,53,33,36,62,70,74,72,75,33,45,79,81,74,56,56,33,30,59,73,58,62,47,19,33,57,59,51,35,35,29,31,60,54,61,57,51,29,38,85,69,63,66,52,29,43,55,70,60,58,60,39,37,69,60,45,39,17,26,28,53,52,56,78,42,44,58,94,82,83,90,51,39,53,78,94,79,82,87,46,45,62,65,90,64,88,37,51,76,85,76,69,88,52,54,83,107,89,79,105,37,54,81,98,105,80,84,47,61,93,87,90,80,79,64,61,98,105,101,126,89,56,55,103,108,96,117,87,49,50,89,103,96,108,102,53,51,94,106,95,84,86,46,55,112,116,104,89,74,53,47,87,100,86,116,65,48,53,89,106,100,77,86,43,62,96,98,93,106,91,41,45,101,90,81,92,86,34,51,92,90,104,101,87,38,48,73,100,103,98,75,39,50,89,104,99,106,69,35,49,99,78,104,89,89,46,54,79,91,87,81,84,39,44,78,87,96,99,91,46,67,103,99,112,109,82,50,48,98,95,122,124,105,55,70,116,104,110,99,105,55,74,101,100,114,116,109,54,60,81,102,125,122,106,47,77,105,132,122,125,111,51,55,111,109,104,92,105,60,69,140,118,121,111,108,78,61,140,106,106,133,112,55,60,107,107,92,110,96,71,70,117,129,129,112,97,56,50,123,126,124,103,92,64,66,130,117,117,112,96,66,58,91,121,100,111,111,66,64,139,118,125,123,116,70,73,133,122,150,106,108,53,81,129,142,130,109,120,87,71,134,129,143,139,110,67,78,143,147,133,122,144,68,91,142,143,138,139,132,73,78,152,138,158,131,142,60,81,150,124,131,146,141,67,97,158,160,198,198,147,99,95,156,197,186,171,144,74,74,160,158,177,97,112,83,92,126,165,156,136,148,82,73,164,180,192,145,164,79,85,174,168,164,147,125,78,91,167,182,175,150,113,69,52,109,140,166,149,148,124,114,146,174,190,176,149,124,114,186,197,187,187,180,99,112,181,171,172,172,181,97,153,206,194,195,171,162,123,131,199,203,206,232,190,125,163,195,201,197,220,205,111,100,193,207,188,192,190,139,117,194,224,205,189,196,121,111,225,187,219,231,218,112,119,224,205,219,229,206,124,136,201,227,241,225,189,123,99,205,247,246,228,208,135,129,230,225,238,257,207,125,142,259,221,203,274,221,140,149,238,258,239,250,204,137,143,233,264,278,274,259,178,168,296,306,270,277,262,187,148,305,332,286,284,264,133,136,267,262,264,267,281,205,180,341,345,367,336,301,156,194,341,388,375,298,269,157,172,297,365,407,392,328,170,194,340,348,323,347,291,165,193,349,358,344,336,345,188,243,408,417,422,441,421,277,253]}],                        {\"template\":{\"data\":{\"bar\":[{\"error_x\":{\"color\":\"#2a3f5f\"},\"error_y\":{\"color\":\"#2a3f5f\"},\"marker\":{\"line\":{\"color\":\"#E5ECF6\",\"width\":0.5},\"pattern\":{\"fillmode\":\"overlay\",\"size\":10,\"solidity\":0.2}},\"type\":\"bar\"}],\"barpolar\":[{\"marker\":{\"line\":{\"color\":\"#E5ECF6\",\"width\":0.5},\"pattern\":{\"fillmode\":\"overlay\",\"size\":10,\"solidity\":0.2}},\"type\":\"barpolar\"}],\"carpet\":[{\"aaxis\":{\"endlinecolor\":\"#2a3f5f\",\"gridcolor\":\"white\",\"linecolor\":\"white\",\"minorgridcolor\":\"white\",\"startlinecolor\":\"#2a3f5f\"},\"baxis\":{\"endlinecolor\":\"#2a3f5f\",\"gridcolor\":\"white\",\"linecolor\":\"white\",\"minorgridcolor\":\"white\",\"startlinecolor\":\"#2a3f5f\"},\"type\":\"carpet\"}],\"choropleth\":[{\"colorbar\":{\"outlinewidth\":0,\"ticks\":\"\"},\"type\":\"choropleth\"}],\"contour\":[{\"colorbar\":{\"outlinewidth\":0,\"ticks\":\"\"},\"colorscale\":[[0.0,\"#0d0887\"],[0.1111111111111111,\"#46039f\"],[0.2222222222222222,\"#7201a8\"],[0.3333333333333333,\"#9c179e\"],[0.4444444444444444,\"#bd3786\"],[0.5555555555555556,\"#d8576b\"],[0.6666666666666666,\"#ed7953\"],[0.7777777777777778,\"#fb9f3a\"],[0.8888888888888888,\"#fdca26\"],[1.0,\"#f0f921\"]],\"type\":\"contour\"}],\"contourcarpet\":[{\"colorbar\":{\"outlinewidth\":0,\"ticks\":\"\"},\"type\":\"contourcarpet\"}],\"heatmap\":[{\"colorbar\":{\"outlinewidth\":0,\"ticks\":\"\"},\"colorscale\":[[0.0,\"#0d0887\"],[0.1111111111111111,\"#46039f\"],[0.2222222222222222,\"#7201a8\"],[0.3333333333333333,\"#9c179e\"],[0.4444444444444444,\"#bd3786\"],[0.5555555555555556,\"#d8576b\"],[0.6666666666666666,\"#ed7953\"],[0.7777777777777778,\"#fb9f3a\"],[0.8888888888888888,\"#fdca26\"],[1.0,\"#f0f921\"]],\"type\":\"heatmap\"}],\"heatmapgl\":[{\"colorbar\":{\"outlinewidth\":0,\"ticks\":\"\"},\"colorscale\":[[0.0,\"#0d0887\"],[0.1111111111111111,\"#46039f\"],[0.2222222222222222,\"#7201a8\"],[0.3333333333333333,\"#9c179e\"],[0.4444444444444444,\"#bd3786\"],[0.5555555555555556,\"#d8576b\"],[0.6666666666666666,\"#ed7953\"],[0.7777777777777778,\"#fb9f3a\"],[0.8888888888888888,\"#fdca26\"],[1.0,\"#f0f921\"]],\"type\":\"heatmapgl\"}],\"histogram\":[{\"marker\":{\"pattern\":{\"fillmode\":\"overlay\",\"size\":10,\"solidity\":0.2}},\"type\":\"histogram\"}],\"histogram2d\":[{\"colorbar\":{\"outlinewidth\":0,\"ticks\":\"\"},\"colorscale\":[[0.0,\"#0d0887\"],[0.1111111111111111,\"#46039f\"],[0.2222222222222222,\"#7201a8\"],[0.3333333333333333,\"#9c179e\"],[0.4444444444444444,\"#bd3786\"],[0.5555555555555556,\"#d8576b\"],[0.6666666666666666,\"#ed7953\"],[0.7777777777777778,\"#fb9f3a\"],[0.8888888888888888,\"#fdca26\"],[1.0,\"#f0f921\"]],\"type\":\"histogram2d\"}],\"histogram2dcontour\":[{\"colorbar\":{\"outlinewidth\":0,\"ticks\":\"\"},\"colorscale\":[[0.0,\"#0d0887\"],[0.1111111111111111,\"#46039f\"],[0.2222222222222222,\"#7201a8\"],[0.3333333333333333,\"#9c179e\"],[0.4444444444444444,\"#bd3786\"],[0.5555555555555556,\"#d8576b\"],[0.6666666666666666,\"#ed7953\"],[0.7777777777777778,\"#fb9f3a\"],[0.8888888888888888,\"#fdca26\"],[1.0,\"#f0f921\"]],\"type\":\"histogram2dcontour\"}],\"mesh3d\":[{\"colorbar\":{\"outlinewidth\":0,\"ticks\":\"\"},\"type\":\"mesh3d\"}],\"parcoords\":[{\"line\":{\"colorbar\":{\"outlinewidth\":0,\"ticks\":\"\"}},\"type\":\"parcoords\"}],\"pie\":[{\"automargin\":true,\"type\":\"pie\"}],\"scatter\":[{\"marker\":{\"colorbar\":{\"outlinewidth\":0,\"ticks\":\"\"}},\"type\":\"scatter\"}],\"scatter3d\":[{\"line\":{\"colorbar\":{\"outlinewidth\":0,\"ticks\":\"\"}},\"marker\":{\"colorbar\":{\"outlinewidth\":0,\"ticks\":\"\"}},\"type\":\"scatter3d\"}],\"scattercarpet\":[{\"marker\":{\"colorbar\":{\"outlinewidth\":0,\"ticks\":\"\"}},\"type\":\"scattercarpet\"}],\"scattergeo\":[{\"marker\":{\"colorbar\":{\"outlinewidth\":0,\"ticks\":\"\"}},\"type\":\"scattergeo\"}],\"scattergl\":[{\"marker\":{\"colorbar\":{\"outlinewidth\":0,\"ticks\":\"\"}},\"type\":\"scattergl\"}],\"scattermapbox\":[{\"marker\":{\"colorbar\":{\"outlinewidth\":0,\"ticks\":\"\"}},\"type\":\"scattermapbox\"}],\"scatterpolar\":[{\"marker\":{\"colorbar\":{\"outlinewidth\":0,\"ticks\":\"\"}},\"type\":\"scatterpolar\"}],\"scatterpolargl\":[{\"marker\":{\"colorbar\":{\"outlinewidth\":0,\"ticks\":\"\"}},\"type\":\"scatterpolargl\"}],\"scatterternary\":[{\"marker\":{\"colorbar\":{\"outlinewidth\":0,\"ticks\":\"\"}},\"type\":\"scatterternary\"}],\"surface\":[{\"colorbar\":{\"outlinewidth\":0,\"ticks\":\"\"},\"colorscale\":[[0.0,\"#0d0887\"],[0.1111111111111111,\"#46039f\"],[0.2222222222222222,\"#7201a8\"],[0.3333333333333333,\"#9c179e\"],[0.4444444444444444,\"#bd3786\"],[0.5555555555555556,\"#d8576b\"],[0.6666666666666666,\"#ed7953\"],[0.7777777777777778,\"#fb9f3a\"],[0.8888888888888888,\"#fdca26\"],[1.0,\"#f0f921\"]],\"type\":\"surface\"}],\"table\":[{\"cells\":{\"fill\":{\"color\":\"#EBF0F8\"},\"line\":{\"color\":\"white\"}},\"header\":{\"fill\":{\"color\":\"#C8D4E3\"},\"line\":{\"color\":\"white\"}},\"type\":\"table\"}]},\"layout\":{\"annotationdefaults\":{\"arrowcolor\":\"#2a3f5f\",\"arrowhead\":0,\"arrowwidth\":1},\"autotypenumbers\":\"strict\",\"coloraxis\":{\"colorbar\":{\"outlinewidth\":0,\"ticks\":\"\"}},\"colorscale\":{\"diverging\":[[0,\"#8e0152\"],[0.1,\"#c51b7d\"],[0.2,\"#de77ae\"],[0.3,\"#f1b6da\"],[0.4,\"#fde0ef\"],[0.5,\"#f7f7f7\"],[0.6,\"#e6f5d0\"],[0.7,\"#b8e186\"],[0.8,\"#7fbc41\"],[0.9,\"#4d9221\"],[1,\"#276419\"]],\"sequential\":[[0.0,\"#0d0887\"],[0.1111111111111111,\"#46039f\"],[0.2222222222222222,\"#7201a8\"],[0.3333333333333333,\"#9c179e\"],[0.4444444444444444,\"#bd3786\"],[0.5555555555555556,\"#d8576b\"],[0.6666666666666666,\"#ed7953\"],[0.7777777777777778,\"#fb9f3a\"],[0.8888888888888888,\"#fdca26\"],[1.0,\"#f0f921\"]],\"sequentialminus\":[[0.0,\"#0d0887\"],[0.1111111111111111,\"#46039f\"],[0.2222222222222222,\"#7201a8\"],[0.3333333333333333,\"#9c179e\"],[0.4444444444444444,\"#bd3786\"],[0.5555555555555556,\"#d8576b\"],[0.6666666666666666,\"#ed7953\"],[0.7777777777777778,\"#fb9f3a\"],[0.8888888888888888,\"#fdca26\"],[1.0,\"#f0f921\"]]},\"colorway\":[\"#636efa\",\"#EF553B\",\"#00cc96\",\"#ab63fa\",\"#FFA15A\",\"#19d3f3\",\"#FF6692\",\"#B6E880\",\"#FF97FF\",\"#FECB52\"],\"font\":{\"color\":\"#2a3f5f\"},\"geo\":{\"bgcolor\":\"white\",\"lakecolor\":\"white\",\"landcolor\":\"#E5ECF6\",\"showlakes\":true,\"showland\":true,\"subunitcolor\":\"white\"},\"hoverlabel\":{\"align\":\"left\"},\"hovermode\":\"closest\",\"mapbox\":{\"style\":\"light\"},\"paper_bgcolor\":\"white\",\"plot_bgcolor\":\"#E5ECF6\",\"polar\":{\"angularaxis\":{\"gridcolor\":\"white\",\"linecolor\":\"white\",\"ticks\":\"\"},\"bgcolor\":\"#E5ECF6\",\"radialaxis\":{\"gridcolor\":\"white\",\"linecolor\":\"white\",\"ticks\":\"\"}},\"scene\":{\"xaxis\":{\"backgroundcolor\":\"#E5ECF6\",\"gridcolor\":\"white\",\"gridwidth\":2,\"linecolor\":\"white\",\"showbackground\":true,\"ticks\":\"\",\"zerolinecolor\":\"white\"},\"yaxis\":{\"backgroundcolor\":\"#E5ECF6\",\"gridcolor\":\"white\",\"gridwidth\":2,\"linecolor\":\"white\",\"showbackground\":true,\"ticks\":\"\",\"zerolinecolor\":\"white\"},\"zaxis\":{\"backgroundcolor\":\"#E5ECF6\",\"gridcolor\":\"white\",\"gridwidth\":2,\"linecolor\":\"white\",\"showbackground\":true,\"ticks\":\"\",\"zerolinecolor\":\"white\"}},\"shapedefaults\":{\"line\":{\"color\":\"#2a3f5f\"}},\"ternary\":{\"aaxis\":{\"gridcolor\":\"white\",\"linecolor\":\"white\",\"ticks\":\"\"},\"baxis\":{\"gridcolor\":\"white\",\"linecolor\":\"white\",\"ticks\":\"\"},\"bgcolor\":\"#E5ECF6\",\"caxis\":{\"gridcolor\":\"white\",\"linecolor\":\"white\",\"ticks\":\"\"}},\"title\":{\"x\":0.05},\"xaxis\":{\"automargin\":true,\"gridcolor\":\"white\",\"linecolor\":\"white\",\"ticks\":\"\",\"title\":{\"standoff\":15},\"zerolinecolor\":\"white\",\"zerolinewidth\":2},\"yaxis\":{\"automargin\":true,\"gridcolor\":\"white\",\"linecolor\":\"white\",\"ticks\":\"\",\"title\":{\"standoff\":15},\"zerolinecolor\":\"white\",\"zerolinewidth\":2}}},\"title\":{\"text\":\"Posts on Medium (daily)\"}},                        {\"responsive\": true}                    ).then(function(){\n",
       "                            \n",
       "var gd = document.getElementById('ed245ef4-eb7d-4049-9c51-6f67cd608863');\n",
       "var x = new MutationObserver(function (mutations, observer) {{\n",
       "        var display = window.getComputedStyle(gd).display;\n",
       "        if (!display || display === 'none') {{\n",
       "            console.log([gd, 'removed!']);\n",
       "            Plotly.purge(gd);\n",
       "            observer.disconnect();\n",
       "        }}\n",
       "}});\n",
       "\n",
       "// Listen for the removal of the full notebook cells\n",
       "var notebookContainer = gd.closest('#notebook-container');\n",
       "if (notebookContainer) {{\n",
       "    x.observe(notebookContainer, {childList: true});\n",
       "}}\n",
       "\n",
       "// Listen for the clearing of the current output cell\n",
       "var outputEl = gd.closest('.output');\n",
       "if (outputEl) {{\n",
       "    x.observe(outputEl, {childList: true});\n",
       "}}\n",
       "\n",
       "                        })                };                });            </script>        </div>"
      ]
     },
     "metadata": {},
     "output_type": "display_data"
    }
   ],
   "source": [
    "plotly_df(daily_df, title='Posts on Medium (daily)')"
   ]
  },
  {
   "cell_type": "markdown",
   "id": "7b7f59f6",
   "metadata": {
    "_uuid": "a8d19ad05376f24d0b1125e4e67a8a6d1458e896",
    "papermill": {
     "duration": 0.061927,
     "end_time": "2021-08-24T14:01:49.232876",
     "exception": false,
     "start_time": "2021-08-24T14:01:49.170949",
     "status": "completed"
    },
    "slideshow": {
     "slide_type": "slide"
    },
    "tags": []
   },
   "source": [
    "Kalau kita lihat dari plot diatas, dengan menggunakan daily data, ternyata tampilannya cukup cluttered, coba kita ganti data post per weekly"
   ]
  },
  {
   "cell_type": "code",
   "execution_count": 15,
   "id": "9ef19d02",
   "metadata": {
    "_uuid": "1dc9255fd111e990d9b3948dda590ee50a2d427f",
    "execution": {
     "iopub.execute_input": "2021-08-24T14:01:49.360917Z",
     "iopub.status.busy": "2021-08-24T14:01:49.360230Z",
     "iopub.status.idle": "2021-08-24T14:01:49.376090Z",
     "shell.execute_reply": "2021-08-24T14:01:49.375542Z",
     "shell.execute_reply.started": "2021-08-24T14:00:48.569922Z"
    },
    "papermill": {
     "duration": 0.080948,
     "end_time": "2021-08-24T14:01:49.376238",
     "exception": false,
     "start_time": "2021-08-24T14:01:49.295290",
     "status": "completed"
    },
    "slideshow": {
     "slide_type": "slide"
    },
    "tags": []
   },
   "outputs": [],
   "source": [
    "weekly_df = daily_df.resample('W').apply(sum)"
   ]
  },
  {
   "cell_type": "code",
   "execution_count": 16,
   "id": "3ba7eaab",
   "metadata": {
    "_uuid": "39e83db9badd18ca4e9e531f1397f1d91f248cec",
    "execution": {
     "iopub.execute_input": "2021-08-24T14:01:49.533212Z",
     "iopub.status.busy": "2021-08-24T14:01:49.528014Z",
     "iopub.status.idle": "2021-08-24T14:01:49.562993Z",
     "shell.execute_reply": "2021-08-24T14:01:49.563519Z",
     "shell.execute_reply.started": "2021-08-24T14:00:48.585410Z"
    },
    "papermill": {
     "duration": 0.124781,
     "end_time": "2021-08-24T14:01:49.563697",
     "exception": false,
     "start_time": "2021-08-24T14:01:49.438916",
     "status": "completed"
    },
    "slideshow": {
     "slide_type": "slide"
    },
    "tags": []
   },
   "outputs": [
    {
     "data": {
      "application/vnd.plotly.v1+json": {
       "config": {
        "linkText": "Export to plot.ly",
        "plotlyServerURL": "https://plot.ly",
        "showLink": false
       },
       "data": [
        {
         "mode": "lines",
         "name": "posts",
         "type": "scatter",
         "x": [
          "2012-08-19T00:00:00+00:00",
          "2012-08-26T00:00:00+00:00",
          "2012-09-02T00:00:00+00:00",
          "2012-09-09T00:00:00+00:00",
          "2012-09-16T00:00:00+00:00",
          "2012-09-23T00:00:00+00:00",
          "2012-09-30T00:00:00+00:00",
          "2012-10-07T00:00:00+00:00",
          "2012-10-14T00:00:00+00:00",
          "2012-10-21T00:00:00+00:00",
          "2012-10-28T00:00:00+00:00",
          "2012-11-04T00:00:00+00:00",
          "2012-11-11T00:00:00+00:00",
          "2012-11-18T00:00:00+00:00",
          "2012-11-25T00:00:00+00:00",
          "2012-12-02T00:00:00+00:00",
          "2012-12-09T00:00:00+00:00",
          "2012-12-16T00:00:00+00:00",
          "2012-12-23T00:00:00+00:00",
          "2012-12-30T00:00:00+00:00",
          "2013-01-06T00:00:00+00:00",
          "2013-01-13T00:00:00+00:00",
          "2013-01-20T00:00:00+00:00",
          "2013-01-27T00:00:00+00:00",
          "2013-02-03T00:00:00+00:00",
          "2013-02-10T00:00:00+00:00",
          "2013-02-17T00:00:00+00:00",
          "2013-02-24T00:00:00+00:00",
          "2013-03-03T00:00:00+00:00",
          "2013-03-10T00:00:00+00:00",
          "2013-03-17T00:00:00+00:00",
          "2013-03-24T00:00:00+00:00",
          "2013-03-31T00:00:00+00:00",
          "2013-04-07T00:00:00+00:00",
          "2013-04-14T00:00:00+00:00",
          "2013-04-21T00:00:00+00:00",
          "2013-04-28T00:00:00+00:00",
          "2013-05-05T00:00:00+00:00",
          "2013-05-12T00:00:00+00:00",
          "2013-05-19T00:00:00+00:00",
          "2013-05-26T00:00:00+00:00",
          "2013-06-02T00:00:00+00:00",
          "2013-06-09T00:00:00+00:00",
          "2013-06-16T00:00:00+00:00",
          "2013-06-23T00:00:00+00:00",
          "2013-06-30T00:00:00+00:00",
          "2013-07-07T00:00:00+00:00",
          "2013-07-14T00:00:00+00:00",
          "2013-07-21T00:00:00+00:00",
          "2013-07-28T00:00:00+00:00",
          "2013-08-04T00:00:00+00:00",
          "2013-08-11T00:00:00+00:00",
          "2013-08-18T00:00:00+00:00",
          "2013-08-25T00:00:00+00:00",
          "2013-09-01T00:00:00+00:00",
          "2013-09-08T00:00:00+00:00",
          "2013-09-15T00:00:00+00:00",
          "2013-09-22T00:00:00+00:00",
          "2013-09-29T00:00:00+00:00",
          "2013-10-06T00:00:00+00:00",
          "2013-10-13T00:00:00+00:00",
          "2013-10-20T00:00:00+00:00",
          "2013-10-27T00:00:00+00:00",
          "2013-11-03T00:00:00+00:00",
          "2013-11-10T00:00:00+00:00",
          "2013-11-17T00:00:00+00:00",
          "2013-11-24T00:00:00+00:00",
          "2013-12-01T00:00:00+00:00",
          "2013-12-08T00:00:00+00:00",
          "2013-12-15T00:00:00+00:00",
          "2013-12-22T00:00:00+00:00",
          "2013-12-29T00:00:00+00:00",
          "2014-01-05T00:00:00+00:00",
          "2014-01-12T00:00:00+00:00",
          "2014-01-19T00:00:00+00:00",
          "2014-01-26T00:00:00+00:00",
          "2014-02-02T00:00:00+00:00",
          "2014-02-09T00:00:00+00:00",
          "2014-02-16T00:00:00+00:00",
          "2014-02-23T00:00:00+00:00",
          "2014-03-02T00:00:00+00:00",
          "2014-03-09T00:00:00+00:00",
          "2014-03-16T00:00:00+00:00",
          "2014-03-23T00:00:00+00:00",
          "2014-03-30T00:00:00+00:00",
          "2014-04-06T00:00:00+00:00",
          "2014-04-13T00:00:00+00:00",
          "2014-04-20T00:00:00+00:00",
          "2014-04-27T00:00:00+00:00",
          "2014-05-04T00:00:00+00:00",
          "2014-05-11T00:00:00+00:00",
          "2014-05-18T00:00:00+00:00",
          "2014-05-25T00:00:00+00:00",
          "2014-06-01T00:00:00+00:00",
          "2014-06-08T00:00:00+00:00",
          "2014-06-15T00:00:00+00:00",
          "2014-06-22T00:00:00+00:00",
          "2014-06-29T00:00:00+00:00",
          "2014-07-06T00:00:00+00:00",
          "2014-07-13T00:00:00+00:00",
          "2014-07-20T00:00:00+00:00",
          "2014-07-27T00:00:00+00:00",
          "2014-08-03T00:00:00+00:00",
          "2014-08-10T00:00:00+00:00",
          "2014-08-17T00:00:00+00:00",
          "2014-08-24T00:00:00+00:00",
          "2014-08-31T00:00:00+00:00",
          "2014-09-07T00:00:00+00:00",
          "2014-09-14T00:00:00+00:00",
          "2014-09-21T00:00:00+00:00",
          "2014-09-28T00:00:00+00:00",
          "2014-10-05T00:00:00+00:00",
          "2014-10-12T00:00:00+00:00",
          "2014-10-19T00:00:00+00:00",
          "2014-10-26T00:00:00+00:00",
          "2014-11-02T00:00:00+00:00",
          "2014-11-09T00:00:00+00:00",
          "2014-11-16T00:00:00+00:00",
          "2014-11-23T00:00:00+00:00",
          "2014-11-30T00:00:00+00:00",
          "2014-12-07T00:00:00+00:00",
          "2014-12-14T00:00:00+00:00",
          "2014-12-21T00:00:00+00:00",
          "2014-12-28T00:00:00+00:00",
          "2015-01-04T00:00:00+00:00",
          "2015-01-11T00:00:00+00:00",
          "2015-01-18T00:00:00+00:00",
          "2015-01-25T00:00:00+00:00",
          "2015-02-01T00:00:00+00:00",
          "2015-02-08T00:00:00+00:00",
          "2015-02-15T00:00:00+00:00",
          "2015-02-22T00:00:00+00:00",
          "2015-03-01T00:00:00+00:00",
          "2015-03-08T00:00:00+00:00",
          "2015-03-15T00:00:00+00:00",
          "2015-03-22T00:00:00+00:00",
          "2015-03-29T00:00:00+00:00",
          "2015-04-05T00:00:00+00:00",
          "2015-04-12T00:00:00+00:00",
          "2015-04-19T00:00:00+00:00",
          "2015-04-26T00:00:00+00:00",
          "2015-05-03T00:00:00+00:00",
          "2015-05-10T00:00:00+00:00",
          "2015-05-17T00:00:00+00:00",
          "2015-05-24T00:00:00+00:00",
          "2015-05-31T00:00:00+00:00",
          "2015-06-07T00:00:00+00:00",
          "2015-06-14T00:00:00+00:00",
          "2015-06-21T00:00:00+00:00",
          "2015-06-28T00:00:00+00:00",
          "2015-07-05T00:00:00+00:00",
          "2015-07-12T00:00:00+00:00",
          "2015-07-19T00:00:00+00:00",
          "2015-07-26T00:00:00+00:00",
          "2015-08-02T00:00:00+00:00",
          "2015-08-09T00:00:00+00:00",
          "2015-08-16T00:00:00+00:00",
          "2015-08-23T00:00:00+00:00",
          "2015-08-30T00:00:00+00:00",
          "2015-09-06T00:00:00+00:00",
          "2015-09-13T00:00:00+00:00",
          "2015-09-20T00:00:00+00:00",
          "2015-09-27T00:00:00+00:00",
          "2015-10-04T00:00:00+00:00",
          "2015-10-11T00:00:00+00:00",
          "2015-10-18T00:00:00+00:00",
          "2015-10-25T00:00:00+00:00",
          "2015-11-01T00:00:00+00:00",
          "2015-11-08T00:00:00+00:00",
          "2015-11-15T00:00:00+00:00",
          "2015-11-22T00:00:00+00:00",
          "2015-11-29T00:00:00+00:00",
          "2015-12-06T00:00:00+00:00",
          "2015-12-13T00:00:00+00:00",
          "2015-12-20T00:00:00+00:00",
          "2015-12-27T00:00:00+00:00",
          "2016-01-03T00:00:00+00:00",
          "2016-01-10T00:00:00+00:00",
          "2016-01-17T00:00:00+00:00",
          "2016-01-24T00:00:00+00:00",
          "2016-01-31T00:00:00+00:00",
          "2016-02-07T00:00:00+00:00",
          "2016-02-14T00:00:00+00:00",
          "2016-02-21T00:00:00+00:00",
          "2016-02-28T00:00:00+00:00",
          "2016-03-06T00:00:00+00:00",
          "2016-03-13T00:00:00+00:00",
          "2016-03-20T00:00:00+00:00",
          "2016-03-27T00:00:00+00:00",
          "2016-04-03T00:00:00+00:00",
          "2016-04-10T00:00:00+00:00",
          "2016-04-17T00:00:00+00:00",
          "2016-04-24T00:00:00+00:00",
          "2016-05-01T00:00:00+00:00",
          "2016-05-08T00:00:00+00:00",
          "2016-05-15T00:00:00+00:00",
          "2016-05-22T00:00:00+00:00",
          "2016-05-29T00:00:00+00:00",
          "2016-06-05T00:00:00+00:00",
          "2016-06-12T00:00:00+00:00",
          "2016-06-19T00:00:00+00:00",
          "2016-06-26T00:00:00+00:00",
          "2016-07-03T00:00:00+00:00",
          "2016-07-10T00:00:00+00:00",
          "2016-07-17T00:00:00+00:00",
          "2016-07-24T00:00:00+00:00",
          "2016-07-31T00:00:00+00:00",
          "2016-08-07T00:00:00+00:00",
          "2016-08-14T00:00:00+00:00",
          "2016-08-21T00:00:00+00:00",
          "2016-08-28T00:00:00+00:00",
          "2016-09-04T00:00:00+00:00",
          "2016-09-11T00:00:00+00:00",
          "2016-09-18T00:00:00+00:00",
          "2016-09-25T00:00:00+00:00",
          "2016-10-02T00:00:00+00:00",
          "2016-10-09T00:00:00+00:00",
          "2016-10-16T00:00:00+00:00",
          "2016-10-23T00:00:00+00:00",
          "2016-10-30T00:00:00+00:00",
          "2016-11-06T00:00:00+00:00",
          "2016-11-13T00:00:00+00:00",
          "2016-11-20T00:00:00+00:00",
          "2016-11-27T00:00:00+00:00",
          "2016-12-04T00:00:00+00:00",
          "2016-12-11T00:00:00+00:00",
          "2016-12-18T00:00:00+00:00",
          "2016-12-25T00:00:00+00:00",
          "2017-01-01T00:00:00+00:00",
          "2017-01-08T00:00:00+00:00",
          "2017-01-15T00:00:00+00:00",
          "2017-01-22T00:00:00+00:00",
          "2017-01-29T00:00:00+00:00",
          "2017-02-05T00:00:00+00:00",
          "2017-02-12T00:00:00+00:00",
          "2017-02-19T00:00:00+00:00",
          "2017-02-26T00:00:00+00:00",
          "2017-03-05T00:00:00+00:00",
          "2017-03-12T00:00:00+00:00",
          "2017-03-19T00:00:00+00:00",
          "2017-03-26T00:00:00+00:00",
          "2017-04-02T00:00:00+00:00",
          "2017-04-09T00:00:00+00:00",
          "2017-04-16T00:00:00+00:00",
          "2017-04-23T00:00:00+00:00",
          "2017-04-30T00:00:00+00:00",
          "2017-05-07T00:00:00+00:00",
          "2017-05-14T00:00:00+00:00",
          "2017-05-21T00:00:00+00:00",
          "2017-05-28T00:00:00+00:00",
          "2017-06-04T00:00:00+00:00",
          "2017-06-11T00:00:00+00:00",
          "2017-06-18T00:00:00+00:00",
          "2017-06-25T00:00:00+00:00"
         ],
         "y": [
          34,
          4,
          1,
          3,
          4,
          2,
          1,
          1,
          3,
          3,
          3,
          3,
          2,
          17,
          6,
          5,
          5,
          5,
          2,
          3,
          6,
          5,
          5,
          4,
          9,
          5,
          8,
          8,
          9,
          4,
          9,
          10,
          13,
          10,
          17,
          18,
          16,
          24,
          24,
          19,
          23,
          28,
          27,
          40,
          35,
          27,
          32,
          20,
          34,
          25,
          30,
          26,
          34,
          42,
          32,
          27,
          33,
          37,
          38,
          32,
          31,
          35,
          46,
          39,
          39,
          41,
          56,
          34,
          40,
          42,
          35,
          22,
          40,
          52,
          45,
          47,
          62,
          48,
          56,
          52,
          39,
          53,
          38,
          71,
          57,
          42,
          61,
          46,
          54,
          62,
          54,
          58,
          57,
          68,
          57,
          54,
          53,
          57,
          58,
          55,
          53,
          51,
          52,
          57,
          65,
          62,
          65,
          58,
          59,
          56,
          73,
          75,
          78,
          93,
          97,
          97,
          85,
          84,
          71,
          81,
          88,
          86,
          97,
          74,
          110,
          128,
          128,
          132,
          120,
          118,
          138,
          107,
          173,
          144,
          151,
          152,
          132,
          159,
          147,
          131,
          132,
          169,
          162,
          170,
          179,
          169,
          192,
          191,
          180,
          199,
          189,
          196,
          229,
          188,
          212,
          214,
          268,
          280,
          250,
          270,
          281,
          259,
          285,
          308,
          416,
          395,
          421,
          419,
          431,
          409,
          351,
          297,
          350,
          407,
          379,
          284,
          383,
          492,
          511,
          457,
          500,
          554,
          556,
          554,
          630,
          610,
          602,
          566,
          595,
          555,
          563,
          570,
          535,
          560,
          538,
          551,
          559,
          505,
          564,
          603,
          669,
          663,
          654,
          660,
          701,
          650,
          737,
          712,
          653,
          690,
          698,
          696,
          664,
          764,
          753,
          788,
          800,
          848,
          845,
          862,
          856,
          1055,
          1002,
          879,
          886,
          1009,
          947,
          908,
          950,
          1073,
          1148,
          1127,
          1182,
          1318,
          1229,
          1226,
          1240,
          1311,
          1343,
          1305,
          1398,
          1424,
          1467,
          1469,
          1654,
          1746,
          1740,
          1726,
          2040,
          2000,
          2153,
          2007,
          2163,
          2639
         ]
        }
       ],
       "layout": {
        "template": {
         "data": {
          "bar": [
           {
            "error_x": {
             "color": "#2a3f5f"
            },
            "error_y": {
             "color": "#2a3f5f"
            },
            "marker": {
             "line": {
              "color": "#E5ECF6",
              "width": 0.5
             },
             "pattern": {
              "fillmode": "overlay",
              "size": 10,
              "solidity": 0.2
             }
            },
            "type": "bar"
           }
          ],
          "barpolar": [
           {
            "marker": {
             "line": {
              "color": "#E5ECF6",
              "width": 0.5
             },
             "pattern": {
              "fillmode": "overlay",
              "size": 10,
              "solidity": 0.2
             }
            },
            "type": "barpolar"
           }
          ],
          "carpet": [
           {
            "aaxis": {
             "endlinecolor": "#2a3f5f",
             "gridcolor": "white",
             "linecolor": "white",
             "minorgridcolor": "white",
             "startlinecolor": "#2a3f5f"
            },
            "baxis": {
             "endlinecolor": "#2a3f5f",
             "gridcolor": "white",
             "linecolor": "white",
             "minorgridcolor": "white",
             "startlinecolor": "#2a3f5f"
            },
            "type": "carpet"
           }
          ],
          "choropleth": [
           {
            "colorbar": {
             "outlinewidth": 0,
             "ticks": ""
            },
            "type": "choropleth"
           }
          ],
          "contour": [
           {
            "colorbar": {
             "outlinewidth": 0,
             "ticks": ""
            },
            "colorscale": [
             [
              0,
              "#0d0887"
             ],
             [
              0.1111111111111111,
              "#46039f"
             ],
             [
              0.2222222222222222,
              "#7201a8"
             ],
             [
              0.3333333333333333,
              "#9c179e"
             ],
             [
              0.4444444444444444,
              "#bd3786"
             ],
             [
              0.5555555555555556,
              "#d8576b"
             ],
             [
              0.6666666666666666,
              "#ed7953"
             ],
             [
              0.7777777777777778,
              "#fb9f3a"
             ],
             [
              0.8888888888888888,
              "#fdca26"
             ],
             [
              1,
              "#f0f921"
             ]
            ],
            "type": "contour"
           }
          ],
          "contourcarpet": [
           {
            "colorbar": {
             "outlinewidth": 0,
             "ticks": ""
            },
            "type": "contourcarpet"
           }
          ],
          "heatmap": [
           {
            "colorbar": {
             "outlinewidth": 0,
             "ticks": ""
            },
            "colorscale": [
             [
              0,
              "#0d0887"
             ],
             [
              0.1111111111111111,
              "#46039f"
             ],
             [
              0.2222222222222222,
              "#7201a8"
             ],
             [
              0.3333333333333333,
              "#9c179e"
             ],
             [
              0.4444444444444444,
              "#bd3786"
             ],
             [
              0.5555555555555556,
              "#d8576b"
             ],
             [
              0.6666666666666666,
              "#ed7953"
             ],
             [
              0.7777777777777778,
              "#fb9f3a"
             ],
             [
              0.8888888888888888,
              "#fdca26"
             ],
             [
              1,
              "#f0f921"
             ]
            ],
            "type": "heatmap"
           }
          ],
          "heatmapgl": [
           {
            "colorbar": {
             "outlinewidth": 0,
             "ticks": ""
            },
            "colorscale": [
             [
              0,
              "#0d0887"
             ],
             [
              0.1111111111111111,
              "#46039f"
             ],
             [
              0.2222222222222222,
              "#7201a8"
             ],
             [
              0.3333333333333333,
              "#9c179e"
             ],
             [
              0.4444444444444444,
              "#bd3786"
             ],
             [
              0.5555555555555556,
              "#d8576b"
             ],
             [
              0.6666666666666666,
              "#ed7953"
             ],
             [
              0.7777777777777778,
              "#fb9f3a"
             ],
             [
              0.8888888888888888,
              "#fdca26"
             ],
             [
              1,
              "#f0f921"
             ]
            ],
            "type": "heatmapgl"
           }
          ],
          "histogram": [
           {
            "marker": {
             "pattern": {
              "fillmode": "overlay",
              "size": 10,
              "solidity": 0.2
             }
            },
            "type": "histogram"
           }
          ],
          "histogram2d": [
           {
            "colorbar": {
             "outlinewidth": 0,
             "ticks": ""
            },
            "colorscale": [
             [
              0,
              "#0d0887"
             ],
             [
              0.1111111111111111,
              "#46039f"
             ],
             [
              0.2222222222222222,
              "#7201a8"
             ],
             [
              0.3333333333333333,
              "#9c179e"
             ],
             [
              0.4444444444444444,
              "#bd3786"
             ],
             [
              0.5555555555555556,
              "#d8576b"
             ],
             [
              0.6666666666666666,
              "#ed7953"
             ],
             [
              0.7777777777777778,
              "#fb9f3a"
             ],
             [
              0.8888888888888888,
              "#fdca26"
             ],
             [
              1,
              "#f0f921"
             ]
            ],
            "type": "histogram2d"
           }
          ],
          "histogram2dcontour": [
           {
            "colorbar": {
             "outlinewidth": 0,
             "ticks": ""
            },
            "colorscale": [
             [
              0,
              "#0d0887"
             ],
             [
              0.1111111111111111,
              "#46039f"
             ],
             [
              0.2222222222222222,
              "#7201a8"
             ],
             [
              0.3333333333333333,
              "#9c179e"
             ],
             [
              0.4444444444444444,
              "#bd3786"
             ],
             [
              0.5555555555555556,
              "#d8576b"
             ],
             [
              0.6666666666666666,
              "#ed7953"
             ],
             [
              0.7777777777777778,
              "#fb9f3a"
             ],
             [
              0.8888888888888888,
              "#fdca26"
             ],
             [
              1,
              "#f0f921"
             ]
            ],
            "type": "histogram2dcontour"
           }
          ],
          "mesh3d": [
           {
            "colorbar": {
             "outlinewidth": 0,
             "ticks": ""
            },
            "type": "mesh3d"
           }
          ],
          "parcoords": [
           {
            "line": {
             "colorbar": {
              "outlinewidth": 0,
              "ticks": ""
             }
            },
            "type": "parcoords"
           }
          ],
          "pie": [
           {
            "automargin": true,
            "type": "pie"
           }
          ],
          "scatter": [
           {
            "marker": {
             "colorbar": {
              "outlinewidth": 0,
              "ticks": ""
             }
            },
            "type": "scatter"
           }
          ],
          "scatter3d": [
           {
            "line": {
             "colorbar": {
              "outlinewidth": 0,
              "ticks": ""
             }
            },
            "marker": {
             "colorbar": {
              "outlinewidth": 0,
              "ticks": ""
             }
            },
            "type": "scatter3d"
           }
          ],
          "scattercarpet": [
           {
            "marker": {
             "colorbar": {
              "outlinewidth": 0,
              "ticks": ""
             }
            },
            "type": "scattercarpet"
           }
          ],
          "scattergeo": [
           {
            "marker": {
             "colorbar": {
              "outlinewidth": 0,
              "ticks": ""
             }
            },
            "type": "scattergeo"
           }
          ],
          "scattergl": [
           {
            "marker": {
             "colorbar": {
              "outlinewidth": 0,
              "ticks": ""
             }
            },
            "type": "scattergl"
           }
          ],
          "scattermapbox": [
           {
            "marker": {
             "colorbar": {
              "outlinewidth": 0,
              "ticks": ""
             }
            },
            "type": "scattermapbox"
           }
          ],
          "scatterpolar": [
           {
            "marker": {
             "colorbar": {
              "outlinewidth": 0,
              "ticks": ""
             }
            },
            "type": "scatterpolar"
           }
          ],
          "scatterpolargl": [
           {
            "marker": {
             "colorbar": {
              "outlinewidth": 0,
              "ticks": ""
             }
            },
            "type": "scatterpolargl"
           }
          ],
          "scatterternary": [
           {
            "marker": {
             "colorbar": {
              "outlinewidth": 0,
              "ticks": ""
             }
            },
            "type": "scatterternary"
           }
          ],
          "surface": [
           {
            "colorbar": {
             "outlinewidth": 0,
             "ticks": ""
            },
            "colorscale": [
             [
              0,
              "#0d0887"
             ],
             [
              0.1111111111111111,
              "#46039f"
             ],
             [
              0.2222222222222222,
              "#7201a8"
             ],
             [
              0.3333333333333333,
              "#9c179e"
             ],
             [
              0.4444444444444444,
              "#bd3786"
             ],
             [
              0.5555555555555556,
              "#d8576b"
             ],
             [
              0.6666666666666666,
              "#ed7953"
             ],
             [
              0.7777777777777778,
              "#fb9f3a"
             ],
             [
              0.8888888888888888,
              "#fdca26"
             ],
             [
              1,
              "#f0f921"
             ]
            ],
            "type": "surface"
           }
          ],
          "table": [
           {
            "cells": {
             "fill": {
              "color": "#EBF0F8"
             },
             "line": {
              "color": "white"
             }
            },
            "header": {
             "fill": {
              "color": "#C8D4E3"
             },
             "line": {
              "color": "white"
             }
            },
            "type": "table"
           }
          ]
         },
         "layout": {
          "annotationdefaults": {
           "arrowcolor": "#2a3f5f",
           "arrowhead": 0,
           "arrowwidth": 1
          },
          "autotypenumbers": "strict",
          "coloraxis": {
           "colorbar": {
            "outlinewidth": 0,
            "ticks": ""
           }
          },
          "colorscale": {
           "diverging": [
            [
             0,
             "#8e0152"
            ],
            [
             0.1,
             "#c51b7d"
            ],
            [
             0.2,
             "#de77ae"
            ],
            [
             0.3,
             "#f1b6da"
            ],
            [
             0.4,
             "#fde0ef"
            ],
            [
             0.5,
             "#f7f7f7"
            ],
            [
             0.6,
             "#e6f5d0"
            ],
            [
             0.7,
             "#b8e186"
            ],
            [
             0.8,
             "#7fbc41"
            ],
            [
             0.9,
             "#4d9221"
            ],
            [
             1,
             "#276419"
            ]
           ],
           "sequential": [
            [
             0,
             "#0d0887"
            ],
            [
             0.1111111111111111,
             "#46039f"
            ],
            [
             0.2222222222222222,
             "#7201a8"
            ],
            [
             0.3333333333333333,
             "#9c179e"
            ],
            [
             0.4444444444444444,
             "#bd3786"
            ],
            [
             0.5555555555555556,
             "#d8576b"
            ],
            [
             0.6666666666666666,
             "#ed7953"
            ],
            [
             0.7777777777777778,
             "#fb9f3a"
            ],
            [
             0.8888888888888888,
             "#fdca26"
            ],
            [
             1,
             "#f0f921"
            ]
           ],
           "sequentialminus": [
            [
             0,
             "#0d0887"
            ],
            [
             0.1111111111111111,
             "#46039f"
            ],
            [
             0.2222222222222222,
             "#7201a8"
            ],
            [
             0.3333333333333333,
             "#9c179e"
            ],
            [
             0.4444444444444444,
             "#bd3786"
            ],
            [
             0.5555555555555556,
             "#d8576b"
            ],
            [
             0.6666666666666666,
             "#ed7953"
            ],
            [
             0.7777777777777778,
             "#fb9f3a"
            ],
            [
             0.8888888888888888,
             "#fdca26"
            ],
            [
             1,
             "#f0f921"
            ]
           ]
          },
          "colorway": [
           "#636efa",
           "#EF553B",
           "#00cc96",
           "#ab63fa",
           "#FFA15A",
           "#19d3f3",
           "#FF6692",
           "#B6E880",
           "#FF97FF",
           "#FECB52"
          ],
          "font": {
           "color": "#2a3f5f"
          },
          "geo": {
           "bgcolor": "white",
           "lakecolor": "white",
           "landcolor": "#E5ECF6",
           "showlakes": true,
           "showland": true,
           "subunitcolor": "white"
          },
          "hoverlabel": {
           "align": "left"
          },
          "hovermode": "closest",
          "mapbox": {
           "style": "light"
          },
          "paper_bgcolor": "white",
          "plot_bgcolor": "#E5ECF6",
          "polar": {
           "angularaxis": {
            "gridcolor": "white",
            "linecolor": "white",
            "ticks": ""
           },
           "bgcolor": "#E5ECF6",
           "radialaxis": {
            "gridcolor": "white",
            "linecolor": "white",
            "ticks": ""
           }
          },
          "scene": {
           "xaxis": {
            "backgroundcolor": "#E5ECF6",
            "gridcolor": "white",
            "gridwidth": 2,
            "linecolor": "white",
            "showbackground": true,
            "ticks": "",
            "zerolinecolor": "white"
           },
           "yaxis": {
            "backgroundcolor": "#E5ECF6",
            "gridcolor": "white",
            "gridwidth": 2,
            "linecolor": "white",
            "showbackground": true,
            "ticks": "",
            "zerolinecolor": "white"
           },
           "zaxis": {
            "backgroundcolor": "#E5ECF6",
            "gridcolor": "white",
            "gridwidth": 2,
            "linecolor": "white",
            "showbackground": true,
            "ticks": "",
            "zerolinecolor": "white"
           }
          },
          "shapedefaults": {
           "line": {
            "color": "#2a3f5f"
           }
          },
          "ternary": {
           "aaxis": {
            "gridcolor": "white",
            "linecolor": "white",
            "ticks": ""
           },
           "baxis": {
            "gridcolor": "white",
            "linecolor": "white",
            "ticks": ""
           },
           "bgcolor": "#E5ECF6",
           "caxis": {
            "gridcolor": "white",
            "linecolor": "white",
            "ticks": ""
           }
          },
          "title": {
           "x": 0.05
          },
          "xaxis": {
           "automargin": true,
           "gridcolor": "white",
           "linecolor": "white",
           "ticks": "",
           "title": {
            "standoff": 15
           },
           "zerolinecolor": "white",
           "zerolinewidth": 2
          },
          "yaxis": {
           "automargin": true,
           "gridcolor": "white",
           "linecolor": "white",
           "ticks": "",
           "title": {
            "standoff": 15
           },
           "zerolinecolor": "white",
           "zerolinewidth": 2
          }
         }
        },
        "title": {
         "text": "Posts on Medium (weekly)"
        }
       }
      },
      "text/html": [
       "<div>                            <div id=\"9a44db75-7c17-4b1c-8751-ecd075e8d5e8\" class=\"plotly-graph-div\" style=\"height:525px; width:100%;\"></div>            <script type=\"text/javascript\">                require([\"plotly\"], function(Plotly) {                    window.PLOTLYENV=window.PLOTLYENV || {};                                    if (document.getElementById(\"9a44db75-7c17-4b1c-8751-ecd075e8d5e8\")) {                    Plotly.newPlot(                        \"9a44db75-7c17-4b1c-8751-ecd075e8d5e8\",                        [{\"mode\":\"lines\",\"name\":\"posts\",\"type\":\"scatter\",\"x\":[\"2012-08-19T00:00:00+00:00\",\"2012-08-26T00:00:00+00:00\",\"2012-09-02T00:00:00+00:00\",\"2012-09-09T00:00:00+00:00\",\"2012-09-16T00:00:00+00:00\",\"2012-09-23T00:00:00+00:00\",\"2012-09-30T00:00:00+00:00\",\"2012-10-07T00:00:00+00:00\",\"2012-10-14T00:00:00+00:00\",\"2012-10-21T00:00:00+00:00\",\"2012-10-28T00:00:00+00:00\",\"2012-11-04T00:00:00+00:00\",\"2012-11-11T00:00:00+00:00\",\"2012-11-18T00:00:00+00:00\",\"2012-11-25T00:00:00+00:00\",\"2012-12-02T00:00:00+00:00\",\"2012-12-09T00:00:00+00:00\",\"2012-12-16T00:00:00+00:00\",\"2012-12-23T00:00:00+00:00\",\"2012-12-30T00:00:00+00:00\",\"2013-01-06T00:00:00+00:00\",\"2013-01-13T00:00:00+00:00\",\"2013-01-20T00:00:00+00:00\",\"2013-01-27T00:00:00+00:00\",\"2013-02-03T00:00:00+00:00\",\"2013-02-10T00:00:00+00:00\",\"2013-02-17T00:00:00+00:00\",\"2013-02-24T00:00:00+00:00\",\"2013-03-03T00:00:00+00:00\",\"2013-03-10T00:00:00+00:00\",\"2013-03-17T00:00:00+00:00\",\"2013-03-24T00:00:00+00:00\",\"2013-03-31T00:00:00+00:00\",\"2013-04-07T00:00:00+00:00\",\"2013-04-14T00:00:00+00:00\",\"2013-04-21T00:00:00+00:00\",\"2013-04-28T00:00:00+00:00\",\"2013-05-05T00:00:00+00:00\",\"2013-05-12T00:00:00+00:00\",\"2013-05-19T00:00:00+00:00\",\"2013-05-26T00:00:00+00:00\",\"2013-06-02T00:00:00+00:00\",\"2013-06-09T00:00:00+00:00\",\"2013-06-16T00:00:00+00:00\",\"2013-06-23T00:00:00+00:00\",\"2013-06-30T00:00:00+00:00\",\"2013-07-07T00:00:00+00:00\",\"2013-07-14T00:00:00+00:00\",\"2013-07-21T00:00:00+00:00\",\"2013-07-28T00:00:00+00:00\",\"2013-08-04T00:00:00+00:00\",\"2013-08-11T00:00:00+00:00\",\"2013-08-18T00:00:00+00:00\",\"2013-08-25T00:00:00+00:00\",\"2013-09-01T00:00:00+00:00\",\"2013-09-08T00:00:00+00:00\",\"2013-09-15T00:00:00+00:00\",\"2013-09-22T00:00:00+00:00\",\"2013-09-29T00:00:00+00:00\",\"2013-10-06T00:00:00+00:00\",\"2013-10-13T00:00:00+00:00\",\"2013-10-20T00:00:00+00:00\",\"2013-10-27T00:00:00+00:00\",\"2013-11-03T00:00:00+00:00\",\"2013-11-10T00:00:00+00:00\",\"2013-11-17T00:00:00+00:00\",\"2013-11-24T00:00:00+00:00\",\"2013-12-01T00:00:00+00:00\",\"2013-12-08T00:00:00+00:00\",\"2013-12-15T00:00:00+00:00\",\"2013-12-22T00:00:00+00:00\",\"2013-12-29T00:00:00+00:00\",\"2014-01-05T00:00:00+00:00\",\"2014-01-12T00:00:00+00:00\",\"2014-01-19T00:00:00+00:00\",\"2014-01-26T00:00:00+00:00\",\"2014-02-02T00:00:00+00:00\",\"2014-02-09T00:00:00+00:00\",\"2014-02-16T00:00:00+00:00\",\"2014-02-23T00:00:00+00:00\",\"2014-03-02T00:00:00+00:00\",\"2014-03-09T00:00:00+00:00\",\"2014-03-16T00:00:00+00:00\",\"2014-03-23T00:00:00+00:00\",\"2014-03-30T00:00:00+00:00\",\"2014-04-06T00:00:00+00:00\",\"2014-04-13T00:00:00+00:00\",\"2014-04-20T00:00:00+00:00\",\"2014-04-27T00:00:00+00:00\",\"2014-05-04T00:00:00+00:00\",\"2014-05-11T00:00:00+00:00\",\"2014-05-18T00:00:00+00:00\",\"2014-05-25T00:00:00+00:00\",\"2014-06-01T00:00:00+00:00\",\"2014-06-08T00:00:00+00:00\",\"2014-06-15T00:00:00+00:00\",\"2014-06-22T00:00:00+00:00\",\"2014-06-29T00:00:00+00:00\",\"2014-07-06T00:00:00+00:00\",\"2014-07-13T00:00:00+00:00\",\"2014-07-20T00:00:00+00:00\",\"2014-07-27T00:00:00+00:00\",\"2014-08-03T00:00:00+00:00\",\"2014-08-10T00:00:00+00:00\",\"2014-08-17T00:00:00+00:00\",\"2014-08-24T00:00:00+00:00\",\"2014-08-31T00:00:00+00:00\",\"2014-09-07T00:00:00+00:00\",\"2014-09-14T00:00:00+00:00\",\"2014-09-21T00:00:00+00:00\",\"2014-09-28T00:00:00+00:00\",\"2014-10-05T00:00:00+00:00\",\"2014-10-12T00:00:00+00:00\",\"2014-10-19T00:00:00+00:00\",\"2014-10-26T00:00:00+00:00\",\"2014-11-02T00:00:00+00:00\",\"2014-11-09T00:00:00+00:00\",\"2014-11-16T00:00:00+00:00\",\"2014-11-23T00:00:00+00:00\",\"2014-11-30T00:00:00+00:00\",\"2014-12-07T00:00:00+00:00\",\"2014-12-14T00:00:00+00:00\",\"2014-12-21T00:00:00+00:00\",\"2014-12-28T00:00:00+00:00\",\"2015-01-04T00:00:00+00:00\",\"2015-01-11T00:00:00+00:00\",\"2015-01-18T00:00:00+00:00\",\"2015-01-25T00:00:00+00:00\",\"2015-02-01T00:00:00+00:00\",\"2015-02-08T00:00:00+00:00\",\"2015-02-15T00:00:00+00:00\",\"2015-02-22T00:00:00+00:00\",\"2015-03-01T00:00:00+00:00\",\"2015-03-08T00:00:00+00:00\",\"2015-03-15T00:00:00+00:00\",\"2015-03-22T00:00:00+00:00\",\"2015-03-29T00:00:00+00:00\",\"2015-04-05T00:00:00+00:00\",\"2015-04-12T00:00:00+00:00\",\"2015-04-19T00:00:00+00:00\",\"2015-04-26T00:00:00+00:00\",\"2015-05-03T00:00:00+00:00\",\"2015-05-10T00:00:00+00:00\",\"2015-05-17T00:00:00+00:00\",\"2015-05-24T00:00:00+00:00\",\"2015-05-31T00:00:00+00:00\",\"2015-06-07T00:00:00+00:00\",\"2015-06-14T00:00:00+00:00\",\"2015-06-21T00:00:00+00:00\",\"2015-06-28T00:00:00+00:00\",\"2015-07-05T00:00:00+00:00\",\"2015-07-12T00:00:00+00:00\",\"2015-07-19T00:00:00+00:00\",\"2015-07-26T00:00:00+00:00\",\"2015-08-02T00:00:00+00:00\",\"2015-08-09T00:00:00+00:00\",\"2015-08-16T00:00:00+00:00\",\"2015-08-23T00:00:00+00:00\",\"2015-08-30T00:00:00+00:00\",\"2015-09-06T00:00:00+00:00\",\"2015-09-13T00:00:00+00:00\",\"2015-09-20T00:00:00+00:00\",\"2015-09-27T00:00:00+00:00\",\"2015-10-04T00:00:00+00:00\",\"2015-10-11T00:00:00+00:00\",\"2015-10-18T00:00:00+00:00\",\"2015-10-25T00:00:00+00:00\",\"2015-11-01T00:00:00+00:00\",\"2015-11-08T00:00:00+00:00\",\"2015-11-15T00:00:00+00:00\",\"2015-11-22T00:00:00+00:00\",\"2015-11-29T00:00:00+00:00\",\"2015-12-06T00:00:00+00:00\",\"2015-12-13T00:00:00+00:00\",\"2015-12-20T00:00:00+00:00\",\"2015-12-27T00:00:00+00:00\",\"2016-01-03T00:00:00+00:00\",\"2016-01-10T00:00:00+00:00\",\"2016-01-17T00:00:00+00:00\",\"2016-01-24T00:00:00+00:00\",\"2016-01-31T00:00:00+00:00\",\"2016-02-07T00:00:00+00:00\",\"2016-02-14T00:00:00+00:00\",\"2016-02-21T00:00:00+00:00\",\"2016-02-28T00:00:00+00:00\",\"2016-03-06T00:00:00+00:00\",\"2016-03-13T00:00:00+00:00\",\"2016-03-20T00:00:00+00:00\",\"2016-03-27T00:00:00+00:00\",\"2016-04-03T00:00:00+00:00\",\"2016-04-10T00:00:00+00:00\",\"2016-04-17T00:00:00+00:00\",\"2016-04-24T00:00:00+00:00\",\"2016-05-01T00:00:00+00:00\",\"2016-05-08T00:00:00+00:00\",\"2016-05-15T00:00:00+00:00\",\"2016-05-22T00:00:00+00:00\",\"2016-05-29T00:00:00+00:00\",\"2016-06-05T00:00:00+00:00\",\"2016-06-12T00:00:00+00:00\",\"2016-06-19T00:00:00+00:00\",\"2016-06-26T00:00:00+00:00\",\"2016-07-03T00:00:00+00:00\",\"2016-07-10T00:00:00+00:00\",\"2016-07-17T00:00:00+00:00\",\"2016-07-24T00:00:00+00:00\",\"2016-07-31T00:00:00+00:00\",\"2016-08-07T00:00:00+00:00\",\"2016-08-14T00:00:00+00:00\",\"2016-08-21T00:00:00+00:00\",\"2016-08-28T00:00:00+00:00\",\"2016-09-04T00:00:00+00:00\",\"2016-09-11T00:00:00+00:00\",\"2016-09-18T00:00:00+00:00\",\"2016-09-25T00:00:00+00:00\",\"2016-10-02T00:00:00+00:00\",\"2016-10-09T00:00:00+00:00\",\"2016-10-16T00:00:00+00:00\",\"2016-10-23T00:00:00+00:00\",\"2016-10-30T00:00:00+00:00\",\"2016-11-06T00:00:00+00:00\",\"2016-11-13T00:00:00+00:00\",\"2016-11-20T00:00:00+00:00\",\"2016-11-27T00:00:00+00:00\",\"2016-12-04T00:00:00+00:00\",\"2016-12-11T00:00:00+00:00\",\"2016-12-18T00:00:00+00:00\",\"2016-12-25T00:00:00+00:00\",\"2017-01-01T00:00:00+00:00\",\"2017-01-08T00:00:00+00:00\",\"2017-01-15T00:00:00+00:00\",\"2017-01-22T00:00:00+00:00\",\"2017-01-29T00:00:00+00:00\",\"2017-02-05T00:00:00+00:00\",\"2017-02-12T00:00:00+00:00\",\"2017-02-19T00:00:00+00:00\",\"2017-02-26T00:00:00+00:00\",\"2017-03-05T00:00:00+00:00\",\"2017-03-12T00:00:00+00:00\",\"2017-03-19T00:00:00+00:00\",\"2017-03-26T00:00:00+00:00\",\"2017-04-02T00:00:00+00:00\",\"2017-04-09T00:00:00+00:00\",\"2017-04-16T00:00:00+00:00\",\"2017-04-23T00:00:00+00:00\",\"2017-04-30T00:00:00+00:00\",\"2017-05-07T00:00:00+00:00\",\"2017-05-14T00:00:00+00:00\",\"2017-05-21T00:00:00+00:00\",\"2017-05-28T00:00:00+00:00\",\"2017-06-04T00:00:00+00:00\",\"2017-06-11T00:00:00+00:00\",\"2017-06-18T00:00:00+00:00\",\"2017-06-25T00:00:00+00:00\"],\"y\":[34,4,1,3,4,2,1,1,3,3,3,3,2,17,6,5,5,5,2,3,6,5,5,4,9,5,8,8,9,4,9,10,13,10,17,18,16,24,24,19,23,28,27,40,35,27,32,20,34,25,30,26,34,42,32,27,33,37,38,32,31,35,46,39,39,41,56,34,40,42,35,22,40,52,45,47,62,48,56,52,39,53,38,71,57,42,61,46,54,62,54,58,57,68,57,54,53,57,58,55,53,51,52,57,65,62,65,58,59,56,73,75,78,93,97,97,85,84,71,81,88,86,97,74,110,128,128,132,120,118,138,107,173,144,151,152,132,159,147,131,132,169,162,170,179,169,192,191,180,199,189,196,229,188,212,214,268,280,250,270,281,259,285,308,416,395,421,419,431,409,351,297,350,407,379,284,383,492,511,457,500,554,556,554,630,610,602,566,595,555,563,570,535,560,538,551,559,505,564,603,669,663,654,660,701,650,737,712,653,690,698,696,664,764,753,788,800,848,845,862,856,1055,1002,879,886,1009,947,908,950,1073,1148,1127,1182,1318,1229,1226,1240,1311,1343,1305,1398,1424,1467,1469,1654,1746,1740,1726,2040,2000,2153,2007,2163,2639]}],                        {\"template\":{\"data\":{\"bar\":[{\"error_x\":{\"color\":\"#2a3f5f\"},\"error_y\":{\"color\":\"#2a3f5f\"},\"marker\":{\"line\":{\"color\":\"#E5ECF6\",\"width\":0.5},\"pattern\":{\"fillmode\":\"overlay\",\"size\":10,\"solidity\":0.2}},\"type\":\"bar\"}],\"barpolar\":[{\"marker\":{\"line\":{\"color\":\"#E5ECF6\",\"width\":0.5},\"pattern\":{\"fillmode\":\"overlay\",\"size\":10,\"solidity\":0.2}},\"type\":\"barpolar\"}],\"carpet\":[{\"aaxis\":{\"endlinecolor\":\"#2a3f5f\",\"gridcolor\":\"white\",\"linecolor\":\"white\",\"minorgridcolor\":\"white\",\"startlinecolor\":\"#2a3f5f\"},\"baxis\":{\"endlinecolor\":\"#2a3f5f\",\"gridcolor\":\"white\",\"linecolor\":\"white\",\"minorgridcolor\":\"white\",\"startlinecolor\":\"#2a3f5f\"},\"type\":\"carpet\"}],\"choropleth\":[{\"colorbar\":{\"outlinewidth\":0,\"ticks\":\"\"},\"type\":\"choropleth\"}],\"contour\":[{\"colorbar\":{\"outlinewidth\":0,\"ticks\":\"\"},\"colorscale\":[[0.0,\"#0d0887\"],[0.1111111111111111,\"#46039f\"],[0.2222222222222222,\"#7201a8\"],[0.3333333333333333,\"#9c179e\"],[0.4444444444444444,\"#bd3786\"],[0.5555555555555556,\"#d8576b\"],[0.6666666666666666,\"#ed7953\"],[0.7777777777777778,\"#fb9f3a\"],[0.8888888888888888,\"#fdca26\"],[1.0,\"#f0f921\"]],\"type\":\"contour\"}],\"contourcarpet\":[{\"colorbar\":{\"outlinewidth\":0,\"ticks\":\"\"},\"type\":\"contourcarpet\"}],\"heatmap\":[{\"colorbar\":{\"outlinewidth\":0,\"ticks\":\"\"},\"colorscale\":[[0.0,\"#0d0887\"],[0.1111111111111111,\"#46039f\"],[0.2222222222222222,\"#7201a8\"],[0.3333333333333333,\"#9c179e\"],[0.4444444444444444,\"#bd3786\"],[0.5555555555555556,\"#d8576b\"],[0.6666666666666666,\"#ed7953\"],[0.7777777777777778,\"#fb9f3a\"],[0.8888888888888888,\"#fdca26\"],[1.0,\"#f0f921\"]],\"type\":\"heatmap\"}],\"heatmapgl\":[{\"colorbar\":{\"outlinewidth\":0,\"ticks\":\"\"},\"colorscale\":[[0.0,\"#0d0887\"],[0.1111111111111111,\"#46039f\"],[0.2222222222222222,\"#7201a8\"],[0.3333333333333333,\"#9c179e\"],[0.4444444444444444,\"#bd3786\"],[0.5555555555555556,\"#d8576b\"],[0.6666666666666666,\"#ed7953\"],[0.7777777777777778,\"#fb9f3a\"],[0.8888888888888888,\"#fdca26\"],[1.0,\"#f0f921\"]],\"type\":\"heatmapgl\"}],\"histogram\":[{\"marker\":{\"pattern\":{\"fillmode\":\"overlay\",\"size\":10,\"solidity\":0.2}},\"type\":\"histogram\"}],\"histogram2d\":[{\"colorbar\":{\"outlinewidth\":0,\"ticks\":\"\"},\"colorscale\":[[0.0,\"#0d0887\"],[0.1111111111111111,\"#46039f\"],[0.2222222222222222,\"#7201a8\"],[0.3333333333333333,\"#9c179e\"],[0.4444444444444444,\"#bd3786\"],[0.5555555555555556,\"#d8576b\"],[0.6666666666666666,\"#ed7953\"],[0.7777777777777778,\"#fb9f3a\"],[0.8888888888888888,\"#fdca26\"],[1.0,\"#f0f921\"]],\"type\":\"histogram2d\"}],\"histogram2dcontour\":[{\"colorbar\":{\"outlinewidth\":0,\"ticks\":\"\"},\"colorscale\":[[0.0,\"#0d0887\"],[0.1111111111111111,\"#46039f\"],[0.2222222222222222,\"#7201a8\"],[0.3333333333333333,\"#9c179e\"],[0.4444444444444444,\"#bd3786\"],[0.5555555555555556,\"#d8576b\"],[0.6666666666666666,\"#ed7953\"],[0.7777777777777778,\"#fb9f3a\"],[0.8888888888888888,\"#fdca26\"],[1.0,\"#f0f921\"]],\"type\":\"histogram2dcontour\"}],\"mesh3d\":[{\"colorbar\":{\"outlinewidth\":0,\"ticks\":\"\"},\"type\":\"mesh3d\"}],\"parcoords\":[{\"line\":{\"colorbar\":{\"outlinewidth\":0,\"ticks\":\"\"}},\"type\":\"parcoords\"}],\"pie\":[{\"automargin\":true,\"type\":\"pie\"}],\"scatter\":[{\"marker\":{\"colorbar\":{\"outlinewidth\":0,\"ticks\":\"\"}},\"type\":\"scatter\"}],\"scatter3d\":[{\"line\":{\"colorbar\":{\"outlinewidth\":0,\"ticks\":\"\"}},\"marker\":{\"colorbar\":{\"outlinewidth\":0,\"ticks\":\"\"}},\"type\":\"scatter3d\"}],\"scattercarpet\":[{\"marker\":{\"colorbar\":{\"outlinewidth\":0,\"ticks\":\"\"}},\"type\":\"scattercarpet\"}],\"scattergeo\":[{\"marker\":{\"colorbar\":{\"outlinewidth\":0,\"ticks\":\"\"}},\"type\":\"scattergeo\"}],\"scattergl\":[{\"marker\":{\"colorbar\":{\"outlinewidth\":0,\"ticks\":\"\"}},\"type\":\"scattergl\"}],\"scattermapbox\":[{\"marker\":{\"colorbar\":{\"outlinewidth\":0,\"ticks\":\"\"}},\"type\":\"scattermapbox\"}],\"scatterpolar\":[{\"marker\":{\"colorbar\":{\"outlinewidth\":0,\"ticks\":\"\"}},\"type\":\"scatterpolar\"}],\"scatterpolargl\":[{\"marker\":{\"colorbar\":{\"outlinewidth\":0,\"ticks\":\"\"}},\"type\":\"scatterpolargl\"}],\"scatterternary\":[{\"marker\":{\"colorbar\":{\"outlinewidth\":0,\"ticks\":\"\"}},\"type\":\"scatterternary\"}],\"surface\":[{\"colorbar\":{\"outlinewidth\":0,\"ticks\":\"\"},\"colorscale\":[[0.0,\"#0d0887\"],[0.1111111111111111,\"#46039f\"],[0.2222222222222222,\"#7201a8\"],[0.3333333333333333,\"#9c179e\"],[0.4444444444444444,\"#bd3786\"],[0.5555555555555556,\"#d8576b\"],[0.6666666666666666,\"#ed7953\"],[0.7777777777777778,\"#fb9f3a\"],[0.8888888888888888,\"#fdca26\"],[1.0,\"#f0f921\"]],\"type\":\"surface\"}],\"table\":[{\"cells\":{\"fill\":{\"color\":\"#EBF0F8\"},\"line\":{\"color\":\"white\"}},\"header\":{\"fill\":{\"color\":\"#C8D4E3\"},\"line\":{\"color\":\"white\"}},\"type\":\"table\"}]},\"layout\":{\"annotationdefaults\":{\"arrowcolor\":\"#2a3f5f\",\"arrowhead\":0,\"arrowwidth\":1},\"autotypenumbers\":\"strict\",\"coloraxis\":{\"colorbar\":{\"outlinewidth\":0,\"ticks\":\"\"}},\"colorscale\":{\"diverging\":[[0,\"#8e0152\"],[0.1,\"#c51b7d\"],[0.2,\"#de77ae\"],[0.3,\"#f1b6da\"],[0.4,\"#fde0ef\"],[0.5,\"#f7f7f7\"],[0.6,\"#e6f5d0\"],[0.7,\"#b8e186\"],[0.8,\"#7fbc41\"],[0.9,\"#4d9221\"],[1,\"#276419\"]],\"sequential\":[[0.0,\"#0d0887\"],[0.1111111111111111,\"#46039f\"],[0.2222222222222222,\"#7201a8\"],[0.3333333333333333,\"#9c179e\"],[0.4444444444444444,\"#bd3786\"],[0.5555555555555556,\"#d8576b\"],[0.6666666666666666,\"#ed7953\"],[0.7777777777777778,\"#fb9f3a\"],[0.8888888888888888,\"#fdca26\"],[1.0,\"#f0f921\"]],\"sequentialminus\":[[0.0,\"#0d0887\"],[0.1111111111111111,\"#46039f\"],[0.2222222222222222,\"#7201a8\"],[0.3333333333333333,\"#9c179e\"],[0.4444444444444444,\"#bd3786\"],[0.5555555555555556,\"#d8576b\"],[0.6666666666666666,\"#ed7953\"],[0.7777777777777778,\"#fb9f3a\"],[0.8888888888888888,\"#fdca26\"],[1.0,\"#f0f921\"]]},\"colorway\":[\"#636efa\",\"#EF553B\",\"#00cc96\",\"#ab63fa\",\"#FFA15A\",\"#19d3f3\",\"#FF6692\",\"#B6E880\",\"#FF97FF\",\"#FECB52\"],\"font\":{\"color\":\"#2a3f5f\"},\"geo\":{\"bgcolor\":\"white\",\"lakecolor\":\"white\",\"landcolor\":\"#E5ECF6\",\"showlakes\":true,\"showland\":true,\"subunitcolor\":\"white\"},\"hoverlabel\":{\"align\":\"left\"},\"hovermode\":\"closest\",\"mapbox\":{\"style\":\"light\"},\"paper_bgcolor\":\"white\",\"plot_bgcolor\":\"#E5ECF6\",\"polar\":{\"angularaxis\":{\"gridcolor\":\"white\",\"linecolor\":\"white\",\"ticks\":\"\"},\"bgcolor\":\"#E5ECF6\",\"radialaxis\":{\"gridcolor\":\"white\",\"linecolor\":\"white\",\"ticks\":\"\"}},\"scene\":{\"xaxis\":{\"backgroundcolor\":\"#E5ECF6\",\"gridcolor\":\"white\",\"gridwidth\":2,\"linecolor\":\"white\",\"showbackground\":true,\"ticks\":\"\",\"zerolinecolor\":\"white\"},\"yaxis\":{\"backgroundcolor\":\"#E5ECF6\",\"gridcolor\":\"white\",\"gridwidth\":2,\"linecolor\":\"white\",\"showbackground\":true,\"ticks\":\"\",\"zerolinecolor\":\"white\"},\"zaxis\":{\"backgroundcolor\":\"#E5ECF6\",\"gridcolor\":\"white\",\"gridwidth\":2,\"linecolor\":\"white\",\"showbackground\":true,\"ticks\":\"\",\"zerolinecolor\":\"white\"}},\"shapedefaults\":{\"line\":{\"color\":\"#2a3f5f\"}},\"ternary\":{\"aaxis\":{\"gridcolor\":\"white\",\"linecolor\":\"white\",\"ticks\":\"\"},\"baxis\":{\"gridcolor\":\"white\",\"linecolor\":\"white\",\"ticks\":\"\"},\"bgcolor\":\"#E5ECF6\",\"caxis\":{\"gridcolor\":\"white\",\"linecolor\":\"white\",\"ticks\":\"\"}},\"title\":{\"x\":0.05},\"xaxis\":{\"automargin\":true,\"gridcolor\":\"white\",\"linecolor\":\"white\",\"ticks\":\"\",\"title\":{\"standoff\":15},\"zerolinecolor\":\"white\",\"zerolinewidth\":2},\"yaxis\":{\"automargin\":true,\"gridcolor\":\"white\",\"linecolor\":\"white\",\"ticks\":\"\",\"title\":{\"standoff\":15},\"zerolinecolor\":\"white\",\"zerolinewidth\":2}}},\"title\":{\"text\":\"Posts on Medium (weekly)\"}},                        {\"responsive\": true}                    ).then(function(){\n",
       "                            \n",
       "var gd = document.getElementById('9a44db75-7c17-4b1c-8751-ecd075e8d5e8');\n",
       "var x = new MutationObserver(function (mutations, observer) {{\n",
       "        var display = window.getComputedStyle(gd).display;\n",
       "        if (!display || display === 'none') {{\n",
       "            console.log([gd, 'removed!']);\n",
       "            Plotly.purge(gd);\n",
       "            observer.disconnect();\n",
       "        }}\n",
       "}});\n",
       "\n",
       "// Listen for the removal of the full notebook cells\n",
       "var notebookContainer = gd.closest('#notebook-container');\n",
       "if (notebookContainer) {{\n",
       "    x.observe(notebookContainer, {childList: true});\n",
       "}}\n",
       "\n",
       "// Listen for the clearing of the current output cell\n",
       "var outputEl = gd.closest('.output');\n",
       "if (outputEl) {{\n",
       "    x.observe(outputEl, {childList: true});\n",
       "}}\n",
       "\n",
       "                        })                };                });            </script>        </div>"
      ]
     },
     "metadata": {},
     "output_type": "display_data"
    }
   ],
   "source": [
    "plotly_df(weekly_df, title='Posts on Medium (weekly)')"
   ]
  },
  {
   "cell_type": "markdown",
   "id": "77228d4d",
   "metadata": {
    "papermill": {
     "duration": 0.070691,
     "end_time": "2021-08-24T14:01:49.704224",
     "exception": false,
     "start_time": "2021-08-24T14:01:49.633533",
     "status": "completed"
    },
    "slideshow": {
     "slide_type": "slide"
    },
    "tags": []
   },
   "source": [
    "Coba kita experiment pakai data dari mulai January 2015"
   ]
  },
  {
   "cell_type": "code",
   "execution_count": 17,
   "id": "4d43c04d",
   "metadata": {
    "execution": {
     "iopub.execute_input": "2021-08-24T14:01:49.856111Z",
     "iopub.status.busy": "2021-08-24T14:01:49.850936Z",
     "iopub.status.idle": "2021-08-24T14:01:49.859308Z",
     "shell.execute_reply": "2021-08-24T14:01:49.859827Z",
     "shell.execute_reply.started": "2021-08-24T14:00:48.652643Z"
    },
    "papermill": {
     "duration": 0.08458,
     "end_time": "2021-08-24T14:01:49.860007",
     "exception": false,
     "start_time": "2021-08-24T14:01:49.775427",
     "status": "completed"
    },
    "slideshow": {
     "slide_type": "slide"
    },
    "tags": []
   },
   "outputs": [
    {
     "data": {
      "text/html": [
       "<div>\n",
       "<style scoped>\n",
       "    .dataframe tbody tr th:only-of-type {\n",
       "        vertical-align: middle;\n",
       "    }\n",
       "\n",
       "    .dataframe tbody tr th {\n",
       "        vertical-align: top;\n",
       "    }\n",
       "\n",
       "    .dataframe thead th {\n",
       "        text-align: right;\n",
       "    }\n",
       "</style>\n",
       "<table border=\"1\" class=\"dataframe\">\n",
       "  <thead>\n",
       "    <tr style=\"text-align: right;\">\n",
       "      <th></th>\n",
       "      <th>posts</th>\n",
       "    </tr>\n",
       "    <tr>\n",
       "      <th>published</th>\n",
       "      <th></th>\n",
       "    </tr>\n",
       "  </thead>\n",
       "  <tbody>\n",
       "    <tr>\n",
       "      <th>2015-01-01 00:00:00+00:00</th>\n",
       "      <td>8</td>\n",
       "    </tr>\n",
       "    <tr>\n",
       "      <th>2015-01-02 00:00:00+00:00</th>\n",
       "      <td>11</td>\n",
       "    </tr>\n",
       "    <tr>\n",
       "      <th>2015-01-03 00:00:00+00:00</th>\n",
       "      <td>11</td>\n",
       "    </tr>\n",
       "  </tbody>\n",
       "</table>\n",
       "</div>"
      ],
      "text/plain": [
       "                           posts\n",
       "published                       \n",
       "2015-01-01 00:00:00+00:00      8\n",
       "2015-01-02 00:00:00+00:00     11\n",
       "2015-01-03 00:00:00+00:00     11"
      ]
     },
     "execution_count": 17,
     "metadata": {},
     "output_type": "execute_result"
    }
   ],
   "source": [
    "daily_df = daily_df.loc[daily_df.index >= '2015-01-01']\n",
    "daily_df.head(n=3)"
   ]
  },
  {
   "cell_type": "markdown",
   "id": "560a6796",
   "metadata": {
    "_uuid": "7420b1187d7e3fbe55291838aa161e535b35b332",
    "papermill": {
     "duration": 0.069865,
     "end_time": "2021-08-24T14:01:50.001085",
     "exception": false,
     "start_time": "2021-08-24T14:01:49.931220",
     "status": "completed"
    },
    "slideshow": {
     "slide_type": "slide"
    },
    "tags": []
   },
   "source": [
    "### Prediksi dengan Fb Prophet"
   ]
  },
  {
   "cell_type": "code",
   "execution_count": 18,
   "id": "14a79376",
   "metadata": {
    "_uuid": "c7983c563a26ec9a1d3b52cee5bdf3b1f3a451f8",
    "execution": {
     "iopub.execute_input": "2021-08-24T14:01:50.146671Z",
     "iopub.status.busy": "2021-08-24T14:01:50.145991Z",
     "iopub.status.idle": "2021-08-24T14:01:50.491374Z",
     "shell.execute_reply": "2021-08-24T14:01:50.489900Z",
     "shell.execute_reply.started": "2021-08-24T14:00:48.669102Z"
    },
    "papermill": {
     "duration": 0.418503,
     "end_time": "2021-08-24T14:01:50.491532",
     "exception": false,
     "start_time": "2021-08-24T14:01:50.073029",
     "status": "completed"
    },
    "slideshow": {
     "slide_type": "slide"
    },
    "tags": []
   },
   "outputs": [],
   "source": [
    "from fbprophet import Prophet\n",
    "\n",
    "import logging\n",
    "logging.getLogger().setLevel(logging.ERROR)"
   ]
  },
  {
   "cell_type": "markdown",
   "id": "f35fcf97",
   "metadata": {
    "_uuid": "f20d80f732de63a0c3fbeb9febfa14dc09cf84ba",
    "papermill": {
     "duration": 0.071545,
     "end_time": "2021-08-24T14:01:50.634139",
     "exception": false,
     "start_time": "2021-08-24T14:01:50.562594",
     "status": "completed"
    },
    "slideshow": {
     "slide_type": "slide"
    },
    "tags": []
   },
   "source": [
    "Convert data sesuai dengan format Fb prophet"
   ]
  },
  {
   "cell_type": "code",
   "execution_count": 19,
   "id": "495fa3b9",
   "metadata": {
    "_uuid": "cac038f6ada5656f64c66b0aba15a9d17dccc49d",
    "execution": {
     "iopub.execute_input": "2021-08-24T14:01:50.788463Z",
     "iopub.status.busy": "2021-08-24T14:01:50.787520Z",
     "iopub.status.idle": "2021-08-24T14:01:50.791506Z",
     "shell.execute_reply": "2021-08-24T14:01:50.791949Z",
     "shell.execute_reply.started": "2021-08-24T14:00:48.677214Z"
    },
    "papermill": {
     "duration": 0.086938,
     "end_time": "2021-08-24T14:01:50.792133",
     "exception": false,
     "start_time": "2021-08-24T14:01:50.705195",
     "status": "completed"
    },
    "slideshow": {
     "slide_type": "slide"
    },
    "tags": []
   },
   "outputs": [
    {
     "data": {
      "text/html": [
       "<div>\n",
       "<style scoped>\n",
       "    .dataframe tbody tr th:only-of-type {\n",
       "        vertical-align: middle;\n",
       "    }\n",
       "\n",
       "    .dataframe tbody tr th {\n",
       "        vertical-align: top;\n",
       "    }\n",
       "\n",
       "    .dataframe thead th {\n",
       "        text-align: right;\n",
       "    }\n",
       "</style>\n",
       "<table border=\"1\" class=\"dataframe\">\n",
       "  <thead>\n",
       "    <tr style=\"text-align: right;\">\n",
       "      <th></th>\n",
       "      <th>ds</th>\n",
       "      <th>y</th>\n",
       "    </tr>\n",
       "  </thead>\n",
       "  <tbody>\n",
       "    <tr>\n",
       "      <th>904</th>\n",
       "      <td>2017-06-23</td>\n",
       "      <td>421</td>\n",
       "    </tr>\n",
       "    <tr>\n",
       "      <th>905</th>\n",
       "      <td>2017-06-24</td>\n",
       "      <td>277</td>\n",
       "    </tr>\n",
       "    <tr>\n",
       "      <th>906</th>\n",
       "      <td>2017-06-25</td>\n",
       "      <td>253</td>\n",
       "    </tr>\n",
       "  </tbody>\n",
       "</table>\n",
       "</div>"
      ],
      "text/plain": [
       "            ds    y\n",
       "904 2017-06-23  421\n",
       "905 2017-06-24  277\n",
       "906 2017-06-25  253"
      ]
     },
     "execution_count": 19,
     "metadata": {},
     "output_type": "execute_result"
    }
   ],
   "source": [
    "df = daily_df.reset_index()\n",
    "df.columns = ['ds', 'y']\n",
    "# converting timezones (issue https://github.com/facebook/prophet/issues/831)\n",
    "df['ds'] = df['ds'].dt.tz_convert(None)\n",
    "df.tail(n=3)"
   ]
  },
  {
   "cell_type": "markdown",
   "id": "8847c2e8",
   "metadata": {
    "_uuid": "7510811901df8007b2921b5b28b7b20f8d24474b",
    "papermill": {
     "duration": 0.070615,
     "end_time": "2021-08-24T14:01:50.934389",
     "exception": false,
     "start_time": "2021-08-24T14:01:50.863774",
     "status": "completed"
    },
    "slideshow": {
     "slide_type": "slide"
    },
    "tags": []
   },
   "source": [
    "Penulis Fb Prophet menyarankan untuk prediksi sebaiknnya menggunakan data minimum beberapa bulan atau lebih dari setahun historical data. Dalam kasus ini, kita punya data lebih dari setahun, jadi cukup untuk fit ke model. \n",
    "\n",
    "Untuk menghitung kualitas prediksi fb prophet, kita harus membagi dataset kita menjadi dua bagian, historical part, bagian terbesar dari data kita dan prediction part. Jadi kita akan menghapus data bulan terkahir dari dataset, bulan terkahir ini akan menjadi target prediksi, dan nanti kita bisa bandingan hasil prediksi dengan data yang sebenarnya. "
   ]
  },
  {
   "cell_type": "code",
   "execution_count": 20,
   "id": "79d375af",
   "metadata": {
    "_uuid": "3f4e58c215554e382ce2585c129ab8c7b37ce525",
    "execution": {
     "iopub.execute_input": "2021-08-24T14:01:51.110316Z",
     "iopub.status.busy": "2021-08-24T14:01:51.109096Z",
     "iopub.status.idle": "2021-08-24T14:01:51.113416Z",
     "shell.execute_reply": "2021-08-24T14:01:51.114069Z",
     "shell.execute_reply.started": "2021-08-24T14:00:48.700425Z"
    },
    "papermill": {
     "duration": 0.108983,
     "end_time": "2021-08-24T14:01:51.114249",
     "exception": false,
     "start_time": "2021-08-24T14:01:51.005266",
     "status": "completed"
    },
    "slideshow": {
     "slide_type": "slide"
    },
    "tags": []
   },
   "outputs": [
    {
     "data": {
      "text/html": [
       "<div>\n",
       "<style scoped>\n",
       "    .dataframe tbody tr th:only-of-type {\n",
       "        vertical-align: middle;\n",
       "    }\n",
       "\n",
       "    .dataframe tbody tr th {\n",
       "        vertical-align: top;\n",
       "    }\n",
       "\n",
       "    .dataframe thead th {\n",
       "        text-align: right;\n",
       "    }\n",
       "</style>\n",
       "<table border=\"1\" class=\"dataframe\">\n",
       "  <thead>\n",
       "    <tr style=\"text-align: right;\">\n",
       "      <th></th>\n",
       "      <th>ds</th>\n",
       "      <th>y</th>\n",
       "    </tr>\n",
       "  </thead>\n",
       "  <tbody>\n",
       "    <tr>\n",
       "      <th>874</th>\n",
       "      <td>2017-05-24</td>\n",
       "      <td>375</td>\n",
       "    </tr>\n",
       "    <tr>\n",
       "      <th>875</th>\n",
       "      <td>2017-05-25</td>\n",
       "      <td>298</td>\n",
       "    </tr>\n",
       "    <tr>\n",
       "      <th>876</th>\n",
       "      <td>2017-05-26</td>\n",
       "      <td>269</td>\n",
       "    </tr>\n",
       "  </tbody>\n",
       "</table>\n",
       "</div>"
      ],
      "text/plain": [
       "            ds    y\n",
       "874 2017-05-24  375\n",
       "875 2017-05-25  298\n",
       "876 2017-05-26  269"
      ]
     },
     "execution_count": 20,
     "metadata": {},
     "output_type": "execute_result"
    }
   ],
   "source": [
    "prediction_size = 30\n",
    "train_df = df[:-prediction_size]\n",
    "train_df.tail(n=3)"
   ]
  },
  {
   "cell_type": "markdown",
   "id": "eba63ece",
   "metadata": {
    "_uuid": "ccd10b2ad35545797c62411c8757c45e053a5334",
    "papermill": {
     "duration": 0.07078,
     "end_time": "2021-08-24T14:01:51.263325",
     "exception": false,
     "start_time": "2021-08-24T14:01:51.192545",
     "status": "completed"
    },
    "slideshow": {
     "slide_type": "slide"
    },
    "tags": []
   },
   "source": [
    "Cara simple fit model Fb prophet"
   ]
  },
  {
   "cell_type": "code",
   "execution_count": 21,
   "id": "14d77434",
   "metadata": {
    "_uuid": "ddffb110e2e0898fda7e1d3442574d9830d80e33",
    "execution": {
     "iopub.execute_input": "2021-08-24T14:01:51.410185Z",
     "iopub.status.busy": "2021-08-24T14:01:51.409530Z",
     "iopub.status.idle": "2021-08-24T14:01:53.564329Z",
     "shell.execute_reply": "2021-08-24T14:01:53.565092Z",
     "shell.execute_reply.started": "2021-08-24T14:00:48.721711Z"
    },
    "papermill": {
     "duration": 2.229787,
     "end_time": "2021-08-24T14:01:53.565300",
     "exception": false,
     "start_time": "2021-08-24T14:01:51.335513",
     "status": "completed"
    },
    "scrolled": true,
    "slideshow": {
     "slide_type": "slide"
    },
    "tags": []
   },
   "outputs": [],
   "source": [
    "m = Prophet()\n",
    "m.fit(train_df);"
   ]
  },
  {
   "cell_type": "markdown",
   "id": "382d195e",
   "metadata": {
    "_uuid": "e2b9d6300c1efa0c080be981ab08b0cf1a657910",
    "papermill": {
     "duration": 0.071471,
     "end_time": "2021-08-24T14:01:53.710302",
     "exception": false,
     "start_time": "2021-08-24T14:01:53.638831",
     "status": "completed"
    },
    "slideshow": {
     "slide_type": "slide"
    },
    "tags": []
   },
   "source": [
    "Gunakan `Prophet.make_future_dataframe`, untuk generate prediksi"
   ]
  },
  {
   "cell_type": "code",
   "execution_count": 22,
   "id": "07f390a5",
   "metadata": {
    "_uuid": "21c307e7b9ec18f5d516932caf724ea2d4b00a14",
    "execution": {
     "iopub.execute_input": "2021-08-24T14:01:53.864999Z",
     "iopub.status.busy": "2021-08-24T14:01:53.863999Z",
     "iopub.status.idle": "2021-08-24T14:01:53.868328Z",
     "shell.execute_reply": "2021-08-24T14:01:53.868827Z",
     "shell.execute_reply.started": "2021-08-24T14:00:49.086595Z"
    },
    "papermill": {
     "duration": 0.086849,
     "end_time": "2021-08-24T14:01:53.869023",
     "exception": false,
     "start_time": "2021-08-24T14:01:53.782174",
     "status": "completed"
    },
    "slideshow": {
     "slide_type": "slide"
    },
    "tags": []
   },
   "outputs": [
    {
     "data": {
      "text/html": [
       "<div>\n",
       "<style scoped>\n",
       "    .dataframe tbody tr th:only-of-type {\n",
       "        vertical-align: middle;\n",
       "    }\n",
       "\n",
       "    .dataframe tbody tr th {\n",
       "        vertical-align: top;\n",
       "    }\n",
       "\n",
       "    .dataframe thead th {\n",
       "        text-align: right;\n",
       "    }\n",
       "</style>\n",
       "<table border=\"1\" class=\"dataframe\">\n",
       "  <thead>\n",
       "    <tr style=\"text-align: right;\">\n",
       "      <th></th>\n",
       "      <th>ds</th>\n",
       "    </tr>\n",
       "  </thead>\n",
       "  <tbody>\n",
       "    <tr>\n",
       "      <th>904</th>\n",
       "      <td>2017-06-23</td>\n",
       "    </tr>\n",
       "    <tr>\n",
       "      <th>905</th>\n",
       "      <td>2017-06-24</td>\n",
       "    </tr>\n",
       "    <tr>\n",
       "      <th>906</th>\n",
       "      <td>2017-06-25</td>\n",
       "    </tr>\n",
       "  </tbody>\n",
       "</table>\n",
       "</div>"
      ],
      "text/plain": [
       "            ds\n",
       "904 2017-06-23\n",
       "905 2017-06-24\n",
       "906 2017-06-25"
      ]
     },
     "execution_count": 22,
     "metadata": {},
     "output_type": "execute_result"
    }
   ],
   "source": [
    "future = m.make_future_dataframe(periods=prediction_size)\n",
    "future.tail(n=3)"
   ]
  },
  {
   "cell_type": "code",
   "execution_count": 23,
   "id": "a1eca9cd",
   "metadata": {
    "_uuid": "57210f080bdb4977997bb7da15f8c650388d77ab",
    "execution": {
     "iopub.execute_input": "2021-08-24T14:01:54.026398Z",
     "iopub.status.busy": "2021-08-24T14:01:54.025002Z",
     "iopub.status.idle": "2021-08-24T14:01:58.620484Z",
     "shell.execute_reply": "2021-08-24T14:01:58.619937Z",
     "shell.execute_reply.started": "2021-08-24T14:00:49.101626Z"
    },
    "papermill": {
     "duration": 4.679076,
     "end_time": "2021-08-24T14:01:58.620643",
     "exception": false,
     "start_time": "2021-08-24T14:01:53.941567",
     "status": "completed"
    },
    "slideshow": {
     "slide_type": "slide"
    },
    "tags": []
   },
   "outputs": [
    {
     "data": {
      "text/html": [
       "<div>\n",
       "<style scoped>\n",
       "    .dataframe tbody tr th:only-of-type {\n",
       "        vertical-align: middle;\n",
       "    }\n",
       "\n",
       "    .dataframe tbody tr th {\n",
       "        vertical-align: top;\n",
       "    }\n",
       "\n",
       "    .dataframe thead th {\n",
       "        text-align: right;\n",
       "    }\n",
       "</style>\n",
       "<table border=\"1\" class=\"dataframe\">\n",
       "  <thead>\n",
       "    <tr style=\"text-align: right;\">\n",
       "      <th></th>\n",
       "      <th>ds</th>\n",
       "      <th>trend</th>\n",
       "      <th>yhat_lower</th>\n",
       "      <th>yhat_upper</th>\n",
       "      <th>trend_lower</th>\n",
       "      <th>trend_upper</th>\n",
       "      <th>additive_terms</th>\n",
       "      <th>additive_terms_lower</th>\n",
       "      <th>additive_terms_upper</th>\n",
       "      <th>weekly</th>\n",
       "      <th>weekly_lower</th>\n",
       "      <th>weekly_upper</th>\n",
       "      <th>yearly</th>\n",
       "      <th>yearly_lower</th>\n",
       "      <th>yearly_upper</th>\n",
       "      <th>multiplicative_terms</th>\n",
       "      <th>multiplicative_terms_lower</th>\n",
       "      <th>multiplicative_terms_upper</th>\n",
       "      <th>yhat</th>\n",
       "    </tr>\n",
       "  </thead>\n",
       "  <tbody>\n",
       "    <tr>\n",
       "      <th>904</th>\n",
       "      <td>2017-06-23</td>\n",
       "      <td>276.913368</td>\n",
       "      <td>254.593068</td>\n",
       "      <td>305.349314</td>\n",
       "      <td>276.499227</td>\n",
       "      <td>277.317601</td>\n",
       "      <td>2.528897</td>\n",
       "      <td>2.528897</td>\n",
       "      <td>2.528897</td>\n",
       "      <td>3.475074</td>\n",
       "      <td>3.475074</td>\n",
       "      <td>3.475074</td>\n",
       "      <td>-0.946177</td>\n",
       "      <td>-0.946177</td>\n",
       "      <td>-0.946177</td>\n",
       "      <td>0.0</td>\n",
       "      <td>0.0</td>\n",
       "      <td>0.0</td>\n",
       "      <td>279.442265</td>\n",
       "    </tr>\n",
       "    <tr>\n",
       "      <th>905</th>\n",
       "      <td>2017-06-24</td>\n",
       "      <td>277.620148</td>\n",
       "      <td>216.455354</td>\n",
       "      <td>267.911734</td>\n",
       "      <td>277.186974</td>\n",
       "      <td>278.062548</td>\n",
       "      <td>-34.775958</td>\n",
       "      <td>-34.775958</td>\n",
       "      <td>-34.775958</td>\n",
       "      <td>-34.026178</td>\n",
       "      <td>-34.026178</td>\n",
       "      <td>-34.026178</td>\n",
       "      <td>-0.749780</td>\n",
       "      <td>-0.749780</td>\n",
       "      <td>-0.749780</td>\n",
       "      <td>0.0</td>\n",
       "      <td>0.0</td>\n",
       "      <td>0.0</td>\n",
       "      <td>242.844190</td>\n",
       "    </tr>\n",
       "    <tr>\n",
       "      <th>906</th>\n",
       "      <td>2017-06-25</td>\n",
       "      <td>278.326928</td>\n",
       "      <td>221.643493</td>\n",
       "      <td>272.102089</td>\n",
       "      <td>277.858837</td>\n",
       "      <td>278.825115</td>\n",
       "      <td>-31.135987</td>\n",
       "      <td>-31.135987</td>\n",
       "      <td>-31.135987</td>\n",
       "      <td>-30.581960</td>\n",
       "      <td>-30.581960</td>\n",
       "      <td>-30.581960</td>\n",
       "      <td>-0.554027</td>\n",
       "      <td>-0.554027</td>\n",
       "      <td>-0.554027</td>\n",
       "      <td>0.0</td>\n",
       "      <td>0.0</td>\n",
       "      <td>0.0</td>\n",
       "      <td>247.190941</td>\n",
       "    </tr>\n",
       "  </tbody>\n",
       "</table>\n",
       "</div>"
      ],
      "text/plain": [
       "            ds       trend  yhat_lower  yhat_upper  trend_lower  trend_upper  \\\n",
       "904 2017-06-23  276.913368  254.593068  305.349314   276.499227   277.317601   \n",
       "905 2017-06-24  277.620148  216.455354  267.911734   277.186974   278.062548   \n",
       "906 2017-06-25  278.326928  221.643493  272.102089   277.858837   278.825115   \n",
       "\n",
       "     additive_terms  additive_terms_lower  additive_terms_upper     weekly  \\\n",
       "904        2.528897              2.528897              2.528897   3.475074   \n",
       "905      -34.775958            -34.775958            -34.775958 -34.026178   \n",
       "906      -31.135987            -31.135987            -31.135987 -30.581960   \n",
       "\n",
       "     weekly_lower  weekly_upper    yearly  yearly_lower  yearly_upper  \\\n",
       "904      3.475074      3.475074 -0.946177     -0.946177     -0.946177   \n",
       "905    -34.026178    -34.026178 -0.749780     -0.749780     -0.749780   \n",
       "906    -30.581960    -30.581960 -0.554027     -0.554027     -0.554027   \n",
       "\n",
       "     multiplicative_terms  multiplicative_terms_lower  \\\n",
       "904                   0.0                         0.0   \n",
       "905                   0.0                         0.0   \n",
       "906                   0.0                         0.0   \n",
       "\n",
       "     multiplicative_terms_upper        yhat  \n",
       "904                         0.0  279.442265  \n",
       "905                         0.0  242.844190  \n",
       "906                         0.0  247.190941  "
      ]
     },
     "execution_count": 23,
     "metadata": {},
     "output_type": "execute_result"
    }
   ],
   "source": [
    "forecast = m.predict(future)\n",
    "forecast.tail(n=3)"
   ]
  },
  {
   "cell_type": "markdown",
   "id": "327f216b",
   "metadata": {
    "_uuid": "cfc1e27ea4930d049d02cde74f9662da9c02b5c2",
    "papermill": {
     "duration": 0.07317,
     "end_time": "2021-08-24T14:01:58.766703",
     "exception": false,
     "start_time": "2021-08-24T14:01:58.693533",
     "status": "completed"
    },
    "slideshow": {
     "slide_type": "slide"
    },
    "tags": []
   },
   "source": [
    "Ketika kita lihat data diatas, ada banyak sekali kolom, termasuk trend dan seasonality dengan confidence intervals. Hasil prediksi disimpan di `yhat` column.\n",
    "\n",
    "Fb prophet juga sudah menyediakan fitur untuk plot hasil prediksi"
   ]
  },
  {
   "cell_type": "code",
   "execution_count": 24,
   "id": "b72e2ac4",
   "metadata": {
    "_uuid": "aab2a8ae82e9ac49dc72fbd973f6f9ee740c4973",
    "execution": {
     "iopub.execute_input": "2021-08-24T14:01:58.983804Z",
     "iopub.status.busy": "2021-08-24T14:01:58.982974Z",
     "iopub.status.idle": "2021-08-24T14:01:59.495969Z",
     "shell.execute_reply": "2021-08-24T14:01:59.496493Z",
     "shell.execute_reply.started": "2021-08-24T14:00:54.175912Z"
    },
    "papermill": {
     "duration": 0.657168,
     "end_time": "2021-08-24T14:01:59.496665",
     "exception": false,
     "start_time": "2021-08-24T14:01:58.839497",
     "status": "completed"
    },
    "slideshow": {
     "slide_type": "slide"
    },
    "tags": []
   },
   "outputs": [
    {
     "data": {
      "image/png": "[encoded data removed]",
      "text/plain": [
       "<Figure size 720x432 with 1 Axes>"
      ]
     },
     "metadata": {
      "image/png": {
       "height": 423,
       "width": 712
      }
     },
     "output_type": "display_data"
    }
   ],
   "source": [
    "m.plot(forecast);"
   ]
  },
  {
   "cell_type": "markdown",
   "id": "40e3b0b9",
   "metadata": {
    "_uuid": "f5296cfcb6ef4f8c7d856119ff73fee797ac71fb",
    "papermill": {
     "duration": 0.081698,
     "end_time": "2021-08-24T14:01:59.660242",
     "exception": false,
     "start_time": "2021-08-24T14:01:59.578544",
     "status": "completed"
    },
    "slideshow": {
     "slide_type": "slide"
    },
    "tags": []
   },
   "source": [
    "Gambar diatas sepertinya tidak memberikan kita banyak informasi. Sepertinya model nya menganggap banyak data outliers, yang keluar dari range/confidence interval dari prediksi. \n",
    "\n",
    "Function `Prophet.plot_components` mungkin lebih berguna di case ini. Kita bisa lihat trend secara umum,trend pekanan, dan trend tahunan "
   ]
  },
  {
   "cell_type": "code",
   "execution_count": 25,
   "id": "41fc0ce2",
   "metadata": {
    "_uuid": "8bc45e1b06190261c530ca52cf904ad6da17ad1b",
    "execution": {
     "iopub.execute_input": "2021-08-24T14:01:59.831127Z",
     "iopub.status.busy": "2021-08-24T14:01:59.830413Z",
     "iopub.status.idle": "2021-08-24T14:02:00.762022Z",
     "shell.execute_reply": "2021-08-24T14:02:00.762604Z",
     "shell.execute_reply.started": "2021-08-24T14:00:54.701805Z"
    },
    "papermill": {
     "duration": 1.019572,
     "end_time": "2021-08-24T14:02:00.762784",
     "exception": false,
     "start_time": "2021-08-24T14:01:59.743212",
     "status": "completed"
    },
    "slideshow": {
     "slide_type": "slide"
    },
    "tags": []
   },
   "outputs": [
    {
     "data": {
      "image/png": "[encoded data removed]",
      "text/plain": [
       "<Figure size 648x648 with 3 Axes>"
      ]
     },
     "metadata": {
      "image/png": {
       "height": 639,
       "width": 640
      }
     },
     "output_type": "display_data"
    }
   ],
   "source": [
    "m.plot_components(forecast);"
   ]
  },
  {
   "cell_type": "markdown",
   "id": "989261ed",
   "metadata": {
    "_uuid": "b62f1b3ec9c35618d49d198ca98ccfcec353f549",
    "papermill": {
     "duration": 0.088456,
     "end_time": "2021-08-24T14:02:00.938408",
     "exception": false,
     "start_time": "2021-08-24T14:02:00.849952",
     "status": "completed"
    },
    "slideshow": {
     "slide_type": "slide"
    },
    "tags": []
   },
   "source": [
    "Kalau kita amati ternyata FB prophet bagus juga fitting modelnya, jumlah post di Medium naik banget diakhir tahun 2016. Kemudian weekend cenderung sedkit post, dan public holiday juga cenderung sedikit post, chrismast dan new year"
   ]
  },
  {
   "cell_type": "markdown",
   "id": "870e38eb",
   "metadata": {
    "_uuid": "0d437afea58779426c3c5631768eff0a8afe0cec",
    "papermill": {
     "duration": 0.087957,
     "end_time": "2021-08-24T14:02:01.113275",
     "exception": false,
     "start_time": "2021-08-24T14:02:01.025318",
     "status": "completed"
    },
    "slideshow": {
     "slide_type": "slide"
    },
    "tags": []
   },
   "source": [
    "### Mengevaluasi prediksi"
   ]
  },
  {
   "cell_type": "code",
   "execution_count": 26,
   "id": "17ff645c",
   "metadata": {
    "_uuid": "4509daabded142779b078792d8fd6097dcc4465d",
    "execution": {
     "iopub.execute_input": "2021-08-24T14:02:01.293294Z",
     "iopub.status.busy": "2021-08-24T14:02:01.292600Z",
     "iopub.status.idle": "2021-08-24T14:02:01.296990Z",
     "shell.execute_reply": "2021-08-24T14:02:01.296402Z",
     "shell.execute_reply.started": "2021-08-24T14:00:55.719555Z"
    },
    "papermill": {
     "duration": 0.095386,
     "end_time": "2021-08-24T14:02:01.297133",
     "exception": false,
     "start_time": "2021-08-24T14:02:01.201747",
     "status": "completed"
    },
    "slideshow": {
     "slide_type": "slide"
    },
    "tags": []
   },
   "outputs": [
    {
     "name": "stdout",
     "output_type": "stream",
     "text": [
      "ds, trend, yhat_lower, yhat_upper, trend_lower, trend_upper, additive_terms, additive_terms_lower, additive_terms_upper, weekly, weekly_lower, weekly_upper, yearly, yearly_lower, yearly_upper, multiplicative_terms, multiplicative_terms_lower, multiplicative_terms_upper, yhat\n"
     ]
    }
   ],
   "source": [
    "print(', '.join(forecast.columns))"
   ]
  },
  {
   "cell_type": "markdown",
   "id": "99780e9a",
   "metadata": {
    "_uuid": "c75fb75baca60108a7fe0e8d7beeafb1e144b123",
    "papermill": {
     "duration": 0.086055,
     "end_time": "2021-08-24T14:02:01.469951",
     "exception": false,
     "start_time": "2021-08-24T14:02:01.383896",
     "status": "completed"
    },
    "slideshow": {
     "slide_type": "slide"
    },
    "tags": []
   },
   "source": [
    "Kita join hasil prediksi dengan data aktual bulan terakhir yang kita hapus sebelumnya"
   ]
  },
  {
   "cell_type": "code",
   "execution_count": 27,
   "id": "d205d8f0",
   "metadata": {
    "_uuid": "56f0753df64b6586323a75a99bd1d4bbba0ae13e",
    "execution": {
     "iopub.execute_input": "2021-08-24T14:02:01.649020Z",
     "iopub.status.busy": "2021-08-24T14:02:01.648256Z",
     "iopub.status.idle": "2021-08-24T14:02:01.651667Z",
     "shell.execute_reply": "2021-08-24T14:02:01.651036Z",
     "shell.execute_reply.started": "2021-08-24T14:00:55.727646Z"
    },
    "papermill": {
     "duration": 0.095026,
     "end_time": "2021-08-24T14:02:01.651813",
     "exception": false,
     "start_time": "2021-08-24T14:02:01.556787",
     "status": "completed"
    },
    "slideshow": {
     "slide_type": "slide"
    },
    "tags": []
   },
   "outputs": [],
   "source": [
    "def make_comparison_dataframe(historical, forecast):\n",
    "    \"\"\"Join the history with the forecast.\n",
    "    \n",
    "       The resulting dataset will contain columns 'yhat', 'yhat_lower', 'yhat_upper' and 'y'.\n",
    "    \"\"\"\n",
    "    return forecast.set_index('ds')[['yhat', 'yhat_lower', 'yhat_upper']].join(historical.set_index('ds'))"
   ]
  },
  {
   "cell_type": "code",
   "execution_count": 28,
   "id": "36737203",
   "metadata": {
    "_uuid": "99558427938cc553f8a0d0bb168d0e721c229f72",
    "execution": {
     "iopub.execute_input": "2021-08-24T14:02:01.832847Z",
     "iopub.status.busy": "2021-08-24T14:02:01.830839Z",
     "iopub.status.idle": "2021-08-24T14:02:01.847365Z",
     "shell.execute_reply": "2021-08-24T14:02:01.846815Z",
     "shell.execute_reply.started": "2021-08-24T14:00:55.739264Z"
    },
    "papermill": {
     "duration": 0.108558,
     "end_time": "2021-08-24T14:02:01.847529",
     "exception": false,
     "start_time": "2021-08-24T14:02:01.738971",
     "status": "completed"
    },
    "slideshow": {
     "slide_type": "slide"
    },
    "tags": []
   },
   "outputs": [
    {
     "data": {
      "text/html": [
       "<div>\n",
       "<style scoped>\n",
       "    .dataframe tbody tr th:only-of-type {\n",
       "        vertical-align: middle;\n",
       "    }\n",
       "\n",
       "    .dataframe tbody tr th {\n",
       "        vertical-align: top;\n",
       "    }\n",
       "\n",
       "    .dataframe thead th {\n",
       "        text-align: right;\n",
       "    }\n",
       "</style>\n",
       "<table border=\"1\" class=\"dataframe\">\n",
       "  <thead>\n",
       "    <tr style=\"text-align: right;\">\n",
       "      <th></th>\n",
       "      <th>yhat</th>\n",
       "      <th>yhat_lower</th>\n",
       "      <th>yhat_upper</th>\n",
       "      <th>y</th>\n",
       "    </tr>\n",
       "    <tr>\n",
       "      <th>ds</th>\n",
       "      <th></th>\n",
       "      <th></th>\n",
       "      <th></th>\n",
       "      <th></th>\n",
       "    </tr>\n",
       "  </thead>\n",
       "  <tbody>\n",
       "    <tr>\n",
       "      <th>2017-06-23</th>\n",
       "      <td>279.442265</td>\n",
       "      <td>254.593068</td>\n",
       "      <td>305.349314</td>\n",
       "      <td>421</td>\n",
       "    </tr>\n",
       "    <tr>\n",
       "      <th>2017-06-24</th>\n",
       "      <td>242.844190</td>\n",
       "      <td>216.455354</td>\n",
       "      <td>267.911734</td>\n",
       "      <td>277</td>\n",
       "    </tr>\n",
       "    <tr>\n",
       "      <th>2017-06-25</th>\n",
       "      <td>247.190941</td>\n",
       "      <td>221.643493</td>\n",
       "      <td>272.102089</td>\n",
       "      <td>253</td>\n",
       "    </tr>\n",
       "  </tbody>\n",
       "</table>\n",
       "</div>"
      ],
      "text/plain": [
       "                  yhat  yhat_lower  yhat_upper    y\n",
       "ds                                                 \n",
       "2017-06-23  279.442265  254.593068  305.349314  421\n",
       "2017-06-24  242.844190  216.455354  267.911734  277\n",
       "2017-06-25  247.190941  221.643493  272.102089  253"
      ]
     },
     "execution_count": 28,
     "metadata": {},
     "output_type": "execute_result"
    }
   ],
   "source": [
    "cmp_df = make_comparison_dataframe(df, forecast)\n",
    "cmp_df.tail(n=3)"
   ]
  },
  {
   "cell_type": "markdown",
   "id": "6e1a73b3",
   "metadata": {
    "_uuid": "922822ef83170f50ca6718a23fad55b5d3c07d9a",
    "papermill": {
     "duration": 0.086404,
     "end_time": "2021-08-24T14:02:02.021201",
     "exception": false,
     "start_time": "2021-08-24T14:02:01.934797",
     "status": "completed"
    },
    "slideshow": {
     "slide_type": "slide"
    },
    "tags": []
   },
   "source": [
    "Evaluasi dengan MAPE dan MAE"
   ]
  },
  {
   "cell_type": "code",
   "execution_count": 29,
   "id": "f4d8a6c3",
   "metadata": {
    "_uuid": "b2b763f14f1b493f2ebb37a6fdffca5940f1ebb8",
    "execution": {
     "iopub.execute_input": "2021-08-24T14:02:02.227630Z",
     "iopub.status.busy": "2021-08-24T14:02:02.226856Z",
     "iopub.status.idle": "2021-08-24T14:02:02.230617Z",
     "shell.execute_reply": "2021-08-24T14:02:02.229951Z",
     "shell.execute_reply.started": "2021-08-24T14:00:55.766515Z"
    },
    "papermill": {
     "duration": 0.099746,
     "end_time": "2021-08-24T14:02:02.230761",
     "exception": false,
     "start_time": "2021-08-24T14:02:02.131015",
     "status": "completed"
    },
    "slideshow": {
     "slide_type": "slide"
    },
    "tags": []
   },
   "outputs": [],
   "source": [
    "def calculate_forecast_errors(df, prediction_size):\n",
    "    \"\"\"Calculate MAPE and MAE of the forecast.\n",
    "    \n",
    "       Args:\n",
    "           df: joined dataset with 'y' and 'yhat' columns.\n",
    "           prediction_size: number of days at the end to predict.\n",
    "    \"\"\"\n",
    "    \n",
    "    # Make a copy\n",
    "    df = df.copy()\n",
    "    \n",
    "    # Now we calculate the values of e_i and p_i according to the formulas given in the article above.\n",
    "    df['e'] = df['y'] - df['yhat']\n",
    "    df['p'] = 100 * df['e'] / df['y']\n",
    "    \n",
    "    # Recall that we held out the values of the last `prediction_size` days\n",
    "    # in order to predict them and measure the quality of the model. \n",
    "    \n",
    "    # Now cut out the part of the data which we made our prediction for.\n",
    "    predicted_part = df[-prediction_size:]\n",
    "    \n",
    "    # Define the function that averages absolute error values over the predicted part.\n",
    "    error_mean = lambda error_name: np.mean(np.abs(predicted_part[error_name]))\n",
    "    \n",
    "    # Now we can calculate MAPE and MAE and return the resulting dictionary of errors.\n",
    "    return {'MAPE': error_mean('p'), 'MAE': error_mean('e')}"
   ]
  },
  {
   "cell_type": "code",
   "execution_count": 30,
   "id": "44e13150",
   "metadata": {
    "_uuid": "9c2a7722bd3eb4efcbbf0ba44e676a8679a43fc9",
    "execution": {
     "iopub.execute_input": "2021-08-24T14:02:02.417583Z",
     "iopub.status.busy": "2021-08-24T14:02:02.416614Z",
     "iopub.status.idle": "2021-08-24T14:02:02.422215Z",
     "shell.execute_reply": "2021-08-24T14:02:02.421665Z",
     "shell.execute_reply.started": "2021-08-24T14:00:55.777777Z"
    },
    "papermill": {
     "duration": 0.10493,
     "end_time": "2021-08-24T14:02:02.422370",
     "exception": false,
     "start_time": "2021-08-24T14:02:02.317440",
     "status": "completed"
    },
    "slideshow": {
     "slide_type": "slide"
    },
    "tags": []
   },
   "outputs": [
    {
     "name": "stdout",
     "output_type": "stream",
     "text": [
      "MAPE 22.64085771181396\n",
      "MAE 70.02107834666941\n"
     ]
    }
   ],
   "source": [
    "for err_name, err_value in calculate_forecast_errors(cmp_df, prediction_size).items():\n",
    "    print(err_name, err_value)"
   ]
  },
  {
   "cell_type": "markdown",
   "id": "9785d8ba",
   "metadata": {
    "_uuid": "8d95e3c50b6d32675ea39abc2c7a7d021cf54048",
    "papermill": {
     "duration": 0.087381,
     "end_time": "2021-08-24T14:02:02.597180",
     "exception": false,
     "start_time": "2021-08-24T14:02:02.509799",
     "status": "completed"
    },
    "slideshow": {
     "slide_type": "slide"
    },
    "tags": []
   },
   "source": [
    "Prosentase error MAPE = 22.6%, dan rata-rata model yang kita buat salah kurang lebih 70 posts (MAE)."
   ]
  },
  {
   "cell_type": "markdown",
   "id": "04d6511f",
   "metadata": {
    "_uuid": "a6c56589409cdb99c7377b1f0aeb678da312a593",
    "papermill": {
     "duration": 0.087389,
     "end_time": "2021-08-24T14:02:02.772809",
     "exception": false,
     "start_time": "2021-08-24T14:02:02.685420",
     "status": "completed"
    },
    "slideshow": {
     "slide_type": "slide"
    },
    "tags": []
   },
   "source": [
    "### Visualization"
   ]
  },
  {
   "cell_type": "code",
   "execution_count": 31,
   "id": "1eb51b5d",
   "metadata": {
    "_uuid": "eeeb8bfae88d2c24216c43f02d6b62b063936b86",
    "execution": {
     "iopub.execute_input": "2021-08-24T14:02:02.960155Z",
     "iopub.status.busy": "2021-08-24T14:02:02.959169Z",
     "iopub.status.idle": "2021-08-24T14:02:03.051671Z",
     "shell.execute_reply": "2021-08-24T14:02:03.052460Z",
     "shell.execute_reply.started": "2021-08-24T14:00:55.793749Z"
    },
    "papermill": {
     "duration": 0.192011,
     "end_time": "2021-08-24T14:02:03.052724",
     "exception": false,
     "start_time": "2021-08-24T14:02:02.860713",
     "status": "completed"
    },
    "slideshow": {
     "slide_type": "slide"
    },
    "tags": []
   },
   "outputs": [
    {
     "data": {
      "application/vnd.plotly.v1+json": {
       "config": {
        "linkText": "Export to plot.ly",
        "plotlyServerURL": "https://plot.ly",
        "showLink": false
       },
       "data": [
        {
         "line": {
          "width": 0
         },
         "marker": {
          "color": "gray"
         },
         "mode": "lines",
         "name": "Lower Bound",
         "type": "scatter",
         "x": [
          "2017-05-27T00:00:00",
          "2017-05-28T00:00:00",
          "2017-05-29T00:00:00",
          "2017-05-30T00:00:00",
          "2017-05-31T00:00:00",
          "2017-06-01T00:00:00",
          "2017-06-02T00:00:00",
          "2017-06-03T00:00:00",
          "2017-06-04T00:00:00",
          "2017-06-05T00:00:00",
          "2017-06-06T00:00:00",
          "2017-06-07T00:00:00",
          "2017-06-08T00:00:00",
          "2017-06-09T00:00:00",
          "2017-06-10T00:00:00",
          "2017-06-11T00:00:00",
          "2017-06-12T00:00:00",
          "2017-06-13T00:00:00",
          "2017-06-14T00:00:00",
          "2017-06-15T00:00:00",
          "2017-06-16T00:00:00",
          "2017-06-17T00:00:00",
          "2017-06-18T00:00:00",
          "2017-06-19T00:00:00",
          "2017-06-20T00:00:00",
          "2017-06-21T00:00:00",
          "2017-06-22T00:00:00",
          "2017-06-23T00:00:00",
          "2017-06-24T00:00:00",
          "2017-06-25T00:00:00"
         ],
         "y": [
          202.41408804195055,
          207.68959038127662,
          251.54937915311166,
          255.57752244887877,
          253.41949813610452,
          251.97785463479676,
          240.69265408936462,
          204.70813612091138,
          208.6927894985448,
          252.87707752475598,
          257.68875776811404,
          255.67882780736855,
          252.53662469827628,
          243.26153044956834,
          205.64502417674942,
          209.96395966082906,
          257.3292594319847,
          262.199015549365,
          262.07774847313704,
          257.02977292041624,
          249.22060124463158,
          211.9604830448777,
          217.12432172662545,
          260.96615772307626,
          264.4813731660746,
          265.14035067870856,
          265.9060514105467,
          254.5930677011665,
          216.4553539722519,
          221.6434934091615
         ]
        },
        {
         "fill": "tonexty",
         "fillcolor": "rgba(68, 68, 68, 0.3)",
         "line": {
          "width": 0
         },
         "marker": {
          "color": "gray"
         },
         "mode": "lines",
         "name": "Upper Bound",
         "type": "scatter",
         "x": [
          "2017-05-27T00:00:00",
          "2017-05-28T00:00:00",
          "2017-05-29T00:00:00",
          "2017-05-30T00:00:00",
          "2017-05-31T00:00:00",
          "2017-06-01T00:00:00",
          "2017-06-02T00:00:00",
          "2017-06-03T00:00:00",
          "2017-06-04T00:00:00",
          "2017-06-05T00:00:00",
          "2017-06-06T00:00:00",
          "2017-06-07T00:00:00",
          "2017-06-08T00:00:00",
          "2017-06-09T00:00:00",
          "2017-06-10T00:00:00",
          "2017-06-11T00:00:00",
          "2017-06-12T00:00:00",
          "2017-06-13T00:00:00",
          "2017-06-14T00:00:00",
          "2017-06-15T00:00:00",
          "2017-06-16T00:00:00",
          "2017-06-17T00:00:00",
          "2017-06-18T00:00:00",
          "2017-06-19T00:00:00",
          "2017-06-20T00:00:00",
          "2017-06-21T00:00:00",
          "2017-06-22T00:00:00",
          "2017-06-23T00:00:00",
          "2017-06-24T00:00:00",
          "2017-06-25T00:00:00"
         ],
         "y": [
          251.20672625719226,
          256.0422161780867,
          299.7556657932598,
          305.64480360577613,
          304.2979376406746,
          301.08047594988074,
          291.47053629579443,
          251.85226236320958,
          255.2858844880737,
          302.84070140872046,
          306.5141424834367,
          306.31553814118536,
          303.3777687430317,
          293.6901787037,
          256.35216249054605,
          261.3636877308484,
          306.5660873470556,
          311.1362531121427,
          312.44487978680866,
          306.0149776926472,
          298.77366680524915,
          261.2817477694492,
          264.08843237973775,
          311.5959457091719,
          314.75636445905695,
          316.6873722725033,
          314.8899071316436,
          305.3493139886843,
          267.91173402531285,
          272.10208931340316
         ]
        },
        {
         "line": {
          "color": "rgb(31, 119, 180)"
         },
         "mode": "lines",
         "name": "Forecast",
         "type": "scatter",
         "x": [
          "2017-05-27T00:00:00",
          "2017-05-28T00:00:00",
          "2017-05-29T00:00:00",
          "2017-05-30T00:00:00",
          "2017-05-31T00:00:00",
          "2017-06-01T00:00:00",
          "2017-06-02T00:00:00",
          "2017-06-03T00:00:00",
          "2017-06-04T00:00:00",
          "2017-06-05T00:00:00",
          "2017-06-06T00:00:00",
          "2017-06-07T00:00:00",
          "2017-06-08T00:00:00",
          "2017-06-09T00:00:00",
          "2017-06-10T00:00:00",
          "2017-06-11T00:00:00",
          "2017-06-12T00:00:00",
          "2017-06-13T00:00:00",
          "2017-06-14T00:00:00",
          "2017-06-15T00:00:00",
          "2017-06-16T00:00:00",
          "2017-06-17T00:00:00",
          "2017-06-18T00:00:00",
          "2017-06-19T00:00:00",
          "2017-06-20T00:00:00",
          "2017-06-21T00:00:00",
          "2017-06-22T00:00:00",
          "2017-06-23T00:00:00",
          "2017-06-24T00:00:00",
          "2017-06-25T00:00:00"
         ],
         "y": [
          226.86234179806044,
          230.61702217964176,
          275.2252668166182,
          278.9867173424693,
          279.21207096085635,
          275.44245524028497,
          266.1502056131873,
          228.9676180587657,
          232.75027808391306,
          277.4233051585634,
          281.28464392096356,
          281.64273897210575,
          278.03595596596216,
          268.9334139562884,
          231.96380030055116,
          235.97876794485884,
          280.89925287906436,
          285.01884165314175,
          285.64152433306066,
          282.30119415878255,
          273.4625574566312,
          236.75002374922178,
          241.01117460754745,
          286.16314784911356,
          290.4960659048826,
          291.3108427874517,
          288.13873012061663,
          279.442265124905,
          242.84418999878966,
          247.19094089364418
         ]
        },
        {
         "marker": {
          "color": "red"
         },
         "mode": "lines",
         "name": "Actual",
         "type": "scatter",
         "x": [
          "2017-03-18T00:00:00",
          "2017-03-19T00:00:00",
          "2017-03-20T00:00:00",
          "2017-03-21T00:00:00",
          "2017-03-22T00:00:00",
          "2017-03-23T00:00:00",
          "2017-03-24T00:00:00",
          "2017-03-25T00:00:00",
          "2017-03-26T00:00:00",
          "2017-03-27T00:00:00",
          "2017-03-28T00:00:00",
          "2017-03-29T00:00:00",
          "2017-03-30T00:00:00",
          "2017-03-31T00:00:00",
          "2017-04-01T00:00:00",
          "2017-04-02T00:00:00",
          "2017-04-03T00:00:00",
          "2017-04-04T00:00:00",
          "2017-04-05T00:00:00",
          "2017-04-06T00:00:00",
          "2017-04-07T00:00:00",
          "2017-04-08T00:00:00",
          "2017-04-09T00:00:00",
          "2017-04-10T00:00:00",
          "2017-04-11T00:00:00",
          "2017-04-12T00:00:00",
          "2017-04-13T00:00:00",
          "2017-04-14T00:00:00",
          "2017-04-15T00:00:00",
          "2017-04-16T00:00:00",
          "2017-04-17T00:00:00",
          "2017-04-18T00:00:00",
          "2017-04-19T00:00:00",
          "2017-04-20T00:00:00",
          "2017-04-21T00:00:00",
          "2017-04-22T00:00:00",
          "2017-04-23T00:00:00",
          "2017-04-24T00:00:00",
          "2017-04-25T00:00:00",
          "2017-04-26T00:00:00",
          "2017-04-27T00:00:00",
          "2017-04-28T00:00:00",
          "2017-04-29T00:00:00",
          "2017-04-30T00:00:00",
          "2017-05-01T00:00:00",
          "2017-05-02T00:00:00",
          "2017-05-03T00:00:00",
          "2017-05-04T00:00:00",
          "2017-05-05T00:00:00",
          "2017-05-06T00:00:00",
          "2017-05-07T00:00:00",
          "2017-05-08T00:00:00",
          "2017-05-09T00:00:00",
          "2017-05-10T00:00:00",
          "2017-05-11T00:00:00",
          "2017-05-12T00:00:00",
          "2017-05-13T00:00:00",
          "2017-05-14T00:00:00",
          "2017-05-15T00:00:00",
          "2017-05-16T00:00:00",
          "2017-05-17T00:00:00",
          "2017-05-18T00:00:00",
          "2017-05-19T00:00:00",
          "2017-05-20T00:00:00",
          "2017-05-21T00:00:00",
          "2017-05-22T00:00:00",
          "2017-05-23T00:00:00",
          "2017-05-24T00:00:00",
          "2017-05-25T00:00:00",
          "2017-05-26T00:00:00",
          "2017-05-27T00:00:00",
          "2017-05-28T00:00:00",
          "2017-05-29T00:00:00",
          "2017-05-30T00:00:00",
          "2017-05-31T00:00:00",
          "2017-06-01T00:00:00",
          "2017-06-02T00:00:00",
          "2017-06-03T00:00:00",
          "2017-06-04T00:00:00",
          "2017-06-05T00:00:00",
          "2017-06-06T00:00:00",
          "2017-06-07T00:00:00",
          "2017-06-08T00:00:00",
          "2017-06-09T00:00:00",
          "2017-06-10T00:00:00",
          "2017-06-11T00:00:00",
          "2017-06-12T00:00:00",
          "2017-06-13T00:00:00",
          "2017-06-14T00:00:00",
          "2017-06-15T00:00:00",
          "2017-06-16T00:00:00",
          "2017-06-17T00:00:00",
          "2017-06-18T00:00:00",
          "2017-06-19T00:00:00",
          "2017-06-20T00:00:00",
          "2017-06-21T00:00:00",
          "2017-06-22T00:00:00",
          "2017-06-23T00:00:00",
          "2017-06-24T00:00:00",
          "2017-06-25T00:00:00"
         ],
         "y": [
          123,
          99,
          205,
          247,
          246,
          228,
          208,
          135,
          129,
          230,
          225,
          238,
          257,
          207,
          125,
          142,
          259,
          221,
          203,
          274,
          221,
          140,
          149,
          238,
          258,
          239,
          250,
          204,
          137,
          143,
          233,
          264,
          278,
          274,
          259,
          178,
          168,
          296,
          306,
          270,
          277,
          262,
          187,
          148,
          305,
          332,
          286,
          284,
          264,
          133,
          136,
          267,
          262,
          264,
          267,
          281,
          205,
          180,
          341,
          345,
          367,
          336,
          301,
          156,
          194,
          341,
          388,
          375,
          298,
          269,
          157,
          172,
          297,
          365,
          407,
          392,
          328,
          170,
          194,
          340,
          348,
          323,
          347,
          291,
          165,
          193,
          349,
          358,
          344,
          336,
          345,
          188,
          243,
          408,
          417,
          422,
          441,
          421,
          277,
          253
         ]
        }
       ],
       "layout": {
        "showlegend": false,
        "template": {
         "data": {
          "bar": [
           {
            "error_x": {
             "color": "#2a3f5f"
            },
            "error_y": {
             "color": "#2a3f5f"
            },
            "marker": {
             "line": {
              "color": "#E5ECF6",
              "width": 0.5
             },
             "pattern": {
              "fillmode": "overlay",
              "size": 10,
              "solidity": 0.2
             }
            },
            "type": "bar"
           }
          ],
          "barpolar": [
           {
            "marker": {
             "line": {
              "color": "#E5ECF6",
              "width": 0.5
             },
             "pattern": {
              "fillmode": "overlay",
              "size": 10,
              "solidity": 0.2
             }
            },
            "type": "barpolar"
           }
          ],
          "carpet": [
           {
            "aaxis": {
             "endlinecolor": "#2a3f5f",
             "gridcolor": "white",
             "linecolor": "white",
             "minorgridcolor": "white",
             "startlinecolor": "#2a3f5f"
            },
            "baxis": {
             "endlinecolor": "#2a3f5f",
             "gridcolor": "white",
             "linecolor": "white",
             "minorgridcolor": "white",
             "startlinecolor": "#2a3f5f"
            },
            "type": "carpet"
           }
          ],
          "choropleth": [
           {
            "colorbar": {
             "outlinewidth": 0,
             "ticks": ""
            },
            "type": "choropleth"
           }
          ],
          "contour": [
           {
            "colorbar": {
             "outlinewidth": 0,
             "ticks": ""
            },
            "colorscale": [
             [
              0,
              "#0d0887"
             ],
             [
              0.1111111111111111,
              "#46039f"
             ],
             [
              0.2222222222222222,
              "#7201a8"
             ],
             [
              0.3333333333333333,
              "#9c179e"
             ],
             [
              0.4444444444444444,
              "#bd3786"
             ],
             [
              0.5555555555555556,
              "#d8576b"
             ],
             [
              0.6666666666666666,
              "#ed7953"
             ],
             [
              0.7777777777777778,
              "#fb9f3a"
             ],
             [
              0.8888888888888888,
              "#fdca26"
             ],
             [
              1,
              "#f0f921"
             ]
            ],
            "type": "contour"
           }
          ],
          "contourcarpet": [
           {
            "colorbar": {
             "outlinewidth": 0,
             "ticks": ""
            },
            "type": "contourcarpet"
           }
          ],
          "heatmap": [
           {
            "colorbar": {
             "outlinewidth": 0,
             "ticks": ""
            },
            "colorscale": [
             [
              0,
              "#0d0887"
             ],
             [
              0.1111111111111111,
              "#46039f"
             ],
             [
              0.2222222222222222,
              "#7201a8"
             ],
             [
              0.3333333333333333,
              "#9c179e"
             ],
             [
              0.4444444444444444,
              "#bd3786"
             ],
             [
              0.5555555555555556,
              "#d8576b"
             ],
             [
              0.6666666666666666,
              "#ed7953"
             ],
             [
              0.7777777777777778,
              "#fb9f3a"
             ],
             [
              0.8888888888888888,
              "#fdca26"
             ],
             [
              1,
              "#f0f921"
             ]
            ],
            "type": "heatmap"
           }
          ],
          "heatmapgl": [
           {
            "colorbar": {
             "outlinewidth": 0,
             "ticks": ""
            },
            "colorscale": [
             [
              0,
              "#0d0887"
             ],
             [
              0.1111111111111111,
              "#46039f"
             ],
             [
              0.2222222222222222,
              "#7201a8"
             ],
             [
              0.3333333333333333,
              "#9c179e"
             ],
             [
              0.4444444444444444,
              "#bd3786"
             ],
             [
              0.5555555555555556,
              "#d8576b"
             ],
             [
              0.6666666666666666,
              "#ed7953"
             ],
             [
              0.7777777777777778,
              "#fb9f3a"
             ],
             [
              0.8888888888888888,
              "#fdca26"
             ],
             [
              1,
              "#f0f921"
             ]
            ],
            "type": "heatmapgl"
           }
          ],
          "histogram": [
           {
            "marker": {
             "pattern": {
              "fillmode": "overlay",
              "size": 10,
              "solidity": 0.2
             }
            },
            "type": "histogram"
           }
          ],
          "histogram2d": [
           {
            "colorbar": {
             "outlinewidth": 0,
             "ticks": ""
            },
            "colorscale": [
             [
              0,
              "#0d0887"
             ],
             [
              0.1111111111111111,
              "#46039f"
             ],
             [
              0.2222222222222222,
              "#7201a8"
             ],
             [
              0.3333333333333333,
              "#9c179e"
             ],
             [
              0.4444444444444444,
              "#bd3786"
             ],
             [
              0.5555555555555556,
              "#d8576b"
             ],
             [
              0.6666666666666666,
              "#ed7953"
             ],
             [
              0.7777777777777778,
              "#fb9f3a"
             ],
             [
              0.8888888888888888,
              "#fdca26"
             ],
             [
              1,
              "#f0f921"
             ]
            ],
            "type": "histogram2d"
           }
          ],
          "histogram2dcontour": [
           {
            "colorbar": {
             "outlinewidth": 0,
             "ticks": ""
            },
            "colorscale": [
             [
              0,
              "#0d0887"
             ],
             [
              0.1111111111111111,
              "#46039f"
             ],
             [
              0.2222222222222222,
              "#7201a8"
             ],
             [
              0.3333333333333333,
              "#9c179e"
             ],
             [
              0.4444444444444444,
              "#bd3786"
             ],
             [
              0.5555555555555556,
              "#d8576b"
             ],
             [
              0.6666666666666666,
              "#ed7953"
             ],
             [
              0.7777777777777778,
              "#fb9f3a"
             ],
             [
              0.8888888888888888,
              "#fdca26"
             ],
             [
              1,
              "#f0f921"
             ]
            ],
            "type": "histogram2dcontour"
           }
          ],
          "mesh3d": [
           {
            "colorbar": {
             "outlinewidth": 0,
             "ticks": ""
            },
            "type": "mesh3d"
           }
          ],
          "parcoords": [
           {
            "line": {
             "colorbar": {
              "outlinewidth": 0,
              "ticks": ""
             }
            },
            "type": "parcoords"
           }
          ],
          "pie": [
           {
            "automargin": true,
            "type": "pie"
           }
          ],
          "scatter": [
           {
            "marker": {
             "colorbar": {
              "outlinewidth": 0,
              "ticks": ""
             }
            },
            "type": "scatter"
           }
          ],
          "scatter3d": [
           {
            "line": {
             "colorbar": {
              "outlinewidth": 0,
              "ticks": ""
             }
            },
            "marker": {
             "colorbar": {
              "outlinewidth": 0,
              "ticks": ""
             }
            },
            "type": "scatter3d"
           }
          ],
          "scattercarpet": [
           {
            "marker": {
             "colorbar": {
              "outlinewidth": 0,
              "ticks": ""
             }
            },
            "type": "scattercarpet"
           }
          ],
          "scattergeo": [
           {
            "marker": {
             "colorbar": {
              "outlinewidth": 0,
              "ticks": ""
             }
            },
            "type": "scattergeo"
           }
          ],
          "scattergl": [
           {
            "marker": {
             "colorbar": {
              "outlinewidth": 0,
              "ticks": ""
             }
            },
            "type": "scattergl"
           }
          ],
          "scattermapbox": [
           {
            "marker": {
             "colorbar": {
              "outlinewidth": 0,
              "ticks": ""
             }
            },
            "type": "scattermapbox"
           }
          ],
          "scatterpolar": [
           {
            "marker": {
             "colorbar": {
              "outlinewidth": 0,
              "ticks": ""
             }
            },
            "type": "scatterpolar"
           }
          ],
          "scatterpolargl": [
           {
            "marker": {
             "colorbar": {
              "outlinewidth": 0,
              "ticks": ""
             }
            },
            "type": "scatterpolargl"
           }
          ],
          "scatterternary": [
           {
            "marker": {
             "colorbar": {
              "outlinewidth": 0,
              "ticks": ""
             }
            },
            "type": "scatterternary"
           }
          ],
          "surface": [
           {
            "colorbar": {
             "outlinewidth": 0,
             "ticks": ""
            },
            "colorscale": [
             [
              0,
              "#0d0887"
             ],
             [
              0.1111111111111111,
              "#46039f"
             ],
             [
              0.2222222222222222,
              "#7201a8"
             ],
             [
              0.3333333333333333,
              "#9c179e"
             ],
             [
              0.4444444444444444,
              "#bd3786"
             ],
             [
              0.5555555555555556,
              "#d8576b"
             ],
             [
              0.6666666666666666,
              "#ed7953"
             ],
             [
              0.7777777777777778,
              "#fb9f3a"
             ],
             [
              0.8888888888888888,
              "#fdca26"
             ],
             [
              1,
              "#f0f921"
             ]
            ],
            "type": "surface"
           }
          ],
          "table": [
           {
            "cells": {
             "fill": {
              "color": "#EBF0F8"
             },
             "line": {
              "color": "white"
             }
            },
            "header": {
             "fill": {
              "color": "#C8D4E3"
             },
             "line": {
              "color": "white"
             }
            },
            "type": "table"
           }
          ]
         },
         "layout": {
          "annotationdefaults": {
           "arrowcolor": "#2a3f5f",
           "arrowhead": 0,
           "arrowwidth": 1
          },
          "autotypenumbers": "strict",
          "coloraxis": {
           "colorbar": {
            "outlinewidth": 0,
            "ticks": ""
           }
          },
          "colorscale": {
           "diverging": [
            [
             0,
             "#8e0152"
            ],
            [
             0.1,
             "#c51b7d"
            ],
            [
             0.2,
             "#de77ae"
            ],
            [
             0.3,
             "#f1b6da"
            ],
            [
             0.4,
             "#fde0ef"
            ],
            [
             0.5,
             "#f7f7f7"
            ],
            [
             0.6,
             "#e6f5d0"
            ],
            [
             0.7,
             "#b8e186"
            ],
            [
             0.8,
             "#7fbc41"
            ],
            [
             0.9,
             "#4d9221"
            ],
            [
             1,
             "#276419"
            ]
           ],
           "sequential": [
            [
             0,
             "#0d0887"
            ],
            [
             0.1111111111111111,
             "#46039f"
            ],
            [
             0.2222222222222222,
             "#7201a8"
            ],
            [
             0.3333333333333333,
             "#9c179e"
            ],
            [
             0.4444444444444444,
             "#bd3786"
            ],
            [
             0.5555555555555556,
             "#d8576b"
            ],
            [
             0.6666666666666666,
             "#ed7953"
            ],
            [
             0.7777777777777778,
             "#fb9f3a"
            ],
            [
             0.8888888888888888,
             "#fdca26"
            ],
            [
             1,
             "#f0f921"
            ]
           ],
           "sequentialminus": [
            [
             0,
             "#0d0887"
            ],
            [
             0.1111111111111111,
             "#46039f"
            ],
            [
             0.2222222222222222,
             "#7201a8"
            ],
            [
             0.3333333333333333,
             "#9c179e"
            ],
            [
             0.4444444444444444,
             "#bd3786"
            ],
            [
             0.5555555555555556,
             "#d8576b"
            ],
            [
             0.6666666666666666,
             "#ed7953"
            ],
            [
             0.7777777777777778,
             "#fb9f3a"
            ],
            [
             0.8888888888888888,
             "#fdca26"
            ],
            [
             1,
             "#f0f921"
            ]
           ]
          },
          "colorway": [
           "#636efa",
           "#EF553B",
           "#00cc96",
           "#ab63fa",
           "#FFA15A",
           "#19d3f3",
           "#FF6692",
           "#B6E880",
           "#FF97FF",
           "#FECB52"
          ],
          "font": {
           "color": "#2a3f5f"
          },
          "geo": {
           "bgcolor": "white",
           "lakecolor": "white",
           "landcolor": "#E5ECF6",
           "showlakes": true,
           "showland": true,
           "subunitcolor": "white"
          },
          "hoverlabel": {
           "align": "left"
          },
          "hovermode": "closest",
          "mapbox": {
           "style": "light"
          },
          "paper_bgcolor": "white",
          "plot_bgcolor": "#E5ECF6",
          "polar": {
           "angularaxis": {
            "gridcolor": "white",
            "linecolor": "white",
            "ticks": ""
           },
           "bgcolor": "#E5ECF6",
           "radialaxis": {
            "gridcolor": "white",
            "linecolor": "white",
            "ticks": ""
           }
          },
          "scene": {
           "xaxis": {
            "backgroundcolor": "#E5ECF6",
            "gridcolor": "white",
            "gridwidth": 2,
            "linecolor": "white",
            "showbackground": true,
            "ticks": "",
            "zerolinecolor": "white"
           },
           "yaxis": {
            "backgroundcolor": "#E5ECF6",
            "gridcolor": "white",
            "gridwidth": 2,
            "linecolor": "white",
            "showbackground": true,
            "ticks": "",
            "zerolinecolor": "white"
           },
           "zaxis": {
            "backgroundcolor": "#E5ECF6",
            "gridcolor": "white",
            "gridwidth": 2,
            "linecolor": "white",
            "showbackground": true,
            "ticks": "",
            "zerolinecolor": "white"
           }
          },
          "shapedefaults": {
           "line": {
            "color": "#2a3f5f"
           }
          },
          "ternary": {
           "aaxis": {
            "gridcolor": "white",
            "linecolor": "white",
            "ticks": ""
           },
           "baxis": {
            "gridcolor": "white",
            "linecolor": "white",
            "ticks": ""
           },
           "bgcolor": "#E5ECF6",
           "caxis": {
            "gridcolor": "white",
            "linecolor": "white",
            "ticks": ""
           }
          },
          "title": {
           "x": 0.05
          },
          "xaxis": {
           "automargin": true,
           "gridcolor": "white",
           "linecolor": "white",
           "ticks": "",
           "title": {
            "standoff": 15
           },
           "zerolinecolor": "white",
           "zerolinewidth": 2
          },
          "yaxis": {
           "automargin": true,
           "gridcolor": "white",
           "linecolor": "white",
           "ticks": "",
           "title": {
            "standoff": 15
           },
           "zerolinecolor": "white",
           "zerolinewidth": 2
          }
         }
        },
        "title": {
         "text": "New posts on Medium"
        },
        "yaxis": {
         "title": {
          "text": "Posts"
         }
        }
       }
      },
      "text/html": [
       "<div>                            <div id=\"89986110-56ba-4283-abcf-504b6d524e29\" class=\"plotly-graph-div\" style=\"height:525px; width:100%;\"></div>            <script type=\"text/javascript\">                require([\"plotly\"], function(Plotly) {                    window.PLOTLYENV=window.PLOTLYENV || {};                                    if (document.getElementById(\"89986110-56ba-4283-abcf-504b6d524e29\")) {                    Plotly.newPlot(                        \"89986110-56ba-4283-abcf-504b6d524e29\",                        [{\"line\":{\"width\":0},\"marker\":{\"color\":\"gray\"},\"mode\":\"lines\",\"name\":\"Lower Bound\",\"type\":\"scatter\",\"x\":[\"2017-05-27T00:00:00\",\"2017-05-28T00:00:00\",\"2017-05-29T00:00:00\",\"2017-05-30T00:00:00\",\"2017-05-31T00:00:00\",\"2017-06-01T00:00:00\",\"2017-06-02T00:00:00\",\"2017-06-03T00:00:00\",\"2017-06-04T00:00:00\",\"2017-06-05T00:00:00\",\"2017-06-06T00:00:00\",\"2017-06-07T00:00:00\",\"2017-06-08T00:00:00\",\"2017-06-09T00:00:00\",\"2017-06-10T00:00:00\",\"2017-06-11T00:00:00\",\"2017-06-12T00:00:00\",\"2017-06-13T00:00:00\",\"2017-06-14T00:00:00\",\"2017-06-15T00:00:00\",\"2017-06-16T00:00:00\",\"2017-06-17T00:00:00\",\"2017-06-18T00:00:00\",\"2017-06-19T00:00:00\",\"2017-06-20T00:00:00\",\"2017-06-21T00:00:00\",\"2017-06-22T00:00:00\",\"2017-06-23T00:00:00\",\"2017-06-24T00:00:00\",\"2017-06-25T00:00:00\"],\"y\":[202.41408804195055,207.68959038127662,251.54937915311166,255.57752244887877,253.41949813610452,251.97785463479676,240.69265408936462,204.70813612091138,208.6927894985448,252.87707752475598,257.68875776811404,255.67882780736855,252.53662469827628,243.26153044956834,205.64502417674942,209.96395966082906,257.3292594319847,262.199015549365,262.07774847313704,257.02977292041624,249.22060124463158,211.9604830448777,217.12432172662545,260.96615772307626,264.4813731660746,265.14035067870856,265.9060514105467,254.5930677011665,216.4553539722519,221.6434934091615]},{\"fill\":\"tonexty\",\"fillcolor\":\"rgba(68, 68, 68, 0.3)\",\"line\":{\"width\":0},\"marker\":{\"color\":\"gray\"},\"mode\":\"lines\",\"name\":\"Upper Bound\",\"type\":\"scatter\",\"x\":[\"2017-05-27T00:00:00\",\"2017-05-28T00:00:00\",\"2017-05-29T00:00:00\",\"2017-05-30T00:00:00\",\"2017-05-31T00:00:00\",\"2017-06-01T00:00:00\",\"2017-06-02T00:00:00\",\"2017-06-03T00:00:00\",\"2017-06-04T00:00:00\",\"2017-06-05T00:00:00\",\"2017-06-06T00:00:00\",\"2017-06-07T00:00:00\",\"2017-06-08T00:00:00\",\"2017-06-09T00:00:00\",\"2017-06-10T00:00:00\",\"2017-06-11T00:00:00\",\"2017-06-12T00:00:00\",\"2017-06-13T00:00:00\",\"2017-06-14T00:00:00\",\"2017-06-15T00:00:00\",\"2017-06-16T00:00:00\",\"2017-06-17T00:00:00\",\"2017-06-18T00:00:00\",\"2017-06-19T00:00:00\",\"2017-06-20T00:00:00\",\"2017-06-21T00:00:00\",\"2017-06-22T00:00:00\",\"2017-06-23T00:00:00\",\"2017-06-24T00:00:00\",\"2017-06-25T00:00:00\"],\"y\":[251.20672625719226,256.0422161780867,299.7556657932598,305.64480360577613,304.2979376406746,301.08047594988074,291.47053629579443,251.85226236320958,255.2858844880737,302.84070140872046,306.5141424834367,306.31553814118536,303.3777687430317,293.6901787037,256.35216249054605,261.3636877308484,306.5660873470556,311.1362531121427,312.44487978680866,306.0149776926472,298.77366680524915,261.2817477694492,264.08843237973775,311.5959457091719,314.75636445905695,316.6873722725033,314.8899071316436,305.3493139886843,267.91173402531285,272.10208931340316]},{\"line\":{\"color\":\"rgb(31, 119, 180)\"},\"mode\":\"lines\",\"name\":\"Forecast\",\"type\":\"scatter\",\"x\":[\"2017-05-27T00:00:00\",\"2017-05-28T00:00:00\",\"2017-05-29T00:00:00\",\"2017-05-30T00:00:00\",\"2017-05-31T00:00:00\",\"2017-06-01T00:00:00\",\"2017-06-02T00:00:00\",\"2017-06-03T00:00:00\",\"2017-06-04T00:00:00\",\"2017-06-05T00:00:00\",\"2017-06-06T00:00:00\",\"2017-06-07T00:00:00\",\"2017-06-08T00:00:00\",\"2017-06-09T00:00:00\",\"2017-06-10T00:00:00\",\"2017-06-11T00:00:00\",\"2017-06-12T00:00:00\",\"2017-06-13T00:00:00\",\"2017-06-14T00:00:00\",\"2017-06-15T00:00:00\",\"2017-06-16T00:00:00\",\"2017-06-17T00:00:00\",\"2017-06-18T00:00:00\",\"2017-06-19T00:00:00\",\"2017-06-20T00:00:00\",\"2017-06-21T00:00:00\",\"2017-06-22T00:00:00\",\"2017-06-23T00:00:00\",\"2017-06-24T00:00:00\",\"2017-06-25T00:00:00\"],\"y\":[226.86234179806044,230.61702217964176,275.2252668166182,278.9867173424693,279.21207096085635,275.44245524028497,266.1502056131873,228.9676180587657,232.75027808391306,277.4233051585634,281.28464392096356,281.64273897210575,278.03595596596216,268.9334139562884,231.96380030055116,235.97876794485884,280.89925287906436,285.01884165314175,285.64152433306066,282.30119415878255,273.4625574566312,236.75002374922178,241.01117460754745,286.16314784911356,290.4960659048826,291.3108427874517,288.13873012061663,279.442265124905,242.84418999878966,247.19094089364418]},{\"marker\":{\"color\":\"red\"},\"mode\":\"lines\",\"name\":\"Actual\",\"type\":\"scatter\",\"x\":[\"2017-03-18T00:00:00\",\"2017-03-19T00:00:00\",\"2017-03-20T00:00:00\",\"2017-03-21T00:00:00\",\"2017-03-22T00:00:00\",\"2017-03-23T00:00:00\",\"2017-03-24T00:00:00\",\"2017-03-25T00:00:00\",\"2017-03-26T00:00:00\",\"2017-03-27T00:00:00\",\"2017-03-28T00:00:00\",\"2017-03-29T00:00:00\",\"2017-03-30T00:00:00\",\"2017-03-31T00:00:00\",\"2017-04-01T00:00:00\",\"2017-04-02T00:00:00\",\"2017-04-03T00:00:00\",\"2017-04-04T00:00:00\",\"2017-04-05T00:00:00\",\"2017-04-06T00:00:00\",\"2017-04-07T00:00:00\",\"2017-04-08T00:00:00\",\"2017-04-09T00:00:00\",\"2017-04-10T00:00:00\",\"2017-04-11T00:00:00\",\"2017-04-12T00:00:00\",\"2017-04-13T00:00:00\",\"2017-04-14T00:00:00\",\"2017-04-15T00:00:00\",\"2017-04-16T00:00:00\",\"2017-04-17T00:00:00\",\"2017-04-18T00:00:00\",\"2017-04-19T00:00:00\",\"2017-04-20T00:00:00\",\"2017-04-21T00:00:00\",\"2017-04-22T00:00:00\",\"2017-04-23T00:00:00\",\"2017-04-24T00:00:00\",\"2017-04-25T00:00:00\",\"2017-04-26T00:00:00\",\"2017-04-27T00:00:00\",\"2017-04-28T00:00:00\",\"2017-04-29T00:00:00\",\"2017-04-30T00:00:00\",\"2017-05-01T00:00:00\",\"2017-05-02T00:00:00\",\"2017-05-03T00:00:00\",\"2017-05-04T00:00:00\",\"2017-05-05T00:00:00\",\"2017-05-06T00:00:00\",\"2017-05-07T00:00:00\",\"2017-05-08T00:00:00\",\"2017-05-09T00:00:00\",\"2017-05-10T00:00:00\",\"2017-05-11T00:00:00\",\"2017-05-12T00:00:00\",\"2017-05-13T00:00:00\",\"2017-05-14T00:00:00\",\"2017-05-15T00:00:00\",\"2017-05-16T00:00:00\",\"2017-05-17T00:00:00\",\"2017-05-18T00:00:00\",\"2017-05-19T00:00:00\",\"2017-05-20T00:00:00\",\"2017-05-21T00:00:00\",\"2017-05-22T00:00:00\",\"2017-05-23T00:00:00\",\"2017-05-24T00:00:00\",\"2017-05-25T00:00:00\",\"2017-05-26T00:00:00\",\"2017-05-27T00:00:00\",\"2017-05-28T00:00:00\",\"2017-05-29T00:00:00\",\"2017-05-30T00:00:00\",\"2017-05-31T00:00:00\",\"2017-06-01T00:00:00\",\"2017-06-02T00:00:00\",\"2017-06-03T00:00:00\",\"2017-06-04T00:00:00\",\"2017-06-05T00:00:00\",\"2017-06-06T00:00:00\",\"2017-06-07T00:00:00\",\"2017-06-08T00:00:00\",\"2017-06-09T00:00:00\",\"2017-06-10T00:00:00\",\"2017-06-11T00:00:00\",\"2017-06-12T00:00:00\",\"2017-06-13T00:00:00\",\"2017-06-14T00:00:00\",\"2017-06-15T00:00:00\",\"2017-06-16T00:00:00\",\"2017-06-17T00:00:00\",\"2017-06-18T00:00:00\",\"2017-06-19T00:00:00\",\"2017-06-20T00:00:00\",\"2017-06-21T00:00:00\",\"2017-06-22T00:00:00\",\"2017-06-23T00:00:00\",\"2017-06-24T00:00:00\",\"2017-06-25T00:00:00\"],\"y\":[123,99,205,247,246,228,208,135,129,230,225,238,257,207,125,142,259,221,203,274,221,140,149,238,258,239,250,204,137,143,233,264,278,274,259,178,168,296,306,270,277,262,187,148,305,332,286,284,264,133,136,267,262,264,267,281,205,180,341,345,367,336,301,156,194,341,388,375,298,269,157,172,297,365,407,392,328,170,194,340,348,323,347,291,165,193,349,358,344,336,345,188,243,408,417,422,441,421,277,253]}],                        {\"showlegend\":false,\"template\":{\"data\":{\"bar\":[{\"error_x\":{\"color\":\"#2a3f5f\"},\"error_y\":{\"color\":\"#2a3f5f\"},\"marker\":{\"line\":{\"color\":\"#E5ECF6\",\"width\":0.5},\"pattern\":{\"fillmode\":\"overlay\",\"size\":10,\"solidity\":0.2}},\"type\":\"bar\"}],\"barpolar\":[{\"marker\":{\"line\":{\"color\":\"#E5ECF6\",\"width\":0.5},\"pattern\":{\"fillmode\":\"overlay\",\"size\":10,\"solidity\":0.2}},\"type\":\"barpolar\"}],\"carpet\":[{\"aaxis\":{\"endlinecolor\":\"#2a3f5f\",\"gridcolor\":\"white\",\"linecolor\":\"white\",\"minorgridcolor\":\"white\",\"startlinecolor\":\"#2a3f5f\"},\"baxis\":{\"endlinecolor\":\"#2a3f5f\",\"gridcolor\":\"white\",\"linecolor\":\"white\",\"minorgridcolor\":\"white\",\"startlinecolor\":\"#2a3f5f\"},\"type\":\"carpet\"}],\"choropleth\":[{\"colorbar\":{\"outlinewidth\":0,\"ticks\":\"\"},\"type\":\"choropleth\"}],\"contour\":[{\"colorbar\":{\"outlinewidth\":0,\"ticks\":\"\"},\"colorscale\":[[0.0,\"#0d0887\"],[0.1111111111111111,\"#46039f\"],[0.2222222222222222,\"#7201a8\"],[0.3333333333333333,\"#9c179e\"],[0.4444444444444444,\"#bd3786\"],[0.5555555555555556,\"#d8576b\"],[0.6666666666666666,\"#ed7953\"],[0.7777777777777778,\"#fb9f3a\"],[0.8888888888888888,\"#fdca26\"],[1.0,\"#f0f921\"]],\"type\":\"contour\"}],\"contourcarpet\":[{\"colorbar\":{\"outlinewidth\":0,\"ticks\":\"\"},\"type\":\"contourcarpet\"}],\"heatmap\":[{\"colorbar\":{\"outlinewidth\":0,\"ticks\":\"\"},\"colorscale\":[[0.0,\"#0d0887\"],[0.1111111111111111,\"#46039f\"],[0.2222222222222222,\"#7201a8\"],[0.3333333333333333,\"#9c179e\"],[0.4444444444444444,\"#bd3786\"],[0.5555555555555556,\"#d8576b\"],[0.6666666666666666,\"#ed7953\"],[0.7777777777777778,\"#fb9f3a\"],[0.8888888888888888,\"#fdca26\"],[1.0,\"#f0f921\"]],\"type\":\"heatmap\"}],\"heatmapgl\":[{\"colorbar\":{\"outlinewidth\":0,\"ticks\":\"\"},\"colorscale\":[[0.0,\"#0d0887\"],[0.1111111111111111,\"#46039f\"],[0.2222222222222222,\"#7201a8\"],[0.3333333333333333,\"#9c179e\"],[0.4444444444444444,\"#bd3786\"],[0.5555555555555556,\"#d8576b\"],[0.6666666666666666,\"#ed7953\"],[0.7777777777777778,\"#fb9f3a\"],[0.8888888888888888,\"#fdca26\"],[1.0,\"#f0f921\"]],\"type\":\"heatmapgl\"}],\"histogram\":[{\"marker\":{\"pattern\":{\"fillmode\":\"overlay\",\"size\":10,\"solidity\":0.2}},\"type\":\"histogram\"}],\"histogram2d\":[{\"colorbar\":{\"outlinewidth\":0,\"ticks\":\"\"},\"colorscale\":[[0.0,\"#0d0887\"],[0.1111111111111111,\"#46039f\"],[0.2222222222222222,\"#7201a8\"],[0.3333333333333333,\"#9c179e\"],[0.4444444444444444,\"#bd3786\"],[0.5555555555555556,\"#d8576b\"],[0.6666666666666666,\"#ed7953\"],[0.7777777777777778,\"#fb9f3a\"],[0.8888888888888888,\"#fdca26\"],[1.0,\"#f0f921\"]],\"type\":\"histogram2d\"}],\"histogram2dcontour\":[{\"colorbar\":{\"outlinewidth\":0,\"ticks\":\"\"},\"colorscale\":[[0.0,\"#0d0887\"],[0.1111111111111111,\"#46039f\"],[0.2222222222222222,\"#7201a8\"],[0.3333333333333333,\"#9c179e\"],[0.4444444444444444,\"#bd3786\"],[0.5555555555555556,\"#d8576b\"],[0.6666666666666666,\"#ed7953\"],[0.7777777777777778,\"#fb9f3a\"],[0.8888888888888888,\"#fdca26\"],[1.0,\"#f0f921\"]],\"type\":\"histogram2dcontour\"}],\"mesh3d\":[{\"colorbar\":{\"outlinewidth\":0,\"ticks\":\"\"},\"type\":\"mesh3d\"}],\"parcoords\":[{\"line\":{\"colorbar\":{\"outlinewidth\":0,\"ticks\":\"\"}},\"type\":\"parcoords\"}],\"pie\":[{\"automargin\":true,\"type\":\"pie\"}],\"scatter\":[{\"marker\":{\"colorbar\":{\"outlinewidth\":0,\"ticks\":\"\"}},\"type\":\"scatter\"}],\"scatter3d\":[{\"line\":{\"colorbar\":{\"outlinewidth\":0,\"ticks\":\"\"}},\"marker\":{\"colorbar\":{\"outlinewidth\":0,\"ticks\":\"\"}},\"type\":\"scatter3d\"}],\"scattercarpet\":[{\"marker\":{\"colorbar\":{\"outlinewidth\":0,\"ticks\":\"\"}},\"type\":\"scattercarpet\"}],\"scattergeo\":[{\"marker\":{\"colorbar\":{\"outlinewidth\":0,\"ticks\":\"\"}},\"type\":\"scattergeo\"}],\"scattergl\":[{\"marker\":{\"colorbar\":{\"outlinewidth\":0,\"ticks\":\"\"}},\"type\":\"scattergl\"}],\"scattermapbox\":[{\"marker\":{\"colorbar\":{\"outlinewidth\":0,\"ticks\":\"\"}},\"type\":\"scattermapbox\"}],\"scatterpolar\":[{\"marker\":{\"colorbar\":{\"outlinewidth\":0,\"ticks\":\"\"}},\"type\":\"scatterpolar\"}],\"scatterpolargl\":[{\"marker\":{\"colorbar\":{\"outlinewidth\":0,\"ticks\":\"\"}},\"type\":\"scatterpolargl\"}],\"scatterternary\":[{\"marker\":{\"colorbar\":{\"outlinewidth\":0,\"ticks\":\"\"}},\"type\":\"scatterternary\"}],\"surface\":[{\"colorbar\":{\"outlinewidth\":0,\"ticks\":\"\"},\"colorscale\":[[0.0,\"#0d0887\"],[0.1111111111111111,\"#46039f\"],[0.2222222222222222,\"#7201a8\"],[0.3333333333333333,\"#9c179e\"],[0.4444444444444444,\"#bd3786\"],[0.5555555555555556,\"#d8576b\"],[0.6666666666666666,\"#ed7953\"],[0.7777777777777778,\"#fb9f3a\"],[0.8888888888888888,\"#fdca26\"],[1.0,\"#f0f921\"]],\"type\":\"surface\"}],\"table\":[{\"cells\":{\"fill\":{\"color\":\"#EBF0F8\"},\"line\":{\"color\":\"white\"}},\"header\":{\"fill\":{\"color\":\"#C8D4E3\"},\"line\":{\"color\":\"white\"}},\"type\":\"table\"}]},\"layout\":{\"annotationdefaults\":{\"arrowcolor\":\"#2a3f5f\",\"arrowhead\":0,\"arrowwidth\":1},\"autotypenumbers\":\"strict\",\"coloraxis\":{\"colorbar\":{\"outlinewidth\":0,\"ticks\":\"\"}},\"colorscale\":{\"diverging\":[[0,\"#8e0152\"],[0.1,\"#c51b7d\"],[0.2,\"#de77ae\"],[0.3,\"#f1b6da\"],[0.4,\"#fde0ef\"],[0.5,\"#f7f7f7\"],[0.6,\"#e6f5d0\"],[0.7,\"#b8e186\"],[0.8,\"#7fbc41\"],[0.9,\"#4d9221\"],[1,\"#276419\"]],\"sequential\":[[0.0,\"#0d0887\"],[0.1111111111111111,\"#46039f\"],[0.2222222222222222,\"#7201a8\"],[0.3333333333333333,\"#9c179e\"],[0.4444444444444444,\"#bd3786\"],[0.5555555555555556,\"#d8576b\"],[0.6666666666666666,\"#ed7953\"],[0.7777777777777778,\"#fb9f3a\"],[0.8888888888888888,\"#fdca26\"],[1.0,\"#f0f921\"]],\"sequentialminus\":[[0.0,\"#0d0887\"],[0.1111111111111111,\"#46039f\"],[0.2222222222222222,\"#7201a8\"],[0.3333333333333333,\"#9c179e\"],[0.4444444444444444,\"#bd3786\"],[0.5555555555555556,\"#d8576b\"],[0.6666666666666666,\"#ed7953\"],[0.7777777777777778,\"#fb9f3a\"],[0.8888888888888888,\"#fdca26\"],[1.0,\"#f0f921\"]]},\"colorway\":[\"#636efa\",\"#EF553B\",\"#00cc96\",\"#ab63fa\",\"#FFA15A\",\"#19d3f3\",\"#FF6692\",\"#B6E880\",\"#FF97FF\",\"#FECB52\"],\"font\":{\"color\":\"#2a3f5f\"},\"geo\":{\"bgcolor\":\"white\",\"lakecolor\":\"white\",\"landcolor\":\"#E5ECF6\",\"showlakes\":true,\"showland\":true,\"subunitcolor\":\"white\"},\"hoverlabel\":{\"align\":\"left\"},\"hovermode\":\"closest\",\"mapbox\":{\"style\":\"light\"},\"paper_bgcolor\":\"white\",\"plot_bgcolor\":\"#E5ECF6\",\"polar\":{\"angularaxis\":{\"gridcolor\":\"white\",\"linecolor\":\"white\",\"ticks\":\"\"},\"bgcolor\":\"#E5ECF6\",\"radialaxis\":{\"gridcolor\":\"white\",\"linecolor\":\"white\",\"ticks\":\"\"}},\"scene\":{\"xaxis\":{\"backgroundcolor\":\"#E5ECF6\",\"gridcolor\":\"white\",\"gridwidth\":2,\"linecolor\":\"white\",\"showbackground\":true,\"ticks\":\"\",\"zerolinecolor\":\"white\"},\"yaxis\":{\"backgroundcolor\":\"#E5ECF6\",\"gridcolor\":\"white\",\"gridwidth\":2,\"linecolor\":\"white\",\"showbackground\":true,\"ticks\":\"\",\"zerolinecolor\":\"white\"},\"zaxis\":{\"backgroundcolor\":\"#E5ECF6\",\"gridcolor\":\"white\",\"gridwidth\":2,\"linecolor\":\"white\",\"showbackground\":true,\"ticks\":\"\",\"zerolinecolor\":\"white\"}},\"shapedefaults\":{\"line\":{\"color\":\"#2a3f5f\"}},\"ternary\":{\"aaxis\":{\"gridcolor\":\"white\",\"linecolor\":\"white\",\"ticks\":\"\"},\"baxis\":{\"gridcolor\":\"white\",\"linecolor\":\"white\",\"ticks\":\"\"},\"bgcolor\":\"#E5ECF6\",\"caxis\":{\"gridcolor\":\"white\",\"linecolor\":\"white\",\"ticks\":\"\"}},\"title\":{\"x\":0.05},\"xaxis\":{\"automargin\":true,\"gridcolor\":\"white\",\"linecolor\":\"white\",\"ticks\":\"\",\"title\":{\"standoff\":15},\"zerolinecolor\":\"white\",\"zerolinewidth\":2},\"yaxis\":{\"automargin\":true,\"gridcolor\":\"white\",\"linecolor\":\"white\",\"ticks\":\"\",\"title\":{\"standoff\":15},\"zerolinecolor\":\"white\",\"zerolinewidth\":2}}},\"title\":{\"text\":\"New posts on Medium\"},\"yaxis\":{\"title\":{\"text\":\"Posts\"}}},                        {\"responsive\": true}                    ).then(function(){\n",
       "                            \n",
       "var gd = document.getElementById('89986110-56ba-4283-abcf-504b6d524e29');\n",
       "var x = new MutationObserver(function (mutations, observer) {{\n",
       "        var display = window.getComputedStyle(gd).display;\n",
       "        if (!display || display === 'none') {{\n",
       "            console.log([gd, 'removed!']);\n",
       "            Plotly.purge(gd);\n",
       "            observer.disconnect();\n",
       "        }}\n",
       "}});\n",
       "\n",
       "// Listen for the removal of the full notebook cells\n",
       "var notebookContainer = gd.closest('#notebook-container');\n",
       "if (notebookContainer) {{\n",
       "    x.observe(notebookContainer, {childList: true});\n",
       "}}\n",
       "\n",
       "// Listen for the clearing of the current output cell\n",
       "var outputEl = gd.closest('.output');\n",
       "if (outputEl) {{\n",
       "    x.observe(outputEl, {childList: true});\n",
       "}}\n",
       "\n",
       "                        })                };                });            </script>        </div>"
      ]
     },
     "metadata": {},
     "output_type": "display_data"
    }
   ],
   "source": [
    "def show_forecast(cmp_df, num_predictions, num_values, title):\n",
    "    \"\"\"Visualize the forecast.\"\"\"\n",
    "    \n",
    "    def create_go(name, column, num, **kwargs):\n",
    "        points = cmp_df.tail(num)\n",
    "        args = dict(name=name, x=points.index, y=points[column], mode='lines')\n",
    "        args.update(kwargs)\n",
    "        return go.Scatter(**args)\n",
    "    \n",
    "    lower_bound = create_go('Lower Bound', 'yhat_lower', num_predictions,\n",
    "                            line=dict(width=0),\n",
    "                            marker=dict(color=\"gray\"))\n",
    "    upper_bound = create_go('Upper Bound', 'yhat_upper', num_predictions,\n",
    "                            line=dict(width=0),\n",
    "                            marker=dict(color=\"gray\"),\n",
    "                            fillcolor='rgba(68, 68, 68, 0.3)', \n",
    "                            fill='tonexty')\n",
    "    forecast = create_go('Forecast', 'yhat', num_predictions,\n",
    "                         line=dict(color='rgb(31, 119, 180)'))\n",
    "    actual = create_go('Actual', 'y', num_values,\n",
    "                       marker=dict(color=\"red\"))\n",
    "    \n",
    "    # In this case the order of the series is important because of the filling\n",
    "    data = [lower_bound, upper_bound, forecast, actual]\n",
    "\n",
    "    layout = go.Layout(yaxis=dict(title='Posts'), title=title, showlegend = False)\n",
    "    fig = go.Figure(data=data, layout=layout)\n",
    "    iplot(fig, show_link=False)\n",
    "\n",
    "show_forecast(cmp_df, prediction_size, 100, 'New posts on Medium')"
   ]
  },
  {
   "cell_type": "markdown",
   "id": "47584883",
   "metadata": {
    "_uuid": "4a8c76e26da79076aeced5d77a90193016819f48",
    "papermill": {
     "duration": 0.096786,
     "end_time": "2021-08-24T14:02:03.256400",
     "exception": false,
     "start_time": "2021-08-24T14:02:03.159614",
     "status": "completed"
    },
    "slideshow": {
     "slide_type": "slide"
    },
    "tags": []
   },
   "source": [
    "Kalau dilihat dari hasil ini, merah (data aktual), biru adalah prediksi, secara mean sepertinya benar. Tetapi model kita ternyata tidak bisa menangkap peak dan dips weekly seasonality. \n",
    "\n",
    "Terlihat pula banyak data actual keluar dari confident interval fb prophet model. Ini mungkin karena unstable variance. Coba kita gunakan box-cox transformation."
   ]
  },
  {
   "cell_type": "markdown",
   "id": "7e46d65e",
   "metadata": {
    "_uuid": "5bb384d525974d23dc320f98d73cc96c455bf2b8",
    "papermill": {
     "duration": 0.096884,
     "end_time": "2021-08-24T14:02:03.448601",
     "exception": false,
     "start_time": "2021-08-24T14:02:03.351717",
     "status": "completed"
    },
    "slideshow": {
     "slide_type": "slide"
    },
    "tags": []
   },
   "source": [
    "## Box-Cox Transformation"
   ]
  },
  {
   "cell_type": "markdown",
   "id": "9101ba52",
   "metadata": {
    "papermill": {
     "duration": 0.093901,
     "end_time": "2021-08-24T14:02:03.637563",
     "exception": false,
     "start_time": "2021-08-24T14:02:03.543662",
     "status": "completed"
    },
    "slideshow": {
     "slide_type": "slide"
    },
    "tags": []
   },
   "source": [
    "More info: [Box–Cox transformation](http://onlinestatbook.com/2/transformations/box-cox.html)\n"
   ]
  },
  {
   "cell_type": "code",
   "execution_count": 32,
   "id": "87baf6bd",
   "metadata": {
    "execution": {
     "iopub.execute_input": "2021-08-24T14:02:03.831239Z",
     "iopub.status.busy": "2021-08-24T14:02:03.830579Z",
     "iopub.status.idle": "2021-08-24T14:02:03.834429Z",
     "shell.execute_reply": "2021-08-24T14:02:03.834940Z",
     "shell.execute_reply.started": "2021-08-24T14:00:55.865034Z"
    },
    "papermill": {
     "duration": 0.102386,
     "end_time": "2021-08-24T14:02:03.835138",
     "exception": false,
     "start_time": "2021-08-24T14:02:03.732752",
     "status": "completed"
    },
    "slideshow": {
     "slide_type": "slide"
    },
    "tags": []
   },
   "outputs": [],
   "source": [
    "def inverse_boxcox(y, lambda_):\n",
    "    return np.exp(y) if lambda_ == 0 else np.exp(np.log(lambda_ * y + 1) / lambda_)"
   ]
  },
  {
   "cell_type": "code",
   "execution_count": 33,
   "id": "cb621a1b",
   "metadata": {
    "_uuid": "c27fd56eb35f757313a6414e4d27fc9b76c57948",
    "execution": {
     "iopub.execute_input": "2021-08-24T14:02:04.031203Z",
     "iopub.status.busy": "2021-08-24T14:02:04.030144Z",
     "iopub.status.idle": "2021-08-24T14:02:04.038322Z",
     "shell.execute_reply": "2021-08-24T14:02:04.037406Z",
     "shell.execute_reply.started": "2021-08-24T14:00:55.872260Z"
    },
    "papermill": {
     "duration": 0.106404,
     "end_time": "2021-08-24T14:02:04.038666",
     "exception": false,
     "start_time": "2021-08-24T14:02:03.932262",
     "status": "completed"
    },
    "slideshow": {
     "slide_type": "slide"
    },
    "tags": []
   },
   "outputs": [],
   "source": [
    "train_df2 = train_df.copy().set_index('ds')"
   ]
  },
  {
   "cell_type": "code",
   "execution_count": 34,
   "id": "0353f575",
   "metadata": {
    "execution": {
     "iopub.execute_input": "2021-08-24T14:02:04.241034Z",
     "iopub.status.busy": "2021-08-24T14:02:04.240278Z",
     "iopub.status.idle": "2021-08-24T14:02:04.245188Z",
     "shell.execute_reply": "2021-08-24T14:02:04.244609Z",
     "shell.execute_reply.started": "2021-08-24T14:00:55.885407Z"
    },
    "papermill": {
     "duration": 0.110042,
     "end_time": "2021-08-24T14:02:04.245331",
     "exception": false,
     "start_time": "2021-08-24T14:02:04.135289",
     "status": "completed"
    },
    "slideshow": {
     "slide_type": "slide"
    },
    "tags": []
   },
   "outputs": [
    {
     "data": {
      "text/html": [
       "<div>\n",
       "<style scoped>\n",
       "    .dataframe tbody tr th:only-of-type {\n",
       "        vertical-align: middle;\n",
       "    }\n",
       "\n",
       "    .dataframe tbody tr th {\n",
       "        vertical-align: top;\n",
       "    }\n",
       "\n",
       "    .dataframe thead th {\n",
       "        text-align: right;\n",
       "    }\n",
       "</style>\n",
       "<table border=\"1\" class=\"dataframe\">\n",
       "  <thead>\n",
       "    <tr style=\"text-align: right;\">\n",
       "      <th></th>\n",
       "      <th>y</th>\n",
       "    </tr>\n",
       "    <tr>\n",
       "      <th>ds</th>\n",
       "      <th></th>\n",
       "    </tr>\n",
       "  </thead>\n",
       "  <tbody>\n",
       "    <tr>\n",
       "      <th>2015-01-01</th>\n",
       "      <td>8</td>\n",
       "    </tr>\n",
       "    <tr>\n",
       "      <th>2015-01-02</th>\n",
       "      <td>11</td>\n",
       "    </tr>\n",
       "    <tr>\n",
       "      <th>2015-01-03</th>\n",
       "      <td>11</td>\n",
       "    </tr>\n",
       "    <tr>\n",
       "      <th>2015-01-04</th>\n",
       "      <td>8</td>\n",
       "    </tr>\n",
       "    <tr>\n",
       "      <th>2015-01-05</th>\n",
       "      <td>27</td>\n",
       "    </tr>\n",
       "  </tbody>\n",
       "</table>\n",
       "</div>"
      ],
      "text/plain": [
       "             y\n",
       "ds            \n",
       "2015-01-01   8\n",
       "2015-01-02  11\n",
       "2015-01-03  11\n",
       "2015-01-04   8\n",
       "2015-01-05  27"
      ]
     },
     "execution_count": 34,
     "metadata": {},
     "output_type": "execute_result"
    }
   ],
   "source": [
    "train_df2.head()"
   ]
  },
  {
   "cell_type": "code",
   "execution_count": 35,
   "id": "64bf4d1e",
   "metadata": {
    "_uuid": "7557b0eded0e424a9470a9ab98faf7b29314868d",
    "execution": {
     "iopub.execute_input": "2021-08-24T14:02:04.441919Z",
     "iopub.status.busy": "2021-08-24T14:02:04.440829Z",
     "iopub.status.idle": "2021-08-24T14:02:04.449804Z",
     "shell.execute_reply": "2021-08-24T14:02:04.449097Z",
     "shell.execute_reply.started": "2021-08-24T14:00:55.907969Z"
    },
    "papermill": {
     "duration": 0.109678,
     "end_time": "2021-08-24T14:02:04.449948",
     "exception": false,
     "start_time": "2021-08-24T14:02:04.340270",
     "status": "completed"
    },
    "slideshow": {
     "slide_type": "slide"
    },
    "tags": []
   },
   "outputs": [],
   "source": [
    "train_df2['y'], lambda_prophet = stats.boxcox(train_df2['y'])\n",
    "train_df2.reset_index(inplace=True)"
   ]
  },
  {
   "cell_type": "markdown",
   "id": "de1bcfbb",
   "metadata": {
    "_uuid": "adf93208ea7e43e2ee6c99b6daebcaea8f82a2e3",
    "papermill": {
     "duration": 0.095375,
     "end_time": "2021-08-24T14:02:04.640292",
     "exception": false,
     "start_time": "2021-08-24T14:02:04.544917",
     "status": "completed"
    },
    "slideshow": {
     "slide_type": "slide"
    },
    "tags": []
   },
   "source": [
    "New Prophet model"
   ]
  },
  {
   "cell_type": "code",
   "execution_count": 36,
   "id": "cec35136",
   "metadata": {
    "_uuid": "7df4a1bdf99b0f1e50a2ff3bf9af358946ba3d96",
    "execution": {
     "iopub.execute_input": "2021-08-24T14:02:04.835899Z",
     "iopub.status.busy": "2021-08-24T14:02:04.834454Z",
     "iopub.status.idle": "2021-08-24T14:02:09.236334Z",
     "shell.execute_reply": "2021-08-24T14:02:09.235642Z",
     "shell.execute_reply.started": "2021-08-24T14:00:55.928526Z"
    },
    "papermill": {
     "duration": 4.501822,
     "end_time": "2021-08-24T14:02:09.236496",
     "exception": false,
     "start_time": "2021-08-24T14:02:04.734674",
     "status": "completed"
    },
    "slideshow": {
     "slide_type": "slide"
    },
    "tags": []
   },
   "outputs": [],
   "source": [
    "m2 = Prophet()\n",
    "m2.fit(train_df2)\n",
    "future2 = m2.make_future_dataframe(periods=prediction_size)\n",
    "forecast2 = m2.predict(future2)"
   ]
  },
  {
   "cell_type": "code",
   "execution_count": 37,
   "id": "14f84b2e",
   "metadata": {
    "_uuid": "2fbfa38418e173eac77b8fcddc08a84b9fe3368b",
    "execution": {
     "iopub.execute_input": "2021-08-24T14:02:09.434988Z",
     "iopub.status.busy": "2021-08-24T14:02:09.433895Z",
     "iopub.status.idle": "2021-08-24T14:02:09.440758Z",
     "shell.execute_reply": "2021-08-24T14:02:09.440206Z",
     "shell.execute_reply.started": "2021-08-24T14:01:00.654279Z"
    },
    "papermill": {
     "duration": 0.109159,
     "end_time": "2021-08-24T14:02:09.440913",
     "exception": false,
     "start_time": "2021-08-24T14:02:09.331754",
     "status": "completed"
    },
    "slideshow": {
     "slide_type": "slide"
    },
    "tags": []
   },
   "outputs": [],
   "source": [
    "for column in ['yhat', 'yhat_lower', 'yhat_upper']:\n",
    "    forecast2[column] = inverse_boxcox(forecast2[column], lambda_prophet)"
   ]
  },
  {
   "cell_type": "markdown",
   "id": "6b2dce38",
   "metadata": {
    "_uuid": "c2a6742112742652a6099155e27a195193f4c850",
    "papermill": {
     "duration": 0.094916,
     "end_time": "2021-08-24T14:02:09.632050",
     "exception": false,
     "start_time": "2021-08-24T14:02:09.537134",
     "status": "completed"
    },
    "slideshow": {
     "slide_type": "slide"
    },
    "tags": []
   },
   "source": [
    "Compare prediksi result setelah box-cox dengan actual data"
   ]
  },
  {
   "cell_type": "code",
   "execution_count": 38,
   "id": "718156c4",
   "metadata": {
    "_uuid": "f5d721a282833d93e89bde8fbdcace2a4b6ce9ff",
    "execution": {
     "iopub.execute_input": "2021-08-24T14:02:09.825716Z",
     "iopub.status.busy": "2021-08-24T14:02:09.824970Z",
     "iopub.status.idle": "2021-08-24T14:02:09.838070Z",
     "shell.execute_reply": "2021-08-24T14:02:09.838883Z",
     "shell.execute_reply.started": "2021-08-24T14:01:00.664897Z"
    },
    "papermill": {
     "duration": 0.111976,
     "end_time": "2021-08-24T14:02:09.839120",
     "exception": false,
     "start_time": "2021-08-24T14:02:09.727144",
     "status": "completed"
    },
    "slideshow": {
     "slide_type": "slide"
    },
    "tags": []
   },
   "outputs": [
    {
     "name": "stdout",
     "output_type": "stream",
     "text": [
      "MAPE 12.034640875645486\n",
      "MAE 40.923902597393194\n"
     ]
    }
   ],
   "source": [
    "cmp_df2 = make_comparison_dataframe(df, forecast2)\n",
    "for err_name, err_value in calculate_forecast_errors(cmp_df2, prediction_size).items():\n",
    "    print(err_name, err_value)"
   ]
  },
  {
   "cell_type": "markdown",
   "id": "94519c28",
   "metadata": {
    "_uuid": "d7b0a79a51e8c63eb53d2b9f84ff239336ff850b",
    "papermill": {
     "duration": 0.095811,
     "end_time": "2021-08-24T14:02:10.031030",
     "exception": false,
     "start_time": "2021-08-24T14:02:09.935219",
     "status": "completed"
    },
    "slideshow": {
     "slide_type": "slide"
    },
    "tags": []
   },
   "source": [
    "Nah, kita bisa improve modelnya nih, sekarang percentage error MAPE 12%"
   ]
  },
  {
   "cell_type": "code",
   "execution_count": 39,
   "id": "9d0d3ac9",
   "metadata": {
    "_uuid": "cc01ea4c37a45874106df1aafd588f105d79b5dd",
    "execution": {
     "iopub.execute_input": "2021-08-24T14:02:10.226922Z",
     "iopub.status.busy": "2021-08-24T14:02:10.226222Z",
     "iopub.status.idle": "2021-08-24T14:02:10.334184Z",
     "shell.execute_reply": "2021-08-24T14:02:10.334749Z",
     "shell.execute_reply.started": "2021-08-24T14:01:00.684552Z"
    },
    "papermill": {
     "duration": 0.207795,
     "end_time": "2021-08-24T14:02:10.334935",
     "exception": false,
     "start_time": "2021-08-24T14:02:10.127140",
     "status": "completed"
    },
    "slideshow": {
     "slide_type": "slide"
    },
    "tags": []
   },
   "outputs": [
    {
     "data": {
      "application/vnd.plotly.v1+json": {
       "config": {
        "linkText": "Export to plot.ly",
        "plotlyServerURL": "https://plot.ly",
        "showLink": false
       },
       "data": [
        {
         "line": {
          "width": 0
         },
         "marker": {
          "color": "gray"
         },
         "mode": "lines",
         "name": "Lower Bound",
         "type": "scatter",
         "x": [
          "2017-05-27T00:00:00",
          "2017-05-28T00:00:00",
          "2017-05-29T00:00:00",
          "2017-05-30T00:00:00",
          "2017-05-31T00:00:00",
          "2017-06-01T00:00:00",
          "2017-06-02T00:00:00",
          "2017-06-03T00:00:00",
          "2017-06-04T00:00:00",
          "2017-06-05T00:00:00",
          "2017-06-06T00:00:00",
          "2017-06-07T00:00:00",
          "2017-06-08T00:00:00",
          "2017-06-09T00:00:00",
          "2017-06-10T00:00:00",
          "2017-06-11T00:00:00",
          "2017-06-12T00:00:00",
          "2017-06-13T00:00:00",
          "2017-06-14T00:00:00",
          "2017-06-15T00:00:00",
          "2017-06-16T00:00:00",
          "2017-06-17T00:00:00",
          "2017-06-18T00:00:00",
          "2017-06-19T00:00:00",
          "2017-06-20T00:00:00",
          "2017-06-21T00:00:00",
          "2017-06-22T00:00:00",
          "2017-06-23T00:00:00",
          "2017-06-24T00:00:00",
          "2017-06-25T00:00:00"
         ],
         "y": [
          202.41408804195055,
          207.68959038127662,
          251.54937915311166,
          255.57752244887877,
          253.41949813610452,
          251.97785463479676,
          240.69265408936462,
          204.70813612091138,
          208.6927894985448,
          252.87707752475598,
          257.68875776811404,
          255.67882780736855,
          252.53662469827628,
          243.26153044956834,
          205.64502417674942,
          209.96395966082906,
          257.3292594319847,
          262.199015549365,
          262.07774847313704,
          257.02977292041624,
          249.22060124463158,
          211.9604830448777,
          217.12432172662545,
          260.96615772307626,
          264.4813731660746,
          265.14035067870856,
          265.9060514105467,
          254.5930677011665,
          216.4553539722519,
          221.6434934091615
         ]
        },
        {
         "fill": "tonexty",
         "fillcolor": "rgba(68, 68, 68, 0.3)",
         "line": {
          "width": 0
         },
         "marker": {
          "color": "gray"
         },
         "mode": "lines",
         "name": "Upper Bound",
         "type": "scatter",
         "x": [
          "2017-05-27T00:00:00",
          "2017-05-28T00:00:00",
          "2017-05-29T00:00:00",
          "2017-05-30T00:00:00",
          "2017-05-31T00:00:00",
          "2017-06-01T00:00:00",
          "2017-06-02T00:00:00",
          "2017-06-03T00:00:00",
          "2017-06-04T00:00:00",
          "2017-06-05T00:00:00",
          "2017-06-06T00:00:00",
          "2017-06-07T00:00:00",
          "2017-06-08T00:00:00",
          "2017-06-09T00:00:00",
          "2017-06-10T00:00:00",
          "2017-06-11T00:00:00",
          "2017-06-12T00:00:00",
          "2017-06-13T00:00:00",
          "2017-06-14T00:00:00",
          "2017-06-15T00:00:00",
          "2017-06-16T00:00:00",
          "2017-06-17T00:00:00",
          "2017-06-18T00:00:00",
          "2017-06-19T00:00:00",
          "2017-06-20T00:00:00",
          "2017-06-21T00:00:00",
          "2017-06-22T00:00:00",
          "2017-06-23T00:00:00",
          "2017-06-24T00:00:00",
          "2017-06-25T00:00:00"
         ],
         "y": [
          251.20672625719226,
          256.0422161780867,
          299.7556657932598,
          305.64480360577613,
          304.2979376406746,
          301.08047594988074,
          291.47053629579443,
          251.85226236320958,
          255.2858844880737,
          302.84070140872046,
          306.5141424834367,
          306.31553814118536,
          303.3777687430317,
          293.6901787037,
          256.35216249054605,
          261.3636877308484,
          306.5660873470556,
          311.1362531121427,
          312.44487978680866,
          306.0149776926472,
          298.77366680524915,
          261.2817477694492,
          264.08843237973775,
          311.5959457091719,
          314.75636445905695,
          316.6873722725033,
          314.8899071316436,
          305.3493139886843,
          267.91173402531285,
          272.10208931340316
         ]
        },
        {
         "line": {
          "color": "rgb(31, 119, 180)"
         },
         "mode": "lines",
         "name": "Forecast",
         "type": "scatter",
         "x": [
          "2017-05-27T00:00:00",
          "2017-05-28T00:00:00",
          "2017-05-29T00:00:00",
          "2017-05-30T00:00:00",
          "2017-05-31T00:00:00",
          "2017-06-01T00:00:00",
          "2017-06-02T00:00:00",
          "2017-06-03T00:00:00",
          "2017-06-04T00:00:00",
          "2017-06-05T00:00:00",
          "2017-06-06T00:00:00",
          "2017-06-07T00:00:00",
          "2017-06-08T00:00:00",
          "2017-06-09T00:00:00",
          "2017-06-10T00:00:00",
          "2017-06-11T00:00:00",
          "2017-06-12T00:00:00",
          "2017-06-13T00:00:00",
          "2017-06-14T00:00:00",
          "2017-06-15T00:00:00",
          "2017-06-16T00:00:00",
          "2017-06-17T00:00:00",
          "2017-06-18T00:00:00",
          "2017-06-19T00:00:00",
          "2017-06-20T00:00:00",
          "2017-06-21T00:00:00",
          "2017-06-22T00:00:00",
          "2017-06-23T00:00:00",
          "2017-06-24T00:00:00",
          "2017-06-25T00:00:00"
         ],
         "y": [
          226.86234179806044,
          230.61702217964176,
          275.2252668166182,
          278.9867173424693,
          279.21207096085635,
          275.44245524028497,
          266.1502056131873,
          228.9676180587657,
          232.75027808391306,
          277.4233051585634,
          281.28464392096356,
          281.64273897210575,
          278.03595596596216,
          268.9334139562884,
          231.96380030055116,
          235.97876794485884,
          280.89925287906436,
          285.01884165314175,
          285.64152433306066,
          282.30119415878255,
          273.4625574566312,
          236.75002374922178,
          241.01117460754745,
          286.16314784911356,
          290.4960659048826,
          291.3108427874517,
          288.13873012061663,
          279.442265124905,
          242.84418999878966,
          247.19094089364418
         ]
        },
        {
         "marker": {
          "color": "red"
         },
         "mode": "lines",
         "name": "Actual",
         "type": "scatter",
         "x": [
          "2017-03-18T00:00:00",
          "2017-03-19T00:00:00",
          "2017-03-20T00:00:00",
          "2017-03-21T00:00:00",
          "2017-03-22T00:00:00",
          "2017-03-23T00:00:00",
          "2017-03-24T00:00:00",
          "2017-03-25T00:00:00",
          "2017-03-26T00:00:00",
          "2017-03-27T00:00:00",
          "2017-03-28T00:00:00",
          "2017-03-29T00:00:00",
          "2017-03-30T00:00:00",
          "2017-03-31T00:00:00",
          "2017-04-01T00:00:00",
          "2017-04-02T00:00:00",
          "2017-04-03T00:00:00",
          "2017-04-04T00:00:00",
          "2017-04-05T00:00:00",
          "2017-04-06T00:00:00",
          "2017-04-07T00:00:00",
          "2017-04-08T00:00:00",
          "2017-04-09T00:00:00",
          "2017-04-10T00:00:00",
          "2017-04-11T00:00:00",
          "2017-04-12T00:00:00",
          "2017-04-13T00:00:00",
          "2017-04-14T00:00:00",
          "2017-04-15T00:00:00",
          "2017-04-16T00:00:00",
          "2017-04-17T00:00:00",
          "2017-04-18T00:00:00",
          "2017-04-19T00:00:00",
          "2017-04-20T00:00:00",
          "2017-04-21T00:00:00",
          "2017-04-22T00:00:00",
          "2017-04-23T00:00:00",
          "2017-04-24T00:00:00",
          "2017-04-25T00:00:00",
          "2017-04-26T00:00:00",
          "2017-04-27T00:00:00",
          "2017-04-28T00:00:00",
          "2017-04-29T00:00:00",
          "2017-04-30T00:00:00",
          "2017-05-01T00:00:00",
          "2017-05-02T00:00:00",
          "2017-05-03T00:00:00",
          "2017-05-04T00:00:00",
          "2017-05-05T00:00:00",
          "2017-05-06T00:00:00",
          "2017-05-07T00:00:00",
          "2017-05-08T00:00:00",
          "2017-05-09T00:00:00",
          "2017-05-10T00:00:00",
          "2017-05-11T00:00:00",
          "2017-05-12T00:00:00",
          "2017-05-13T00:00:00",
          "2017-05-14T00:00:00",
          "2017-05-15T00:00:00",
          "2017-05-16T00:00:00",
          "2017-05-17T00:00:00",
          "2017-05-18T00:00:00",
          "2017-05-19T00:00:00",
          "2017-05-20T00:00:00",
          "2017-05-21T00:00:00",
          "2017-05-22T00:00:00",
          "2017-05-23T00:00:00",
          "2017-05-24T00:00:00",
          "2017-05-25T00:00:00",
          "2017-05-26T00:00:00",
          "2017-05-27T00:00:00",
          "2017-05-28T00:00:00",
          "2017-05-29T00:00:00",
          "2017-05-30T00:00:00",
          "2017-05-31T00:00:00",
          "2017-06-01T00:00:00",
          "2017-06-02T00:00:00",
          "2017-06-03T00:00:00",
          "2017-06-04T00:00:00",
          "2017-06-05T00:00:00",
          "2017-06-06T00:00:00",
          "2017-06-07T00:00:00",
          "2017-06-08T00:00:00",
          "2017-06-09T00:00:00",
          "2017-06-10T00:00:00",
          "2017-06-11T00:00:00",
          "2017-06-12T00:00:00",
          "2017-06-13T00:00:00",
          "2017-06-14T00:00:00",
          "2017-06-15T00:00:00",
          "2017-06-16T00:00:00",
          "2017-06-17T00:00:00",
          "2017-06-18T00:00:00",
          "2017-06-19T00:00:00",
          "2017-06-20T00:00:00",
          "2017-06-21T00:00:00",
          "2017-06-22T00:00:00",
          "2017-06-23T00:00:00",
          "2017-06-24T00:00:00",
          "2017-06-25T00:00:00"
         ],
         "y": [
          123,
          99,
          205,
          247,
          246,
          228,
          208,
          135,
          129,
          230,
          225,
          238,
          257,
          207,
          125,
          142,
          259,
          221,
          203,
          274,
          221,
          140,
          149,
          238,
          258,
          239,
          250,
          204,
          137,
          143,
          233,
          264,
          278,
          274,
          259,
          178,
          168,
          296,
          306,
          270,
          277,
          262,
          187,
          148,
          305,
          332,
          286,
          284,
          264,
          133,
          136,
          267,
          262,
          264,
          267,
          281,
          205,
          180,
          341,
          345,
          367,
          336,
          301,
          156,
          194,
          341,
          388,
          375,
          298,
          269,
          157,
          172,
          297,
          365,
          407,
          392,
          328,
          170,
          194,
          340,
          348,
          323,
          347,
          291,
          165,
          193,
          349,
          358,
          344,
          336,
          345,
          188,
          243,
          408,
          417,
          422,
          441,
          421,
          277,
          253
         ]
        }
       ],
       "layout": {
        "showlegend": false,
        "template": {
         "data": {
          "bar": [
           {
            "error_x": {
             "color": "#2a3f5f"
            },
            "error_y": {
             "color": "#2a3f5f"
            },
            "marker": {
             "line": {
              "color": "#E5ECF6",
              "width": 0.5
             },
             "pattern": {
              "fillmode": "overlay",
              "size": 10,
              "solidity": 0.2
             }
            },
            "type": "bar"
           }
          ],
          "barpolar": [
           {
            "marker": {
             "line": {
              "color": "#E5ECF6",
              "width": 0.5
             },
             "pattern": {
              "fillmode": "overlay",
              "size": 10,
              "solidity": 0.2
             }
            },
            "type": "barpolar"
           }
          ],
          "carpet": [
           {
            "aaxis": {
             "endlinecolor": "#2a3f5f",
             "gridcolor": "white",
             "linecolor": "white",
             "minorgridcolor": "white",
             "startlinecolor": "#2a3f5f"
            },
            "baxis": {
             "endlinecolor": "#2a3f5f",
             "gridcolor": "white",
             "linecolor": "white",
             "minorgridcolor": "white",
             "startlinecolor": "#2a3f5f"
            },
            "type": "carpet"
           }
          ],
          "choropleth": [
           {
            "colorbar": {
             "outlinewidth": 0,
             "ticks": ""
            },
            "type": "choropleth"
           }
          ],
          "contour": [
           {
            "colorbar": {
             "outlinewidth": 0,
             "ticks": ""
            },
            "colorscale": [
             [
              0,
              "#0d0887"
             ],
             [
              0.1111111111111111,
              "#46039f"
             ],
             [
              0.2222222222222222,
              "#7201a8"
             ],
             [
              0.3333333333333333,
              "#9c179e"
             ],
             [
              0.4444444444444444,
              "#bd3786"
             ],
             [
              0.5555555555555556,
              "#d8576b"
             ],
             [
              0.6666666666666666,
              "#ed7953"
             ],
             [
              0.7777777777777778,
              "#fb9f3a"
             ],
             [
              0.8888888888888888,
              "#fdca26"
             ],
             [
              1,
              "#f0f921"
             ]
            ],
            "type": "contour"
           }
          ],
          "contourcarpet": [
           {
            "colorbar": {
             "outlinewidth": 0,
             "ticks": ""
            },
            "type": "contourcarpet"
           }
          ],
          "heatmap": [
           {
            "colorbar": {
             "outlinewidth": 0,
             "ticks": ""
            },
            "colorscale": [
             [
              0,
              "#0d0887"
             ],
             [
              0.1111111111111111,
              "#46039f"
             ],
             [
              0.2222222222222222,
              "#7201a8"
             ],
             [
              0.3333333333333333,
              "#9c179e"
             ],
             [
              0.4444444444444444,
              "#bd3786"
             ],
             [
              0.5555555555555556,
              "#d8576b"
             ],
             [
              0.6666666666666666,
              "#ed7953"
             ],
             [
              0.7777777777777778,
              "#fb9f3a"
             ],
             [
              0.8888888888888888,
              "#fdca26"
             ],
             [
              1,
              "#f0f921"
             ]
            ],
            "type": "heatmap"
           }
          ],
          "heatmapgl": [
           {
            "colorbar": {
             "outlinewidth": 0,
             "ticks": ""
            },
            "colorscale": [
             [
              0,
              "#0d0887"
             ],
             [
              0.1111111111111111,
              "#46039f"
             ],
             [
              0.2222222222222222,
              "#7201a8"
             ],
             [
              0.3333333333333333,
              "#9c179e"
             ],
             [
              0.4444444444444444,
              "#bd3786"
             ],
             [
              0.5555555555555556,
              "#d8576b"
             ],
             [
              0.6666666666666666,
              "#ed7953"
             ],
             [
              0.7777777777777778,
              "#fb9f3a"
             ],
             [
              0.8888888888888888,
              "#fdca26"
             ],
             [
              1,
              "#f0f921"
             ]
            ],
            "type": "heatmapgl"
           }
          ],
          "histogram": [
           {
            "marker": {
             "pattern": {
              "fillmode": "overlay",
              "size": 10,
              "solidity": 0.2
             }
            },
            "type": "histogram"
           }
          ],
          "histogram2d": [
           {
            "colorbar": {
             "outlinewidth": 0,
             "ticks": ""
            },
            "colorscale": [
             [
              0,
              "#0d0887"
             ],
             [
              0.1111111111111111,
              "#46039f"
             ],
             [
              0.2222222222222222,
              "#7201a8"
             ],
             [
              0.3333333333333333,
              "#9c179e"
             ],
             [
              0.4444444444444444,
              "#bd3786"
             ],
             [
              0.5555555555555556,
              "#d8576b"
             ],
             [
              0.6666666666666666,
              "#ed7953"
             ],
             [
              0.7777777777777778,
              "#fb9f3a"
             ],
             [
              0.8888888888888888,
              "#fdca26"
             ],
             [
              1,
              "#f0f921"
             ]
            ],
            "type": "histogram2d"
           }
          ],
          "histogram2dcontour": [
           {
            "colorbar": {
             "outlinewidth": 0,
             "ticks": ""
            },
            "colorscale": [
             [
              0,
              "#0d0887"
             ],
             [
              0.1111111111111111,
              "#46039f"
             ],
             [
              0.2222222222222222,
              "#7201a8"
             ],
             [
              0.3333333333333333,
              "#9c179e"
             ],
             [
              0.4444444444444444,
              "#bd3786"
             ],
             [
              0.5555555555555556,
              "#d8576b"
             ],
             [
              0.6666666666666666,
              "#ed7953"
             ],
             [
              0.7777777777777778,
              "#fb9f3a"
             ],
             [
              0.8888888888888888,
              "#fdca26"
             ],
             [
              1,
              "#f0f921"
             ]
            ],
            "type": "histogram2dcontour"
           }
          ],
          "mesh3d": [
           {
            "colorbar": {
             "outlinewidth": 0,
             "ticks": ""
            },
            "type": "mesh3d"
           }
          ],
          "parcoords": [
           {
            "line": {
             "colorbar": {
              "outlinewidth": 0,
              "ticks": ""
             }
            },
            "type": "parcoords"
           }
          ],
          "pie": [
           {
            "automargin": true,
            "type": "pie"
           }
          ],
          "scatter": [
           {
            "marker": {
             "colorbar": {
              "outlinewidth": 0,
              "ticks": ""
             }
            },
            "type": "scatter"
           }
          ],
          "scatter3d": [
           {
            "line": {
             "colorbar": {
              "outlinewidth": 0,
              "ticks": ""
             }
            },
            "marker": {
             "colorbar": {
              "outlinewidth": 0,
              "ticks": ""
             }
            },
            "type": "scatter3d"
           }
          ],
          "scattercarpet": [
           {
            "marker": {
             "colorbar": {
              "outlinewidth": 0,
              "ticks": ""
             }
            },
            "type": "scattercarpet"
           }
          ],
          "scattergeo": [
           {
            "marker": {
             "colorbar": {
              "outlinewidth": 0,
              "ticks": ""
             }
            },
            "type": "scattergeo"
           }
          ],
          "scattergl": [
           {
            "marker": {
             "colorbar": {
              "outlinewidth": 0,
              "ticks": ""
             }
            },
            "type": "scattergl"
           }
          ],
          "scattermapbox": [
           {
            "marker": {
             "colorbar": {
              "outlinewidth": 0,
              "ticks": ""
             }
            },
            "type": "scattermapbox"
           }
          ],
          "scatterpolar": [
           {
            "marker": {
             "colorbar": {
              "outlinewidth": 0,
              "ticks": ""
             }
            },
            "type": "scatterpolar"
           }
          ],
          "scatterpolargl": [
           {
            "marker": {
             "colorbar": {
              "outlinewidth": 0,
              "ticks": ""
             }
            },
            "type": "scatterpolargl"
           }
          ],
          "scatterternary": [
           {
            "marker": {
             "colorbar": {
              "outlinewidth": 0,
              "ticks": ""
             }
            },
            "type": "scatterternary"
           }
          ],
          "surface": [
           {
            "colorbar": {
             "outlinewidth": 0,
             "ticks": ""
            },
            "colorscale": [
             [
              0,
              "#0d0887"
             ],
             [
              0.1111111111111111,
              "#46039f"
             ],
             [
              0.2222222222222222,
              "#7201a8"
             ],
             [
              0.3333333333333333,
              "#9c179e"
             ],
             [
              0.4444444444444444,
              "#bd3786"
             ],
             [
              0.5555555555555556,
              "#d8576b"
             ],
             [
              0.6666666666666666,
              "#ed7953"
             ],
             [
              0.7777777777777778,
              "#fb9f3a"
             ],
             [
              0.8888888888888888,
              "#fdca26"
             ],
             [
              1,
              "#f0f921"
             ]
            ],
            "type": "surface"
           }
          ],
          "table": [
           {
            "cells": {
             "fill": {
              "color": "#EBF0F8"
             },
             "line": {
              "color": "white"
             }
            },
            "header": {
             "fill": {
              "color": "#C8D4E3"
             },
             "line": {
              "color": "white"
             }
            },
            "type": "table"
           }
          ]
         },
         "layout": {
          "annotationdefaults": {
           "arrowcolor": "#2a3f5f",
           "arrowhead": 0,
           "arrowwidth": 1
          },
          "autotypenumbers": "strict",
          "coloraxis": {
           "colorbar": {
            "outlinewidth": 0,
            "ticks": ""
           }
          },
          "colorscale": {
           "diverging": [
            [
             0,
             "#8e0152"
            ],
            [
             0.1,
             "#c51b7d"
            ],
            [
             0.2,
             "#de77ae"
            ],
            [
             0.3,
             "#f1b6da"
            ],
            [
             0.4,
             "#fde0ef"
            ],
            [
             0.5,
             "#f7f7f7"
            ],
            [
             0.6,
             "#e6f5d0"
            ],
            [
             0.7,
             "#b8e186"
            ],
            [
             0.8,
             "#7fbc41"
            ],
            [
             0.9,
             "#4d9221"
            ],
            [
             1,
             "#276419"
            ]
           ],
           "sequential": [
            [
             0,
             "#0d0887"
            ],
            [
             0.1111111111111111,
             "#46039f"
            ],
            [
             0.2222222222222222,
             "#7201a8"
            ],
            [
             0.3333333333333333,
             "#9c179e"
            ],
            [
             0.4444444444444444,
             "#bd3786"
            ],
            [
             0.5555555555555556,
             "#d8576b"
            ],
            [
             0.6666666666666666,
             "#ed7953"
            ],
            [
             0.7777777777777778,
             "#fb9f3a"
            ],
            [
             0.8888888888888888,
             "#fdca26"
            ],
            [
             1,
             "#f0f921"
            ]
           ],
           "sequentialminus": [
            [
             0,
             "#0d0887"
            ],
            [
             0.1111111111111111,
             "#46039f"
            ],
            [
             0.2222222222222222,
             "#7201a8"
            ],
            [
             0.3333333333333333,
             "#9c179e"
            ],
            [
             0.4444444444444444,
             "#bd3786"
            ],
            [
             0.5555555555555556,
             "#d8576b"
            ],
            [
             0.6666666666666666,
             "#ed7953"
            ],
            [
             0.7777777777777778,
             "#fb9f3a"
            ],
            [
             0.8888888888888888,
             "#fdca26"
            ],
            [
             1,
             "#f0f921"
            ]
           ]
          },
          "colorway": [
           "#636efa",
           "#EF553B",
           "#00cc96",
           "#ab63fa",
           "#FFA15A",
           "#19d3f3",
           "#FF6692",
           "#B6E880",
           "#FF97FF",
           "#FECB52"
          ],
          "font": {
           "color": "#2a3f5f"
          },
          "geo": {
           "bgcolor": "white",
           "lakecolor": "white",
           "landcolor": "#E5ECF6",
           "showlakes": true,
           "showland": true,
           "subunitcolor": "white"
          },
          "hoverlabel": {
           "align": "left"
          },
          "hovermode": "closest",
          "mapbox": {
           "style": "light"
          },
          "paper_bgcolor": "white",
          "plot_bgcolor": "#E5ECF6",
          "polar": {
           "angularaxis": {
            "gridcolor": "white",
            "linecolor": "white",
            "ticks": ""
           },
           "bgcolor": "#E5ECF6",
           "radialaxis": {
            "gridcolor": "white",
            "linecolor": "white",
            "ticks": ""
           }
          },
          "scene": {
           "xaxis": {
            "backgroundcolor": "#E5ECF6",
            "gridcolor": "white",
            "gridwidth": 2,
            "linecolor": "white",
            "showbackground": true,
            "ticks": "",
            "zerolinecolor": "white"
           },
           "yaxis": {
            "backgroundcolor": "#E5ECF6",
            "gridcolor": "white",
            "gridwidth": 2,
            "linecolor": "white",
            "showbackground": true,
            "ticks": "",
            "zerolinecolor": "white"
           },
           "zaxis": {
            "backgroundcolor": "#E5ECF6",
            "gridcolor": "white",
            "gridwidth": 2,
            "linecolor": "white",
            "showbackground": true,
            "ticks": "",
            "zerolinecolor": "white"
           }
          },
          "shapedefaults": {
           "line": {
            "color": "#2a3f5f"
           }
          },
          "ternary": {
           "aaxis": {
            "gridcolor": "white",
            "linecolor": "white",
            "ticks": ""
           },
           "baxis": {
            "gridcolor": "white",
            "linecolor": "white",
            "ticks": ""
           },
           "bgcolor": "#E5ECF6",
           "caxis": {
            "gridcolor": "white",
            "linecolor": "white",
            "ticks": ""
           }
          },
          "title": {
           "x": 0.05
          },
          "xaxis": {
           "automargin": true,
           "gridcolor": "white",
           "linecolor": "white",
           "ticks": "",
           "title": {
            "standoff": 15
           },
           "zerolinecolor": "white",
           "zerolinewidth": 2
          },
          "yaxis": {
           "automargin": true,
           "gridcolor": "white",
           "linecolor": "white",
           "ticks": "",
           "title": {
            "standoff": 15
           },
           "zerolinecolor": "white",
           "zerolinewidth": 2
          }
         }
        },
        "title": {
         "text": "No transformations"
        },
        "yaxis": {
         "title": {
          "text": "Posts"
         }
        }
       }
      },
      "text/html": [
       "<div>                            <div id=\"ac4853ac-9a64-4112-9e3c-1590f44e256a\" class=\"plotly-graph-div\" style=\"height:525px; width:100%;\"></div>            <script type=\"text/javascript\">                require([\"plotly\"], function(Plotly) {                    window.PLOTLYENV=window.PLOTLYENV || {};                                    if (document.getElementById(\"ac4853ac-9a64-4112-9e3c-1590f44e256a\")) {                    Plotly.newPlot(                        \"ac4853ac-9a64-4112-9e3c-1590f44e256a\",                        [{\"line\":{\"width\":0},\"marker\":{\"color\":\"gray\"},\"mode\":\"lines\",\"name\":\"Lower Bound\",\"type\":\"scatter\",\"x\":[\"2017-05-27T00:00:00\",\"2017-05-28T00:00:00\",\"2017-05-29T00:00:00\",\"2017-05-30T00:00:00\",\"2017-05-31T00:00:00\",\"2017-06-01T00:00:00\",\"2017-06-02T00:00:00\",\"2017-06-03T00:00:00\",\"2017-06-04T00:00:00\",\"2017-06-05T00:00:00\",\"2017-06-06T00:00:00\",\"2017-06-07T00:00:00\",\"2017-06-08T00:00:00\",\"2017-06-09T00:00:00\",\"2017-06-10T00:00:00\",\"2017-06-11T00:00:00\",\"2017-06-12T00:00:00\",\"2017-06-13T00:00:00\",\"2017-06-14T00:00:00\",\"2017-06-15T00:00:00\",\"2017-06-16T00:00:00\",\"2017-06-17T00:00:00\",\"2017-06-18T00:00:00\",\"2017-06-19T00:00:00\",\"2017-06-20T00:00:00\",\"2017-06-21T00:00:00\",\"2017-06-22T00:00:00\",\"2017-06-23T00:00:00\",\"2017-06-24T00:00:00\",\"2017-06-25T00:00:00\"],\"y\":[202.41408804195055,207.68959038127662,251.54937915311166,255.57752244887877,253.41949813610452,251.97785463479676,240.69265408936462,204.70813612091138,208.6927894985448,252.87707752475598,257.68875776811404,255.67882780736855,252.53662469827628,243.26153044956834,205.64502417674942,209.96395966082906,257.3292594319847,262.199015549365,262.07774847313704,257.02977292041624,249.22060124463158,211.9604830448777,217.12432172662545,260.96615772307626,264.4813731660746,265.14035067870856,265.9060514105467,254.5930677011665,216.4553539722519,221.6434934091615]},{\"fill\":\"tonexty\",\"fillcolor\":\"rgba(68, 68, 68, 0.3)\",\"line\":{\"width\":0},\"marker\":{\"color\":\"gray\"},\"mode\":\"lines\",\"name\":\"Upper Bound\",\"type\":\"scatter\",\"x\":[\"2017-05-27T00:00:00\",\"2017-05-28T00:00:00\",\"2017-05-29T00:00:00\",\"2017-05-30T00:00:00\",\"2017-05-31T00:00:00\",\"2017-06-01T00:00:00\",\"2017-06-02T00:00:00\",\"2017-06-03T00:00:00\",\"2017-06-04T00:00:00\",\"2017-06-05T00:00:00\",\"2017-06-06T00:00:00\",\"2017-06-07T00:00:00\",\"2017-06-08T00:00:00\",\"2017-06-09T00:00:00\",\"2017-06-10T00:00:00\",\"2017-06-11T00:00:00\",\"2017-06-12T00:00:00\",\"2017-06-13T00:00:00\",\"2017-06-14T00:00:00\",\"2017-06-15T00:00:00\",\"2017-06-16T00:00:00\",\"2017-06-17T00:00:00\",\"2017-06-18T00:00:00\",\"2017-06-19T00:00:00\",\"2017-06-20T00:00:00\",\"2017-06-21T00:00:00\",\"2017-06-22T00:00:00\",\"2017-06-23T00:00:00\",\"2017-06-24T00:00:00\",\"2017-06-25T00:00:00\"],\"y\":[251.20672625719226,256.0422161780867,299.7556657932598,305.64480360577613,304.2979376406746,301.08047594988074,291.47053629579443,251.85226236320958,255.2858844880737,302.84070140872046,306.5141424834367,306.31553814118536,303.3777687430317,293.6901787037,256.35216249054605,261.3636877308484,306.5660873470556,311.1362531121427,312.44487978680866,306.0149776926472,298.77366680524915,261.2817477694492,264.08843237973775,311.5959457091719,314.75636445905695,316.6873722725033,314.8899071316436,305.3493139886843,267.91173402531285,272.10208931340316]},{\"line\":{\"color\":\"rgb(31, 119, 180)\"},\"mode\":\"lines\",\"name\":\"Forecast\",\"type\":\"scatter\",\"x\":[\"2017-05-27T00:00:00\",\"2017-05-28T00:00:00\",\"2017-05-29T00:00:00\",\"2017-05-30T00:00:00\",\"2017-05-31T00:00:00\",\"2017-06-01T00:00:00\",\"2017-06-02T00:00:00\",\"2017-06-03T00:00:00\",\"2017-06-04T00:00:00\",\"2017-06-05T00:00:00\",\"2017-06-06T00:00:00\",\"2017-06-07T00:00:00\",\"2017-06-08T00:00:00\",\"2017-06-09T00:00:00\",\"2017-06-10T00:00:00\",\"2017-06-11T00:00:00\",\"2017-06-12T00:00:00\",\"2017-06-13T00:00:00\",\"2017-06-14T00:00:00\",\"2017-06-15T00:00:00\",\"2017-06-16T00:00:00\",\"2017-06-17T00:00:00\",\"2017-06-18T00:00:00\",\"2017-06-19T00:00:00\",\"2017-06-20T00:00:00\",\"2017-06-21T00:00:00\",\"2017-06-22T00:00:00\",\"2017-06-23T00:00:00\",\"2017-06-24T00:00:00\",\"2017-06-25T00:00:00\"],\"y\":[226.86234179806044,230.61702217964176,275.2252668166182,278.9867173424693,279.21207096085635,275.44245524028497,266.1502056131873,228.9676180587657,232.75027808391306,277.4233051585634,281.28464392096356,281.64273897210575,278.03595596596216,268.9334139562884,231.96380030055116,235.97876794485884,280.89925287906436,285.01884165314175,285.64152433306066,282.30119415878255,273.4625574566312,236.75002374922178,241.01117460754745,286.16314784911356,290.4960659048826,291.3108427874517,288.13873012061663,279.442265124905,242.84418999878966,247.19094089364418]},{\"marker\":{\"color\":\"red\"},\"mode\":\"lines\",\"name\":\"Actual\",\"type\":\"scatter\",\"x\":[\"2017-03-18T00:00:00\",\"2017-03-19T00:00:00\",\"2017-03-20T00:00:00\",\"2017-03-21T00:00:00\",\"2017-03-22T00:00:00\",\"2017-03-23T00:00:00\",\"2017-03-24T00:00:00\",\"2017-03-25T00:00:00\",\"2017-03-26T00:00:00\",\"2017-03-27T00:00:00\",\"2017-03-28T00:00:00\",\"2017-03-29T00:00:00\",\"2017-03-30T00:00:00\",\"2017-03-31T00:00:00\",\"2017-04-01T00:00:00\",\"2017-04-02T00:00:00\",\"2017-04-03T00:00:00\",\"2017-04-04T00:00:00\",\"2017-04-05T00:00:00\",\"2017-04-06T00:00:00\",\"2017-04-07T00:00:00\",\"2017-04-08T00:00:00\",\"2017-04-09T00:00:00\",\"2017-04-10T00:00:00\",\"2017-04-11T00:00:00\",\"2017-04-12T00:00:00\",\"2017-04-13T00:00:00\",\"2017-04-14T00:00:00\",\"2017-04-15T00:00:00\",\"2017-04-16T00:00:00\",\"2017-04-17T00:00:00\",\"2017-04-18T00:00:00\",\"2017-04-19T00:00:00\",\"2017-04-20T00:00:00\",\"2017-04-21T00:00:00\",\"2017-04-22T00:00:00\",\"2017-04-23T00:00:00\",\"2017-04-24T00:00:00\",\"2017-04-25T00:00:00\",\"2017-04-26T00:00:00\",\"2017-04-27T00:00:00\",\"2017-04-28T00:00:00\",\"2017-04-29T00:00:00\",\"2017-04-30T00:00:00\",\"2017-05-01T00:00:00\",\"2017-05-02T00:00:00\",\"2017-05-03T00:00:00\",\"2017-05-04T00:00:00\",\"2017-05-05T00:00:00\",\"2017-05-06T00:00:00\",\"2017-05-07T00:00:00\",\"2017-05-08T00:00:00\",\"2017-05-09T00:00:00\",\"2017-05-10T00:00:00\",\"2017-05-11T00:00:00\",\"2017-05-12T00:00:00\",\"2017-05-13T00:00:00\",\"2017-05-14T00:00:00\",\"2017-05-15T00:00:00\",\"2017-05-16T00:00:00\",\"2017-05-17T00:00:00\",\"2017-05-18T00:00:00\",\"2017-05-19T00:00:00\",\"2017-05-20T00:00:00\",\"2017-05-21T00:00:00\",\"2017-05-22T00:00:00\",\"2017-05-23T00:00:00\",\"2017-05-24T00:00:00\",\"2017-05-25T00:00:00\",\"2017-05-26T00:00:00\",\"2017-05-27T00:00:00\",\"2017-05-28T00:00:00\",\"2017-05-29T00:00:00\",\"2017-05-30T00:00:00\",\"2017-05-31T00:00:00\",\"2017-06-01T00:00:00\",\"2017-06-02T00:00:00\",\"2017-06-03T00:00:00\",\"2017-06-04T00:00:00\",\"2017-06-05T00:00:00\",\"2017-06-06T00:00:00\",\"2017-06-07T00:00:00\",\"2017-06-08T00:00:00\",\"2017-06-09T00:00:00\",\"2017-06-10T00:00:00\",\"2017-06-11T00:00:00\",\"2017-06-12T00:00:00\",\"2017-06-13T00:00:00\",\"2017-06-14T00:00:00\",\"2017-06-15T00:00:00\",\"2017-06-16T00:00:00\",\"2017-06-17T00:00:00\",\"2017-06-18T00:00:00\",\"2017-06-19T00:00:00\",\"2017-06-20T00:00:00\",\"2017-06-21T00:00:00\",\"2017-06-22T00:00:00\",\"2017-06-23T00:00:00\",\"2017-06-24T00:00:00\",\"2017-06-25T00:00:00\"],\"y\":[123,99,205,247,246,228,208,135,129,230,225,238,257,207,125,142,259,221,203,274,221,140,149,238,258,239,250,204,137,143,233,264,278,274,259,178,168,296,306,270,277,262,187,148,305,332,286,284,264,133,136,267,262,264,267,281,205,180,341,345,367,336,301,156,194,341,388,375,298,269,157,172,297,365,407,392,328,170,194,340,348,323,347,291,165,193,349,358,344,336,345,188,243,408,417,422,441,421,277,253]}],                        {\"showlegend\":false,\"template\":{\"data\":{\"bar\":[{\"error_x\":{\"color\":\"#2a3f5f\"},\"error_y\":{\"color\":\"#2a3f5f\"},\"marker\":{\"line\":{\"color\":\"#E5ECF6\",\"width\":0.5},\"pattern\":{\"fillmode\":\"overlay\",\"size\":10,\"solidity\":0.2}},\"type\":\"bar\"}],\"barpolar\":[{\"marker\":{\"line\":{\"color\":\"#E5ECF6\",\"width\":0.5},\"pattern\":{\"fillmode\":\"overlay\",\"size\":10,\"solidity\":0.2}},\"type\":\"barpolar\"}],\"carpet\":[{\"aaxis\":{\"endlinecolor\":\"#2a3f5f\",\"gridcolor\":\"white\",\"linecolor\":\"white\",\"minorgridcolor\":\"white\",\"startlinecolor\":\"#2a3f5f\"},\"baxis\":{\"endlinecolor\":\"#2a3f5f\",\"gridcolor\":\"white\",\"linecolor\":\"white\",\"minorgridcolor\":\"white\",\"startlinecolor\":\"#2a3f5f\"},\"type\":\"carpet\"}],\"choropleth\":[{\"colorbar\":{\"outlinewidth\":0,\"ticks\":\"\"},\"type\":\"choropleth\"}],\"contour\":[{\"colorbar\":{\"outlinewidth\":0,\"ticks\":\"\"},\"colorscale\":[[0.0,\"#0d0887\"],[0.1111111111111111,\"#46039f\"],[0.2222222222222222,\"#7201a8\"],[0.3333333333333333,\"#9c179e\"],[0.4444444444444444,\"#bd3786\"],[0.5555555555555556,\"#d8576b\"],[0.6666666666666666,\"#ed7953\"],[0.7777777777777778,\"#fb9f3a\"],[0.8888888888888888,\"#fdca26\"],[1.0,\"#f0f921\"]],\"type\":\"contour\"}],\"contourcarpet\":[{\"colorbar\":{\"outlinewidth\":0,\"ticks\":\"\"},\"type\":\"contourcarpet\"}],\"heatmap\":[{\"colorbar\":{\"outlinewidth\":0,\"ticks\":\"\"},\"colorscale\":[[0.0,\"#0d0887\"],[0.1111111111111111,\"#46039f\"],[0.2222222222222222,\"#7201a8\"],[0.3333333333333333,\"#9c179e\"],[0.4444444444444444,\"#bd3786\"],[0.5555555555555556,\"#d8576b\"],[0.6666666666666666,\"#ed7953\"],[0.7777777777777778,\"#fb9f3a\"],[0.8888888888888888,\"#fdca26\"],[1.0,\"#f0f921\"]],\"type\":\"heatmap\"}],\"heatmapgl\":[{\"colorbar\":{\"outlinewidth\":0,\"ticks\":\"\"},\"colorscale\":[[0.0,\"#0d0887\"],[0.1111111111111111,\"#46039f\"],[0.2222222222222222,\"#7201a8\"],[0.3333333333333333,\"#9c179e\"],[0.4444444444444444,\"#bd3786\"],[0.5555555555555556,\"#d8576b\"],[0.6666666666666666,\"#ed7953\"],[0.7777777777777778,\"#fb9f3a\"],[0.8888888888888888,\"#fdca26\"],[1.0,\"#f0f921\"]],\"type\":\"heatmapgl\"}],\"histogram\":[{\"marker\":{\"pattern\":{\"fillmode\":\"overlay\",\"size\":10,\"solidity\":0.2}},\"type\":\"histogram\"}],\"histogram2d\":[{\"colorbar\":{\"outlinewidth\":0,\"ticks\":\"\"},\"colorscale\":[[0.0,\"#0d0887\"],[0.1111111111111111,\"#46039f\"],[0.2222222222222222,\"#7201a8\"],[0.3333333333333333,\"#9c179e\"],[0.4444444444444444,\"#bd3786\"],[0.5555555555555556,\"#d8576b\"],[0.6666666666666666,\"#ed7953\"],[0.7777777777777778,\"#fb9f3a\"],[0.8888888888888888,\"#fdca26\"],[1.0,\"#f0f921\"]],\"type\":\"histogram2d\"}],\"histogram2dcontour\":[{\"colorbar\":{\"outlinewidth\":0,\"ticks\":\"\"},\"colorscale\":[[0.0,\"#0d0887\"],[0.1111111111111111,\"#46039f\"],[0.2222222222222222,\"#7201a8\"],[0.3333333333333333,\"#9c179e\"],[0.4444444444444444,\"#bd3786\"],[0.5555555555555556,\"#d8576b\"],[0.6666666666666666,\"#ed7953\"],[0.7777777777777778,\"#fb9f3a\"],[0.8888888888888888,\"#fdca26\"],[1.0,\"#f0f921\"]],\"type\":\"histogram2dcontour\"}],\"mesh3d\":[{\"colorbar\":{\"outlinewidth\":0,\"ticks\":\"\"},\"type\":\"mesh3d\"}],\"parcoords\":[{\"line\":{\"colorbar\":{\"outlinewidth\":0,\"ticks\":\"\"}},\"type\":\"parcoords\"}],\"pie\":[{\"automargin\":true,\"type\":\"pie\"}],\"scatter\":[{\"marker\":{\"colorbar\":{\"outlinewidth\":0,\"ticks\":\"\"}},\"type\":\"scatter\"}],\"scatter3d\":[{\"line\":{\"colorbar\":{\"outlinewidth\":0,\"ticks\":\"\"}},\"marker\":{\"colorbar\":{\"outlinewidth\":0,\"ticks\":\"\"}},\"type\":\"scatter3d\"}],\"scattercarpet\":[{\"marker\":{\"colorbar\":{\"outlinewidth\":0,\"ticks\":\"\"}},\"type\":\"scattercarpet\"}],\"scattergeo\":[{\"marker\":{\"colorbar\":{\"outlinewidth\":0,\"ticks\":\"\"}},\"type\":\"scattergeo\"}],\"scattergl\":[{\"marker\":{\"colorbar\":{\"outlinewidth\":0,\"ticks\":\"\"}},\"type\":\"scattergl\"}],\"scattermapbox\":[{\"marker\":{\"colorbar\":{\"outlinewidth\":0,\"ticks\":\"\"}},\"type\":\"scattermapbox\"}],\"scatterpolar\":[{\"marker\":{\"colorbar\":{\"outlinewidth\":0,\"ticks\":\"\"}},\"type\":\"scatterpolar\"}],\"scatterpolargl\":[{\"marker\":{\"colorbar\":{\"outlinewidth\":0,\"ticks\":\"\"}},\"type\":\"scatterpolargl\"}],\"scatterternary\":[{\"marker\":{\"colorbar\":{\"outlinewidth\":0,\"ticks\":\"\"}},\"type\":\"scatterternary\"}],\"surface\":[{\"colorbar\":{\"outlinewidth\":0,\"ticks\":\"\"},\"colorscale\":[[0.0,\"#0d0887\"],[0.1111111111111111,\"#46039f\"],[0.2222222222222222,\"#7201a8\"],[0.3333333333333333,\"#9c179e\"],[0.4444444444444444,\"#bd3786\"],[0.5555555555555556,\"#d8576b\"],[0.6666666666666666,\"#ed7953\"],[0.7777777777777778,\"#fb9f3a\"],[0.8888888888888888,\"#fdca26\"],[1.0,\"#f0f921\"]],\"type\":\"surface\"}],\"table\":[{\"cells\":{\"fill\":{\"color\":\"#EBF0F8\"},\"line\":{\"color\":\"white\"}},\"header\":{\"fill\":{\"color\":\"#C8D4E3\"},\"line\":{\"color\":\"white\"}},\"type\":\"table\"}]},\"layout\":{\"annotationdefaults\":{\"arrowcolor\":\"#2a3f5f\",\"arrowhead\":0,\"arrowwidth\":1},\"autotypenumbers\":\"strict\",\"coloraxis\":{\"colorbar\":{\"outlinewidth\":0,\"ticks\":\"\"}},\"colorscale\":{\"diverging\":[[0,\"#8e0152\"],[0.1,\"#c51b7d\"],[0.2,\"#de77ae\"],[0.3,\"#f1b6da\"],[0.4,\"#fde0ef\"],[0.5,\"#f7f7f7\"],[0.6,\"#e6f5d0\"],[0.7,\"#b8e186\"],[0.8,\"#7fbc41\"],[0.9,\"#4d9221\"],[1,\"#276419\"]],\"sequential\":[[0.0,\"#0d0887\"],[0.1111111111111111,\"#46039f\"],[0.2222222222222222,\"#7201a8\"],[0.3333333333333333,\"#9c179e\"],[0.4444444444444444,\"#bd3786\"],[0.5555555555555556,\"#d8576b\"],[0.6666666666666666,\"#ed7953\"],[0.7777777777777778,\"#fb9f3a\"],[0.8888888888888888,\"#fdca26\"],[1.0,\"#f0f921\"]],\"sequentialminus\":[[0.0,\"#0d0887\"],[0.1111111111111111,\"#46039f\"],[0.2222222222222222,\"#7201a8\"],[0.3333333333333333,\"#9c179e\"],[0.4444444444444444,\"#bd3786\"],[0.5555555555555556,\"#d8576b\"],[0.6666666666666666,\"#ed7953\"],[0.7777777777777778,\"#fb9f3a\"],[0.8888888888888888,\"#fdca26\"],[1.0,\"#f0f921\"]]},\"colorway\":[\"#636efa\",\"#EF553B\",\"#00cc96\",\"#ab63fa\",\"#FFA15A\",\"#19d3f3\",\"#FF6692\",\"#B6E880\",\"#FF97FF\",\"#FECB52\"],\"font\":{\"color\":\"#2a3f5f\"},\"geo\":{\"bgcolor\":\"white\",\"lakecolor\":\"white\",\"landcolor\":\"#E5ECF6\",\"showlakes\":true,\"showland\":true,\"subunitcolor\":\"white\"},\"hoverlabel\":{\"align\":\"left\"},\"hovermode\":\"closest\",\"mapbox\":{\"style\":\"light\"},\"paper_bgcolor\":\"white\",\"plot_bgcolor\":\"#E5ECF6\",\"polar\":{\"angularaxis\":{\"gridcolor\":\"white\",\"linecolor\":\"white\",\"ticks\":\"\"},\"bgcolor\":\"#E5ECF6\",\"radialaxis\":{\"gridcolor\":\"white\",\"linecolor\":\"white\",\"ticks\":\"\"}},\"scene\":{\"xaxis\":{\"backgroundcolor\":\"#E5ECF6\",\"gridcolor\":\"white\",\"gridwidth\":2,\"linecolor\":\"white\",\"showbackground\":true,\"ticks\":\"\",\"zerolinecolor\":\"white\"},\"yaxis\":{\"backgroundcolor\":\"#E5ECF6\",\"gridcolor\":\"white\",\"gridwidth\":2,\"linecolor\":\"white\",\"showbackground\":true,\"ticks\":\"\",\"zerolinecolor\":\"white\"},\"zaxis\":{\"backgroundcolor\":\"#E5ECF6\",\"gridcolor\":\"white\",\"gridwidth\":2,\"linecolor\":\"white\",\"showbackground\":true,\"ticks\":\"\",\"zerolinecolor\":\"white\"}},\"shapedefaults\":{\"line\":{\"color\":\"#2a3f5f\"}},\"ternary\":{\"aaxis\":{\"gridcolor\":\"white\",\"linecolor\":\"white\",\"ticks\":\"\"},\"baxis\":{\"gridcolor\":\"white\",\"linecolor\":\"white\",\"ticks\":\"\"},\"bgcolor\":\"#E5ECF6\",\"caxis\":{\"gridcolor\":\"white\",\"linecolor\":\"white\",\"ticks\":\"\"}},\"title\":{\"x\":0.05},\"xaxis\":{\"automargin\":true,\"gridcolor\":\"white\",\"linecolor\":\"white\",\"ticks\":\"\",\"title\":{\"standoff\":15},\"zerolinecolor\":\"white\",\"zerolinewidth\":2},\"yaxis\":{\"automargin\":true,\"gridcolor\":\"white\",\"linecolor\":\"white\",\"ticks\":\"\",\"title\":{\"standoff\":15},\"zerolinecolor\":\"white\",\"zerolinewidth\":2}}},\"title\":{\"text\":\"No transformations\"},\"yaxis\":{\"title\":{\"text\":\"Posts\"}}},                        {\"responsive\": true}                    ).then(function(){\n",
       "                            \n",
       "var gd = document.getElementById('ac4853ac-9a64-4112-9e3c-1590f44e256a');\n",
       "var x = new MutationObserver(function (mutations, observer) {{\n",
       "        var display = window.getComputedStyle(gd).display;\n",
       "        if (!display || display === 'none') {{\n",
       "            console.log([gd, 'removed!']);\n",
       "            Plotly.purge(gd);\n",
       "            observer.disconnect();\n",
       "        }}\n",
       "}});\n",
       "\n",
       "// Listen for the removal of the full notebook cells\n",
       "var notebookContainer = gd.closest('#notebook-container');\n",
       "if (notebookContainer) {{\n",
       "    x.observe(notebookContainer, {childList: true});\n",
       "}}\n",
       "\n",
       "// Listen for the clearing of the current output cell\n",
       "var outputEl = gd.closest('.output');\n",
       "if (outputEl) {{\n",
       "    x.observe(outputEl, {childList: true});\n",
       "}}\n",
       "\n",
       "                        })                };                });            </script>        </div>"
      ]
     },
     "metadata": {},
     "output_type": "display_data"
    },
    {
     "data": {
      "application/vnd.plotly.v1+json": {
       "config": {
        "linkText": "Export to plot.ly",
        "plotlyServerURL": "https://plot.ly",
        "showLink": false
       },
       "data": [
        {
         "line": {
          "width": 0
         },
         "marker": {
          "color": "gray"
         },
         "mode": "lines",
         "name": "Lower Bound",
         "type": "scatter",
         "x": [
          "2017-05-27T00:00:00",
          "2017-05-28T00:00:00",
          "2017-05-29T00:00:00",
          "2017-05-30T00:00:00",
          "2017-05-31T00:00:00",
          "2017-06-01T00:00:00",
          "2017-06-02T00:00:00",
          "2017-06-03T00:00:00",
          "2017-06-04T00:00:00",
          "2017-06-05T00:00:00",
          "2017-06-06T00:00:00",
          "2017-06-07T00:00:00",
          "2017-06-08T00:00:00",
          "2017-06-09T00:00:00",
          "2017-06-10T00:00:00",
          "2017-06-11T00:00:00",
          "2017-06-12T00:00:00",
          "2017-06-13T00:00:00",
          "2017-06-14T00:00:00",
          "2017-06-15T00:00:00",
          "2017-06-16T00:00:00",
          "2017-06-17T00:00:00",
          "2017-06-18T00:00:00",
          "2017-06-19T00:00:00",
          "2017-06-20T00:00:00",
          "2017-06-21T00:00:00",
          "2017-06-22T00:00:00",
          "2017-06-23T00:00:00",
          "2017-06-24T00:00:00",
          "2017-06-25T00:00:00"
         ],
         "y": [
          144.71222452564447,
          154.07307750552238,
          252.9426961706491,
          260.2742576992654,
          261.9267770529911,
          250.15095742576835,
          229.09754143344773,
          150.1384147411328,
          158.8184599545884,
          265.1392331401701,
          267.871158240111,
          272.555955950071,
          264.2521236108853,
          244.96294515619553,
          159.9497431387758,
          169.69391112436605,
          278.58207580353604,
          279.58283597567083,
          286.65719406104046,
          274.5035608708135,
          250.98798460286233,
          164.20803963730472,
          176.7116259101046,
          283.85034317829866,
          292.98079884660154,
          294.8713834723676,
          283.10118653679336,
          260.51721072653623,
          168.31180463916584,
          177.3672100053664
         ]
        },
        {
         "fill": "tonexty",
         "fillcolor": "rgba(68, 68, 68, 0.3)",
         "line": {
          "width": 0
         },
         "marker": {
          "color": "gray"
         },
         "mode": "lines",
         "name": "Upper Bound",
         "type": "scatter",
         "x": [
          "2017-05-27T00:00:00",
          "2017-05-28T00:00:00",
          "2017-05-29T00:00:00",
          "2017-05-30T00:00:00",
          "2017-05-31T00:00:00",
          "2017-06-01T00:00:00",
          "2017-06-02T00:00:00",
          "2017-06-03T00:00:00",
          "2017-06-04T00:00:00",
          "2017-06-05T00:00:00",
          "2017-06-06T00:00:00",
          "2017-06-07T00:00:00",
          "2017-06-08T00:00:00",
          "2017-06-09T00:00:00",
          "2017-06-10T00:00:00",
          "2017-06-11T00:00:00",
          "2017-06-12T00:00:00",
          "2017-06-13T00:00:00",
          "2017-06-14T00:00:00",
          "2017-06-15T00:00:00",
          "2017-06-16T00:00:00",
          "2017-06-17T00:00:00",
          "2017-06-18T00:00:00",
          "2017-06-19T00:00:00",
          "2017-06-20T00:00:00",
          "2017-06-21T00:00:00",
          "2017-06-22T00:00:00",
          "2017-06-23T00:00:00",
          "2017-06-24T00:00:00",
          "2017-06-25T00:00:00"
         ],
         "y": [
          204.05436456244664,
          219.82819600438376,
          349.59138606729385,
          349.8501692756063,
          358.53652043667233,
          343.0664557558767,
          322.85534812582176,
          212.64466584498862,
          226.30801505651723,
          362.0195103260421,
          369.2762675945305,
          379.44937137149094,
          362.4792160157405,
          337.70530596007427,
          223.76772295489073,
          235.5063800541112,
          379.19695060193277,
          386.94505429549025,
          390.7062361975876,
          374.69410908685705,
          347.3539930679151,
          233.85273333886164,
          249.90892395629646,
          392.34175181108765,
          397.4886322636083,
          396.82429039809944,
          385.97878864158344,
          355.0386684366128,
          236.34751921790266,
          248.74774562359582
         ]
        },
        {
         "line": {
          "color": "rgb(31, 119, 180)"
         },
         "mode": "lines",
         "name": "Forecast",
         "type": "scatter",
         "x": [
          "2017-05-27T00:00:00",
          "2017-05-28T00:00:00",
          "2017-05-29T00:00:00",
          "2017-05-30T00:00:00",
          "2017-05-31T00:00:00",
          "2017-06-01T00:00:00",
          "2017-06-02T00:00:00",
          "2017-06-03T00:00:00",
          "2017-06-04T00:00:00",
          "2017-06-05T00:00:00",
          "2017-06-06T00:00:00",
          "2017-06-07T00:00:00",
          "2017-06-08T00:00:00",
          "2017-06-09T00:00:00",
          "2017-06-10T00:00:00",
          "2017-06-11T00:00:00",
          "2017-06-12T00:00:00",
          "2017-06-13T00:00:00",
          "2017-06-14T00:00:00",
          "2017-06-15T00:00:00",
          "2017-06-16T00:00:00",
          "2017-06-17T00:00:00",
          "2017-06-18T00:00:00",
          "2017-06-19T00:00:00",
          "2017-06-20T00:00:00",
          "2017-06-21T00:00:00",
          "2017-06-22T00:00:00",
          "2017-06-23T00:00:00",
          "2017-06-24T00:00:00",
          "2017-06-25T00:00:00"
         ],
         "y": [
          172.14026331608144,
          183.02718031510418,
          295.66765376120827,
          303.8226682095485,
          306.4261786866704,
          295.5766950392526,
          273.12791279173223,
          179.74475981367243,
          191.4892878824837,
          308.6947981915441,
          317.63232543715526,
          320.70257805378367,
          309.6778836474588,
          286.4562535406143,
          189.25350672659374,
          201.37724657832646,
          322.8984165072179,
          331.74732709779806,
          334.4032546165899,
          322.40655257569654,
          297.7945832412652,
          196.90938379618314,
          208.9051135379542,
          333.12952036918995,
          341.43475327834585,
          343.4116636196066,
          330.48227516524116,
          304.79889962193664,
          201.57268319226722,
          213.47598455960434
         ]
        },
        {
         "marker": {
          "color": "red"
         },
         "mode": "lines",
         "name": "Actual",
         "type": "scatter",
         "x": [
          "2017-03-18T00:00:00",
          "2017-03-19T00:00:00",
          "2017-03-20T00:00:00",
          "2017-03-21T00:00:00",
          "2017-03-22T00:00:00",
          "2017-03-23T00:00:00",
          "2017-03-24T00:00:00",
          "2017-03-25T00:00:00",
          "2017-03-26T00:00:00",
          "2017-03-27T00:00:00",
          "2017-03-28T00:00:00",
          "2017-03-29T00:00:00",
          "2017-03-30T00:00:00",
          "2017-03-31T00:00:00",
          "2017-04-01T00:00:00",
          "2017-04-02T00:00:00",
          "2017-04-03T00:00:00",
          "2017-04-04T00:00:00",
          "2017-04-05T00:00:00",
          "2017-04-06T00:00:00",
          "2017-04-07T00:00:00",
          "2017-04-08T00:00:00",
          "2017-04-09T00:00:00",
          "2017-04-10T00:00:00",
          "2017-04-11T00:00:00",
          "2017-04-12T00:00:00",
          "2017-04-13T00:00:00",
          "2017-04-14T00:00:00",
          "2017-04-15T00:00:00",
          "2017-04-16T00:00:00",
          "2017-04-17T00:00:00",
          "2017-04-18T00:00:00",
          "2017-04-19T00:00:00",
          "2017-04-20T00:00:00",
          "2017-04-21T00:00:00",
          "2017-04-22T00:00:00",
          "2017-04-23T00:00:00",
          "2017-04-24T00:00:00",
          "2017-04-25T00:00:00",
          "2017-04-26T00:00:00",
          "2017-04-27T00:00:00",
          "2017-04-28T00:00:00",
          "2017-04-29T00:00:00",
          "2017-04-30T00:00:00",
          "2017-05-01T00:00:00",
          "2017-05-02T00:00:00",
          "2017-05-03T00:00:00",
          "2017-05-04T00:00:00",
          "2017-05-05T00:00:00",
          "2017-05-06T00:00:00",
          "2017-05-07T00:00:00",
          "2017-05-08T00:00:00",
          "2017-05-09T00:00:00",
          "2017-05-10T00:00:00",
          "2017-05-11T00:00:00",
          "2017-05-12T00:00:00",
          "2017-05-13T00:00:00",
          "2017-05-14T00:00:00",
          "2017-05-15T00:00:00",
          "2017-05-16T00:00:00",
          "2017-05-17T00:00:00",
          "2017-05-18T00:00:00",
          "2017-05-19T00:00:00",
          "2017-05-20T00:00:00",
          "2017-05-21T00:00:00",
          "2017-05-22T00:00:00",
          "2017-05-23T00:00:00",
          "2017-05-24T00:00:00",
          "2017-05-25T00:00:00",
          "2017-05-26T00:00:00",
          "2017-05-27T00:00:00",
          "2017-05-28T00:00:00",
          "2017-05-29T00:00:00",
          "2017-05-30T00:00:00",
          "2017-05-31T00:00:00",
          "2017-06-01T00:00:00",
          "2017-06-02T00:00:00",
          "2017-06-03T00:00:00",
          "2017-06-04T00:00:00",
          "2017-06-05T00:00:00",
          "2017-06-06T00:00:00",
          "2017-06-07T00:00:00",
          "2017-06-08T00:00:00",
          "2017-06-09T00:00:00",
          "2017-06-10T00:00:00",
          "2017-06-11T00:00:00",
          "2017-06-12T00:00:00",
          "2017-06-13T00:00:00",
          "2017-06-14T00:00:00",
          "2017-06-15T00:00:00",
          "2017-06-16T00:00:00",
          "2017-06-17T00:00:00",
          "2017-06-18T00:00:00",
          "2017-06-19T00:00:00",
          "2017-06-20T00:00:00",
          "2017-06-21T00:00:00",
          "2017-06-22T00:00:00",
          "2017-06-23T00:00:00",
          "2017-06-24T00:00:00",
          "2017-06-25T00:00:00"
         ],
         "y": [
          123,
          99,
          205,
          247,
          246,
          228,
          208,
          135,
          129,
          230,
          225,
          238,
          257,
          207,
          125,
          142,
          259,
          221,
          203,
          274,
          221,
          140,
          149,
          238,
          258,
          239,
          250,
          204,
          137,
          143,
          233,
          264,
          278,
          274,
          259,
          178,
          168,
          296,
          306,
          270,
          277,
          262,
          187,
          148,
          305,
          332,
          286,
          284,
          264,
          133,
          136,
          267,
          262,
          264,
          267,
          281,
          205,
          180,
          341,
          345,
          367,
          336,
          301,
          156,
          194,
          341,
          388,
          375,
          298,
          269,
          157,
          172,
          297,
          365,
          407,
          392,
          328,
          170,
          194,
          340,
          348,
          323,
          347,
          291,
          165,
          193,
          349,
          358,
          344,
          336,
          345,
          188,
          243,
          408,
          417,
          422,
          441,
          421,
          277,
          253
         ]
        }
       ],
       "layout": {
        "showlegend": false,
        "template": {
         "data": {
          "bar": [
           {
            "error_x": {
             "color": "#2a3f5f"
            },
            "error_y": {
             "color": "#2a3f5f"
            },
            "marker": {
             "line": {
              "color": "#E5ECF6",
              "width": 0.5
             },
             "pattern": {
              "fillmode": "overlay",
              "size": 10,
              "solidity": 0.2
             }
            },
            "type": "bar"
           }
          ],
          "barpolar": [
           {
            "marker": {
             "line": {
              "color": "#E5ECF6",
              "width": 0.5
             },
             "pattern": {
              "fillmode": "overlay",
              "size": 10,
              "solidity": 0.2
             }
            },
            "type": "barpolar"
           }
          ],
          "carpet": [
           {
            "aaxis": {
             "endlinecolor": "#2a3f5f",
             "gridcolor": "white",
             "linecolor": "white",
             "minorgridcolor": "white",
             "startlinecolor": "#2a3f5f"
            },
            "baxis": {
             "endlinecolor": "#2a3f5f",
             "gridcolor": "white",
             "linecolor": "white",
             "minorgridcolor": "white",
             "startlinecolor": "#2a3f5f"
            },
            "type": "carpet"
           }
          ],
          "choropleth": [
           {
            "colorbar": {
             "outlinewidth": 0,
             "ticks": ""
            },
            "type": "choropleth"
           }
          ],
          "contour": [
           {
            "colorbar": {
             "outlinewidth": 0,
             "ticks": ""
            },
            "colorscale": [
             [
              0,
              "#0d0887"
             ],
             [
              0.1111111111111111,
              "#46039f"
             ],
             [
              0.2222222222222222,
              "#7201a8"
             ],
             [
              0.3333333333333333,
              "#9c179e"
             ],
             [
              0.4444444444444444,
              "#bd3786"
             ],
             [
              0.5555555555555556,
              "#d8576b"
             ],
             [
              0.6666666666666666,
              "#ed7953"
             ],
             [
              0.7777777777777778,
              "#fb9f3a"
             ],
             [
              0.8888888888888888,
              "#fdca26"
             ],
             [
              1,
              "#f0f921"
             ]
            ],
            "type": "contour"
           }
          ],
          "contourcarpet": [
           {
            "colorbar": {
             "outlinewidth": 0,
             "ticks": ""
            },
            "type": "contourcarpet"
           }
          ],
          "heatmap": [
           {
            "colorbar": {
             "outlinewidth": 0,
             "ticks": ""
            },
            "colorscale": [
             [
              0,
              "#0d0887"
             ],
             [
              0.1111111111111111,
              "#46039f"
             ],
             [
              0.2222222222222222,
              "#7201a8"
             ],
             [
              0.3333333333333333,
              "#9c179e"
             ],
             [
              0.4444444444444444,
              "#bd3786"
             ],
             [
              0.5555555555555556,
              "#d8576b"
             ],
             [
              0.6666666666666666,
              "#ed7953"
             ],
             [
              0.7777777777777778,
              "#fb9f3a"
             ],
             [
              0.8888888888888888,
              "#fdca26"
             ],
             [
              1,
              "#f0f921"
             ]
            ],
            "type": "heatmap"
           }
          ],
          "heatmapgl": [
           {
            "colorbar": {
             "outlinewidth": 0,
             "ticks": ""
            },
            "colorscale": [
             [
              0,
              "#0d0887"
             ],
             [
              0.1111111111111111,
              "#46039f"
             ],
             [
              0.2222222222222222,
              "#7201a8"
             ],
             [
              0.3333333333333333,
              "#9c179e"
             ],
             [
              0.4444444444444444,
              "#bd3786"
             ],
             [
              0.5555555555555556,
              "#d8576b"
             ],
             [
              0.6666666666666666,
              "#ed7953"
             ],
             [
              0.7777777777777778,
              "#fb9f3a"
             ],
             [
              0.8888888888888888,
              "#fdca26"
             ],
             [
              1,
              "#f0f921"
             ]
            ],
            "type": "heatmapgl"
           }
          ],
          "histogram": [
           {
            "marker": {
             "pattern": {
              "fillmode": "overlay",
              "size": 10,
              "solidity": 0.2
             }
            },
            "type": "histogram"
           }
          ],
          "histogram2d": [
           {
            "colorbar": {
             "outlinewidth": 0,
             "ticks": ""
            },
            "colorscale": [
             [
              0,
              "#0d0887"
             ],
             [
              0.1111111111111111,
              "#46039f"
             ],
             [
              0.2222222222222222,
              "#7201a8"
             ],
             [
              0.3333333333333333,
              "#9c179e"
             ],
             [
              0.4444444444444444,
              "#bd3786"
             ],
             [
              0.5555555555555556,
              "#d8576b"
             ],
             [
              0.6666666666666666,
              "#ed7953"
             ],
             [
              0.7777777777777778,
              "#fb9f3a"
             ],
             [
              0.8888888888888888,
              "#fdca26"
             ],
             [
              1,
              "#f0f921"
             ]
            ],
            "type": "histogram2d"
           }
          ],
          "histogram2dcontour": [
           {
            "colorbar": {
             "outlinewidth": 0,
             "ticks": ""
            },
            "colorscale": [
             [
              0,
              "#0d0887"
             ],
             [
              0.1111111111111111,
              "#46039f"
             ],
             [
              0.2222222222222222,
              "#7201a8"
             ],
             [
              0.3333333333333333,
              "#9c179e"
             ],
             [
              0.4444444444444444,
              "#bd3786"
             ],
             [
              0.5555555555555556,
              "#d8576b"
             ],
             [
              0.6666666666666666,
              "#ed7953"
             ],
             [
              0.7777777777777778,
              "#fb9f3a"
             ],
             [
              0.8888888888888888,
              "#fdca26"
             ],
             [
              1,
              "#f0f921"
             ]
            ],
            "type": "histogram2dcontour"
           }
          ],
          "mesh3d": [
           {
            "colorbar": {
             "outlinewidth": 0,
             "ticks": ""
            },
            "type": "mesh3d"
           }
          ],
          "parcoords": [
           {
            "line": {
             "colorbar": {
              "outlinewidth": 0,
              "ticks": ""
             }
            },
            "type": "parcoords"
           }
          ],
          "pie": [
           {
            "automargin": true,
            "type": "pie"
           }
          ],
          "scatter": [
           {
            "marker": {
             "colorbar": {
              "outlinewidth": 0,
              "ticks": ""
             }
            },
            "type": "scatter"
           }
          ],
          "scatter3d": [
           {
            "line": {
             "colorbar": {
              "outlinewidth": 0,
              "ticks": ""
             }
            },
            "marker": {
             "colorbar": {
              "outlinewidth": 0,
              "ticks": ""
             }
            },
            "type": "scatter3d"
           }
          ],
          "scattercarpet": [
           {
            "marker": {
             "colorbar": {
              "outlinewidth": 0,
              "ticks": ""
             }
            },
            "type": "scattercarpet"
           }
          ],
          "scattergeo": [
           {
            "marker": {
             "colorbar": {
              "outlinewidth": 0,
              "ticks": ""
             }
            },
            "type": "scattergeo"
           }
          ],
          "scattergl": [
           {
            "marker": {
             "colorbar": {
              "outlinewidth": 0,
              "ticks": ""
             }
            },
            "type": "scattergl"
           }
          ],
          "scattermapbox": [
           {
            "marker": {
             "colorbar": {
              "outlinewidth": 0,
              "ticks": ""
             }
            },
            "type": "scattermapbox"
           }
          ],
          "scatterpolar": [
           {
            "marker": {
             "colorbar": {
              "outlinewidth": 0,
              "ticks": ""
             }
            },
            "type": "scatterpolar"
           }
          ],
          "scatterpolargl": [
           {
            "marker": {
             "colorbar": {
              "outlinewidth": 0,
              "ticks": ""
             }
            },
            "type": "scatterpolargl"
           }
          ],
          "scatterternary": [
           {
            "marker": {
             "colorbar": {
              "outlinewidth": 0,
              "ticks": ""
             }
            },
            "type": "scatterternary"
           }
          ],
          "surface": [
           {
            "colorbar": {
             "outlinewidth": 0,
             "ticks": ""
            },
            "colorscale": [
             [
              0,
              "#0d0887"
             ],
             [
              0.1111111111111111,
              "#46039f"
             ],
             [
              0.2222222222222222,
              "#7201a8"
             ],
             [
              0.3333333333333333,
              "#9c179e"
             ],
             [
              0.4444444444444444,
              "#bd3786"
             ],
             [
              0.5555555555555556,
              "#d8576b"
             ],
             [
              0.6666666666666666,
              "#ed7953"
             ],
             [
              0.7777777777777778,
              "#fb9f3a"
             ],
             [
              0.8888888888888888,
              "#fdca26"
             ],
             [
              1,
              "#f0f921"
             ]
            ],
            "type": "surface"
           }
          ],
          "table": [
           {
            "cells": {
             "fill": {
              "color": "#EBF0F8"
             },
             "line": {
              "color": "white"
             }
            },
            "header": {
             "fill": {
              "color": "#C8D4E3"
             },
             "line": {
              "color": "white"
             }
            },
            "type": "table"
           }
          ]
         },
         "layout": {
          "annotationdefaults": {
           "arrowcolor": "#2a3f5f",
           "arrowhead": 0,
           "arrowwidth": 1
          },
          "autotypenumbers": "strict",
          "coloraxis": {
           "colorbar": {
            "outlinewidth": 0,
            "ticks": ""
           }
          },
          "colorscale": {
           "diverging": [
            [
             0,
             "#8e0152"
            ],
            [
             0.1,
             "#c51b7d"
            ],
            [
             0.2,
             "#de77ae"
            ],
            [
             0.3,
             "#f1b6da"
            ],
            [
             0.4,
             "#fde0ef"
            ],
            [
             0.5,
             "#f7f7f7"
            ],
            [
             0.6,
             "#e6f5d0"
            ],
            [
             0.7,
             "#b8e186"
            ],
            [
             0.8,
             "#7fbc41"
            ],
            [
             0.9,
             "#4d9221"
            ],
            [
             1,
             "#276419"
            ]
           ],
           "sequential": [
            [
             0,
             "#0d0887"
            ],
            [
             0.1111111111111111,
             "#46039f"
            ],
            [
             0.2222222222222222,
             "#7201a8"
            ],
            [
             0.3333333333333333,
             "#9c179e"
            ],
            [
             0.4444444444444444,
             "#bd3786"
            ],
            [
             0.5555555555555556,
             "#d8576b"
            ],
            [
             0.6666666666666666,
             "#ed7953"
            ],
            [
             0.7777777777777778,
             "#fb9f3a"
            ],
            [
             0.8888888888888888,
             "#fdca26"
            ],
            [
             1,
             "#f0f921"
            ]
           ],
           "sequentialminus": [
            [
             0,
             "#0d0887"
            ],
            [
             0.1111111111111111,
             "#46039f"
            ],
            [
             0.2222222222222222,
             "#7201a8"
            ],
            [
             0.3333333333333333,
             "#9c179e"
            ],
            [
             0.4444444444444444,
             "#bd3786"
            ],
            [
             0.5555555555555556,
             "#d8576b"
            ],
            [
             0.6666666666666666,
             "#ed7953"
            ],
            [
             0.7777777777777778,
             "#fb9f3a"
            ],
            [
             0.8888888888888888,
             "#fdca26"
            ],
            [
             1,
             "#f0f921"
            ]
           ]
          },
          "colorway": [
           "#636efa",
           "#EF553B",
           "#00cc96",
           "#ab63fa",
           "#FFA15A",
           "#19d3f3",
           "#FF6692",
           "#B6E880",
           "#FF97FF",
           "#FECB52"
          ],
          "font": {
           "color": "#2a3f5f"
          },
          "geo": {
           "bgcolor": "white",
           "lakecolor": "white",
           "landcolor": "#E5ECF6",
           "showlakes": true,
           "showland": true,
           "subunitcolor": "white"
          },
          "hoverlabel": {
           "align": "left"
          },
          "hovermode": "closest",
          "mapbox": {
           "style": "light"
          },
          "paper_bgcolor": "white",
          "plot_bgcolor": "#E5ECF6",
          "polar": {
           "angularaxis": {
            "gridcolor": "white",
            "linecolor": "white",
            "ticks": ""
           },
           "bgcolor": "#E5ECF6",
           "radialaxis": {
            "gridcolor": "white",
            "linecolor": "white",
            "ticks": ""
           }
          },
          "scene": {
           "xaxis": {
            "backgroundcolor": "#E5ECF6",
            "gridcolor": "white",
            "gridwidth": 2,
            "linecolor": "white",
            "showbackground": true,
            "ticks": "",
            "zerolinecolor": "white"
           },
           "yaxis": {
            "backgroundcolor": "#E5ECF6",
            "gridcolor": "white",
            "gridwidth": 2,
            "linecolor": "white",
            "showbackground": true,
            "ticks": "",
            "zerolinecolor": "white"
           },
           "zaxis": {
            "backgroundcolor": "#E5ECF6",
            "gridcolor": "white",
            "gridwidth": 2,
            "linecolor": "white",
            "showbackground": true,
            "ticks": "",
            "zerolinecolor": "white"
           }
          },
          "shapedefaults": {
           "line": {
            "color": "#2a3f5f"
           }
          },
          "ternary": {
           "aaxis": {
            "gridcolor": "white",
            "linecolor": "white",
            "ticks": ""
           },
           "baxis": {
            "gridcolor": "white",
            "linecolor": "white",
            "ticks": ""
           },
           "bgcolor": "#E5ECF6",
           "caxis": {
            "gridcolor": "white",
            "linecolor": "white",
            "ticks": ""
           }
          },
          "title": {
           "x": 0.05
          },
          "xaxis": {
           "automargin": true,
           "gridcolor": "white",
           "linecolor": "white",
           "ticks": "",
           "title": {
            "standoff": 15
           },
           "zerolinecolor": "white",
           "zerolinewidth": 2
          },
          "yaxis": {
           "automargin": true,
           "gridcolor": "white",
           "linecolor": "white",
           "ticks": "",
           "title": {
            "standoff": 15
           },
           "zerolinecolor": "white",
           "zerolinewidth": 2
          }
         }
        },
        "title": {
         "text": "Box–Cox transformation"
        },
        "yaxis": {
         "title": {
          "text": "Posts"
         }
        }
       }
      },
      "text/html": [
       "<div>                            <div id=\"845ae8e5-7717-43cc-9787-ac6c6e50cf2f\" class=\"plotly-graph-div\" style=\"height:525px; width:100%;\"></div>            <script type=\"text/javascript\">                require([\"plotly\"], function(Plotly) {                    window.PLOTLYENV=window.PLOTLYENV || {};                                    if (document.getElementById(\"845ae8e5-7717-43cc-9787-ac6c6e50cf2f\")) {                    Plotly.newPlot(                        \"845ae8e5-7717-43cc-9787-ac6c6e50cf2f\",                        [{\"line\":{\"width\":0},\"marker\":{\"color\":\"gray\"},\"mode\":\"lines\",\"name\":\"Lower Bound\",\"type\":\"scatter\",\"x\":[\"2017-05-27T00:00:00\",\"2017-05-28T00:00:00\",\"2017-05-29T00:00:00\",\"2017-05-30T00:00:00\",\"2017-05-31T00:00:00\",\"2017-06-01T00:00:00\",\"2017-06-02T00:00:00\",\"2017-06-03T00:00:00\",\"2017-06-04T00:00:00\",\"2017-06-05T00:00:00\",\"2017-06-06T00:00:00\",\"2017-06-07T00:00:00\",\"2017-06-08T00:00:00\",\"2017-06-09T00:00:00\",\"2017-06-10T00:00:00\",\"2017-06-11T00:00:00\",\"2017-06-12T00:00:00\",\"2017-06-13T00:00:00\",\"2017-06-14T00:00:00\",\"2017-06-15T00:00:00\",\"2017-06-16T00:00:00\",\"2017-06-17T00:00:00\",\"2017-06-18T00:00:00\",\"2017-06-19T00:00:00\",\"2017-06-20T00:00:00\",\"2017-06-21T00:00:00\",\"2017-06-22T00:00:00\",\"2017-06-23T00:00:00\",\"2017-06-24T00:00:00\",\"2017-06-25T00:00:00\"],\"y\":[144.71222452564447,154.07307750552238,252.9426961706491,260.2742576992654,261.9267770529911,250.15095742576835,229.09754143344773,150.1384147411328,158.8184599545884,265.1392331401701,267.871158240111,272.555955950071,264.2521236108853,244.96294515619553,159.9497431387758,169.69391112436605,278.58207580353604,279.58283597567083,286.65719406104046,274.5035608708135,250.98798460286233,164.20803963730472,176.7116259101046,283.85034317829866,292.98079884660154,294.8713834723676,283.10118653679336,260.51721072653623,168.31180463916584,177.3672100053664]},{\"fill\":\"tonexty\",\"fillcolor\":\"rgba(68, 68, 68, 0.3)\",\"line\":{\"width\":0},\"marker\":{\"color\":\"gray\"},\"mode\":\"lines\",\"name\":\"Upper Bound\",\"type\":\"scatter\",\"x\":[\"2017-05-27T00:00:00\",\"2017-05-28T00:00:00\",\"2017-05-29T00:00:00\",\"2017-05-30T00:00:00\",\"2017-05-31T00:00:00\",\"2017-06-01T00:00:00\",\"2017-06-02T00:00:00\",\"2017-06-03T00:00:00\",\"2017-06-04T00:00:00\",\"2017-06-05T00:00:00\",\"2017-06-06T00:00:00\",\"2017-06-07T00:00:00\",\"2017-06-08T00:00:00\",\"2017-06-09T00:00:00\",\"2017-06-10T00:00:00\",\"2017-06-11T00:00:00\",\"2017-06-12T00:00:00\",\"2017-06-13T00:00:00\",\"2017-06-14T00:00:00\",\"2017-06-15T00:00:00\",\"2017-06-16T00:00:00\",\"2017-06-17T00:00:00\",\"2017-06-18T00:00:00\",\"2017-06-19T00:00:00\",\"2017-06-20T00:00:00\",\"2017-06-21T00:00:00\",\"2017-06-22T00:00:00\",\"2017-06-23T00:00:00\",\"2017-06-24T00:00:00\",\"2017-06-25T00:00:00\"],\"y\":[204.05436456244664,219.82819600438376,349.59138606729385,349.8501692756063,358.53652043667233,343.0664557558767,322.85534812582176,212.64466584498862,226.30801505651723,362.0195103260421,369.2762675945305,379.44937137149094,362.4792160157405,337.70530596007427,223.76772295489073,235.5063800541112,379.19695060193277,386.94505429549025,390.7062361975876,374.69410908685705,347.3539930679151,233.85273333886164,249.90892395629646,392.34175181108765,397.4886322636083,396.82429039809944,385.97878864158344,355.0386684366128,236.34751921790266,248.74774562359582]},{\"line\":{\"color\":\"rgb(31, 119, 180)\"},\"mode\":\"lines\",\"name\":\"Forecast\",\"type\":\"scatter\",\"x\":[\"2017-05-27T00:00:00\",\"2017-05-28T00:00:00\",\"2017-05-29T00:00:00\",\"2017-05-30T00:00:00\",\"2017-05-31T00:00:00\",\"2017-06-01T00:00:00\",\"2017-06-02T00:00:00\",\"2017-06-03T00:00:00\",\"2017-06-04T00:00:00\",\"2017-06-05T00:00:00\",\"2017-06-06T00:00:00\",\"2017-06-07T00:00:00\",\"2017-06-08T00:00:00\",\"2017-06-09T00:00:00\",\"2017-06-10T00:00:00\",\"2017-06-11T00:00:00\",\"2017-06-12T00:00:00\",\"2017-06-13T00:00:00\",\"2017-06-14T00:00:00\",\"2017-06-15T00:00:00\",\"2017-06-16T00:00:00\",\"2017-06-17T00:00:00\",\"2017-06-18T00:00:00\",\"2017-06-19T00:00:00\",\"2017-06-20T00:00:00\",\"2017-06-21T00:00:00\",\"2017-06-22T00:00:00\",\"2017-06-23T00:00:00\",\"2017-06-24T00:00:00\",\"2017-06-25T00:00:00\"],\"y\":[172.14026331608144,183.02718031510418,295.66765376120827,303.8226682095485,306.4261786866704,295.5766950392526,273.12791279173223,179.74475981367243,191.4892878824837,308.6947981915441,317.63232543715526,320.70257805378367,309.6778836474588,286.4562535406143,189.25350672659374,201.37724657832646,322.8984165072179,331.74732709779806,334.4032546165899,322.40655257569654,297.7945832412652,196.90938379618314,208.9051135379542,333.12952036918995,341.43475327834585,343.4116636196066,330.48227516524116,304.79889962193664,201.57268319226722,213.47598455960434]},{\"marker\":{\"color\":\"red\"},\"mode\":\"lines\",\"name\":\"Actual\",\"type\":\"scatter\",\"x\":[\"2017-03-18T00:00:00\",\"2017-03-19T00:00:00\",\"2017-03-20T00:00:00\",\"2017-03-21T00:00:00\",\"2017-03-22T00:00:00\",\"2017-03-23T00:00:00\",\"2017-03-24T00:00:00\",\"2017-03-25T00:00:00\",\"2017-03-26T00:00:00\",\"2017-03-27T00:00:00\",\"2017-03-28T00:00:00\",\"2017-03-29T00:00:00\",\"2017-03-30T00:00:00\",\"2017-03-31T00:00:00\",\"2017-04-01T00:00:00\",\"2017-04-02T00:00:00\",\"2017-04-03T00:00:00\",\"2017-04-04T00:00:00\",\"2017-04-05T00:00:00\",\"2017-04-06T00:00:00\",\"2017-04-07T00:00:00\",\"2017-04-08T00:00:00\",\"2017-04-09T00:00:00\",\"2017-04-10T00:00:00\",\"2017-04-11T00:00:00\",\"2017-04-12T00:00:00\",\"2017-04-13T00:00:00\",\"2017-04-14T00:00:00\",\"2017-04-15T00:00:00\",\"2017-04-16T00:00:00\",\"2017-04-17T00:00:00\",\"2017-04-18T00:00:00\",\"2017-04-19T00:00:00\",\"2017-04-20T00:00:00\",\"2017-04-21T00:00:00\",\"2017-04-22T00:00:00\",\"2017-04-23T00:00:00\",\"2017-04-24T00:00:00\",\"2017-04-25T00:00:00\",\"2017-04-26T00:00:00\",\"2017-04-27T00:00:00\",\"2017-04-28T00:00:00\",\"2017-04-29T00:00:00\",\"2017-04-30T00:00:00\",\"2017-05-01T00:00:00\",\"2017-05-02T00:00:00\",\"2017-05-03T00:00:00\",\"2017-05-04T00:00:00\",\"2017-05-05T00:00:00\",\"2017-05-06T00:00:00\",\"2017-05-07T00:00:00\",\"2017-05-08T00:00:00\",\"2017-05-09T00:00:00\",\"2017-05-10T00:00:00\",\"2017-05-11T00:00:00\",\"2017-05-12T00:00:00\",\"2017-05-13T00:00:00\",\"2017-05-14T00:00:00\",\"2017-05-15T00:00:00\",\"2017-05-16T00:00:00\",\"2017-05-17T00:00:00\",\"2017-05-18T00:00:00\",\"2017-05-19T00:00:00\",\"2017-05-20T00:00:00\",\"2017-05-21T00:00:00\",\"2017-05-22T00:00:00\",\"2017-05-23T00:00:00\",\"2017-05-24T00:00:00\",\"2017-05-25T00:00:00\",\"2017-05-26T00:00:00\",\"2017-05-27T00:00:00\",\"2017-05-28T00:00:00\",\"2017-05-29T00:00:00\",\"2017-05-30T00:00:00\",\"2017-05-31T00:00:00\",\"2017-06-01T00:00:00\",\"2017-06-02T00:00:00\",\"2017-06-03T00:00:00\",\"2017-06-04T00:00:00\",\"2017-06-05T00:00:00\",\"2017-06-06T00:00:00\",\"2017-06-07T00:00:00\",\"2017-06-08T00:00:00\",\"2017-06-09T00:00:00\",\"2017-06-10T00:00:00\",\"2017-06-11T00:00:00\",\"2017-06-12T00:00:00\",\"2017-06-13T00:00:00\",\"2017-06-14T00:00:00\",\"2017-06-15T00:00:00\",\"2017-06-16T00:00:00\",\"2017-06-17T00:00:00\",\"2017-06-18T00:00:00\",\"2017-06-19T00:00:00\",\"2017-06-20T00:00:00\",\"2017-06-21T00:00:00\",\"2017-06-22T00:00:00\",\"2017-06-23T00:00:00\",\"2017-06-24T00:00:00\",\"2017-06-25T00:00:00\"],\"y\":[123,99,205,247,246,228,208,135,129,230,225,238,257,207,125,142,259,221,203,274,221,140,149,238,258,239,250,204,137,143,233,264,278,274,259,178,168,296,306,270,277,262,187,148,305,332,286,284,264,133,136,267,262,264,267,281,205,180,341,345,367,336,301,156,194,341,388,375,298,269,157,172,297,365,407,392,328,170,194,340,348,323,347,291,165,193,349,358,344,336,345,188,243,408,417,422,441,421,277,253]}],                        {\"showlegend\":false,\"template\":{\"data\":{\"bar\":[{\"error_x\":{\"color\":\"#2a3f5f\"},\"error_y\":{\"color\":\"#2a3f5f\"},\"marker\":{\"line\":{\"color\":\"#E5ECF6\",\"width\":0.5},\"pattern\":{\"fillmode\":\"overlay\",\"size\":10,\"solidity\":0.2}},\"type\":\"bar\"}],\"barpolar\":[{\"marker\":{\"line\":{\"color\":\"#E5ECF6\",\"width\":0.5},\"pattern\":{\"fillmode\":\"overlay\",\"size\":10,\"solidity\":0.2}},\"type\":\"barpolar\"}],\"carpet\":[{\"aaxis\":{\"endlinecolor\":\"#2a3f5f\",\"gridcolor\":\"white\",\"linecolor\":\"white\",\"minorgridcolor\":\"white\",\"startlinecolor\":\"#2a3f5f\"},\"baxis\":{\"endlinecolor\":\"#2a3f5f\",\"gridcolor\":\"white\",\"linecolor\":\"white\",\"minorgridcolor\":\"white\",\"startlinecolor\":\"#2a3f5f\"},\"type\":\"carpet\"}],\"choropleth\":[{\"colorbar\":{\"outlinewidth\":0,\"ticks\":\"\"},\"type\":\"choropleth\"}],\"contour\":[{\"colorbar\":{\"outlinewidth\":0,\"ticks\":\"\"},\"colorscale\":[[0.0,\"#0d0887\"],[0.1111111111111111,\"#46039f\"],[0.2222222222222222,\"#7201a8\"],[0.3333333333333333,\"#9c179e\"],[0.4444444444444444,\"#bd3786\"],[0.5555555555555556,\"#d8576b\"],[0.6666666666666666,\"#ed7953\"],[0.7777777777777778,\"#fb9f3a\"],[0.8888888888888888,\"#fdca26\"],[1.0,\"#f0f921\"]],\"type\":\"contour\"}],\"contourcarpet\":[{\"colorbar\":{\"outlinewidth\":0,\"ticks\":\"\"},\"type\":\"contourcarpet\"}],\"heatmap\":[{\"colorbar\":{\"outlinewidth\":0,\"ticks\":\"\"},\"colorscale\":[[0.0,\"#0d0887\"],[0.1111111111111111,\"#46039f\"],[0.2222222222222222,\"#7201a8\"],[0.3333333333333333,\"#9c179e\"],[0.4444444444444444,\"#bd3786\"],[0.5555555555555556,\"#d8576b\"],[0.6666666666666666,\"#ed7953\"],[0.7777777777777778,\"#fb9f3a\"],[0.8888888888888888,\"#fdca26\"],[1.0,\"#f0f921\"]],\"type\":\"heatmap\"}],\"heatmapgl\":[{\"colorbar\":{\"outlinewidth\":0,\"ticks\":\"\"},\"colorscale\":[[0.0,\"#0d0887\"],[0.1111111111111111,\"#46039f\"],[0.2222222222222222,\"#7201a8\"],[0.3333333333333333,\"#9c179e\"],[0.4444444444444444,\"#bd3786\"],[0.5555555555555556,\"#d8576b\"],[0.6666666666666666,\"#ed7953\"],[0.7777777777777778,\"#fb9f3a\"],[0.8888888888888888,\"#fdca26\"],[1.0,\"#f0f921\"]],\"type\":\"heatmapgl\"}],\"histogram\":[{\"marker\":{\"pattern\":{\"fillmode\":\"overlay\",\"size\":10,\"solidity\":0.2}},\"type\":\"histogram\"}],\"histogram2d\":[{\"colorbar\":{\"outlinewidth\":0,\"ticks\":\"\"},\"colorscale\":[[0.0,\"#0d0887\"],[0.1111111111111111,\"#46039f\"],[0.2222222222222222,\"#7201a8\"],[0.3333333333333333,\"#9c179e\"],[0.4444444444444444,\"#bd3786\"],[0.5555555555555556,\"#d8576b\"],[0.6666666666666666,\"#ed7953\"],[0.7777777777777778,\"#fb9f3a\"],[0.8888888888888888,\"#fdca26\"],[1.0,\"#f0f921\"]],\"type\":\"histogram2d\"}],\"histogram2dcontour\":[{\"colorbar\":{\"outlinewidth\":0,\"ticks\":\"\"},\"colorscale\":[[0.0,\"#0d0887\"],[0.1111111111111111,\"#46039f\"],[0.2222222222222222,\"#7201a8\"],[0.3333333333333333,\"#9c179e\"],[0.4444444444444444,\"#bd3786\"],[0.5555555555555556,\"#d8576b\"],[0.6666666666666666,\"#ed7953\"],[0.7777777777777778,\"#fb9f3a\"],[0.8888888888888888,\"#fdca26\"],[1.0,\"#f0f921\"]],\"type\":\"histogram2dcontour\"}],\"mesh3d\":[{\"colorbar\":{\"outlinewidth\":0,\"ticks\":\"\"},\"type\":\"mesh3d\"}],\"parcoords\":[{\"line\":{\"colorbar\":{\"outlinewidth\":0,\"ticks\":\"\"}},\"type\":\"parcoords\"}],\"pie\":[{\"automargin\":true,\"type\":\"pie\"}],\"scatter\":[{\"marker\":{\"colorbar\":{\"outlinewidth\":0,\"ticks\":\"\"}},\"type\":\"scatter\"}],\"scatter3d\":[{\"line\":{\"colorbar\":{\"outlinewidth\":0,\"ticks\":\"\"}},\"marker\":{\"colorbar\":{\"outlinewidth\":0,\"ticks\":\"\"}},\"type\":\"scatter3d\"}],\"scattercarpet\":[{\"marker\":{\"colorbar\":{\"outlinewidth\":0,\"ticks\":\"\"}},\"type\":\"scattercarpet\"}],\"scattergeo\":[{\"marker\":{\"colorbar\":{\"outlinewidth\":0,\"ticks\":\"\"}},\"type\":\"scattergeo\"}],\"scattergl\":[{\"marker\":{\"colorbar\":{\"outlinewidth\":0,\"ticks\":\"\"}},\"type\":\"scattergl\"}],\"scattermapbox\":[{\"marker\":{\"colorbar\":{\"outlinewidth\":0,\"ticks\":\"\"}},\"type\":\"scattermapbox\"}],\"scatterpolar\":[{\"marker\":{\"colorbar\":{\"outlinewidth\":0,\"ticks\":\"\"}},\"type\":\"scatterpolar\"}],\"scatterpolargl\":[{\"marker\":{\"colorbar\":{\"outlinewidth\":0,\"ticks\":\"\"}},\"type\":\"scatterpolargl\"}],\"scatterternary\":[{\"marker\":{\"colorbar\":{\"outlinewidth\":0,\"ticks\":\"\"}},\"type\":\"scatterternary\"}],\"surface\":[{\"colorbar\":{\"outlinewidth\":0,\"ticks\":\"\"},\"colorscale\":[[0.0,\"#0d0887\"],[0.1111111111111111,\"#46039f\"],[0.2222222222222222,\"#7201a8\"],[0.3333333333333333,\"#9c179e\"],[0.4444444444444444,\"#bd3786\"],[0.5555555555555556,\"#d8576b\"],[0.6666666666666666,\"#ed7953\"],[0.7777777777777778,\"#fb9f3a\"],[0.8888888888888888,\"#fdca26\"],[1.0,\"#f0f921\"]],\"type\":\"surface\"}],\"table\":[{\"cells\":{\"fill\":{\"color\":\"#EBF0F8\"},\"line\":{\"color\":\"white\"}},\"header\":{\"fill\":{\"color\":\"#C8D4E3\"},\"line\":{\"color\":\"white\"}},\"type\":\"table\"}]},\"layout\":{\"annotationdefaults\":{\"arrowcolor\":\"#2a3f5f\",\"arrowhead\":0,\"arrowwidth\":1},\"autotypenumbers\":\"strict\",\"coloraxis\":{\"colorbar\":{\"outlinewidth\":0,\"ticks\":\"\"}},\"colorscale\":{\"diverging\":[[0,\"#8e0152\"],[0.1,\"#c51b7d\"],[0.2,\"#de77ae\"],[0.3,\"#f1b6da\"],[0.4,\"#fde0ef\"],[0.5,\"#f7f7f7\"],[0.6,\"#e6f5d0\"],[0.7,\"#b8e186\"],[0.8,\"#7fbc41\"],[0.9,\"#4d9221\"],[1,\"#276419\"]],\"sequential\":[[0.0,\"#0d0887\"],[0.1111111111111111,\"#46039f\"],[0.2222222222222222,\"#7201a8\"],[0.3333333333333333,\"#9c179e\"],[0.4444444444444444,\"#bd3786\"],[0.5555555555555556,\"#d8576b\"],[0.6666666666666666,\"#ed7953\"],[0.7777777777777778,\"#fb9f3a\"],[0.8888888888888888,\"#fdca26\"],[1.0,\"#f0f921\"]],\"sequentialminus\":[[0.0,\"#0d0887\"],[0.1111111111111111,\"#46039f\"],[0.2222222222222222,\"#7201a8\"],[0.3333333333333333,\"#9c179e\"],[0.4444444444444444,\"#bd3786\"],[0.5555555555555556,\"#d8576b\"],[0.6666666666666666,\"#ed7953\"],[0.7777777777777778,\"#fb9f3a\"],[0.8888888888888888,\"#fdca26\"],[1.0,\"#f0f921\"]]},\"colorway\":[\"#636efa\",\"#EF553B\",\"#00cc96\",\"#ab63fa\",\"#FFA15A\",\"#19d3f3\",\"#FF6692\",\"#B6E880\",\"#FF97FF\",\"#FECB52\"],\"font\":{\"color\":\"#2a3f5f\"},\"geo\":{\"bgcolor\":\"white\",\"lakecolor\":\"white\",\"landcolor\":\"#E5ECF6\",\"showlakes\":true,\"showland\":true,\"subunitcolor\":\"white\"},\"hoverlabel\":{\"align\":\"left\"},\"hovermode\":\"closest\",\"mapbox\":{\"style\":\"light\"},\"paper_bgcolor\":\"white\",\"plot_bgcolor\":\"#E5ECF6\",\"polar\":{\"angularaxis\":{\"gridcolor\":\"white\",\"linecolor\":\"white\",\"ticks\":\"\"},\"bgcolor\":\"#E5ECF6\",\"radialaxis\":{\"gridcolor\":\"white\",\"linecolor\":\"white\",\"ticks\":\"\"}},\"scene\":{\"xaxis\":{\"backgroundcolor\":\"#E5ECF6\",\"gridcolor\":\"white\",\"gridwidth\":2,\"linecolor\":\"white\",\"showbackground\":true,\"ticks\":\"\",\"zerolinecolor\":\"white\"},\"yaxis\":{\"backgroundcolor\":\"#E5ECF6\",\"gridcolor\":\"white\",\"gridwidth\":2,\"linecolor\":\"white\",\"showbackground\":true,\"ticks\":\"\",\"zerolinecolor\":\"white\"},\"zaxis\":{\"backgroundcolor\":\"#E5ECF6\",\"gridcolor\":\"white\",\"gridwidth\":2,\"linecolor\":\"white\",\"showbackground\":true,\"ticks\":\"\",\"zerolinecolor\":\"white\"}},\"shapedefaults\":{\"line\":{\"color\":\"#2a3f5f\"}},\"ternary\":{\"aaxis\":{\"gridcolor\":\"white\",\"linecolor\":\"white\",\"ticks\":\"\"},\"baxis\":{\"gridcolor\":\"white\",\"linecolor\":\"white\",\"ticks\":\"\"},\"bgcolor\":\"#E5ECF6\",\"caxis\":{\"gridcolor\":\"white\",\"linecolor\":\"white\",\"ticks\":\"\"}},\"title\":{\"x\":0.05},\"xaxis\":{\"automargin\":true,\"gridcolor\":\"white\",\"linecolor\":\"white\",\"ticks\":\"\",\"title\":{\"standoff\":15},\"zerolinecolor\":\"white\",\"zerolinewidth\":2},\"yaxis\":{\"automargin\":true,\"gridcolor\":\"white\",\"linecolor\":\"white\",\"ticks\":\"\",\"title\":{\"standoff\":15},\"zerolinecolor\":\"white\",\"zerolinewidth\":2}}},\"title\":{\"text\":\"Box\\u2013Cox transformation\"},\"yaxis\":{\"title\":{\"text\":\"Posts\"}}},                        {\"responsive\": true}                    ).then(function(){\n",
       "                            \n",
       "var gd = document.getElementById('845ae8e5-7717-43cc-9787-ac6c6e50cf2f');\n",
       "var x = new MutationObserver(function (mutations, observer) {{\n",
       "        var display = window.getComputedStyle(gd).display;\n",
       "        if (!display || display === 'none') {{\n",
       "            console.log([gd, 'removed!']);\n",
       "            Plotly.purge(gd);\n",
       "            observer.disconnect();\n",
       "        }}\n",
       "}});\n",
       "\n",
       "// Listen for the removal of the full notebook cells\n",
       "var notebookContainer = gd.closest('#notebook-container');\n",
       "if (notebookContainer) {{\n",
       "    x.observe(notebookContainer, {childList: true});\n",
       "}}\n",
       "\n",
       "// Listen for the clearing of the current output cell\n",
       "var outputEl = gd.closest('.output');\n",
       "if (outputEl) {{\n",
       "    x.observe(outputEl, {childList: true});\n",
       "}}\n",
       "\n",
       "                        })                };                });            </script>        </div>"
      ]
     },
     "metadata": {},
     "output_type": "display_data"
    }
   ],
   "source": [
    "show_forecast(cmp_df, prediction_size, 100, 'No transformations')\n",
    "show_forecast(cmp_df2, prediction_size, 100, 'Box–Cox transformation')"
   ]
  },
  {
   "cell_type": "markdown",
   "id": "8eb17927",
   "metadata": {
    "slideshow": {
     "slide_type": "slide"
    }
   },
   "source": [
    "# <center><font color=\"blue\">Prophet airpassengers"
   ]
  },
  {
   "cell_type": "code",
   "execution_count": 5,
   "id": "6d5c4b13",
   "metadata": {
    "slideshow": {
     "slide_type": "slide"
    }
   },
   "outputs": [
    {
     "ename": "ModuleNotFoundError",
     "evalue": "No module named 'fbprophet'",
     "output_type": "error",
     "traceback": [
      "\u001b[1;31m---------------------------------------------------------------------------\u001b[0m",
      "\u001b[1;31mModuleNotFoundError\u001b[0m                       Traceback (most recent call last)",
      "\u001b[1;32m<ipython-input-5-a44fd75dc4e9>\u001b[0m in \u001b[0;36m<module>\u001b[1;34m()\u001b[0m\n\u001b[0;32m      1\u001b[0m \u001b[1;32mimport\u001b[0m \u001b[0mpandas\u001b[0m \u001b[1;32mas\u001b[0m \u001b[0mpd\u001b[0m\u001b[1;33m\u001b[0m\u001b[0m\n\u001b[1;32m----> 2\u001b[1;33m \u001b[1;32mfrom\u001b[0m \u001b[0mfbprophet\u001b[0m \u001b[1;32mimport\u001b[0m \u001b[0mProphet\u001b[0m\u001b[1;33m\u001b[0m\u001b[0m\n\u001b[0m\u001b[0;32m      3\u001b[0m \u001b[1;32mfrom\u001b[0m \u001b[0mfbprophet\u001b[0m\u001b[1;33m.\u001b[0m\u001b[0mplot\u001b[0m \u001b[1;32mimport\u001b[0m \u001b[0madd_changepoints_to_plot\u001b[0m\u001b[1;33m\u001b[0m\u001b[0m\n\u001b[0;32m      4\u001b[0m \u001b[1;32mfrom\u001b[0m \u001b[0mfbprophet\u001b[0m\u001b[1;33m.\u001b[0m\u001b[0mdiagnostics\u001b[0m \u001b[1;32mimport\u001b[0m \u001b[0mcross_validation\u001b[0m\u001b[1;33m\u001b[0m\u001b[0m\n\u001b[0;32m      5\u001b[0m \u001b[1;32mfrom\u001b[0m \u001b[0mfbprophet\u001b[0m\u001b[1;33m.\u001b[0m\u001b[0mdiagnostics\u001b[0m \u001b[1;32mimport\u001b[0m \u001b[0mperformance_metrics\u001b[0m\u001b[1;33m\u001b[0m\u001b[0m\n",
      "\u001b[1;31mModuleNotFoundError\u001b[0m: No module named 'fbprophet'"
     ]
    }
   ],
   "source": [
    "import pandas as pd\n",
    "from fbprophet import Prophet\n",
    "from fbprophet.plot import add_changepoints_to_plot\n",
    "from fbprophet.diagnostics import cross_validation\n",
    "from fbprophet.diagnostics import performance_metrics\n",
    "from fbprophet.plot import plot_cross_validation_metric\n",
    "import matplotlib.pyplot as plt"
   ]
  },
  {
   "cell_type": "code",
   "execution_count": 6,
   "id": "2a361062",
   "metadata": {
    "slideshow": {
     "slide_type": "slide"
    }
   },
   "outputs": [],
   "source": [
    "data = pd.read_csv('data/AirPassengers.csv') "
   ]
  },
  {
   "cell_type": "code",
   "execution_count": 7,
   "id": "852ae977",
   "metadata": {
    "slideshow": {
     "slide_type": "slide"
    }
   },
   "outputs": [],
   "source": [
    "df = pd.DataFrame()\n",
    "df['ds'] = pd.to_datetime(data['Month'])\n",
    "df['y'] = data['#Passengers']"
   ]
  },
  {
   "cell_type": "code",
   "execution_count": 8,
   "id": "c3ccd525",
   "metadata": {
    "slideshow": {
     "slide_type": "slide"
    }
   },
   "outputs": [
    {
     "data": {
      "text/html": [
       "<div>\n",
       "<style scoped>\n",
       "    .dataframe tbody tr th:only-of-type {\n",
       "        vertical-align: middle;\n",
       "    }\n",
       "\n",
       "    .dataframe tbody tr th {\n",
       "        vertical-align: top;\n",
       "    }\n",
       "\n",
       "    .dataframe thead th {\n",
       "        text-align: right;\n",
       "    }\n",
       "</style>\n",
       "<table border=\"1\" class=\"dataframe\">\n",
       "  <thead>\n",
       "    <tr style=\"text-align: right;\">\n",
       "      <th></th>\n",
       "      <th>ds</th>\n",
       "      <th>y</th>\n",
       "    </tr>\n",
       "  </thead>\n",
       "  <tbody>\n",
       "    <tr>\n",
       "      <th>0</th>\n",
       "      <td>1949-01-01</td>\n",
       "      <td>112</td>\n",
       "    </tr>\n",
       "    <tr>\n",
       "      <th>1</th>\n",
       "      <td>1949-02-01</td>\n",
       "      <td>118</td>\n",
       "    </tr>\n",
       "    <tr>\n",
       "      <th>2</th>\n",
       "      <td>1949-03-01</td>\n",
       "      <td>132</td>\n",
       "    </tr>\n",
       "    <tr>\n",
       "      <th>3</th>\n",
       "      <td>1949-04-01</td>\n",
       "      <td>129</td>\n",
       "    </tr>\n",
       "    <tr>\n",
       "      <th>4</th>\n",
       "      <td>1949-05-01</td>\n",
       "      <td>121</td>\n",
       "    </tr>\n",
       "  </tbody>\n",
       "</table>\n",
       "</div>"
      ],
      "text/plain": [
       "          ds    y\n",
       "0 1949-01-01  112\n",
       "1 1949-02-01  118\n",
       "2 1949-03-01  132\n",
       "3 1949-04-01  129\n",
       "4 1949-05-01  121"
      ]
     },
     "execution_count": 8,
     "metadata": {},
     "output_type": "execute_result"
    }
   ],
   "source": [
    "df.head()"
   ]
  },
  {
   "cell_type": "code",
   "execution_count": 9,
   "id": "29092fac",
   "metadata": {
    "slideshow": {
     "slide_type": "slide"
    }
   },
   "outputs": [
    {
     "ename": "NameError",
     "evalue": "name 'Prophet' is not defined",
     "output_type": "error",
     "traceback": [
      "\u001b[1;31m---------------------------------------------------------------------------\u001b[0m",
      "\u001b[1;31mNameError\u001b[0m                                 Traceback (most recent call last)",
      "\u001b[1;32m<ipython-input-9-1ab3c9387252>\u001b[0m in \u001b[0;36m<module>\u001b[1;34m()\u001b[0m\n\u001b[1;32m----> 1\u001b[1;33m \u001b[0mm\u001b[0m \u001b[1;33m=\u001b[0m \u001b[0mProphet\u001b[0m\u001b[1;33m(\u001b[0m\u001b[1;33m)\u001b[0m\u001b[1;33m\u001b[0m\u001b[0m\n\u001b[0m\u001b[0;32m      2\u001b[0m \u001b[0mm\u001b[0m\u001b[1;33m.\u001b[0m\u001b[0mfit\u001b[0m\u001b[1;33m(\u001b[0m\u001b[0mdf\u001b[0m\u001b[1;33m)\u001b[0m\u001b[1;33m\u001b[0m\u001b[0m\n",
      "\u001b[1;31mNameError\u001b[0m: name 'Prophet' is not defined"
     ]
    }
   ],
   "source": [
    "m = Prophet()\n",
    "m.fit(df)"
   ]
  },
  {
   "cell_type": "code",
   "execution_count": null,
   "id": "93873254",
   "metadata": {
    "slideshow": {
     "slide_type": "slide"
    }
   },
   "outputs": [],
   "source": [
    "future = m.make_future_dataframe(periods=12 * 6, freq='M')\n",
    "future.tail()"
   ]
  },
  {
   "cell_type": "code",
   "execution_count": null,
   "id": "25e7e9d8",
   "metadata": {
    "slideshow": {
     "slide_type": "slide"
    }
   },
   "outputs": [],
   "source": [
    "forecast = m.predict(future)\n",
    "forecast[['ds', 'yhat', 'yhat_lower', 'yhat_upper']].tail()"
   ]
  },
  {
   "cell_type": "code",
   "execution_count": null,
   "id": "c33a20ea",
   "metadata": {
    "slideshow": {
     "slide_type": "slide"
    }
   },
   "outputs": [],
   "source": [
    "fig1 = m.plot(forecast)"
   ]
  },
  {
   "cell_type": "code",
   "execution_count": null,
   "id": "aafc04ce",
   "metadata": {
    "slideshow": {
     "slide_type": "slide"
    }
   },
   "outputs": [],
   "source": [
    "fig2 = m.plot_components(forecast)"
   ]
  },
  {
   "cell_type": "code",
   "execution_count": null,
   "id": "29a4d412",
   "metadata": {
    "slideshow": {
     "slide_type": "slide"
    }
   },
   "outputs": [],
   "source": [
    "fig = m.plot(forecast)\n",
    "#a = add_changepoints_to_plot(fig.gca(), m, forecast)"
   ]
  },
  {
   "cell_type": "code",
   "execution_count": null,
   "id": "9ac1d227",
   "metadata": {
    "slideshow": {
     "slide_type": "slide"
    }
   },
   "outputs": [],
   "source": [
    "m = Prophet(n_changepoints=3).fit(df)\n",
    "future = m.make_future_dataframe(periods=12 * 6, freq='M')\n",
    "forecast = m.predict(future)\n",
    "fig = m.plot(m.predict(future))"
   ]
  },
  {
   "cell_type": "code",
   "execution_count": null,
   "id": "2f6e2add",
   "metadata": {
    "slideshow": {
     "slide_type": "slide"
    }
   },
   "outputs": [],
   "source": [
    "fig2 = m.plot_components(forecast)"
   ]
  },
  {
   "cell_type": "code",
   "execution_count": null,
   "id": "72c6cc55",
   "metadata": {
    "slideshow": {
     "slide_type": "slide"
    }
   },
   "outputs": [],
   "source": [
    "fig = m.plot(forecast)\n",
    "a = add_changepoints_to_plot(fig.gca(), m, forecast)"
   ]
  },
  {
   "cell_type": "code",
   "execution_count": null,
   "id": "cf2ad467",
   "metadata": {
    "slideshow": {
     "slide_type": "slide"
    }
   },
   "outputs": [],
   "source": [
    "m = Prophet(changepoint_prior_scale=0.001).fit(df)\n",
    "future = m.make_future_dataframe(periods=12 * 6, freq='M')\n",
    "forecast = m.predict(future)\n",
    "fig = m.plot(forecast)"
   ]
  },
  {
   "cell_type": "code",
   "execution_count": null,
   "id": "e81611e8",
   "metadata": {
    "slideshow": {
     "slide_type": "slide"
    }
   },
   "outputs": [],
   "source": [
    "m = Prophet(changepoint_prior_scale=0.5).fit(df)\n",
    "future = m.make_future_dataframe(periods=12 * 6, freq='M')\n",
    "forecast = m.predict(future)\n",
    "fig = m.plot(forecast)"
   ]
  },
  {
   "cell_type": "code",
   "execution_count": null,
   "id": "406edb7c",
   "metadata": {
    "slideshow": {
     "slide_type": "slide"
    }
   },
   "outputs": [],
   "source": [
    "m = Prophet(changepoint_prior_scale=0.5, n_changepoints=7).fit(df)\n",
    "future = m.make_future_dataframe(periods=12 * 6, freq='M')\n",
    "forecast = m.predict(future)\n",
    "fig = m.plot(forecast)"
   ]
  },
  {
   "cell_type": "code",
   "execution_count": null,
   "id": "3dd395ad",
   "metadata": {
    "slideshow": {
     "slide_type": "slide"
    }
   },
   "outputs": [],
   "source": [
    "fig = m.plot(forecast)\n",
    "a = add_changepoints_to_plot(fig.gca(), m, forecast)"
   ]
  },
  {
   "cell_type": "code",
   "execution_count": null,
   "id": "bff37f7d",
   "metadata": {
    "slideshow": {
     "slide_type": "slide"
    }
   },
   "outputs": [],
   "source": [
    "df_cv = cross_validation(m, initial='730 days', period='180 days', horizon = '365 days')\n",
    "df_cv.head()"
   ]
  },
  {
   "cell_type": "code",
   "execution_count": null,
   "id": "92ce480b",
   "metadata": {
    "slideshow": {
     "slide_type": "slide"
    }
   },
   "outputs": [],
   "source": [
    "df_p = performance_metrics(df_cv)\n",
    "df_p.head()"
   ]
  },
  {
   "cell_type": "code",
   "execution_count": null,
   "id": "c581d591",
   "metadata": {
    "slideshow": {
     "slide_type": "slide"
    }
   },
   "outputs": [],
   "source": [
    "fig = plot_cross_validation_metric(df_cv, metric='mape')"
   ]
  },
  {
   "cell_type": "code",
   "execution_count": null,
   "id": "0dd8bc4d",
   "metadata": {
    "slideshow": {
     "slide_type": "slide"
    }
   },
   "outputs": [],
   "source": [
    "m = Prophet(changepoint_prior_scale=.001, n_changepoints=0).fit(df)\n",
    "future = m.make_future_dataframe(periods=12 * 6, freq='M')\n",
    "forecast = m.predict(future)\n",
    "fig = m.plot(forecast)"
   ]
  },
  {
   "cell_type": "code",
   "execution_count": null,
   "id": "e534a10d",
   "metadata": {
    "slideshow": {
     "slide_type": "slide"
    }
   },
   "outputs": [],
   "source": [
    "changepoint_prior_scales = [.005, .05, .5, 2]\n",
    "n_changepoints = [8, 10, 15, 20, 25]\n",
    "\n",
    "rmse = []\n",
    "for changepoint_prior_scale in changepoint_prior_scales:\n",
    "    for n_changepoint in n_changepoints:\n",
    "        print('Changepoint Prior Scale:', changepoint_prior_scale)\n",
    "        print('Number Changepoints:', n_changepoint)\n",
    "        m = Prophet(changepoint_prior_scale=changepoint_prior_scale, n_changepoints=n_changepoint).fit(df)\n",
    "        future = m.make_future_dataframe(periods=12 * 6, freq='M')\n",
    "        forecast = m.predict(future)\n",
    "        fig = m.plot(forecast)\n",
    "        a = add_changepoints_to_plot(fig.gca(), m, forecast)\n",
    "        plt.show()\n",
    "        df_cv = cross_validation(m, initial='1095 days', period='180 days', horizon = '365 days')\n",
    "        df_p = performance_metrics(df_cv)\n",
    "        rmse.append((df_p['rmse'].mean(), {'changepoint_prior_scale': changepoint_prior_scale, 'n_changepoint': n_changepoint}))\n",
    "        fig = plot_cross_validation_metric(df_cv, metric='mape')\n",
    "        plt.show()"
   ]
  },
  {
   "cell_type": "code",
   "execution_count": null,
   "id": "80a3837e",
   "metadata": {
    "slideshow": {
     "slide_type": "slide"
    }
   },
   "outputs": [],
   "source": [
    "rmse"
   ]
  },
  {
   "cell_type": "code",
   "execution_count": null,
   "id": "46176ad4",
   "metadata": {
    "slideshow": {
     "slide_type": "slide"
    }
   },
   "outputs": [],
   "source": [
    "#dataframe of annual US Public Holidays over training and forecasting periods \n",
    "\n",
    "ny = pd.DataFrame({'holiday': \"New Year's Day\", 'ds' : pd.to_datetime(['2016-01-01', '2017-01-01'])})  \n",
    "mlk = pd.DataFrame({'holiday': 'Birthday of Martin Luther King, Jr.', 'ds' : pd.to_datetime(['2016-01-18', '2017-01-16'])}) \n",
    "wash = pd.DataFrame({'holiday': \"Washington's Birthday\", 'ds' : pd.to_datetime(['2016-02-15', '2017-02-20'])})\n",
    "mem = pd.DataFrame({'holiday': 'Memorial Day', 'ds' : pd.to_datetime(['2016-05-30', '2017-05-29'])})\n",
    "ind = pd.DataFrame({'holiday': 'Independence Day', 'ds' : pd.to_datetime(['2015-07-04', '2016-07-04', '2017-07-04'])})\n",
    "lab = pd.DataFrame({'holiday': 'Labor Day', 'ds' : pd.to_datetime(['2015-09-07', '2016-09-05', '2017-09-04'])})\n",
    "col = pd.DataFrame({'holiday': 'Columbus Day', 'ds' : pd.to_datetime(['2015-10-12', '2016-10-10', '2017-10-09'])})\n",
    "vet = pd.DataFrame({'holiday': \"Veteran's Day\", 'ds' : pd.to_datetime(['2015-11-11', '2016-11-11', '2017-11-11'])})\n",
    "thanks = pd.DataFrame({'holiday': 'Thanksgiving Day', 'ds' : pd.to_datetime(['2015-11-26', '2016-11-24'])})\n",
    "christ = pd.DataFrame({'holiday': 'Christmas', 'ds' : pd.to_datetime(['2015-12-25', '2016-12-25'])})\n",
    "\n",
    "holidays = pd.concat([ny, mlk, wash, mem, ind, lab, col, vet, thanks, christ])"
   ]
  },
  {
   "cell_type": "code",
   "execution_count": null,
   "id": "0cb01b8a",
   "metadata": {
    "slideshow": {
     "slide_type": "slide"
    }
   },
   "outputs": [],
   "source": [
    "prophet = Prophet(growth='linear',\n",
    "                  yearly_seasonality=True,\n",
    "                  weekly_seasonality=True,\n",
    "                  daily_seasonality=True,\n",
    "#                   holidays=holidays,\n",
    "                  seasonality_mode='multiplicative',\n",
    "                  seasonality_prior_scale=10,\n",
    "                  holidays_prior_scale=10,\n",
    "                  changepoint_prior_scale=.05,\n",
    "                  mcmc_samples=0\n",
    "                  ).add_seasonality(name='quarterly',\n",
    "                                    period=365.25 / 4,fourier_order=15\n",
    "                  )\n",
    "prophet.fit(df)\n",
    "future = prophet.make_future_dataframe(periods=12 * 6, freq='M')\n",
    "forecast = prophet.predict(future)\n",
    "fig = prophet.plot(forecast)\n",
    "a = add_changepoints_to_plot(fig.gca(), prophet, forecast)\n",
    "plt.show()\n",
    "df_cv = cross_validation(prophet, initial='1095 days', period='180 days', horizon = '365 days')\n",
    "df_p = performance_metrics(df_cv)\n",
    "fig = plot_cross_validation_metric(df_cv, metric='mape')\n",
    "plt.show()"
   ]
  }
 ],
 "metadata": {
  "celltoolbar": "Slideshow",
  "kernelspec": {
   "display_name": "Python 3",
   "language": "python",
   "name": "python3"
  },
  "language_info": {
   "codemirror_mode": {
    "name": "ipython",
    "version": 3
   },
   "file_extension": ".py",
   "mimetype": "text/x-python",
   "name": "python",
   "nbconvert_exporter": "python",
   "pygments_lexer": "ipython3",
   "version": "3.6.13"
  },
  "latex_envs": {
   "LaTeX_envs_menu_present": true,
   "autoclose": false,
   "autocomplete": true,
   "bibliofile": "biblio.bib",
   "cite_by": "apalike",
   "current_citInitial": 1,
   "eqLabelWithNumbers": true,
   "eqNumInitial": 1,
   "hotkeys": {
    "equation": "Ctrl-E",
    "itemize": "Ctrl-I"
   },
   "labels_anchors": false,
   "latex_user_defs": false,
   "report_style_numbering": false,
   "user_envs_cfg": false
  },
  "papermill": {
   "default_parameters": {},
   "duration": 40.252502,
   "end_time": "2021-08-24T14:02:12.213649",
   "environment_variables": {},
   "exception": null,
   "input_path": "__notebook__.ipynb",
   "output_path": "__notebook__.ipynb",
   "parameters": {},
   "start_time": "2021-08-24T14:01:31.961147",
   "version": "2.3.3"
  }
 },
 "nbformat": 4,
 "nbformat_minor": 5
}
