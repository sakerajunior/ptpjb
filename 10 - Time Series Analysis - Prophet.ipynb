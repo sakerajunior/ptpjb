{
 "cells": [
  {
   "cell_type": "markdown",
   "id": "ec941233",
   "metadata": {
    "slideshow": {
     "slide_type": "slide"
    }
   },
   "source": [
    "# <center><font color=\"red\"> https://bit.ly/ptpjb-2021-10</font>\n",
    "# <center><font color=\"blue\">10 - Time Series Analysis - Prophet</font>\n",
    "\n",
    "<center><img alt=\"\" src=\"images/cover_ptpjb_2021.png\"/></center> \n",
    "\n",
    "## <center><font color=\"blue\">RISCHAN MAFRUR</font></center>\n",
    "<center><a href=\"https://github.com/rischanlab\">rischanlab</a> ~ <a href=\"mailto:r.mafrur@uq.net.au\">r.mafrur@uq.net.au</a></center>"
   ]
  },
  {
   "cell_type": "markdown",
   "id": "72f62b97",
   "metadata": {
    "slideshow": {
     "slide_type": "slide"
    }
   },
   "source": [
    "# <center><font color=\"blue\"> Analisis Data Time Series menggunakan Facebook Prophet"
   ]
  },
  {
   "cell_type": "markdown",
   "id": "6dffaf2f",
   "metadata": {
    "slideshow": {
     "slide_type": "slide"
    }
   },
   "source": [
    "Data time series adalah data yang sering kita temui di kehidupan sehari-hari, contoh data time\n",
    "series adalah:\n",
    "1. Data saham, crypto, commodities.\n",
    "2. Data sensor dari berbagai macam devices termasuk speeding camera.\n",
    "3. Data penjualan, e-commerce, dan sebagainya.\n",
    "Apa yang sering dilakukan pada data time series?\n",
    "Jawaban paling umum adalah forecasting/prediksi. Misalnya, harga saham, jumlah penjualan\n",
    "barang, dan sebagainya.\n",
    "Algoritma yang umum dipakai untuk forecasting data time series:\n",
    "1. ARIMA\n",
    "2. ARCH\n",
    "3. Regressive models\n",
    "4. Neural networks LSTM"
   ]
  },
  {
   "cell_type": "markdown",
   "id": "0b60d91a",
   "metadata": {
    "slideshow": {
     "slide_type": "slide"
    }
   },
   "source": [
    "Apa itu Facebook Prophet?\n",
    "Di kembangkan oleh Facebook Research, pada awalnya algoritma ini dibuat untuk\n",
    "menghasilkan prediksi dengan kualitas tinggi untuk business forecast.\n",
    "Apa yang membuat Fb Prophet special?\n",
    "1. Seasonal effects caused by human behavior: mingguan, bulanan, siklus tahunan, hari\n",
    "libur, dips dan peak.\n",
    "2. Pergantian trends karena adanya produk baru atau karena adanya market event.\n",
    "3. Outliers\n",
    "Fb prophet ditujukan untuk general users, jadi walaupun bukan data analyst, untuk\n",
    "menggunakan algoritma ini cukup mudah karena didesain mudah untuk orang umum.\n",
    "Official publication/paper bisa diakses disini\n",
    "https://peerj.com/preprints/3190/"
   ]
  },
  {
   "cell_type": "markdown",
   "id": "c6262845",
   "metadata": {
    "slideshow": {
     "slide_type": "slide"
    }
   },
   "source": [
    "“Forecasting at Scale”, authors: Sean J Taylor dan\n",
    "Benjamin Letham (Peneliti dari Facebook), terbit tahun September 2017."
   ]
  },
  {
   "cell_type": "markdown",
   "id": "7fe52505",
   "metadata": {
    "_uuid": "980ad6ccf8671b45897bb37798ef31ad043ca58f",
    "papermill": {
     "duration": 0.047477,
     "end_time": "2021-08-24T14:01:42.114917",
     "exception": false,
     "start_time": "2021-08-24T14:01:42.067440",
     "status": "completed"
    },
    "slideshow": {
     "slide_type": "slide"
    },
    "tags": []
   },
   "source": [
    "# <center><font color=\"blue\">Practice with Facebook Prophet\n",
    "### Installation in Python\n",
    "\n",
    "\n",
    "In Python you can install Prophet using PyPI:\n",
    "```\n",
    "$ pip install fbprophet\n",
    "```\n"
   ]
  },
  {
   "cell_type": "code",
   "execution_count": null,
   "id": "afa49b80",
   "metadata": {},
   "outputs": [],
   "source": [
    "!pip install fbprophet"
   ]
  },
  {
   "cell_type": "code",
   "execution_count": 4,
   "id": "a4ab52aa",
   "metadata": {
    "_uuid": "ae20e66c0f75c5459f88531bc4a41f8b59b81a25",
    "execution": {
     "iopub.execute_input": "2021-08-24T14:01:42.216552Z",
     "iopub.status.busy": "2021-08-24T14:01:42.214727Z",
     "iopub.status.idle": "2021-08-24T14:01:44.553744Z",
     "shell.execute_reply": "2021-08-24T14:01:44.554263Z",
     "shell.execute_reply.started": "2021-08-24T14:00:47.527530Z"
    },
    "papermill": {
     "duration": 2.390269,
     "end_time": "2021-08-24T14:01:44.554602",
     "exception": false,
     "start_time": "2021-08-24T14:01:42.164333",
     "status": "completed"
    },
    "slideshow": {
     "slide_type": "slide"
    },
    "tags": []
   },
   "outputs": [],
   "source": [
    "import warnings; warnings.filterwarnings('ignore')\n",
    "\n",
    "import numpy as np\n",
    "import pandas as pd\n",
    "from scipy import stats\n",
    "import statsmodels.api as sm\n",
    "import matplotlib.pyplot as plt\n",
    "\n",
    "# sharper plots\n",
    "%config InlineBackend.figure_format = 'retina'\n",
    "%matplotlib inline"
   ]
  },
  {
   "cell_type": "code",
   "execution_count": 6,
   "id": "63bfb714",
   "metadata": {
    "_uuid": "f3987c00479aa9e0cca538bd29c8a8e4e99ddb32",
    "execution": {
     "iopub.execute_input": "2021-08-24T14:01:44.651189Z",
     "iopub.status.busy": "2021-08-24T14:01:44.650414Z",
     "iopub.status.idle": "2021-08-24T14:01:45.002531Z",
     "shell.execute_reply": "2021-08-24T14:01:45.001260Z",
     "shell.execute_reply.started": "2021-08-24T14:00:47.558477Z"
    },
    "papermill": {
     "duration": 0.401878,
     "end_time": "2021-08-24T14:01:45.002708",
     "exception": false,
     "start_time": "2021-08-24T14:01:44.600830",
     "status": "completed"
    },
    "slideshow": {
     "slide_type": "slide"
    },
    "tags": []
   },
   "outputs": [
    {
     "name": "stderr",
     "output_type": "stream",
     "text": [
      "b'Skipping line 199: expected 1 fields, saw 7\\nSkipping line 70392: expected 1 fields, saw 3\\n'\n"
     ]
    },
    {
     "name": "stdout",
     "output_type": "stream",
     "text": [
      "baris =  92189 , Kolom (jumlah variabel) =  1\n",
      "<class 'pandas.core.frame.DataFrame'>\n",
      "RangeIndex: 92189 entries, 0 to 92188\n",
      "Data columns (total 1 columns):\n",
      " #   Column                Non-Null Count  Dtype \n",
      "---  ------                --------------  ----- \n",
      " 0   published\tdomain\turl  92189 non-null  object\n",
      "dtypes: object(1)\n",
      "memory usage: 720.4+ KB\n",
      "None\n"
     ]
    },
    {
     "data": {
      "text/html": [
       "<div>\n",
       "<style scoped>\n",
       "    .dataframe tbody tr th:only-of-type {\n",
       "        vertical-align: middle;\n",
       "    }\n",
       "\n",
       "    .dataframe tbody tr th {\n",
       "        vertical-align: top;\n",
       "    }\n",
       "\n",
       "    .dataframe thead th {\n",
       "        text-align: right;\n",
       "    }\n",
       "</style>\n",
       "<table border=\"1\" class=\"dataframe\">\n",
       "  <thead>\n",
       "    <tr style=\"text-align: right;\">\n",
       "      <th></th>\n",
       "      <th>published\\tdomain\\turl</th>\n",
       "    </tr>\n",
       "  </thead>\n",
       "  <tbody>\n",
       "    <tr>\n",
       "      <th>0</th>\n",
       "      <td>2012-08-13 22:54:53.510Z\\tmedium.com\\thttps://...</td>\n",
       "    </tr>\n",
       "    <tr>\n",
       "      <th>1</th>\n",
       "      <td>2012-08-13 22:57:17.248Z\\tmedium.com\\thttps://...</td>\n",
       "    </tr>\n",
       "    <tr>\n",
       "      <th>2</th>\n",
       "      <td>2016-11-04 23:40:43.364Z\\tmedium.com\\thttps://...</td>\n",
       "    </tr>\n",
       "    <tr>\n",
       "      <th>3</th>\n",
       "      <td>2016-12-24 18:21:13.427Z\\tmedium.com\\thttps://...</td>\n",
       "    </tr>\n",
       "    <tr>\n",
       "      <th>4</th>\n",
       "      <td>2015-09-22 21:37:48.207Z\\tblog.medium.com\\thtt...</td>\n",
       "    </tr>\n",
       "  </tbody>\n",
       "</table>\n",
       "</div>"
      ],
      "text/plain": [
       "                              published\\tdomain\\turl\n",
       "0  2012-08-13 22:54:53.510Z\\tmedium.com\\thttps://...\n",
       "1  2012-08-13 22:57:17.248Z\\tmedium.com\\thttps://...\n",
       "2  2016-11-04 23:40:43.364Z\\tmedium.com\\thttps://...\n",
       "3  2016-12-24 18:21:13.427Z\\tmedium.com\\thttps://...\n",
       "4  2015-09-22 21:37:48.207Z\\tblog.medium.com\\thtt..."
      ]
     },
     "execution_count": 6,
     "metadata": {},
     "output_type": "execute_result"
    }
   ],
   "source": [
    "file_ = \"data/medium_posts.csv\"\n",
    "try: # Running Locally, yakinkan \"file_\" berada di folder \"data\"\n",
    "    df = pd.read_csv(file_, error_bad_lines=False, low_memory = False, encoding='utf8')\n",
    "except: # Running in Google Colab\n",
    "    !mkdir data\n",
    "    !wget -P data/ https://raw.githubusercontent.com/taudata-indonesia/ptpjb/master/{file_}\n",
    "    df = pd.read_csv(file_, error_bad_lines=False, low_memory = False, encoding='utf8')\n",
    "\n",
    "N, P = df.shape # Ukuran Data\n",
    "print('baris = ', N, ', Kolom (jumlah variabel) = ', P)\n",
    "print(df.info())\n",
    "df.head()"
   ]
  },
  {
   "cell_type": "code",
   "execution_count": 7,
   "id": "ba3ffb87",
   "metadata": {
    "execution": {
     "iopub.execute_input": "2021-08-24T14:01:45.108078Z",
     "iopub.status.busy": "2021-08-24T14:01:45.107141Z",
     "iopub.status.idle": "2021-08-24T14:01:45.127298Z",
     "shell.execute_reply": "2021-08-24T14:01:45.126747Z",
     "shell.execute_reply.started": "2021-08-24T14:00:47.791926Z"
    },
    "papermill": {
     "duration": 0.079644,
     "end_time": "2021-08-24T14:01:45.127477",
     "exception": false,
     "start_time": "2021-08-24T14:01:45.047833",
     "status": "completed"
    },
    "slideshow": {
     "slide_type": "slide"
    },
    "tags": []
   },
   "outputs": [
    {
     "data": {
      "text/html": [
       "<div>\n",
       "<style scoped>\n",
       "    .dataframe tbody tr th:only-of-type {\n",
       "        vertical-align: middle;\n",
       "    }\n",
       "\n",
       "    .dataframe tbody tr th {\n",
       "        vertical-align: top;\n",
       "    }\n",
       "\n",
       "    .dataframe thead th {\n",
       "        text-align: right;\n",
       "    }\n",
       "</style>\n",
       "<table border=\"1\" class=\"dataframe\">\n",
       "  <thead>\n",
       "    <tr style=\"text-align: right;\">\n",
       "      <th></th>\n",
       "      <th>published\\tdomain\\turl</th>\n",
       "    </tr>\n",
       "  </thead>\n",
       "  <tbody>\n",
       "    <tr>\n",
       "      <th>0</th>\n",
       "      <td>2012-08-13 22:54:53.510Z\\tmedium.com\\thttps://...</td>\n",
       "    </tr>\n",
       "    <tr>\n",
       "      <th>1</th>\n",
       "      <td>2012-08-13 22:57:17.248Z\\tmedium.com\\thttps://...</td>\n",
       "    </tr>\n",
       "    <tr>\n",
       "      <th>2</th>\n",
       "      <td>2016-11-04 23:40:43.364Z\\tmedium.com\\thttps://...</td>\n",
       "    </tr>\n",
       "    <tr>\n",
       "      <th>3</th>\n",
       "      <td>2016-12-24 18:21:13.427Z\\tmedium.com\\thttps://...</td>\n",
       "    </tr>\n",
       "    <tr>\n",
       "      <th>4</th>\n",
       "      <td>2015-09-22 21:37:48.207Z\\tblog.medium.com\\thtt...</td>\n",
       "    </tr>\n",
       "  </tbody>\n",
       "</table>\n",
       "</div>"
      ],
      "text/plain": [
       "                              published\\tdomain\\turl\n",
       "0  2012-08-13 22:54:53.510Z\\tmedium.com\\thttps://...\n",
       "1  2012-08-13 22:57:17.248Z\\tmedium.com\\thttps://...\n",
       "2  2016-11-04 23:40:43.364Z\\tmedium.com\\thttps://...\n",
       "3  2016-12-24 18:21:13.427Z\\tmedium.com\\thttps://...\n",
       "4  2015-09-22 21:37:48.207Z\\tblog.medium.com\\thtt..."
      ]
     },
     "execution_count": 7,
     "metadata": {},
     "output_type": "execute_result"
    }
   ],
   "source": [
    "df.head()"
   ]
  },
  {
   "cell_type": "markdown",
   "id": "3eaa1b32",
   "metadata": {
    "_uuid": "1de5bc19bfb8a9346910d7905cdc72db70d62a53",
    "papermill": {
     "duration": 0.04555,
     "end_time": "2021-08-24T14:01:45.219479",
     "exception": false,
     "start_time": "2021-08-24T14:01:45.173929",
     "status": "completed"
    },
    "slideshow": {
     "slide_type": "slide"
    },
    "tags": []
   },
   "source": [
    "Data yang kita butuhkan hanya published date dan url, duplicate dan na juga perlu di drop"
   ]
  },
  {
   "cell_type": "code",
   "execution_count": 8,
   "id": "f0013b1c",
   "metadata": {
    "_uuid": "16a86f9a6944446d495ec5f47704c2a0478b5fb0",
    "execution": {
     "iopub.execute_input": "2021-08-24T14:01:45.346730Z",
     "iopub.status.busy": "2021-08-24T14:01:45.345578Z",
     "iopub.status.idle": "2021-08-24T14:01:45.459909Z",
     "shell.execute_reply": "2021-08-24T14:01:45.459156Z",
     "shell.execute_reply.started": "2021-08-24T14:00:47.809461Z"
    },
    "papermill": {
     "duration": 0.192985,
     "end_time": "2021-08-24T14:01:45.460063",
     "exception": false,
     "start_time": "2021-08-24T14:01:45.267078",
     "status": "completed"
    },
    "slideshow": {
     "slide_type": "slide"
    },
    "tags": []
   },
   "outputs": [
    {
     "ename": "KeyError",
     "evalue": "\"None of [Index(['published', 'url'], dtype='object')] are in the [columns]\"",
     "output_type": "error",
     "traceback": [
      "\u001b[1;31m---------------------------------------------------------------------------\u001b[0m",
      "\u001b[1;31mKeyError\u001b[0m                                  Traceback (most recent call last)",
      "\u001b[1;32m<ipython-input-8-4a4db52c671e>\u001b[0m in \u001b[0;36m<module>\u001b[1;34m\u001b[0m\n\u001b[1;32m----> 1\u001b[1;33m \u001b[0mdf\u001b[0m \u001b[1;33m=\u001b[0m \u001b[0mdf\u001b[0m\u001b[1;33m[\u001b[0m\u001b[1;33m[\u001b[0m\u001b[1;34m'published'\u001b[0m\u001b[1;33m,\u001b[0m \u001b[1;34m'url'\u001b[0m\u001b[1;33m]\u001b[0m\u001b[1;33m]\u001b[0m\u001b[1;33m.\u001b[0m\u001b[0mdropna\u001b[0m\u001b[1;33m(\u001b[0m\u001b[1;33m)\u001b[0m\u001b[1;33m.\u001b[0m\u001b[0mdrop_duplicates\u001b[0m\u001b[1;33m(\u001b[0m\u001b[1;33m)\u001b[0m\u001b[1;33m\u001b[0m\u001b[1;33m\u001b[0m\u001b[0m\n\u001b[0m",
      "\u001b[1;32mC:\\Anaconda3\\envs\\py36\\lib\\site-packages\\pandas\\core\\frame.py\u001b[0m in \u001b[0;36m__getitem__\u001b[1;34m(self, key)\u001b[0m\n\u001b[0;32m   2910\u001b[0m             \u001b[1;32mif\u001b[0m \u001b[0mis_iterator\u001b[0m\u001b[1;33m(\u001b[0m\u001b[0mkey\u001b[0m\u001b[1;33m)\u001b[0m\u001b[1;33m:\u001b[0m\u001b[1;33m\u001b[0m\u001b[1;33m\u001b[0m\u001b[0m\n\u001b[0;32m   2911\u001b[0m                 \u001b[0mkey\u001b[0m \u001b[1;33m=\u001b[0m \u001b[0mlist\u001b[0m\u001b[1;33m(\u001b[0m\u001b[0mkey\u001b[0m\u001b[1;33m)\u001b[0m\u001b[1;33m\u001b[0m\u001b[1;33m\u001b[0m\u001b[0m\n\u001b[1;32m-> 2912\u001b[1;33m             \u001b[0mindexer\u001b[0m \u001b[1;33m=\u001b[0m \u001b[0mself\u001b[0m\u001b[1;33m.\u001b[0m\u001b[0mloc\u001b[0m\u001b[1;33m.\u001b[0m\u001b[0m_get_listlike_indexer\u001b[0m\u001b[1;33m(\u001b[0m\u001b[0mkey\u001b[0m\u001b[1;33m,\u001b[0m \u001b[0maxis\u001b[0m\u001b[1;33m=\u001b[0m\u001b[1;36m1\u001b[0m\u001b[1;33m,\u001b[0m \u001b[0mraise_missing\u001b[0m\u001b[1;33m=\u001b[0m\u001b[1;32mTrue\u001b[0m\u001b[1;33m)\u001b[0m\u001b[1;33m[\u001b[0m\u001b[1;36m1\u001b[0m\u001b[1;33m]\u001b[0m\u001b[1;33m\u001b[0m\u001b[1;33m\u001b[0m\u001b[0m\n\u001b[0m\u001b[0;32m   2913\u001b[0m \u001b[1;33m\u001b[0m\u001b[0m\n\u001b[0;32m   2914\u001b[0m         \u001b[1;31m# take() does not accept boolean indexers\u001b[0m\u001b[1;33m\u001b[0m\u001b[1;33m\u001b[0m\u001b[1;33m\u001b[0m\u001b[0m\n",
      "\u001b[1;32mC:\\Anaconda3\\envs\\py36\\lib\\site-packages\\pandas\\core\\indexing.py\u001b[0m in \u001b[0;36m_get_listlike_indexer\u001b[1;34m(self, key, axis, raise_missing)\u001b[0m\n\u001b[0;32m   1252\u001b[0m             \u001b[0mkeyarr\u001b[0m\u001b[1;33m,\u001b[0m \u001b[0mindexer\u001b[0m\u001b[1;33m,\u001b[0m \u001b[0mnew_indexer\u001b[0m \u001b[1;33m=\u001b[0m \u001b[0max\u001b[0m\u001b[1;33m.\u001b[0m\u001b[0m_reindex_non_unique\u001b[0m\u001b[1;33m(\u001b[0m\u001b[0mkeyarr\u001b[0m\u001b[1;33m)\u001b[0m\u001b[1;33m\u001b[0m\u001b[1;33m\u001b[0m\u001b[0m\n\u001b[0;32m   1253\u001b[0m \u001b[1;33m\u001b[0m\u001b[0m\n\u001b[1;32m-> 1254\u001b[1;33m         \u001b[0mself\u001b[0m\u001b[1;33m.\u001b[0m\u001b[0m_validate_read_indexer\u001b[0m\u001b[1;33m(\u001b[0m\u001b[0mkeyarr\u001b[0m\u001b[1;33m,\u001b[0m \u001b[0mindexer\u001b[0m\u001b[1;33m,\u001b[0m \u001b[0maxis\u001b[0m\u001b[1;33m,\u001b[0m \u001b[0mraise_missing\u001b[0m\u001b[1;33m=\u001b[0m\u001b[0mraise_missing\u001b[0m\u001b[1;33m)\u001b[0m\u001b[1;33m\u001b[0m\u001b[1;33m\u001b[0m\u001b[0m\n\u001b[0m\u001b[0;32m   1255\u001b[0m         \u001b[1;32mreturn\u001b[0m \u001b[0mkeyarr\u001b[0m\u001b[1;33m,\u001b[0m \u001b[0mindexer\u001b[0m\u001b[1;33m\u001b[0m\u001b[1;33m\u001b[0m\u001b[0m\n\u001b[0;32m   1256\u001b[0m \u001b[1;33m\u001b[0m\u001b[0m\n",
      "\u001b[1;32mC:\\Anaconda3\\envs\\py36\\lib\\site-packages\\pandas\\core\\indexing.py\u001b[0m in \u001b[0;36m_validate_read_indexer\u001b[1;34m(self, key, indexer, axis, raise_missing)\u001b[0m\n\u001b[0;32m   1296\u001b[0m             \u001b[1;32mif\u001b[0m \u001b[0mmissing\u001b[0m \u001b[1;33m==\u001b[0m \u001b[0mlen\u001b[0m\u001b[1;33m(\u001b[0m\u001b[0mindexer\u001b[0m\u001b[1;33m)\u001b[0m\u001b[1;33m:\u001b[0m\u001b[1;33m\u001b[0m\u001b[1;33m\u001b[0m\u001b[0m\n\u001b[0;32m   1297\u001b[0m                 \u001b[0maxis_name\u001b[0m \u001b[1;33m=\u001b[0m \u001b[0mself\u001b[0m\u001b[1;33m.\u001b[0m\u001b[0mobj\u001b[0m\u001b[1;33m.\u001b[0m\u001b[0m_get_axis_name\u001b[0m\u001b[1;33m(\u001b[0m\u001b[0maxis\u001b[0m\u001b[1;33m)\u001b[0m\u001b[1;33m\u001b[0m\u001b[1;33m\u001b[0m\u001b[0m\n\u001b[1;32m-> 1298\u001b[1;33m                 \u001b[1;32mraise\u001b[0m \u001b[0mKeyError\u001b[0m\u001b[1;33m(\u001b[0m\u001b[1;34mf\"None of [{key}] are in the [{axis_name}]\"\u001b[0m\u001b[1;33m)\u001b[0m\u001b[1;33m\u001b[0m\u001b[1;33m\u001b[0m\u001b[0m\n\u001b[0m\u001b[0;32m   1299\u001b[0m \u001b[1;33m\u001b[0m\u001b[0m\n\u001b[0;32m   1300\u001b[0m             \u001b[1;31m# We (temporarily) allow for some missing keys with .loc, except in\u001b[0m\u001b[1;33m\u001b[0m\u001b[1;33m\u001b[0m\u001b[1;33m\u001b[0m\u001b[0m\n",
      "\u001b[1;31mKeyError\u001b[0m: \"None of [Index(['published', 'url'], dtype='object')] are in the [columns]\""
     ]
    }
   ],
   "source": [
    "df = df[['published', 'url']].dropna().drop_duplicates()"
   ]
  },
  {
   "cell_type": "markdown",
   "id": "d60f743c",
   "metadata": {
    "_uuid": "771cdb7020457e497f581aa6a42e7106625a93a7",
    "papermill": {
     "duration": 0.046425,
     "end_time": "2021-08-24T14:01:45.553248",
     "exception": false,
     "start_time": "2021-08-24T14:01:45.506823",
     "status": "completed"
    },
    "slideshow": {
     "slide_type": "slide"
    },
    "tags": []
   },
   "source": [
    "Published data masih dalam format string, jadi harus di convert ke tipe date terlebih dahulu"
   ]
  },
  {
   "cell_type": "code",
   "execution_count": null,
   "id": "2074b22e",
   "metadata": {
    "_uuid": "c483cc50d636d11701b2d8dee0c786fc4d144b12",
    "execution": {
     "iopub.execute_input": "2021-08-24T14:01:45.660794Z",
     "iopub.status.busy": "2021-08-24T14:01:45.655509Z",
     "iopub.status.idle": "2021-08-24T14:01:45.722729Z",
     "shell.execute_reply": "2021-08-24T14:01:45.722109Z",
     "shell.execute_reply.started": "2021-08-24T14:00:47.933236Z"
    },
    "papermill": {
     "duration": 0.123557,
     "end_time": "2021-08-24T14:01:45.722894",
     "exception": false,
     "start_time": "2021-08-24T14:01:45.599337",
     "status": "completed"
    },
    "slideshow": {
     "slide_type": "slide"
    },
    "tags": []
   },
   "outputs": [],
   "source": [
    "df['published'] = pd.to_datetime(df['published'])"
   ]
  },
  {
   "cell_type": "markdown",
   "id": "f056f703",
   "metadata": {
    "_uuid": "9b2ce888af440d33ad69211bcaf120abae5e4095",
    "papermill": {
     "duration": 0.045658,
     "end_time": "2021-08-24T14:01:45.815550",
     "exception": false,
     "start_time": "2021-08-24T14:01:45.769892",
     "status": "completed"
    },
    "slideshow": {
     "slide_type": "slide"
    },
    "tags": []
   },
   "source": [
    "Check data, sort by published date"
   ]
  },
  {
   "cell_type": "code",
   "execution_count": null,
   "id": "56f8dcdf",
   "metadata": {
    "_uuid": "d9e0315daa7bdec0fca1c37c8aaae059563d334d",
    "execution": {
     "iopub.execute_input": "2021-08-24T14:01:45.912853Z",
     "iopub.status.busy": "2021-08-24T14:01:45.912153Z",
     "iopub.status.idle": "2021-08-24T14:01:45.944640Z",
     "shell.execute_reply": "2021-08-24T14:01:45.944063Z",
     "shell.execute_reply.started": "2021-08-24T14:00:48.010171Z"
    },
    "papermill": {
     "duration": 0.082823,
     "end_time": "2021-08-24T14:01:45.944803",
     "exception": false,
     "start_time": "2021-08-24T14:01:45.861980",
     "status": "completed"
    },
    "slideshow": {
     "slide_type": "slide"
    },
    "tags": []
   },
   "outputs": [],
   "source": [
    "df.sort_values(by=['published']).head(n=3)"
   ]
  },
  {
   "cell_type": "markdown",
   "id": "154e562c",
   "metadata": {
    "_uuid": "4994d2f362bbd6419772afd5b3692c610f1c1d8b",
    "papermill": {
     "duration": 0.047612,
     "end_time": "2021-08-24T14:01:46.039418",
     "exception": false,
     "start_time": "2021-08-24T14:01:45.991806",
     "status": "completed"
    },
    "slideshow": {
     "slide_type": "slide"
    },
    "tags": []
   },
   "source": [
    "Medium itu rilis tanggal August 15, 2012. Kalau dilihat dari data yang kita dapatkan diatas, sepertinya itu ada beberapa dummy data. Jadi kita pastikan saja data yang kita ambil mulai dari 15 Agustus 2021 sampai 26 July 2017"
   ]
  },
  {
   "cell_type": "code",
   "execution_count": null,
   "id": "26dd08ed",
   "metadata": {
    "_uuid": "8b89bad8dfe09a01693b1757f4e1305e2db503f2",
    "execution": {
     "iopub.execute_input": "2021-08-24T14:01:46.137693Z",
     "iopub.status.busy": "2021-08-24T14:01:46.137007Z",
     "iopub.status.idle": "2021-08-24T14:01:46.178455Z",
     "shell.execute_reply": "2021-08-24T14:01:46.177336Z",
     "shell.execute_reply.started": "2021-08-24T14:00:48.043662Z"
    },
    "papermill": {
     "duration": 0.093031,
     "end_time": "2021-08-24T14:01:46.178618",
     "exception": false,
     "start_time": "2021-08-24T14:01:46.085587",
     "status": "completed"
    },
    "slideshow": {
     "slide_type": "slide"
    },
    "tags": []
   },
   "outputs": [],
   "source": [
    "df = df[(df['published'] > '2012-08-15') & (df['published'] < '2017-06-26')].sort_values(by=['published'])\n",
    "df.head(n=3)"
   ]
  },
  {
   "cell_type": "code",
   "execution_count": null,
   "id": "b93cd0f8",
   "metadata": {
    "_uuid": "176c8e99183a3f28f11aee79628e463987b16c6e",
    "execution": {
     "iopub.execute_input": "2021-08-24T14:01:46.284478Z",
     "iopub.status.busy": "2021-08-24T14:01:46.283769Z",
     "iopub.status.idle": "2021-08-24T14:01:46.286604Z",
     "shell.execute_reply": "2021-08-24T14:01:46.287071Z",
     "shell.execute_reply.started": "2021-08-24T14:00:48.089867Z"
    },
    "papermill": {
     "duration": 0.061445,
     "end_time": "2021-08-24T14:01:46.287256",
     "exception": false,
     "start_time": "2021-08-24T14:01:46.225811",
     "status": "completed"
    },
    "slideshow": {
     "slide_type": "slide"
    },
    "tags": []
   },
   "outputs": [],
   "source": [
    "df.tail(n=3)"
   ]
  },
  {
   "cell_type": "markdown",
   "id": "09d95c63",
   "metadata": {
    "_uuid": "c62261b848d69281dba39a14c6b473f0bfe603fc",
    "papermill": {
     "duration": 0.047329,
     "end_time": "2021-08-24T14:01:46.381467",
     "exception": false,
     "start_time": "2021-08-24T14:01:46.334138",
     "status": "completed"
    },
    "slideshow": {
     "slide_type": "slide"
    },
    "tags": []
   },
   "source": [
    "Kali ini kita ingin memprediksi jumlah postingan di medium, sehingga data yang kita punya harus kita aggregasikan dengan menggunakan count() berdasarkan published date"
   ]
  },
  {
   "cell_type": "code",
   "execution_count": null,
   "id": "c1029796",
   "metadata": {
    "_uuid": "b676670adcc8124cbca7aaa1aa81d85ea68ce090",
    "execution": {
     "iopub.execute_input": "2021-08-24T14:01:46.478533Z",
     "iopub.status.busy": "2021-08-24T14:01:46.477803Z",
     "iopub.status.idle": "2021-08-24T14:01:46.522882Z",
     "shell.execute_reply": "2021-08-24T14:01:46.521118Z",
     "shell.execute_reply.started": "2021-08-24T14:00:48.103293Z"
    },
    "papermill": {
     "duration": 0.094758,
     "end_time": "2021-08-24T14:01:46.523058",
     "exception": false,
     "start_time": "2021-08-24T14:01:46.428300",
     "status": "completed"
    },
    "slideshow": {
     "slide_type": "slide"
    },
    "tags": []
   },
   "outputs": [],
   "source": [
    "aggr_df = df.groupby('published')[['url']].count()\n",
    "aggr_df.columns = ['posts']"
   ]
  },
  {
   "cell_type": "markdown",
   "id": "d54bbbca",
   "metadata": {
    "_uuid": "8d8d1a8bd7ac54a9bf18fc1dd6fdce171a50fdfb",
    "papermill": {
     "duration": 0.047829,
     "end_time": "2021-08-24T14:01:46.619979",
     "exception": false,
     "start_time": "2021-08-24T14:01:46.572150",
     "status": "completed"
    },
    "slideshow": {
     "slide_type": "slide"
    },
    "tags": []
   },
   "source": [
    "Data yang dihasilkan dari proses aggregasi ini bukan jumlah post per hari, mari kita check"
   ]
  },
  {
   "cell_type": "code",
   "execution_count": null,
   "id": "98316f5a",
   "metadata": {
    "_uuid": "b4c472b778bcedc4d831b83e54f053cc942293ec",
    "execution": {
     "iopub.execute_input": "2021-08-24T14:01:46.728439Z",
     "iopub.status.busy": "2021-08-24T14:01:46.727531Z",
     "iopub.status.idle": "2021-08-24T14:01:46.732613Z",
     "shell.execute_reply": "2021-08-24T14:01:46.731924Z",
     "shell.execute_reply.started": "2021-08-24T14:00:48.153720Z"
    },
    "papermill": {
     "duration": 0.064967,
     "end_time": "2021-08-24T14:01:46.732765",
     "exception": false,
     "start_time": "2021-08-24T14:01:46.667798",
     "status": "completed"
    },
    "slideshow": {
     "slide_type": "slide"
    },
    "tags": []
   },
   "outputs": [],
   "source": [
    "aggr_df.head(n=3)"
   ]
  },
  {
   "cell_type": "markdown",
   "id": "2085170f",
   "metadata": {
    "_uuid": "b99962819e95c247a1440213c4023ca21b5ef9d2",
    "papermill": {
     "duration": 0.046841,
     "end_time": "2021-08-24T14:01:46.827708",
     "exception": false,
     "start_time": "2021-08-24T14:01:46.780867",
     "status": "completed"
    },
    "slideshow": {
     "slide_type": "slide"
    },
    "tags": []
   },
   "source": [
    "Nah agar datanya bisa jumlah post per day, kita bisa memanfaatkan fitur dari pandas, untuk resample bins sehingga kita bisa mendapatkan data jumlah post perday"
   ]
  },
  {
   "cell_type": "code",
   "execution_count": null,
   "id": "7eb44322",
   "metadata": {
    "_uuid": "0d5489f6508ea3fe5ad6438c2de34df9946f162b",
    "execution": {
     "iopub.execute_input": "2021-08-24T14:01:46.928626Z",
     "iopub.status.busy": "2021-08-24T14:01:46.927640Z",
     "iopub.status.idle": "2021-08-24T14:01:47.094236Z",
     "shell.execute_reply": "2021-08-24T14:01:47.093589Z",
     "shell.execute_reply.started": "2021-08-24T14:00:48.165577Z"
    },
    "papermill": {
     "duration": 0.218867,
     "end_time": "2021-08-24T14:01:47.094396",
     "exception": false,
     "start_time": "2021-08-24T14:01:46.875529",
     "status": "completed"
    },
    "slideshow": {
     "slide_type": "slide"
    },
    "tags": []
   },
   "outputs": [],
   "source": [
    "daily_df = aggr_df.resample('D').apply(sum)\n",
    "daily_df.head(n=3)"
   ]
  },
  {
   "cell_type": "markdown",
   "id": "ad7f2d32",
   "metadata": {
    "papermill": {
     "duration": 0.048857,
     "end_time": "2021-08-24T14:01:47.192609",
     "exception": false,
     "start_time": "2021-08-24T14:01:47.143752",
     "status": "completed"
    },
    "slideshow": {
     "slide_type": "slide"
    },
    "tags": []
   },
   "source": [
    "# Coba plotting data"
   ]
  },
  {
   "cell_type": "code",
   "execution_count": null,
   "id": "3733c655",
   "metadata": {
    "_uuid": "b107063f4937cfd79ac3c5c01b24890bf9d7fad2",
    "execution": {
     "iopub.execute_input": "2021-08-24T14:01:47.293014Z",
     "iopub.status.busy": "2021-08-24T14:01:47.292144Z",
     "iopub.status.idle": "2021-08-24T14:01:47.362306Z",
     "shell.execute_reply": "2021-08-24T14:01:47.361699Z",
     "shell.execute_reply.started": "2021-08-24T14:00:48.343917Z"
    },
    "papermill": {
     "duration": 0.122337,
     "end_time": "2021-08-24T14:01:47.362473",
     "exception": false,
     "start_time": "2021-08-24T14:01:47.240136",
     "status": "completed"
    },
    "slideshow": {
     "slide_type": "slide"
    },
    "tags": []
   },
   "outputs": [],
   "source": [
    "from plotly.offline import init_notebook_mode, iplot\n",
    "from plotly import graph_objs as go\n",
    "\n",
    "# Initialize plotly\n",
    "init_notebook_mode(connected=True)"
   ]
  },
  {
   "cell_type": "code",
   "execution_count": null,
   "id": "721ef7b0",
   "metadata": {
    "_uuid": "33a287a1f6865b17c5338453f8aa5149cdc45f64",
    "execution": {
     "iopub.execute_input": "2021-08-24T14:01:47.467286Z",
     "iopub.status.busy": "2021-08-24T14:01:47.466316Z",
     "iopub.status.idle": "2021-08-24T14:01:47.470077Z",
     "shell.execute_reply": "2021-08-24T14:01:47.469550Z",
     "shell.execute_reply.started": "2021-08-24T14:00:48.351127Z"
    },
    "papermill": {
     "duration": 0.059191,
     "end_time": "2021-08-24T14:01:47.470240",
     "exception": false,
     "start_time": "2021-08-24T14:01:47.411049",
     "status": "completed"
    },
    "slideshow": {
     "slide_type": "slide"
    },
    "tags": []
   },
   "outputs": [],
   "source": [
    "def plotly_df(df, title=''):\n",
    "    \"\"\"Visualize all the dataframe columns as line plots.\"\"\"\n",
    "    common_kw = dict(x=df.index, mode='lines')\n",
    "    data = [go.Scatter(y=df[c], name=c, **common_kw) for c in df.columns]\n",
    "    layout = dict(title=title)\n",
    "    fig = dict(data=data, layout=layout)\n",
    "    iplot(fig, show_link=False)"
   ]
  },
  {
   "cell_type": "code",
   "execution_count": null,
   "id": "dfe2764f",
   "metadata": {
    "_uuid": "43d02e991d274a2f2fd813a0ccf53c6bdbec339a",
    "execution": {
     "iopub.execute_input": "2021-08-24T14:01:47.574331Z",
     "iopub.status.busy": "2021-08-24T14:01:47.573649Z",
     "iopub.status.idle": "2021-08-24T14:01:49.105407Z",
     "shell.execute_reply": "2021-08-24T14:01:49.105932Z",
     "shell.execute_reply.started": "2021-08-24T14:00:48.367382Z"
    },
    "papermill": {
     "duration": 1.587046,
     "end_time": "2021-08-24T14:01:49.106111",
     "exception": false,
     "start_time": "2021-08-24T14:01:47.519065",
     "status": "completed"
    },
    "slideshow": {
     "slide_type": "slide"
    },
    "tags": []
   },
   "outputs": [],
   "source": [
    "plotly_df(daily_df, title='Posts on Medium (daily)')"
   ]
  },
  {
   "cell_type": "markdown",
   "id": "7b7f59f6",
   "metadata": {
    "_uuid": "a8d19ad05376f24d0b1125e4e67a8a6d1458e896",
    "papermill": {
     "duration": 0.061927,
     "end_time": "2021-08-24T14:01:49.232876",
     "exception": false,
     "start_time": "2021-08-24T14:01:49.170949",
     "status": "completed"
    },
    "slideshow": {
     "slide_type": "slide"
    },
    "tags": []
   },
   "source": [
    "Kalau kita lihat dari plot diatas, dengan menggunakan daily data, ternyata tampilannya cukup cluttered, coba kita ganti data post per weekly"
   ]
  },
  {
   "cell_type": "code",
   "execution_count": null,
   "id": "9ef19d02",
   "metadata": {
    "_uuid": "1dc9255fd111e990d9b3948dda590ee50a2d427f",
    "execution": {
     "iopub.execute_input": "2021-08-24T14:01:49.360917Z",
     "iopub.status.busy": "2021-08-24T14:01:49.360230Z",
     "iopub.status.idle": "2021-08-24T14:01:49.376090Z",
     "shell.execute_reply": "2021-08-24T14:01:49.375542Z",
     "shell.execute_reply.started": "2021-08-24T14:00:48.569922Z"
    },
    "papermill": {
     "duration": 0.080948,
     "end_time": "2021-08-24T14:01:49.376238",
     "exception": false,
     "start_time": "2021-08-24T14:01:49.295290",
     "status": "completed"
    },
    "slideshow": {
     "slide_type": "slide"
    },
    "tags": []
   },
   "outputs": [],
   "source": [
    "weekly_df = daily_df.resample('W').apply(sum)"
   ]
  },
  {
   "cell_type": "code",
   "execution_count": null,
   "id": "3ba7eaab",
   "metadata": {
    "_uuid": "39e83db9badd18ca4e9e531f1397f1d91f248cec",
    "execution": {
     "iopub.execute_input": "2021-08-24T14:01:49.533212Z",
     "iopub.status.busy": "2021-08-24T14:01:49.528014Z",
     "iopub.status.idle": "2021-08-24T14:01:49.562993Z",
     "shell.execute_reply": "2021-08-24T14:01:49.563519Z",
     "shell.execute_reply.started": "2021-08-24T14:00:48.585410Z"
    },
    "papermill": {
     "duration": 0.124781,
     "end_time": "2021-08-24T14:01:49.563697",
     "exception": false,
     "start_time": "2021-08-24T14:01:49.438916",
     "status": "completed"
    },
    "slideshow": {
     "slide_type": "slide"
    },
    "tags": []
   },
   "outputs": [],
   "source": [
    "plotly_df(weekly_df, title='Posts on Medium (weekly)')"
   ]
  },
  {
   "cell_type": "markdown",
   "id": "77228d4d",
   "metadata": {
    "papermill": {
     "duration": 0.070691,
     "end_time": "2021-08-24T14:01:49.704224",
     "exception": false,
     "start_time": "2021-08-24T14:01:49.633533",
     "status": "completed"
    },
    "slideshow": {
     "slide_type": "slide"
    },
    "tags": []
   },
   "source": [
    "Coba kita experiment pakai data dari mulai January 2015"
   ]
  },
  {
   "cell_type": "code",
   "execution_count": null,
   "id": "4d43c04d",
   "metadata": {
    "execution": {
     "iopub.execute_input": "2021-08-24T14:01:49.856111Z",
     "iopub.status.busy": "2021-08-24T14:01:49.850936Z",
     "iopub.status.idle": "2021-08-24T14:01:49.859308Z",
     "shell.execute_reply": "2021-08-24T14:01:49.859827Z",
     "shell.execute_reply.started": "2021-08-24T14:00:48.652643Z"
    },
    "papermill": {
     "duration": 0.08458,
     "end_time": "2021-08-24T14:01:49.860007",
     "exception": false,
     "start_time": "2021-08-24T14:01:49.775427",
     "status": "completed"
    },
    "slideshow": {
     "slide_type": "slide"
    },
    "tags": []
   },
   "outputs": [],
   "source": [
    "daily_df = daily_df.loc[daily_df.index >= '2015-01-01']\n",
    "daily_df.head(n=3)"
   ]
  },
  {
   "cell_type": "markdown",
   "id": "560a6796",
   "metadata": {
    "_uuid": "7420b1187d7e3fbe55291838aa161e535b35b332",
    "papermill": {
     "duration": 0.069865,
     "end_time": "2021-08-24T14:01:50.001085",
     "exception": false,
     "start_time": "2021-08-24T14:01:49.931220",
     "status": "completed"
    },
    "slideshow": {
     "slide_type": "slide"
    },
    "tags": []
   },
   "source": [
    "### Prediksi dengan Fb Prophet"
   ]
  },
  {
   "cell_type": "code",
   "execution_count": null,
   "id": "14a79376",
   "metadata": {
    "_uuid": "c7983c563a26ec9a1d3b52cee5bdf3b1f3a451f8",
    "execution": {
     "iopub.execute_input": "2021-08-24T14:01:50.146671Z",
     "iopub.status.busy": "2021-08-24T14:01:50.145991Z",
     "iopub.status.idle": "2021-08-24T14:01:50.491374Z",
     "shell.execute_reply": "2021-08-24T14:01:50.489900Z",
     "shell.execute_reply.started": "2021-08-24T14:00:48.669102Z"
    },
    "papermill": {
     "duration": 0.418503,
     "end_time": "2021-08-24T14:01:50.491532",
     "exception": false,
     "start_time": "2021-08-24T14:01:50.073029",
     "status": "completed"
    },
    "slideshow": {
     "slide_type": "slide"
    },
    "tags": []
   },
   "outputs": [],
   "source": [
    "from fbprophet import Prophet\n",
    "\n",
    "import logging\n",
    "logging.getLogger().setLevel(logging.ERROR)"
   ]
  },
  {
   "cell_type": "markdown",
   "id": "f35fcf97",
   "metadata": {
    "_uuid": "f20d80f732de63a0c3fbeb9febfa14dc09cf84ba",
    "papermill": {
     "duration": 0.071545,
     "end_time": "2021-08-24T14:01:50.634139",
     "exception": false,
     "start_time": "2021-08-24T14:01:50.562594",
     "status": "completed"
    },
    "slideshow": {
     "slide_type": "slide"
    },
    "tags": []
   },
   "source": [
    "Convert data sesuai dengan format Fb prophet"
   ]
  },
  {
   "cell_type": "code",
   "execution_count": null,
   "id": "495fa3b9",
   "metadata": {
    "_uuid": "cac038f6ada5656f64c66b0aba15a9d17dccc49d",
    "execution": {
     "iopub.execute_input": "2021-08-24T14:01:50.788463Z",
     "iopub.status.busy": "2021-08-24T14:01:50.787520Z",
     "iopub.status.idle": "2021-08-24T14:01:50.791506Z",
     "shell.execute_reply": "2021-08-24T14:01:50.791949Z",
     "shell.execute_reply.started": "2021-08-24T14:00:48.677214Z"
    },
    "papermill": {
     "duration": 0.086938,
     "end_time": "2021-08-24T14:01:50.792133",
     "exception": false,
     "start_time": "2021-08-24T14:01:50.705195",
     "status": "completed"
    },
    "slideshow": {
     "slide_type": "slide"
    },
    "tags": []
   },
   "outputs": [],
   "source": [
    "df = daily_df.reset_index()\n",
    "df.columns = ['ds', 'y']\n",
    "# converting timezones (issue https://github.com/facebook/prophet/issues/831)\n",
    "df['ds'] = df['ds'].dt.tz_convert(None)\n",
    "df.tail(n=3)"
   ]
  },
  {
   "cell_type": "markdown",
   "id": "8847c2e8",
   "metadata": {
    "_uuid": "7510811901df8007b2921b5b28b7b20f8d24474b",
    "papermill": {
     "duration": 0.070615,
     "end_time": "2021-08-24T14:01:50.934389",
     "exception": false,
     "start_time": "2021-08-24T14:01:50.863774",
     "status": "completed"
    },
    "slideshow": {
     "slide_type": "slide"
    },
    "tags": []
   },
   "source": [
    "Penulis Fb Prophet menyarankan untuk prediksi sebaiknnya menggunakan data minimum beberapa bulan atau lebih dari setahun historical data. Dalam kasus ini, kita punya data lebih dari setahun, jadi cukup untuk fit ke model. \n",
    "\n",
    "Untuk menghitung kualitas prediksi fb prophet, kita harus membagi dataset kita menjadi dua bagian, historical part, bagian terbesar dari data kita dan prediction part. Jadi kita akan menghapus data bulan terkahir dari dataset, bulan terkahir ini akan menjadi target prediksi, dan nanti kita bisa bandingan hasil prediksi dengan data yang sebenarnya. "
   ]
  },
  {
   "cell_type": "code",
   "execution_count": null,
   "id": "79d375af",
   "metadata": {
    "_uuid": "3f4e58c215554e382ce2585c129ab8c7b37ce525",
    "execution": {
     "iopub.execute_input": "2021-08-24T14:01:51.110316Z",
     "iopub.status.busy": "2021-08-24T14:01:51.109096Z",
     "iopub.status.idle": "2021-08-24T14:01:51.113416Z",
     "shell.execute_reply": "2021-08-24T14:01:51.114069Z",
     "shell.execute_reply.started": "2021-08-24T14:00:48.700425Z"
    },
    "papermill": {
     "duration": 0.108983,
     "end_time": "2021-08-24T14:01:51.114249",
     "exception": false,
     "start_time": "2021-08-24T14:01:51.005266",
     "status": "completed"
    },
    "slideshow": {
     "slide_type": "slide"
    },
    "tags": []
   },
   "outputs": [],
   "source": [
    "prediction_size = 30\n",
    "train_df = df[:-prediction_size]\n",
    "train_df.tail(n=3)"
   ]
  },
  {
   "cell_type": "markdown",
   "id": "eba63ece",
   "metadata": {
    "_uuid": "ccd10b2ad35545797c62411c8757c45e053a5334",
    "papermill": {
     "duration": 0.07078,
     "end_time": "2021-08-24T14:01:51.263325",
     "exception": false,
     "start_time": "2021-08-24T14:01:51.192545",
     "status": "completed"
    },
    "slideshow": {
     "slide_type": "slide"
    },
    "tags": []
   },
   "source": [
    "Cara simple fit model Fb prophet"
   ]
  },
  {
   "cell_type": "code",
   "execution_count": null,
   "id": "14d77434",
   "metadata": {
    "_uuid": "ddffb110e2e0898fda7e1d3442574d9830d80e33",
    "execution": {
     "iopub.execute_input": "2021-08-24T14:01:51.410185Z",
     "iopub.status.busy": "2021-08-24T14:01:51.409530Z",
     "iopub.status.idle": "2021-08-24T14:01:53.564329Z",
     "shell.execute_reply": "2021-08-24T14:01:53.565092Z",
     "shell.execute_reply.started": "2021-08-24T14:00:48.721711Z"
    },
    "papermill": {
     "duration": 2.229787,
     "end_time": "2021-08-24T14:01:53.565300",
     "exception": false,
     "start_time": "2021-08-24T14:01:51.335513",
     "status": "completed"
    },
    "scrolled": true,
    "slideshow": {
     "slide_type": "slide"
    },
    "tags": []
   },
   "outputs": [],
   "source": [
    "m = Prophet()\n",
    "m.fit(train_df);"
   ]
  },
  {
   "cell_type": "markdown",
   "id": "382d195e",
   "metadata": {
    "_uuid": "e2b9d6300c1efa0c080be981ab08b0cf1a657910",
    "papermill": {
     "duration": 0.071471,
     "end_time": "2021-08-24T14:01:53.710302",
     "exception": false,
     "start_time": "2021-08-24T14:01:53.638831",
     "status": "completed"
    },
    "slideshow": {
     "slide_type": "slide"
    },
    "tags": []
   },
   "source": [
    "Gunakan `Prophet.make_future_dataframe`, untuk generate prediksi"
   ]
  },
  {
   "cell_type": "code",
   "execution_count": null,
   "id": "07f390a5",
   "metadata": {
    "_uuid": "21c307e7b9ec18f5d516932caf724ea2d4b00a14",
    "execution": {
     "iopub.execute_input": "2021-08-24T14:01:53.864999Z",
     "iopub.status.busy": "2021-08-24T14:01:53.863999Z",
     "iopub.status.idle": "2021-08-24T14:01:53.868328Z",
     "shell.execute_reply": "2021-08-24T14:01:53.868827Z",
     "shell.execute_reply.started": "2021-08-24T14:00:49.086595Z"
    },
    "papermill": {
     "duration": 0.086849,
     "end_time": "2021-08-24T14:01:53.869023",
     "exception": false,
     "start_time": "2021-08-24T14:01:53.782174",
     "status": "completed"
    },
    "slideshow": {
     "slide_type": "slide"
    },
    "tags": []
   },
   "outputs": [],
   "source": [
    "future = m.make_future_dataframe(periods=prediction_size)\n",
    "future.tail(n=3)"
   ]
  },
  {
   "cell_type": "code",
   "execution_count": null,
   "id": "a1eca9cd",
   "metadata": {
    "_uuid": "57210f080bdb4977997bb7da15f8c650388d77ab",
    "execution": {
     "iopub.execute_input": "2021-08-24T14:01:54.026398Z",
     "iopub.status.busy": "2021-08-24T14:01:54.025002Z",
     "iopub.status.idle": "2021-08-24T14:01:58.620484Z",
     "shell.execute_reply": "2021-08-24T14:01:58.619937Z",
     "shell.execute_reply.started": "2021-08-24T14:00:49.101626Z"
    },
    "papermill": {
     "duration": 4.679076,
     "end_time": "2021-08-24T14:01:58.620643",
     "exception": false,
     "start_time": "2021-08-24T14:01:53.941567",
     "status": "completed"
    },
    "slideshow": {
     "slide_type": "slide"
    },
    "tags": []
   },
   "outputs": [],
   "source": [
    "forecast = m.predict(future)\n",
    "forecast.tail(n=3)"
   ]
  },
  {
   "cell_type": "markdown",
   "id": "327f216b",
   "metadata": {
    "_uuid": "cfc1e27ea4930d049d02cde74f9662da9c02b5c2",
    "papermill": {
     "duration": 0.07317,
     "end_time": "2021-08-24T14:01:58.766703",
     "exception": false,
     "start_time": "2021-08-24T14:01:58.693533",
     "status": "completed"
    },
    "slideshow": {
     "slide_type": "slide"
    },
    "tags": []
   },
   "source": [
    "Ketika kita lihat data diatas, ada banyak sekali kolom, termasuk trend dan seasonality dengan confidence intervals. Hasil prediksi disimpan di `yhat` column.\n",
    "\n",
    "Fb prophet juga sudah menyediakan fitur untuk plot hasil prediksi"
   ]
  },
  {
   "cell_type": "code",
   "execution_count": null,
   "id": "b72e2ac4",
   "metadata": {
    "_uuid": "aab2a8ae82e9ac49dc72fbd973f6f9ee740c4973",
    "execution": {
     "iopub.execute_input": "2021-08-24T14:01:58.983804Z",
     "iopub.status.busy": "2021-08-24T14:01:58.982974Z",
     "iopub.status.idle": "2021-08-24T14:01:59.495969Z",
     "shell.execute_reply": "2021-08-24T14:01:59.496493Z",
     "shell.execute_reply.started": "2021-08-24T14:00:54.175912Z"
    },
    "papermill": {
     "duration": 0.657168,
     "end_time": "2021-08-24T14:01:59.496665",
     "exception": false,
     "start_time": "2021-08-24T14:01:58.839497",
     "status": "completed"
    },
    "slideshow": {
     "slide_type": "slide"
    },
    "tags": []
   },
   "outputs": [],
   "source": [
    "m.plot(forecast);"
   ]
  },
  {
   "cell_type": "markdown",
   "id": "40e3b0b9",
   "metadata": {
    "_uuid": "f5296cfcb6ef4f8c7d856119ff73fee797ac71fb",
    "papermill": {
     "duration": 0.081698,
     "end_time": "2021-08-24T14:01:59.660242",
     "exception": false,
     "start_time": "2021-08-24T14:01:59.578544",
     "status": "completed"
    },
    "slideshow": {
     "slide_type": "slide"
    },
    "tags": []
   },
   "source": [
    "Gambar diatas sepertinya tidak memberikan kita banyak informasi. Sepertinya model nya menganggap banyak data outliers, yang keluar dari range/confidence interval dari prediksi. \n",
    "\n",
    "Function `Prophet.plot_components` mungkin lebih berguna di case ini. Kita bisa lihat trend secara umum,trend pekanan, dan trend tahunan "
   ]
  },
  {
   "cell_type": "code",
   "execution_count": null,
   "id": "41fc0ce2",
   "metadata": {
    "_uuid": "8bc45e1b06190261c530ca52cf904ad6da17ad1b",
    "execution": {
     "iopub.execute_input": "2021-08-24T14:01:59.831127Z",
     "iopub.status.busy": "2021-08-24T14:01:59.830413Z",
     "iopub.status.idle": "2021-08-24T14:02:00.762022Z",
     "shell.execute_reply": "2021-08-24T14:02:00.762604Z",
     "shell.execute_reply.started": "2021-08-24T14:00:54.701805Z"
    },
    "papermill": {
     "duration": 1.019572,
     "end_time": "2021-08-24T14:02:00.762784",
     "exception": false,
     "start_time": "2021-08-24T14:01:59.743212",
     "status": "completed"
    },
    "slideshow": {
     "slide_type": "slide"
    },
    "tags": []
   },
   "outputs": [],
   "source": [
    "m.plot_components(forecast);"
   ]
  },
  {
   "cell_type": "markdown",
   "id": "989261ed",
   "metadata": {
    "_uuid": "b62f1b3ec9c35618d49d198ca98ccfcec353f549",
    "papermill": {
     "duration": 0.088456,
     "end_time": "2021-08-24T14:02:00.938408",
     "exception": false,
     "start_time": "2021-08-24T14:02:00.849952",
     "status": "completed"
    },
    "slideshow": {
     "slide_type": "slide"
    },
    "tags": []
   },
   "source": [
    "Kalau kita amati ternyata FB prophet bagus juga fitting modelnya, jumlah post di Medium naik banget diakhir tahun 2016. Kemudian weekend cenderung sedkit post, dan public holiday juga cenderung sedikit post, chrismast dan new year"
   ]
  },
  {
   "cell_type": "markdown",
   "id": "870e38eb",
   "metadata": {
    "_uuid": "0d437afea58779426c3c5631768eff0a8afe0cec",
    "papermill": {
     "duration": 0.087957,
     "end_time": "2021-08-24T14:02:01.113275",
     "exception": false,
     "start_time": "2021-08-24T14:02:01.025318",
     "status": "completed"
    },
    "slideshow": {
     "slide_type": "slide"
    },
    "tags": []
   },
   "source": [
    "### Mengevaluasi prediksi"
   ]
  },
  {
   "cell_type": "code",
   "execution_count": null,
   "id": "17ff645c",
   "metadata": {
    "_uuid": "4509daabded142779b078792d8fd6097dcc4465d",
    "execution": {
     "iopub.execute_input": "2021-08-24T14:02:01.293294Z",
     "iopub.status.busy": "2021-08-24T14:02:01.292600Z",
     "iopub.status.idle": "2021-08-24T14:02:01.296990Z",
     "shell.execute_reply": "2021-08-24T14:02:01.296402Z",
     "shell.execute_reply.started": "2021-08-24T14:00:55.719555Z"
    },
    "papermill": {
     "duration": 0.095386,
     "end_time": "2021-08-24T14:02:01.297133",
     "exception": false,
     "start_time": "2021-08-24T14:02:01.201747",
     "status": "completed"
    },
    "slideshow": {
     "slide_type": "slide"
    },
    "tags": []
   },
   "outputs": [],
   "source": [
    "print(', '.join(forecast.columns))"
   ]
  },
  {
   "cell_type": "markdown",
   "id": "99780e9a",
   "metadata": {
    "_uuid": "c75fb75baca60108a7fe0e8d7beeafb1e144b123",
    "papermill": {
     "duration": 0.086055,
     "end_time": "2021-08-24T14:02:01.469951",
     "exception": false,
     "start_time": "2021-08-24T14:02:01.383896",
     "status": "completed"
    },
    "slideshow": {
     "slide_type": "slide"
    },
    "tags": []
   },
   "source": [
    "Kita join hasil prediksi dengan data aktual bulan terakhir yang kita hapus sebelumnya"
   ]
  },
  {
   "cell_type": "code",
   "execution_count": null,
   "id": "d205d8f0",
   "metadata": {
    "_uuid": "56f0753df64b6586323a75a99bd1d4bbba0ae13e",
    "execution": {
     "iopub.execute_input": "2021-08-24T14:02:01.649020Z",
     "iopub.status.busy": "2021-08-24T14:02:01.648256Z",
     "iopub.status.idle": "2021-08-24T14:02:01.651667Z",
     "shell.execute_reply": "2021-08-24T14:02:01.651036Z",
     "shell.execute_reply.started": "2021-08-24T14:00:55.727646Z"
    },
    "papermill": {
     "duration": 0.095026,
     "end_time": "2021-08-24T14:02:01.651813",
     "exception": false,
     "start_time": "2021-08-24T14:02:01.556787",
     "status": "completed"
    },
    "slideshow": {
     "slide_type": "slide"
    },
    "tags": []
   },
   "outputs": [],
   "source": [
    "def make_comparison_dataframe(historical, forecast):\n",
    "    \"\"\"Join the history with the forecast.\n",
    "    \n",
    "       The resulting dataset will contain columns 'yhat', 'yhat_lower', 'yhat_upper' and 'y'.\n",
    "    \"\"\"\n",
    "    return forecast.set_index('ds')[['yhat', 'yhat_lower', 'yhat_upper']].join(historical.set_index('ds'))"
   ]
  },
  {
   "cell_type": "code",
   "execution_count": null,
   "id": "36737203",
   "metadata": {
    "_uuid": "99558427938cc553f8a0d0bb168d0e721c229f72",
    "execution": {
     "iopub.execute_input": "2021-08-24T14:02:01.832847Z",
     "iopub.status.busy": "2021-08-24T14:02:01.830839Z",
     "iopub.status.idle": "2021-08-24T14:02:01.847365Z",
     "shell.execute_reply": "2021-08-24T14:02:01.846815Z",
     "shell.execute_reply.started": "2021-08-24T14:00:55.739264Z"
    },
    "papermill": {
     "duration": 0.108558,
     "end_time": "2021-08-24T14:02:01.847529",
     "exception": false,
     "start_time": "2021-08-24T14:02:01.738971",
     "status": "completed"
    },
    "slideshow": {
     "slide_type": "slide"
    },
    "tags": []
   },
   "outputs": [],
   "source": [
    "cmp_df = make_comparison_dataframe(df, forecast)\n",
    "cmp_df.tail(n=3)"
   ]
  },
  {
   "cell_type": "markdown",
   "id": "6e1a73b3",
   "metadata": {
    "_uuid": "922822ef83170f50ca6718a23fad55b5d3c07d9a",
    "papermill": {
     "duration": 0.086404,
     "end_time": "2021-08-24T14:02:02.021201",
     "exception": false,
     "start_time": "2021-08-24T14:02:01.934797",
     "status": "completed"
    },
    "slideshow": {
     "slide_type": "slide"
    },
    "tags": []
   },
   "source": [
    "Evaluasi dengan MAPE dan MAE"
   ]
  },
  {
   "cell_type": "code",
   "execution_count": null,
   "id": "f4d8a6c3",
   "metadata": {
    "_uuid": "b2b763f14f1b493f2ebb37a6fdffca5940f1ebb8",
    "execution": {
     "iopub.execute_input": "2021-08-24T14:02:02.227630Z",
     "iopub.status.busy": "2021-08-24T14:02:02.226856Z",
     "iopub.status.idle": "2021-08-24T14:02:02.230617Z",
     "shell.execute_reply": "2021-08-24T14:02:02.229951Z",
     "shell.execute_reply.started": "2021-08-24T14:00:55.766515Z"
    },
    "papermill": {
     "duration": 0.099746,
     "end_time": "2021-08-24T14:02:02.230761",
     "exception": false,
     "start_time": "2021-08-24T14:02:02.131015",
     "status": "completed"
    },
    "slideshow": {
     "slide_type": "slide"
    },
    "tags": []
   },
   "outputs": [],
   "source": [
    "def calculate_forecast_errors(df, prediction_size):\n",
    "    \"\"\"Calculate MAPE and MAE of the forecast.\n",
    "    \n",
    "       Args:\n",
    "           df: joined dataset with 'y' and 'yhat' columns.\n",
    "           prediction_size: number of days at the end to predict.\n",
    "    \"\"\"\n",
    "    \n",
    "    # Make a copy\n",
    "    df = df.copy()\n",
    "    \n",
    "    # Now we calculate the values of e_i and p_i according to the formulas given in the article above.\n",
    "    df['e'] = df['y'] - df['yhat']\n",
    "    df['p'] = 100 * df['e'] / df['y']\n",
    "    \n",
    "    # Recall that we held out the values of the last `prediction_size` days\n",
    "    # in order to predict them and measure the quality of the model. \n",
    "    \n",
    "    # Now cut out the part of the data which we made our prediction for.\n",
    "    predicted_part = df[-prediction_size:]\n",
    "    \n",
    "    # Define the function that averages absolute error values over the predicted part.\n",
    "    error_mean = lambda error_name: np.mean(np.abs(predicted_part[error_name]))\n",
    "    \n",
    "    # Now we can calculate MAPE and MAE and return the resulting dictionary of errors.\n",
    "    return {'MAPE': error_mean('p'), 'MAE': error_mean('e')}"
   ]
  },
  {
   "cell_type": "code",
   "execution_count": null,
   "id": "44e13150",
   "metadata": {
    "_uuid": "9c2a7722bd3eb4efcbbf0ba44e676a8679a43fc9",
    "execution": {
     "iopub.execute_input": "2021-08-24T14:02:02.417583Z",
     "iopub.status.busy": "2021-08-24T14:02:02.416614Z",
     "iopub.status.idle": "2021-08-24T14:02:02.422215Z",
     "shell.execute_reply": "2021-08-24T14:02:02.421665Z",
     "shell.execute_reply.started": "2021-08-24T14:00:55.777777Z"
    },
    "papermill": {
     "duration": 0.10493,
     "end_time": "2021-08-24T14:02:02.422370",
     "exception": false,
     "start_time": "2021-08-24T14:02:02.317440",
     "status": "completed"
    },
    "slideshow": {
     "slide_type": "slide"
    },
    "tags": []
   },
   "outputs": [],
   "source": [
    "for err_name, err_value in calculate_forecast_errors(cmp_df, prediction_size).items():\n",
    "    print(err_name, err_value)"
   ]
  },
  {
   "cell_type": "markdown",
   "id": "9785d8ba",
   "metadata": {
    "_uuid": "8d95e3c50b6d32675ea39abc2c7a7d021cf54048",
    "papermill": {
     "duration": 0.087381,
     "end_time": "2021-08-24T14:02:02.597180",
     "exception": false,
     "start_time": "2021-08-24T14:02:02.509799",
     "status": "completed"
    },
    "slideshow": {
     "slide_type": "slide"
    },
    "tags": []
   },
   "source": [
    "Prosentase error MAPE = 22.6%, dan rata-rata model yang kita buat salah kurang lebih 70 posts (MAE)."
   ]
  },
  {
   "cell_type": "markdown",
   "id": "04d6511f",
   "metadata": {
    "_uuid": "a6c56589409cdb99c7377b1f0aeb678da312a593",
    "papermill": {
     "duration": 0.087389,
     "end_time": "2021-08-24T14:02:02.772809",
     "exception": false,
     "start_time": "2021-08-24T14:02:02.685420",
     "status": "completed"
    },
    "slideshow": {
     "slide_type": "slide"
    },
    "tags": []
   },
   "source": [
    "### Visualization"
   ]
  },
  {
   "cell_type": "code",
   "execution_count": null,
   "id": "1eb51b5d",
   "metadata": {
    "_uuid": "eeeb8bfae88d2c24216c43f02d6b62b063936b86",
    "execution": {
     "iopub.execute_input": "2021-08-24T14:02:02.960155Z",
     "iopub.status.busy": "2021-08-24T14:02:02.959169Z",
     "iopub.status.idle": "2021-08-24T14:02:03.051671Z",
     "shell.execute_reply": "2021-08-24T14:02:03.052460Z",
     "shell.execute_reply.started": "2021-08-24T14:00:55.793749Z"
    },
    "papermill": {
     "duration": 0.192011,
     "end_time": "2021-08-24T14:02:03.052724",
     "exception": false,
     "start_time": "2021-08-24T14:02:02.860713",
     "status": "completed"
    },
    "slideshow": {
     "slide_type": "slide"
    },
    "tags": []
   },
   "outputs": [],
   "source": [
    "def show_forecast(cmp_df, num_predictions, num_values, title):\n",
    "    \"\"\"Visualize the forecast.\"\"\"\n",
    "    \n",
    "    def create_go(name, column, num, **kwargs):\n",
    "        points = cmp_df.tail(num)\n",
    "        args = dict(name=name, x=points.index, y=points[column], mode='lines')\n",
    "        args.update(kwargs)\n",
    "        return go.Scatter(**args)\n",
    "    \n",
    "    lower_bound = create_go('Lower Bound', 'yhat_lower', num_predictions,\n",
    "                            line=dict(width=0),\n",
    "                            marker=dict(color=\"gray\"))\n",
    "    upper_bound = create_go('Upper Bound', 'yhat_upper', num_predictions,\n",
    "                            line=dict(width=0),\n",
    "                            marker=dict(color=\"gray\"),\n",
    "                            fillcolor='rgba(68, 68, 68, 0.3)', \n",
    "                            fill='tonexty')\n",
    "    forecast = create_go('Forecast', 'yhat', num_predictions,\n",
    "                         line=dict(color='rgb(31, 119, 180)'))\n",
    "    actual = create_go('Actual', 'y', num_values,\n",
    "                       marker=dict(color=\"red\"))\n",
    "    \n",
    "    # In this case the order of the series is important because of the filling\n",
    "    data = [lower_bound, upper_bound, forecast, actual]\n",
    "\n",
    "    layout = go.Layout(yaxis=dict(title='Posts'), title=title, showlegend = False)\n",
    "    fig = go.Figure(data=data, layout=layout)\n",
    "    iplot(fig, show_link=False)\n",
    "\n",
    "show_forecast(cmp_df, prediction_size, 100, 'New posts on Medium')"
   ]
  },
  {
   "cell_type": "markdown",
   "id": "47584883",
   "metadata": {
    "_uuid": "4a8c76e26da79076aeced5d77a90193016819f48",
    "papermill": {
     "duration": 0.096786,
     "end_time": "2021-08-24T14:02:03.256400",
     "exception": false,
     "start_time": "2021-08-24T14:02:03.159614",
     "status": "completed"
    },
    "slideshow": {
     "slide_type": "slide"
    },
    "tags": []
   },
   "source": [
    "Kalau dilihat dari hasil ini, merah (data aktual), biru adalah prediksi, secara mean sepertinya benar. Tetapi model kita ternyata tidak bisa menangkap peak dan dips weekly seasonality. \n",
    "\n",
    "Terlihat pula banyak data actual keluar dari confident interval fb prophet model. Ini mungkin karena unstable variance. Coba kita gunakan box-cox transformation."
   ]
  },
  {
   "cell_type": "markdown",
   "id": "7e46d65e",
   "metadata": {
    "_uuid": "5bb384d525974d23dc320f98d73cc96c455bf2b8",
    "papermill": {
     "duration": 0.096884,
     "end_time": "2021-08-24T14:02:03.448601",
     "exception": false,
     "start_time": "2021-08-24T14:02:03.351717",
     "status": "completed"
    },
    "slideshow": {
     "slide_type": "slide"
    },
    "tags": []
   },
   "source": [
    "## Box-Cox Transformation"
   ]
  },
  {
   "cell_type": "markdown",
   "id": "9101ba52",
   "metadata": {
    "papermill": {
     "duration": 0.093901,
     "end_time": "2021-08-24T14:02:03.637563",
     "exception": false,
     "start_time": "2021-08-24T14:02:03.543662",
     "status": "completed"
    },
    "slideshow": {
     "slide_type": "slide"
    },
    "tags": []
   },
   "source": [
    "More info: [Box–Cox transformation](http://onlinestatbook.com/2/transformations/box-cox.html)\n"
   ]
  },
  {
   "cell_type": "code",
   "execution_count": null,
   "id": "87baf6bd",
   "metadata": {
    "execution": {
     "iopub.execute_input": "2021-08-24T14:02:03.831239Z",
     "iopub.status.busy": "2021-08-24T14:02:03.830579Z",
     "iopub.status.idle": "2021-08-24T14:02:03.834429Z",
     "shell.execute_reply": "2021-08-24T14:02:03.834940Z",
     "shell.execute_reply.started": "2021-08-24T14:00:55.865034Z"
    },
    "papermill": {
     "duration": 0.102386,
     "end_time": "2021-08-24T14:02:03.835138",
     "exception": false,
     "start_time": "2021-08-24T14:02:03.732752",
     "status": "completed"
    },
    "slideshow": {
     "slide_type": "slide"
    },
    "tags": []
   },
   "outputs": [],
   "source": [
    "def inverse_boxcox(y, lambda_):\n",
    "    return np.exp(y) if lambda_ == 0 else np.exp(np.log(lambda_ * y + 1) / lambda_)"
   ]
  },
  {
   "cell_type": "code",
   "execution_count": null,
   "id": "cb621a1b",
   "metadata": {
    "_uuid": "c27fd56eb35f757313a6414e4d27fc9b76c57948",
    "execution": {
     "iopub.execute_input": "2021-08-24T14:02:04.031203Z",
     "iopub.status.busy": "2021-08-24T14:02:04.030144Z",
     "iopub.status.idle": "2021-08-24T14:02:04.038322Z",
     "shell.execute_reply": "2021-08-24T14:02:04.037406Z",
     "shell.execute_reply.started": "2021-08-24T14:00:55.872260Z"
    },
    "papermill": {
     "duration": 0.106404,
     "end_time": "2021-08-24T14:02:04.038666",
     "exception": false,
     "start_time": "2021-08-24T14:02:03.932262",
     "status": "completed"
    },
    "slideshow": {
     "slide_type": "slide"
    },
    "tags": []
   },
   "outputs": [],
   "source": [
    "train_df2 = train_df.copy().set_index('ds')"
   ]
  },
  {
   "cell_type": "code",
   "execution_count": null,
   "id": "0353f575",
   "metadata": {
    "execution": {
     "iopub.execute_input": "2021-08-24T14:02:04.241034Z",
     "iopub.status.busy": "2021-08-24T14:02:04.240278Z",
     "iopub.status.idle": "2021-08-24T14:02:04.245188Z",
     "shell.execute_reply": "2021-08-24T14:02:04.244609Z",
     "shell.execute_reply.started": "2021-08-24T14:00:55.885407Z"
    },
    "papermill": {
     "duration": 0.110042,
     "end_time": "2021-08-24T14:02:04.245331",
     "exception": false,
     "start_time": "2021-08-24T14:02:04.135289",
     "status": "completed"
    },
    "slideshow": {
     "slide_type": "slide"
    },
    "tags": []
   },
   "outputs": [],
   "source": [
    "train_df2.head()"
   ]
  },
  {
   "cell_type": "code",
   "execution_count": null,
   "id": "64bf4d1e",
   "metadata": {
    "_uuid": "7557b0eded0e424a9470a9ab98faf7b29314868d",
    "execution": {
     "iopub.execute_input": "2021-08-24T14:02:04.441919Z",
     "iopub.status.busy": "2021-08-24T14:02:04.440829Z",
     "iopub.status.idle": "2021-08-24T14:02:04.449804Z",
     "shell.execute_reply": "2021-08-24T14:02:04.449097Z",
     "shell.execute_reply.started": "2021-08-24T14:00:55.907969Z"
    },
    "papermill": {
     "duration": 0.109678,
     "end_time": "2021-08-24T14:02:04.449948",
     "exception": false,
     "start_time": "2021-08-24T14:02:04.340270",
     "status": "completed"
    },
    "slideshow": {
     "slide_type": "slide"
    },
    "tags": []
   },
   "outputs": [],
   "source": [
    "train_df2['y'], lambda_prophet = stats.boxcox(train_df2['y'])\n",
    "train_df2.reset_index(inplace=True)"
   ]
  },
  {
   "cell_type": "markdown",
   "id": "de1bcfbb",
   "metadata": {
    "_uuid": "adf93208ea7e43e2ee6c99b6daebcaea8f82a2e3",
    "papermill": {
     "duration": 0.095375,
     "end_time": "2021-08-24T14:02:04.640292",
     "exception": false,
     "start_time": "2021-08-24T14:02:04.544917",
     "status": "completed"
    },
    "slideshow": {
     "slide_type": "slide"
    },
    "tags": []
   },
   "source": [
    "New Prophet model"
   ]
  },
  {
   "cell_type": "code",
   "execution_count": null,
   "id": "cec35136",
   "metadata": {
    "_uuid": "7df4a1bdf99b0f1e50a2ff3bf9af358946ba3d96",
    "execution": {
     "iopub.execute_input": "2021-08-24T14:02:04.835899Z",
     "iopub.status.busy": "2021-08-24T14:02:04.834454Z",
     "iopub.status.idle": "2021-08-24T14:02:09.236334Z",
     "shell.execute_reply": "2021-08-24T14:02:09.235642Z",
     "shell.execute_reply.started": "2021-08-24T14:00:55.928526Z"
    },
    "papermill": {
     "duration": 4.501822,
     "end_time": "2021-08-24T14:02:09.236496",
     "exception": false,
     "start_time": "2021-08-24T14:02:04.734674",
     "status": "completed"
    },
    "slideshow": {
     "slide_type": "slide"
    },
    "tags": []
   },
   "outputs": [],
   "source": [
    "m2 = Prophet()\n",
    "m2.fit(train_df2)\n",
    "future2 = m2.make_future_dataframe(periods=prediction_size)\n",
    "forecast2 = m2.predict(future2)"
   ]
  },
  {
   "cell_type": "code",
   "execution_count": null,
   "id": "14f84b2e",
   "metadata": {
    "_uuid": "2fbfa38418e173eac77b8fcddc08a84b9fe3368b",
    "execution": {
     "iopub.execute_input": "2021-08-24T14:02:09.434988Z",
     "iopub.status.busy": "2021-08-24T14:02:09.433895Z",
     "iopub.status.idle": "2021-08-24T14:02:09.440758Z",
     "shell.execute_reply": "2021-08-24T14:02:09.440206Z",
     "shell.execute_reply.started": "2021-08-24T14:01:00.654279Z"
    },
    "papermill": {
     "duration": 0.109159,
     "end_time": "2021-08-24T14:02:09.440913",
     "exception": false,
     "start_time": "2021-08-24T14:02:09.331754",
     "status": "completed"
    },
    "slideshow": {
     "slide_type": "slide"
    },
    "tags": []
   },
   "outputs": [],
   "source": [
    "for column in ['yhat', 'yhat_lower', 'yhat_upper']:\n",
    "    forecast2[column] = inverse_boxcox(forecast2[column], lambda_prophet)"
   ]
  },
  {
   "cell_type": "markdown",
   "id": "6b2dce38",
   "metadata": {
    "_uuid": "c2a6742112742652a6099155e27a195193f4c850",
    "papermill": {
     "duration": 0.094916,
     "end_time": "2021-08-24T14:02:09.632050",
     "exception": false,
     "start_time": "2021-08-24T14:02:09.537134",
     "status": "completed"
    },
    "slideshow": {
     "slide_type": "slide"
    },
    "tags": []
   },
   "source": [
    "Compare prediksi result setelah box-cox dengan actual data"
   ]
  },
  {
   "cell_type": "code",
   "execution_count": null,
   "id": "718156c4",
   "metadata": {
    "_uuid": "f5d721a282833d93e89bde8fbdcace2a4b6ce9ff",
    "execution": {
     "iopub.execute_input": "2021-08-24T14:02:09.825716Z",
     "iopub.status.busy": "2021-08-24T14:02:09.824970Z",
     "iopub.status.idle": "2021-08-24T14:02:09.838070Z",
     "shell.execute_reply": "2021-08-24T14:02:09.838883Z",
     "shell.execute_reply.started": "2021-08-24T14:01:00.664897Z"
    },
    "papermill": {
     "duration": 0.111976,
     "end_time": "2021-08-24T14:02:09.839120",
     "exception": false,
     "start_time": "2021-08-24T14:02:09.727144",
     "status": "completed"
    },
    "slideshow": {
     "slide_type": "slide"
    },
    "tags": []
   },
   "outputs": [],
   "source": [
    "cmp_df2 = make_comparison_dataframe(df, forecast2)\n",
    "for err_name, err_value in calculate_forecast_errors(cmp_df2, prediction_size).items():\n",
    "    print(err_name, err_value)"
   ]
  },
  {
   "cell_type": "markdown",
   "id": "94519c28",
   "metadata": {
    "_uuid": "d7b0a79a51e8c63eb53d2b9f84ff239336ff850b",
    "papermill": {
     "duration": 0.095811,
     "end_time": "2021-08-24T14:02:10.031030",
     "exception": false,
     "start_time": "2021-08-24T14:02:09.935219",
     "status": "completed"
    },
    "slideshow": {
     "slide_type": "slide"
    },
    "tags": []
   },
   "source": [
    "Nah, kita bisa improve modelnya nih, sekarang percentage error MAPE 12%"
   ]
  },
  {
   "cell_type": "code",
   "execution_count": null,
   "id": "9d0d3ac9",
   "metadata": {
    "_uuid": "cc01ea4c37a45874106df1aafd588f105d79b5dd",
    "execution": {
     "iopub.execute_input": "2021-08-24T14:02:10.226922Z",
     "iopub.status.busy": "2021-08-24T14:02:10.226222Z",
     "iopub.status.idle": "2021-08-24T14:02:10.334184Z",
     "shell.execute_reply": "2021-08-24T14:02:10.334749Z",
     "shell.execute_reply.started": "2021-08-24T14:01:00.684552Z"
    },
    "papermill": {
     "duration": 0.207795,
     "end_time": "2021-08-24T14:02:10.334935",
     "exception": false,
     "start_time": "2021-08-24T14:02:10.127140",
     "status": "completed"
    },
    "slideshow": {
     "slide_type": "slide"
    },
    "tags": []
   },
   "outputs": [],
   "source": [
    "show_forecast(cmp_df, prediction_size, 100, 'No transformations')\n",
    "show_forecast(cmp_df2, prediction_size, 100, 'Box–Cox transformation')"
   ]
  },
  {
   "cell_type": "markdown",
   "id": "8eb17927",
   "metadata": {
    "slideshow": {
     "slide_type": "slide"
    }
   },
   "source": [
    "# <center><font color=\"blue\">Prophet airpassengers"
   ]
  },
  {
   "cell_type": "code",
   "execution_count": null,
   "id": "6d5c4b13",
   "metadata": {
    "slideshow": {
     "slide_type": "slide"
    }
   },
   "outputs": [],
   "source": [
    "import pandas as pd\n",
    "from fbprophet import Prophet\n",
    "from fbprophet.plot import add_changepoints_to_plot\n",
    "from fbprophet.diagnostics import cross_validation\n",
    "from fbprophet.diagnostics import performance_metrics\n",
    "from fbprophet.plot import plot_cross_validation_metric\n",
    "import matplotlib.pyplot as plt"
   ]
  },
  {
   "cell_type": "code",
   "execution_count": null,
   "id": "2a361062",
   "metadata": {
    "slideshow": {
     "slide_type": "slide"
    }
   },
   "outputs": [],
   "source": [
    "data = pd.read_csv('data/AirPassengers.csv') "
   ]
  },
  {
   "cell_type": "code",
   "execution_count": null,
   "id": "852ae977",
   "metadata": {
    "slideshow": {
     "slide_type": "slide"
    }
   },
   "outputs": [],
   "source": [
    "df = pd.DataFrame()\n",
    "df['ds'] = pd.to_datetime(data['Month'])\n",
    "df['y'] = data['#Passengers']"
   ]
  },
  {
   "cell_type": "code",
   "execution_count": null,
   "id": "c3ccd525",
   "metadata": {
    "slideshow": {
     "slide_type": "slide"
    }
   },
   "outputs": [],
   "source": [
    "df.head()"
   ]
  },
  {
   "cell_type": "code",
   "execution_count": null,
   "id": "29092fac",
   "metadata": {
    "slideshow": {
     "slide_type": "slide"
    }
   },
   "outputs": [],
   "source": [
    "m = Prophet()\n",
    "m.fit(df)"
   ]
  },
  {
   "cell_type": "code",
   "execution_count": null,
   "id": "93873254",
   "metadata": {
    "slideshow": {
     "slide_type": "slide"
    }
   },
   "outputs": [],
   "source": [
    "future = m.make_future_dataframe(periods=12 * 6, freq='M')\n",
    "future.tail()"
   ]
  },
  {
   "cell_type": "code",
   "execution_count": null,
   "id": "25e7e9d8",
   "metadata": {
    "slideshow": {
     "slide_type": "slide"
    }
   },
   "outputs": [],
   "source": [
    "forecast = m.predict(future)\n",
    "forecast[['ds', 'yhat', 'yhat_lower', 'yhat_upper']].tail()"
   ]
  },
  {
   "cell_type": "code",
   "execution_count": null,
   "id": "c33a20ea",
   "metadata": {
    "slideshow": {
     "slide_type": "slide"
    }
   },
   "outputs": [],
   "source": [
    "fig1 = m.plot(forecast)"
   ]
  },
  {
   "cell_type": "code",
   "execution_count": null,
   "id": "aafc04ce",
   "metadata": {
    "slideshow": {
     "slide_type": "slide"
    }
   },
   "outputs": [],
   "source": [
    "fig2 = m.plot_components(forecast)"
   ]
  },
  {
   "cell_type": "code",
   "execution_count": null,
   "id": "29a4d412",
   "metadata": {
    "slideshow": {
     "slide_type": "slide"
    }
   },
   "outputs": [],
   "source": [
    "fig = m.plot(forecast)\n",
    "#a = add_changepoints_to_plot(fig.gca(), m, forecast)"
   ]
  },
  {
   "cell_type": "code",
   "execution_count": null,
   "id": "9ac1d227",
   "metadata": {
    "slideshow": {
     "slide_type": "slide"
    }
   },
   "outputs": [],
   "source": [
    "m = Prophet(n_changepoints=3).fit(df)\n",
    "future = m.make_future_dataframe(periods=12 * 6, freq='M')\n",
    "forecast = m.predict(future)\n",
    "fig = m.plot(m.predict(future))"
   ]
  },
  {
   "cell_type": "code",
   "execution_count": null,
   "id": "2f6e2add",
   "metadata": {
    "slideshow": {
     "slide_type": "slide"
    }
   },
   "outputs": [],
   "source": [
    "fig2 = m.plot_components(forecast)"
   ]
  },
  {
   "cell_type": "code",
   "execution_count": null,
   "id": "72c6cc55",
   "metadata": {
    "slideshow": {
     "slide_type": "slide"
    }
   },
   "outputs": [],
   "source": [
    "fig = m.plot(forecast)\n",
    "a = add_changepoints_to_plot(fig.gca(), m, forecast)"
   ]
  },
  {
   "cell_type": "code",
   "execution_count": null,
   "id": "cf2ad467",
   "metadata": {
    "slideshow": {
     "slide_type": "slide"
    }
   },
   "outputs": [],
   "source": [
    "m = Prophet(changepoint_prior_scale=0.001).fit(df)\n",
    "future = m.make_future_dataframe(periods=12 * 6, freq='M')\n",
    "forecast = m.predict(future)\n",
    "fig = m.plot(forecast)"
   ]
  },
  {
   "cell_type": "code",
   "execution_count": null,
   "id": "e81611e8",
   "metadata": {
    "slideshow": {
     "slide_type": "slide"
    }
   },
   "outputs": [],
   "source": [
    "m = Prophet(changepoint_prior_scale=0.5).fit(df)\n",
    "future = m.make_future_dataframe(periods=12 * 6, freq='M')\n",
    "forecast = m.predict(future)\n",
    "fig = m.plot(forecast)"
   ]
  },
  {
   "cell_type": "code",
   "execution_count": null,
   "id": "406edb7c",
   "metadata": {
    "slideshow": {
     "slide_type": "slide"
    }
   },
   "outputs": [],
   "source": [
    "m = Prophet(changepoint_prior_scale=0.5, n_changepoints=7).fit(df)\n",
    "future = m.make_future_dataframe(periods=12 * 6, freq='M')\n",
    "forecast = m.predict(future)\n",
    "fig = m.plot(forecast)"
   ]
  },
  {
   "cell_type": "code",
   "execution_count": null,
   "id": "3dd395ad",
   "metadata": {
    "slideshow": {
     "slide_type": "slide"
    }
   },
   "outputs": [],
   "source": [
    "fig = m.plot(forecast)\n",
    "a = add_changepoints_to_plot(fig.gca(), m, forecast)"
   ]
  },
  {
   "cell_type": "code",
   "execution_count": null,
   "id": "bff37f7d",
   "metadata": {
    "slideshow": {
     "slide_type": "slide"
    }
   },
   "outputs": [],
   "source": [
    "df_cv = cross_validation(m, initial='730 days', period='180 days', horizon = '365 days')\n",
    "df_cv.head()"
   ]
  },
  {
   "cell_type": "code",
   "execution_count": null,
   "id": "92ce480b",
   "metadata": {
    "slideshow": {
     "slide_type": "slide"
    }
   },
   "outputs": [],
   "source": [
    "df_p = performance_metrics(df_cv)\n",
    "df_p.head()"
   ]
  },
  {
   "cell_type": "code",
   "execution_count": null,
   "id": "c581d591",
   "metadata": {
    "slideshow": {
     "slide_type": "slide"
    }
   },
   "outputs": [],
   "source": [
    "fig = plot_cross_validation_metric(df_cv, metric='mape')"
   ]
  },
  {
   "cell_type": "code",
   "execution_count": null,
   "id": "0dd8bc4d",
   "metadata": {
    "slideshow": {
     "slide_type": "slide"
    }
   },
   "outputs": [],
   "source": [
    "m = Prophet(changepoint_prior_scale=.001, n_changepoints=0).fit(df)\n",
    "future = m.make_future_dataframe(periods=12 * 6, freq='M')\n",
    "forecast = m.predict(future)\n",
    "fig = m.plot(forecast)"
   ]
  },
  {
   "cell_type": "code",
   "execution_count": null,
   "id": "e534a10d",
   "metadata": {
    "slideshow": {
     "slide_type": "slide"
    }
   },
   "outputs": [],
   "source": [
    "changepoint_prior_scales = [.005, .05, .5, 2]\n",
    "n_changepoints = [8, 10, 15, 20, 25]\n",
    "\n",
    "rmse = []\n",
    "for changepoint_prior_scale in changepoint_prior_scales:\n",
    "    for n_changepoint in n_changepoints:\n",
    "        print('Changepoint Prior Scale:', changepoint_prior_scale)\n",
    "        print('Number Changepoints:', n_changepoint)\n",
    "        m = Prophet(changepoint_prior_scale=changepoint_prior_scale, n_changepoints=n_changepoint).fit(df)\n",
    "        future = m.make_future_dataframe(periods=12 * 6, freq='M')\n",
    "        forecast = m.predict(future)\n",
    "        fig = m.plot(forecast)\n",
    "        a = add_changepoints_to_plot(fig.gca(), m, forecast)\n",
    "        plt.show()\n",
    "        df_cv = cross_validation(m, initial='1095 days', period='180 days', horizon = '365 days')\n",
    "        df_p = performance_metrics(df_cv)\n",
    "        rmse.append((df_p['rmse'].mean(), {'changepoint_prior_scale': changepoint_prior_scale, 'n_changepoint': n_changepoint}))\n",
    "        fig = plot_cross_validation_metric(df_cv, metric='mape')\n",
    "        plt.show()"
   ]
  },
  {
   "cell_type": "code",
   "execution_count": null,
   "id": "80a3837e",
   "metadata": {
    "slideshow": {
     "slide_type": "slide"
    }
   },
   "outputs": [],
   "source": [
    "rmse"
   ]
  },
  {
   "cell_type": "code",
   "execution_count": null,
   "id": "46176ad4",
   "metadata": {
    "slideshow": {
     "slide_type": "slide"
    }
   },
   "outputs": [],
   "source": [
    "#dataframe of annual US Public Holidays over training and forecasting periods \n",
    "\n",
    "ny = pd.DataFrame({'holiday': \"New Year's Day\", 'ds' : pd.to_datetime(['2016-01-01', '2017-01-01'])})  \n",
    "mlk = pd.DataFrame({'holiday': 'Birthday of Martin Luther King, Jr.', 'ds' : pd.to_datetime(['2016-01-18', '2017-01-16'])}) \n",
    "wash = pd.DataFrame({'holiday': \"Washington's Birthday\", 'ds' : pd.to_datetime(['2016-02-15', '2017-02-20'])})\n",
    "mem = pd.DataFrame({'holiday': 'Memorial Day', 'ds' : pd.to_datetime(['2016-05-30', '2017-05-29'])})\n",
    "ind = pd.DataFrame({'holiday': 'Independence Day', 'ds' : pd.to_datetime(['2015-07-04', '2016-07-04', '2017-07-04'])})\n",
    "lab = pd.DataFrame({'holiday': 'Labor Day', 'ds' : pd.to_datetime(['2015-09-07', '2016-09-05', '2017-09-04'])})\n",
    "col = pd.DataFrame({'holiday': 'Columbus Day', 'ds' : pd.to_datetime(['2015-10-12', '2016-10-10', '2017-10-09'])})\n",
    "vet = pd.DataFrame({'holiday': \"Veteran's Day\", 'ds' : pd.to_datetime(['2015-11-11', '2016-11-11', '2017-11-11'])})\n",
    "thanks = pd.DataFrame({'holiday': 'Thanksgiving Day', 'ds' : pd.to_datetime(['2015-11-26', '2016-11-24'])})\n",
    "christ = pd.DataFrame({'holiday': 'Christmas', 'ds' : pd.to_datetime(['2015-12-25', '2016-12-25'])})\n",
    "\n",
    "holidays = pd.concat([ny, mlk, wash, mem, ind, lab, col, vet, thanks, christ])"
   ]
  },
  {
   "cell_type": "code",
   "execution_count": null,
   "id": "0cb01b8a",
   "metadata": {
    "slideshow": {
     "slide_type": "slide"
    }
   },
   "outputs": [],
   "source": [
    "prophet = Prophet(growth='linear',\n",
    "                  yearly_seasonality=True,\n",
    "                  weekly_seasonality=True,\n",
    "                  daily_seasonality=True,\n",
    "#                   holidays=holidays,\n",
    "                  seasonality_mode='multiplicative',\n",
    "                  seasonality_prior_scale=10,\n",
    "                  holidays_prior_scale=10,\n",
    "                  changepoint_prior_scale=.05,\n",
    "                  mcmc_samples=0\n",
    "                  ).add_seasonality(name='quarterly',\n",
    "                                    period=365.25 / 4,fourier_order=15\n",
    "                  )\n",
    "prophet.fit(df)\n",
    "future = prophet.make_future_dataframe(periods=12 * 6, freq='M')\n",
    "forecast = prophet.predict(future)\n",
    "fig = prophet.plot(forecast)\n",
    "a = add_changepoints_to_plot(fig.gca(), prophet, forecast)\n",
    "plt.show()\n",
    "df_cv = cross_validation(prophet, initial='1095 days', period='180 days', horizon = '365 days')\n",
    "df_p = performance_metrics(df_cv)\n",
    "fig = plot_cross_validation_metric(df_cv, metric='mape')\n",
    "plt.show()"
   ]
  }
 ],
 "metadata": {
  "celltoolbar": "Slideshow",
  "kernelspec": {
   "display_name": "Python 3",
   "language": "python",
   "name": "python3"
  },
  "language_info": {
   "codemirror_mode": {
    "name": "ipython",
    "version": 3
   },
   "file_extension": ".py",
   "mimetype": "text/x-python",
   "name": "python",
   "nbconvert_exporter": "python",
   "pygments_lexer": "ipython3",
   "version": "3.6.13"
  },
  "latex_envs": {
   "LaTeX_envs_menu_present": true,
   "autoclose": false,
   "autocomplete": true,
   "bibliofile": "biblio.bib",
   "cite_by": "apalike",
   "current_citInitial": 1,
   "eqLabelWithNumbers": true,
   "eqNumInitial": 1,
   "hotkeys": {
    "equation": "Ctrl-E",
    "itemize": "Ctrl-I"
   },
   "labels_anchors": false,
   "latex_user_defs": false,
   "report_style_numbering": false,
   "user_envs_cfg": false
  },
  "papermill": {
   "default_parameters": {},
   "duration": 40.252502,
   "end_time": "2021-08-24T14:02:12.213649",
   "environment_variables": {},
   "exception": null,
   "input_path": "__notebook__.ipynb",
   "output_path": "__notebook__.ipynb",
   "parameters": {},
   "start_time": "2021-08-24T14:01:31.961147",
   "version": "2.3.3"
  }
 },
 "nbformat": 4,
 "nbformat_minor": 5
}
