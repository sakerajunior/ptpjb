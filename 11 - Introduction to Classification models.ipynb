{
 "cells": [
  {
   "cell_type": "markdown",
   "metadata": {
    "slideshow": {
     "slide_type": "slide"
    }
   },
   "source": [
    "# <center><font color=\"green\"> https://bit.ly/ptpjb-2021-11</font></center>\n",
    "[![Open In Colab](https://colab.research.google.com/assets/colab-badge.svg)](https://bit.ly/ptpjb-2021-11)"
   ]
  },
  {
   "cell_type": "markdown",
   "metadata": {
    "slideshow": {
     "slide_type": "slide"
    }
   },
   "source": [
    "# <center><font color=\"blue\">11 - Introduction to Classification models</font></center>\n",
    "\n",
    "<center><img alt=\"\" src=\"images/cover_ptpjb_2021.png\"/></center> \n",
    "\n",
    "## <center><font color=\"blue\">tau-data Indonesia</font><br>(C) Taufik Sutanto - 2021</center>\n",
    "<center><a href=\"https://tau-data.id\">https://tau-data.id</a> ~ <a href=\"mailto:taufik@tau-data.id\">taufik@tau-data.id</a></center>"
   ]
  },
  {
   "cell_type": "markdown",
   "metadata": {},
   "source": [
    "# <center><font color=\"blue\"> Outline: Introduction to Classification models</font></center>\n",
    "\n",
    "* Pendahuluan Model Klasifikasi\n",
    "* k-Nearest Neighbour\n",
    "* Evaluasi Dasar\n",
    "* Underfitting-Overfitting\n",
    "* Cross-validasi\n",
    "* Regresi Logistik\n",
    "* Naive Bayes\n",
    "* Decision Tree dan Random Forest\n",
    "\n",
    "<img style=\"undefined: undefined;\" src=\"images/meme-cartoon/meme_08-Classification_Prediction.png\" width=\"420\" height=\"236\" />"
   ]
  },
  {
   "cell_type": "markdown",
   "metadata": {},
   "source": [
    "# <center><font color=\"blue\">  Variabel target (dependent) dan prediktor (independent)</font></center>\n",
    "\n",
    "<img style=\"undefined: undefined;\" src=\"images/Dependent-Independent.png\" width=\"294\" height=\"197\" />\n",
    "\n",
    "* **Variable Target**: adalah satu atau lebih variabel yang dipengaruhi oleh satu atau lebih variabel yang lain.\n",
    "Contoh: Variabel gaji dipengaruhi oleh variabel lama kerja, pangkat serta jabatan seorang pegawai.\n",
    "Variable \n",
    "* **Variabel Prediktor** : adalah satu atau lebih variabel yang mempengaruhi satu atau lebih variabel yang lain.\n",
    "Contoh: Variabel kecepatan mempengaruhi waktu tempuh perjalanan.\n",
    "* **Variabel Kontrol**: adalah variabel/elemen yang nilainya tetap (konstan), biasanya pada suatu eksperimen untuk menguji hubungan antara variabel target dan prediktor.\n",
    "Contoh: Penggunaan Placebo (obat palsu) pada penelitian/eksperimen efek suatu obat tertentu.\n",
    "* **Variable Confounding** Biasa juga disebut sebagai “variabel ketiga” atau “variabel mediator”, yaitu suatu (extra*) variabel yang mempengaruhi hubungan antara variabel dependent dan independent.\n",
    "Contoh: Pada penelitian tentang dampak olahraga (prediktor) terhadap berat badan (target), maka variabel lain seperti pola makan dan usia juga akan mempengaruhi."
   ]
  },
  {
   "cell_type": "markdown",
   "metadata": {
    "slideshow": {
     "slide_type": "slide"
    }
   },
   "source": [
    "# <center><font color=\"blue\">Pentingnya Domain Knowledge</font></center>\n",
    "\n",
    "<img alt=\"\" src=\"images/meme-cartoon/meme-dependent-independent var.jpg\"/>"
   ]
  },
  {
   "cell_type": "markdown",
   "metadata": {},
   "source": [
    "# <center><font color=\"blue\">Bentuk Struktur Data Masalah Klasifikasi</font></center>\n",
    "\n",
    "* Klasifikasi adalah permasalahan meng-kategorisasikan sekelompok observasi baru ke sekumpulan kategori (kelas) yang ada sebelumnya. \n",
    "* Mengacu ke Gambar dibawah, klasifikasi digunakan jika variabel target bertipe kategorik dan prediktornya satu atau lebih variabel numerik dan-atau kategorik. \n",
    "\n",
    "<p><img src=\"images/iris_flower.png\" alt=\"\" width=\"414\" height=\"310\" /></p>"
   ]
  },
  {
   "cell_type": "markdown",
   "metadata": {},
   "source": [
    "# <center><font color=\"blue\">Aplikasi Model Klasifikasi</font></center>\n",
    "\n",
    "<img alt=\"\" src=\"images/machine learning classification applications.png\"/>"
   ]
  },
  {
   "cell_type": "markdown",
   "metadata": {},
   "source": [
    "# <center><font color=\"blue\"> Berbagai Pendekatan ke Klasifikasi</font></center>\n",
    "\n",
    "* Terdapat cukup banyak model klasifikasi yang dapat digunakan, mulai dari yang klasik seperti Linear Discriminant Analysis (LDA) dan regresi logistik, lalu ke moderate seperti SVM (support vector machines), decision tree dan neural network (jaringan syaraf tiruan), sampai yang lebih terkini seperti random forest,  dan deep learning. \n",
    "* Masing-masing memiliki kelebihan dan kekurangan masing-masing bergantung pada bagaimana model/algoritmanya. \n",
    "\n",
    "<img alt=\"\" src=\"images/Berbagai_Macam_Pendekatan_Klasifikasi.png\"/>"
   ]
  },
  {
   "cell_type": "markdown",
   "metadata": {},
   "source": [
    "# <center><font color=\"blue\">Induktif Bias Sebagai Dasar Penting untuk Mengerti SEMUA model Data Science dan Machine Learning</font></center>\n",
    "\n",
    "<img alt=\"\" src=\"images/inductive_biases.png\" />\n",
    "\n",
    "image source: https://sgfin.github.io/2020/06/22/Induction-Intro/"
   ]
  },
  {
   "cell_type": "markdown",
   "metadata": {},
   "source": [
    "# <center><font color=\"blue\">Permasalahan Klasifikasi</font></center>\n",
    "\n",
    "<p><img alt=\"\" src=\"images/masalah_klasifikasi.png\" /></p>\n",
    "\n",
    "* Misal diberikan permasalahan terdapat dua buah kategori orange dan ungu seperti di gambar.\n",
    "* Setiap titik di ganmbar adalah entitas dari data yang terdiri dari beberapa variabel.\n",
    "* Jika diberikan titik baru (warna putih), maka masalah klasifikkasi adalah kemudian menggolongkan data baru ini ke kategori titik Orange atau Ungu.\n",
    "\n",
    "## <font color=\"green\">Mari membahas teori Bersamaan Dengan Implementasinya</font>"
   ]
  },
  {
   "cell_type": "code",
   "execution_count": 1,
   "metadata": {},
   "outputs": [
    {
     "name": "stdout",
     "output_type": "stream",
     "text": [
      "Requirement already satisfied: graphviz in c:\\anaconda3\\envs\\py37\\lib\\site-packages (0.17)\n",
      "Requirement already satisfied: dtreeviz in c:\\anaconda3\\envs\\py37\\lib\\site-packages (1.3)\n",
      "Requirement already satisfied: pandas in c:\\anaconda3\\envs\\py37\\lib\\site-packages (from dtreeviz) (1.3.2)\n",
      "Requirement already satisfied: colour in c:\\anaconda3\\envs\\py37\\lib\\site-packages (from dtreeviz) (0.1.5)\n",
      "Requirement already satisfied: scikit-learn in c:\\anaconda3\\envs\\py37\\lib\\site-packages (from dtreeviz) (0.24.2)\n",
      "Requirement already satisfied: matplotlib in c:\\anaconda3\\envs\\py37\\lib\\site-packages (from dtreeviz) (3.4.2)\n",
      "Requirement already satisfied: pytest in c:\\anaconda3\\envs\\py37\\lib\\site-packages (from dtreeviz) (6.2.4)\n",
      "Requirement already satisfied: numpy in c:\\anaconda3\\envs\\py37\\lib\\site-packages (from dtreeviz) (1.19.5)\n",
      "Requirement already satisfied: cycler>=0.10 in c:\\anaconda3\\envs\\py37\\lib\\site-packages (from matplotlib->dtreeviz) (0.10.0)\n",
      "Requirement already satisfied: pillow>=6.2.0 in c:\\anaconda3\\envs\\py37\\lib\\site-packages (from matplotlib->dtreeviz) (8.3.1)\n",
      "Requirement already satisfied: pyparsing>=2.2.1 in c:\\anaconda3\\envs\\py37\\lib\\site-packages (from matplotlib->dtreeviz) (2.4.7)\n",
      "Requirement already satisfied: kiwisolver>=1.0.1 in c:\\anaconda3\\envs\\py37\\lib\\site-packages (from matplotlib->dtreeviz) (1.3.1)\n",
      "Requirement already satisfied: python-dateutil>=2.7 in c:\\anaconda3\\envs\\py37\\lib\\site-packages (from matplotlib->dtreeviz) (2.8.2)\n",
      "Requirement already satisfied: six in c:\\anaconda3\\envs\\py37\\lib\\site-packages (from cycler>=0.10->matplotlib->dtreeviz) (1.15.0)\n",
      "Requirement already satisfied: pytz>=2017.3 in c:\\anaconda3\\envs\\py37\\lib\\site-packages (from pandas->dtreeviz) (2021.1)\n",
      "Requirement already satisfied: py>=1.8.2 in c:\\anaconda3\\envs\\py37\\lib\\site-packages (from pytest->dtreeviz) (1.10.0)\n",
      "Requirement already satisfied: attrs>=19.2.0 in c:\\anaconda3\\envs\\py37\\lib\\site-packages (from pytest->dtreeviz) (21.2.0)\n",
      "Requirement already satisfied: iniconfig in c:\\anaconda3\\envs\\py37\\lib\\site-packages (from pytest->dtreeviz) (1.1.1)\n",
      "Requirement already satisfied: colorama in c:\\anaconda3\\envs\\py37\\lib\\site-packages (from pytest->dtreeviz) (0.4.4)\n",
      "Requirement already satisfied: toml in c:\\anaconda3\\envs\\py37\\lib\\site-packages (from pytest->dtreeviz) (0.10.2)\n",
      "Requirement already satisfied: atomicwrites>=1.0 in c:\\anaconda3\\envs\\py37\\lib\\site-packages (from pytest->dtreeviz) (1.4.0)\n",
      "Requirement already satisfied: importlib-metadata>=0.12 in c:\\anaconda3\\envs\\py37\\lib\\site-packages (from pytest->dtreeviz) (3.10.0)\n",
      "Requirement already satisfied: packaging in c:\\anaconda3\\envs\\py37\\lib\\site-packages (from pytest->dtreeviz) (21.0)\n",
      "Requirement already satisfied: pluggy<1.0.0a1,>=0.12 in c:\\anaconda3\\envs\\py37\\lib\\site-packages (from pytest->dtreeviz) (0.13.1)\n",
      "Requirement already satisfied: zipp>=0.5 in c:\\anaconda3\\envs\\py37\\lib\\site-packages (from importlib-metadata>=0.12->pytest->dtreeviz) (3.5.0)\n",
      "Requirement already satisfied: typing-extensions>=3.6.4 in c:\\anaconda3\\envs\\py37\\lib\\site-packages (from importlib-metadata>=0.12->pytest->dtreeviz) (3.7.4.3)\n",
      "Requirement already satisfied: threadpoolctl>=2.0.0 in c:\\anaconda3\\envs\\py37\\lib\\site-packages (from scikit-learn->dtreeviz) (2.2.0)\n",
      "Requirement already satisfied: joblib>=0.11 in c:\\anaconda3\\envs\\py37\\lib\\site-packages (from scikit-learn->dtreeviz) (1.0.1)\n",
      "Requirement already satisfied: scipy>=0.19.1 in c:\\anaconda3\\envs\\py37\\lib\\site-packages (from scikit-learn->dtreeviz) (1.6.2)\n"
     ]
    }
   ],
   "source": [
    "!pip install graphviz dtreeviz"
   ]
  },
  {
   "cell_type": "code",
   "execution_count": 2,
   "metadata": {},
   "outputs": [
    {
     "data": {
      "text/plain": [
       "'Done'"
      ]
     },
     "execution_count": 2,
     "metadata": {},
     "output_type": "execute_result"
    }
   ],
   "source": [
    "import warnings; warnings.simplefilter('ignore')\n",
    "import graphviz, pandas as pd, matplotlib.pyplot as plt\n",
    "import time, numpy as np, seaborn as sns\n",
    "from sklearn import  tree\n",
    "from sklearn.linear_model import LogisticRegression\n",
    "from sklearn import neighbors\n",
    "from sklearn.naive_bayes import GaussianNB\n",
    "from sklearn.ensemble import RandomForestClassifier\n",
    "from dtreeviz.trees import *\n",
    "from sklearn import svm, preprocessing\n",
    "from sklearn.gaussian_process.kernels import RBF\n",
    "from sklearn.svm import SVC\n",
    "from sklearn.model_selection import train_test_split\n",
    "from sklearn.metrics import confusion_matrix, classification_report\n",
    "from sklearn.metrics import precision_score, recall_score, f1_score\n",
    "from sklearn.model_selection import cross_val_score\n",
    "sns.set(style=\"ticks\", color_codes=True)\n",
    "\"Done\""
   ]
  },
  {
   "cell_type": "markdown",
   "metadata": {},
   "source": [
    "# <center><font color=\"blue\">Kasus Sederhana Klasifikasi 01: Klasifikasi Spesies Bunga Iris</font></center>\n",
    "\n",
    "* Data klasifikasi bunga Iris sebagai studi kasus sederhana\n",
    "* Link data: https://archive.ics.uci.edu/ml/datasets/iris\n",
    "* Paper sumber data: Fisher,R.A. \"The use of multiple measurements in taxonomic problems\" Annual Eugenics, 7, Part II, 179-188 (1936); also in \"Contributions to Mathematical Statistics\" (John Wiley, NY, 1950). \n",
    "* Masalah klasifikasinya adalah mengklasifikasikan jenis Bunga Iris berdasarkan bentuk (e.g. panjang dan lebar) bunga.\n",
    "\n",
    "<img src=\"images/iris_flower.png\" alt=\"\" width=\"503\" height=\"377\" />"
   ]
  },
  {
   "cell_type": "code",
   "execution_count": 3,
   "metadata": {},
   "outputs": [
    {
     "name": "stdout",
     "output_type": "stream",
     "text": [
      "(150, 5)\n"
     ]
    },
    {
     "data": {
      "text/html": [
       "<div>\n",
       "<style scoped>\n",
       "    .dataframe tbody tr th:only-of-type {\n",
       "        vertical-align: middle;\n",
       "    }\n",
       "\n",
       "    .dataframe tbody tr th {\n",
       "        vertical-align: top;\n",
       "    }\n",
       "\n",
       "    .dataframe thead th {\n",
       "        text-align: right;\n",
       "    }\n",
       "</style>\n",
       "<table border=\"1\" class=\"dataframe\">\n",
       "  <thead>\n",
       "    <tr style=\"text-align: right;\">\n",
       "      <th></th>\n",
       "      <th>sepal_length</th>\n",
       "      <th>sepal_width</th>\n",
       "      <th>petal_length</th>\n",
       "      <th>petal_width</th>\n",
       "      <th>species</th>\n",
       "    </tr>\n",
       "  </thead>\n",
       "  <tbody>\n",
       "    <tr>\n",
       "      <th>71</th>\n",
       "      <td>6.1</td>\n",
       "      <td>2.8</td>\n",
       "      <td>4.0</td>\n",
       "      <td>1.3</td>\n",
       "      <td>versicolor</td>\n",
       "    </tr>\n",
       "    <tr>\n",
       "      <th>60</th>\n",
       "      <td>5.0</td>\n",
       "      <td>2.0</td>\n",
       "      <td>3.5</td>\n",
       "      <td>1.0</td>\n",
       "      <td>versicolor</td>\n",
       "    </tr>\n",
       "    <tr>\n",
       "      <th>4</th>\n",
       "      <td>5.0</td>\n",
       "      <td>3.6</td>\n",
       "      <td>1.4</td>\n",
       "      <td>0.2</td>\n",
       "      <td>setosa</td>\n",
       "    </tr>\n",
       "    <tr>\n",
       "      <th>136</th>\n",
       "      <td>6.3</td>\n",
       "      <td>3.4</td>\n",
       "      <td>5.6</td>\n",
       "      <td>2.4</td>\n",
       "      <td>virginica</td>\n",
       "    </tr>\n",
       "    <tr>\n",
       "      <th>8</th>\n",
       "      <td>4.4</td>\n",
       "      <td>2.9</td>\n",
       "      <td>1.4</td>\n",
       "      <td>0.2</td>\n",
       "      <td>setosa</td>\n",
       "    </tr>\n",
       "  </tbody>\n",
       "</table>\n",
       "</div>"
      ],
      "text/plain": [
       "     sepal_length  sepal_width  petal_length  petal_width     species\n",
       "71            6.1          2.8           4.0          1.3  versicolor\n",
       "60            5.0          2.0           3.5          1.0  versicolor\n",
       "4             5.0          3.6           1.4          0.2      setosa\n",
       "136           6.3          3.4           5.6          2.4   virginica\n",
       "8             4.4          2.9           1.4          0.2      setosa"
      ]
     },
     "execution_count": 3,
     "metadata": {},
     "output_type": "execute_result"
    }
   ],
   "source": [
    "# Load data Bunga Iris\n",
    "data = sns.load_dataset(\"iris\")\n",
    "print(data.shape)\n",
    "data.sample(5)"
   ]
  },
  {
   "cell_type": "code",
   "execution_count": 4,
   "metadata": {},
   "outputs": [
    {
     "name": "stdout",
     "output_type": "stream",
     "text": [
      "<class 'pandas.core.frame.DataFrame'>\n",
      "RangeIndex: 150 entries, 0 to 149\n",
      "Data columns (total 5 columns):\n",
      " #   Column        Non-Null Count  Dtype   \n",
      "---  ------        --------------  -----   \n",
      " 0   sepal_length  150 non-null    float64 \n",
      " 1   sepal_width   150 non-null    float64 \n",
      " 2   petal_length  150 non-null    float64 \n",
      " 3   petal_width   150 non-null    float64 \n",
      " 4   species       150 non-null    category\n",
      "dtypes: category(1), float64(4)\n",
      "memory usage: 5.1 KB\n",
      "None\n"
     ]
    }
   ],
   "source": [
    "data['species'] = data['species'].astype('category')\n",
    "print(data.info())"
   ]
  },
  {
   "cell_type": "code",
   "execution_count": 5,
   "metadata": {},
   "outputs": [
    {
     "name": "stdout",
     "output_type": "stream",
     "text": [
      "Duplikasi =  1\n",
      "sepal_length    0\n",
      "sepal_width     0\n",
      "petal_length    0\n",
      "petal_width     0\n",
      "species         0\n",
      "dtype: int64\n"
     ]
    }
   ],
   "source": [
    "print(\"Duplikasi = \", data.duplicated().sum())\n",
    "print(data.isnull().sum())"
   ]
  },
  {
   "cell_type": "code",
   "execution_count": 6,
   "metadata": {},
   "outputs": [
    {
     "name": "stdout",
     "output_type": "stream",
     "text": [
      "Duplikasi =  0\n"
     ]
    }
   ],
   "source": [
    "data.drop_duplicates(keep=\"first\", inplace=True)\n",
    "print(\"Duplikasi = \", data.duplicated().sum())"
   ]
  },
  {
   "cell_type": "code",
   "execution_count": 7,
   "metadata": {},
   "outputs": [
    {
     "data": {
      "image/png": "[encoded data removed]",
      "text/plain": [
       "<Figure size 806.85x720 with 20 Axes>"
      ]
     },
     "metadata": {},
     "output_type": "display_data"
    }
   ],
   "source": [
    "p = sns.pairplot(data, hue=\"species\")"
   ]
  },
  {
   "cell_type": "code",
   "execution_count": 8,
   "metadata": {},
   "outputs": [
    {
     "data": {
      "text/plain": [
       "((149, 4), (149,))"
      ]
     },
     "execution_count": 8,
     "metadata": {},
     "output_type": "execute_result"
    }
   ],
   "source": [
    "# Kita membuat dataframe baru, hati-hati jika datanya besar.\n",
    "df1 = data[['sepal_length','sepal_width','petal_length','petal_width']]\n",
    "y1 = data['species']\n",
    "df1.shape, y1.shape"
   ]
  },
  {
   "cell_type": "markdown",
   "metadata": {},
   "source": [
    "# <center><font color=\"blue\">Kasus Sederhana Klasifikasi 02: Efisiensi Energy Gedung</font></center>\n",
    "\n",
    "* Terdapat 12 Macam bentuk Gedung disimulasikan dalam EcoTect. Gedung-gedung tersebut berbeda menurut beberapa parameter (e.g. glazing area, the glazing area distribution, and the orientation). \n",
    "* Dari parameter tadi terdapat 768 bentuk gedung dan 8 variabel.\n",
    "* aiming to predict two real valued responses. It can also be used as a multi-class classification problem if the response is rounded to the nearest integer.\n",
    "* Link data: https://archive.ics.uci.edu/ml/datasets/energy+efficiency\n",
    "* Paper sumber data: A. Tsanas, A. Xifara: 'Accurate quantitative estimation of energy performance of residential buildings using statistical machine learning tools', Energy and Buildings, Vol. 49, pp. 560-567, 2012\n",
    "\n",
    "<img src=\"images/buildings-by-calibrated-simulation.png\" alt=\"\" width=\"503\" height=\"377\" />"
   ]
  },
  {
   "cell_type": "code",
   "execution_count": 9,
   "metadata": {},
   "outputs": [
    {
     "name": "stdout",
     "output_type": "stream",
     "text": [
      "(768, 12)\n"
     ]
    },
    {
     "data": {
      "text/html": [
       "<div>\n",
       "<style scoped>\n",
       "    .dataframe tbody tr th:only-of-type {\n",
       "        vertical-align: middle;\n",
       "    }\n",
       "\n",
       "    .dataframe tbody tr th {\n",
       "        vertical-align: top;\n",
       "    }\n",
       "\n",
       "    .dataframe thead th {\n",
       "        text-align: right;\n",
       "    }\n",
       "</style>\n",
       "<table border=\"1\" class=\"dataframe\">\n",
       "  <thead>\n",
       "    <tr style=\"text-align: right;\">\n",
       "      <th></th>\n",
       "      <th>compactness</th>\n",
       "      <th>surface-area</th>\n",
       "      <th>wall-area</th>\n",
       "      <th>roof-area</th>\n",
       "      <th>overall-height</th>\n",
       "      <th>orientation</th>\n",
       "      <th>glazing-area</th>\n",
       "      <th>glazing-dist</th>\n",
       "      <th>heating-load</th>\n",
       "      <th>cooling-load</th>\n",
       "      <th>heat-cat</th>\n",
       "      <th>cool-cat</th>\n",
       "    </tr>\n",
       "  </thead>\n",
       "  <tbody>\n",
       "    <tr>\n",
       "      <th>550</th>\n",
       "      <td>0.76</td>\n",
       "      <td>661.5</td>\n",
       "      <td>416.5</td>\n",
       "      <td>122.5</td>\n",
       "      <td>7.0</td>\n",
       "      <td>4</td>\n",
       "      <td>0.40</td>\n",
       "      <td>1</td>\n",
       "      <td>40.71</td>\n",
       "      <td>40.63</td>\n",
       "      <td>40</td>\n",
       "      <td>40</td>\n",
       "    </tr>\n",
       "    <tr>\n",
       "      <th>163</th>\n",
       "      <td>0.79</td>\n",
       "      <td>637.0</td>\n",
       "      <td>343.0</td>\n",
       "      <td>147.0</td>\n",
       "      <td>7.0</td>\n",
       "      <td>5</td>\n",
       "      <td>0.10</td>\n",
       "      <td>3</td>\n",
       "      <td>36.70</td>\n",
       "      <td>34.29</td>\n",
       "      <td>36</td>\n",
       "      <td>34</td>\n",
       "    </tr>\n",
       "    <tr>\n",
       "      <th>302</th>\n",
       "      <td>0.82</td>\n",
       "      <td>612.5</td>\n",
       "      <td>318.5</td>\n",
       "      <td>147.0</td>\n",
       "      <td>7.0</td>\n",
       "      <td>4</td>\n",
       "      <td>0.25</td>\n",
       "      <td>1</td>\n",
       "      <td>26.97</td>\n",
       "      <td>27.25</td>\n",
       "      <td>26</td>\n",
       "      <td>27</td>\n",
       "    </tr>\n",
       "    <tr>\n",
       "      <th>41</th>\n",
       "      <td>0.64</td>\n",
       "      <td>784.0</td>\n",
       "      <td>343.0</td>\n",
       "      <td>220.5</td>\n",
       "      <td>3.5</td>\n",
       "      <td>3</td>\n",
       "      <td>0.00</td>\n",
       "      <td>0</td>\n",
       "      <td>10.54</td>\n",
       "      <td>16.80</td>\n",
       "      <td>10</td>\n",
       "      <td>16</td>\n",
       "    </tr>\n",
       "    <tr>\n",
       "      <th>295</th>\n",
       "      <td>0.90</td>\n",
       "      <td>563.5</td>\n",
       "      <td>318.5</td>\n",
       "      <td>122.5</td>\n",
       "      <td>7.0</td>\n",
       "      <td>5</td>\n",
       "      <td>0.25</td>\n",
       "      <td>1</td>\n",
       "      <td>32.00</td>\n",
       "      <td>37.58</td>\n",
       "      <td>32</td>\n",
       "      <td>37</td>\n",
       "    </tr>\n",
       "  </tbody>\n",
       "</table>\n",
       "</div>"
      ],
      "text/plain": [
       "     compactness  surface-area  wall-area  roof-area  overall-height  \\\n",
       "550         0.76         661.5      416.5      122.5             7.0   \n",
       "163         0.79         637.0      343.0      147.0             7.0   \n",
       "302         0.82         612.5      318.5      147.0             7.0   \n",
       "41          0.64         784.0      343.0      220.5             3.5   \n",
       "295         0.90         563.5      318.5      122.5             7.0   \n",
       "\n",
       "     orientation  glazing-area  glazing-dist  heating-load  cooling-load  \\\n",
       "550            4          0.40             1         40.71         40.63   \n",
       "163            5          0.10             3         36.70         34.29   \n",
       "302            4          0.25             1         26.97         27.25   \n",
       "41             3          0.00             0         10.54         16.80   \n",
       "295            5          0.25             1         32.00         37.58   \n",
       "\n",
       "     heat-cat  cool-cat  \n",
       "550        40        40  \n",
       "163        36        34  \n",
       "302        26        27  \n",
       "41         10        16  \n",
       "295        32        37  "
      ]
     },
     "execution_count": 9,
     "metadata": {},
     "output_type": "execute_result"
    }
   ],
   "source": [
    "file_ = \"data/building-energy-efficiency-ENB2012_data.csv\"\n",
    "\n",
    "try: # Running Locally, yakinkan \"file_\" berada di folder \"data\"\n",
    "    data = pd.read_csv(file_, error_bad_lines=False, low_memory = False, encoding='utf8')\n",
    "except: # Running in Google Colab\n",
    "    !mkdir data\n",
    "    !wget -P data/ https://raw.githubusercontent.com/taudata-indonesia/ptpjb/master/{file_}\n",
    "    data = pd.read_csv(file_, error_bad_lines=False, low_memory = False, encoding='utf8')\n",
    "print(data.shape)\n",
    "data.sample(5)"
   ]
  },
  {
   "cell_type": "markdown",
   "metadata": {},
   "source": [
    "# <center><font color=\"blue\">PreProcessing & Minor EDA</font></center>\n",
    "\n",
    "* Preprocessing apa yang diperlukan?"
   ]
  },
  {
   "cell_type": "code",
   "execution_count": 10,
   "metadata": {},
   "outputs": [
    {
     "name": "stdout",
     "output_type": "stream",
     "text": [
      "<class 'pandas.core.frame.DataFrame'>\n",
      "RangeIndex: 768 entries, 0 to 767\n",
      "Data columns (total 12 columns):\n",
      " #   Column          Non-Null Count  Dtype  \n",
      "---  ------          --------------  -----  \n",
      " 0   compactness     768 non-null    float64\n",
      " 1   surface-area    768 non-null    float64\n",
      " 2   wall-area       768 non-null    float64\n",
      " 3   roof-area       768 non-null    float64\n",
      " 4   overall-height  768 non-null    float64\n",
      " 5   orientation     768 non-null    int64  \n",
      " 6   glazing-area    768 non-null    float64\n",
      " 7   glazing-dist    768 non-null    int64  \n",
      " 8   heating-load    768 non-null    float64\n",
      " 9   cooling-load    768 non-null    float64\n",
      " 10  heat-cat        768 non-null    int64  \n",
      " 11  cool-cat        768 non-null    int64  \n",
      "dtypes: float64(8), int64(4)\n",
      "memory usage: 72.1 KB\n",
      "None\n",
      "{2, 3, 4, 5}\n"
     ]
    }
   ],
   "source": [
    "print(data.info())\n",
    "print(set(data[\"orientation\"]))"
   ]
  },
  {
   "cell_type": "code",
   "execution_count": 11,
   "metadata": {},
   "outputs": [
    {
     "data": {
      "text/html": [
       "<div>\n",
       "<style scoped>\n",
       "    .dataframe tbody tr th:only-of-type {\n",
       "        vertical-align: middle;\n",
       "    }\n",
       "\n",
       "    .dataframe tbody tr th {\n",
       "        vertical-align: top;\n",
       "    }\n",
       "\n",
       "    .dataframe thead th {\n",
       "        text-align: right;\n",
       "    }\n",
       "</style>\n",
       "<table border=\"1\" class=\"dataframe\">\n",
       "  <thead>\n",
       "    <tr style=\"text-align: right;\">\n",
       "      <th></th>\n",
       "      <th>compactness</th>\n",
       "      <th>surface-area</th>\n",
       "      <th>wall-area</th>\n",
       "      <th>roof-area</th>\n",
       "      <th>overall-height</th>\n",
       "      <th>orientation</th>\n",
       "      <th>glazing-area</th>\n",
       "      <th>glazing-dist</th>\n",
       "      <th>heating-load</th>\n",
       "      <th>cooling-load</th>\n",
       "      <th>heat-cat</th>\n",
       "      <th>cool-cat</th>\n",
       "    </tr>\n",
       "  </thead>\n",
       "  <tbody>\n",
       "    <tr>\n",
       "      <th>count</th>\n",
       "      <td>768.000000</td>\n",
       "      <td>768.000000</td>\n",
       "      <td>768.000000</td>\n",
       "      <td>768.000000</td>\n",
       "      <td>768.00000</td>\n",
       "      <td>768.0</td>\n",
       "      <td>768.000000</td>\n",
       "      <td>768.00000</td>\n",
       "      <td>768.000000</td>\n",
       "      <td>768.000000</td>\n",
       "      <td>768.0</td>\n",
       "      <td>768.0</td>\n",
       "    </tr>\n",
       "    <tr>\n",
       "      <th>unique</th>\n",
       "      <td>NaN</td>\n",
       "      <td>NaN</td>\n",
       "      <td>NaN</td>\n",
       "      <td>NaN</td>\n",
       "      <td>NaN</td>\n",
       "      <td>4.0</td>\n",
       "      <td>NaN</td>\n",
       "      <td>NaN</td>\n",
       "      <td>NaN</td>\n",
       "      <td>NaN</td>\n",
       "      <td>37.0</td>\n",
       "      <td>39.0</td>\n",
       "    </tr>\n",
       "    <tr>\n",
       "      <th>top</th>\n",
       "      <td>NaN</td>\n",
       "      <td>NaN</td>\n",
       "      <td>NaN</td>\n",
       "      <td>NaN</td>\n",
       "      <td>NaN</td>\n",
       "      <td>2.0</td>\n",
       "      <td>NaN</td>\n",
       "      <td>NaN</td>\n",
       "      <td>NaN</td>\n",
       "      <td>NaN</td>\n",
       "      <td>12.0</td>\n",
       "      <td>14.0</td>\n",
       "    </tr>\n",
       "    <tr>\n",
       "      <th>freq</th>\n",
       "      <td>NaN</td>\n",
       "      <td>NaN</td>\n",
       "      <td>NaN</td>\n",
       "      <td>NaN</td>\n",
       "      <td>NaN</td>\n",
       "      <td>192.0</td>\n",
       "      <td>NaN</td>\n",
       "      <td>NaN</td>\n",
       "      <td>NaN</td>\n",
       "      <td>NaN</td>\n",
       "      <td>84.0</td>\n",
       "      <td>82.0</td>\n",
       "    </tr>\n",
       "    <tr>\n",
       "      <th>mean</th>\n",
       "      <td>0.764167</td>\n",
       "      <td>671.708333</td>\n",
       "      <td>318.500000</td>\n",
       "      <td>176.604167</td>\n",
       "      <td>5.25000</td>\n",
       "      <td>NaN</td>\n",
       "      <td>0.234375</td>\n",
       "      <td>2.81250</td>\n",
       "      <td>22.307195</td>\n",
       "      <td>24.587760</td>\n",
       "      <td>NaN</td>\n",
       "      <td>NaN</td>\n",
       "    </tr>\n",
       "    <tr>\n",
       "      <th>std</th>\n",
       "      <td>0.105777</td>\n",
       "      <td>88.086116</td>\n",
       "      <td>43.626481</td>\n",
       "      <td>45.165950</td>\n",
       "      <td>1.75114</td>\n",
       "      <td>NaN</td>\n",
       "      <td>0.133221</td>\n",
       "      <td>1.55096</td>\n",
       "      <td>10.090204</td>\n",
       "      <td>9.513306</td>\n",
       "      <td>NaN</td>\n",
       "      <td>NaN</td>\n",
       "    </tr>\n",
       "    <tr>\n",
       "      <th>min</th>\n",
       "      <td>0.620000</td>\n",
       "      <td>514.500000</td>\n",
       "      <td>245.000000</td>\n",
       "      <td>110.250000</td>\n",
       "      <td>3.50000</td>\n",
       "      <td>NaN</td>\n",
       "      <td>0.000000</td>\n",
       "      <td>0.00000</td>\n",
       "      <td>6.010000</td>\n",
       "      <td>10.900000</td>\n",
       "      <td>NaN</td>\n",
       "      <td>NaN</td>\n",
       "    </tr>\n",
       "    <tr>\n",
       "      <th>25%</th>\n",
       "      <td>0.682500</td>\n",
       "      <td>606.375000</td>\n",
       "      <td>294.000000</td>\n",
       "      <td>140.875000</td>\n",
       "      <td>3.50000</td>\n",
       "      <td>NaN</td>\n",
       "      <td>0.100000</td>\n",
       "      <td>1.75000</td>\n",
       "      <td>12.992500</td>\n",
       "      <td>15.620000</td>\n",
       "      <td>NaN</td>\n",
       "      <td>NaN</td>\n",
       "    </tr>\n",
       "    <tr>\n",
       "      <th>50%</th>\n",
       "      <td>0.750000</td>\n",
       "      <td>673.750000</td>\n",
       "      <td>318.500000</td>\n",
       "      <td>183.750000</td>\n",
       "      <td>5.25000</td>\n",
       "      <td>NaN</td>\n",
       "      <td>0.250000</td>\n",
       "      <td>3.00000</td>\n",
       "      <td>18.950000</td>\n",
       "      <td>22.080000</td>\n",
       "      <td>NaN</td>\n",
       "      <td>NaN</td>\n",
       "    </tr>\n",
       "    <tr>\n",
       "      <th>75%</th>\n",
       "      <td>0.830000</td>\n",
       "      <td>741.125000</td>\n",
       "      <td>343.000000</td>\n",
       "      <td>220.500000</td>\n",
       "      <td>7.00000</td>\n",
       "      <td>NaN</td>\n",
       "      <td>0.400000</td>\n",
       "      <td>4.00000</td>\n",
       "      <td>31.667500</td>\n",
       "      <td>33.132500</td>\n",
       "      <td>NaN</td>\n",
       "      <td>NaN</td>\n",
       "    </tr>\n",
       "    <tr>\n",
       "      <th>max</th>\n",
       "      <td>0.980000</td>\n",
       "      <td>808.500000</td>\n",
       "      <td>416.500000</td>\n",
       "      <td>220.500000</td>\n",
       "      <td>7.00000</td>\n",
       "      <td>NaN</td>\n",
       "      <td>0.400000</td>\n",
       "      <td>5.00000</td>\n",
       "      <td>43.100000</td>\n",
       "      <td>48.030000</td>\n",
       "      <td>NaN</td>\n",
       "      <td>NaN</td>\n",
       "    </tr>\n",
       "  </tbody>\n",
       "</table>\n",
       "</div>"
      ],
      "text/plain": [
       "        compactness  surface-area   wall-area   roof-area  overall-height  \\\n",
       "count    768.000000    768.000000  768.000000  768.000000       768.00000   \n",
       "unique          NaN           NaN         NaN         NaN             NaN   \n",
       "top             NaN           NaN         NaN         NaN             NaN   \n",
       "freq            NaN           NaN         NaN         NaN             NaN   \n",
       "mean       0.764167    671.708333  318.500000  176.604167         5.25000   \n",
       "std        0.105777     88.086116   43.626481   45.165950         1.75114   \n",
       "min        0.620000    514.500000  245.000000  110.250000         3.50000   \n",
       "25%        0.682500    606.375000  294.000000  140.875000         3.50000   \n",
       "50%        0.750000    673.750000  318.500000  183.750000         5.25000   \n",
       "75%        0.830000    741.125000  343.000000  220.500000         7.00000   \n",
       "max        0.980000    808.500000  416.500000  220.500000         7.00000   \n",
       "\n",
       "        orientation  glazing-area  glazing-dist  heating-load  cooling-load  \\\n",
       "count         768.0    768.000000     768.00000    768.000000    768.000000   \n",
       "unique          4.0           NaN           NaN           NaN           NaN   \n",
       "top             2.0           NaN           NaN           NaN           NaN   \n",
       "freq          192.0           NaN           NaN           NaN           NaN   \n",
       "mean            NaN      0.234375       2.81250     22.307195     24.587760   \n",
       "std             NaN      0.133221       1.55096     10.090204      9.513306   \n",
       "min             NaN      0.000000       0.00000      6.010000     10.900000   \n",
       "25%             NaN      0.100000       1.75000     12.992500     15.620000   \n",
       "50%             NaN      0.250000       3.00000     18.950000     22.080000   \n",
       "75%             NaN      0.400000       4.00000     31.667500     33.132500   \n",
       "max             NaN      0.400000       5.00000     43.100000     48.030000   \n",
       "\n",
       "        heat-cat  cool-cat  \n",
       "count      768.0     768.0  \n",
       "unique      37.0      39.0  \n",
       "top         12.0      14.0  \n",
       "freq        84.0      82.0  \n",
       "mean         NaN       NaN  \n",
       "std          NaN       NaN  \n",
       "min          NaN       NaN  \n",
       "25%          NaN       NaN  \n",
       "50%          NaN       NaN  \n",
       "75%          NaN       NaN  \n",
       "max          NaN       NaN  "
      ]
     },
     "execution_count": 11,
     "metadata": {},
     "output_type": "execute_result"
    }
   ],
   "source": [
    "data['orientation'] = data['orientation'].astype('category')\n",
    "data['heat-cat'] = data['heat-cat'].astype('category')\n",
    "data['cool-cat'] = data['cool-cat'].astype('category')\n",
    "data.describe(include=\"all\")"
   ]
  },
  {
   "cell_type": "code",
   "execution_count": 12,
   "metadata": {},
   "outputs": [
    {
     "name": "stdout",
     "output_type": "stream",
     "text": [
      "Duplikasi =  0\n",
      "compactness       0\n",
      "surface-area      0\n",
      "wall-area         0\n",
      "roof-area         0\n",
      "overall-height    0\n",
      "orientation       0\n",
      "glazing-area      0\n",
      "glazing-dist      0\n",
      "heating-load      0\n",
      "cooling-load      0\n",
      "heat-cat          0\n",
      "cool-cat          0\n",
      "dtype: int64\n"
     ]
    }
   ],
   "source": [
    "print(\"Duplikasi = \", data.duplicated().sum())\n",
    "print(data.isnull().sum())"
   ]
  },
  {
   "cell_type": "code",
   "execution_count": 13,
   "metadata": {},
   "outputs": [
    {
     "data": {
      "image/png": "[encoded data removed]",
      "text/plain": [
       "<Figure size 772.175x720 with 20 Axes>"
      ]
     },
     "metadata": {},
     "output_type": "display_data"
    }
   ],
   "source": [
    "# Warning agak lambat karena plot yg di generate cukup banyak \n",
    "col_ = \"surface-area wall-area roof-area overall-height heat-cat\".split()\n",
    "p = sns.pairplot(data[col_], hue=\"heat-cat\")"
   ]
  },
  {
   "cell_type": "code",
   "execution_count": 14,
   "metadata": {},
   "outputs": [
    {
     "name": "stdout",
     "output_type": "stream",
     "text": [
      "12    84\n",
      "14    67\n",
      "32    56\n",
      "11    45\n",
      "15    45\n",
      "10    43\n",
      "28    43\n",
      "29    38\n",
      "36    31\n",
      "24    31\n",
      "16    27\n",
      "13    26\n",
      "35    20\n",
      "17    17\n",
      "39    16\n",
      "40    16\n",
      "26    16\n",
      "25    16\n",
      "19    13\n",
      "33    12\n",
      "31    12\n",
      "6     12\n",
      "23    12\n",
      "18    10\n",
      "41    10\n",
      "38     9\n",
      "42     8\n",
      "27     5\n",
      "22     5\n",
      "37     5\n",
      "7      4\n",
      "34     4\n",
      "8      4\n",
      "30     2\n",
      "20     2\n",
      "21     1\n",
      "43     1\n",
      "Name: heat-cat, dtype: int64\n"
     ]
    },
    {
     "data": {
      "image/png": "[encoded data removed]",
      "text/plain": [
       "<Figure size 432x288 with 1 Axes>"
      ]
     },
     "metadata": {},
     "output_type": "display_data"
    }
   ],
   "source": [
    "# Challenge of the prediction\n",
    "print(data[\"heat-cat\"].value_counts())\n",
    "p = sns.countplot(x=\"heat-cat\", data=data)"
   ]
  },
  {
   "cell_type": "code",
   "execution_count": 15,
   "metadata": {},
   "outputs": [
    {
     "data": {
      "text/plain": [
       "2    192\n",
       "3    192\n",
       "4    192\n",
       "5    192\n",
       "Name: orientation, dtype: int64"
      ]
     },
     "execution_count": 15,
     "metadata": {},
     "output_type": "execute_result"
    }
   ],
   "source": [
    "data[\"orientation\"].value_counts()"
   ]
  },
  {
   "cell_type": "code",
   "execution_count": 16,
   "metadata": {},
   "outputs": [
    {
     "data": {
      "text/html": [
       "<div>\n",
       "<style scoped>\n",
       "    .dataframe tbody tr th:only-of-type {\n",
       "        vertical-align: middle;\n",
       "    }\n",
       "\n",
       "    .dataframe tbody tr th {\n",
       "        vertical-align: top;\n",
       "    }\n",
       "\n",
       "    .dataframe thead th {\n",
       "        text-align: right;\n",
       "    }\n",
       "</style>\n",
       "<table border=\"1\" class=\"dataframe\">\n",
       "  <thead>\n",
       "    <tr style=\"text-align: right;\">\n",
       "      <th></th>\n",
       "      <th>compactness</th>\n",
       "      <th>surface-area</th>\n",
       "      <th>wall-area</th>\n",
       "      <th>roof-area</th>\n",
       "      <th>overall-height</th>\n",
       "      <th>orientation</th>\n",
       "      <th>glazing-area</th>\n",
       "      <th>glazing-dist</th>\n",
       "      <th>heating-load</th>\n",
       "      <th>cooling-load</th>\n",
       "      <th>heat-cat</th>\n",
       "      <th>cool-cat</th>\n",
       "      <th>ori_2</th>\n",
       "      <th>ori_3</th>\n",
       "      <th>ori_4</th>\n",
       "      <th>ori_5</th>\n",
       "    </tr>\n",
       "  </thead>\n",
       "  <tbody>\n",
       "    <tr>\n",
       "      <th>0</th>\n",
       "      <td>0.98</td>\n",
       "      <td>514.5</td>\n",
       "      <td>294.0</td>\n",
       "      <td>110.25</td>\n",
       "      <td>7.0</td>\n",
       "      <td>2</td>\n",
       "      <td>0.0</td>\n",
       "      <td>0</td>\n",
       "      <td>15.55</td>\n",
       "      <td>21.33</td>\n",
       "      <td>15</td>\n",
       "      <td>21</td>\n",
       "      <td>1</td>\n",
       "      <td>0</td>\n",
       "      <td>0</td>\n",
       "      <td>0</td>\n",
       "    </tr>\n",
       "    <tr>\n",
       "      <th>1</th>\n",
       "      <td>0.98</td>\n",
       "      <td>514.5</td>\n",
       "      <td>294.0</td>\n",
       "      <td>110.25</td>\n",
       "      <td>7.0</td>\n",
       "      <td>3</td>\n",
       "      <td>0.0</td>\n",
       "      <td>0</td>\n",
       "      <td>15.55</td>\n",
       "      <td>21.33</td>\n",
       "      <td>15</td>\n",
       "      <td>21</td>\n",
       "      <td>0</td>\n",
       "      <td>1</td>\n",
       "      <td>0</td>\n",
       "      <td>0</td>\n",
       "    </tr>\n",
       "    <tr>\n",
       "      <th>2</th>\n",
       "      <td>0.98</td>\n",
       "      <td>514.5</td>\n",
       "      <td>294.0</td>\n",
       "      <td>110.25</td>\n",
       "      <td>7.0</td>\n",
       "      <td>4</td>\n",
       "      <td>0.0</td>\n",
       "      <td>0</td>\n",
       "      <td>15.55</td>\n",
       "      <td>21.33</td>\n",
       "      <td>15</td>\n",
       "      <td>21</td>\n",
       "      <td>0</td>\n",
       "      <td>0</td>\n",
       "      <td>1</td>\n",
       "      <td>0</td>\n",
       "    </tr>\n",
       "    <tr>\n",
       "      <th>3</th>\n",
       "      <td>0.98</td>\n",
       "      <td>514.5</td>\n",
       "      <td>294.0</td>\n",
       "      <td>110.25</td>\n",
       "      <td>7.0</td>\n",
       "      <td>5</td>\n",
       "      <td>0.0</td>\n",
       "      <td>0</td>\n",
       "      <td>15.55</td>\n",
       "      <td>21.33</td>\n",
       "      <td>15</td>\n",
       "      <td>21</td>\n",
       "      <td>0</td>\n",
       "      <td>0</td>\n",
       "      <td>0</td>\n",
       "      <td>1</td>\n",
       "    </tr>\n",
       "    <tr>\n",
       "      <th>4</th>\n",
       "      <td>0.90</td>\n",
       "      <td>563.5</td>\n",
       "      <td>318.5</td>\n",
       "      <td>122.50</td>\n",
       "      <td>7.0</td>\n",
       "      <td>2</td>\n",
       "      <td>0.0</td>\n",
       "      <td>0</td>\n",
       "      <td>20.84</td>\n",
       "      <td>28.28</td>\n",
       "      <td>20</td>\n",
       "      <td>28</td>\n",
       "      <td>1</td>\n",
       "      <td>0</td>\n",
       "      <td>0</td>\n",
       "      <td>0</td>\n",
       "    </tr>\n",
       "  </tbody>\n",
       "</table>\n",
       "</div>"
      ],
      "text/plain": [
       "   compactness  surface-area  wall-area  roof-area  overall-height  \\\n",
       "0         0.98         514.5      294.0     110.25             7.0   \n",
       "1         0.98         514.5      294.0     110.25             7.0   \n",
       "2         0.98         514.5      294.0     110.25             7.0   \n",
       "3         0.98         514.5      294.0     110.25             7.0   \n",
       "4         0.90         563.5      318.5     122.50             7.0   \n",
       "\n",
       "  orientation  glazing-area  glazing-dist  heating-load  cooling-load  \\\n",
       "0           2           0.0             0         15.55         21.33   \n",
       "1           3           0.0             0         15.55         21.33   \n",
       "2           4           0.0             0         15.55         21.33   \n",
       "3           5           0.0             0         15.55         21.33   \n",
       "4           2           0.0             0         20.84         28.28   \n",
       "\n",
       "  heat-cat cool-cat  ori_2  ori_3  ori_4  ori_5  \n",
       "0       15       21      1      0      0      0  \n",
       "1       15       21      0      1      0      0  \n",
       "2       15       21      0      0      1      0  \n",
       "3       15       21      0      0      0      1  \n",
       "4       20       28      1      0      0      0  "
      ]
     },
     "execution_count": 16,
     "metadata": {},
     "output_type": "execute_result"
    }
   ],
   "source": [
    "# One-hot encoding, lalu menggabungkan dengan data awal\n",
    "dum_ = pd.get_dummies(data['orientation'], prefix='ori')\n",
    "data = pd.concat([data, dum_], axis = 1)\n",
    "data.head()"
   ]
  },
  {
   "cell_type": "code",
   "execution_count": 17,
   "metadata": {},
   "outputs": [
    {
     "data": {
      "text/html": [
       "<div>\n",
       "<style scoped>\n",
       "    .dataframe tbody tr th:only-of-type {\n",
       "        vertical-align: middle;\n",
       "    }\n",
       "\n",
       "    .dataframe tbody tr th {\n",
       "        vertical-align: top;\n",
       "    }\n",
       "\n",
       "    .dataframe thead th {\n",
       "        text-align: right;\n",
       "    }\n",
       "</style>\n",
       "<table border=\"1\" class=\"dataframe\">\n",
       "  <thead>\n",
       "    <tr style=\"text-align: right;\">\n",
       "      <th></th>\n",
       "      <th>compactness</th>\n",
       "      <th>surface-area</th>\n",
       "      <th>wall-area</th>\n",
       "      <th>roof-area</th>\n",
       "      <th>overall-height</th>\n",
       "      <th>ori_2</th>\n",
       "      <th>ori_3</th>\n",
       "      <th>ori_4</th>\n",
       "      <th>ori_5</th>\n",
       "      <th>glazing-area</th>\n",
       "      <th>glazing-dist</th>\n",
       "    </tr>\n",
       "  </thead>\n",
       "  <tbody>\n",
       "    <tr>\n",
       "      <th>0</th>\n",
       "      <td>0.98</td>\n",
       "      <td>514.5</td>\n",
       "      <td>294.0</td>\n",
       "      <td>110.25</td>\n",
       "      <td>7.0</td>\n",
       "      <td>1</td>\n",
       "      <td>0</td>\n",
       "      <td>0</td>\n",
       "      <td>0</td>\n",
       "      <td>0.0</td>\n",
       "      <td>0</td>\n",
       "    </tr>\n",
       "    <tr>\n",
       "      <th>1</th>\n",
       "      <td>0.98</td>\n",
       "      <td>514.5</td>\n",
       "      <td>294.0</td>\n",
       "      <td>110.25</td>\n",
       "      <td>7.0</td>\n",
       "      <td>0</td>\n",
       "      <td>1</td>\n",
       "      <td>0</td>\n",
       "      <td>0</td>\n",
       "      <td>0.0</td>\n",
       "      <td>0</td>\n",
       "    </tr>\n",
       "    <tr>\n",
       "      <th>2</th>\n",
       "      <td>0.98</td>\n",
       "      <td>514.5</td>\n",
       "      <td>294.0</td>\n",
       "      <td>110.25</td>\n",
       "      <td>7.0</td>\n",
       "      <td>0</td>\n",
       "      <td>0</td>\n",
       "      <td>1</td>\n",
       "      <td>0</td>\n",
       "      <td>0.0</td>\n",
       "      <td>0</td>\n",
       "    </tr>\n",
       "    <tr>\n",
       "      <th>3</th>\n",
       "      <td>0.98</td>\n",
       "      <td>514.5</td>\n",
       "      <td>294.0</td>\n",
       "      <td>110.25</td>\n",
       "      <td>7.0</td>\n",
       "      <td>0</td>\n",
       "      <td>0</td>\n",
       "      <td>0</td>\n",
       "      <td>1</td>\n",
       "      <td>0.0</td>\n",
       "      <td>0</td>\n",
       "    </tr>\n",
       "    <tr>\n",
       "      <th>4</th>\n",
       "      <td>0.90</td>\n",
       "      <td>563.5</td>\n",
       "      <td>318.5</td>\n",
       "      <td>122.50</td>\n",
       "      <td>7.0</td>\n",
       "      <td>1</td>\n",
       "      <td>0</td>\n",
       "      <td>0</td>\n",
       "      <td>0</td>\n",
       "      <td>0.0</td>\n",
       "      <td>0</td>\n",
       "    </tr>\n",
       "  </tbody>\n",
       "</table>\n",
       "</div>"
      ],
      "text/plain": [
       "   compactness  surface-area  wall-area  roof-area  overall-height  ori_2  \\\n",
       "0         0.98         514.5      294.0     110.25             7.0      1   \n",
       "1         0.98         514.5      294.0     110.25             7.0      0   \n",
       "2         0.98         514.5      294.0     110.25             7.0      0   \n",
       "3         0.98         514.5      294.0     110.25             7.0      0   \n",
       "4         0.90         563.5      318.5     122.50             7.0      1   \n",
       "\n",
       "   ori_3  ori_4  ori_5  glazing-area  glazing-dist  \n",
       "0      0      0      0           0.0             0  \n",
       "1      1      0      0           0.0             0  \n",
       "2      0      1      0           0.0             0  \n",
       "3      0      0      1           0.0             0  \n",
       "4      0      0      0           0.0             0  "
      ]
     },
     "execution_count": 17,
     "metadata": {},
     "output_type": "execute_result"
    }
   ],
   "source": [
    "df2A = data[['compactness', 'surface-area', 'wall-area', 'roof-area', \\\n",
    "            'overall-height','orientation','glazing-area','glazing-dist']]\n",
    "df2B = data[['compactness', 'surface-area', 'wall-area', 'roof-area', \\\n",
    "            'overall-height','ori_2', 'ori_3', 'ori_4', 'ori_5','glazing-area','glazing-dist']]\n",
    "y2 = data['heat-cat']\n",
    "df2B.head()"
   ]
  },
  {
   "cell_type": "markdown",
   "metadata": {},
   "source": [
    "# <center><font color=\"blue\">Sebelum dimulai Data Kita Pisahkan Menjadi Train dan Test: Mengapa?</font></center>\n",
    "\n",
    "<p><img src=\"images/data train val test separation.png\" width=\"416\" height=\"327\" /></p>\n",
    "\n",
    "* Bagaimana membagi Porsi Train VS Porsi Test Data?\n",
    "* <font color=\"red\">**Hati-hati** dalam memisahkan data Train dan Test: Mengapa?</font>"
   ]
  },
  {
   "cell_type": "code",
   "execution_count": 18,
   "metadata": {},
   "outputs": [
    {
     "name": "stdout",
     "output_type": "stream",
     "text": [
      "(104, 4) (45, 4)\n",
      "(537, 8) (231, 8)\n"
     ]
    }
   ],
   "source": [
    "df1_train, df1_test, y1_train, y1_test = train_test_split(df1, y1, test_size=0.3, random_state=33)\n",
    "df2A_train, df2A_test, y2_train, y2_test = train_test_split(df2A, y2, test_size=0.3, random_state=33) #No One-Hot\n",
    "df2B_train, df2B_test, y2_train, y2_test = train_test_split(df2B, y2, test_size=0.3, random_state=33) # One-Hot\n",
    "print(df1_train.shape, df1_test.shape)\n",
    "print(df2A_train.shape, df2A_test.shape)"
   ]
  },
  {
   "cell_type": "markdown",
   "metadata": {},
   "source": [
    "# <center><font color=\"blue\">Sampel ke Populasi: Underfitting dan overfitting</font></center>\n",
    "\n",
    "<img src=\"images/under-over_Fitting.jpg\" alt=\"\" width=\"564\" height=\"568\" />"
   ]
  },
  {
   "cell_type": "markdown",
   "metadata": {},
   "source": [
    "<p><img src=\"images/meme-cartoon/meme overfitting.png\" width=\"556\" height=\"282\" /></p>"
   ]
  },
  {
   "cell_type": "markdown",
   "metadata": {},
   "source": [
    "# <center><font color=\"blue\">Parsimoni: Simple is the Best</font></center>\n",
    "\n",
    "<img src=\"images/sweet_spot.png\" alt=\"\" width=\"538\" height=\"318\" />"
   ]
  },
  {
   "cell_type": "markdown",
   "metadata": {},
   "source": [
    "# <center><font color=\"blue\">k-Nearest Neighbour</font></center>\n",
    "\n",
    "<ul>\n",
    "<li>Classifier yang paling sederhana, namun dapat juga digunakan untuk regresi (dan bahkan clustering).</li>\n",
    "<li>Sering disebut sebagai <u><strong>Instance based Learner</strong></u></li>\n",
    "<li>Tidak memiliki \"persamaan\", pendekatannya lebih ke algoritmik berdasarkan konsep jarak/similarity</li>\n",
    "<li>Mirip konsep DBSCAN</li>\n",
    "</ul>\n",
    "<p><img src=\"images/6_kNN.JPG\" alt=\"\" width=\"702\" height=\"296\" /></p>"
   ]
  },
  {
   "cell_type": "markdown",
   "metadata": {},
   "source": [
    "# <center><font color=\"blue\">k-NN Neighbour Size & Weights</font></center>\n",
    "\n",
    "<p><img alt=\"\" src=\"images/k-NN_neighbour_size.png\" /></p>\n",
    "\n",
    "<ul>\n",
    "\t<li><big><strong>Uniform</strong></big>: all points in each neighborhood are weighted equally.</li>\n",
    "\t<li><big><strong>Distance</strong></big>: closer neighbors of a query point have a greater influence than the neighbors further away.</li>\n",
    "</ul>\n"
   ]
  },
  {
   "cell_type": "markdown",
   "metadata": {},
   "source": [
    "# <center><font color=\"blue\">Similarity VS Distance</font></center>\n",
    "\n",
    "<p><img src=\"images/other_Distance.gif\" alt=\"\" width=\"498\" height=\"236\" /></p>\n",
    "\n",
    "## Similarity explained in plain terms and its application in Python\n",
    "### http://dataaspirant.com/2015/04/11/five-most-popular-similarity-measures-implementation-in-python/"
   ]
  },
  {
   "cell_type": "markdown",
   "metadata": {},
   "source": [
    "# <center><font color=\"blue\">Kelebihan dan Kekurangan</font></center>\n",
    "\n",
    "<dl>\n",
    "\t<dt><strong>Pros:</strong></dt>\n",
    "\t<dd>\n",
    "\t<ul>\n",
    "\t\t<li>Relatif cepat (efisien) untuk data yang tidak terlalu besar</li>\n",
    "\t\t<li>Sederhana, mudah untuk diimplementasikan</li>\n",
    "\t\t<li>Mudah untuk di modifikasi: Berbagai macam formula jarak/similaritas</li>\n",
    "\t\t<li>Menangani data Multiclass dengan mudah</li>\n",
    "\t\t<li>Akurasi cukup baik jika data representatif</li>\n",
    "\t</ul>\n",
    "\t</dd>\n",
    "\t<dt><strong>Cons:</strong></dt>\n",
    "\t<dd>\n",
    "\t<ul>\n",
    "\t\t<li>Menemukan&nbsp;nearest neighbours tidak efisien untuk data besar</li>\n",
    "\t\t<li>Storage of data</li>\n",
    "\t\t<li>Meyakinkan rumus jarak yang tepat</li>\n",
    "\t</ul>\n",
    "\t</dd>\n",
    "</dl>\n",
    "\n",
    "## <font color=\"green\">Aplikasi di Python</font>"
   ]
  },
  {
   "cell_type": "code",
   "execution_count": 19,
   "metadata": {},
   "outputs": [
    {
     "name": "stdout",
     "output_type": "stream",
     "text": [
      "Done!\n"
     ]
    }
   ],
   "source": [
    "# k-NN: http://scikit-learn.org/stable/modules/neighbors.html\n",
    "n_neighbors = 3\n",
    "weights = 'distance'\n",
    "kNN = neighbors.KNeighborsClassifier(n_neighbors, weights=weights)\n",
    "kNN.fit(df1_train, y1_train)\n",
    "print('Done!')"
   ]
  },
  {
   "cell_type": "code",
   "execution_count": 20,
   "metadata": {},
   "outputs": [
    {
     "data": {
      "text/plain": [
       "array(['virginica', 'virginica', 'versicolor', 'versicolor', 'setosa',\n",
       "       'versicolor', 'versicolor', 'versicolor', 'setosa', 'setosa'],\n",
       "      dtype=object)"
      ]
     },
     "execution_count": 20,
     "metadata": {},
     "output_type": "execute_result"
    }
   ],
   "source": [
    "# Prediksi dengan k-NN\n",
    "y_kNN1 = kNN.predict(df1_test)\n",
    "y_kNN1[-10:]"
   ]
  },
  {
   "cell_type": "code",
   "execution_count": 42,
   "metadata": {},
   "outputs": [
    {
     "data": {
      "text/plain": [
       "array([13, 25, 29, 29, 29, 17, 10, 39, 10, 11], dtype=int64)"
      ]
     },
     "execution_count": 42,
     "metadata": {},
     "output_type": "execute_result"
    }
   ],
   "source": [
    "kNN = neighbors.KNeighborsClassifier(n_neighbors, weights=weights)\n",
    "kNN.fit(df2B_train, y2_train)\n",
    "y_kNN2 = kNN.predict(df2B_test)\n",
    "y_kNN2[-10:]"
   ]
  },
  {
   "cell_type": "markdown",
   "metadata": {},
   "source": [
    "# <center><font color=\"blue\">Seberapa Baik Hasil Prediksi Ini?: Evaluation Metrics</font></center>\n",
    "\n",
    "* https://scikit-learn.org/stable/modules/classes.html#module-sklearn.metrics\n",
    "    \n",
    "<center><img alt=\"\" src=\"images/classification_metrics.png\" style=\"height: 400px;\"/></center>"
   ]
  },
  {
   "cell_type": "markdown",
   "metadata": {},
   "source": [
    "# <center><font color=\"blue\">Confusion Matrix</font></center>\n",
    "\n",
    "<p><img alt=\"\" src=\"images/confusion_matrix.png\" /></p>\n",
    "\n",
    "<ul>\n",
    "\t<li>sensitivity, recall, hit rate, or true positive rate (TPR)</li>\n",
    "\t<li>precision or positive predictive value (PPV)</li>\n",
    "</ul>\n"
   ]
  },
  {
   "cell_type": "markdown",
   "metadata": {},
   "source": [
    "<p><img alt=\"\" src=\"images/ex-F1-Score.png\" /></p>\n",
    "* Yang mana kategori yang \"positif\"?"
   ]
  },
  {
   "cell_type": "markdown",
   "metadata": {},
   "source": [
    "<p><img alt=\"\" src=\"images/F-beta-Score.png\" /></p>\n",
    "\n",
    "* $0\\leq F\\leq 1$, 1 optimal value\n",
    "* $0\\leq\\beta< \\inf$\n",
    "* beta < 1 lends more weight to precision, \n",
    "* beta > 1 favors recall \n",
    "* beta -> 0 considers only precision \n",
    "* beta -> inf only recall"
   ]
  },
  {
   "cell_type": "markdown",
   "metadata": {},
   "source": [
    "# <center><font color=\"blue\">Micro VS Macro Metric</font></center>\n",
    "\n",
    "<p><img src=\"images/micro-vs-macro-f-score.png\" alt=\"\" width=\"790\" height=\"244\" /></p>\n",
    "\n",
    "### <font color=\"green\">Pada 2 kasus diatas:</font>\n",
    "* sebaiknya Micro atau macro?\n",
    "* Mana yang lebih penting Presisi atau Recall?"
   ]
  },
  {
   "cell_type": "code",
   "execution_count": 22,
   "metadata": {},
   "outputs": [
    {
     "name": "stdout",
     "output_type": "stream",
     "text": [
      "Kasus 01 - Bunga Iris: kNN\n",
      "[[11  0  0]\n",
      " [ 0 15  0]\n",
      " [ 0  2 17]]\n",
      "              precision    recall  f1-score   support\n",
      "\n",
      "      setosa       1.00      1.00      1.00        11\n",
      "  versicolor       0.88      1.00      0.94        15\n",
      "   virginica       1.00      0.89      0.94        19\n",
      "\n",
      "    accuracy                           0.96        45\n",
      "   macro avg       0.96      0.96      0.96        45\n",
      "weighted avg       0.96      0.96      0.96        45\n",
      "\n"
     ]
    }
   ],
   "source": [
    "print(\"Kasus 01 - Bunga Iris: kNN\")\n",
    "print(confusion_matrix(y1_test, y_kNN1))\n",
    "print(classification_report(y1_test, y_kNN1))"
   ]
  },
  {
   "cell_type": "code",
   "execution_count": 23,
   "metadata": {},
   "outputs": [
    {
     "name": "stdout",
     "output_type": "stream",
     "text": [
      "Kasus 02 - Building Energy\n",
      "[[1 0 0 ... 0 0 0]\n",
      " [0 1 0 ... 0 0 0]\n",
      " [0 0 0 ... 0 0 0]\n",
      " ...\n",
      " [0 0 0 ... 0 0 1]\n",
      " [0 0 0 ... 0 1 0]\n",
      " [0 0 0 ... 1 0 0]]\n",
      "              precision    recall  f1-score   support\n",
      "\n",
      "           6       1.00      0.33      0.50         3\n",
      "           7       1.00      0.50      0.67         2\n",
      "           8       0.00      0.00      0.00         1\n",
      "          10       0.13      0.15      0.14        13\n",
      "          11       0.15      0.14      0.15        14\n",
      "          12       0.06      0.08      0.07        25\n",
      "          13       0.06      0.12      0.08         8\n",
      "          14       0.00      0.00      0.00        22\n",
      "          15       0.22      0.17      0.19        12\n",
      "          16       0.18      0.25      0.21         8\n",
      "          17       0.00      0.00      0.00         2\n",
      "          18       0.00      0.00      0.00         1\n",
      "          19       0.00      0.00      0.00         5\n",
      "          20       0.00      0.00      0.00         1\n",
      "          21       0.00      0.00      0.00         1\n",
      "          22       0.00      0.00      0.00         1\n",
      "          23       0.00      0.00      0.00         6\n",
      "          24       0.07      0.12      0.09         8\n",
      "          25       0.00      0.00      0.00         2\n",
      "          26       0.00      0.00      0.00         6\n",
      "          27       0.00      0.00      0.00         1\n",
      "          28       0.08      0.06      0.07        16\n",
      "          29       0.00      0.00      0.00        11\n",
      "          30       0.00      0.00      0.00         1\n",
      "          31       0.00      0.00      0.00         3\n",
      "          32       0.06      0.07      0.07        14\n",
      "          33       0.00      0.00      0.00         5\n",
      "          34       0.00      0.00      0.00         2\n",
      "          35       0.25      0.14      0.18         7\n",
      "          36       0.00      0.00      0.00        10\n",
      "          37       0.00      0.00      0.00         3\n",
      "          38       1.00      0.17      0.29         6\n",
      "          39       0.00      0.00      0.00         3\n",
      "          40       0.00      0.00      0.00         4\n",
      "          41       0.33      0.33      0.33         3\n",
      "          42       0.00      0.00      0.00         1\n",
      "\n",
      "    accuracy                           0.08       231\n",
      "   macro avg       0.13      0.07      0.08       231\n",
      "weighted avg       0.11      0.08      0.09       231\n",
      "\n"
     ]
    }
   ],
   "source": [
    "print(\"Kasus 02 - Building Energy\")\n",
    "print(confusion_matrix(y2_test, y_kNN2))\n",
    "print(classification_report(y2_test, y_kNN2))"
   ]
  },
  {
   "cell_type": "markdown",
   "metadata": {},
   "source": [
    "# <center><font color=\"blue\">Cross Validation</font></center>\n",
    "\n",
    "* Evaluasi yang kita lakukan belum cukup valid/objektif ... Mengapa?\n",
    "\n",
    "<img alt=\"\" src=\"images/6_Cross_validation.png\" />"
   ]
  },
  {
   "cell_type": "code",
   "execution_count": 24,
   "metadata": {},
   "outputs": [
    {
     "name": "stdout",
     "output_type": "stream",
     "text": [
      "Accuracy k-NN: 0.97 (+/- 0.09), Waktu = 0.204 detik\n"
     ]
    }
   ],
   "source": [
    "# Cross validation\n",
    "# Perhatikan variabelnya, kita sekarang menggunakan seluruh data\n",
    "# namun sebaiknya hanya Train data (jika datanya cukup besar)\n",
    "# http://scikit-learn.org/stable/modules/generated/sklearn.model_selection.cross_val_score.html\n",
    "kNN = neighbors.KNeighborsClassifier(n_neighbors, weights=weights)\n",
    "mulai = time.time()\n",
    "scores_kNN = cross_val_score(kNN, df1, y1, cv=10)\n",
    "waktu = time.time() - mulai\n",
    "# Interval Akurasi 95 CI \n",
    "print(\"Accuracy k-NN: %0.2f (+/- %0.2f), Waktu = %0.3f detik\" % (scores_kNN.mean(), scores_kNN.std() * 2, waktu))"
   ]
  },
  {
   "cell_type": "code",
   "execution_count": 25,
   "metadata": {},
   "outputs": [
    {
     "data": {
      "text/plain": [
       "0.8666666666666667"
      ]
     },
     "execution_count": 25,
     "metadata": {},
     "output_type": "execute_result"
    },
    {
     "data": {
      "image/png": "[encoded data removed]",
      "text/plain": [
       "<Figure size 432x288 with 1 Axes>"
      ]
     },
     "metadata": {},
     "output_type": "display_data"
    }
   ],
   "source": [
    "# Visualisasi untuk mengevaluasi model dengan lebih baik lagi\n",
    "df_ = pd.DataFrame({'kNN': scores_kNN})\n",
    "p = sns.boxplot(data = df_)\n",
    "min(scores_kNN)"
   ]
  },
  {
   "cell_type": "markdown",
   "metadata": {
    "slideshow": {
     "slide_type": "slide"
    }
   },
   "source": [
    "# <center><font color=\"blue\">Klasifikasi dengan Model Regresi Logistik</font></center>\n",
    "\n",
    "<p><img alt=\"\" src=\"images/klas_regLogistik.png\" /></p>\n",
    "\n",
    "* Mencari garis lurus yang sedemikian sehingga kesalahan prediksinya sekecil mungkin (lihat gambar)\n",
    "* Awalnya regresi logistik adalah metode klasifikasi binary: membedakan antara 2 kelas atau kategori.\n",
    "* Masalah klasifikasi binary contohnya memprediksi seseorang terkena \"kanker\" atau \"tidak kanker\", kanker jinak/ganas, fraud atau bukan fraud (pada transaksi keuangan), negatif/positif dalam sentimen analisis, dsb.\n",
    "* Regresi logistik adalah pengembangan dari model regresi liniear, namun di konversi ke masalah klasifikasi."
   ]
  },
  {
   "cell_type": "markdown",
   "metadata": {
    "slideshow": {
     "slide_type": "slide"
    }
   },
   "source": [
    "# <center><font color=\"blue\">Regresi Logistik</font></center>\n",
    "\n",
    "<p><img src=\"images/reg_to_log.png\" alt=\"\" width=\"591\" height=\"298\" /></p>\n",
    "\n",
    "* http://www.saedsayad.com/logistic_regression.htm\n",
    "* Makna fungsi logarithm?\n",
    "* Konsekuensi dari rumus $\\beta$ diatas?\n",
    "* Asumsi?"
   ]
  },
  {
   "cell_type": "markdown",
   "metadata": {},
   "source": [
    "# <center><font color=\"blue\">Kaitan Regresi Logistik dan Neural Network/Deep Learning</font></center>\n",
    "\n",
    "<p><img src=\"images/logReg_NN_DL.png\" alt=\"\" width=\"262\" height=\"263\" /></p>"
   ]
  },
  {
   "cell_type": "markdown",
   "metadata": {
    "slideshow": {
     "slide_type": "slide"
    }
   },
   "source": [
    "<p><img src=\"images/Fungsi_Sigmoid_.png\" alt=\"\" width=\"624\" height=\"416\" /></p>"
   ]
  },
  {
   "cell_type": "markdown",
   "metadata": {
    "slideshow": {
     "slide_type": "slide"
    }
   },
   "source": [
    "# <center><font color=\"blue\">Kelebihan dan Kekurangan Regresi Logistik</font></center>\n",
    "\n",
    "<p><img alt=\"\" src=\"images/LogReg_When2use.png\" /></p>\n"
   ]
  },
  {
   "cell_type": "code",
   "execution_count": 26,
   "metadata": {},
   "outputs": [
    {
     "name": "stdout",
     "output_type": "stream",
     "text": [
      "Kasus 01 - Bunga Iris: Regresi Logistik\n",
      "[[11  0  0]\n",
      " [ 0 15  0]\n",
      " [ 0  3 16]]\n",
      "              precision    recall  f1-score   support\n",
      "\n",
      "      setosa       1.00      1.00      1.00        11\n",
      "  versicolor       0.83      1.00      0.91        15\n",
      "   virginica       1.00      0.84      0.91        19\n",
      "\n",
      "    accuracy                           0.93        45\n",
      "   macro avg       0.94      0.95      0.94        45\n",
      "weighted avg       0.94      0.93      0.93        45\n",
      "\n"
     ]
    }
   ],
   "source": [
    "reglog = LogisticRegression().fit(df1_train, y1_train)\n",
    "y_reglog1 = reglog.predict(df1_test)\n",
    "print(\"Kasus 01 - Bunga Iris: Regresi Logistik\")\n",
    "print(confusion_matrix(y1_test, y_reglog1))\n",
    "print(classification_report(y1_test, y_reglog1))"
   ]
  },
  {
   "cell_type": "code",
   "execution_count": 27,
   "metadata": {},
   "outputs": [
    {
     "name": "stdout",
     "output_type": "stream",
     "text": [
      "Accuracy Regresi Logistik: 0.97 (+/- 0.07), Waktu = 1.103 detik\n"
     ]
    }
   ],
   "source": [
    "mulai = time.time()\n",
    "scores_regLog = cross_val_score(reglog, df1, y1, cv=10) # perhatikan sekarang kita menggunakan seluruh data\n",
    "waktu = time.time() - mulai\n",
    "print(\"Accuracy Regresi Logistik: %0.2f (+/- %0.2f), Waktu = %0.3f detik\" % (scores_regLog.mean(), scores_regLog.std() * 2, waktu))"
   ]
  },
  {
   "cell_type": "code",
   "execution_count": 28,
   "metadata": {},
   "outputs": [
    {
     "data": {
      "text/plain": [
       "kNN       0.866667\n",
       "RegLog    0.933333\n",
       "dtype: float64"
      ]
     },
     "execution_count": 28,
     "metadata": {},
     "output_type": "execute_result"
    },
    {
     "data": {
      "image/png": "[encoded data removed]",
      "text/plain": [
       "<Figure size 432x288 with 1 Axes>"
      ]
     },
     "metadata": {},
     "output_type": "display_data"
    }
   ],
   "source": [
    "# Visualisasi untuk mengevaluasi & membandingkan model dengan lebih baik lagi\n",
    "df_ = pd.DataFrame({'kNN': scores_kNN, 'RegLog': scores_regLog})\n",
    "p = sns.boxplot(data = df_)\n",
    "df_.min()"
   ]
  },
  {
   "cell_type": "markdown",
   "metadata": {
    "slideshow": {
     "slide_type": "slide"
    }
   },
   "source": [
    "# <center><font color=\"blue\">Naive Bayes Classifier</font></center>\n",
    "\n",
    "<img alt=\"\" src=\"images/naive_bayes.png\" style=\"width: 400px ; height: 220px\" />\n",
    "\n",
    "* P(x) konstan, sehingga bisa diabaikan.\n",
    "* Asumsi terkuatnya adalah independensi antar variabel prediktor (sehingga dikatakan &quot;Naive&quot;)\n",
    "* Klasifikasi dilakukan dengan menghitung probabilitas untuk setiap kategori ketika diberikan data x = (x1,x2,...,xm)\n",
    "* Variasi NBC adalah bagaimana P(c|x) dihitung, misal dengan distribusi Gaussian (Normal) - sering disebut sebagai Gaussian Naive Bayes (GNB):\n",
    "\n",
    "<img alt=\"\" src=\"images/Gaussian.png\" style=\"width: 303px ; height: 50px\" />\n",
    "\n",
    "* Self readings: \n",
    " * https://www.saedsayad.com/naive_bayesian.htm\n",
    " * https://machinelearningmastery.com/naive-bayes-classifier-scratch-python/"
   ]
  },
  {
   "cell_type": "markdown",
   "metadata": {
    "slideshow": {
     "slide_type": "slide"
    }
   },
   "source": [
    "# <center><font color=\"blue\">Kelebihan dan Kekurangan Naive Bayes Classifier</font></center>\n",
    "\n",
    "<p><em><strong>Pros:</strong></em></p>\n",
    "\n",
    "<ul>\n",
    "\t<li>Cepat dan mudah di implementasikan</li>\n",
    "\t<li>Cocok untuk permasalahan multiclass</li>\n",
    "\t<li>Jika asumsi terpenuhi (independent) biasanya performanya cukup baik dan membutuhkan data (training) yang lebih sedikit.</li>\n",
    "\t<li>Biasanya baik digunakan untuk prediktor kategorik, untuk numerik NBC mengasumsikan distribusi normal (terkadang tidak terpenuhi)&nbsp;</li>\n",
    "</ul>\n",
    "\n",
    "<p><em><strong>Cons:</strong></em></p>\n",
    "\n",
    "<ul>\n",
    "\t<li>Jika di test data memuat kategori yang tidak ada di training data ( ==&gt; probabilitas = 0). Sering disebut sebagai masalah&nbsp; &ldquo;Zero Frequency&rdquo;.&nbsp;</li>\n",
    "\t<li>Asumsi yang sangat kuat (independen antar prediktor).</li>\n",
    "</ul>\n"
   ]
  },
  {
   "cell_type": "markdown",
   "metadata": {
    "slideshow": {
     "slide_type": "slide"
    }
   },
   "source": [
    "# <center><font color=\"blue\">Naive Bayes di Social Media Analytics</font></center>\n",
    "\n",
    "* Sentiment Analysis\n",
    "\n",
    "<p><img alt=\"\" src=\"images/SNA_Graph_Types.png\" />"
   ]
  },
  {
   "cell_type": "code",
   "execution_count": 29,
   "metadata": {},
   "outputs": [
    {
     "name": "stdout",
     "output_type": "stream",
     "text": [
      "[[11  0  0]\n",
      " [ 0 15  0]\n",
      " [ 0  2 17]]\n",
      "              precision    recall  f1-score   support\n",
      "\n",
      "      setosa       1.00      1.00      1.00        11\n",
      "  versicolor       0.88      1.00      0.94        15\n",
      "   virginica       1.00      0.89      0.94        19\n",
      "\n",
      "    accuracy                           0.96        45\n",
      "   macro avg       0.96      0.96      0.96        45\n",
      "weighted avg       0.96      0.96      0.96        45\n",
      "\n"
     ]
    }
   ],
   "source": [
    "# Naive Bayes: http://scikit-learn.org/stable/modules/naive_bayes.html\n",
    "\n",
    "gnb = GaussianNB()\n",
    "nbc = gnb.fit(df1_train, y1_train)\n",
    "y_nb1 = nbc.predict(df1_test)\n",
    "\n",
    "print(confusion_matrix(y1_test, y_nb1))\n",
    "print(classification_report(y1_test, y_nb1))"
   ]
  },
  {
   "cell_type": "code",
   "execution_count": 30,
   "metadata": {},
   "outputs": [
    {
     "name": "stdout",
     "output_type": "stream",
     "text": [
      "Accuracy Naive Bayes: 0.95 (+/- 0.09), Waktu = 0.179 detik\n"
     ]
    }
   ],
   "source": [
    "mulai = time.time()\n",
    "scores_nb = cross_val_score(nbc, df1, y1, cv=10) # perhatikan sekarang kita menggunakan seluruh data\n",
    "waktu = time.time() - mulai\n",
    "print(\"Accuracy Naive Bayes: %0.2f (+/- %0.2f), Waktu = %0.3f detik\" % (scores_nb.mean(), scores_nb.std() * 2, waktu))"
   ]
  },
  {
   "cell_type": "code",
   "execution_count": 31,
   "metadata": {},
   "outputs": [
    {
     "data": {
      "text/plain": [
       "kNN         0.866667\n",
       "RegLog      0.933333\n",
       "NaiveBys    0.866667\n",
       "dtype: float64"
      ]
     },
     "execution_count": 31,
     "metadata": {},
     "output_type": "execute_result"
    },
    {
     "data": {
      "image/png": "[encoded data removed]",
      "text/plain": [
       "<Figure size 432x288 with 1 Axes>"
      ]
     },
     "metadata": {},
     "output_type": "display_data"
    }
   ],
   "source": [
    "# Visualisasi untuk mengevaluasi & membandingkan model dengan lebih baik lagi\n",
    "df_ = pd.DataFrame({'kNN': scores_kNN, 'RegLog': scores_regLog, 'NaiveBys':scores_nb})\n",
    "p = sns.boxplot(data = df_)\n",
    "df_.min()"
   ]
  },
  {
   "cell_type": "markdown",
   "metadata": {},
   "source": [
    "# <center><font color=\"blue\">Decision Tree Analogi</font></center>\n",
    "<img alt=\"\" src=\"images/meme-cartoon/6_DT_meme.png\" />"
   ]
  },
  {
   "cell_type": "markdown",
   "metadata": {},
   "source": [
    "# <center><font color=\"blue\">Decision Tree (Pohon Keputusan)</font></center>\n",
    "\n",
    "<img alt=\"\" src=\"images/tree_plot.png\" />"
   ]
  },
  {
   "cell_type": "markdown",
   "metadata": {
    "slideshow": {
     "slide_type": "slide"
    }
   },
   "source": [
    "# <center><font color=\"blue\">Decision Tree (Pohon Keputusan): Contoh Aplikasi</font></center>\n",
    "\n",
    "<img alt=\"\" src=\"images/6_DT.png\" />"
   ]
  },
  {
   "cell_type": "markdown",
   "metadata": {
    "slideshow": {
     "slide_type": "slide"
    }
   },
   "source": [
    "# <center><font color=\"blue\">Teori Decision Tree : Entropy Formula</font></center>\n",
    "<p><img alt=\"\" src=\"images/Entropy.png\" /></p>"
   ]
  },
  {
   "cell_type": "markdown",
   "metadata": {
    "slideshow": {
     "slide_type": "slide"
    }
   },
   "source": [
    "# <center><font color=\"blue\">Teori Decision Tree : Entropy Calculation</font></center>\n",
    "\n",
    "<p><img alt=\"\" src=\"images/Contoh_Entropy.png\" style=\"width: 469px; height: 339px;\" /></p>"
   ]
  },
  {
   "cell_type": "markdown",
   "metadata": {
    "slideshow": {
     "slide_type": "slide"
    }
   },
   "source": [
    "# <center><font color=\"blue\">Teori Decision Tree : Gain Formula</font></center>\n",
    "<p><img alt=\"\" src=\"images/Information_Gain.png\" /></p>"
   ]
  },
  {
   "cell_type": "markdown",
   "metadata": {
    "slideshow": {
     "slide_type": "slide"
    }
   },
   "source": [
    "# <center><font color=\"blue\">Teori Decision Tree : Gain Calculation</font></center>\n",
    "\n",
    "<p><img style=\"undefined: undefined;\" src=\"images/Contoh_Gain.png\" alt=\"\" width=\"527\" height=\"370\" /></p>\n",
    "<ul>\n",
    "<li>Contoh Lain: <a href=\"http://www.saedsayad.com/decision_tree.htm\" target=\"_blank\" rel=\"nofollow noopener\">http://www.saedsayad.com/decision_tree.htm</a></li>\n",
    "<li>Ross Quinlan Website: <a href=\"https://www.rulequest.com/Personal/\" target=\"_blank\" rel=\"nofollow noopener\">https://www.rulequest.com/Personal/</a></li>\n",
    "</ul>"
   ]
  },
  {
   "cell_type": "markdown",
   "metadata": {
    "slideshow": {
     "slide_type": "slide"
    }
   },
   "source": [
    "# <center><font color=\"blue\">Teori Decision Tree : Information theory</font></center>\n",
    "\n",
    "<p><img src=\"images/dec_Tree_Theory.png\" alt=\"\" width=\"594\" height=\"334\" /></p>\n",
    "<ul>\n",
    "<li>Alternative to Information Gain : Gini Index (CART): <a href=\"https://medium.com/deep-math-machine-learning-ai/chapter-4-decision-trees-algorithms-b93975f7a1f1\" target=\"_blank\" rel=\"nofollow noopener\">https://medium.com/deep-math-machine-learning-ai/chapter-4-decision-trees-algorithms-b93975f7a1f1</a></li>\n",
    "</ul>"
   ]
  },
  {
   "cell_type": "markdown",
   "metadata": {
    "slideshow": {
     "slide_type": "slide"
    }
   },
   "source": [
    "# <center><font color=\"blue\"> Pengaruh \"ketinggian\" tree terhadap bentuk model</font></center>\n",
    "\n",
    "<p><img alt=\"\" src=\"images/Dec_Tree_Asumsi_Depth.png\" /></p>"
   ]
  },
  {
   "cell_type": "markdown",
   "metadata": {
    "slideshow": {
     "slide_type": "slide"
    }
   },
   "source": [
    "# <center><font color=\"blue\">Decision Tree (Pohon Keputusan): Kelebihan & Kekurangan</font></center>\n",
    "\n",
    "<p><u><strong>When to use:</strong></u></p>\n",
    "\n",
    "<ul>\n",
    "\t<li>Target : Binomial/nominal.</li>\n",
    "\t<li>Predictors (input): binomial, nominal, and-or interval (ratio).</li>\n",
    "</ul>\n",
    "\n",
    "<p><u><strong>Advantage:</strong></u></p>\n",
    "\n",
    "<ul>\n",
    "\t<li>Fast and embarrassingly parallel.</li>\n",
    "\t<li>Tanpa iterasi, cocok untuk&nbsp;Big Data technology (e.g. Hadoop)[map-reduce friendly]</li>\n",
    "\t<li>Interpretability</li>\n",
    "\t<li>Robust terhadap outliers &amp; missing values</li>\n",
    "</ul>\n",
    "\n",
    "<p><u><strong>Disadvantage:</strong></u></p>\n",
    "\n",
    "<ul>\n",
    "\t<li>Non probabilistic (ad hoc heuristic) +/-</li>\n",
    "\t<li>Target dengan banyak kelas</li>\n",
    "\t<li>Sensitive (instability)</li>\n",
    "</ul>\n"
   ]
  },
  {
   "cell_type": "code",
   "execution_count": 32,
   "metadata": {
    "slideshow": {
     "slide_type": "slide"
    }
   },
   "outputs": [
    {
     "name": "stdout",
     "output_type": "stream",
     "text": [
      "[[11  0  0]\n",
      " [ 0 15  0]\n",
      " [ 0  4 15]]\n",
      "              precision    recall  f1-score   support\n",
      "\n",
      "      setosa       1.00      1.00      1.00        11\n",
      "  versicolor       0.79      1.00      0.88        15\n",
      "   virginica       1.00      0.79      0.88        19\n",
      "\n",
      "    accuracy                           0.91        45\n",
      "   macro avg       0.93      0.93      0.92        45\n",
      "weighted avg       0.93      0.91      0.91        45\n",
      "\n"
     ]
    }
   ],
   "source": [
    "# Decision Tree: http://scikit-learn.org/stable/modules/tree.html\n",
    "DT = tree.DecisionTreeClassifier() \n",
    "# Sengaja menggunakan default parameter, (Hyper)parameter Optimization akan dibahas kemudian\n",
    "DT = DT.fit(df1_train, y1_train)\n",
    "y_DT1 = DT.predict(df1_test)\n",
    "\n",
    "print(confusion_matrix(y1_test, y_DT1))\n",
    "print(classification_report(y1_test, y_DT1))"
   ]
  },
  {
   "cell_type": "code",
   "execution_count": 33,
   "metadata": {
    "slideshow": {
     "slide_type": "-"
    }
   },
   "outputs": [
    {
     "data": {
      "text/plain": [
       "array([0.01933984, 0.        , 0.60633582, 0.37432434])"
      ]
     },
     "execution_count": 33,
     "metadata": {},
     "output_type": "execute_result"
    }
   ],
   "source": [
    "# Varible importance - Salah satu kelebihan Decision Tree\n",
    "DT.feature_importances_"
   ]
  },
  {
   "cell_type": "code",
   "execution_count": 34,
   "metadata": {
    "slideshow": {
     "slide_type": "-"
    }
   },
   "outputs": [
    {
     "data": {
      "image/svg+xml": [
       "<?xml version=\"1.0\" encoding=\"UTF-8\" standalone=\"no\"?>\r\n",
       "<!DOCTYPE svg PUBLIC \"-//W3C//DTD SVG 1.1//EN\"\r\n",
       " \"http://www.w3.org/Graphics/SVG/1.1/DTD/svg11.dtd\">\r\n",
       "<!-- Generated by graphviz version 2.48.0 (20210717.1556)\r\n",
       " -->\r\n",
       "<!-- Title: Tree Pages: 1 -->\r\n",
       "<svg width=\"742pt\" height=\"671pt\"\r\n",
       " viewBox=\"0.00 0.00 742.00 671.00\" xmlns=\"http://www.w3.org/2000/svg\" xmlns:xlink=\"http://www.w3.org/1999/xlink\">\r\n",
       "<g id=\"graph0\" class=\"graph\" transform=\"scale(1 1) rotate(0) translate(4 667)\">\r\n",
       "<title>Tree</title>\r\n",
       "<polygon fill=\"white\" stroke=\"transparent\" points=\"-4,4 -4,-667 738,-667 738,4 -4,4\"/>\r\n",
       "<!-- 0 -->\r\n",
       "<g id=\"node1\" class=\"node\">\r\n",
       "<title>0</title>\r\n",
       "<path fill=\"#fdf8f4\" stroke=\"black\" d=\"M435,-663C435,-663 322,-663 322,-663 316,-663 310,-657 310,-651 310,-651 310,-592 310,-592 310,-586 316,-580 322,-580 322,-580 435,-580 435,-580 441,-580 447,-586 447,-592 447,-592 447,-651 447,-651 447,-657 441,-663 435,-663\"/>\r\n",
       "<text text-anchor=\"start\" x=\"318\" y=\"-647.8\" font-family=\"Helvetica,sans-Serif\" font-size=\"14.00\">petal_length ≤ 2.45</text>\r\n",
       "<text text-anchor=\"start\" x=\"341\" y=\"-632.8\" font-family=\"Helvetica,sans-Serif\" font-size=\"14.00\">gini = 0.663</text>\r\n",
       "<text text-anchor=\"start\" x=\"331\" y=\"-617.8\" font-family=\"Helvetica,sans-Serif\" font-size=\"14.00\">samples = 104</text>\r\n",
       "<text text-anchor=\"start\" x=\"318\" y=\"-602.8\" font-family=\"Helvetica,sans-Serif\" font-size=\"14.00\">value = [39, 35, 30]</text>\r\n",
       "<text text-anchor=\"start\" x=\"331.5\" y=\"-587.8\" font-family=\"Helvetica,sans-Serif\" font-size=\"14.00\">class = Setosa</text>\r\n",
       "</g>\r\n",
       "<!-- 1 -->\r\n",
       "<g id=\"node2\" class=\"node\">\r\n",
       "<title>1</title>\r\n",
       "<path fill=\"#e58139\" stroke=\"black\" d=\"M355,-536.5C355,-536.5 258,-536.5 258,-536.5 252,-536.5 246,-530.5 246,-524.5 246,-524.5 246,-480.5 246,-480.5 246,-474.5 252,-468.5 258,-468.5 258,-468.5 355,-468.5 355,-468.5 361,-468.5 367,-474.5 367,-480.5 367,-480.5 367,-524.5 367,-524.5 367,-530.5 361,-536.5 355,-536.5\"/>\r\n",
       "<text text-anchor=\"start\" x=\"277.5\" y=\"-521.3\" font-family=\"Helvetica,sans-Serif\" font-size=\"14.00\">gini = 0.0</text>\r\n",
       "<text text-anchor=\"start\" x=\"263\" y=\"-506.3\" font-family=\"Helvetica,sans-Serif\" font-size=\"14.00\">samples = 39</text>\r\n",
       "<text text-anchor=\"start\" x=\"254\" y=\"-491.3\" font-family=\"Helvetica,sans-Serif\" font-size=\"14.00\">value = [39, 0, 0]</text>\r\n",
       "<text text-anchor=\"start\" x=\"259.5\" y=\"-476.3\" font-family=\"Helvetica,sans-Serif\" font-size=\"14.00\">class = Setosa</text>\r\n",
       "</g>\r\n",
       "<!-- 0&#45;&gt;1 -->\r\n",
       "<g id=\"edge1\" class=\"edge\">\r\n",
       "<title>0&#45;&gt;1</title>\r\n",
       "<path fill=\"none\" stroke=\"black\" d=\"M353.52,-579.91C346.66,-568.76 339.21,-556.66 332.31,-545.44\"/>\r\n",
       "<polygon fill=\"black\" stroke=\"black\" points=\"335.13,-543.35 326.91,-536.67 329.17,-547.02 335.13,-543.35\"/>\r\n",
       "<text text-anchor=\"middle\" x=\"321.12\" y=\"-557.29\" font-family=\"Helvetica,sans-Serif\" font-size=\"14.00\">True</text>\r\n",
       "</g>\r\n",
       "<!-- 2 -->\r\n",
       "<g id=\"node3\" class=\"node\">\r\n",
       "<title>2</title>\r\n",
       "<path fill=\"#e3fbed\" stroke=\"black\" d=\"M506,-544C506,-544 397,-544 397,-544 391,-544 385,-538 385,-532 385,-532 385,-473 385,-473 385,-467 391,-461 397,-461 397,-461 506,-461 506,-461 512,-461 518,-467 518,-473 518,-473 518,-532 518,-532 518,-538 512,-544 506,-544\"/>\r\n",
       "<text text-anchor=\"start\" x=\"394\" y=\"-528.8\" font-family=\"Helvetica,sans-Serif\" font-size=\"14.00\">petal_width ≤ 1.75</text>\r\n",
       "<text text-anchor=\"start\" x=\"414\" y=\"-513.8\" font-family=\"Helvetica,sans-Serif\" font-size=\"14.00\">gini = 0.497</text>\r\n",
       "<text text-anchor=\"start\" x=\"408\" y=\"-498.8\" font-family=\"Helvetica,sans-Serif\" font-size=\"14.00\">samples = 65</text>\r\n",
       "<text text-anchor=\"start\" x=\"395\" y=\"-483.8\" font-family=\"Helvetica,sans-Serif\" font-size=\"14.00\">value = [0, 35, 30]</text>\r\n",
       "<text text-anchor=\"start\" x=\"393\" y=\"-468.8\" font-family=\"Helvetica,sans-Serif\" font-size=\"14.00\">class = VersiColor</text>\r\n",
       "</g>\r\n",
       "<!-- 0&#45;&gt;2 -->\r\n",
       "<g id=\"edge2\" class=\"edge\">\r\n",
       "<title>0&#45;&gt;2</title>\r\n",
       "<path fill=\"none\" stroke=\"black\" d=\"M403.83,-579.91C409.32,-571.1 415.19,-561.7 420.86,-552.61\"/>\r\n",
       "<polygon fill=\"black\" stroke=\"black\" points=\"423.89,-554.36 426.22,-544.02 417.95,-550.65 423.89,-554.36\"/>\r\n",
       "<text text-anchor=\"middle\" x=\"431.86\" y=\"-564.68\" font-family=\"Helvetica,sans-Serif\" font-size=\"14.00\">False</text>\r\n",
       "</g>\r\n",
       "<!-- 3 -->\r\n",
       "<g id=\"node4\" class=\"node\">\r\n",
       "<title>3</title>\r\n",
       "<path fill=\"#4ae78c\" stroke=\"black\" d=\"M430,-425C430,-425 317,-425 317,-425 311,-425 305,-419 305,-413 305,-413 305,-354 305,-354 305,-348 311,-342 317,-342 317,-342 430,-342 430,-342 436,-342 442,-348 442,-354 442,-354 442,-413 442,-413 442,-419 436,-425 430,-425\"/>\r\n",
       "<text text-anchor=\"start\" x=\"313\" y=\"-409.8\" font-family=\"Helvetica,sans-Serif\" font-size=\"14.00\">petal_length ≤ 5.05</text>\r\n",
       "<text text-anchor=\"start\" x=\"336\" y=\"-394.8\" font-family=\"Helvetica,sans-Serif\" font-size=\"14.00\">gini = 0.149</text>\r\n",
       "<text text-anchor=\"start\" x=\"330\" y=\"-379.8\" font-family=\"Helvetica,sans-Serif\" font-size=\"14.00\">samples = 37</text>\r\n",
       "<text text-anchor=\"start\" x=\"321\" y=\"-364.8\" font-family=\"Helvetica,sans-Serif\" font-size=\"14.00\">value = [0, 34, 3]</text>\r\n",
       "<text text-anchor=\"start\" x=\"315\" y=\"-349.8\" font-family=\"Helvetica,sans-Serif\" font-size=\"14.00\">class = VersiColor</text>\r\n",
       "</g>\r\n",
       "<!-- 2&#45;&gt;3 -->\r\n",
       "<g id=\"edge3\" class=\"edge\">\r\n",
       "<title>2&#45;&gt;3</title>\r\n",
       "<path fill=\"none\" stroke=\"black\" d=\"M424.44,-460.91C418.57,-452.1 412.3,-442.7 406.24,-433.61\"/>\r\n",
       "<polygon fill=\"black\" stroke=\"black\" points=\"408.97,-431.4 400.51,-425.02 403.15,-435.28 408.97,-431.4\"/>\r\n",
       "</g>\r\n",
       "<!-- 12 -->\r\n",
       "<g id=\"node13\" class=\"node\">\r\n",
       "<title>12</title>\r\n",
       "<path fill=\"#8640e6\" stroke=\"black\" d=\"M585,-425C585,-425 472,-425 472,-425 466,-425 460,-419 460,-413 460,-413 460,-354 460,-354 460,-348 466,-342 472,-342 472,-342 585,-342 585,-342 591,-342 597,-348 597,-354 597,-354 597,-413 597,-413 597,-419 591,-425 585,-425\"/>\r\n",
       "<text text-anchor=\"start\" x=\"468\" y=\"-409.8\" font-family=\"Helvetica,sans-Serif\" font-size=\"14.00\">petal_length ≤ 4.85</text>\r\n",
       "<text text-anchor=\"start\" x=\"491\" y=\"-394.8\" font-family=\"Helvetica,sans-Serif\" font-size=\"14.00\">gini = 0.069</text>\r\n",
       "<text text-anchor=\"start\" x=\"485\" y=\"-379.8\" font-family=\"Helvetica,sans-Serif\" font-size=\"14.00\">samples = 28</text>\r\n",
       "<text text-anchor=\"start\" x=\"476\" y=\"-364.8\" font-family=\"Helvetica,sans-Serif\" font-size=\"14.00\">value = [0, 1, 27]</text>\r\n",
       "<text text-anchor=\"start\" x=\"477\" y=\"-349.8\" font-family=\"Helvetica,sans-Serif\" font-size=\"14.00\">class = Virginica</text>\r\n",
       "</g>\r\n",
       "<!-- 2&#45;&gt;12 -->\r\n",
       "<g id=\"edge12\" class=\"edge\">\r\n",
       "<title>2&#45;&gt;12</title>\r\n",
       "<path fill=\"none\" stroke=\"black\" d=\"M478.21,-460.91C484.01,-452.1 490.2,-442.7 496.18,-433.61\"/>\r\n",
       "<polygon fill=\"black\" stroke=\"black\" points=\"499.26,-435.3 501.83,-425.02 493.41,-431.45 499.26,-435.3\"/>\r\n",
       "</g>\r\n",
       "<!-- 4 -->\r\n",
       "<g id=\"node5\" class=\"node\">\r\n",
       "<title>4</title>\r\n",
       "<path fill=\"#3fe685\" stroke=\"black\" d=\"M273,-306C273,-306 164,-306 164,-306 158,-306 152,-300 152,-294 152,-294 152,-235 152,-235 152,-229 158,-223 164,-223 164,-223 273,-223 273,-223 279,-223 285,-229 285,-235 285,-235 285,-294 285,-294 285,-300 279,-306 273,-306\"/>\r\n",
       "<text text-anchor=\"start\" x=\"161\" y=\"-290.8\" font-family=\"Helvetica,sans-Serif\" font-size=\"14.00\">petal_width ≤ 1.65</text>\r\n",
       "<text text-anchor=\"start\" x=\"181\" y=\"-275.8\" font-family=\"Helvetica,sans-Serif\" font-size=\"14.00\">gini = 0.057</text>\r\n",
       "<text text-anchor=\"start\" x=\"175\" y=\"-260.8\" font-family=\"Helvetica,sans-Serif\" font-size=\"14.00\">samples = 34</text>\r\n",
       "<text text-anchor=\"start\" x=\"166\" y=\"-245.8\" font-family=\"Helvetica,sans-Serif\" font-size=\"14.00\">value = [0, 33, 1]</text>\r\n",
       "<text text-anchor=\"start\" x=\"160\" y=\"-230.8\" font-family=\"Helvetica,sans-Serif\" font-size=\"14.00\">class = VersiColor</text>\r\n",
       "</g>\r\n",
       "<!-- 3&#45;&gt;4 -->\r\n",
       "<g id=\"edge4\" class=\"edge\">\r\n",
       "<title>3&#45;&gt;4</title>\r\n",
       "<path fill=\"none\" stroke=\"black\" d=\"M319.72,-341.91C306.98,-332.29 293.29,-321.95 280.22,-312.09\"/>\r\n",
       "<polygon fill=\"black\" stroke=\"black\" points=\"282.27,-309.25 272.18,-306.02 278.05,-314.84 282.27,-309.25\"/>\r\n",
       "</g>\r\n",
       "<!-- 9 -->\r\n",
       "<g id=\"node10\" class=\"node\">\r\n",
       "<title>9</title>\r\n",
       "<path fill=\"#c09cf2\" stroke=\"black\" d=\"M432,-306C432,-306 315,-306 315,-306 309,-306 303,-300 303,-294 303,-294 303,-235 303,-235 303,-229 309,-223 315,-223 315,-223 432,-223 432,-223 438,-223 444,-229 444,-235 444,-235 444,-294 444,-294 444,-300 438,-306 432,-306\"/>\r\n",
       "<text text-anchor=\"start\" x=\"311\" y=\"-290.8\" font-family=\"Helvetica,sans-Serif\" font-size=\"14.00\">sepal_length ≤ 6.15</text>\r\n",
       "<text text-anchor=\"start\" x=\"336\" y=\"-275.8\" font-family=\"Helvetica,sans-Serif\" font-size=\"14.00\">gini = 0.444</text>\r\n",
       "<text text-anchor=\"start\" x=\"334\" y=\"-260.8\" font-family=\"Helvetica,sans-Serif\" font-size=\"14.00\">samples = 3</text>\r\n",
       "<text text-anchor=\"start\" x=\"325\" y=\"-245.8\" font-family=\"Helvetica,sans-Serif\" font-size=\"14.00\">value = [0, 1, 2]</text>\r\n",
       "<text text-anchor=\"start\" x=\"322\" y=\"-230.8\" font-family=\"Helvetica,sans-Serif\" font-size=\"14.00\">class = Virginica</text>\r\n",
       "</g>\r\n",
       "<!-- 3&#45;&gt;9 -->\r\n",
       "<g id=\"edge9\" class=\"edge\">\r\n",
       "<title>3&#45;&gt;9</title>\r\n",
       "<path fill=\"none\" stroke=\"black\" d=\"M373.5,-341.91C373.5,-333.65 373.5,-324.86 373.5,-316.3\"/>\r\n",
       "<polygon fill=\"black\" stroke=\"black\" points=\"377,-316.02 373.5,-306.02 370,-316.02 377,-316.02\"/>\r\n",
       "</g>\r\n",
       "<!-- 5 -->\r\n",
       "<g id=\"node6\" class=\"node\">\r\n",
       "<title>5</title>\r\n",
       "<path fill=\"#39e581\" stroke=\"black\" d=\"M121,-179.5C121,-179.5 12,-179.5 12,-179.5 6,-179.5 0,-173.5 0,-167.5 0,-167.5 0,-123.5 0,-123.5 0,-117.5 6,-111.5 12,-111.5 12,-111.5 121,-111.5 121,-111.5 127,-111.5 133,-117.5 133,-123.5 133,-123.5 133,-167.5 133,-167.5 133,-173.5 127,-179.5 121,-179.5\"/>\r\n",
       "<text text-anchor=\"start\" x=\"37.5\" y=\"-164.3\" font-family=\"Helvetica,sans-Serif\" font-size=\"14.00\">gini = 0.0</text>\r\n",
       "<text text-anchor=\"start\" x=\"23\" y=\"-149.3\" font-family=\"Helvetica,sans-Serif\" font-size=\"14.00\">samples = 32</text>\r\n",
       "<text text-anchor=\"start\" x=\"14\" y=\"-134.3\" font-family=\"Helvetica,sans-Serif\" font-size=\"14.00\">value = [0, 32, 0]</text>\r\n",
       "<text text-anchor=\"start\" x=\"8\" y=\"-119.3\" font-family=\"Helvetica,sans-Serif\" font-size=\"14.00\">class = VersiColor</text>\r\n",
       "</g>\r\n",
       "<!-- 4&#45;&gt;5 -->\r\n",
       "<g id=\"edge5\" class=\"edge\">\r\n",
       "<title>4&#45;&gt;5</title>\r\n",
       "<path fill=\"none\" stroke=\"black\" d=\"M165.76,-222.91C150.14,-210.88 133.06,-197.73 117.54,-185.79\"/>\r\n",
       "<polygon fill=\"black\" stroke=\"black\" points=\"119.65,-182.99 109.59,-179.67 115.38,-188.54 119.65,-182.99\"/>\r\n",
       "</g>\r\n",
       "<!-- 6 -->\r\n",
       "<g id=\"node7\" class=\"node\">\r\n",
       "<title>6</title>\r\n",
       "<path fill=\"#ffffff\" stroke=\"black\" d=\"M276,-187C276,-187 163,-187 163,-187 157,-187 151,-181 151,-175 151,-175 151,-116 151,-116 151,-110 157,-104 163,-104 163,-104 276,-104 276,-104 282,-104 288,-110 288,-116 288,-116 288,-175 288,-175 288,-181 282,-187 276,-187\"/>\r\n",
       "<text text-anchor=\"start\" x=\"159\" y=\"-171.8\" font-family=\"Helvetica,sans-Serif\" font-size=\"14.00\">petal_length ≤ 4.75</text>\r\n",
       "<text text-anchor=\"start\" x=\"190.5\" y=\"-156.8\" font-family=\"Helvetica,sans-Serif\" font-size=\"14.00\">gini = 0.5</text>\r\n",
       "<text text-anchor=\"start\" x=\"180\" y=\"-141.8\" font-family=\"Helvetica,sans-Serif\" font-size=\"14.00\">samples = 2</text>\r\n",
       "<text text-anchor=\"start\" x=\"171\" y=\"-126.8\" font-family=\"Helvetica,sans-Serif\" font-size=\"14.00\">value = [0, 1, 1]</text>\r\n",
       "<text text-anchor=\"start\" x=\"161\" y=\"-111.8\" font-family=\"Helvetica,sans-Serif\" font-size=\"14.00\">class = VersiColor</text>\r\n",
       "</g>\r\n",
       "<!-- 4&#45;&gt;6 -->\r\n",
       "<g id=\"edge6\" class=\"edge\">\r\n",
       "<title>4&#45;&gt;6</title>\r\n",
       "<path fill=\"none\" stroke=\"black\" d=\"M218.85,-222.91C218.92,-214.65 218.99,-205.86 219.07,-197.3\"/>\r\n",
       "<polygon fill=\"black\" stroke=\"black\" points=\"222.57,-197.05 219.15,-187.02 215.57,-196.99 222.57,-197.05\"/>\r\n",
       "</g>\r\n",
       "<!-- 7 -->\r\n",
       "<g id=\"node8\" class=\"node\">\r\n",
       "<title>7</title>\r\n",
       "<path fill=\"#8139e5\" stroke=\"black\" d=\"M195,-68C195,-68 100,-68 100,-68 94,-68 88,-62 88,-56 88,-56 88,-12 88,-12 88,-6 94,0 100,0 100,0 195,0 195,0 201,0 207,-6 207,-12 207,-12 207,-56 207,-56 207,-62 201,-68 195,-68\"/>\r\n",
       "<text text-anchor=\"start\" x=\"118.5\" y=\"-52.8\" font-family=\"Helvetica,sans-Serif\" font-size=\"14.00\">gini = 0.0</text>\r\n",
       "<text text-anchor=\"start\" x=\"108\" y=\"-37.8\" font-family=\"Helvetica,sans-Serif\" font-size=\"14.00\">samples = 1</text>\r\n",
       "<text text-anchor=\"start\" x=\"99\" y=\"-22.8\" font-family=\"Helvetica,sans-Serif\" font-size=\"14.00\">value = [0, 0, 1]</text>\r\n",
       "<text text-anchor=\"start\" x=\"96\" y=\"-7.8\" font-family=\"Helvetica,sans-Serif\" font-size=\"14.00\">class = Virginica</text>\r\n",
       "</g>\r\n",
       "<!-- 6&#45;&gt;7 -->\r\n",
       "<g id=\"edge7\" class=\"edge\">\r\n",
       "<title>6&#45;&gt;7</title>\r\n",
       "<path fill=\"none\" stroke=\"black\" d=\"M192.69,-103.73C186.93,-94.97 180.84,-85.7 175.05,-76.91\"/>\r\n",
       "<polygon fill=\"black\" stroke=\"black\" points=\"177.81,-74.73 169.4,-68.3 171.97,-78.58 177.81,-74.73\"/>\r\n",
       "</g>\r\n",
       "<!-- 8 -->\r\n",
       "<g id=\"node9\" class=\"node\">\r\n",
       "<title>8</title>\r\n",
       "<path fill=\"#39e581\" stroke=\"black\" d=\"M346,-68C346,-68 237,-68 237,-68 231,-68 225,-62 225,-56 225,-56 225,-12 225,-12 225,-6 231,0 237,0 237,0 346,0 346,0 352,0 358,-6 358,-12 358,-12 358,-56 358,-56 358,-62 352,-68 346,-68\"/>\r\n",
       "<text text-anchor=\"start\" x=\"262.5\" y=\"-52.8\" font-family=\"Helvetica,sans-Serif\" font-size=\"14.00\">gini = 0.0</text>\r\n",
       "<text text-anchor=\"start\" x=\"252\" y=\"-37.8\" font-family=\"Helvetica,sans-Serif\" font-size=\"14.00\">samples = 1</text>\r\n",
       "<text text-anchor=\"start\" x=\"243\" y=\"-22.8\" font-family=\"Helvetica,sans-Serif\" font-size=\"14.00\">value = [0, 1, 0]</text>\r\n",
       "<text text-anchor=\"start\" x=\"233\" y=\"-7.8\" font-family=\"Helvetica,sans-Serif\" font-size=\"14.00\">class = VersiColor</text>\r\n",
       "</g>\r\n",
       "<!-- 6&#45;&gt;8 -->\r\n",
       "<g id=\"edge8\" class=\"edge\">\r\n",
       "<title>6&#45;&gt;8</title>\r\n",
       "<path fill=\"none\" stroke=\"black\" d=\"M246.31,-103.73C252.07,-94.97 258.16,-85.7 263.95,-76.91\"/>\r\n",
       "<polygon fill=\"black\" stroke=\"black\" points=\"267.03,-78.58 269.6,-68.3 261.19,-74.73 267.03,-78.58\"/>\r\n",
       "</g>\r\n",
       "<!-- 10 -->\r\n",
       "<g id=\"node11\" class=\"node\">\r\n",
       "<title>10</title>\r\n",
       "<path fill=\"#39e581\" stroke=\"black\" d=\"M428,-179.5C428,-179.5 319,-179.5 319,-179.5 313,-179.5 307,-173.5 307,-167.5 307,-167.5 307,-123.5 307,-123.5 307,-117.5 313,-111.5 319,-111.5 319,-111.5 428,-111.5 428,-111.5 434,-111.5 440,-117.5 440,-123.5 440,-123.5 440,-167.5 440,-167.5 440,-173.5 434,-179.5 428,-179.5\"/>\r\n",
       "<text text-anchor=\"start\" x=\"344.5\" y=\"-164.3\" font-family=\"Helvetica,sans-Serif\" font-size=\"14.00\">gini = 0.0</text>\r\n",
       "<text text-anchor=\"start\" x=\"334\" y=\"-149.3\" font-family=\"Helvetica,sans-Serif\" font-size=\"14.00\">samples = 1</text>\r\n",
       "<text text-anchor=\"start\" x=\"325\" y=\"-134.3\" font-family=\"Helvetica,sans-Serif\" font-size=\"14.00\">value = [0, 1, 0]</text>\r\n",
       "<text text-anchor=\"start\" x=\"315\" y=\"-119.3\" font-family=\"Helvetica,sans-Serif\" font-size=\"14.00\">class = VersiColor</text>\r\n",
       "</g>\r\n",
       "<!-- 9&#45;&gt;10 -->\r\n",
       "<g id=\"edge10\" class=\"edge\">\r\n",
       "<title>9&#45;&gt;10</title>\r\n",
       "<path fill=\"none\" stroke=\"black\" d=\"M373.5,-222.91C373.5,-212.2 373.5,-200.62 373.5,-189.78\"/>\r\n",
       "<polygon fill=\"black\" stroke=\"black\" points=\"377,-189.67 373.5,-179.67 370,-189.67 377,-189.67\"/>\r\n",
       "</g>\r\n",
       "<!-- 11 -->\r\n",
       "<g id=\"node12\" class=\"node\">\r\n",
       "<title>11</title>\r\n",
       "<path fill=\"#8139e5\" stroke=\"black\" d=\"M565,-179.5C565,-179.5 470,-179.5 470,-179.5 464,-179.5 458,-173.5 458,-167.5 458,-167.5 458,-123.5 458,-123.5 458,-117.5 464,-111.5 470,-111.5 470,-111.5 565,-111.5 565,-111.5 571,-111.5 577,-117.5 577,-123.5 577,-123.5 577,-167.5 577,-167.5 577,-173.5 571,-179.5 565,-179.5\"/>\r\n",
       "<text text-anchor=\"start\" x=\"488.5\" y=\"-164.3\" font-family=\"Helvetica,sans-Serif\" font-size=\"14.00\">gini = 0.0</text>\r\n",
       "<text text-anchor=\"start\" x=\"478\" y=\"-149.3\" font-family=\"Helvetica,sans-Serif\" font-size=\"14.00\">samples = 2</text>\r\n",
       "<text text-anchor=\"start\" x=\"469\" y=\"-134.3\" font-family=\"Helvetica,sans-Serif\" font-size=\"14.00\">value = [0, 0, 2]</text>\r\n",
       "<text text-anchor=\"start\" x=\"466\" y=\"-119.3\" font-family=\"Helvetica,sans-Serif\" font-size=\"14.00\">class = Virginica</text>\r\n",
       "</g>\r\n",
       "<!-- 9&#45;&gt;11 -->\r\n",
       "<g id=\"edge11\" class=\"edge\">\r\n",
       "<title>9&#45;&gt;11</title>\r\n",
       "<path fill=\"none\" stroke=\"black\" d=\"M423.46,-222.91C438.13,-210.99 454.15,-197.98 468.74,-186.12\"/>\r\n",
       "<polygon fill=\"black\" stroke=\"black\" points=\"471.13,-188.69 476.68,-179.67 466.71,-183.26 471.13,-188.69\"/>\r\n",
       "</g>\r\n",
       "<!-- 13 -->\r\n",
       "<g id=\"node14\" class=\"node\">\r\n",
       "<title>13</title>\r\n",
       "<path fill=\"#39e581\" stroke=\"black\" d=\"M583,-298.5C583,-298.5 474,-298.5 474,-298.5 468,-298.5 462,-292.5 462,-286.5 462,-286.5 462,-242.5 462,-242.5 462,-236.5 468,-230.5 474,-230.5 474,-230.5 583,-230.5 583,-230.5 589,-230.5 595,-236.5 595,-242.5 595,-242.5 595,-286.5 595,-286.5 595,-292.5 589,-298.5 583,-298.5\"/>\r\n",
       "<text text-anchor=\"start\" x=\"499.5\" y=\"-283.3\" font-family=\"Helvetica,sans-Serif\" font-size=\"14.00\">gini = 0.0</text>\r\n",
       "<text text-anchor=\"start\" x=\"489\" y=\"-268.3\" font-family=\"Helvetica,sans-Serif\" font-size=\"14.00\">samples = 1</text>\r\n",
       "<text text-anchor=\"start\" x=\"480\" y=\"-253.3\" font-family=\"Helvetica,sans-Serif\" font-size=\"14.00\">value = [0, 1, 0]</text>\r\n",
       "<text text-anchor=\"start\" x=\"470\" y=\"-238.3\" font-family=\"Helvetica,sans-Serif\" font-size=\"14.00\">class = VersiColor</text>\r\n",
       "</g>\r\n",
       "<!-- 12&#45;&gt;13 -->\r\n",
       "<g id=\"edge13\" class=\"edge\">\r\n",
       "<title>12&#45;&gt;13</title>\r\n",
       "<path fill=\"none\" stroke=\"black\" d=\"M528.5,-341.91C528.5,-331.2 528.5,-319.62 528.5,-308.78\"/>\r\n",
       "<polygon fill=\"black\" stroke=\"black\" points=\"532,-308.67 528.5,-298.67 525,-308.67 532,-308.67\"/>\r\n",
       "</g>\r\n",
       "<!-- 14 -->\r\n",
       "<g id=\"node15\" class=\"node\">\r\n",
       "<title>14</title>\r\n",
       "<path fill=\"#8139e5\" stroke=\"black\" d=\"M722,-298.5C722,-298.5 625,-298.5 625,-298.5 619,-298.5 613,-292.5 613,-286.5 613,-286.5 613,-242.5 613,-242.5 613,-236.5 619,-230.5 625,-230.5 625,-230.5 722,-230.5 722,-230.5 728,-230.5 734,-236.5 734,-242.5 734,-242.5 734,-286.5 734,-286.5 734,-292.5 728,-298.5 722,-298.5\"/>\r\n",
       "<text text-anchor=\"start\" x=\"644.5\" y=\"-283.3\" font-family=\"Helvetica,sans-Serif\" font-size=\"14.00\">gini = 0.0</text>\r\n",
       "<text text-anchor=\"start\" x=\"630\" y=\"-268.3\" font-family=\"Helvetica,sans-Serif\" font-size=\"14.00\">samples = 27</text>\r\n",
       "<text text-anchor=\"start\" x=\"621\" y=\"-253.3\" font-family=\"Helvetica,sans-Serif\" font-size=\"14.00\">value = [0, 0, 27]</text>\r\n",
       "<text text-anchor=\"start\" x=\"622\" y=\"-238.3\" font-family=\"Helvetica,sans-Serif\" font-size=\"14.00\">class = Virginica</text>\r\n",
       "</g>\r\n",
       "<!-- 12&#45;&gt;14 -->\r\n",
       "<g id=\"edge14\" class=\"edge\">\r\n",
       "<title>12&#45;&gt;14</title>\r\n",
       "<path fill=\"none\" stroke=\"black\" d=\"M578.81,-341.91C593.58,-329.99 609.71,-316.98 624.4,-305.12\"/>\r\n",
       "<polygon fill=\"black\" stroke=\"black\" points=\"626.81,-307.67 632.4,-298.67 622.42,-302.22 626.81,-307.67\"/>\r\n",
       "</g>\r\n",
       "</g>\r\n",
       "</svg>\r\n"
      ],
      "text/plain": [
       "<graphviz.files.Source at 0x2a9a2e7f1c8>"
      ]
     },
     "execution_count": 34,
     "metadata": {},
     "output_type": "execute_result"
    }
   ],
   "source": [
    "# Kelebihan lain Decision Tree yang tidak dimiliki model lain\n",
    "# \"WARNING\" \n",
    "# 1. tidak bisa dijalankan di Google Colab\n",
    "# 2. membutuhkan software \"graphViz\" + setting system variabel\n",
    "# caranya ada disini: https://stackoverflow.com/questions/49471867/installing-graphviz-for-use-with-python-3-on-windows-10\n",
    "import graphviz\n",
    "\n",
    "dot_data = tree.export_graphviz(DT, out_file=None) \n",
    "graph = graphviz.Source(dot_data) \n",
    "graph.render(\"iris\") \n",
    "var_names = ['sepal_length','sepal_width','petal_length','petal_width']\n",
    "categories = ['Setosa', 'VersiColor', 'Virginica']\n",
    "dot_data = tree.export_graphviz(DT, out_file=None, \n",
    "                         feature_names = var_names,  \n",
    "                         class_names=categories,  \n",
    "                         filled=True, rounded=True,  \n",
    "                         special_characters=True)  \n",
    "graph = graphviz.Source(dot_data)  \n",
    "graph "
   ]
  },
  {
   "cell_type": "code",
   "execution_count": 35,
   "metadata": {},
   "outputs": [
    {
     "name": "stdout",
     "output_type": "stream",
     "text": [
      "Accuracy Decision Tree: 0.95 (+/- 0.09), Waktu = 0.145 detik\n"
     ]
    }
   ],
   "source": [
    "mulai = time.time()\n",
    "scores_dt = cross_val_score(DT, df1, y1, cv=10) # perhatikan sekarang kita menggunakan seluruh data\n",
    "waktu = time.time() - mulai\n",
    "print(\"Accuracy Decision Tree: %0.2f (+/- %0.2f), Waktu = %0.3f detik\" % (scores_dt.mean(), scores_dt.std() * 2, waktu))"
   ]
  },
  {
   "cell_type": "code",
   "execution_count": 36,
   "metadata": {},
   "outputs": [
    {
     "data": {
      "text/plain": [
       "kNN         0.866667\n",
       "RegLog      0.933333\n",
       "NaiveBys    0.866667\n",
       "DecTree     0.866667\n",
       "dtype: float64"
      ]
     },
     "execution_count": 36,
     "metadata": {},
     "output_type": "execute_result"
    },
    {
     "data": {
      "image/png": "[encoded data removed]",
      "text/plain": [
       "<Figure size 432x288 with 1 Axes>"
      ]
     },
     "metadata": {},
     "output_type": "display_data"
    }
   ],
   "source": [
    "# Visualisasi untuk mengevaluasi & membandingkan model dengan lebih baik lagi\n",
    "df_ = pd.DataFrame({'kNN': scores_kNN, 'RegLog': scores_regLog, 'NaiveBys':scores_nb, \"DecTree\":scores_dt})\n",
    "p = sns.boxplot(data = df_)\n",
    "df_.min()"
   ]
  },
  {
   "cell_type": "markdown",
   "metadata": {},
   "source": [
    "# <center><font color=\"blue\">Curse of Dimensionality</font></center>\n",
    "\n",
    "<p><img alt=\"\" src=\"images/chd_1.PNG\" />"
   ]
  },
  {
   "cell_type": "markdown",
   "metadata": {
    "slideshow": {
     "slide_type": "slide"
    }
   },
   "source": [
    "# <center><font color=\"blue\">Curse of Dimensionality & Random Forest</font></center>\n",
    "\n",
    "<img alt=\"\" src=\"images/5_RandomForest.png\" style=\"width: 592px; height: 444px;\" />"
   ]
  },
  {
   "cell_type": "code",
   "execution_count": 37,
   "metadata": {
    "slideshow": {
     "slide_type": "slide"
    }
   },
   "outputs": [
    {
     "name": "stdout",
     "output_type": "stream",
     "text": [
      "[[11  0  0]\n",
      " [ 0 15  0]\n",
      " [ 0  4 15]]\n",
      "              precision    recall  f1-score   support\n",
      "\n",
      "      setosa       1.00      1.00      1.00        11\n",
      "  versicolor       0.79      1.00      0.88        15\n",
      "   virginica       1.00      0.79      0.88        19\n",
      "\n",
      "    accuracy                           0.91        45\n",
      "   macro avg       0.93      0.93      0.92        45\n",
      "weighted avg       0.93      0.91      0.91        45\n",
      "\n"
     ]
    }
   ],
   "source": [
    "# Mari coba perbaiki dengan Random Forest\n",
    "# http://scikit-learn.org/stable/modules/generated/sklearn.ensemble.RandomForestClassifier.html\n",
    "rf = RandomForestClassifier()\n",
    "rf.fit(df1_train, y1_train)\n",
    "y_rf1 = rf.predict(df1_test)\n",
    "\n",
    "print(confusion_matrix(y1_test, y_rf1))\n",
    "print(classification_report(y1_test, y_rf1))"
   ]
  },
  {
   "cell_type": "code",
   "execution_count": 38,
   "metadata": {},
   "outputs": [
    {
     "name": "stdout",
     "output_type": "stream",
     "text": [
      "Feature ranking:\n",
      "1. feature 3 (0.453383)\n",
      "2. feature 2 (0.430216)\n",
      "3. feature 0 (0.095857)\n",
      "4. feature 1 (0.020544)\n"
     ]
    },
    {
     "data": {
      "image/png": "[encoded data removed]",
      "text/plain": [
       "<Figure size 432x288 with 1 Axes>"
      ]
     },
     "metadata": {},
     "output_type": "display_data"
    }
   ],
   "source": [
    "# Varible importance\n",
    "importances = rf.feature_importances_\n",
    "std = np.std([tree.feature_importances_ for tree in rf.estimators_], axis=0)\n",
    "indices = np.argsort(importances)[::-1]\n",
    "\n",
    "# Print the feature ranking\n",
    "print(\"Feature ranking:\")\n",
    "for f in range(df1.shape[1]):\n",
    "    print(\"%d. feature %d (%f)\" % (f + 1, indices[f], importances[indices[f]]))\n",
    "\n",
    "# Plot the feature importances of the forest\n",
    "plt.figure()\n",
    "plt.title(\"Feature importances\")\n",
    "plt.bar(range(df1.shape[1]), importances[indices],color=\"r\", yerr=std[indices], align=\"center\")\n",
    "plt.xticks(range(df1.shape[1]), indices)\n",
    "plt.xlim([-1, df1.shape[1]])\n",
    "plt.show()"
   ]
  },
  {
   "cell_type": "code",
   "execution_count": 39,
   "metadata": {},
   "outputs": [
    {
     "name": "stdout",
     "output_type": "stream",
     "text": [
      "Accuracy Random Forest: 0.96 (+/- 0.09), Waktu = 6.140 detik\n"
     ]
    }
   ],
   "source": [
    "mulai = time.time()\n",
    "scores_rf = cross_val_score(rf, df1, y1, cv=10) # perhatikan sekarang kita menggunakan seluruh data\n",
    "waktu = time.time() - mulai\n",
    "print(\"Accuracy Random Forest: %0.2f (+/- %0.2f), Waktu = %0.3f detik\" % (scores_rf.mean(), scores_rf.std() * 2, waktu))"
   ]
  },
  {
   "cell_type": "code",
   "execution_count": 40,
   "metadata": {},
   "outputs": [
    {
     "data": {
      "text/plain": [
       "kNN         0.866667\n",
       "RegLog      0.933333\n",
       "NaiveBys    0.866667\n",
       "DecTree     0.866667\n",
       "Forest      0.866667\n",
       "dtype: float64"
      ]
     },
     "execution_count": 40,
     "metadata": {},
     "output_type": "execute_result"
    },
    {
     "data": {
      "image/png": "[encoded data removed]",
      "text/plain": [
       "<Figure size 432x288 with 1 Axes>"
      ]
     },
     "metadata": {},
     "output_type": "display_data"
    }
   ],
   "source": [
    "# Visualisasi untuk mengevaluasi & membandingkan model dengan lebih baik lagi\n",
    "df_ = pd.DataFrame({'kNN': scores_kNN, 'RegLog': scores_regLog, 'NaiveBys':scores_nb, \"DecTree\":scores_dt, \"Forest\": scores_rf})\n",
    "p = sns.boxplot(data = df_)\n",
    "df_.min()"
   ]
  },
  {
   "cell_type": "markdown",
   "metadata": {},
   "source": [
    "# <center><font color=\"green\">Model yang lebih kompleks belum tentu lebih baik, Mengapa?</font></center>"
   ]
  },
  {
   "cell_type": "code",
   "execution_count": 41,
   "metadata": {},
   "outputs": [
    {
     "data": {
      "text/plain": [
       "'Done'"
      ]
     },
     "execution_count": 41,
     "metadata": {},
     "output_type": "execute_result"
    }
   ],
   "source": [
    "# Saving Results untuk digunakan di module selanjutnya\n",
    "import pickle\n",
    "\n",
    "f = open('data/data_Module-11.pckl', 'wb')\n",
    "pickle.dump((df_, df1, y1, df2A, df2B, y2), f)\n",
    "f.close()\n",
    "\"Done\""
   ]
  },
  {
   "cell_type": "markdown",
   "metadata": {},
   "source": [
    "# <center><font color=\"blue\"> Akhir Modul 11 - Introduction to Classification models</font></center>\n",
    "\n",
    "<hr />\n",
    "<img alt=\"\" src=\"images/meme-cartoon/Meme-on-Machine-Learning-accuracy.jpg\" style=\"height: 400px;\"/>"
   ]
  }
 ],
 "metadata": {
  "celltoolbar": "Slideshow",
  "kernelspec": {
   "display_name": "Python 3 (ipykernel)",
   "language": "python",
   "name": "python3"
  },
  "language_info": {
   "codemirror_mode": {
    "name": "ipython",
    "version": 3
   },
   "file_extension": ".py",
   "mimetype": "text/x-python",
   "name": "python",
   "nbconvert_exporter": "python",
   "pygments_lexer": "ipython3",
   "version": "3.7.11"
  },
  "latex_envs": {
   "LaTeX_envs_menu_present": true,
   "autoclose": false,
   "autocomplete": true,
   "bibliofile": "biblio.bib",
   "cite_by": "apalike",
   "current_citInitial": 1,
   "eqLabelWithNumbers": true,
   "eqNumInitial": 1,
   "hotkeys": {
    "equation": "Ctrl-E",
    "itemize": "Ctrl-I"
   },
   "labels_anchors": false,
   "latex_user_defs": false,
   "report_style_numbering": false,
   "user_envs_cfg": false
  }
 },
 "nbformat": 4,
 "nbformat_minor": 4
}
