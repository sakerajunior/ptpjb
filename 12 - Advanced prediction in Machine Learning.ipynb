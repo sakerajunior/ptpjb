{
 "cells": [
  {
   "cell_type": "markdown",
   "metadata": {},
   "source": [
    "# <center><font color=\"green\"> https://bit.ly/ptpjb-2021-12</font></center>\n",
    "[![Open In Colab](https://colab.research.google.com/assets/colab-badge.svg)](https://bit.ly/ptpjb-2021-12)"
   ]
  },
  {
   "cell_type": "markdown",
   "metadata": {},
   "source": [
    "# <center><font color=\"blue\">12 - Advanced prediction in Machine Learning</font></center>\n",
    "\n",
    "<center><img alt=\"\" src=\"images/cover_ptpjb_2021.png\"/></center> \n",
    "\n",
    "## <center><font color=\"blue\">tau-data Indonesia</font><br>(C) Taufik Sutanto - 2021</center>\n",
    "<center><a href=\"https://tau-data.id\">https://tau-data.id</a> ~ <a href=\"mailto:taufik@tau-data.id\">taufik@tau-data.id</a></center>"
   ]
  },
  {
   "cell_type": "markdown",
   "metadata": {},
   "source": [
    "# <center><font color=\"blue\"> Outline: Model Klasifikasi Lanjutan</font></center>\n",
    "\n",
    "* Support Vector Machines\n",
    "* Evaluasi revisited: Underfitting & Overfitting\n",
    "* Pipelining & Parameter Optimization\n",
    "* Proper Model Selection\n",
    "* Ensemble Learning\n",
    "* Imbalance Learning\n",
    "* Studi Kasus\n",
    "\n",
    "<img src=\"images/meme-cartoon/meme model on train and test data.jpg\" height=\"250\" />"
   ]
  },
  {
   "cell_type": "code",
   "execution_count": null,
   "metadata": {},
   "outputs": [],
   "source": [
    "!pip install --upgrade pandas"
   ]
  },
  {
   "cell_type": "code",
   "execution_count": 1,
   "metadata": {},
   "outputs": [
    {
     "name": "stdout",
     "output_type": "stream",
     "text": [
      "1.3.2\n"
     ]
    },
    {
     "data": {
      "text/plain": [
       "'Done'"
      ]
     },
     "execution_count": 1,
     "metadata": {},
     "output_type": "execute_result"
    }
   ],
   "source": [
    "# Loading Modules\n",
    "import warnings; warnings.simplefilter('ignore')\n",
    "import pickle\n",
    "import pandas as pd, matplotlib.pyplot as plt\n",
    "import time, numpy as np, seaborn as sns\n",
    "from sklearn import svm, preprocessing\n",
    "from sklearn import  tree\n",
    "from sklearn.linear_model import LogisticRegression\n",
    "from sklearn import neighbors\n",
    "from sklearn.naive_bayes import GaussianNB\n",
    "from sklearn.ensemble import RandomForestClassifier, AdaBoostClassifier\n",
    "from sklearn.svm import SVC\n",
    "from sklearn.model_selection import train_test_split\n",
    "from sklearn.metrics import confusion_matrix, classification_report\n",
    "from sklearn.metrics import precision_score, recall_score, f1_score, accuracy_score\n",
    "from sklearn.model_selection import cross_val_score, RandomizedSearchCV, GridSearchCV\n",
    "from sklearn.pipeline import make_pipeline \n",
    "from sklearn.ensemble import VotingClassifier\n",
    "from sklearn import model_selection\n",
    "from collections import Counter\n",
    "from tqdm import tqdm\n",
    "sns.set(style=\"ticks\", color_codes=True)\n",
    "print(pd.__version__)\n",
    "\"Done\""
   ]
  },
  {
   "cell_type": "code",
   "execution_count": 2,
   "metadata": {},
   "outputs": [
    {
     "data": {
      "text/plain": [
       "((10, 5),\n",
       " Index(['kNN', 'RegLog', 'NaiveBys', 'DecTree', 'Forest'], dtype='object'))"
      ]
     },
     "execution_count": 2,
     "metadata": {},
     "output_type": "execute_result"
    }
   ],
   "source": [
    "# Mulai dengan Load Data dari Modul sebelumnya terlebih dahulu\n",
    "file_ = \"data/data_Module-11.pckl\"\n",
    "try: # Running Locally, yakinkan \"file_\" berada di folder \"data\"\n",
    "    f = open(file_, 'rb')\n",
    "    data = pickle.load(f); f.close()\n",
    "except: # Running in Google Colab\n",
    "    !mkdir data\n",
    "    !wget -P data/ https://raw.githubusercontent.com/taudata-indonesia/ptpjb/master/{file_}\n",
    "    f = open(file_, 'rb')\n",
    "    data = pickle.load(f); f.close()\n",
    "\n",
    "df_, df1, y1, df2A, df2B, y2 = data\n",
    "df_.shape, df_.keys()"
   ]
  },
  {
   "cell_type": "code",
   "execution_count": 3,
   "metadata": {},
   "outputs": [
    {
     "data": {
      "text/plain": [
       "'Done'"
      ]
     },
     "execution_count": 3,
     "metadata": {},
     "output_type": "execute_result"
    }
   ],
   "source": [
    "# Akan sama dengan module sebelumnya karena nilai SEED sama.\n",
    "df1_train, df1_test, y1_train, y1_test = train_test_split(df1, y1, test_size=0.3, random_state=33)\n",
    "df2A_train, df2A_test, y2_train, y2_test = train_test_split(df2A, y2, test_size=0.3, random_state=33) #No One-Hot\n",
    "df2B_train, df2B_test, y2_train, y2_test = train_test_split(df2B, y2, test_size=0.3, random_state=33) # One-Hot\n",
    "\"Done\""
   ]
  },
  {
   "cell_type": "markdown",
   "metadata": {
    "slideshow": {
     "slide_type": "slide"
    }
   },
   "source": [
    "# <center><font color=\"blue\">Support Vector Machine (SVM)</font></center>\n",
    "\n",
    "Misal data dinyatakan sebagai berikut:\n",
    "$\\{(\\bar{x}_1,y_1),...,(\\bar{x}_n,y_n)\\}$, dimana $\\bar{x}_i$ adalah\n",
    "input pattern untuk data ke $i^{th}$ dan $y_i$ adalah nilai target yang diinginkan. Kategori\n",
    "(class) direpresentasikan dengan $y_i=\\{-1,1\\}$. Sebuah **bidang datar (hyperplane)** yang memisahkan kedua kelas ini (\"linearly separable\") adalah:\n",
    "$$ \\bar{w}'\\bar{x} + b=0 $$\n",
    "dimana $\\bar{x}$ adalah input vector (prediktor), $\\bar{w}$ weight, dan $b$ disebut sebagai bias.\n",
    "\n",
    "<p><img src=\"images/Pemodelan_SVM_.png\" alt=\"\" width=\"334\" height=\"360\" /></p>"
   ]
  },
  {
   "cell_type": "markdown",
   "metadata": {
    "slideshow": {
     "slide_type": "slide"
    }
   },
   "source": [
    "# <center><font color=\"blue\">Kelebihan Pemodelan SVM</font></center>\n",
    "\n",
    "<img alt=\"\" src=\"images/hard_margin_svm.png\" style=\"width: 400px; height: 181px;\" />"
   ]
  },
  {
   "cell_type": "markdown",
   "metadata": {
    "slideshow": {
     "slide_type": "slide"
    }
   },
   "source": [
    "# <center><font color=\"blue\">Support Vector Machine: Soft Margin</font></center>\n",
    "<p><img style=\"undefined: undefined;\" src=\"images/6_SVM.jpg\" alt=\"\" /> <img style=\"undefined: undefined;\" src=\"images/svm_opt.png\" alt=\"\" width=\"461\" height=\"163\" /></p>\n",
    "<ul>\n",
    "<li>Diselesaikan dengan \"mudah\" via linear/quadratic programming.</li>\n",
    "<li>Fungsi ini **Convex** sehingga penyelesaiannya menghasilkan nilai Global Optimal.</li>\n",
    "</ul>\n",
    "\n",
    "* **Interpretasi**: Recursive Feature Elimination (RFE) method melihat bentuk kuadrat dari setiap komponen *w* (higher better)."
   ]
  },
  {
   "cell_type": "markdown",
   "metadata": {
    "slideshow": {
     "slide_type": "slide"
    }
   },
   "source": [
    "# <center><font color=\"blue\">SVM Kernel (trick): $R^m \\rightarrow R^n, n\\geq m$</font></center>\n",
    "\n",
    "<p><img alt=\"\" src=\"images/6_SVM_Kernel.jpg\" style=\"height:168px; width:306px\" /></p>"
   ]
  },
  {
   "cell_type": "markdown",
   "metadata": {
    "slideshow": {
     "slide_type": "slide"
    }
   },
   "source": [
    "# <center><font color=\"blue\">Contoh Fungsi Kernel</font></center>\n",
    "\n",
    "* Misal x = (x1, x2, x3); y = (y1, y2, y3). \n",
    "* dan fungsi pemetaan variabelnya f(x) = (x1², x1x2, x1x3, x2x1, x2², x2x3, x3x1, x3x2, x3²), \n",
    "* maka kernelnya adalah K(x, y ) = <f(x), f(y)> = <x, y>².\n",
    "* Contoh numerik misal x = (1, 2, 3) dan y = (4, 5, 6). maka:\n",
    "* f(x) = (1, 2, 3, 2, 4, 6, 3, 6, 9) <br> f(y) = (16, 20, 24, 20, 25, 30, 24, 30, 36)\n",
    "* <f(x), f(y)> = 16 + 40 + 72 + 40 + 100+ 180 + 72 + 180 + 324 = 1024\n",
    "* complicated!... **Menggunakan fungsi kernel perhitungannya bisa disederhanakan**:\n",
    "* K(x, y) = (4 + 10 + 18)² = 32² = 1024\n",
    "* Artinya perhitungan di dimensi yang tinggi dapat dilakukan di dimensi satu via inner product!."
   ]
  },
  {
   "cell_type": "markdown",
   "metadata": {
    "slideshow": {
     "slide_type": "slide"
    }
   },
   "source": [
    "# <center><font color=\"blue\">Contoh Fungsi Kernel yang Populer</font></center>\n",
    "\n",
    "<p><img alt=\"\" src=\"images/Well-Known_Kernels.png\" style=\"width: 400px; height: 208px;\" /></p>"
   ]
  },
  {
   "cell_type": "markdown",
   "metadata": {
    "slideshow": {
     "slide_type": "slide"
    }
   },
   "source": [
    "# <center><font color=\"blue\">Kelebihan dan Kekurangan SVM</font></center>\n",
    "\n",
    "<p><b>Pros</b></p>\n",
    "\n",
    "<ul>\n",
    "\t<li>Akurasinya Baik</li>\n",
    "\t<li>Bekerja dengan baik untuk sampel data yang relatif kecil</li>\n",
    "\t<li>Hanya bergantung pada SV ==&gt; meningkatkan efisiensi</li>\n",
    "\t<li>Convex ==&gt; Minimum Global ==&gt; Pasti Konvergen</li>\n",
    "</ul>\n",
    "\n",
    "<p><b>Cons</b></p>\n",
    "\n",
    "<ul>\n",
    "\t<li>Tidak efisien untuk data yang besar</li>\n",
    "\t<li>Akurasi terkadang rendah untuk multiklasifikasi (sulit mendapatkan hubungan antar kategori di modelnya)</li>\n",
    "\t<li>Tidak robust terhadap noise</li>\n",
    "</ul>\n",
    "\n",
    "Bacaan lebih lanjut:\n",
    "* https://medium.com/machine-learning-101/chapter-2-svm-support-vector-machine-theory-f0812effc72\n",
    "* Contoh Perhitungan Manual: https://slideplayer.info/slide/3672979/?fbclid=IwAR3Tteg_PbKwkBxV63FGfat3o9UBfHBnjvGHwlyYcrxKTWeb6gfsSpBAQBE\n"
   ]
  },
  {
   "cell_type": "code",
   "execution_count": 4,
   "metadata": {
    "slideshow": {
     "slide_type": "slide"
    }
   },
   "outputs": [
    {
     "name": "stdout",
     "output_type": "stream",
     "text": [
      "[[11  0  0]\n",
      " [ 0 15  0]\n",
      " [ 0  0 19]]\n",
      "              precision    recall  f1-score   support\n",
      "\n",
      "      setosa       1.00      1.00      1.00        11\n",
      "  versicolor       1.00      1.00      1.00        15\n",
      "   virginica       1.00      1.00      1.00        19\n",
      "\n",
      "    accuracy                           1.00        45\n",
      "   macro avg       1.00      1.00      1.00        45\n",
      "weighted avg       1.00      1.00      1.00        45\n",
      "\n"
     ]
    }
   ],
   "source": [
    "# Fitting and evaluate the model\n",
    "dSVM = svm.SVC(C = 10**5, kernel = 'linear')#Misal menggunakan kernel Linear\n",
    "\n",
    "dSVM.fit(df1_train, y1_train)\n",
    "y_SVM1 = dSVM.predict(df1_test)\n",
    "\n",
    "print(confusion_matrix(y1_test, y_SVM1))\n",
    "print(classification_report(y1_test, y_SVM1))"
   ]
  },
  {
   "cell_type": "code",
   "execution_count": 5,
   "metadata": {
    "slideshow": {
     "slide_type": "slide"
    }
   },
   "outputs": [
    {
     "name": "stdout",
     "output_type": "stream",
     "text": [
      "index dr SV-nya:  [14 41 83  0 12 80 93 15 18 31 42 43 88]\n",
      "Vector Datanya: \n",
      " [[4.5 2.3 1.3 0.3]\n",
      " [5.1 3.8 1.9 0.4]\n",
      " [5.1 3.3 1.7 0.5]\n",
      " [5.1 2.5 3.  1.1]\n",
      " [5.9 3.2 4.8 1.8]\n",
      " [6.  2.7 5.1 1.6]\n",
      " [6.7 3.  5.  1.7]\n",
      " [6.3 2.8 5.1 1.5]\n",
      " [7.2 3.  5.8 1.6]\n",
      " [6.1 3.  4.9 1.8]\n",
      " [6.5 3.2 5.1 2. ]\n",
      " [6.3 2.7 4.9 1.8]\n",
      " [4.9 2.5 4.5 1.7]]\n"
     ]
    }
   ],
   "source": [
    "# The Support Vectors\n",
    "print('index dr SV-nya: ', dSVM.support_)\n",
    "print('Vector Datanya: \\n', dSVM.support_vectors_)"
   ]
  },
  {
   "cell_type": "code",
   "execution_count": 6,
   "metadata": {
    "slideshow": {
     "slide_type": "slide"
    }
   },
   "outputs": [
    {
     "name": "stdout",
     "output_type": "stream",
     "text": [
      "w =  [[-0.04630589  0.52106895 -1.00301941 -0.46411937]\n",
      " [ 0.04017805  0.17410509 -0.55713561 -0.2437469 ]\n",
      " [ 3.71728255  3.70419394 -7.34998011 -8.65276999]]\n",
      "b =  [ 1.45332688  1.28948112 17.22405187]\n"
     ]
    }
   ],
   "source": [
    "# Model Weights for interpretations\n",
    "print('w = ',dSVM.coef_)\n",
    "print('b = ',dSVM.intercept_)"
   ]
  },
  {
   "cell_type": "code",
   "execution_count": 7,
   "metadata": {
    "slideshow": {
     "slide_type": "slide"
    }
   },
   "outputs": [
    {
     "name": "stdout",
     "output_type": "stream",
     "text": [
      "0.24444444444444444\n",
      "0.9777777777777777\n",
      "0.9333333333333333\n",
      "0.9555555555555556\n"
     ]
    }
   ],
   "source": [
    "# Menggunakan Kernel: http://scikit-learn.org/stable/modules/svm.html#svm-kernels\n",
    "for kernel in ('sigmoid', 'poly', 'rbf', 'linear'):\n",
    "    dSVM = svm.SVC(kernel=kernel)\n",
    "    dSVM.fit(df1_train, y1_train)\n",
    "    y_SVM = dSVM.predict(df1_test)\n",
    "    print(accuracy_score(y1_test, y_SVM))"
   ]
  },
  {
   "cell_type": "code",
   "execution_count": 8,
   "metadata": {},
   "outputs": [
    {
     "name": "stdout",
     "output_type": "stream",
     "text": [
      "Accuracy SVM: 0.98 (+/- 0.09), Waktu = 0.671 detik\n"
     ]
    }
   ],
   "source": [
    "dSVM = svm.SVC(C = 10**5, kernel = 'linear')\n",
    "mulai = time.time()\n",
    "scores_svm = cross_val_score(dSVM, df1, y1, cv=10) # perhatikan sekarang kita menggunakan seluruh data\n",
    "waktu = time.time() - mulai\n",
    "print(\"Accuracy SVM: %0.2f (+/- %0.2f), Waktu = %0.3f detik\" % (scores_svm.mean(), scores_svm.std() * 2, waktu))"
   ]
  },
  {
   "cell_type": "code",
   "execution_count": 9,
   "metadata": {},
   "outputs": [
    {
     "data": {
      "text/plain": [
       "kNN         0.866667\n",
       "RegLog      0.933333\n",
       "NaiveBys    0.866667\n",
       "DecTree     0.866667\n",
       "Forest      0.866667\n",
       "SVM         0.866667\n",
       "dtype: float64"
      ]
     },
     "execution_count": 9,
     "metadata": {},
     "output_type": "execute_result"
    },
    {
     "data": {
      "image/png": "[encoded data removed]",
      "text/plain": [
       "<Figure size 432x288 with 1 Axes>"
      ]
     },
     "metadata": {},
     "output_type": "display_data"
    }
   ],
   "source": [
    "# Visualisasi untuk mengevaluasi & membandingkan model dengan lebih baik lagi\n",
    "df_['SVM'] = scores_svm\n",
    "p = sns.boxplot(data = df_)\n",
    "df_.min()"
   ]
  },
  {
   "cell_type": "markdown",
   "metadata": {},
   "source": [
    "# <center><font color=\"blue\">Induktif Bias</font></center>\n",
    "\n",
    "<ul>\n",
    "\t<li>Bias penaksiran parameter (statistik)</li>\n",
    "\t<li>Induktif Bias Sample (Machine Learning - Tom Mitchel)</li>\n",
    "\t<li>Induktif Bias Pemilihan Classifier (Statistical Learning Theory - Vapnik)</li>\n",
    "</ul>\n",
    "<img alt=\"\" src=\"images/inductive_biases_.png\" style=\"width: 600px; height: 153px;\" />"
   ]
  },
  {
   "cell_type": "markdown",
   "metadata": {},
   "source": [
    "<img alt=\"\" src=\"images/class.png\" />"
   ]
  },
  {
   "cell_type": "markdown",
   "metadata": {
    "slideshow": {
     "slide_type": "slide"
    }
   },
   "source": [
    "# <center><font color=\"blue\">(Hyper)Parameter Optimization</font></center>\n",
    "\n",
    "* Perbandingan yang baru saja kita lakukan walau sudah CV, namun belum sepenuhnya valid.\n",
    "* Saat membandingkan model, maka kita harus meyakinkan seluruh model mendapatkan parameternya yang optimal.\n",
    "\n",
    "<img alt=\"\" src=\"images/hyper-parameter_tunning.png\" />"
   ]
  },
  {
   "cell_type": "code",
   "execution_count": 10,
   "metadata": {
    "slideshow": {
     "slide_type": "slide"
    }
   },
   "outputs": [
    {
     "name": "stdout",
     "output_type": "stream",
     "text": [
      "(768, 9) {0, 1}\n"
     ]
    },
    {
     "data": {
      "text/html": [
       "<div>\n",
       "<style scoped>\n",
       "    .dataframe tbody tr th:only-of-type {\n",
       "        vertical-align: middle;\n",
       "    }\n",
       "\n",
       "    .dataframe tbody tr th {\n",
       "        vertical-align: top;\n",
       "    }\n",
       "\n",
       "    .dataframe thead th {\n",
       "        text-align: right;\n",
       "    }\n",
       "</style>\n",
       "<table border=\"1\" class=\"dataframe\">\n",
       "  <thead>\n",
       "    <tr style=\"text-align: right;\">\n",
       "      <th></th>\n",
       "      <th>preg</th>\n",
       "      <th>plas</th>\n",
       "      <th>pres</th>\n",
       "      <th>skin</th>\n",
       "      <th>test</th>\n",
       "      <th>mass</th>\n",
       "      <th>pedi</th>\n",
       "      <th>age</th>\n",
       "      <th>class</th>\n",
       "    </tr>\n",
       "  </thead>\n",
       "  <tbody>\n",
       "    <tr>\n",
       "      <th>716</th>\n",
       "      <td>3</td>\n",
       "      <td>173</td>\n",
       "      <td>78</td>\n",
       "      <td>39</td>\n",
       "      <td>185</td>\n",
       "      <td>33.8</td>\n",
       "      <td>0.970</td>\n",
       "      <td>31</td>\n",
       "      <td>1</td>\n",
       "    </tr>\n",
       "    <tr>\n",
       "      <th>483</th>\n",
       "      <td>0</td>\n",
       "      <td>84</td>\n",
       "      <td>82</td>\n",
       "      <td>31</td>\n",
       "      <td>125</td>\n",
       "      <td>38.2</td>\n",
       "      <td>0.233</td>\n",
       "      <td>23</td>\n",
       "      <td>0</td>\n",
       "    </tr>\n",
       "    <tr>\n",
       "      <th>98</th>\n",
       "      <td>6</td>\n",
       "      <td>93</td>\n",
       "      <td>50</td>\n",
       "      <td>30</td>\n",
       "      <td>64</td>\n",
       "      <td>28.7</td>\n",
       "      <td>0.356</td>\n",
       "      <td>23</td>\n",
       "      <td>0</td>\n",
       "    </tr>\n",
       "    <tr>\n",
       "      <th>48</th>\n",
       "      <td>7</td>\n",
       "      <td>103</td>\n",
       "      <td>66</td>\n",
       "      <td>32</td>\n",
       "      <td>0</td>\n",
       "      <td>39.1</td>\n",
       "      <td>0.344</td>\n",
       "      <td>31</td>\n",
       "      <td>1</td>\n",
       "    </tr>\n",
       "    <tr>\n",
       "      <th>595</th>\n",
       "      <td>0</td>\n",
       "      <td>188</td>\n",
       "      <td>82</td>\n",
       "      <td>14</td>\n",
       "      <td>185</td>\n",
       "      <td>32.0</td>\n",
       "      <td>0.682</td>\n",
       "      <td>22</td>\n",
       "      <td>1</td>\n",
       "    </tr>\n",
       "  </tbody>\n",
       "</table>\n",
       "</div>"
      ],
      "text/plain": [
       "     preg  plas  pres  skin  test  mass   pedi  age  class\n",
       "716     3   173    78    39   185  33.8  0.970   31      1\n",
       "483     0    84    82    31   125  38.2  0.233   23      0\n",
       "98      6    93    50    30    64  28.7  0.356   23      0\n",
       "48      7   103    66    32     0  39.1  0.344   31      1\n",
       "595     0   188    82    14   185  32.0  0.682   22      1"
      ]
     },
     "execution_count": 10,
     "metadata": {},
     "output_type": "execute_result"
    }
   ],
   "source": [
    "names = ['preg', 'plas', 'pres', 'skin', 'test', 'mass', 'pedi', 'age', 'class']\n",
    "file = 'data/diabetes_data.csv'\n",
    "\n",
    "try:\n",
    "    # Local jupyter notebook, assuming \"file\" is in the \"data\" directory\n",
    "    data = pd.read_csv(file, names=names)\n",
    "except:\n",
    "    # it's a google colab... create folder data and then download the file from github\n",
    "    !mkdir data\n",
    "    !wget -P data/ https://raw.githubusercontent.com/taudata-indonesia/eLearning/master/{file}\n",
    "    data = pd.read_csv(file, names=names)\n",
    "    \n",
    "print(data.shape, set(data['class']))\n",
    "data.sample(5)"
   ]
  },
  {
   "cell_type": "code",
   "execution_count": 11,
   "metadata": {
    "slideshow": {
     "slide_type": "slide"
    }
   },
   "outputs": [
    {
     "name": "stdout",
     "output_type": "stream",
     "text": [
      "{0.0, 1.0}, (614, 8), (154, 8)\n"
     ]
    }
   ],
   "source": [
    "# Split Train-Test\n",
    "\n",
    "X = data.values[:,:8]  # Slice data (perhatikan disini struktur data adalah Numpy Array)\n",
    "Y = data.values[:,8]\n",
    "x_train, x_test, y_train, y_test = train_test_split(X, Y, test_size=0.2, random_state=99)\n",
    "\n",
    "print(set(Y), x_train.shape, x_test.shape, sep=', ')"
   ]
  },
  {
   "cell_type": "markdown",
   "metadata": {
    "slideshow": {
     "slide_type": "slide"
    }
   },
   "source": [
    "# <center><font color=\"blue\">Kita Jalankan Terlebih Dahulu dengan \"Default Parameter\"</font></center>"
   ]
  },
  {
   "cell_type": "code",
   "execution_count": 12,
   "metadata": {
    "slideshow": {
     "slide_type": "slide"
    }
   },
   "outputs": [
    {
     "name": "stderr",
     "output_type": "stream",
     "text": [
      "100%|████████████████████████████████████████████████████████████████████████████████████| 6/6 [00:09<00:00,  1.53s/it]\n"
     ]
    },
    {
     "name": "stdout",
     "output_type": "stream",
     "text": [
      "Regresi Logistik [0.6290322580645161, 0.8225806451612904, 0.7741935483870968, 0.7096774193548387]\n",
      "k-NN [0.6935483870967742, 0.6935483870967742, 0.7258064516129032, 0.5967741935483871]\n",
      "Naive Bayes [0.7096774193548387, 0.8387096774193549, 0.6774193548387096, 0.7580645161290323]\n",
      "Decision Tree [0.6290322580645161, 0.7419354838709677, 0.6935483870967742, 0.7580645161290323]\n",
      "Random Forest [0.7258064516129032, 0.8064516129032258, 0.7258064516129032, 0.7419354838709677]\n",
      "SVM [0.7096774193548387, 0.7903225806451613, 0.6935483870967742, 0.7258064516129032]\n"
     ]
    },
    {
     "data": {
      "image/png": "[encoded data removed]",
      "text/plain": [
       "<Figure size 720x576 with 1 Axes>"
      ]
     },
     "metadata": {},
     "output_type": "display_data"
    }
   ],
   "source": [
    "clf = LogisticRegression(solver='liblinear')\n",
    "kNN = neighbors.KNeighborsClassifier()\n",
    "gnb = GaussianNB()\n",
    "dt = tree.DecisionTreeClassifier()\n",
    "rf = RandomForestClassifier()\n",
    "svm_ = svm.SVC()\n",
    "\n",
    "Models = [('Regresi Logistik', clf), ('k-NN',kNN), ('Naive Bayes',gnb), ('Decision Tree', dt), ('Random Forest', rf), ('SVM', svm_)]\n",
    "Scores = {}\n",
    "for model_name, model in tqdm(Models):\n",
    "    Scores[model_name] = cross_val_score(model, x_train, y_train, cv=10, scoring='accuracy')\n",
    "\n",
    "fig, ax = plt.subplots(1, 1, figsize=(10, 8))\n",
    "dt = pd.DataFrame.from_dict(Scores)\n",
    "ax = sns.boxplot(data=dt, ax=ax)\n",
    "for m, s in Scores.items():\n",
    "    print(m, list(s)[:4])"
   ]
  },
  {
   "cell_type": "markdown",
   "metadata": {
    "slideshow": {
     "slide_type": "slide"
    }
   },
   "source": [
    "# <center><font color=\"blue\">Hyperparameter Optimization</font></center>\n",
    "\n",
    "<ul>\n",
    "<li>Misal akan dicontohkan dua algoritma (model) yang sudah kita bahas sebelumnya: k-NN dan SVM</li>\n",
    "<li>Sebagai latihan silahkan untuk mencoba HO pada model yang lain.</li>\n",
    "<li>Parameter tiap model di ML berbeda-beda dan nilai optimalnya berbeda pada setiap kasus.</li>\n",
    "</ul>\n",
    "<p><img src=\"images/rand_grid_search.png\" alt=\"\" width=\"811\" height=\"406\" /></p>"
   ]
  },
  {
   "cell_type": "markdown",
   "metadata": {
    "slideshow": {
     "slide_type": "slide"
    }
   },
   "source": [
    "<img alt=\"\" src=\"images/grid_search_workflow.png\" />"
   ]
  },
  {
   "cell_type": "code",
   "execution_count": 13,
   "metadata": {
    "slideshow": {
     "slide_type": "slide"
    }
   },
   "outputs": [
    {
     "name": "stdout",
     "output_type": "stream",
     "text": [
      "Fitting 10 folds for each of 16 candidates, totalling 160 fits\n",
      "0.7297726070861978\n",
      "{'kneighborsclassifier__n_neighbors': 20, 'kneighborsclassifier__weights': 'uniform'}\n"
     ]
    }
   ],
   "source": [
    "# Hyperparameter optimization pada model kNN menggunakan gridCV\n",
    "kCV = 10\n",
    "metric = 'accuracy'\n",
    "params = {}\n",
    "params['kneighborsclassifier__n_neighbors'] = [1, 3, 5, 10, 15, 20, 25, 30]\n",
    "params['kneighborsclassifier__weights'] = ('distance', 'uniform')\n",
    "\n",
    "pipe = make_pipeline(neighbors.KNeighborsClassifier())\n",
    "optKnn = GridSearchCV(pipe, params, cv=kCV, scoring=metric, verbose=1, n_jobs=-2) #\n",
    "optKnn.fit(x_train, y_train)\n",
    "print(optKnn.best_score_)\n",
    "print(optKnn.best_params_)"
   ]
  },
  {
   "cell_type": "code",
   "execution_count": 14,
   "metadata": {
    "slideshow": {
     "slide_type": "slide"
    }
   },
   "outputs": [
    {
     "name": "stdout",
     "output_type": "stream",
     "text": [
      "['memory', 'steps', 'svc', 'svc__C', 'svc__break_ties', 'svc__cache_size', 'svc__class_weight', 'svc__coef0', 'svc__decision_function_shape', 'svc__degree', 'svc__gamma', 'svc__kernel', 'svc__max_iter', 'svc__probability', 'svc__random_state', 'svc__shrinking', 'svc__tol', 'svc__verbose', 'verbose']\n"
     ]
    }
   ],
   "source": [
    "# Contoh Hyperparameter optimization pada model SVM menggunakan RandomizedSearchCV\n",
    "# https://scikit-learn.org/stable/modules/generated/sklearn.svm.SVC.html\n",
    "# Berikut ini contoh bagaimana mengetahui parameter yang dapat kita optimasi.\n",
    "# Gunakan pengetahuan teori/analitik untuk mengoptimasi hanya parameter yang paling penting.\n",
    "pipeSVM = make_pipeline(svm.SVC())\n",
    "print(sorted(pipeSVM.get_params().keys()))"
   ]
  },
  {
   "cell_type": "code",
   "execution_count": 15,
   "metadata": {
    "scrolled": false
   },
   "outputs": [
    {
     "name": "stdout",
     "output_type": "stream",
     "text": [
      "Fitting 10 folds for each of 10 candidates, totalling 100 fits\n",
      "0.7573241671073505\n",
      "{'svc__kernel': 'linear', 'svc__gamma': 1, 'svc__C': 10}\n"
     ]
    }
   ],
   "source": [
    "# Optimal parameter SVM dengan RandomizedSearch\n",
    "# WARNING cell ini butuh waktu komputasi cukup lama\n",
    "kCV = 10\n",
    "paramsSVM = {}\n",
    "paramsSVM['svc__C'] = [1, 10, 100, 1000] #sp.stats.uniform(scale=100)\n",
    "paramsSVM['svc__gamma'] = [0.1, 0.001, 0.0001, 1, 10]\n",
    "paramsSVM['svc__kernel'] = ['rbf', 'sigmoid', 'linear'] # , 'poly'\n",
    "optSvm = RandomizedSearchCV(pipeSVM, paramsSVM, cv=kCV, scoring=metric, verbose=2, n_jobs=-2) # refit=True, pre_dispatch='2*n_jobs' pre_dispatch min 2* n_jobs\n",
    "optSvm.fit(x_train, y_train)\n",
    "print(optSvm.best_score_)\n",
    "print(optSvm.best_params_)"
   ]
  },
  {
   "cell_type": "markdown",
   "metadata": {
    "slideshow": {
     "slide_type": "slide"
    }
   },
   "source": [
    "# Model Selection\n",
    "\n",
    "<img alt=\"\" src=\"images/model_selection.png\" />"
   ]
  },
  {
   "cell_type": "code",
   "execution_count": 27,
   "metadata": {
    "slideshow": {
     "slide_type": "slide"
    }
   },
   "outputs": [
    {
     "name": "stderr",
     "output_type": "stream",
     "text": [
      "[Parallel(n_jobs=-2)]: Using backend LokyBackend with 7 concurrent workers.\n",
      "[Parallel(n_jobs=-2)]: Done   8 out of  10 | elapsed:   12.9s remaining:    3.2s\n",
      "[Parallel(n_jobs=-2)]: Done  10 out of  10 | elapsed:   13.0s finished\n",
      "[Parallel(n_jobs=-2)]: Using backend LokyBackend with 7 concurrent workers.\n",
      "[Parallel(n_jobs=-2)]: Done   8 out of  10 | elapsed:   23.7s remaining:    5.9s\n",
      "[Parallel(n_jobs=-2)]: Done  10 out of  10 | elapsed:   35.1s finished\n"
     ]
    },
    {
     "name": "stdout",
     "output_type": "stream",
     "text": [
      "Accuracy kNN: 0.71 (+/- 0.17)\n",
      "Accuracy SVM: 0.78 (+/- 0.20)\n"
     ]
    },
    {
     "data": {
      "image/png": "[encoded data removed]",
      "text/plain": [
       "<Figure size 576x432 with 1 Axes>"
      ]
     },
     "metadata": {},
     "output_type": "display_data"
    }
   ],
   "source": [
    "kCV = 10\n",
    "# Menggunakan parameter optimal\n",
    "kNN = neighbors.KNeighborsClassifier(n_neighbors= 20, weights= 'uniform')\n",
    "svm_ = svm.SVC(kernel= 'linear', gamma= 10, C= 10)\n",
    "\n",
    "# Melakukan Cross Validasi\n",
    "models = ['kNN', 'SVM']\n",
    "knn_score = cross_val_score(kNN, x_test, y_test, cv=kCV, scoring='accuracy', n_jobs=-2, verbose=1)\n",
    "svm_score = cross_val_score(svm_, x_test, y_test, cv=kCV, scoring='accuracy', n_jobs=-2, verbose=1)\n",
    "scores = [knn_score, svm_score]\n",
    "\n",
    "data = {m:s for m,s in zip(models, scores)}\n",
    "for name in data.keys():\n",
    "    print(\"Accuracy %s: %0.2f (+/- %0.2f)\" % (name, data[name].mean(), data[name].std() * 2))\n",
    "\n",
    "fig, ax = plt.subplots(1, 1, figsize=(8, 6))\n",
    "p = sns.boxplot(data=pd.DataFrame(data), ax=ax)"
   ]
  },
  {
   "cell_type": "markdown",
   "metadata": {},
   "source": [
    "# <center><font color=\"blue\">Ensemble Model</font></center>\n",
    "\n",
    "<ul>\n",
    "\t<li>What? a learning algorithms that construct a set of classifiers and then classify new data points by taking a (weighted) vote of their predictions.</li>\n",
    "\t<li>Why? Better prediction, More stable model</li>\n",
    "\t<li>How? Bagging &amp; Boosting</li>\n",
    "</ul>\n",
    "<img alt=\"\" src=\"images/Ensemble.png\" style=\"width: 500px; height: 213px;\" />"
   ]
  },
  {
   "cell_type": "markdown",
   "metadata": {},
   "source": [
    "# <center><font color=\"blue\">“meta-algorithms” : Bagging & Boosting</font></center>\n",
    "\n",
    "<p><img style=\"undefined: undefined;\" src=\"images/Bagging_VS_Boosting.png\" alt=\"\" width=\"911\" height=\"337\" /></p>\n",
    "\n",
    "* Ensemble https://www.youtube.com/watch?v=Un9zObFjBH0 \n",
    "* Bagging https://www.youtube.com/watch?v=2Mg8QD0F1dQ \n",
    "* Boosting https://www.youtube.com/watch?v=GM3CDQfQ4sw"
   ]
  },
  {
   "cell_type": "markdown",
   "metadata": {},
   "source": [
    "# <center><font color=\"blue\">Boosting in ML</font></center>\n",
    "\n",
    "<center><video controls src=\"videos/Boosting.mp4\"/></center>"
   ]
  },
  {
   "cell_type": "markdown",
   "metadata": {},
   "source": [
    "# <center><font color=\"blue\">Property of Boosting</font></center>\n",
    "<img alt=\"\" src=\"images/Bagging-Boosting_Usage.png\" style=\"width: 500px; height: 281px;\" />"
   ]
  },
  {
   "cell_type": "markdown",
   "metadata": {},
   "source": [
    "# <center><font color=\"blue\">AdaBoost</font></center>\n",
    "<ul>\n",
    "\t<li><a href=\"https://youtu.be/BoGNyWW9-mE?t=70\" target=\"_blank\">https://youtu.be/BoGNyWW9-mE?t=70</a></li>\n",
    "</ul>\n",
    "<img alt=\"\" src=\"images/AdaBoost.png\" style=\"width: 400px; height: 332px;\" />"
   ]
  },
  {
   "cell_type": "code",
   "execution_count": 17,
   "metadata": {},
   "outputs": [
    {
     "name": "stdout",
     "output_type": "stream",
     "text": [
      "Akurasi k-NN 0.7142857142857143\n",
      "Akurasi Decision Tree 0.6818181818181818\n",
      "Akurasi Votting 0.7337662337662337\n"
     ]
    }
   ],
   "source": [
    "# Contoh Voting (Bagging) di Python\n",
    "# Catatan : Random Forest termasuk Bagging Ensemble (walau modified)\n",
    "# Best practicenya Model yang di ensemble semuanya menggunakan Optimal Parameter\n",
    "\n",
    "kNN = neighbors.KNeighborsClassifier(3)\n",
    "kNN.fit(x_train, y_train)\n",
    "Y_kNN = kNN.score(x_test, y_test)\n",
    "\n",
    "DT = tree.DecisionTreeClassifier(random_state=1)\n",
    "DT.fit(x_train, y_train)\n",
    "Y_DT = DT.score(x_test, y_test)\n",
    "\n",
    "model = VotingClassifier(estimators=[('k-NN', kNN), ('Decision Tree', DT)], voting='hard')\n",
    "model.fit(x_train,y_train)\n",
    "Y_Vot = model.score(x_test,y_test)\n",
    "\n",
    "print('Akurasi k-NN', Y_kNN)\n",
    "print('Akurasi Decision Tree', Y_DT)\n",
    "print('Akurasi Votting', Y_Vot)"
   ]
  },
  {
   "cell_type": "code",
   "execution_count": 18,
   "metadata": {},
   "outputs": [
    {
     "name": "stdout",
     "output_type": "stream",
     "text": [
      "[[0.86747711 0.13252289]\n",
      " [0.9656968  0.0343032 ]\n",
      " [0.90409449 0.09590551]\n",
      " [0.81735196 0.18264804]\n",
      " [0.97683242 0.02316758]]\n",
      "[0, 0, 0, 0, 0]\n",
      "Akurasi Averaging 0.7402597402597403\n"
     ]
    }
   ],
   "source": [
    "# Averaging juga bisa digunakan di Klasifikasi (ndak hanya Regresi), \n",
    "# tapi kita pakai probabilitas dari setiap kategori\n",
    "T = tree.DecisionTreeClassifier()\n",
    "K = neighbors.KNeighborsClassifier()\n",
    "R = LogisticRegression()\n",
    "\n",
    "T.fit(x_train,y_train)\n",
    "K.fit(x_train,y_train)\n",
    "R.fit(x_train,y_train)\n",
    "\n",
    "y_T=T.predict_proba(x_test)\n",
    "y_K=K.predict_proba(x_test)\n",
    "y_R=R.predict_proba(x_test)\n",
    "\n",
    "Ave = (y_T+y_K+y_R)/3\n",
    "print(Ave[:5]) # Print just first 5\n",
    "prediction = [v.index(max(v)) for v in Ave.tolist()]\n",
    "print(prediction[:5]) # Print just first 5\n",
    "print('Akurasi Averaging', accuracy_score(y_test, prediction))"
   ]
  },
  {
   "cell_type": "code",
   "execution_count": 19,
   "metadata": {},
   "outputs": [
    {
     "name": "stdout",
     "output_type": "stream",
     "text": [
      "0.7421565276828435\n"
     ]
    }
   ],
   "source": [
    "# AdaBoost\n",
    "num_trees = 100\n",
    "kfold = model_selection.KFold(n_splits=10)\n",
    "model = AdaBoostClassifier(n_estimators=num_trees, random_state=33)\n",
    "results = model_selection.cross_val_score(model, X, Y, cv=kfold)\n",
    "print(results.mean())"
   ]
  },
  {
   "cell_type": "markdown",
   "metadata": {},
   "source": [
    "# <center><font color=\"blue\">Imbalance Data</font></center>\n",
    "\n",
    "* Metric Trap\n",
    "* Akurasi kategori tertentu lebih penting\n",
    "* Contoh kasus\n",
    "<img alt=\"\" src=\"images/imbalance.png\" />"
   ]
  },
  {
   "cell_type": "markdown",
   "metadata": {},
   "source": [
    "# <center><font color=\"blue\">Imbalance Learning</font></center>\n",
    "\n",
    "<img alt=\"\" src=\"images/under-over-sampling.png\" style=\"width: 500px; height: 147px;\" />\n",
    "\n",
    "* Undersampling, Oversampling, Model Based (weight adjustment)\n",
    "* https://www.kaggle.com/rafjaa/resampling-strategies-for-imbalanced-datasets\n",
    "* Plot perbandingan: https://imbalanced-learn.readthedocs.io/en/stable/auto_examples/combine/plot_comparison_combine.html#sphx-glr-auto-examples-combine-plot-comparison-combine-py"
   ]
  },
  {
   "cell_type": "code",
   "execution_count": 20,
   "metadata": {},
   "outputs": [
    {
     "data": {
      "text/plain": [
       "Counter({1.0: 268, 0.0: 500})"
      ]
     },
     "execution_count": 20,
     "metadata": {},
     "output_type": "execute_result"
    }
   ],
   "source": [
    "Counter(Y)"
   ]
  },
  {
   "cell_type": "code",
   "execution_count": 21,
   "metadata": {},
   "outputs": [
    {
     "name": "stdout",
     "output_type": "stream",
     "text": [
      "[[93 12]\n",
      " [19 30]]\n",
      "              precision    recall  f1-score   support\n",
      "\n",
      "         0.0       0.83      0.89      0.86       105\n",
      "         1.0       0.71      0.61      0.66        49\n",
      "\n",
      "    accuracy                           0.80       154\n",
      "   macro avg       0.77      0.75      0.76       154\n",
      "weighted avg       0.79      0.80      0.79       154\n",
      "\n"
     ]
    }
   ],
   "source": [
    "# fit the model and get the separating hyperplane using weighted classes\n",
    "\n",
    "svm_ = svm.SVC(kernel='linear')\n",
    "svm_.fit(x_train, y_train)\n",
    "y_SVMib = svm_.predict(x_test)\n",
    "\n",
    "print(confusion_matrix(y_test, y_SVMib))\n",
    "print(classification_report(y_test, y_SVMib))"
   ]
  },
  {
   "cell_type": "code",
   "execution_count": 22,
   "metadata": {},
   "outputs": [
    {
     "name": "stdout",
     "output_type": "stream",
     "text": [
      "[[67 38]\n",
      " [ 7 42]]\n",
      "              precision    recall  f1-score   support\n",
      "\n",
      "         0.0       0.91      0.64      0.75       105\n",
      "         1.0       0.53      0.86      0.65        49\n",
      "\n",
      "    accuracy                           0.71       154\n",
      "   macro avg       0.72      0.75      0.70       154\n",
      "weighted avg       0.78      0.71      0.72       154\n",
      "\n"
     ]
    }
   ],
   "source": [
    "# fit the model and get the separating hyperplane using weighted classes\n",
    "# x_train, x_test, y_train, y_test\n",
    "\n",
    "svm_balanced = svm.SVC(kernel='linear', class_weight={1: 3}) #WEIGHTED SVM\n",
    "svm_balanced.fit(x_train, y_train)\n",
    "y_SVMb = svm_balanced.predict(x_test)\n",
    "\n",
    "print(confusion_matrix(y_test, y_SVMb))\n",
    "print(classification_report(y_test, y_SVMb))"
   ]
  },
  {
   "cell_type": "code",
   "execution_count": 23,
   "metadata": {},
   "outputs": [
    {
     "data": {
      "image/png": "[encoded data removed]",
      "text/plain": [
       "<Figure size 432x288 with 1 Axes>"
      ]
     },
     "metadata": {},
     "output_type": "display_data"
    }
   ],
   "source": [
    "# Example of model-based imbalance treatment - SVM\n",
    "from sklearn.datasets import make_blobs\n",
    "n_samples_1, n_samples_2 = 1000, 100\n",
    "centers = [[0.0, 0.0], [2.0, 2.0]]\n",
    "clusters_std = [1.5, 0.5]\n",
    "X, y = make_blobs(n_samples=[n_samples_1, n_samples_2],centers=centers,cluster_std=clusters_std,random_state=33, shuffle=False)\n",
    "\n",
    "# fit the model and get the separating hyperplane\n",
    "clf = svm.SVC(kernel='linear', C=1.0)\n",
    "clf.fit(X, y)\n",
    "\n",
    "# fit the model and get the separating hyperplane using weighted classes\n",
    "wclf = svm.SVC(kernel='linear', class_weight={1: 10}) #WEIGHTED SVM\n",
    "wclf.fit(X, y)\n",
    "\n",
    "plt.scatter(X[:, 0], X[:, 1], c=y, cmap=plt.cm.Paired, edgecolors='k')# plot the samples\n",
    "ax = plt.gca()# plot the decision functions for both classifiers\n",
    "xlim = ax.get_xlim(); ylim = ax.get_ylim()\n",
    "xx = np.linspace(xlim[0], xlim[1], 30)# create grid to evaluate model\n",
    "yy = np.linspace(ylim[0], ylim[1], 30)\n",
    "YY, XX = np.meshgrid(yy, xx)\n",
    "xy = np.vstack([XX.ravel(), YY.ravel()]).T\n",
    "Z = clf.decision_function(xy).reshape(XX.shape)# get the separating hyperplane\n",
    "a = ax.contour(XX, YY, Z, colors='k', levels=[0], alpha=0.5, linestyles=['-']) # plot decision boundary and margins\n",
    "Z = wclf.decision_function(xy).reshape(XX.shape)# get the separating hyperplane for weighted classes\n",
    "b = ax.contour(XX, YY, Z, colors='r', levels=[0], alpha=0.5, linestyles=['-'])# plot decision boundary and margins for weighted classes\n",
    "plt.legend([a.collections[0], b.collections[0]], [\"non weighted\", \"weighted\"], loc=\"upper right\")\n",
    "plt.show()"
   ]
  },
  {
   "cell_type": "markdown",
   "metadata": {},
   "source": [
    "# <center><font color=\"blue\">Weighted Decision Tree</font></center>"
   ]
  },
  {
   "cell_type": "code",
   "execution_count": 24,
   "metadata": {},
   "outputs": [
    {
     "name": "stdout",
     "output_type": "stream",
     "text": [
      "Akurasi  (Decision tree Biasa) =  0.6883116883116883\n",
      "              precision    recall  f1-score   support\n",
      "\n",
      "         0.0       0.79      0.73      0.76       105\n",
      "         1.0       0.51      0.59      0.55        49\n",
      "\n",
      "    accuracy                           0.69       154\n",
      "   macro avg       0.65      0.66      0.65       154\n",
      "weighted avg       0.70      0.69      0.69       154\n",
      "\n",
      "Akurasi  (Weighted Decision tree) =  0.7012987012987013\n",
      "              precision    recall  f1-score   support\n",
      "\n",
      "         0.0       0.82      0.72      0.77       105\n",
      "         1.0       0.52      0.65      0.58        49\n",
      "\n",
      "    accuracy                           0.70       154\n",
      "   macro avg       0.67      0.69      0.67       154\n",
      "weighted avg       0.72      0.70      0.71       154\n",
      "\n"
     ]
    }
   ],
   "source": [
    "T = tree.DecisionTreeClassifier(random_state = 33)\n",
    "T.fit(x_train,y_train)\n",
    "y_DT = T.predict(x_test)\n",
    "print('Akurasi  (Decision tree Biasa) = ', accuracy_score(y_test, y_DT))\n",
    "print(classification_report(y_test, y_DT))\n",
    "\n",
    "T = tree.DecisionTreeClassifier(class_weight = 'balanced', random_state = 33)\n",
    "T.fit(x_train, y_train)\n",
    "y_DT = T.predict(x_test)\n",
    "print('Akurasi  (Weighted Decision tree) = ', accuracy_score(y_test, y_DT))\n",
    "print(classification_report(y_test, y_DT))"
   ]
  },
  {
   "cell_type": "markdown",
   "metadata": {},
   "source": [
    "# <center><font color=\"blue\"> Studi Kasus (Latihan) ENB2012: Prediksi Penggunaan Energi Gedung</font></center>\n",
    "\n",
    "<img src=\"images/buildings-by-calibrated-simulation.png\" alt=\"\" width=\"503\" height=\"377\" />\n",
    "\n",
    "# <font color=\"green\"> Task</font></center>\n",
    "\n",
    "* Filter data EcoTest dan pilih hanya yang kategori di variabel target muncul min 10 kali (heat-cat)\n",
    "* Lakukan EDA (Preprocessing dan visualisasi dasar)\n",
    "* Tentukan model terbaik (dengan parameter optimal dan cross validasi)\n",
    "* Hati-hati Naive Bayes, Decision Tree dan Random Forest tidak memerlukan one-hot encoding.\n",
    "* Gunakan Metric Micro F1-Score untuk menentukan model terbaiknya.\n",
    "\n",
    "# <font color=\"green\">Optional</font></center>\n",
    "* Coba bandingkan model terbaik diatas dengan model ensemble.\n",
    "* Apakah ada imbalance problem, coba atasi dengan over/under sampling."
   ]
  },
  {
   "cell_type": "code",
   "execution_count": 25,
   "metadata": {},
   "outputs": [
    {
     "name": "stdout",
     "output_type": "stream",
     "text": [
      "(768, 12)\n"
     ]
    },
    {
     "data": {
      "text/html": [
       "<div>\n",
       "<style scoped>\n",
       "    .dataframe tbody tr th:only-of-type {\n",
       "        vertical-align: middle;\n",
       "    }\n",
       "\n",
       "    .dataframe tbody tr th {\n",
       "        vertical-align: top;\n",
       "    }\n",
       "\n",
       "    .dataframe thead th {\n",
       "        text-align: right;\n",
       "    }\n",
       "</style>\n",
       "<table border=\"1\" class=\"dataframe\">\n",
       "  <thead>\n",
       "    <tr style=\"text-align: right;\">\n",
       "      <th></th>\n",
       "      <th>compactness</th>\n",
       "      <th>surface-area</th>\n",
       "      <th>wall-area</th>\n",
       "      <th>roof-area</th>\n",
       "      <th>overall-height</th>\n",
       "      <th>orientation</th>\n",
       "      <th>glazing-area</th>\n",
       "      <th>glazing-dist</th>\n",
       "      <th>heating-load</th>\n",
       "      <th>cooling-load</th>\n",
       "      <th>heat-cat</th>\n",
       "      <th>cool-cat</th>\n",
       "    </tr>\n",
       "  </thead>\n",
       "  <tbody>\n",
       "    <tr>\n",
       "      <th>309</th>\n",
       "      <td>0.76</td>\n",
       "      <td>661.5</td>\n",
       "      <td>416.5</td>\n",
       "      <td>122.50</td>\n",
       "      <td>7.0</td>\n",
       "      <td>3</td>\n",
       "      <td>0.25</td>\n",
       "      <td>1</td>\n",
       "      <td>36.13</td>\n",
       "      <td>37.58</td>\n",
       "      <td>36</td>\n",
       "      <td>37</td>\n",
       "    </tr>\n",
       "    <tr>\n",
       "      <th>380</th>\n",
       "      <td>0.62</td>\n",
       "      <td>808.5</td>\n",
       "      <td>367.5</td>\n",
       "      <td>220.50</td>\n",
       "      <td>3.5</td>\n",
       "      <td>2</td>\n",
       "      <td>0.25</td>\n",
       "      <td>2</td>\n",
       "      <td>14.34</td>\n",
       "      <td>15.32</td>\n",
       "      <td>14</td>\n",
       "      <td>15</td>\n",
       "    </tr>\n",
       "    <tr>\n",
       "      <th>48</th>\n",
       "      <td>0.98</td>\n",
       "      <td>514.5</td>\n",
       "      <td>294.0</td>\n",
       "      <td>110.25</td>\n",
       "      <td>7.0</td>\n",
       "      <td>2</td>\n",
       "      <td>0.10</td>\n",
       "      <td>1</td>\n",
       "      <td>24.58</td>\n",
       "      <td>26.47</td>\n",
       "      <td>24</td>\n",
       "      <td>26</td>\n",
       "    </tr>\n",
       "    <tr>\n",
       "      <th>426</th>\n",
       "      <td>0.64</td>\n",
       "      <td>784.0</td>\n",
       "      <td>343.0</td>\n",
       "      <td>220.50</td>\n",
       "      <td>3.5</td>\n",
       "      <td>4</td>\n",
       "      <td>0.25</td>\n",
       "      <td>3</td>\n",
       "      <td>16.66</td>\n",
       "      <td>20.46</td>\n",
       "      <td>16</td>\n",
       "      <td>20</td>\n",
       "    </tr>\n",
       "    <tr>\n",
       "      <th>45</th>\n",
       "      <td>0.62</td>\n",
       "      <td>808.5</td>\n",
       "      <td>367.5</td>\n",
       "      <td>220.50</td>\n",
       "      <td>3.5</td>\n",
       "      <td>3</td>\n",
       "      <td>0.00</td>\n",
       "      <td>0</td>\n",
       "      <td>8.49</td>\n",
       "      <td>12.22</td>\n",
       "      <td>8</td>\n",
       "      <td>12</td>\n",
       "    </tr>\n",
       "  </tbody>\n",
       "</table>\n",
       "</div>"
      ],
      "text/plain": [
       "     compactness  surface-area  wall-area  roof-area  overall-height  \\\n",
       "309         0.76         661.5      416.5     122.50             7.0   \n",
       "380         0.62         808.5      367.5     220.50             3.5   \n",
       "48          0.98         514.5      294.0     110.25             7.0   \n",
       "426         0.64         784.0      343.0     220.50             3.5   \n",
       "45          0.62         808.5      367.5     220.50             3.5   \n",
       "\n",
       "     orientation  glazing-area  glazing-dist  heating-load  cooling-load  \\\n",
       "309            3          0.25             1         36.13         37.58   \n",
       "380            2          0.25             2         14.34         15.32   \n",
       "48             2          0.10             1         24.58         26.47   \n",
       "426            4          0.25             3         16.66         20.46   \n",
       "45             3          0.00             0          8.49         12.22   \n",
       "\n",
       "     heat-cat  cool-cat  \n",
       "309        36        37  \n",
       "380        14        15  \n",
       "48         24        26  \n",
       "426        16        20  \n",
       "45          8        12  "
      ]
     },
     "execution_count": 25,
     "metadata": {},
     "output_type": "execute_result"
    }
   ],
   "source": [
    "file_ = \"data/building-energy-efficiency-ENB2012_data.csv\"\n",
    "\n",
    "try: # Running Locally, yakinkan \"file_\" berada di folder \"data\"\n",
    "    data = pd.read_csv(file_, error_bad_lines=False, low_memory = False, encoding='utf8')\n",
    "except: # Running in Google Colab\n",
    "    !mkdir data\n",
    "    !wget -P data/ https://raw.githubusercontent.com/taudata-indonesia/ptpjb/master/{file_}\n",
    "    data = pd.read_csv(file_, error_bad_lines=False, low_memory = False, encoding='utf8')\n",
    "print(data.shape)\n",
    "data.sample(5)"
   ]
  },
  {
   "cell_type": "code",
   "execution_count": 26,
   "metadata": {},
   "outputs": [],
   "source": [
    "# Jawaban Latihan dimulai di cell ini\n"
   ]
  },
  {
   "cell_type": "markdown",
   "metadata": {},
   "source": [
    "# <center><font color=\"blue\"> Akhir Modul 12 - Model Klasifikasi Lanjutan</font></center>\n",
    "\n",
    "<hr />\n",
    "<img alt=\"\" src=\"images/meme-cartoon/Meme Deep Learning SVM.jpg\" style=\"height: 400px;\"/>"
   ]
  }
 ],
 "metadata": {
  "celltoolbar": "Slideshow",
  "kernelspec": {
   "display_name": "Python 3 (ipykernel)",
   "language": "python",
   "name": "python3"
  },
  "language_info": {
   "codemirror_mode": {
    "name": "ipython",
    "version": 3
   },
   "file_extension": ".py",
   "mimetype": "text/x-python",
   "name": "python",
   "nbconvert_exporter": "python",
   "pygments_lexer": "ipython3",
   "version": "3.7.11"
  },
  "latex_envs": {
   "LaTeX_envs_menu_present": true,
   "autoclose": false,
   "autocomplete": true,
   "bibliofile": "biblio.bib",
   "cite_by": "apalike",
   "current_citInitial": 1,
   "eqLabelWithNumbers": true,
   "eqNumInitial": 1,
   "hotkeys": {
    "equation": "Ctrl-E",
    "itemize": "Ctrl-I"
   },
   "labels_anchors": false,
   "latex_user_defs": false,
   "report_style_numbering": false,
   "user_envs_cfg": false
  }
 },
 "nbformat": 4,
 "nbformat_minor": 4
}
