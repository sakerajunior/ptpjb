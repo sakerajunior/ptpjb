{
 "cells": [
  {
   "cell_type": "markdown",
   "metadata": {},
   "source": [
    "# <center><font color=\"red\"> https://bit.ly/ptpjb-2021-13</font>\n",
    "# <center><font color=\"blue\">13 - Introduction to Deep Learning</font>\n",
    "\n",
    "<center><img alt=\"\" src=\"images/cover_ptpjb_2021.png\"/></center> \n",
    "\n",
    "## <center><font color=\"blue\">tau-data Indonesia</font><br>(C) Taufik Sutanto - 2021</center>\n",
    "<center><a href=\"https://tau-data.id\">https://tau-data.id</a> ~ <a href=\"mailto:taufik@tau-data.id\">taufik@tau-data.id</a></center>"
   ]
  },
  {
   "cell_type": "markdown",
   "metadata": {
    "slideshow": {
     "slide_type": "slide"
    }
   },
   "source": [
    "# Pendahuluan Neural Network\n",
    "\n",
    "<img src=\"images/neural network 2.jpg\"  style=\"width: 500px;\"/>\n",
    "\n",
    "image source: https://fkmtfindonesia.or.id/artificial-neural-network/"
   ]
  },
  {
   "cell_type": "markdown",
   "metadata": {
    "slideshow": {
     "slide_type": "slide"
    }
   },
   "source": [
    "# Penerapan Neural Network\n",
    "\n",
    "<center><video align=\"center\" controls src=\"videos/neural_network_in_life.mp4\"/></center>\n",
    "\n",
    "source: https://www.youtube.com/watch?v=me3QEYPsFWE"
   ]
  },
  {
   "cell_type": "markdown",
   "metadata": {
    "slideshow": {
     "slide_type": "slide"
    }
   },
   "source": [
    "## Reface App Manfaatkan Deep Tech AI\n",
    "https://aqi.co.id/blog/yang-sedang-viral-reface-app-swap-wajah-dengan-teknologi-ai\n",
    "<br><br>\n",
    "<center><video align=\"center\" controls src=\"videos/Reface App.mp4\" width=\"700\" ><center/>"
   ]
  },
  {
   "cell_type": "markdown",
   "metadata": {},
   "source": [
    "# Neural Network\n",
    "\n",
    "<img src=\"images/intro_nn.jpg\"  style=\"width: 800px;\" />"
   ]
  },
  {
   "cell_type": "markdown",
   "metadata": {},
   "source": [
    "## Single Perceptron untuk Klasifikasi Binari\n",
    "Misalkan masalah klasifikasi binari yang terdiri dari dua kelas yaitu kelas negatif (-1) dan kelas positif (1)\n",
    "\n",
    "<img src=\"images/single_perceptron.jpg\"/>\n",
    "\n",
    "- Pada single perceptron, kombinasi linear antara variabel sebanyak $m$ dengan masing-masing bobotnya dijadikan sebagai input.\n",
    "\n",
    "<center>$z=w_0+x_1w_1+x_2w_2+...+x_mw_m=\\bf{W^TX}$</center>\n",
    "<br>\n",
    "\n",
    "- Kemudian dengan menggunakan fungsi batas, hasil kombinasi linear tersebut akan ditentukan sebagai kelas negatif (-1) atau kelas positif (1) berdasarkan nilai batas yang ditentukan.\n",
    "\n",
    "<img src=\"images/binary_function.jpg\" width=\"200\"/>\n",
    "<img src=\"images/single_perceptron2.jpg\" width=\"500\"/>\n",
    "\n",
    "- Fungsi batas tersebut biasanya disebut fungsi aktivasi"
   ]
  },
  {
   "cell_type": "markdown",
   "metadata": {},
   "source": [
    "# Fungsi aktivasi\n",
    "\n",
    "Fungsi aktivasi adalah fungsi yang memutuskan apakah suatu neuron harus diaktifkan atau tidak berdasarkan hasil perhitungan kombinasi linear antara variabel input dengan masing-masing bobotnya. Selain itu fungsi aktivasi bisa berfungsi untuk merubah kombinasi linear tersebut menjadi output yang non linear\n",
    "\n",
    "- Terdapat beberapa *activation function*, di antaranya sebagai berikut:\n",
    "<img src=\"images/activation functions.jpg\" width=500 height=500/>\n",
    "\n",
    "image source: https://docs.paperspace.com/machine-learning/wiki/activation-function"
   ]
  },
  {
   "cell_type": "markdown",
   "metadata": {},
   "source": [
    "# Training Neural Network\n",
    "<img src=\"images/cara_kerja_nn.jpg\" />\n"
   ]
  },
  {
   "cell_type": "markdown",
   "metadata": {},
   "source": [
    "# Contoh sistem kerja Neural Network\n",
    "\n",
    "<center><video align=\"center\" controls src=\"videos/neural network.mp4\" width=\"560\" height=\"315\"/></center>\n",
    "\n",
    "link: https://youtu.be/o20mBWPHGEw"
   ]
  },
  {
   "cell_type": "markdown",
   "metadata": {},
   "source": [
    "<img src=\"images/pros and cons.jpeg\" style=\"width: 600px\"/><br>\n",
    "<img src=\"images/NN vs ML.jpeg\" style=\"width: 800px\"/><br>\n",
    "<img src=\"images/NN vs ML 2.jpeg\" style=\"width: 800px\"/>\n",
    "\n",
    "\n",
    "image source: \n",
    "- https://slidetodoc.com/neural-networks-and-support-vector-machines-outline-neural/\n",
    "- https://dzone.com/articles/comparison-between-deep-learning-vs-machine-learni"
   ]
  },
  {
   "cell_type": "markdown",
   "metadata": {},
   "source": [
    "# Studi Kasus\n",
    "- Sebagai ilustrasi, kita gunakan data konsumsi energi tiap rumah untuk membuat model neural network\n",
    "- Data tersebut terdiri dari 506 baris dan 4 kolom, kolom tersebut di antaranya yaitu:\n",
    "1. jumlah keluarga\n",
    "2. jumlah ruangan\n",
    "3. luas bangunan\n",
    "4. banyaknya energi listrik yang digunakan dalam satuan KWh per bulan\n",
    "\n",
    "<img src=\"images/data_energi.jpg\"/>\n",
    "\n",
    "- Data tersebut merupakan hasil modifikasi dari data boston housing (link: https://www.kaggle.com/c/boston-housing)\n",
    "- Model neural network yang akan dibuat bertujuan untuk memprediksi kolom energi listrik berdasarkan kolom lainnya."
   ]
  },
  {
   "cell_type": "markdown",
   "metadata": {},
   "source": [
    "## Import Modul Standar"
   ]
  },
  {
   "cell_type": "code",
   "execution_count": 2,
   "metadata": {},
   "outputs": [],
   "source": [
    "import numpy as np\n",
    "import pandas as pd\n",
    "import matplotlib.pyplot as plt\n",
    "%matplotlib inline\n",
    "import seaborn as sns\n",
    "sns.set_theme(style=\"whitegrid\")\n",
    "import warnings\n",
    "warnings.filterwarnings(\"ignore\")"
   ]
  },
  {
   "cell_type": "markdown",
   "metadata": {},
   "source": [
    "## Import Data Konsumsi Energi\n",
    "- Data konsumsi energi diimport menggunakan pandas\n",
    "- karena format datanya csv maka untuk mengimportnya menggunakan `pd.read_csv()`\n",
    "- setelah diimport dan simpan dalam variabel energi, kita coba lihat 5 data teratas menggunakan `energi.head()`"
   ]
  },
  {
   "cell_type": "code",
   "execution_count": 3,
   "metadata": {},
   "outputs": [
    {
     "data": {
      "text/html": [
       "<div>\n",
       "<style scoped>\n",
       "    .dataframe tbody tr th:only-of-type {\n",
       "        vertical-align: middle;\n",
       "    }\n",
       "\n",
       "    .dataframe tbody tr th {\n",
       "        vertical-align: top;\n",
       "    }\n",
       "\n",
       "    .dataframe thead th {\n",
       "        text-align: right;\n",
       "    }\n",
       "</style>\n",
       "<table border=\"1\" class=\"dataframe\">\n",
       "  <thead>\n",
       "    <tr style=\"text-align: right;\">\n",
       "      <th></th>\n",
       "      <th>jumlah_keluarga</th>\n",
       "      <th>jumlah_ruangan</th>\n",
       "      <th>luas_bangunan</th>\n",
       "      <th>listrik</th>\n",
       "    </tr>\n",
       "  </thead>\n",
       "  <tbody>\n",
       "    <tr>\n",
       "      <th>0</th>\n",
       "      <td>1</td>\n",
       "      <td>4</td>\n",
       "      <td>49.8</td>\n",
       "      <td>65.2</td>\n",
       "    </tr>\n",
       "    <tr>\n",
       "      <th>1</th>\n",
       "      <td>2</td>\n",
       "      <td>4</td>\n",
       "      <td>91.4</td>\n",
       "      <td>78.9</td>\n",
       "    </tr>\n",
       "    <tr>\n",
       "      <th>2</th>\n",
       "      <td>2</td>\n",
       "      <td>5</td>\n",
       "      <td>40.3</td>\n",
       "      <td>61.1</td>\n",
       "    </tr>\n",
       "    <tr>\n",
       "      <th>3</th>\n",
       "      <td>3</td>\n",
       "      <td>4</td>\n",
       "      <td>39.4</td>\n",
       "      <td>45.8</td>\n",
       "    </tr>\n",
       "    <tr>\n",
       "      <th>4</th>\n",
       "      <td>3</td>\n",
       "      <td>5</td>\n",
       "      <td>53.3</td>\n",
       "      <td>54.2</td>\n",
       "    </tr>\n",
       "  </tbody>\n",
       "</table>\n",
       "</div>"
      ],
      "text/plain": [
       "   jumlah_keluarga  jumlah_ruangan  luas_bangunan  listrik\n",
       "0                1               4           49.8     65.2\n",
       "1                2               4           91.4     78.9\n",
       "2                2               5           40.3     61.1\n",
       "3                3               4           39.4     45.8\n",
       "4                3               5           53.3     54.2"
      ]
     },
     "execution_count": 3,
     "metadata": {},
     "output_type": "execute_result"
    }
   ],
   "source": [
    "energi = pd.read_csv('data/konsumsi_energi.csv')\n",
    "energi.head()"
   ]
  },
  {
   "cell_type": "markdown",
   "metadata": {},
   "source": [
    "## Melihat Statistika Deskriptif dari Data\n",
    "- Sebelum melakukan pengolahan data, sebaiknya dilakukan analisa terhadap statistika deskriptif dari data\n",
    "- Dari statistika deskriptif tersebut, kita dapat meilhat range dari data dan ukuran pusat data"
   ]
  },
  {
   "cell_type": "code",
   "execution_count": 4,
   "metadata": {},
   "outputs": [
    {
     "data": {
      "text/html": [
       "<div>\n",
       "<style scoped>\n",
       "    .dataframe tbody tr th:only-of-type {\n",
       "        vertical-align: middle;\n",
       "    }\n",
       "\n",
       "    .dataframe tbody tr th {\n",
       "        vertical-align: top;\n",
       "    }\n",
       "\n",
       "    .dataframe thead th {\n",
       "        text-align: right;\n",
       "    }\n",
       "</style>\n",
       "<table border=\"1\" class=\"dataframe\">\n",
       "  <thead>\n",
       "    <tr style=\"text-align: right;\">\n",
       "      <th></th>\n",
       "      <th>jumlah_keluarga</th>\n",
       "      <th>jumlah_ruangan</th>\n",
       "      <th>luas_bangunan</th>\n",
       "      <th>listrik</th>\n",
       "    </tr>\n",
       "  </thead>\n",
       "  <tbody>\n",
       "    <tr>\n",
       "      <th>count</th>\n",
       "      <td>506.000000</td>\n",
       "      <td>506.000000</td>\n",
       "      <td>506.000000</td>\n",
       "      <td>506.000000</td>\n",
       "    </tr>\n",
       "    <tr>\n",
       "      <th>mean</th>\n",
       "      <td>4.343874</td>\n",
       "      <td>3.776680</td>\n",
       "      <td>126.787549</td>\n",
       "      <td>73.107708</td>\n",
       "    </tr>\n",
       "    <tr>\n",
       "      <th>std</th>\n",
       "      <td>1.618070</td>\n",
       "      <td>0.778123</td>\n",
       "      <td>71.066417</td>\n",
       "      <td>25.032478</td>\n",
       "    </tr>\n",
       "    <tr>\n",
       "      <th>min</th>\n",
       "      <td>1.000000</td>\n",
       "      <td>1.000000</td>\n",
       "      <td>30.100000</td>\n",
       "      <td>20.100000</td>\n",
       "    </tr>\n",
       "    <tr>\n",
       "      <th>25%</th>\n",
       "      <td>4.000000</td>\n",
       "      <td>3.000000</td>\n",
       "      <td>69.500000</td>\n",
       "      <td>52.350000</td>\n",
       "    </tr>\n",
       "    <tr>\n",
       "      <th>50%</th>\n",
       "      <td>4.000000</td>\n",
       "      <td>4.000000</td>\n",
       "      <td>113.600000</td>\n",
       "      <td>81.900000</td>\n",
       "    </tr>\n",
       "    <tr>\n",
       "      <th>75%</th>\n",
       "      <td>5.000000</td>\n",
       "      <td>4.000000</td>\n",
       "      <td>169.550000</td>\n",
       "      <td>94.975000</td>\n",
       "    </tr>\n",
       "    <tr>\n",
       "      <th>max</th>\n",
       "      <td>8.000000</td>\n",
       "      <td>6.000000</td>\n",
       "      <td>379.700000</td>\n",
       "      <td>117.000000</td>\n",
       "    </tr>\n",
       "  </tbody>\n",
       "</table>\n",
       "</div>"
      ],
      "text/plain": [
       "       jumlah_keluarga  jumlah_ruangan  luas_bangunan     listrik\n",
       "count       506.000000      506.000000     506.000000  506.000000\n",
       "mean          4.343874        3.776680     126.787549   73.107708\n",
       "std           1.618070        0.778123      71.066417   25.032478\n",
       "min           1.000000        1.000000      30.100000   20.100000\n",
       "25%           4.000000        3.000000      69.500000   52.350000\n",
       "50%           4.000000        4.000000     113.600000   81.900000\n",
       "75%           5.000000        4.000000     169.550000   94.975000\n",
       "max           8.000000        6.000000     379.700000  117.000000"
      ]
     },
     "execution_count": 4,
     "metadata": {},
     "output_type": "execute_result"
    }
   ],
   "source": [
    "energi.describe()"
   ]
  },
  {
   "cell_type": "markdown",
   "metadata": {},
   "source": [
    "- Dari statistika deskriptif di atas terlihat perbedaan range antara jumlah_keluarga, jumlah_ruangan dengan luas_bangunan dan listrik\n",
    "- Karena perbedaan range tersebut, nanti kita akan lakukan **feature scalling** menggunakan **MinMaxScaler** agar range dari seluruh data tersebut berada di antara 0 dan 1"
   ]
  },
  {
   "cell_type": "markdown",
   "metadata": {},
   "source": [
    "## Menentukan variabel input dan variabel target\n",
    "Karena tujuan kita adalah memprediksi kolom listrik berdasarkan kolom lainnya, maka:\n",
    "- kita tetapkan kolom listrik sebagai variabel target (y) \n",
    "- dan kolom lainnya sebagai variabel input (X)"
   ]
  },
  {
   "cell_type": "code",
   "execution_count": 5,
   "metadata": {},
   "outputs": [
    {
     "name": "stdout",
     "output_type": "stream",
     "text": [
      "(506, 3) (506, 1)\n"
     ]
    }
   ],
   "source": [
    "y = energi[['listrik']].values\n",
    "X = energi.drop(columns=['listrik']).values\n",
    "\n",
    "# Check the shape of training data\n",
    "print(X.shape,y.shape)"
   ]
  },
  {
   "cell_type": "markdown",
   "metadata": {},
   "source": [
    "- Perhatikan bahwa code di atas menggunakan `.values` saat menetapkan variabel y dan X\n",
    "- Hal tersebut dilakukan untuk merubah tipe data dataframe menjadi numpy array\n",
    "- Tensorflow sebenarnya dapat memproses tipe data dataframe, namun tipe data numpy array akan lebih cepat diproses"
   ]
  },
  {
   "cell_type": "markdown",
   "metadata": {},
   "source": [
    "## Split Data\n",
    "<img src=\"images/cross_validation.png\">\n",
    "\n",
    "- Split data dilakukan agar model yang telah dilatih dapat dievaluasi kemampuannya.\n",
    "- Kita gunakan **train_test_split** dari modul **sklearn** untuk melakukan split data\n",
    "- **train_test_split** tersebut melakukan split data dengan **stratified sampling**\n",
    "- Kita juga akan melakukan **cross validation** menggunakan data train sehingga pastikan data train yang digunakan cukup besar.\n",
    "- Pada contoh ini kita gunakan 75% data train dan 25% data test\n",
    "- **random_state** ditetapkan berupa bilangan integer agar hasil split data yang dilakukan secara acak selalu sama"
   ]
  },
  {
   "cell_type": "code",
   "execution_count": 6,
   "metadata": {},
   "outputs": [
    {
     "name": "stdout",
     "output_type": "stream",
     "text": [
      "Banyak data train: 379\n",
      "Banyak data test : 127\n"
     ]
    }
   ],
   "source": [
    "# Create training and test split\n",
    "from sklearn.model_selection import train_test_split\n",
    "\n",
    "X_train, X_test, y_train, y_test = train_test_split(X, y, test_size=0.25, random_state=1)\n",
    "\n",
    "print('Banyak data train:', len(X_train))\n",
    "print('Banyak data test :', len(X_test))"
   ]
  },
  {
   "cell_type": "markdown",
   "metadata": {},
   "source": [
    "## Feature Scalling\n",
    "\n",
    "- Perbedaan range antara variabel-variabel yang digunakan akan menyulitkan proses pelatihan model neural network\n",
    "- Selain itu range yang besar juga dapat menyebabkan suatu ketika nilai loss function sangat besar sehingga proses pelatihan model neural network tidak mencapai nilai minimum\n",
    "- Oleh karena itu perlu dilakukan **feature scalling** menggunakan **MinMaxScaler** agar seluruh data memiliki range yang sama yaitu dari 0 sampai 1\n",
    "- Rumus MinMaxScaler:\n",
    "# <center> $x^*=\\frac{x-x_{min}}{x_{max}-x_{min}}$</center>\n",
    "\n",
    "<img src=\"images/minmax.png\" width=\"500\"/>\n",
    "\n",
    "- MinMaxScaler diterapkan pada data train agar dapat digunakan kembali pada data test maupun data observasi baru\n",
    "- MinMaxScaler diterapkan secara terpisah antara variabel target dan input karena ketika ingin memprediksi variabel target dengan data observasi baru, data tersebut hanya terdiri dari variabel input"
   ]
  },
  {
   "cell_type": "code",
   "execution_count": 7,
   "metadata": {},
   "outputs": [],
   "source": [
    "from sklearn.preprocessing import MinMaxScaler\n",
    "scaler1 = MinMaxScaler()\n",
    "scaler1.fit(X_train)\n",
    "scaler2 = MinMaxScaler()\n",
    "scaler2.fit(y_train)\n",
    "\n",
    "X_train_scaled = scaler1.transform(X_train)\n",
    "X_test_scaled = scaler1.transform(X_test)\n",
    "y_train_scaled = scaler2.transform(y_train)\n",
    "y_test_scaled = scaler2.transform(y_test)"
   ]
  },
  {
   "cell_type": "markdown",
   "metadata": {},
   "source": [
    "## Neural Network Menggunakan Tensorflow dan Keras\n",
    "- tensorflow: https://www.tensorflow.org/overview\n",
    "- keras: https://keras.io/about/"
   ]
  },
  {
   "cell_type": "markdown",
   "metadata": {},
   "source": [
    "## Struktur neural network di keras API\n",
    "- **Sequential model**\n",
    "\n",
    "Sequential model memungkinkan kita untuk membuat model layer demi layer secara berurutan. Untuk membuat variabel Sequential model dilakukan sebagai berikut:\n",
    "\n",
    "`from keras.models import Sequential`<br>\n",
    "`model = Sequential()`\n",
    "- **Dense layer**\n",
    "\n",
    "Dense layer membuat fully connected layer dengan neuron-neuron yang terhubung pada layer sebelumnya. Pada dense layer ini kita dapat menentukan berapa banyak neuron dan fungsi aktivasi apa yang digunakan. Sebagai contoh untuk menambahkan Dense layer dengan neuron sebanyak 32 dan fungsi aktivasi sigmoid pada Sequential model dilakukan sebagai berikut:\n",
    "\n",
    "`model = Sequential()`<br>\n",
    "`model.add(Dense(32, input_dim=3, activation='sigmoid'))`\n",
    "\n",
    "input_dim berfungsi untuk menentukan banyaknya variabel input dan hanya ditentukan pada layer pertama.\n",
    "- **Dropout layer**\n",
    "\n",
    "Dropout layer adalah layer penting untuk mengurangi over-fitting dalam model neural network. Dropout layer akan mengurangi kompleksitas model neural network dengan mengurangi jumlah neuron secara acak sehingga hal ini dapat mencegah over-fitting. persentase jumlah neuron yang dikurangi dapat dilakukan dengan menentukan nilai dropout antara 0 sampai 1.\n",
    "\n",
    "<img src=\"images/dropout.jpg\" width=\"400\"/>\n",
    "\n",
    "image source: https://www.tech-quantum.com/implementing-drop-out-regularization-in-neural-networks/\n",
    "\n",
    "Untuk melakukan dropout pada layer sebelumnya sebesar 20% dapat dilakukan sebagai berikut:\n",
    "\n",
    "`model = Sequential()`<br>\n",
    "`model.add(Dense(32, input_dim=3, activation='sigmoid'))`<br>\n",
    "`model.add(Dropout(0.2))`\n",
    "- **Compiler**\n",
    "\n",
    "Setelah membangun arsitektur neural network, kita perlu memilih tiga hal lagi pada tahap \"kompilasi\": \n",
    "1. **Loss Function**: adalah bagaimana neural network dapat mengukur seberapa besar kesalahan pelatihan yang dilakukan pada data trainnya, dengan demikian model dapat meminimumkan kesalahan tersebut. Beberapa loss function pada Keras API dapat pilih tergantung pada permasalahannya\n",
    "\n",
    "<img src=\"images/keras_losses.jpg\"/>\n",
    "\n",
    "image source: https://keras.io/api/losses/\n",
    "\n",
    "Pada contoh ini permasalahannya adalah regresi karena variabel targetnya berupa variabel kontinu sehingga kita akan memilih loss function untuk regresi. Loss function yang sering digunakan pada permasalahan regresi adalah **Mean squared error (MSE)**. MSE berfungsi untuk menghitung rata-rata error kuadrat antara nilai prediksi dan nilai sebenarnya.\n",
    "<img src=\"images/mse1.png\"/>\n",
    "\n",
    "image source: https://towardsdatascience.com/deep-learning-which-loss-and-activation-functions-should-i-use-ac02f1c56aa8\n",
    "\n",
    "2. **Optimizer**: adalah algoritma untuk meminimalkan loss function dengan memperbarui bobot-bobot pada model neural network secara iteratif. terdapat bebrapa optimizer pada Keras, di antaranya sebagai berikut:\n",
    "\n",
    "<img src=\"images/keras_optimizer.jpg\"/>\n",
    "\n",
    "Dari beberapa optimizer di atas, yang paling sering digunakan adalah Adam Optimizer. Pemilihan optimizer tersebut akan mempengaruhi lamanya proses pelatihan model untuk mencapai loss function yang minimum. berikut disajikan perbandingan proses meminimalkan loss function dengan beberapa optimzer\n",
    "<img src=\"images/Keras_Optimizers-min.gif\" width=\"300\"/>\n",
    "\n",
    "image source: https://machinelearningknowledge.ai/keras-optimizers-explained-with-examples-for-beginners/\n",
    "\n",
    "3. **Metric**: adalah fungsi yang digunakan untuk menilai kinerja model yang telah dibuat. Fungsi metric mirip dengan loss function. Hanya saja tidak semua fungsi metric dapat dijadikan loss function (misal akurasi, karena kita tidak ingin meminimalkan akurasi). Sebaliknya seluruh loss function dapat dijadikan metric karena nilai loss function yang kecil dapat mengindikasi bahwa model cukup baik. Berikut metric-metric yang ada di Keras:\n",
    "<img src=\"images/keras_metric.jpg\"/>\n",
    "\n",
    "Pada contoh ini kita akan gunakan **Mean Absolute Error (MAE)** sebagai metric. MAE berfungsi untuk menghitung rata-rata selisih antara nilai prediksi dan nilai sebenarnya.\n",
    "<img src=\"images/mae.jpg\" width = \"700\"/>\n",
    "\n",
    "Untuk menambahkan compiler pada arsitektur neural network yang telah dibuat dapat dilakukan sebagai berikut:\n",
    "\n",
    "`model = Sequential()`<br>\n",
    "`model.add(Dense(32, input_dim=3, activation='sigmoid'))`<br>\n",
    "`model.add(Dropout(0.2))`<br>\n",
    "`model.compile(loss='mse', optimizer='adam', metrics=['mae'])`"
   ]
  },
  {
   "cell_type": "markdown",
   "metadata": {},
   "source": [
    "## Membuat Model Neural Network \n",
    "### 1. Import Modul"
   ]
  },
  {
   "cell_type": "code",
   "execution_count": 8,
   "metadata": {},
   "outputs": [],
   "source": [
    "# Use scikit-learn to grid search the number of neurons\n",
    "from keras.models import Sequential\n",
    "from keras.layers import Dense\n",
    "from keras.layers import Dropout"
   ]
  },
  {
   "cell_type": "markdown",
   "metadata": {},
   "source": [
    "### 2. Membuat Fungsi Model Neural Network\n",
    "Dalam membuat model neural network tidak harus berupa fungsi, namun dengan membuat fungsi model neural network akan lebih mudah dalam merubah parameter-parameternya.\n",
    "\n",
    "Fungsi model neural network yang akan dibuat terdiri:\n",
    "- input layer berdimensi 3 (jumlah_keluarga, jumlah_ruangan, luas_bangunan)\n",
    "- 1 fully connected hidden layer\n",
    "- dropout layer antara fully connected hidden layer dan output layer\n",
    "- output layer berdimensi 1 (prediksi jumlah penggunaan energi)\n",
    "- loss function yang digunakan adalah Mean Squared Error (MSE)\n",
    "- optimizer yang digunakan adalah adam\n",
    "- metric yang digunakan adalah Mean Absolute Error (MAE)\n",
    "\n",
    "Parameter-parameter yang dijadikan sebagai input dari fungsi tersebut adalah:\n",
    "- neurons: banyaknya neuron pada Dense layer (default = 10)\n",
    "- activation: fungsi aktivasi yang digunakan (default = 'relu')\n",
    "- dropout: persentase dropout (default = 0.2)"
   ]
  },
  {
   "cell_type": "code",
   "execution_count": 9,
   "metadata": {},
   "outputs": [],
   "source": [
    "def create_model(neurons=10, activation='relu', dropout=0.2):\n",
    "    # create model\n",
    "    model = Sequential()\n",
    "    model.add(Dense(neurons, input_dim=3, activation=activation))\n",
    "    model.add(Dropout(dropout))\n",
    "    model.add(Dense(1, activation='linear'))\n",
    "    # Compile model\n",
    "    model.compile(loss='mse', optimizer='adam', metrics=['mae'])\n",
    "    return model"
   ]
  },
  {
   "cell_type": "markdown",
   "metadata": {},
   "source": [
    "### 3. Membuat Model\n",
    "\n",
    "Misalkan kita akan membuat model dengan parameter-parameter input sebagai berikut:\n",
    "- neuron = 32\n",
    "- activation = 'sigmoid'\n",
    "- dropout = 0.1\n",
    "\n",
    "Maka kita dapat membuat model neural network sebagai berikut:\n",
    "\n",
    "`model = create_model(32,'sigmoid',0.1)`\n",
    "\n",
    "Atau jika ingin membuat model dengan input default:\n",
    "\n",
    "`model = create_model()`\n",
    "\n",
    "Kita dapat melihat arsitektur model yang kita buat dengan cara berikut:\n",
    "\n",
    "`model.summary()`"
   ]
  },
  {
   "cell_type": "code",
   "execution_count": 10,
   "metadata": {},
   "outputs": [
    {
     "name": "stdout",
     "output_type": "stream",
     "text": [
      "Model: \"sequential\"\n",
      "_________________________________________________________________\n",
      "Layer (type)                 Output Shape              Param #   \n",
      "=================================================================\n",
      "dense (Dense)                (None, 32)                128       \n",
      "_________________________________________________________________\n",
      "dropout (Dropout)            (None, 32)                0         \n",
      "_________________________________________________________________\n",
      "dense_1 (Dense)              (None, 1)                 33        \n",
      "=================================================================\n",
      "Total params: 161\n",
      "Trainable params: 161\n",
      "Non-trainable params: 0\n",
      "_________________________________________________________________\n"
     ]
    }
   ],
   "source": [
    "model = create_model(32,'sigmoid',0.1)\n",
    "model.summary()"
   ]
  },
  {
   "cell_type": "markdown",
   "metadata": {},
   "source": [
    "### 4. Training Model\n",
    "Training model dapat dilakukan sebagai berkut:\n",
    "\n",
    "`history = model.fit(X_train_scaled,y_train_scaled, batch_size=32, epochs=100, validation_split=0.1, verbose=2)`\n",
    "\n",
    "Perhatikan parameter epochs dan batch_size\n",
    "\n",
    "<img src=\"images/epoch_batch_size.jpeg\" width= \"400\"/>\n",
    "\n",
    "image source: https://jerryan.medium.com/batch-size-a15958708a6\n",
    "\n",
    "- bacth_size: adalah banyaknya sampel pada satu kali training yang digunakan untuk memperbarui seluruh bobot\n",
    "- epochs: adalah banyaknya proses training dengan seluruh sampel.\n",
    "- validation_split: adalah persentase data yang digunakan sebagai data validasi\n",
    "- verbose: adalah opsi untuk menampilkan proses training (0 = silent, 1 = progress bar, 2 = one line per epoch)"
   ]
  },
  {
   "cell_type": "code",
   "execution_count": 11,
   "metadata": {},
   "outputs": [
    {
     "name": "stdout",
     "output_type": "stream",
     "text": [
      "Epoch 1/100\n",
      "11/11 - 15s - loss: 1.4309 - mae: 1.1452 - val_loss: 1.1617 - val_mae: 1.0427\n",
      "Epoch 2/100\n",
      "11/11 - 0s - loss: 0.9490 - mae: 0.9073 - val_loss: 0.7546 - val_mae: 0.8247\n",
      "Epoch 3/100\n",
      "11/11 - 0s - loss: 0.6215 - mae: 0.7161 - val_loss: 0.4653 - val_mae: 0.6252\n",
      "Epoch 4/100\n",
      "11/11 - 0s - loss: 0.4125 - mae: 0.5582 - val_loss: 0.2766 - val_mae: 0.4496\n",
      "Epoch 5/100\n",
      "11/11 - 0s - loss: 0.2489 - mae: 0.4182 - val_loss: 0.1711 - val_mae: 0.3395\n",
      "Epoch 6/100\n",
      "11/11 - 0s - loss: 0.2020 - mae: 0.3691 - val_loss: 0.1147 - val_mae: 0.2932\n",
      "Epoch 7/100\n",
      "11/11 - 0s - loss: 0.1458 - mae: 0.3111 - val_loss: 0.0901 - val_mae: 0.2711\n",
      "Epoch 8/100\n",
      "11/11 - 0s - loss: 0.1330 - mae: 0.2982 - val_loss: 0.0793 - val_mae: 0.2592\n",
      "Epoch 9/100\n",
      "11/11 - 0s - loss: 0.1272 - mae: 0.2922 - val_loss: 0.0756 - val_mae: 0.2520\n",
      "Epoch 10/100\n",
      "11/11 - 0s - loss: 0.1172 - mae: 0.2796 - val_loss: 0.0744 - val_mae: 0.2483\n",
      "Epoch 11/100\n",
      "11/11 - 0s - loss: 0.1226 - mae: 0.2817 - val_loss: 0.0741 - val_mae: 0.2471\n",
      "Epoch 12/100\n",
      "11/11 - 0s - loss: 0.1230 - mae: 0.2875 - val_loss: 0.0739 - val_mae: 0.2470\n",
      "Epoch 13/100\n",
      "11/11 - 0s - loss: 0.1207 - mae: 0.2802 - val_loss: 0.0737 - val_mae: 0.2469\n",
      "Epoch 14/100\n",
      "11/11 - 0s - loss: 0.1111 - mae: 0.2701 - val_loss: 0.0736 - val_mae: 0.2469\n",
      "Epoch 15/100\n",
      "11/11 - 0s - loss: 0.1110 - mae: 0.2714 - val_loss: 0.0735 - val_mae: 0.2469\n",
      "Epoch 16/100\n",
      "11/11 - 0s - loss: 0.1346 - mae: 0.3002 - val_loss: 0.0733 - val_mae: 0.2465\n",
      "Epoch 17/100\n",
      "11/11 - 0s - loss: 0.1144 - mae: 0.2743 - val_loss: 0.0730 - val_mae: 0.2460\n",
      "Epoch 18/100\n",
      "11/11 - 0s - loss: 0.1157 - mae: 0.2732 - val_loss: 0.0725 - val_mae: 0.2444\n",
      "Epoch 19/100\n",
      "11/11 - 0s - loss: 0.0965 - mae: 0.2518 - val_loss: 0.0723 - val_mae: 0.2442\n",
      "Epoch 20/100\n",
      "11/11 - 0s - loss: 0.1121 - mae: 0.2642 - val_loss: 0.0719 - val_mae: 0.2427\n",
      "Epoch 21/100\n",
      "11/11 - 0s - loss: 0.1218 - mae: 0.2788 - val_loss: 0.0715 - val_mae: 0.2418\n",
      "Epoch 22/100\n",
      "11/11 - 0s - loss: 0.1207 - mae: 0.2756 - val_loss: 0.0713 - val_mae: 0.2413\n",
      "Epoch 23/100\n",
      "11/11 - 0s - loss: 0.1135 - mae: 0.2711 - val_loss: 0.0709 - val_mae: 0.2400\n",
      "Epoch 24/100\n",
      "11/11 - 0s - loss: 0.1039 - mae: 0.2563 - val_loss: 0.0707 - val_mae: 0.2397\n",
      "Epoch 25/100\n",
      "11/11 - 0s - loss: 0.1152 - mae: 0.2741 - val_loss: 0.0705 - val_mae: 0.2396\n",
      "Epoch 26/100\n",
      "11/11 - 0s - loss: 0.1239 - mae: 0.2827 - val_loss: 0.0707 - val_mae: 0.2410\n",
      "Epoch 27/100\n",
      "11/11 - 0s - loss: 0.1197 - mae: 0.2717 - val_loss: 0.0703 - val_mae: 0.2398\n",
      "Epoch 28/100\n",
      "11/11 - 0s - loss: 0.1208 - mae: 0.2875 - val_loss: 0.0699 - val_mae: 0.2389\n",
      "Epoch 29/100\n",
      "11/11 - 0s - loss: 0.1006 - mae: 0.2550 - val_loss: 0.0694 - val_mae: 0.2371\n",
      "Epoch 30/100\n",
      "11/11 - 0s - loss: 0.1040 - mae: 0.2647 - val_loss: 0.0692 - val_mae: 0.2372\n",
      "Epoch 31/100\n",
      "11/11 - 0s - loss: 0.1199 - mae: 0.2835 - val_loss: 0.0690 - val_mae: 0.2367\n",
      "Epoch 32/100\n",
      "11/11 - 0s - loss: 0.1134 - mae: 0.2719 - val_loss: 0.0690 - val_mae: 0.2373\n",
      "Epoch 33/100\n",
      "11/11 - 0s - loss: 0.1014 - mae: 0.2534 - val_loss: 0.0690 - val_mae: 0.2378\n",
      "Epoch 34/100\n",
      "11/11 - 0s - loss: 0.1207 - mae: 0.2802 - val_loss: 0.0686 - val_mae: 0.2366\n",
      "Epoch 35/100\n",
      "11/11 - 0s - loss: 0.1117 - mae: 0.2701 - val_loss: 0.0683 - val_mae: 0.2359\n",
      "Epoch 36/100\n",
      "11/11 - 0s - loss: 0.1112 - mae: 0.2706 - val_loss: 0.0678 - val_mae: 0.2346\n",
      "Epoch 37/100\n",
      "11/11 - 0s - loss: 0.1098 - mae: 0.2672 - val_loss: 0.0683 - val_mae: 0.2364\n",
      "Epoch 38/100\n",
      "11/11 - 0s - loss: 0.1065 - mae: 0.2647 - val_loss: 0.0686 - val_mae: 0.2372\n",
      "Epoch 39/100\n",
      "11/11 - 0s - loss: 0.0980 - mae: 0.2539 - val_loss: 0.0683 - val_mae: 0.2365\n",
      "Epoch 40/100\n",
      "11/11 - 0s - loss: 0.1006 - mae: 0.2527 - val_loss: 0.0672 - val_mae: 0.2336\n",
      "Epoch 41/100\n",
      "11/11 - 0s - loss: 0.1104 - mae: 0.2763 - val_loss: 0.0666 - val_mae: 0.2322\n",
      "Epoch 42/100\n",
      "11/11 - 0s - loss: 0.1203 - mae: 0.2806 - val_loss: 0.0665 - val_mae: 0.2320\n",
      "Epoch 43/100\n",
      "11/11 - 0s - loss: 0.1172 - mae: 0.2734 - val_loss: 0.0662 - val_mae: 0.2312\n",
      "Epoch 44/100\n",
      "11/11 - 0s - loss: 0.1006 - mae: 0.2573 - val_loss: 0.0656 - val_mae: 0.2294\n",
      "Epoch 45/100\n",
      "11/11 - 0s - loss: 0.1118 - mae: 0.2713 - val_loss: 0.0653 - val_mae: 0.2277\n",
      "Epoch 46/100\n",
      "11/11 - 0s - loss: 0.1004 - mae: 0.2528 - val_loss: 0.0651 - val_mae: 0.2277\n",
      "Epoch 47/100\n",
      "11/11 - 0s - loss: 0.1058 - mae: 0.2640 - val_loss: 0.0650 - val_mae: 0.2282\n",
      "Epoch 48/100\n",
      "11/11 - 0s - loss: 0.1014 - mae: 0.2523 - val_loss: 0.0650 - val_mae: 0.2286\n",
      "Epoch 49/100\n",
      "11/11 - 0s - loss: 0.1029 - mae: 0.2504 - val_loss: 0.0651 - val_mae: 0.2291\n",
      "Epoch 50/100\n",
      "11/11 - 0s - loss: 0.1006 - mae: 0.2529 - val_loss: 0.0651 - val_mae: 0.2290\n",
      "Epoch 51/100\n",
      "11/11 - 0s - loss: 0.0892 - mae: 0.2437 - val_loss: 0.0647 - val_mae: 0.2282\n",
      "Epoch 52/100\n",
      "11/11 - 0s - loss: 0.1107 - mae: 0.2736 - val_loss: 0.0639 - val_mae: 0.2255\n",
      "Epoch 53/100\n",
      "11/11 - 0s - loss: 0.0990 - mae: 0.2564 - val_loss: 0.0633 - val_mae: 0.2233\n",
      "Epoch 54/100\n",
      "11/11 - 0s - loss: 0.1047 - mae: 0.2583 - val_loss: 0.0631 - val_mae: 0.2228\n",
      "Epoch 55/100\n",
      "11/11 - 0s - loss: 0.0953 - mae: 0.2471 - val_loss: 0.0631 - val_mae: 0.2234\n",
      "Epoch 56/100\n",
      "11/11 - 0s - loss: 0.0951 - mae: 0.2504 - val_loss: 0.0634 - val_mae: 0.2251\n",
      "Epoch 57/100\n",
      "11/11 - 0s - loss: 0.1013 - mae: 0.2507 - val_loss: 0.0630 - val_mae: 0.2240\n",
      "Epoch 58/100\n",
      "11/11 - 0s - loss: 0.0967 - mae: 0.2500 - val_loss: 0.0625 - val_mae: 0.2219\n",
      "Epoch 59/100\n",
      "11/11 - 0s - loss: 0.1052 - mae: 0.2478 - val_loss: 0.0626 - val_mae: 0.2227\n",
      "Epoch 60/100\n",
      "11/11 - 0s - loss: 0.0867 - mae: 0.2407 - val_loss: 0.0625 - val_mae: 0.2228\n",
      "Epoch 61/100\n",
      "11/11 - 0s - loss: 0.0947 - mae: 0.2482 - val_loss: 0.0622 - val_mae: 0.2218\n",
      "Epoch 62/100\n",
      "11/11 - 0s - loss: 0.0967 - mae: 0.2569 - val_loss: 0.0618 - val_mae: 0.2202\n",
      "Epoch 63/100\n",
      "11/11 - 0s - loss: 0.0997 - mae: 0.2586 - val_loss: 0.0615 - val_mae: 0.2196\n",
      "Epoch 64/100\n",
      "11/11 - 0s - loss: 0.0845 - mae: 0.2320 - val_loss: 0.0614 - val_mae: 0.2193\n",
      "Epoch 65/100\n",
      "11/11 - 0s - loss: 0.1031 - mae: 0.2610 - val_loss: 0.0616 - val_mae: 0.2204\n",
      "Epoch 66/100\n",
      "11/11 - 0s - loss: 0.0991 - mae: 0.2552 - val_loss: 0.0614 - val_mae: 0.2199\n",
      "Epoch 67/100\n",
      "11/11 - 0s - loss: 0.0992 - mae: 0.2509 - val_loss: 0.0612 - val_mae: 0.2193\n",
      "Epoch 68/100\n",
      "11/11 - 0s - loss: 0.0913 - mae: 0.2420 - val_loss: 0.0610 - val_mae: 0.2187\n",
      "Epoch 69/100\n",
      "11/11 - 0s - loss: 0.0930 - mae: 0.2422 - val_loss: 0.0608 - val_mae: 0.2180\n",
      "Epoch 70/100\n",
      "11/11 - 0s - loss: 0.0923 - mae: 0.2429 - val_loss: 0.0607 - val_mae: 0.2180\n",
      "Epoch 71/100\n",
      "11/11 - 0s - loss: 0.0896 - mae: 0.2390 - val_loss: 0.0606 - val_mae: 0.2178\n",
      "Epoch 72/100\n",
      "11/11 - 0s - loss: 0.1029 - mae: 0.2593 - val_loss: 0.0603 - val_mae: 0.2168\n",
      "Epoch 73/100\n",
      "11/11 - 0s - loss: 0.0938 - mae: 0.2493 - val_loss: 0.0599 - val_mae: 0.2155\n",
      "Epoch 74/100\n",
      "11/11 - 0s - loss: 0.0854 - mae: 0.2342 - val_loss: 0.0595 - val_mae: 0.2120\n",
      "Epoch 75/100\n",
      "11/11 - 0s - loss: 0.1003 - mae: 0.2527 - val_loss: 0.0594 - val_mae: 0.2130\n",
      "Epoch 76/100\n",
      "11/11 - 0s - loss: 0.0885 - mae: 0.2370 - val_loss: 0.0597 - val_mae: 0.2151\n",
      "Epoch 77/100\n",
      "11/11 - 0s - loss: 0.0866 - mae: 0.2384 - val_loss: 0.0601 - val_mae: 0.2171\n",
      "Epoch 78/100\n",
      "11/11 - 0s - loss: 0.0881 - mae: 0.2404 - val_loss: 0.0595 - val_mae: 0.2146\n",
      "Epoch 79/100\n",
      "11/11 - 0s - loss: 0.0976 - mae: 0.2534 - val_loss: 0.0590 - val_mae: 0.2127\n",
      "Epoch 80/100\n",
      "11/11 - 0s - loss: 0.0917 - mae: 0.2368 - val_loss: 0.0588 - val_mae: 0.2120\n",
      "Epoch 81/100\n",
      "11/11 - 0s - loss: 0.0924 - mae: 0.2468 - val_loss: 0.0587 - val_mae: 0.2114\n",
      "Epoch 82/100\n",
      "11/11 - 0s - loss: 0.0962 - mae: 0.2459 - val_loss: 0.0587 - val_mae: 0.2120\n",
      "Epoch 83/100\n",
      "11/11 - 0s - loss: 0.0815 - mae: 0.2305 - val_loss: 0.0595 - val_mae: 0.2156\n",
      "Epoch 84/100\n",
      "11/11 - 0s - loss: 0.0792 - mae: 0.2302 - val_loss: 0.0590 - val_mae: 0.2142\n",
      "Epoch 85/100\n",
      "11/11 - 0s - loss: 0.0849 - mae: 0.2404 - val_loss: 0.0582 - val_mae: 0.2103\n",
      "Epoch 86/100\n",
      "11/11 - 0s - loss: 0.0812 - mae: 0.2330 - val_loss: 0.0581 - val_mae: 0.2092\n",
      "Epoch 87/100\n",
      "11/11 - 0s - loss: 0.0960 - mae: 0.2484 - val_loss: 0.0580 - val_mae: 0.2096\n",
      "Epoch 88/100\n",
      "11/11 - 0s - loss: 0.0904 - mae: 0.2459 - val_loss: 0.0578 - val_mae: 0.2085\n",
      "Epoch 89/100\n",
      "11/11 - 0s - loss: 0.0805 - mae: 0.2277 - val_loss: 0.0578 - val_mae: 0.2088\n",
      "Epoch 90/100\n",
      "11/11 - 0s - loss: 0.0859 - mae: 0.2389 - val_loss: 0.0579 - val_mae: 0.2105\n",
      "Epoch 91/100\n",
      "11/11 - 0s - loss: 0.0915 - mae: 0.2463 - val_loss: 0.0587 - val_mae: 0.2138\n",
      "Epoch 92/100\n",
      "11/11 - 0s - loss: 0.0906 - mae: 0.2385 - val_loss: 0.0580 - val_mae: 0.2117\n"
     ]
    },
    {
     "name": "stdout",
     "output_type": "stream",
     "text": [
      "Epoch 93/100\n",
      "11/11 - 0s - loss: 0.0867 - mae: 0.2393 - val_loss: 0.0575 - val_mae: 0.2093\n",
      "Epoch 94/100\n",
      "11/11 - 0s - loss: 0.0820 - mae: 0.2285 - val_loss: 0.0578 - val_mae: 0.2112\n",
      "Epoch 95/100\n",
      "11/11 - 0s - loss: 0.0818 - mae: 0.2342 - val_loss: 0.0584 - val_mae: 0.2132\n",
      "Epoch 96/100\n",
      "11/11 - 0s - loss: 0.0892 - mae: 0.2361 - val_loss: 0.0574 - val_mae: 0.2098\n",
      "Epoch 97/100\n",
      "11/11 - 0s - loss: 0.0934 - mae: 0.2388 - val_loss: 0.0570 - val_mae: 0.2082\n",
      "Epoch 98/100\n",
      "11/11 - 0s - loss: 0.0844 - mae: 0.2389 - val_loss: 0.0572 - val_mae: 0.2093\n",
      "Epoch 99/100\n",
      "11/11 - 0s - loss: 0.0837 - mae: 0.2292 - val_loss: 0.0570 - val_mae: 0.2088\n",
      "Epoch 100/100\n",
      "11/11 - 0s - loss: 0.0861 - mae: 0.2361 - val_loss: 0.0571 - val_mae: 0.2092\n"
     ]
    }
   ],
   "source": [
    "# fit model\n",
    "\n",
    "history = model.fit(X_train_scaled,y_train_scaled, epochs=100, batch_size=32, validation_split=0.1, verbose=2)"
   ]
  },
  {
   "cell_type": "markdown",
   "metadata": {},
   "source": [
    "Kita dapat melihat grafik loss function MSE dan metric MAE terhadap epoch untuk melihat performa model kita dengan cara sebagai berikut"
   ]
  },
  {
   "cell_type": "code",
   "execution_count": 12,
   "metadata": {},
   "outputs": [
    {
     "data": {
      "text/plain": [
       "<matplotlib.legend.Legend at 0x228e5be6e20>"
      ]
     },
     "execution_count": 12,
     "metadata": {},
     "output_type": "execute_result"
    },
    {
     "data": {
      "image/png": "[encoded data removed]",
      "text/plain": [
       "<Figure size 432x288 with 1 Axes>"
      ]
     },
     "metadata": {},
     "output_type": "display_data"
    }
   ],
   "source": [
    "# grafik loss function MSE\n",
    "\n",
    "plt.plot(history.history['loss'], label='Training loss')\n",
    "plt.plot(history.history['val_loss'], label='Validation loss')\n",
    "plt.title('loss function MSE')\n",
    "plt.ylabel('MSE')\n",
    "plt.xlabel('Epoch')\n",
    "plt.legend()"
   ]
  },
  {
   "cell_type": "code",
   "execution_count": 13,
   "metadata": {},
   "outputs": [
    {
     "data": {
      "text/plain": [
       "<matplotlib.legend.Legend at 0x228e5cc5220>"
      ]
     },
     "execution_count": 13,
     "metadata": {},
     "output_type": "execute_result"
    },
    {
     "data": {
      "image/png": "[encoded data removed]",
      "text/plain": [
       "<Figure size 432x288 with 1 Axes>"
      ]
     },
     "metadata": {},
     "output_type": "display_data"
    }
   ],
   "source": [
    "# grafik metric MAE\n",
    "\n",
    "plt.plot(history.history['mae'], label='Training MAE')\n",
    "plt.plot(history.history['val_mae'], label='Validation MAE')\n",
    "plt.title('metric MAE')\n",
    "plt.ylabel('MAE')\n",
    "plt.xlabel('Epoch')\n",
    "plt.legend()"
   ]
  },
  {
   "cell_type": "markdown",
   "metadata": {},
   "source": [
    "**Perhatikan kedua grafik di atas**. Kita dapat lihat kurang lebih pada epoch ke 20 nilai loss function dan metric sudah cukup stabil. sehingga sebenarnya kita cukup menentukan **epochs = 20**"
   ]
  },
  {
   "cell_type": "markdown",
   "metadata": {},
   "source": [
    "## Early Stopping\n",
    "\n",
    "**Bagaimana menentukan nilai epochs?**\n",
    "\n",
    "### Perhatikan gambar berikut!\n",
    "\n",
    "<img src=\"images/early_stopping.jpg\" width=\"600\"/>\n",
    "\n",
    "- Training seharusnya dihentikan saat epoch berada pada garis optimal seperti gambar di atas. Yaitu ketika nilai loss function pada data validasi mulai naik (sebelum terjadi overfitting) ataupun bisa juga ketika nilainya cukup stabil seperti pada kasus model kita.\n",
    "- Hal tersebut dapat dilakukan dengan menambahkan Early Stopping yang memiliki parameter sebagai berikut:\n",
    "1. monitor: nilai yang diamati, biasanya adalah nilai loss function pada data validasi (bisa juga metric validasi)\n",
    "2. mode: terdapat 3 mode yaitu \"min\" (training berhenti ketika nilai yang diamati berhenti turun), \"max\" (training berhenti ketika nilai yang diamati berhenti naik)\n",
    "3. min_delta: besarnya selisih mutlak yang tidak dianggap mengalami perbaikan (naik/turun)\n",
    "4. patience: banyaknya epoch setelah nilai yang diamati tidak mengalami perbaikan\n",
    "5. verbose: adalah opsi untuk menampilkan epoch ke berapa saat proses training berhenti (0 = silent, 1 = display)\n",
    "\n",
    "**Mari kita coba membuat model menggunakan Early Stopping dengan parameter-parameter berikut**\n",
    "- monitor = 'val_loss' (nilai yang diamati adalah loss function pada data validasi)\n",
    "- mode = \"min\" (mode \"min\" karena kita mengharapkan val_loss selalu turun)\n",
    "- min_delta = 0.01 (ketika val_loss turun kurang dari 0.01 dianggap tidak terjadi penurunan, maka training berhenti)\n",
    "- patience = 10 (ketika tidak terjadi penurunan, maka training berhenti setelah 10 epoch lagi dilakukan)\n",
    "- verbose = 1 (menampilkan epoch ke berapa saat proses training berhenti)"
   ]
  },
  {
   "cell_type": "code",
   "execution_count": 14,
   "metadata": {},
   "outputs": [
    {
     "name": "stdout",
     "output_type": "stream",
     "text": [
      "Epoch 1/100\n",
      "11/11 - 1s - loss: 1.1255 - mae: 1.0062 - val_loss: 0.8693 - val_mae: 0.8980\n",
      "Epoch 2/100\n",
      "11/11 - 0s - loss: 0.7048 - mae: 0.7687 - val_loss: 0.5297 - val_mae: 0.6832\n",
      "Epoch 3/100\n",
      "11/11 - 0s - loss: 0.4362 - mae: 0.5816 - val_loss: 0.3062 - val_mae: 0.4933\n",
      "Epoch 4/100\n",
      "11/11 - 0s - loss: 0.2993 - mae: 0.4600 - val_loss: 0.1747 - val_mae: 0.3422\n",
      "Epoch 5/100\n",
      "11/11 - 0s - loss: 0.2011 - mae: 0.3550 - val_loss: 0.1072 - val_mae: 0.2774\n",
      "Epoch 6/100\n",
      "11/11 - 0s - loss: 0.1396 - mae: 0.2981 - val_loss: 0.0784 - val_mae: 0.2495\n",
      "Epoch 7/100\n",
      "11/11 - 0s - loss: 0.1377 - mae: 0.3028 - val_loss: 0.0680 - val_mae: 0.2353\n",
      "Epoch 8/100\n",
      "11/11 - 0s - loss: 0.1226 - mae: 0.2795 - val_loss: 0.0641 - val_mae: 0.2274\n",
      "Epoch 9/100\n",
      "11/11 - 0s - loss: 0.1190 - mae: 0.2752 - val_loss: 0.0630 - val_mae: 0.2240\n",
      "Epoch 10/100\n",
      "11/11 - 0s - loss: 0.1252 - mae: 0.2886 - val_loss: 0.0630 - val_mae: 0.2241\n",
      "Epoch 11/100\n",
      "11/11 - 0s - loss: 0.1354 - mae: 0.2960 - val_loss: 0.0628 - val_mae: 0.2233\n",
      "Epoch 12/100\n",
      "11/11 - 0s - loss: 0.1348 - mae: 0.2869 - val_loss: 0.0626 - val_mae: 0.2230\n",
      "Epoch 13/100\n",
      "11/11 - 0s - loss: 0.1071 - mae: 0.2611 - val_loss: 0.0627 - val_mae: 0.2236\n",
      "Epoch 14/100\n",
      "11/11 - 0s - loss: 0.1218 - mae: 0.2762 - val_loss: 0.0627 - val_mae: 0.2236\n",
      "Epoch 15/100\n",
      "11/11 - 0s - loss: 0.1159 - mae: 0.2678 - val_loss: 0.0625 - val_mae: 0.2233\n",
      "Epoch 00015: early stopping\n"
     ]
    }
   ],
   "source": [
    "# Create model\n",
    "model = create_model(32,'sigmoid',0.1)\n",
    "\n",
    "# Early Stopping\n",
    "from keras.callbacks import EarlyStopping\n",
    "es = EarlyStopping(monitor = 'val_loss', mode = \"min\", min_delta = 0.005, patience = 5, verbose = 1)\n",
    "\n",
    "# fit model\n",
    "history = model.fit(X_train_scaled,y_train_scaled,\n",
    "                    epochs=100, batch_size=32,\n",
    "                    validation_split=0.1, callbacks = [es],\n",
    "                    verbose=2)"
   ]
  },
  {
   "cell_type": "code",
   "execution_count": 15,
   "metadata": {},
   "outputs": [
    {
     "data": {
      "text/plain": [
       "<matplotlib.legend.Legend at 0x228e59f0250>"
      ]
     },
     "execution_count": 15,
     "metadata": {},
     "output_type": "execute_result"
    },
    {
     "data": {
      "image/png": "[encoded data removed]",
      "text/plain": [
       "<Figure size 432x288 with 1 Axes>"
      ]
     },
     "metadata": {},
     "output_type": "display_data"
    }
   ],
   "source": [
    "# grafik loss function MSE\n",
    "\n",
    "plt.plot(history.history['loss'], label='Training loss')\n",
    "plt.plot(history.history['val_loss'], label='Validation loss')\n",
    "plt.title('loss function MSE')\n",
    "plt.ylabel('MSE')\n",
    "plt.xlabel('Epoch')\n",
    "plt.legend()"
   ]
  },
  {
   "cell_type": "markdown",
   "metadata": {},
   "source": [
    "## Perhatikan Grafik di Atas!!!\n",
    "Walaupun kita menetapkan epoch = 100, proses training terhenti pada epoch ke 15 karena kita menggunakan **Early Stopping**"
   ]
  },
  {
   "cell_type": "markdown",
   "metadata": {},
   "source": [
    "### 5. Evaluasi Model dengan Data Test\n",
    "\n",
    "- Sebelum melakukan evaluasi model dengan data test, kita akan melakukan prediksi pada data test dengan cara berikut:\n",
    "\n",
    "`y_pred = model.predict(X_test_scaled)`\n",
    "\n",
    "- Karena nilai prediksi di atas masih dalam scala MinMaxScaler (scaler2), maka kita perlu membalikkannya menggunakan fungsi inverse_transform() sebagai berikut:\n",
    "\n",
    "`y_pred = scaler2.inverse_transform(y_pred)`"
   ]
  },
  {
   "cell_type": "code",
   "execution_count": 16,
   "metadata": {},
   "outputs": [],
   "source": [
    "y_pred = model.predict(X_test_scaled)\n",
    "y_pred = scaler2.inverse_transform(y_pred)"
   ]
  },
  {
   "cell_type": "markdown",
   "metadata": {},
   "source": [
    "- Setelah melakukan prediksi barulah kita melakukan evaluasi terhadap nilai prediksi tersebut menggunakan metric yang digunakan yaitu MAE"
   ]
  },
  {
   "cell_type": "code",
   "execution_count": 17,
   "metadata": {},
   "outputs": [
    {
     "name": "stdout",
     "output_type": "stream",
     "text": [
      "MAE data test sebesar: 19.50044726874884\n"
     ]
    }
   ],
   "source": [
    "# Mean Absolute Error (MAE) test data\n",
    "mae = np.mean(np.abs(y_test-y_pred))\n",
    "print('MAE data test sebesar:', mae)"
   ]
  },
  {
   "cell_type": "markdown",
   "metadata": {},
   "source": [
    "## Apakah Nilai MAE Tersebut Bagus???"
   ]
  },
  {
   "cell_type": "markdown",
   "metadata": {},
   "source": [
    "**Melihat boxplot dari nilai error mutlak**"
   ]
  },
  {
   "cell_type": "code",
   "execution_count": 18,
   "metadata": {},
   "outputs": [
    {
     "data": {
      "text/plain": [
       "<AxesSubplot:>"
      ]
     },
     "execution_count": 18,
     "metadata": {},
     "output_type": "execute_result"
    },
    {
     "data": {
      "image/png": "[encoded data removed]",
      "text/plain": [
       "<Figure size 432x288 with 1 Axes>"
      ]
     },
     "metadata": {},
     "output_type": "display_data"
    }
   ],
   "source": [
    "abs_error = np.abs(y_test-y_pred)\n",
    "\n",
    "sns.boxplot(abs_error)"
   ]
  },
  {
   "cell_type": "markdown",
   "metadata": {},
   "source": [
    "**Melihat range data test**"
   ]
  },
  {
   "cell_type": "code",
   "execution_count": 19,
   "metadata": {},
   "outputs": [
    {
     "name": "stdout",
     "output_type": "stream",
     "text": [
      "minimum y_test 20.1\n",
      "maksimum y_test 110.4\n"
     ]
    }
   ],
   "source": [
    "print('minimum y_test', y_test.min())\n",
    "print('maksimum y_test', y_test.max())"
   ]
  },
  {
   "cell_type": "markdown",
   "metadata": {},
   "source": [
    "# TensorBoard\n",
    "\n",
    "- Dalam machine learning, untuk meningkatkan suatu model kita sering kali harus bisa mengukurnya. \n",
    "- TensorBoard adalah alat yang menyediakan pengukuran dan visualisasi yang diperlukan dalam proses kerja machine learning.\n",
    "- Hal ini memungkinkan untuk mengamati eksperimen yang dilakukan seperti loss function dan metric evaluation, memvisualisasikan graf model, memproyeksikan embeddings ke ruang dimensi yang lebih rendah, dan banyak lagi.\n",
    "- link :https://www.tensorflow.org/tensorboard/get_started\n",
    "\n",
    "Untuk menggunakan TensorBoard pada model neural network, dapat dilakukan dengan cara berikut"
   ]
  },
  {
   "cell_type": "code",
   "execution_count": 21,
   "metadata": {},
   "outputs": [
    {
     "name": "stdout",
     "output_type": "stream",
     "text": [
      "The tensorboard extension is already loaded. To reload it, use:\n",
      "  %reload_ext tensorboard\n"
     ]
    }
   ],
   "source": [
    "# Load the TensorBoard notebook extension\n",
    "%load_ext tensorboard\n",
    "\n",
    "import tensorflow as tf\n",
    "import datetime"
   ]
  },
  {
   "cell_type": "code",
   "execution_count": 22,
   "metadata": {},
   "outputs": [
    {
     "name": "stdout",
     "output_type": "stream",
     "text": [
      "Epoch 1/100\n",
      "11/11 - 2s - loss: 1.7129 - mae: 1.2502 - val_loss: 1.3585 - val_mae: 1.1319\n",
      "Epoch 2/100\n",
      "11/11 - 0s - loss: 1.1524 - mae: 1.0193 - val_loss: 0.9117 - val_mae: 0.9137\n",
      "Epoch 3/100\n",
      "11/11 - 0s - loss: 0.7601 - mae: 0.7992 - val_loss: 0.5855 - val_mae: 0.7135\n",
      "Epoch 4/100\n",
      "11/11 - 0s - loss: 0.4932 - mae: 0.6257 - val_loss: 0.3667 - val_mae: 0.5390\n",
      "Epoch 5/100\n",
      "11/11 - 0s - loss: 0.3318 - mae: 0.4854 - val_loss: 0.2280 - val_mae: 0.3954\n",
      "Epoch 6/100\n",
      "11/11 - 0s - loss: 0.2075 - mae: 0.3826 - val_loss: 0.1492 - val_mae: 0.3220\n",
      "Epoch 7/100\n",
      "11/11 - 0s - loss: 0.1502 - mae: 0.3140 - val_loss: 0.1082 - val_mae: 0.2903\n",
      "Epoch 8/100\n",
      "11/11 - 0s - loss: 0.1397 - mae: 0.3074 - val_loss: 0.0897 - val_mae: 0.2725\n",
      "Epoch 9/100\n",
      "11/11 - 0s - loss: 0.1320 - mae: 0.2933 - val_loss: 0.0808 - val_mae: 0.2625\n",
      "Epoch 10/100\n",
      "11/11 - 0s - loss: 0.1238 - mae: 0.2817 - val_loss: 0.0777 - val_mae: 0.2572\n",
      "Epoch 11/100\n",
      "11/11 - 0s - loss: 0.1176 - mae: 0.2782 - val_loss: 0.0763 - val_mae: 0.2541\n",
      "Epoch 12/100\n",
      "11/11 - 0s - loss: 0.1159 - mae: 0.2795 - val_loss: 0.0760 - val_mae: 0.2535\n",
      "Epoch 13/100\n",
      "11/11 - 0s - loss: 0.1197 - mae: 0.2783 - val_loss: 0.0759 - val_mae: 0.2534\n",
      "Epoch 14/100\n",
      "11/11 - 0s - loss: 0.1373 - mae: 0.2976 - val_loss: 0.0754 - val_mae: 0.2521\n",
      "Epoch 15/100\n",
      "11/11 - 0s - loss: 0.1265 - mae: 0.2913 - val_loss: 0.0751 - val_mae: 0.2514\n",
      "Epoch 16/100\n",
      "11/11 - 0s - loss: 0.1059 - mae: 0.2632 - val_loss: 0.0747 - val_mae: 0.2503\n",
      "Epoch 17/100\n",
      "11/11 - 0s - loss: 0.1182 - mae: 0.2799 - val_loss: 0.0743 - val_mae: 0.2492\n",
      "Epoch 18/100\n",
      "11/11 - 0s - loss: 0.1189 - mae: 0.2754 - val_loss: 0.0741 - val_mae: 0.2490\n",
      "Epoch 19/100\n",
      "11/11 - 0s - loss: 0.1157 - mae: 0.2722 - val_loss: 0.0740 - val_mae: 0.2493\n",
      "Epoch 00019: early stopping\n"
     ]
    }
   ],
   "source": [
    "# Create model\n",
    "model = create_model(32,'sigmoid',0.1)\n",
    "\n",
    "log_dir = \"logs/fit/\" + datetime.datetime.now().strftime(\"%Y%m%d-%H%M%S\")\n",
    "tensorboard_callback = tf.keras.callbacks.TensorBoard(log_dir=log_dir, histogram_freq=1)\n",
    "\n",
    "# Early Stopping\n",
    "es = EarlyStopping(monitor = 'val_loss', mode = \"min\", min_delta = 0.005, patience = 5, verbose = 1)\n",
    "\n",
    "# fit model\n",
    "history = model.fit(X_train_scaled,y_train_scaled,\n",
    "                    epochs=100, batch_size=32,\n",
    "                    validation_split=0.1, callbacks = [es, tensorboard_callback],\n",
    "                    verbose=2)"
   ]
  },
  {
   "cell_type": "code",
   "execution_count": 23,
   "metadata": {},
   "outputs": [
    {
     "data": {
      "text/html": [
       "\n",
       "      <iframe id=\"tensorboard-frame-efc9600e1e81db6c\" width=\"100%\" height=\"800\" frameborder=\"0\">\n",
       "      </iframe>\n",
       "      <script>\n",
       "        (function() {\n",
       "          const frame = document.getElementById(\"tensorboard-frame-efc9600e1e81db6c\");\n",
       "          const url = new URL(\"/\", window.location);\n",
       "          const port = 6006;\n",
       "          if (port) {\n",
       "            url.port = port;\n",
       "          }\n",
       "          frame.src = url;\n",
       "        })();\n",
       "      </script>\n",
       "    "
      ],
      "text/plain": [
       "<IPython.core.display.HTML object>"
      ]
     },
     "metadata": {},
     "output_type": "display_data"
    }
   ],
   "source": [
    "%tensorboard --logdir logs/fit"
   ]
  },
  {
   "cell_type": "markdown",
   "metadata": {},
   "source": [
    "# Berapa Banyak Neuron yang Diperlukan? Fungsi Aktivasi Apa yang Harus Digunakan? Berapa Persen Dropout yang Ditentukan?\n",
    "\n",
    "## Hyper-parameter Tuning\n",
    "\n",
    "- Pertanyaan di atas dapat dijawab dengan melakukan hyper-parameter tuning atau melakukan beberapa percobaan dan memilih hasil yang terbaik\n",
    "- Hyper-parameter tuning dapat lakukan menggunakan fungsi GridSearchCV dari modul sklearn\n",
    "\n",
    "<img src=\"images/grid_search.png\" width=\"500\"/><br>\n",
    "- Namun untuk membuat model neural network menggunakan GridSearchCV, kita harus menggunakan fungsi model neural network dan dimasukan ke dalam KerasRegressor\n",
    "- Selain fungsi model neural network, parameter-parameter yang dimasukan pada model.fit() seperti contoh sebelumnya juga dimasukan ke dalam KerasRegressor"
   ]
  },
  {
   "cell_type": "markdown",
   "metadata": {},
   "source": [
    "## Membuat Model Neural Network dengan Hyper-parameter Tuning\n",
    "### 1. Import Modul"
   ]
  },
  {
   "cell_type": "code",
   "execution_count": 32,
   "metadata": {},
   "outputs": [],
   "source": [
    "from sklearn.model_selection import GridSearchCV\n",
    "from keras.wrappers.scikit_learn import KerasRegressor"
   ]
  },
  {
   "cell_type": "markdown",
   "metadata": {},
   "source": [
    "### 2. Membuat Model dengan KerasRegressor"
   ]
  },
  {
   "cell_type": "code",
   "execution_count": 33,
   "metadata": {},
   "outputs": [],
   "source": [
    "# Early Stopping\n",
    "es = EarlyStopping(monitor = 'val_loss', mode = \"min\", min_delta = 0.005, patience = 5, verbose = 0)\n",
    "\n",
    "# create model\n",
    "model = KerasRegressor(build_fn=create_model, epochs=500, validation_split=0.1, batch_size=32, callbacks=[es], verbose=0)"
   ]
  },
  {
   "cell_type": "markdown",
   "metadata": {},
   "source": [
    "### 3. Menentukan parameter-parameter\n",
    "- Pada contoh ini kita akan melakukan percobaan terhadap jumlah neuron, fungsi aktivasi, dan persentase dropout.\n",
    "- ketiga parameter tersebut beserta nila-nilai yang ingin digunakan kemudian dimasukan pada variabel **param_grid** dengan tipe data dictionary"
   ]
  },
  {
   "cell_type": "code",
   "execution_count": 34,
   "metadata": {},
   "outputs": [],
   "source": [
    "# define the grid search parameters\n",
    "neurons = [32, 64, 128]\n",
    "activation = ['relu','sigmoid','tanh']\n",
    "dropout=[0.1, 0.2, 0.3]\n",
    "param_grid = dict(neurons=neurons, activation=activation, dropout=dropout)"
   ]
  },
  {
   "cell_type": "markdown",
   "metadata": {},
   "source": [
    "### 4. Membuat Variabel GridSearchCV\n",
    "Variabel GridSearchCV dibuat dengan memasukan beberapa parameter yaitu:\n",
    "- estimator: model yang ingin dilakukan gridsearch\n",
    "- param_grid: parameter yang ingin diuji\n",
    "- n_jobs: Jumlah pekerjaan untuk dijalankan secara paralel. (-1 artinya menggunakan seluruh core processor)\n",
    "- cv: banyaknya k-fold cross validation"
   ]
  },
  {
   "cell_type": "code",
   "execution_count": 35,
   "metadata": {},
   "outputs": [],
   "source": [
    "grid = GridSearchCV(estimator=model, param_grid=param_grid, n_jobs=-1, cv=3)"
   ]
  },
  {
   "cell_type": "markdown",
   "metadata": {},
   "source": [
    "### 5. Training Model dengan GridSearchCV"
   ]
  },
  {
   "cell_type": "code",
   "execution_count": 36,
   "metadata": {},
   "outputs": [],
   "source": [
    "grid_result = grid.fit(X_train_scaled, y_train_scaled)"
   ]
  },
  {
   "cell_type": "markdown",
   "metadata": {},
   "source": [
    "### 6. Melihat Hasil Parameter Terbaik"
   ]
  },
  {
   "cell_type": "code",
   "execution_count": 37,
   "metadata": {},
   "outputs": [
    {
     "name": "stdout",
     "output_type": "stream",
     "text": [
      "Best: -0.047164 using {'activation': 'tanh', 'dropout': 0.1, 'neurons': 64}\n",
      "-0.049216 (0.002477) with: {'activation': 'relu', 'dropout': 0.1, 'neurons': 32}\n",
      "-0.048385 (0.002894) with: {'activation': 'relu', 'dropout': 0.1, 'neurons': 64}\n",
      "-0.047430 (0.003956) with: {'activation': 'relu', 'dropout': 0.1, 'neurons': 128}\n",
      "-0.048776 (0.004566) with: {'activation': 'relu', 'dropout': 0.2, 'neurons': 32}\n",
      "-0.047700 (0.003354) with: {'activation': 'relu', 'dropout': 0.2, 'neurons': 64}\n",
      "-0.048685 (0.002250) with: {'activation': 'relu', 'dropout': 0.2, 'neurons': 128}\n",
      "-0.051922 (0.001766) with: {'activation': 'relu', 'dropout': 0.3, 'neurons': 32}\n",
      "-0.050351 (0.002717) with: {'activation': 'relu', 'dropout': 0.3, 'neurons': 64}\n",
      "-0.047866 (0.002765) with: {'activation': 'relu', 'dropout': 0.3, 'neurons': 128}\n",
      "-0.067494 (0.006232) with: {'activation': 'sigmoid', 'dropout': 0.1, 'neurons': 32}\n",
      "-0.066005 (0.002864) with: {'activation': 'sigmoid', 'dropout': 0.1, 'neurons': 64}\n",
      "-0.066681 (0.002515) with: {'activation': 'sigmoid', 'dropout': 0.1, 'neurons': 128}\n",
      "-0.067272 (0.005753) with: {'activation': 'sigmoid', 'dropout': 0.2, 'neurons': 32}\n",
      "-0.062680 (0.004532) with: {'activation': 'sigmoid', 'dropout': 0.2, 'neurons': 64}\n",
      "-0.067090 (0.003084) with: {'activation': 'sigmoid', 'dropout': 0.2, 'neurons': 128}\n",
      "-0.065474 (0.001843) with: {'activation': 'sigmoid', 'dropout': 0.3, 'neurons': 32}\n",
      "-0.067556 (0.005094) with: {'activation': 'sigmoid', 'dropout': 0.3, 'neurons': 64}\n",
      "-0.069600 (0.004204) with: {'activation': 'sigmoid', 'dropout': 0.3, 'neurons': 128}\n",
      "-0.050304 (0.001904) with: {'activation': 'tanh', 'dropout': 0.1, 'neurons': 32}\n",
      "-0.047164 (0.003098) with: {'activation': 'tanh', 'dropout': 0.1, 'neurons': 64}\n",
      "-0.049035 (0.003318) with: {'activation': 'tanh', 'dropout': 0.1, 'neurons': 128}\n",
      "-0.050758 (0.002568) with: {'activation': 'tanh', 'dropout': 0.2, 'neurons': 32}\n",
      "-0.048483 (0.002922) with: {'activation': 'tanh', 'dropout': 0.2, 'neurons': 64}\n",
      "-0.048012 (0.003809) with: {'activation': 'tanh', 'dropout': 0.2, 'neurons': 128}\n",
      "-0.051784 (0.001690) with: {'activation': 'tanh', 'dropout': 0.3, 'neurons': 32}\n",
      "-0.049583 (0.002581) with: {'activation': 'tanh', 'dropout': 0.3, 'neurons': 64}\n",
      "-0.048115 (0.004114) with: {'activation': 'tanh', 'dropout': 0.3, 'neurons': 128}\n"
     ]
    }
   ],
   "source": [
    "# summarize results\n",
    "print(\"Best: %f using %s\" % (grid_result.best_score_, grid_result.best_params_))\n",
    "means = grid_result.cv_results_['mean_test_score']\n",
    "stds = grid_result.cv_results_['std_test_score']\n",
    "params = grid_result.cv_results_['params']\n",
    "for mean, stdev, param in zip(means, stds, params):\n",
    "    print(\"%f (%f) with: %r\" % (mean, stdev, param))"
   ]
  },
  {
   "cell_type": "markdown",
   "metadata": {},
   "source": [
    "Dari Hasil Training menggunakan GridSearchCV, kita peroleh:\n",
    "- parameter terbaiknya adalah: {'activation': 'relu', 'dropout': 0.3, 'neurons': 128}\n",
    "- Rata-rata Loss Function dari hasil Cross Validation adalah 0.047091 "
   ]
  },
  {
   "cell_type": "markdown",
   "metadata": {},
   "source": [
    "Kemudian coba kita lihat grafik loss function MSE dan metric MAE terhadap epoch untuk melihat performa model terbaik kita dengan cara sebagai berikut"
   ]
  },
  {
   "cell_type": "code",
   "execution_count": 38,
   "metadata": {},
   "outputs": [],
   "source": [
    "history = grid_result.best_estimator_.model.history"
   ]
  },
  {
   "cell_type": "code",
   "execution_count": 39,
   "metadata": {},
   "outputs": [
    {
     "data": {
      "text/plain": [
       "<matplotlib.legend.Legend at 0x1b80d824d30>"
      ]
     },
     "execution_count": 39,
     "metadata": {},
     "output_type": "execute_result"
    },
    {
     "data": {
      "image/png": "[encoded data removed]",
      "text/plain": [
       "<Figure size 432x288 with 1 Axes>"
      ]
     },
     "metadata": {},
     "output_type": "display_data"
    }
   ],
   "source": [
    "# grafik loss function MSE\n",
    "\n",
    "plt.plot(history.history['loss'], label='Training loss')\n",
    "plt.plot(history.history['val_loss'], label='Validation loss')\n",
    "plt.title('loss function MSE')\n",
    "plt.ylabel('MSE')\n",
    "plt.xlabel('Epoch')\n",
    "plt.legend()"
   ]
  },
  {
   "cell_type": "code",
   "execution_count": 40,
   "metadata": {},
   "outputs": [
    {
     "data": {
      "text/plain": [
       "<matplotlib.legend.Legend at 0x1b80d87afd0>"
      ]
     },
     "execution_count": 40,
     "metadata": {},
     "output_type": "execute_result"
    },
    {
     "data": {
      "image/png": "[encoded data removed]",
      "text/plain": [
       "<Figure size 432x288 with 1 Axes>"
      ]
     },
     "metadata": {},
     "output_type": "display_data"
    }
   ],
   "source": [
    "# grafik metric MAE\n",
    "\n",
    "plt.plot(history.history['mae'], label='Training MAE')\n",
    "plt.plot(history.history['val_mae'], label='Validation MAE')\n",
    "plt.title('metric MAE')\n",
    "plt.ylabel('MAE')\n",
    "plt.xlabel('Epoch')\n",
    "plt.legend()"
   ]
  },
  {
   "cell_type": "markdown",
   "metadata": {},
   "source": [
    "### 7. Evaluasi Model dengan Data Test\n",
    "Untuk memprediksi data test, model terbaik dari hasil GridSearchCV kita masukan ke dalam variabel best_model dengan cara \n",
    "\n",
    "`best_model = grid_result.best_estimator_.model`\n",
    "\n",
    "Kemudian, dengan cara yang sama seperti pada contoh sebelumnya kita akan menghitung MAE pada data test."
   ]
  },
  {
   "cell_type": "code",
   "execution_count": 41,
   "metadata": {},
   "outputs": [],
   "source": [
    "best_model = grid_result.best_estimator_.model"
   ]
  },
  {
   "cell_type": "code",
   "execution_count": 42,
   "metadata": {},
   "outputs": [
    {
     "name": "stdout",
     "output_type": "stream",
     "text": [
      "MAE data test sebesar: 18.291756144846513\n"
     ]
    }
   ],
   "source": [
    "y_pred = best_model.predict(X_test_scaled)\n",
    "y_pred = scaler2.inverse_transform(y_pred)\n",
    "\n",
    "# Mean Absolute Error (MAE) test data\n",
    "mae = np.mean(np.abs(y_test-y_pred))\n",
    "print('MAE data test sebesar:', mae)"
   ]
  },
  {
   "cell_type": "markdown",
   "metadata": {},
   "source": [
    "## Apakah Nilai MAE Tersebut Lebih Bagus dari Sebelumnya???"
   ]
  },
  {
   "cell_type": "markdown",
   "metadata": {},
   "source": [
    "# Latihan\n",
    "\n",
    "## Dengan menggunakan data konsumsi energi tiap rumah di atas, buatlah model neural network untuk memprediksi kolom listrik berdasarkan input kolom jumlah_keluarga dan jumlah_ruangan dengan ketentuan sebagai berikut!\n",
    "\n",
    "1. Arsitektur neural network terdiri dari:\n",
    "- Input layer, Dense layer, Dropout, Dense layer, Ouput layer (dibentuk secara berurutan)\n",
    "- Fungsi aktivasi yang digunakan pada kedua Dense layer adalah 'ReLu'\n",
    "- Persentase Dropout yang digunakan 10%\n",
    "- Compiler: loss='mse', optimizer='adam', metrics=['mae']\n",
    "\n",
    "2. Model dibuat menggunakan GridSearchCV dengan paramater yang diuji:\n",
    "- banyaknya neuron pada Dense layer pertama = [16,32,64]\n",
    "- banyaknya neuron pada Dense layer kedua = [10,20,30]\n",
    "\n",
    "3. Early Stopping diterapkan sehingga training berhenti pada saat epoch yang optimal\n",
    "\n",
    "4. Lakukan evaluasi pada data test dan simpulkan hasil evaluasi tersebut"
   ]
  }
 ],
 "metadata": {
  "celltoolbar": "Slideshow",
  "kernelspec": {
   "display_name": "Python 3",
   "language": "python",
   "name": "python3"
  },
  "language_info": {
   "codemirror_mode": {
    "name": "ipython",
    "version": 3
   },
   "file_extension": ".py",
   "mimetype": "text/x-python",
   "name": "python",
   "nbconvert_exporter": "python",
   "pygments_lexer": "ipython3",
   "version": "3.8.8"
  }
 },
 "nbformat": 4,
 "nbformat_minor": 4
}
