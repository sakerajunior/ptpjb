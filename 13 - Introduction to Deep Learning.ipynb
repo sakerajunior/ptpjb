{
 "cells": [
  {
   "cell_type": "markdown",
   "metadata": {},
   "source": [
    "# <center><font color=\"red\"> https://bit.ly/ptpjb-2021-13</font>\n",
    "# <center><font color=\"blue\">13 - Introduction to Deep Learning</font>\n",
    "\n",
    "<center><img alt=\"\" src=\"images/cover_ptpjb_2021.png\"/></center> \n",
    "\n",
    "## <center><font color=\"blue\">tau-data Indonesia</font><br>(C) Fathu Rahman - 2021</center>\n",
    "<center><a href=\"https://tau-data.id\">https://tau-data.id</a> ~ <a href=\"mailto:taufik@tau-data.id\">taufik@tau-data.id</a></center>"
   ]
  },
  {
   "cell_type": "markdown",
   "metadata": {},
   "source": [
    "# <center><font color=\"blue\"> Outline - Introduction to Deep Learning</font></center>\n",
    "\n",
    "* Pendahuluan Neural Network\n",
    "* Training Neural Network\n",
    "* Kelebihan dan Kekurangan\n",
    "* Studi Kasus\n",
    "* TensorBoard\n",
    "* Hyper-parameter Tuning\n",
    "* Latihan"
   ]
  },
  {
   "cell_type": "markdown",
   "metadata": {
    "slideshow": {
     "slide_type": "slide"
    }
   },
   "source": [
    "# <center><font color=\"blue\">Pendahuluan Neural Network </font></center>\n",
    "\n",
    "<img src=\"images/neural network 2.jpg\"  style=\"width: 500px;\"/>\n",
    "\n",
    "image source: https://fkmtfindonesia.or.id/artificial-neural-network/"
   ]
  },
  {
   "cell_type": "markdown",
   "metadata": {
    "slideshow": {
     "slide_type": "slide"
    }
   },
   "source": [
    "## Penerapan Neural Network\n",
    "<br>\n",
    "<center><video align=\"center\" controls src=\"videos/neural_network_in_life.MP4\"/></center>\n",
    "\n",
    "source: https://www.youtube.com/watch?v=me3QEYPsFWE"
   ]
  },
  {
   "cell_type": "markdown",
   "metadata": {
    "slideshow": {
     "slide_type": "slide"
    }
   },
   "source": [
    "### Reface App Manfaatkan Deep Tech AI\n",
    "https://aqi.co.id/blog/yang-sedang-viral-reface-app-swap-wajah-dengan-teknologi-ai\n",
    "<br><br>\n",
    "<center><video align=\"center\" controls src=\"videos/Reface App.mp4\" width=\"700\" ><center/>"
   ]
  },
  {
   "cell_type": "markdown",
   "metadata": {},
   "source": [
    "## Neural Network\n",
    "\n",
    "<img src=\"images/intro_nn.JPG\"  style=\"width: 800px;\" />"
   ]
  },
  {
   "cell_type": "markdown",
   "metadata": {},
   "source": [
    "### Single Perceptron untuk Klasifikasi Binari\n",
    "Misalkan masalah klasifikasi binari yang terdiri dari dua kelas yaitu kelas negatif (-1) dan kelas positif (1)\n",
    "\n",
    "<img src=\"images/single_perceptron.JPG\"/>\n",
    "\n",
    "- Pada single perceptron, kombinasi linear antara variabel sebanyak $m$ dengan masing-masing bobotnya dijadikan sebagai input.\n",
    "\n",
    "<center>$z=w_0+x_1w_1+x_2w_2+...+x_mw_m=\\bf{W^TX}$</center>\n",
    "<br>\n",
    "\n",
    "- Kemudian dengan menggunakan fungsi batas, hasil kombinasi linear tersebut akan ditentukan sebagai kelas negatif (-1) atau kelas positif (1) berdasarkan nilai batas yang ditentukan.\n",
    "\n",
    "<img src=\"images/binary_function.JPG\" width=\"200\"/>\n",
    "<img src=\"images/single_perceptron2.JPG\" width=\"500\"/>\n",
    "\n",
    "- Fungsi batas tersebut biasanya disebut fungsi aktivasi"
   ]
  },
  {
   "cell_type": "markdown",
   "metadata": {},
   "source": [
    "## Fungsi aktivasi\n",
    "\n",
    "Fungsi aktivasi adalah fungsi yang memutuskan apakah suatu neuron harus diaktifkan atau tidak berdasarkan hasil perhitungan kombinasi linear antara variabel input dengan masing-masing bobotnya. Selain itu fungsi aktivasi bisa berfungsi untuk merubah kombinasi linear tersebut menjadi output yang non linear\n",
    "\n",
    "- Terdapat beberapa *activation function*, di antaranya sebagai berikut:\n",
    "<img src=\"images/activation functions.jpg\" width=500 height=500/>\n",
    "\n",
    "image source: https://docs.paperspace.com/machine-learning/wiki/activation-function"
   ]
  },
  {
   "cell_type": "markdown",
   "metadata": {},
   "source": [
    "# <center><font color=\"blue\">Training Neural Network </font></center>\n",
    "\n",
    "<img src=\"images/cara_kerja_nn.JPG\" />\n"
   ]
  },
  {
   "cell_type": "markdown",
   "metadata": {},
   "source": [
    "## Contoh sistem kerja Neural Network\n",
    "\n",
    "<center><video align=\"center\" controls src=\"videos/neural network.mp4\" width=\"560\" height=\"315\"/></center>\n",
    "\n",
    "link: https://youtu.be/o20mBWPHGEw"
   ]
  },
  {
   "cell_type": "markdown",
   "metadata": {},
   "source": [
    "# <center><font color=\"blue\">Kelebihan dan Kekurangan</font></center>\n",
    "<img src=\"images/pros and cons.jpeg\" style=\"width: 600px\"/><br>\n",
    "<img src=\"images/NN vs ML.jpeg\" style=\"width: 800px\"/><br>\n",
    "<img src=\"images/NN vs ML 2.jpeg\" style=\"width: 800px\"/>\n",
    "\n",
    "\n",
    "image source: \n",
    "- https://slidetodoc.com/neural-networks-and-support-vector-machines-outline-neural/\n",
    "- https://dzone.com/articles/comparison-between-deep-learning-vs-machine-learni"
   ]
  },
  {
   "cell_type": "markdown",
   "metadata": {},
   "source": [
    "# <center><font color=\"blue\">Studi Kasus</font></center> \n",
    "\n",
    "- Sebagai ilustrasi, kita gunakan data konsumsi energi tiap rumah untuk membuat model neural network\n",
    "- Data tersebut terdiri dari 504 baris dan 4 kolom, kolom tersebut di antaranya yaitu:\n",
    "1. jumlah ruangan\n",
    "2. jumlah penghuni\n",
    "3. luas bangunan\n",
    "4. banyaknya energi listrik yang digunakan dalam satuan KWh per bulan\n",
    "\n",
    "<img src=\"images/data_energi.JPG\"/>\n",
    "\n",
    "- Data tersebut merupakan hasil modifikasi dari data boston housing (link: https://www.kaggle.com/c/boston-housing)\n",
    "- Model neural network yang akan dibuat bertujuan untuk memprediksi kolom energi listrik berdasarkan kolom lainnya."
   ]
  },
  {
   "cell_type": "markdown",
   "metadata": {},
   "source": [
    "## Import Modul Standar"
   ]
  },
  {
   "cell_type": "code",
   "execution_count": 1,
   "metadata": {},
   "outputs": [],
   "source": [
    "import numpy as np\n",
    "import pandas as pd\n",
    "import matplotlib.pyplot as plt\n",
    "%matplotlib inline\n",
    "import seaborn as sns\n",
    "sns.set_theme(style=\"whitegrid\")\n",
    "import warnings\n",
    "warnings.filterwarnings(\"ignore\")"
   ]
  },
  {
   "cell_type": "markdown",
   "metadata": {},
   "source": [
    "## Import Data Konsumsi Energi\n",
    "- Data konsumsi energi diimport menggunakan pandas\n",
    "- karena format datanya csv maka untuk mengimportnya menggunakan `pd.read_csv()`\n",
    "- setelah diimport dan simpan dalam variabel energi, kita coba lihat 5 data teratas menggunakan `energi.head()`"
   ]
  },
  {
   "cell_type": "code",
   "execution_count": 2,
   "metadata": {},
   "outputs": [
    {
     "data": {
      "text/html": [
       "<div>\n",
       "<style scoped>\n",
       "    .dataframe tbody tr th:only-of-type {\n",
       "        vertical-align: middle;\n",
       "    }\n",
       "\n",
       "    .dataframe tbody tr th {\n",
       "        vertical-align: top;\n",
       "    }\n",
       "\n",
       "    .dataframe thead th {\n",
       "        text-align: right;\n",
       "    }\n",
       "</style>\n",
       "<table border=\"1\" class=\"dataframe\">\n",
       "  <thead>\n",
       "    <tr style=\"text-align: right;\">\n",
       "      <th></th>\n",
       "      <th>jumlah_ruangan</th>\n",
       "      <th>jumlah_penghuni</th>\n",
       "      <th>luas_bangunan</th>\n",
       "      <th>listrik</th>\n",
       "    </tr>\n",
       "  </thead>\n",
       "  <tbody>\n",
       "    <tr>\n",
       "      <th>0</th>\n",
       "      <td>2</td>\n",
       "      <td>1</td>\n",
       "      <td>49.8</td>\n",
       "      <td>24.0</td>\n",
       "    </tr>\n",
       "    <tr>\n",
       "      <th>1</th>\n",
       "      <td>7</td>\n",
       "      <td>2</td>\n",
       "      <td>91.4</td>\n",
       "      <td>21.6</td>\n",
       "    </tr>\n",
       "    <tr>\n",
       "      <th>2</th>\n",
       "      <td>7</td>\n",
       "      <td>2</td>\n",
       "      <td>40.3</td>\n",
       "      <td>34.7</td>\n",
       "    </tr>\n",
       "    <tr>\n",
       "      <th>3</th>\n",
       "      <td>2</td>\n",
       "      <td>3</td>\n",
       "      <td>29.4</td>\n",
       "      <td>33.4</td>\n",
       "    </tr>\n",
       "    <tr>\n",
       "      <th>4</th>\n",
       "      <td>2</td>\n",
       "      <td>3</td>\n",
       "      <td>53.3</td>\n",
       "      <td>36.2</td>\n",
       "    </tr>\n",
       "    <tr>\n",
       "      <th>5</th>\n",
       "      <td>2</td>\n",
       "      <td>3</td>\n",
       "      <td>52.1</td>\n",
       "      <td>28.7</td>\n",
       "    </tr>\n",
       "    <tr>\n",
       "      <th>6</th>\n",
       "      <td>7</td>\n",
       "      <td>5</td>\n",
       "      <td>124.3</td>\n",
       "      <td>22.9</td>\n",
       "    </tr>\n",
       "    <tr>\n",
       "      <th>7</th>\n",
       "      <td>7</td>\n",
       "      <td>5</td>\n",
       "      <td>191.5</td>\n",
       "      <td>27.1</td>\n",
       "    </tr>\n",
       "    <tr>\n",
       "      <th>8</th>\n",
       "      <td>7</td>\n",
       "      <td>5</td>\n",
       "      <td>299.3</td>\n",
       "      <td>16.5</td>\n",
       "    </tr>\n",
       "    <tr>\n",
       "      <th>9</th>\n",
       "      <td>7</td>\n",
       "      <td>5</td>\n",
       "      <td>171.0</td>\n",
       "      <td>18.9</td>\n",
       "    </tr>\n",
       "  </tbody>\n",
       "</table>\n",
       "</div>"
      ],
      "text/plain": [
       "   jumlah_ruangan  jumlah_penghuni  luas_bangunan  listrik\n",
       "0               2                1           49.8     24.0\n",
       "1               7                2           91.4     21.6\n",
       "2               7                2           40.3     34.7\n",
       "3               2                3           29.4     33.4\n",
       "4               2                3           53.3     36.2\n",
       "5               2                3           52.1     28.7\n",
       "6               7                5          124.3     22.9\n",
       "7               7                5          191.5     27.1\n",
       "8               7                5          299.3     16.5\n",
       "9               7                5          171.0     18.9"
      ]
     },
     "execution_count": 2,
     "metadata": {},
     "output_type": "execute_result"
    }
   ],
   "source": [
    "file_ = 'data/konsumsi_energi.csv'\n",
    "try: # Running Locally\n",
    "    energi = pd.read_csv(file_)\n",
    "except: # Running in Google Colab\n",
    "    !mkdir data\n",
    "    !wget -P data/ https://raw.githubusercontent.com/taudata-indonesia/ptpjb/main/{file_}\n",
    "    energi = pd.read_csv(file_)\n",
    "energi.head(10)"
   ]
  },
  {
   "cell_type": "markdown",
   "metadata": {},
   "source": [
    "## Visualisasi Data"
   ]
  },
  {
   "cell_type": "code",
   "execution_count": 3,
   "metadata": {
    "scrolled": false
   },
   "outputs": [
    {
     "data": {
      "text/plain": [
       "<seaborn.axisgrid.PairGrid at 0x254ad362ee0>"
      ]
     },
     "execution_count": 3,
     "metadata": {},
     "output_type": "execute_result"
    },
    {
     "data": {
      "image/png": "[encoded data removed]",
      "text/plain": [
       "<Figure size 720x180 with 5 Axes>"
      ]
     },
     "metadata": {},
     "output_type": "display_data"
    }
   ],
   "source": [
    "sns.pairplot(energi, y_vars='listrik')"
   ]
  },
  {
   "cell_type": "markdown",
   "metadata": {},
   "source": [
    "- Dari hasil visualisasi data terlihat bahwa terdapat keanehan pada data.\n",
    "- Hal tersebut dikarenakan data yang digunakan bukan data sebenarnya.\n",
    "- Tetapi coba kita tetap gunakan sebagai contoh."
   ]
  },
  {
   "cell_type": "markdown",
   "metadata": {},
   "source": [
    "## Melihat Statistika Deskriptif dari Data\n",
    "- Sebelum melakukan pembuatan model, sebaiknya dilakukan analisa terhadap statistika deskriptif dari data\n",
    "- Dari statistika deskriptif tersebut, kita dapat meilhat range dari data dan ukuran pusat data"
   ]
  },
  {
   "cell_type": "code",
   "execution_count": 4,
   "metadata": {
    "scrolled": false
   },
   "outputs": [
    {
     "data": {
      "text/html": [
       "<div>\n",
       "<style scoped>\n",
       "    .dataframe tbody tr th:only-of-type {\n",
       "        vertical-align: middle;\n",
       "    }\n",
       "\n",
       "    .dataframe tbody tr th {\n",
       "        vertical-align: top;\n",
       "    }\n",
       "\n",
       "    .dataframe thead th {\n",
       "        text-align: right;\n",
       "    }\n",
       "</style>\n",
       "<table border=\"1\" class=\"dataframe\">\n",
       "  <thead>\n",
       "    <tr style=\"text-align: right;\">\n",
       "      <th></th>\n",
       "      <th>jumlah_ruangan</th>\n",
       "      <th>jumlah_penghuni</th>\n",
       "      <th>luas_bangunan</th>\n",
       "      <th>listrik</th>\n",
       "    </tr>\n",
       "  </thead>\n",
       "  <tbody>\n",
       "    <tr>\n",
       "      <th>count</th>\n",
       "      <td>504.000000</td>\n",
       "      <td>504.000000</td>\n",
       "      <td>504.000000</td>\n",
       "      <td>504.000000</td>\n",
       "    </tr>\n",
       "    <tr>\n",
       "      <th>mean</th>\n",
       "      <td>10.750000</td>\n",
       "      <td>9.575397</td>\n",
       "      <td>126.859325</td>\n",
       "      <td>22.474008</td>\n",
       "    </tr>\n",
       "    <tr>\n",
       "      <th>std</th>\n",
       "      <td>6.914488</td>\n",
       "      <td>8.714506</td>\n",
       "      <td>71.355341</td>\n",
       "      <td>9.132927</td>\n",
       "    </tr>\n",
       "    <tr>\n",
       "      <th>min</th>\n",
       "      <td>1.000000</td>\n",
       "      <td>1.000000</td>\n",
       "      <td>17.300000</td>\n",
       "      <td>5.000000</td>\n",
       "    </tr>\n",
       "    <tr>\n",
       "      <th>25%</th>\n",
       "      <td>5.000000</td>\n",
       "      <td>4.000000</td>\n",
       "      <td>70.925000</td>\n",
       "      <td>16.950000</td>\n",
       "    </tr>\n",
       "    <tr>\n",
       "      <th>50%</th>\n",
       "      <td>9.000000</td>\n",
       "      <td>5.000000</td>\n",
       "      <td>113.950000</td>\n",
       "      <td>21.200000</td>\n",
       "    </tr>\n",
       "    <tr>\n",
       "      <th>75%</th>\n",
       "      <td>18.000000</td>\n",
       "      <td>24.000000</td>\n",
       "      <td>169.925000</td>\n",
       "      <td>25.000000</td>\n",
       "    </tr>\n",
       "    <tr>\n",
       "      <th>max</th>\n",
       "      <td>27.000000</td>\n",
       "      <td>24.000000</td>\n",
       "      <td>379.700000</td>\n",
       "      <td>50.000000</td>\n",
       "    </tr>\n",
       "  </tbody>\n",
       "</table>\n",
       "</div>"
      ],
      "text/plain": [
       "       jumlah_ruangan  jumlah_penghuni  luas_bangunan     listrik\n",
       "count      504.000000       504.000000     504.000000  504.000000\n",
       "mean        10.750000         9.575397     126.859325   22.474008\n",
       "std          6.914488         8.714506      71.355341    9.132927\n",
       "min          1.000000         1.000000      17.300000    5.000000\n",
       "25%          5.000000         4.000000      70.925000   16.950000\n",
       "50%          9.000000         5.000000     113.950000   21.200000\n",
       "75%         18.000000        24.000000     169.925000   25.000000\n",
       "max         27.000000        24.000000     379.700000   50.000000"
      ]
     },
     "execution_count": 4,
     "metadata": {},
     "output_type": "execute_result"
    }
   ],
   "source": [
    "energi.describe()"
   ]
  },
  {
   "cell_type": "markdown",
   "metadata": {},
   "source": [
    "- Dari statistika deskriptif di atas terlihat perbedaan range antara jumlah_keluarga, jumlah_ruangan dengan luas_bangunan dan listrik\n",
    "- Karena perbedaan range tersebut, nanti kita akan lakukan **feature scalling** menggunakan **MinMaxScaler** agar range dari seluruh data tersebut berada di antara 0 dan 1"
   ]
  },
  {
   "cell_type": "markdown",
   "metadata": {},
   "source": [
    "## Menentukan variabel target dan variabel input\n",
    "Karena tujuan kita adalah memprediksi kolom listrik berdasarkan kolom lainnya, maka:\n",
    "- kita tetapkan kolom listrik sebagai variabel target (y) \n",
    "- dan kolom lainnya sebagai variabel input (X)"
   ]
  },
  {
   "cell_type": "code",
   "execution_count": 5,
   "metadata": {},
   "outputs": [
    {
     "name": "stdout",
     "output_type": "stream",
     "text": [
      "(504, 3) (504, 1)\n",
      "<class 'numpy.ndarray'> <class 'numpy.ndarray'>\n"
     ]
    }
   ],
   "source": [
    "y = energi[['listrik']].values\n",
    "X = energi.drop(columns=['listrik']).values\n",
    "\n",
    "# Check the shape of training data\n",
    "print(X.shape,y.shape)\n",
    "print(type(y),type(X))"
   ]
  },
  {
   "cell_type": "markdown",
   "metadata": {},
   "source": [
    "- Perhatikan bahwa code di atas menggunakan `.values` saat menetapkan variabel y dan X\n",
    "- Hal tersebut dilakukan untuk merubah tipe data dataframe menjadi numpy array\n",
    "- Tensorflow sebenarnya dapat memproses tipe data dataframe, namun tipe data numpy array akan lebih cepat diproses"
   ]
  },
  {
   "cell_type": "markdown",
   "metadata": {},
   "source": [
    "## Split Data\n",
    "<img src=\"images/cross_validation.png\">\n",
    "\n",
    "- Split data dilakukan agar model yang telah dilatih dapat dievaluasi kemampuannya.\n",
    "- Kita gunakan **train_test_split** dari modul **sklearn** untuk melakukan split data\n",
    "- **train_test_split** tersebut melakukan split data dengan **stratified sampling**\n",
    "- Kita juga akan melakukan **cross validation** menggunakan data train sehingga pastikan data train yang digunakan cukup besar.\n",
    "- Pada contoh ini kita gunakan 80% data train dan 20% data test\n",
    "- **random_state** ditetapkan berupa bilangan integer agar hasil split data yang dilakukan secara acak selalu sama"
   ]
  },
  {
   "cell_type": "code",
   "execution_count": 6,
   "metadata": {},
   "outputs": [
    {
     "name": "stdout",
     "output_type": "stream",
     "text": [
      "Banyak data train: 403\n",
      "Banyak data test : 101\n"
     ]
    }
   ],
   "source": [
    "# Create training and test split\n",
    "from sklearn.model_selection import train_test_split\n",
    "\n",
    "X_train, X_test, y_train, y_test = train_test_split(X, y, test_size=0.2, random_state=1)\n",
    "\n",
    "print('Banyak data train:', len(X_train))\n",
    "print('Banyak data test :', len(X_test))"
   ]
  },
  {
   "cell_type": "markdown",
   "metadata": {},
   "source": [
    "## Feature Scalling\n",
    "\n",
    "- Perbedaan range antara variabel-variabel yang digunakan akan menyulitkan proses pelatihan model neural network\n",
    "- Selain itu range yang besar juga dapat menyebabkan suatu ketika nilai loss function sangat besar sehingga proses pelatihan model neural network tidak mencapai nilai minimum\n",
    "- Oleh karena itu perlu dilakukan **feature scalling** menggunakan **MinMaxScaler** agar seluruh data memiliki range yang sama yaitu dari 0 sampai 1\n",
    "- Rumus MinMaxScaler:\n",
    "# <center> $x^*=\\frac{x-x_{min}}{x_{max}-x_{min}}$</center>\n",
    "\n",
    "<img src=\"images/minmax.png\" width=\"500\"/>\n",
    "\n",
    "- MinMaxScaler difit pada data train agar dapat digunakan kembali pada data test maupun data observasi baru\n",
    "- MinMaxScaler diterapkan secara terpisah antara variabel target dan input karena ketika ingin memprediksi variabel target dengan data observasi baru, data tersebut hanya terdiri dari variabel input"
   ]
  },
  {
   "cell_type": "code",
   "execution_count": 7,
   "metadata": {},
   "outputs": [],
   "source": [
    "from sklearn.preprocessing import MinMaxScaler\n",
    "scaler1 = MinMaxScaler()\n",
    "scaler1.fit(X_train)\n",
    "scaler2 = MinMaxScaler()\n",
    "scaler2.fit(y_train)\n",
    "\n",
    "X_train_scaled = scaler1.transform(X_train)\n",
    "X_test_scaled = scaler1.transform(X_test)\n",
    "y_train_scaled = scaler2.transform(y_train)\n",
    "y_test_scaled = scaler2.transform(y_test)"
   ]
  },
  {
   "cell_type": "markdown",
   "metadata": {},
   "source": [
    "## Neural Network Menggunakan Tensorflow dan Keras\n",
    "- tensorflow: https://www.tensorflow.org/overview\n",
    "- keras: https://keras.io/about/"
   ]
  },
  {
   "cell_type": "markdown",
   "metadata": {},
   "source": [
    "## Struktur neural network di keras API\n",
    "- **Sequential model**\n",
    "\n",
    "Sequential model memungkinkan kita untuk membuat model layer demi layer secara berurutan. Untuk membuat variabel Sequential model dilakukan sebagai berikut:\n",
    "\n",
    "`from keras.models import Sequential`<br>\n",
    "`model = Sequential()`\n",
    "- **Dense layer**\n",
    "\n",
    "Dense layer membuat fully connected layer dengan neuron-neuron yang terhubung pada layer sebelumnya. Pada dense layer ini kita dapat menentukan berapa banyak neuron dan fungsi aktivasi apa yang digunakan. Sebagai contoh untuk menambahkan Dense layer dengan neuron sebanyak 32 dan fungsi aktivasi sigmoid pada Sequential model dilakukan sebagai berikut:\n",
    "\n",
    "`model = Sequential()`<br>\n",
    "`model.add(Dense(32, input_dim=3, activation='sigmoid'))`\n",
    "\n",
    "input_dim berfungsi untuk menentukan banyaknya variabel input dan hanya ditentukan pada layer pertama.\n",
    "- **Dropout layer**\n",
    "\n",
    "Dropout layer adalah layer penting untuk mengurangi over-fitting dalam model neural network. Dropout layer akan mengurangi kompleksitas model neural network dengan mengurangi jumlah neuron secara acak sehingga hal ini dapat mencegah over-fitting. persentase jumlah neuron yang dikurangi dapat dilakukan dengan menentukan nilai dropout antara 0 sampai 1.\n",
    "\n",
    "<img src=\"images/dropout.jpg\" width=\"400\"/>\n",
    "\n",
    "image source: https://www.tech-quantum.com/implementing-drop-out-regularization-in-neural-networks/\n",
    "\n",
    "Untuk melakukan dropout pada layer sebelumnya sebesar 20% dapat dilakukan sebagai berikut:\n",
    "\n",
    "`model = Sequential()`<br>\n",
    "`model.add(Dense(32, input_dim=3, activation='sigmoid'))`<br>\n",
    "`model.add(Dropout(0.2))`\n",
    "- **Compiler**\n",
    "\n",
    "Setelah membangun arsitektur neural network, kita perlu memilih tiga hal lagi pada tahap \"kompilasi\": \n",
    "1. **Loss Function**: adalah bagaimana neural network dapat mengukur seberapa besar kesalahan pelatihan yang dilakukan pada data trainnya, dengan demikian model dapat meminimumkan kesalahan tersebut. Beberapa loss function pada Keras API dapat pilih tergantung pada permasalahannya\n",
    "\n",
    "<img src=\"images/keras_losses.JPG\"/>\n",
    "\n",
    "image source: https://keras.io/api/losses/\n",
    "\n",
    "Pada contoh ini permasalahannya adalah regresi karena variabel targetnya berupa variabel kontinu sehingga kita akan memilih loss function untuk regresi. Loss function yang sering digunakan pada permasalahan regresi adalah **Mean squared error (MSE)**. MSE berfungsi untuk menghitung rata-rata error kuadrat antara nilai prediksi dan nilai sebenarnya.\n",
    "<img src=\"images/mse1.png\"/>\n",
    "\n",
    "image source: https://towardsdatascience.com/deep-learning-which-loss-and-activation-functions-should-i-use-ac02f1c56aa8\n",
    "\n",
    "2. **Optimizer**: adalah algoritma untuk meminimalkan loss function dengan memperbarui bobot-bobot pada model neural network secara iteratif. terdapat bebrapa optimizer pada Keras, di antaranya sebagai berikut:\n",
    "\n",
    "<img src=\"images/keras_optimizer.JPG\"/>\n",
    "\n",
    "Dari beberapa optimizer di atas, yang paling sering digunakan adalah Adam Optimizer. Pemilihan optimizer tersebut akan mempengaruhi lamanya proses pelatihan model untuk mencapai loss function yang minimum. berikut disajikan perbandingan proses meminimalkan loss function dengan beberapa optimzer\n",
    "<img src=\"images/Keras_Optimizers-min.gif\" width=\"300\"/>\n",
    "\n",
    "image source: https://machinelearningknowledge.ai/keras-optimizers-explained-with-examples-for-beginners/\n",
    "\n",
    "3. **Metric**: adalah fungsi yang digunakan untuk menilai kinerja model yang telah dibuat. Fungsi metric mirip dengan loss function. Hanya saja tidak semua fungsi metric dapat dijadikan loss function (misal akurasi, karena kita tidak ingin meminimalkan akurasi). Sebaliknya seluruh loss function dapat dijadikan metric karena nilai loss function yang kecil dapat mengindikasi bahwa model cukup baik. Berikut metric-metric yang ada di Keras:\n",
    "<img src=\"images/keras_metric.jpg\"/>\n",
    "\n",
    "Pada contoh ini kita akan gunakan **Mean Absolute Error (MAE)** sebagai metric. MAE berfungsi untuk menghitung rata-rata selisih antara nilai prediksi dan nilai sebenarnya.\n",
    "<img src=\"images/mae.jpg\" width = \"700\"/>\n",
    "\n",
    "Untuk menambahkan compiler pada arsitektur neural network yang telah dibuat dapat dilakukan sebagai berikut:\n",
    "\n",
    "`model = Sequential()`<br>\n",
    "`model.add(Dense(32, input_dim=3, activation='sigmoid'))`<br>\n",
    "`model.add(Dropout(0.2))`<br>\n",
    "`model.compile(loss='mse', optimizer='adam', metrics=['mae'])`"
   ]
  },
  {
   "cell_type": "markdown",
   "metadata": {},
   "source": [
    "## Membuat Model Neural Network \n",
    "### 1. Import Modul"
   ]
  },
  {
   "cell_type": "code",
   "execution_count": 8,
   "metadata": {},
   "outputs": [],
   "source": [
    "from keras.models import Sequential\n",
    "from keras.layers import Dense, Dropout"
   ]
  },
  {
   "cell_type": "markdown",
   "metadata": {},
   "source": [
    "### 2. Membuat Fungsi Model Neural Network\n",
    "Dalam membuat model neural network tidak harus berupa fungsi, namun dengan membuat fungsi model neural network akan lebih mudah dalam merubah parameter-parameternya.\n",
    "\n",
    "Fungsi model neural network yang akan dibuat terdiri:\n",
    "- input layer dengan 3 feature (jumlah_ruangan, jumlah_penghuni, luas_bangunan)\n",
    "- 1 Dense hidden layer\n",
    "- Dropout antara Dense hidden layer dan Dense output layer\n",
    "- Dense output layer dengan 1 neuron (prediksi jumlah penggunaan energi)\n",
    "- loss function yang digunakan adalah Mean Squared Error (MSE)\n",
    "- optimizer yang digunakan adalah adam\n",
    "- metric yang digunakan adalah Mean Absolute Error (MAE)\n",
    "\n",
    "Parameter-parameter yang dijadikan sebagai input dari fungsi tersebut adalah:\n",
    "- neurons: banyaknya neuron pada Dense layer (default = 10)\n",
    "- activation: fungsi aktivasi yang digunakan (default = 'relu')\n",
    "- dropout: persentase dropout (default = 0.2)"
   ]
  },
  {
   "cell_type": "code",
   "execution_count": 9,
   "metadata": {},
   "outputs": [],
   "source": [
    "def create_model(neurons=10, activation='relu', dropout=0.2):\n",
    "    # create model\n",
    "    model = Sequential()\n",
    "    model.add(Dense(neurons, input_dim=3, activation=activation))\n",
    "    model.add(Dropout(dropout))\n",
    "    model.add(Dense(1))\n",
    "    # Compile model\n",
    "    model.compile(loss='mse', optimizer='adam', metrics=['mae'])\n",
    "    return model"
   ]
  },
  {
   "cell_type": "markdown",
   "metadata": {},
   "source": [
    "### 3. Membuat Model\n",
    "\n",
    "Misalkan kita akan membuat model dengan parameter-parameter input sebagai berikut:\n",
    "- neuron = 32\n",
    "- activation = 'sigmoid'\n",
    "- dropout = 0.1\n",
    "\n",
    "Maka kita dapat membuat model neural network sebagai berikut:\n",
    "\n",
    "`model = create_model(32,'sigmoid',0.1)`\n",
    "\n",
    "Atau jika ingin membuat model dengan input default:\n",
    "\n",
    "`model = create_model()`\n",
    "\n",
    "Kita dapat melihat arsitektur model yang kita buat dengan cara berikut:\n",
    "\n",
    "`model.summary()`"
   ]
  },
  {
   "cell_type": "code",
   "execution_count": 10,
   "metadata": {},
   "outputs": [
    {
     "name": "stdout",
     "output_type": "stream",
     "text": [
      "Model: \"sequential\"\n",
      "_________________________________________________________________\n",
      "Layer (type)                 Output Shape              Param #   \n",
      "=================================================================\n",
      "dense (Dense)                (None, 32)                128       \n",
      "_________________________________________________________________\n",
      "dropout (Dropout)            (None, 32)                0         \n",
      "_________________________________________________________________\n",
      "dense_1 (Dense)              (None, 1)                 33        \n",
      "=================================================================\n",
      "Total params: 161\n",
      "Trainable params: 161\n",
      "Non-trainable params: 0\n",
      "_________________________________________________________________\n"
     ]
    }
   ],
   "source": [
    "model = create_model(32,'sigmoid',0.1)\n",
    "model.summary()"
   ]
  },
  {
   "cell_type": "markdown",
   "metadata": {},
   "source": [
    "### 4. Training Model\n",
    "Training model dapat dilakukan sebagai berkut:\n",
    "\n",
    "`history = model.fit(X_train_scaled,y_train_scaled, batch_size=32, epochs=100, validation_split=0.1, verbose=2)`\n",
    "\n",
    "Perhatikan parameter epochs dan batch_size\n",
    "\n",
    "<img src=\"images/epoch_batch_size.jpeg\" width= \"400\"/>\n",
    "\n",
    "image source: https://jerryan.medium.com/batch-size-a15958708a6\n",
    "\n",
    "Stochastic Gradient Descent, Clearly Explained!!!: https://www.youtube.com/watch?v=vMh0zPT0tLI\n",
    "\n",
    "\n",
    "**Parameter-parameter model.fit()**\n",
    "- bacth_size: adalah banyaknya sampel pada satu kali training yang digunakan untuk memperbarui seluruh bobot\n",
    "- epochs: adalah banyaknya proses training dengan seluruh sampel.\n",
    "- validation_split: adalah persentase data yang digunakan sebagai data validasi\n",
    "- verbose: adalah opsi untuk menampilkan proses training (0 = silent, 1 = progress bar, 2 = one line per epoch)"
   ]
  },
  {
   "cell_type": "code",
   "execution_count": 11,
   "metadata": {},
   "outputs": [
    {
     "name": "stdout",
     "output_type": "stream",
     "text": [
      "Epoch 1/100\n",
      "12/12 - 14s - loss: 1.1426 - mae: 1.0270 - val_loss: 0.8779 - val_mae: 0.9022\n",
      "Epoch 2/100\n",
      "12/12 - 0s - loss: 0.7116 - mae: 0.7860 - val_loss: 0.5147 - val_mae: 0.6749\n",
      "Epoch 3/100\n",
      "12/12 - 0s - loss: 0.4249 - mae: 0.5837 - val_loss: 0.2831 - val_mae: 0.4910\n",
      "Epoch 4/100\n",
      "12/12 - 0s - loss: 0.2407 - mae: 0.4285 - val_loss: 0.1503 - val_mae: 0.3556\n",
      "Epoch 5/100\n",
      "12/12 - 0s - loss: 0.1406 - mae: 0.3116 - val_loss: 0.0880 - val_mae: 0.2643\n",
      "Epoch 6/100\n",
      "12/12 - 0s - loss: 0.1115 - mae: 0.2691 - val_loss: 0.0592 - val_mae: 0.2064\n",
      "Epoch 7/100\n",
      "12/12 - 0s - loss: 0.0888 - mae: 0.2328 - val_loss: 0.0498 - val_mae: 0.1771\n",
      "Epoch 8/100\n",
      "12/12 - 0s - loss: 0.0829 - mae: 0.2243 - val_loss: 0.0470 - val_mae: 0.1606\n",
      "Epoch 9/100\n",
      "12/12 - 0s - loss: 0.0824 - mae: 0.2278 - val_loss: 0.0463 - val_mae: 0.1565\n",
      "Epoch 10/100\n",
      "12/12 - 0s - loss: 0.0712 - mae: 0.2085 - val_loss: 0.0458 - val_mae: 0.1543\n",
      "Epoch 11/100\n",
      "12/12 - 0s - loss: 0.0611 - mae: 0.1938 - val_loss: 0.0454 - val_mae: 0.1532\n",
      "Epoch 12/100\n",
      "12/12 - 0s - loss: 0.0847 - mae: 0.2221 - val_loss: 0.0452 - val_mae: 0.1554\n",
      "Epoch 13/100\n",
      "12/12 - 0s - loss: 0.0788 - mae: 0.2220 - val_loss: 0.0448 - val_mae: 0.1555\n",
      "Epoch 14/100\n",
      "12/12 - 0s - loss: 0.0750 - mae: 0.2095 - val_loss: 0.0444 - val_mae: 0.1555\n",
      "Epoch 15/100\n",
      "12/12 - 0s - loss: 0.0747 - mae: 0.2129 - val_loss: 0.0438 - val_mae: 0.1515\n",
      "Epoch 16/100\n",
      "12/12 - 0s - loss: 0.0820 - mae: 0.2239 - val_loss: 0.0434 - val_mae: 0.1520\n",
      "Epoch 17/100\n",
      "12/12 - 0s - loss: 0.0706 - mae: 0.2061 - val_loss: 0.0433 - val_mae: 0.1554\n",
      "Epoch 18/100\n",
      "12/12 - 0s - loss: 0.0811 - mae: 0.2175 - val_loss: 0.0431 - val_mae: 0.1576\n",
      "Epoch 19/100\n",
      "12/12 - 0s - loss: 0.0690 - mae: 0.2068 - val_loss: 0.0427 - val_mae: 0.1569\n",
      "Epoch 20/100\n",
      "12/12 - 0s - loss: 0.0768 - mae: 0.2147 - val_loss: 0.0423 - val_mae: 0.1554\n",
      "Epoch 21/100\n",
      "12/12 - 0s - loss: 0.0796 - mae: 0.2155 - val_loss: 0.0416 - val_mae: 0.1507\n",
      "Epoch 22/100\n",
      "12/12 - 0s - loss: 0.0810 - mae: 0.2220 - val_loss: 0.0412 - val_mae: 0.1499\n",
      "Epoch 23/100\n",
      "12/12 - 0s - loss: 0.0748 - mae: 0.2063 - val_loss: 0.0407 - val_mae: 0.1475\n",
      "Epoch 24/100\n",
      "12/12 - 0s - loss: 0.0735 - mae: 0.2141 - val_loss: 0.0402 - val_mae: 0.1463\n",
      "Epoch 25/100\n",
      "12/12 - 0s - loss: 0.0696 - mae: 0.2027 - val_loss: 0.0400 - val_mae: 0.1502\n",
      "Epoch 26/100\n",
      "12/12 - 0s - loss: 0.0662 - mae: 0.2040 - val_loss: 0.0395 - val_mae: 0.1491\n",
      "Epoch 27/100\n",
      "12/12 - 0s - loss: 0.0706 - mae: 0.2120 - val_loss: 0.0391 - val_mae: 0.1476\n",
      "Epoch 28/100\n",
      "12/12 - 0s - loss: 0.0628 - mae: 0.1938 - val_loss: 0.0387 - val_mae: 0.1474\n",
      "Epoch 29/100\n",
      "12/12 - 0s - loss: 0.0644 - mae: 0.1915 - val_loss: 0.0383 - val_mae: 0.1448\n",
      "Epoch 30/100\n",
      "12/12 - 0s - loss: 0.0656 - mae: 0.1970 - val_loss: 0.0381 - val_mae: 0.1463\n",
      "Epoch 31/100\n",
      "12/12 - 0s - loss: 0.0738 - mae: 0.2095 - val_loss: 0.0381 - val_mae: 0.1502\n",
      "Epoch 32/100\n",
      "12/12 - 0s - loss: 0.0670 - mae: 0.2038 - val_loss: 0.0379 - val_mae: 0.1510\n",
      "Epoch 33/100\n",
      "12/12 - 0s - loss: 0.0643 - mae: 0.1923 - val_loss: 0.0376 - val_mae: 0.1510\n",
      "Epoch 34/100\n",
      "12/12 - 0s - loss: 0.0576 - mae: 0.1866 - val_loss: 0.0371 - val_mae: 0.1490\n",
      "Epoch 35/100\n",
      "12/12 - 0s - loss: 0.0682 - mae: 0.2026 - val_loss: 0.0365 - val_mae: 0.1457\n",
      "Epoch 36/100\n",
      "12/12 - 0s - loss: 0.0662 - mae: 0.2009 - val_loss: 0.0367 - val_mae: 0.1504\n",
      "Epoch 37/100\n",
      "12/12 - 0s - loss: 0.0607 - mae: 0.1904 - val_loss: 0.0365 - val_mae: 0.1513\n",
      "Epoch 38/100\n",
      "12/12 - 0s - loss: 0.0734 - mae: 0.2049 - val_loss: 0.0358 - val_mae: 0.1474\n",
      "Epoch 39/100\n",
      "12/12 - 0s - loss: 0.0661 - mae: 0.1925 - val_loss: 0.0354 - val_mae: 0.1461\n",
      "Epoch 40/100\n",
      "12/12 - 0s - loss: 0.0596 - mae: 0.1908 - val_loss: 0.0349 - val_mae: 0.1429\n",
      "Epoch 41/100\n",
      "12/12 - 0s - loss: 0.0627 - mae: 0.1885 - val_loss: 0.0347 - val_mae: 0.1424\n",
      "Epoch 42/100\n",
      "12/12 - 0s - loss: 0.0633 - mae: 0.1986 - val_loss: 0.0345 - val_mae: 0.1421\n",
      "Epoch 43/100\n",
      "12/12 - 0s - loss: 0.0568 - mae: 0.1812 - val_loss: 0.0345 - val_mae: 0.1450\n",
      "Epoch 44/100\n",
      "12/12 - 0s - loss: 0.0657 - mae: 0.1991 - val_loss: 0.0343 - val_mae: 0.1450\n",
      "Epoch 45/100\n",
      "12/12 - 0s - loss: 0.0627 - mae: 0.1934 - val_loss: 0.0338 - val_mae: 0.1398\n",
      "Epoch 46/100\n",
      "12/12 - 0s - loss: 0.0629 - mae: 0.1918 - val_loss: 0.0336 - val_mae: 0.1386\n",
      "Epoch 47/100\n",
      "12/12 - 0s - loss: 0.0635 - mae: 0.1988 - val_loss: 0.0334 - val_mae: 0.1397\n",
      "Epoch 48/100\n",
      "12/12 - 0s - loss: 0.0694 - mae: 0.2131 - val_loss: 0.0332 - val_mae: 0.1401\n",
      "Epoch 49/100\n",
      "12/12 - 0s - loss: 0.0579 - mae: 0.1837 - val_loss: 0.0331 - val_mae: 0.1405\n",
      "Epoch 50/100\n",
      "12/12 - 0s - loss: 0.0602 - mae: 0.1884 - val_loss: 0.0329 - val_mae: 0.1398\n",
      "Epoch 51/100\n",
      "12/12 - 0s - loss: 0.0630 - mae: 0.1970 - val_loss: 0.0331 - val_mae: 0.1440\n",
      "Epoch 52/100\n",
      "12/12 - 0s - loss: 0.0576 - mae: 0.1842 - val_loss: 0.0327 - val_mae: 0.1407\n",
      "Epoch 53/100\n",
      "12/12 - 0s - loss: 0.0576 - mae: 0.1848 - val_loss: 0.0324 - val_mae: 0.1372\n",
      "Epoch 54/100\n",
      "12/12 - 0s - loss: 0.0569 - mae: 0.1841 - val_loss: 0.0324 - val_mae: 0.1389\n",
      "Epoch 55/100\n",
      "12/12 - 0s - loss: 0.0585 - mae: 0.1877 - val_loss: 0.0325 - val_mae: 0.1425\n",
      "Epoch 56/100\n",
      "12/12 - 0s - loss: 0.0618 - mae: 0.1892 - val_loss: 0.0328 - val_mae: 0.1469\n",
      "Epoch 57/100\n",
      "12/12 - 0s - loss: 0.0626 - mae: 0.1949 - val_loss: 0.0326 - val_mae: 0.1459\n",
      "Epoch 58/100\n",
      "12/12 - 0s - loss: 0.0561 - mae: 0.1898 - val_loss: 0.0319 - val_mae: 0.1387\n",
      "Epoch 59/100\n",
      "12/12 - 0s - loss: 0.0666 - mae: 0.2046 - val_loss: 0.0317 - val_mae: 0.1387\n",
      "Epoch 60/100\n",
      "12/12 - 0s - loss: 0.0607 - mae: 0.1911 - val_loss: 0.0317 - val_mae: 0.1408\n",
      "Epoch 61/100\n",
      "12/12 - 0s - loss: 0.0665 - mae: 0.1954 - val_loss: 0.0313 - val_mae: 0.1374\n",
      "Epoch 62/100\n",
      "12/12 - 0s - loss: 0.0563 - mae: 0.1768 - val_loss: 0.0314 - val_mae: 0.1399\n",
      "Epoch 63/100\n",
      "12/12 - 0s - loss: 0.0590 - mae: 0.1867 - val_loss: 0.0312 - val_mae: 0.1395\n",
      "Epoch 64/100\n",
      "12/12 - 0s - loss: 0.0575 - mae: 0.1827 - val_loss: 0.0309 - val_mae: 0.1354\n",
      "Epoch 65/100\n",
      "12/12 - 0s - loss: 0.0623 - mae: 0.1930 - val_loss: 0.0308 - val_mae: 0.1335\n",
      "Epoch 66/100\n",
      "12/12 - 0s - loss: 0.0489 - mae: 0.1708 - val_loss: 0.0309 - val_mae: 0.1390\n",
      "Epoch 67/100\n",
      "12/12 - 0s - loss: 0.0551 - mae: 0.1782 - val_loss: 0.0307 - val_mae: 0.1367\n",
      "Epoch 68/100\n",
      "12/12 - 0s - loss: 0.0512 - mae: 0.1732 - val_loss: 0.0308 - val_mae: 0.1389\n",
      "Epoch 69/100\n",
      "12/12 - 0s - loss: 0.0535 - mae: 0.1773 - val_loss: 0.0306 - val_mae: 0.1375\n",
      "Epoch 70/100\n",
      "12/12 - 0s - loss: 0.0513 - mae: 0.1746 - val_loss: 0.0306 - val_mae: 0.1389\n",
      "Epoch 71/100\n",
      "12/12 - 0s - loss: 0.0516 - mae: 0.1741 - val_loss: 0.0307 - val_mae: 0.1402\n",
      "Epoch 72/100\n",
      "12/12 - 0s - loss: 0.0549 - mae: 0.1837 - val_loss: 0.0304 - val_mae: 0.1384\n",
      "Epoch 73/100\n",
      "12/12 - 0s - loss: 0.0571 - mae: 0.1812 - val_loss: 0.0302 - val_mae: 0.1347\n",
      "Epoch 74/100\n",
      "12/12 - 0s - loss: 0.0558 - mae: 0.1763 - val_loss: 0.0301 - val_mae: 0.1346\n",
      "Epoch 75/100\n",
      "12/12 - 0s - loss: 0.0607 - mae: 0.1933 - val_loss: 0.0302 - val_mae: 0.1360\n",
      "Epoch 76/100\n",
      "12/12 - 0s - loss: 0.0537 - mae: 0.1763 - val_loss: 0.0302 - val_mae: 0.1381\n",
      "Epoch 77/100\n",
      "12/12 - 0s - loss: 0.0609 - mae: 0.1919 - val_loss: 0.0301 - val_mae: 0.1381\n",
      "Epoch 78/100\n",
      "12/12 - 0s - loss: 0.0559 - mae: 0.1816 - val_loss: 0.0301 - val_mae: 0.1390\n",
      "Epoch 79/100\n",
      "12/12 - 0s - loss: 0.0559 - mae: 0.1790 - val_loss: 0.0299 - val_mae: 0.1376\n",
      "Epoch 80/100\n",
      "12/12 - 0s - loss: 0.0476 - mae: 0.1645 - val_loss: 0.0296 - val_mae: 0.1338\n",
      "Epoch 81/100\n",
      "12/12 - 0s - loss: 0.0525 - mae: 0.1785 - val_loss: 0.0295 - val_mae: 0.1316\n",
      "Epoch 82/100\n",
      "12/12 - 0s - loss: 0.0528 - mae: 0.1732 - val_loss: 0.0295 - val_mae: 0.1348\n",
      "Epoch 83/100\n",
      "12/12 - 0s - loss: 0.0571 - mae: 0.1778 - val_loss: 0.0295 - val_mae: 0.1348\n",
      "Epoch 84/100\n",
      "12/12 - 0s - loss: 0.0495 - mae: 0.1691 - val_loss: 0.0294 - val_mae: 0.1352\n",
      "Epoch 85/100\n",
      "12/12 - 0s - loss: 0.0445 - mae: 0.1647 - val_loss: 0.0293 - val_mae: 0.1323\n",
      "Epoch 86/100\n",
      "12/12 - 0s - loss: 0.0498 - mae: 0.1715 - val_loss: 0.0293 - val_mae: 0.1260\n",
      "Epoch 87/100\n",
      "12/12 - 0s - loss: 0.0491 - mae: 0.1684 - val_loss: 0.0291 - val_mae: 0.1282\n",
      "Epoch 88/100\n",
      "12/12 - 0s - loss: 0.0459 - mae: 0.1654 - val_loss: 0.0290 - val_mae: 0.1318\n",
      "Epoch 89/100\n",
      "12/12 - 0s - loss: 0.0460 - mae: 0.1659 - val_loss: 0.0291 - val_mae: 0.1347\n",
      "Epoch 90/100\n",
      "12/12 - 0s - loss: 0.0522 - mae: 0.1755 - val_loss: 0.0293 - val_mae: 0.1368\n",
      "Epoch 91/100\n",
      "12/12 - 0s - loss: 0.0468 - mae: 0.1687 - val_loss: 0.0289 - val_mae: 0.1321\n",
      "Epoch 92/100\n",
      "12/12 - 0s - loss: 0.0494 - mae: 0.1696 - val_loss: 0.0289 - val_mae: 0.1324\n"
     ]
    },
    {
     "name": "stdout",
     "output_type": "stream",
     "text": [
      "Epoch 93/100\n",
      "12/12 - 0s - loss: 0.0404 - mae: 0.1554 - val_loss: 0.0291 - val_mae: 0.1361\n",
      "Epoch 94/100\n",
      "12/12 - 0s - loss: 0.0448 - mae: 0.1592 - val_loss: 0.0290 - val_mae: 0.1354\n",
      "Epoch 95/100\n",
      "12/12 - 0s - loss: 0.0473 - mae: 0.1685 - val_loss: 0.0288 - val_mae: 0.1291\n",
      "Epoch 96/100\n",
      "12/12 - 0s - loss: 0.0423 - mae: 0.1573 - val_loss: 0.0288 - val_mae: 0.1324\n",
      "Epoch 97/100\n",
      "12/12 - 0s - loss: 0.0488 - mae: 0.1710 - val_loss: 0.0289 - val_mae: 0.1342\n",
      "Epoch 98/100\n",
      "12/12 - 0s - loss: 0.0418 - mae: 0.1555 - val_loss: 0.0287 - val_mae: 0.1305\n",
      "Epoch 99/100\n",
      "12/12 - 0s - loss: 0.0381 - mae: 0.1503 - val_loss: 0.0289 - val_mae: 0.1355\n",
      "Epoch 100/100\n",
      "12/12 - 0s - loss: 0.0479 - mae: 0.1623 - val_loss: 0.0286 - val_mae: 0.1282\n"
     ]
    }
   ],
   "source": [
    "# fit model\n",
    "\n",
    "history = model.fit(X_train_scaled,y_train_scaled, epochs=100, batch_size=32, validation_split=0.1, verbose=2)"
   ]
  },
  {
   "cell_type": "markdown",
   "metadata": {},
   "source": [
    "Kita dapat melihat grafik loss function MSE dan metric MAE terhadap epoch untuk melihat performa model kita dengan cara sebagai berikut"
   ]
  },
  {
   "cell_type": "code",
   "execution_count": 12,
   "metadata": {},
   "outputs": [
    {
     "data": {
      "text/plain": [
       "<matplotlib.legend.Legend at 0x254dac30c40>"
      ]
     },
     "execution_count": 12,
     "metadata": {},
     "output_type": "execute_result"
    },
    {
     "data": {
      "image/png": "[encoded data removed]",
      "text/plain": [
       "<Figure size 432x288 with 1 Axes>"
      ]
     },
     "metadata": {},
     "output_type": "display_data"
    }
   ],
   "source": [
    "# grafik loss function MSE\n",
    "\n",
    "plt.plot(history.history['loss'], label='Training loss')\n",
    "plt.plot(history.history['val_loss'], label='Validation loss')\n",
    "plt.title('loss function MSE')\n",
    "plt.ylabel('MSE')\n",
    "plt.xlabel('Epoch')\n",
    "plt.legend()"
   ]
  },
  {
   "cell_type": "code",
   "execution_count": 13,
   "metadata": {},
   "outputs": [
    {
     "data": {
      "text/plain": [
       "<matplotlib.legend.Legend at 0x254dac9bc40>"
      ]
     },
     "execution_count": 13,
     "metadata": {},
     "output_type": "execute_result"
    },
    {
     "data": {
      "image/png": "[encoded data removed]",
      "text/plain": [
       "<Figure size 432x288 with 1 Axes>"
      ]
     },
     "metadata": {},
     "output_type": "display_data"
    }
   ],
   "source": [
    "# grafik metric MAE\n",
    "\n",
    "plt.plot(history.history['mae'], label='Training MAE')\n",
    "plt.plot(history.history['val_mae'], label='Validation MAE')\n",
    "plt.title('metric MAE')\n",
    "plt.ylabel('MAE')\n",
    "plt.xlabel('Epoch')\n",
    "plt.legend()"
   ]
  },
  {
   "cell_type": "markdown",
   "metadata": {},
   "source": [
    "**Perhatikan kedua grafik di atas**. Kita dapat lihat kurang lebih pada epoch ke 40 nilai loss function dan metric sudah cukup stabil. sehingga sebenarnya kita cukup menentukan **epochs = 40**"
   ]
  },
  {
   "cell_type": "markdown",
   "metadata": {},
   "source": [
    "## Early Stopping\n",
    "\n",
    "**Bagaimana menentukan nilai epochs?**\n",
    "\n",
    "### Perhatikan gambar berikut!\n",
    "\n",
    "<img src=\"images/Early-stopping-method.png\" width=\"600\"/>\n",
    "\n",
    "- Training seharusnya dihentikan saat epoch berada pada garis optimal seperti gambar di atas. Yaitu ketika nilai loss function pada data validasi mulai naik (sebelum terjadi overfitting) ataupun bisa juga ketika nilainya cukup stabil seperti pada kasus model kita.\n",
    "- Hal tersebut dapat dilakukan dengan menambahkan Early Stopping yang memiliki parameter sebagai berikut:\n",
    "1. monitor: nilai yang diamati, biasanya adalah nilai loss function pada data validasi (bisa juga metric validasi)\n",
    "2. mode: terdapat 3 mode yaitu \"min\" (training berhenti ketika nilai yang diamati berhenti turun), \"max\" (training berhenti ketika nilai yang diamati berhenti naik), dan \"auto\"\n",
    "3. min_delta: besarnya selisih mutlak yang tidak dianggap mengalami perbaikan (naik/turun)\n",
    "4. patience: banyaknya epoch setelah nilai yang diamati tidak mengalami perbaikan\n",
    "5. verbose: adalah opsi untuk menampilkan epoch ke berapa saat proses training berhenti (0 = silent, 1 = display)\n",
    "\n",
    "**Mari kita coba membuat model menggunakan Early Stopping dengan parameter-parameter berikut**\n",
    "- monitor = 'val_loss' (nilai yang diamati adalah loss function pada data validasi)\n",
    "- mode = \"min\" (mode \"min\" karena kita mengharapkan val_loss selalu turun)\n",
    "- min_delta = 0.01 (ketika val_loss turun kurang dari 0.01 dianggap tidak terjadi penurunan, maka training berhenti)\n",
    "- patience = 10 (ketika tidak terjadi penurunan, maka training berhenti setelah 10 epoch lagi dilakukan)\n",
    "- verbose = 1 (menampilkan epoch ke berapa saat proses training berhenti)"
   ]
  },
  {
   "cell_type": "code",
   "execution_count": 14,
   "metadata": {
    "scrolled": true
   },
   "outputs": [
    {
     "name": "stdout",
     "output_type": "stream",
     "text": [
      "Epoch 1/100\n",
      "12/12 - 1s - loss: 0.1285 - mae: 0.2751 - val_loss: 0.0605 - val_mae: 0.1765\n",
      "Epoch 2/100\n",
      "12/12 - 0s - loss: 0.1213 - mae: 0.2727 - val_loss: 0.0569 - val_mae: 0.1711\n",
      "Epoch 3/100\n",
      "12/12 - 0s - loss: 0.1140 - mae: 0.2658 - val_loss: 0.0561 - val_mae: 0.1800\n",
      "Epoch 4/100\n",
      "12/12 - 0s - loss: 0.1284 - mae: 0.2905 - val_loss: 0.0520 - val_mae: 0.1696\n",
      "Epoch 5/100\n",
      "12/12 - 0s - loss: 0.1073 - mae: 0.2558 - val_loss: 0.0481 - val_mae: 0.1568\n",
      "Epoch 6/100\n",
      "12/12 - 0s - loss: 0.0972 - mae: 0.2442 - val_loss: 0.0474 - val_mae: 0.1708\n",
      "Epoch 7/100\n",
      "12/12 - 0s - loss: 0.1103 - mae: 0.2659 - val_loss: 0.0428 - val_mae: 0.1460\n",
      "Epoch 8/100\n",
      "12/12 - 0s - loss: 0.0997 - mae: 0.2428 - val_loss: 0.0414 - val_mae: 0.1552\n",
      "Epoch 9/100\n",
      "12/12 - 0s - loss: 0.1079 - mae: 0.2553 - val_loss: 0.0405 - val_mae: 0.1587\n",
      "Epoch 10/100\n",
      "12/12 - 0s - loss: 0.0785 - mae: 0.2191 - val_loss: 0.0383 - val_mae: 0.1410\n",
      "Epoch 11/100\n",
      "12/12 - 0s - loss: 0.0828 - mae: 0.2229 - val_loss: 0.0373 - val_mae: 0.1443\n",
      "Epoch 12/100\n",
      "12/12 - 0s - loss: 0.0902 - mae: 0.2304 - val_loss: 0.0372 - val_mae: 0.1527\n",
      "Epoch 13/100\n",
      "12/12 - 0s - loss: 0.0760 - mae: 0.2181 - val_loss: 0.0357 - val_mae: 0.1461\n",
      "Epoch 14/100\n",
      "12/12 - 0s - loss: 0.0869 - mae: 0.2298 - val_loss: 0.0353 - val_mae: 0.1488\n",
      "Epoch 15/100\n",
      "12/12 - 0s - loss: 0.0895 - mae: 0.2370 - val_loss: 0.0352 - val_mae: 0.1519\n",
      "Epoch 16/100\n",
      "12/12 - 0s - loss: 0.0885 - mae: 0.2375 - val_loss: 0.0340 - val_mae: 0.1449\n",
      "Epoch 17/100\n",
      "12/12 - 0s - loss: 0.0863 - mae: 0.2284 - val_loss: 0.0335 - val_mae: 0.1447\n",
      "Epoch 18/100\n",
      "12/12 - 0s - loss: 0.0770 - mae: 0.2183 - val_loss: 0.0333 - val_mae: 0.1460\n",
      "Epoch 19/100\n",
      "12/12 - 0s - loss: 0.0766 - mae: 0.2195 - val_loss: 0.0323 - val_mae: 0.1386\n",
      "Epoch 20/100\n",
      "12/12 - 0s - loss: 0.0864 - mae: 0.2297 - val_loss: 0.0321 - val_mae: 0.1388\n",
      "Epoch 21/100\n",
      "12/12 - 0s - loss: 0.0771 - mae: 0.2199 - val_loss: 0.0318 - val_mae: 0.1391\n",
      "Epoch 00021: early stopping\n"
     ]
    }
   ],
   "source": [
    "# Create model\n",
    "model = create_model(32,'sigmoid',0.1)\n",
    "\n",
    "# Early Stopping\n",
    "from keras.callbacks import EarlyStopping\n",
    "es = EarlyStopping(monitor = 'val_loss', mode = \"min\", min_delta = 0.01, patience = 10, verbose = 1)\n",
    "\n",
    "# fit model\n",
    "history = model.fit(X_train_scaled,y_train_scaled,\n",
    "                    epochs=100, batch_size=32,\n",
    "                    validation_split=0.1, callbacks = [es],\n",
    "                    verbose=2)"
   ]
  },
  {
   "cell_type": "code",
   "execution_count": 15,
   "metadata": {},
   "outputs": [
    {
     "data": {
      "text/plain": [
       "<matplotlib.legend.Legend at 0x254dacaa9a0>"
      ]
     },
     "execution_count": 15,
     "metadata": {},
     "output_type": "execute_result"
    },
    {
     "data": {
      "image/png": "[encoded data removed]",
      "text/plain": [
       "<Figure size 432x288 with 1 Axes>"
      ]
     },
     "metadata": {},
     "output_type": "display_data"
    }
   ],
   "source": [
    "# grafik loss function MSE\n",
    "\n",
    "plt.plot(history.history['loss'], label='Training loss')\n",
    "plt.plot(history.history['val_loss'], label='Validation loss')\n",
    "plt.title('loss function MSE')\n",
    "plt.ylabel('MSE')\n",
    "plt.xlabel('Epoch')\n",
    "plt.legend()"
   ]
  },
  {
   "cell_type": "markdown",
   "metadata": {},
   "source": [
    "## Perhatikan Grafik di Atas!!!\n",
    "Walaupun kita menetapkan epoch = 100, proses training terhenti pada epoch ke 15 karena kita menggunakan **Early Stopping**"
   ]
  },
  {
   "cell_type": "markdown",
   "metadata": {},
   "source": [
    "### 5. Evaluasi Model dengan Data Test\n",
    "\n",
    "- Sebelum melakukan evaluasi model dengan data test, kita akan melakukan prediksi pada data test dengan cara berikut:\n",
    "\n",
    "`y_pred = model.predict(X_test_scaled)`\n",
    "\n",
    "- Karena nilai prediksi di atas masih dalam scala MinMaxScaler (scaler2), maka kita perlu membalikkannya menggunakan fungsi inverse_transform() sebagai berikut:\n",
    "\n",
    "`y_pred = scaler2.inverse_transform(y_pred)`"
   ]
  },
  {
   "cell_type": "code",
   "execution_count": 16,
   "metadata": {},
   "outputs": [],
   "source": [
    "y_pred = model.predict(X_test_scaled)\n",
    "y_pred = scaler2.inverse_transform(y_pred)"
   ]
  },
  {
   "cell_type": "markdown",
   "metadata": {},
   "source": [
    "- Setelah melakukan prediksi barulah kita melakukan evaluasi terhadap nilai prediksi tersebut menggunakan metric yang digunakan yaitu MAE"
   ]
  },
  {
   "cell_type": "code",
   "execution_count": 17,
   "metadata": {},
   "outputs": [
    {
     "name": "stdout",
     "output_type": "stream",
     "text": [
      "MAE data test sebesar: 4.962263679504395\n"
     ]
    }
   ],
   "source": [
    "# Mean Absolute Error (MAE) test data\n",
    "mae = np.mean(np.abs(y_test-y_pred))\n",
    "print('MAE data test sebesar:', mae)"
   ]
  },
  {
   "cell_type": "markdown",
   "metadata": {},
   "source": [
    "## Apakah Nilai MAE Tersebut Bagus???"
   ]
  },
  {
   "cell_type": "markdown",
   "metadata": {},
   "source": [
    "**Melihat boxplot dari nilai error mutlak**"
   ]
  },
  {
   "cell_type": "code",
   "execution_count": 18,
   "metadata": {},
   "outputs": [
    {
     "data": {
      "text/plain": [
       "<AxesSubplot:>"
      ]
     },
     "execution_count": 18,
     "metadata": {},
     "output_type": "execute_result"
    },
    {
     "data": {
      "image/png": "[encoded data removed]",
      "text/plain": [
       "<Figure size 432x288 with 1 Axes>"
      ]
     },
     "metadata": {},
     "output_type": "display_data"
    }
   ],
   "source": [
    "abs_error = np.abs(y_test-y_pred)\n",
    "\n",
    "sns.boxplot(y = abs_error)"
   ]
  },
  {
   "cell_type": "markdown",
   "metadata": {},
   "source": [
    "**Melihat range data test**"
   ]
  },
  {
   "cell_type": "code",
   "execution_count": 19,
   "metadata": {},
   "outputs": [
    {
     "name": "stdout",
     "output_type": "stream",
     "text": [
      "minimum y_test 8.3\n",
      "maksimum y_test 50.0\n"
     ]
    }
   ],
   "source": [
    "print('minimum y_test', y_test.min())\n",
    "print('maksimum y_test', y_test.max())"
   ]
  },
  {
   "cell_type": "markdown",
   "metadata": {},
   "source": [
    "# <center><font color=\"blue\">TensorBoard</font></center> \n",
    "\n",
    "- Dalam machine learning, untuk meningkatkan suatu model kita sering kali harus bisa mengukurnya. \n",
    "- TensorBoard adalah alat yang menyediakan pengukuran dan visualisasi yang diperlukan dalam proses kerja machine learning.\n",
    "- Hal ini memungkinkan untuk mengamati eksperimen yang dilakukan seperti loss function dan metric evaluation, memvisualisasikan graf model, memproyeksikan embeddings ke ruang dimensi yang lebih rendah, dan banyak lagi.\n",
    "- link :https://www.tensorflow.org/tensorboard/get_started\n",
    "\n",
    "Untuk menggunakan TensorBoard pada model neural network, dapat dilakukan dengan cara berikut"
   ]
  },
  {
   "cell_type": "code",
   "execution_count": 20,
   "metadata": {},
   "outputs": [],
   "source": [
    "# Load the TensorBoard notebook extension\n",
    "%load_ext tensorboard\n",
    "\n",
    "from tensorflow.keras.callbacks import TensorBoard\n",
    "import datetime, os"
   ]
  },
  {
   "cell_type": "code",
   "execution_count": 21,
   "metadata": {},
   "outputs": [
    {
     "name": "stdout",
     "output_type": "stream",
     "text": [
      "Epoch 1/100\n",
      "12/12 - 2s - loss: 1.0041 - mae: 0.9393 - val_loss: 0.6682 - val_mae: 0.7703\n",
      "Epoch 2/100\n",
      "12/12 - 0s - loss: 0.5945 - mae: 0.6951 - val_loss: 0.3758 - val_mae: 0.5429\n",
      "Epoch 3/100\n",
      "12/12 - 0s - loss: 0.3370 - mae: 0.4882 - val_loss: 0.2104 - val_mae: 0.3779\n",
      "Epoch 4/100\n",
      "12/12 - 0s - loss: 0.2141 - mae: 0.3721 - val_loss: 0.1306 - val_mae: 0.2872\n",
      "Epoch 5/100\n",
      "12/12 - 0s - loss: 0.1337 - mae: 0.2946 - val_loss: 0.1013 - val_mae: 0.2496\n",
      "Epoch 6/100\n",
      "12/12 - 0s - loss: 0.1263 - mae: 0.2873 - val_loss: 0.0930 - val_mae: 0.2367\n",
      "Epoch 7/100\n",
      "12/12 - 0s - loss: 0.1450 - mae: 0.3031 - val_loss: 0.0910 - val_mae: 0.2284\n",
      "Epoch 8/100\n",
      "12/12 - 0s - loss: 0.1336 - mae: 0.2857 - val_loss: 0.0898 - val_mae: 0.2230\n",
      "Epoch 9/100\n",
      "12/12 - 0s - loss: 0.1137 - mae: 0.2674 - val_loss: 0.0873 - val_mae: 0.2195\n",
      "Epoch 10/100\n",
      "12/12 - 0s - loss: 0.1201 - mae: 0.2702 - val_loss: 0.0841 - val_mae: 0.2153\n",
      "Epoch 11/100\n",
      "12/12 - 0s - loss: 0.1039 - mae: 0.2540 - val_loss: 0.0804 - val_mae: 0.2109\n",
      "Epoch 12/100\n",
      "12/12 - 0s - loss: 0.1092 - mae: 0.2656 - val_loss: 0.0777 - val_mae: 0.2069\n",
      "Epoch 13/100\n",
      "12/12 - 0s - loss: 0.1065 - mae: 0.2609 - val_loss: 0.0749 - val_mae: 0.2031\n",
      "Epoch 14/100\n",
      "12/12 - 0s - loss: 0.1149 - mae: 0.2708 - val_loss: 0.0722 - val_mae: 0.1989\n",
      "Epoch 15/100\n",
      "12/12 - 0s - loss: 0.1072 - mae: 0.2599 - val_loss: 0.0697 - val_mae: 0.1942\n",
      "Epoch 16/100\n",
      "12/12 - 0s - loss: 0.1155 - mae: 0.2602 - val_loss: 0.0674 - val_mae: 0.1901\n",
      "Epoch 17/100\n",
      "12/12 - 0s - loss: 0.1089 - mae: 0.2531 - val_loss: 0.0649 - val_mae: 0.1859\n",
      "Epoch 18/100\n",
      "12/12 - 0s - loss: 0.1023 - mae: 0.2534 - val_loss: 0.0628 - val_mae: 0.1821\n",
      "Epoch 19/100\n",
      "12/12 - 0s - loss: 0.0930 - mae: 0.2381 - val_loss: 0.0608 - val_mae: 0.1782\n",
      "Epoch 20/100\n",
      "12/12 - 0s - loss: 0.0887 - mae: 0.2290 - val_loss: 0.0587 - val_mae: 0.1741\n",
      "Epoch 21/100\n",
      "12/12 - 0s - loss: 0.0892 - mae: 0.2327 - val_loss: 0.0570 - val_mae: 0.1719\n",
      "Epoch 22/100\n",
      "12/12 - 0s - loss: 0.0971 - mae: 0.2533 - val_loss: 0.0554 - val_mae: 0.1689\n",
      "Epoch 23/100\n",
      "12/12 - 0s - loss: 0.0891 - mae: 0.2334 - val_loss: 0.0537 - val_mae: 0.1653\n",
      "Epoch 24/100\n",
      "12/12 - 0s - loss: 0.0813 - mae: 0.2137 - val_loss: 0.0520 - val_mae: 0.1618\n",
      "Epoch 25/100\n",
      "12/12 - 0s - loss: 0.0851 - mae: 0.2305 - val_loss: 0.0507 - val_mae: 0.1598\n",
      "Epoch 26/100\n",
      "12/12 - 0s - loss: 0.0892 - mae: 0.2377 - val_loss: 0.0492 - val_mae: 0.1574\n",
      "Epoch 27/100\n",
      "12/12 - 0s - loss: 0.0793 - mae: 0.2208 - val_loss: 0.0481 - val_mae: 0.1581\n",
      "Epoch 28/100\n",
      "12/12 - 0s - loss: 0.0770 - mae: 0.2194 - val_loss: 0.0467 - val_mae: 0.1546\n",
      "Epoch 29/100\n",
      "12/12 - 0s - loss: 0.0908 - mae: 0.2357 - val_loss: 0.0454 - val_mae: 0.1506\n",
      "Epoch 30/100\n",
      "12/12 - 0s - loss: 0.0809 - mae: 0.2174 - val_loss: 0.0445 - val_mae: 0.1526\n",
      "Epoch 31/100\n",
      "12/12 - 0s - loss: 0.0748 - mae: 0.2112 - val_loss: 0.0434 - val_mae: 0.1505\n",
      "Epoch 32/100\n",
      "12/12 - 0s - loss: 0.0799 - mae: 0.2258 - val_loss: 0.0422 - val_mae: 0.1485\n",
      "Epoch 33/100\n",
      "12/12 - 0s - loss: 0.0780 - mae: 0.2198 - val_loss: 0.0411 - val_mae: 0.1453\n",
      "Epoch 34/100\n",
      "12/12 - 0s - loss: 0.0792 - mae: 0.2198 - val_loss: 0.0401 - val_mae: 0.1462\n",
      "Epoch 35/100\n",
      "12/12 - 0s - loss: 0.0807 - mae: 0.2212 - val_loss: 0.0393 - val_mae: 0.1483\n",
      "Epoch 36/100\n",
      "12/12 - 0s - loss: 0.0791 - mae: 0.2172 - val_loss: 0.0384 - val_mae: 0.1444\n",
      "Epoch 37/100\n",
      "12/12 - 0s - loss: 0.0801 - mae: 0.2228 - val_loss: 0.0378 - val_mae: 0.1460\n",
      "Epoch 38/100\n",
      "12/12 - 0s - loss: 0.0754 - mae: 0.2176 - val_loss: 0.0370 - val_mae: 0.1408\n",
      "Epoch 39/100\n",
      "12/12 - 0s - loss: 0.0739 - mae: 0.2156 - val_loss: 0.0362 - val_mae: 0.1385\n",
      "Epoch 40/100\n",
      "12/12 - 0s - loss: 0.0693 - mae: 0.2027 - val_loss: 0.0357 - val_mae: 0.1422\n",
      "Epoch 41/100\n",
      "12/12 - 0s - loss: 0.0747 - mae: 0.2141 - val_loss: 0.0355 - val_mae: 0.1461\n",
      "Epoch 42/100\n",
      "12/12 - 0s - loss: 0.0604 - mae: 0.1894 - val_loss: 0.0350 - val_mae: 0.1463\n",
      "Epoch 43/100\n",
      "12/12 - 0s - loss: 0.0735 - mae: 0.2133 - val_loss: 0.0341 - val_mae: 0.1406\n",
      "Epoch 44/100\n",
      "12/12 - 0s - loss: 0.0665 - mae: 0.1988 - val_loss: 0.0339 - val_mae: 0.1307\n",
      "Epoch 45/100\n",
      "12/12 - 0s - loss: 0.0693 - mae: 0.2044 - val_loss: 0.0332 - val_mae: 0.1364\n",
      "Epoch 46/100\n",
      "12/12 - 0s - loss: 0.0696 - mae: 0.2063 - val_loss: 0.0334 - val_mae: 0.1452\n",
      "Epoch 47/100\n",
      "12/12 - 0s - loss: 0.0620 - mae: 0.1960 - val_loss: 0.0335 - val_mae: 0.1482\n",
      "Epoch 00047: early stopping\n"
     ]
    }
   ],
   "source": [
    "# Create model\n",
    "model = create_model(32,'sigmoid',0.1)\n",
    "\n",
    "logdir = os.path.join(\"logs\", datetime.datetime.now().strftime(\"%Y-%m-%d;%H-%M-%S\"))\n",
    "tensorboard_callback = TensorBoard(logdir, histogram_freq=1)\n",
    "\n",
    "# Early Stopping\n",
    "es = EarlyStopping(monitor = 'val_loss', mode = \"min\", min_delta = 0.01, patience = 10, verbose = 1)\n",
    "\n",
    "# fit model\n",
    "history = model.fit(X_train_scaled,y_train_scaled,\n",
    "                    epochs=100, batch_size=32,\n",
    "                    validation_split=0.1, callbacks = [es, tensorboard_callback],\n",
    "                    verbose=2)"
   ]
  },
  {
   "cell_type": "code",
   "execution_count": 22,
   "metadata": {},
   "outputs": [
    {
     "data": {
      "text/plain": [
       "Reusing TensorBoard on port 6006 (pid 9156), started 1:18:06 ago. (Use '!kill 9156' to kill it.)"
      ]
     },
     "metadata": {},
     "output_type": "display_data"
    },
    {
     "data": {
      "text/html": [
       "\n",
       "      <iframe id=\"tensorboard-frame-f7f6eb345df2f58f\" width=\"100%\" height=\"800\" frameborder=\"0\">\n",
       "      </iframe>\n",
       "      <script>\n",
       "        (function() {\n",
       "          const frame = document.getElementById(\"tensorboard-frame-f7f6eb345df2f58f\");\n",
       "          const url = new URL(\"/\", window.location);\n",
       "          const port = 6006;\n",
       "          if (port) {\n",
       "            url.port = port;\n",
       "          }\n",
       "          frame.src = url;\n",
       "        })();\n",
       "      </script>\n",
       "    "
      ],
      "text/plain": [
       "<IPython.core.display.HTML object>"
      ]
     },
     "metadata": {},
     "output_type": "display_data"
    }
   ],
   "source": [
    "%tensorboard --logdir=logs"
   ]
  },
  {
   "cell_type": "markdown",
   "metadata": {},
   "source": [
    "# <center><font color=\"blue\">Hyper-parameter Tuning</font></center> \n",
    "\n",
    "## Berapa Banyak Neuron yang Diperlukan? Fungsi Aktivasi Apa yang Harus Digunakan? Berapa Persen Dropout yang Ditentukan?\n",
    "\n",
    "- Pertanyaan di atas dapat dijawab dengan melakukan hyper-parameter tuning atau melakukan beberapa percobaan dan memilih hasil yang terbaik\n",
    "- Hyper-parameter tuning dapat lakukan menggunakan fungsi GridSearchCV dari modul sklearn\n",
    "\n",
    "<img src=\"images/grid_search.png\" width=\"500\"/><br>\n",
    "- Namun untuk membuat model neural network menggunakan GridSearchCV, kita harus menggunakan fungsi model neural network dan dimasukan ke dalam KerasRegressor\n",
    "- Selain fungsi model neural network, parameter-parameter yang dimasukan pada model.fit() seperti contoh sebelumnya juga dimasukan ke dalam KerasRegressor"
   ]
  },
  {
   "cell_type": "markdown",
   "metadata": {},
   "source": [
    "## Membuat Model Neural Network dengan Hyper-parameter Tuning\n",
    "### 1. Import Modul"
   ]
  },
  {
   "cell_type": "code",
   "execution_count": 23,
   "metadata": {},
   "outputs": [],
   "source": [
    "from sklearn.model_selection import GridSearchCV\n",
    "from keras.wrappers.scikit_learn import KerasRegressor"
   ]
  },
  {
   "cell_type": "markdown",
   "metadata": {},
   "source": [
    "### 2. Membuat Model dengan KerasRegressor"
   ]
  },
  {
   "cell_type": "code",
   "execution_count": 24,
   "metadata": {},
   "outputs": [],
   "source": [
    "# Early Stopping\n",
    "es = EarlyStopping(monitor = 'val_loss', mode = \"min\", min_delta = 0.005, patience = 5, verbose = 0)\n",
    "\n",
    "# create model\n",
    "model = KerasRegressor(build_fn=create_model, epochs=500, validation_split=0.1, batch_size=32, callbacks=[es], verbose=0)"
   ]
  },
  {
   "cell_type": "markdown",
   "metadata": {},
   "source": [
    "### 3. Menentukan parameter-parameter\n",
    "- Pada contoh ini kita akan melakukan percobaan terhadap jumlah neuron, fungsi aktivasi, dan persentase dropout.\n",
    "- ketiga parameter tersebut beserta nila-nilai yang ingin digunakan kemudian dimasukan pada variabel **param_grid** dengan tipe data dictionary"
   ]
  },
  {
   "cell_type": "code",
   "execution_count": 25,
   "metadata": {},
   "outputs": [],
   "source": [
    "# define the grid search parameters\n",
    "neurons = [32, 64, 128]\n",
    "activation = ['relu','sigmoid','tanh']\n",
    "dropout=[0.1, 0.2, 0.3]\n",
    "param_grid = dict(neurons=neurons, activation=activation, dropout=dropout)"
   ]
  },
  {
   "cell_type": "markdown",
   "metadata": {},
   "source": [
    "### 4. Membuat Model dengan GridSearchCV\n",
    "Model dengan GridSearchCV dibuat dengan memasukan beberapa parameter yaitu:\n",
    "- estimator: model yang ingin dilakukan gridsearch\n",
    "- param_grid: parameter yang ingin diuji\n",
    "- n_jobs: Jumlah pekerjaan untuk dijalankan secara paralel. (-1 artinya menggunakan seluruh core processor)\n",
    "- cv: banyaknya k-fold cross validation"
   ]
  },
  {
   "cell_type": "code",
   "execution_count": 26,
   "metadata": {},
   "outputs": [],
   "source": [
    "grid = GridSearchCV(estimator=model, param_grid=param_grid, n_jobs=-1, cv=3)"
   ]
  },
  {
   "cell_type": "markdown",
   "metadata": {},
   "source": [
    "### 5. Training Model dengan GridSearchCV"
   ]
  },
  {
   "cell_type": "code",
   "execution_count": 27,
   "metadata": {},
   "outputs": [],
   "source": [
    "grid_result = grid.fit(X_train_scaled, y_train_scaled)"
   ]
  },
  {
   "cell_type": "markdown",
   "metadata": {},
   "source": [
    "### 6. Memilih Parameter Terbaik"
   ]
  },
  {
   "cell_type": "code",
   "execution_count": 28,
   "metadata": {},
   "outputs": [
    {
     "name": "stdout",
     "output_type": "stream",
     "text": [
      "Best: -0.018115 using {'activation': 'relu', 'dropout': 0.2, 'neurons': 128}\n",
      "-0.021535 (0.002405) with: {'activation': 'relu', 'dropout': 0.1, 'neurons': 32}\n",
      "-0.019128 (0.003101) with: {'activation': 'relu', 'dropout': 0.1, 'neurons': 64}\n",
      "-0.018880 (0.003355) with: {'activation': 'relu', 'dropout': 0.1, 'neurons': 128}\n",
      "-0.020491 (0.005504) with: {'activation': 'relu', 'dropout': 0.2, 'neurons': 32}\n",
      "-0.018889 (0.002405) with: {'activation': 'relu', 'dropout': 0.2, 'neurons': 64}\n",
      "-0.018115 (0.003351) with: {'activation': 'relu', 'dropout': 0.2, 'neurons': 128}\n",
      "-0.024683 (0.006319) with: {'activation': 'relu', 'dropout': 0.3, 'neurons': 32}\n",
      "-0.020844 (0.004324) with: {'activation': 'relu', 'dropout': 0.3, 'neurons': 64}\n",
      "-0.018619 (0.003776) with: {'activation': 'relu', 'dropout': 0.3, 'neurons': 128}\n",
      "-0.033657 (0.007573) with: {'activation': 'sigmoid', 'dropout': 0.1, 'neurons': 32}\n",
      "-0.029248 (0.002623) with: {'activation': 'sigmoid', 'dropout': 0.1, 'neurons': 64}\n",
      "-0.033515 (0.017585) with: {'activation': 'sigmoid', 'dropout': 0.1, 'neurons': 128}\n",
      "-0.033287 (0.005809) with: {'activation': 'sigmoid', 'dropout': 0.2, 'neurons': 32}\n",
      "-0.032512 (0.004450) with: {'activation': 'sigmoid', 'dropout': 0.2, 'neurons': 64}\n",
      "-0.030396 (0.004697) with: {'activation': 'sigmoid', 'dropout': 0.2, 'neurons': 128}\n",
      "-0.040200 (0.008560) with: {'activation': 'sigmoid', 'dropout': 0.3, 'neurons': 32}\n",
      "-0.035036 (0.010746) with: {'activation': 'sigmoid', 'dropout': 0.3, 'neurons': 64}\n",
      "-0.028749 (0.006059) with: {'activation': 'sigmoid', 'dropout': 0.3, 'neurons': 128}\n",
      "-0.021934 (0.006118) with: {'activation': 'tanh', 'dropout': 0.1, 'neurons': 32}\n",
      "-0.020154 (0.003492) with: {'activation': 'tanh', 'dropout': 0.1, 'neurons': 64}\n",
      "-0.019846 (0.002468) with: {'activation': 'tanh', 'dropout': 0.1, 'neurons': 128}\n",
      "-0.021285 (0.003599) with: {'activation': 'tanh', 'dropout': 0.2, 'neurons': 32}\n",
      "-0.020171 (0.002772) with: {'activation': 'tanh', 'dropout': 0.2, 'neurons': 64}\n",
      "-0.019623 (0.002796) with: {'activation': 'tanh', 'dropout': 0.2, 'neurons': 128}\n",
      "-0.023084 (0.005989) with: {'activation': 'tanh', 'dropout': 0.3, 'neurons': 32}\n",
      "-0.020556 (0.003630) with: {'activation': 'tanh', 'dropout': 0.3, 'neurons': 64}\n",
      "-0.020232 (0.002446) with: {'activation': 'tanh', 'dropout': 0.3, 'neurons': 128}\n"
     ]
    }
   ],
   "source": [
    "# summarize results\n",
    "print(\"Best: %f using %s\" % (grid_result.best_score_, grid_result.best_params_))\n",
    "means = grid_result.cv_results_['mean_test_score']\n",
    "stds = grid_result.cv_results_['std_test_score']\n",
    "params = grid_result.cv_results_['params']\n",
    "for mean, stdev, param in zip(means, stds, params):\n",
    "    print(\"%f (%f) with: %r\" % (mean, stdev, param))"
   ]
  },
  {
   "cell_type": "markdown",
   "metadata": {},
   "source": [
    "Dari Hasil Training menggunakan GridSearchCV, kita peroleh:\n",
    "- parameter terbaiknya adalah: {'activation': 'relu', 'dropout': 0.3, 'neurons': 128}\n",
    "- Rata-rata Loss Function dari hasil Cross Validation adalah 0.047091 "
   ]
  },
  {
   "cell_type": "markdown",
   "metadata": {},
   "source": [
    "- Model terbaik dari hasil GridSearchCV kita masukan ke dalam variabel best_model dengan cara \n",
    "\n",
    "`best_model = grid_result.best_estimator_.model` \n",
    "\n",
    "- Kemudian coba kita lihat grafik loss function MSE dan metric MAE terhadap epoch untuk melihat performa model terbaik kita dengan cara sebagai berikut"
   ]
  },
  {
   "cell_type": "code",
   "execution_count": 29,
   "metadata": {},
   "outputs": [],
   "source": [
    "best_model = grid_result.best_estimator_.model\n",
    "history = best_model.history"
   ]
  },
  {
   "cell_type": "code",
   "execution_count": 30,
   "metadata": {},
   "outputs": [
    {
     "data": {
      "text/plain": [
       "<matplotlib.legend.Legend at 0x254de74bc10>"
      ]
     },
     "execution_count": 30,
     "metadata": {},
     "output_type": "execute_result"
    },
    {
     "data": {
      "image/png": "[encoded data removed]",
      "text/plain": [
       "<Figure size 432x288 with 1 Axes>"
      ]
     },
     "metadata": {},
     "output_type": "display_data"
    }
   ],
   "source": [
    "# grafik loss function MSE\n",
    "\n",
    "plt.plot(history.history['loss'], label='Training loss')\n",
    "plt.plot(history.history['val_loss'], label='Validation loss')\n",
    "plt.title('loss function MSE')\n",
    "plt.ylabel('MSE')\n",
    "plt.xlabel('Epoch')\n",
    "plt.legend()"
   ]
  },
  {
   "cell_type": "code",
   "execution_count": 31,
   "metadata": {},
   "outputs": [
    {
     "data": {
      "text/plain": [
       "<matplotlib.legend.Legend at 0x254de73c610>"
      ]
     },
     "execution_count": 31,
     "metadata": {},
     "output_type": "execute_result"
    },
    {
     "data": {
      "image/png": "[encoded data removed]",
      "text/plain": [
       "<Figure size 432x288 with 1 Axes>"
      ]
     },
     "metadata": {},
     "output_type": "display_data"
    }
   ],
   "source": [
    "# grafik metric MAE\n",
    "\n",
    "plt.plot(history.history['mae'], label='Training MAE')\n",
    "plt.plot(history.history['val_mae'], label='Validation MAE')\n",
    "plt.title('metric MAE')\n",
    "plt.ylabel('MAE')\n",
    "plt.xlabel('Epoch')\n",
    "plt.legend()"
   ]
  },
  {
   "cell_type": "markdown",
   "metadata": {},
   "source": [
    "### 7. Evaluasi Model dengan Data Test\n",
    "Dengan cara yang sama seperti pada contoh sebelumnya kita akan menghitung MAE pada data test."
   ]
  },
  {
   "cell_type": "code",
   "execution_count": 32,
   "metadata": {},
   "outputs": [
    {
     "name": "stdout",
     "output_type": "stream",
     "text": [
      "MAE data test sebesar: 3.9998919345364716\n"
     ]
    },
    {
     "data": {
      "text/plain": [
       "<AxesSubplot:>"
      ]
     },
     "execution_count": 32,
     "metadata": {},
     "output_type": "execute_result"
    },
    {
     "data": {
      "image/png": "[encoded data removed]",
      "text/plain": [
       "<Figure size 432x288 with 1 Axes>"
      ]
     },
     "metadata": {},
     "output_type": "display_data"
    }
   ],
   "source": [
    "y_pred = best_model.predict(X_test_scaled)\n",
    "y_pred = scaler2.inverse_transform(y_pred)\n",
    "\n",
    "abs_error = np.abs(y_test-y_pred)\n",
    "\n",
    "# Mean Absolute Error (MAE) test data\n",
    "mae = np.mean(abs_error)\n",
    "print('MAE data test sebesar:', mae)\n",
    "\n",
    "sns.boxplot(y = abs_error)"
   ]
  },
  {
   "cell_type": "markdown",
   "metadata": {},
   "source": [
    "## Apakah Nilai MAE Tersebut Lebih Bagus dari Sebelumnya???"
   ]
  },
  {
   "cell_type": "markdown",
   "metadata": {},
   "source": [
    "## Membandingkan Nilai MAE dari Hasil Regresi Linear"
   ]
  },
  {
   "cell_type": "code",
   "execution_count": 33,
   "metadata": {},
   "outputs": [
    {
     "name": "stdout",
     "output_type": "stream",
     "text": [
      "MAE data test sebesar: 4.293693903221696\n"
     ]
    },
    {
     "data": {
      "text/plain": [
       "<AxesSubplot:>"
      ]
     },
     "execution_count": 33,
     "metadata": {},
     "output_type": "execute_result"
    },
    {
     "data": {
      "image/png": "[encoded data removed]",
      "text/plain": [
       "<Figure size 432x288 with 1 Axes>"
      ]
     },
     "metadata": {},
     "output_type": "display_data"
    }
   ],
   "source": [
    "from sklearn.linear_model import LinearRegression\n",
    "\n",
    "reg = LinearRegression()\n",
    "\n",
    "reg.fit(X_train, y_train)\n",
    "reg_pred = reg.predict(X_test)\n",
    "\n",
    "abs_error = np.abs(y_test-reg_pred)\n",
    "\n",
    "# Mean Absolute Error (MAE) test data dari model regresi\n",
    "mae = np.mean(abs_error)\n",
    "print('MAE data test sebesar:', mae)\n",
    "\n",
    "sns.boxplot(y = abs_error)"
   ]
  },
  {
   "cell_type": "markdown",
   "metadata": {},
   "source": [
    "# <center><font color=\"blue\">Latihan</font></center>\n",
    "\n",
    "## Dengan menggunakan data konsumsi energi tiap rumah di atas, buatlah model neural network untuk memprediksi kolom listrik berdasarkan input kolom luas_bangunan dengan ketentuan sebagai berikut!\n",
    "\n",
    "1. Arsitektur neural network terdiri dari:\n",
    "- Input layer, hidden layer (Dense layer, Dropout, Dense layer), Dense ouput layer\n",
    "- Fungsi aktivasi yang digunakan pada kedua Dense layer adalah 'ReLu'\n",
    "- Persentase Dropout yang digunakan 10%\n",
    "- Compiler: loss='mse', optimizer='adam', metrics=['mae']\n",
    "\n",
    "2. Model dibuat menggunakan GridSearchCV dengan paramater yang diuji:\n",
    "- banyaknya neuron pada Dense layer pertama = [16,32,64]\n",
    "- banyaknya neuron pada Dense layer kedua = [10,20,30]\n",
    "\n",
    "3. Early Stopping diterapkan sehingga training berhenti pada saat epoch yang optimal\n",
    "\n",
    "4. Lakukan evaluasi pada data test dan simpulkan hasil evaluasi tersebut"
   ]
  }
 ],
 "metadata": {
  "celltoolbar": "Slideshow",
  "kernelspec": {
   "display_name": "Python 3",
   "language": "python",
   "name": "python3"
  },
  "language_info": {
   "codemirror_mode": {
    "name": "ipython",
    "version": 3
   },
   "file_extension": ".py",
   "mimetype": "text/x-python",
   "name": "python",
   "nbconvert_exporter": "python",
   "pygments_lexer": "ipython3",
   "version": "3.8.8"
  }
 },
 "nbformat": 4,
 "nbformat_minor": 4
}
