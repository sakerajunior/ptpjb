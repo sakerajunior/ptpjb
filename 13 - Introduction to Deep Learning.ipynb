{
 "cells": [
  {
   "cell_type": "markdown",
   "metadata": {
    "slideshow": {
     "slide_type": "slide"
    }
   },
   "source": [
    "# <center><font color=\"green\"> https://bit.ly/ptpjb-2021-13</font></center>\n",
    "[![Open In Colab](https://colab.research.google.com/assets/colab-badge.svg)](https://bit.ly/ptpjb-2021-13)"
   ]
  },
  {
   "cell_type": "markdown",
   "metadata": {
    "slideshow": {
     "slide_type": "slide"
    }
   },
   "source": [
    "# <center><font color=\"blue\">13 - Introduction to Neural network & Deep Learning</font></center>\n",
    "\n",
    "<center><img alt=\"\" src=\"images/cover_ptpjb_2021.png\"/></center> \n",
    "\n",
    "## <center><font color=\"blue\">tau-data Indonesia</font><br>Fathu Rahman - 2021</center>\n",
    "<center><a href=\"https://tau-data.id\">https://tau-data.id</a></center>"
   ]
  },
  {
   "cell_type": "markdown",
   "metadata": {
    "slideshow": {
     "slide_type": "slide"
    }
   },
   "source": [
    "# <center><font color=\"blue\"> Outline - Introduction to Deep Learning</font></center>\n",
    "\n",
    "* Pendahuluan Neural Network\n",
    "* Training Neural Network\n",
    "* Kelebihan dan Kekurangan\n",
    "* Studi Kasus\n",
    "* TensorBoard\n",
    "* Hyper-parameter Tuning\n",
    "* Latihan"
   ]
  },
  {
   "cell_type": "markdown",
   "metadata": {
    "slideshow": {
     "slide_type": "slide"
    }
   },
   "source": [
    "# <center><font color=\"blue\">Pendahuluan Neural Network </font></center>\n",
    "\n",
    "<img src=\"images/neural network 2.jpg\"  style=\"width: 500px;\"/>\n",
    "\n",
    "image source: https://fkmtfindonesia.or.id/artificial-neural-network/"
   ]
  },
  {
   "cell_type": "markdown",
   "metadata": {
    "slideshow": {
     "slide_type": "slide"
    }
   },
   "source": [
    "## Penerapan Neural Network\n",
    "<br>\n",
    "<center><video align=\"center\" controls src=\"videos/neural_network_in_life.MP4\"/></center>\n",
    "\n",
    "source: https://www.youtube.com/watch?v=me3QEYPsFWE"
   ]
  },
  {
   "cell_type": "markdown",
   "metadata": {
    "slideshow": {
     "slide_type": "slide"
    }
   },
   "source": [
    "### Reface App Manfaatkan Deep Tech AI\n",
    "https://aqi.co.id/blog/yang-sedang-viral-reface-app-swap-wajah-dengan-teknologi-ai\n",
    "<br><br>\n",
    "<center><video align=\"center\" controls src=\"videos/Reface App.mp4\" width=\"700\" ><center/>"
   ]
  },
  {
   "cell_type": "markdown",
   "metadata": {},
   "source": [
    "<img alt=\"\" src=\"images/Sejarah_ML_AI.jpg\" />"
   ]
  },
  {
   "cell_type": "markdown",
   "metadata": {
    "slideshow": {
     "slide_type": "slide"
    }
   },
   "source": [
    "# History:\n",
    "\n",
    "## Sejarah Beberapa Metode di Machine Learning:\n",
    "\n",
    "* Bayesian\t\t: 1763 Thomas Bayes, Statisticians\n",
    "* Regresi\t\t: Abad 19 (~18XX), Francis Galton (biologist)\n",
    "* Decision Tree\t: 1959, William Belson, biologist  (popular oleh R. Quinlan 80-an ID3 & CART oleh )\n",
    "* Perceptron\t\t: 1962, Frank Rosenblatt, psychologist\n",
    "* SVM\t\t: 1963, Vapnik, Mathematics and Statistics.\n",
    "* Neural network\t: 1974, Werbos (backprop), 1990 Hecht-Nielsen (MLP)(setelah perceptron)\n",
    "* Semi-Supervised\t: 1965 Scruder, tapi popular 2008 Zhu (comp scientist)\n",
    "* Ensemble\t\t: 1979, Dasarathy, \n",
    "* Deep learning\t: ...\n",
    "\n",
    "## Sejarah Deep Learning:\n",
    "\n",
    "* Ketika ML (SVM) sedang populer di tahun 2010, beberapa peneliti tetap mendalami NN, diantaranya nama-nama tenar seperti&nbsp;Geoffrey Hinton di the University of Toronto, dan Yann LeCun di New York University.\n",
    "* Deep Learning dengan GPU dimulai di tahun 2011 (Dan Ciresan dari&nbsp; IDSIA-Swiss)\n",
    "* Namun di 2012 baru terkenal karena permasalahan klasifikasi ImageNet (~1,4 juta image dikategorikan ke 1000 kelas) mampu diselesaikan oleh Hinton. Awalnya akurasinya &#39;hanya&#39; ~74% (2011), lalu ~83(2012), dan di anggap telah solved di 2015 dengan akurasi ~96% (Deep Convolutional Neural Network - convnets).\n",
    "* Sejak itu&nbsp;convnets menjadi model dasar computer vision.\n",
    "* Di Kaggle (2016-2017) ada trend untuk data terstruktur biasanya diselesaikan dengan Gradient Boosting (e.g. XGBoost) dan data tidak terstruktur dengan DL (e.g. Keras)."
   ]
  },
  {
   "cell_type": "markdown",
   "metadata": {
    "slideshow": {
     "slide_type": "slide"
    }
   },
   "source": [
    "<p>Theory Deep Learning sebenarnya sudah cukup lama ada (dibahas):</p>\n",
    "\n",
    "<ul>\n",
    "\t<li>convolutional neural networks dan backpropagation &mdash; 1989</li>\n",
    "\t<li>The Long Short-Term Memory ( LSTM ) algorithm (timeseries DL)&nbsp;&mdash;&nbsp;1997</li>\n",
    "</ul>\n",
    "\n",
    "<p>Lalu mengapa baru tenar di 2012?</p>\n",
    "\n",
    "<ul>\n",
    "\t<li>Hardware (terutama GPU)</li>\n",
    "\t<li>Dataset (Big Data)</li>\n",
    "\t<li>Perkembangan Algoritma terbaru : Better activation functions, weight-initialization schemes, optimization schemes (e.g.Adam W)</li>\n",
    "</ul>\n",
    "\n",
    "<big><strong>Tapi apa sebenarnya Deep Learning?</strong></big>"
   ]
  },
  {
   "cell_type": "markdown",
   "metadata": {
    "slideshow": {
     "slide_type": "slide"
    }
   },
   "source": [
    "# Deep Learning?\n",
    "\n",
    "<img alt=\"\" src=\"images/5_DeepLearning.png\" />\n",
    "\n",
    "<big>Yang menjadi pembeda utama DL dengan ML adalah DL &quot;<em>Learning representations from data</em>&quot;. Misal Word Embedding (bandingkan dengan VSM di Machine Learning).<br />\n",
    "Makna &quot;Deep&quot; di DL sendiri bermakna &quot;successive layers of representations&quot; biasa juga disebut sebagai&nbsp;<em>layered representations learning</em> atau <em>hierarchical representations learning</em>.</big>"
   ]
  },
  {
   "cell_type": "markdown",
   "metadata": {},
   "source": [
    "# First thing first\n",
    "\n",
    " <img alt=\"\" src=\"images/why_DL.png\" />\n",
    " \n",
    "* Seringnya DL butuh data yang besar untuk memperoleh performa (akurasi) yang baik.\n",
    "* Later-on \"Transfer Learning\" diperkenalkan untuk mengatasi hal ini."
   ]
  },
  {
   "cell_type": "markdown",
   "metadata": {},
   "source": [
    "## Neural Network\n",
    "\n",
    "<img src=\"images/intro_nn.JPG\"  style=\"width: 800px;\" />"
   ]
  },
  {
   "cell_type": "markdown",
   "metadata": {},
   "source": [
    "<img alt=\"\" src=\"images/6_JST.JPG\" style=\"height:400px; width:706px\" />"
   ]
  },
  {
   "cell_type": "markdown",
   "metadata": {},
   "source": [
    "### Single Perceptron untuk Klasifikasi Binari\n",
    "Misalkan masalah klasifikasi binari yang terdiri dari dua kelas yaitu kelas negatif (-1) dan kelas positif (1)\n",
    "\n",
    "<img src=\"images/single_perceptron.JPG\"/>\n",
    "\n",
    "- Pada single perceptron, kombinasi linear antara variabel sebanyak $m$ dengan masing-masing bobotnya dijadikan sebagai input.\n",
    "\n",
    "<center>$z=w_0+x_1w_1+x_2w_2+...+x_mw_m=\\bf{W^TX}$</center>\n",
    "<br>\n",
    "\n",
    "- Kemudian dengan menggunakan fungsi batas, hasil kombinasi linear tersebut akan ditentukan sebagai kelas negatif (-1) atau kelas positif (1) berdasarkan nilai batas yang ditentukan.\n",
    "\n",
    "<img src=\"images/binary_function.JPG\" width=\"200\"/>\n",
    "<img src=\"images/single_perceptron2.JPG\" width=\"500\"/>\n",
    "\n",
    "- Fungsi batas tersebut biasanya disebut fungsi aktivasi"
   ]
  },
  {
   "cell_type": "markdown",
   "metadata": {},
   "source": [
    "# Fungsi Aktivasi\n",
    "\n",
    "Fungsi aktivasi adalah fungsi yang memutuskan apakah suatu neuron harus diaktifkan atau tidak berdasarkan hasil perhitungan kombinasi linear antara variabel input dengan masing-masing bobotnya. Selain itu fungsi aktivasi bisa berfungsi untuk merubah kombinasi linear tersebut menjadi output yang non linear\n",
    "\n",
    "- Terdapat beberapa *activation function*, di antaranya sebagai berikut:\n",
    "\n",
    "<ul>\n",
    "\t<li><img alt=\"\" src=\"images/act_func.png\" style=\"width: 760px; height: 206px;\" /></li>\n",
    "</ul>\n",
    "\n",
    "<p><img alt=\"\" src=\"images/6_JST_Actv.png\" style=\"width: 756px; height: 625px;\" /></p>"
   ]
  },
  {
   "cell_type": "markdown",
   "metadata": {},
   "source": [
    "<h1 > Contoh Fungsi tanh memetakan [-Inf, Inf] ke [-1, 1]</h1>\n",
    "\n",
    "<p><img alt=\"\" src=\"images/tanh_act.gif\" style=\"width: 800px; height: 317px;\" /></p>"
   ]
  },
  {
   "cell_type": "markdown",
   "metadata": {},
   "source": [
    "<h1 >Contoh 2: Fungsi Aktivasi Sigmoid yang bisa digunakan untuk menginat dan melupakan (mantan? :) )</h1>\n",
    "\n",
    "<ul>\n",
    "\t<li>Fungsi sigmoid mirip dengan tanh, namun intervalnya adalah [0, 1].</li>\n",
    "\t<li>Semakin dekat ke 0 ==&gt; melupakan (forget): informasi tidak relevan.</li>\n",
    "\t<li>Semakin dekat ke 1 ==&gt; mengingat: informasi relevan/penting.</li>\n",
    "\t<li><img alt=\"\" src=\"images/sigmoid.gif\" style=\"width: 800px; height: 317px;\" /></li>\n",
    "</ul>"
   ]
  },
  {
   "cell_type": "markdown",
   "metadata": {},
   "source": [
    "# memangnya Tanpa fungsi aktivasi apa yang akan terjadi?\n",
    "\n",
    "* Tanpa fungsi aktivasi, weights bisa membesar tak berbatas ketika iterasinya berjalan\n",
    "\n",
    "<p><img alt=\"\" src=\"images/tanpa_tanh.gif\" style=\"width: 800px; height: 106px;\" /></p>"
   ]
  },
  {
   "cell_type": "markdown",
   "metadata": {},
   "source": [
    "# Dengan Fungsi Aktivasi, nilai weights selalu terbatas (misal) di -1 dan 1, namun tingkat kepentingan weight tetap terjaga.\n",
    "\n",
    "* Perhatikan nilai weight yang pertama\n",
    "<img alt=\"\" src=\"images/dgn_tanh.gif\" style=\"width: 800px; height: 106px;\" />"
   ]
  },
  {
   "cell_type": "markdown",
   "metadata": {},
   "source": [
    "# <center><font color=\"blue\">Training Neural Network </font></center>\n",
    "\n",
    "<img src=\"images/cara_kerja_nn.JPG\" />\n"
   ]
  },
  {
   "cell_type": "markdown",
   "metadata": {},
   "source": [
    "## Contoh sistem kerja Neural Network\n",
    "\n",
    "<center><video align=\"center\" controls src=\"videos/neural network.mp4\" width=\"560\" height=\"315\"/></center>\n",
    "\n",
    "link: https://youtu.be/o20mBWPHGEw"
   ]
  },
  {
   "cell_type": "markdown",
   "metadata": {},
   "source": [
    "<h1 id=\"The-flow-of-the-Computation\">The flow of the Computation</h1>\n",
    "\n",
    "<ul>\n",
    "\t<li><img alt=\"\" src=\"images/VG_1.gif\" style=\"width: 250px; height: 270px;\" /></li>\n",
    "\t<li><img alt=\"\" src=\"images/VG_2.gif\" style=\"width: 250px; height: 270px;\" /></li>\n",
    "</ul>\n"
   ]
  },
  {
   "cell_type": "markdown",
   "metadata": {},
   "source": [
    "<h2 id=\"Toy-Data-Example-Neural-Network-(Back-Propagation)\">Toy Data Example Neural Network (Back Propagation)</h2>\n",
    "\n",
    "<p><img alt=\"\" src=\"images/NN-BP_step_1.png\" style=\"width: 600px; height: 358px;\" /></p>\n"
   ]
  },
  {
   "cell_type": "markdown",
   "metadata": {},
   "source": [
    "<img alt=\"\" src=\"images/NN-BP_step_2.png\" style=\"width: 600px; height: 348px;\" />"
   ]
  },
  {
   "cell_type": "markdown",
   "metadata": {},
   "source": [
    "<p><img alt=\"\" src=\"images/NN-BP_step_3.png\" style=\"width: 600px; height: 313px;\" /></p>\n"
   ]
  },
  {
   "cell_type": "markdown",
   "metadata": {},
   "source": [
    "<p><img alt=\"\" src=\"images/NN-BP_step_4.png\" style=\"width: 600px; height: 305px;\" /></p>\n"
   ]
  },
  {
   "cell_type": "markdown",
   "metadata": {},
   "source": [
    "<p><img alt=\"\" src=\"images/NN-BP_step_5.png\" style=\"width: 600px; height: 305px;\" /></p>\n"
   ]
  },
  {
   "cell_type": "markdown",
   "metadata": {},
   "source": [
    "<p><img alt=\"\" src=\"images/Loss_function_neural_network_deep_learning.png\" /></p>"
   ]
  },
  {
   "cell_type": "markdown",
   "metadata": {},
   "source": [
    "# Memilih Fungsi Aktivasi dan Fungsi Loss\n",
    "\n",
    "<img alt=\"\" src=\"images/memilih_loss_dan_activation.png\" style=\"width: 600px; height: 368px;\" />"
   ]
  },
  {
   "cell_type": "markdown",
   "metadata": {},
   "source": [
    "<p><big><strong>Binary Cross Entropy</strong></big></p>\n",
    "\n",
    "<p><img alt=\"\" src=\"images/binary_cross_entropy.png\" style=\"width: 600px; height: 173px;\" /></p>\n",
    "\n",
    "<p><big><strong>Minimum Squared Error</strong></big></p>\n",
    "\n",
    "<p><img alt=\"\" src=\"images/mse.png\" style=\"width: 300px; height: 106px;\" /></p>\n",
    "\n",
    "<p><img alt=\"\" src=\"images/mse_mean.png\" style=\"width: 600px; height: 323px;\" /></p>\n"
   ]
  },
  {
   "cell_type": "markdown",
   "metadata": {},
   "source": [
    "<table border=\"1\" cellpadding=\"1\" cellspacing=\"1\" style=\"width: 500px\">\n",
    "\t<tbody>\n",
    "\t\t<tr>\n",
    "\t\t\t<td><img alt=\"\" src=\"images/contours_evaluation_optimizers.gif\" /></td>\n",
    "\t\t\t<td><img alt=\"\" src=\"images/saddle_point_evaluation_optimizers.gif\" /></td>\n",
    "\t\t</tr>\n",
    "\t</tbody>\n",
    "</table>\n",
    "\n",
    "Optimizer : \n",
    "<a href=\"http://ruder.io/optimizing-gradient-descent/\" target=\"_blank\">http://ruder.io/optimizing-gradient-descent/&nbsp;</a>\n"
   ]
  },
  {
   "cell_type": "markdown",
   "metadata": {},
   "source": [
    "<h2 id=\"Loss-function-and-Error\">Loss function and Error</h2>\n",
    "\n",
    "<p><img alt=\"\" src=\"images/low-high-bias-variance.png\" style=\"width: 600px; height: 244px;\" /></p>\n"
   ]
  },
  {
   "cell_type": "markdown",
   "metadata": {},
   "source": [
    "# Loss, Optimizer, & metric\n",
    "\n",
    "<ol>\n",
    "\t<li><strong>Loss function (objective function)</strong> &mdash; fungsi yang akan di minimize. Hasilnya merepresentasikan tingkat sukses pada setiap iterasi.<br />\n",
    "\t<a href=\"https://keras.io/losses/\" target=\"_blank\">https://keras.io/losses/&nbsp;</a></li>\n",
    "\t<li><strong>Optimizer&nbsp;</strong>&mdash; Berfungsi untuk menentukan bagaimana (weights) di network akan di update berdasarkan loss-functionnya. (e.g. variasi dari SGD)<br />\n",
    "\t<a href=\"https://keras.io/optimizers/\" target=\"_blank\">https://keras.io/optimizers/</a></li>\n",
    "\t<li><strong>Metrics&nbsp;</strong>&mdash; Satuan evaluasi<br />\n",
    "\t<a href=\"https://keras.io/metrics/\" target=\"_blank\">https://keras.io/metrics/</a></li>\n",
    "</ol>\n",
    "\n"
   ]
  },
  {
   "cell_type": "markdown",
   "metadata": {},
   "source": [
    "<img alt=\"\" src=\"images/NN-BP_step_6.png\" style=\"width: 600px; height: 304px;\" />"
   ]
  },
  {
   "cell_type": "markdown",
   "metadata": {},
   "source": [
    "<p><img alt=\"\" src=\"images/NN-BP_step_7.png\" style=\"width: 600px; height: 305px;\" /></p>\n"
   ]
  },
  {
   "cell_type": "markdown",
   "metadata": {},
   "source": [
    "<p><img alt=\"\" src=\"images/NN-BP_step_8.png\" style=\"width: 600px; height: 303px;\" /></p>\n"
   ]
  },
  {
   "cell_type": "markdown",
   "metadata": {},
   "source": [
    "<p><img alt=\"\" src=\"images/NN-BP_step_9.png\" style=\"width: 600px; height: 301px;\" /></p>\n"
   ]
  },
  {
   "cell_type": "markdown",
   "metadata": {},
   "source": [
    "## Multiclass ANN\n",
    "<img alt=\"\" src=\"images/Multiclass_ANN.png\" style=\"width: 600px; height: 468px;\" />"
   ]
  },
  {
   "cell_type": "markdown",
   "metadata": {},
   "source": [
    "<p>Neural Network - Empirical Analysis Parameter di ANN</p>\n",
    "<strong><a href=\"https://goo.gl/3rcnc9\" target=\"_blank\">https://goo.gl/3rcnc9</a></strong>\n",
    "\n",
    "\n",
    "<p>Mengapa dengan fungsi linear bisa membentuk &quot;boundary&quot; yang melengkung (kurva)?</p>\n",
    "<strong><a href=\"http://s.id/j6i\" target=\"_blank\">http://s.id/j6i</a></strong>"
   ]
  },
  {
   "cell_type": "markdown",
   "metadata": {},
   "source": [
    "<p><img style=\"undefined: undefined;\" src=\"images/6_tipe_NN.png\" alt=\"\" width=\"618\" height=\"1050\" /></p>"
   ]
  },
  {
   "cell_type": "markdown",
   "metadata": {},
   "source": [
    "# <center><font color=\"blue\">Kelebihan dan Kekurangan</font></center>\n",
    "<img src=\"images/pros and cons.jpeg\" style=\"width: 600px\"/><br>\n",
    "<img src=\"images/NN vs ML.jpeg\" style=\"width: 800px\"/><br>\n",
    "<img src=\"images/NN vs ML 2.jpeg\" style=\"width: 800px\"/>\n",
    "\n",
    "\n",
    "image source: \n",
    "- https://slidetodoc.com/neural-networks-and-support-vector-machines-outline-neural/\n",
    "- https://dzone.com/articles/comparison-between-deep-learning-vs-machine-learni"
   ]
  },
  {
   "cell_type": "markdown",
   "metadata": {},
   "source": [
    "# <center><font color=\"blue\">Studi Kasus</font></center> \n",
    "\n",
    "- Sebagai ilustrasi, kita gunakan data konsumsi energi tiap rumah untuk membuat model neural network\n",
    "- Data tersebut terdiri dari 504 baris dan 4 kolom, kolom tersebut di antaranya yaitu:\n",
    "1. jumlah ruangan\n",
    "2. jumlah penghuni\n",
    "3. luas bangunan\n",
    "4. banyaknya energi listrik yang digunakan dalam satuan KWh per bulan\n",
    "\n",
    "<img src=\"images/data_energi.JPG\"/>\n",
    "\n",
    "- Data tersebut merupakan hasil modifikasi dari data boston housing (link: https://www.kaggle.com/c/boston-housing)\n",
    "- Model neural network yang akan dibuat bertujuan untuk memprediksi kolom energi listrik berdasarkan kolom lainnya."
   ]
  },
  {
   "cell_type": "markdown",
   "metadata": {},
   "source": [
    "## Import Modul Standar"
   ]
  },
  {
   "cell_type": "code",
   "execution_count": 1,
   "metadata": {},
   "outputs": [],
   "source": [
    "import numpy as np\n",
    "import pandas as pd\n",
    "import matplotlib.pyplot as plt\n",
    "%matplotlib inline\n",
    "import seaborn as sns\n",
    "sns.set_theme(style=\"whitegrid\")\n",
    "import warnings\n",
    "warnings.filterwarnings(\"ignore\")"
   ]
  },
  {
   "cell_type": "markdown",
   "metadata": {},
   "source": [
    "## Import Data Konsumsi Energi\n",
    "- Data konsumsi energi diimport menggunakan pandas\n",
    "- karena format datanya csv maka untuk mengimportnya menggunakan `pd.read_csv()`\n",
    "- setelah diimport dan simpan dalam variabel energi, kita coba lihat 5 data teratas menggunakan `energi.head()`"
   ]
  },
  {
   "cell_type": "code",
   "execution_count": 4,
   "metadata": {},
   "outputs": [
    {
     "data": {
      "text/html": [
       "<div>\n",
       "<style scoped>\n",
       "    .dataframe tbody tr th:only-of-type {\n",
       "        vertical-align: middle;\n",
       "    }\n",
       "\n",
       "    .dataframe tbody tr th {\n",
       "        vertical-align: top;\n",
       "    }\n",
       "\n",
       "    .dataframe thead th {\n",
       "        text-align: right;\n",
       "    }\n",
       "</style>\n",
       "<table border=\"1\" class=\"dataframe\">\n",
       "  <thead>\n",
       "    <tr style=\"text-align: right;\">\n",
       "      <th></th>\n",
       "      <th>jumlah_ruangan</th>\n",
       "      <th>jumlah_penghuni</th>\n",
       "      <th>luas_bangunan</th>\n",
       "      <th>listrik</th>\n",
       "    </tr>\n",
       "  </thead>\n",
       "  <tbody>\n",
       "    <tr>\n",
       "      <th>0</th>\n",
       "      <td>2</td>\n",
       "      <td>1</td>\n",
       "      <td>49.8</td>\n",
       "      <td>24.0</td>\n",
       "    </tr>\n",
       "    <tr>\n",
       "      <th>1</th>\n",
       "      <td>7</td>\n",
       "      <td>2</td>\n",
       "      <td>91.4</td>\n",
       "      <td>21.6</td>\n",
       "    </tr>\n",
       "    <tr>\n",
       "      <th>2</th>\n",
       "      <td>7</td>\n",
       "      <td>2</td>\n",
       "      <td>40.3</td>\n",
       "      <td>34.7</td>\n",
       "    </tr>\n",
       "    <tr>\n",
       "      <th>3</th>\n",
       "      <td>2</td>\n",
       "      <td>3</td>\n",
       "      <td>29.4</td>\n",
       "      <td>33.4</td>\n",
       "    </tr>\n",
       "    <tr>\n",
       "      <th>4</th>\n",
       "      <td>2</td>\n",
       "      <td>3</td>\n",
       "      <td>53.3</td>\n",
       "      <td>36.2</td>\n",
       "    </tr>\n",
       "    <tr>\n",
       "      <th>5</th>\n",
       "      <td>2</td>\n",
       "      <td>3</td>\n",
       "      <td>52.1</td>\n",
       "      <td>28.7</td>\n",
       "    </tr>\n",
       "    <tr>\n",
       "      <th>6</th>\n",
       "      <td>7</td>\n",
       "      <td>5</td>\n",
       "      <td>124.3</td>\n",
       "      <td>22.9</td>\n",
       "    </tr>\n",
       "    <tr>\n",
       "      <th>7</th>\n",
       "      <td>7</td>\n",
       "      <td>5</td>\n",
       "      <td>191.5</td>\n",
       "      <td>27.1</td>\n",
       "    </tr>\n",
       "    <tr>\n",
       "      <th>8</th>\n",
       "      <td>7</td>\n",
       "      <td>5</td>\n",
       "      <td>299.3</td>\n",
       "      <td>16.5</td>\n",
       "    </tr>\n",
       "    <tr>\n",
       "      <th>9</th>\n",
       "      <td>7</td>\n",
       "      <td>5</td>\n",
       "      <td>171.0</td>\n",
       "      <td>18.9</td>\n",
       "    </tr>\n",
       "  </tbody>\n",
       "</table>\n",
       "</div>"
      ],
      "text/plain": [
       "   jumlah_ruangan  jumlah_penghuni  luas_bangunan  listrik\n",
       "0               2                1           49.8     24.0\n",
       "1               7                2           91.4     21.6\n",
       "2               7                2           40.3     34.7\n",
       "3               2                3           29.4     33.4\n",
       "4               2                3           53.3     36.2\n",
       "5               2                3           52.1     28.7\n",
       "6               7                5          124.3     22.9\n",
       "7               7                5          191.5     27.1\n",
       "8               7                5          299.3     16.5\n",
       "9               7                5          171.0     18.9"
      ]
     },
     "execution_count": 4,
     "metadata": {},
     "output_type": "execute_result"
    }
   ],
   "source": [
    "file_ = 'data/konsumsi_energi.csv'\n",
    "try: # Running Locally\n",
    "    energi = pd.read_csv(file_)\n",
    "except: # Running in Google Colab\n",
    "    !mkdir data\n",
    "    !wget -P data/ https://raw.githubusercontent.com/taudata-indonesia/ptpjb/main/{file_}\n",
    "    energi = pd.read_csv(file_)\n",
    "energi.head(10)"
   ]
  },
  {
   "cell_type": "markdown",
   "metadata": {},
   "source": [
    "## Visualisasi Data"
   ]
  },
  {
   "cell_type": "code",
   "execution_count": 5,
   "metadata": {
    "scrolled": false
   },
   "outputs": [
    {
     "data": {
      "text/plain": [
       "<seaborn.axisgrid.PairGrid at 0x12e40b06dc8>"
      ]
     },
     "execution_count": 5,
     "metadata": {},
     "output_type": "execute_result"
    },
    {
     "data": {
      "image/png": "[encoded data removed]",
      "text/plain": [
       "<Figure size 720x180 with 5 Axes>"
      ]
     },
     "metadata": {},
     "output_type": "display_data"
    }
   ],
   "source": [
    "sns.pairplot(energi, y_vars='listrik')"
   ]
  },
  {
   "cell_type": "markdown",
   "metadata": {},
   "source": [
    "- Dari hasil visualisasi data terlihat bahwa terdapat keanehan pada data.\n",
    "- Hal tersebut dikarenakan data yang digunakan bukan data sebenarnya.\n",
    "- Tetapi coba kita tetap gunakan sebagai contoh."
   ]
  },
  {
   "cell_type": "markdown",
   "metadata": {},
   "source": [
    "## Melihat Statistika Deskriptif dari Data\n",
    "- Sebelum melakukan pembuatan model, sebaiknya dilakukan analisa terhadap statistika deskriptif dari data\n",
    "- Dari statistika deskriptif tersebut, kita dapat meilhat range dari data dan ukuran pusat data"
   ]
  },
  {
   "cell_type": "code",
   "execution_count": 6,
   "metadata": {
    "scrolled": false
   },
   "outputs": [
    {
     "data": {
      "text/html": [
       "<div>\n",
       "<style scoped>\n",
       "    .dataframe tbody tr th:only-of-type {\n",
       "        vertical-align: middle;\n",
       "    }\n",
       "\n",
       "    .dataframe tbody tr th {\n",
       "        vertical-align: top;\n",
       "    }\n",
       "\n",
       "    .dataframe thead th {\n",
       "        text-align: right;\n",
       "    }\n",
       "</style>\n",
       "<table border=\"1\" class=\"dataframe\">\n",
       "  <thead>\n",
       "    <tr style=\"text-align: right;\">\n",
       "      <th></th>\n",
       "      <th>jumlah_ruangan</th>\n",
       "      <th>jumlah_penghuni</th>\n",
       "      <th>luas_bangunan</th>\n",
       "      <th>listrik</th>\n",
       "    </tr>\n",
       "  </thead>\n",
       "  <tbody>\n",
       "    <tr>\n",
       "      <th>count</th>\n",
       "      <td>504.000000</td>\n",
       "      <td>504.000000</td>\n",
       "      <td>504.000000</td>\n",
       "      <td>504.000000</td>\n",
       "    </tr>\n",
       "    <tr>\n",
       "      <th>mean</th>\n",
       "      <td>10.750000</td>\n",
       "      <td>9.575397</td>\n",
       "      <td>126.859325</td>\n",
       "      <td>22.474008</td>\n",
       "    </tr>\n",
       "    <tr>\n",
       "      <th>std</th>\n",
       "      <td>6.914488</td>\n",
       "      <td>8.714506</td>\n",
       "      <td>71.355341</td>\n",
       "      <td>9.132927</td>\n",
       "    </tr>\n",
       "    <tr>\n",
       "      <th>min</th>\n",
       "      <td>1.000000</td>\n",
       "      <td>1.000000</td>\n",
       "      <td>17.300000</td>\n",
       "      <td>5.000000</td>\n",
       "    </tr>\n",
       "    <tr>\n",
       "      <th>25%</th>\n",
       "      <td>5.000000</td>\n",
       "      <td>4.000000</td>\n",
       "      <td>70.925000</td>\n",
       "      <td>16.950000</td>\n",
       "    </tr>\n",
       "    <tr>\n",
       "      <th>50%</th>\n",
       "      <td>9.000000</td>\n",
       "      <td>5.000000</td>\n",
       "      <td>113.950000</td>\n",
       "      <td>21.200000</td>\n",
       "    </tr>\n",
       "    <tr>\n",
       "      <th>75%</th>\n",
       "      <td>18.000000</td>\n",
       "      <td>24.000000</td>\n",
       "      <td>169.925000</td>\n",
       "      <td>25.000000</td>\n",
       "    </tr>\n",
       "    <tr>\n",
       "      <th>max</th>\n",
       "      <td>27.000000</td>\n",
       "      <td>24.000000</td>\n",
       "      <td>379.700000</td>\n",
       "      <td>50.000000</td>\n",
       "    </tr>\n",
       "  </tbody>\n",
       "</table>\n",
       "</div>"
      ],
      "text/plain": [
       "       jumlah_ruangan  jumlah_penghuni  luas_bangunan     listrik\n",
       "count      504.000000       504.000000     504.000000  504.000000\n",
       "mean        10.750000         9.575397     126.859325   22.474008\n",
       "std          6.914488         8.714506      71.355341    9.132927\n",
       "min          1.000000         1.000000      17.300000    5.000000\n",
       "25%          5.000000         4.000000      70.925000   16.950000\n",
       "50%          9.000000         5.000000     113.950000   21.200000\n",
       "75%         18.000000        24.000000     169.925000   25.000000\n",
       "max         27.000000        24.000000     379.700000   50.000000"
      ]
     },
     "execution_count": 6,
     "metadata": {},
     "output_type": "execute_result"
    }
   ],
   "source": [
    "energi.describe()"
   ]
  },
  {
   "cell_type": "markdown",
   "metadata": {},
   "source": [
    "- Dari statistika deskriptif di atas terlihat perbedaan range antara jumlah_keluarga, jumlah_ruangan dengan luas_bangunan dan listrik\n",
    "- Karena perbedaan range tersebut, nanti kita akan lakukan **feature scalling** menggunakan **MinMaxScaler** agar range dari seluruh data tersebut berada di antara 0 dan 1"
   ]
  },
  {
   "cell_type": "markdown",
   "metadata": {},
   "source": [
    "## Menentukan variabel target dan variabel input\n",
    "Karena tujuan kita adalah memprediksi kolom listrik berdasarkan kolom lainnya, maka:\n",
    "- kita tetapkan kolom listrik sebagai variabel target (y) \n",
    "- dan kolom lainnya sebagai variabel input (X)"
   ]
  },
  {
   "cell_type": "code",
   "execution_count": 7,
   "metadata": {},
   "outputs": [
    {
     "name": "stdout",
     "output_type": "stream",
     "text": [
      "(504, 3) (504, 1)\n",
      "<class 'numpy.ndarray'> <class 'numpy.ndarray'>\n"
     ]
    }
   ],
   "source": [
    "y = energi[['listrik']].values\n",
    "X = energi.drop(columns=['listrik']).values\n",
    "\n",
    "# Check the shape of training data\n",
    "print(X.shape,y.shape)\n",
    "print(type(y),type(X))"
   ]
  },
  {
   "cell_type": "markdown",
   "metadata": {},
   "source": [
    "- Perhatikan bahwa code di atas menggunakan `.values` saat menetapkan variabel y dan X\n",
    "- Hal tersebut dilakukan untuk merubah tipe data dataframe menjadi numpy array\n",
    "- Tensorflow sebenarnya dapat memproses tipe data dataframe, namun tipe data numpy array akan lebih cepat diproses"
   ]
  },
  {
   "cell_type": "markdown",
   "metadata": {},
   "source": [
    "## Split Data\n",
    "<img src=\"images/cross_validation.png\">\n",
    "\n",
    "- Split data dilakukan agar model yang telah dilatih dapat dievaluasi kemampuannya.\n",
    "- Kita gunakan **train_test_split** dari modul **sklearn** untuk melakukan split data\n",
    "- **train_test_split** tersebut melakukan split data dengan **stratified sampling**\n",
    "- Kita juga akan melakukan **cross validation** menggunakan data train sehingga pastikan data train yang digunakan cukup besar.\n",
    "- Pada contoh ini kita gunakan 80% data train dan 20% data test\n",
    "- **random_state** ditetapkan berupa bilangan integer agar hasil split data yang dilakukan secara acak selalu sama"
   ]
  },
  {
   "cell_type": "code",
   "execution_count": 8,
   "metadata": {},
   "outputs": [
    {
     "name": "stdout",
     "output_type": "stream",
     "text": [
      "Banyak data train: 403\n",
      "Banyak data test : 101\n"
     ]
    }
   ],
   "source": [
    "# Create training and test split\n",
    "from sklearn.model_selection import train_test_split\n",
    "\n",
    "X_train, X_test, y_train, y_test = train_test_split(X, y, test_size=0.2, random_state=1)\n",
    "\n",
    "print('Banyak data train:', len(X_train))\n",
    "print('Banyak data test :', len(X_test))"
   ]
  },
  {
   "cell_type": "markdown",
   "metadata": {},
   "source": [
    "## Feature Scalling\n",
    "\n",
    "- Perbedaan range antara variabel-variabel yang digunakan akan menyulitkan proses pelatihan model neural network\n",
    "- Selain itu range yang besar juga dapat menyebabkan suatu ketika nilai loss function sangat besar sehingga proses pelatihan model neural network tidak mencapai nilai minimum\n",
    "- Oleh karena itu perlu dilakukan **feature scalling** menggunakan **MinMaxScaler** agar seluruh data memiliki range yang sama yaitu dari 0 sampai 1\n",
    "- Rumus MinMaxScaler:\n",
    "# <center> $x^*=\\frac{x-x_{min}}{x_{max}-x_{min}}$</center>\n",
    "\n",
    "<img src=\"images/minmax.png\" width=\"500\"/>\n",
    "\n",
    "- MinMaxScaler difit pada data train agar dapat digunakan kembali pada data test maupun data observasi baru\n",
    "- MinMaxScaler diterapkan secara terpisah antara variabel target dan input karena ketika ingin memprediksi variabel target dengan data observasi baru, data tersebut hanya terdiri dari variabel input"
   ]
  },
  {
   "cell_type": "code",
   "execution_count": 9,
   "metadata": {},
   "outputs": [],
   "source": [
    "from sklearn.preprocessing import MinMaxScaler\n",
    "scaler1 = MinMaxScaler()\n",
    "scaler1.fit(X_train)\n",
    "scaler2 = MinMaxScaler()\n",
    "scaler2.fit(y_train)\n",
    "\n",
    "X_train_scaled = scaler1.transform(X_train)\n",
    "X_test_scaled = scaler1.transform(X_test)\n",
    "y_train_scaled = scaler2.transform(y_train)\n",
    "y_test_scaled = scaler2.transform(y_test)"
   ]
  },
  {
   "cell_type": "markdown",
   "metadata": {},
   "source": [
    "## Neural Network Menggunakan Tensorflow dan Keras\n",
    "- tensorflow: https://www.tensorflow.org/overview\n",
    "- keras: https://keras.io/about/"
   ]
  },
  {
   "cell_type": "markdown",
   "metadata": {},
   "source": [
    "# Instalasi Lokal GPU Support (TensorFlow-CUDA) untuk model Deep Learning. \n",
    "\n",
    "* Link ini akan membantu menyesuaikan versi CUDA dan CudNN yang tepat untuk semua versi TensorFlow.  Hati-hati!!!.... requirement CUDA dan CudNN berbeda antara Linux & Windows (Walau versi tensorflow-nya sama!!!).\n",
    "* Berikut Versi Keras-TensorFlow yang bersesuaiannya: https://docs.floydhub.com/guides/environments/\n",
    "Download Cuda dan CudNN yang bersesuaian (seringnya BUKAN versi terakhir) dari sini (need to register):\n",
    "* https://developer.nvidia.com/rdp/cudnn-archive\n",
    "* https://developer.nvidia.com/cuda-downloads\n",
    "\n",
    "* Setelah install Cuda/Cudnn, jika compiler terinstall dengan baik, maka perintah **pip install --upgrade tensorflow-gpu** bisa digunakan di terminal/command prompt.\n",
    "\n",
    "[Linux]:  https://www.tensorflow.org/install/source#tested_build_configurations \n",
    "\n",
    "[Windows]:  https://www.tensorflow.org/install/source_windows \n",
    "\n",
    "Untuk \"PyTorch\" cenderung lebih mudah: https://pytorch.org/get-started/locally/"
   ]
  },
  {
   "cell_type": "markdown",
   "metadata": {},
   "source": [
    "# Google Colaboratory\n",
    "\n",
    "* Free with GPU (& TPU) support (Max run ~ 10jam)\n",
    "* Login dengan Username dan password Google\n",
    "* Kunjungi https://colab.research.google.com\n",
    "* New Python 3 Notebook, rename/save Notebook \n",
    "* Runtime>Change runtime type and select GPU as Hardware accelerator."
   ]
  },
  {
   "cell_type": "code",
   "execution_count": 10,
   "metadata": {},
   "outputs": [
    {
     "data": {
      "text/plain": [
       "'Done'"
      ]
     },
     "execution_count": 10,
     "metadata": {},
     "output_type": "execute_result"
    }
   ],
   "source": [
    "import warnings, matplotlib.pyplot as plt; warnings.simplefilter('ignore')\n",
    "import pickle, numpy as np, tensorflow as tf, time, os, matplotlib.pyplot as plt, seaborn as sns\n",
    "from collections import Counter\n",
    "from sklearn.model_selection import train_test_split\n",
    "from sklearn.metrics import classification_report, confusion_matrix, accuracy_score\n",
    "from tensorflow import keras    \n",
    "from tensorflow.keras import regularizers\n",
    "from tensorflow.keras.preprocessing.text import Tokenizer\n",
    "from tensorflow.keras.preprocessing.sequence import pad_sequences\n",
    "from tensorflow.keras import regularizers\n",
    "from tensorflow.keras.callbacks import EarlyStopping\n",
    "\n",
    "sns.set(style=\"darkgrid\")\n",
    "\"Done\""
   ]
  },
  {
   "cell_type": "markdown",
   "metadata": {},
   "source": [
    "# Testing GPU"
   ]
  },
  {
   "cell_type": "code",
   "execution_count": 11,
   "metadata": {},
   "outputs": [
    {
     "name": "stdout",
     "output_type": "stream",
     "text": [
      "TensorFlow version =  2.6.0\n",
      "CUDA enabled TF, Num GPUs: 1 [PhysicalDevice(name='/physical_device:GPU:0', device_type='GPU')]\n"
     ]
    }
   ],
   "source": [
    "print(\"TensorFlow version = \", tf.__version__)\n",
    "if tf.test.is_built_with_cuda():\n",
    "    physical_devices = tf.config.list_physical_devices('GPU') \n",
    "    print(\"CUDA enabled TF, Num GPUs:\", len(physical_devices), physical_devices) \n",
    "    tf.config.experimental.set_memory_growth(physical_devices[0], enable=True)"
   ]
  },
  {
   "cell_type": "markdown",
   "metadata": {},
   "source": [
    "## Struktur neural network di keras API\n",
    "- **Sequential model**\n",
    "\n",
    "Sequential model memungkinkan kita untuk membuat model layer demi layer secara berurutan. Untuk membuat variabel Sequential model dilakukan sebagai berikut:\n",
    "\n",
    "`from keras.models import Sequential`<br>\n",
    "`model = Sequential()`\n",
    "- **Dense layer**\n",
    "\n",
    "Dense layer membuat fully connected layer dengan neuron-neuron yang terhubung pada layer sebelumnya. Pada dense layer ini kita dapat menentukan berapa banyak neuron dan fungsi aktivasi apa yang digunakan. Sebagai contoh untuk menambahkan Dense layer dengan neuron sebanyak 32 dan fungsi aktivasi sigmoid pada Sequential model dilakukan sebagai berikut:\n",
    "\n",
    "`model = Sequential()`<br>\n",
    "`model.add(Dense(32, input_dim=3, activation='sigmoid'))`\n",
    "\n",
    "input_dim berfungsi untuk menentukan banyaknya variabel input dan hanya ditentukan pada layer pertama.\n",
    "- **Dropout layer**\n",
    "\n",
    "Dropout layer adalah layer penting untuk mengurangi over-fitting dalam model neural network. Dropout layer akan mengurangi kompleksitas model neural network dengan mengurangi jumlah neuron secara acak sehingga hal ini dapat mencegah over-fitting. persentase jumlah neuron yang dikurangi dapat dilakukan dengan menentukan nilai dropout antara 0 sampai 1.\n",
    "\n",
    "<img src=\"images/dropout.jpg\" width=\"400\"/>\n",
    "\n",
    "image source: https://www.tech-quantum.com/implementing-drop-out-regularization-in-neural-networks/\n",
    "\n",
    "Untuk melakukan dropout pada layer sebelumnya sebesar 20% dapat dilakukan sebagai berikut:\n",
    "\n",
    "`model = Sequential()`<br>\n",
    "`model.add(Dense(32, input_dim=3, activation='sigmoid'))`<br>\n",
    "`model.add(Dropout(0.2))`\n",
    "- **Compiler**\n",
    "\n",
    "Setelah membangun arsitektur neural network, kita perlu memilih tiga hal lagi pada tahap \"kompilasi\": \n",
    "1. **Loss Function**: adalah bagaimana neural network dapat mengukur seberapa besar kesalahan pelatihan yang dilakukan pada data trainnya, dengan demikian model dapat meminimumkan kesalahan tersebut. Beberapa loss function pada Keras API dapat pilih tergantung pada permasalahannya\n",
    "\n",
    "<img src=\"images/keras_losses.JPG\"/>\n",
    "\n",
    "image source: https://keras.io/api/losses/\n",
    "\n",
    "Pada contoh ini permasalahannya adalah regresi karena variabel targetnya berupa variabel kontinu sehingga kita akan memilih loss function untuk regresi. Loss function yang sering digunakan pada permasalahan regresi adalah **Mean squared error (MSE)**. MSE berfungsi untuk menghitung rata-rata error kuadrat antara nilai prediksi dan nilai sebenarnya.\n",
    "<img src=\"images/mse1.png\"/>\n",
    "\n",
    "image source: https://towardsdatascience.com/deep-learning-which-loss-and-activation-functions-should-i-use-ac02f1c56aa8\n",
    "\n",
    "2. **Optimizer**: adalah algoritma untuk meminimalkan loss function dengan memperbarui bobot-bobot pada model neural network secara iteratif. terdapat bebrapa optimizer pada Keras, di antaranya sebagai berikut:\n",
    "\n",
    "<img src=\"images/keras_optimizer.JPG\"/>\n",
    "\n",
    "Dari beberapa optimizer di atas, yang paling sering digunakan adalah Adam Optimizer. Pemilihan optimizer tersebut akan mempengaruhi lamanya proses pelatihan model untuk mencapai loss function yang minimum. berikut disajikan perbandingan proses meminimalkan loss function dengan beberapa optimzer\n",
    "<img src=\"images/Keras_Optimizers-min.gif\" width=\"300\"/>\n",
    "\n",
    "image source: https://machinelearningknowledge.ai/keras-optimizers-explained-with-examples-for-beginners/\n",
    "\n",
    "3. **Metric**: adalah fungsi yang digunakan untuk menilai kinerja model yang telah dibuat. Fungsi metric mirip dengan loss function. Hanya saja tidak semua fungsi metric dapat dijadikan loss function (misal akurasi, karena kita tidak ingin meminimalkan akurasi). Sebaliknya seluruh loss function dapat dijadikan metric karena nilai loss function yang kecil dapat mengindikasi bahwa model cukup baik. Berikut metric-metric yang ada di Keras:\n",
    "<img src=\"images/keras_metric.jpg\"/>\n",
    "\n",
    "Pada contoh ini kita akan gunakan **Mean Absolute Error (MAE)** sebagai metric. MAE berfungsi untuk menghitung rata-rata selisih antara nilai prediksi dan nilai sebenarnya.\n",
    "<img src=\"images/mae.jpg\" width = \"700\"/>\n",
    "\n",
    "Untuk menambahkan compiler pada arsitektur neural network yang telah dibuat dapat dilakukan sebagai berikut:\n",
    "\n",
    "`model = Sequential()`<br>\n",
    "`model.add(Dense(32, input_dim=3, activation='sigmoid'))`<br>\n",
    "`model.add(Dropout(0.2))`<br>\n",
    "`model.compile(loss='mse', optimizer='adam', metrics=['mae'])`"
   ]
  },
  {
   "cell_type": "markdown",
   "metadata": {},
   "source": [
    "## Membuat Model Neural Network \n",
    "### 1. Import Modul"
   ]
  },
  {
   "cell_type": "code",
   "execution_count": 12,
   "metadata": {},
   "outputs": [],
   "source": [
    "from keras.models import Sequential\n",
    "from keras.layers import Dense, Dropout"
   ]
  },
  {
   "cell_type": "markdown",
   "metadata": {},
   "source": [
    "### 2. Membuat Fungsi Model Neural Network\n",
    "Dalam membuat model neural network tidak harus berupa fungsi, namun dengan membuat fungsi model neural network akan lebih mudah dalam merubah parameter-parameternya.\n",
    "\n",
    "Fungsi model neural network yang akan dibuat terdiri:\n",
    "- input layer dengan 3 feature (jumlah_ruangan, jumlah_penghuni, luas_bangunan)\n",
    "- 1 Dense hidden layer\n",
    "- Dropout antara Dense hidden layer dan Dense output layer\n",
    "- Dense output layer dengan 1 neuron (prediksi jumlah penggunaan energi)\n",
    "- loss function yang digunakan adalah Mean Squared Error (MSE)\n",
    "- optimizer yang digunakan adalah adam\n",
    "- metric yang digunakan adalah Mean Absolute Error (MAE)\n",
    "\n",
    "Parameter-parameter yang dijadikan sebagai input dari fungsi tersebut adalah:\n",
    "- neurons: banyaknya neuron pada Dense layer (default = 10)\n",
    "- activation: fungsi aktivasi yang digunakan (default = 'relu')\n",
    "- dropout: persentase dropout (default = 0.2)"
   ]
  },
  {
   "cell_type": "code",
   "execution_count": 13,
   "metadata": {},
   "outputs": [],
   "source": [
    "def create_model(neurons=10, activation='relu', dropout=0.2):\n",
    "    # create model\n",
    "    model = Sequential()\n",
    "    model.add(Dense(neurons, input_dim=3, activation=activation))\n",
    "    model.add(Dropout(dropout))\n",
    "    model.add(Dense(1))\n",
    "    # Compile model\n",
    "    model.compile(loss='mse', optimizer='adam', metrics=['mae'])\n",
    "    return model"
   ]
  },
  {
   "cell_type": "markdown",
   "metadata": {},
   "source": [
    "### 3. Membuat Model\n",
    "\n",
    "Misalkan kita akan membuat model dengan parameter-parameter input sebagai berikut:\n",
    "- neuron = 32\n",
    "- activation = 'sigmoid'\n",
    "- dropout = 0.1\n",
    "\n",
    "Maka kita dapat membuat model neural network sebagai berikut:\n",
    "\n",
    "`model = create_model(32,'sigmoid',0.1)`\n",
    "\n",
    "Atau jika ingin membuat model dengan input default:\n",
    "\n",
    "`model = create_model()`\n",
    "\n",
    "Kita dapat melihat arsitektur model yang kita buat dengan cara berikut:\n",
    "\n",
    "`model.summary()`"
   ]
  },
  {
   "cell_type": "code",
   "execution_count": 14,
   "metadata": {},
   "outputs": [
    {
     "name": "stdout",
     "output_type": "stream",
     "text": [
      "Model: \"sequential\"\n",
      "_________________________________________________________________\n",
      "Layer (type)                 Output Shape              Param #   \n",
      "=================================================================\n",
      "dense (Dense)                (None, 32)                128       \n",
      "_________________________________________________________________\n",
      "dropout (Dropout)            (None, 32)                0         \n",
      "_________________________________________________________________\n",
      "dense_1 (Dense)              (None, 1)                 33        \n",
      "=================================================================\n",
      "Total params: 161\n",
      "Trainable params: 161\n",
      "Non-trainable params: 0\n",
      "_________________________________________________________________\n"
     ]
    }
   ],
   "source": [
    "model = create_model(32,'sigmoid',0.1)\n",
    "model.summary()"
   ]
  },
  {
   "cell_type": "markdown",
   "metadata": {},
   "source": [
    "### 4. Training Model\n",
    "Training model dapat dilakukan sebagai berkut:\n",
    "\n",
    "`history = model.fit(X_train_scaled,y_train_scaled, batch_size=32, epochs=100, validation_split=0.1, verbose=2)`\n",
    "\n",
    "Perhatikan parameter epochs dan batch_size\n",
    "\n",
    "<img src=\"images/epoch_batch_size.jpeg\" width= \"400\"/>\n",
    "\n",
    "image source: https://jerryan.medium.com/batch-size-a15958708a6\n",
    "\n",
    "Stochastic Gradient Descent, Clearly Explained!!!: https://www.youtube.com/watch?v=vMh0zPT0tLI\n",
    "\n",
    "\n",
    "**Parameter-parameter model.fit()**\n",
    "- bacth_size: adalah banyaknya sampel pada satu kali training yang digunakan untuk memperbarui seluruh bobot\n",
    "- epochs: adalah banyaknya proses training dengan seluruh sampel.\n",
    "- validation_split: adalah persentase data yang digunakan sebagai data validasi\n",
    "- verbose: adalah opsi untuk menampilkan proses training (0 = silent, 1 = progress bar, 2 = one line per epoch)"
   ]
  },
  {
   "cell_type": "code",
   "execution_count": 15,
   "metadata": {},
   "outputs": [
    {
     "name": "stdout",
     "output_type": "stream",
     "text": [
      "Epoch 1/100\n",
      "12/12 - 3s - loss: 0.4326 - mae: 0.5811 - val_loss: 0.2252 - val_mae: 0.4257\n",
      "Epoch 2/100\n",
      "12/12 - 0s - loss: 0.2191 - mae: 0.3844 - val_loss: 0.0917 - val_mae: 0.2223\n",
      "Epoch 3/100\n",
      "12/12 - 0s - loss: 0.1168 - mae: 0.2630 - val_loss: 0.0527 - val_mae: 0.1620\n",
      "Epoch 4/100\n",
      "12/12 - 0s - loss: 0.0916 - mae: 0.2342 - val_loss: 0.0492 - val_mae: 0.1670\n",
      "Epoch 5/100\n",
      "12/12 - 0s - loss: 0.0960 - mae: 0.2431 - val_loss: 0.0503 - val_mae: 0.1769\n",
      "Epoch 6/100\n",
      "12/12 - 0s - loss: 0.0933 - mae: 0.2424 - val_loss: 0.0480 - val_mae: 0.1660\n",
      "Epoch 7/100\n",
      "12/12 - 0s - loss: 0.0880 - mae: 0.2320 - val_loss: 0.0467 - val_mae: 0.1595\n",
      "Epoch 8/100\n",
      "12/12 - 0s - loss: 0.0909 - mae: 0.2357 - val_loss: 0.0460 - val_mae: 0.1561\n",
      "Epoch 9/100\n",
      "12/12 - 0s - loss: 0.0935 - mae: 0.2453 - val_loss: 0.0452 - val_mae: 0.1562\n",
      "Epoch 10/100\n",
      "12/12 - 0s - loss: 0.1007 - mae: 0.2468 - val_loss: 0.0444 - val_mae: 0.1567\n",
      "Epoch 11/100\n",
      "12/12 - 0s - loss: 0.0977 - mae: 0.2390 - val_loss: 0.0436 - val_mae: 0.1552\n",
      "Epoch 12/100\n",
      "12/12 - 0s - loss: 0.0930 - mae: 0.2385 - val_loss: 0.0429 - val_mae: 0.1569\n",
      "Epoch 13/100\n",
      "12/12 - 0s - loss: 0.0792 - mae: 0.2196 - val_loss: 0.0420 - val_mae: 0.1546\n",
      "Epoch 14/100\n",
      "12/12 - 0s - loss: 0.0962 - mae: 0.2412 - val_loss: 0.0412 - val_mae: 0.1520\n",
      "Epoch 15/100\n",
      "12/12 - 0s - loss: 0.0873 - mae: 0.2291 - val_loss: 0.0406 - val_mae: 0.1568\n",
      "Epoch 16/100\n",
      "12/12 - 0s - loss: 0.0852 - mae: 0.2282 - val_loss: 0.0403 - val_mae: 0.1602\n",
      "Epoch 17/100\n",
      "12/12 - 0s - loss: 0.0860 - mae: 0.2252 - val_loss: 0.0396 - val_mae: 0.1596\n",
      "Epoch 18/100\n",
      "12/12 - 0s - loss: 0.0827 - mae: 0.2251 - val_loss: 0.0383 - val_mae: 0.1524\n",
      "Epoch 19/100\n",
      "12/12 - 0s - loss: 0.0834 - mae: 0.2242 - val_loss: 0.0381 - val_mae: 0.1554\n",
      "Epoch 20/100\n",
      "12/12 - 0s - loss: 0.0789 - mae: 0.2234 - val_loss: 0.0372 - val_mae: 0.1504\n",
      "Epoch 21/100\n",
      "12/12 - 0s - loss: 0.0865 - mae: 0.2217 - val_loss: 0.0367 - val_mae: 0.1473\n",
      "Epoch 22/100\n",
      "12/12 - 0s - loss: 0.0847 - mae: 0.2216 - val_loss: 0.0362 - val_mae: 0.1484\n",
      "Epoch 23/100\n",
      "12/12 - 0s - loss: 0.0845 - mae: 0.2266 - val_loss: 0.0363 - val_mae: 0.1545\n",
      "Epoch 24/100\n",
      "12/12 - 0s - loss: 0.0867 - mae: 0.2258 - val_loss: 0.0355 - val_mae: 0.1509\n",
      "Epoch 25/100\n",
      "12/12 - 0s - loss: 0.0795 - mae: 0.2183 - val_loss: 0.0349 - val_mae: 0.1475\n",
      "Epoch 26/100\n",
      "12/12 - 0s - loss: 0.0752 - mae: 0.2136 - val_loss: 0.0346 - val_mae: 0.1480\n",
      "Epoch 27/100\n",
      "12/12 - 0s - loss: 0.0667 - mae: 0.2038 - val_loss: 0.0341 - val_mae: 0.1410\n",
      "Epoch 28/100\n",
      "12/12 - 0s - loss: 0.0579 - mae: 0.1875 - val_loss: 0.0338 - val_mae: 0.1413\n",
      "Epoch 29/100\n",
      "12/12 - 0s - loss: 0.0661 - mae: 0.1978 - val_loss: 0.0336 - val_mae: 0.1423\n",
      "Epoch 30/100\n",
      "12/12 - 0s - loss: 0.0755 - mae: 0.2095 - val_loss: 0.0335 - val_mae: 0.1413\n",
      "Epoch 31/100\n",
      "12/12 - 0s - loss: 0.0727 - mae: 0.2034 - val_loss: 0.0332 - val_mae: 0.1442\n",
      "Epoch 32/100\n",
      "12/12 - 0s - loss: 0.0703 - mae: 0.2086 - val_loss: 0.0332 - val_mae: 0.1475\n",
      "Epoch 33/100\n",
      "12/12 - 0s - loss: 0.0675 - mae: 0.1957 - val_loss: 0.0328 - val_mae: 0.1439\n",
      "Epoch 34/100\n",
      "12/12 - 0s - loss: 0.0815 - mae: 0.2200 - val_loss: 0.0325 - val_mae: 0.1363\n",
      "Epoch 35/100\n",
      "12/12 - 0s - loss: 0.0730 - mae: 0.2057 - val_loss: 0.0322 - val_mae: 0.1378\n",
      "Epoch 36/100\n",
      "12/12 - 0s - loss: 0.0651 - mae: 0.1975 - val_loss: 0.0319 - val_mae: 0.1390\n",
      "Epoch 37/100\n",
      "12/12 - 0s - loss: 0.0577 - mae: 0.1834 - val_loss: 0.0318 - val_mae: 0.1385\n",
      "Epoch 38/100\n",
      "12/12 - 0s - loss: 0.0715 - mae: 0.2036 - val_loss: 0.0316 - val_mae: 0.1352\n",
      "Epoch 39/100\n",
      "12/12 - 0s - loss: 0.0684 - mae: 0.2009 - val_loss: 0.0315 - val_mae: 0.1423\n",
      "Epoch 40/100\n",
      "12/12 - 0s - loss: 0.0628 - mae: 0.1961 - val_loss: 0.0316 - val_mae: 0.1447\n",
      "Epoch 41/100\n",
      "12/12 - 0s - loss: 0.0629 - mae: 0.1934 - val_loss: 0.0310 - val_mae: 0.1399\n",
      "Epoch 42/100\n",
      "12/12 - 0s - loss: 0.0612 - mae: 0.1952 - val_loss: 0.0309 - val_mae: 0.1404\n",
      "Epoch 43/100\n",
      "12/12 - 0s - loss: 0.0540 - mae: 0.1801 - val_loss: 0.0306 - val_mae: 0.1375\n",
      "Epoch 44/100\n",
      "12/12 - 0s - loss: 0.0656 - mae: 0.1998 - val_loss: 0.0305 - val_mae: 0.1318\n",
      "Epoch 45/100\n",
      "12/12 - 0s - loss: 0.0650 - mae: 0.1944 - val_loss: 0.0302 - val_mae: 0.1367\n",
      "Epoch 46/100\n",
      "12/12 - 0s - loss: 0.0606 - mae: 0.1907 - val_loss: 0.0301 - val_mae: 0.1362\n",
      "Epoch 47/100\n",
      "12/12 - 0s - loss: 0.0581 - mae: 0.1841 - val_loss: 0.0299 - val_mae: 0.1353\n",
      "Epoch 48/100\n",
      "12/12 - 0s - loss: 0.0683 - mae: 0.2020 - val_loss: 0.0299 - val_mae: 0.1411\n",
      "Epoch 49/100\n",
      "12/12 - 0s - loss: 0.0555 - mae: 0.1829 - val_loss: 0.0295 - val_mae: 0.1371\n",
      "Epoch 50/100\n",
      "12/12 - 0s - loss: 0.0607 - mae: 0.1908 - val_loss: 0.0294 - val_mae: 0.1297\n",
      "Epoch 51/100\n",
      "12/12 - 0s - loss: 0.0541 - mae: 0.1825 - val_loss: 0.0293 - val_mae: 0.1363\n",
      "Epoch 52/100\n",
      "12/12 - 0s - loss: 0.0554 - mae: 0.1848 - val_loss: 0.0298 - val_mae: 0.1432\n",
      "Epoch 53/100\n",
      "12/12 - 0s - loss: 0.0536 - mae: 0.1826 - val_loss: 0.0290 - val_mae: 0.1365\n",
      "Epoch 54/100\n",
      "12/12 - 0s - loss: 0.0578 - mae: 0.1851 - val_loss: 0.0294 - val_mae: 0.1414\n",
      "Epoch 55/100\n",
      "12/12 - 0s - loss: 0.0600 - mae: 0.1859 - val_loss: 0.0288 - val_mae: 0.1357\n",
      "Epoch 56/100\n",
      "12/12 - 0s - loss: 0.0522 - mae: 0.1761 - val_loss: 0.0287 - val_mae: 0.1280\n",
      "Epoch 57/100\n",
      "12/12 - 0s - loss: 0.0461 - mae: 0.1595 - val_loss: 0.0287 - val_mae: 0.1355\n",
      "Epoch 58/100\n",
      "12/12 - 0s - loss: 0.0521 - mae: 0.1804 - val_loss: 0.0299 - val_mae: 0.1456\n",
      "Epoch 59/100\n",
      "12/12 - 0s - loss: 0.0505 - mae: 0.1720 - val_loss: 0.0285 - val_mae: 0.1346\n",
      "Epoch 60/100\n",
      "12/12 - 0s - loss: 0.0521 - mae: 0.1713 - val_loss: 0.0289 - val_mae: 0.1228\n",
      "Epoch 61/100\n",
      "12/12 - 0s - loss: 0.0527 - mae: 0.1755 - val_loss: 0.0283 - val_mae: 0.1313\n",
      "Epoch 62/100\n",
      "12/12 - 0s - loss: 0.0510 - mae: 0.1737 - val_loss: 0.0284 - val_mae: 0.1350\n",
      "Epoch 63/100\n",
      "12/12 - 0s - loss: 0.0463 - mae: 0.1720 - val_loss: 0.0283 - val_mae: 0.1340\n",
      "Epoch 64/100\n",
      "12/12 - 0s - loss: 0.0513 - mae: 0.1789 - val_loss: 0.0282 - val_mae: 0.1312\n",
      "Epoch 65/100\n",
      "12/12 - 0s - loss: 0.0521 - mae: 0.1733 - val_loss: 0.0282 - val_mae: 0.1307\n",
      "Epoch 66/100\n",
      "12/12 - 0s - loss: 0.0467 - mae: 0.1651 - val_loss: 0.0282 - val_mae: 0.1276\n",
      "Epoch 67/100\n",
      "12/12 - 0s - loss: 0.0445 - mae: 0.1640 - val_loss: 0.0283 - val_mae: 0.1350\n",
      "Epoch 68/100\n",
      "12/12 - 0s - loss: 0.0429 - mae: 0.1638 - val_loss: 0.0279 - val_mae: 0.1301\n",
      "Epoch 69/100\n",
      "12/12 - 0s - loss: 0.0512 - mae: 0.1742 - val_loss: 0.0278 - val_mae: 0.1295\n",
      "Epoch 70/100\n",
      "12/12 - 0s - loss: 0.0401 - mae: 0.1597 - val_loss: 0.0278 - val_mae: 0.1321\n",
      "Epoch 71/100\n",
      "12/12 - 0s - loss: 0.0457 - mae: 0.1650 - val_loss: 0.0278 - val_mae: 0.1322\n",
      "Epoch 72/100\n",
      "12/12 - 0s - loss: 0.0455 - mae: 0.1639 - val_loss: 0.0278 - val_mae: 0.1330\n",
      "Epoch 73/100\n",
      "12/12 - 0s - loss: 0.0469 - mae: 0.1678 - val_loss: 0.0276 - val_mae: 0.1314\n",
      "Epoch 74/100\n",
      "12/12 - 0s - loss: 0.0457 - mae: 0.1640 - val_loss: 0.0275 - val_mae: 0.1293\n",
      "Epoch 75/100\n",
      "12/12 - 0s - loss: 0.0471 - mae: 0.1696 - val_loss: 0.0274 - val_mae: 0.1273\n",
      "Epoch 76/100\n",
      "12/12 - 0s - loss: 0.0461 - mae: 0.1640 - val_loss: 0.0276 - val_mae: 0.1329\n",
      "Epoch 77/100\n",
      "12/12 - 0s - loss: 0.0452 - mae: 0.1670 - val_loss: 0.0275 - val_mae: 0.1244\n",
      "Epoch 78/100\n",
      "12/12 - 0s - loss: 0.0388 - mae: 0.1517 - val_loss: 0.0273 - val_mae: 0.1302\n",
      "Epoch 79/100\n",
      "12/12 - 0s - loss: 0.0451 - mae: 0.1665 - val_loss: 0.0273 - val_mae: 0.1311\n",
      "Epoch 80/100\n",
      "12/12 - 0s - loss: 0.0414 - mae: 0.1568 - val_loss: 0.0273 - val_mae: 0.1327\n",
      "Epoch 81/100\n",
      "12/12 - 0s - loss: 0.0432 - mae: 0.1575 - val_loss: 0.0272 - val_mae: 0.1312\n",
      "Epoch 82/100\n",
      "12/12 - 0s - loss: 0.0417 - mae: 0.1552 - val_loss: 0.0271 - val_mae: 0.1295\n",
      "Epoch 83/100\n",
      "12/12 - 0s - loss: 0.0427 - mae: 0.1505 - val_loss: 0.0271 - val_mae: 0.1262\n",
      "Epoch 84/100\n",
      "12/12 - 0s - loss: 0.0448 - mae: 0.1625 - val_loss: 0.0272 - val_mae: 0.1313\n",
      "Epoch 85/100\n",
      "12/12 - 0s - loss: 0.0447 - mae: 0.1603 - val_loss: 0.0273 - val_mae: 0.1319\n",
      "Epoch 86/100\n",
      "12/12 - 0s - loss: 0.0396 - mae: 0.1554 - val_loss: 0.0271 - val_mae: 0.1246\n",
      "Epoch 87/100\n",
      "12/12 - 0s - loss: 0.0378 - mae: 0.1442 - val_loss: 0.0271 - val_mae: 0.1253\n",
      "Epoch 88/100\n",
      "12/12 - 0s - loss: 0.0383 - mae: 0.1472 - val_loss: 0.0274 - val_mae: 0.1329\n",
      "Epoch 89/100\n",
      "12/12 - 0s - loss: 0.0460 - mae: 0.1617 - val_loss: 0.0271 - val_mae: 0.1278\n",
      "Epoch 90/100\n",
      "12/12 - 0s - loss: 0.0410 - mae: 0.1543 - val_loss: 0.0272 - val_mae: 0.1245\n",
      "Epoch 91/100\n",
      "12/12 - 0s - loss: 0.0347 - mae: 0.1404 - val_loss: 0.0271 - val_mae: 0.1279\n",
      "Epoch 92/100\n"
     ]
    },
    {
     "name": "stdout",
     "output_type": "stream",
     "text": [
      "12/12 - 0s - loss: 0.0413 - mae: 0.1565 - val_loss: 0.0271 - val_mae: 0.1273\n",
      "Epoch 93/100\n",
      "12/12 - 0s - loss: 0.0429 - mae: 0.1568 - val_loss: 0.0274 - val_mae: 0.1202\n",
      "Epoch 94/100\n",
      "12/12 - 0s - loss: 0.0361 - mae: 0.1476 - val_loss: 0.0270 - val_mae: 0.1268\n",
      "Epoch 95/100\n",
      "12/12 - 0s - loss: 0.0406 - mae: 0.1558 - val_loss: 0.0270 - val_mae: 0.1286\n",
      "Epoch 96/100\n",
      "12/12 - 0s - loss: 0.0360 - mae: 0.1469 - val_loss: 0.0274 - val_mae: 0.1336\n",
      "Epoch 97/100\n",
      "12/12 - 0s - loss: 0.0422 - mae: 0.1584 - val_loss: 0.0273 - val_mae: 0.1331\n",
      "Epoch 98/100\n",
      "12/12 - 0s - loss: 0.0372 - mae: 0.1480 - val_loss: 0.0276 - val_mae: 0.1355\n",
      "Epoch 99/100\n",
      "12/12 - 0s - loss: 0.0351 - mae: 0.1426 - val_loss: 0.0269 - val_mae: 0.1262\n",
      "Epoch 100/100\n",
      "12/12 - 0s - loss: 0.0345 - mae: 0.1398 - val_loss: 0.0269 - val_mae: 0.1269\n"
     ]
    }
   ],
   "source": [
    "# fit model\n",
    "\n",
    "history = model.fit(X_train_scaled,y_train_scaled, epochs=100, batch_size=32, validation_split=0.1, verbose=2)"
   ]
  },
  {
   "cell_type": "markdown",
   "metadata": {},
   "source": [
    "Kita dapat melihat grafik loss function MSE dan metric MAE terhadap epoch untuk melihat performa model kita dengan cara sebagai berikut"
   ]
  },
  {
   "cell_type": "code",
   "execution_count": 16,
   "metadata": {},
   "outputs": [
    {
     "data": {
      "text/plain": [
       "<matplotlib.legend.Legend at 0x12e156efd48>"
      ]
     },
     "execution_count": 16,
     "metadata": {},
     "output_type": "execute_result"
    },
    {
     "data": {
      "image/png": "[encoded data removed]",
      "text/plain": [
       "<Figure size 432x288 with 1 Axes>"
      ]
     },
     "metadata": {},
     "output_type": "display_data"
    }
   ],
   "source": [
    "# grafik loss function MSE\n",
    "\n",
    "plt.plot(history.history['loss'], label='Training loss')\n",
    "plt.plot(history.history['val_loss'], label='Validation loss')\n",
    "plt.title('loss function MSE')\n",
    "plt.ylabel('MSE')\n",
    "plt.xlabel('Epoch')\n",
    "plt.legend()"
   ]
  },
  {
   "cell_type": "code",
   "execution_count": 17,
   "metadata": {},
   "outputs": [
    {
     "data": {
      "text/plain": [
       "<matplotlib.legend.Legend at 0x12e1567ea88>"
      ]
     },
     "execution_count": 17,
     "metadata": {},
     "output_type": "execute_result"
    },
    {
     "data": {
      "image/png": "[encoded data removed]",
      "text/plain": [
       "<Figure size 432x288 with 1 Axes>"
      ]
     },
     "metadata": {},
     "output_type": "display_data"
    }
   ],
   "source": [
    "# grafik metric MAE\n",
    "\n",
    "plt.plot(history.history['mae'], label='Training MAE')\n",
    "plt.plot(history.history['val_mae'], label='Validation MAE')\n",
    "plt.title('metric MAE')\n",
    "plt.ylabel('MAE')\n",
    "plt.xlabel('Epoch')\n",
    "plt.legend()"
   ]
  },
  {
   "cell_type": "markdown",
   "metadata": {},
   "source": [
    "**Perhatikan kedua grafik di atas**. Kita dapat lihat kurang lebih pada epoch ke 40 nilai loss function dan metric sudah cukup stabil. sehingga sebenarnya kita cukup menentukan **epochs = 40**"
   ]
  },
  {
   "cell_type": "markdown",
   "metadata": {},
   "source": [
    "## Early Stopping\n",
    "\n",
    "**Bagaimana menentukan nilai epochs?**\n",
    "\n",
    "### Perhatikan gambar berikut!\n",
    "\n",
    "<img src=\"images/Early-stopping-method.png\" width=\"600\"/>\n",
    "\n",
    "- Training seharusnya dihentikan saat epoch berada pada garis optimal seperti gambar di atas. Yaitu ketika nilai loss function pada data validasi mulai naik (sebelum terjadi overfitting) ataupun bisa juga ketika nilainya cukup stabil seperti pada kasus model kita.\n",
    "- Hal tersebut dapat dilakukan dengan menambahkan Early Stopping yang memiliki parameter sebagai berikut:\n",
    "1. monitor: nilai yang diamati, biasanya adalah nilai loss function pada data validasi (bisa juga metric validasi)\n",
    "2. mode: terdapat 3 mode yaitu \"min\" (training berhenti ketika nilai yang diamati berhenti turun), \"max\" (training berhenti ketika nilai yang diamati berhenti naik), dan \"auto\"\n",
    "3. min_delta: besarnya selisih mutlak yang tidak dianggap mengalami perbaikan (naik/turun)\n",
    "4. patience: banyaknya epoch setelah nilai yang diamati tidak mengalami perbaikan\n",
    "5. verbose: adalah opsi untuk menampilkan epoch ke berapa saat proses training berhenti (0 = silent, 1 = display)\n",
    "\n",
    "**Mari kita coba membuat model menggunakan Early Stopping dengan parameter-parameter berikut**\n",
    "- monitor = 'val_loss' (nilai yang diamati adalah loss function pada data validasi)\n",
    "- mode = \"min\" (mode \"min\" karena kita mengharapkan val_loss selalu turun)\n",
    "- min_delta = 0.01 (ketika val_loss turun kurang dari 0.01 dianggap tidak terjadi penurunan, maka training berhenti)\n",
    "- patience = 10 (ketika tidak terjadi penurunan, maka training berhenti setelah 10 epoch lagi dilakukan)\n",
    "- verbose = 1 (menampilkan epoch ke berapa saat proses training berhenti)"
   ]
  },
  {
   "cell_type": "code",
   "execution_count": 18,
   "metadata": {
    "scrolled": true
   },
   "outputs": [
    {
     "name": "stdout",
     "output_type": "stream",
     "text": [
      "Epoch 1/100\n",
      "12/12 - 1s - loss: 1.1868 - mae: 1.0387 - val_loss: 0.8217 - val_mae: 0.8772\n",
      "Epoch 2/100\n",
      "12/12 - 0s - loss: 0.7357 - mae: 0.7905 - val_loss: 0.4747 - val_mae: 0.6466\n",
      "Epoch 3/100\n",
      "12/12 - 0s - loss: 0.4205 - mae: 0.5784 - val_loss: 0.2595 - val_mae: 0.4457\n",
      "Epoch 4/100\n",
      "12/12 - 0s - loss: 0.2483 - mae: 0.4097 - val_loss: 0.1434 - val_mae: 0.3074\n",
      "Epoch 5/100\n",
      "12/12 - 0s - loss: 0.1624 - mae: 0.3220 - val_loss: 0.0921 - val_mae: 0.2321\n",
      "Epoch 6/100\n",
      "12/12 - 0s - loss: 0.1244 - mae: 0.2743 - val_loss: 0.0734 - val_mae: 0.1979\n",
      "Epoch 7/100\n",
      "12/12 - 0s - loss: 0.1255 - mae: 0.2769 - val_loss: 0.0688 - val_mae: 0.1905\n",
      "Epoch 8/100\n",
      "12/12 - 0s - loss: 0.1148 - mae: 0.2724 - val_loss: 0.0679 - val_mae: 0.1891\n",
      "Epoch 9/100\n",
      "12/12 - 0s - loss: 0.1084 - mae: 0.2627 - val_loss: 0.0669 - val_mae: 0.1882\n",
      "Epoch 10/100\n",
      "12/12 - 0s - loss: 0.1048 - mae: 0.2521 - val_loss: 0.0659 - val_mae: 0.1870\n",
      "Epoch 11/100\n",
      "12/12 - 0s - loss: 0.1153 - mae: 0.2630 - val_loss: 0.0643 - val_mae: 0.1845\n",
      "Epoch 12/100\n",
      "12/12 - 0s - loss: 0.1111 - mae: 0.2640 - val_loss: 0.0624 - val_mae: 0.1803\n",
      "Epoch 13/100\n",
      "12/12 - 0s - loss: 0.0974 - mae: 0.2408 - val_loss: 0.0607 - val_mae: 0.1764\n",
      "Epoch 14/100\n",
      "12/12 - 0s - loss: 0.0965 - mae: 0.2487 - val_loss: 0.0595 - val_mae: 0.1744\n",
      "Epoch 15/100\n",
      "12/12 - 0s - loss: 0.1079 - mae: 0.2521 - val_loss: 0.0583 - val_mae: 0.1735\n",
      "Epoch 16/100\n",
      "12/12 - 0s - loss: 0.0898 - mae: 0.2386 - val_loss: 0.0570 - val_mae: 0.1712\n",
      "Epoch 17/100\n",
      "12/12 - 0s - loss: 0.0806 - mae: 0.2214 - val_loss: 0.0557 - val_mae: 0.1693\n",
      "Epoch 18/100\n",
      "12/12 - 0s - loss: 0.0979 - mae: 0.2399 - val_loss: 0.0544 - val_mae: 0.1667\n",
      "Epoch 19/100\n",
      "12/12 - 0s - loss: 0.0985 - mae: 0.2447 - val_loss: 0.0530 - val_mae: 0.1640\n",
      "Epoch 20/100\n",
      "12/12 - 0s - loss: 0.0827 - mae: 0.2268 - val_loss: 0.0519 - val_mae: 0.1623\n",
      "Epoch 21/100\n",
      "12/12 - 0s - loss: 0.1057 - mae: 0.2526 - val_loss: 0.0509 - val_mae: 0.1610\n",
      "Epoch 22/100\n",
      "12/12 - 0s - loss: 0.0914 - mae: 0.2348 - val_loss: 0.0500 - val_mae: 0.1590\n",
      "Epoch 23/100\n",
      "12/12 - 0s - loss: 0.0918 - mae: 0.2379 - val_loss: 0.0489 - val_mae: 0.1577\n",
      "Epoch 24/100\n",
      "12/12 - 0s - loss: 0.0920 - mae: 0.2355 - val_loss: 0.0479 - val_mae: 0.1562\n",
      "Epoch 25/100\n",
      "12/12 - 0s - loss: 0.0881 - mae: 0.2287 - val_loss: 0.0472 - val_mae: 0.1581\n",
      "Epoch 26/100\n",
      "12/12 - 0s - loss: 0.0942 - mae: 0.2400 - val_loss: 0.0466 - val_mae: 0.1605\n",
      "Epoch 27/100\n",
      "12/12 - 0s - loss: 0.0888 - mae: 0.2330 - val_loss: 0.0459 - val_mae: 0.1619\n",
      "Epoch 28/100\n",
      "12/12 - 0s - loss: 0.0813 - mae: 0.2235 - val_loss: 0.0455 - val_mae: 0.1639\n",
      "Epoch 29/100\n",
      "12/12 - 0s - loss: 0.0785 - mae: 0.2220 - val_loss: 0.0441 - val_mae: 0.1570\n",
      "Epoch 30/100\n",
      "12/12 - 0s - loss: 0.0803 - mae: 0.2188 - val_loss: 0.0435 - val_mae: 0.1573\n",
      "Epoch 00030: early stopping\n"
     ]
    }
   ],
   "source": [
    "# Create model\n",
    "model = create_model(32,'sigmoid',0.1)\n",
    "\n",
    "# Early Stopping\n",
    "from keras.callbacks import EarlyStopping\n",
    "es = EarlyStopping(monitor = 'val_loss', mode = \"min\", min_delta = 0.01, patience = 10, verbose = 1)\n",
    "\n",
    "# fit model\n",
    "history = model.fit(X_train_scaled,y_train_scaled,\n",
    "                    epochs=100, batch_size=32,\n",
    "                    validation_split=0.1, callbacks = [es],\n",
    "                    verbose=2)"
   ]
  },
  {
   "cell_type": "code",
   "execution_count": 19,
   "metadata": {},
   "outputs": [
    {
     "data": {
      "text/plain": [
       "<matplotlib.legend.Legend at 0x12e3ad53448>"
      ]
     },
     "execution_count": 19,
     "metadata": {},
     "output_type": "execute_result"
    },
    {
     "data": {
      "image/png": "[encoded data removed]",
      "text/plain": [
       "<Figure size 432x288 with 1 Axes>"
      ]
     },
     "metadata": {},
     "output_type": "display_data"
    }
   ],
   "source": [
    "# grafik loss function MSE\n",
    "\n",
    "plt.plot(history.history['loss'], label='Training loss')\n",
    "plt.plot(history.history['val_loss'], label='Validation loss')\n",
    "plt.title('loss function MSE')\n",
    "plt.ylabel('MSE')\n",
    "plt.xlabel('Epoch')\n",
    "plt.legend()"
   ]
  },
  {
   "cell_type": "markdown",
   "metadata": {},
   "source": [
    "## Perhatikan Grafik di Atas!!!\n",
    "Walaupun kita menetapkan epoch = 100, proses training terhenti pada epoch ke 15 karena kita menggunakan **Early Stopping**"
   ]
  },
  {
   "cell_type": "markdown",
   "metadata": {},
   "source": [
    "### 5. Evaluasi Model dengan Data Test\n",
    "\n",
    "- Sebelum melakukan evaluasi model dengan data test, kita akan melakukan prediksi pada data test dengan cara berikut:\n",
    "\n",
    "`y_pred = model.predict(X_test_scaled)`\n",
    "\n",
    "- Karena nilai prediksi di atas masih dalam scala MinMaxScaler (scaler2), maka kita perlu membalikkannya menggunakan fungsi inverse_transform() sebagai berikut:\n",
    "\n",
    "`y_pred = scaler2.inverse_transform(y_pred)`"
   ]
  },
  {
   "cell_type": "code",
   "execution_count": 20,
   "metadata": {},
   "outputs": [],
   "source": [
    "y_pred = model.predict(X_test_scaled)\n",
    "y_pred = scaler2.inverse_transform(y_pred)"
   ]
  },
  {
   "cell_type": "markdown",
   "metadata": {},
   "source": [
    "- Setelah melakukan prediksi barulah kita melakukan evaluasi terhadap nilai prediksi tersebut menggunakan metric yang digunakan yaitu MAE"
   ]
  },
  {
   "cell_type": "code",
   "execution_count": 21,
   "metadata": {},
   "outputs": [
    {
     "name": "stdout",
     "output_type": "stream",
     "text": [
      "MAE data test sebesar: 5.791603111040475\n"
     ]
    }
   ],
   "source": [
    "# Mean Absolute Error (MAE) test data\n",
    "mae = np.mean(np.abs(y_test-y_pred))\n",
    "print('MAE data test sebesar:', mae)"
   ]
  },
  {
   "cell_type": "markdown",
   "metadata": {},
   "source": [
    "## Apakah Nilai MAE Tersebut Bagus???"
   ]
  },
  {
   "cell_type": "markdown",
   "metadata": {},
   "source": [
    "**Melihat boxplot dari nilai error mutlak**"
   ]
  },
  {
   "cell_type": "code",
   "execution_count": 22,
   "metadata": {},
   "outputs": [
    {
     "data": {
      "text/plain": [
       "<AxesSubplot:>"
      ]
     },
     "execution_count": 22,
     "metadata": {},
     "output_type": "execute_result"
    },
    {
     "data": {
      "image/png": "[encoded data removed]",
      "text/plain": [
       "<Figure size 432x288 with 1 Axes>"
      ]
     },
     "metadata": {},
     "output_type": "display_data"
    }
   ],
   "source": [
    "abs_error = np.abs(y_test-y_pred)\n",
    "\n",
    "sns.boxplot(y = abs_error)"
   ]
  },
  {
   "cell_type": "markdown",
   "metadata": {},
   "source": [
    "**Melihat range data test**"
   ]
  },
  {
   "cell_type": "code",
   "execution_count": 23,
   "metadata": {},
   "outputs": [
    {
     "name": "stdout",
     "output_type": "stream",
     "text": [
      "minimum y_test 8.3\n",
      "maksimum y_test 50.0\n"
     ]
    }
   ],
   "source": [
    "print('minimum y_test', y_test.min())\n",
    "print('maksimum y_test', y_test.max())"
   ]
  },
  {
   "cell_type": "markdown",
   "metadata": {},
   "source": [
    "# <center><font color=\"blue\">TensorBoard</font></center> \n",
    "\n",
    "- Dalam machine learning, untuk meningkatkan suatu model kita sering kali harus bisa mengukurnya. \n",
    "- TensorBoard adalah alat yang menyediakan pengukuran dan visualisasi yang diperlukan dalam proses kerja machine learning.\n",
    "- Hal ini memungkinkan untuk mengamati eksperimen yang dilakukan seperti loss function dan metric evaluation, memvisualisasikan graf model, memproyeksikan embeddings ke ruang dimensi yang lebih rendah, dan banyak lagi.\n",
    "- link :https://www.tensorflow.org/tensorboard/get_started\n",
    "\n",
    "Untuk menggunakan TensorBoard pada model neural network, dapat dilakukan dengan cara berikut"
   ]
  },
  {
   "cell_type": "code",
   "execution_count": 24,
   "metadata": {},
   "outputs": [],
   "source": [
    "# Load the TensorBoard notebook extension\n",
    "%load_ext tensorboard\n",
    "\n",
    "from tensorflow.keras.callbacks import TensorBoard\n",
    "import datetime, os"
   ]
  },
  {
   "cell_type": "code",
   "execution_count": 25,
   "metadata": {},
   "outputs": [
    {
     "name": "stdout",
     "output_type": "stream",
     "text": [
      "Epoch 1/100\n",
      "12/12 - 1s - loss: 0.5528 - mae: 0.6929 - val_loss: 0.3510 - val_mae: 0.5572\n",
      "Epoch 2/100\n",
      "12/12 - 0s - loss: 0.2831 - mae: 0.4719 - val_loss: 0.1581 - val_mae: 0.3709\n",
      "Epoch 3/100\n",
      "12/12 - 0s - loss: 0.1491 - mae: 0.3272 - val_loss: 0.0691 - val_mae: 0.2406\n",
      "Epoch 4/100\n",
      "12/12 - 0s - loss: 0.0950 - mae: 0.2404 - val_loss: 0.0406 - val_mae: 0.1706\n",
      "Epoch 5/100\n",
      "12/12 - 0s - loss: 0.0632 - mae: 0.1994 - val_loss: 0.0364 - val_mae: 0.1432\n",
      "Epoch 6/100\n",
      "12/12 - 0s - loss: 0.0748 - mae: 0.2111 - val_loss: 0.0363 - val_mae: 0.1385\n",
      "Epoch 7/100\n",
      "12/12 - 0s - loss: 0.0664 - mae: 0.2044 - val_loss: 0.0359 - val_mae: 0.1418\n",
      "Epoch 8/100\n",
      "12/12 - 0s - loss: 0.0687 - mae: 0.2028 - val_loss: 0.0357 - val_mae: 0.1432\n",
      "Epoch 9/100\n",
      "12/12 - 0s - loss: 0.0685 - mae: 0.2047 - val_loss: 0.0358 - val_mae: 0.1478\n",
      "Epoch 10/100\n",
      "12/12 - 0s - loss: 0.0781 - mae: 0.2103 - val_loss: 0.0354 - val_mae: 0.1467\n",
      "Epoch 11/100\n",
      "12/12 - 0s - loss: 0.0730 - mae: 0.2115 - val_loss: 0.0353 - val_mae: 0.1474\n",
      "Epoch 12/100\n",
      "12/12 - 0s - loss: 0.0657 - mae: 0.1995 - val_loss: 0.0348 - val_mae: 0.1429\n",
      "Epoch 13/100\n",
      "12/12 - 0s - loss: 0.0656 - mae: 0.1989 - val_loss: 0.0347 - val_mae: 0.1447\n",
      "Epoch 14/100\n",
      "12/12 - 0s - loss: 0.0642 - mae: 0.1999 - val_loss: 0.0348 - val_mae: 0.1484\n",
      "Epoch 00014: early stopping\n"
     ]
    }
   ],
   "source": [
    "# Create model\n",
    "model = create_model(32,'sigmoid',0.1)\n",
    "\n",
    "logdir = os.path.join(\"logs\", datetime.datetime.now().strftime(\"%Y-%m-%d;%H-%M-%S\"))\n",
    "tensorboard_callback = TensorBoard(logdir, histogram_freq=1)\n",
    "\n",
    "# Early Stopping\n",
    "es = EarlyStopping(monitor = 'val_loss', mode = \"min\", min_delta = 0.01, patience = 10, verbose = 1)\n",
    "\n",
    "# fit model\n",
    "history = model.fit(X_train_scaled,y_train_scaled,\n",
    "                    epochs=100, batch_size=32,\n",
    "                    validation_split=0.1, callbacks = [es, tensorboard_callback],\n",
    "                    verbose=2)"
   ]
  },
  {
   "cell_type": "code",
   "execution_count": 26,
   "metadata": {},
   "outputs": [
    {
     "data": {
      "text/html": [
       "\n",
       "      <iframe id=\"tensorboard-frame-71471987864b9923\" width=\"100%\" height=\"800\" frameborder=\"0\">\n",
       "      </iframe>\n",
       "      <script>\n",
       "        (function() {\n",
       "          const frame = document.getElementById(\"tensorboard-frame-71471987864b9923\");\n",
       "          const url = new URL(\"/\", window.location);\n",
       "          const port = 6006;\n",
       "          if (port) {\n",
       "            url.port = port;\n",
       "          }\n",
       "          frame.src = url;\n",
       "        })();\n",
       "      </script>\n",
       "    "
      ],
      "text/plain": [
       "<IPython.core.display.HTML object>"
      ]
     },
     "metadata": {},
     "output_type": "display_data"
    }
   ],
   "source": [
    "%tensorboard --logdir=logs"
   ]
  },
  {
   "cell_type": "markdown",
   "metadata": {},
   "source": [
    "# <center><font color=\"blue\">Hyper-parameter Tuning</font></center> \n",
    "\n",
    "## Berapa Banyak Neuron yang Diperlukan? Fungsi Aktivasi Apa yang Harus Digunakan? Berapa Persen Dropout yang Ditentukan?\n",
    "\n",
    "- Pertanyaan di atas dapat dijawab dengan melakukan hyper-parameter tuning atau melakukan beberapa percobaan dan memilih hasil yang terbaik\n",
    "- Hyper-parameter tuning dapat lakukan menggunakan fungsi GridSearchCV dari modul sklearn\n",
    "\n",
    "<img src=\"images/grid_search.png\" width=\"500\"/><br>\n",
    "- Namun untuk membuat model neural network menggunakan GridSearchCV, kita harus menggunakan fungsi model neural network dan dimasukan ke dalam KerasRegressor\n",
    "- Selain fungsi model neural network, parameter-parameter yang dimasukan pada model.fit() seperti contoh sebelumnya juga dimasukan ke dalam KerasRegressor"
   ]
  },
  {
   "cell_type": "markdown",
   "metadata": {},
   "source": [
    "## Membuat Model Neural Network dengan Hyper-parameter Tuning\n",
    "### 1. Import Modul"
   ]
  },
  {
   "cell_type": "code",
   "execution_count": 27,
   "metadata": {},
   "outputs": [],
   "source": [
    "from sklearn.model_selection import GridSearchCV\n",
    "from keras.wrappers.scikit_learn import KerasRegressor"
   ]
  },
  {
   "cell_type": "markdown",
   "metadata": {},
   "source": [
    "### 2. Membuat Model dengan KerasRegressor"
   ]
  },
  {
   "cell_type": "code",
   "execution_count": 28,
   "metadata": {},
   "outputs": [],
   "source": [
    "# Early Stopping\n",
    "es = EarlyStopping(monitor = 'val_loss', mode = \"min\", min_delta = 0.005, patience = 5, verbose = 0)\n",
    "\n",
    "# create model\n",
    "model = KerasRegressor(build_fn=create_model, epochs=500, validation_split=0.1, batch_size=32, callbacks=[es], verbose=0)"
   ]
  },
  {
   "cell_type": "markdown",
   "metadata": {},
   "source": [
    "### 3. Menentukan parameter-parameter\n",
    "- Pada contoh ini kita akan melakukan percobaan terhadap jumlah neuron, fungsi aktivasi, dan persentase dropout.\n",
    "- ketiga parameter tersebut beserta nila-nilai yang ingin digunakan kemudian dimasukan pada variabel **param_grid** dengan tipe data dictionary"
   ]
  },
  {
   "cell_type": "code",
   "execution_count": 29,
   "metadata": {},
   "outputs": [],
   "source": [
    "# define the grid search parameters\n",
    "neurons = [32, 64, 128]\n",
    "activation = ['relu','sigmoid','tanh']\n",
    "dropout=[0.1, 0.2, 0.3]\n",
    "param_grid = dict(neurons=neurons, activation=activation, dropout=dropout)"
   ]
  },
  {
   "cell_type": "markdown",
   "metadata": {},
   "source": [
    "### 4. Membuat Model dengan GridSearchCV\n",
    "Model dengan GridSearchCV dibuat dengan memasukan beberapa parameter yaitu:\n",
    "- estimator: model yang ingin dilakukan gridsearch\n",
    "- param_grid: parameter yang ingin diuji\n",
    "- n_jobs: Jumlah pekerjaan untuk dijalankan secara paralel. (-1 artinya menggunakan seluruh core processor)\n",
    "- cv: banyaknya k-fold cross validation"
   ]
  },
  {
   "cell_type": "code",
   "execution_count": 30,
   "metadata": {},
   "outputs": [],
   "source": [
    "grid = GridSearchCV(estimator=model, param_grid=param_grid, n_jobs=-1, cv=3)"
   ]
  },
  {
   "cell_type": "markdown",
   "metadata": {},
   "source": [
    "### 5. Training Model dengan GridSearchCV"
   ]
  },
  {
   "cell_type": "code",
   "execution_count": null,
   "metadata": {},
   "outputs": [],
   "source": [
    "grid_result = grid.fit(X_train_scaled, y_train_scaled)"
   ]
  },
  {
   "cell_type": "markdown",
   "metadata": {},
   "source": [
    "### 6. Memilih Parameter Terbaik"
   ]
  },
  {
   "cell_type": "code",
   "execution_count": null,
   "metadata": {},
   "outputs": [],
   "source": [
    "# summarize results\n",
    "print(\"Best: %f using %s\" % (grid_result.best_score_, grid_result.best_params_))\n",
    "means = grid_result.cv_results_['mean_test_score']\n",
    "stds = grid_result.cv_results_['std_test_score']\n",
    "params = grid_result.cv_results_['params']\n",
    "for mean, stdev, param in zip(means, stds, params):\n",
    "    print(\"%f (%f) with: %r\" % (mean, stdev, param))"
   ]
  },
  {
   "cell_type": "markdown",
   "metadata": {},
   "source": [
    "Dari Hasil Training menggunakan GridSearchCV, kita peroleh:\n",
    "- parameter terbaiknya adalah: {'activation': 'relu', 'dropout': 0.3, 'neurons': 128}\n",
    "- Rata-rata Loss Function dari hasil Cross Validation adalah 0.047091 "
   ]
  },
  {
   "cell_type": "markdown",
   "metadata": {},
   "source": [
    "- Model terbaik dari hasil GridSearchCV kita masukan ke dalam variabel best_model dengan cara \n",
    "\n",
    "`best_model = grid_result.best_estimator_.model` \n",
    "\n",
    "- Kemudian coba kita lihat grafik loss function MSE dan metric MAE terhadap epoch untuk melihat performa model terbaik kita dengan cara sebagai berikut"
   ]
  },
  {
   "cell_type": "code",
   "execution_count": null,
   "metadata": {},
   "outputs": [],
   "source": [
    "best_model = grid_result.best_estimator_.model\n",
    "history = best_model.history"
   ]
  },
  {
   "cell_type": "code",
   "execution_count": null,
   "metadata": {},
   "outputs": [],
   "source": [
    "# grafik loss function MSE\n",
    "\n",
    "plt.plot(history.history['loss'], label='Training loss')\n",
    "plt.plot(history.history['val_loss'], label='Validation loss')\n",
    "plt.title('loss function MSE')\n",
    "plt.ylabel('MSE')\n",
    "plt.xlabel('Epoch')\n",
    "plt.legend()"
   ]
  },
  {
   "cell_type": "code",
   "execution_count": null,
   "metadata": {},
   "outputs": [],
   "source": [
    "# grafik metric MAE\n",
    "\n",
    "plt.plot(history.history['mae'], label='Training MAE')\n",
    "plt.plot(history.history['val_mae'], label='Validation MAE')\n",
    "plt.title('metric MAE')\n",
    "plt.ylabel('MAE')\n",
    "plt.xlabel('Epoch')\n",
    "plt.legend()"
   ]
  },
  {
   "cell_type": "markdown",
   "metadata": {},
   "source": [
    "### 7. Evaluasi Model dengan Data Test\n",
    "Dengan cara yang sama seperti pada contoh sebelumnya kita akan menghitung MAE pada data test."
   ]
  },
  {
   "cell_type": "code",
   "execution_count": null,
   "metadata": {},
   "outputs": [],
   "source": [
    "y_pred = best_model.predict(X_test_scaled)\n",
    "y_pred = scaler2.inverse_transform(y_pred)\n",
    "\n",
    "abs_error = np.abs(y_test-y_pred)\n",
    "\n",
    "# Mean Absolute Error (MAE) test data\n",
    "mae = np.mean(abs_error)\n",
    "print('MAE data test sebesar:', mae)\n",
    "\n",
    "sns.boxplot(y = abs_error)"
   ]
  },
  {
   "cell_type": "markdown",
   "metadata": {},
   "source": [
    "## Apakah Nilai MAE Tersebut Lebih Bagus dari Sebelumnya???"
   ]
  },
  {
   "cell_type": "markdown",
   "metadata": {},
   "source": [
    "## Membandingkan Nilai MAE dari Hasil Regresi Linear"
   ]
  },
  {
   "cell_type": "code",
   "execution_count": null,
   "metadata": {},
   "outputs": [],
   "source": [
    "from sklearn.linear_model import LinearRegression\n",
    "\n",
    "reg = LinearRegression()\n",
    "\n",
    "reg.fit(X_train, y_train)\n",
    "reg_pred = reg.predict(X_test)\n",
    "\n",
    "abs_error = np.abs(y_test-reg_pred)\n",
    "\n",
    "# Mean Absolute Error (MAE) test data dari model regresi\n",
    "mae = np.mean(abs_error)\n",
    "print('MAE data test sebesar:', mae)\n",
    "\n",
    "sns.boxplot(y = abs_error)"
   ]
  },
  {
   "cell_type": "markdown",
   "metadata": {},
   "source": [
    "# <center><font color=\"blue\">Latihan</font></center>\n",
    "\n",
    "## Dengan menggunakan data konsumsi energi tiap rumah di atas, buatlah model neural network untuk memprediksi kolom listrik berdasarkan input kolom luas_bangunan dengan ketentuan sebagai berikut!\n",
    "\n",
    "1. Arsitektur neural network terdiri dari:\n",
    "- Input layer, hidden layer (Dense layer, Dropout, Dense layer), Dense ouput layer\n",
    "- Fungsi aktivasi yang digunakan pada kedua Dense layer adalah 'ReLu'\n",
    "- Persentase Dropout yang digunakan 10%\n",
    "- Compiler: loss='mse', optimizer='adam', metrics=['mae']\n",
    "\n",
    "2. Model dibuat menggunakan GridSearchCV dengan paramater yang diuji:\n",
    "- banyaknya neuron pada Dense layer pertama = [16,32,64]\n",
    "- banyaknya neuron pada Dense layer kedua = [10,20,30]\n",
    "\n",
    "3. Early Stopping diterapkan sehingga training berhenti pada saat epoch yang optimal\n",
    "\n",
    "4. Lakukan evaluasi pada data test dan simpulkan hasil evaluasi tersebut"
   ]
  },
  {
   "cell_type": "markdown",
   "metadata": {
    "slideshow": {
     "slide_type": "slide"
    }
   },
   "source": [
    "# <center><font color=\"blue\"> Akhir Modul 13 Introduction to Network Model and Tensorflow</font></center>\n",
    "\n",
    "<hr />\n",
    "<img alt=\"\" src=\"images/meme-cartoon/meme tensors flow node to node.jpeg\" style=\"height: 400px;\"/>"
   ]
  }
 ],
 "metadata": {
  "celltoolbar": "Slideshow",
  "kernelspec": {
   "display_name": "Python 3 (ipykernel)",
   "language": "python",
   "name": "python3"
  },
  "language_info": {
   "codemirror_mode": {
    "name": "ipython",
    "version": 3
   },
   "file_extension": ".py",
   "mimetype": "text/x-python",
   "name": "python",
   "nbconvert_exporter": "python",
   "pygments_lexer": "ipython3",
   "version": "3.7.11"
  },
  "latex_envs": {
   "LaTeX_envs_menu_present": true,
   "autoclose": false,
   "autocomplete": true,
   "bibliofile": "biblio.bib",
   "cite_by": "apalike",
   "current_citInitial": 1,
   "eqLabelWithNumbers": true,
   "eqNumInitial": 1,
   "hotkeys": {
    "equation": "Ctrl-E",
    "itemize": "Ctrl-I"
   },
   "labels_anchors": false,
   "latex_user_defs": false,
   "report_style_numbering": false,
   "user_envs_cfg": false
  }
 },
 "nbformat": 4,
 "nbformat_minor": 4
}
