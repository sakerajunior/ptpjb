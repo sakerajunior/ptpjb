{
 "cells": [
  {
   "cell_type": "markdown",
   "metadata": {},
   "source": [
    "# Long Short Term Memory (LSTM)\n",
    "<br>\n",
    "<table><tr>\n",
    "    <td> <img src=\"images/handwriting.png\" width=\"300\" align = left/> </td>\n",
    "    <td> <img src=\"images/speech recognition.jpg\" width=\"300\" align = left/> </td>\n",
    "    <td> <img src=\"images/anomaly detection.png\" width=\"300\" align = left/> </td>\n",
    "</tr></table>\n",
    "<br>\n",
    "Long short-term memory (LSTM) adalah arsitektur Recurrent Neural Network (RNN) yang digunakan pada bidang deep learning. Tidak seperti feed forward neural network biasa, LSTM memiliki koneksi umpan balik sehingga LSTM dapat memproses tidak hanya data tunggal (seperti gambar), tetapi juga seluruh urutan data (seperti ucapan atau video). LSTM mampu melakukan tugas-tugas seperti handwriting recognition, speech recognition dan anomaly detection pada network traffic atau IDSs (intrusion detection systems)."
   ]
  },
  {
   "cell_type": "markdown",
   "metadata": {},
   "source": [
    "## Recurrent Neural Network (RNN)\n",
    "\n",
    "<img src=\"images/DavidRumelhart.jpg\" width=\"300\"/>\n",
    "<p style = \"text-align:center;font-size:24px\">David Rumelhart</p>\n",
    "\n",
    "image source: https://en.wikipedia.org/wiki/Recurrent_neural_network"
   ]
  },
  {
   "cell_type": "markdown",
   "metadata": {},
   "source": [
    "## Feed-forward Neural Network Vs Recurrent Neural Network\n",
    "<img src=\"images/Comparison-of-FFNN-and-RNN.png\" />"
   ]
  },
  {
   "cell_type": "markdown",
   "metadata": {},
   "source": [
    "\n",
    "- Struktur Recurrent Neural Network (RNN) \n",
    "<img src=\"images/struktur rnn.jpg\" />\n"
   ]
  },
  {
   "cell_type": "markdown",
   "metadata": {},
   "source": [
    "## Long Short Term Memory (LSTM)\n",
    "<table><tr>\n",
    "    <td> <img src=\"images/Jurgen Schmidhuber.jpg\" width=\"200\"/> </td>\n",
    "    <td> <img src=\"images/SeppHochreiter.jpg\" width=\"200\"/> </td>\n",
    "</tr><tr>\n",
    "    <td> <p style = \"text-align:center;font-size:18px\">Jurgen Schmidhuber</p> </td>\n",
    "    <td> <p style = \"text-align:center;font-size:18px\">Sepp Hochreiter</p> </td>\n",
    "</tr></table>\n",
    "\n",
    "image source: https://en.wikipedia.org/wiki/Recurrent_neural_network"
   ]
  },
  {
   "cell_type": "markdown",
   "metadata": {},
   "source": [
    "- LSTM Vs RNN\n",
    "<img src=\"images/RNN VS LSTM.jpg\"/>\n"
   ]
  },
  {
   "cell_type": "markdown",
   "metadata": {},
   "source": [
    "- Cara kerja LSTM\n",
    "<img src=\"images/forget gate.gif\" width=\"700\" />\n",
    "<img src=\"images/input gate.gif\" width=700 />\n",
    "<img src=\"images/cell state.gif\" width=700 />\n",
    "<img src=\"images/output gate.gif\" width=700 />\n",
    "\n",
    "image source:https://www.megabagus.id/deep-learning-recurrent-neural-networks/4/"
   ]
  },
  {
   "cell_type": "markdown",
   "metadata": {},
   "source": [
    "## LSTM for forecasting\n",
    "\n",
    "- Sliding Window\n",
    "<img src=\"images/sliding window.gif\" width=700 />"
   ]
  },
  {
   "cell_type": "markdown",
   "metadata": {},
   "source": [
    "## LSTM menggunakan Tensorflow dan Keras\n",
    "- tensorflow: https://www.tensorflow.org/overview\n",
    "- keras: https://keras.io/about/"
   ]
  },
  {
   "cell_type": "markdown",
   "metadata": {},
   "source": [
    "### Membuat model LSTM sederhana dengan data sekuensial berikut\n",
    "\n",
    "<p style=\"text-align:center;font-size:18px\">$(10,20,30,40,50,60,70,80,90,100,...,1000)$</p>"
   ]
  },
  {
   "cell_type": "code",
   "execution_count": 1,
   "metadata": {},
   "outputs": [
    {
     "data": {
      "text/plain": [
       "array([  10,   20,   30,   40,   50,   60,   70,   80,   90,  100,  110,\n",
       "        120,  130,  140,  150,  160,  170,  180,  190,  200,  210,  220,\n",
       "        230,  240,  250,  260,  270,  280,  290,  300,  310,  320,  330,\n",
       "        340,  350,  360,  370,  380,  390,  400,  410,  420,  430,  440,\n",
       "        450,  460,  470,  480,  490,  500,  510,  520,  530,  540,  550,\n",
       "        560,  570,  580,  590,  600,  610,  620,  630,  640,  650,  660,\n",
       "        670,  680,  690,  700,  710,  720,  730,  740,  750,  760,  770,\n",
       "        780,  790,  800,  810,  820,  830,  840,  850,  860,  870,  880,\n",
       "        890,  900,  910,  920,  930,  940,  950,  960,  970,  980,  990,\n",
       "       1000])"
      ]
     },
     "execution_count": 1,
     "metadata": {},
     "output_type": "execute_result"
    }
   ],
   "source": [
    "import numpy as np\n",
    "import pandas as pd\n",
    "import matplotlib.pyplot as plt\n",
    "import seaborn as sns\n",
    "\n",
    "# Generate data from 1,2,3,...1000\n",
    "seq = np.arange(10, 1001, 10)\n",
    "seq"
   ]
  },
  {
   "cell_type": "code",
   "execution_count": 2,
   "metadata": {},
   "outputs": [],
   "source": [
    "def sliding_window(seq, window_size):\n",
    "    sub_seq, next_values = [], []\n",
    "    for i in range(len(seq)-window_size):  \n",
    "        sub_seq.append(seq[i:i+window_size])\n",
    "        next_values.append(seq[i+window_size])\n",
    "    X = np.array(sub_seq).reshape(len(seq)-window_size,window_size,1)\n",
    "    y = np.array([next_values]).T\n",
    "    return X,y"
   ]
  },
  {
   "cell_type": "code",
   "execution_count": 3,
   "metadata": {},
   "outputs": [],
   "source": [
    "# Membuat Supervised Problem (Sliding Window)\n",
    "\n",
    "window_size = 5\n",
    "\n",
    "X, y  = sliding_window(seq, window_size)"
   ]
  },
  {
   "cell_type": "code",
   "execution_count": 4,
   "metadata": {},
   "outputs": [
    {
     "data": {
      "text/plain": [
       "((95, 5, 1), (95, 1))"
      ]
     },
     "execution_count": 4,
     "metadata": {},
     "output_type": "execute_result"
    }
   ],
   "source": [
    "X.shape, y.shape"
   ]
  },
  {
   "cell_type": "code",
   "execution_count": 5,
   "metadata": {},
   "outputs": [
    {
     "data": {
      "text/plain": [
       "(array([[10, 20, 30, 40, 50],\n",
       "        [20, 30, 40, 50, 60],\n",
       "        [30, 40, 50, 60, 70]]),\n",
       " array([[60],\n",
       "        [70],\n",
       "        [80]]))"
      ]
     },
     "execution_count": 5,
     "metadata": {},
     "output_type": "execute_result"
    }
   ],
   "source": [
    "X[:3,:,0], y[:3]"
   ]
  },
  {
   "cell_type": "code",
   "execution_count": 6,
   "metadata": {},
   "outputs": [],
   "source": [
    "from keras.models import Sequential\n",
    "from keras.layers import Dense, LSTM"
   ]
  },
  {
   "cell_type": "code",
   "execution_count": 7,
   "metadata": {},
   "outputs": [
    {
     "name": "stdout",
     "output_type": "stream",
     "text": [
      "Model: \"sequential\"\n",
      "_________________________________________________________________\n",
      "Layer (type)                 Output Shape              Param #   \n",
      "=================================================================\n",
      "lstm (LSTM)                  (None, 100)               40800     \n",
      "_________________________________________________________________\n",
      "dense (Dense)                (None, 1)                 101       \n",
      "=================================================================\n",
      "Total params: 40,901\n",
      "Trainable params: 40,901\n",
      "Non-trainable params: 0\n",
      "_________________________________________________________________\n"
     ]
    }
   ],
   "source": [
    "# Set up network\n",
    "model = Sequential()\n",
    "model.add(LSTM(100, activation='relu',input_shape=(window_size,1)))\n",
    "model.add(Dense(1, activation='linear'))\n",
    "model.compile(optimizer='adam', loss='mse')\n",
    "model.summary()"
   ]
  },
  {
   "cell_type": "code",
   "execution_count": 8,
   "metadata": {},
   "outputs": [],
   "source": [
    "# fit model\n",
    "\n",
    "history = model.fit(X,y, epochs=100, batch_size=32, validation_split=0.1, verbose=0)"
   ]
  },
  {
   "cell_type": "code",
   "execution_count": 9,
   "metadata": {},
   "outputs": [
    {
     "data": {
      "text/plain": [
       "<matplotlib.legend.Legend at 0x226c0e5d640>"
      ]
     },
     "execution_count": 9,
     "metadata": {},
     "output_type": "execute_result"
    },
    {
     "data": {
      "image/png": "[encoded data removed]",
      "text/plain": [
       "<Figure size 432x288 with 1 Axes>"
      ]
     },
     "metadata": {
      "needs_background": "light"
     },
     "output_type": "display_data"
    }
   ],
   "source": [
    "plt.plot(history.history['loss'], label='Training loss')\n",
    "plt.plot(history.history['val_loss'], label='Validation loss')\n",
    "plt.legend()"
   ]
  },
  {
   "cell_type": "code",
   "execution_count": 10,
   "metadata": {},
   "outputs": [
    {
     "name": "stdout",
     "output_type": "stream",
     "text": [
      "3/3 [==============================] - 0s 3ms/step - loss: 0.2426\n"
     ]
    },
    {
     "data": {
      "text/plain": [
       "0.24263040721416473"
      ]
     },
     "execution_count": 10,
     "metadata": {},
     "output_type": "execute_result"
    }
   ],
   "source": [
    "mse = model.evaluate(X,y)\n",
    "mse"
   ]
  },
  {
   "cell_type": "code",
   "execution_count": 12,
   "metadata": {},
   "outputs": [
    {
     "name": "stdout",
     "output_type": "stream",
     "text": [
      "[1012.22424, 1022.5727, 1033.348, 1044.1868, 1055.297]\n"
     ]
    }
   ],
   "source": [
    "# forecasting data selanjutnya (1010,1020,1030,...)\n",
    "\n",
    "n_future = 5\n",
    "future = []\n",
    "X_new = [960,970,980,990,1000]\n",
    "\n",
    "for i in range(n_future):\n",
    "    y_pred = model.predict(np.array([X_new]).reshape(1,5,1))\n",
    "    future.append(y_pred[0,0])\n",
    "    X_new = X_new[1:]\n",
    "    X_new.append(y_pred[0,0])\n",
    "    \n",
    "print(future)"
   ]
  }
 ],
 "metadata": {
  "kernelspec": {
   "display_name": "Python 3",
   "language": "python",
   "name": "python3"
  },
  "language_info": {
   "codemirror_mode": {
    "name": "ipython",
    "version": 3
   },
   "file_extension": ".py",
   "mimetype": "text/x-python",
   "name": "python",
   "nbconvert_exporter": "python",
   "pygments_lexer": "ipython3",
   "version": "3.6.13"
  },
  "latex_envs": {
   "LaTeX_envs_menu_present": true,
   "autoclose": false,
   "autocomplete": true,
   "bibliofile": "biblio.bib",
   "cite_by": "apalike",
   "current_citInitial": 1,
   "eqLabelWithNumbers": true,
   "eqNumInitial": 1,
   "hotkeys": {
    "equation": "Ctrl-E",
    "itemize": "Ctrl-I"
   },
   "labels_anchors": false,
   "latex_user_defs": false,
   "report_style_numbering": false,
   "user_envs_cfg": false
  }
 },
 "nbformat": 4,
 "nbformat_minor": 4
}
