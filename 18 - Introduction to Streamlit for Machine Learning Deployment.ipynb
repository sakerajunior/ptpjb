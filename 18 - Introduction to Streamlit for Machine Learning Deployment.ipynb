{
 "cells": [
  {
   "cell_type": "markdown",
   "metadata": {},
   "source": [
    "# <center><font color=\"red\"> https://bit.ly/ptpjb-2021-18</font>\n",
    "# <center><font color=\"blue\">18 - Introduction to Streamlit for Machine Learning Deployment</font>\n",
    "\n",
    "<center><img alt=\"\" src=\"images/cover_ptpjb_2021.png\"/></center> \n",
    "\n",
    "## <center><font color=\"blue\">tau-data Indonesia</font><br>(C) Taufik Sutanto - 2021</center>\n",
    "<center><a href=\"https://tau-data.id\">https://tau-data.id</a> ~ <a href=\"mailto:taufik@tau-data.id\">taufik@tau-data.id</a></center>"
   ]
  },
  {
   "cell_type": "markdown",
   "metadata": {},
   "source": [
    "<img src=\"images/meme_deploy.jpeg\"/>"
   ]
  },
  {
   "cell_type": "markdown",
   "metadata": {},
   "source": [
    "<img src=\"images/alur_ml_deploy.jpeg\" width=\"700\"/>"
   ]
  },
  {
   "cell_type": "markdown",
   "metadata": {},
   "source": [
    "## Why Deploy Machine Learning Models?\n",
    "\n",
    "- Deployment model machine learning adalah proses untuk membuat model tersedia dalam tahap produksi.\n",
    "- Sehingga model terbaik yang telah dibuat dapat digunakan dalam bentuk aplikasi web, perangkat lunak, atau API dengan menyediakan data observasi baru untuk menghasilkan prediksi."
   ]
  },
  {
   "cell_type": "markdown",
   "metadata": {},
   "source": [
    "## Deployment Tools\n",
    "\n",
    "<img src=\"images/webframeworks_python.jpg\" width=\"700\"/>\n",
    "<img src=\"images/streamlit_logo.png\" width=\"400\"/>\n",
    "\n",
    "image source:\n",
    "- https://www.activestate.com/blog/the-top-10-python-frameworks-for-web-development/\n",
    "- https://ichi.pro/id/streamlit-merevolusi-pembuatan-aplikasi-data-248940993548562"
   ]
  },
  {
   "cell_type": "markdown",
   "metadata": {},
   "source": [
    "## Streamlit\n",
    "link: https://streamlit.io/\n",
    "<img src=\"images/streamlit.JPG\" width=\"700\"/>\n",
    "- **Streamlit** Streamlit adalah sebuah framework berbasis Python dan bersifat open-source yang dibuat untuk memudahkan dalam membangun apikasi web di bidang data science dan machine learning yang interaktif.\n",
    "- Salah satu hal menarik dari framework ini adalah kita tidak perlu mengetahui banyak hal tentang teknologi web development. \n",
    "- Kita tidak perlu dipusingkan tentang bagaiamana mengatur tampilan website dengan CSS, HTML, atau Javascript. \n",
    "- Untuk menggunakan Streamlit, kita cukup memiliki modal dasar mengetahui bahasa Python saja."
   ]
  },
  {
   "cell_type": "markdown",
   "metadata": {},
   "source": [
    "## Contoh aplikasi web yang dibuat di streamlit\n",
    "- **Sistem Deteksi Objek Real-Time:** Aplikasi ini dibangun dengan menggunakan dataset Self Driving Car Udacity. Aplikasi tersebut mampu mendeteksi objek secara real-time, menggunakan algoritma deteksi objek YOLO di backend yang terjalin dengan Streamlit di frontend.\n",
    "\n",
    "<img src=\"images/streamlit_app_1.gif\"/>\n",
    "\n",
    "- **Face GAN Explorer:** Aplikasi ini mampu menghasilkan wajah fotorealistik dan dibangun dengan TensorFlow menggunakan Nvidia's Progressive Growing of GANs dan metode Transparent Latent-space GAN milik Shaobo Guan untuk menyetel karakteristik wajah keluaran.\n",
    "\n",
    "<img src=\"images/streamlit_app_2.gif\"/>\n",
    "\n",
    "- **Peramban Data Geografis untuk NYC:** Aplikasi ini menggunakan data penjemputan Uber dari New York City untuk secara interaktif memvisualisasikan penjemputan uber dan perjalanan penumpang melintasi NYC.\n",
    "\n",
    "\n",
    "<img src=\"images/streamlit_app_3.gif\"/>\n",
    "\n",
    "image source: https://ichi.pro/id/streamlit-merevolusi-pembuatan-aplikasi-data-248940993548562"
   ]
  },
  {
   "cell_type": "markdown",
   "metadata": {},
   "source": [
    "## Deploy Anomaly Detection App\n",
    "\n",
    "kita akan coba bagaimana melakukan deployment sederhana menggunakan streamlit pada **model anomaly detection** yang telah kita buat. hasil deployment yang akan kita buat akan memiliki tampilan seperti berikut:\n",
    "\n",
    "<img src=\"images/streamlit app 1.jpg\" width=\"700\"/>\n",
    "\n",
    "<img src=\"images/streamlit app 2.JPG\" width=\"1000\"/>"
   ]
  },
  {
   "cell_type": "markdown",
   "metadata": {},
   "source": [
    "## Persiapan\n",
    "1. Pastikan sudah install **python di lokal komputer** (anaconda: https://www.anaconda.com/products/individual#Downloads)\n",
    "2. clone/download repository **taudata-indonesia/ptpjb** (https://github.com/taudata-indonesia/ptpjb)\n",
    "3. Lakukan instalasi **library python** yg diperlukan pada command prompt atau anaconda prompt menggunakan `pip install`:\n",
    "    - pandas==1.2.4\n",
    "    - numpy==1.19.5\n",
    "    - streamlit==0.84.1\n",
    "    - tensorflow==2.5.0\n",
    "    - pickleshare==0.7.5\n",
    "    - scikit-learn==0.24.1\n",
    "    - plotly==5.1.0\n",
    "\n",
    "4. Menyiapkan file yang diperlukan:\n",
    "    - model anomaly detection yang telah dibuat\n",
    "    - feature scaling yang digunakan\n",
    "    - data untuk mencoba aplikasi anomaly detection\n",
    "    - file-file di atas dapat dipersiapkan pada modul jupyter notebook **14 - Deep Learning ~ LSTM** dan di simpan pada folder deployment.\n",
    "\n",
    "5. Membuat text-file python\n",
    "    - kemudian pada folder deployment tersebut kita buat text-file dengan format `.py` untuk menuliskan code deployment menggunakan streamlit.\n",
    "\n",
    "<img src=\"images/text-file 1.JPG\"/>\n",
    "<img src=\"images/text-file 2.JPG\"/>"
   ]
  },
  {
   "cell_type": "markdown",
   "metadata": {},
   "source": [
    "## Code in Python\n",
    "\n",
    "Pada file `LSTM_AD.py` kita tuliskan code seperti di bawah ini. kemudian kita akan bahas kegunaannya baris-perbaris."
   ]
  },
  {
   "cell_type": "code",
   "execution_count": null,
   "metadata": {},
   "outputs": [],
   "source": [
    "\"\"\"The App.\"\"\"\n",
    "\n",
    "import pandas as pd\n",
    "import numpy as np\n",
    "import streamlit as st\n",
    "from tensorflow import keras\n",
    "import pickle\n",
    "import plotly.graph_objects as go\n",
    "import base64\n",
    "\n",
    "# Create sliding window\n",
    "def sliding_window(data, window_size):\n",
    "    sub_seq, next_values = [], []\n",
    "    for i in range(len(data)-window_size):\n",
    "        sub_seq.append(data[i:i+window_size])\n",
    "        next_values.append(data[i+window_size])\n",
    "    X = np.stack(sub_seq)\n",
    "    y = np.array(next_values)\n",
    "    return X,y\n",
    "\n",
    "window_size = 30\n",
    "\n",
    "# Load the model from the file\n",
    "model = keras.models.load_model('anomaly_detection')\n",
    "\n",
    "# load the scaler\n",
    "scaler = pickle.load(open('scaler.pkl', 'rb'))\n",
    "\n",
    "threshold = 527.8798828125\n",
    "\n",
    "st.write(\"\"\"\n",
    "# LSTM Anomaly Detection App for Web Traffic Data\n",
    "\"\"\")\n",
    "\n",
    "st.write(\"\"\"\n",
    "### Data format and must be greater than 30 timestamps\n",
    "| timestamp  | value   |\n",
    "| -----------|:-------:|\n",
    "| 1          | 10      |\n",
    "| 2          | 7       |\n",
    "| 3          | 17      |\n",
    "\"\"\")\n",
    "\n",
    "uploaded_file = st.file_uploader(\"Choose a file\", type='csv')\n",
    "\n",
    "if uploaded_file is not None:\n",
    "\n",
    "    df = pd.read_csv(uploaded_file)\n",
    "    df['scaled'] = scaler.transform(df[['value']])\n",
    "    \n",
    "    X, y = sliding_window(df[['scaled']].values, window_size)\n",
    "    \n",
    "    predict = scaler.inverse_transform(model.predict(X))\n",
    "    y = scaler.inverse_transform(y)\n",
    "    \n",
    "    abs_error = np.abs(y - predict)\n",
    "    \n",
    "    st.sidebar.header('Customize Threshold')\n",
    "    form = st.sidebar.form(\"my_form\")\n",
    "    threshold = form.slider('Threshold',\n",
    "                            min_value=abs_error.min(),\n",
    "                            max_value=abs_error.max(),\n",
    "                            value=threshold)\n",
    "    form.form_submit_button(\"Apply\")\n",
    "    \n",
    "    test_anomaly = pd.DataFrame()\n",
    "    test_anomaly['timestamp'] = df['timestamp'][window_size:]\n",
    "    test_anomaly['value'] = df['value'][window_size:]\n",
    "    test_anomaly['abs_error'] = abs_error\n",
    "    test_anomaly['anomaly_hat'] = 0\n",
    "    test_anomaly.loc[test_anomaly['abs_error'] >= threshold, 'anomaly_hat'] = 1\n",
    "    \n",
    "    anomalies = test_anomaly.loc[test_anomaly['anomaly_hat'] == 1]\n",
    "\n",
    "    st.write(\"Visualize Detected Anomalies from Data\")  \n",
    "    fig = go.Figure()\n",
    "    fig.add_trace(go.Scatter(x=test_anomaly['timestamp'], y=test_anomaly['value'], name='value'))\n",
    "    fig.add_trace(go.Scatter(x=anomalies['timestamp'], y=anomalies['value'], mode='markers', name='Anomaly'))\n",
    "    st.plotly_chart(fig)\n",
    "    \n",
    "    st.write(\"Anomalies Data\")\n",
    "    st.write(anomalies)\n",
    "    \n",
    "    csv = anomalies.to_csv(index=False)\n",
    "    b64 = base64.b64encode(csv.encode()).decode()  \n",
    "    link= f'<a href=\"data:file/csv;base64,{b64}\" download=\"anomalies.csv\">Download</a>'\n",
    "    st.markdown(link, unsafe_allow_html=True)"
   ]
  },
  {
   "cell_type": "markdown",
   "metadata": {},
   "source": [
    "**Import modul/library yang diperlukan**"
   ]
  },
  {
   "cell_type": "code",
   "execution_count": null,
   "metadata": {},
   "outputs": [],
   "source": [
    "import pandas as pd\n",
    "import numpy as np\n",
    "import streamlit as st\n",
    "from tensorflow import keras\n",
    "import pickle\n",
    "import plotly.graph_objects as go\n",
    "import base64"
   ]
  },
  {
   "cell_type": "markdown",
   "metadata": {},
   "source": [
    "**Membuat fungsi sliding window serta menentukan window size sesuai dengan model anomaly detection yang digunakan**"
   ]
  },
  {
   "cell_type": "code",
   "execution_count": null,
   "metadata": {},
   "outputs": [],
   "source": [
    "# Create sliding window\n",
    "def sliding_window(data, window_size):\n",
    "    sub_seq, next_values = [], []\n",
    "    for i in range(len(data)-window_size):\n",
    "        sub_seq.append(data[i:i+window_size])\n",
    "        next_values.append(data[i+window_size])\n",
    "    X = np.stack(sub_seq)\n",
    "    y = np.array(next_values)\n",
    "    return X,y\n",
    "\n",
    "window_size = 30"
   ]
  },
  {
   "cell_type": "markdown",
   "metadata": {},
   "source": [
    "**Memuat model anomaly detection dan feature scaling serta menentukan threshold dari hasil model anomaly detection yang dibuat**"
   ]
  },
  {
   "cell_type": "code",
   "execution_count": null,
   "metadata": {},
   "outputs": [],
   "source": [
    "# Load the model from the file\n",
    "model = keras.models.load_model('anomaly_detection')\n",
    "\n",
    "# load the scaler\n",
    "scaler = pickle.load(open('scaler.pkl', 'rb'))\n",
    "\n",
    "threshold = 527.8798828125"
   ]
  },
  {
   "cell_type": "markdown",
   "metadata": {},
   "source": [
    "**Menampilkan header dan contoh format data yang benar**"
   ]
  },
  {
   "cell_type": "code",
   "execution_count": null,
   "metadata": {},
   "outputs": [],
   "source": [
    "st.write(\"\"\"\n",
    "# LSTM Anomaly Detection App for Web Traffic Data\n",
    "\"\"\")\n",
    "\n",
    "st.write(\"\"\"\n",
    "### Data format and must be greater than 30 timestamps\n",
    "| timestamp  | value   |\n",
    "| -----------|:-------:|\n",
    "| 1          | 10      |\n",
    "| 2          | 7       |\n",
    "| 3          | 17      |\n",
    "\"\"\")"
   ]
  },
  {
   "cell_type": "markdown",
   "metadata": {},
   "source": [
    "Fungsi `st.write()` dari modul streamlit salah satu fungsinya adalah untuk menampilkan sesuatu dalam format `markdown` (bisa juga menggunakan `st.markdown()`). Agar dapat menulis `markdown` dengan beberapa baris maka kita gunakan tanda kutip tiga `(\"\"\" <markdown> \"\"\")`\n",
    "\n",
    "Dari code di atas kita akan peroleh tampilan sebagai berikut:\n",
    "\n",
    "<img src=\"images/header.JPG\" width=\"600\"/>"
   ]
  },
  {
   "cell_type": "markdown",
   "metadata": {},
   "source": [
    "**Membuat tombol upload**"
   ]
  },
  {
   "cell_type": "code",
   "execution_count": null,
   "metadata": {},
   "outputs": [],
   "source": [
    "uploaded_file = st.file_uploader(\"Choose a file\", type='csv')"
   ]
  },
  {
   "cell_type": "markdown",
   "metadata": {},
   "source": [
    "Fungsi `st.file_uploader()` dari modul streamlit berfungsi untuk membuat tombol upload. Argumen `\"Choose a file\"` dan `type='csv'` berarti kita menentukan judul pada tombol upload dan tipe file yang dapat diupload.\n",
    "\n",
    "Dari code di atas kita akan peroleh tampilan sebagai berikut:\n",
    "\n",
    "<img src=\"images/file upload.JPG\"/>"
   ]
  },
  {
   "cell_type": "markdown",
   "metadata": {},
   "source": [
    "**Memproses data yang diupload**\n",
    "\n",
    "Setelah data diupload kita gunakan code `if uploaded_file is not None:` untuk memperoses data tersebut dengan langkah-langkah seperti pada modul jupyter notebook **14 - Deep Learning ~ LSTM**\n",
    "\n",
    "- Untuk menampilkan grafik kita gunakan `st.plotly_chart()` dari modul streamlit dengan argumen `fig` yaitu variabel grafik dari modul plotly\n",
    "- Untuk menampilkan dataframe kita gunakan fungsi `st.write()` atau bisa juga `st.dataframe()`"
   ]
  },
  {
   "cell_type": "code",
   "execution_count": null,
   "metadata": {},
   "outputs": [],
   "source": [
    "if uploaded_file is not None:\n",
    "\n",
    "    df = pd.read_csv(uploaded_file)\n",
    "    df['scaled'] = scaler.transform(df[['value']])\n",
    "    \n",
    "    X, y = sliding_window(df[['scaled']].values, window_size)\n",
    "    \n",
    "    predict = scaler.inverse_transform(model.predict(X))\n",
    "    y = scaler.inverse_transform(y)\n",
    "    \n",
    "    abs_error = np.abs(y - predict)\n",
    "    \n",
    "    st.sidebar.header('Customize Threshold')\n",
    "    form = st.sidebar.form(\"my_form\")\n",
    "    threshold = form.slider('Threshold',\n",
    "                            min_value=abs_error.min(),\n",
    "                            max_value=abs_error.max(),\n",
    "                            value=threshold)\n",
    "    form.form_submit_button(\"Apply\")\n",
    "    \n",
    "    test_anomaly = pd.DataFrame()\n",
    "    test_anomaly['timestamp'] = df['timestamp'][window_size:]\n",
    "    test_anomaly['value'] = df['value'][window_size:]\n",
    "    test_anomaly['abs_error'] = abs_error\n",
    "    test_anomaly['anomaly_hat'] = 0\n",
    "    test_anomaly.loc[test_anomaly['abs_error'] >= threshold, 'anomaly_hat'] = 1\n",
    "    \n",
    "    anomalies = test_anomaly.loc[test_anomaly['anomaly_hat'] == 1]\n",
    "\n",
    "    st.write(\"Visualize Detected Anomalies from Data\")  \n",
    "    fig = go.Figure()\n",
    "    fig.add_trace(go.Scatter(x=test_anomaly['timestamp'], y=test_anomaly['value'], name='value'))\n",
    "    fig.add_trace(go.Scatter(x=anomalies['timestamp'], y=anomalies['value'], mode='markers', name='Anomaly'))\n",
    "    st.plotly_chart(fig)\n",
    "    \n",
    "    st.write(\"Anomalies Data\")\n",
    "    st.write(anomalies)\n",
    "    \n",
    "    csv = anomalies.to_csv(index=False)\n",
    "    b64 = base64.b64encode(csv.encode()).decode()  \n",
    "    link= f'<a href=\"data:file/csv;base64,{b64}\" download=\"anomalies.csv\">Download</a>'\n",
    "    st.markdown(link, unsafe_allow_html=True)"
   ]
  },
  {
   "cell_type": "markdown",
   "metadata": {},
   "source": [
    "Dari code di atas kita akan peroleh tampilan sebagai berikut setelah file diupload:<br>\n",
    "<img src=\"images/uploaded file.JPG\" width=\"600\"/>"
   ]
  },
  {
   "cell_type": "markdown",
   "metadata": {},
   "source": [
    "## Menjalankan Aplikasi Web Streamlit\n",
    "Aplikasi web streamlit dapat dijalankan di **lokal** atau bisa  melalui **share streamlit**\n",
    "- **Menjalankan aplikasi web streamlit di lokal**\n",
    "1. Buka command prompt atau anaconda prompt dan arahkan ke direktori penyimpanan file aplikasi web streamlit (misal: LSTM_AD.py) berada\n",
    "\n",
    "<img src=\"images/streamlit_local12.JPG\"/>\n",
    "<img src=\"images/streamlit_local1.JPG\"/>\n",
    "\n",
    "2. pada cmd, ketik: `streamlit run LSTM_AD.py`\n",
    "\n",
    "<img src=\"images/streamlit_local2.JPG\"/>\n",
    "\n",
    "3. kemudian tekan `Enter` dan streamlit akan membuka aplikasi web melalui browser\n",
    "\n",
    "<img src=\"images/streamlit_local3.JPG\"/>"
   ]
  },
  {
   "cell_type": "markdown",
   "metadata": {},
   "source": [
    "- **Menjalankan aplikasi web streamlit melalui share streamlit**\n",
    "\n",
    "**Persiapan:**\n",
    "1. Memiliki akun GitHub dan sign up pada laman https://streamlit.io/sharing-sign-up\n",
    "2. Kemudian hubungkan akun streamlit dengan GitHub (memerlukan 1-2 hari kerja)\n",
    "3. siapkan repository GitHub yang berisikan file-file seperti saat dijalankan di lokal ditambah text-file bernama requirements.txt yang berisikan library python berserta versi yang digunakan seperti gambar berikut.\n",
    "\n",
    "<img src=\"images/requirements_streamlit.JPG\"/>\n",
    "\n",
    "**Langkah-langkah:**\n",
    "1. setelah persiapan di atas dilakukan, sign in pada laman https://share.streamlit.io/\n",
    "2. klik New app\n",
    "\n",
    "<img src=\"images/streamlit_share1.JPG\"/>\n",
    "\n",
    "3. isikan repository untuk deployment dan main file pathnya adalah nama file aplikasi web streamlit. kemudian klik deploy\n",
    "\n",
    "<img src=\"images/streamlit_share2.JPG\"/>\n",
    "\n",
    "4. maka aplikasi web akan diproses dan jika sudah maka hasilnya seperti gambar berikut\n",
    "<img src=\"images/streamlit_share3.JPG\"/>"
   ]
  },
  {
   "cell_type": "markdown",
   "metadata": {},
   "source": [
    "## Latihan\n",
    "\n",
    "<center><h3>Buatlah aplikasi web model regresi menggunakan data boston housing!</h3><center/>\n",
    "    \n",
    "<center><h3>Kemudian deploy aplikasi web tersebut ke share streamlit!</h3><center/>"
   ]
  },
  {
   "cell_type": "code",
   "execution_count": 4,
   "metadata": {},
   "outputs": [
    {
     "data": {
      "text/html": [
       "<div>\n",
       "<style scoped>\n",
       "    .dataframe tbody tr th:only-of-type {\n",
       "        vertical-align: middle;\n",
       "    }\n",
       "\n",
       "    .dataframe tbody tr th {\n",
       "        vertical-align: top;\n",
       "    }\n",
       "\n",
       "    .dataframe thead th {\n",
       "        text-align: right;\n",
       "    }\n",
       "</style>\n",
       "<table border=\"1\" class=\"dataframe\">\n",
       "  <thead>\n",
       "    <tr style=\"text-align: right;\">\n",
       "      <th></th>\n",
       "      <th>CRIM</th>\n",
       "      <th>ZN</th>\n",
       "      <th>INDUS</th>\n",
       "      <th>CHAS</th>\n",
       "      <th>NOX</th>\n",
       "      <th>RM</th>\n",
       "      <th>AGE</th>\n",
       "      <th>DIS</th>\n",
       "      <th>RAD</th>\n",
       "      <th>TAX</th>\n",
       "      <th>PTRATIO</th>\n",
       "      <th>B</th>\n",
       "      <th>LSTAT</th>\n",
       "      <th>PRICE</th>\n",
       "    </tr>\n",
       "  </thead>\n",
       "  <tbody>\n",
       "    <tr>\n",
       "      <th>0</th>\n",
       "      <td>0.00632</td>\n",
       "      <td>18.0</td>\n",
       "      <td>2.31</td>\n",
       "      <td>0</td>\n",
       "      <td>0.538</td>\n",
       "      <td>6.575</td>\n",
       "      <td>65.2</td>\n",
       "      <td>4.0900</td>\n",
       "      <td>1</td>\n",
       "      <td>296</td>\n",
       "      <td>15.3</td>\n",
       "      <td>396.90</td>\n",
       "      <td>4.98</td>\n",
       "      <td>24.0</td>\n",
       "    </tr>\n",
       "    <tr>\n",
       "      <th>1</th>\n",
       "      <td>0.02731</td>\n",
       "      <td>0.0</td>\n",
       "      <td>7.07</td>\n",
       "      <td>0</td>\n",
       "      <td>0.469</td>\n",
       "      <td>6.421</td>\n",
       "      <td>78.9</td>\n",
       "      <td>4.9671</td>\n",
       "      <td>2</td>\n",
       "      <td>242</td>\n",
       "      <td>17.8</td>\n",
       "      <td>396.90</td>\n",
       "      <td>9.14</td>\n",
       "      <td>21.6</td>\n",
       "    </tr>\n",
       "    <tr>\n",
       "      <th>2</th>\n",
       "      <td>0.02729</td>\n",
       "      <td>0.0</td>\n",
       "      <td>7.07</td>\n",
       "      <td>0</td>\n",
       "      <td>0.469</td>\n",
       "      <td>7.185</td>\n",
       "      <td>61.1</td>\n",
       "      <td>4.9671</td>\n",
       "      <td>2</td>\n",
       "      <td>242</td>\n",
       "      <td>17.8</td>\n",
       "      <td>392.83</td>\n",
       "      <td>4.03</td>\n",
       "      <td>34.7</td>\n",
       "    </tr>\n",
       "    <tr>\n",
       "      <th>3</th>\n",
       "      <td>0.03237</td>\n",
       "      <td>0.0</td>\n",
       "      <td>2.18</td>\n",
       "      <td>0</td>\n",
       "      <td>0.458</td>\n",
       "      <td>6.998</td>\n",
       "      <td>45.8</td>\n",
       "      <td>6.0622</td>\n",
       "      <td>3</td>\n",
       "      <td>222</td>\n",
       "      <td>18.7</td>\n",
       "      <td>394.63</td>\n",
       "      <td>2.94</td>\n",
       "      <td>33.4</td>\n",
       "    </tr>\n",
       "    <tr>\n",
       "      <th>4</th>\n",
       "      <td>0.06905</td>\n",
       "      <td>0.0</td>\n",
       "      <td>2.18</td>\n",
       "      <td>0</td>\n",
       "      <td>0.458</td>\n",
       "      <td>7.147</td>\n",
       "      <td>54.2</td>\n",
       "      <td>6.0622</td>\n",
       "      <td>3</td>\n",
       "      <td>222</td>\n",
       "      <td>18.7</td>\n",
       "      <td>396.90</td>\n",
       "      <td>5.33</td>\n",
       "      <td>36.2</td>\n",
       "    </tr>\n",
       "  </tbody>\n",
       "</table>\n",
       "</div>"
      ],
      "text/plain": [
       "      CRIM    ZN  INDUS  CHAS    NOX     RM   AGE     DIS  RAD  TAX  PTRATIO  \\\n",
       "0  0.00632  18.0   2.31     0  0.538  6.575  65.2  4.0900    1  296     15.3   \n",
       "1  0.02731   0.0   7.07     0  0.469  6.421  78.9  4.9671    2  242     17.8   \n",
       "2  0.02729   0.0   7.07     0  0.469  7.185  61.1  4.9671    2  242     17.8   \n",
       "3  0.03237   0.0   2.18     0  0.458  6.998  45.8  6.0622    3  222     18.7   \n",
       "4  0.06905   0.0   2.18     0  0.458  7.147  54.2  6.0622    3  222     18.7   \n",
       "\n",
       "        B  LSTAT  PRICE  \n",
       "0  396.90   4.98   24.0  \n",
       "1  396.90   9.14   21.6  \n",
       "2  392.83   4.03   34.7  \n",
       "3  394.63   2.94   33.4  \n",
       "4  396.90   5.33   36.2  "
      ]
     },
     "execution_count": 4,
     "metadata": {},
     "output_type": "execute_result"
    }
   ],
   "source": [
    "import pandas as pd\n",
    "\n",
    "file_ = \"data/boston.csv\"\n",
    "try: # Running Locally\n",
    "    df = pd.read_csv(file_)\n",
    "except: # Running in Google Colab\n",
    "    !mkdir data\n",
    "    !wget -P data/ https://raw.githubusercontent.com/taudata-indonesia/ptpjb/main/{file_}\n",
    "    df = pd.read_csv(file_)\n",
    "\n",
    "df.head()"
   ]
  },
  {
   "cell_type": "markdown",
   "metadata": {},
   "source": [
    "## Penutup\n",
    "Masih banyak lagi cara untuk deployment model machine learning menggunakan streamlit. kita dapat mengeksplor lagi dokumentasi streamlit pada link berikut: https://docs.streamlit.io/en/stable/api.html ataupun melihat hasil deployment yang telah dibagikan pada link berikut: https://streamlit.io/gallery. Selain itu dapat juga didesain terlebih dahulu deployment yang ingin dilakukan agar lebih terarah."
   ]
  },
  {
   "cell_type": "markdown",
   "metadata": {},
   "source": [
    "# <center><font color=\"blue\">Akhir Modul 18 - Introduction to Streamlit for Machine Learning Deployment\n",
    "    \n",
    "<hr />\n",
    "<img alt=\"\" src=\"images/meme-cartoon/meme deployment.jpg\" />"
   ]
  }
 ],
 "metadata": {
  "kernelspec": {
   "display_name": "Python 3",
   "language": "python",
   "name": "python3"
  },
  "language_info": {
   "codemirror_mode": {
    "name": "ipython",
    "version": 3
   },
   "file_extension": ".py",
   "mimetype": "text/x-python",
   "name": "python",
   "nbconvert_exporter": "python",
   "pygments_lexer": "ipython3",
   "version": "3.8.8"
  },
  "latex_envs": {
   "LaTeX_envs_menu_present": true,
   "autoclose": false,
   "autocomplete": true,
   "bibliofile": "biblio.bib",
   "cite_by": "apalike",
   "current_citInitial": 1,
   "eqLabelWithNumbers": true,
   "eqNumInitial": 1,
   "hotkeys": {
    "equation": "Ctrl-E",
    "itemize": "Ctrl-I"
   },
   "labels_anchors": false,
   "latex_user_defs": false,
   "report_style_numbering": false,
   "user_envs_cfg": false
  }
 },
 "nbformat": 4,
 "nbformat_minor": 4
}
