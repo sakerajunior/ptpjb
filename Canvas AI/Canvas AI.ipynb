{
 "cells": [
  {
   "cell_type": "markdown",
   "metadata": {},
   "source": [
    "# CANVAS AI\n",
    "\n",
    "<br>\n",
    "<div>\n",
    "<img src=\"images/caii.jpg\"/>\n",
    "</div>"
   ]
  },
  {
   "cell_type": "markdown",
   "metadata": {},
   "source": [
    "## Outline\n",
    "- Pendahuluan Canvas AI\n",
    "- Contoh Pemakaian Canvas AI"
   ]
  },
  {
   "cell_type": "markdown",
   "metadata": {
    "slideshow": {
     "slide_type": "slide"
    }
   },
   "source": [
    "### Apa itu Canvas AI?\n",
    "\n",
    "#### Machine Learning Canvas adalah kerangka untuk menggambarkan atau memvisualisasikan model AI dengan memikirkan bagaimana akan mendapatkan data, mengolah data, bagaimana kita menggunakan prediksi."
   ]
  },
  {
   "cell_type": "markdown",
   "metadata": {
    "slideshow": {
     "slide_type": "slide"
    }
   },
   "source": [
    "## Sejarah Canvas AI\n",
    "\n",
    "#### Sebelum adanya canvas AI yang diperkenalkan oleh Louis Dorard, perusahaan menggunakan Business Model Canvas yang pertama kali dikenalkan oleh Alexander Osterwalder pada tahun 2008 untuk memberikan gambaran umum tentang perencanaan bisnis dan mampu meminimalisir kesalahan dan risiko saat eksekusi bisnis.\n",
    "<br>\n",
    "<div>\n",
    "<img src=\"images/bmc.png\"/>\n",
    "</div>"
   ]
  },
  {
   "attachments": {},
   "cell_type": "markdown",
   "metadata": {
    "slideshow": {
     "slide_type": "slide"
    }
   },
   "source": [
    "## Perusahaan yang Sudah Pakai Canvas AI\n",
    ".\n",
    "\n",
    "<div>\n",
    "<img src=\"images/512px-Amazon_Web_Services_Logo.svg.png\" width=\"100\" style=\"float:left;\"/>\n",
    "<img src=\"images/mvDZ4o30_400x400.png\" width=\"100\" style=\"float:left;\"/>\n",
    "<img src=\"images/monkeylearn.png\" width=\"100\" style=\"float:left;\"/>\n",
    "<img src=\"images/hitachi.png\" width=\"100\" style=\"float:left;\"/>\n",
    "<img src=\"images/Esade-300x180.png\" width=\"100\" style=\"float:left;\"/>\n",
    "<img src=\"images/UCL%20%28University%20College%20London%29.png\" width=\"100\" style=\"float:left;\"/> <br>\n",
    "</div>"
   ]
  },
  {
   "cell_type": "markdown",
   "metadata": {
    "slideshow": {
     "slide_type": "slide"
    }
   },
   "source": [
    "### Kelebihan\n",
    "1. Mengidentifikasi permasalahan dengan jelas.\n",
    "2. Mengantisipasi biaya yang tidak diinginkan.\n",
    "3. Memperbaiki ide\n",
    "\n",
    "### Kekurangan\n",
    "1. Membatasi pemikiran strategis dengan berfokus pada apa yang diinginkan customer, daripada mencoba hal lain yang bisa lebih menguntungkan"
   ]
  },
  {
   "cell_type": "markdown",
   "metadata": {
    "slideshow": {
     "slide_type": "slide"
    }
   },
   "source": [
    "### Tools untuk membuat Canvas AI\n",
    "- Alat yang paling umum dan tersebar luas untuk mengembangkan dan memvisualisasikan model AI adalah Canvas AI dari Louis Dorard, Ph.D\n",
    "- Ms.Word\n",
    "- Visual Paradigm Online (VP Online) https://online.visual-paradigm.com/diagrams/templates/analysis-canvas/strategy-tools/machine-learning-canvas/\n",
    "- dan sebagainya"
   ]
  },
  {
   "cell_type": "markdown",
   "metadata": {
    "slideshow": {
     "slide_type": "slide"
    }
   },
   "source": [
    "## Contoh Canvas AI\n",
    "<br>\n",
    "<div>\n",
    "<img src=\"images/canvasai.png\" width = \"800\"/>\n",
    "</div>"
   ]
  }
 ],
 "metadata": {
  "celltoolbar": "Slideshow",
  "kernelspec": {
   "display_name": "Python 3",
   "language": "python",
   "name": "python3"
  },
  "language_info": {
   "codemirror_mode": {
    "name": "ipython",
    "version": 3
   },
   "file_extension": ".py",
   "mimetype": "text/x-python",
   "name": "python",
   "nbconvert_exporter": "python",
   "pygments_lexer": "ipython3",
   "version": "3.6.6"
  }
 },
 "nbformat": 4,
 "nbformat_minor": 2
}
