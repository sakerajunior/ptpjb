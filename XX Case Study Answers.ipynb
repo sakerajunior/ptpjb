{
 "cells": [
  {
   "cell_type": "markdown",
   "id": "aa630894",
   "metadata": {},
   "source": [
    "# Jawaban Studi Kasus Module 01 Pendahuluan Python\n",
    "\n",
    "<img alt=\"\" src=\"images/python_exercise.jpg\" style=\"height: 200px;\" />\n",
    "\n",
    "* Diberikan data seperti pada cell dibawah ini buatlah fungsi yang akan mengeluarkan output nama customer dan **persentase** usage/daya listrik bulanannya hanya pada kasus dimana usage-nya kurang dari setengah dari dayanya.\n",
    "    \n",
    "* misal pada kasus di bawah ini outpunya adalah <font color=\"green\"> [('A', '44%'), ('B', '38%'), ('E', '47%')]"
   ]
  },
  {
   "cell_type": "code",
   "execution_count": 7,
   "id": "405eb66c",
   "metadata": {},
   "outputs": [
    {
     "name": "stdout",
     "output_type": "stream",
     "text": [
      "['A', 'B', 'C', 'D', 'E', 'F', 'G', 'H', 'I', 'J']\n",
      "[450, 900, 1300, 4400, 900, 450, 900, 1300, 4400, 900]\n",
      "[200, 350, 700, 2500, 425, 450, 700, 1200, 3300, 890]\n"
     ]
    }
   ],
   "source": [
    "customer = \"A B C D E F G H I J\".split()\n",
    "daya = [450, 900, 1300, 4400, 900, 450, 900, 1300, 4400, 900]\n",
    "usage = [200, 350, 700, 2500, 425, 450, 700, 1200, 3300, 890] # dalam kwh\n",
    "print(customer)\n",
    "print(daya)\n",
    "print(usage)"
   ]
  },
  {
   "cell_type": "code",
   "execution_count": 8,
   "id": "04135667",
   "metadata": {},
   "outputs": [
    {
     "data": {
      "text/plain": [
       "[('A', '44%'), ('B', '38%'), ('E', '47%')]"
      ]
     },
     "execution_count": 8,
     "metadata": {},
     "output_type": "execute_result"
    }
   ],
   "source": [
    "def filterUnderUseCustomer(C,D,U):\n",
    "    hasil = []\n",
    "    for c, d, u in zip(C,D,U):\n",
    "        if u/d<0.5:\n",
    "            hasil.append((c, \"{}%\".format(int(100*(u/d)))))\n",
    "    return hasil\n",
    "\n",
    "filterUnderUseCustomer(customer, daya, usage)"
   ]
  },
  {
   "cell_type": "code",
   "execution_count": 9,
   "id": "ff7ff245",
   "metadata": {},
   "outputs": [
    {
     "data": {
      "text/plain": [
       "[('A', '44%'), ('B', '38%'), ('E', '47%')]"
      ]
     },
     "execution_count": 9,
     "metadata": {},
     "output_type": "execute_result"
    }
   ],
   "source": [
    "# CARA #2: FLAT!\n",
    "\n",
    "[(c, \"{}%\".format(int(100*(u/d)))) for c,d,u in zip(customer, daya, usage) if u/d<0.5]"
   ]
  }
 ],
 "metadata": {
  "kernelspec": {
   "display_name": "Python 3",
   "language": "python",
   "name": "python3"
  },
  "language_info": {
   "codemirror_mode": {
    "name": "ipython",
    "version": 3
   },
   "file_extension": ".py",
   "mimetype": "text/x-python",
   "name": "python",
   "nbconvert_exporter": "python",
   "pygments_lexer": "ipython3",
   "version": "3.6.13"
  },
  "latex_envs": {
   "LaTeX_envs_menu_present": true,
   "autoclose": false,
   "autocomplete": true,
   "bibliofile": "biblio.bib",
   "cite_by": "apalike",
   "current_citInitial": 1,
   "eqLabelWithNumbers": true,
   "eqNumInitial": 1,
   "hotkeys": {
    "equation": "Ctrl-E",
    "itemize": "Ctrl-I"
   },
   "labels_anchors": false,
   "latex_user_defs": false,
   "report_style_numbering": false,
   "user_envs_cfg": false
  }
 },
 "nbformat": 4,
 "nbformat_minor": 5
}
